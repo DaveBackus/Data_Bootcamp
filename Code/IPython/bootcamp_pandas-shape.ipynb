{
 "cells": [
  {
   "cell_type": "markdown",
   "metadata": {
    "collapsed": true
   },
   "source": [
    "# Pandas 3:  Shaping data  \n",
    "\n",
    "The second in a series of notebooks that describe Pandas' powerful data management tools.  This one covers shaping methods:  switching rows and columns, pivoting, and stacking.  We'll see that this is all about the indexes:  the row and column labels.  \n",
    "\n",
    "Outline:  \n",
    "\n",
    "* [Examples](#wants)\n",
    "* [Indexing](#index).  Setting and resetting the index.  Multi-indexes. \n",
    "* [Switching rows and columns](#pivot).  Transpose.  Pivot and melt.  \n",
    "* [Stack and unstack](#stack).  Managing column structure and labels.  Melt.  \n",
    "\n",
    "More data management topics coming.  \n",
    "\n",
    "**Note: requires internet access to run.**  \n",
    "\n",
    "<!-- \n",
    "internal links http://sebastianraschka.com/Articles/2014_ipython_internal_links.html\n",
    "-->\n",
    "\n",
    "This IPython notebook was created by Dave Backus, Chase Coleman, and Spencer Lyon for the NYU Stern course [Data Bootcamp](http://databootcamp.nyuecon.com/).  "
   ]
  },
  {
   "cell_type": "markdown",
   "metadata": {},
   "source": [
    "<a id=prelims></a>"
   ]
  },
  {
   "cell_type": "markdown",
   "metadata": {},
   "source": [
    "## Preliminaries "
   ]
  },
  {
   "cell_type": "code",
   "execution_count": 23,
   "metadata": {
    "collapsed": false
   },
   "outputs": [
    {
     "name": "stdout",
     "output_type": "stream",
     "text": [
      "Python version: 3.5.1 |Anaconda 4.0.0 (64-bit)| (default, Feb 16 2016, 09:49:46) [MSC v.1900 64 bit (AMD64)]\n",
      "Pandas version:  0.18.0\n",
      "Today:  2016-04-11\n"
     ]
    }
   ],
   "source": [
    "import sys                             # system module \n",
    "import pandas as pd                    # data package\n",
    "import matplotlib.pyplot as plt        # graphics module  \n",
    "import datetime as dt                  # date and time module\n",
    "import numpy as np                     # foundation for Pandas \n",
    "\n",
    "%matplotlib inline                     \n",
    "\n",
    "# check versions (overkill, but why not?)\n",
    "print('Python version:', sys.version)\n",
    "print('Pandas version: ', pd.__version__)\n",
    "print('Today: ', dt.date.today())"
   ]
  },
  {
   "cell_type": "markdown",
   "metadata": {},
   "source": [
    "<a id=wants></a>"
   ]
  },
  {
   "cell_type": "markdown",
   "metadata": {},
   "source": [
    "## Example:  World Economic Outlook \n",
    "\n",
    "We spend most of our time on just one of the examples from the previous notebook. The problem in this example is that variables run across rows, rather than down columns.  Our **want** is to flip rows and columns somehow so that we can plot the data against time.  The question is how.\n",
    "\n",
    "We use a small subset of the IMF's [World Economic Outlook database](https://www.imf.org/external/ns/cs.aspx?id=28) that contains two variables and three countries.  "
   ]
  },
  {
   "cell_type": "code",
   "execution_count": 54,
   "metadata": {
    "collapsed": false
   },
   "outputs": [
    {
     "name": "stdout",
     "output_type": "stream",
     "text": [
      "Variable dtypes:\n",
      "ISO                    object\n",
      "WEO Subject Code       object\n",
      "Country                object\n",
      "Subject Descriptor     object\n",
      "Units                  object\n",
      "2011                  float64\n",
      "2012                  float64\n",
      "2013                  float64\n",
      "dtype: object\n"
     ]
    }
   ],
   "source": [
    "url1 = 'http://www.imf.org/external/pubs/ft/weo/2015/02/weodata/'\n",
    "url2 = 'WEOOct2015all.xls'\n",
    "url = url1 + url2 \n",
    "weo = pd.read_csv(url, sep='\\t', \n",
    "                  usecols=[1,2,3,4,6,40,41,42], \n",
    "                  thousands=',', \n",
    "                  na_values=['n/a', '--']) \n",
    "print('Variable dtypes:\\n', weo.dtypes, sep='')"
   ]
  },
  {
   "cell_type": "code",
   "execution_count": 55,
   "metadata": {
    "collapsed": false
   },
   "outputs": [
    {
     "data": {
      "text/html": [
       "<div>\n",
       "<table border=\"1\" class=\"dataframe\">\n",
       "  <thead>\n",
       "    <tr style=\"text-align: right;\">\n",
       "      <th></th>\n",
       "      <th>ISO</th>\n",
       "      <th>Variable</th>\n",
       "      <th>Country</th>\n",
       "      <th>Description</th>\n",
       "      <th>Units</th>\n",
       "      <th>2011</th>\n",
       "      <th>2012</th>\n",
       "      <th>2013</th>\n",
       "    </tr>\n",
       "  </thead>\n",
       "  <tbody>\n",
       "    <tr>\n",
       "      <th>252</th>\n",
       "      <td>ARG</td>\n",
       "      <td>Surplus</td>\n",
       "      <td>Argentina</td>\n",
       "      <td>General government net lending/borrowing</td>\n",
       "      <td>Percent of GDP</td>\n",
       "      <td>-1.949</td>\n",
       "      <td>-2.359</td>\n",
       "      <td>-1.997</td>\n",
       "    </tr>\n",
       "    <tr>\n",
       "      <th>260</th>\n",
       "      <td>ARG</td>\n",
       "      <td>Debt</td>\n",
       "      <td>Argentina</td>\n",
       "      <td>General government gross debt</td>\n",
       "      <td>Percent of GDP</td>\n",
       "      <td>35.763</td>\n",
       "      <td>37.328</td>\n",
       "      <td>40.217</td>\n",
       "    </tr>\n",
       "    <tr>\n",
       "      <th>2716</th>\n",
       "      <td>DEU</td>\n",
       "      <td>Surplus</td>\n",
       "      <td>Germany</td>\n",
       "      <td>General government net lending/borrowing</td>\n",
       "      <td>Percent of GDP</td>\n",
       "      <td>-0.861</td>\n",
       "      <td>0.091</td>\n",
       "      <td>0.133</td>\n",
       "    </tr>\n",
       "    <tr>\n",
       "      <th>2724</th>\n",
       "      <td>DEU</td>\n",
       "      <td>Debt</td>\n",
       "      <td>Germany</td>\n",
       "      <td>General government gross debt</td>\n",
       "      <td>Percent of GDP</td>\n",
       "      <td>77.928</td>\n",
       "      <td>79.311</td>\n",
       "      <td>76.978</td>\n",
       "    </tr>\n",
       "    <tr>\n",
       "      <th>2804</th>\n",
       "      <td>GRC</td>\n",
       "      <td>Surplus</td>\n",
       "      <td>Greece</td>\n",
       "      <td>General government net lending/borrowing</td>\n",
       "      <td>Percent of GDP</td>\n",
       "      <td>-10.215</td>\n",
       "      <td>-6.406</td>\n",
       "      <td>-2.944</td>\n",
       "    </tr>\n",
       "    <tr>\n",
       "      <th>2812</th>\n",
       "      <td>GRC</td>\n",
       "      <td>Debt</td>\n",
       "      <td>Greece</td>\n",
       "      <td>General government gross debt</td>\n",
       "      <td>Percent of GDP</td>\n",
       "      <td>170.960</td>\n",
       "      <td>156.494</td>\n",
       "      <td>174.951</td>\n",
       "    </tr>\n",
       "  </tbody>\n",
       "</table>\n",
       "</div>"
      ],
      "text/plain": [
       "      ISO Variable    Country                               Description  \\\n",
       "252   ARG  Surplus  Argentina  General government net lending/borrowing   \n",
       "260   ARG     Debt  Argentina             General government gross debt   \n",
       "2716  DEU  Surplus    Germany  General government net lending/borrowing   \n",
       "2724  DEU     Debt    Germany             General government gross debt   \n",
       "2804  GRC  Surplus     Greece  General government net lending/borrowing   \n",
       "2812  GRC     Debt     Greece             General government gross debt   \n",
       "\n",
       "               Units     2011     2012     2013  \n",
       "252   Percent of GDP   -1.949   -2.359   -1.997  \n",
       "260   Percent of GDP   35.763   37.328   40.217  \n",
       "2716  Percent of GDP   -0.861    0.091    0.133  \n",
       "2724  Percent of GDP   77.928   79.311   76.978  \n",
       "2804  Percent of GDP  -10.215   -6.406   -2.944  \n",
       "2812  Percent of GDP  170.960  156.494  174.951  "
      ]
     },
     "execution_count": 55,
     "metadata": {},
     "output_type": "execute_result"
    }
   ],
   "source": [
    "# create debt and deficits dataframe:  two variables and three countries \n",
    "variables = ['GGXWDG_NGDP', 'GGXCNL_NGDP']\n",
    "countries = ['ARG', 'DEU', 'GRC']\n",
    "dd = weo[weo['WEO Subject Code'].isin(variables) & weo['ISO'].isin(countries)]\n",
    "\n",
    "# change column labels to something more intuitive \n",
    "dd = dd.rename(columns=\n",
    "                         {'WEO Subject Code': 'Variable', \n",
    "                          'Subject Descriptor': 'Description'})\n",
    "\n",
    "# rename variables \n",
    "dd['Variable'] = dd['Variable'].replace(to_replace=['GGXWDG_NGDP', 'GGXCNL_NGDP'], \n",
    "                                        value=['Debt', 'Surplus'])\n",
    "dd"
   ]
  },
  {
   "cell_type": "code",
   "execution_count": null,
   "metadata": {
    "collapsed": true
   },
   "outputs": [],
   "source": []
  },
  {
   "cell_type": "markdown",
   "metadata": {},
   "source": [
    "**Comment.** We might imagine doing several different things with this data:\n",
    "\n",
    "* Plot a specific variablle (debt or surplus) for a given date. \n",
    "* Time series plots for a specific country.\n",
    "* Time series plots for a specific variable.  \n",
    "\n",
    "Depending on which we want, we might organize the data differently.  We'll focus on the last two.  \n",
    "\n",
    "Here's a brute force approach to the problem:  simply transpose the data.  This is where that leads:  "
   ]
  },
  {
   "cell_type": "markdown",
   "metadata": {},
   "source": [
    "<a id='strings'></a>"
   ]
  },
  {
   "cell_type": "code",
   "execution_count": 27,
   "metadata": {
    "collapsed": false
   },
   "outputs": [
    {
     "data": {
      "text/html": [
       "<div>\n",
       "<table border=\"1\" class=\"dataframe\">\n",
       "  <thead>\n",
       "    <tr style=\"text-align: right;\">\n",
       "      <th></th>\n",
       "      <th>252</th>\n",
       "      <th>260</th>\n",
       "      <th>2716</th>\n",
       "      <th>2724</th>\n",
       "      <th>2804</th>\n",
       "      <th>2812</th>\n",
       "    </tr>\n",
       "  </thead>\n",
       "  <tbody>\n",
       "    <tr>\n",
       "      <th>ISO</th>\n",
       "      <td>ARG</td>\n",
       "      <td>ARG</td>\n",
       "      <td>DEU</td>\n",
       "      <td>DEU</td>\n",
       "      <td>GRC</td>\n",
       "      <td>GRC</td>\n",
       "    </tr>\n",
       "    <tr>\n",
       "      <th>Variable</th>\n",
       "      <td>Surplus</td>\n",
       "      <td>Debt</td>\n",
       "      <td>Surplus</td>\n",
       "      <td>Debt</td>\n",
       "      <td>Surplus</td>\n",
       "      <td>Debt</td>\n",
       "    </tr>\n",
       "    <tr>\n",
       "      <th>Country</th>\n",
       "      <td>Argentina</td>\n",
       "      <td>Argentina</td>\n",
       "      <td>Germany</td>\n",
       "      <td>Germany</td>\n",
       "      <td>Greece</td>\n",
       "      <td>Greece</td>\n",
       "    </tr>\n",
       "    <tr>\n",
       "      <th>Description</th>\n",
       "      <td>General government net lending/borrowing</td>\n",
       "      <td>General government gross debt</td>\n",
       "      <td>General government net lending/borrowing</td>\n",
       "      <td>General government gross debt</td>\n",
       "      <td>General government net lending/borrowing</td>\n",
       "      <td>General government gross debt</td>\n",
       "    </tr>\n",
       "    <tr>\n",
       "      <th>Units</th>\n",
       "      <td>Percent of GDP</td>\n",
       "      <td>Percent of GDP</td>\n",
       "      <td>Percent of GDP</td>\n",
       "      <td>Percent of GDP</td>\n",
       "      <td>Percent of GDP</td>\n",
       "      <td>Percent of GDP</td>\n",
       "    </tr>\n",
       "    <tr>\n",
       "      <th>2011</th>\n",
       "      <td>-1.949</td>\n",
       "      <td>35.763</td>\n",
       "      <td>-0.861</td>\n",
       "      <td>77.928</td>\n",
       "      <td>-10.215</td>\n",
       "      <td>170.96</td>\n",
       "    </tr>\n",
       "    <tr>\n",
       "      <th>2012</th>\n",
       "      <td>-2.359</td>\n",
       "      <td>37.328</td>\n",
       "      <td>0.091</td>\n",
       "      <td>79.311</td>\n",
       "      <td>-6.406</td>\n",
       "      <td>156.494</td>\n",
       "    </tr>\n",
       "    <tr>\n",
       "      <th>2013</th>\n",
       "      <td>-1.997</td>\n",
       "      <td>40.217</td>\n",
       "      <td>0.133</td>\n",
       "      <td>76.978</td>\n",
       "      <td>-2.944</td>\n",
       "      <td>174.951</td>\n",
       "    </tr>\n",
       "  </tbody>\n",
       "</table>\n",
       "</div>"
      ],
      "text/plain": [
       "                                                 252   \\\n",
       "ISO                                               ARG   \n",
       "Variable                                      Surplus   \n",
       "Country                                     Argentina   \n",
       "Description  General government net lending/borrowing   \n",
       "Units                                  Percent of GDP   \n",
       "2011                                           -1.949   \n",
       "2012                                           -2.359   \n",
       "2013                                           -1.997   \n",
       "\n",
       "                                      260   \\\n",
       "ISO                                    ARG   \n",
       "Variable                              Debt   \n",
       "Country                          Argentina   \n",
       "Description  General government gross debt   \n",
       "Units                       Percent of GDP   \n",
       "2011                                35.763   \n",
       "2012                                37.328   \n",
       "2013                                40.217   \n",
       "\n",
       "                                                 2716  \\\n",
       "ISO                                               DEU   \n",
       "Variable                                      Surplus   \n",
       "Country                                       Germany   \n",
       "Description  General government net lending/borrowing   \n",
       "Units                                  Percent of GDP   \n",
       "2011                                           -0.861   \n",
       "2012                                            0.091   \n",
       "2013                                            0.133   \n",
       "\n",
       "                                      2724  \\\n",
       "ISO                                    DEU   \n",
       "Variable                              Debt   \n",
       "Country                            Germany   \n",
       "Description  General government gross debt   \n",
       "Units                       Percent of GDP   \n",
       "2011                                77.928   \n",
       "2012                                79.311   \n",
       "2013                                76.978   \n",
       "\n",
       "                                                 2804  \\\n",
       "ISO                                               GRC   \n",
       "Variable                                      Surplus   \n",
       "Country                                        Greece   \n",
       "Description  General government net lending/borrowing   \n",
       "Units                                  Percent of GDP   \n",
       "2011                                          -10.215   \n",
       "2012                                           -6.406   \n",
       "2013                                           -2.944   \n",
       "\n",
       "                                      2812  \n",
       "ISO                                    GRC  \n",
       "Variable                              Debt  \n",
       "Country                             Greece  \n",
       "Description  General government gross debt  \n",
       "Units                       Percent of GDP  \n",
       "2011                                170.96  \n",
       "2012                               156.494  \n",
       "2013                               174.951  "
      ]
     },
     "execution_count": 27,
     "metadata": {},
     "output_type": "execute_result"
    }
   ],
   "source": [
    "# try switching rows and columns\n",
    "dd.T"
   ]
  },
  {
   "cell_type": "markdown",
   "metadata": {
    "collapsed": true
   },
   "source": [
    "**Comments.** The problem here is that the columns include both the numbers (which we want to plot) and some descriptive information (which we don't).  "
   ]
  },
  {
   "cell_type": "code",
   "execution_count": null,
   "metadata": {
    "collapsed": true
   },
   "outputs": [],
   "source": []
  },
  {
   "cell_type": "markdown",
   "metadata": {},
   "source": [
    "<a id='missing'></a>"
   ]
  },
  {
   "cell_type": "markdown",
   "metadata": {},
   "source": [
    "<a id='index'></a>"
   ]
  },
  {
   "cell_type": "markdown",
   "metadata": {},
   "source": [
    "## Setting and resetting the index\n",
    "\n",
    "We start by setting and resetting the index.  That may sound like a step backwards -- haven't we done this already? -- but it reminds us of some things that will be handy later.  \n",
    "\n",
    "Take the dataframe `dd`.  What would we like in the index?  Evenutally we'd like the dates `[2011, 2012, 2013, 2014, 2015]` in the index, but right now the row labels are more naturally the variable or country.  Here are some varriants.  "
   ]
  },
  {
   "cell_type": "markdown",
   "metadata": {},
   "source": [
    "### Setting the index"
   ]
  },
  {
   "cell_type": "code",
   "execution_count": 56,
   "metadata": {
    "collapsed": false
   },
   "outputs": [
    {
     "data": {
      "text/html": [
       "<div>\n",
       "<table border=\"1\" class=\"dataframe\">\n",
       "  <thead>\n",
       "    <tr style=\"text-align: right;\">\n",
       "      <th></th>\n",
       "      <th>ISO</th>\n",
       "      <th>Variable</th>\n",
       "      <th>Description</th>\n",
       "      <th>Units</th>\n",
       "      <th>2011</th>\n",
       "      <th>2012</th>\n",
       "      <th>2013</th>\n",
       "    </tr>\n",
       "    <tr>\n",
       "      <th>Country</th>\n",
       "      <th></th>\n",
       "      <th></th>\n",
       "      <th></th>\n",
       "      <th></th>\n",
       "      <th></th>\n",
       "      <th></th>\n",
       "      <th></th>\n",
       "    </tr>\n",
       "  </thead>\n",
       "  <tbody>\n",
       "    <tr>\n",
       "      <th>Argentina</th>\n",
       "      <td>ARG</td>\n",
       "      <td>Surplus</td>\n",
       "      <td>General government net lending/borrowing</td>\n",
       "      <td>Percent of GDP</td>\n",
       "      <td>-1.949</td>\n",
       "      <td>-2.359</td>\n",
       "      <td>-1.997</td>\n",
       "    </tr>\n",
       "    <tr>\n",
       "      <th>Argentina</th>\n",
       "      <td>ARG</td>\n",
       "      <td>Debt</td>\n",
       "      <td>General government gross debt</td>\n",
       "      <td>Percent of GDP</td>\n",
       "      <td>35.763</td>\n",
       "      <td>37.328</td>\n",
       "      <td>40.217</td>\n",
       "    </tr>\n",
       "    <tr>\n",
       "      <th>Germany</th>\n",
       "      <td>DEU</td>\n",
       "      <td>Surplus</td>\n",
       "      <td>General government net lending/borrowing</td>\n",
       "      <td>Percent of GDP</td>\n",
       "      <td>-0.861</td>\n",
       "      <td>0.091</td>\n",
       "      <td>0.133</td>\n",
       "    </tr>\n",
       "    <tr>\n",
       "      <th>Germany</th>\n",
       "      <td>DEU</td>\n",
       "      <td>Debt</td>\n",
       "      <td>General government gross debt</td>\n",
       "      <td>Percent of GDP</td>\n",
       "      <td>77.928</td>\n",
       "      <td>79.311</td>\n",
       "      <td>76.978</td>\n",
       "    </tr>\n",
       "    <tr>\n",
       "      <th>Greece</th>\n",
       "      <td>GRC</td>\n",
       "      <td>Surplus</td>\n",
       "      <td>General government net lending/borrowing</td>\n",
       "      <td>Percent of GDP</td>\n",
       "      <td>-10.215</td>\n",
       "      <td>-6.406</td>\n",
       "      <td>-2.944</td>\n",
       "    </tr>\n",
       "    <tr>\n",
       "      <th>Greece</th>\n",
       "      <td>GRC</td>\n",
       "      <td>Debt</td>\n",
       "      <td>General government gross debt</td>\n",
       "      <td>Percent of GDP</td>\n",
       "      <td>170.960</td>\n",
       "      <td>156.494</td>\n",
       "      <td>174.951</td>\n",
       "    </tr>\n",
       "  </tbody>\n",
       "</table>\n",
       "</div>"
      ],
      "text/plain": [
       "           ISO Variable                               Description  \\\n",
       "Country                                                             \n",
       "Argentina  ARG  Surplus  General government net lending/borrowing   \n",
       "Argentina  ARG     Debt             General government gross debt   \n",
       "Germany    DEU  Surplus  General government net lending/borrowing   \n",
       "Germany    DEU     Debt             General government gross debt   \n",
       "Greece     GRC  Surplus  General government net lending/borrowing   \n",
       "Greece     GRC     Debt             General government gross debt   \n",
       "\n",
       "                    Units     2011     2012     2013  \n",
       "Country                                               \n",
       "Argentina  Percent of GDP   -1.949   -2.359   -1.997  \n",
       "Argentina  Percent of GDP   35.763   37.328   40.217  \n",
       "Germany    Percent of GDP   -0.861    0.091    0.133  \n",
       "Germany    Percent of GDP   77.928   79.311   76.978  \n",
       "Greece     Percent of GDP  -10.215   -6.406   -2.944  \n",
       "Greece     Percent of GDP  170.960  156.494  174.951  "
      ]
     },
     "execution_count": 56,
     "metadata": {},
     "output_type": "execute_result"
    }
   ],
   "source": [
    "dd.set_index(['Country'])"
   ]
  },
  {
   "cell_type": "code",
   "execution_count": 57,
   "metadata": {
    "collapsed": false
   },
   "outputs": [
    {
     "data": {
      "text/html": [
       "<div>\n",
       "<table border=\"1\" class=\"dataframe\">\n",
       "  <thead>\n",
       "    <tr style=\"text-align: right;\">\n",
       "      <th></th>\n",
       "      <th>ISO</th>\n",
       "      <th>Country</th>\n",
       "      <th>Description</th>\n",
       "      <th>Units</th>\n",
       "      <th>2011</th>\n",
       "      <th>2012</th>\n",
       "      <th>2013</th>\n",
       "    </tr>\n",
       "    <tr>\n",
       "      <th>Variable</th>\n",
       "      <th></th>\n",
       "      <th></th>\n",
       "      <th></th>\n",
       "      <th></th>\n",
       "      <th></th>\n",
       "      <th></th>\n",
       "      <th></th>\n",
       "    </tr>\n",
       "  </thead>\n",
       "  <tbody>\n",
       "    <tr>\n",
       "      <th>Surplus</th>\n",
       "      <td>ARG</td>\n",
       "      <td>Argentina</td>\n",
       "      <td>General government net lending/borrowing</td>\n",
       "      <td>Percent of GDP</td>\n",
       "      <td>-1.949</td>\n",
       "      <td>-2.359</td>\n",
       "      <td>-1.997</td>\n",
       "    </tr>\n",
       "    <tr>\n",
       "      <th>Debt</th>\n",
       "      <td>ARG</td>\n",
       "      <td>Argentina</td>\n",
       "      <td>General government gross debt</td>\n",
       "      <td>Percent of GDP</td>\n",
       "      <td>35.763</td>\n",
       "      <td>37.328</td>\n",
       "      <td>40.217</td>\n",
       "    </tr>\n",
       "    <tr>\n",
       "      <th>Surplus</th>\n",
       "      <td>DEU</td>\n",
       "      <td>Germany</td>\n",
       "      <td>General government net lending/borrowing</td>\n",
       "      <td>Percent of GDP</td>\n",
       "      <td>-0.861</td>\n",
       "      <td>0.091</td>\n",
       "      <td>0.133</td>\n",
       "    </tr>\n",
       "    <tr>\n",
       "      <th>Debt</th>\n",
       "      <td>DEU</td>\n",
       "      <td>Germany</td>\n",
       "      <td>General government gross debt</td>\n",
       "      <td>Percent of GDP</td>\n",
       "      <td>77.928</td>\n",
       "      <td>79.311</td>\n",
       "      <td>76.978</td>\n",
       "    </tr>\n",
       "    <tr>\n",
       "      <th>Surplus</th>\n",
       "      <td>GRC</td>\n",
       "      <td>Greece</td>\n",
       "      <td>General government net lending/borrowing</td>\n",
       "      <td>Percent of GDP</td>\n",
       "      <td>-10.215</td>\n",
       "      <td>-6.406</td>\n",
       "      <td>-2.944</td>\n",
       "    </tr>\n",
       "    <tr>\n",
       "      <th>Debt</th>\n",
       "      <td>GRC</td>\n",
       "      <td>Greece</td>\n",
       "      <td>General government gross debt</td>\n",
       "      <td>Percent of GDP</td>\n",
       "      <td>170.960</td>\n",
       "      <td>156.494</td>\n",
       "      <td>174.951</td>\n",
       "    </tr>\n",
       "  </tbody>\n",
       "</table>\n",
       "</div>"
      ],
      "text/plain": [
       "          ISO    Country                               Description  \\\n",
       "Variable                                                             \n",
       "Surplus   ARG  Argentina  General government net lending/borrowing   \n",
       "Debt      ARG  Argentina             General government gross debt   \n",
       "Surplus   DEU    Germany  General government net lending/borrowing   \n",
       "Debt      DEU    Germany             General government gross debt   \n",
       "Surplus   GRC     Greece  General government net lending/borrowing   \n",
       "Debt      GRC     Greece             General government gross debt   \n",
       "\n",
       "                   Units     2011     2012     2013  \n",
       "Variable                                             \n",
       "Surplus   Percent of GDP   -1.949   -2.359   -1.997  \n",
       "Debt      Percent of GDP   35.763   37.328   40.217  \n",
       "Surplus   Percent of GDP   -0.861    0.091    0.133  \n",
       "Debt      Percent of GDP   77.928   79.311   76.978  \n",
       "Surplus   Percent of GDP  -10.215   -6.406   -2.944  \n",
       "Debt      Percent of GDP  170.960  156.494  174.951  "
      ]
     },
     "execution_count": 57,
     "metadata": {},
     "output_type": "execute_result"
    }
   ],
   "source": [
    "dd.set_index(['Variable'])"
   ]
  },
  {
   "cell_type": "code",
   "execution_count": 58,
   "metadata": {
    "collapsed": false
   },
   "outputs": [
    {
     "data": {
      "text/html": [
       "<div>\n",
       "<table border=\"1\" class=\"dataframe\">\n",
       "  <thead>\n",
       "    <tr style=\"text-align: right;\">\n",
       "      <th></th>\n",
       "      <th></th>\n",
       "      <th></th>\n",
       "      <th></th>\n",
       "      <th></th>\n",
       "      <th>2011</th>\n",
       "      <th>2012</th>\n",
       "      <th>2013</th>\n",
       "    </tr>\n",
       "    <tr>\n",
       "      <th>Variable</th>\n",
       "      <th>Country</th>\n",
       "      <th>ISO</th>\n",
       "      <th>Description</th>\n",
       "      <th>Units</th>\n",
       "      <th></th>\n",
       "      <th></th>\n",
       "      <th></th>\n",
       "    </tr>\n",
       "  </thead>\n",
       "  <tbody>\n",
       "    <tr>\n",
       "      <th>Surplus</th>\n",
       "      <th>Argentina</th>\n",
       "      <th>ARG</th>\n",
       "      <th>General government net lending/borrowing</th>\n",
       "      <th>Percent of GDP</th>\n",
       "      <td>-1.949</td>\n",
       "      <td>-2.359</td>\n",
       "      <td>-1.997</td>\n",
       "    </tr>\n",
       "    <tr>\n",
       "      <th>Debt</th>\n",
       "      <th>Argentina</th>\n",
       "      <th>ARG</th>\n",
       "      <th>General government gross debt</th>\n",
       "      <th>Percent of GDP</th>\n",
       "      <td>35.763</td>\n",
       "      <td>37.328</td>\n",
       "      <td>40.217</td>\n",
       "    </tr>\n",
       "    <tr>\n",
       "      <th>Surplus</th>\n",
       "      <th>Germany</th>\n",
       "      <th>DEU</th>\n",
       "      <th>General government net lending/borrowing</th>\n",
       "      <th>Percent of GDP</th>\n",
       "      <td>-0.861</td>\n",
       "      <td>0.091</td>\n",
       "      <td>0.133</td>\n",
       "    </tr>\n",
       "    <tr>\n",
       "      <th>Debt</th>\n",
       "      <th>Germany</th>\n",
       "      <th>DEU</th>\n",
       "      <th>General government gross debt</th>\n",
       "      <th>Percent of GDP</th>\n",
       "      <td>77.928</td>\n",
       "      <td>79.311</td>\n",
       "      <td>76.978</td>\n",
       "    </tr>\n",
       "    <tr>\n",
       "      <th>Surplus</th>\n",
       "      <th>Greece</th>\n",
       "      <th>GRC</th>\n",
       "      <th>General government net lending/borrowing</th>\n",
       "      <th>Percent of GDP</th>\n",
       "      <td>-10.215</td>\n",
       "      <td>-6.406</td>\n",
       "      <td>-2.944</td>\n",
       "    </tr>\n",
       "    <tr>\n",
       "      <th>Debt</th>\n",
       "      <th>Greece</th>\n",
       "      <th>GRC</th>\n",
       "      <th>General government gross debt</th>\n",
       "      <th>Percent of GDP</th>\n",
       "      <td>170.960</td>\n",
       "      <td>156.494</td>\n",
       "      <td>174.951</td>\n",
       "    </tr>\n",
       "  </tbody>\n",
       "</table>\n",
       "</div>"
      ],
      "text/plain": [
       "                                                                                   2011  \\\n",
       "Variable Country   ISO Description                              Units                     \n",
       "Surplus  Argentina ARG General government net lending/borrowing Percent of GDP   -1.949   \n",
       "Debt     Argentina ARG General government gross debt            Percent of GDP   35.763   \n",
       "Surplus  Germany   DEU General government net lending/borrowing Percent of GDP   -0.861   \n",
       "Debt     Germany   DEU General government gross debt            Percent of GDP   77.928   \n",
       "Surplus  Greece    GRC General government net lending/borrowing Percent of GDP  -10.215   \n",
       "Debt     Greece    GRC General government gross debt            Percent of GDP  170.960   \n",
       "\n",
       "                                                                                   2012  \\\n",
       "Variable Country   ISO Description                              Units                     \n",
       "Surplus  Argentina ARG General government net lending/borrowing Percent of GDP   -2.359   \n",
       "Debt     Argentina ARG General government gross debt            Percent of GDP   37.328   \n",
       "Surplus  Germany   DEU General government net lending/borrowing Percent of GDP    0.091   \n",
       "Debt     Germany   DEU General government gross debt            Percent of GDP   79.311   \n",
       "Surplus  Greece    GRC General government net lending/borrowing Percent of GDP   -6.406   \n",
       "Debt     Greece    GRC General government gross debt            Percent of GDP  156.494   \n",
       "\n",
       "                                                                                   2013  \n",
       "Variable Country   ISO Description                              Units                    \n",
       "Surplus  Argentina ARG General government net lending/borrowing Percent of GDP   -1.997  \n",
       "Debt     Argentina ARG General government gross debt            Percent of GDP   40.217  \n",
       "Surplus  Germany   DEU General government net lending/borrowing Percent of GDP    0.133  \n",
       "Debt     Germany   DEU General government gross debt            Percent of GDP   76.978  \n",
       "Surplus  Greece    GRC General government net lending/borrowing Percent of GDP   -2.944  \n",
       "Debt     Greece    GRC General government gross debt            Percent of GDP  174.951  "
      ]
     },
     "execution_count": 58,
     "metadata": {},
     "output_type": "execute_result"
    }
   ],
   "source": [
    "# we can do this with two or more if we like \n",
    "ddi = dd.set_index(['Variable', 'Country', 'ISO', 'Description', 'Units'])\n",
    "ddi"
   ]
  },
  {
   "cell_type": "markdown",
   "metadata": {
    "collapsed": true
   },
   "source": [
    "**Comment.** This is called a **multi-level** or a **hierarchical** index.  That means the index has more than one component, and the components are ordered -- they have levels.  The outer index has level zero, and we add one as we move in.  \n",
    "\n",
    "This isn't uncommon.  A typical spreadsheet has two dimensions:  the variable and the observation.  The WEO data is naturally three dimensional:  the variable, the year, and the country.  The problem we're having is fitting this nicely into two dimensions.  A multi-index allows us to manage more than two.  "
   ]
  },
  {
   "cell_type": "code",
   "execution_count": null,
   "metadata": {
    "collapsed": true
   },
   "outputs": [],
   "source": []
  },
  {
   "cell_type": "code",
   "execution_count": null,
   "metadata": {
    "collapsed": true
   },
   "outputs": [],
   "source": []
  },
  {
   "cell_type": "markdown",
   "metadata": {},
   "source": [
    "## Resetting the index\n",
    "\n",
    "This is the reverse operation to setting the index.  For example:  "
   ]
  },
  {
   "cell_type": "code",
   "execution_count": 31,
   "metadata": {
    "collapsed": false
   },
   "outputs": [
    {
     "data": {
      "text/html": [
       "<div>\n",
       "<table border=\"1\" class=\"dataframe\">\n",
       "  <thead>\n",
       "    <tr style=\"text-align: right;\">\n",
       "      <th></th>\n",
       "      <th>Variable</th>\n",
       "      <th>Country</th>\n",
       "      <th>ISO</th>\n",
       "      <th>Description</th>\n",
       "      <th>Units</th>\n",
       "      <th>2011</th>\n",
       "      <th>2012</th>\n",
       "      <th>2013</th>\n",
       "    </tr>\n",
       "  </thead>\n",
       "  <tbody>\n",
       "    <tr>\n",
       "      <th>0</th>\n",
       "      <td>Surplus</td>\n",
       "      <td>Argentina</td>\n",
       "      <td>ARG</td>\n",
       "      <td>General government net lending/borrowing</td>\n",
       "      <td>Percent of GDP</td>\n",
       "      <td>-1.949</td>\n",
       "      <td>-2.359</td>\n",
       "      <td>-1.997</td>\n",
       "    </tr>\n",
       "    <tr>\n",
       "      <th>1</th>\n",
       "      <td>Debt</td>\n",
       "      <td>Argentina</td>\n",
       "      <td>ARG</td>\n",
       "      <td>General government gross debt</td>\n",
       "      <td>Percent of GDP</td>\n",
       "      <td>35.763</td>\n",
       "      <td>37.328</td>\n",
       "      <td>40.217</td>\n",
       "    </tr>\n",
       "    <tr>\n",
       "      <th>2</th>\n",
       "      <td>Surplus</td>\n",
       "      <td>Germany</td>\n",
       "      <td>DEU</td>\n",
       "      <td>General government net lending/borrowing</td>\n",
       "      <td>Percent of GDP</td>\n",
       "      <td>-0.861</td>\n",
       "      <td>0.091</td>\n",
       "      <td>0.133</td>\n",
       "    </tr>\n",
       "    <tr>\n",
       "      <th>3</th>\n",
       "      <td>Debt</td>\n",
       "      <td>Germany</td>\n",
       "      <td>DEU</td>\n",
       "      <td>General government gross debt</td>\n",
       "      <td>Percent of GDP</td>\n",
       "      <td>77.928</td>\n",
       "      <td>79.311</td>\n",
       "      <td>76.978</td>\n",
       "    </tr>\n",
       "    <tr>\n",
       "      <th>4</th>\n",
       "      <td>Surplus</td>\n",
       "      <td>Greece</td>\n",
       "      <td>GRC</td>\n",
       "      <td>General government net lending/borrowing</td>\n",
       "      <td>Percent of GDP</td>\n",
       "      <td>-10.215</td>\n",
       "      <td>-6.406</td>\n",
       "      <td>-2.944</td>\n",
       "    </tr>\n",
       "    <tr>\n",
       "      <th>5</th>\n",
       "      <td>Debt</td>\n",
       "      <td>Greece</td>\n",
       "      <td>GRC</td>\n",
       "      <td>General government gross debt</td>\n",
       "      <td>Percent of GDP</td>\n",
       "      <td>170.960</td>\n",
       "      <td>156.494</td>\n",
       "      <td>174.951</td>\n",
       "    </tr>\n",
       "  </tbody>\n",
       "</table>\n",
       "</div>"
      ],
      "text/plain": [
       "  Variable    Country  ISO                               Description  \\\n",
       "0  Surplus  Argentina  ARG  General government net lending/borrowing   \n",
       "1     Debt  Argentina  ARG             General government gross debt   \n",
       "2  Surplus    Germany  DEU  General government net lending/borrowing   \n",
       "3     Debt    Germany  DEU             General government gross debt   \n",
       "4  Surplus     Greece  GRC  General government net lending/borrowing   \n",
       "5     Debt     Greece  GRC             General government gross debt   \n",
       "\n",
       "            Units     2011     2012     2013  \n",
       "0  Percent of GDP   -1.949   -2.359   -1.997  \n",
       "1  Percent of GDP   35.763   37.328   40.217  \n",
       "2  Percent of GDP   -0.861    0.091    0.133  \n",
       "3  Percent of GDP   77.928   79.311   76.978  \n",
       "4  Percent of GDP  -10.215   -6.406   -2.944  \n",
       "5  Percent of GDP  170.960  156.494  174.951  "
      ]
     },
     "execution_count": 31,
     "metadata": {},
     "output_type": "execute_result"
    }
   ],
   "source": [
    "ddi.reset_index()"
   ]
  },
  {
   "cell_type": "code",
   "execution_count": 32,
   "metadata": {
    "collapsed": false
   },
   "outputs": [
    {
     "data": {
      "text/html": [
       "<div>\n",
       "<table border=\"1\" class=\"dataframe\">\n",
       "  <thead>\n",
       "    <tr style=\"text-align: right;\">\n",
       "      <th></th>\n",
       "      <th></th>\n",
       "      <th></th>\n",
       "      <th></th>\n",
       "      <th>Country</th>\n",
       "      <th>2011</th>\n",
       "      <th>2012</th>\n",
       "      <th>2013</th>\n",
       "    </tr>\n",
       "    <tr>\n",
       "      <th>Variable</th>\n",
       "      <th>ISO</th>\n",
       "      <th>Description</th>\n",
       "      <th>Units</th>\n",
       "      <th></th>\n",
       "      <th></th>\n",
       "      <th></th>\n",
       "      <th></th>\n",
       "    </tr>\n",
       "  </thead>\n",
       "  <tbody>\n",
       "    <tr>\n",
       "      <th>Surplus</th>\n",
       "      <th>ARG</th>\n",
       "      <th>General government net lending/borrowing</th>\n",
       "      <th>Percent of GDP</th>\n",
       "      <td>Argentina</td>\n",
       "      <td>-1.949</td>\n",
       "      <td>-2.359</td>\n",
       "      <td>-1.997</td>\n",
       "    </tr>\n",
       "    <tr>\n",
       "      <th>Debt</th>\n",
       "      <th>ARG</th>\n",
       "      <th>General government gross debt</th>\n",
       "      <th>Percent of GDP</th>\n",
       "      <td>Argentina</td>\n",
       "      <td>35.763</td>\n",
       "      <td>37.328</td>\n",
       "      <td>40.217</td>\n",
       "    </tr>\n",
       "    <tr>\n",
       "      <th>Surplus</th>\n",
       "      <th>DEU</th>\n",
       "      <th>General government net lending/borrowing</th>\n",
       "      <th>Percent of GDP</th>\n",
       "      <td>Germany</td>\n",
       "      <td>-0.861</td>\n",
       "      <td>0.091</td>\n",
       "      <td>0.133</td>\n",
       "    </tr>\n",
       "    <tr>\n",
       "      <th>Debt</th>\n",
       "      <th>DEU</th>\n",
       "      <th>General government gross debt</th>\n",
       "      <th>Percent of GDP</th>\n",
       "      <td>Germany</td>\n",
       "      <td>77.928</td>\n",
       "      <td>79.311</td>\n",
       "      <td>76.978</td>\n",
       "    </tr>\n",
       "    <tr>\n",
       "      <th>Surplus</th>\n",
       "      <th>GRC</th>\n",
       "      <th>General government net lending/borrowing</th>\n",
       "      <th>Percent of GDP</th>\n",
       "      <td>Greece</td>\n",
       "      <td>-10.215</td>\n",
       "      <td>-6.406</td>\n",
       "      <td>-2.944</td>\n",
       "    </tr>\n",
       "    <tr>\n",
       "      <th>Debt</th>\n",
       "      <th>GRC</th>\n",
       "      <th>General government gross debt</th>\n",
       "      <th>Percent of GDP</th>\n",
       "      <td>Greece</td>\n",
       "      <td>170.960</td>\n",
       "      <td>156.494</td>\n",
       "      <td>174.951</td>\n",
       "    </tr>\n",
       "  </tbody>\n",
       "</table>\n",
       "</div>"
      ],
      "text/plain": [
       "                                                                        Country  \\\n",
       "Variable ISO Description                              Units                       \n",
       "Surplus  ARG General government net lending/borrowing Percent of GDP  Argentina   \n",
       "Debt     ARG General government gross debt            Percent of GDP  Argentina   \n",
       "Surplus  DEU General government net lending/borrowing Percent of GDP    Germany   \n",
       "Debt     DEU General government gross debt            Percent of GDP    Germany   \n",
       "Surplus  GRC General government net lending/borrowing Percent of GDP     Greece   \n",
       "Debt     GRC General government gross debt            Percent of GDP     Greece   \n",
       "\n",
       "                                                                         2011  \\\n",
       "Variable ISO Description                              Units                     \n",
       "Surplus  ARG General government net lending/borrowing Percent of GDP   -1.949   \n",
       "Debt     ARG General government gross debt            Percent of GDP   35.763   \n",
       "Surplus  DEU General government net lending/borrowing Percent of GDP   -0.861   \n",
       "Debt     DEU General government gross debt            Percent of GDP   77.928   \n",
       "Surplus  GRC General government net lending/borrowing Percent of GDP  -10.215   \n",
       "Debt     GRC General government gross debt            Percent of GDP  170.960   \n",
       "\n",
       "                                                                         2012  \\\n",
       "Variable ISO Description                              Units                     \n",
       "Surplus  ARG General government net lending/borrowing Percent of GDP   -2.359   \n",
       "Debt     ARG General government gross debt            Percent of GDP   37.328   \n",
       "Surplus  DEU General government net lending/borrowing Percent of GDP    0.091   \n",
       "Debt     DEU General government gross debt            Percent of GDP   79.311   \n",
       "Surplus  GRC General government net lending/borrowing Percent of GDP   -6.406   \n",
       "Debt     GRC General government gross debt            Percent of GDP  156.494   \n",
       "\n",
       "                                                                         2013  \n",
       "Variable ISO Description                              Units                    \n",
       "Surplus  ARG General government net lending/borrowing Percent of GDP   -1.997  \n",
       "Debt     ARG General government gross debt            Percent of GDP   40.217  \n",
       "Surplus  DEU General government net lending/borrowing Percent of GDP    0.133  \n",
       "Debt     DEU General government gross debt            Percent of GDP   76.978  \n",
       "Surplus  GRC General government net lending/borrowing Percent of GDP   -2.944  \n",
       "Debt     GRC General government gross debt            Percent of GDP  174.951  "
      ]
     },
     "execution_count": 32,
     "metadata": {},
     "output_type": "execute_result"
    }
   ],
   "source": [
    "# or we can reset the index level by level\n",
    "ddi.reset_index(level=1)"
   ]
  },
  {
   "cell_type": "markdown",
   "metadata": {},
   "source": [
    "<a id='pivot'></a>"
   ]
  },
  {
   "cell_type": "code",
   "execution_count": 33,
   "metadata": {
    "collapsed": false,
    "scrolled": true
   },
   "outputs": [
    {
     "data": {
      "text/html": [
       "<div>\n",
       "<table border=\"1\" class=\"dataframe\">\n",
       "  <thead>\n",
       "    <tr style=\"text-align: right;\">\n",
       "      <th></th>\n",
       "      <th></th>\n",
       "      <th></th>\n",
       "      <th>Country</th>\n",
       "      <th>Description</th>\n",
       "      <th>2011</th>\n",
       "      <th>2012</th>\n",
       "      <th>2013</th>\n",
       "    </tr>\n",
       "    <tr>\n",
       "      <th>Variable</th>\n",
       "      <th>ISO</th>\n",
       "      <th>Units</th>\n",
       "      <th></th>\n",
       "      <th></th>\n",
       "      <th></th>\n",
       "      <th></th>\n",
       "      <th></th>\n",
       "    </tr>\n",
       "  </thead>\n",
       "  <tbody>\n",
       "    <tr>\n",
       "      <th>Surplus</th>\n",
       "      <th>ARG</th>\n",
       "      <th>Percent of GDP</th>\n",
       "      <td>Argentina</td>\n",
       "      <td>General government net lending/borrowing</td>\n",
       "      <td>-1.949</td>\n",
       "      <td>-2.359</td>\n",
       "      <td>-1.997</td>\n",
       "    </tr>\n",
       "    <tr>\n",
       "      <th>Debt</th>\n",
       "      <th>ARG</th>\n",
       "      <th>Percent of GDP</th>\n",
       "      <td>Argentina</td>\n",
       "      <td>General government gross debt</td>\n",
       "      <td>35.763</td>\n",
       "      <td>37.328</td>\n",
       "      <td>40.217</td>\n",
       "    </tr>\n",
       "    <tr>\n",
       "      <th>Surplus</th>\n",
       "      <th>DEU</th>\n",
       "      <th>Percent of GDP</th>\n",
       "      <td>Germany</td>\n",
       "      <td>General government net lending/borrowing</td>\n",
       "      <td>-0.861</td>\n",
       "      <td>0.091</td>\n",
       "      <td>0.133</td>\n",
       "    </tr>\n",
       "    <tr>\n",
       "      <th>Debt</th>\n",
       "      <th>DEU</th>\n",
       "      <th>Percent of GDP</th>\n",
       "      <td>Germany</td>\n",
       "      <td>General government gross debt</td>\n",
       "      <td>77.928</td>\n",
       "      <td>79.311</td>\n",
       "      <td>76.978</td>\n",
       "    </tr>\n",
       "    <tr>\n",
       "      <th>Surplus</th>\n",
       "      <th>GRC</th>\n",
       "      <th>Percent of GDP</th>\n",
       "      <td>Greece</td>\n",
       "      <td>General government net lending/borrowing</td>\n",
       "      <td>-10.215</td>\n",
       "      <td>-6.406</td>\n",
       "      <td>-2.944</td>\n",
       "    </tr>\n",
       "    <tr>\n",
       "      <th>Debt</th>\n",
       "      <th>GRC</th>\n",
       "      <th>Percent of GDP</th>\n",
       "      <td>Greece</td>\n",
       "      <td>General government gross debt</td>\n",
       "      <td>170.960</td>\n",
       "      <td>156.494</td>\n",
       "      <td>174.951</td>\n",
       "    </tr>\n",
       "  </tbody>\n",
       "</table>\n",
       "</div>"
      ],
      "text/plain": [
       "                               Country  \\\n",
       "Variable ISO Units                       \n",
       "Surplus  ARG Percent of GDP  Argentina   \n",
       "Debt     ARG Percent of GDP  Argentina   \n",
       "Surplus  DEU Percent of GDP    Germany   \n",
       "Debt     DEU Percent of GDP    Germany   \n",
       "Surplus  GRC Percent of GDP     Greece   \n",
       "Debt     GRC Percent of GDP     Greece   \n",
       "\n",
       "                                                          Description  \\\n",
       "Variable ISO Units                                                      \n",
       "Surplus  ARG Percent of GDP  General government net lending/borrowing   \n",
       "Debt     ARG Percent of GDP             General government gross debt   \n",
       "Surplus  DEU Percent of GDP  General government net lending/borrowing   \n",
       "Debt     DEU Percent of GDP             General government gross debt   \n",
       "Surplus  GRC Percent of GDP  General government net lending/borrowing   \n",
       "Debt     GRC Percent of GDP             General government gross debt   \n",
       "\n",
       "                                2011     2012     2013  \n",
       "Variable ISO Units                                      \n",
       "Surplus  ARG Percent of GDP   -1.949   -2.359   -1.997  \n",
       "Debt     ARG Percent of GDP   35.763   37.328   40.217  \n",
       "Surplus  DEU Percent of GDP   -0.861    0.091    0.133  \n",
       "Debt     DEU Percent of GDP   77.928   79.311   76.978  \n",
       "Surplus  GRC Percent of GDP  -10.215   -6.406   -2.944  \n",
       "Debt     GRC Percent of GDP  170.960  156.494  174.951  "
      ]
     },
     "execution_count": 33,
     "metadata": {},
     "output_type": "execute_result"
    }
   ],
   "source": [
    "ddi.reset_index(level=[1,3])"
   ]
  },
  {
   "cell_type": "markdown",
   "metadata": {
    "collapsed": false
   },
   "source": [
    "**Comment.** By default, `reset_index` pushes something from the index to a column.  If we want to discard that level of the index altogether, we use the parameter `drop=True`.  "
   ]
  },
  {
   "cell_type": "code",
   "execution_count": 60,
   "metadata": {
    "collapsed": false
   },
   "outputs": [
    {
     "data": {
      "text/html": [
       "<div>\n",
       "<table border=\"1\" class=\"dataframe\">\n",
       "  <thead>\n",
       "    <tr style=\"text-align: right;\">\n",
       "      <th></th>\n",
       "      <th></th>\n",
       "      <th></th>\n",
       "      <th>2011</th>\n",
       "      <th>2012</th>\n",
       "      <th>2013</th>\n",
       "    </tr>\n",
       "    <tr>\n",
       "      <th>Variable</th>\n",
       "      <th>ISO</th>\n",
       "      <th>Units</th>\n",
       "      <th></th>\n",
       "      <th></th>\n",
       "      <th></th>\n",
       "    </tr>\n",
       "  </thead>\n",
       "  <tbody>\n",
       "    <tr>\n",
       "      <th>Surplus</th>\n",
       "      <th>ARG</th>\n",
       "      <th>Percent of GDP</th>\n",
       "      <td>-1.949</td>\n",
       "      <td>-2.359</td>\n",
       "      <td>-1.997</td>\n",
       "    </tr>\n",
       "    <tr>\n",
       "      <th>Debt</th>\n",
       "      <th>ARG</th>\n",
       "      <th>Percent of GDP</th>\n",
       "      <td>35.763</td>\n",
       "      <td>37.328</td>\n",
       "      <td>40.217</td>\n",
       "    </tr>\n",
       "    <tr>\n",
       "      <th>Surplus</th>\n",
       "      <th>DEU</th>\n",
       "      <th>Percent of GDP</th>\n",
       "      <td>-0.861</td>\n",
       "      <td>0.091</td>\n",
       "      <td>0.133</td>\n",
       "    </tr>\n",
       "    <tr>\n",
       "      <th>Debt</th>\n",
       "      <th>DEU</th>\n",
       "      <th>Percent of GDP</th>\n",
       "      <td>77.928</td>\n",
       "      <td>79.311</td>\n",
       "      <td>76.978</td>\n",
       "    </tr>\n",
       "    <tr>\n",
       "      <th>Surplus</th>\n",
       "      <th>GRC</th>\n",
       "      <th>Percent of GDP</th>\n",
       "      <td>-10.215</td>\n",
       "      <td>-6.406</td>\n",
       "      <td>-2.944</td>\n",
       "    </tr>\n",
       "    <tr>\n",
       "      <th>Debt</th>\n",
       "      <th>GRC</th>\n",
       "      <th>Percent of GDP</th>\n",
       "      <td>170.960</td>\n",
       "      <td>156.494</td>\n",
       "      <td>174.951</td>\n",
       "    </tr>\n",
       "  </tbody>\n",
       "</table>\n",
       "</div>"
      ],
      "text/plain": [
       "                                2011     2012     2013\n",
       "Variable ISO Units                                    \n",
       "Surplus  ARG Percent of GDP   -1.949   -2.359   -1.997\n",
       "Debt     ARG Percent of GDP   35.763   37.328   40.217\n",
       "Surplus  DEU Percent of GDP   -0.861    0.091    0.133\n",
       "Debt     DEU Percent of GDP   77.928   79.311   76.978\n",
       "Surplus  GRC Percent of GDP  -10.215   -6.406   -2.944\n",
       "Debt     GRC Percent of GDP  170.960  156.494  174.951"
      ]
     },
     "execution_count": 60,
     "metadata": {},
     "output_type": "execute_result"
    }
   ],
   "source": [
    "ddi.reset_index(level=[1,3], drop=True)"
   ]
  },
  {
   "cell_type": "code",
   "execution_count": null,
   "metadata": {
    "collapsed": true
   },
   "outputs": [],
   "source": []
  },
  {
   "cell_type": "markdown",
   "metadata": {
    "collapsed": true
   },
   "source": [
    "**Exercise.**  For the dataframe `ddi`:  \n",
    "\n",
    "* Use the `reset_index` method to move the `Units` level of the index to a column of the dataframe.\n",
    "* Use the `drop` parameter of `reset_index` to delete `Units` from the dataframe.  \n",
    "* Show using the previous example that we can refer to the index level with either its numerical level or its name.  "
   ]
  },
  {
   "cell_type": "code",
   "execution_count": null,
   "metadata": {
    "collapsed": true
   },
   "outputs": [],
   "source": []
  },
  {
   "cell_type": "code",
   "execution_count": null,
   "metadata": {
    "collapsed": true
   },
   "outputs": [],
   "source": []
  },
  {
   "cell_type": "markdown",
   "metadata": {},
   "source": [
    "## Switching rows and columns   \n",
    "\n",
    "If we take the dataframe `ddi`, we see that the everything's been put into the index but the data itself.  Perhaps we can flip the rows and columns and work with that.  "
   ]
  },
  {
   "cell_type": "markdown",
   "metadata": {
    "collapsed": true
   },
   "source": [
    "### First look at switching rows and columns \n",
    "\n",
    "We're getting a little ahead of ourselves, but let's see if we can solve our problem and switch rows and columns.  Here we can use the `T` or transpose method.  When we do that, we end up with a lot of stuff in the column labels, as the multi-index for the rows gets rotated into the columns.  Other than that, we're good. We can even do a plot.  The only problem is that all the stuff we've pushed into the column labels is now included in the  "
   ]
  },
  {
   "cell_type": "code",
   "execution_count": 34,
   "metadata": {
    "collapsed": false
   },
   "outputs": [
    {
     "data": {
      "text/html": [
       "<div>\n",
       "<table border=\"1\" class=\"dataframe\">\n",
       "  <thead>\n",
       "    <tr>\n",
       "      <th>Variable</th>\n",
       "      <th>Surplus</th>\n",
       "      <th>Debt</th>\n",
       "      <th>Surplus</th>\n",
       "      <th>Debt</th>\n",
       "      <th>Surplus</th>\n",
       "      <th>Debt</th>\n",
       "    </tr>\n",
       "    <tr>\n",
       "      <th>Country</th>\n",
       "      <th>Argentina</th>\n",
       "      <th>Argentina</th>\n",
       "      <th>Germany</th>\n",
       "      <th>Germany</th>\n",
       "      <th>Greece</th>\n",
       "      <th>Greece</th>\n",
       "    </tr>\n",
       "    <tr>\n",
       "      <th>ISO</th>\n",
       "      <th>ARG</th>\n",
       "      <th>ARG</th>\n",
       "      <th>DEU</th>\n",
       "      <th>DEU</th>\n",
       "      <th>GRC</th>\n",
       "      <th>GRC</th>\n",
       "    </tr>\n",
       "    <tr>\n",
       "      <th>Description</th>\n",
       "      <th>General government net lending/borrowing</th>\n",
       "      <th>General government gross debt</th>\n",
       "      <th>General government net lending/borrowing</th>\n",
       "      <th>General government gross debt</th>\n",
       "      <th>General government net lending/borrowing</th>\n",
       "      <th>General government gross debt</th>\n",
       "    </tr>\n",
       "    <tr>\n",
       "      <th>Units</th>\n",
       "      <th>Percent of GDP</th>\n",
       "      <th>Percent of GDP</th>\n",
       "      <th>Percent of GDP</th>\n",
       "      <th>Percent of GDP</th>\n",
       "      <th>Percent of GDP</th>\n",
       "      <th>Percent of GDP</th>\n",
       "    </tr>\n",
       "  </thead>\n",
       "  <tbody>\n",
       "    <tr>\n",
       "      <th>2011</th>\n",
       "      <td>-1.949</td>\n",
       "      <td>35.763</td>\n",
       "      <td>-0.861</td>\n",
       "      <td>77.928</td>\n",
       "      <td>-10.215</td>\n",
       "      <td>170.960</td>\n",
       "    </tr>\n",
       "    <tr>\n",
       "      <th>2012</th>\n",
       "      <td>-2.359</td>\n",
       "      <td>37.328</td>\n",
       "      <td>0.091</td>\n",
       "      <td>79.311</td>\n",
       "      <td>-6.406</td>\n",
       "      <td>156.494</td>\n",
       "    </tr>\n",
       "    <tr>\n",
       "      <th>2013</th>\n",
       "      <td>-1.997</td>\n",
       "      <td>40.217</td>\n",
       "      <td>0.133</td>\n",
       "      <td>76.978</td>\n",
       "      <td>-2.944</td>\n",
       "      <td>174.951</td>\n",
       "    </tr>\n",
       "  </tbody>\n",
       "</table>\n",
       "</div>"
      ],
      "text/plain": [
       "Variable                                     Surplus  \\\n",
       "Country                                    Argentina   \n",
       "ISO                                              ARG   \n",
       "Description General government net lending/borrowing   \n",
       "Units                                 Percent of GDP   \n",
       "2011                                          -1.949   \n",
       "2012                                          -2.359   \n",
       "2013                                          -1.997   \n",
       "\n",
       "Variable                             Debt  \\\n",
       "Country                         Argentina   \n",
       "ISO                                   ARG   \n",
       "Description General government gross debt   \n",
       "Units                      Percent of GDP   \n",
       "2011                               35.763   \n",
       "2012                               37.328   \n",
       "2013                               40.217   \n",
       "\n",
       "Variable                                     Surplus  \\\n",
       "Country                                      Germany   \n",
       "ISO                                              DEU   \n",
       "Description General government net lending/borrowing   \n",
       "Units                                 Percent of GDP   \n",
       "2011                                          -0.861   \n",
       "2012                                           0.091   \n",
       "2013                                           0.133   \n",
       "\n",
       "Variable                             Debt  \\\n",
       "Country                           Germany   \n",
       "ISO                                   DEU   \n",
       "Description General government gross debt   \n",
       "Units                      Percent of GDP   \n",
       "2011                               77.928   \n",
       "2012                               79.311   \n",
       "2013                               76.978   \n",
       "\n",
       "Variable                                     Surplus  \\\n",
       "Country                                       Greece   \n",
       "ISO                                              GRC   \n",
       "Description General government net lending/borrowing   \n",
       "Units                                 Percent of GDP   \n",
       "2011                                         -10.215   \n",
       "2012                                          -6.406   \n",
       "2013                                          -2.944   \n",
       "\n",
       "Variable                             Debt  \n",
       "Country                            Greece  \n",
       "ISO                                   GRC  \n",
       "Description General government gross debt  \n",
       "Units                      Percent of GDP  \n",
       "2011                              170.960  \n",
       "2012                              156.494  \n",
       "2013                              174.951  "
      ]
     },
     "execution_count": 34,
     "metadata": {},
     "output_type": "execute_result"
    }
   ],
   "source": [
    "ddt = ddi.T\n",
    "ddt"
   ]
  },
  {
   "cell_type": "markdown",
   "metadata": {},
   "source": [
    "### Referring to variables with a multi-index\n",
    "\n",
    "Can we refer to variables in the same way?  Sort of, as long as we refer to the top level of the column index.  It gives us a dataframe that's a subset of the original one.  "
   ]
  },
  {
   "cell_type": "code",
   "execution_count": 45,
   "metadata": {
    "collapsed": false
   },
   "outputs": [
    {
     "name": "stdout",
     "output_type": "stream",
     "text": [
      "debt has type <class 'pandas.core.frame.DataFrame'>\n"
     ]
    },
    {
     "data": {
      "text/html": [
       "<div>\n",
       "<table border=\"1\" class=\"dataframe\">\n",
       "  <thead>\n",
       "    <tr>\n",
       "      <th>Country</th>\n",
       "      <th>Argentina</th>\n",
       "      <th>Germany</th>\n",
       "      <th>Greece</th>\n",
       "    </tr>\n",
       "    <tr>\n",
       "      <th>ISO</th>\n",
       "      <th>ARG</th>\n",
       "      <th>DEU</th>\n",
       "      <th>GRC</th>\n",
       "    </tr>\n",
       "    <tr>\n",
       "      <th>Description</th>\n",
       "      <th>General government gross debt</th>\n",
       "      <th>General government gross debt</th>\n",
       "      <th>General government gross debt</th>\n",
       "    </tr>\n",
       "    <tr>\n",
       "      <th>Units</th>\n",
       "      <th>Percent of GDP</th>\n",
       "      <th>Percent of GDP</th>\n",
       "      <th>Percent of GDP</th>\n",
       "    </tr>\n",
       "  </thead>\n",
       "  <tbody>\n",
       "    <tr>\n",
       "      <th>2011</th>\n",
       "      <td>35.763</td>\n",
       "      <td>77.928</td>\n",
       "      <td>170.960</td>\n",
       "    </tr>\n",
       "    <tr>\n",
       "      <th>2012</th>\n",
       "      <td>37.328</td>\n",
       "      <td>79.311</td>\n",
       "      <td>156.494</td>\n",
       "    </tr>\n",
       "    <tr>\n",
       "      <th>2013</th>\n",
       "      <td>40.217</td>\n",
       "      <td>76.978</td>\n",
       "      <td>174.951</td>\n",
       "    </tr>\n",
       "  </tbody>\n",
       "</table>\n",
       "</div>"
      ],
      "text/plain": [
       "Country                         Argentina                       Germany  \\\n",
       "ISO                                   ARG                           DEU   \n",
       "Description General government gross debt General government gross debt   \n",
       "Units                      Percent of GDP                Percent of GDP   \n",
       "2011                               35.763                        77.928   \n",
       "2012                               37.328                        79.311   \n",
       "2013                               40.217                        76.978   \n",
       "\n",
       "Country                            Greece  \n",
       "ISO                                   GRC  \n",
       "Description General government gross debt  \n",
       "Units                      Percent of GDP  \n",
       "2011                              170.960  \n",
       "2012                              156.494  \n",
       "2013                              174.951  "
      ]
     },
     "execution_count": 45,
     "metadata": {},
     "output_type": "execute_result"
    }
   ],
   "source": [
    "# indexing a variable now grabs all countries \n",
    "debt = ddt['Debt']\n",
    "print('debt has type', type(debt))\n",
    "debt "
   ]
  },
  {
   "cell_type": "code",
   "execution_count": 46,
   "metadata": {
    "collapsed": false
   },
   "outputs": [
    {
     "data": {
      "text/plain": [
       "<matplotlib.axes._subplots.AxesSubplot at 0x991fda0>"
      ]
     },
     "execution_count": 46,
     "metadata": {},
     "output_type": "execute_result"
    },
    {
     "data": {
      "image/png": "[encoded data removed]",
      "text/plain": [
       "<matplotlib.figure.Figure at 0x91a4f28>"
      ]
     },
     "metadata": {},
     "output_type": "display_data"
    }
   ],
   "source": [
    "# we can even do a plot\n",
    "debt.plot()"
   ]
  },
  {
   "cell_type": "code",
   "execution_count": null,
   "metadata": {
    "collapsed": true
   },
   "outputs": [],
   "source": []
  },
  {
   "cell_type": "markdown",
   "metadata": {
    "collapsed": true
   },
   "source": [
    "**Example.** Let's do this together.  How would we fix up the legend?  What approaches cross your mind?  (No code, just the general approach.) "
   ]
  },
  {
   "cell_type": "markdown",
   "metadata": {},
   "source": [
    "<a id='stack'></a>"
   ]
  },
  {
   "cell_type": "code",
   "execution_count": null,
   "metadata": {
    "collapsed": false
   },
   "outputs": [],
   "source": []
  },
  {
   "cell_type": "code",
   "execution_count": null,
   "metadata": {
    "collapsed": true
   },
   "outputs": [],
   "source": []
  },
  {
   "cell_type": "code",
   "execution_count": null,
   "metadata": {
    "collapsed": true
   },
   "outputs": [],
   "source": []
  },
  {
   "cell_type": "markdown",
   "metadata": {},
   "source": [
    "## Stacking and unstacking \n",
    "\n",
    "The `set_index` and `reset_index` methods work on the row labels -- the index.  The `stack` and `unstack` methods work on the column labels.  \n",
    "\n",
    "* `stack` stacks the data up, moving the columns to the index and creating a \"long\" dataframe.\n",
    "* `unstack` does the reverse, moving columns or index levels into the column labels and creating a \"wide\" dataframe.  \n",
    "\n",
    "This sounds a little abstract, but it's incredibly useful. \n",
    "\n",
    "Two wants:\n",
    "\n",
    "* Org by variable and plot\n",
    "* Org by country and plot "
   ]
  },
  {
   "cell_type": "code",
   "execution_count": 47,
   "metadata": {
    "collapsed": false
   },
   "outputs": [
    {
     "data": {
      "text/html": [
       "<div>\n",
       "<table border=\"1\" class=\"dataframe\">\n",
       "  <thead>\n",
       "    <tr style=\"text-align: right;\">\n",
       "      <th></th>\n",
       "      <th>Year</th>\n",
       "      <th>2011</th>\n",
       "      <th>2012</th>\n",
       "      <th>2013</th>\n",
       "    </tr>\n",
       "    <tr>\n",
       "      <th>Variable</th>\n",
       "      <th>ISO</th>\n",
       "      <th></th>\n",
       "      <th></th>\n",
       "      <th></th>\n",
       "    </tr>\n",
       "  </thead>\n",
       "  <tbody>\n",
       "    <tr>\n",
       "      <th>Surplus</th>\n",
       "      <th>ARG</th>\n",
       "      <td>-1.949</td>\n",
       "      <td>-2.359</td>\n",
       "      <td>-1.997</td>\n",
       "    </tr>\n",
       "    <tr>\n",
       "      <th>Debt</th>\n",
       "      <th>ARG</th>\n",
       "      <td>35.763</td>\n",
       "      <td>37.328</td>\n",
       "      <td>40.217</td>\n",
       "    </tr>\n",
       "    <tr>\n",
       "      <th>Surplus</th>\n",
       "      <th>DEU</th>\n",
       "      <td>-0.861</td>\n",
       "      <td>0.091</td>\n",
       "      <td>0.133</td>\n",
       "    </tr>\n",
       "    <tr>\n",
       "      <th>Debt</th>\n",
       "      <th>DEU</th>\n",
       "      <td>77.928</td>\n",
       "      <td>79.311</td>\n",
       "      <td>76.978</td>\n",
       "    </tr>\n",
       "    <tr>\n",
       "      <th>Surplus</th>\n",
       "      <th>GRC</th>\n",
       "      <td>-10.215</td>\n",
       "      <td>-6.406</td>\n",
       "      <td>-2.944</td>\n",
       "    </tr>\n",
       "    <tr>\n",
       "      <th>Debt</th>\n",
       "      <th>GRC</th>\n",
       "      <td>170.960</td>\n",
       "      <td>156.494</td>\n",
       "      <td>174.951</td>\n",
       "    </tr>\n",
       "  </tbody>\n",
       "</table>\n",
       "</div>"
      ],
      "text/plain": [
       "Year             2011     2012     2013\n",
       "Variable ISO                           \n",
       "Surplus  ARG   -1.949   -2.359   -1.997\n",
       "Debt     ARG   35.763   37.328   40.217\n",
       "Surplus  DEU   -0.861    0.091    0.133\n",
       "Debt     DEU   77.928   79.311   76.978\n",
       "Surplus  GRC  -10.215   -6.406   -2.944\n",
       "Debt     GRC  170.960  156.494  174.951"
      ]
     },
     "execution_count": 47,
     "metadata": {},
     "output_type": "execute_result"
    }
   ],
   "source": [
    "# drop some of the index levels (think s for small)\n",
    "dds = ddi.reset_index(level=[1,3,4], drop=True)\n",
    "dds.columns.name = 'Year'\n",
    "dds"
   ]
  },
  {
   "cell_type": "code",
   "execution_count": null,
   "metadata": {
    "collapsed": true
   },
   "outputs": [],
   "source": []
  },
  {
   "cell_type": "code",
   "execution_count": 48,
   "metadata": {
    "collapsed": false
   },
   "outputs": [
    {
     "data": {
      "text/plain": [
       "Variable  ISO  Year\n",
       "Surplus   ARG  2011     -1.949\n",
       "               2012     -2.359\n",
       "               2013     -1.997\n",
       "Debt      ARG  2011     35.763\n",
       "               2012     37.328\n",
       "               2013     40.217\n",
       "Surplus   DEU  2011     -0.861\n",
       "               2012      0.091\n",
       "               2013      0.133\n",
       "Debt      DEU  2011     77.928\n",
       "               2012     79.311\n",
       "               2013     76.978\n",
       "Surplus   GRC  2011    -10.215\n",
       "               2012     -6.406\n",
       "               2013     -2.944\n",
       "Debt      GRC  2011    170.960\n",
       "               2012    156.494\n",
       "               2013    174.951\n",
       "dtype: float64"
      ]
     },
     "execution_count": 48,
     "metadata": {},
     "output_type": "execute_result"
    }
   ],
   "source": [
    "# convert to long format \n",
    "ds = dds.stack()    # level=bottom is default \n",
    "ds"
   ]
  },
  {
   "cell_type": "code",
   "execution_count": 49,
   "metadata": {
    "collapsed": false
   },
   "outputs": [
    {
     "data": {
      "text/plain": [
       "Variable  ISO  Year\n",
       "Surplus   ARG  2011     -1.949\n",
       "               2012     -2.359\n",
       "               2013     -1.997\n",
       "Debt      ARG  2011     35.763\n",
       "               2012     37.328\n",
       "               2013     40.217\n",
       "Surplus   DEU  2011     -0.861\n",
       "               2012      0.091\n",
       "               2013      0.133\n",
       "Debt      DEU  2011     77.928\n",
       "               2012     79.311\n",
       "               2013     76.978\n",
       "Surplus   GRC  2011    -10.215\n",
       "               2012     -6.406\n",
       "               2013     -2.944\n",
       "Debt      GRC  2011    170.960\n",
       "               2012    156.494\n",
       "               2013    174.951\n",
       "dtype: float64"
      ]
     },
     "execution_count": 49,
     "metadata": {},
     "output_type": "execute_result"
    }
   ],
   "source": [
    "# same thing\n",
    "dds.stack(level='Year')"
   ]
  },
  {
   "cell_type": "code",
   "execution_count": null,
   "metadata": {
    "collapsed": false
   },
   "outputs": [],
   "source": []
  },
  {
   "cell_type": "code",
   "execution_count": null,
   "metadata": {
    "collapsed": true
   },
   "outputs": [],
   "source": []
  },
  {
   "cell_type": "code",
   "execution_count": 51,
   "metadata": {
    "collapsed": false
   },
   "outputs": [
    {
     "data": {
      "text/html": [
       "<div>\n",
       "<table border=\"1\" class=\"dataframe\">\n",
       "  <thead>\n",
       "    <tr>\n",
       "      <th>Year</th>\n",
       "      <th colspan=\"3\" halign=\"left\">2011</th>\n",
       "      <th colspan=\"3\" halign=\"left\">2012</th>\n",
       "      <th colspan=\"3\" halign=\"left\">2013</th>\n",
       "    </tr>\n",
       "    <tr>\n",
       "      <th>ISO</th>\n",
       "      <th>ARG</th>\n",
       "      <th>DEU</th>\n",
       "      <th>GRC</th>\n",
       "      <th>ARG</th>\n",
       "      <th>DEU</th>\n",
       "      <th>GRC</th>\n",
       "      <th>ARG</th>\n",
       "      <th>DEU</th>\n",
       "      <th>GRC</th>\n",
       "    </tr>\n",
       "    <tr>\n",
       "      <th>Variable</th>\n",
       "      <th></th>\n",
       "      <th></th>\n",
       "      <th></th>\n",
       "      <th></th>\n",
       "      <th></th>\n",
       "      <th></th>\n",
       "      <th></th>\n",
       "      <th></th>\n",
       "      <th></th>\n",
       "    </tr>\n",
       "  </thead>\n",
       "  <tbody>\n",
       "    <tr>\n",
       "      <th>Debt</th>\n",
       "      <td>35.763</td>\n",
       "      <td>77.928</td>\n",
       "      <td>170.960</td>\n",
       "      <td>37.328</td>\n",
       "      <td>79.311</td>\n",
       "      <td>156.494</td>\n",
       "      <td>40.217</td>\n",
       "      <td>76.978</td>\n",
       "      <td>174.951</td>\n",
       "    </tr>\n",
       "    <tr>\n",
       "      <th>Surplus</th>\n",
       "      <td>-1.949</td>\n",
       "      <td>-0.861</td>\n",
       "      <td>-10.215</td>\n",
       "      <td>-2.359</td>\n",
       "      <td>0.091</td>\n",
       "      <td>-6.406</td>\n",
       "      <td>-1.997</td>\n",
       "      <td>0.133</td>\n",
       "      <td>-2.944</td>\n",
       "    </tr>\n",
       "  </tbody>\n",
       "</table>\n",
       "</div>"
      ],
      "text/plain": [
       "Year        2011                     2012                     2013          \\\n",
       "ISO          ARG     DEU      GRC     ARG     DEU      GRC     ARG     DEU   \n",
       "Variable                                                                     \n",
       "Debt      35.763  77.928  170.960  37.328  79.311  156.494  40.217  76.978   \n",
       "Surplus   -1.949  -0.861  -10.215  -2.359   0.091   -6.406  -1.997   0.133   \n",
       "\n",
       "Year               \n",
       "ISO           GRC  \n",
       "Variable           \n",
       "Debt      174.951  \n",
       "Surplus    -2.944  "
      ]
     },
     "execution_count": 51,
     "metadata": {},
     "output_type": "execute_result"
    }
   ],
   "source": [
    "# now go long to wide \n",
    "dds.unstack()  # defalult is lowest value level='ISO'"
   ]
  },
  {
   "cell_type": "code",
   "execution_count": 52,
   "metadata": {
    "collapsed": false
   },
   "outputs": [
    {
     "data": {
      "text/html": [
       "<div>\n",
       "<table border=\"1\" class=\"dataframe\">\n",
       "  <thead>\n",
       "    <tr>\n",
       "      <th>Year</th>\n",
       "      <th colspan=\"2\" halign=\"left\">2011</th>\n",
       "      <th colspan=\"2\" halign=\"left\">2012</th>\n",
       "      <th colspan=\"2\" halign=\"left\">2013</th>\n",
       "    </tr>\n",
       "    <tr>\n",
       "      <th>Variable</th>\n",
       "      <th>Debt</th>\n",
       "      <th>Surplus</th>\n",
       "      <th>Debt</th>\n",
       "      <th>Surplus</th>\n",
       "      <th>Debt</th>\n",
       "      <th>Surplus</th>\n",
       "    </tr>\n",
       "    <tr>\n",
       "      <th>ISO</th>\n",
       "      <th></th>\n",
       "      <th></th>\n",
       "      <th></th>\n",
       "      <th></th>\n",
       "      <th></th>\n",
       "      <th></th>\n",
       "    </tr>\n",
       "  </thead>\n",
       "  <tbody>\n",
       "    <tr>\n",
       "      <th>ARG</th>\n",
       "      <td>35.763</td>\n",
       "      <td>-1.949</td>\n",
       "      <td>37.328</td>\n",
       "      <td>-2.359</td>\n",
       "      <td>40.217</td>\n",
       "      <td>-1.997</td>\n",
       "    </tr>\n",
       "    <tr>\n",
       "      <th>DEU</th>\n",
       "      <td>77.928</td>\n",
       "      <td>-0.861</td>\n",
       "      <td>79.311</td>\n",
       "      <td>0.091</td>\n",
       "      <td>76.978</td>\n",
       "      <td>0.133</td>\n",
       "    </tr>\n",
       "    <tr>\n",
       "      <th>GRC</th>\n",
       "      <td>170.960</td>\n",
       "      <td>-10.215</td>\n",
       "      <td>156.494</td>\n",
       "      <td>-6.406</td>\n",
       "      <td>174.951</td>\n",
       "      <td>-2.944</td>\n",
       "    </tr>\n",
       "  </tbody>\n",
       "</table>\n",
       "</div>"
      ],
      "text/plain": [
       "Year         2011             2012             2013        \n",
       "Variable     Debt Surplus     Debt Surplus     Debt Surplus\n",
       "ISO                                                        \n",
       "ARG        35.763  -1.949   37.328  -2.359   40.217  -1.997\n",
       "DEU        77.928  -0.861   79.311   0.091   76.978   0.133\n",
       "GRC       170.960 -10.215  156.494  -6.406  174.951  -2.944"
      ]
     },
     "execution_count": 52,
     "metadata": {},
     "output_type": "execute_result"
    }
   ],
   "source": [
    "# different level \n",
    "dds.unstack(level='Variable')"
   ]
  },
  {
   "cell_type": "code",
   "execution_count": null,
   "metadata": {
    "collapsed": true
   },
   "outputs": [],
   "source": []
  },
  {
   "cell_type": "markdown",
   "metadata": {},
   "source": [
    "**Exercise.** Run the code below and explain what each line of code does.  \n",
    "\n",
    "*Bonus:* How would you unstack `ISO` first, then `Variable`?  Can you do it in one line?"
   ]
  },
  {
   "cell_type": "code",
   "execution_count": 42,
   "metadata": {
    "collapsed": false
   },
   "outputs": [],
   "source": [
    "du1 = ds.unstack() \n",
    "du2 = du1.unstack()"
   ]
  },
  {
   "cell_type": "code",
   "execution_count": null,
   "metadata": {
    "collapsed": true
   },
   "outputs": [],
   "source": []
  },
  {
   "cell_type": "code",
   "execution_count": null,
   "metadata": {
    "collapsed": true
   },
   "outputs": [],
   "source": []
  },
  {
   "cell_type": "code",
   "execution_count": null,
   "metadata": {
    "collapsed": true
   },
   "outputs": [],
   "source": []
  },
  {
   "cell_type": "markdown",
   "metadata": {},
   "source": [
    "## Pivoting\n",
    "\n",
    "Think about where we want to end up.  What is the index?  The columns?  The values? "
   ]
  },
  {
   "cell_type": "code",
   "execution_count": 53,
   "metadata": {
    "collapsed": false
   },
   "outputs": [
    {
     "data": {
      "text/html": [
       "<div>\n",
       "<table border=\"1\" class=\"dataframe\">\n",
       "  <thead>\n",
       "    <tr style=\"text-align: right;\">\n",
       "      <th></th>\n",
       "      <th>Year</th>\n",
       "      <th>2011</th>\n",
       "      <th>2012</th>\n",
       "      <th>2013</th>\n",
       "    </tr>\n",
       "    <tr>\n",
       "      <th>Variable</th>\n",
       "      <th>ISO</th>\n",
       "      <th></th>\n",
       "      <th></th>\n",
       "      <th></th>\n",
       "    </tr>\n",
       "  </thead>\n",
       "  <tbody>\n",
       "    <tr>\n",
       "      <th>Surplus</th>\n",
       "      <th>ARG</th>\n",
       "      <td>-1.949</td>\n",
       "      <td>-2.359</td>\n",
       "      <td>-1.997</td>\n",
       "    </tr>\n",
       "    <tr>\n",
       "      <th>Debt</th>\n",
       "      <th>ARG</th>\n",
       "      <td>35.763</td>\n",
       "      <td>37.328</td>\n",
       "      <td>40.217</td>\n",
       "    </tr>\n",
       "    <tr>\n",
       "      <th>Surplus</th>\n",
       "      <th>DEU</th>\n",
       "      <td>-0.861</td>\n",
       "      <td>0.091</td>\n",
       "      <td>0.133</td>\n",
       "    </tr>\n",
       "    <tr>\n",
       "      <th>Debt</th>\n",
       "      <th>DEU</th>\n",
       "      <td>77.928</td>\n",
       "      <td>79.311</td>\n",
       "      <td>76.978</td>\n",
       "    </tr>\n",
       "    <tr>\n",
       "      <th>Surplus</th>\n",
       "      <th>GRC</th>\n",
       "      <td>-10.215</td>\n",
       "      <td>-6.406</td>\n",
       "      <td>-2.944</td>\n",
       "    </tr>\n",
       "    <tr>\n",
       "      <th>Debt</th>\n",
       "      <th>GRC</th>\n",
       "      <td>170.960</td>\n",
       "      <td>156.494</td>\n",
       "      <td>174.951</td>\n",
       "    </tr>\n",
       "  </tbody>\n",
       "</table>\n",
       "</div>"
      ],
      "text/plain": [
       "Year             2011     2012     2013\n",
       "Variable ISO                           \n",
       "Surplus  ARG   -1.949   -2.359   -1.997\n",
       "Debt     ARG   35.763   37.328   40.217\n",
       "Surplus  DEU   -0.861    0.091    0.133\n",
       "Debt     DEU   77.928   79.311   76.978\n",
       "Surplus  GRC  -10.215   -6.406   -2.944\n",
       "Debt     GRC  170.960  156.494  174.951"
      ]
     },
     "execution_count": 53,
     "metadata": {},
     "output_type": "execute_result"
    }
   ],
   "source": [
    "dds"
   ]
  },
  {
   "cell_type": "code",
   "execution_count": 44,
   "metadata": {
    "collapsed": false,
    "scrolled": true
   },
   "outputs": [
    {
     "ename": "KeyError",
     "evalue": "'Years'",
     "output_type": "error",
     "traceback": [
      "\u001b[1;31m---------------------------------------------------------------------------\u001b[0m",
      "\u001b[1;31mKeyError\u001b[0m                                  Traceback (most recent call last)",
      "\u001b[1;32mC:\\Users\\dbackus\\AppData\\Local\\Continuum\\Anaconda3\\lib\\site-packages\\pandas\\indexes\\base.py\u001b[0m in \u001b[0;36mget_loc\u001b[1;34m(self, key, method, tolerance)\u001b[0m\n\u001b[0;32m   1875\u001b[0m             \u001b[1;32mtry\u001b[0m\u001b[1;33m:\u001b[0m\u001b[1;33m\u001b[0m\u001b[0m\n\u001b[1;32m-> 1876\u001b[1;33m                 \u001b[1;32mreturn\u001b[0m \u001b[0mself\u001b[0m\u001b[1;33m.\u001b[0m\u001b[0m_engine\u001b[0m\u001b[1;33m.\u001b[0m\u001b[0mget_loc\u001b[0m\u001b[1;33m(\u001b[0m\u001b[0mkey\u001b[0m\u001b[1;33m)\u001b[0m\u001b[1;33m\u001b[0m\u001b[0m\n\u001b[0m\u001b[0;32m   1877\u001b[0m             \u001b[1;32mexcept\u001b[0m \u001b[0mKeyError\u001b[0m\u001b[1;33m:\u001b[0m\u001b[1;33m\u001b[0m\u001b[0m\n",
      "\u001b[1;32mpandas\\index.pyx\u001b[0m in \u001b[0;36mpandas.index.IndexEngine.get_loc (pandas\\index.c:4027)\u001b[1;34m()\u001b[0m\n",
      "\u001b[1;32mpandas\\index.pyx\u001b[0m in \u001b[0;36mpandas.index.IndexEngine.get_loc (pandas\\index.c:3891)\u001b[1;34m()\u001b[0m\n",
      "\u001b[1;32mpandas\\hashtable.pyx\u001b[0m in \u001b[0;36mpandas.hashtable.PyObjectHashTable.get_item (pandas\\hashtable.c:12408)\u001b[1;34m()\u001b[0m\n",
      "\u001b[1;32mpandas\\hashtable.pyx\u001b[0m in \u001b[0;36mpandas.hashtable.PyObjectHashTable.get_item (pandas\\hashtable.c:12359)\u001b[1;34m()\u001b[0m\n",
      "\u001b[1;31mKeyError\u001b[0m: 'Years'",
      "\nDuring handling of the above exception, another exception occurred:\n",
      "\u001b[1;31mKeyError\u001b[0m                                  Traceback (most recent call last)",
      "\u001b[1;32m<ipython-input-44-035acd84fb21>\u001b[0m in \u001b[0;36m<module>\u001b[1;34m()\u001b[0m\n\u001b[0;32m      1\u001b[0m dds.pivot(index='Years', \n\u001b[1;32m----> 2\u001b[1;33m          columns='Variable') \n\u001b[0m",
      "\u001b[1;32mC:\\Users\\dbackus\\AppData\\Local\\Continuum\\Anaconda3\\lib\\site-packages\\pandas\\core\\frame.py\u001b[0m in \u001b[0;36mpivot\u001b[1;34m(self, index, columns, values)\u001b[0m\n\u001b[0;32m   3825\u001b[0m         \"\"\"\n\u001b[0;32m   3826\u001b[0m         \u001b[1;32mfrom\u001b[0m \u001b[0mpandas\u001b[0m\u001b[1;33m.\u001b[0m\u001b[0mcore\u001b[0m\u001b[1;33m.\u001b[0m\u001b[0mreshape\u001b[0m \u001b[1;32mimport\u001b[0m \u001b[0mpivot\u001b[0m\u001b[1;33m\u001b[0m\u001b[0m\n\u001b[1;32m-> 3827\u001b[1;33m         \u001b[1;32mreturn\u001b[0m \u001b[0mpivot\u001b[0m\u001b[1;33m(\u001b[0m\u001b[0mself\u001b[0m\u001b[1;33m,\u001b[0m \u001b[0mindex\u001b[0m\u001b[1;33m=\u001b[0m\u001b[0mindex\u001b[0m\u001b[1;33m,\u001b[0m \u001b[0mcolumns\u001b[0m\u001b[1;33m=\u001b[0m\u001b[0mcolumns\u001b[0m\u001b[1;33m,\u001b[0m \u001b[0mvalues\u001b[0m\u001b[1;33m=\u001b[0m\u001b[0mvalues\u001b[0m\u001b[1;33m)\u001b[0m\u001b[1;33m\u001b[0m\u001b[0m\n\u001b[0m\u001b[0;32m   3828\u001b[0m \u001b[1;33m\u001b[0m\u001b[0m\n\u001b[0;32m   3829\u001b[0m     \u001b[1;32mdef\u001b[0m \u001b[0mstack\u001b[0m\u001b[1;33m(\u001b[0m\u001b[0mself\u001b[0m\u001b[1;33m,\u001b[0m \u001b[0mlevel\u001b[0m\u001b[1;33m=\u001b[0m\u001b[1;33m-\u001b[0m\u001b[1;36m1\u001b[0m\u001b[1;33m,\u001b[0m \u001b[0mdropna\u001b[0m\u001b[1;33m=\u001b[0m\u001b[1;32mTrue\u001b[0m\u001b[1;33m)\u001b[0m\u001b[1;33m:\u001b[0m\u001b[1;33m\u001b[0m\u001b[0m\n",
      "\u001b[1;32mC:\\Users\\dbackus\\AppData\\Local\\Continuum\\Anaconda3\\lib\\site-packages\\pandas\\core\\reshape.py\u001b[0m in \u001b[0;36mpivot\u001b[1;34m(self, index, columns, values)\u001b[0m\n\u001b[0;32m    319\u001b[0m         \u001b[0mcols\u001b[0m \u001b[1;33m=\u001b[0m \u001b[1;33m[\u001b[0m\u001b[0mcolumns\u001b[0m\u001b[1;33m]\u001b[0m \u001b[1;32mif\u001b[0m \u001b[0mindex\u001b[0m \u001b[1;32mis\u001b[0m \u001b[1;32mNone\u001b[0m \u001b[1;32melse\u001b[0m \u001b[1;33m[\u001b[0m\u001b[0mindex\u001b[0m\u001b[1;33m,\u001b[0m \u001b[0mcolumns\u001b[0m\u001b[1;33m]\u001b[0m\u001b[1;33m\u001b[0m\u001b[0m\n\u001b[0;32m    320\u001b[0m         \u001b[0mappend\u001b[0m \u001b[1;33m=\u001b[0m \u001b[0mindex\u001b[0m \u001b[1;32mis\u001b[0m \u001b[1;32mNone\u001b[0m\u001b[1;33m\u001b[0m\u001b[0m\n\u001b[1;32m--> 321\u001b[1;33m         \u001b[0mindexed\u001b[0m \u001b[1;33m=\u001b[0m \u001b[0mself\u001b[0m\u001b[1;33m.\u001b[0m\u001b[0mset_index\u001b[0m\u001b[1;33m(\u001b[0m\u001b[0mcols\u001b[0m\u001b[1;33m,\u001b[0m \u001b[0mappend\u001b[0m\u001b[1;33m=\u001b[0m\u001b[0mappend\u001b[0m\u001b[1;33m)\u001b[0m\u001b[1;33m\u001b[0m\u001b[0m\n\u001b[0m\u001b[0;32m    322\u001b[0m         \u001b[1;32mreturn\u001b[0m \u001b[0mindexed\u001b[0m\u001b[1;33m.\u001b[0m\u001b[0munstack\u001b[0m\u001b[1;33m(\u001b[0m\u001b[0mcolumns\u001b[0m\u001b[1;33m)\u001b[0m\u001b[1;33m\u001b[0m\u001b[0m\n\u001b[0;32m    323\u001b[0m     \u001b[1;32melse\u001b[0m\u001b[1;33m:\u001b[0m\u001b[1;33m\u001b[0m\u001b[0m\n",
      "\u001b[1;32mC:\\Users\\dbackus\\AppData\\Local\\Continuum\\Anaconda3\\lib\\site-packages\\pandas\\core\\frame.py\u001b[0m in \u001b[0;36mset_index\u001b[1;34m(self, keys, drop, append, inplace, verify_integrity)\u001b[0m\n\u001b[0;32m   2829\u001b[0m                 \u001b[0mnames\u001b[0m\u001b[1;33m.\u001b[0m\u001b[0mappend\u001b[0m\u001b[1;33m(\u001b[0m\u001b[1;32mNone\u001b[0m\u001b[1;33m)\u001b[0m\u001b[1;33m\u001b[0m\u001b[0m\n\u001b[0;32m   2830\u001b[0m             \u001b[1;32melse\u001b[0m\u001b[1;33m:\u001b[0m\u001b[1;33m\u001b[0m\u001b[0m\n\u001b[1;32m-> 2831\u001b[1;33m                 \u001b[0mlevel\u001b[0m \u001b[1;33m=\u001b[0m \u001b[0mframe\u001b[0m\u001b[1;33m[\u001b[0m\u001b[0mcol\u001b[0m\u001b[1;33m]\u001b[0m\u001b[1;33m.\u001b[0m\u001b[0m_values\u001b[0m\u001b[1;33m\u001b[0m\u001b[0m\n\u001b[0m\u001b[0;32m   2832\u001b[0m                 \u001b[0mnames\u001b[0m\u001b[1;33m.\u001b[0m\u001b[0mappend\u001b[0m\u001b[1;33m(\u001b[0m\u001b[0mcol\u001b[0m\u001b[1;33m)\u001b[0m\u001b[1;33m\u001b[0m\u001b[0m\n\u001b[0;32m   2833\u001b[0m                 \u001b[1;32mif\u001b[0m \u001b[0mdrop\u001b[0m\u001b[1;33m:\u001b[0m\u001b[1;33m\u001b[0m\u001b[0m\n",
      "\u001b[1;32mC:\\Users\\dbackus\\AppData\\Local\\Continuum\\Anaconda3\\lib\\site-packages\\pandas\\core\\frame.py\u001b[0m in \u001b[0;36m__getitem__\u001b[1;34m(self, key)\u001b[0m\n\u001b[0;32m   1990\u001b[0m             \u001b[1;32mreturn\u001b[0m \u001b[0mself\u001b[0m\u001b[1;33m.\u001b[0m\u001b[0m_getitem_multilevel\u001b[0m\u001b[1;33m(\u001b[0m\u001b[0mkey\u001b[0m\u001b[1;33m)\u001b[0m\u001b[1;33m\u001b[0m\u001b[0m\n\u001b[0;32m   1991\u001b[0m         \u001b[1;32melse\u001b[0m\u001b[1;33m:\u001b[0m\u001b[1;33m\u001b[0m\u001b[0m\n\u001b[1;32m-> 1992\u001b[1;33m             \u001b[1;32mreturn\u001b[0m \u001b[0mself\u001b[0m\u001b[1;33m.\u001b[0m\u001b[0m_getitem_column\u001b[0m\u001b[1;33m(\u001b[0m\u001b[0mkey\u001b[0m\u001b[1;33m)\u001b[0m\u001b[1;33m\u001b[0m\u001b[0m\n\u001b[0m\u001b[0;32m   1993\u001b[0m \u001b[1;33m\u001b[0m\u001b[0m\n\u001b[0;32m   1994\u001b[0m     \u001b[1;32mdef\u001b[0m \u001b[0m_getitem_column\u001b[0m\u001b[1;33m(\u001b[0m\u001b[0mself\u001b[0m\u001b[1;33m,\u001b[0m \u001b[0mkey\u001b[0m\u001b[1;33m)\u001b[0m\u001b[1;33m:\u001b[0m\u001b[1;33m\u001b[0m\u001b[0m\n",
      "\u001b[1;32mC:\\Users\\dbackus\\AppData\\Local\\Continuum\\Anaconda3\\lib\\site-packages\\pandas\\core\\frame.py\u001b[0m in \u001b[0;36m_getitem_column\u001b[1;34m(self, key)\u001b[0m\n\u001b[0;32m   1997\u001b[0m         \u001b[1;31m# get column\u001b[0m\u001b[1;33m\u001b[0m\u001b[1;33m\u001b[0m\u001b[0m\n\u001b[0;32m   1998\u001b[0m         \u001b[1;32mif\u001b[0m \u001b[0mself\u001b[0m\u001b[1;33m.\u001b[0m\u001b[0mcolumns\u001b[0m\u001b[1;33m.\u001b[0m\u001b[0mis_unique\u001b[0m\u001b[1;33m:\u001b[0m\u001b[1;33m\u001b[0m\u001b[0m\n\u001b[1;32m-> 1999\u001b[1;33m             \u001b[1;32mreturn\u001b[0m \u001b[0mself\u001b[0m\u001b[1;33m.\u001b[0m\u001b[0m_get_item_cache\u001b[0m\u001b[1;33m(\u001b[0m\u001b[0mkey\u001b[0m\u001b[1;33m)\u001b[0m\u001b[1;33m\u001b[0m\u001b[0m\n\u001b[0m\u001b[0;32m   2000\u001b[0m \u001b[1;33m\u001b[0m\u001b[0m\n\u001b[0;32m   2001\u001b[0m         \u001b[1;31m# duplicate columns & possible reduce dimensionality\u001b[0m\u001b[1;33m\u001b[0m\u001b[1;33m\u001b[0m\u001b[0m\n",
      "\u001b[1;32mC:\\Users\\dbackus\\AppData\\Local\\Continuum\\Anaconda3\\lib\\site-packages\\pandas\\core\\generic.py\u001b[0m in \u001b[0;36m_get_item_cache\u001b[1;34m(self, item)\u001b[0m\n\u001b[0;32m   1343\u001b[0m         \u001b[0mres\u001b[0m \u001b[1;33m=\u001b[0m \u001b[0mcache\u001b[0m\u001b[1;33m.\u001b[0m\u001b[0mget\u001b[0m\u001b[1;33m(\u001b[0m\u001b[0mitem\u001b[0m\u001b[1;33m)\u001b[0m\u001b[1;33m\u001b[0m\u001b[0m\n\u001b[0;32m   1344\u001b[0m         \u001b[1;32mif\u001b[0m \u001b[0mres\u001b[0m \u001b[1;32mis\u001b[0m \u001b[1;32mNone\u001b[0m\u001b[1;33m:\u001b[0m\u001b[1;33m\u001b[0m\u001b[0m\n\u001b[1;32m-> 1345\u001b[1;33m             \u001b[0mvalues\u001b[0m \u001b[1;33m=\u001b[0m \u001b[0mself\u001b[0m\u001b[1;33m.\u001b[0m\u001b[0m_data\u001b[0m\u001b[1;33m.\u001b[0m\u001b[0mget\u001b[0m\u001b[1;33m(\u001b[0m\u001b[0mitem\u001b[0m\u001b[1;33m)\u001b[0m\u001b[1;33m\u001b[0m\u001b[0m\n\u001b[0m\u001b[0;32m   1346\u001b[0m             \u001b[0mres\u001b[0m \u001b[1;33m=\u001b[0m \u001b[0mself\u001b[0m\u001b[1;33m.\u001b[0m\u001b[0m_box_item_values\u001b[0m\u001b[1;33m(\u001b[0m\u001b[0mitem\u001b[0m\u001b[1;33m,\u001b[0m \u001b[0mvalues\u001b[0m\u001b[1;33m)\u001b[0m\u001b[1;33m\u001b[0m\u001b[0m\n\u001b[0;32m   1347\u001b[0m             \u001b[0mcache\u001b[0m\u001b[1;33m[\u001b[0m\u001b[0mitem\u001b[0m\u001b[1;33m]\u001b[0m \u001b[1;33m=\u001b[0m \u001b[0mres\u001b[0m\u001b[1;33m\u001b[0m\u001b[0m\n",
      "\u001b[1;32mC:\\Users\\dbackus\\AppData\\Local\\Continuum\\Anaconda3\\lib\\site-packages\\pandas\\core\\internals.py\u001b[0m in \u001b[0;36mget\u001b[1;34m(self, item, fastpath)\u001b[0m\n\u001b[0;32m   3223\u001b[0m \u001b[1;33m\u001b[0m\u001b[0m\n\u001b[0;32m   3224\u001b[0m             \u001b[1;32mif\u001b[0m \u001b[1;32mnot\u001b[0m \u001b[0misnull\u001b[0m\u001b[1;33m(\u001b[0m\u001b[0mitem\u001b[0m\u001b[1;33m)\u001b[0m\u001b[1;33m:\u001b[0m\u001b[1;33m\u001b[0m\u001b[0m\n\u001b[1;32m-> 3225\u001b[1;33m                 \u001b[0mloc\u001b[0m \u001b[1;33m=\u001b[0m \u001b[0mself\u001b[0m\u001b[1;33m.\u001b[0m\u001b[0mitems\u001b[0m\u001b[1;33m.\u001b[0m\u001b[0mget_loc\u001b[0m\u001b[1;33m(\u001b[0m\u001b[0mitem\u001b[0m\u001b[1;33m)\u001b[0m\u001b[1;33m\u001b[0m\u001b[0m\n\u001b[0m\u001b[0;32m   3226\u001b[0m             \u001b[1;32melse\u001b[0m\u001b[1;33m:\u001b[0m\u001b[1;33m\u001b[0m\u001b[0m\n\u001b[0;32m   3227\u001b[0m                 \u001b[0mindexer\u001b[0m \u001b[1;33m=\u001b[0m \u001b[0mnp\u001b[0m\u001b[1;33m.\u001b[0m\u001b[0marange\u001b[0m\u001b[1;33m(\u001b[0m\u001b[0mlen\u001b[0m\u001b[1;33m(\u001b[0m\u001b[0mself\u001b[0m\u001b[1;33m.\u001b[0m\u001b[0mitems\u001b[0m\u001b[1;33m)\u001b[0m\u001b[1;33m)\u001b[0m\u001b[1;33m[\u001b[0m\u001b[0misnull\u001b[0m\u001b[1;33m(\u001b[0m\u001b[0mself\u001b[0m\u001b[1;33m.\u001b[0m\u001b[0mitems\u001b[0m\u001b[1;33m)\u001b[0m\u001b[1;33m]\u001b[0m\u001b[1;33m\u001b[0m\u001b[0m\n",
      "\u001b[1;32mC:\\Users\\dbackus\\AppData\\Local\\Continuum\\Anaconda3\\lib\\site-packages\\pandas\\indexes\\base.py\u001b[0m in \u001b[0;36mget_loc\u001b[1;34m(self, key, method, tolerance)\u001b[0m\n\u001b[0;32m   1876\u001b[0m                 \u001b[1;32mreturn\u001b[0m \u001b[0mself\u001b[0m\u001b[1;33m.\u001b[0m\u001b[0m_engine\u001b[0m\u001b[1;33m.\u001b[0m\u001b[0mget_loc\u001b[0m\u001b[1;33m(\u001b[0m\u001b[0mkey\u001b[0m\u001b[1;33m)\u001b[0m\u001b[1;33m\u001b[0m\u001b[0m\n\u001b[0;32m   1877\u001b[0m             \u001b[1;32mexcept\u001b[0m \u001b[0mKeyError\u001b[0m\u001b[1;33m:\u001b[0m\u001b[1;33m\u001b[0m\u001b[0m\n\u001b[1;32m-> 1878\u001b[1;33m                 \u001b[1;32mreturn\u001b[0m \u001b[0mself\u001b[0m\u001b[1;33m.\u001b[0m\u001b[0m_engine\u001b[0m\u001b[1;33m.\u001b[0m\u001b[0mget_loc\u001b[0m\u001b[1;33m(\u001b[0m\u001b[0mself\u001b[0m\u001b[1;33m.\u001b[0m\u001b[0m_maybe_cast_indexer\u001b[0m\u001b[1;33m(\u001b[0m\u001b[0mkey\u001b[0m\u001b[1;33m)\u001b[0m\u001b[1;33m)\u001b[0m\u001b[1;33m\u001b[0m\u001b[0m\n\u001b[0m\u001b[0;32m   1879\u001b[0m \u001b[1;33m\u001b[0m\u001b[0m\n\u001b[0;32m   1880\u001b[0m         \u001b[0mindexer\u001b[0m \u001b[1;33m=\u001b[0m \u001b[0mself\u001b[0m\u001b[1;33m.\u001b[0m\u001b[0mget_indexer\u001b[0m\u001b[1;33m(\u001b[0m\u001b[1;33m[\u001b[0m\u001b[0mkey\u001b[0m\u001b[1;33m]\u001b[0m\u001b[1;33m,\u001b[0m \u001b[0mmethod\u001b[0m\u001b[1;33m=\u001b[0m\u001b[0mmethod\u001b[0m\u001b[1;33m,\u001b[0m \u001b[0mtolerance\u001b[0m\u001b[1;33m=\u001b[0m\u001b[0mtolerance\u001b[0m\u001b[1;33m)\u001b[0m\u001b[1;33m\u001b[0m\u001b[0m\n",
      "\u001b[1;32mpandas\\index.pyx\u001b[0m in \u001b[0;36mpandas.index.IndexEngine.get_loc (pandas\\index.c:4027)\u001b[1;34m()\u001b[0m\n",
      "\u001b[1;32mpandas\\index.pyx\u001b[0m in \u001b[0;36mpandas.index.IndexEngine.get_loc (pandas\\index.c:3891)\u001b[1;34m()\u001b[0m\n",
      "\u001b[1;32mpandas\\hashtable.pyx\u001b[0m in \u001b[0;36mpandas.hashtable.PyObjectHashTable.get_item (pandas\\hashtable.c:12408)\u001b[1;34m()\u001b[0m\n",
      "\u001b[1;32mpandas\\hashtable.pyx\u001b[0m in \u001b[0;36mpandas.hashtable.PyObjectHashTable.get_item (pandas\\hashtable.c:12359)\u001b[1;34m()\u001b[0m\n",
      "\u001b[1;31mKeyError\u001b[0m: 'Years'"
     ]
    }
   ],
   "source": [
    "dds.pivot(index='Year', columns='Variable') "
   ]
  },
  {
   "cell_type": "code",
   "execution_count": null,
   "metadata": {
    "collapsed": true
   },
   "outputs": [],
   "source": []
  },
  {
   "cell_type": "markdown",
   "metadata": {},
   "source": [
    "**Comment.** Now use stack and unstack to org data by, first, country and, second, variable.  "
   ]
  },
  {
   "cell_type": "code",
   "execution_count": null,
   "metadata": {
    "collapsed": false
   },
   "outputs": [],
   "source": [
    "ds = dds.stack()\n",
    "ds"
   ]
  },
  {
   "cell_type": "code",
   "execution_count": null,
   "metadata": {
    "collapsed": false
   },
   "outputs": [],
   "source": [
    "dv = ds.unstack(level=['Variable', 'ISO'])\n",
    "dv"
   ]
  },
  {
   "cell_type": "code",
   "execution_count": null,
   "metadata": {
    "collapsed": false
   },
   "outputs": [],
   "source": [
    "dv['Surplus']"
   ]
  },
  {
   "cell_type": "code",
   "execution_count": null,
   "metadata": {
    "collapsed": false
   },
   "outputs": [],
   "source": [
    "dv['Surplus'].plot()"
   ]
  },
  {
   "cell_type": "code",
   "execution_count": null,
   "metadata": {
    "collapsed": true
   },
   "outputs": [],
   "source": []
  },
  {
   "cell_type": "code",
   "execution_count": null,
   "metadata": {
    "collapsed": true
   },
   "outputs": [],
   "source": []
  },
  {
   "cell_type": "code",
   "execution_count": null,
   "metadata": {
    "collapsed": false
   },
   "outputs": [],
   "source": [
    "# no go the other way\n",
    "dc = ds.unstack(level=['ISO', 'Variable'])\n",
    "dc"
   ]
  },
  {
   "cell_type": "code",
   "execution_count": null,
   "metadata": {
    "collapsed": false
   },
   "outputs": [],
   "source": [
    "dc['ARG']"
   ]
  },
  {
   "cell_type": "code",
   "execution_count": null,
   "metadata": {
    "collapsed": false
   },
   "outputs": [],
   "source": [
    "dc['ARG'].plot(subplots=True) "
   ]
  },
  {
   "cell_type": "code",
   "execution_count": null,
   "metadata": {
    "collapsed": true
   },
   "outputs": [],
   "source": []
  },
  {
   "cell_type": "code",
   "execution_count": null,
   "metadata": {
    "collapsed": true
   },
   "outputs": [],
   "source": []
  },
  {
   "cell_type": "code",
   "execution_count": null,
   "metadata": {
    "collapsed": true
   },
   "outputs": [],
   "source": []
  },
  {
   "cell_type": "code",
   "execution_count": null,
   "metadata": {
    "collapsed": true
   },
   "outputs": [],
   "source": []
  },
  {
   "cell_type": "code",
   "execution_count": null,
   "metadata": {
    "collapsed": true
   },
   "outputs": [],
   "source": []
  },
  {
   "cell_type": "code",
   "execution_count": null,
   "metadata": {
    "collapsed": true
   },
   "outputs": [],
   "source": []
  },
  {
   "cell_type": "markdown",
   "metadata": {},
   "source": [
    "**Exercise.** BDS data...  ??"
   ]
  },
  {
   "cell_type": "code",
   "execution_count": null,
   "metadata": {
    "collapsed": true
   },
   "outputs": [],
   "source": []
  },
  {
   "cell_type": "code",
   "execution_count": null,
   "metadata": {
    "collapsed": true
   },
   "outputs": [],
   "source": []
  },
  {
   "cell_type": "markdown",
   "metadata": {},
   "source": [
    "### Example:  OECD healthcare statistics \n",
    "\n",
    "The OECD collects [healthcare data](http://www.oecd.org/els/health-systems/health-data.htm) on lots of (mostly rich) countries, which is helpful in producing comparisons.  Here we use a [spreadsheet](http://www.oecd.org/health/health-systems/OECD-Health-Statistics-2015-Frequently-Requested-Data.xls) linked in one of their documents. "
   ]
  },
  {
   "cell_type": "code",
   "execution_count": 24,
   "metadata": {
    "collapsed": false
   },
   "outputs": [
    {
     "name": "stdout",
     "output_type": "stream",
     "text": [
      "Dimensions: (34, 7)\n",
      "\n",
      "Variable dtypes:\n",
      "Unnamed: 0                 object\n",
      "2010                      float64\n",
      "2011                      float64\n",
      "2012                      float64\n",
      "2013                      float64\n",
      "2014                      float64\n",
      "2013 (or nearest year)    float64\n",
      "dtype: object\n"
     ]
    },
    {
     "data": {
      "text/html": [
       "<div>\n",
       "<table border=\"1\" class=\"dataframe\">\n",
       "  <thead>\n",
       "    <tr style=\"text-align: right;\">\n",
       "      <th></th>\n",
       "      <th>Country</th>\n",
       "      <th>2010</th>\n",
       "      <th>2011</th>\n",
       "      <th>2012</th>\n",
       "      <th>2013</th>\n",
       "      <th>2014</th>\n",
       "      <th>2013 (or nearest year)</th>\n",
       "    </tr>\n",
       "  </thead>\n",
       "  <tbody>\n",
       "    <tr>\n",
       "      <th>0</th>\n",
       "      <td>Australia</td>\n",
       "      <td>NaN</td>\n",
       "      <td>3.31</td>\n",
       "      <td>3.31</td>\n",
       "      <td>3.39</td>\n",
       "      <td>NaN</td>\n",
       "      <td>3.39</td>\n",
       "    </tr>\n",
       "    <tr>\n",
       "      <th>1</th>\n",
       "      <td>Austria</td>\n",
       "      <td>4.80</td>\n",
       "      <td>4.84</td>\n",
       "      <td>4.90</td>\n",
       "      <td>4.99</td>\n",
       "      <td>NaN</td>\n",
       "      <td>4.99</td>\n",
       "    </tr>\n",
       "    <tr>\n",
       "      <th>2</th>\n",
       "      <td>Belgium</td>\n",
       "      <td>2.92</td>\n",
       "      <td>2.91</td>\n",
       "      <td>2.93</td>\n",
       "      <td>2.95</td>\n",
       "      <td>NaN</td>\n",
       "      <td>2.95</td>\n",
       "    </tr>\n",
       "    <tr>\n",
       "      <th>3</th>\n",
       "      <td>Canada</td>\n",
       "      <td>2.37</td>\n",
       "      <td>2.44</td>\n",
       "      <td>2.50</td>\n",
       "      <td>2.55</td>\n",
       "      <td>NaN</td>\n",
       "      <td>2.55</td>\n",
       "    </tr>\n",
       "    <tr>\n",
       "      <th>4</th>\n",
       "      <td>Chile</td>\n",
       "      <td>1.43</td>\n",
       "      <td>1.58</td>\n",
       "      <td>1.74</td>\n",
       "      <td>1.88</td>\n",
       "      <td>2.02</td>\n",
       "      <td>1.88</td>\n",
       "    </tr>\n",
       "  </tbody>\n",
       "</table>\n",
       "</div>"
      ],
      "text/plain": [
       "     Country  2010  2011  2012  2013  2014  2013 (or nearest year)\n",
       "0  Australia   NaN  3.31  3.31  3.39   NaN                    3.39\n",
       "1    Austria  4.80  4.84  4.90  4.99   NaN                    4.99\n",
       "2    Belgium  2.92  2.91  2.93  2.95   NaN                    2.95\n",
       "3     Canada  2.37  2.44  2.50  2.55   NaN                    2.55\n",
       "4      Chile  1.43  1.58  1.74  1.88  2.02                    1.88"
      ]
     },
     "execution_count": 24,
     "metadata": {},
     "output_type": "execute_result"
    }
   ],
   "source": [
    "url1 = 'http://www.oecd.org/health/health-systems/'\n",
    "url2 = 'OECD-Health-Statistics-2015-Frequently-Requested-Data.xls'\n",
    "docs = pd.read_excel(url1+url2, \n",
    "                     skiprows=3, \n",
    "                     usecols=[0, 51, 52, 53, 54, 55, 57],\n",
    "                     sheetname='Physicians', \n",
    "                     na_values=['..'],   # added \n",
    "                     skip_footer=21) \n",
    "print('Dimensions:', docs.shape)\n",
    "print('\\nVariable dtypes:\\n', docs.dtypes.tail(8), sep='')\n",
    "\n",
    "# change name of country variable \n",
    "names = docs.columns\n",
    "docs = docs.rename(columns={names[0]: 'Country'})\n",
    "\n",
    "# fix country variable \n",
    "# now assign it back to the variable \n",
    "docs['Country'] = docs['Country'].str.rsplit(n=1).str[0]\n",
    "\n",
    "docs.head()"
   ]
  },
  {
   "cell_type": "code",
   "execution_count": null,
   "metadata": {
    "collapsed": false
   },
   "outputs": [],
   "source": []
  }
 ],
 "metadata": {
  "kernelspec": {
   "display_name": "Python 3",
   "language": "python",
   "name": "python3"
  },
  "language_info": {
   "codemirror_mode": {
    "name": "ipython",
    "version": 3
   },
   "file_extension": ".py",
   "mimetype": "text/x-python",
   "name": "python",
   "nbconvert_exporter": "python",
   "pygments_lexer": "ipython3",
   "version": "3.5.1"
  }
 },
 "nbformat": 4,
 "nbformat_minor": 0
}
