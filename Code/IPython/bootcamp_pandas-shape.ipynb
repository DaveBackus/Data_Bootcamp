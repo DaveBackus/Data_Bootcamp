{
 "cells": [
  {
   "cell_type": "markdown",
   "metadata": {
    "collapsed": true
   },
   "source": [
    "# Pandas 3:  Shaping data  \n",
    "\n",
    "The second in a series of notebooks that describe Pandas' powerful data management tools.  This one covers shaping methods:  switching rows and columns, pivoting, and stacking.  We'll see that this is all about the indexes:  the row and column labels.  \n",
    "\n",
    "Outline:  \n",
    "\n",
    "* [Example:  WEO debt and deficits](#wants).  Something to work with.  \n",
    "* [Indexing](#index).  Setting and resetting the index.  Multi-indexes. \n",
    "* [Switching rows and columns](#pivot).  Transpose.  Referring to variables with multi-indexes.  \n",
    "* [Stack and unstack](#stack).  Managing column structure and labels.  \n",
    "* [Pivot](#pivot).  Unstack shortcut if we start with wide data. \n",
    "* [Review](#review).  Apply what we've learned.  \n",
    "\n",
    "More data management topics coming.  \n",
    "\n",
    "**Note: requires internet access to run.**  \n",
    "\n",
    "<!-- \n",
    "internal links http://sebastianraschka.com/Articles/2014_ipython_internal_links.html\n",
    "-->\n",
    "\n",
    "This IPython notebook was created by Dave Backus, Chase Coleman, and Spencer Lyon for the NYU Stern course [Data Bootcamp](http://databootcamp.nyuecon.com/).  "
   ]
  },
  {
   "cell_type": "markdown",
   "metadata": {},
   "source": [
    "<a id=prelims></a>"
   ]
  },
  {
   "cell_type": "markdown",
   "metadata": {},
   "source": [
    "## Preliminaries \n",
    "\n",
    "Import packages, etc.  "
   ]
  },
  {
   "cell_type": "code",
   "execution_count": 18,
   "metadata": {
    "collapsed": false
   },
   "outputs": [
    {
     "name": "stdout",
     "output_type": "stream",
     "text": [
      "Python version: 3.5.1 |Anaconda 4.0.0 (64-bit)| (default, Feb 16 2016, 09:49:46) [MSC v.1900 64 bit (AMD64)]\n",
      "Pandas version:  0.18.0\n",
      "Today:  2016-04-14\n"
     ]
    }
   ],
   "source": [
    "import sys                             # system module \n",
    "import pandas as pd                    # data package\n",
    "import matplotlib.pyplot as plt        # graphics module  \n",
    "import datetime as dt                  # date and time module\n",
    "import numpy as np                     # foundation for Pandas \n",
    "\n",
    "%matplotlib inline                     \n",
    "\n",
    "# check versions (overkill, but why not?)\n",
    "print('Python version:', sys.version)\n",
    "print('Pandas version: ', pd.__version__)\n",
    "print('Today: ', dt.date.today())"
   ]
  },
  {
   "cell_type": "markdown",
   "metadata": {},
   "source": [
    "<a id=wants></a>"
   ]
  },
  {
   "cell_type": "markdown",
   "metadata": {},
   "source": [
    "## Example:  WEO debt and deficits \n",
    "\n",
    "We spend most of our time on one of the examples from the previous notebook. The problem in this example is that variables run across rows, rather than down columns.  Our **want** is to flip some of the rows and columns so that we can plot the data against time.  The question is how.\n",
    "\n",
    "We use a small subset of the IMF's [World Economic Outlook database](https://www.imf.org/external/ns/cs.aspx?id=28) that contains two variables and three countries.  "
   ]
  },
  {
   "cell_type": "code",
   "execution_count": 19,
   "metadata": {
    "collapsed": false
   },
   "outputs": [
    {
     "name": "stdout",
     "output_type": "stream",
     "text": [
      "Variable dtypes:\n",
      "ISO                    object\n",
      "WEO Subject Code       object\n",
      "Country                object\n",
      "Subject Descriptor     object\n",
      "Units                  object\n",
      "2011                  float64\n",
      "2012                  float64\n",
      "2013                  float64\n",
      "dtype: object\n"
     ]
    }
   ],
   "source": [
    "url1 = 'http://www.imf.org/external/pubs/ft/weo/2015/02/weodata/'\n",
    "url2 = 'WEOOct2015all.xls'\n",
    "url = url1 + url2 \n",
    "weo = pd.read_csv(url, sep='\\t', \n",
    "                  usecols=[1,2,3,4,6,40,41,42], \n",
    "                  thousands=',', \n",
    "                  na_values=['n/a', '--']) \n",
    "print('Variable dtypes:\\n', weo.dtypes, sep='')"
   ]
  },
  {
   "cell_type": "code",
   "execution_count": 20,
   "metadata": {
    "collapsed": false
   },
   "outputs": [
    {
     "data": {
      "text/html": [
       "<div>\n",
       "<table border=\"1\" class=\"dataframe\">\n",
       "  <thead>\n",
       "    <tr style=\"text-align: right;\">\n",
       "      <th></th>\n",
       "      <th>ISO</th>\n",
       "      <th>Variable</th>\n",
       "      <th>Country</th>\n",
       "      <th>Description</th>\n",
       "      <th>Units</th>\n",
       "      <th>2011</th>\n",
       "      <th>2012</th>\n",
       "      <th>2013</th>\n",
       "    </tr>\n",
       "  </thead>\n",
       "  <tbody>\n",
       "    <tr>\n",
       "      <th>252</th>\n",
       "      <td>ARG</td>\n",
       "      <td>Surplus</td>\n",
       "      <td>Argentina</td>\n",
       "      <td>General government net lending/borrowing</td>\n",
       "      <td>Percent of GDP</td>\n",
       "      <td>-1.949</td>\n",
       "      <td>-2.359</td>\n",
       "      <td>-1.997</td>\n",
       "    </tr>\n",
       "    <tr>\n",
       "      <th>260</th>\n",
       "      <td>ARG</td>\n",
       "      <td>Debt</td>\n",
       "      <td>Argentina</td>\n",
       "      <td>General government gross debt</td>\n",
       "      <td>Percent of GDP</td>\n",
       "      <td>35.763</td>\n",
       "      <td>37.328</td>\n",
       "      <td>40.217</td>\n",
       "    </tr>\n",
       "    <tr>\n",
       "      <th>2716</th>\n",
       "      <td>DEU</td>\n",
       "      <td>Surplus</td>\n",
       "      <td>Germany</td>\n",
       "      <td>General government net lending/borrowing</td>\n",
       "      <td>Percent of GDP</td>\n",
       "      <td>-0.861</td>\n",
       "      <td>0.091</td>\n",
       "      <td>0.133</td>\n",
       "    </tr>\n",
       "    <tr>\n",
       "      <th>2724</th>\n",
       "      <td>DEU</td>\n",
       "      <td>Debt</td>\n",
       "      <td>Germany</td>\n",
       "      <td>General government gross debt</td>\n",
       "      <td>Percent of GDP</td>\n",
       "      <td>77.928</td>\n",
       "      <td>79.311</td>\n",
       "      <td>76.978</td>\n",
       "    </tr>\n",
       "    <tr>\n",
       "      <th>2804</th>\n",
       "      <td>GRC</td>\n",
       "      <td>Surplus</td>\n",
       "      <td>Greece</td>\n",
       "      <td>General government net lending/borrowing</td>\n",
       "      <td>Percent of GDP</td>\n",
       "      <td>-10.215</td>\n",
       "      <td>-6.406</td>\n",
       "      <td>-2.944</td>\n",
       "    </tr>\n",
       "    <tr>\n",
       "      <th>2812</th>\n",
       "      <td>GRC</td>\n",
       "      <td>Debt</td>\n",
       "      <td>Greece</td>\n",
       "      <td>General government gross debt</td>\n",
       "      <td>Percent of GDP</td>\n",
       "      <td>170.960</td>\n",
       "      <td>156.494</td>\n",
       "      <td>174.951</td>\n",
       "    </tr>\n",
       "  </tbody>\n",
       "</table>\n",
       "</div>"
      ],
      "text/plain": [
       "      ISO Variable    Country                               Description  \\\n",
       "252   ARG  Surplus  Argentina  General government net lending/borrowing   \n",
       "260   ARG     Debt  Argentina             General government gross debt   \n",
       "2716  DEU  Surplus    Germany  General government net lending/borrowing   \n",
       "2724  DEU     Debt    Germany             General government gross debt   \n",
       "2804  GRC  Surplus     Greece  General government net lending/borrowing   \n",
       "2812  GRC     Debt     Greece             General government gross debt   \n",
       "\n",
       "               Units     2011     2012     2013  \n",
       "252   Percent of GDP   -1.949   -2.359   -1.997  \n",
       "260   Percent of GDP   35.763   37.328   40.217  \n",
       "2716  Percent of GDP   -0.861    0.091    0.133  \n",
       "2724  Percent of GDP   77.928   79.311   76.978  \n",
       "2804  Percent of GDP  -10.215   -6.406   -2.944  \n",
       "2812  Percent of GDP  170.960  156.494  174.951  "
      ]
     },
     "execution_count": 20,
     "metadata": {},
     "output_type": "execute_result"
    }
   ],
   "source": [
    "# create debt and deficits dataframe:  two variables and three countries \n",
    "variables = ['GGXWDG_NGDP', 'GGXCNL_NGDP']\n",
    "countries = ['ARG', 'DEU', 'GRC']\n",
    "dd = weo[weo['WEO Subject Code'].isin(variables) & weo['ISO'].isin(countries)]\n",
    "\n",
    "# change column labels to something more intuitive \n",
    "dd = dd.rename(columns={'WEO Subject Code': 'Variable', \n",
    "                        'Subject Descriptor': 'Description'})\n",
    "\n",
    "# rename variables \n",
    "dd['Variable'] = dd['Variable'].replace(to_replace=['GGXWDG_NGDP', 'GGXCNL_NGDP'], \n",
    "                                        value=['Debt', 'Surplus'])\n",
    "dd"
   ]
  },
  {
   "cell_type": "code",
   "execution_count": null,
   "metadata": {
    "collapsed": true
   },
   "outputs": [],
   "source": []
  },
  {
   "cell_type": "markdown",
   "metadata": {},
   "source": [
    "### Reminders\n",
    "\n",
    "What kind of object does each of the following produce?  "
   ]
  },
  {
   "cell_type": "code",
   "execution_count": 21,
   "metadata": {
    "collapsed": false
   },
   "outputs": [
    {
     "data": {
      "text/plain": [
       "Int64Index([252, 260, 2716, 2724, 2804, 2812], dtype='int64')"
      ]
     },
     "execution_count": 21,
     "metadata": {},
     "output_type": "execute_result"
    }
   ],
   "source": [
    "dd.index"
   ]
  },
  {
   "cell_type": "code",
   "execution_count": 22,
   "metadata": {
    "collapsed": false
   },
   "outputs": [
    {
     "data": {
      "text/plain": [
       "Index(['ISO', 'Variable', 'Country', 'Description', 'Units', '2011', '2012',\n",
       "       '2013'],\n",
       "      dtype='object')"
      ]
     },
     "execution_count": 22,
     "metadata": {},
     "output_type": "execute_result"
    }
   ],
   "source": [
    "dd.columns"
   ]
  },
  {
   "cell_type": "code",
   "execution_count": 23,
   "metadata": {
    "collapsed": false
   },
   "outputs": [
    {
     "data": {
      "text/plain": [
       "252     ARG\n",
       "260     ARG\n",
       "2716    DEU\n",
       "2724    DEU\n",
       "2804    GRC\n",
       "2812    GRC\n",
       "Name: ISO, dtype: object"
      ]
     },
     "execution_count": 23,
     "metadata": {},
     "output_type": "execute_result"
    }
   ],
   "source": [
    "dd['ISO']"
   ]
  },
  {
   "cell_type": "code",
   "execution_count": 24,
   "metadata": {
    "collapsed": false
   },
   "outputs": [
    {
     "data": {
      "text/html": [
       "<div>\n",
       "<table border=\"1\" class=\"dataframe\">\n",
       "  <thead>\n",
       "    <tr style=\"text-align: right;\">\n",
       "      <th></th>\n",
       "      <th>ISO</th>\n",
       "      <th>Variable</th>\n",
       "    </tr>\n",
       "  </thead>\n",
       "  <tbody>\n",
       "    <tr>\n",
       "      <th>252</th>\n",
       "      <td>ARG</td>\n",
       "      <td>Surplus</td>\n",
       "    </tr>\n",
       "    <tr>\n",
       "      <th>260</th>\n",
       "      <td>ARG</td>\n",
       "      <td>Debt</td>\n",
       "    </tr>\n",
       "    <tr>\n",
       "      <th>2716</th>\n",
       "      <td>DEU</td>\n",
       "      <td>Surplus</td>\n",
       "    </tr>\n",
       "    <tr>\n",
       "      <th>2724</th>\n",
       "      <td>DEU</td>\n",
       "      <td>Debt</td>\n",
       "    </tr>\n",
       "    <tr>\n",
       "      <th>2804</th>\n",
       "      <td>GRC</td>\n",
       "      <td>Surplus</td>\n",
       "    </tr>\n",
       "    <tr>\n",
       "      <th>2812</th>\n",
       "      <td>GRC</td>\n",
       "      <td>Debt</td>\n",
       "    </tr>\n",
       "  </tbody>\n",
       "</table>\n",
       "</div>"
      ],
      "text/plain": [
       "      ISO Variable\n",
       "252   ARG  Surplus\n",
       "260   ARG     Debt\n",
       "2716  DEU  Surplus\n",
       "2724  DEU     Debt\n",
       "2804  GRC  Surplus\n",
       "2812  GRC     Debt"
      ]
     },
     "execution_count": 24,
     "metadata": {},
     "output_type": "execute_result"
    }
   ],
   "source": [
    "dd[['ISO', 'Variable']]"
   ]
  },
  {
   "cell_type": "code",
   "execution_count": 25,
   "metadata": {
    "collapsed": false
   },
   "outputs": [
    {
     "data": {
      "text/html": [
       "<div>\n",
       "<table border=\"1\" class=\"dataframe\">\n",
       "  <thead>\n",
       "    <tr style=\"text-align: right;\">\n",
       "      <th></th>\n",
       "      <th>ISO</th>\n",
       "      <th>Variable</th>\n",
       "      <th>Country</th>\n",
       "      <th>Description</th>\n",
       "      <th>Units</th>\n",
       "      <th>2011</th>\n",
       "      <th>2012</th>\n",
       "      <th>2013</th>\n",
       "    </tr>\n",
       "  </thead>\n",
       "  <tbody>\n",
       "    <tr>\n",
       "      <th>252</th>\n",
       "      <td>ARG</td>\n",
       "      <td>Surplus</td>\n",
       "      <td>Argentina</td>\n",
       "      <td>General government net lending/borrowing</td>\n",
       "      <td>Percent of GDP</td>\n",
       "      <td>-1.949</td>\n",
       "      <td>-2.359</td>\n",
       "      <td>-1.997</td>\n",
       "    </tr>\n",
       "    <tr>\n",
       "      <th>260</th>\n",
       "      <td>ARG</td>\n",
       "      <td>Debt</td>\n",
       "      <td>Argentina</td>\n",
       "      <td>General government gross debt</td>\n",
       "      <td>Percent of GDP</td>\n",
       "      <td>35.763</td>\n",
       "      <td>37.328</td>\n",
       "      <td>40.217</td>\n",
       "    </tr>\n",
       "  </tbody>\n",
       "</table>\n",
       "</div>"
      ],
      "text/plain": [
       "     ISO Variable    Country                               Description  \\\n",
       "252  ARG  Surplus  Argentina  General government net lending/borrowing   \n",
       "260  ARG     Debt  Argentina             General government gross debt   \n",
       "\n",
       "              Units    2011    2012    2013  \n",
       "252  Percent of GDP  -1.949  -2.359  -1.997  \n",
       "260  Percent of GDP  35.763  37.328  40.217  "
      ]
     },
     "execution_count": 25,
     "metadata": {},
     "output_type": "execute_result"
    }
   ],
   "source": [
    "dd[dd['ISO'] == 'ARG']"
   ]
  },
  {
   "cell_type": "code",
   "execution_count": null,
   "metadata": {
    "collapsed": true
   },
   "outputs": [],
   "source": []
  },
  {
   "cell_type": "markdown",
   "metadata": {},
   "source": [
    "### Wants \n",
    "\n",
    "We might imagine doing several different things with this data:\n",
    "\n",
    "* Plot a specific variable (debt or surplus) for a given date. \n",
    "* Time series plots for a specific country.\n",
    "* Time series plots for a specific variable.  \n",
    "\n",
    "Depending on which we want, we might organize the data differently.  We'll focus on the last two.  \n",
    "\n",
    "Here's a brute force approach to the problem:  simply transpose the data.  This is where that leads:  "
   ]
  },
  {
   "cell_type": "code",
   "execution_count": 26,
   "metadata": {
    "collapsed": false
   },
   "outputs": [
    {
     "data": {
      "text/html": [
       "<div>\n",
       "<table border=\"1\" class=\"dataframe\">\n",
       "  <thead>\n",
       "    <tr style=\"text-align: right;\">\n",
       "      <th></th>\n",
       "      <th>252</th>\n",
       "      <th>260</th>\n",
       "      <th>2716</th>\n",
       "      <th>2724</th>\n",
       "      <th>2804</th>\n",
       "      <th>2812</th>\n",
       "    </tr>\n",
       "  </thead>\n",
       "  <tbody>\n",
       "    <tr>\n",
       "      <th>ISO</th>\n",
       "      <td>ARG</td>\n",
       "      <td>ARG</td>\n",
       "      <td>DEU</td>\n",
       "      <td>DEU</td>\n",
       "      <td>GRC</td>\n",
       "      <td>GRC</td>\n",
       "    </tr>\n",
       "    <tr>\n",
       "      <th>Variable</th>\n",
       "      <td>Surplus</td>\n",
       "      <td>Debt</td>\n",
       "      <td>Surplus</td>\n",
       "      <td>Debt</td>\n",
       "      <td>Surplus</td>\n",
       "      <td>Debt</td>\n",
       "    </tr>\n",
       "    <tr>\n",
       "      <th>Country</th>\n",
       "      <td>Argentina</td>\n",
       "      <td>Argentina</td>\n",
       "      <td>Germany</td>\n",
       "      <td>Germany</td>\n",
       "      <td>Greece</td>\n",
       "      <td>Greece</td>\n",
       "    </tr>\n",
       "    <tr>\n",
       "      <th>Description</th>\n",
       "      <td>General government net lending/borrowing</td>\n",
       "      <td>General government gross debt</td>\n",
       "      <td>General government net lending/borrowing</td>\n",
       "      <td>General government gross debt</td>\n",
       "      <td>General government net lending/borrowing</td>\n",
       "      <td>General government gross debt</td>\n",
       "    </tr>\n",
       "    <tr>\n",
       "      <th>Units</th>\n",
       "      <td>Percent of GDP</td>\n",
       "      <td>Percent of GDP</td>\n",
       "      <td>Percent of GDP</td>\n",
       "      <td>Percent of GDP</td>\n",
       "      <td>Percent of GDP</td>\n",
       "      <td>Percent of GDP</td>\n",
       "    </tr>\n",
       "    <tr>\n",
       "      <th>2011</th>\n",
       "      <td>-1.949</td>\n",
       "      <td>35.763</td>\n",
       "      <td>-0.861</td>\n",
       "      <td>77.928</td>\n",
       "      <td>-10.215</td>\n",
       "      <td>170.96</td>\n",
       "    </tr>\n",
       "    <tr>\n",
       "      <th>2012</th>\n",
       "      <td>-2.359</td>\n",
       "      <td>37.328</td>\n",
       "      <td>0.091</td>\n",
       "      <td>79.311</td>\n",
       "      <td>-6.406</td>\n",
       "      <td>156.494</td>\n",
       "    </tr>\n",
       "    <tr>\n",
       "      <th>2013</th>\n",
       "      <td>-1.997</td>\n",
       "      <td>40.217</td>\n",
       "      <td>0.133</td>\n",
       "      <td>76.978</td>\n",
       "      <td>-2.944</td>\n",
       "      <td>174.951</td>\n",
       "    </tr>\n",
       "  </tbody>\n",
       "</table>\n",
       "</div>"
      ],
      "text/plain": [
       "                                                 252   \\\n",
       "ISO                                               ARG   \n",
       "Variable                                      Surplus   \n",
       "Country                                     Argentina   \n",
       "Description  General government net lending/borrowing   \n",
       "Units                                  Percent of GDP   \n",
       "2011                                           -1.949   \n",
       "2012                                           -2.359   \n",
       "2013                                           -1.997   \n",
       "\n",
       "                                      260   \\\n",
       "ISO                                    ARG   \n",
       "Variable                              Debt   \n",
       "Country                          Argentina   \n",
       "Description  General government gross debt   \n",
       "Units                       Percent of GDP   \n",
       "2011                                35.763   \n",
       "2012                                37.328   \n",
       "2013                                40.217   \n",
       "\n",
       "                                                 2716  \\\n",
       "ISO                                               DEU   \n",
       "Variable                                      Surplus   \n",
       "Country                                       Germany   \n",
       "Description  General government net lending/borrowing   \n",
       "Units                                  Percent of GDP   \n",
       "2011                                           -0.861   \n",
       "2012                                            0.091   \n",
       "2013                                            0.133   \n",
       "\n",
       "                                      2724  \\\n",
       "ISO                                    DEU   \n",
       "Variable                              Debt   \n",
       "Country                            Germany   \n",
       "Description  General government gross debt   \n",
       "Units                       Percent of GDP   \n",
       "2011                                77.928   \n",
       "2012                                79.311   \n",
       "2013                                76.978   \n",
       "\n",
       "                                                 2804  \\\n",
       "ISO                                               GRC   \n",
       "Variable                                      Surplus   \n",
       "Country                                        Greece   \n",
       "Description  General government net lending/borrowing   \n",
       "Units                                  Percent of GDP   \n",
       "2011                                          -10.215   \n",
       "2012                                           -6.406   \n",
       "2013                                           -2.944   \n",
       "\n",
       "                                      2812  \n",
       "ISO                                    GRC  \n",
       "Variable                              Debt  \n",
       "Country                             Greece  \n",
       "Description  General government gross debt  \n",
       "Units                       Percent of GDP  \n",
       "2011                                170.96  \n",
       "2012                               156.494  \n",
       "2013                               174.951  "
      ]
     },
     "execution_count": 26,
     "metadata": {},
     "output_type": "execute_result"
    }
   ],
   "source": [
    "dd.T"
   ]
  },
  {
   "cell_type": "markdown",
   "metadata": {
    "collapsed": true
   },
   "source": [
    "**Comments.** The problem here is that the columns include both the numbers (which we want to plot) and some descriptive information (which we don't).  "
   ]
  },
  {
   "cell_type": "code",
   "execution_count": null,
   "metadata": {
    "collapsed": true
   },
   "outputs": [],
   "source": []
  },
  {
   "cell_type": "markdown",
   "metadata": {},
   "source": [
    "<a id='index'></a>"
   ]
  },
  {
   "cell_type": "markdown",
   "metadata": {},
   "source": [
    "## Setting and resetting the index\n",
    "\n",
    "We start by setting and resetting the index.  That may sound like a step backwards -- haven't we done this already? -- but it reminds us of some things that will be handy later.  \n",
    "\n",
    "Take the dataframe `dd`.  What would we like in the index?  Evenutally we'd like the dates `[2011, 2012, 2013]`, but right now the row labels are more naturally the variable or country.  Here are some varriants.  "
   ]
  },
  {
   "cell_type": "markdown",
   "metadata": {},
   "source": [
    "### Setting the index"
   ]
  },
  {
   "cell_type": "code",
   "execution_count": 27,
   "metadata": {
    "collapsed": false
   },
   "outputs": [
    {
     "data": {
      "text/html": [
       "<div>\n",
       "<table border=\"1\" class=\"dataframe\">\n",
       "  <thead>\n",
       "    <tr style=\"text-align: right;\">\n",
       "      <th></th>\n",
       "      <th>ISO</th>\n",
       "      <th>Variable</th>\n",
       "      <th>Description</th>\n",
       "      <th>Units</th>\n",
       "      <th>2011</th>\n",
       "      <th>2012</th>\n",
       "      <th>2013</th>\n",
       "    </tr>\n",
       "    <tr>\n",
       "      <th>Country</th>\n",
       "      <th></th>\n",
       "      <th></th>\n",
       "      <th></th>\n",
       "      <th></th>\n",
       "      <th></th>\n",
       "      <th></th>\n",
       "      <th></th>\n",
       "    </tr>\n",
       "  </thead>\n",
       "  <tbody>\n",
       "    <tr>\n",
       "      <th>Argentina</th>\n",
       "      <td>ARG</td>\n",
       "      <td>Surplus</td>\n",
       "      <td>General government net lending/borrowing</td>\n",
       "      <td>Percent of GDP</td>\n",
       "      <td>-1.949</td>\n",
       "      <td>-2.359</td>\n",
       "      <td>-1.997</td>\n",
       "    </tr>\n",
       "    <tr>\n",
       "      <th>Argentina</th>\n",
       "      <td>ARG</td>\n",
       "      <td>Debt</td>\n",
       "      <td>General government gross debt</td>\n",
       "      <td>Percent of GDP</td>\n",
       "      <td>35.763</td>\n",
       "      <td>37.328</td>\n",
       "      <td>40.217</td>\n",
       "    </tr>\n",
       "    <tr>\n",
       "      <th>Germany</th>\n",
       "      <td>DEU</td>\n",
       "      <td>Surplus</td>\n",
       "      <td>General government net lending/borrowing</td>\n",
       "      <td>Percent of GDP</td>\n",
       "      <td>-0.861</td>\n",
       "      <td>0.091</td>\n",
       "      <td>0.133</td>\n",
       "    </tr>\n",
       "    <tr>\n",
       "      <th>Germany</th>\n",
       "      <td>DEU</td>\n",
       "      <td>Debt</td>\n",
       "      <td>General government gross debt</td>\n",
       "      <td>Percent of GDP</td>\n",
       "      <td>77.928</td>\n",
       "      <td>79.311</td>\n",
       "      <td>76.978</td>\n",
       "    </tr>\n",
       "    <tr>\n",
       "      <th>Greece</th>\n",
       "      <td>GRC</td>\n",
       "      <td>Surplus</td>\n",
       "      <td>General government net lending/borrowing</td>\n",
       "      <td>Percent of GDP</td>\n",
       "      <td>-10.215</td>\n",
       "      <td>-6.406</td>\n",
       "      <td>-2.944</td>\n",
       "    </tr>\n",
       "    <tr>\n",
       "      <th>Greece</th>\n",
       "      <td>GRC</td>\n",
       "      <td>Debt</td>\n",
       "      <td>General government gross debt</td>\n",
       "      <td>Percent of GDP</td>\n",
       "      <td>170.960</td>\n",
       "      <td>156.494</td>\n",
       "      <td>174.951</td>\n",
       "    </tr>\n",
       "  </tbody>\n",
       "</table>\n",
       "</div>"
      ],
      "text/plain": [
       "           ISO Variable                               Description  \\\n",
       "Country                                                             \n",
       "Argentina  ARG  Surplus  General government net lending/borrowing   \n",
       "Argentina  ARG     Debt             General government gross debt   \n",
       "Germany    DEU  Surplus  General government net lending/borrowing   \n",
       "Germany    DEU     Debt             General government gross debt   \n",
       "Greece     GRC  Surplus  General government net lending/borrowing   \n",
       "Greece     GRC     Debt             General government gross debt   \n",
       "\n",
       "                    Units     2011     2012     2013  \n",
       "Country                                               \n",
       "Argentina  Percent of GDP   -1.949   -2.359   -1.997  \n",
       "Argentina  Percent of GDP   35.763   37.328   40.217  \n",
       "Germany    Percent of GDP   -0.861    0.091    0.133  \n",
       "Germany    Percent of GDP   77.928   79.311   76.978  \n",
       "Greece     Percent of GDP  -10.215   -6.406   -2.944  \n",
       "Greece     Percent of GDP  170.960  156.494  174.951  "
      ]
     },
     "execution_count": 27,
     "metadata": {},
     "output_type": "execute_result"
    }
   ],
   "source": [
    "dd.set_index('Country')"
   ]
  },
  {
   "cell_type": "code",
   "execution_count": 28,
   "metadata": {
    "collapsed": false
   },
   "outputs": [
    {
     "data": {
      "text/html": [
       "<div>\n",
       "<table border=\"1\" class=\"dataframe\">\n",
       "  <thead>\n",
       "    <tr style=\"text-align: right;\">\n",
       "      <th></th>\n",
       "      <th>ISO</th>\n",
       "      <th>Variable</th>\n",
       "      <th>Description</th>\n",
       "      <th>Units</th>\n",
       "      <th>2011</th>\n",
       "      <th>2012</th>\n",
       "      <th>2013</th>\n",
       "    </tr>\n",
       "    <tr>\n",
       "      <th>Country</th>\n",
       "      <th></th>\n",
       "      <th></th>\n",
       "      <th></th>\n",
       "      <th></th>\n",
       "      <th></th>\n",
       "      <th></th>\n",
       "      <th></th>\n",
       "    </tr>\n",
       "  </thead>\n",
       "  <tbody>\n",
       "    <tr>\n",
       "      <th>Argentina</th>\n",
       "      <td>ARG</td>\n",
       "      <td>Surplus</td>\n",
       "      <td>General government net lending/borrowing</td>\n",
       "      <td>Percent of GDP</td>\n",
       "      <td>-1.949</td>\n",
       "      <td>-2.359</td>\n",
       "      <td>-1.997</td>\n",
       "    </tr>\n",
       "    <tr>\n",
       "      <th>Argentina</th>\n",
       "      <td>ARG</td>\n",
       "      <td>Debt</td>\n",
       "      <td>General government gross debt</td>\n",
       "      <td>Percent of GDP</td>\n",
       "      <td>35.763</td>\n",
       "      <td>37.328</td>\n",
       "      <td>40.217</td>\n",
       "    </tr>\n",
       "    <tr>\n",
       "      <th>Germany</th>\n",
       "      <td>DEU</td>\n",
       "      <td>Surplus</td>\n",
       "      <td>General government net lending/borrowing</td>\n",
       "      <td>Percent of GDP</td>\n",
       "      <td>-0.861</td>\n",
       "      <td>0.091</td>\n",
       "      <td>0.133</td>\n",
       "    </tr>\n",
       "    <tr>\n",
       "      <th>Germany</th>\n",
       "      <td>DEU</td>\n",
       "      <td>Debt</td>\n",
       "      <td>General government gross debt</td>\n",
       "      <td>Percent of GDP</td>\n",
       "      <td>77.928</td>\n",
       "      <td>79.311</td>\n",
       "      <td>76.978</td>\n",
       "    </tr>\n",
       "    <tr>\n",
       "      <th>Greece</th>\n",
       "      <td>GRC</td>\n",
       "      <td>Surplus</td>\n",
       "      <td>General government net lending/borrowing</td>\n",
       "      <td>Percent of GDP</td>\n",
       "      <td>-10.215</td>\n",
       "      <td>-6.406</td>\n",
       "      <td>-2.944</td>\n",
       "    </tr>\n",
       "    <tr>\n",
       "      <th>Greece</th>\n",
       "      <td>GRC</td>\n",
       "      <td>Debt</td>\n",
       "      <td>General government gross debt</td>\n",
       "      <td>Percent of GDP</td>\n",
       "      <td>170.960</td>\n",
       "      <td>156.494</td>\n",
       "      <td>174.951</td>\n",
       "    </tr>\n",
       "  </tbody>\n",
       "</table>\n",
       "</div>"
      ],
      "text/plain": [
       "           ISO Variable                               Description  \\\n",
       "Country                                                             \n",
       "Argentina  ARG  Surplus  General government net lending/borrowing   \n",
       "Argentina  ARG     Debt             General government gross debt   \n",
       "Germany    DEU  Surplus  General government net lending/borrowing   \n",
       "Germany    DEU     Debt             General government gross debt   \n",
       "Greece     GRC  Surplus  General government net lending/borrowing   \n",
       "Greece     GRC     Debt             General government gross debt   \n",
       "\n",
       "                    Units     2011     2012     2013  \n",
       "Country                                               \n",
       "Argentina  Percent of GDP   -1.949   -2.359   -1.997  \n",
       "Argentina  Percent of GDP   35.763   37.328   40.217  \n",
       "Germany    Percent of GDP   -0.861    0.091    0.133  \n",
       "Germany    Percent of GDP   77.928   79.311   76.978  \n",
       "Greece     Percent of GDP  -10.215   -6.406   -2.944  \n",
       "Greece     Percent of GDP  170.960  156.494  174.951  "
      ]
     },
     "execution_count": 28,
     "metadata": {},
     "output_type": "execute_result"
    }
   ],
   "source": [
    "# we can do the same thing with a list, which will be meaningful soon...\n",
    "dd.set_index(['Country'])"
   ]
  },
  {
   "cell_type": "markdown",
   "metadata": {},
   "source": [
    "**Exercise.** Set `Variable` as the index.  "
   ]
  },
  {
   "cell_type": "code",
   "execution_count": null,
   "metadata": {
    "collapsed": true
   },
   "outputs": [],
   "source": []
  },
  {
   "cell_type": "markdown",
   "metadata": {},
   "source": [
    "**Comment.** Note that the new index brought its **name** along:  `Country` in the two examples, `Variable` in the exercise.  That's incredibly useful because we can refer to index levels by name.  If we happen to have an index without a name, we can set it with \n",
    "\n",
    "```python\n",
    "df.index.name = 'Whatever name we like'\n",
    "```"
   ]
  },
  {
   "cell_type": "markdown",
   "metadata": {},
   "source": [
    "### Multi-indexes\n",
    "\n",
    "We can put more than one variable in an index, which gives us a **multi-index**.  This is sometimes called a **hierarchical index** because the **levels** of the index (as they're called) are ordered. \n",
    "\n",
    "Multi-indexes are more common than you might think.  One reason is that data itself is often multi-dimensional.  A typical spreadsheet has two dimensions:  the variable and the observation.  The WEO data is naturally three dimensional:  the variable, the year, and the country.  (Think about that for a minute, it's deeper than it sounds.) \n",
    "\n",
    "The problem we're having is fitting this nicely into two dimensions.  A multi-index allows us to manage that.  A two-dimensional index would work here -- the country and the variable code -- but right now we have some redundancy.  "
   ]
  },
  {
   "cell_type": "markdown",
   "metadata": {},
   "source": [
    "**Example.** We push all the descriptive, non-numerical columns into the index, leaving the dataframe itself with only numbers, which seems like a step in thee right direction.  "
   ]
  },
  {
   "cell_type": "code",
   "execution_count": 29,
   "metadata": {
    "collapsed": false
   },
   "outputs": [
    {
     "data": {
      "text/html": [
       "<div>\n",
       "<table border=\"1\" class=\"dataframe\">\n",
       "  <thead>\n",
       "    <tr style=\"text-align: right;\">\n",
       "      <th></th>\n",
       "      <th></th>\n",
       "      <th></th>\n",
       "      <th></th>\n",
       "      <th></th>\n",
       "      <th>2011</th>\n",
       "      <th>2012</th>\n",
       "      <th>2013</th>\n",
       "    </tr>\n",
       "    <tr>\n",
       "      <th>Variable</th>\n",
       "      <th>Country</th>\n",
       "      <th>ISO</th>\n",
       "      <th>Description</th>\n",
       "      <th>Units</th>\n",
       "      <th></th>\n",
       "      <th></th>\n",
       "      <th></th>\n",
       "    </tr>\n",
       "  </thead>\n",
       "  <tbody>\n",
       "    <tr>\n",
       "      <th>Surplus</th>\n",
       "      <th>Argentina</th>\n",
       "      <th>ARG</th>\n",
       "      <th>General government net lending/borrowing</th>\n",
       "      <th>Percent of GDP</th>\n",
       "      <td>-1.949</td>\n",
       "      <td>-2.359</td>\n",
       "      <td>-1.997</td>\n",
       "    </tr>\n",
       "    <tr>\n",
       "      <th>Debt</th>\n",
       "      <th>Argentina</th>\n",
       "      <th>ARG</th>\n",
       "      <th>General government gross debt</th>\n",
       "      <th>Percent of GDP</th>\n",
       "      <td>35.763</td>\n",
       "      <td>37.328</td>\n",
       "      <td>40.217</td>\n",
       "    </tr>\n",
       "    <tr>\n",
       "      <th>Surplus</th>\n",
       "      <th>Germany</th>\n",
       "      <th>DEU</th>\n",
       "      <th>General government net lending/borrowing</th>\n",
       "      <th>Percent of GDP</th>\n",
       "      <td>-0.861</td>\n",
       "      <td>0.091</td>\n",
       "      <td>0.133</td>\n",
       "    </tr>\n",
       "    <tr>\n",
       "      <th>Debt</th>\n",
       "      <th>Germany</th>\n",
       "      <th>DEU</th>\n",
       "      <th>General government gross debt</th>\n",
       "      <th>Percent of GDP</th>\n",
       "      <td>77.928</td>\n",
       "      <td>79.311</td>\n",
       "      <td>76.978</td>\n",
       "    </tr>\n",
       "    <tr>\n",
       "      <th>Surplus</th>\n",
       "      <th>Greece</th>\n",
       "      <th>GRC</th>\n",
       "      <th>General government net lending/borrowing</th>\n",
       "      <th>Percent of GDP</th>\n",
       "      <td>-10.215</td>\n",
       "      <td>-6.406</td>\n",
       "      <td>-2.944</td>\n",
       "    </tr>\n",
       "    <tr>\n",
       "      <th>Debt</th>\n",
       "      <th>Greece</th>\n",
       "      <th>GRC</th>\n",
       "      <th>General government gross debt</th>\n",
       "      <th>Percent of GDP</th>\n",
       "      <td>170.960</td>\n",
       "      <td>156.494</td>\n",
       "      <td>174.951</td>\n",
       "    </tr>\n",
       "  </tbody>\n",
       "</table>\n",
       "</div>"
      ],
      "text/plain": [
       "                                                                                   2011  \\\n",
       "Variable Country   ISO Description                              Units                     \n",
       "Surplus  Argentina ARG General government net lending/borrowing Percent of GDP   -1.949   \n",
       "Debt     Argentina ARG General government gross debt            Percent of GDP   35.763   \n",
       "Surplus  Germany   DEU General government net lending/borrowing Percent of GDP   -0.861   \n",
       "Debt     Germany   DEU General government gross debt            Percent of GDP   77.928   \n",
       "Surplus  Greece    GRC General government net lending/borrowing Percent of GDP  -10.215   \n",
       "Debt     Greece    GRC General government gross debt            Percent of GDP  170.960   \n",
       "\n",
       "                                                                                   2012  \\\n",
       "Variable Country   ISO Description                              Units                     \n",
       "Surplus  Argentina ARG General government net lending/borrowing Percent of GDP   -2.359   \n",
       "Debt     Argentina ARG General government gross debt            Percent of GDP   37.328   \n",
       "Surplus  Germany   DEU General government net lending/borrowing Percent of GDP    0.091   \n",
       "Debt     Germany   DEU General government gross debt            Percent of GDP   79.311   \n",
       "Surplus  Greece    GRC General government net lending/borrowing Percent of GDP   -6.406   \n",
       "Debt     Greece    GRC General government gross debt            Percent of GDP  156.494   \n",
       "\n",
       "                                                                                   2013  \n",
       "Variable Country   ISO Description                              Units                    \n",
       "Surplus  Argentina ARG General government net lending/borrowing Percent of GDP   -1.997  \n",
       "Debt     Argentina ARG General government gross debt            Percent of GDP   40.217  \n",
       "Surplus  Germany   DEU General government net lending/borrowing Percent of GDP    0.133  \n",
       "Debt     Germany   DEU General government gross debt            Percent of GDP   76.978  \n",
       "Surplus  Greece    GRC General government net lending/borrowing Percent of GDP   -2.944  \n",
       "Debt     Greece    GRC General government gross debt            Percent of GDP  174.951  "
      ]
     },
     "execution_count": 29,
     "metadata": {},
     "output_type": "execute_result"
    }
   ],
   "source": [
    "ddi = dd.set_index(['Variable', 'Country', 'ISO', 'Description', 'Units'])\n",
    "ddi"
   ]
  },
  {
   "cell_type": "markdown",
   "metadata": {},
   "source": [
    "Let's take a closer look at the index"
   ]
  },
  {
   "cell_type": "code",
   "execution_count": 30,
   "metadata": {
    "collapsed": false
   },
   "outputs": [
    {
     "data": {
      "text/plain": [
       "MultiIndex(levels=[['Debt', 'Surplus'], ['Argentina', 'Germany', 'Greece'], ['ARG', 'DEU', 'GRC'], ['General government gross debt', 'General government net lending/borrowing'], ['Percent of GDP']],\n",
       "           labels=[[1, 0, 1, 0, 1, 0], [0, 0, 1, 1, 2, 2], [0, 0, 1, 1, 2, 2], [1, 0, 1, 0, 1, 0], [0, 0, 0, 0, 0, 0]],\n",
       "           names=['Variable', 'Country', 'ISO', 'Description', 'Units'])"
      ]
     },
     "execution_count": 30,
     "metadata": {},
     "output_type": "execute_result"
    }
   ],
   "source": [
    "ddi.index"
   ]
  },
  {
   "cell_type": "markdown",
   "metadata": {},
   "source": [
    "That's a lot to process, so we break it into pieces.  \n",
    "\n",
    "* `ddi.index.names` contains a list of level names.  (Remind yourself that lists are ordered, so this tracks levels.)\n",
    "* `ddi.index.levels` contains the values in each level.  \n",
    "\n",
    "Here's what they like like here:  "
   ]
  },
  {
   "cell_type": "code",
   "execution_count": 31,
   "metadata": {
    "collapsed": false
   },
   "outputs": [
    {
     "name": "stdout",
     "output_type": "stream",
     "text": [
      "The level names are:\n",
      "['Variable', 'Country', 'ISO', 'Description', 'Units']\n",
      "\n",
      "The levels (aka level values) are:\n",
      "[['Debt', 'Surplus'], ['Argentina', 'Germany', 'Greece'], ['ARG', 'DEU', 'GRC'], ['General government gross debt', 'General government net lending/borrowing'], ['Percent of GDP']]\n"
     ]
    }
   ],
   "source": [
    "# Chase and Spencer like double quotes \n",
    "print(\"The level names are:\\n\", ddi.index.names, \"\\n\", sep=\"\")\n",
    "print(\"The levels (aka level values) are:\\n\", ddi.index.levels, sep=\"\")"
   ]
  },
  {
   "cell_type": "markdown",
   "metadata": {},
   "source": [
    "Knowing the order of the index components and being able to inspect their values and names is fundamental to working with a multi-index."
   ]
  },
  {
   "cell_type": "markdown",
   "metadata": {},
   "source": [
    "### Resetting the index\n",
    "\n",
    "We've seen that `set_index` pushes columns into the index.  Here we see that `reset_index` does the reverse:  it pushes components of the index back to the columns.  \n",
    "\n",
    "**Example.** "
   ]
  },
  {
   "cell_type": "code",
   "execution_count": 32,
   "metadata": {
    "collapsed": false
   },
   "outputs": [
    {
     "data": {
      "text/html": [
       "<div>\n",
       "<table border=\"1\" class=\"dataframe\">\n",
       "  <thead>\n",
       "    <tr style=\"text-align: right;\">\n",
       "      <th></th>\n",
       "      <th></th>\n",
       "      <th></th>\n",
       "      <th></th>\n",
       "      <th></th>\n",
       "      <th>2011</th>\n",
       "      <th>2012</th>\n",
       "      <th>2013</th>\n",
       "    </tr>\n",
       "    <tr>\n",
       "      <th>Variable</th>\n",
       "      <th>Country</th>\n",
       "      <th>ISO</th>\n",
       "      <th>Description</th>\n",
       "      <th>Units</th>\n",
       "      <th></th>\n",
       "      <th></th>\n",
       "      <th></th>\n",
       "    </tr>\n",
       "  </thead>\n",
       "  <tbody>\n",
       "    <tr>\n",
       "      <th>Surplus</th>\n",
       "      <th>Argentina</th>\n",
       "      <th>ARG</th>\n",
       "      <th>General government net lending/borrowing</th>\n",
       "      <th>Percent of GDP</th>\n",
       "      <td>-1.949</td>\n",
       "      <td>-2.359</td>\n",
       "      <td>-1.997</td>\n",
       "    </tr>\n",
       "    <tr>\n",
       "      <th>Debt</th>\n",
       "      <th>Argentina</th>\n",
       "      <th>ARG</th>\n",
       "      <th>General government gross debt</th>\n",
       "      <th>Percent of GDP</th>\n",
       "      <td>35.763</td>\n",
       "      <td>37.328</td>\n",
       "      <td>40.217</td>\n",
       "    </tr>\n",
       "  </tbody>\n",
       "</table>\n",
       "</div>"
      ],
      "text/plain": [
       "                                                                                  2011  \\\n",
       "Variable Country   ISO Description                              Units                    \n",
       "Surplus  Argentina ARG General government net lending/borrowing Percent of GDP  -1.949   \n",
       "Debt     Argentina ARG General government gross debt            Percent of GDP  35.763   \n",
       "\n",
       "                                                                                  2012  \\\n",
       "Variable Country   ISO Description                              Units                    \n",
       "Surplus  Argentina ARG General government net lending/borrowing Percent of GDP  -2.359   \n",
       "Debt     Argentina ARG General government gross debt            Percent of GDP  37.328   \n",
       "\n",
       "                                                                                  2013  \n",
       "Variable Country   ISO Description                              Units                   \n",
       "Surplus  Argentina ARG General government net lending/borrowing Percent of GDP  -1.997  \n",
       "Debt     Argentina ARG General government gross debt            Percent of GDP  40.217  "
      ]
     },
     "execution_count": 32,
     "metadata": {},
     "output_type": "execute_result"
    }
   ],
   "source": [
    "ddi.head(2)"
   ]
  },
  {
   "cell_type": "code",
   "execution_count": 33,
   "metadata": {
    "collapsed": false
   },
   "outputs": [
    {
     "data": {
      "text/html": [
       "<div>\n",
       "<table border=\"1\" class=\"dataframe\">\n",
       "  <thead>\n",
       "    <tr style=\"text-align: right;\">\n",
       "      <th></th>\n",
       "      <th>Variable</th>\n",
       "      <th>Country</th>\n",
       "      <th>ISO</th>\n",
       "      <th>Description</th>\n",
       "      <th>Units</th>\n",
       "      <th>2011</th>\n",
       "      <th>2012</th>\n",
       "      <th>2013</th>\n",
       "    </tr>\n",
       "  </thead>\n",
       "  <tbody>\n",
       "    <tr>\n",
       "      <th>0</th>\n",
       "      <td>Surplus</td>\n",
       "      <td>Argentina</td>\n",
       "      <td>ARG</td>\n",
       "      <td>General government net lending/borrowing</td>\n",
       "      <td>Percent of GDP</td>\n",
       "      <td>-1.949</td>\n",
       "      <td>-2.359</td>\n",
       "      <td>-1.997</td>\n",
       "    </tr>\n",
       "    <tr>\n",
       "      <th>1</th>\n",
       "      <td>Debt</td>\n",
       "      <td>Argentina</td>\n",
       "      <td>ARG</td>\n",
       "      <td>General government gross debt</td>\n",
       "      <td>Percent of GDP</td>\n",
       "      <td>35.763</td>\n",
       "      <td>37.328</td>\n",
       "      <td>40.217</td>\n",
       "    </tr>\n",
       "    <tr>\n",
       "      <th>2</th>\n",
       "      <td>Surplus</td>\n",
       "      <td>Germany</td>\n",
       "      <td>DEU</td>\n",
       "      <td>General government net lending/borrowing</td>\n",
       "      <td>Percent of GDP</td>\n",
       "      <td>-0.861</td>\n",
       "      <td>0.091</td>\n",
       "      <td>0.133</td>\n",
       "    </tr>\n",
       "    <tr>\n",
       "      <th>3</th>\n",
       "      <td>Debt</td>\n",
       "      <td>Germany</td>\n",
       "      <td>DEU</td>\n",
       "      <td>General government gross debt</td>\n",
       "      <td>Percent of GDP</td>\n",
       "      <td>77.928</td>\n",
       "      <td>79.311</td>\n",
       "      <td>76.978</td>\n",
       "    </tr>\n",
       "    <tr>\n",
       "      <th>4</th>\n",
       "      <td>Surplus</td>\n",
       "      <td>Greece</td>\n",
       "      <td>GRC</td>\n",
       "      <td>General government net lending/borrowing</td>\n",
       "      <td>Percent of GDP</td>\n",
       "      <td>-10.215</td>\n",
       "      <td>-6.406</td>\n",
       "      <td>-2.944</td>\n",
       "    </tr>\n",
       "    <tr>\n",
       "      <th>5</th>\n",
       "      <td>Debt</td>\n",
       "      <td>Greece</td>\n",
       "      <td>GRC</td>\n",
       "      <td>General government gross debt</td>\n",
       "      <td>Percent of GDP</td>\n",
       "      <td>170.960</td>\n",
       "      <td>156.494</td>\n",
       "      <td>174.951</td>\n",
       "    </tr>\n",
       "  </tbody>\n",
       "</table>\n",
       "</div>"
      ],
      "text/plain": [
       "  Variable    Country  ISO                               Description  \\\n",
       "0  Surplus  Argentina  ARG  General government net lending/borrowing   \n",
       "1     Debt  Argentina  ARG             General government gross debt   \n",
       "2  Surplus    Germany  DEU  General government net lending/borrowing   \n",
       "3     Debt    Germany  DEU             General government gross debt   \n",
       "4  Surplus     Greece  GRC  General government net lending/borrowing   \n",
       "5     Debt     Greece  GRC             General government gross debt   \n",
       "\n",
       "            Units     2011     2012     2013  \n",
       "0  Percent of GDP   -1.949   -2.359   -1.997  \n",
       "1  Percent of GDP   35.763   37.328   40.217  \n",
       "2  Percent of GDP   -0.861    0.091    0.133  \n",
       "3  Percent of GDP   77.928   79.311   76.978  \n",
       "4  Percent of GDP  -10.215   -6.406   -2.944  \n",
       "5  Percent of GDP  170.960  156.494  174.951  "
      ]
     },
     "execution_count": 33,
     "metadata": {},
     "output_type": "execute_result"
    }
   ],
   "source": [
    "ddi.reset_index()"
   ]
  },
  {
   "cell_type": "code",
   "execution_count": 34,
   "metadata": {
    "collapsed": false
   },
   "outputs": [
    {
     "data": {
      "text/html": [
       "<div>\n",
       "<table border=\"1\" class=\"dataframe\">\n",
       "  <thead>\n",
       "    <tr style=\"text-align: right;\">\n",
       "      <th></th>\n",
       "      <th></th>\n",
       "      <th></th>\n",
       "      <th></th>\n",
       "      <th>Country</th>\n",
       "      <th>2011</th>\n",
       "      <th>2012</th>\n",
       "      <th>2013</th>\n",
       "    </tr>\n",
       "    <tr>\n",
       "      <th>Variable</th>\n",
       "      <th>ISO</th>\n",
       "      <th>Description</th>\n",
       "      <th>Units</th>\n",
       "      <th></th>\n",
       "      <th></th>\n",
       "      <th></th>\n",
       "      <th></th>\n",
       "    </tr>\n",
       "  </thead>\n",
       "  <tbody>\n",
       "    <tr>\n",
       "      <th>Surplus</th>\n",
       "      <th>ARG</th>\n",
       "      <th>General government net lending/borrowing</th>\n",
       "      <th>Percent of GDP</th>\n",
       "      <td>Argentina</td>\n",
       "      <td>-1.949</td>\n",
       "      <td>-2.359</td>\n",
       "      <td>-1.997</td>\n",
       "    </tr>\n",
       "    <tr>\n",
       "      <th>Debt</th>\n",
       "      <th>ARG</th>\n",
       "      <th>General government gross debt</th>\n",
       "      <th>Percent of GDP</th>\n",
       "      <td>Argentina</td>\n",
       "      <td>35.763</td>\n",
       "      <td>37.328</td>\n",
       "      <td>40.217</td>\n",
       "    </tr>\n",
       "  </tbody>\n",
       "</table>\n",
       "</div>"
      ],
      "text/plain": [
       "                                                                        Country  \\\n",
       "Variable ISO Description                              Units                       \n",
       "Surplus  ARG General government net lending/borrowing Percent of GDP  Argentina   \n",
       "Debt     ARG General government gross debt            Percent of GDP  Argentina   \n",
       "\n",
       "                                                                        2011  \\\n",
       "Variable ISO Description                              Units                    \n",
       "Surplus  ARG General government net lending/borrowing Percent of GDP  -1.949   \n",
       "Debt     ARG General government gross debt            Percent of GDP  35.763   \n",
       "\n",
       "                                                                        2012  \\\n",
       "Variable ISO Description                              Units                    \n",
       "Surplus  ARG General government net lending/borrowing Percent of GDP  -2.359   \n",
       "Debt     ARG General government gross debt            Percent of GDP  37.328   \n",
       "\n",
       "                                                                        2013  \n",
       "Variable ISO Description                              Units                   \n",
       "Surplus  ARG General government net lending/borrowing Percent of GDP  -1.997  \n",
       "Debt     ARG General government gross debt            Percent of GDP  40.217  "
      ]
     },
     "execution_count": 34,
     "metadata": {},
     "output_type": "execute_result"
    }
   ],
   "source": [
    "# or we can reset the index by level \n",
    "ddi.reset_index(level=1).head(2) "
   ]
  },
  {
   "cell_type": "code",
   "execution_count": 35,
   "metadata": {
    "collapsed": false
   },
   "outputs": [
    {
     "data": {
      "text/html": [
       "<div>\n",
       "<table border=\"1\" class=\"dataframe\">\n",
       "  <thead>\n",
       "    <tr style=\"text-align: right;\">\n",
       "      <th></th>\n",
       "      <th></th>\n",
       "      <th></th>\n",
       "      <th></th>\n",
       "      <th>Country</th>\n",
       "      <th>2011</th>\n",
       "      <th>2012</th>\n",
       "      <th>2013</th>\n",
       "    </tr>\n",
       "    <tr>\n",
       "      <th>Variable</th>\n",
       "      <th>ISO</th>\n",
       "      <th>Description</th>\n",
       "      <th>Units</th>\n",
       "      <th></th>\n",
       "      <th></th>\n",
       "      <th></th>\n",
       "      <th></th>\n",
       "    </tr>\n",
       "  </thead>\n",
       "  <tbody>\n",
       "    <tr>\n",
       "      <th>Surplus</th>\n",
       "      <th>ARG</th>\n",
       "      <th>General government net lending/borrowing</th>\n",
       "      <th>Percent of GDP</th>\n",
       "      <td>Argentina</td>\n",
       "      <td>-1.949</td>\n",
       "      <td>-2.359</td>\n",
       "      <td>-1.997</td>\n",
       "    </tr>\n",
       "    <tr>\n",
       "      <th>Debt</th>\n",
       "      <th>ARG</th>\n",
       "      <th>General government gross debt</th>\n",
       "      <th>Percent of GDP</th>\n",
       "      <td>Argentina</td>\n",
       "      <td>35.763</td>\n",
       "      <td>37.328</td>\n",
       "      <td>40.217</td>\n",
       "    </tr>\n",
       "  </tbody>\n",
       "</table>\n",
       "</div>"
      ],
      "text/plain": [
       "                                                                        Country  \\\n",
       "Variable ISO Description                              Units                       \n",
       "Surplus  ARG General government net lending/borrowing Percent of GDP  Argentina   \n",
       "Debt     ARG General government gross debt            Percent of GDP  Argentina   \n",
       "\n",
       "                                                                        2011  \\\n",
       "Variable ISO Description                              Units                    \n",
       "Surplus  ARG General government net lending/borrowing Percent of GDP  -1.949   \n",
       "Debt     ARG General government gross debt            Percent of GDP  35.763   \n",
       "\n",
       "                                                                        2012  \\\n",
       "Variable ISO Description                              Units                    \n",
       "Surplus  ARG General government net lending/borrowing Percent of GDP  -2.359   \n",
       "Debt     ARG General government gross debt            Percent of GDP  37.328   \n",
       "\n",
       "                                                                        2013  \n",
       "Variable ISO Description                              Units                   \n",
       "Surplus  ARG General government net lending/borrowing Percent of GDP  -1.997  \n",
       "Debt     ARG General government gross debt            Percent of GDP  40.217  "
      ]
     },
     "execution_count": 35,
     "metadata": {},
     "output_type": "execute_result"
    }
   ],
   "source": [
    "# or by name \n",
    "ddi.reset_index(level='Country').head(2) "
   ]
  },
  {
   "cell_type": "code",
   "execution_count": 36,
   "metadata": {
    "collapsed": false,
    "scrolled": true
   },
   "outputs": [
    {
     "data": {
      "text/html": [
       "<div>\n",
       "<table border=\"1\" class=\"dataframe\">\n",
       "  <thead>\n",
       "    <tr style=\"text-align: right;\">\n",
       "      <th></th>\n",
       "      <th></th>\n",
       "      <th></th>\n",
       "      <th>Country</th>\n",
       "      <th>Description</th>\n",
       "      <th>2011</th>\n",
       "      <th>2012</th>\n",
       "      <th>2013</th>\n",
       "    </tr>\n",
       "    <tr>\n",
       "      <th>Variable</th>\n",
       "      <th>ISO</th>\n",
       "      <th>Units</th>\n",
       "      <th></th>\n",
       "      <th></th>\n",
       "      <th></th>\n",
       "      <th></th>\n",
       "      <th></th>\n",
       "    </tr>\n",
       "  </thead>\n",
       "  <tbody>\n",
       "    <tr>\n",
       "      <th>Surplus</th>\n",
       "      <th>ARG</th>\n",
       "      <th>Percent of GDP</th>\n",
       "      <td>Argentina</td>\n",
       "      <td>General government net lending/borrowing</td>\n",
       "      <td>-1.949</td>\n",
       "      <td>-2.359</td>\n",
       "      <td>-1.997</td>\n",
       "    </tr>\n",
       "    <tr>\n",
       "      <th>Debt</th>\n",
       "      <th>ARG</th>\n",
       "      <th>Percent of GDP</th>\n",
       "      <td>Argentina</td>\n",
       "      <td>General government gross debt</td>\n",
       "      <td>35.763</td>\n",
       "      <td>37.328</td>\n",
       "      <td>40.217</td>\n",
       "    </tr>\n",
       "  </tbody>\n",
       "</table>\n",
       "</div>"
      ],
      "text/plain": [
       "                               Country  \\\n",
       "Variable ISO Units                       \n",
       "Surplus  ARG Percent of GDP  Argentina   \n",
       "Debt     ARG Percent of GDP  Argentina   \n",
       "\n",
       "                                                          Description    2011  \\\n",
       "Variable ISO Units                                                              \n",
       "Surplus  ARG Percent of GDP  General government net lending/borrowing  -1.949   \n",
       "Debt     ARG Percent of GDP             General government gross debt  35.763   \n",
       "\n",
       "                               2012    2013  \n",
       "Variable ISO Units                           \n",
       "Surplus  ARG Percent of GDP  -2.359  -1.997  \n",
       "Debt     ARG Percent of GDP  37.328  40.217  "
      ]
     },
     "execution_count": 36,
     "metadata": {},
     "output_type": "execute_result"
    }
   ],
   "source": [
    "# or do more than one at a time\n",
    "ddi.reset_index(level=[1,3]).head(2)"
   ]
  },
  {
   "cell_type": "markdown",
   "metadata": {
    "collapsed": false
   },
   "source": [
    "**Comment.** By default, `reset_index` pushes one or more index levels into columns.  If we want to discard that level of the index altogether, we use the parameter `drop=True`.  "
   ]
  },
  {
   "cell_type": "code",
   "execution_count": 37,
   "metadata": {
    "collapsed": false
   },
   "outputs": [
    {
     "data": {
      "text/html": [
       "<div>\n",
       "<table border=\"1\" class=\"dataframe\">\n",
       "  <thead>\n",
       "    <tr style=\"text-align: right;\">\n",
       "      <th></th>\n",
       "      <th></th>\n",
       "      <th></th>\n",
       "      <th>2011</th>\n",
       "      <th>2012</th>\n",
       "      <th>2013</th>\n",
       "    </tr>\n",
       "    <tr>\n",
       "      <th>Variable</th>\n",
       "      <th>ISO</th>\n",
       "      <th>Units</th>\n",
       "      <th></th>\n",
       "      <th></th>\n",
       "      <th></th>\n",
       "    </tr>\n",
       "  </thead>\n",
       "  <tbody>\n",
       "    <tr>\n",
       "      <th>Surplus</th>\n",
       "      <th>ARG</th>\n",
       "      <th>Percent of GDP</th>\n",
       "      <td>-1.949</td>\n",
       "      <td>-2.359</td>\n",
       "      <td>-1.997</td>\n",
       "    </tr>\n",
       "    <tr>\n",
       "      <th>Debt</th>\n",
       "      <th>ARG</th>\n",
       "      <th>Percent of GDP</th>\n",
       "      <td>35.763</td>\n",
       "      <td>37.328</td>\n",
       "      <td>40.217</td>\n",
       "    </tr>\n",
       "  </tbody>\n",
       "</table>\n",
       "</div>"
      ],
      "text/plain": [
       "                               2011    2012    2013\n",
       "Variable ISO Units                                 \n",
       "Surplus  ARG Percent of GDP  -1.949  -2.359  -1.997\n",
       "Debt     ARG Percent of GDP  35.763  37.328  40.217"
      ]
     },
     "execution_count": 37,
     "metadata": {},
     "output_type": "execute_result"
    }
   ],
   "source": [
    "ddi.reset_index(level=[1,3], drop=True).head(2) "
   ]
  },
  {
   "cell_type": "markdown",
   "metadata": {
    "collapsed": true
   },
   "source": [
    "**Exercise.**  For the dataframe `ddi`:  \n",
    "\n",
    "* Use the `reset_index` method to move the `Units` level of the index to a column of the dataframe.\n",
    "* Use the `drop` parameter of `reset_index` to delete `Units` from the dataframe.  "
   ]
  },
  {
   "cell_type": "code",
   "execution_count": null,
   "metadata": {
    "collapsed": true
   },
   "outputs": [],
   "source": []
  },
  {
   "cell_type": "code",
   "execution_count": null,
   "metadata": {
    "collapsed": true
   },
   "outputs": [],
   "source": []
  },
  {
   "cell_type": "markdown",
   "metadata": {},
   "source": [
    "## Switching rows and columns   \n",
    "\n",
    "If we take the dataframe `ddi`, we see that the everything's been put into the index but the data itself.  Perhaps we can get what we want if we just flip the rows and columns.  Roughly speaking, we refer to this as **pivoting**.  "
   ]
  },
  {
   "cell_type": "markdown",
   "metadata": {
    "collapsed": true
   },
   "source": [
    "### First look at switching rows and columns \n",
    "\n",
    "The simplest way to flip rows and columns is to use the `T` or transpose property.  When we do that, we end up with a lot of stuff in the column labels, as the multi-index for the rows gets rotated into the columns.  Other than that, we're good. We can even do a plot.  The only problem is all the stuff we've pushed into the column labels -- it's kind of a mess.  "
   ]
  },
  {
   "cell_type": "code",
   "execution_count": 38,
   "metadata": {
    "collapsed": false
   },
   "outputs": [
    {
     "data": {
      "text/html": [
       "<div>\n",
       "<table border=\"1\" class=\"dataframe\">\n",
       "  <thead>\n",
       "    <tr>\n",
       "      <th>Variable</th>\n",
       "      <th>Surplus</th>\n",
       "      <th>Debt</th>\n",
       "      <th>Surplus</th>\n",
       "      <th>Debt</th>\n",
       "      <th>Surplus</th>\n",
       "      <th>Debt</th>\n",
       "    </tr>\n",
       "    <tr>\n",
       "      <th>Country</th>\n",
       "      <th>Argentina</th>\n",
       "      <th>Argentina</th>\n",
       "      <th>Germany</th>\n",
       "      <th>Germany</th>\n",
       "      <th>Greece</th>\n",
       "      <th>Greece</th>\n",
       "    </tr>\n",
       "    <tr>\n",
       "      <th>ISO</th>\n",
       "      <th>ARG</th>\n",
       "      <th>ARG</th>\n",
       "      <th>DEU</th>\n",
       "      <th>DEU</th>\n",
       "      <th>GRC</th>\n",
       "      <th>GRC</th>\n",
       "    </tr>\n",
       "    <tr>\n",
       "      <th>Description</th>\n",
       "      <th>General government net lending/borrowing</th>\n",
       "      <th>General government gross debt</th>\n",
       "      <th>General government net lending/borrowing</th>\n",
       "      <th>General government gross debt</th>\n",
       "      <th>General government net lending/borrowing</th>\n",
       "      <th>General government gross debt</th>\n",
       "    </tr>\n",
       "    <tr>\n",
       "      <th>Units</th>\n",
       "      <th>Percent of GDP</th>\n",
       "      <th>Percent of GDP</th>\n",
       "      <th>Percent of GDP</th>\n",
       "      <th>Percent of GDP</th>\n",
       "      <th>Percent of GDP</th>\n",
       "      <th>Percent of GDP</th>\n",
       "    </tr>\n",
       "  </thead>\n",
       "  <tbody>\n",
       "    <tr>\n",
       "      <th>2011</th>\n",
       "      <td>-1.949</td>\n",
       "      <td>35.763</td>\n",
       "      <td>-0.861</td>\n",
       "      <td>77.928</td>\n",
       "      <td>-10.215</td>\n",
       "      <td>170.960</td>\n",
       "    </tr>\n",
       "    <tr>\n",
       "      <th>2012</th>\n",
       "      <td>-2.359</td>\n",
       "      <td>37.328</td>\n",
       "      <td>0.091</td>\n",
       "      <td>79.311</td>\n",
       "      <td>-6.406</td>\n",
       "      <td>156.494</td>\n",
       "    </tr>\n",
       "    <tr>\n",
       "      <th>2013</th>\n",
       "      <td>-1.997</td>\n",
       "      <td>40.217</td>\n",
       "      <td>0.133</td>\n",
       "      <td>76.978</td>\n",
       "      <td>-2.944</td>\n",
       "      <td>174.951</td>\n",
       "    </tr>\n",
       "  </tbody>\n",
       "</table>\n",
       "</div>"
      ],
      "text/plain": [
       "Variable                                     Surplus  \\\n",
       "Country                                    Argentina   \n",
       "ISO                                              ARG   \n",
       "Description General government net lending/borrowing   \n",
       "Units                                 Percent of GDP   \n",
       "2011                                          -1.949   \n",
       "2012                                          -2.359   \n",
       "2013                                          -1.997   \n",
       "\n",
       "Variable                             Debt  \\\n",
       "Country                         Argentina   \n",
       "ISO                                   ARG   \n",
       "Description General government gross debt   \n",
       "Units                      Percent of GDP   \n",
       "2011                               35.763   \n",
       "2012                               37.328   \n",
       "2013                               40.217   \n",
       "\n",
       "Variable                                     Surplus  \\\n",
       "Country                                      Germany   \n",
       "ISO                                              DEU   \n",
       "Description General government net lending/borrowing   \n",
       "Units                                 Percent of GDP   \n",
       "2011                                          -0.861   \n",
       "2012                                           0.091   \n",
       "2013                                           0.133   \n",
       "\n",
       "Variable                             Debt  \\\n",
       "Country                           Germany   \n",
       "ISO                                   DEU   \n",
       "Description General government gross debt   \n",
       "Units                      Percent of GDP   \n",
       "2011                               77.928   \n",
       "2012                               79.311   \n",
       "2013                               76.978   \n",
       "\n",
       "Variable                                     Surplus  \\\n",
       "Country                                       Greece   \n",
       "ISO                                              GRC   \n",
       "Description General government net lending/borrowing   \n",
       "Units                                 Percent of GDP   \n",
       "2011                                         -10.215   \n",
       "2012                                          -6.406   \n",
       "2013                                          -2.944   \n",
       "\n",
       "Variable                             Debt  \n",
       "Country                            Greece  \n",
       "ISO                                   GRC  \n",
       "Description General government gross debt  \n",
       "Units                      Percent of GDP  \n",
       "2011                              170.960  \n",
       "2012                              156.494  \n",
       "2013                              174.951  "
      ]
     },
     "execution_count": 38,
     "metadata": {},
     "output_type": "execute_result"
    }
   ],
   "source": [
    "ddt = ddi.T\n",
    "ddt"
   ]
  },
  {
   "cell_type": "markdown",
   "metadata": {},
   "source": [
    "**Comment.** We see here that the multi-index for the rows has been turned into a multi-index for the columns.  Works the same way.  \n",
    "\n",
    "The only problem here is that the column labels are more complicated than we might want.  Here, for example, is what we get with the plot method.  As usual, `.plot()` plots all the columns of the dataframe, but here that means we're mixing variables.  And the legend contains all the levels of the column labels.  "
   ]
  },
  {
   "cell_type": "code",
   "execution_count": 39,
   "metadata": {
    "collapsed": false
   },
   "outputs": [
    {
     "data": {
      "text/plain": [
       "<matplotlib.axes._subplots.AxesSubplot at 0x91a4fd0>"
      ]
     },
     "execution_count": 39,
     "metadata": {},
     "output_type": "execute_result"
    },
    {
     "data": {
      "image/png": "[encoded data removed]",
      "text/plain": [
       "<matplotlib.figure.Figure at 0x91b3198>"
      ]
     },
     "metadata": {},
     "output_type": "display_data"
    }
   ],
   "source": [
    "ddt.plot()"
   ]
  },
  {
   "cell_type": "markdown",
   "metadata": {
    "collapsed": true
   },
   "source": [
    "**Comment.** Ooooh, that's ugly!  We're on the right track, but evidently not there yet.  "
   ]
  },
  {
   "cell_type": "code",
   "execution_count": null,
   "metadata": {
    "collapsed": true
   },
   "outputs": [],
   "source": []
  },
  {
   "cell_type": "markdown",
   "metadata": {},
   "source": [
    "### Referring to variables with a multi-index\n",
    "\n",
    "Can we refer to variables in the same way?  Sort of, as long as we refer to the top level of the column index.  It gives us a dataframe that's a subset of the original one.  \n",
    "\n",
    "Let's try each of these:  \n",
    "\n",
    "* `ddt['Debt']`\n",
    "* `ddt['Debt']['Argentina']`\n",
    "* `ddt['Debt', 'Argentina']` \n",
    "* `ddt['ARG']`\n",
    "\n",
    "What do you see?  What's going on?  The theme is that we can reference the top level, which in `ddi` is the `Variable`.  If we try to access a lower level, it bombs.  "
   ]
  },
  {
   "cell_type": "code",
   "execution_count": 40,
   "metadata": {
    "collapsed": false
   },
   "outputs": [],
   "source": [
    "# indexing by variable \n",
    "debt = ddt['Debt']"
   ]
  },
  {
   "cell_type": "markdown",
   "metadata": {
    "collapsed": false
   },
   "source": [
    "**Exercise.** With the dataframe `ddt`: \n",
    "\n",
    "* What type of object is `Debt`? \n",
    "* Construct a line plot of `Debt` over time with one line for each country.  "
   ]
  },
  {
   "cell_type": "code",
   "execution_count": null,
   "metadata": {
    "collapsed": true
   },
   "outputs": [],
   "source": []
  },
  {
   "cell_type": "code",
   "execution_count": null,
   "metadata": {
    "collapsed": true
   },
   "outputs": [],
   "source": []
  },
  {
   "cell_type": "code",
   "execution_count": null,
   "metadata": {
    "collapsed": true
   },
   "outputs": [],
   "source": []
  },
  {
   "cell_type": "markdown",
   "metadata": {
    "collapsed": true
   },
   "source": [
    "**Example.** Let's do this together.  How would we fix up the legend?  What approaches cross your mind?  (No code, just the general approach.) "
   ]
  },
  {
   "cell_type": "code",
   "execution_count": null,
   "metadata": {
    "collapsed": true
   },
   "outputs": [],
   "source": []
  },
  {
   "cell_type": "markdown",
   "metadata": {},
   "source": [
    "### Swapping levels\n",
    "\n",
    "Since variables refer to the first level of the column index, it's not clear how we would group data by country.  Suppose, for example, we wanted to plot `Debt` and `Surplus` for a specific country.  What would we do?  \n",
    "\n",
    "One way to do that is to make the country the top level with the `swaplevel` method.  Note the `axis` parameter.  With `axis=1` we swap column levels, with `axis=0` (the default) we swap row levels.  "
   ]
  },
  {
   "cell_type": "code",
   "execution_count": 41,
   "metadata": {
    "collapsed": false
   },
   "outputs": [
    {
     "data": {
      "text/html": [
       "<div>\n",
       "<table border=\"1\" class=\"dataframe\">\n",
       "  <thead>\n",
       "    <tr>\n",
       "      <th>Country</th>\n",
       "      <th colspan=\"2\" halign=\"left\">Argentina</th>\n",
       "      <th colspan=\"2\" halign=\"left\">Germany</th>\n",
       "      <th colspan=\"2\" halign=\"left\">Greece</th>\n",
       "    </tr>\n",
       "    <tr>\n",
       "      <th>Variable</th>\n",
       "      <th>Surplus</th>\n",
       "      <th>Debt</th>\n",
       "      <th>Surplus</th>\n",
       "      <th>Debt</th>\n",
       "      <th>Surplus</th>\n",
       "      <th>Debt</th>\n",
       "    </tr>\n",
       "    <tr>\n",
       "      <th>ISO</th>\n",
       "      <th>ARG</th>\n",
       "      <th>ARG</th>\n",
       "      <th>DEU</th>\n",
       "      <th>DEU</th>\n",
       "      <th>GRC</th>\n",
       "      <th>GRC</th>\n",
       "    </tr>\n",
       "    <tr>\n",
       "      <th>Description</th>\n",
       "      <th>General government net lending/borrowing</th>\n",
       "      <th>General government gross debt</th>\n",
       "      <th>General government net lending/borrowing</th>\n",
       "      <th>General government gross debt</th>\n",
       "      <th>General government net lending/borrowing</th>\n",
       "      <th>General government gross debt</th>\n",
       "    </tr>\n",
       "    <tr>\n",
       "      <th>Units</th>\n",
       "      <th>Percent of GDP</th>\n",
       "      <th>Percent of GDP</th>\n",
       "      <th>Percent of GDP</th>\n",
       "      <th>Percent of GDP</th>\n",
       "      <th>Percent of GDP</th>\n",
       "      <th>Percent of GDP</th>\n",
       "    </tr>\n",
       "  </thead>\n",
       "  <tbody>\n",
       "    <tr>\n",
       "      <th>2011</th>\n",
       "      <td>-1.949</td>\n",
       "      <td>35.763</td>\n",
       "      <td>-0.861</td>\n",
       "      <td>77.928</td>\n",
       "      <td>-10.215</td>\n",
       "      <td>170.960</td>\n",
       "    </tr>\n",
       "    <tr>\n",
       "      <th>2012</th>\n",
       "      <td>-2.359</td>\n",
       "      <td>37.328</td>\n",
       "      <td>0.091</td>\n",
       "      <td>79.311</td>\n",
       "      <td>-6.406</td>\n",
       "      <td>156.494</td>\n",
       "    </tr>\n",
       "    <tr>\n",
       "      <th>2013</th>\n",
       "      <td>-1.997</td>\n",
       "      <td>40.217</td>\n",
       "      <td>0.133</td>\n",
       "      <td>76.978</td>\n",
       "      <td>-2.944</td>\n",
       "      <td>174.951</td>\n",
       "    </tr>\n",
       "  </tbody>\n",
       "</table>\n",
       "</div>"
      ],
      "text/plain": [
       "Country                                    Argentina  \\\n",
       "Variable                                     Surplus   \n",
       "ISO                                              ARG   \n",
       "Description General government net lending/borrowing   \n",
       "Units                                 Percent of GDP   \n",
       "2011                                          -1.949   \n",
       "2012                                          -2.359   \n",
       "2013                                          -1.997   \n",
       "\n",
       "Country                                    \\\n",
       "Variable                             Debt   \n",
       "ISO                                   ARG   \n",
       "Description General government gross debt   \n",
       "Units                      Percent of GDP   \n",
       "2011                               35.763   \n",
       "2012                               37.328   \n",
       "2013                               40.217   \n",
       "\n",
       "Country                                      Germany  \\\n",
       "Variable                                     Surplus   \n",
       "ISO                                              DEU   \n",
       "Description General government net lending/borrowing   \n",
       "Units                                 Percent of GDP   \n",
       "2011                                          -0.861   \n",
       "2012                                           0.091   \n",
       "2013                                           0.133   \n",
       "\n",
       "Country                                    \\\n",
       "Variable                             Debt   \n",
       "ISO                                   DEU   \n",
       "Description General government gross debt   \n",
       "Units                      Percent of GDP   \n",
       "2011                               77.928   \n",
       "2012                               79.311   \n",
       "2013                               76.978   \n",
       "\n",
       "Country                                       Greece  \\\n",
       "Variable                                     Surplus   \n",
       "ISO                                              GRC   \n",
       "Description General government net lending/borrowing   \n",
       "Units                                 Percent of GDP   \n",
       "2011                                         -10.215   \n",
       "2012                                          -6.406   \n",
       "2013                                          -2.944   \n",
       "\n",
       "Country                                    \n",
       "Variable                             Debt  \n",
       "ISO                                   GRC  \n",
       "Description General government gross debt  \n",
       "Units                      Percent of GDP  \n",
       "2011                              170.960  \n",
       "2012                              156.494  \n",
       "2013                              174.951  "
      ]
     },
     "execution_count": 41,
     "metadata": {},
     "output_type": "execute_result"
    }
   ],
   "source": [
    "ddts = ddt.swaplevel(0,1, axis=1) \n",
    "ddts"
   ]
  },
  {
   "cell_type": "markdown",
   "metadata": {},
   "source": [
    "**Exercise.** Use the dataframe `ddts` to plot `Debt` and `Surplus` across time for Argentina.  *Hint:* In the `plot` method, set `subplots=True` so that each variable is in a separate subplot.  "
   ]
  },
  {
   "cell_type": "code",
   "execution_count": null,
   "metadata": {
    "collapsed": true
   },
   "outputs": [],
   "source": []
  },
  {
   "cell_type": "markdown",
   "metadata": {
    "collapsed": true
   },
   "source": [
    "### The `xs` method\n",
    "\n",
    "Another approach to extracting data that cuts across levels of the row or column index:  the `xs` method. This is recent addition tpo Pandas and an extremely good method once you get the hang of it. \n",
    "\n",
    "The basic syntax is `df.xs(item, axis=X, level=N)`, where `N` is the name or number of an index level and `X` describes if we are extracting from the index or column names. Setting `X=0` (so `axis=0`) will slice up the data along the index, `X=1` extracts data for column labels.\n",
    "\n",
    "Here's how we could use `xs` to get the Argentina data without swapping the level of the column labels"
   ]
  },
  {
   "cell_type": "code",
   "execution_count": 42,
   "metadata": {
    "collapsed": false
   },
   "outputs": [],
   "source": [
    "#ddt.xs?"
   ]
  },
  {
   "cell_type": "code",
   "execution_count": 43,
   "metadata": {
    "collapsed": false
   },
   "outputs": [
    {
     "data": {
      "text/html": [
       "<div>\n",
       "<table border=\"1\" class=\"dataframe\">\n",
       "  <thead>\n",
       "    <tr>\n",
       "      <th>Variable</th>\n",
       "      <th>Surplus</th>\n",
       "      <th>Debt</th>\n",
       "    </tr>\n",
       "    <tr>\n",
       "      <th>ISO</th>\n",
       "      <th>ARG</th>\n",
       "      <th>ARG</th>\n",
       "    </tr>\n",
       "    <tr>\n",
       "      <th>Description</th>\n",
       "      <th>General government net lending/borrowing</th>\n",
       "      <th>General government gross debt</th>\n",
       "    </tr>\n",
       "    <tr>\n",
       "      <th>Units</th>\n",
       "      <th>Percent of GDP</th>\n",
       "      <th>Percent of GDP</th>\n",
       "    </tr>\n",
       "  </thead>\n",
       "  <tbody>\n",
       "    <tr>\n",
       "      <th>2011</th>\n",
       "      <td>-1.949</td>\n",
       "      <td>35.763</td>\n",
       "    </tr>\n",
       "    <tr>\n",
       "      <th>2012</th>\n",
       "      <td>-2.359</td>\n",
       "      <td>37.328</td>\n",
       "    </tr>\n",
       "    <tr>\n",
       "      <th>2013</th>\n",
       "      <td>-1.997</td>\n",
       "      <td>40.217</td>\n",
       "    </tr>\n",
       "  </tbody>\n",
       "</table>\n",
       "</div>"
      ],
      "text/plain": [
       "Variable                                     Surplus  \\\n",
       "ISO                                              ARG   \n",
       "Description General government net lending/borrowing   \n",
       "Units                                 Percent of GDP   \n",
       "2011                                          -1.949   \n",
       "2012                                          -2.359   \n",
       "2013                                          -1.997   \n",
       "\n",
       "Variable                             Debt  \n",
       "ISO                                   ARG  \n",
       "Description General government gross debt  \n",
       "Units                      Percent of GDP  \n",
       "2011                               35.763  \n",
       "2012                               37.328  \n",
       "2013                               40.217  "
      ]
     },
     "execution_count": 43,
     "metadata": {},
     "output_type": "execute_result"
    }
   ],
   "source": [
    "ddt.xs(\"Argentina\", axis=1, level=\"Country\")"
   ]
  },
  {
   "cell_type": "code",
   "execution_count": 44,
   "metadata": {
    "collapsed": false
   },
   "outputs": [
    {
     "data": {
      "text/html": [
       "<div>\n",
       "<table border=\"1\" class=\"dataframe\">\n",
       "  <thead>\n",
       "    <tr>\n",
       "      <th>ISO</th>\n",
       "      <th>ARG</th>\n",
       "    </tr>\n",
       "    <tr>\n",
       "      <th>Description</th>\n",
       "      <th>General government gross debt</th>\n",
       "    </tr>\n",
       "    <tr>\n",
       "      <th>Units</th>\n",
       "      <th>Percent of GDP</th>\n",
       "    </tr>\n",
       "  </thead>\n",
       "  <tbody>\n",
       "    <tr>\n",
       "      <th>2011</th>\n",
       "      <td>35.763</td>\n",
       "    </tr>\n",
       "    <tr>\n",
       "      <th>2012</th>\n",
       "      <td>37.328</td>\n",
       "    </tr>\n",
       "    <tr>\n",
       "      <th>2013</th>\n",
       "      <td>40.217</td>\n",
       "    </tr>\n",
       "  </tbody>\n",
       "</table>\n",
       "</div>"
      ],
      "text/plain": [
       "ISO                                   ARG\n",
       "Description General government gross debt\n",
       "Units                      Percent of GDP\n",
       "2011                               35.763\n",
       "2012                               37.328\n",
       "2013                               40.217"
      ]
     },
     "execution_count": 44,
     "metadata": {},
     "output_type": "execute_result"
    }
   ],
   "source": [
    "ddt.xs(\"Argentina\", axis=1, level=\"Country\")[\"Debt\"]"
   ]
  },
  {
   "cell_type": "markdown",
   "metadata": {},
   "source": [
    "**Exercise.** Use a combination of `xs` and standard slicing with `[...]` to extract the variable `Debt` for Greece."
   ]
  },
  {
   "cell_type": "code",
   "execution_count": null,
   "metadata": {
    "collapsed": false
   },
   "outputs": [],
   "source": []
  },
  {
   "cell_type": "markdown",
   "metadata": {
    "collapsed": false
   },
   "source": [
    "**Exercise.** Use the dataframe `ddt` -- and the `xs` method -- to plot `Debt` and `Surplus` across time for Argentina.  "
   ]
  },
  {
   "cell_type": "code",
   "execution_count": null,
   "metadata": {
    "collapsed": true
   },
   "outputs": [],
   "source": []
  },
  {
   "cell_type": "markdown",
   "metadata": {},
   "source": [
    "<a id='stack'></a>"
   ]
  },
  {
   "cell_type": "markdown",
   "metadata": {},
   "source": [
    "## Stacking and unstacking \n",
    "\n",
    "The `set_index` and `reset_index` methods work on the row labels -- the index.  They move columns to the index and the reverse.  The `stack` and `unstack` methods move index levels to and from column levels:  \n",
    "\n",
    "* `stack` stacks the data up, moving the columns to the index and creating a **long** dataframe. \n",
    "* `unstack` does the reverse, moving columns or index levels into the column labels and creating a **wide** dataframe.  \n",
    "\n",
    "We use both to shape (or reshape) our data.  We use `set_index` to push things into the index.  And then use `reset_index` to push some of them back to the columns.  That gives us pretty fine-grainded control over the shape of our data.   "
   ]
  },
  {
   "cell_type": "markdown",
   "metadata": {},
   "source": [
    "We start by simplifying our initial dataframe.  "
   ]
  },
  {
   "cell_type": "code",
   "execution_count": 45,
   "metadata": {
    "collapsed": false
   },
   "outputs": [
    {
     "data": {
      "text/html": [
       "<div>\n",
       "<table border=\"1\" class=\"dataframe\">\n",
       "  <thead>\n",
       "    <tr style=\"text-align: right;\">\n",
       "      <th></th>\n",
       "      <th>Year</th>\n",
       "      <th>2011</th>\n",
       "      <th>2012</th>\n",
       "      <th>2013</th>\n",
       "    </tr>\n",
       "    <tr>\n",
       "      <th>Variable</th>\n",
       "      <th>ISO</th>\n",
       "      <th></th>\n",
       "      <th></th>\n",
       "      <th></th>\n",
       "    </tr>\n",
       "  </thead>\n",
       "  <tbody>\n",
       "    <tr>\n",
       "      <th>Surplus</th>\n",
       "      <th>ARG</th>\n",
       "      <td>-1.949</td>\n",
       "      <td>-2.359</td>\n",
       "      <td>-1.997</td>\n",
       "    </tr>\n",
       "    <tr>\n",
       "      <th>Debt</th>\n",
       "      <th>ARG</th>\n",
       "      <td>35.763</td>\n",
       "      <td>37.328</td>\n",
       "      <td>40.217</td>\n",
       "    </tr>\n",
       "    <tr>\n",
       "      <th>Surplus</th>\n",
       "      <th>DEU</th>\n",
       "      <td>-0.861</td>\n",
       "      <td>0.091</td>\n",
       "      <td>0.133</td>\n",
       "    </tr>\n",
       "    <tr>\n",
       "      <th>Debt</th>\n",
       "      <th>DEU</th>\n",
       "      <td>77.928</td>\n",
       "      <td>79.311</td>\n",
       "      <td>76.978</td>\n",
       "    </tr>\n",
       "    <tr>\n",
       "      <th>Surplus</th>\n",
       "      <th>GRC</th>\n",
       "      <td>-10.215</td>\n",
       "      <td>-6.406</td>\n",
       "      <td>-2.944</td>\n",
       "    </tr>\n",
       "    <tr>\n",
       "      <th>Debt</th>\n",
       "      <th>GRC</th>\n",
       "      <td>170.960</td>\n",
       "      <td>156.494</td>\n",
       "      <td>174.951</td>\n",
       "    </tr>\n",
       "  </tbody>\n",
       "</table>\n",
       "</div>"
      ],
      "text/plain": [
       "Year             2011     2012     2013\n",
       "Variable ISO                           \n",
       "Surplus  ARG   -1.949   -2.359   -1.997\n",
       "Debt     ARG   35.763   37.328   40.217\n",
       "Surplus  DEU   -0.861    0.091    0.133\n",
       "Debt     DEU   77.928   79.311   76.978\n",
       "Surplus  GRC  -10.215   -6.406   -2.944\n",
       "Debt     GRC  170.960  156.494  174.951"
      ]
     },
     "execution_count": 45,
     "metadata": {},
     "output_type": "execute_result"
    }
   ],
   "source": [
    "# drop some of the index levels (think s for small)\n",
    "dds = ddi.reset_index(level=[1,3,4], drop=True)\n",
    "# give a name to the column labels\n",
    "dds.columns.name = 'Year'  \n",
    "dds"
   ]
  },
  {
   "cell_type": "markdown",
   "metadata": {},
   "source": [
    "Let's remind ourselves **what we want.** We want to \n",
    "\n",
    "* move the column index (Year) into the row index \n",
    "* move the `Variable` and `ISO` levels the other way, into the column labels.  \n",
    "\n",
    "The first one uses `stack`, the second one `unstack`."
   ]
  },
  {
   "cell_type": "code",
   "execution_count": null,
   "metadata": {
    "collapsed": true
   },
   "outputs": [],
   "source": []
  },
  {
   "cell_type": "markdown",
   "metadata": {
    "collapsed": true
   },
   "source": [
    "### Stacking\n",
    "\n",
    "We stack our data, one variable on top of another, with a multi-index to keep track of what's what.  In simple terms, we change the data from a **wide** format to a **long** format.  The `stack` method takes the lowest column level and makes it the lowest row level.  "
   ]
  },
  {
   "cell_type": "code",
   "execution_count": 46,
   "metadata": {
    "collapsed": false
   },
   "outputs": [
    {
     "data": {
      "text/plain": [
       "Variable  ISO  Year\n",
       "Surplus   ARG  2011     -1.949\n",
       "               2012     -2.359\n",
       "               2013     -1.997\n",
       "Debt      ARG  2011     35.763\n",
       "               2012     37.328\n",
       "               2013     40.217\n",
       "Surplus   DEU  2011     -0.861\n",
       "               2012      0.091\n",
       "               2013      0.133\n",
       "Debt      DEU  2011     77.928\n",
       "               2012     79.311\n",
       "               2013     76.978\n",
       "Surplus   GRC  2011    -10.215\n",
       "               2012     -6.406\n",
       "               2013     -2.944\n",
       "Debt      GRC  2011    170.960\n",
       "               2012    156.494\n",
       "               2013    174.951\n",
       "dtype: float64"
      ]
     },
     "execution_count": 46,
     "metadata": {},
     "output_type": "execute_result"
    }
   ],
   "source": [
    "# convert to long format. Notice printing is different... what `type` is ds?\n",
    "ds = dds.stack()    \n",
    "ds"
   ]
  },
  {
   "cell_type": "code",
   "execution_count": 47,
   "metadata": {
    "collapsed": false,
    "scrolled": true
   },
   "outputs": [
    {
     "data": {
      "text/plain": [
       "Variable  ISO  Year\n",
       "Surplus   ARG  2011    -1.949\n",
       "               2012    -2.359\n",
       "               2013    -1.997\n",
       "Debt      ARG  2011    35.763\n",
       "               2012    37.328\n",
       "               2013    40.217\n",
       "Surplus   DEU  2011    -0.861\n",
       "               2012     0.091\n",
       "dtype: float64"
      ]
     },
     "execution_count": 47,
     "metadata": {},
     "output_type": "execute_result"
    }
   ],
   "source": [
    "# same thing with explicit reference to column name \n",
    "dds.stack(level='Year').head(8)"
   ]
  },
  {
   "cell_type": "code",
   "execution_count": 48,
   "metadata": {
    "collapsed": false
   },
   "outputs": [
    {
     "data": {
      "text/plain": [
       "Variable  ISO  Year\n",
       "Surplus   ARG  2011    -1.949\n",
       "               2012    -2.359\n",
       "               2013    -1.997\n",
       "Debt      ARG  2011    35.763\n",
       "               2012    37.328\n",
       "               2013    40.217\n",
       "Surplus   DEU  2011    -0.861\n",
       "               2012     0.091\n",
       "dtype: float64"
      ]
     },
     "execution_count": 48,
     "metadata": {},
     "output_type": "execute_result"
    }
   ],
   "source": [
    "# or with level number \n",
    "dds.stack(level=0).head(8)"
   ]
  },
  {
   "cell_type": "code",
   "execution_count": null,
   "metadata": {
    "collapsed": true
   },
   "outputs": [],
   "source": []
  },
  {
   "cell_type": "markdown",
   "metadata": {
    "collapsed": true
   },
   "source": [
    "### Unstacking \n",
    "\n",
    "Stacking moves columns into the index, \"stacking\" the data up into longer columns.  Unstacking does the reverse, taking levels of the row index and turning them into column labels.  Roughly speaking we're rotating or **pivoting** the data. "
   ]
  },
  {
   "cell_type": "code",
   "execution_count": 49,
   "metadata": {
    "collapsed": false
   },
   "outputs": [
    {
     "data": {
      "text/html": [
       "<div>\n",
       "<table border=\"1\" class=\"dataframe\">\n",
       "  <thead>\n",
       "    <tr style=\"text-align: right;\">\n",
       "      <th></th>\n",
       "      <th>Year</th>\n",
       "      <th>2011</th>\n",
       "      <th>2012</th>\n",
       "      <th>2013</th>\n",
       "    </tr>\n",
       "    <tr>\n",
       "      <th>Variable</th>\n",
       "      <th>ISO</th>\n",
       "      <th></th>\n",
       "      <th></th>\n",
       "      <th></th>\n",
       "    </tr>\n",
       "  </thead>\n",
       "  <tbody>\n",
       "    <tr>\n",
       "      <th rowspan=\"3\" valign=\"top\">Debt</th>\n",
       "      <th>ARG</th>\n",
       "      <td>35.763</td>\n",
       "      <td>37.328</td>\n",
       "      <td>40.217</td>\n",
       "    </tr>\n",
       "    <tr>\n",
       "      <th>DEU</th>\n",
       "      <td>77.928</td>\n",
       "      <td>79.311</td>\n",
       "      <td>76.978</td>\n",
       "    </tr>\n",
       "    <tr>\n",
       "      <th>GRC</th>\n",
       "      <td>170.960</td>\n",
       "      <td>156.494</td>\n",
       "      <td>174.951</td>\n",
       "    </tr>\n",
       "    <tr>\n",
       "      <th rowspan=\"3\" valign=\"top\">Surplus</th>\n",
       "      <th>ARG</th>\n",
       "      <td>-1.949</td>\n",
       "      <td>-2.359</td>\n",
       "      <td>-1.997</td>\n",
       "    </tr>\n",
       "    <tr>\n",
       "      <th>DEU</th>\n",
       "      <td>-0.861</td>\n",
       "      <td>0.091</td>\n",
       "      <td>0.133</td>\n",
       "    </tr>\n",
       "    <tr>\n",
       "      <th>GRC</th>\n",
       "      <td>-10.215</td>\n",
       "      <td>-6.406</td>\n",
       "      <td>-2.944</td>\n",
       "    </tr>\n",
       "  </tbody>\n",
       "</table>\n",
       "</div>"
      ],
      "text/plain": [
       "Year             2011     2012     2013\n",
       "Variable ISO                           \n",
       "Debt     ARG   35.763   37.328   40.217\n",
       "         DEU   77.928   79.311   76.978\n",
       "         GRC  170.960  156.494  174.951\n",
       "Surplus  ARG   -1.949   -2.359   -1.997\n",
       "         DEU   -0.861    0.091    0.133\n",
       "         GRC  -10.215   -6.406   -2.944"
      ]
     },
     "execution_count": 49,
     "metadata": {},
     "output_type": "execute_result"
    }
   ],
   "source": [
    "# now go long to wide \n",
    "ds.unstack()  # default is lowest value level='ISO'"
   ]
  },
  {
   "cell_type": "code",
   "execution_count": 50,
   "metadata": {
    "collapsed": false
   },
   "outputs": [
    {
     "data": {
      "text/html": [
       "<div>\n",
       "<table border=\"1\" class=\"dataframe\">\n",
       "  <thead>\n",
       "    <tr style=\"text-align: right;\">\n",
       "      <th></th>\n",
       "      <th>Variable</th>\n",
       "      <th>Debt</th>\n",
       "      <th>Surplus</th>\n",
       "    </tr>\n",
       "    <tr>\n",
       "      <th>ISO</th>\n",
       "      <th>Year</th>\n",
       "      <th></th>\n",
       "      <th></th>\n",
       "    </tr>\n",
       "  </thead>\n",
       "  <tbody>\n",
       "    <tr>\n",
       "      <th rowspan=\"3\" valign=\"top\">ARG</th>\n",
       "      <th>2011</th>\n",
       "      <td>35.763</td>\n",
       "      <td>-1.949</td>\n",
       "    </tr>\n",
       "    <tr>\n",
       "      <th>2012</th>\n",
       "      <td>37.328</td>\n",
       "      <td>-2.359</td>\n",
       "    </tr>\n",
       "    <tr>\n",
       "      <th>2013</th>\n",
       "      <td>40.217</td>\n",
       "      <td>-1.997</td>\n",
       "    </tr>\n",
       "    <tr>\n",
       "      <th rowspan=\"3\" valign=\"top\">DEU</th>\n",
       "      <th>2011</th>\n",
       "      <td>77.928</td>\n",
       "      <td>-0.861</td>\n",
       "    </tr>\n",
       "    <tr>\n",
       "      <th>2012</th>\n",
       "      <td>79.311</td>\n",
       "      <td>0.091</td>\n",
       "    </tr>\n",
       "    <tr>\n",
       "      <th>2013</th>\n",
       "      <td>76.978</td>\n",
       "      <td>0.133</td>\n",
       "    </tr>\n",
       "    <tr>\n",
       "      <th rowspan=\"3\" valign=\"top\">GRC</th>\n",
       "      <th>2011</th>\n",
       "      <td>170.960</td>\n",
       "      <td>-10.215</td>\n",
       "    </tr>\n",
       "    <tr>\n",
       "      <th>2012</th>\n",
       "      <td>156.494</td>\n",
       "      <td>-6.406</td>\n",
       "    </tr>\n",
       "    <tr>\n",
       "      <th>2013</th>\n",
       "      <td>174.951</td>\n",
       "      <td>-2.944</td>\n",
       "    </tr>\n",
       "  </tbody>\n",
       "</table>\n",
       "</div>"
      ],
      "text/plain": [
       "Variable     Debt  Surplus\n",
       "ISO Year                  \n",
       "ARG 2011   35.763   -1.949\n",
       "    2012   37.328   -2.359\n",
       "    2013   40.217   -1.997\n",
       "DEU 2011   77.928   -0.861\n",
       "    2012   79.311    0.091\n",
       "    2013   76.978    0.133\n",
       "GRC 2011  170.960  -10.215\n",
       "    2012  156.494   -6.406\n",
       "    2013  174.951   -2.944"
      ]
     },
     "execution_count": 50,
     "metadata": {},
     "output_type": "execute_result"
    }
   ],
   "source": [
    "# different level \n",
    "ds.unstack(level='Variable')"
   ]
  },
  {
   "cell_type": "code",
   "execution_count": 51,
   "metadata": {
    "collapsed": false
   },
   "outputs": [
    {
     "data": {
      "text/html": [
       "<div>\n",
       "<table border=\"1\" class=\"dataframe\">\n",
       "  <thead>\n",
       "    <tr>\n",
       "      <th>Variable</th>\n",
       "      <th>Surplus</th>\n",
       "      <th>Debt</th>\n",
       "      <th>Surplus</th>\n",
       "      <th>Debt</th>\n",
       "      <th>Surplus</th>\n",
       "      <th>Debt</th>\n",
       "    </tr>\n",
       "    <tr>\n",
       "      <th>ISO</th>\n",
       "      <th>ARG</th>\n",
       "      <th>ARG</th>\n",
       "      <th>DEU</th>\n",
       "      <th>DEU</th>\n",
       "      <th>GRC</th>\n",
       "      <th>GRC</th>\n",
       "    </tr>\n",
       "    <tr>\n",
       "      <th>Year</th>\n",
       "      <th></th>\n",
       "      <th></th>\n",
       "      <th></th>\n",
       "      <th></th>\n",
       "      <th></th>\n",
       "      <th></th>\n",
       "    </tr>\n",
       "  </thead>\n",
       "  <tbody>\n",
       "    <tr>\n",
       "      <th>2011</th>\n",
       "      <td>-1.949</td>\n",
       "      <td>35.763</td>\n",
       "      <td>-0.861</td>\n",
       "      <td>77.928</td>\n",
       "      <td>-10.215</td>\n",
       "      <td>170.960</td>\n",
       "    </tr>\n",
       "    <tr>\n",
       "      <th>2012</th>\n",
       "      <td>-2.359</td>\n",
       "      <td>37.328</td>\n",
       "      <td>0.091</td>\n",
       "      <td>79.311</td>\n",
       "      <td>-6.406</td>\n",
       "      <td>156.494</td>\n",
       "    </tr>\n",
       "    <tr>\n",
       "      <th>2013</th>\n",
       "      <td>-1.997</td>\n",
       "      <td>40.217</td>\n",
       "      <td>0.133</td>\n",
       "      <td>76.978</td>\n",
       "      <td>-2.944</td>\n",
       "      <td>174.951</td>\n",
       "    </tr>\n",
       "  </tbody>\n",
       "</table>\n",
       "</div>"
      ],
      "text/plain": [
       "Variable Surplus    Debt Surplus    Debt Surplus     Debt\n",
       "ISO          ARG     ARG     DEU     DEU     GRC      GRC\n",
       "Year                                                     \n",
       "2011      -1.949  35.763  -0.861  77.928 -10.215  170.960\n",
       "2012      -2.359  37.328   0.091  79.311  -6.406  156.494\n",
       "2013      -1.997  40.217   0.133  76.978  -2.944  174.951"
      ]
     },
     "execution_count": 51,
     "metadata": {},
     "output_type": "execute_result"
    }
   ],
   "source": [
    "# or two at once \n",
    "ds.unstack(level=['Variable', 'ISO'])"
   ]
  },
  {
   "cell_type": "code",
   "execution_count": null,
   "metadata": {
    "collapsed": true
   },
   "outputs": [],
   "source": []
  },
  {
   "cell_type": "markdown",
   "metadata": {},
   "source": [
    "**Exercise.** Run the code below and explain what each line of code does.  "
   ]
  },
  {
   "cell_type": "code",
   "execution_count": 52,
   "metadata": {
    "collapsed": false
   },
   "outputs": [
    {
     "data": {
      "text/plain": [
       "Variable  ISO  Year\n",
       "Surplus   ARG  2011    -1.949\n",
       "               2012    -2.359\n",
       "               2013    -1.997\n",
       "Debt      ARG  2011    35.763\n",
       "               2012    37.328\n",
       "               2013    40.217\n",
       "Surplus   DEU  2011    -0.861\n",
       "               2012     0.091\n",
       "dtype: float64"
      ]
     },
     "execution_count": 52,
     "metadata": {},
     "output_type": "execute_result"
    }
   ],
   "source": [
    "# stacked dataframe \n",
    "ds.head(8)"
   ]
  },
  {
   "cell_type": "code",
   "execution_count": 53,
   "metadata": {
    "collapsed": false
   },
   "outputs": [],
   "source": [
    "du1 = ds.unstack() \n",
    "du2 = du1.unstack()"
   ]
  },
  {
   "cell_type": "code",
   "execution_count": null,
   "metadata": {
    "collapsed": true
   },
   "outputs": [],
   "source": []
  },
  {
   "cell_type": "markdown",
   "metadata": {
    "collapsed": true
   },
   "source": [
    "**Exercise (challenging).**  Take the unstacked dataframe `dds`.  Use some combination of `stack`, `unstack`, and `plot` to plot the variable `Surplus` against `Year` for all three countries.   Challenging mostly because you need to work out the steps by yourself.  "
   ]
  },
  {
   "cell_type": "code",
   "execution_count": null,
   "metadata": {
    "collapsed": false
   },
   "outputs": [],
   "source": []
  },
  {
   "cell_type": "code",
   "execution_count": null,
   "metadata": {
    "collapsed": true
   },
   "outputs": [],
   "source": []
  },
  {
   "cell_type": "markdown",
   "metadata": {},
   "source": [
    "<a id='pivot'></a>"
   ]
  },
  {
   "cell_type": "markdown",
   "metadata": {},
   "source": [
    "## Pivoting\n",
    "\n",
    "The `pivot` method:  a short cut to some kinds of unstacking.  In rough terms, it takes a wide dataframe and constructs a long one.  The inputs are columns, not index levels.  "
   ]
  },
  {
   "cell_type": "markdown",
   "metadata": {
    "collapsed": true
   },
   "source": [
    "### Example:  BDS data \n",
    "\n",
    "The Census's [Business Dynamnics Statistics](http://www.census.gov/ces/dataproducts/bds/data.html) collects annual information about the hiring decisions of firms by size and age.  This table list the number of firms and total employment by employment size categories:  1 to 4 employees, 5 to 9, and so on. \n",
    "\n",
    "**Apply want operator.** Our **want** is to plot total employment (the variable `Emp`) against size (variable `fsize`).  Both are columns in the original data.  \n",
    "\n",
    "Here we construct a subset of the data, where we look at two years rather than the whole 1976-2013 period.  "
   ]
  },
  {
   "cell_type": "code",
   "execution_count": 54,
   "metadata": {
    "collapsed": false
   },
   "outputs": [
    {
     "data": {
      "text/html": [
       "<div>\n",
       "<table border=\"1\" class=\"dataframe\">\n",
       "  <thead>\n",
       "    <tr style=\"text-align: right;\">\n",
       "      <th></th>\n",
       "      <th>year2</th>\n",
       "      <th>fsize</th>\n",
       "      <th>Firms</th>\n",
       "      <th>Emp</th>\n",
       "    </tr>\n",
       "  </thead>\n",
       "  <tbody>\n",
       "    <tr>\n",
       "      <th>420</th>\n",
       "      <td>2012</td>\n",
       "      <td>a) 1 to 4</td>\n",
       "      <td>2832751</td>\n",
       "      <td>6019263</td>\n",
       "    </tr>\n",
       "    <tr>\n",
       "      <th>421</th>\n",
       "      <td>2012</td>\n",
       "      <td>b) 5 to 9</td>\n",
       "      <td>1017942</td>\n",
       "      <td>6715603</td>\n",
       "    </tr>\n",
       "    <tr>\n",
       "      <th>422</th>\n",
       "      <td>2012</td>\n",
       "      <td>c) 10 to 19</td>\n",
       "      <td>595848</td>\n",
       "      <td>8123271</td>\n",
       "    </tr>\n",
       "    <tr>\n",
       "      <th>423</th>\n",
       "      <td>2012</td>\n",
       "      <td>d) 20 to 49</td>\n",
       "      <td>368391</td>\n",
       "      <td>11300613</td>\n",
       "    </tr>\n",
       "    <tr>\n",
       "      <th>432</th>\n",
       "      <td>2013</td>\n",
       "      <td>a) 1 to 4</td>\n",
       "      <td>2846416</td>\n",
       "      <td>5998912</td>\n",
       "    </tr>\n",
       "    <tr>\n",
       "      <th>433</th>\n",
       "      <td>2013</td>\n",
       "      <td>b) 5 to 9</td>\n",
       "      <td>1020772</td>\n",
       "      <td>6714924</td>\n",
       "    </tr>\n",
       "    <tr>\n",
       "      <th>434</th>\n",
       "      <td>2013</td>\n",
       "      <td>c) 10 to 19</td>\n",
       "      <td>598153</td>\n",
       "      <td>8151891</td>\n",
       "    </tr>\n",
       "    <tr>\n",
       "      <th>435</th>\n",
       "      <td>2013</td>\n",
       "      <td>d) 20 to 49</td>\n",
       "      <td>373345</td>\n",
       "      <td>11425545</td>\n",
       "    </tr>\n",
       "  </tbody>\n",
       "</table>\n",
       "</div>"
      ],
      "text/plain": [
       "     year2        fsize    Firms       Emp\n",
       "420   2012    a) 1 to 4  2832751   6019263\n",
       "421   2012    b) 5 to 9  1017942   6715603\n",
       "422   2012  c) 10 to 19   595848   8123271\n",
       "423   2012  d) 20 to 49   368391  11300613\n",
       "432   2013    a) 1 to 4  2846416   5998912\n",
       "433   2013    b) 5 to 9  1020772   6714924\n",
       "434   2013  c) 10 to 19   598153   8151891\n",
       "435   2013  d) 20 to 49   373345  11425545"
      ]
     },
     "execution_count": 54,
     "metadata": {},
     "output_type": "execute_result"
    }
   ],
   "source": [
    "url = 'http://www2.census.gov/ces/bds/firm/bds_f_sz_release.csv'\n",
    "raw = pd.read_csv(url)\n",
    "raw.head()\n",
    "\n",
    "sizes = ['a) 1 to 4', 'b) 5 to 9', 'c) 10 to 19', 'd) 20 to 49']\n",
    "bds = raw[(raw['year2']>=2012) & raw['fsize'].isin(sizes)][['year2', 'fsize', 'Firms', 'Emp']]\n",
    "bds"
   ]
  },
  {
   "cell_type": "markdown",
   "metadata": {},
   "source": [
    "### Pivoting the data \n",
    "\n",
    "Let's think specifically about what we **want**.  We want to graph `Emp` against `fsize` for (say) 2013.  This calls for: \n",
    "\n",
    "* The index should be the size categories `fsize`.  \n",
    "* The column labels should be the entries of `year2`, namely `2012` and `2013`.  \n",
    "* The data should come from the variable `Emp`.  \n",
    "\n",
    "These inputs translate directly into the following `pivot` method:  "
   ]
  },
  {
   "cell_type": "code",
   "execution_count": 55,
   "metadata": {
    "collapsed": false
   },
   "outputs": [
    {
     "data": {
      "text/html": [
       "<div>\n",
       "<table border=\"1\" class=\"dataframe\">\n",
       "  <thead>\n",
       "    <tr style=\"text-align: right;\">\n",
       "      <th>year2</th>\n",
       "      <th>2012</th>\n",
       "      <th>2013</th>\n",
       "    </tr>\n",
       "    <tr>\n",
       "      <th>fsize</th>\n",
       "      <th></th>\n",
       "      <th></th>\n",
       "    </tr>\n",
       "  </thead>\n",
       "  <tbody>\n",
       "    <tr>\n",
       "      <th>a) 1 to 4</th>\n",
       "      <td>6.019263</td>\n",
       "      <td>5.998912</td>\n",
       "    </tr>\n",
       "    <tr>\n",
       "      <th>b) 5 to 9</th>\n",
       "      <td>6.715603</td>\n",
       "      <td>6.714924</td>\n",
       "    </tr>\n",
       "    <tr>\n",
       "      <th>c) 10 to 19</th>\n",
       "      <td>8.123271</td>\n",
       "      <td>8.151891</td>\n",
       "    </tr>\n",
       "    <tr>\n",
       "      <th>d) 20 to 49</th>\n",
       "      <td>11.300613</td>\n",
       "      <td>11.425545</td>\n",
       "    </tr>\n",
       "  </tbody>\n",
       "</table>\n",
       "</div>"
      ],
      "text/plain": [
       "year2             2012       2013\n",
       "fsize                            \n",
       "a) 1 to 4     6.019263   5.998912\n",
       "b) 5 to 9     6.715603   6.714924\n",
       "c) 10 to 19   8.123271   8.151891\n",
       "d) 20 to 49  11.300613  11.425545"
      ]
     },
     "execution_count": 55,
     "metadata": {},
     "output_type": "execute_result"
    }
   ],
   "source": [
    "# pivot and divide by a million (dividing so bars aren't too long)\n",
    "bdsp = bds.pivot(index='fsize', columns='year2', values='Emp')/10**6 \n",
    "bdsp "
   ]
  },
  {
   "cell_type": "markdown",
   "metadata": {},
   "source": [
    "**Comment.** Note that all the parameters here are columns.  That's not a choice, it's the way the the `pivot` method is written.  \n",
    "\n",
    "We do a plot for fun: "
   ]
  },
  {
   "cell_type": "code",
   "execution_count": 56,
   "metadata": {
    "collapsed": false
   },
   "outputs": [
    {
     "data": {
      "text/plain": [
       "<matplotlib.text.Text at 0x9587198>"
      ]
     },
     "execution_count": 56,
     "metadata": {},
     "output_type": "execute_result"
    },
    {
     "data": {
      "image/png": "[encoded data removed]",
      "text/plain": [
       "<matplotlib.figure.Figure at 0x9577240>"
      ]
     },
     "metadata": {},
     "output_type": "display_data"
    }
   ],
   "source": [
    "# plot 2013 as bar chart \n",
    "fig, ax = plt.subplots()\n",
    "bdsp[2013].plot.barh(ax=ax)\n",
    "ax.set_ylabel('')\n",
    "ax.set_xlabel('Number of Employees (millions)') "
   ]
  },
  {
   "cell_type": "code",
   "execution_count": null,
   "metadata": {
    "collapsed": false
   },
   "outputs": [],
   "source": []
  },
  {
   "cell_type": "markdown",
   "metadata": {},
   "source": [
    "<a id='review'></a>"
   ]
  },
  {
   "cell_type": "markdown",
   "metadata": {},
   "source": [
    "## Review\n",
    "\n",
    "We return to the OECD's healthcare data, specifically a subset of their table on the number of doctors per one thousand population.  This loads and cleans the data:  "
   ]
  },
  {
   "cell_type": "code",
   "execution_count": 57,
   "metadata": {
    "collapsed": false
   },
   "outputs": [
    {
     "data": {
      "text/html": [
       "<div>\n",
       "<table border=\"1\" class=\"dataframe\">\n",
       "  <thead>\n",
       "    <tr style=\"text-align: right;\">\n",
       "      <th></th>\n",
       "      <th>Country</th>\n",
       "      <th>2010</th>\n",
       "      <th>2011</th>\n",
       "      <th>2012</th>\n",
       "      <th>2013</th>\n",
       "      <th>2014</th>\n",
       "      <th>2013 (or nearest year)</th>\n",
       "    </tr>\n",
       "  </thead>\n",
       "  <tbody>\n",
       "    <tr>\n",
       "      <th>0</th>\n",
       "      <td>Australia</td>\n",
       "      <td>NaN</td>\n",
       "      <td>3.31</td>\n",
       "      <td>3.31</td>\n",
       "      <td>3.39</td>\n",
       "      <td>NaN</td>\n",
       "      <td>3.39</td>\n",
       "    </tr>\n",
       "    <tr>\n",
       "      <th>1</th>\n",
       "      <td>Austria</td>\n",
       "      <td>4.80</td>\n",
       "      <td>4.84</td>\n",
       "      <td>4.90</td>\n",
       "      <td>4.99</td>\n",
       "      <td>NaN</td>\n",
       "      <td>4.99</td>\n",
       "    </tr>\n",
       "    <tr>\n",
       "      <th>2</th>\n",
       "      <td>Belgium</td>\n",
       "      <td>2.92</td>\n",
       "      <td>2.91</td>\n",
       "      <td>2.93</td>\n",
       "      <td>2.95</td>\n",
       "      <td>NaN</td>\n",
       "      <td>2.95</td>\n",
       "    </tr>\n",
       "    <tr>\n",
       "      <th>3</th>\n",
       "      <td>Canada</td>\n",
       "      <td>2.37</td>\n",
       "      <td>2.44</td>\n",
       "      <td>2.50</td>\n",
       "      <td>2.55</td>\n",
       "      <td>NaN</td>\n",
       "      <td>2.55</td>\n",
       "    </tr>\n",
       "    <tr>\n",
       "      <th>4</th>\n",
       "      <td>Chile</td>\n",
       "      <td>1.43</td>\n",
       "      <td>1.58</td>\n",
       "      <td>1.74</td>\n",
       "      <td>1.88</td>\n",
       "      <td>2.02</td>\n",
       "      <td>1.88</td>\n",
       "    </tr>\n",
       "  </tbody>\n",
       "</table>\n",
       "</div>"
      ],
      "text/plain": [
       "     Country  2010  2011  2012  2013  2014  2013 (or nearest year)\n",
       "0  Australia   NaN  3.31  3.31  3.39   NaN                    3.39\n",
       "1    Austria  4.80  4.84  4.90  4.99   NaN                    4.99\n",
       "2    Belgium  2.92  2.91  2.93  2.95   NaN                    2.95\n",
       "3     Canada  2.37  2.44  2.50  2.55   NaN                    2.55\n",
       "4      Chile  1.43  1.58  1.74  1.88  2.02                    1.88"
      ]
     },
     "execution_count": 57,
     "metadata": {},
     "output_type": "execute_result"
    }
   ],
   "source": [
    "url1 = 'http://www.oecd.org/health/health-systems/'\n",
    "url2 = 'OECD-Health-Statistics-2015-Frequently-Requested-Data.xls'\n",
    "docs = pd.read_excel(url1+url2, \n",
    "                     skiprows=3, \n",
    "                     usecols=[0, 51, 52, 53, 54, 55, 57],\n",
    "                     sheetname='Physicians', \n",
    "                     na_values=['..'],\n",
    "                     skip_footer=21) \n",
    "# rename country variable \n",
    "names = list(docs)\n",
    "docs = docs.rename(columns={names[0]: 'Country'})\n",
    "# strip footnote numbers from country names \n",
    "docs['Country'] = docs['Country'].str.rsplit(n=1).str.get(0)\n",
    "docs = docs.head()\n",
    "docs"
   ]
  },
  {
   "cell_type": "markdown",
   "metadata": {},
   "source": [
    "Use this data to:  \n",
    "\n",
    "* Set the index as `Country`.  \n",
    "* Construct a horizontal bar chart of the number of doctors in each country in \"2013 (or nearest year)\".  \n",
    "* Apply the `drop` method to `docs` to create a dataframe `new` that's missing the last column.  \n",
    "* *Challenging.* Use `stack` and `unstack` to \"pivot\" the data so that columns are labeled by country names and rows are labeled by year.  This is challenging because we have left out the intermediate steps.  \n",
    "* Plot the number of doctors over time in each country as a line in the same plot. \n",
    "\n",
    "*Comment.* In the last plot, the x axis labels are non-intuitive.  Ignore that.  "
   ]
  },
  {
   "cell_type": "code",
   "execution_count": null,
   "metadata": {
    "collapsed": true
   },
   "outputs": [],
   "source": []
  },
  {
   "cell_type": "code",
   "execution_count": null,
   "metadata": {
    "collapsed": true
   },
   "outputs": [],
   "source": []
  },
  {
   "cell_type": "code",
   "execution_count": null,
   "metadata": {
    "collapsed": true
   },
   "outputs": [],
   "source": []
  },
  {
   "cell_type": "markdown",
   "metadata": {
    "collapsed": true
   },
   "source": [
    "## Resources\n",
    "\n",
    "Far and away the best material on this subject is Brandon Rhodes' 2015 Pycon presentation.  2 hours and 25 minutes and worth every second.  \n",
    "\n",
    "* Video:  https://youtu.be/5JnMutdy6Fw\n",
    "* Materials:  https://github.com/brandon-rhodes/pycon-pandas-tutorial\n",
    "* Outline:  https://github.com/brandon-rhodes/pycon-pandas-tutorial/blob/master/script.txt"
   ]
  },
  {
   "cell_type": "code",
   "execution_count": null,
   "metadata": {
    "collapsed": true
   },
   "outputs": [],
   "source": []
  }
 ],
 "metadata": {
  "kernelspec": {
   "display_name": "Python 3",
   "language": "python",
   "name": "python3"
  },
  "language_info": {
   "codemirror_mode": {
    "name": "ipython",
    "version": 3
   },
   "file_extension": ".py",
   "mimetype": "text/x-python",
   "name": "python",
   "nbconvert_exporter": "python",
   "pygments_lexer": "ipython3",
   "version": "3.5.1"
  }
 },
 "nbformat": 4,
 "nbformat_minor": 0
}
