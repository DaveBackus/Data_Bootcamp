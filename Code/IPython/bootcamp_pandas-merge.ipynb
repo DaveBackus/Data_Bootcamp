{
 "cells": [
  {
   "cell_type": "markdown",
   "metadata": {
    "collapsed": true
   },
   "source": [
    "# Pandas 4:  Combining data  \n",
    "\n",
    "Sometimes we need to combine data from two or more dataframes.  That's colloquially known as a **merge** or a **join**. There are lots of ways to do this.  We do a couple but supply references to more at the end.  \n",
    "\n",
    "Along the way we take an extended detour to review methods for **downloading** and **unzipping** compressed files.  The tools we use here have a broad range of other applications, including web scraping.  \n",
    "\n",
    "Outline:  \n",
    "\n",
    "* [MovieLens data](#movielens).  A collection of movies and individual ratings.  \n",
    "* [Automate file download](#requests).  Use the requests package to get a zipped file, then other tools to unzip it and read in the contents.  \n",
    "* [Merge movie names and ratings](#merge-movies).  Merge information from two dataframes with Pandas' `merge` function.  \n",
    "* [UN population data](#example).  We merge (\"concatenate\") estimates from the past with projections of the future.  \n",
    "\n",
    "**Note: requires internet access to run.**  \n",
    "\n",
    "This IPython notebook was created by Dave Backus, Chase Coleman, Brian LeBlanc, and Spencer Lyon for the NYU Stern course [Data Bootcamp](http://databootcamp.nyuecon.com/).  "
   ]
  },
  {
   "cell_type": "markdown",
   "metadata": {},
   "source": [
    "<a id=prelims></a>"
   ]
  },
  {
   "cell_type": "markdown",
   "metadata": {},
   "source": [
    "## Preliminaries \n",
    "\n",
    "Import packages, etc.  "
   ]
  },
  {
   "cell_type": "code",
   "execution_count": 1,
   "metadata": {
    "collapsed": false
   },
   "outputs": [
    {
     "name": "stdout",
     "output_type": "stream",
     "text": [
      "\n",
      "Python version:  3.5.1 |Anaconda 4.0.0 (64-bit)| (default, Feb 16 2016, 09:49:46) [MSC v.1900 64 bit (AMD64)]\n",
      "Pandas version:  0.18.0\n",
      "Requests version:  2.9.1\n",
      "Today's date: 2016-04-22\n"
     ]
    }
   ],
   "source": [
    "import pandas as pd             # data package\n",
    "import matplotlib.pyplot as plt # graphics \n",
    "import sys                      # system module, used to get Python version \n",
    "import os                       # operating system tools (check files)\n",
    "import datetime as dt           # date tools, used to note current date  \n",
    "\n",
    "# these are new \n",
    "import requests, io             # internet and input tools  \n",
    "import zipfile as zf            # zip file tools \n",
    "import shutil                   # file management tools \n",
    "\n",
    "%matplotlib inline \n",
    "\n",
    "print('\\nPython version: ', sys.version) \n",
    "print('Pandas version: ', pd.__version__)\n",
    "print('Requests version: ', requests.__version__)\n",
    "print(\"Today's date:\", dt.date.today())"
   ]
  },
  {
   "cell_type": "markdown",
   "metadata": {},
   "source": [
    "<a id=movielens></a>"
   ]
  },
  {
   "cell_type": "markdown",
   "metadata": {},
   "source": [
    "## MovieLens data \n",
    "\n",
    "The data comes as a zip file that contains several csv's.  We get the details from the README inside.  (It's written in Markdown, so it's easier to read if we use a browser to format it.  Or we could cut and paste into a Markdown cell in an IPython notebook.)  \n",
    "\n",
    "The file descriptions are:  \n",
    "\n",
    "* `ratings.csv`:  each line is an individual film rating with the rater and movie id's and the rating.  Order:  `userId, movieId, rating, timestamp`. \n",
    "* `tags.csv`:  each line is a tag on a specific film.  Order:  `userId, movieId, tag, timestamp`. \n",
    "* `movies.csv`:  each line is a movie name, its id, and its genre.  Order:  `movieId, title, genres`.  Multiple genres are separated by \"pipes\" `|`.   \n",
    "* `links.csv`:  each line contains the movie id and corresponding id's at [IMBd](http://www.imdb.com/) and [TMDb](https://www.themoviedb.org/).  \n",
    "\n",
    "The easy way to input this data is to download the zip file onto our computer, unzip it, and read the individual csv files using `read.csv()`.  But **anyone can do it the easy way**.  We want to automate this, so we can redo it without any manual steps.  This takes some effort, but once we have it down we can apply it to lots of other data sources.  "
   ]
  },
  {
   "cell_type": "code",
   "execution_count": null,
   "metadata": {
    "collapsed": true
   },
   "outputs": [],
   "source": []
  },
  {
   "cell_type": "markdown",
   "metadata": {},
   "source": [
    "<a id=requests></a>"
   ]
  },
  {
   "cell_type": "markdown",
   "metadata": {},
   "source": [
    "## Automate file download \n",
    "\n",
    "We're looking for an automated way, so that if we do this again, possibly with updated data, the whole process is in our code.  Automated data entry involves these steps: \n",
    "\n",
    "* Get the file.  We use the [requests](http://docs.python-requests.org/) package, which handles internet files and comes pre-installed with Anaconda. This kind of thing was hidden behind the scenes in the Pandas `read_csv` function, but here we need to do it for ourselves. The package authors add:  \n",
    ">Recreational use of other HTTP libraries may result in dangerous side-effects, including: security vulnerabilities, verbose code, reinventing the wheel, constantly reading documentation, depression, headaches, or even death.\n",
    "* Convert to zip.   Requests simply loads whatever's at the given url. The [io](https://docs.python.org/3.5/library/io.html) module's `io.Bytes` reconstructs it as a file, here a zip file.  \n",
    "* Unzip the file.  We use the [zipfile](https://docs.python.org/3.5/library/zipfile.html) module, which is part of core Python, to extract the files inside.   \n",
    "* Read in the csv's.  Now that we've extracted the csv files, we use `read_csv` as usual.  \n",
    "\n",
    "We found this [Stack Overflow exchange](http://stackoverflow.com/questions/23419322/download-a-zip-file-and-extract-it-in-memory-using-python3) helpful. \n",
    "\n",
    "**Digression.**  This is probably more than you want to know, but it's a reminder of what goes on behind the scenes when we apply `read_csv` to a url.  Here we grab whatever is at the url.  Then we get its contents, convert it to bytes, identify it as a zip file, and read its components using `read_csv`.  It's a lot easier when this happens automatically, but a reminder what's involved if we ever have to look into the details.  "
   ]
  },
  {
   "cell_type": "code",
   "execution_count": 2,
   "metadata": {
    "collapsed": false
   },
   "outputs": [
    {
     "name": "stdout",
     "output_type": "stream",
     "text": [
      "Response status code: 200\n",
      "Response type: <class 'requests.models.Response'>\n",
      "Response .content: <class 'bytes'>\n",
      "Response headers:\n",
      "{'Content-Type': 'application/zip', 'Server': 'Apache/2.2.22 (Ubuntu)', 'Date': 'Fri, 22 Apr 2016 17:46:05 GMT', 'Accept-Ranges': 'bytes', 'Keep-Alive': 'timeout=5, max=100', 'ETag': '\"80552-fe029-5291222b37ae7\"', 'Content-Length': '1040425', 'Connection': 'Keep-Alive', 'Last-Modified': 'Mon, 11 Jan 2016 17:19:11 GMT'}\n"
     ]
    }
   ],
   "source": [
    "# get \"response\" from url \n",
    "url = 'http://files.grouplens.org/datasets/movielens/ml-latest-small.zip'\n",
    "r = requests.get(url) \n",
    "\n",
    "# describe response \n",
    "print('Response status code:', r.status_code)\n",
    "print('Response type:', type(r))\n",
    "print('Response .content:', type(r.content)) \n",
    "print('Response headers:\\n', r.headers, sep='')"
   ]
  },
  {
   "cell_type": "code",
   "execution_count": 3,
   "metadata": {
    "collapsed": false
   },
   "outputs": [
    {
     "name": "stdout",
     "output_type": "stream",
     "text": [
      "Type of zipfile object: <class 'zipfile.ZipFile'>\n"
     ]
    }
   ],
   "source": [
    "# convert bytes to zip file  \n",
    "mlz = zf.ZipFile(io.BytesIO(r.content)) \n",
    "print('Type of zipfile object:', type(mlz))"
   ]
  },
  {
   "cell_type": "code",
   "execution_count": 4,
   "metadata": {
    "collapsed": false
   },
   "outputs": [
    {
     "data": {
      "text/plain": [
       "['ml-latest-small/',\n",
       " 'ml-latest-small/links.csv',\n",
       " 'ml-latest-small/movies.csv',\n",
       " 'ml-latest-small/ratings.csv',\n",
       " 'ml-latest-small/README.txt',\n",
       " 'ml-latest-small/tags.csv']"
      ]
     },
     "execution_count": 4,
     "metadata": {},
     "output_type": "execute_result"
    }
   ],
   "source": [
    "# what's in the zip file?\n",
    "mlz.namelist()"
   ]
  },
  {
   "cell_type": "code",
   "execution_count": 5,
   "metadata": {
    "collapsed": true
   },
   "outputs": [],
   "source": [
    "# extract and read csv's\n",
    "movies  = pd.read_csv(mlz.open(mlz.namelist()[2]))\n",
    "ratings = pd.read_csv(mlz.open(mlz.namelist()[3]))"
   ]
  },
  {
   "cell_type": "code",
   "execution_count": 6,
   "metadata": {
    "collapsed": false
   },
   "outputs": [
    {
     "name": "stdout",
     "output_type": "stream",
     "text": [
      "Type: <class 'pandas.core.frame.DataFrame'>\n",
      "Dimensions: (10329, 3)\n",
      "Variables: ['movieId', 'title', 'genres']\n",
      "First few rows    movieId                    title  \\\n",
      "0        1         Toy Story (1995)   \n",
      "1        2           Jumanji (1995)   \n",
      "2        3  Grumpier Old Men (1995)   \n",
      "\n",
      "                                        genres  \n",
      "0  Adventure|Animation|Children|Comedy|Fantasy  \n",
      "1                   Adventure|Children|Fantasy  \n",
      "2                               Comedy|Romance   \n",
      "\n",
      "Type: <class 'pandas.core.frame.DataFrame'>\n",
      "Dimensions: (105339, 4)\n",
      "Variables: ['userId', 'movieId', 'rating', 'timestamp']\n",
      "First few rows    userId  movieId  rating   timestamp\n",
      "0       1       16     4.0  1217897793\n",
      "1       1       24     1.5  1217895807\n",
      "2       1       32     4.0  1217896246 \n",
      "\n"
     ]
    }
   ],
   "source": [
    "# what do we have? \n",
    "for df in [movies, ratings]:\n",
    "    print('Type:', type(df))\n",
    "    print('Dimensions:', df.shape)\n",
    "    print('Variables:', list(df))\n",
    "    print('First few rows', df.head(3), '\\n')"
   ]
  },
  {
   "cell_type": "code",
   "execution_count": null,
   "metadata": {
    "collapsed": true
   },
   "outputs": [],
   "source": []
  },
  {
   "cell_type": "markdown",
   "metadata": {},
   "source": [
    "**Exercise.** Something to do together.  suppose we wanted to save the files on our computer.  How would we do it? Would we prefer individual csv's or a single zip?"
   ]
  },
  {
   "cell_type": "code",
   "execution_count": null,
   "metadata": {
    "collapsed": true
   },
   "outputs": [],
   "source": []
  },
  {
   "cell_type": "code",
   "execution_count": null,
   "metadata": {
    "collapsed": true
   },
   "outputs": [],
   "source": []
  },
  {
   "cell_type": "code",
   "execution_count": 7,
   "metadata": {
    "collapsed": false
   },
   "outputs": [],
   "source": [
    "# experiment via http://stackoverflow.com/a/18043472/804513\n",
    "with open('test.zip', 'wb') as out_file:\n",
    "    shutil.copyfileobj(io.BytesIO(r.content), out_file)   "
   ]
  },
  {
   "cell_type": "markdown",
   "metadata": {},
   "source": [
    "<a id=merge-movies></a>"
   ]
  },
  {
   "cell_type": "markdown",
   "metadata": {},
   "source": [
    "## Merging ratings and movie titles \n",
    "\n",
    "The movie ratings in the dataframe `ratings` give us individual opinions about movies, but they don't include the name of the movie.   Why not?  Rather than include the name every time a movie is rated, the MovieLens data associates each rating with a movie code, than stores the names of movies associatd with each movie code in the dataframe `movies`.  We run across this a lot:  some information is in one data table, other information is in another.  \n",
    "\n",
    "Our **want** is therefore to add the movie name to the `ratings` dataframe.  We say we **merge** the two dataferames.  There are lots of ways to merge.  Here we do one as an illustration.  \n",
    "\n",
    "Let's start by reminding ourselves what we have.  "
   ]
  },
  {
   "cell_type": "code",
   "execution_count": 8,
   "metadata": {
    "collapsed": false
   },
   "outputs": [
    {
     "data": {
      "text/html": [
       "<div>\n",
       "<table border=\"1\" class=\"dataframe\">\n",
       "  <thead>\n",
       "    <tr style=\"text-align: right;\">\n",
       "      <th></th>\n",
       "      <th>userId</th>\n",
       "      <th>movieId</th>\n",
       "      <th>rating</th>\n",
       "      <th>timestamp</th>\n",
       "    </tr>\n",
       "  </thead>\n",
       "  <tbody>\n",
       "    <tr>\n",
       "      <th>0</th>\n",
       "      <td>1</td>\n",
       "      <td>16</td>\n",
       "      <td>4.0</td>\n",
       "      <td>1217897793</td>\n",
       "    </tr>\n",
       "    <tr>\n",
       "      <th>1</th>\n",
       "      <td>1</td>\n",
       "      <td>24</td>\n",
       "      <td>1.5</td>\n",
       "      <td>1217895807</td>\n",
       "    </tr>\n",
       "    <tr>\n",
       "      <th>2</th>\n",
       "      <td>1</td>\n",
       "      <td>32</td>\n",
       "      <td>4.0</td>\n",
       "      <td>1217896246</td>\n",
       "    </tr>\n",
       "  </tbody>\n",
       "</table>\n",
       "</div>"
      ],
      "text/plain": [
       "   userId  movieId  rating   timestamp\n",
       "0       1       16     4.0  1217897793\n",
       "1       1       24     1.5  1217895807\n",
       "2       1       32     4.0  1217896246"
      ]
     },
     "execution_count": 8,
     "metadata": {},
     "output_type": "execute_result"
    }
   ],
   "source": [
    "ratings.head(3)"
   ]
  },
  {
   "cell_type": "code",
   "execution_count": 9,
   "metadata": {
    "collapsed": false
   },
   "outputs": [
    {
     "data": {
      "text/html": [
       "<div>\n",
       "<table border=\"1\" class=\"dataframe\">\n",
       "  <thead>\n",
       "    <tr style=\"text-align: right;\">\n",
       "      <th></th>\n",
       "      <th>movieId</th>\n",
       "      <th>title</th>\n",
       "      <th>genres</th>\n",
       "    </tr>\n",
       "  </thead>\n",
       "  <tbody>\n",
       "    <tr>\n",
       "      <th>0</th>\n",
       "      <td>1</td>\n",
       "      <td>Toy Story (1995)</td>\n",
       "      <td>Adventure|Animation|Children|Comedy|Fantasy</td>\n",
       "    </tr>\n",
       "    <tr>\n",
       "      <th>1</th>\n",
       "      <td>2</td>\n",
       "      <td>Jumanji (1995)</td>\n",
       "      <td>Adventure|Children|Fantasy</td>\n",
       "    </tr>\n",
       "    <tr>\n",
       "      <th>2</th>\n",
       "      <td>3</td>\n",
       "      <td>Grumpier Old Men (1995)</td>\n",
       "      <td>Comedy|Romance</td>\n",
       "    </tr>\n",
       "  </tbody>\n",
       "</table>\n",
       "</div>"
      ],
      "text/plain": [
       "   movieId                    title  \\\n",
       "0        1         Toy Story (1995)   \n",
       "1        2           Jumanji (1995)   \n",
       "2        3  Grumpier Old Men (1995)   \n",
       "\n",
       "                                        genres  \n",
       "0  Adventure|Animation|Children|Comedy|Fantasy  \n",
       "1                   Adventure|Children|Fantasy  \n",
       "2                               Comedy|Romance  "
      ]
     },
     "execution_count": 9,
     "metadata": {},
     "output_type": "execute_result"
    }
   ],
   "source": [
    "movies.head(3)"
   ]
  },
  {
   "cell_type": "code",
   "execution_count": null,
   "metadata": {
    "collapsed": true
   },
   "outputs": [],
   "source": []
  },
  {
   "cell_type": "markdown",
   "metadata": {},
   "source": [
    "### Merging\n",
    "\n",
    "Here's roughly what's involved in what we're doing.  We take the `movieId` variable from `ratings` and look it up in `movies`.  When we find it, we look up the `title` and add it as a column in `ratings`.  The variable `movieId` is common, so we can use it to link the two dataframes.  "
   ]
  },
  {
   "cell_type": "code",
   "execution_count": 10,
   "metadata": {
    "collapsed": false
   },
   "outputs": [
    {
     "name": "stdout",
     "output_type": "stream",
     "text": [
      "Dimensions of ratings: (105339, 4)\n",
      "Dimensions of movies: (10329, 3)\n",
      "Dimensions of new df: (105339, 6)\n"
     ]
    },
    {
     "data": {
      "text/html": [
       "<div>\n",
       "<table border=\"1\" class=\"dataframe\">\n",
       "  <thead>\n",
       "    <tr style=\"text-align: right;\">\n",
       "      <th></th>\n",
       "      <th>userId</th>\n",
       "      <th>movieId</th>\n",
       "      <th>rating</th>\n",
       "      <th>timestamp</th>\n",
       "      <th>title</th>\n",
       "      <th>genres</th>\n",
       "    </tr>\n",
       "  </thead>\n",
       "  <tbody>\n",
       "    <tr>\n",
       "      <th>0</th>\n",
       "      <td>1</td>\n",
       "      <td>16</td>\n",
       "      <td>4.0</td>\n",
       "      <td>1217897793</td>\n",
       "      <td>Casino (1995)</td>\n",
       "      <td>Crime|Drama</td>\n",
       "    </tr>\n",
       "    <tr>\n",
       "      <th>1</th>\n",
       "      <td>1</td>\n",
       "      <td>24</td>\n",
       "      <td>1.5</td>\n",
       "      <td>1217895807</td>\n",
       "      <td>Powder (1995)</td>\n",
       "      <td>Drama|Sci-Fi</td>\n",
       "    </tr>\n",
       "    <tr>\n",
       "      <th>2</th>\n",
       "      <td>1</td>\n",
       "      <td>32</td>\n",
       "      <td>4.0</td>\n",
       "      <td>1217896246</td>\n",
       "      <td>Twelve Monkeys (a.k.a. 12 Monkeys) (1995)</td>\n",
       "      <td>Mystery|Sci-Fi|Thriller</td>\n",
       "    </tr>\n",
       "    <tr>\n",
       "      <th>3</th>\n",
       "      <td>1</td>\n",
       "      <td>47</td>\n",
       "      <td>4.0</td>\n",
       "      <td>1217896556</td>\n",
       "      <td>Seven (a.k.a. Se7en) (1995)</td>\n",
       "      <td>Mystery|Thriller</td>\n",
       "    </tr>\n",
       "    <tr>\n",
       "      <th>4</th>\n",
       "      <td>1</td>\n",
       "      <td>50</td>\n",
       "      <td>4.0</td>\n",
       "      <td>1217896523</td>\n",
       "      <td>Usual Suspects, The (1995)</td>\n",
       "      <td>Crime|Mystery|Thriller</td>\n",
       "    </tr>\n",
       "    <tr>\n",
       "      <th>5</th>\n",
       "      <td>1</td>\n",
       "      <td>110</td>\n",
       "      <td>4.0</td>\n",
       "      <td>1217896150</td>\n",
       "      <td>Braveheart (1995)</td>\n",
       "      <td>Action|Drama|War</td>\n",
       "    </tr>\n",
       "    <tr>\n",
       "      <th>6</th>\n",
       "      <td>1</td>\n",
       "      <td>150</td>\n",
       "      <td>3.0</td>\n",
       "      <td>1217895940</td>\n",
       "      <td>Apollo 13 (1995)</td>\n",
       "      <td>Adventure|Drama|IMAX</td>\n",
       "    </tr>\n",
       "    <tr>\n",
       "      <th>7</th>\n",
       "      <td>1</td>\n",
       "      <td>161</td>\n",
       "      <td>4.0</td>\n",
       "      <td>1217897864</td>\n",
       "      <td>Crimson Tide (1995)</td>\n",
       "      <td>Drama|Thriller|War</td>\n",
       "    </tr>\n",
       "    <tr>\n",
       "      <th>8</th>\n",
       "      <td>1</td>\n",
       "      <td>165</td>\n",
       "      <td>3.0</td>\n",
       "      <td>1217897135</td>\n",
       "      <td>Die Hard: With a Vengeance (1995)</td>\n",
       "      <td>Action|Crime|Thriller</td>\n",
       "    </tr>\n",
       "    <tr>\n",
       "      <th>9</th>\n",
       "      <td>1</td>\n",
       "      <td>204</td>\n",
       "      <td>0.5</td>\n",
       "      <td>1217895786</td>\n",
       "      <td>Under Siege 2: Dark Territory (1995)</td>\n",
       "      <td>Action</td>\n",
       "    </tr>\n",
       "    <tr>\n",
       "      <th>10</th>\n",
       "      <td>1</td>\n",
       "      <td>223</td>\n",
       "      <td>4.0</td>\n",
       "      <td>1217897795</td>\n",
       "      <td>Clerks (1994)</td>\n",
       "      <td>Comedy</td>\n",
       "    </tr>\n",
       "    <tr>\n",
       "      <th>11</th>\n",
       "      <td>1</td>\n",
       "      <td>256</td>\n",
       "      <td>0.5</td>\n",
       "      <td>1217895764</td>\n",
       "      <td>Junior (1994)</td>\n",
       "      <td>Comedy|Sci-Fi</td>\n",
       "    </tr>\n",
       "    <tr>\n",
       "      <th>12</th>\n",
       "      <td>1</td>\n",
       "      <td>260</td>\n",
       "      <td>4.5</td>\n",
       "      <td>1217895864</td>\n",
       "      <td>Star Wars: Episode IV - A New Hope (1977)</td>\n",
       "      <td>Action|Adventure|Sci-Fi</td>\n",
       "    </tr>\n",
       "    <tr>\n",
       "      <th>13</th>\n",
       "      <td>1</td>\n",
       "      <td>261</td>\n",
       "      <td>1.5</td>\n",
       "      <td>1217895750</td>\n",
       "      <td>Little Women (1994)</td>\n",
       "      <td>Drama</td>\n",
       "    </tr>\n",
       "    <tr>\n",
       "      <th>14</th>\n",
       "      <td>1</td>\n",
       "      <td>277</td>\n",
       "      <td>0.5</td>\n",
       "      <td>1217895772</td>\n",
       "      <td>Miracle on 34th Street (1994)</td>\n",
       "      <td>Drama</td>\n",
       "    </tr>\n",
       "    <tr>\n",
       "      <th>15</th>\n",
       "      <td>1</td>\n",
       "      <td>296</td>\n",
       "      <td>4.0</td>\n",
       "      <td>1217896125</td>\n",
       "      <td>Pulp Fiction (1994)</td>\n",
       "      <td>Comedy|Crime|Drama|Thriller</td>\n",
       "    </tr>\n",
       "    <tr>\n",
       "      <th>16</th>\n",
       "      <td>1</td>\n",
       "      <td>318</td>\n",
       "      <td>4.0</td>\n",
       "      <td>1217895860</td>\n",
       "      <td>Shawshank Redemption, The (1994)</td>\n",
       "      <td>Crime|Drama</td>\n",
       "    </tr>\n",
       "    <tr>\n",
       "      <th>17</th>\n",
       "      <td>1</td>\n",
       "      <td>349</td>\n",
       "      <td>4.5</td>\n",
       "      <td>1217897058</td>\n",
       "      <td>Clear and Present Danger (1994)</td>\n",
       "      <td>Action|Crime|Drama|Thriller</td>\n",
       "    </tr>\n",
       "    <tr>\n",
       "      <th>18</th>\n",
       "      <td>1</td>\n",
       "      <td>356</td>\n",
       "      <td>3.0</td>\n",
       "      <td>1217896231</td>\n",
       "      <td>Forrest Gump (1994)</td>\n",
       "      <td>Comedy|Drama|Romance|War</td>\n",
       "    </tr>\n",
       "    <tr>\n",
       "      <th>19</th>\n",
       "      <td>1</td>\n",
       "      <td>377</td>\n",
       "      <td>2.5</td>\n",
       "      <td>1217896373</td>\n",
       "      <td>Speed (1994)</td>\n",
       "      <td>Action|Romance|Thriller</td>\n",
       "    </tr>\n",
       "  </tbody>\n",
       "</table>\n",
       "</div>"
      ],
      "text/plain": [
       "    userId  movieId  rating   timestamp  \\\n",
       "0        1       16     4.0  1217897793   \n",
       "1        1       24     1.5  1217895807   \n",
       "2        1       32     4.0  1217896246   \n",
       "3        1       47     4.0  1217896556   \n",
       "4        1       50     4.0  1217896523   \n",
       "5        1      110     4.0  1217896150   \n",
       "6        1      150     3.0  1217895940   \n",
       "7        1      161     4.0  1217897864   \n",
       "8        1      165     3.0  1217897135   \n",
       "9        1      204     0.5  1217895786   \n",
       "10       1      223     4.0  1217897795   \n",
       "11       1      256     0.5  1217895764   \n",
       "12       1      260     4.5  1217895864   \n",
       "13       1      261     1.5  1217895750   \n",
       "14       1      277     0.5  1217895772   \n",
       "15       1      296     4.0  1217896125   \n",
       "16       1      318     4.0  1217895860   \n",
       "17       1      349     4.5  1217897058   \n",
       "18       1      356     3.0  1217896231   \n",
       "19       1      377     2.5  1217896373   \n",
       "\n",
       "                                        title                       genres  \n",
       "0                               Casino (1995)                  Crime|Drama  \n",
       "1                               Powder (1995)                 Drama|Sci-Fi  \n",
       "2   Twelve Monkeys (a.k.a. 12 Monkeys) (1995)      Mystery|Sci-Fi|Thriller  \n",
       "3                 Seven (a.k.a. Se7en) (1995)             Mystery|Thriller  \n",
       "4                  Usual Suspects, The (1995)       Crime|Mystery|Thriller  \n",
       "5                           Braveheart (1995)             Action|Drama|War  \n",
       "6                            Apollo 13 (1995)         Adventure|Drama|IMAX  \n",
       "7                         Crimson Tide (1995)           Drama|Thriller|War  \n",
       "8           Die Hard: With a Vengeance (1995)        Action|Crime|Thriller  \n",
       "9        Under Siege 2: Dark Territory (1995)                       Action  \n",
       "10                              Clerks (1994)                       Comedy  \n",
       "11                              Junior (1994)                Comedy|Sci-Fi  \n",
       "12  Star Wars: Episode IV - A New Hope (1977)      Action|Adventure|Sci-Fi  \n",
       "13                        Little Women (1994)                        Drama  \n",
       "14              Miracle on 34th Street (1994)                        Drama  \n",
       "15                        Pulp Fiction (1994)  Comedy|Crime|Drama|Thriller  \n",
       "16           Shawshank Redemption, The (1994)                  Crime|Drama  \n",
       "17            Clear and Present Danger (1994)  Action|Crime|Drama|Thriller  \n",
       "18                        Forrest Gump (1994)     Comedy|Drama|Romance|War  \n",
       "19                               Speed (1994)      Action|Romance|Thriller  "
      ]
     },
     "execution_count": 10,
     "metadata": {},
     "output_type": "execute_result"
    }
   ],
   "source": [
    "combo = pd.merge(ratings, movies,   # left and right df's\n",
    "                 how='left',        # add to left \n",
    "                 on='movieId'       # link with this variable/column \n",
    "                ) \n",
    "\n",
    "print('Dimensions of ratings:', ratings.shape)\n",
    "print('Dimensions of movies:', movies.shape)\n",
    "print('Dimensions of new df:', combo.shape)\n",
    "\n",
    "combo.head(20)"
   ]
  },
  {
   "cell_type": "code",
   "execution_count": null,
   "metadata": {
    "collapsed": true
   },
   "outputs": [],
   "source": []
  },
  {
   "cell_type": "code",
   "execution_count": 11,
   "metadata": {
    "collapsed": true
   },
   "outputs": [],
   "source": [
    "# save as csv file for future use \n",
    "combo.to_csv('mlcombined.csv')"
   ]
  },
  {
   "cell_type": "code",
   "execution_count": 12,
   "metadata": {
    "collapsed": false
   },
   "outputs": [
    {
     "name": "stdout",
     "output_type": "stream",
     "text": [
      "Current directory:\n",
      "C:\\Users\\dbackus\\Dropbox\\Documents\\Classes\\Data_Bootcamp\\Code\\IPython\n",
      "List of files:\n",
      "['.ipynb_checkpoints', 'bootcamp_advgraphics_seaborn.ipynb', 'bootcamp_data_management.ipynb', 'bootcamp_data_management_datasets.ipynb', 'bootcamp_examples.ipynb', 'bootcamp_exam_practice.ipynb', 'bootcamp_exam_practice_answerkey.ipynb', 'bootcamp_exam_s16_answerkey.ipynb', 'bootcamp_graphics.ipynb', 'bootcamp_indicators.ipynb', 'bootcamp_pandas-clean.ipynb', 'bootcamp_pandas-group.ipynb', 'bootcamp_pandas-merge.ipynb', 'bootcamp_pandas-shape.ipynb', 'bootcamp_pandas-summarize.ipynb', 'bootcamp_practice_a.ipynb', 'bootcamp_practice_a_answerkey.ipynb', 'bootcamp_sandbox.ipynb', 'bootcamp_test.ipynb', 'mlcombined.csv', 'test.zip']\n"
     ]
    }
   ],
   "source": [
    "print('Current directory:\\n', os.getcwd(), sep='')\n",
    "print('List of files:', os.listdir(), sep='\\n')"
   ]
  },
  {
   "cell_type": "code",
   "execution_count": null,
   "metadata": {
    "collapsed": true
   },
   "outputs": [],
   "source": []
  },
  {
   "cell_type": "markdown",
   "metadata": {},
   "source": [
    "**Exercise.** Some of these we know how to do, the others we don't.  For the ones we know, what is the answer?  For the others, what (in loose terms) do we need to be able to do to come up with an answer?  \n",
    "\n",
    "* What is the overall average rating?  \n",
    "* What is the overall distribution of ratings?  \n",
    "* What is the average rating of each movie?  \n",
    "* How many ratings does each movie get?  "
   ]
  },
  {
   "cell_type": "code",
   "execution_count": null,
   "metadata": {
    "collapsed": true
   },
   "outputs": [],
   "source": []
  },
  {
   "cell_type": "code",
   "execution_count": null,
   "metadata": {
    "collapsed": true
   },
   "outputs": [],
   "source": []
  },
  {
   "cell_type": "code",
   "execution_count": 13,
   "metadata": {
    "collapsed": false
   },
   "outputs": [
    {
     "data": {
      "text/plain": [
       "\"\\nfig, ax = plt.subplots()\\nbins = [bin/100 for bin in list(range(25, 575, 50))]\\nprint(bins)\\ncombo['rating'].plot(kind='hist', ax=ax, bins=bins, color='blue', alpha=0.5)\\nax.set_xlim(0,5.5)\\nax.set_ylabel('Number')\\nax.set_xlabel('Rating')\\n\""
      ]
     },
     "execution_count": 13,
     "metadata": {},
     "output_type": "execute_result"
    }
   ],
   "source": [
    "\"\"\"\n",
    "fig, ax = plt.subplots()\n",
    "bins = [bin/100 for bin in list(range(25, 575, 50))]\n",
    "print(bins)\n",
    "combo['rating'].plot(kind='hist', ax=ax, bins=bins, color='blue', alpha=0.5)\n",
    "ax.set_xlim(0,5.5)\n",
    "ax.set_ylabel('Number')\n",
    "ax.set_xlabel('Rating')\n",
    "\"\"\""
   ]
  },
  {
   "cell_type": "code",
   "execution_count": null,
   "metadata": {
    "collapsed": true
   },
   "outputs": [],
   "source": []
  },
  {
   "cell_type": "markdown",
   "metadata": {},
   "source": [
    "<a id=population></a>"
   ]
  },
  {
   "cell_type": "markdown",
   "metadata": {},
   "source": [
    "## Population \"estimates\" and \"projections\" \n",
    "\n",
    "We look (again) at the UN's  [population data](http://esa.un.org/unpd/wpp/Download/Standard/Population/), specifically the age distribution of the population.  The data comes in two sheets:  *estimates* that cover the period 1950-2015 and *projections* that cover 2016-2100.  Our mission is to combine them.  "
   ]
  },
  {
   "cell_type": "markdown",
   "metadata": {},
   "source": [
    "### Load data \n",
    "\n",
    "We start, as usual, by loading the data.  This takes a minute or so.  "
   ]
  },
  {
   "cell_type": "code",
   "execution_count": 14,
   "metadata": {
    "collapsed": false
   },
   "outputs": [
    {
     "name": "stdout",
     "output_type": "stream",
     "text": [
      "Dimensions and dtypes of estimates: (3374, 24)\n",
      "Major area, region, country or area *     object\n",
      "Reference date (as of 1 July)              int64\n",
      "0-4                                      float64\n",
      "5-9                                      float64\n",
      "10-14                                    float64\n",
      "dtype: object\n",
      "\n",
      "Dimensions and dtypes of projections: (4338, 23)\n",
      "Major area, region, country or area *     object\n",
      "Reference date (as of 1 July)              int64\n",
      "0-4                                      float64\n",
      "5-9                                      float64\n",
      "10-14                                    float64\n",
      "dtype: object\n"
     ]
    }
   ],
   "source": [
    "url1 = 'http://esa.un.org/unpd/wpp/DVD/Files/'\n",
    "url2 = '1_Indicators%20(Standard)/EXCEL_FILES/1_Population/'\n",
    "url3 = 'WPP2015_POP_F07_1_POPULATION_BY_AGE_BOTH_SEXES.XLS'\n",
    "url = url1 + url2 + url3 \n",
    "\n",
    "cols = [2, 5] + list(range(6,28))\n",
    "est = pd.read_excel(url, sheetname=0, skiprows=16, parse_cols=cols, na_values=['…'])\n",
    "prj = pd.read_excel(url, sheetname=1, skiprows=16, parse_cols=cols, na_values=['…'])\n",
    "\n",
    "print('Dimensions and dtypes of estimates: ', est.shape, '\\n', est.dtypes.head(), sep='')\n",
    "print('\\nDimensions and dtypes of projections: ', prj.shape, '\\n', prj.dtypes.head(), sep='')"
   ]
  },
  {
   "cell_type": "markdown",
   "metadata": {},
   "source": [
    "**Comment.** Note that they have different numbers of columns.  Let's see where that comes from.  "
   ]
  },
  {
   "cell_type": "code",
   "execution_count": 15,
   "metadata": {
    "collapsed": false
   },
   "outputs": [
    {
     "data": {
      "text/plain": [
       "['65-69', '70-74', '75-79', '80+', '80-84', '85-89', '90-94', '95-99', '100+']"
      ]
     },
     "execution_count": 15,
     "metadata": {},
     "output_type": "execute_result"
    }
   ],
   "source": [
    "list(est)[15:]"
   ]
  },
  {
   "cell_type": "code",
   "execution_count": 16,
   "metadata": {
    "collapsed": false
   },
   "outputs": [
    {
     "data": {
      "text/plain": [
       "['65-69', '70-74', '75-79', '80-84', '85-89', '90-94', '95-99', '100+']"
      ]
     },
     "execution_count": 16,
     "metadata": {},
     "output_type": "execute_result"
    }
   ],
   "source": [
    "list(prj)[15:]"
   ]
  },
  {
   "cell_type": "code",
   "execution_count": null,
   "metadata": {
    "collapsed": true
   },
   "outputs": [],
   "source": []
  },
  {
   "cell_type": "markdown",
   "metadata": {
    "collapsed": true
   },
   "source": [
    "### Clean data \n",
    "\n",
    "Pick a useable subset and fix extra column so that we can combine them.  The problem here is that until 1990, the highest age category was `'80+`.  From 1990 on, we have a finer breakdown.  \n",
    "\n",
    "We fix this by reassigning `'80+'` to `'80-84'` and not worrying that some of these people are 85 or older.  Note that `df.fillna(0.0)` replaces missing values with zeros.  "
   ]
  },
  {
   "cell_type": "code",
   "execution_count": 17,
   "metadata": {
    "collapsed": false
   },
   "outputs": [
    {
     "name": "stdout",
     "output_type": "stream",
     "text": [
      "Dimensions of cleaned estimates:  (2, 23)\n",
      "Dimensions of cleaned projections:  (2, 23)\n"
     ]
    }
   ],
   "source": [
    "def cleanpop(df, countries, years): \n",
    "    \"\"\"\n",
    "    take df as input and select countries and years \n",
    "    \"\"\"\n",
    "    # rename first two columns \n",
    "    names = list(df) \n",
    "    df = df.rename(columns={names[0]: 'Country', names[1]: 'Year'}) \n",
    "\n",
    "    # select countries and years\n",
    "    newdf = df[df['Country'].isin(countries) & df['Year'].isin(years)] \n",
    "    \n",
    "    return newdf\n",
    "\n",
    "countries = ['Japan']\n",
    "past      = [1950, 2000]\n",
    "future    = [2050, 2100]\n",
    "\n",
    "e = cleanpop(est, countries, past) \n",
    "p = cleanpop(prj, countries, future)\n",
    "\n",
    "# make copie sfor later use \n",
    "ealt = e.copy()\n",
    "palt = p.copy()\n",
    "\n",
    "# fix top-coding in estimates\n",
    "e['80-84'] = e['80-84'].fillna(0.0) + e['80+'].fillna(0.0)\n",
    "e = e.drop(['80+'], axis=1)\n",
    "\n",
    "# check dimensions again\n",
    "print('Dimensions of cleaned estimates: ', e.shape)\n",
    "print('Dimensions of cleaned projections: ', p.shape)"
   ]
  },
  {
   "cell_type": "code",
   "execution_count": 19,
   "metadata": {
    "collapsed": false
   },
   "outputs": [
    {
     "data": {
      "text/plain": [
       "True"
      ]
     },
     "execution_count": 19,
     "metadata": {},
     "output_type": "execute_result"
    }
   ],
   "source": [
    "# check to see if we have the same variables \n",
    "list(e) == list(p)"
   ]
  },
  {
   "cell_type": "code",
   "execution_count": null,
   "metadata": {
    "collapsed": true
   },
   "outputs": [],
   "source": []
  },
  {
   "cell_type": "markdown",
   "metadata": {},
   "source": [
    "### Merge estimates and projections \n",
    "\n",
    "If we have two blocks of data, and want just want to put them on top of each other, we use the Pandas' `concatenate` function.  Ditto two blocks next to each other.  \n",
    "\n",
    "But first we need to fix the difference in the columns of the two dataframes.  "
   ]
  },
  {
   "cell_type": "code",
   "execution_count": 20,
   "metadata": {
    "collapsed": false
   },
   "outputs": [
    {
     "data": {
      "text/html": [
       "<div>\n",
       "<table border=\"1\" class=\"dataframe\">\n",
       "  <thead>\n",
       "    <tr style=\"text-align: right;\">\n",
       "      <th></th>\n",
       "      <th>Country</th>\n",
       "      <th>Year</th>\n",
       "      <th>0-4</th>\n",
       "      <th>5-9</th>\n",
       "      <th>10-14</th>\n",
       "      <th>15-19</th>\n",
       "      <th>20-24</th>\n",
       "      <th>25-29</th>\n",
       "      <th>30-34</th>\n",
       "      <th>35-39</th>\n",
       "      <th>...</th>\n",
       "      <th>55-59</th>\n",
       "      <th>60-64</th>\n",
       "      <th>65-69</th>\n",
       "      <th>70-74</th>\n",
       "      <th>75-79</th>\n",
       "      <th>80-84</th>\n",
       "      <th>85-89</th>\n",
       "      <th>90-94</th>\n",
       "      <th>95-99</th>\n",
       "      <th>100+</th>\n",
       "    </tr>\n",
       "  </thead>\n",
       "  <tbody>\n",
       "    <tr>\n",
       "      <th>1134</th>\n",
       "      <td>Japan</td>\n",
       "      <td>1950</td>\n",
       "      <td>10997.606</td>\n",
       "      <td>9448.307</td>\n",
       "      <td>8634.342</td>\n",
       "      <td>8484.002</td>\n",
       "      <td>7636.338</td>\n",
       "      <td>6089.337</td>\n",
       "      <td>5104.356</td>\n",
       "      <td>4989.952</td>\n",
       "      <td>...</td>\n",
       "      <td>2728.668</td>\n",
       "      <td>2277.718</td>\n",
       "      <td>1757.865</td>\n",
       "      <td>1271.333</td>\n",
       "      <td>674.869</td>\n",
       "      <td>362.356</td>\n",
       "      <td>0.000</td>\n",
       "      <td>0.000</td>\n",
       "      <td>0.000</td>\n",
       "      <td>0.000</td>\n",
       "    </tr>\n",
       "    <tr>\n",
       "      <th>1144</th>\n",
       "      <td>Japan</td>\n",
       "      <td>2000</td>\n",
       "      <td>5858.083</td>\n",
       "      <td>5992.304</td>\n",
       "      <td>6534.552</td>\n",
       "      <td>7481.678</td>\n",
       "      <td>8394.685</td>\n",
       "      <td>9782.756</td>\n",
       "      <td>8684.281</td>\n",
       "      <td>8046.208</td>\n",
       "      <td>...</td>\n",
       "      <td>8654.066</td>\n",
       "      <td>7673.926</td>\n",
       "      <td>7024.429</td>\n",
       "      <td>5825.320</td>\n",
       "      <td>4082.687</td>\n",
       "      <td>2540.718</td>\n",
       "      <td>1476.095</td>\n",
       "      <td>527.205</td>\n",
       "      <td>111.014</td>\n",
       "      <td>10.780</td>\n",
       "    </tr>\n",
       "    <tr>\n",
       "      <th>1465</th>\n",
       "      <td>Japan</td>\n",
       "      <td>2050</td>\n",
       "      <td>4365.709</td>\n",
       "      <td>4454.049</td>\n",
       "      <td>4533.887</td>\n",
       "      <td>4644.123</td>\n",
       "      <td>4791.892</td>\n",
       "      <td>4986.758</td>\n",
       "      <td>5222.010</td>\n",
       "      <td>5419.444</td>\n",
       "      <td>...</td>\n",
       "      <td>6065.917</td>\n",
       "      <td>6630.748</td>\n",
       "      <td>7010.576</td>\n",
       "      <td>7539.984</td>\n",
       "      <td>8225.455</td>\n",
       "      <td>6530.305</td>\n",
       "      <td>4766.516</td>\n",
       "      <td>2968.450</td>\n",
       "      <td>1523.374</td>\n",
       "      <td>441.117</td>\n",
       "    </tr>\n",
       "    <tr>\n",
       "      <th>1475</th>\n",
       "      <td>Japan</td>\n",
       "      <td>2100</td>\n",
       "      <td>3662.422</td>\n",
       "      <td>3723.514</td>\n",
       "      <td>3791.893</td>\n",
       "      <td>3872.946</td>\n",
       "      <td>3960.466</td>\n",
       "      <td>4046.149</td>\n",
       "      <td>4121.987</td>\n",
       "      <td>4203.284</td>\n",
       "      <td>...</td>\n",
       "      <td>4561.356</td>\n",
       "      <td>4613.669</td>\n",
       "      <td>4655.102</td>\n",
       "      <td>4687.750</td>\n",
       "      <td>4715.118</td>\n",
       "      <td>4656.733</td>\n",
       "      <td>4296.603</td>\n",
       "      <td>3419.217</td>\n",
       "      <td>2105.037</td>\n",
       "      <td>904.728</td>\n",
       "    </tr>\n",
       "  </tbody>\n",
       "</table>\n",
       "<p>4 rows × 23 columns</p>\n",
       "</div>"
      ],
      "text/plain": [
       "     Country  Year        0-4       5-9     10-14     15-19     20-24  \\\n",
       "1134   Japan  1950  10997.606  9448.307  8634.342  8484.002  7636.338   \n",
       "1144   Japan  2000   5858.083  5992.304  6534.552  7481.678  8394.685   \n",
       "1465   Japan  2050   4365.709  4454.049  4533.887  4644.123  4791.892   \n",
       "1475   Japan  2100   3662.422  3723.514  3791.893  3872.946  3960.466   \n",
       "\n",
       "         25-29     30-34     35-39   ...        55-59     60-64     65-69  \\\n",
       "1134  6089.337  5104.356  4989.952   ...     2728.668  2277.718  1757.865   \n",
       "1144  9782.756  8684.281  8046.208   ...     8654.066  7673.926  7024.429   \n",
       "1465  4986.758  5222.010  5419.444   ...     6065.917  6630.748  7010.576   \n",
       "1475  4046.149  4121.987  4203.284   ...     4561.356  4613.669  4655.102   \n",
       "\n",
       "         70-74     75-79     80-84     85-89     90-94     95-99     100+  \n",
       "1134  1271.333   674.869   362.356     0.000     0.000     0.000    0.000  \n",
       "1144  5825.320  4082.687  2540.718  1476.095   527.205   111.014   10.780  \n",
       "1465  7539.984  8225.455  6530.305  4766.516  2968.450  1523.374  441.117  \n",
       "1475  4687.750  4715.118  4656.733  4296.603  3419.217  2105.037  904.728  \n",
       "\n",
       "[4 rows x 23 columns]"
      ]
     },
     "execution_count": 20,
     "metadata": {},
     "output_type": "execute_result"
    }
   ],
   "source": [
    "pop = pd.concat([e, p], axis=0).fillna(0.0)\n",
    "pop"
   ]
  },
  {
   "cell_type": "code",
   "execution_count": null,
   "metadata": {
    "collapsed": true
   },
   "outputs": [],
   "source": []
  },
  {
   "cell_type": "markdown",
   "metadata": {},
   "source": [
    "**Exercise.** What happens if we try to merge the original dataframes, including the one with the extra `80+` column?  Run the code below and comment on what you get.  "
   ]
  },
  {
   "cell_type": "code",
   "execution_count": 26,
   "metadata": {
    "collapsed": false
   },
   "outputs": [
    {
     "data": {
      "text/plain": [
       "'\\npopalt = pd.concat([ealt, palt], axis=0).fillna(0.0)\\npopalt\\n'"
      ]
     },
     "execution_count": 26,
     "metadata": {},
     "output_type": "execute_result"
    }
   ],
   "source": [
    "\"\"\"\n",
    "popalt = pd.concat([ealt, palt], axis=0)\n",
    "popalt\n",
    "\"\"\""
   ]
  },
  {
   "cell_type": "code",
   "execution_count": null,
   "metadata": {
    "collapsed": true
   },
   "outputs": [],
   "source": []
  },
  {
   "cell_type": "markdown",
   "metadata": {},
   "source": [
    "### Shape data \n",
    "\n",
    "We **want** age categories in the index (the default x axis in a plot) and the years in the columns.  The country we don't care about because there's only one.  "
   ]
  },
  {
   "cell_type": "code",
   "execution_count": 23,
   "metadata": {
    "collapsed": false
   },
   "outputs": [
    {
     "data": {
      "text/html": [
       "<div>\n",
       "<table border=\"1\" class=\"dataframe\">\n",
       "  <thead>\n",
       "    <tr style=\"text-align: right;\">\n",
       "      <th></th>\n",
       "      <th>0-4</th>\n",
       "      <th>5-9</th>\n",
       "      <th>10-14</th>\n",
       "      <th>15-19</th>\n",
       "      <th>20-24</th>\n",
       "      <th>25-29</th>\n",
       "      <th>30-34</th>\n",
       "      <th>35-39</th>\n",
       "      <th>40-44</th>\n",
       "      <th>45-49</th>\n",
       "      <th>...</th>\n",
       "      <th>55-59</th>\n",
       "      <th>60-64</th>\n",
       "      <th>65-69</th>\n",
       "      <th>70-74</th>\n",
       "      <th>75-79</th>\n",
       "      <th>80-84</th>\n",
       "      <th>85-89</th>\n",
       "      <th>90-94</th>\n",
       "      <th>95-99</th>\n",
       "      <th>100+</th>\n",
       "    </tr>\n",
       "    <tr>\n",
       "      <th>Year</th>\n",
       "      <th></th>\n",
       "      <th></th>\n",
       "      <th></th>\n",
       "      <th></th>\n",
       "      <th></th>\n",
       "      <th></th>\n",
       "      <th></th>\n",
       "      <th></th>\n",
       "      <th></th>\n",
       "      <th></th>\n",
       "      <th></th>\n",
       "      <th></th>\n",
       "      <th></th>\n",
       "      <th></th>\n",
       "      <th></th>\n",
       "      <th></th>\n",
       "      <th></th>\n",
       "      <th></th>\n",
       "      <th></th>\n",
       "      <th></th>\n",
       "      <th></th>\n",
       "    </tr>\n",
       "  </thead>\n",
       "  <tbody>\n",
       "    <tr>\n",
       "      <th>1950</th>\n",
       "      <td>10997.606</td>\n",
       "      <td>9448.307</td>\n",
       "      <td>8634.342</td>\n",
       "      <td>8484.002</td>\n",
       "      <td>7636.338</td>\n",
       "      <td>6089.337</td>\n",
       "      <td>5104.356</td>\n",
       "      <td>4989.952</td>\n",
       "      <td>4429.172</td>\n",
       "      <td>3959.115</td>\n",
       "      <td>...</td>\n",
       "      <td>2728.668</td>\n",
       "      <td>2277.718</td>\n",
       "      <td>1757.865</td>\n",
       "      <td>1271.333</td>\n",
       "      <td>674.869</td>\n",
       "      <td>362.356</td>\n",
       "      <td>0.000</td>\n",
       "      <td>0.000</td>\n",
       "      <td>0.000</td>\n",
       "      <td>0.000</td>\n",
       "    </tr>\n",
       "    <tr>\n",
       "      <th>2000</th>\n",
       "      <td>5858.083</td>\n",
       "      <td>5992.304</td>\n",
       "      <td>6534.552</td>\n",
       "      <td>7481.678</td>\n",
       "      <td>8394.685</td>\n",
       "      <td>9782.756</td>\n",
       "      <td>8684.281</td>\n",
       "      <td>8046.208</td>\n",
       "      <td>7741.920</td>\n",
       "      <td>8928.982</td>\n",
       "      <td>...</td>\n",
       "      <td>8654.066</td>\n",
       "      <td>7673.926</td>\n",
       "      <td>7024.429</td>\n",
       "      <td>5825.320</td>\n",
       "      <td>4082.687</td>\n",
       "      <td>2540.718</td>\n",
       "      <td>1476.095</td>\n",
       "      <td>527.205</td>\n",
       "      <td>111.014</td>\n",
       "      <td>10.780</td>\n",
       "    </tr>\n",
       "    <tr>\n",
       "      <th>2050</th>\n",
       "      <td>4365.709</td>\n",
       "      <td>4454.049</td>\n",
       "      <td>4533.887</td>\n",
       "      <td>4644.123</td>\n",
       "      <td>4791.892</td>\n",
       "      <td>4986.758</td>\n",
       "      <td>5222.010</td>\n",
       "      <td>5419.444</td>\n",
       "      <td>5543.959</td>\n",
       "      <td>5727.320</td>\n",
       "      <td>...</td>\n",
       "      <td>6065.917</td>\n",
       "      <td>6630.748</td>\n",
       "      <td>7010.576</td>\n",
       "      <td>7539.984</td>\n",
       "      <td>8225.455</td>\n",
       "      <td>6530.305</td>\n",
       "      <td>4766.516</td>\n",
       "      <td>2968.450</td>\n",
       "      <td>1523.374</td>\n",
       "      <td>441.117</td>\n",
       "    </tr>\n",
       "    <tr>\n",
       "      <th>2100</th>\n",
       "      <td>3662.422</td>\n",
       "      <td>3723.514</td>\n",
       "      <td>3791.893</td>\n",
       "      <td>3872.946</td>\n",
       "      <td>3960.466</td>\n",
       "      <td>4046.149</td>\n",
       "      <td>4121.987</td>\n",
       "      <td>4203.284</td>\n",
       "      <td>4294.733</td>\n",
       "      <td>4394.420</td>\n",
       "      <td>...</td>\n",
       "      <td>4561.356</td>\n",
       "      <td>4613.669</td>\n",
       "      <td>4655.102</td>\n",
       "      <td>4687.750</td>\n",
       "      <td>4715.118</td>\n",
       "      <td>4656.733</td>\n",
       "      <td>4296.603</td>\n",
       "      <td>3419.217</td>\n",
       "      <td>2105.037</td>\n",
       "      <td>904.728</td>\n",
       "    </tr>\n",
       "  </tbody>\n",
       "</table>\n",
       "<p>4 rows × 21 columns</p>\n",
       "</div>"
      ],
      "text/plain": [
       "            0-4       5-9     10-14     15-19     20-24     25-29     30-34  \\\n",
       "Year                                                                          \n",
       "1950  10997.606  9448.307  8634.342  8484.002  7636.338  6089.337  5104.356   \n",
       "2000   5858.083  5992.304  6534.552  7481.678  8394.685  9782.756  8684.281   \n",
       "2050   4365.709  4454.049  4533.887  4644.123  4791.892  4986.758  5222.010   \n",
       "2100   3662.422  3723.514  3791.893  3872.946  3960.466  4046.149  4121.987   \n",
       "\n",
       "         35-39     40-44     45-49   ...        55-59     60-64     65-69  \\\n",
       "Year                                 ...                                    \n",
       "1950  4989.952  4429.172  3959.115   ...     2728.668  2277.718  1757.865   \n",
       "2000  8046.208  7741.920  8928.982   ...     8654.066  7673.926  7024.429   \n",
       "2050  5419.444  5543.959  5727.320   ...     6065.917  6630.748  7010.576   \n",
       "2100  4203.284  4294.733  4394.420   ...     4561.356  4613.669  4655.102   \n",
       "\n",
       "         70-74     75-79     80-84     85-89     90-94     95-99     100+  \n",
       "Year                                                                       \n",
       "1950  1271.333   674.869   362.356     0.000     0.000     0.000    0.000  \n",
       "2000  5825.320  4082.687  2540.718  1476.095   527.205   111.014   10.780  \n",
       "2050  7539.984  8225.455  6530.305  4766.516  2968.450  1523.374  441.117  \n",
       "2100  4687.750  4715.118  4656.733  4296.603  3419.217  2105.037  904.728  \n",
       "\n",
       "[4 rows x 21 columns]"
      ]
     },
     "execution_count": 23,
     "metadata": {},
     "output_type": "execute_result"
    }
   ],
   "source": [
    "pop = pop.drop('Country', axis=1)\n",
    "popi = pop.set_index('Year')\n",
    "popi "
   ]
  },
  {
   "cell_type": "code",
   "execution_count": 24,
   "metadata": {
    "collapsed": false
   },
   "outputs": [
    {
     "data": {
      "text/html": [
       "<div>\n",
       "<table border=\"1\" class=\"dataframe\">\n",
       "  <thead>\n",
       "    <tr style=\"text-align: right;\">\n",
       "      <th>Year</th>\n",
       "      <th>1950</th>\n",
       "      <th>2000</th>\n",
       "      <th>2050</th>\n",
       "      <th>2100</th>\n",
       "    </tr>\n",
       "    <tr>\n",
       "      <th>Age</th>\n",
       "      <th></th>\n",
       "      <th></th>\n",
       "      <th></th>\n",
       "      <th></th>\n",
       "    </tr>\n",
       "  </thead>\n",
       "  <tbody>\n",
       "    <tr>\n",
       "      <th>0-4</th>\n",
       "      <td>10997.606</td>\n",
       "      <td>5858.083</td>\n",
       "      <td>4365.709</td>\n",
       "      <td>3662.422</td>\n",
       "    </tr>\n",
       "    <tr>\n",
       "      <th>5-9</th>\n",
       "      <td>9448.307</td>\n",
       "      <td>5992.304</td>\n",
       "      <td>4454.049</td>\n",
       "      <td>3723.514</td>\n",
       "    </tr>\n",
       "    <tr>\n",
       "      <th>10-14</th>\n",
       "      <td>8634.342</td>\n",
       "      <td>6534.552</td>\n",
       "      <td>4533.887</td>\n",
       "      <td>3791.893</td>\n",
       "    </tr>\n",
       "    <tr>\n",
       "      <th>15-19</th>\n",
       "      <td>8484.002</td>\n",
       "      <td>7481.678</td>\n",
       "      <td>4644.123</td>\n",
       "      <td>3872.946</td>\n",
       "    </tr>\n",
       "    <tr>\n",
       "      <th>20-24</th>\n",
       "      <td>7636.338</td>\n",
       "      <td>8394.685</td>\n",
       "      <td>4791.892</td>\n",
       "      <td>3960.466</td>\n",
       "    </tr>\n",
       "  </tbody>\n",
       "</table>\n",
       "</div>"
      ],
      "text/plain": [
       "Year        1950      2000      2050      2100\n",
       "Age                                           \n",
       "0-4    10997.606  5858.083  4365.709  3662.422\n",
       "5-9     9448.307  5992.304  4454.049  3723.514\n",
       "10-14   8634.342  6534.552  4533.887  3791.893\n",
       "15-19   8484.002  7481.678  4644.123  3872.946\n",
       "20-24   7636.338  8394.685  4791.892  3960.466"
      ]
     },
     "execution_count": 24,
     "metadata": {},
     "output_type": "execute_result"
    }
   ],
   "source": [
    "popi.columns.name = 'Age'\n",
    "popt = popi.T\n",
    "popt.head()"
   ]
  },
  {
   "cell_type": "code",
   "execution_count": 25,
   "metadata": {
    "collapsed": false
   },
   "outputs": [
    {
     "data": {
      "image/png": "[encoded data removed]",
      "text/plain": [
       "<matplotlib.figure.Figure at 0x917d1d0>"
      ]
     },
     "metadata": {},
     "output_type": "display_data"
    }
   ],
   "source": [
    "ax = popt.plot(kind='bar', color='blue', alpha=0.5, \n",
    "               subplots=True, \n",
    "               sharey=True, \n",
    "               figsize=(8,12)) "
   ]
  },
  {
   "cell_type": "code",
   "execution_count": null,
   "metadata": {
    "collapsed": true
   },
   "outputs": [],
   "source": []
  },
  {
   "cell_type": "markdown",
   "metadata": {
    "collapsed": true
   },
   "source": [
    "**Exercise.**  Use `set_index`, `stack`, and `unstack` to shape the dataframe `popi` into `popt`.  "
   ]
  },
  {
   "cell_type": "code",
   "execution_count": null,
   "metadata": {
    "collapsed": true
   },
   "outputs": [],
   "source": []
  },
  {
   "cell_type": "markdown",
   "metadata": {},
   "source": [
    "## Resources \n",
    "\n",
    "The [Pandas docs](http://pandas.pydata.org/pandas-docs/stable/merging.html) are ok, but we prefer the Data Carpentry [guide](http://www.datacarpentry.org/python-ecology-lesson/04-merging-data)"
   ]
  },
  {
   "cell_type": "code",
   "execution_count": null,
   "metadata": {
    "collapsed": true
   },
   "outputs": [],
   "source": []
  }
 ],
 "metadata": {
  "kernelspec": {
   "display_name": "Python 3",
   "language": "python",
   "name": "python3"
  },
  "language_info": {
   "codemirror_mode": {
    "name": "ipython",
    "version": 3
   },
   "file_extension": ".py",
   "mimetype": "text/x-python",
   "name": "python",
   "nbconvert_exporter": "python",
   "pygments_lexer": "ipython3",
   "version": "3.5.1"
  }
 },
 "nbformat": 4,
 "nbformat_minor": 0
}
