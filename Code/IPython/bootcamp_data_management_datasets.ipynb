{
 "cells": [
  {
   "cell_type": "markdown",
   "metadata": {},
   "source": [
    "# Data management datasets \n",
    "\n",
    "Datasets to use in Pandas class.  Convert large datasets to more manageable ones and save as dictionaries that we can turn into dataframes.  \n",
    "\n",
    "This notebook was written by Dave Backus for the NYU Stern course [Data Bootcamp](http://databootcamp.nyuecon.com/).  "
   ]
  },
  {
   "cell_type": "code",
   "execution_count": 1,
   "metadata": {
    "collapsed": true
   },
   "outputs": [],
   "source": [
    "import pandas as pd\n",
    "%matplotlib inline "
   ]
  },
  {
   "cell_type": "markdown",
   "metadata": {},
   "source": [
    "## Datasets\n",
    "\n",
    "We take these examples from the data input chapter:  \n",
    "\n",
    "* Penn World Table \n",
    "* World Economic Outlook \n",
    "* Fama-French \n",
    "* UN Population Projections \n",
    "\n",
    "All of them come in an unfriendly form; our goal is to fix them.  Here we extract small subsets to work with so that we can follow all the steps.  "
   ]
  },
  {
   "cell_type": "markdown",
   "metadata": {
    "collapsed": true
   },
   "source": [
    "### Penn World Table \n",
    "\n",
    "This one comes with countries stacked on top of each others.  \n",
    "\n"
   ]
  },
  {
   "cell_type": "code",
   "execution_count": 10,
   "metadata": {
    "collapsed": false
   },
   "outputs": [
    {
     "name": "stdout",
     "output_type": "stream",
     "text": [
      "Wall time: 14.5 s\n"
     ]
    }
   ],
   "source": [
    "%%time\n",
    "url = 'http://www.rug.nl/research/ggdc/data/pwt/v81/pwt81.xlsx'\n",
    "pwt = pd.read_excel(url, sheetname='Data')\n",
    "pwt.head()"
   ]
  },
  {
   "cell_type": "code",
   "execution_count": 11,
   "metadata": {
    "collapsed": false
   },
   "outputs": [
    {
     "data": {
      "text/plain": [
       "(10357, 47)"
      ]
     },
     "execution_count": 11,
     "metadata": {},
     "output_type": "execute_result"
    }
   ],
   "source": [
    "pwt.shape"
   ]
  },
  {
   "cell_type": "code",
   "execution_count": 12,
   "metadata": {
    "collapsed": false
   },
   "outputs": [
    {
     "data": {
      "text/plain": [
       "(10357, 5)"
      ]
     },
     "execution_count": 12,
     "metadata": {},
     "output_type": "execute_result"
    }
   ],
   "source": [
    "variables = [0, 1, 3, 4, 6]\n",
    "countries = ['CHN', 'FRA', 'USA']\n",
    "years     = [1990, 2000, 2010]\n",
    "\n",
    "pwt = pwt[variables]"
   ]
  },
  {
   "cell_type": "code",
   "execution_count": 13,
   "metadata": {
    "collapsed": false
   },
   "outputs": [],
   "source": [
    "# one country \n",
    "pwt1 = pwt[(pwt['countrycode'] == 'CHN') & (pwt['year'].isin(years))]"
   ]
  },
  {
   "cell_type": "code",
   "execution_count": 15,
   "metadata": {
    "collapsed": false
   },
   "outputs": [
    {
     "data": {
      "text/plain": [
       "(9, 5)"
      ]
     },
     "execution_count": 15,
     "metadata": {},
     "output_type": "execute_result"
    }
   ],
   "source": [
    "# three countries \n",
    "pwt3 = pwt[(pwt['countrycode'].isin(countries)) & (pwt['year'].isin(years))]\n",
    "pwt3 = pwt3[pwt3['country']==]\n",
    "pwt3.shape"
   ]
  },
  {
   "cell_type": "code",
   "execution_count": 1,
   "metadata": {
    "collapsed": false
   },
   "outputs": [
    {
     "ename": "NameError",
     "evalue": "name 'pwt3' is not defined",
     "output_type": "error",
     "traceback": [
      "\u001b[1;31m---------------------------------------------------------------------------\u001b[0m",
      "\u001b[1;31mNameError\u001b[0m                                 Traceback (most recent call last)",
      "\u001b[1;32m<ipython-input-1-86de55a87ebb>\u001b[0m in \u001b[0;36m<module>\u001b[1;34m()\u001b[0m\n\u001b[1;32m----> 1\u001b[1;33m \u001b[0mpwt3\u001b[0m \u001b[1;33m=\u001b[0m \u001b[0mpwt3\u001b[0m\u001b[1;33m.\u001b[0m\u001b[0mreplace\u001b[0m\u001b[1;33m(\u001b[0m\u001b[0mto_replace\u001b[0m\u001b[1;33m=\u001b[0m\u001b[1;33m[\u001b[0m\u001b[1;34m\"China, People's Republic of\"\u001b[0m\u001b[1;33m]\u001b[0m\u001b[1;33m,\u001b[0m \u001b[0mvalue\u001b[0m\u001b[1;33m=\u001b[0m\u001b[1;33m[\u001b[0m\u001b[1;34m'China'\u001b[0m\u001b[1;33m]\u001b[0m\u001b[1;33m)\u001b[0m\u001b[1;33m\u001b[0m\u001b[0m\n\u001b[0m\u001b[0;32m      2\u001b[0m \u001b[0mpwt3\u001b[0m\u001b[1;33m.\u001b[0m\u001b[0mreset_index\u001b[0m\u001b[1;33m(\u001b[0m\u001b[1;33m)\u001b[0m\u001b[1;33m\u001b[0m\u001b[0m\n\u001b[0;32m      3\u001b[0m \u001b[0mpwt3\u001b[0m\u001b[1;33m\u001b[0m\u001b[0m\n",
      "\u001b[1;31mNameError\u001b[0m: name 'pwt3' is not defined"
     ]
    }
   ],
   "source": [
    "pwt3 = pwt3.replace(to_replace=[\"China, People's Republic of\"], value=['China']) \n",
    "pwt3.reset_index()\n",
    "pwt3"
   ]
  },
  {
   "cell_type": "code",
   "execution_count": 31,
   "metadata": {
    "collapsed": false
   },
   "outputs": [
    {
     "data": {
      "text/plain": [
       "{'country': [\"China, People's Republic of\",\n",
       "  \"China, People's Republic of\",\n",
       "  \"China, People's Republic of\",\n",
       "  'France',\n",
       "  'France',\n",
       "  'France',\n",
       "  'United States',\n",
       "  'United States',\n",
       "  'United States'],\n",
       " 'countrycode': ['CHN',\n",
       "  'CHN',\n",
       "  'CHN',\n",
       "  'FRA',\n",
       "  'FRA',\n",
       "  'FRA',\n",
       "  'USA',\n",
       "  'USA',\n",
       "  'USA'],\n",
       " 'pop': [1124.7939240000001,\n",
       "  1246.8400649999999,\n",
       "  1318.1701519999999,\n",
       "  58.183173999999994,\n",
       "  60.764324999999999,\n",
       "  64.731126000000003,\n",
       "  253.33909699999998,\n",
       "  282.49630999999999,\n",
       "  310.38394799999998],\n",
       " 'rgdpe': [2611027.0,\n",
       "  4951485.0,\n",
       "  11106452.0,\n",
       "  1293837.0,\n",
       "  1752570.125,\n",
       "  2031723.25,\n",
       "  7964788.5,\n",
       "  11494606.0,\n",
       "  13151344.0],\n",
       " 'year': [1990, 2000, 2010, 1990, 2000, 2010, 1990, 2000, 2010]}"
      ]
     },
     "execution_count": 31,
     "metadata": {},
     "output_type": "execute_result"
    }
   ],
   "source": [
    "pw3d = pwt3.to_dict(orient='list')\n",
    "pw3d"
   ]
  },
  {
   "cell_type": "code",
   "execution_count": null,
   "metadata": {
    "collapsed": true
   },
   "outputs": [],
   "source": []
  },
  {
   "cell_type": "code",
   "execution_count": null,
   "metadata": {
    "collapsed": true
   },
   "outputs": [],
   "source": []
  },
  {
   "cell_type": "code",
   "execution_count": null,
   "metadata": {
    "collapsed": true
   },
   "outputs": [],
   "source": []
  },
  {
   "cell_type": "code",
   "execution_count": null,
   "metadata": {
    "collapsed": true
   },
   "outputs": [],
   "source": []
  }
 ],
 "metadata": {
  "kernelspec": {
   "display_name": "Python 3",
   "language": "python",
   "name": "python3"
  },
  "language_info": {
   "codemirror_mode": {
    "name": "ipython",
    "version": 3
   },
   "file_extension": ".py",
   "mimetype": "text/x-python",
   "name": "python",
   "nbconvert_exporter": "python",
   "pygments_lexer": "ipython3",
   "version": "3.5.0"
  }
 },
 "nbformat": 4,
 "nbformat_minor": 0
}
