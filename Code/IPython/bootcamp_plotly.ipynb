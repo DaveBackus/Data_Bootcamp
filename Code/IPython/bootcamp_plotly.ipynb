{
 "cells": [
  {
   "cell_type": "markdown",
   "metadata": {},
   "source": [
    "# Plotly\n",
    "\n",
    "---\n",
    "**Overview.**  We introduce and apply a new and exciting graphics package [plotly](https://plot.ly/python/).  We show how we can leverage our knowledge of Matplotlib to jumpstart our usage of plotly. We then show how to access some of [plotly's unique features](https://plot.ly/python/) to do things that are difficult or impossible with our knowledge of matplotilb.\n",
    "\n",
    "**Outline**\n",
    "\n",
    "- [Loading data](#data): `pd.read_html` example to get latitude and longitude coordinates for country capitals\n",
    "- [Matplotlylib](#matplotlylib): converting a matplotlib figure to a plotly figure\n",
    "- [Plotly api](#api): covers the basics of plotly's own api\n",
    "- [Maps](#maps): building maps with plotly\n",
    "\n",
    "\n",
    "**Note: requires internet access to run.**  \n",
    "\n",
    "This IPython notebook was created by Dave Backus, Chase Coleman, and Spencer Lyon for the NYU Stern course [Data Bootcamp](http://databootcamp.nyuecon.com/).  \n",
    "\n",
    "---"
   ]
  },
  {
   "cell_type": "markdown",
   "metadata": {},
   "source": [
    "## Reminders\n",
    "\n",
    "* Packages.  Collections of tools that extend Python's capabilities. We add them with `import` statements.  \n",
    "* `conda` and `pip`: package managers for python. Install new packages using `conda install package_name` or `pip3 install package name`.\n",
    "\n",
    "We will need to have the plotly python package installed. To do this enter the\n",
    "following from the command line (command prompt on windows, terminal on mac):\n",
    "\n",
    "```\n",
    "pip install plotly\n",
    "pip install cufflinks\n",
    "```\n",
    "\n",
    "Once you've done that, come back to this notebook and run the following cell to\n",
    "make sure plotly is installed properly."
   ]
  },
  {
   "cell_type": "code",
   "execution_count": 46,
   "metadata": {
    "collapsed": false
   },
   "outputs": [
    {
     "name": "stdout",
     "output_type": "stream",
     "text": [
      "Python version: 3.5.1 |Anaconda 4.0.0 (64-bit)| (default, Feb 16 2016, 09:49:46) [MSC v.1900 64 bit (AMD64)]\n",
      "Pandas version:  0.18.0\n",
      "Plotly version:  1.9.7\n",
      "Today:  2016-04-27\n"
     ]
    }
   ],
   "source": [
    "import sys                             # system module\n",
    "import pandas as pd                    # data package\n",
    "import matplotlib.pyplot as plt        # graphics module  \n",
    "import datetime as dt                  # date and time module\n",
    "import numpy as np                     # foundation for Pandas\n",
    "import seaborn.apionly as sns          # fancy matplotlib graphics (no styling)\n",
    "from pandas.io import data, wb         # worldbank data\n",
    "\n",
    "# plotly imports\n",
    "from plotly.offline import iplot, iplot_mpl  # plotting functions\n",
    "import plotly.graph_objs as go               # ditto\n",
    "import plotly                                # just to print version and init notebook\n",
    "import cufflinks as cf                       # gives us df.iplot that feels like df.plot\n",
    "cf.set_config_file(offline=True, offline_show_link=False)\n",
    "\n",
    "# these lines make our graphics show up in the notebook\n",
    "%matplotlib inline             \n",
    "plotly.offline.init_notebook_mode()\n",
    "\n",
    "# check versions (overkill, but why not?)\n",
    "print('Python version:', sys.version)\n",
    "print('Pandas version: ', pd.__version__)\n",
    "print('Plotly version: ', plotly.__version__)\n",
    "print('Today: ', dt.date.today())"
   ]
  },
  {
   "cell_type": "markdown",
   "metadata": {},
   "source": [
    "## Data Sources <a id=data></a>\n",
    "\n",
    "Before we get too far, we'll need some data. Let's get some now.\n",
    "\n",
    "First we will download precipitation data from the World Bank for all countries in Europe. In order to put this data on a map we will need to have either the 3 letter ISO code for the country or latitude and longitude coordinates. We'll grab both here. This will be a little sophistocated, so bear with us. \n",
    "\n",
    "We show these steps here so that you can re-use this code if you want to do something similar in the future."
   ]
  },
  {
   "cell_type": "code",
   "execution_count": 47,
   "metadata": {
    "collapsed": false
   },
   "outputs": [
    {
     "data": {
      "text/html": [
       "<div>\n",
       "<table border=\"1\" class=\"dataframe\">\n",
       "  <thead>\n",
       "    <tr style=\"text-align: right;\">\n",
       "      <th></th>\n",
       "      <th>Latitude</th>\n",
       "      <th>Longitude</th>\n",
       "    </tr>\n",
       "    <tr>\n",
       "      <th>Country</th>\n",
       "      <th></th>\n",
       "      <th></th>\n",
       "    </tr>\n",
       "  </thead>\n",
       "  <tbody>\n",
       "    <tr>\n",
       "      <th>Afghanistan</th>\n",
       "      <td>34.34</td>\n",
       "      <td>69.69</td>\n",
       "    </tr>\n",
       "    <tr>\n",
       "      <th>Albania</th>\n",
       "      <td>41.41</td>\n",
       "      <td>19.19</td>\n",
       "    </tr>\n",
       "    <tr>\n",
       "      <th>Algeria</th>\n",
       "      <td>36.36</td>\n",
       "      <td>3.03</td>\n",
       "    </tr>\n",
       "    <tr>\n",
       "      <th>American Samoa</th>\n",
       "      <td>-14.14</td>\n",
       "      <td>-170.17</td>\n",
       "    </tr>\n",
       "    <tr>\n",
       "      <th>Andorra</th>\n",
       "      <td>42.42</td>\n",
       "      <td>1.01</td>\n",
       "    </tr>\n",
       "  </tbody>\n",
       "</table>\n",
       "</div>"
      ],
      "text/plain": [
       "                Latitude  Longitude\n",
       "Country                            \n",
       "Afghanistan        34.34      69.69\n",
       "Albania            41.41      19.19\n",
       "Algeria            36.36       3.03\n",
       "American Samoa    -14.14    -170.17\n",
       "Andorra            42.42       1.01"
      ]
     },
     "execution_count": 47,
     "metadata": {},
     "output_type": "execute_result"
    }
   ],
   "source": [
    "# read a list of latitude and longitude coordinates for\n",
    "# country capitals\n",
    "lat_lon = pd.read_html(\"http://www.csgnetwork.com/llinfotable.html\", header=0, \n",
    "                       attrs={\"align\": \"center\", \"cellpadding\": 5, \"bgcolor\": \"#FFFFFF\"})[0]\n",
    "\n",
    "# clean up so lat and long are numeric in degrees east and degrees north\n",
    "def clean_latlon(series, to_negate):\n",
    "    # get XX.YY data\n",
    "    split1 = series.str.split(\"°\")\n",
    "    split2 = split1.str.get(1).str.split(\"'\")\n",
    "    data = split1.str.get(0) + \".\" + split1.str.get(0)\n",
    "    \n",
    "    # now add a negative side if last character == to_negate\n",
    "    signs = split2.str.get(1) == to_negate\n",
    "    signs = signs.replace({True: \"-\", False: \"\"})\n",
    "    \n",
    "    data = signs.str[:] + data.str[:]\n",
    "    return data.astype(float)\n",
    "    \n",
    "lat_lon[\"Latitude\"] = clean_latlon(lat_lon[\"Latitude\"], \"S\")\n",
    "lat_lon[\"Longitude\"] = clean_latlon(lat_lon[\"Longitude\"], \"W\")\n",
    "lat_lon = lat_lon.drop(\"Capital\", axis=1)\n",
    "lat_lon = lat_lon.set_index(\"Country\")\n",
    "lat_lon.head()"
   ]
  },
  {
   "cell_type": "code",
   "execution_count": 48,
   "metadata": {
    "collapsed": false
   },
   "outputs": [
    {
     "data": {
      "text/html": [
       "<div>\n",
       "<table border=\"1\" class=\"dataframe\">\n",
       "  <thead>\n",
       "    <tr style=\"text-align: right;\">\n",
       "      <th></th>\n",
       "      <th>ISO</th>\n",
       "    </tr>\n",
       "    <tr>\n",
       "      <th>Country</th>\n",
       "      <th></th>\n",
       "    </tr>\n",
       "  </thead>\n",
       "  <tbody>\n",
       "    <tr>\n",
       "      <th>Afghanistan</th>\n",
       "      <td>AFG</td>\n",
       "    </tr>\n",
       "    <tr>\n",
       "      <th>Åland Islands</th>\n",
       "      <td>ALA</td>\n",
       "    </tr>\n",
       "    <tr>\n",
       "      <th>Albania</th>\n",
       "      <td>ALB</td>\n",
       "    </tr>\n",
       "    <tr>\n",
       "      <th>Algeria</th>\n",
       "      <td>DZA</td>\n",
       "    </tr>\n",
       "    <tr>\n",
       "      <th>American Samoa</th>\n",
       "      <td>ASM</td>\n",
       "    </tr>\n",
       "  </tbody>\n",
       "</table>\n",
       "</div>"
      ],
      "text/plain": [
       "                ISO\n",
       "Country            \n",
       "Afghanistan     AFG\n",
       "Åland Islands   ALA\n",
       "Albania         ALB\n",
       "Algeria         DZA\n",
       "American Samoa  ASM"
      ]
     },
     "execution_count": 48,
     "metadata": {},
     "output_type": "execute_result"
    }
   ],
   "source": [
    "# dataframe of country names and iso codes\n",
    "url = \"http://unstats.un.org/unsd/methods/m49/m49alpha.htm\"\n",
    "iso = pd.read_html(url, attrs={\"border\": \"0\", \"cellpadding\": \"2\"}, header=0)[0]\n",
    "iso = iso.rename(columns={\"ISO ALPHA-3 code\": \"ISO\", \n",
    "                          \"Country or area name\": \"Country\"})\n",
    "iso = iso.drop(\"Numerical  code\", axis=1)\n",
    "iso = iso.set_index(\"Country\")\n",
    "iso.head()"
   ]
  },
  {
   "cell_type": "code",
   "execution_count": 27,
   "metadata": {
    "collapsed": false
   },
   "outputs": [
    {
     "data": {
      "text/html": [
       "<div>\n",
       "<table border=\"1\" class=\"dataframe\">\n",
       "  <thead>\n",
       "    <tr style=\"text-align: right;\">\n",
       "      <th></th>\n",
       "      <th>Precipitation</th>\n",
       "    </tr>\n",
       "    <tr>\n",
       "      <th>Country</th>\n",
       "      <th></th>\n",
       "    </tr>\n",
       "  </thead>\n",
       "  <tbody>\n",
       "    <tr>\n",
       "      <th>Albania</th>\n",
       "      <td>1485.0</td>\n",
       "    </tr>\n",
       "    <tr>\n",
       "      <th>Armenia</th>\n",
       "      <td>562.0</td>\n",
       "    </tr>\n",
       "    <tr>\n",
       "      <th>Austria</th>\n",
       "      <td>1110.0</td>\n",
       "    </tr>\n",
       "    <tr>\n",
       "      <th>Azerbaijan</th>\n",
       "      <td>447.0</td>\n",
       "    </tr>\n",
       "    <tr>\n",
       "      <th>Belgium</th>\n",
       "      <td>847.0</td>\n",
       "    </tr>\n",
       "  </tbody>\n",
       "</table>\n",
       "</div>"
      ],
      "text/plain": [
       "            Precipitation\n",
       "Country                  \n",
       "Albania            1485.0\n",
       "Armenia             562.0\n",
       "Austria            1110.0\n",
       "Azerbaijan          447.0\n",
       "Belgium             847.0"
      ]
     },
     "execution_count": 27,
     "metadata": {},
     "output_type": "execute_result"
    }
   ],
   "source": [
    "# get data from worldbank\n",
    "europe = [\"Albania\",  \"Andorra\",  \"Armenia\",  \"Austria\",  \"Azerbaijan\",  \"Belarus\",\n",
    "          \"Belgium\",  \"Bosnia and Herzegovina\",  \"Bulgaria\",  \"Croatia\",  \"Cyprus\",\n",
    "          \"Czech Republic\",  \"Denmark\",  \"Estonia\",  \"Finland\",  \"France\",  \"Georgia\",\n",
    "          \"Germany\",  \"Greece\",  \"Hungary\",  \"Iceland\",  \"Ireland\",  \"Italy\",\n",
    "          \"Kazakhstan\",  \"Kosovo\",  \"Latvia\",  \"Liechtenstein\",  \"Lithuania\",\n",
    "          \"Luxembourg\",  \"Macedonia\",  \"Malta\",  \"Moldova\",  \"Monaco\",  \"Montenegro\",\n",
    "          \"Netherlands\",  \"Norway\",  \"Poland\",  \"Portugal\",  \"Romania\",  \"Russia\",  \n",
    "          \"San Marino\",  \"Serbia\",  \"Slovakia\",  \"Slovenia\",  \"Spain\",  \"Sweden\",\n",
    "          \"Switzerland\",  \"Turkey\",  \"Ukraine\",  \"United Kingdom\",  \"Vatican City\"]\n",
    "\n",
    "iso_europe = iso[iso.index.isin(europe)]\n",
    "rain = wb.download(country=iso_europe[\"ISO\"], indicator=[\"AG.LND.PRCP.MM\"], \n",
    "                   start=2014, end=2014)\n",
    "rain = rain.reset_index(level=\"year\", drop=True)\n",
    "rain.index.name = \"Country\"\n",
    "\n",
    "# some countries didn't have data. Drop them now\n",
    "rain = rain.dropna()\n",
    "rain.columns = [\"Precipitation\"]\n",
    "rain.head()"
   ]
  },
  {
   "cell_type": "code",
   "execution_count": 28,
   "metadata": {
    "collapsed": false
   },
   "outputs": [
    {
     "data": {
      "text/html": [
       "<div>\n",
       "<table border=\"1\" class=\"dataframe\">\n",
       "  <thead>\n",
       "    <tr style=\"text-align: right;\">\n",
       "      <th></th>\n",
       "      <th>Precipitation</th>\n",
       "      <th>ISO</th>\n",
       "      <th>Latitude</th>\n",
       "      <th>Longitude</th>\n",
       "    </tr>\n",
       "    <tr>\n",
       "      <th>Country</th>\n",
       "      <th></th>\n",
       "      <th></th>\n",
       "      <th></th>\n",
       "      <th></th>\n",
       "    </tr>\n",
       "  </thead>\n",
       "  <tbody>\n",
       "    <tr>\n",
       "      <th>Albania</th>\n",
       "      <td>1485.0</td>\n",
       "      <td>ALB</td>\n",
       "      <td>41.41</td>\n",
       "      <td>19.19</td>\n",
       "    </tr>\n",
       "    <tr>\n",
       "      <th>Armenia</th>\n",
       "      <td>562.0</td>\n",
       "      <td>ARM</td>\n",
       "      <td>40.40</td>\n",
       "      <td>44.44</td>\n",
       "    </tr>\n",
       "    <tr>\n",
       "      <th>Austria</th>\n",
       "      <td>1110.0</td>\n",
       "      <td>AUT</td>\n",
       "      <td>48.48</td>\n",
       "      <td>16.16</td>\n",
       "    </tr>\n",
       "    <tr>\n",
       "      <th>Azerbaijan</th>\n",
       "      <td>447.0</td>\n",
       "      <td>AZE</td>\n",
       "      <td>40.40</td>\n",
       "      <td>49.49</td>\n",
       "    </tr>\n",
       "    <tr>\n",
       "      <th>Belarus</th>\n",
       "      <td>618.0</td>\n",
       "      <td>BLR</td>\n",
       "      <td>53.53</td>\n",
       "      <td>27.27</td>\n",
       "    </tr>\n",
       "  </tbody>\n",
       "</table>\n",
       "</div>"
      ],
      "text/plain": [
       "            Precipitation  ISO  Latitude  Longitude\n",
       "Country                                            \n",
       "Albania            1485.0  ALB     41.41      19.19\n",
       "Armenia             562.0  ARM     40.40      44.44\n",
       "Austria            1110.0  AUT     48.48      16.16\n",
       "Azerbaijan          447.0  AZE     40.40      49.49\n",
       "Belarus             618.0  BLR     53.53      27.27"
      ]
     },
     "execution_count": 28,
     "metadata": {},
     "output_type": "execute_result"
    }
   ],
   "source": [
    "# now we will merge in iso codes and latitidue/longitude data\n",
    "rain = rain.merge(iso, left_index=True, right_index=True)\n",
    "rain = rain.merge(lat_lon, left_index=True, right_index=True)\n",
    "rain.head()"
   ]
  },
  {
   "cell_type": "code",
   "execution_count": 49,
   "metadata": {
    "collapsed": false
   },
   "outputs": [
    {
     "name": "stdout",
     "output_type": "stream",
     "text": [
      "      School  Women  Men  gap\n",
      "0        MIT     94  152   58\n",
      "1   Stanford     96  151   55\n",
      "2    Harvard    112  165   53\n",
      "3     U.Penn     92  141   49\n",
      "4  Princeton     90  137   47\n",
      "\n",
      "\n",
      "After set_index and sort_values:\n",
      "\n",
      "          Women  Men  gap\n",
      "School                   \n",
      "UCLA         64   78   14\n",
      "SoCal        72   81    9\n",
      "Emory        68   82   14\n",
      "Michigan     62   84   22\n",
      "Berkeley     71   88   17\n"
     ]
    }
   ],
   "source": [
    "# Earnings by school and gender. Source plotly docs. Real source, unknown\n",
    "url = \"https://raw.githubusercontent.com/plotly/datasets/master/school_earnings.csv\"\n",
    "earnings = pd.read_csv(url)\n",
    "print(earnings.head())\n",
    "\n",
    "earnings = earnings.set_index(\"School\")\n",
    "earnings = earnings.sort_values(\"Men\")\n",
    "print(\"\\n\\nAfter set_index and sort_values:\\n\")\n",
    "print(earnings.head())"
   ]
  },
  {
   "cell_type": "code",
   "execution_count": 50,
   "metadata": {
    "collapsed": false
   },
   "outputs": [
    {
     "data": {
      "text/html": [
       "<div>\n",
       "<table border=\"1\" class=\"dataframe\">\n",
       "  <thead>\n",
       "    <tr style=\"text-align: right;\">\n",
       "      <th></th>\n",
       "      <th>total_bill</th>\n",
       "      <th>tip</th>\n",
       "      <th>sex</th>\n",
       "      <th>smoker</th>\n",
       "      <th>day</th>\n",
       "      <th>time</th>\n",
       "      <th>size</th>\n",
       "    </tr>\n",
       "  </thead>\n",
       "  <tbody>\n",
       "    <tr>\n",
       "      <th>0</th>\n",
       "      <td>16.99</td>\n",
       "      <td>1.01</td>\n",
       "      <td>Female</td>\n",
       "      <td>No</td>\n",
       "      <td>Sun</td>\n",
       "      <td>Dinner</td>\n",
       "      <td>2</td>\n",
       "    </tr>\n",
       "    <tr>\n",
       "      <th>1</th>\n",
       "      <td>10.34</td>\n",
       "      <td>1.66</td>\n",
       "      <td>Male</td>\n",
       "      <td>No</td>\n",
       "      <td>Sun</td>\n",
       "      <td>Dinner</td>\n",
       "      <td>3</td>\n",
       "    </tr>\n",
       "    <tr>\n",
       "      <th>2</th>\n",
       "      <td>21.01</td>\n",
       "      <td>3.50</td>\n",
       "      <td>Male</td>\n",
       "      <td>No</td>\n",
       "      <td>Sun</td>\n",
       "      <td>Dinner</td>\n",
       "      <td>3</td>\n",
       "    </tr>\n",
       "    <tr>\n",
       "      <th>3</th>\n",
       "      <td>23.68</td>\n",
       "      <td>3.31</td>\n",
       "      <td>Male</td>\n",
       "      <td>No</td>\n",
       "      <td>Sun</td>\n",
       "      <td>Dinner</td>\n",
       "      <td>2</td>\n",
       "    </tr>\n",
       "    <tr>\n",
       "      <th>4</th>\n",
       "      <td>24.59</td>\n",
       "      <td>3.61</td>\n",
       "      <td>Female</td>\n",
       "      <td>No</td>\n",
       "      <td>Sun</td>\n",
       "      <td>Dinner</td>\n",
       "      <td>4</td>\n",
       "    </tr>\n",
       "  </tbody>\n",
       "</table>\n",
       "</div>"
      ],
      "text/plain": [
       "   total_bill   tip     sex smoker  day    time  size\n",
       "0       16.99  1.01  Female     No  Sun  Dinner     2\n",
       "1       10.34  1.66    Male     No  Sun  Dinner     3\n",
       "2       21.01  3.50    Male     No  Sun  Dinner     3\n",
       "3       23.68  3.31    Male     No  Sun  Dinner     2\n",
       "4       24.59  3.61  Female     No  Sun  Dinner     4"
      ]
     },
     "execution_count": 50,
     "metadata": {},
     "output_type": "execute_result"
    }
   ],
   "source": [
    "# tips at restaurants in NYC. Source unknown, but classic dataset\n",
    "tips = sns.load_dataset(\"tips\")\n",
    "tips.head()"
   ]
  },
  {
   "cell_type": "code",
   "execution_count": 51,
   "metadata": {
    "collapsed": false
   },
   "outputs": [
    {
     "data": {
      "text/html": [
       "<div>\n",
       "<table border=\"1\" class=\"dataframe\">\n",
       "  <thead>\n",
       "    <tr style=\"text-align: right;\">\n",
       "      <th></th>\n",
       "      <th>sepal_length</th>\n",
       "      <th>sepal_width</th>\n",
       "      <th>petal_length</th>\n",
       "      <th>petal_width</th>\n",
       "      <th>species</th>\n",
       "    </tr>\n",
       "  </thead>\n",
       "  <tbody>\n",
       "    <tr>\n",
       "      <th>0</th>\n",
       "      <td>5.1</td>\n",
       "      <td>3.5</td>\n",
       "      <td>1.4</td>\n",
       "      <td>0.2</td>\n",
       "      <td>setosa</td>\n",
       "    </tr>\n",
       "    <tr>\n",
       "      <th>1</th>\n",
       "      <td>4.9</td>\n",
       "      <td>3.0</td>\n",
       "      <td>1.4</td>\n",
       "      <td>0.2</td>\n",
       "      <td>setosa</td>\n",
       "    </tr>\n",
       "    <tr>\n",
       "      <th>2</th>\n",
       "      <td>4.7</td>\n",
       "      <td>3.2</td>\n",
       "      <td>1.3</td>\n",
       "      <td>0.2</td>\n",
       "      <td>setosa</td>\n",
       "    </tr>\n",
       "    <tr>\n",
       "      <th>3</th>\n",
       "      <td>4.6</td>\n",
       "      <td>3.1</td>\n",
       "      <td>1.5</td>\n",
       "      <td>0.2</td>\n",
       "      <td>setosa</td>\n",
       "    </tr>\n",
       "    <tr>\n",
       "      <th>4</th>\n",
       "      <td>5.0</td>\n",
       "      <td>3.6</td>\n",
       "      <td>1.4</td>\n",
       "      <td>0.2</td>\n",
       "      <td>setosa</td>\n",
       "    </tr>\n",
       "  </tbody>\n",
       "</table>\n",
       "</div>"
      ],
      "text/plain": [
       "   sepal_length  sepal_width  petal_length  petal_width species\n",
       "0           5.1          3.5           1.4          0.2  setosa\n",
       "1           4.9          3.0           1.4          0.2  setosa\n",
       "2           4.7          3.2           1.3          0.2  setosa\n",
       "3           4.6          3.1           1.5          0.2  setosa\n",
       "4           5.0          3.6           1.4          0.2  setosa"
      ]
     },
     "execution_count": 51,
     "metadata": {},
     "output_type": "execute_result"
    }
   ],
   "source": [
    "# Data on flowers. Source unknown. Classic data set\n",
    "iris = sns.load_dataset(\"iris\")\n",
    "iris.head()"
   ]
  },
  {
   "cell_type": "code",
   "execution_count": 52,
   "metadata": {
    "collapsed": false
   },
   "outputs": [
    {
     "data": {
      "text/html": [
       "<div>\n",
       "<table border=\"1\" class=\"dataframe\">\n",
       "  <thead>\n",
       "    <tr style=\"text-align: right;\">\n",
       "      <th></th>\n",
       "      <th>survived</th>\n",
       "      <th>pclass</th>\n",
       "      <th>sex</th>\n",
       "      <th>age</th>\n",
       "      <th>sibsp</th>\n",
       "      <th>parch</th>\n",
       "      <th>fare</th>\n",
       "      <th>embarked</th>\n",
       "      <th>class</th>\n",
       "      <th>who</th>\n",
       "      <th>adult_male</th>\n",
       "      <th>deck</th>\n",
       "      <th>embark_town</th>\n",
       "      <th>alive</th>\n",
       "      <th>alone</th>\n",
       "    </tr>\n",
       "  </thead>\n",
       "  <tbody>\n",
       "    <tr>\n",
       "      <th>0</th>\n",
       "      <td>0</td>\n",
       "      <td>3</td>\n",
       "      <td>male</td>\n",
       "      <td>22.0</td>\n",
       "      <td>1</td>\n",
       "      <td>0</td>\n",
       "      <td>7.2500</td>\n",
       "      <td>S</td>\n",
       "      <td>Third</td>\n",
       "      <td>man</td>\n",
       "      <td>True</td>\n",
       "      <td>NaN</td>\n",
       "      <td>Southampton</td>\n",
       "      <td>no</td>\n",
       "      <td>False</td>\n",
       "    </tr>\n",
       "    <tr>\n",
       "      <th>1</th>\n",
       "      <td>1</td>\n",
       "      <td>1</td>\n",
       "      <td>female</td>\n",
       "      <td>38.0</td>\n",
       "      <td>1</td>\n",
       "      <td>0</td>\n",
       "      <td>71.2833</td>\n",
       "      <td>C</td>\n",
       "      <td>First</td>\n",
       "      <td>woman</td>\n",
       "      <td>False</td>\n",
       "      <td>C</td>\n",
       "      <td>Cherbourg</td>\n",
       "      <td>yes</td>\n",
       "      <td>False</td>\n",
       "    </tr>\n",
       "    <tr>\n",
       "      <th>2</th>\n",
       "      <td>1</td>\n",
       "      <td>3</td>\n",
       "      <td>female</td>\n",
       "      <td>26.0</td>\n",
       "      <td>0</td>\n",
       "      <td>0</td>\n",
       "      <td>7.9250</td>\n",
       "      <td>S</td>\n",
       "      <td>Third</td>\n",
       "      <td>woman</td>\n",
       "      <td>False</td>\n",
       "      <td>NaN</td>\n",
       "      <td>Southampton</td>\n",
       "      <td>yes</td>\n",
       "      <td>True</td>\n",
       "    </tr>\n",
       "    <tr>\n",
       "      <th>3</th>\n",
       "      <td>1</td>\n",
       "      <td>1</td>\n",
       "      <td>female</td>\n",
       "      <td>35.0</td>\n",
       "      <td>1</td>\n",
       "      <td>0</td>\n",
       "      <td>53.1000</td>\n",
       "      <td>S</td>\n",
       "      <td>First</td>\n",
       "      <td>woman</td>\n",
       "      <td>False</td>\n",
       "      <td>C</td>\n",
       "      <td>Southampton</td>\n",
       "      <td>yes</td>\n",
       "      <td>False</td>\n",
       "    </tr>\n",
       "    <tr>\n",
       "      <th>4</th>\n",
       "      <td>0</td>\n",
       "      <td>3</td>\n",
       "      <td>male</td>\n",
       "      <td>35.0</td>\n",
       "      <td>0</td>\n",
       "      <td>0</td>\n",
       "      <td>8.0500</td>\n",
       "      <td>S</td>\n",
       "      <td>Third</td>\n",
       "      <td>man</td>\n",
       "      <td>True</td>\n",
       "      <td>NaN</td>\n",
       "      <td>Southampton</td>\n",
       "      <td>no</td>\n",
       "      <td>True</td>\n",
       "    </tr>\n",
       "  </tbody>\n",
       "</table>\n",
       "</div>"
      ],
      "text/plain": [
       "   survived  pclass     sex   age  sibsp  parch     fare embarked  class  \\\n",
       "0         0       3    male  22.0      1      0   7.2500        S  Third   \n",
       "1         1       1  female  38.0      1      0  71.2833        C  First   \n",
       "2         1       3  female  26.0      0      0   7.9250        S  Third   \n",
       "3         1       1  female  35.0      1      0  53.1000        S  First   \n",
       "4         0       3    male  35.0      0      0   8.0500        S  Third   \n",
       "\n",
       "     who adult_male deck  embark_town alive  alone  \n",
       "0    man       True  NaN  Southampton    no  False  \n",
       "1  woman      False    C    Cherbourg   yes  False  \n",
       "2  woman      False  NaN  Southampton   yes   True  \n",
       "3  woman      False    C  Southampton   yes  False  \n",
       "4    man       True  NaN  Southampton    no   True  "
      ]
     },
     "execution_count": 52,
     "metadata": {},
     "output_type": "execute_result"
    }
   ],
   "source": [
    "# info on titanic passengers. Source unknown.\n",
    "titanic = sns.load_dataset(\"titanic\")\n",
    "titanic.head()"
   ]
  },
  {
   "cell_type": "markdown",
   "metadata": {},
   "source": [
    "## Background\n",
    "\n",
    "Plotly is a javascript based plotting library. Plotly leverages industry grade\n",
    "javascript technologies to provide great flexibility and good performance.\n",
    "Being a javascript library, plotly graphics are inherently interactive meant to be \n",
    "viewed in a webbrowser. The good news is that we can embed our interactive \n",
    "plots in any website: Jupyter notebooks, blog posts, etc. The *great* news is \n",
    "that we don't have to write any javascript ourselves!\n",
    "\n",
    "The plotly project was started about four years ago. Over that time, plotly has\n",
    "transitioned between three phases:\n",
    "\n",
    "1. Online only mode: plotly started as a web service where you uploaded your\n",
    "data and constructed plots on their website.\n",
    "2. Online plotting mode: the next phase was to allow you to build plots from\n",
    "your favorite programming language (Python!), but the plots were actually\n",
    "created on their servers and you were given a link to view the plot on their\n",
    "website.\n",
    "3. Offline mode: You can now construct plotly graphics 100% offline. While all\n",
    "three modes still exist, we will use the purely offline mode in our notes."
   ]
  },
  {
   "cell_type": "markdown",
   "metadata": {},
   "source": [
    "## Matplotlylib <a id=matplotlylib></a>\n",
    "\n",
    "As a warmup, let's utilize our expertise of Matplotlib to quickly generate some basic plotly graphics. \n",
    "\n",
    "The main steps in this process are:\n",
    "\n",
    "1. Construct a matplotlib figure as we normally do.\n",
    "2. Pass the `Figure` object (usually named `fig` in our examples) to the function `iplot_mpl`.\n",
    "\n",
    "That's it!\n",
    "\n",
    "**Disclaimer**: the functions that convert matplotlib figures to plotly figures are not perfect. We'll see some issues below, but will show how to build the plots using plotly's API so they look as we expect.\n"
   ]
  },
  {
   "cell_type": "markdown",
   "metadata": {},
   "source": [
    "We'll start by looking at some examples from the seaborn documentation. The actual figures are not important here. We are mostly concerned with how well matplotlylib can take a matplotlib figure and construct a plotly figure."
   ]
  },
  {
   "cell_type": "code",
   "execution_count": 53,
   "metadata": {
    "collapsed": false
   },
   "outputs": [
    {
     "data": {
      "image/png": "[encoded data removed]",
      "text/plain": [
       "<matplotlib.figure.Figure at 0xdc37e80>"
      ]
     },
     "metadata": {},
     "output_type": "display_data"
    }
   ],
   "source": [
    "ax = sns.swarmplot(x=\"day\", y=\"total_bill\", data=tips)\n",
    "fig_mpl = ax.get_figure()"
   ]
  },
  {
   "cell_type": "markdown",
   "metadata": {},
   "source": [
    "Now let's convert our Matplotlib figure `fig_mpl` into a plotly figure named `fig_py`. To do this we will use the function `iplot_mpl` as follows:"
   ]
  },
  {
   "cell_type": "code",
   "execution_count": 54,
   "metadata": {
    "collapsed": false
   },
   "outputs": [
    {
     "data": {
      "text/html": [
       "<div id=\"6a8858db-dc50-4c7f-aaa2-688dac6ea218\" style=\"height: 320; width: 480px;\" class=\"plotly-graph-div\"></div><script type=\"text/javascript\">window.PLOTLYENV=window.PLOTLYENV || {};window.PLOTLYENV.BASE_URL=\"https://plot.ly\";Plotly.newPlot(\"6a8858db-dc50-4c7f-aaa2-688dac6ea218\", [{\"yaxis\": \"y1\", \"y\": [7.51, 7.559999999999997, 8.349999999999996, 8.51, 8.519999999999998, 9.78, 10.069999999999999, 10.329999999999997, 10.339999999999998, 10.65, 11.17, 11.379999999999997, 11.69, 11.87, 12.26, 12.429999999999998, 12.480000000000002, 12.74, 12.999999999999998, 12.999999999999998, 13.029999999999996, 13.160000000000002, 13.42, 13.51, 14.15, 14.259999999999996, 14.519999999999998, 15.479999999999999, 15.950000000000001, 15.979999999999999, 15.999999999999998, 16.4, 16.43, 16.47, 16.58, 16.659999999999997, 17.29, 17.47, 18.259999999999998, 18.28, 18.64, 18.71, 18.78, 19.08, 19.439999999999998, 19.809999999999995, 20.269999999999996, 20.53, 21.159999999999997, 22.75999999999999, 22.82, 24.08, 24.709999999999994, 27.049999999999997, 27.199999999999996, 28.439999999999998, 29.799999999999997, 32.67999999999999, 34.3, 34.82999999999999, 41.19, 43.11], \"xaxis\": \"x1\", \"x\": [2.220446049250313e-16, -0.05640337006714402, 0.04062197187946048, -0.09135104745679601, 0.09651335602404831, 2.220446049250313e-16, -0.05480541477139389, 0.05027928819700911, 0.10672897217839084, -0.10434509739988074, 2.220446049250313e-16, -0.05559446554627212, 0.05096973109860947, 0.10679288578710455, -0.0943283459130071, 2.220446049250313e-16, -0.14983852655522079, 0.14601564192911543, -0.049671504463296934, 0.04979181257371201, -0.20011781475222978, 0.19895546247448226, -0.11033980498449325, 0.10098111418426003, 2.220446049250313e-16, 0.05621773286307952, -0.05374613308506815, 2.220446049250313e-16, -0.05201647323939329, 0.05140369787214949, 0.10784759469248373, -0.10441670796573455, 0.1606122939550072, -0.1607737260581117, 0.21662822561177464, -0.21652466166997264, 2.220446049250313e-16, 0.0558231546884953, -0.03373000872019616, -0.0901739055405304, 0.01986396004742308, 0.07622097813980022, 0.13257799623217736, -0.13251781681001384, -0.021302345158694225, 0.034203576477985775, -0.062369527777721645, 0.07956682811822469, 2.220446049250313e-16, 2.220446049250313e-16, -0.056382130142232256, 2.220446049250313e-16, -0.04819154074498577, 2.220446049250313e-16, -0.05601593165676744, 2.220446049250313e-16, 2.220446049250313e-16, 2.220446049250313e-16, 2.220446049250313e-16, -0.050744919170276015, 2.220446049250313e-16, 2.220446049250313e-16], \"type\": \"scatter\", \"marker\": {\"symbol\": \"dot\", \"line\": {\"width\": 0.0, \"color\": \"rgba(38,38,38,1.0)\"}, \"color\": [\"rgba(0,0,255,1.0)\", \"rgba(0,0,255,1.0)\", \"rgba(0,0,255,1.0)\", \"rgba(0,0,255,1.0)\", \"rgba(0,0,255,1.0)\", \"rgba(0,0,255,1.0)\", \"rgba(0,0,255,1.0)\", \"rgba(0,0,255,1.0)\", \"rgba(0,0,255,1.0)\", \"rgba(0,0,255,1.0)\", \"rgba(0,0,255,1.0)\", \"rgba(0,0,255,1.0)\", \"rgba(0,0,255,1.0)\", \"rgba(0,0,255,1.0)\", \"rgba(0,0,255,1.0)\", \"rgba(0,0,255,1.0)\", \"rgba(0,0,255,1.0)\", \"rgba(0,0,255,1.0)\", \"rgba(0,0,255,1.0)\", \"rgba(0,0,255,1.0)\", \"rgba(0,0,255,1.0)\", \"rgba(0,0,255,1.0)\", \"rgba(0,0,255,1.0)\", \"rgba(0,0,255,1.0)\", \"rgba(0,0,255,1.0)\", \"rgba(0,0,255,1.0)\", \"rgba(0,0,255,1.0)\", \"rgba(0,0,255,1.0)\", \"rgba(0,0,255,1.0)\", \"rgba(0,0,255,1.0)\", \"rgba(0,0,255,1.0)\", \"rgba(0,0,255,1.0)\", \"rgba(0,0,255,1.0)\", \"rgba(0,0,255,1.0)\", \"rgba(0,0,255,1.0)\", \"rgba(0,0,255,1.0)\", \"rgba(0,0,255,1.0)\", \"rgba(0,0,255,1.0)\", \"rgba(0,0,255,1.0)\", \"rgba(0,0,255,1.0)\", \"rgba(0,0,255,1.0)\", \"rgba(0,0,255,1.0)\", \"rgba(0,0,255,1.0)\", \"rgba(0,0,255,1.0)\", \"rgba(0,0,255,1.0)\", \"rgba(0,0,255,1.0)\", \"rgba(0,0,255,1.0)\", \"rgba(0,0,255,1.0)\", \"rgba(0,0,255,1.0)\", \"rgba(0,0,255,1.0)\", \"rgba(0,0,255,1.0)\", \"rgba(0,0,255,1.0)\", \"rgba(0,0,255,1.0)\", \"rgba(0,0,255,1.0)\", \"rgba(0,0,255,1.0)\", \"rgba(0,0,255,1.0)\", \"rgba(0,0,255,1.0)\", \"rgba(0,0,255,1.0)\", \"rgba(0,0,255,1.0)\", \"rgba(0,0,255,1.0)\", \"rgba(0,0,255,1.0)\", \"rgba(0,0,255,1.0)\"], \"size\": 5.0}, \"mode\": \"markers\"}, {\"yaxis\": \"y1\", \"y\": [5.75, 8.58, 10.089999999999998, 11.35, 12.03, 12.159999999999998, 12.459999999999999, 13.42, 13.42, 15.379999999999997, 15.979999999999999, 16.269999999999996, 16.32, 21.009999999999998, 22.489999999999995, 22.749999999999993, 27.279999999999994, 28.96999999999999, 40.17], \"xaxis\": \"x1\", \"x\": [1.0000000000000004, 1.0000000000000004, 1.0000000000000004, 1.0000000000000004, 0.9533118842216655, 1.041927849925505, 1.0966159162597213, 1.0000000000000004, 1.056451612903226, 1.0000000000000004, 0.9509817931848215, 1.0382330592759446, 1.0946364293430886, 1.0000000000000004, 1.0000000000000004, 0.9448677333896214, 1.0000000000000004, 1.0000000000000004, 1.0000000000000004], \"type\": \"scatter\", \"marker\": {\"symbol\": \"dot\", \"line\": {\"width\": 0.0, \"color\": \"rgba(38,38,38,1.0)\"}, \"color\": [\"rgba(0,127,0,1.0)\", \"rgba(0,127,0,1.0)\", \"rgba(0,127,0,1.0)\", \"rgba(0,127,0,1.0)\", \"rgba(0,127,0,1.0)\", \"rgba(0,127,0,1.0)\", \"rgba(0,127,0,1.0)\", \"rgba(0,127,0,1.0)\", \"rgba(0,127,0,1.0)\", \"rgba(0,127,0,1.0)\", \"rgba(0,127,0,1.0)\", \"rgba(0,127,0,1.0)\", \"rgba(0,127,0,1.0)\", \"rgba(0,127,0,1.0)\", \"rgba(0,127,0,1.0)\", \"rgba(0,127,0,1.0)\", \"rgba(0,127,0,1.0)\", \"rgba(0,127,0,1.0)\", \"rgba(0,127,0,1.0)\"], \"size\": 5.0}, \"mode\": \"markers\"}, {\"yaxis\": \"y1\", \"y\": [3.0699999999999985, 7.250000000000002, 7.739999999999997, 9.549999999999999, 10.069999999999999, 10.509999999999996, 10.589999999999998, 10.629999999999997, 10.769999999999998, 11.019999999999998, 11.239999999999997, 11.589999999999998, 11.610000000000001, 12.019999999999998, 12.599999999999996, 12.69, 12.76, 12.9, 13.270000000000001, 13.28, 13.37, 13.81, 13.999999999999998, 14.31, 14.729999999999999, 15.01, 15.059999999999997, 15.360000000000001, 15.53, 15.69, 15.769999999999998, 15.81, 16.04, 16.309999999999995, 16.449999999999996, 16.93, 17.07, 17.589999999999996, 17.78, 17.809999999999995, 17.82, 17.92, 17.92, 18.239999999999995, 18.29, 18.35, 18.689999999999998, 19.65, 19.82, 20.08, 20.229999999999997, 20.29, 20.29, 20.449999999999996, 20.489999999999995, 20.65, 20.689999999999998, 20.92, 21.700000000000003, 22.119999999999997, 22.419999999999995, 22.669999999999995, 24.009999999999998, 24.059999999999995, 24.269999999999996, 25.209999999999994, 25.279999999999994, 25.89, 26.409999999999997, 26.589999999999996, 26.859999999999992, 27.18, 28.14999999999999, 28.169999999999995, 29.029999999999994, 30.059999999999995, 30.14, 31.269999999999996, 32.83, 35.82999999999999, 38.00999999999999, 38.72999999999999, 39.419999999999995, 44.29999999999999, 48.269999999999996, 48.33, 50.809999999999995], \"xaxis\": \"x1\", \"x\": [2.0000000000000004, 2.0000000000000004, 1.948387015636265, 2.0000000000000004, 1.949030268901391, 2.0343474103736465, 2.090675439112436, 1.898991948703122, 2.1464985938009304, 1.9839779462910432, 1.8502432719183668, 2.05891057138726, 1.9346961022211304, 2.1116752706497834, 2.0000000000000004, 1.909267287868596, 1.8529102697762183, 2.0546880663342164, 2.1084341994192846, 2.1648838834006665, 1.9564617391834358, 2.0090465927212926, 1.9082701984384496, 2.060450290593442, 1.9723926231100135, 2.1064902024989243, 1.8810703181397321, 2.0205841638549997, 2.1574599335975337, 1.9380452127363674, 1.8353651015709658, 2.2123784807523688, 2.0672722796333347, 1.9865183684165775, 1.8941259668989079, 2.1055053389092793, 2.030437614254037, 1.979467883155428, 1.9237169475435665, 1.867282697310436, 2.143738398185223, 2.070604020054547, 1.8110649644473567, 2.1966782187305904, 1.757318831362288, 2.2528959515936697, 2.0029556137453453, 1.9686082033716992, 2.0231045629718234, 2.0782368295822025, 1.9190685207432119, 2.1338312951284744, 1.8626863906009792, 2.1897869337028353, 1.8070116792118345, 2.24546164509198, 1.7513369678226898, 2.0000000000000004, 1.9568511344369792, 2.0097909549823467, 2.0644790213165627, 1.9231211257167828, 2.0000000000000004, 1.943596629932856, 2.055132266610379, 1.992873668589262, 1.936516650496885, 2.039561784367597, 1.9857473371785264, 1.9299241824900317, 2.0732917930877943, 1.880642338420119, 2.0000000000000004, 2.0564438968203347, 1.9612661196332657, 2.0000000000000004, 2.0563280287387893, 2.0000000000000004, 2.0000000000000004, 2.0000000000000004, 2.0000000000000004, 1.9546367483597615, 2.0000000000000004, 2.0000000000000004, 2.0000000000000004, 1.9436178698577677, 2.0000000000000004], \"type\": \"scatter\", \"marker\": {\"symbol\": \"dot\", \"line\": {\"width\": 0.0, \"color\": \"rgba(38,38,38,1.0)\"}, \"color\": [\"rgba(255,0,0,1.0)\", \"rgba(255,0,0,1.0)\", \"rgba(255,0,0,1.0)\", \"rgba(255,0,0,1.0)\", \"rgba(255,0,0,1.0)\", \"rgba(255,0,0,1.0)\", \"rgba(255,0,0,1.0)\", \"rgba(255,0,0,1.0)\", \"rgba(255,0,0,1.0)\", \"rgba(255,0,0,1.0)\", \"rgba(255,0,0,1.0)\", \"rgba(255,0,0,1.0)\", \"rgba(255,0,0,1.0)\", \"rgba(255,0,0,1.0)\", \"rgba(255,0,0,1.0)\", \"rgba(255,0,0,1.0)\", \"rgba(255,0,0,1.0)\", \"rgba(255,0,0,1.0)\", \"rgba(255,0,0,1.0)\", \"rgba(255,0,0,1.0)\", \"rgba(255,0,0,1.0)\", \"rgba(255,0,0,1.0)\", \"rgba(255,0,0,1.0)\", \"rgba(255,0,0,1.0)\", \"rgba(255,0,0,1.0)\", \"rgba(255,0,0,1.0)\", \"rgba(255,0,0,1.0)\", \"rgba(255,0,0,1.0)\", \"rgba(255,0,0,1.0)\", \"rgba(255,0,0,1.0)\", \"rgba(255,0,0,1.0)\", \"rgba(255,0,0,1.0)\", \"rgba(255,0,0,1.0)\", \"rgba(255,0,0,1.0)\", \"rgba(255,0,0,1.0)\", \"rgba(255,0,0,1.0)\", \"rgba(255,0,0,1.0)\", \"rgba(255,0,0,1.0)\", \"rgba(255,0,0,1.0)\", \"rgba(255,0,0,1.0)\", \"rgba(255,0,0,1.0)\", \"rgba(255,0,0,1.0)\", \"rgba(255,0,0,1.0)\", \"rgba(255,0,0,1.0)\", \"rgba(255,0,0,1.0)\", \"rgba(255,0,0,1.0)\", \"rgba(255,0,0,1.0)\", \"rgba(255,0,0,1.0)\", \"rgba(255,0,0,1.0)\", \"rgba(255,0,0,1.0)\", \"rgba(255,0,0,1.0)\", \"rgba(255,0,0,1.0)\", \"rgba(255,0,0,1.0)\", \"rgba(255,0,0,1.0)\", \"rgba(255,0,0,1.0)\", \"rgba(255,0,0,1.0)\", \"rgba(255,0,0,1.0)\", \"rgba(255,0,0,1.0)\", \"rgba(255,0,0,1.0)\", \"rgba(255,0,0,1.0)\", \"rgba(255,0,0,1.0)\", \"rgba(255,0,0,1.0)\", \"rgba(255,0,0,1.0)\", \"rgba(255,0,0,1.0)\", \"rgba(255,0,0,1.0)\", \"rgba(255,0,0,1.0)\", \"rgba(255,0,0,1.0)\", \"rgba(255,0,0,1.0)\", \"rgba(255,0,0,1.0)\", \"rgba(255,0,0,1.0)\", \"rgba(255,0,0,1.0)\", \"rgba(255,0,0,1.0)\", \"rgba(255,0,0,1.0)\", \"rgba(255,0,0,1.0)\", \"rgba(255,0,0,1.0)\", \"rgba(255,0,0,1.0)\", \"rgba(255,0,0,1.0)\", \"rgba(255,0,0,1.0)\", \"rgba(255,0,0,1.0)\", \"rgba(255,0,0,1.0)\", \"rgba(255,0,0,1.0)\", \"rgba(255,0,0,1.0)\", \"rgba(255,0,0,1.0)\", \"rgba(255,0,0,1.0)\", \"rgba(255,0,0,1.0)\", \"rgba(255,0,0,1.0)\", \"rgba(255,0,0,1.0)\"], \"size\": 5.0}, \"mode\": \"markers\"}, {\"yaxis\": \"y1\", \"y\": [7.250000000000002, 8.769999999999998, 9.6, 9.679999999999998, 9.94, 10.269999999999998, 10.289999999999997, 10.329999999999997, 10.339999999999998, 12.539999999999997, 12.660000000000002, 13.13, 13.389999999999999, 13.81, 13.939999999999996, 14.069999999999999, 14.479999999999999, 14.78, 14.83, 15.039999999999997, 15.419999999999996, 15.69, 16.21, 16.29, 16.489999999999995, 16.82, 16.97, 16.989999999999995, 17.260000000000005, 17.309999999999995, 17.46, 17.509999999999998, 17.89, 18.04, 18.15, 18.29, 18.43, 19.489999999999995, 19.769999999999996, 20.689999999999998, 20.759999999999998, 20.9, 21.009999999999998, 21.5, 21.58, 22.229999999999997, 23.099999999999994, 23.17, 23.32999999999999, 23.68, 23.950000000000003, 24.519999999999996, 24.549999999999997, 24.589999999999996, 24.999999999999993, 25.289999999999992, 25.559999999999988, 25.709999999999994, 26.879999999999995, 28.549999999999997, 29.85, 29.93, 30.39999999999999, 30.46, 31.709999999999994, 31.849999999999994, 32.4, 32.9, 34.629999999999995, 34.64999999999999, 34.809999999999995, 35.25999999999999, 38.07, 40.54999999999999, 45.349999999999994, 48.17], \"xaxis\": \"x1\", \"x\": [3.0000000000000004, 3.0000000000000004, 2.958932817380973, 3.0371936395314836, 3.092325906141862, 2.9119309008782266, 2.8554870040578924, 3.1457632021005435, 2.799083633990748, 3.0000000000000004, 2.9438268338138607, 3.0492818440699136, 2.898812982372356, 3.0000000000000004, 3.091209693995418, 2.945501098150691, 2.8743310130561865, 3.033730008720197, 3.1294427532713622, 2.979231106870887, 2.925637138103268, 3.07092364825168, 3.0000000000000004, 2.886414381961258, 3.1132675595211636, 3.0487486767847556, 2.956080754162541, 2.8403744700557754, 3.1568058203377283, 3.2132091904048727, 2.904467769798806, 2.7894047389571663, 3.0000000000000004, 3.0560159316567685, 3.1122336645198474, 2.9467239251170736, 2.8707377610786087, 3.0000000000000004, 2.9450814528451654, 2.9928736685892647, 3.0492306866816423, 2.924932503618687, 3.1044635889072585, 2.8759142968035083, 3.1542554014809707, 3.0000000000000004, 2.9607772438579896, 3.035531678189064, 3.0914873167634256, 2.911237561229503, 3.139960472443635, 3.0000000000000004, 3.056434250233131, 2.87404392169802, 2.9481827770005418, 3.1010910916828416, 3.156118581171057, 3.0101406848025456, 2.9958010683719842, 3.0000000000000004, 3.0000000000000004, 2.9436719712612116, 3.0502792881970096, 3.106661418339242, 3.0000000000000004, 2.9439277238295856, 3.046367495073335, 2.989859315197457, 3.0000000000000004, 2.943556103179666, 3.0558231546884955, 2.894807426394911, 3.0000000000000004, 3.0000000000000004, 3.0000000000000004, 3.0000000000000004], \"type\": \"scatter\", \"marker\": {\"symbol\": \"dot\", \"line\": {\"width\": 0.0, \"color\": \"rgba(38,38,38,1.0)\"}, \"color\": [\"rgba(0,191,191,1.0)\", \"rgba(0,191,191,1.0)\", \"rgba(0,191,191,1.0)\", \"rgba(0,191,191,1.0)\", \"rgba(0,191,191,1.0)\", \"rgba(0,191,191,1.0)\", \"rgba(0,191,191,1.0)\", \"rgba(0,191,191,1.0)\", \"rgba(0,191,191,1.0)\", \"rgba(0,191,191,1.0)\", \"rgba(0,191,191,1.0)\", \"rgba(0,191,191,1.0)\", \"rgba(0,191,191,1.0)\", \"rgba(0,191,191,1.0)\", \"rgba(0,191,191,1.0)\", \"rgba(0,191,191,1.0)\", \"rgba(0,191,191,1.0)\", \"rgba(0,191,191,1.0)\", \"rgba(0,191,191,1.0)\", \"rgba(0,191,191,1.0)\", \"rgba(0,191,191,1.0)\", \"rgba(0,191,191,1.0)\", \"rgba(0,191,191,1.0)\", \"rgba(0,191,191,1.0)\", \"rgba(0,191,191,1.0)\", \"rgba(0,191,191,1.0)\", \"rgba(0,191,191,1.0)\", \"rgba(0,191,191,1.0)\", \"rgba(0,191,191,1.0)\", \"rgba(0,191,191,1.0)\", \"rgba(0,191,191,1.0)\", \"rgba(0,191,191,1.0)\", \"rgba(0,191,191,1.0)\", \"rgba(0,191,191,1.0)\", \"rgba(0,191,191,1.0)\", \"rgba(0,191,191,1.0)\", \"rgba(0,191,191,1.0)\", \"rgba(0,191,191,1.0)\", \"rgba(0,191,191,1.0)\", \"rgba(0,191,191,1.0)\", \"rgba(0,191,191,1.0)\", \"rgba(0,191,191,1.0)\", \"rgba(0,191,191,1.0)\", \"rgba(0,191,191,1.0)\", \"rgba(0,191,191,1.0)\", \"rgba(0,191,191,1.0)\", \"rgba(0,191,191,1.0)\", \"rgba(0,191,191,1.0)\", \"rgba(0,191,191,1.0)\", \"rgba(0,191,191,1.0)\", \"rgba(0,191,191,1.0)\", \"rgba(0,191,191,1.0)\", \"rgba(0,191,191,1.0)\", \"rgba(0,191,191,1.0)\", \"rgba(0,191,191,1.0)\", \"rgba(0,191,191,1.0)\", \"rgba(0,191,191,1.0)\", \"rgba(0,191,191,1.0)\", \"rgba(0,191,191,1.0)\", \"rgba(0,191,191,1.0)\", \"rgba(0,191,191,1.0)\", \"rgba(0,191,191,1.0)\", \"rgba(0,191,191,1.0)\", \"rgba(0,191,191,1.0)\", \"rgba(0,191,191,1.0)\", \"rgba(0,191,191,1.0)\", \"rgba(0,191,191,1.0)\", \"rgba(0,191,191,1.0)\", \"rgba(0,191,191,1.0)\", \"rgba(0,191,191,1.0)\", \"rgba(0,191,191,1.0)\", \"rgba(0,191,191,1.0)\", \"rgba(0,191,191,1.0)\", \"rgba(0,191,191,1.0)\", \"rgba(0,191,191,1.0)\", \"rgba(0,191,191,1.0)\"], \"size\": 5.0}, \"mode\": \"markers\"}], {\"width\": 480, \"height\": 320, \"yaxis1\": {\"title\": \"total_bill\", \"ticks\": \"inside\", \"nticks\": 7, \"tickfont\": {\"size\": 10.0}, \"domain\": [0.0, 1.0], \"titlefont\": {\"color\": \"#000000\", \"size\": 10.0}, \"side\": \"left\", \"zeroline\": false, \"showline\": true, \"mirror\": \"ticks\", \"range\": [0.0, 60.0], \"showgrid\": false, \"anchor\": \"x1\", \"type\": \"linear\"}, \"autosize\": false, \"showlegend\": false, \"xaxis1\": {\"dtick\": 1, \"title\": \"day\", \"tickmode\": false, \"tick0\": 0, \"ticks\": \"inside\", \"tickfont\": {\"size\": 10.0}, \"titlefont\": {\"color\": \"#000000\", \"size\": 10.0}, \"side\": \"bottom\", \"zeroline\": false, \"domain\": [0.0, 1.0], \"showline\": true, \"mirror\": \"ticks\", \"type\": \"linear\", \"showgrid\": false, \"anchor\": \"y1\", \"range\": [-0.5, 3.5]}, \"hovermode\": \"closest\", \"margin\": {\"b\": 40, \"r\": 47, \"l\": 60, \"pad\": 0, \"t\": 31}}, {\"linkText\": \"Export to plot.ly\", \"showLink\": true})</script>"
      ],
      "text/plain": [
       "<IPython.core.display.HTML object>"
      ]
     },
     "metadata": {},
     "output_type": "display_data"
    }
   ],
   "source": [
    "iplot_mpl(fig_mpl)"
   ]
  },
  {
   "cell_type": "markdown",
   "metadata": {},
   "source": [
    "For this example we see that the converter did a decent job, though it didn't quite get the xlabels correct"
   ]
  },
  {
   "cell_type": "markdown",
   "metadata": {},
   "source": [
    "Let's try another example"
   ]
  },
  {
   "cell_type": "code",
   "execution_count": 55,
   "metadata": {
    "collapsed": false
   },
   "outputs": [
    {
     "data": {
      "image/png": "[encoded data removed]",
      "text/plain": [
       "<matplotlib.figure.Figure at 0xdc58550>"
      ]
     },
     "metadata": {},
     "output_type": "display_data"
    }
   ],
   "source": [
    "out = sns.pointplot(x=\"class\", y=\"survived\", hue=\"sex\", data=titanic,\n",
    "                    palette={\"male\": \"g\", \"female\": \"m\"},\n",
    "                    markers=[\"^\", \"o\"], linestyles=[\"-\", \"--\"]);"
   ]
  },
  {
   "cell_type": "code",
   "execution_count": 56,
   "metadata": {
    "collapsed": false
   },
   "outputs": [
    {
     "name": "stderr",
     "output_type": "stream",
     "text": [
      "C:\\Users\\dbackus\\AppData\\Local\\Continuum\\Anaconda3\\lib\\site-packages\\plotly\\matplotlylib\\renderer.py:445: UserWarning:\n",
      "\n",
      "Dang! That path collection is out of this world. I totally don't know what to do with it yet! Plotly can only import path collections linked to 'data' coordinates\n",
      "\n",
      "C:\\Users\\dbackus\\AppData\\Local\\Continuum\\Anaconda3\\lib\\site-packages\\plotly\\matplotlylib\\renderer.py:481: UserWarning:\n",
      "\n",
      "I found a path object that I don't think is part of a bar chart. Ignoring.\n",
      "\n"
     ]
    },
    {
     "data": {
      "text/html": [
       "<div id=\"9d58a1be-6091-45eb-b183-5f3c4ab6964c\" style=\"height: 320; width: 480px;\" class=\"plotly-graph-div\"></div><script type=\"text/javascript\">window.PLOTLYENV=window.PLOTLYENV || {};window.PLOTLYENV.BASE_URL=\"https://plot.ly\";Plotly.newPlot(\"9d58a1be-6091-45eb-b183-5f3c4ab6964c\", [{\"type\": \"scatter\", \"y\": [0.36885245901639346, 0.1574074074074074, 0.13544668587896252], \"xaxis\": \"x1\", \"x\": [0.0, 1.0, 2.0], \"name\": \"_line0\", \"line\": {\"width\": 1.8, \"dash\": \"solid\", \"color\": \"rgba (0, 127, 0, 1)\"}, \"yaxis\": \"y1\", \"mode\": \"lines\"}, {\"type\": \"scatter\", \"y\": [0.2786885245901639, 0.45901639344262296], \"xaxis\": \"x1\", \"x\": [0.0, 0.0], \"name\": \"_line1\", \"line\": {\"width\": 1.8, \"dash\": \"solid\", \"color\": \"rgba (0, 127, 0, 1)\"}, \"yaxis\": \"y1\", \"mode\": \"lines\"}, {\"type\": \"scatter\", \"y\": [0.09259259259259259, 0.2222222222222222], \"xaxis\": \"x1\", \"x\": [1.0, 1.0], \"name\": \"_line2\", \"line\": {\"width\": 1.8, \"dash\": \"solid\", \"color\": \"rgba (0, 127, 0, 1)\"}, \"yaxis\": \"y1\", \"mode\": \"lines\"}, {\"type\": \"scatter\", \"y\": [0.10086455331412106, 0.1729106628242075], \"xaxis\": \"x1\", \"x\": [2.0, 2.0], \"name\": \"_line3\", \"line\": {\"width\": 1.8, \"dash\": \"solid\", \"color\": \"rgba (0, 127, 0, 1)\"}, \"yaxis\": \"y1\", \"mode\": \"lines\"}, {\"type\": \"scatter\", \"y\": [0.9680851063829787, 0.9210526315789473, 0.5], \"xaxis\": \"x1\", \"x\": [0.0, 1.0, 2.0], \"name\": \"_line4\", \"line\": {\"width\": 1.8, \"dash\": \"dash\", \"color\": \"rgba (191, 0, 191, 1)\"}, \"yaxis\": \"y1\", \"mode\": \"lines\"}, {\"type\": \"scatter\", \"y\": [0.925531914893617, 1.0], \"xaxis\": \"x1\", \"x\": [0.0, 0.0], \"name\": \"_line5\", \"line\": {\"width\": 1.8, \"dash\": \"solid\", \"color\": \"rgba (191, 0, 191, 1)\"}, \"yaxis\": \"y1\", \"mode\": \"lines\"}, {\"type\": \"scatter\", \"y\": [0.8552631578947368, 0.9736842105263158], \"xaxis\": \"x1\", \"x\": [1.0, 1.0], \"name\": \"_line6\", \"line\": {\"width\": 1.8, \"dash\": \"solid\", \"color\": \"rgba (191, 0, 191, 1)\"}, \"yaxis\": \"y1\", \"mode\": \"lines\"}, {\"type\": \"scatter\", \"y\": [0.4166666666666667, 0.5765624999999998], \"xaxis\": \"x1\", \"x\": [2.0, 2.0], \"name\": \"_line7\", \"line\": {\"width\": 1.8, \"dash\": \"solid\", \"color\": \"rgba (191, 0, 191, 1)\"}, \"yaxis\": \"y1\", \"mode\": \"lines\"}, {\"yaxis\": \"y1\", \"y\": [0.36885245901639346, 0.1574074074074074, 0.13544668587896252], \"xaxis\": \"x1\", \"x\": [0.0, 1.0, 2.0], \"type\": \"scatter\", \"marker\": {\"symbol\": \"triangle-up\", \"line\": {\"width\": 1.35, \"color\": \"rgba(0,127,0,1.0)\"}, \"color\": [\"rgba(0,127,0,1.0)\", \"rgba(0,127,0,1.0)\", \"rgba(0,127,0,1.0)\"], \"size\": 4.511930894335801}, \"mode\": \"markers\"}, {\"yaxis\": \"y1\", \"y\": [0.9680851063829787, 0.9210526315789473, 0.5], \"xaxis\": \"x1\", \"x\": [0.0, 1.0, 2.0], \"type\": \"scatter\", \"marker\": {\"symbol\": \"dot\", \"line\": {\"width\": 1.35, \"color\": \"rgba(191,0,191,1.0)\"}, \"color\": [\"rgba(191,0,191,1.0)\", \"rgba(191,0,191,1.0)\", \"rgba(191,0,191,1.0)\"], \"size\": 4.511930894335801}, \"mode\": \"markers\"}], {\"width\": 480, \"height\": 320, \"yaxis1\": {\"title\": \"mean(survived)\", \"ticks\": \"inside\", \"nticks\": 8, \"tickfont\": {\"size\": 10.0}, \"domain\": [0.0, 1.0], \"titlefont\": {\"color\": \"#000000\", \"size\": 10.0}, \"side\": \"left\", \"zeroline\": false, \"showline\": true, \"mirror\": \"ticks\", \"range\": [0.0, 1.2000000000000002], \"showgrid\": false, \"anchor\": \"x1\", \"type\": \"linear\"}, \"autosize\": false, \"annotations\": [{\"showarrow\": false, \"xref\": \"paper\", \"xanchor\": \"left\", \"align\": \"left\", \"yanchor\": \"bottom\", \"y\": 0.9193548387096775, \"yref\": \"paper\", \"font\": {\"color\": \"#000000\", \"size\": 10.0}, \"x\": 0.8291890681003583, \"text\": \"sex\", \"opacity\": 1}, {\"showarrow\": false, \"xref\": \"paper\", \"xanchor\": \"left\", \"align\": \"left\", \"yanchor\": \"bottom\", \"y\": 0.8440860215053764, \"yref\": \"paper\", \"font\": {\"color\": \"#000000\", \"size\": 12.0}, \"x\": 0.8427419354838708, \"text\": \"male\", \"opacity\": 1}, {\"showarrow\": false, \"xref\": \"paper\", \"xanchor\": \"left\", \"align\": \"left\", \"yanchor\": \"bottom\", \"y\": 0.7647849462365591, \"yref\": \"paper\", \"font\": {\"color\": \"#000000\", \"size\": 12.0}, \"x\": 0.8427419354838708, \"text\": \"female\", \"opacity\": 1}], \"xaxis1\": {\"dtick\": 1, \"title\": \"class\", \"tickmode\": false, \"tick0\": 0, \"ticks\": \"inside\", \"tickfont\": {\"size\": 10.0}, \"titlefont\": {\"color\": \"#000000\", \"size\": 10.0}, \"side\": \"bottom\", \"zeroline\": false, \"domain\": [0.0, 1.0], \"showline\": true, \"mirror\": \"ticks\", \"type\": \"linear\", \"showgrid\": false, \"anchor\": \"y1\", \"range\": [-0.5, 2.5]}, \"showlegend\": false, \"hovermode\": \"closest\", \"margin\": {\"b\": 40, \"r\": 47, \"l\": 60, \"pad\": 0, \"t\": 31}}, {\"linkText\": \"Export to plot.ly\", \"showLink\": true})</script>"
      ],
      "text/plain": [
       "<IPython.core.display.HTML object>"
      ]
     },
     "metadata": {},
     "output_type": "display_data"
    }
   ],
   "source": [
    "iplot_mpl(out.get_figure())"
   ]
  },
  {
   "cell_type": "markdown",
   "metadata": {},
   "source": [
    "What worked well in this conversion? What didn't work?"
   ]
  },
  {
   "cell_type": "markdown",
   "metadata": {},
   "source": [
    "Let's do one more example using the college graduate data"
   ]
  },
  {
   "cell_type": "code",
   "execution_count": 57,
   "metadata": {
    "collapsed": false
   },
   "outputs": [
    {
     "data": {
      "image/png": "[encoded data removed]",
      "text/plain": [
       "<matplotlib.figure.Figure at 0xb167d30>"
      ]
     },
     "metadata": {},
     "output_type": "display_data"
    }
   ],
   "source": [
    "fig_mpl, ax = plt.subplots(figsize=(6, 10))\n",
    "earnings.plot.barh(ax=ax, y=\"Men\", color=\"Blue\")\n",
    "earnings.plot.barh(ax=ax, y=\"Women\", color=\"Pink\");"
   ]
  },
  {
   "cell_type": "code",
   "execution_count": 61,
   "metadata": {
    "collapsed": false
   },
   "outputs": [
    {
     "name": "stderr",
     "output_type": "stream",
     "text": [
      "C:\\Users\\dbackus\\AppData\\Local\\Continuum\\Anaconda3\\lib\\site-packages\\plotly\\matplotlylib\\renderer.py:516: UserWarning:\n",
      "\n",
      "Looks like the annotation(s) you are trying \n",
      "to draw lies/lay outside the given figure size.\n",
      "\n",
      "Therefore, the resulting Plotly figure may not be \n",
      "large enough to view the full text. To adjust \n",
      "the size of the figure, use the 'width' and \n",
      "'height' keys in the Layout object. Alternatively,\n",
      "use the Margin object to adjust the figure's margins.\n",
      "\n",
      "C:\\Users\\dbackus\\AppData\\Local\\Continuum\\Anaconda3\\lib\\site-packages\\plotly\\matplotlylib\\renderer.py:481: UserWarning:\n",
      "\n",
      "I found a path object that I don't think is part of a bar chart. Ignoring.\n",
      "\n"
     ]
    },
    {
     "data": {
      "text/html": [
       "<div id=\"234d4c9e-8163-486b-ad42-cf24994a298d\" style=\"height: 800; width: 480px;\" class=\"plotly-graph-div\"></div><script type=\"text/javascript\">window.PLOTLYENV=window.PLOTLYENV || {};window.PLOTLYENV.BASE_URL=\"https://plot.ly\";Plotly.newPlot(\"234d4c9e-8163-486b-ad42-cf24994a298d\", [{\"marker\": {\"color\": \"#0000FF\", \"line\": {\"width\": 1.0}}, \"y\": [0.0, 1.0, 2.0, 3.0, 4.0, 5.0, 6.0, 7.0, 8.0, 9.0, 10.0, 11.0, 12.0, 13.0, 14.0, 15.0, 16.0, 17.0, 18.0, 19.0, 20.0], \"orientation\": \"h\", \"xaxis\": \"x1\", \"x\": [78.0, 81.0, 82.0, 84.0, 88.0, 92.0, 94.0, 100.0, 107.0, 112.0, 114.0, 114.0, 118.0, 119.0, 124.0, 131.0, 137.0, 141.0, 151.0, 152.0, 165.0], \"opacity\": 1, \"yaxis\": \"y1\", \"type\": \"bar\"}, {\"marker\": {\"color\": \"#FFC0CB\", \"line\": {\"width\": 1.0}}, \"y\": [0.0, 1.0, 2.0, 3.0, 4.0, 5.0, 6.0, 7.0, 8.0, 9.0, 10.0, 11.0, 12.0, 13.0, 14.0, 15.0, 16.0, 17.0, 18.0, 19.0, 20.0], \"orientation\": \"h\", \"xaxis\": \"x1\", \"x\": [64.0, 72.0, 68.0, 62.0, 71.0, 72.0, 67.0, 73.0, 80.0, 76.0, 79.0, 84.0, 78.0, 86.0, 93.0, 94.0, 90.0, 92.0, 96.0, 94.0, 112.0], \"opacity\": 1, \"yaxis\": \"y1\", \"type\": \"bar\"}], {\"width\": 480, \"height\": 800, \"yaxis1\": {\"dtick\": 1, \"title\": \"School\", \"tickmode\": false, \"tick0\": 0, \"ticks\": \"inside\", \"tickfont\": {\"size\": 10.0}, \"titlefont\": {\"color\": \"#000000\", \"size\": 10.0}, \"side\": \"left\", \"zeroline\": false, \"domain\": [0.0, 1.0], \"showline\": true, \"mirror\": \"ticks\", \"type\": \"linear\", \"showgrid\": false, \"anchor\": \"x1\", \"range\": [-0.5, 20.5]}, \"autosize\": false, \"annotations\": [{\"showarrow\": false, \"xref\": \"paper\", \"xanchor\": \"left\", \"align\": \"left\", \"yanchor\": \"bottom\", \"y\": 0.0559139784946237, \"yref\": \"paper\", \"font\": {\"color\": \"#000000\", \"size\": 12.0}, \"x\": 0.8296370967741934, \"text\": \"Men\", \"opacity\": 1}, {\"showarrow\": false, \"xref\": \"paper\", \"xanchor\": \"left\", \"align\": \"left\", \"yanchor\": \"bottom\", \"y\": 0.024193548387096808, \"yref\": \"paper\", \"font\": {\"color\": \"#000000\", \"size\": 12.0}, \"x\": 0.8296370967741934, \"text\": \"Women\", \"opacity\": 1}], \"bargap\": 0.5, \"xaxis1\": {\"ticks\": \"inside\", \"nticks\": 10, \"tickfont\": {\"size\": 10.0}, \"domain\": [0.0, 1.0], \"side\": \"bottom\", \"zeroline\": false, \"showline\": true, \"mirror\": \"ticks\", \"range\": [0.0, 180.0], \"showgrid\": false, \"anchor\": \"y1\", \"type\": \"linear\"}, \"showlegend\": false, \"hovermode\": \"closest\", \"margin\": {\"b\": 100, \"r\": 47, \"l\": 60, \"pad\": 0, \"t\": 79}}, {\"linkText\": \"Export to plot.ly\", \"showLink\": true})</script>"
      ],
      "text/plain": [
       "<IPython.core.display.HTML object>"
      ]
     },
     "metadata": {},
     "output_type": "display_data"
    }
   ],
   "source": [
    "foo = iplot_mpl(fig_mpl)"
   ]
  },
  {
   "cell_type": "markdown",
   "metadata": {},
   "source": [
    "What did and didn't work here?\n",
    "\n",
    "Below we'll recreate this same figure using plotly's api and overcome these issues"
   ]
  },
  {
   "cell_type": "markdown",
   "metadata": {},
   "source": [
    "## Plotly API <a id=api></a>\n",
    "\n",
    "Let's now consider how to use plotly's own API to construct plots instead of\n",
    "building the graphics through matplotlib. \n",
    "\n",
    "Plotly has over 20 core chart types and many more can be created by combining one or more chart types in the same figure. We don't have time to cover all of them here, but please check out the [documentation](https://plot.ly/python/)."
   ]
  },
  {
   "cell_type": "markdown",
   "metadata": {},
   "source": [
    "Plotly has a purely **declarative** API. This means that we describe all the\n",
    "features we want in our figure at once, without worrying about which functions\n",
    "to call in what order.\n",
    "\n",
    "The plotly can achieve this is by fully describing the plot in a data format called JSON. \n",
    "For our purposes we can think of JSON as dictionaries, where values can be of any type, \n",
    "including other dictionaries."
   ]
  },
  {
   "cell_type": "markdown",
   "metadata": {},
   "source": [
    "Plotly figures are composed of two things:\n",
    "\n",
    "1. A list of **trace**s that describe the data that will be plotted and how it should appear\n",
    "2. A **layout** that describes features of the overall plot. Things like ticks, labels, titles, fonts, margins, etc.\n",
    "\n",
    "The `trace`s describe the data that should be plotted as well as how it should be displayed. Here's an example of a trace defining a scatter plot:\n",
    "\n",
    "```python\n",
    "trace = dict(type=\"scatter\",  # trace type\n",
    "             x=[1, 2, 3],     # x data\n",
    "             y=[1, 4, 9],     # y data\n",
    "             name=\"Squares\"   # legend label\n",
    "             )\n",
    "```\n",
    "\n",
    "In this example, `x`, `y`, `name` and `marker` are called the **attributes** of the trace. All traces have a `type` attribute that describes the type of chart to generate for a particular piece of data. Here we chose `scatter`, which is what plotly calls scatter plots or line plots.\n",
    "\n",
    "An example of a `layout` is\n",
    "\n",
    "```python\n",
    "l = dict(title=\"Penguins food\",            # plot title\n",
    "         yaxis=dict(title=\"Quantity (%)\",  # yaxis label\n",
    "                    range=(0, 1)           # set limits for y axis\n",
    "         )\n",
    "```\n",
    "\n",
    "Notice that the value associated with `yaxis` had type `dict`. This allowed us to control features of the yaxis.\n",
    "\n",
    "For an overwhelmingly comprehensive overview of all trace types and their associated attributes (everything plotly can do) see the chart attribute [reference](https://plot.ly/python/reference/) in the plotly python documentation"
   ]
  },
  {
   "cell_type": "markdown",
   "metadata": {},
   "source": [
    "After we have defined one or more traces and a layout, we build the plotly figure using the function `plotly.graph_objs.Figure`. The imports up top allow us to refer to this function as `go.Figure`. This is how we call the function:\n",
    "\n",
    "```python\n",
    "fig = go.Figure(data=D, layout=L)\n",
    "```\n",
    "\n",
    "where `D` is a list of **traces** and `L` describes the **layout**."
   ]
  },
  {
   "cell_type": "markdown",
   "metadata": {},
   "source": [
    "Finally, the last thing we need to know how to do is display the figure. In the notebook we will use the function `plotly.offline.iplot`, which we imported directly as `iplot`. To display the figure above we would do\n",
    "\n",
    "```python\n",
    "iplot(fig)\n",
    "```"
   ]
  },
  {
   "cell_type": "markdown",
   "metadata": {
    "collapsed": true
   },
   "source": [
    "To get a feel for what this looks like, let's revisit the horizontal bar chart using the college grad earnings data.\n",
    "\n",
    "Here's how we might build that figure using plotly's API"
   ]
  },
  {
   "cell_type": "code",
   "execution_count": 63,
   "metadata": {
    "collapsed": false
   },
   "outputs": [
    {
     "data": {
      "text/html": [
       "<div id=\"eaa47252-7a7b-4cf6-b321-7afaedd29b1c\" style=\"height: 750; width: 650px;\" class=\"plotly-graph-div\"></div><script type=\"text/javascript\">window.PLOTLYENV=window.PLOTLYENV || {};window.PLOTLYENV.BASE_URL=\"https://plot.ly\";Plotly.newPlot(\"eaa47252-7a7b-4cf6-b321-7afaedd29b1c\", [{\"y\": [\"UCLA\", \"SoCal\", \"Emory\", \"Michigan\", \"Berkeley\", \"Brown\", \"NYU\", \"Notre Dame\", \"Cornell\", \"Tufts\", \"Yale\", \"Dartmouth\", \"Chicago\", \"Columbia\", \"Duke\", \"Georgetown\", \"Princeton\", \"U.Penn\", \"Stanford\", \"MIT\", \"Harvard\"], \"orientation\": \"h\", \"name\": \"Men\", \"x\": [78, 81, 82, 84, 88, 92, 94, 100, 107, 112, 114, 114, 118, 119, 124, 131, 137, 141, 151, 152, 165], \"marker\": {\"color\": \"Blue\"}, \"type\": \"bar\"}, {\"y\": [\"UCLA\", \"SoCal\", \"Emory\", \"Michigan\", \"Berkeley\", \"Brown\", \"NYU\", \"Notre Dame\", \"Cornell\", \"Tufts\", \"Yale\", \"Dartmouth\", \"Chicago\", \"Columbia\", \"Duke\", \"Georgetown\", \"Princeton\", \"U.Penn\", \"Stanford\", \"MIT\", \"Harvard\"], \"orientation\": \"h\", \"name\": \"Women\", \"x\": [64, 72, 68, 62, 71, 72, 67, 73, 80, 76, 79, 84, 78, 86, 93, 94, 90, 92, 96, 94, 112], \"marker\": {\"color\": \"Pink\"}, \"type\": \"bar\"}], {\"title\": \"Gender earnings disparity\", \"width\": 650, \"height\": 750, \"yaxis\": {\"title\": \"School\"}, \"xaxis\": {\"title\": \"Annual Salary (thousands)\"}}, {\"linkText\": \"Export to plot.ly\", \"showLink\": true})</script>"
      ],
      "text/plain": [
       "<IPython.core.display.HTML object>"
      ]
     },
     "metadata": {},
     "output_type": "display_data"
    }
   ],
   "source": [
    "# the long way. Construct all the dicts by hand\n",
    "men = dict(type=\"bar\",                                      # trace type\n",
    "           orientation=\"h\",                                 # make bars horizontal\n",
    "           name=\"Men\",                                      # legend entry\n",
    "           x=earnings[\"Men\"],                               # x data\n",
    "           y=earnings.index,                                # y data\n",
    "           marker={\"color\": \"Blue\"}                         # blue bars\n",
    "          )\n",
    "women = dict(type=\"bar\",                                    # trace type\n",
    "             orientation=\"h\",                               # horizontal bars\n",
    "             name=\"Women\",                                  # legend entry\n",
    "             x=earnings[\"Women\"],                           # x data\n",
    "             y=earnings.index,                              # y data\n",
    "             marker={\"color\": \"Pink\"}                       # pink bars\n",
    "            )\n",
    "layout = dict(width=650, height=750,                        # plot width/height\n",
    "              yaxis={\"title\": \"School\"},                    # yaxis label\n",
    "              title=\"Gender earnings disparity\",            # title\n",
    "              xaxis={\"title\": \"Annual Salary (thousands)\"}  # xaxis label}\n",
    "             )\n",
    "iplot(go.Figure(data=[men, women], layout=layout))"
   ]
  },
  {
   "cell_type": "markdown",
   "metadata": {},
   "source": [
    "**Exercise**: now generate a similar plot using the `df.iplot` method. (*Hint* you can reuse the `layout` object from above)"
   ]
  },
  {
   "cell_type": "code",
   "execution_count": 76,
   "metadata": {
    "collapsed": false
   },
   "outputs": [
    {
     "data": {
      "text/html": [
       "<div id=\"89389036-6cd4-44b8-bafe-c5bb0b50abce\" style=\"height: 750; width: 650px;\" class=\"plotly-graph-div\"></div><script type=\"text/javascript\">window.PLOTLYENV=window.PLOTLYENV || {};window.PLOTLYENV.BASE_URL=\"https://plot.ly\";Plotly.newPlot(\"89389036-6cd4-44b8-bafe-c5bb0b50abce\", [{\"orientation\": \"h\", \"y\": [\"UCLA\", \"SoCal\", \"Emory\", \"Michigan\", \"Berkeley\", \"Brown\", \"NYU\", \"Notre Dame\", \"Cornell\", \"Tufts\", \"Yale\", \"Dartmouth\", \"Chicago\", \"Columbia\", \"Duke\", \"Georgetown\", \"Princeton\", \"U.Penn\", \"Stanford\", \"MIT\", \"Harvard\"], \"x\": [64, 72, 68, 62, 71, 72, 67, 73, 80, 76, 79, 84, 78, 86, 93, 94, 90, 92, 96, 94, 112], \"name\": \"Women\", \"text\": \"\", \"marker\": {\"color\": \"rgba(255, 153, 51, 0.6)\", \"line\": {\"width\": 1, \"color\": \"rgba(255, 153, 51, 1.0)\"}}, \"type\": \"bar\"}, {\"orientation\": \"h\", \"y\": [\"UCLA\", \"SoCal\", \"Emory\", \"Michigan\", \"Berkeley\", \"Brown\", \"NYU\", \"Notre Dame\", \"Cornell\", \"Tufts\", \"Yale\", \"Dartmouth\", \"Chicago\", \"Columbia\", \"Duke\", \"Georgetown\", \"Princeton\", \"U.Penn\", \"Stanford\", \"MIT\", \"Harvard\"], \"x\": [78, 81, 82, 84, 88, 92, 94, 100, 107, 112, 114, 114, 118, 119, 124, 131, 137, 141, 151, 152, 165], \"name\": \"Men\", \"text\": \"\", \"marker\": {\"color\": \"rgba(55, 128, 191, 0.6)\", \"line\": {\"width\": 1, \"color\": \"rgba(55, 128, 191, 1.0)\"}}, \"type\": \"bar\"}, {\"orientation\": \"h\", \"y\": [\"UCLA\", \"SoCal\", \"Emory\", \"Michigan\", \"Berkeley\", \"Brown\", \"NYU\", \"Notre Dame\", \"Cornell\", \"Tufts\", \"Yale\", \"Dartmouth\", \"Chicago\", \"Columbia\", \"Duke\", \"Georgetown\", \"Princeton\", \"U.Penn\", \"Stanford\", \"MIT\", \"Harvard\"], \"x\": [14, 9, 14, 22, 17, 20, 27, 27, 27, 36, 35, 30, 40, 33, 31, 37, 47, 49, 55, 58, 53], \"name\": \"gap\", \"text\": \"\", \"marker\": {\"color\": \"rgba(50, 171, 96, 0.6)\", \"line\": {\"width\": 1, \"color\": \"rgba(50, 171, 96, 1.0)\"}}, \"type\": \"bar\"}], {\"title\": \"Gender earnings disparity\", \"width\": 650, \"height\": 750, \"yaxis\": {\"title\": \"School\"}, \"xaxis\": {\"title\": \"Annual Salary (thousands)\"}}, {\"linkText\": \"Export to plot.ly\", \"showLink\": false})</script>"
      ],
      "text/plain": [
       "<IPython.core.display.HTML object>"
      ]
     },
     "metadata": {},
     "output_type": "display_data"
    }
   ],
   "source": [
    "earnings.iplot(layout=layout, kind=\"barh\")"
   ]
  },
  {
   "cell_type": "markdown",
   "metadata": {},
   "source": [
    "**Example: Dumbell plot**. The striking fact in the data is that there is a gap between earnings of men and women. To highlight that, here's another way we might visualize the same data:"
   ]
  },
  {
   "cell_type": "code",
   "execution_count": 78,
   "metadata": {
    "collapsed": false
   },
   "outputs": [
    {
     "data": {
      "text/html": [
       "<div id=\"15ec2bea-6fe5-46bc-ac4d-54c253c04fa6\" style=\"height: 750; width: 650px;\" class=\"plotly-graph-div\"></div><script type=\"text/javascript\">window.PLOTLYENV=window.PLOTLYENV || {};window.PLOTLYENV.BASE_URL=\"https://plot.ly\";Plotly.newPlot(\"15ec2bea-6fe5-46bc-ac4d-54c253c04fa6\", [{\"y\": [\"UCLA\", \"SoCal\", \"Emory\", \"Michigan\", \"Berkeley\", \"Brown\", \"NYU\", \"Notre Dame\", \"Cornell\", \"Tufts\", \"Yale\", \"Dartmouth\", \"Chicago\", \"Columbia\", \"Duke\", \"Georgetown\", \"Princeton\", \"U.Penn\", \"Stanford\", \"MIT\", \"Harvard\"], \"x\": [78, 81, 82, 84, 88, 92, 94, 100, 107, 112, 114, 114, 118, 119, 124, 131, 137, 141, 151, 152, 165], \"name\": \"Men\", \"type\": \"scatter\", \"marker\": {\"color\": \"Blue\", \"size\": 12}, \"mode\": \"markers\"}, {\"y\": [\"UCLA\", \"SoCal\", \"Emory\", \"Michigan\", \"Berkeley\", \"Brown\", \"NYU\", \"Notre Dame\", \"Cornell\", \"Tufts\", \"Yale\", \"Dartmouth\", \"Chicago\", \"Columbia\", \"Duke\", \"Georgetown\", \"Princeton\", \"U.Penn\", \"Stanford\", \"MIT\", \"Harvard\"], \"x\": [64, 72, 68, 62, 71, 72, 67, 73, 80, 76, 79, 84, 78, 86, 93, 94, 90, 92, 96, 94, 112], \"name\": \"Women\", \"type\": \"scatter\", \"marker\": {\"color\": \"Pink\", \"size\": 12}, \"mode\": \"markers\"}, {\"showlegend\": false, \"type\": \"scatter\", \"y\": [\"UCLA\", \"UCLA\"], \"name\": \"UCLA\", \"x\": [64, 78], \"mode\": \"lines\", \"line\": {\"color\": \"gray\"}}, {\"showlegend\": false, \"type\": \"scatter\", \"y\": [\"SoCal\", \"SoCal\"], \"name\": \"SoCal\", \"x\": [72, 81], \"mode\": \"lines\", \"line\": {\"color\": \"gray\"}}, {\"showlegend\": false, \"type\": \"scatter\", \"y\": [\"Emory\", \"Emory\"], \"name\": \"Emory\", \"x\": [68, 82], \"mode\": \"lines\", \"line\": {\"color\": \"gray\"}}, {\"showlegend\": false, \"type\": \"scatter\", \"y\": [\"Michigan\", \"Michigan\"], \"name\": \"Michigan\", \"x\": [62, 84], \"mode\": \"lines\", \"line\": {\"color\": \"gray\"}}, {\"showlegend\": false, \"type\": \"scatter\", \"y\": [\"Berkeley\", \"Berkeley\"], \"name\": \"Berkeley\", \"x\": [71, 88], \"mode\": \"lines\", \"line\": {\"color\": \"gray\"}}, {\"showlegend\": false, \"type\": \"scatter\", \"y\": [\"Brown\", \"Brown\"], \"name\": \"Brown\", \"x\": [72, 92], \"mode\": \"lines\", \"line\": {\"color\": \"gray\"}}, {\"showlegend\": false, \"type\": \"scatter\", \"y\": [\"NYU\", \"NYU\"], \"name\": \"NYU\", \"x\": [67, 94], \"mode\": \"lines\", \"line\": {\"color\": \"gray\"}}, {\"showlegend\": false, \"type\": \"scatter\", \"y\": [\"Notre Dame\", \"Notre Dame\"], \"name\": \"Notre Dame\", \"x\": [73, 100], \"mode\": \"lines\", \"line\": {\"color\": \"gray\"}}, {\"showlegend\": false, \"type\": \"scatter\", \"y\": [\"Cornell\", \"Cornell\"], \"name\": \"Cornell\", \"x\": [80, 107], \"mode\": \"lines\", \"line\": {\"color\": \"gray\"}}, {\"showlegend\": false, \"type\": \"scatter\", \"y\": [\"Tufts\", \"Tufts\"], \"name\": \"Tufts\", \"x\": [76, 112], \"mode\": \"lines\", \"line\": {\"color\": \"gray\"}}, {\"showlegend\": false, \"type\": \"scatter\", \"y\": [\"Yale\", \"Yale\"], \"name\": \"Yale\", \"x\": [79, 114], \"mode\": \"lines\", \"line\": {\"color\": \"gray\"}}, {\"showlegend\": false, \"type\": \"scatter\", \"y\": [\"Dartmouth\", \"Dartmouth\"], \"name\": \"Dartmouth\", \"x\": [84, 114], \"mode\": \"lines\", \"line\": {\"color\": \"gray\"}}, {\"showlegend\": false, \"type\": \"scatter\", \"y\": [\"Chicago\", \"Chicago\"], \"name\": \"Chicago\", \"x\": [78, 118], \"mode\": \"lines\", \"line\": {\"color\": \"gray\"}}, {\"showlegend\": false, \"type\": \"scatter\", \"y\": [\"Columbia\", \"Columbia\"], \"name\": \"Columbia\", \"x\": [86, 119], \"mode\": \"lines\", \"line\": {\"color\": \"gray\"}}, {\"showlegend\": false, \"type\": \"scatter\", \"y\": [\"Duke\", \"Duke\"], \"name\": \"Duke\", \"x\": [93, 124], \"mode\": \"lines\", \"line\": {\"color\": \"gray\"}}, {\"showlegend\": false, \"type\": \"scatter\", \"y\": [\"Georgetown\", \"Georgetown\"], \"name\": \"Georgetown\", \"x\": [94, 131], \"mode\": \"lines\", \"line\": {\"color\": \"gray\"}}, {\"showlegend\": false, \"type\": \"scatter\", \"y\": [\"Princeton\", \"Princeton\"], \"name\": \"Princeton\", \"x\": [90, 137], \"mode\": \"lines\", \"line\": {\"color\": \"gray\"}}, {\"showlegend\": false, \"type\": \"scatter\", \"y\": [\"U.Penn\", \"U.Penn\"], \"name\": \"U.Penn\", \"x\": [92, 141], \"mode\": \"lines\", \"line\": {\"color\": \"gray\"}}, {\"showlegend\": false, \"type\": \"scatter\", \"y\": [\"Stanford\", \"Stanford\"], \"name\": \"Stanford\", \"x\": [96, 151], \"mode\": \"lines\", \"line\": {\"color\": \"gray\"}}, {\"showlegend\": false, \"type\": \"scatter\", \"y\": [\"MIT\", \"MIT\"], \"name\": \"MIT\", \"x\": [94, 152], \"mode\": \"lines\", \"line\": {\"color\": \"gray\"}}, {\"showlegend\": false, \"type\": \"scatter\", \"y\": [\"Harvard\", \"Harvard\"], \"name\": \"Harvard\", \"x\": [112, 165], \"mode\": \"lines\", \"line\": {\"color\": \"gray\"}}], {\"title\": \"Gender earnings disparity\", \"width\": 650, \"height\": 750, \"yaxis\": {\"title\": \"School\"}, \"xaxis\": {\"title\": \"Annual Salary (thousands)\"}}, {\"linkText\": \"Export to plot.ly\", \"showLink\": true})</script>"
      ],
      "text/plain": [
       "<IPython.core.display.HTML object>"
      ]
     },
     "metadata": {},
     "output_type": "display_data"
    }
   ],
   "source": [
    "men2 = dict(type=\"scatter\", \n",
    "            name=\"Men\", \n",
    "            mode=\"markers\",                       # draw dots\n",
    "            x=earnings[\"Men\"],                    # x data\n",
    "            y=earnings.index,                     # y data\n",
    "            marker={\"color\": \"Blue\", \"size\": 12}  # dot color/size\n",
    "           )\n",
    "women2 = dict(type=\"scatter\", name=\"Women\", mode=\"markers\",\n",
    "              x=earnings[\"Women\"], y=earnings.index,\n",
    "              marker={\"color\": \"Pink\", \"size\": 12})\n",
    "\n",
    "def draw_line(row):\n",
    "    sc = row.name\n",
    "    line = dict(type=\"scatter\",                # trace type\n",
    "                x=[row[\"Women\"], row[\"Men\"]],  # x data\n",
    "                y=[sc, sc],                    # y data flat\n",
    "                mode=\"lines\",                  # draw line\n",
    "                name=sc,                       # name trace\n",
    "                showlegend=False,              # no legend entry\n",
    "                line={\"color\": \"gray\"}         # line color\n",
    "               )\n",
    "    return line\n",
    "lines = list(earnings.apply(draw_line, axis=1))\n",
    "\n",
    "# use + for two lists\n",
    "data = [men2, women2] + lines  \n",
    "\n",
    "# build and display the figure\n",
    "fig = go.Figure(data=data, layout=layout)\n",
    "iplot(fig)"
   ]
  },
  {
   "cell_type": "markdown",
   "metadata": {},
   "source": [
    "**Exercise**: Look at the [figure attribute reference](https://plot.ly/python/reference/) and figure out how to remove the grid lines from the figure above. First remove the veritcal ones, then horizontal, then both. (*Hint:* Look for an attribute on the `xaxis` and `yaxis` of the layout) (*Hint 2* you can get the layout by doing `fig.layout`)"
   ]
  },
  {
   "cell_type": "markdown",
   "metadata": {},
   "source": [
    "## Maps <a id=maps></a>\n",
    "\n",
    "We will finish this notebook by looking at some new things we can now do because we are using plotly. "
   ]
  },
  {
   "cell_type": "markdown",
   "metadata": {
    "collapsed": true
   },
   "source": [
    "There are two map-based traces in plotly:\n",
    "\n",
    "- `scattergeo`: this allows you do draw lines or dots on a map\n",
    "- `choropleth`: this allows you to fill regions with different colors\n",
    "\n",
    "There is also the `geo` layout attribute. We'll look\n",
    "\n",
    "#### `scattergeo` dots\n",
    "\n",
    "We'll look at the `scattergeo` trace type first. Suppose we want to draw dots on the map. There are two possible sets of trace attributes we can work with:\n",
    "\n",
    "1. Set `lat` and `lon` each to a list that specifiy the latitide and longitude for each point repsectively\n",
    "2. Set the `locationmode` to be one of `\"ISO-3\"`, `\"USA-states\"`, or `\"country names\"` and then set `location` to be a valid member of that mode.\n",
    "\n",
    "We can then set any other attributes \n",
    "\n",
    "Let's see an example of each version:"
   ]
  },
  {
   "cell_type": "code",
   "execution_count": 41,
   "metadata": {
    "collapsed": false
   },
   "outputs": [],
   "source": [
    "# first create marker/layout objects we can re-use in both plots\n",
    "marker = {\"color\": rain[\"Precipitation\"],\n",
    "          \"size\": rain[\"Precipitation\"]/100,\n",
    "          \"colorscale\": \"Reds\",\n",
    "          \"colorbar\": {\"title\": \"Precipitation mm\"}}\n",
    "\n",
    "layout = dict(geo={\"scope\": \"europe\", \"resolution\": 50}, \n",
    "              width=750, height=550)"
   ]
  },
  {
   "cell_type": "code",
   "execution_count": 42,
   "metadata": {
    "collapsed": false
   },
   "outputs": [
    {
     "data": {
      "text/html": [
       "<div id=\"fcc00c7b-0e76-4d28-842d-ad73266bbf6e\" style=\"height: 550; width: 750px;\" class=\"plotly-graph-div\"></div><script type=\"text/javascript\">window.PLOTLYENV=window.PLOTLYENV || {};window.PLOTLYENV.BASE_URL=\"https://plot.ly\";Plotly.newPlot(\"fcc00c7b-0e76-4d28-842d-ad73266bbf6e\", [{\"type\": \"scattergeo\", \"marker\": {\"size\": [14.85, 5.62, 11.1, 4.47, 6.18, 8.47, 10.28, 6.08, 11.13, 4.98, 6.77, 7.03, 6.26, 5.36, 8.67, 10.26, 7.0, 6.52, 5.89, 19.4, 11.18, 8.32, 2.5, 6.41, 6.56, 9.34, 5.6, 7.78, 14.14, 6.0, 8.54, 6.37, 11.62, 6.36, 6.24, 15.37, 5.93, 5.65], \"color\": [1485.0, 562.0, 1110.0, 447.0, 618.0, 847.0, 1028.0, 608.0, 1113.0, 498.0, 677.0, 703.0, 626.0, 536.0, 867.0, 1026.0, 700.0, 652.0, 589.0, 1940.0, 1118.0, 832.0, 250.0, 641.0, 656.0, 934.0, 560.0, 778.0, 1414.0, 600.0, 854.0, 637.0, 1162.0, 636.0, 624.0, 1537.0, 593.0, 565.0], \"colorbar\": {\"title\": \"Precipitation mm\"}, \"colorscale\": \"Reds\"}, \"locations\": [\"ALB\", \"ARM\", \"AUT\", \"AZE\", \"BLR\", \"BEL\", \"BIH\", \"BGR\", \"HRV\", \"CYP\", \"CZE\", \"DNK\", \"EST\", \"FIN\", \"FRA\", \"GEO\", \"DEU\", \"GRC\", \"HUN\", \"ISL\", \"IRL\", \"ITA\", \"KAZ\", \"LVA\", \"LTU\", \"LUX\", \"MLT\", \"NLD\", \"NOR\", \"POL\", \"PRT\", \"ROU\", \"SVN\", \"ESP\", \"SWE\", \"CHE\", \"TUR\", \"UKR\"], \"mode\": \"markers\"}], {\"width\": 750, \"height\": 550, \"geo\": {\"resolution\": 50, \"scope\": \"europe\"}}, {\"linkText\": \"\", \"showLink\": true})</script>"
      ],
      "text/plain": [
       "<IPython.core.display.HTML object>"
      ]
     },
     "metadata": {},
     "output_type": "display_data"
    }
   ],
   "source": [
    "# using location mode\n",
    "trace = dict(type=\"scattergeo\",      # trace type\n",
    "             mode=\"markers\",         # draw points\n",
    "             locations=rain[\"ISO\"],  # use ISO code\n",
    "             marker=marker           # marker settings (size, color, ...)\n",
    "            )\n",
    "\n",
    "iplot(go.Figure(data=[trace], layout=layout), link_text=\"\")"
   ]
  },
  {
   "cell_type": "code",
   "execution_count": 79,
   "metadata": {
    "collapsed": false
   },
   "outputs": [
    {
     "data": {
      "text/html": [
       "<div id=\"cedd4320-55bd-4efc-8efd-1f32c5800279\" style=\"height: 750; width: 650px;\" class=\"plotly-graph-div\"></div><script type=\"text/javascript\">window.PLOTLYENV=window.PLOTLYENV || {};window.PLOTLYENV.BASE_URL=\"https://plot.ly\";Plotly.newPlot(\"cedd4320-55bd-4efc-8efd-1f32c5800279\", [{\"lon\": [19.19, 44.44, 16.16, 49.49, 27.27, 4.04, 18.18, 23.23, 15.15, 33.33, 14.14, 12.12, 24.24, 25.25, 2.02, 44.44, 13.13, 23.23, 19.19, -21.21, -6.06, 12.12, 71.71, 24.24, 25.25, 6.06, 14.14, 4.04, 10.1, 21.21, -9.09, 26.26, 14.14, -3.03, 18.18, 7.07, 32.32, 30.3], \"type\": \"scattergeo\", \"marker\": {\"size\": [14.85, 5.62, 11.1, 4.47, 6.18, 8.47, 10.28, 6.08, 11.13, 4.98, 6.77, 7.03, 6.26, 5.36, 8.67, 10.26, 7.0, 6.52, 5.89, 19.4, 11.18, 8.32, 2.5, 6.41, 6.56, 9.34, 5.6, 7.78, 14.14, 6.0, 8.54, 6.37, 11.62, 6.36, 6.24, 15.37, 5.93, 5.65], \"color\": [1485.0, 562.0, 1110.0, 447.0, 618.0, 847.0, 1028.0, 608.0, 1113.0, 498.0, 677.0, 703.0, 626.0, 536.0, 867.0, 1026.0, 700.0, 652.0, 589.0, 1940.0, 1118.0, 832.0, 250.0, 641.0, 656.0, 934.0, 560.0, 778.0, 1414.0, 600.0, 854.0, 637.0, 1162.0, 636.0, 624.0, 1537.0, 593.0, 565.0], \"colorbar\": {\"title\": \"Precipitation mm\"}, \"colorscale\": \"Reds\"}, \"lat\": [41.41, 40.4, 48.48, 40.4, 53.53, 50.5, 43.43, 42.42, 45.45, 35.35, 50.5, 55.55, 59.59, 60.6, 48.48, 41.41, 52.52, 37.37, 47.47, 64.64, 53.53, 41.41, 51.51, 56.56, 54.54, 49.49, 35.35, 52.52, 59.59, 52.52, 38.38, 44.44, 46.46, 40.4, 59.59, 46.46, 39.39, 50.5], \"mode\": \"markers\"}], {\"title\": \"Gender earnings disparity\", \"width\": 650, \"height\": 750, \"yaxis\": {\"title\": \"School\"}, \"xaxis\": {\"title\": \"Annual Salary (thousands)\"}}, {\"linkText\": \"\", \"showLink\": true})</script>"
      ],
      "text/plain": [
       "<IPython.core.display.HTML object>"
      ]
     },
     "metadata": {},
     "output_type": "display_data"
    }
   ],
   "source": [
    "# using lat/lon mode\n",
    "trace = dict(type=\"scattergeo\",     # trace type\n",
    "             mode=\"markers\",        # draw dots\n",
    "             lat=rain[\"Latitude\"],  # latitude coordinate\n",
    "             lon=rain[\"Longitude\"], # longitude coordinate\n",
    "             marker=marker          # marker settings (color, size...)\n",
    "            )\n",
    "\n",
    "iplot(go.Figure(data=[trace], layout=layout), link_text=\"\")"
   ]
  },
  {
   "cell_type": "markdown",
   "metadata": {},
   "source": [
    "#### `scattergeo` lines\n",
    "\n",
    "Now supppose we want to draw lines from the Italy to France, Germany, and Spain.\n",
    "\n",
    "We can do this using `scattergeo` traces, where the lat and lon attributes on each trace are of length 2. The point will be drawn from `(lat[0], lon[0])` to `(lat[1], lon[1])`:"
   ]
  },
  {
   "cell_type": "code",
   "execution_count": 81,
   "metadata": {
    "collapsed": false
   },
   "outputs": [
    {
     "data": {
      "text/html": [
       "<div id=\"5b6b55af-02bd-4952-bf28-76cf1f23c923\" style=\"height: 750; width: 650px;\" class=\"plotly-graph-div\"></div><script type=\"text/javascript\">window.PLOTLYENV=window.PLOTLYENV || {};window.PLOTLYENV.BASE_URL=\"https://plot.ly\";Plotly.newPlot(\"5b6b55af-02bd-4952-bf28-76cf1f23c923\", [{\"lat\": [41.41, 48.48], \"name\": \"ITA to FRA\", \"type\": \"scattergeo\", \"lon\": [12.12, 2.02], \"mode\": \"lines\", \"line\": {\"width\": 4.0}}, {\"lat\": [41.41, 40.4], \"name\": \"ITA to ESP\", \"type\": \"scattergeo\", \"lon\": [12.12, -3.03], \"mode\": \"lines\", \"line\": {\"width\": 4.0}}, {\"lat\": [41.41, 52.52], \"name\": \"ITA to DEU\", \"type\": \"scattergeo\", \"lon\": [12.12, 13.13], \"mode\": \"lines\", \"line\": {\"width\": 4.0}}], {\"title\": \"Gender earnings disparity\", \"width\": 650, \"height\": 750, \"yaxis\": {\"title\": \"School\"}, \"xaxis\": {\"title\": \"Annual Salary (thousands)\"}}, {\"linkText\": \"Export to plot.ly\", \"showLink\": true})</script>"
      ],
      "text/plain": [
       "<IPython.core.display.HTML object>"
      ]
     },
     "metadata": {},
     "output_type": "display_data"
    }
   ],
   "source": [
    "def get_lat_lon_for(df, iso):\n",
    "    lat = df[\"Latitude\"][df[\"ISO\"] == iso]\n",
    "    lon = df[\"Longitude\"][df[\"ISO\"] == iso]\n",
    "    return float(lat), float(lon)\n",
    "\n",
    "i_lat, i_lon = get_lat_lon_for(rain, \"ITA\")\n",
    "traces = []\n",
    "\n",
    "for country in [\"FRA\", \"ESP\", \"DEU\"]:\n",
    "    lat, lon = get_lat_lon_for(rain, country)\n",
    "    trace = dict(type=\"scattergeo\",                # trace type\n",
    "                 mode=\"lines\",                     # draw lines\n",
    "                 lat=[i_lat, lat],                 # latitude coordinates\n",
    "                 lon=[i_lon, lon],                 # longitude coordinates\n",
    "                 line={\"width\": 4.0},              # thick lines\n",
    "                 name=\"ITA to {}\".format(country)  # legend entry\n",
    "                )\n",
    "    traces.append(trace)\n",
    "\n",
    "iplot(go.Figure(data=traces, layout=layout))"
   ]
  },
  {
   "cell_type": "markdown",
   "metadata": {},
   "source": [
    "### Choropleth\n",
    "\n",
    "The other type of map plotly can create is called a choropleth map. Here we have each region filled in with a solid color.\n",
    "\n",
    "Let's use our country data to see what this looks like"
   ]
  },
  {
   "cell_type": "code",
   "execution_count": 82,
   "metadata": {
    "collapsed": false
   },
   "outputs": [
    {
     "data": {
      "text/html": [
       "<div id=\"48462c03-6eda-4886-8a83-f06fcc67b84c\" style=\"height: 750; width: 650px;\" class=\"plotly-graph-div\"></div><script type=\"text/javascript\">window.PLOTLYENV=window.PLOTLYENV || {};window.PLOTLYENV.BASE_URL=\"https://plot.ly\";Plotly.newPlot(\"48462c03-6eda-4886-8a83-f06fcc67b84c\", [{\"text\": [\"Albania\", \"Armenia\", \"Austria\", \"Azerbaijan\", \"Belarus\", \"Belgium\", \"Bosnia and Herzegovina\", \"Bulgaria\", \"Croatia\", \"Cyprus\", \"Czech Republic\", \"Denmark\", \"Estonia\", \"Finland\", \"France\", \"Georgia\", \"Germany\", \"Greece\", \"Hungary\", \"Iceland\", \"Ireland\", \"Italy\", \"Kazakhstan\", \"Latvia\", \"Lithuania\", \"Luxembourg\", \"Malta\", \"Netherlands\", \"Norway\", \"Poland\", \"Portugal\", \"Romania\", \"Slovenia\", \"Spain\", \"Sweden\", \"Switzerland\", \"Turkey\", \"Ukraine\"], \"type\": \"choropleth\", \"locations\": [\"ALB\", \"ARM\", \"AUT\", \"AZE\", \"BLR\", \"BEL\", \"BIH\", \"BGR\", \"HRV\", \"CYP\", \"CZE\", \"DNK\", \"EST\", \"FIN\", \"FRA\", \"GEO\", \"DEU\", \"GRC\", \"HUN\", \"ISL\", \"IRL\", \"ITA\", \"KAZ\", \"LVA\", \"LTU\", \"LUX\", \"MLT\", \"NLD\", \"NOR\", \"POL\", \"PRT\", \"ROU\", \"SVN\", \"ESP\", \"SWE\", \"CHE\", \"TUR\", \"UKR\"], \"z\": [1485.0, 562.0, 1110.0, 447.0, 618.0, 847.0, 1028.0, 608.0, 1113.0, 498.0, 677.0, 703.0, 626.0, 536.0, 867.0, 1026.0, 700.0, 652.0, 589.0, 1940.0, 1118.0, 832.0, 250.0, 641.0, 656.0, 934.0, 560.0, 778.0, 1414.0, 600.0, 854.0, 637.0, 1162.0, 636.0, 624.0, 1537.0, 593.0, 565.0], \"colorscale\": \"Viridis\"}], {\"title\": \"Gender earnings disparity\", \"width\": 650, \"height\": 750, \"yaxis\": {\"title\": \"School\"}, \"xaxis\": {\"title\": \"Annual Salary (thousands)\"}}, {\"linkText\": \"\", \"showLink\": true})</script>"
      ],
      "text/plain": [
       "<IPython.core.display.HTML object>"
      ]
     },
     "metadata": {},
     "output_type": "display_data"
    }
   ],
   "source": [
    "trace = dict(type=\"choropleth\",\n",
    "             locations=rain[\"ISO\"],   # use ISO names\n",
    "             z=rain[\"Precipitation\"], # defines the color\n",
    "             colorscale=\"Viridis\",    # change pallette\n",
    "             text=rain.index,         # change text on hover\n",
    "             )\n",
    "\n",
    "# reuse the same layout\n",
    "iplot(go.Figure(data=[trace], layout=layout), link_text=\"\")"
   ]
  },
  {
   "cell_type": "code",
   "execution_count": null,
   "metadata": {
    "collapsed": true
   },
   "outputs": [],
   "source": []
  },
  {
   "cell_type": "code",
   "execution_count": null,
   "metadata": {
    "collapsed": true
   },
   "outputs": [],
   "source": []
  }
 ],
 "metadata": {
  "kernelspec": {
   "display_name": "Python 3",
   "language": "python",
   "name": "python3"
  },
  "language_info": {
   "codemirror_mode": {
    "name": "ipython",
    "version": 3
   },
   "file_extension": ".py",
   "mimetype": "text/x-python",
   "name": "python",
   "nbconvert_exporter": "python",
   "pygments_lexer": "ipython3",
   "version": "3.5.1"
  }
 },
 "nbformat": 4,
 "nbformat_minor": 0
}
