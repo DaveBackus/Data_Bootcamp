{
 "cells": [
  {
   "cell_type": "markdown",
   "metadata": {
    "collapsed": true
   },
   "source": [
    "# Pandas 2:  Cleaning data \n",
    "\n",
    "Probably the best thing about Pandas is its extensive toolset for managing data.  Here we describe features of Pandas that allow us to clean data that, for reasons beyond our control, comes in a form that's not immediately amendable to analysis. This is the first of several such notebooks.  \n",
    "\n",
    "Outline:  \n",
    "\n",
    "* [Want operator](#want).  Start with what we want to end up, then figure out how to get there.  \n",
    "* [String methods](#strings).  Fixing string variables, especially strings that should really be numbers.  \n",
    "* [Missing values](#missing).  Marking, dropping, counting missing values.    \n",
    "* [Selecting variables and observations](#selection).  Choose the variables and observations we want by their labels.\n",
    "* [Boolean selection](#boolean).  This is mostly what we do:  choose observations from conditions.  We use comparisons to produce Boolean variables and then use the Boolean variables to select observations that are `True`.  The next two methods extend this capability.  \n",
    "* [The `isin` method](#isin).  Choose observations whose values are in lists you specify. \n",
    "* [The `contains` method](#contains).  Flag observations that contain a specific piece of text.  Another string method, operates through Booleans.  \n",
    "\n",
    "<!--\n",
    "* [The `query` method](#query).  Similar capability using database syntax.  This is one of many examples in which **SQL database** tools have been built into Pandas.  \n",
    "--> \n",
    "\n",
    "<!--\n",
    "* [Indexing](#index).  Setting and resetting the index.  Multi-indexes. \n",
    "* [Switching rows and columns](#pivot).  Transpose.  Pivot and melt.  \n",
    "* [Stack and unstack](#stack).  Managing column structure and labels.  Melt.  \n",
    "--> \n",
    "\n",
    "**Note: requires internet access to run.**  \n",
    "\n",
    "<!-- \n",
    "internal links http://sebastianraschka.com/Articles/2014_ipython_internal_links.html\n",
    "-->\n",
    "\n",
    "This IPython notebook was created by Dave Backus, Chase Coleman, and Spencer Lyon for the NYU Stern course [Data Bootcamp](http://databootcamp.nyuecon.com/).  "
   ]
  },
  {
   "cell_type": "markdown",
   "metadata": {},
   "source": [
    "<a id=prelims></a>"
   ]
  },
  {
   "cell_type": "markdown",
   "metadata": {},
   "source": [
    "## Preliminaries "
   ]
  },
  {
   "cell_type": "code",
   "execution_count": 1,
   "metadata": {
    "collapsed": false
   },
   "outputs": [
    {
     "name": "stdout",
     "output_type": "stream",
     "text": [
      "Python version:  3.5.1 |Anaconda 2.5.0 (x86_64)| (default, Dec  7 2015, 11:24:55) \n",
      "[GCC 4.2.1 (Apple Inc. build 5577)]\n",
      "Pandas version:  0.17.1\n",
      "Today:  2016-04-08\n"
     ]
    }
   ],
   "source": [
    "import sys                             # system module \n",
    "import pandas as pd                    # data package\n",
    "import matplotlib.pyplot as plt        # graphics module  \n",
    "import datetime as dt                  # date and time module\n",
    "import numpy as np                     # foundation for Pandas \n",
    "\n",
    "%matplotlib inline                     \n",
    "\n",
    "# check versions (overkill, but why not?)\n",
    "print('Python version: ', sys.version)\n",
    "print('Pandas version: ', pd.__version__)\n",
    "print('Today: ', dt.date.today())"
   ]
  },
  {
   "cell_type": "markdown",
   "metadata": {},
   "source": [
    "<a id=want></a>"
   ]
  },
  {
   "cell_type": "markdown",
   "metadata": {},
   "source": [
    "## The want operator \n",
    "\n",
    "We need to know what we're trying to do -- what we **want** the data to look like.  We say we **apply the want operator**.  \n",
    "\n",
    "Some problems we've run across that ask to be solved:\n",
    "\n",
    "* Numerical data is contaminated by commas (marking thousands) or dollar signs.  \n",
    "* Row and column labels are contaminated.  \n",
    "* Missing values are marked erratically.  \n",
    "* We have too much data, would prefer to choose a subset.  \n",
    "* Variables run across rows rather than down columns.  \n",
    "\n",
    "What we want in each case is the opposite of what we have:  we want nicely formatted numbers, clean row and column labels, and so on.  \n",
    "\n",
    "We'll solve the first four problems here, the last one in the next notebook.  "
   ]
  },
  {
   "cell_type": "markdown",
   "metadata": {},
   "source": [
    "### Example:  Chipotle data \n",
    "\n",
    "This data comes from a [New York Times story]((http://www.nytimes.com/interactive/2015/02/17/upshot/what-do-people-actually-order-at-chipotle.html) about the number of calories in a typical order at Chipotle.  The topic doesn't particularly excite us, but the data raises a number of issues that come up repeatedly. We adapt some code written by [Daniel Forsyth](http://www.danielforsyth.me/pandas-burritos-analyzing-chipotle-order-data-2/). "
   ]
  },
  {
   "cell_type": "code",
   "execution_count": 2,
   "metadata": {
    "collapsed": false
   },
   "outputs": [
    {
     "name": "stdout",
     "output_type": "stream",
     "text": [
      "Variable dtypes:\n",
      "order_id               int64\n",
      "quantity               int64\n",
      "item_name             object\n",
      "choice_description    object\n",
      "item_price            object\n",
      "dtype: object\n"
     ]
    },
    {
     "data": {
      "text/html": [
       "<div>\n",
       "<table border=\"1\" class=\"dataframe\">\n",
       "  <thead>\n",
       "    <tr style=\"text-align: right;\">\n",
       "      <th></th>\n",
       "      <th>order_id</th>\n",
       "      <th>quantity</th>\n",
       "      <th>item_name</th>\n",
       "      <th>choice_description</th>\n",
       "      <th>item_price</th>\n",
       "    </tr>\n",
       "  </thead>\n",
       "  <tbody>\n",
       "    <tr>\n",
       "      <th>0</th>\n",
       "      <td>1</td>\n",
       "      <td>1</td>\n",
       "      <td>Chips and Fresh Tomato Salsa</td>\n",
       "      <td>NaN</td>\n",
       "      <td>$2.39</td>\n",
       "    </tr>\n",
       "    <tr>\n",
       "      <th>1</th>\n",
       "      <td>1</td>\n",
       "      <td>1</td>\n",
       "      <td>Izze</td>\n",
       "      <td>[Clementine]</td>\n",
       "      <td>$3.39</td>\n",
       "    </tr>\n",
       "    <tr>\n",
       "      <th>2</th>\n",
       "      <td>1</td>\n",
       "      <td>1</td>\n",
       "      <td>Nantucket Nectar</td>\n",
       "      <td>[Apple]</td>\n",
       "      <td>$3.39</td>\n",
       "    </tr>\n",
       "    <tr>\n",
       "      <th>3</th>\n",
       "      <td>1</td>\n",
       "      <td>1</td>\n",
       "      <td>Chips and Tomatillo-Green Chili Salsa</td>\n",
       "      <td>NaN</td>\n",
       "      <td>$2.39</td>\n",
       "    </tr>\n",
       "    <tr>\n",
       "      <th>4</th>\n",
       "      <td>2</td>\n",
       "      <td>2</td>\n",
       "      <td>Chicken Bowl</td>\n",
       "      <td>[Tomatillo-Red Chili Salsa (Hot), [Black Beans...</td>\n",
       "      <td>$16.98</td>\n",
       "    </tr>\n",
       "  </tbody>\n",
       "</table>\n",
       "</div>"
      ],
      "text/plain": [
       "   order_id  quantity                              item_name  \\\n",
       "0         1         1           Chips and Fresh Tomato Salsa   \n",
       "1         1         1                                   Izze   \n",
       "2         1         1                       Nantucket Nectar   \n",
       "3         1         1  Chips and Tomatillo-Green Chili Salsa   \n",
       "4         2         2                           Chicken Bowl   \n",
       "\n",
       "                                  choice_description item_price  \n",
       "0                                                NaN     $2.39   \n",
       "1                                       [Clementine]     $3.39   \n",
       "2                                            [Apple]     $3.39   \n",
       "3                                                NaN     $2.39   \n",
       "4  [Tomatillo-Red Chili Salsa (Hot), [Black Beans...    $16.98   "
      ]
     },
     "execution_count": 2,
     "metadata": {},
     "output_type": "execute_result"
    }
   ],
   "source": [
    "url = 'https://raw.githubusercontent.com/TheUpshot/chipotle/master/orders.tsv'\n",
    "chp = pd.read_csv(url, sep='\\t')   # tab (\\t) delimited \n",
    "print('Variable dtypes:\\n', chp.dtypes, sep='')\n",
    "chp.head()"
   ]
  },
  {
   "cell_type": "markdown",
   "metadata": {},
   "source": [
    "**Comment.** Note that the variable `item_price` has dtype object. The reason is evidently the dollar sign.  We'd prefer to have it as a number, specifically a float.  "
   ]
  },
  {
   "cell_type": "code",
   "execution_count": null,
   "metadata": {
    "collapsed": true
   },
   "outputs": [],
   "source": []
  },
  {
   "cell_type": "markdown",
   "metadata": {},
   "source": [
    "### Example:  Data Bootcamp entry poll\n",
    "\n",
    "This is the [poll](https://docs.google.com/forms/d/1N7ugrqIQNHm_e1BLVAtaRMnC8SmSiTDMoYBy_0FYZic/viewform) we did at the start of the course.  Responses were collected in a Google spreadsheet, which we converted to a csv and uploaded to our website.  "
   ]
  },
  {
   "cell_type": "code",
   "execution_count": 3,
   "metadata": {
    "collapsed": true
   },
   "outputs": [],
   "source": [
    "pd.set_option(\"display.width\", 80)"
   ]
  },
  {
   "cell_type": "code",
   "execution_count": 4,
   "metadata": {
    "collapsed": false,
    "scrolled": true
   },
   "outputs": [
    {
     "name": "stdout",
     "output_type": "stream",
     "text": [
      "Dimensions: (104, 11)\n",
      "\n",
      "Data types:\n",
      "Timestamp                                                                                               object\n",
      "What program are you enrolled in?                                                                       object\n",
      "What career path most interests you?                                                                    object\n",
      "How much programming experience have you had?                                                           object\n",
      "How much experience with probability and statistics have you had?                                       object\n",
      "Do you use social media for information purposes?  Check all that apply.                                object\n",
      "Other comments (optional)                                                                              float64\n",
      "What is your expected major or concentration?                                                           object\n",
      "What kinds of data most interest you?  List any that cross your mind.                                   object\n",
      "Why have you enrolled in this course?                                                                   object\n",
      "If we have time -- and we may not -- what special topics would interest you?  Check all that apply.     object\n",
      "dtype: object\n"
     ]
    },
    {
     "data": {
      "text/html": [
       "<div>\n",
       "<table border=\"1\" class=\"dataframe\">\n",
       "  <thead>\n",
       "    <tr style=\"text-align: right;\">\n",
       "      <th></th>\n",
       "      <th>Timestamp</th>\n",
       "      <th>What program are you enrolled in?</th>\n",
       "      <th>What career path most interests you?</th>\n",
       "      <th>How much programming experience have you had?</th>\n",
       "      <th>How much experience with probability and statistics have you had?</th>\n",
       "      <th>Do you use social media for information purposes?  Check all that apply.</th>\n",
       "      <th>Other comments (optional)</th>\n",
       "      <th>What is your expected major or concentration?</th>\n",
       "      <th>What kinds of data most interest you?  List any that cross your mind.</th>\n",
       "      <th>Why have you enrolled in this course?</th>\n",
       "      <th>If we have time -- and we may not -- what special topics would interest you?  Check all that apply.</th>\n",
       "    </tr>\n",
       "  </thead>\n",
       "  <tbody>\n",
       "    <tr>\n",
       "      <th>0</th>\n",
       "      <td>1/3/2016 4:43</td>\n",
       "      <td>Wharton UGR</td>\n",
       "      <td>Entrepreneurship</td>\n",
       "      <td>None</td>\n",
       "      <td>None</td>\n",
       "      <td>Twitter</td>\n",
       "      <td>NaN</td>\n",
       "      <td>Analytics or other quant</td>\n",
       "      <td>People Analytics</td>\n",
       "      <td>I lost my mind for a minute</td>\n",
       "      <td>Natural language processing</td>\n",
       "    </tr>\n",
       "    <tr>\n",
       "      <th>1</th>\n",
       "      <td>1/3/2016 9:36</td>\n",
       "      <td>MBA</td>\n",
       "      <td>Technology (Google, Amazon, etc)</td>\n",
       "      <td>I have taken one programming course</td>\n",
       "      <td>I have taken one probability or statistics course</td>\n",
       "      <td>Twitter</td>\n",
       "      <td>NaN</td>\n",
       "      <td>Strategy &amp; Finance</td>\n",
       "      <td>NaN</td>\n",
       "      <td>To help with my career</td>\n",
       "      <td>Natural language processing</td>\n",
       "    </tr>\n",
       "  </tbody>\n",
       "</table>\n",
       "</div>"
      ],
      "text/plain": [
       "       Timestamp What program are you enrolled in?  \\\n",
       "0  1/3/2016 4:43                       Wharton UGR   \n",
       "1  1/3/2016 9:36                               MBA   \n",
       "\n",
       "  What career path most interests you?   \\\n",
       "0                      Entrepreneurship   \n",
       "1      Technology (Google, Amazon, etc)   \n",
       "\n",
       "  How much programming experience have you had?  \\\n",
       "0                                          None   \n",
       "1           I have taken one programming course   \n",
       "\n",
       "  How much experience with probability and statistics have you had?  \\\n",
       "0                                               None                  \n",
       "1  I have taken one probability or statistics course                  \n",
       "\n",
       "  Do you use social media for information purposes?  Check all that apply.  \\\n",
       "0                                            Twitter                         \n",
       "1                                            Twitter                         \n",
       "\n",
       "   Other comments (optional) What is your expected major or concentration?   \\\n",
       "0                        NaN                       Analytics or other quant   \n",
       "1                        NaN                             Strategy & Finance   \n",
       "\n",
       "  What kinds of data most interest you?  List any that cross your mind.    \\\n",
       "0                                   People Analytics                        \n",
       "1                                                NaN                        \n",
       "\n",
       "  Why have you enrolled in this course?    \\\n",
       "0             I lost my mind for a minute   \n",
       "1                  To help with my career   \n",
       "\n",
       "  If we have time -- and we may not -- what special topics would interest you?  Check all that apply.  \n",
       "0                        Natural language processing                                                   \n",
       "1                        Natural language processing                                                   "
      ]
     },
     "execution_count": 4,
     "metadata": {},
     "output_type": "execute_result"
    }
   ],
   "source": [
    "import pandas as pd\n",
    "url1 = 'http://pages.stern.nyu.edu/~dbackus/Data/'\n",
    "url2 = 'Data-Bootcamp-entry-poll_s16.csv'\n",
    "url = url1 + url2 \n",
    "ep = pd.read_csv(url, header=0) \n",
    "print('Dimensions:', ep.shape)\n",
    "print('\\nData types:\\n', ep.dtypes, sep='')\n",
    "ep.head(2) "
   ]
  },
  {
   "cell_type": "markdown",
   "metadata": {},
   "source": [
    "**Comments.** This is mostly text data, which means it's assigned the dtype object.  Which is fine.  But there are two things that would make the data easier to work with:\n",
    "\n",
    "* The column names are excessively verbose.  This one's easy:  We replace them with single words.  Which we do below.  \n",
    "* The second one is harder.  Two of the questions -- social media and special topics -- say \"mark all that apply.\"  In the spreadsheet, we have a list of every choice the person checked.  Our want is to count the number of each type of response.  For example, we might want a bar chart that gives us the number of each response.  The question is how we get there.  "
   ]
  },
  {
   "cell_type": "code",
   "execution_count": 5,
   "metadata": {
    "collapsed": false
   },
   "outputs": [
    {
     "data": {
      "text/html": [
       "<div>\n",
       "<table border=\"1\" class=\"dataframe\">\n",
       "  <thead>\n",
       "    <tr style=\"text-align: right;\">\n",
       "      <th></th>\n",
       "      <th>Time</th>\n",
       "      <th>Program</th>\n",
       "      <th>Career</th>\n",
       "      <th>Programming</th>\n",
       "      <th>Stats</th>\n",
       "      <th>Media</th>\n",
       "      <th>Other</th>\n",
       "      <th>Major</th>\n",
       "      <th>Data</th>\n",
       "      <th>Why</th>\n",
       "      <th>Topics</th>\n",
       "    </tr>\n",
       "  </thead>\n",
       "  <tbody>\n",
       "    <tr>\n",
       "      <th>0</th>\n",
       "      <td>1/3/2016 4:43</td>\n",
       "      <td>Wharton UGR</td>\n",
       "      <td>Entrepreneurship</td>\n",
       "      <td>None</td>\n",
       "      <td>None</td>\n",
       "      <td>Twitter</td>\n",
       "      <td>NaN</td>\n",
       "      <td>Analytics or other quant</td>\n",
       "      <td>People Analytics</td>\n",
       "      <td>I lost my mind for a minute</td>\n",
       "      <td>Natural language processing</td>\n",
       "    </tr>\n",
       "    <tr>\n",
       "      <th>1</th>\n",
       "      <td>1/3/2016 9:36</td>\n",
       "      <td>MBA</td>\n",
       "      <td>Technology (Google, Amazon, etc)</td>\n",
       "      <td>I have taken one programming course</td>\n",
       "      <td>I have taken one probability or statistics course</td>\n",
       "      <td>Twitter</td>\n",
       "      <td>NaN</td>\n",
       "      <td>Strategy &amp; Finance</td>\n",
       "      <td>NaN</td>\n",
       "      <td>To help with my career</td>\n",
       "      <td>Natural language processing</td>\n",
       "    </tr>\n",
       "    <tr>\n",
       "      <th>2</th>\n",
       "      <td>1/6/2016 14:12</td>\n",
       "      <td>Undergraduate business</td>\n",
       "      <td>Marketing</td>\n",
       "      <td>None</td>\n",
       "      <td>I have taken one probability or statistics course</td>\n",
       "      <td>Facebook</td>\n",
       "      <td>NaN</td>\n",
       "      <td>Marketing</td>\n",
       "      <td>survey data on consumer behaviors</td>\n",
       "      <td>To help with my career</td>\n",
       "      <td>Web scraping</td>\n",
       "    </tr>\n",
       "    <tr>\n",
       "      <th>3</th>\n",
       "      <td>1/16/2016 16:41</td>\n",
       "      <td>Undergraduate business</td>\n",
       "      <td>Finance</td>\n",
       "      <td>I have taken one programming course</td>\n",
       "      <td>I have taken one probability or statistics course</td>\n",
       "      <td>None</td>\n",
       "      <td>NaN</td>\n",
       "      <td>Finance</td>\n",
       "      <td>Sports data and demographic data</td>\n",
       "      <td>To help with my career</td>\n",
       "      <td>Web scraping</td>\n",
       "    </tr>\n",
       "    <tr>\n",
       "      <th>4</th>\n",
       "      <td>1/17/2016 23:29</td>\n",
       "      <td>MBA</td>\n",
       "      <td>Technology (Google, Amazon, etc)</td>\n",
       "      <td>I have taken one programming course</td>\n",
       "      <td>I have taken many courses and/or have extensiv...</td>\n",
       "      <td>Twitter</td>\n",
       "      <td>NaN</td>\n",
       "      <td>Management</td>\n",
       "      <td>Sports data\\nCampaign data 2016\\nstart up fund...</td>\n",
       "      <td>To help with my career</td>\n",
       "      <td>Web scraping</td>\n",
       "    </tr>\n",
       "  </tbody>\n",
       "</table>\n",
       "</div>"
      ],
      "text/plain": [
       "              Time                 Program                            Career  \\\n",
       "0    1/3/2016 4:43             Wharton UGR                  Entrepreneurship   \n",
       "1    1/3/2016 9:36                     MBA  Technology (Google, Amazon, etc)   \n",
       "2   1/6/2016 14:12  Undergraduate business                         Marketing   \n",
       "3  1/16/2016 16:41  Undergraduate business                           Finance   \n",
       "4  1/17/2016 23:29                     MBA  Technology (Google, Amazon, etc)   \n",
       "\n",
       "                           Programming  \\\n",
       "0                                 None   \n",
       "1  I have taken one programming course   \n",
       "2                                 None   \n",
       "3  I have taken one programming course   \n",
       "4  I have taken one programming course   \n",
       "\n",
       "                                               Stats     Media  Other  \\\n",
       "0                                               None   Twitter    NaN   \n",
       "1  I have taken one probability or statistics course   Twitter    NaN   \n",
       "2  I have taken one probability or statistics course  Facebook    NaN   \n",
       "3  I have taken one probability or statistics course      None    NaN   \n",
       "4  I have taken many courses and/or have extensiv...   Twitter    NaN   \n",
       "\n",
       "                      Major  \\\n",
       "0  Analytics or other quant   \n",
       "1        Strategy & Finance   \n",
       "2                 Marketing   \n",
       "3                   Finance   \n",
       "4                Management   \n",
       "\n",
       "                                                Data  \\\n",
       "0                                   People Analytics   \n",
       "1                                                NaN   \n",
       "2                  survey data on consumer behaviors   \n",
       "3                   Sports data and demographic data   \n",
       "4  Sports data\\nCampaign data 2016\\nstart up fund...   \n",
       "\n",
       "                           Why                       Topics  \n",
       "0  I lost my mind for a minute  Natural language processing  \n",
       "1       To help with my career  Natural language processing  \n",
       "2       To help with my career                 Web scraping  \n",
       "3       To help with my career                 Web scraping  \n",
       "4       To help with my career                 Web scraping  "
      ]
     },
     "execution_count": 5,
     "metadata": {},
     "output_type": "execute_result"
    }
   ],
   "source": [
    "# rename variables \n",
    "newnames = ['time', 'program', 'career', 'programming', 'stats', 'media',\n",
    "             'other', 'major', 'data', 'why', 'topics']\n",
    "newnames = [name.title() for name in newnames]             \n",
    "ep.columns = newnames  \n",
    "ep.head()"
   ]
  },
  {
   "cell_type": "code",
   "execution_count": 6,
   "metadata": {
    "collapsed": false
   },
   "outputs": [
    {
     "data": {
      "text/plain": [
       "0                           Twitter\n",
       "1                           Twitter\n",
       "2                          Facebook\n",
       "3                              None\n",
       "4                           Twitter\n",
       "5                           Twitter\n",
       "6                              None\n",
       "7                              None\n",
       "8                              None\n",
       "9     Blog (RSS) reader, Backtweets\n",
       "10                          Twitter\n",
       "11                             None\n",
       "12                             None\n",
       "13                         facebook\n",
       "14                             None\n",
       "15                          Twitter\n",
       "16                          Twitter\n",
       "17                             None\n",
       "18       Twitter, Blog (RSS) reader\n",
       "19                         Facebook\n",
       "Name: Media, dtype: object"
      ]
     },
     "execution_count": 6,
     "metadata": {},
     "output_type": "execute_result"
    }
   ],
   "source": [
    "# check multi-response question to see what we're dealing with \n",
    "ep['Media'].head(20)"
   ]
  },
  {
   "cell_type": "markdown",
   "metadata": {
    "collapsed": true
   },
   "source": [
    "**Comment.**  Note the commas separating answers with more than one choice.  We want to unpack them somehow.  "
   ]
  },
  {
   "cell_type": "code",
   "execution_count": null,
   "metadata": {
    "collapsed": true
   },
   "outputs": [],
   "source": []
  },
  {
   "cell_type": "code",
   "execution_count": null,
   "metadata": {
    "collapsed": true
   },
   "outputs": [],
   "source": []
  },
  {
   "cell_type": "markdown",
   "metadata": {},
   "source": [
    "### Example:  OECD healthcare statistics \n",
    "\n",
    "The OECD collects [healthcare data](http://www.oecd.org/els/health-systems/health-data.htm) on lots of (mostly rich) countries, which is helpful in producing comparisons.  Here we use a [spreadsheet](http://www.oecd.org/health/health-systems/OECD-Health-Statistics-2015-Frequently-Requested-Data.xls) linked in one of their documents. "
   ]
  },
  {
   "cell_type": "code",
   "execution_count": 7,
   "metadata": {
    "collapsed": false
   },
   "outputs": [
    {
     "name": "stdout",
     "output_type": "stream",
     "text": [
      "Dimensions: (34, 7)\n",
      "\n",
      "Index[0, 1, 2, 3, 4, 5, 6, 7, 8, 9, 10, 11, 12, 13, 14, 15, 16, 17, 18, 19, 20, 21, 22, 23, 24, 25, 26, 27, 28, 29, 30, 31, 32, 33]\n",
      "\n",
      "Variable dtypes:\n",
      "Unnamed: 0                 object\n",
      "2010                       object\n",
      "2011                       object\n",
      "2012                      float64\n",
      "2013                       object\n",
      "2014                       object\n",
      "2013 (or nearest year)    float64\n",
      "dtype: object\n"
     ]
    },
    {
     "data": {
      "text/html": [
       "<div>\n",
       "<table border=\"1\" class=\"dataframe\">\n",
       "  <thead>\n",
       "    <tr style=\"text-align: right;\">\n",
       "      <th></th>\n",
       "      <th>Unnamed: 0</th>\n",
       "      <th>2010</th>\n",
       "      <th>2011</th>\n",
       "      <th>2012</th>\n",
       "      <th>2013</th>\n",
       "      <th>2014</th>\n",
       "      <th>2013 (or nearest year)</th>\n",
       "    </tr>\n",
       "  </thead>\n",
       "  <tbody>\n",
       "    <tr>\n",
       "      <th>0</th>\n",
       "      <td>Australia 1</td>\n",
       "      <td>..</td>\n",
       "      <td>3.31</td>\n",
       "      <td>3.31</td>\n",
       "      <td>3.39</td>\n",
       "      <td>..</td>\n",
       "      <td>3.39</td>\n",
       "    </tr>\n",
       "    <tr>\n",
       "      <th>1</th>\n",
       "      <td>Austria 1</td>\n",
       "      <td>4.8</td>\n",
       "      <td>4.84</td>\n",
       "      <td>4.90</td>\n",
       "      <td>4.99</td>\n",
       "      <td>..</td>\n",
       "      <td>4.99</td>\n",
       "    </tr>\n",
       "    <tr>\n",
       "      <th>2</th>\n",
       "      <td>Belgium 1</td>\n",
       "      <td>2.92</td>\n",
       "      <td>2.91</td>\n",
       "      <td>2.93</td>\n",
       "      <td>2.95</td>\n",
       "      <td>..</td>\n",
       "      <td>2.95</td>\n",
       "    </tr>\n",
       "    <tr>\n",
       "      <th>3</th>\n",
       "      <td>Canada 2</td>\n",
       "      <td>2.37</td>\n",
       "      <td>2.44</td>\n",
       "      <td>2.50</td>\n",
       "      <td>2.55</td>\n",
       "      <td>..</td>\n",
       "      <td>2.55</td>\n",
       "    </tr>\n",
       "    <tr>\n",
       "      <th>4</th>\n",
       "      <td>Chile 3</td>\n",
       "      <td>1.43</td>\n",
       "      <td>1.58</td>\n",
       "      <td>1.74</td>\n",
       "      <td>1.88</td>\n",
       "      <td>2.02</td>\n",
       "      <td>1.88</td>\n",
       "    </tr>\n",
       "  </tbody>\n",
       "</table>\n",
       "</div>"
      ],
      "text/plain": [
       "    Unnamed: 0  2010  2011  2012  2013  2014  2013 (or nearest year)\n",
       "0  Australia 1    ..  3.31  3.31  3.39    ..                    3.39\n",
       "1    Austria 1   4.8  4.84  4.90  4.99    ..                    4.99\n",
       "2    Belgium 1  2.92  2.91  2.93  2.95    ..                    2.95\n",
       "3     Canada 2  2.37  2.44  2.50  2.55    ..                    2.55\n",
       "4      Chile 3  1.43  1.58  1.74  1.88  2.02                    1.88"
      ]
     },
     "execution_count": 7,
     "metadata": {},
     "output_type": "execute_result"
    }
   ],
   "source": [
    "url1 = 'http://www.oecd.org/health/health-systems/'\n",
    "url2 = 'OECD-Health-Statistics-2015-Frequently-Requested-Data.xls'\n",
    "docs = pd.read_excel(url1+url2, \n",
    "                     skiprows=3, \n",
    "                     usecols=[0, 51, 52, 53, 54, 55, 57],\n",
    "                     sheetname='Physicians', \n",
    "#                     na_values=['..'],\n",
    "                     skip_footer=21) \n",
    "print('Dimensions:', docs.shape)\n",
    "print('\\nIndex', docs.index.tolist(), sep='')\n",
    "print('\\nVariable dtypes:\\n', docs.dtypes.tail(8), sep='')\n",
    "docs.head()"
   ]
  },
  {
   "cell_type": "markdown",
   "metadata": {},
   "source": [
    "**Comments.**  Here we have a couple issues.  \n",
    "\n",
    "* The first column includes a space and a number:  `Australia 1`, `Chile 3`, etc.  We care about this because when we plot the data across countries, the country labels are going to be country names, so we want them in a better form than this.  \n",
    "* The `..`'s in the sheet lead us to label any column that includes them as dtype object.  Here we want to label them as missing values.  \n",
    "* If we want to plot each country against time, then we'll need to switch the rows and columns somehow, so that the x axis in the plot (the year) is the index and not the column label.  \n",
    "\n",
    "One more thing before we proceeed:  change the name of the country variable. "
   ]
  },
  {
   "cell_type": "code",
   "execution_count": 8,
   "metadata": {
    "collapsed": false
   },
   "outputs": [
    {
     "data": {
      "text/html": [
       "<div>\n",
       "<table border=\"1\" class=\"dataframe\">\n",
       "  <thead>\n",
       "    <tr style=\"text-align: right;\">\n",
       "      <th></th>\n",
       "      <th>Country</th>\n",
       "      <th>2010</th>\n",
       "      <th>2011</th>\n",
       "      <th>2012</th>\n",
       "      <th>2013</th>\n",
       "      <th>2014</th>\n",
       "      <th>2013 (or nearest year)</th>\n",
       "    </tr>\n",
       "  </thead>\n",
       "  <tbody>\n",
       "    <tr>\n",
       "      <th>0</th>\n",
       "      <td>Australia 1</td>\n",
       "      <td>..</td>\n",
       "      <td>3.31</td>\n",
       "      <td>3.31</td>\n",
       "      <td>3.39</td>\n",
       "      <td>..</td>\n",
       "      <td>3.39</td>\n",
       "    </tr>\n",
       "    <tr>\n",
       "      <th>1</th>\n",
       "      <td>Austria 1</td>\n",
       "      <td>4.8</td>\n",
       "      <td>4.84</td>\n",
       "      <td>4.90</td>\n",
       "      <td>4.99</td>\n",
       "      <td>..</td>\n",
       "      <td>4.99</td>\n",
       "    </tr>\n",
       "  </tbody>\n",
       "</table>\n",
       "</div>"
      ],
      "text/plain": [
       "       Country 2010  2011  2012  2013 2014  2013 (or nearest year)\n",
       "0  Australia 1   ..  3.31  3.31  3.39   ..                    3.39\n",
       "1    Austria 1  4.8  4.84  4.90  4.99   ..                    4.99"
      ]
     },
     "execution_count": 8,
     "metadata": {},
     "output_type": "execute_result"
    }
   ],
   "source": [
    "names = list(docs)\n",
    "docs = docs.rename(columns={names[0]: 'Country'})\n",
    "docs.head(2)"
   ]
  },
  {
   "cell_type": "code",
   "execution_count": null,
   "metadata": {
    "collapsed": true
   },
   "outputs": [],
   "source": []
  },
  {
   "cell_type": "markdown",
   "metadata": {},
   "source": [
    "### Example:  World Economic Outlook \n",
    "\n",
    "The IMF's [World Economic Outlook database](https://www.imf.org/external/ns/cs.aspx?id=28) contains a broad range of macroeconomic data for a large number of countries.  It's updated twice a year and is a go-to source for things like current account balances (roughly, the trade balance) and government debt and deficits.  It also has a few quirks, as we'll see.  "
   ]
  },
  {
   "cell_type": "markdown",
   "metadata": {},
   "source": [
    "**Example.** Run the following code as is, and with the `thousands` and `na_values` parameters commented out.  How do the dtypes differ?"
   ]
  },
  {
   "cell_type": "code",
   "execution_count": 9,
   "metadata": {
    "collapsed": false
   },
   "outputs": [
    {
     "name": "stdout",
     "output_type": "stream",
     "text": [
      "Variable dtypes:\n",
      "ISO                    object\n",
      "WEO Subject Code       object\n",
      "Country                object\n",
      "Subject Descriptor     object\n",
      "Units                  object\n",
      "2011                  float64\n",
      "2012                  float64\n",
      "2013                  float64\n",
      "2014                  float64\n",
      "2015                  float64\n",
      "dtype: object\n"
     ]
    },
    {
     "data": {
      "text/html": [
       "<div>\n",
       "<table border=\"1\" class=\"dataframe\">\n",
       "  <thead>\n",
       "    <tr style=\"text-align: right;\">\n",
       "      <th></th>\n",
       "      <th>ISO</th>\n",
       "      <th>WEO Subject Code</th>\n",
       "      <th>Country</th>\n",
       "      <th>Subject Descriptor</th>\n",
       "      <th>Units</th>\n",
       "      <th>2011</th>\n",
       "      <th>2012</th>\n",
       "      <th>2013</th>\n",
       "      <th>2014</th>\n",
       "      <th>2015</th>\n",
       "    </tr>\n",
       "  </thead>\n",
       "  <tbody>\n",
       "    <tr>\n",
       "      <th>0</th>\n",
       "      <td>AFG</td>\n",
       "      <td>NGDP_R</td>\n",
       "      <td>Afghanistan</td>\n",
       "      <td>Gross domestic product, constant prices</td>\n",
       "      <td>National currency</td>\n",
       "      <td>386.368</td>\n",
       "      <td>440.336</td>\n",
       "      <td>457.654</td>\n",
       "      <td>463.520</td>\n",
       "      <td>472.981</td>\n",
       "    </tr>\n",
       "    <tr>\n",
       "      <th>1</th>\n",
       "      <td>AFG</td>\n",
       "      <td>NGDP_RPCH</td>\n",
       "      <td>Afghanistan</td>\n",
       "      <td>Gross domestic product, constant prices</td>\n",
       "      <td>Percent change</td>\n",
       "      <td>6.479</td>\n",
       "      <td>13.968</td>\n",
       "      <td>3.933</td>\n",
       "      <td>1.282</td>\n",
       "      <td>2.041</td>\n",
       "    </tr>\n",
       "    <tr>\n",
       "      <th>2</th>\n",
       "      <td>AFG</td>\n",
       "      <td>NGDP</td>\n",
       "      <td>Afghanistan</td>\n",
       "      <td>Gross domestic product, current prices</td>\n",
       "      <td>National currency</td>\n",
       "      <td>836.222</td>\n",
       "      <td>1033.591</td>\n",
       "      <td>1116.827</td>\n",
       "      <td>1173.182</td>\n",
       "      <td>1172.361</td>\n",
       "    </tr>\n",
       "    <tr>\n",
       "      <th>3</th>\n",
       "      <td>AFG</td>\n",
       "      <td>NGDPD</td>\n",
       "      <td>Afghanistan</td>\n",
       "      <td>Gross domestic product, current prices</td>\n",
       "      <td>U.S. dollars</td>\n",
       "      <td>17.890</td>\n",
       "      <td>20.296</td>\n",
       "      <td>20.170</td>\n",
       "      <td>20.444</td>\n",
       "      <td>19.681</td>\n",
       "    </tr>\n",
       "    <tr>\n",
       "      <th>4</th>\n",
       "      <td>AFG</td>\n",
       "      <td>NGDP_D</td>\n",
       "      <td>Afghanistan</td>\n",
       "      <td>Gross domestic product, deflator</td>\n",
       "      <td>Index</td>\n",
       "      <td>216.432</td>\n",
       "      <td>234.728</td>\n",
       "      <td>244.033</td>\n",
       "      <td>253.103</td>\n",
       "      <td>247.866</td>\n",
       "    </tr>\n",
       "  </tbody>\n",
       "</table>\n",
       "</div>"
      ],
      "text/plain": [
       "   ISO WEO Subject Code      Country                       Subject Descriptor  \\\n",
       "0  AFG           NGDP_R  Afghanistan  Gross domestic product, constant prices   \n",
       "1  AFG        NGDP_RPCH  Afghanistan  Gross domestic product, constant prices   \n",
       "2  AFG             NGDP  Afghanistan   Gross domestic product, current prices   \n",
       "3  AFG            NGDPD  Afghanistan   Gross domestic product, current prices   \n",
       "4  AFG           NGDP_D  Afghanistan         Gross domestic product, deflator   \n",
       "\n",
       "               Units     2011      2012      2013      2014      2015  \n",
       "0  National currency  386.368   440.336   457.654   463.520   472.981  \n",
       "1     Percent change    6.479    13.968     3.933     1.282     2.041  \n",
       "2  National currency  836.222  1033.591  1116.827  1173.182  1172.361  \n",
       "3       U.S. dollars   17.890    20.296    20.170    20.444    19.681  \n",
       "4              Index  216.432   234.728   244.033   253.103   247.866  "
      ]
     },
     "execution_count": 9,
     "metadata": {},
     "output_type": "execute_result"
    }
   ],
   "source": [
    "url1 = 'http://www.imf.org/external/pubs/ft/weo/2015/02/weodata/'\n",
    "url2 = 'WEOOct2015all.xls'\n",
    "url = url1 + url2 \n",
    "weo = pd.read_csv(url, sep='\\t', \n",
    "                  usecols=[1,2,3,4,6,40,41,42,43,44], \n",
    "                  thousands=',', \n",
    "                  na_values=['n/a', '--']\n",
    "                 )\n",
    "\n",
    "print('Variable dtypes:\\n', weo.dtypes, sep='')\n",
    "weo.head()"
   ]
  },
  {
   "cell_type": "markdown",
   "metadata": {},
   "source": [
    "**Comment.** This has several issues:  \n",
    "\n",
    "* The variables run across rows with observations labeled 1980, 1981, etc across the top.  We saw the same problem in the previous example.    \n",
    "* If we run the first version of the `read_csv` statement, the data columns (1980, 1981, etc) have dtype object.  A little work suggests that this is because they include commas marking thousands.   \n",
    "* The entries labeled `n/a` need to be marked as missing values.\n",
    "\n",
    "We can solve the last two in the `read_csv` function by deleting the hash -- which is what we see in the second `read_csv` statement.  The other one takes some work.  "
   ]
  },
  {
   "cell_type": "markdown",
   "metadata": {},
   "source": [
    "**Question.**  Can we transpose the whole thing to get the data running down columns?  "
   ]
  },
  {
   "cell_type": "code",
   "execution_count": 10,
   "metadata": {
    "collapsed": false
   },
   "outputs": [
    {
     "data": {
      "text/html": [
       "<div>\n",
       "<table border=\"1\" class=\"dataframe\">\n",
       "  <thead>\n",
       "    <tr style=\"text-align: right;\">\n",
       "      <th></th>\n",
       "      <th>0</th>\n",
       "      <th>1</th>\n",
       "      <th>2</th>\n",
       "      <th>3</th>\n",
       "      <th>4</th>\n",
       "      <th>5</th>\n",
       "      <th>6</th>\n",
       "      <th>7</th>\n",
       "      <th>8</th>\n",
       "      <th>9</th>\n",
       "      <th>...</th>\n",
       "      <th>8307</th>\n",
       "      <th>8308</th>\n",
       "      <th>8309</th>\n",
       "      <th>8310</th>\n",
       "      <th>8311</th>\n",
       "      <th>8312</th>\n",
       "      <th>8313</th>\n",
       "      <th>8314</th>\n",
       "      <th>8315</th>\n",
       "      <th>8316</th>\n",
       "    </tr>\n",
       "  </thead>\n",
       "  <tbody>\n",
       "    <tr>\n",
       "      <th>ISO</th>\n",
       "      <td>AFG</td>\n",
       "      <td>AFG</td>\n",
       "      <td>AFG</td>\n",
       "      <td>AFG</td>\n",
       "      <td>AFG</td>\n",
       "      <td>AFG</td>\n",
       "      <td>AFG</td>\n",
       "      <td>AFG</td>\n",
       "      <td>AFG</td>\n",
       "      <td>AFG</td>\n",
       "      <td>...</td>\n",
       "      <td>ZWE</td>\n",
       "      <td>ZWE</td>\n",
       "      <td>ZWE</td>\n",
       "      <td>ZWE</td>\n",
       "      <td>ZWE</td>\n",
       "      <td>ZWE</td>\n",
       "      <td>ZWE</td>\n",
       "      <td>ZWE</td>\n",
       "      <td>ZWE</td>\n",
       "      <td>NaN</td>\n",
       "    </tr>\n",
       "    <tr>\n",
       "      <th>WEO Subject Code</th>\n",
       "      <td>NGDP_R</td>\n",
       "      <td>NGDP_RPCH</td>\n",
       "      <td>NGDP</td>\n",
       "      <td>NGDPD</td>\n",
       "      <td>NGDP_D</td>\n",
       "      <td>NGDPRPC</td>\n",
       "      <td>NGDPPC</td>\n",
       "      <td>NGDPDPC</td>\n",
       "      <td>NGAP_NPGDP</td>\n",
       "      <td>PPPGDP</td>\n",
       "      <td>...</td>\n",
       "      <td>GGXONLB</td>\n",
       "      <td>GGXONLB_NGDP</td>\n",
       "      <td>GGXWDN</td>\n",
       "      <td>GGXWDN_NGDP</td>\n",
       "      <td>GGXWDG</td>\n",
       "      <td>GGXWDG_NGDP</td>\n",
       "      <td>NGDP_FY</td>\n",
       "      <td>BCA</td>\n",
       "      <td>BCA_NGDPD</td>\n",
       "      <td>NaN</td>\n",
       "    </tr>\n",
       "    <tr>\n",
       "      <th>Country</th>\n",
       "      <td>Afghanistan</td>\n",
       "      <td>Afghanistan</td>\n",
       "      <td>Afghanistan</td>\n",
       "      <td>Afghanistan</td>\n",
       "      <td>Afghanistan</td>\n",
       "      <td>Afghanistan</td>\n",
       "      <td>Afghanistan</td>\n",
       "      <td>Afghanistan</td>\n",
       "      <td>Afghanistan</td>\n",
       "      <td>Afghanistan</td>\n",
       "      <td>...</td>\n",
       "      <td>Zimbabwe</td>\n",
       "      <td>Zimbabwe</td>\n",
       "      <td>Zimbabwe</td>\n",
       "      <td>Zimbabwe</td>\n",
       "      <td>Zimbabwe</td>\n",
       "      <td>Zimbabwe</td>\n",
       "      <td>Zimbabwe</td>\n",
       "      <td>Zimbabwe</td>\n",
       "      <td>Zimbabwe</td>\n",
       "      <td>NaN</td>\n",
       "    </tr>\n",
       "    <tr>\n",
       "      <th>Subject Descriptor</th>\n",
       "      <td>Gross domestic product, constant prices</td>\n",
       "      <td>Gross domestic product, constant prices</td>\n",
       "      <td>Gross domestic product, current prices</td>\n",
       "      <td>Gross domestic product, current prices</td>\n",
       "      <td>Gross domestic product, deflator</td>\n",
       "      <td>Gross domestic product per capita, constant pr...</td>\n",
       "      <td>Gross domestic product per capita, current prices</td>\n",
       "      <td>Gross domestic product per capita, current prices</td>\n",
       "      <td>Output gap in percent of potential GDP</td>\n",
       "      <td>Gross domestic product based on purchasing-pow...</td>\n",
       "      <td>...</td>\n",
       "      <td>General government primary net lending/borrowing</td>\n",
       "      <td>General government primary net lending/borrowing</td>\n",
       "      <td>General government net debt</td>\n",
       "      <td>General government net debt</td>\n",
       "      <td>General government gross debt</td>\n",
       "      <td>General government gross debt</td>\n",
       "      <td>Gross domestic product corresponding to fiscal...</td>\n",
       "      <td>Current account balance</td>\n",
       "      <td>Current account balance</td>\n",
       "      <td>NaN</td>\n",
       "    </tr>\n",
       "    <tr>\n",
       "      <th>Units</th>\n",
       "      <td>National currency</td>\n",
       "      <td>Percent change</td>\n",
       "      <td>National currency</td>\n",
       "      <td>U.S. dollars</td>\n",
       "      <td>Index</td>\n",
       "      <td>National currency</td>\n",
       "      <td>National currency</td>\n",
       "      <td>U.S. dollars</td>\n",
       "      <td>Percent of potential GDP</td>\n",
       "      <td>Current international dollar</td>\n",
       "      <td>...</td>\n",
       "      <td>National currency</td>\n",
       "      <td>Percent of GDP</td>\n",
       "      <td>National currency</td>\n",
       "      <td>Percent of GDP</td>\n",
       "      <td>National currency</td>\n",
       "      <td>Percent of GDP</td>\n",
       "      <td>National currency</td>\n",
       "      <td>U.S. dollars</td>\n",
       "      <td>Percent of GDP</td>\n",
       "      <td>NaN</td>\n",
       "    </tr>\n",
       "    <tr>\n",
       "      <th>2011</th>\n",
       "      <td>386.368</td>\n",
       "      <td>6.479</td>\n",
       "      <td>836.222</td>\n",
       "      <td>17.89</td>\n",
       "      <td>216.432</td>\n",
       "      <td>13274.7</td>\n",
       "      <td>28730.8</td>\n",
       "      <td>614.661</td>\n",
       "      <td>NaN</td>\n",
       "      <td>48.18</td>\n",
       "      <td>...</td>\n",
       "      <td>-0.027</td>\n",
       "      <td>-0.242</td>\n",
       "      <td>NaN</td>\n",
       "      <td>NaN</td>\n",
       "      <td>5.671</td>\n",
       "      <td>51.761</td>\n",
       "      <td>10.956</td>\n",
       "      <td>-3.383</td>\n",
       "      <td>-30.88</td>\n",
       "      <td>NaN</td>\n",
       "    </tr>\n",
       "    <tr>\n",
       "      <th>2012</th>\n",
       "      <td>440.336</td>\n",
       "      <td>13.968</td>\n",
       "      <td>1033.59</td>\n",
       "      <td>20.296</td>\n",
       "      <td>234.728</td>\n",
       "      <td>14764.2</td>\n",
       "      <td>34655.7</td>\n",
       "      <td>680.5</td>\n",
       "      <td>NaN</td>\n",
       "      <td>55.921</td>\n",
       "      <td>...</td>\n",
       "      <td>0.044</td>\n",
       "      <td>0.352</td>\n",
       "      <td>NaN</td>\n",
       "      <td>NaN</td>\n",
       "      <td>7.076</td>\n",
       "      <td>56.73</td>\n",
       "      <td>12.472</td>\n",
       "      <td>-3.062</td>\n",
       "      <td>-24.551</td>\n",
       "      <td>NaN</td>\n",
       "    </tr>\n",
       "    <tr>\n",
       "      <th>2013</th>\n",
       "      <td>457.654</td>\n",
       "      <td>3.933</td>\n",
       "      <td>1116.83</td>\n",
       "      <td>20.17</td>\n",
       "      <td>244.033</td>\n",
       "      <td>14980.5</td>\n",
       "      <td>36557.4</td>\n",
       "      <td>660.221</td>\n",
       "      <td>NaN</td>\n",
       "      <td>59.068</td>\n",
       "      <td>...</td>\n",
       "      <td>-0.136</td>\n",
       "      <td>-1.011</td>\n",
       "      <td>NaN</td>\n",
       "      <td>NaN</td>\n",
       "      <td>7.316</td>\n",
       "      <td>54.23</td>\n",
       "      <td>13.49</td>\n",
       "      <td>-3.432</td>\n",
       "      <td>-25.441</td>\n",
       "      <td>NaN</td>\n",
       "    </tr>\n",
       "    <tr>\n",
       "      <th>2014</th>\n",
       "      <td>463.52</td>\n",
       "      <td>1.282</td>\n",
       "      <td>1173.18</td>\n",
       "      <td>20.444</td>\n",
       "      <td>253.103</td>\n",
       "      <td>14819.1</td>\n",
       "      <td>37507.6</td>\n",
       "      <td>653.609</td>\n",
       "      <td>NaN</td>\n",
       "      <td>60.808</td>\n",
       "      <td>...</td>\n",
       "      <td>-0.056</td>\n",
       "      <td>-0.405</td>\n",
       "      <td>NaN</td>\n",
       "      <td>NaN</td>\n",
       "      <td>7.386</td>\n",
       "      <td>53.394</td>\n",
       "      <td>13.833</td>\n",
       "      <td>-3.046</td>\n",
       "      <td>-22.021</td>\n",
       "      <td>NaN</td>\n",
       "    </tr>\n",
       "    <tr>\n",
       "      <th>2015</th>\n",
       "      <td>472.981</td>\n",
       "      <td>2.041</td>\n",
       "      <td>1172.36</td>\n",
       "      <td>19.681</td>\n",
       "      <td>247.866</td>\n",
       "      <td>14777.4</td>\n",
       "      <td>36628.3</td>\n",
       "      <td>614.892</td>\n",
       "      <td>NaN</td>\n",
       "      <td>62.658</td>\n",
       "      <td>...</td>\n",
       "      <td>0.007</td>\n",
       "      <td>0.05</td>\n",
       "      <td>NaN</td>\n",
       "      <td>NaN</td>\n",
       "      <td>9.635</td>\n",
       "      <td>69.291</td>\n",
       "      <td>13.905</td>\n",
       "      <td>-3.187</td>\n",
       "      <td>-22.923</td>\n",
       "      <td>NaN</td>\n",
       "    </tr>\n",
       "  </tbody>\n",
       "</table>\n",
       "<p>10 rows × 8317 columns</p>\n",
       "</div>"
      ],
      "text/plain": [
       "                                                       0     \\\n",
       "ISO                                                     AFG   \n",
       "WEO Subject Code                                     NGDP_R   \n",
       "Country                                         Afghanistan   \n",
       "Subject Descriptor  Gross domestic product, constant prices   \n",
       "Units                                     National currency   \n",
       "2011                                                386.368   \n",
       "2012                                                440.336   \n",
       "2013                                                457.654   \n",
       "2014                                                 463.52   \n",
       "2015                                                472.981   \n",
       "\n",
       "                                                       1     \\\n",
       "ISO                                                     AFG   \n",
       "WEO Subject Code                                  NGDP_RPCH   \n",
       "Country                                         Afghanistan   \n",
       "Subject Descriptor  Gross domestic product, constant prices   \n",
       "Units                                        Percent change   \n",
       "2011                                                  6.479   \n",
       "2012                                                 13.968   \n",
       "2013                                                  3.933   \n",
       "2014                                                  1.282   \n",
       "2015                                                  2.041   \n",
       "\n",
       "                                                      2     \\\n",
       "ISO                                                    AFG   \n",
       "WEO Subject Code                                      NGDP   \n",
       "Country                                        Afghanistan   \n",
       "Subject Descriptor  Gross domestic product, current prices   \n",
       "Units                                    National currency   \n",
       "2011                                               836.222   \n",
       "2012                                               1033.59   \n",
       "2013                                               1116.83   \n",
       "2014                                               1173.18   \n",
       "2015                                               1172.36   \n",
       "\n",
       "                                                      3     \\\n",
       "ISO                                                    AFG   \n",
       "WEO Subject Code                                     NGDPD   \n",
       "Country                                        Afghanistan   \n",
       "Subject Descriptor  Gross domestic product, current prices   \n",
       "Units                                         U.S. dollars   \n",
       "2011                                                 17.89   \n",
       "2012                                                20.296   \n",
       "2013                                                 20.17   \n",
       "2014                                                20.444   \n",
       "2015                                                19.681   \n",
       "\n",
       "                                                4     \\\n",
       "ISO                                              AFG   \n",
       "WEO Subject Code                              NGDP_D   \n",
       "Country                                  Afghanistan   \n",
       "Subject Descriptor  Gross domestic product, deflator   \n",
       "Units                                          Index   \n",
       "2011                                         216.432   \n",
       "2012                                         234.728   \n",
       "2013                                         244.033   \n",
       "2014                                         253.103   \n",
       "2015                                         247.866   \n",
       "\n",
       "                                                                 5     \\\n",
       "ISO                                                               AFG   \n",
       "WEO Subject Code                                              NGDPRPC   \n",
       "Country                                                   Afghanistan   \n",
       "Subject Descriptor  Gross domestic product per capita, constant pr...   \n",
       "Units                                               National currency   \n",
       "2011                                                          13274.7   \n",
       "2012                                                          14764.2   \n",
       "2013                                                          14980.5   \n",
       "2014                                                          14819.1   \n",
       "2015                                                          14777.4   \n",
       "\n",
       "                                                                 6     \\\n",
       "ISO                                                               AFG   \n",
       "WEO Subject Code                                               NGDPPC   \n",
       "Country                                                   Afghanistan   \n",
       "Subject Descriptor  Gross domestic product per capita, current prices   \n",
       "Units                                               National currency   \n",
       "2011                                                          28730.8   \n",
       "2012                                                          34655.7   \n",
       "2013                                                          36557.4   \n",
       "2014                                                          37507.6   \n",
       "2015                                                          36628.3   \n",
       "\n",
       "                                                                 7     \\\n",
       "ISO                                                               AFG   \n",
       "WEO Subject Code                                              NGDPDPC   \n",
       "Country                                                   Afghanistan   \n",
       "Subject Descriptor  Gross domestic product per capita, current prices   \n",
       "Units                                                    U.S. dollars   \n",
       "2011                                                          614.661   \n",
       "2012                                                            680.5   \n",
       "2013                                                          660.221   \n",
       "2014                                                          653.609   \n",
       "2015                                                          614.892   \n",
       "\n",
       "                                                      8     \\\n",
       "ISO                                                    AFG   \n",
       "WEO Subject Code                                NGAP_NPGDP   \n",
       "Country                                        Afghanistan   \n",
       "Subject Descriptor  Output gap in percent of potential GDP   \n",
       "Units                             Percent of potential GDP   \n",
       "2011                                                   NaN   \n",
       "2012                                                   NaN   \n",
       "2013                                                   NaN   \n",
       "2014                                                   NaN   \n",
       "2015                                                   NaN   \n",
       "\n",
       "                                                                 9    ...   \\\n",
       "ISO                                                               AFG ...    \n",
       "WEO Subject Code                                               PPPGDP ...    \n",
       "Country                                                   Afghanistan ...    \n",
       "Subject Descriptor  Gross domestic product based on purchasing-pow... ...    \n",
       "Units                                    Current international dollar ...    \n",
       "2011                                                            48.18 ...    \n",
       "2012                                                           55.921 ...    \n",
       "2013                                                           59.068 ...    \n",
       "2014                                                           60.808 ...    \n",
       "2015                                                           62.658 ...    \n",
       "\n",
       "                                                                8307  \\\n",
       "ISO                                                              ZWE   \n",
       "WEO Subject Code                                             GGXONLB   \n",
       "Country                                                     Zimbabwe   \n",
       "Subject Descriptor  General government primary net lending/borrowing   \n",
       "Units                                              National currency   \n",
       "2011                                                          -0.027   \n",
       "2012                                                           0.044   \n",
       "2013                                                          -0.136   \n",
       "2014                                                          -0.056   \n",
       "2015                                                           0.007   \n",
       "\n",
       "                                                                8308  \\\n",
       "ISO                                                              ZWE   \n",
       "WEO Subject Code                                        GGXONLB_NGDP   \n",
       "Country                                                     Zimbabwe   \n",
       "Subject Descriptor  General government primary net lending/borrowing   \n",
       "Units                                                 Percent of GDP   \n",
       "2011                                                          -0.242   \n",
       "2012                                                           0.352   \n",
       "2013                                                          -1.011   \n",
       "2014                                                          -0.405   \n",
       "2015                                                            0.05   \n",
       "\n",
       "                                           8309                         8310  \\\n",
       "ISO                                         ZWE                          ZWE   \n",
       "WEO Subject Code                         GGXWDN                  GGXWDN_NGDP   \n",
       "Country                                Zimbabwe                     Zimbabwe   \n",
       "Subject Descriptor  General government net debt  General government net debt   \n",
       "Units                         National currency               Percent of GDP   \n",
       "2011                                        NaN                          NaN   \n",
       "2012                                        NaN                          NaN   \n",
       "2013                                        NaN                          NaN   \n",
       "2014                                        NaN                          NaN   \n",
       "2015                                        NaN                          NaN   \n",
       "\n",
       "                                             8311  \\\n",
       "ISO                                           ZWE   \n",
       "WEO Subject Code                           GGXWDG   \n",
       "Country                                  Zimbabwe   \n",
       "Subject Descriptor  General government gross debt   \n",
       "Units                           National currency   \n",
       "2011                                        5.671   \n",
       "2012                                        7.076   \n",
       "2013                                        7.316   \n",
       "2014                                        7.386   \n",
       "2015                                        9.635   \n",
       "\n",
       "                                             8312  \\\n",
       "ISO                                           ZWE   \n",
       "WEO Subject Code                      GGXWDG_NGDP   \n",
       "Country                                  Zimbabwe   \n",
       "Subject Descriptor  General government gross debt   \n",
       "Units                              Percent of GDP   \n",
       "2011                                       51.761   \n",
       "2012                                        56.73   \n",
       "2013                                        54.23   \n",
       "2014                                       53.394   \n",
       "2015                                       69.291   \n",
       "\n",
       "                                                                 8313  \\\n",
       "ISO                                                               ZWE   \n",
       "WEO Subject Code                                              NGDP_FY   \n",
       "Country                                                      Zimbabwe   \n",
       "Subject Descriptor  Gross domestic product corresponding to fiscal...   \n",
       "Units                                               National currency   \n",
       "2011                                                           10.956   \n",
       "2012                                                           12.472   \n",
       "2013                                                            13.49   \n",
       "2014                                                           13.833   \n",
       "2015                                                           13.905   \n",
       "\n",
       "                                       8314                     8315 8316  \n",
       "ISO                                     ZWE                      ZWE  NaN  \n",
       "WEO Subject Code                        BCA                BCA_NGDPD  NaN  \n",
       "Country                            Zimbabwe                 Zimbabwe  NaN  \n",
       "Subject Descriptor  Current account balance  Current account balance  NaN  \n",
       "Units                          U.S. dollars           Percent of GDP  NaN  \n",
       "2011                                 -3.383                   -30.88  NaN  \n",
       "2012                                 -3.062                  -24.551  NaN  \n",
       "2013                                 -3.432                  -25.441  NaN  \n",
       "2014                                 -3.046                  -22.021  NaN  \n",
       "2015                                 -3.187                  -22.923  NaN  \n",
       "\n",
       "[10 rows x 8317 columns]"
      ]
     },
     "execution_count": 10,
     "metadata": {},
     "output_type": "execute_result"
    }
   ],
   "source": [
    "weo.T.head(10)"
   ]
  },
  {
   "cell_type": "code",
   "execution_count": null,
   "metadata": {
    "collapsed": true
   },
   "outputs": [],
   "source": []
  },
  {
   "cell_type": "markdown",
   "metadata": {},
   "source": [
    "<a id='strings'></a>"
   ]
  },
  {
   "cell_type": "markdown",
   "metadata": {},
   "source": [
    "## String methods \n",
    "\n",
    "We can treat variables as strings in Pandas in much the same way we dealt with strings in core Python.  Run the code below to remind yourself how this works.  "
   ]
  },
  {
   "cell_type": "code",
   "execution_count": 11,
   "metadata": {
    "collapsed": false
   },
   "outputs": [
    {
     "name": "stdout",
     "output_type": "stream",
     "text": [
      "Type of variable dollars: <class 'str'>\n",
      "Type of variable num: <class 'float'>\n"
     ]
    }
   ],
   "source": [
    "dollars = '$123.45'\n",
    "print('Type of variable dollars:', type(dollars))\n",
    "num = dollars.replace('$', '')\n",
    "num = float(num)\n",
    "print('Type of variable num:', type(num))"
   ]
  },
  {
   "cell_type": "code",
   "execution_count": null,
   "metadata": {
    "collapsed": true
   },
   "outputs": [],
   "source": []
  },
  {
   "cell_type": "markdown",
   "metadata": {},
   "source": [
    "**Pandas string methods.** We can do the same thing to all the observations of a variable with so-called **string methods**.  We append `.str` to a variable in a dataframe and then apply the string method of our choice.  If this is part of converting a number-like entry that has mistakenly been given dtype object, we then convert its dtype with the `astype` method.  "
   ]
  },
  {
   "cell_type": "markdown",
   "metadata": {},
   "source": [
    "**Example.**  Let's use a string method to fix the `item_price` variable in the Chipotle dataframe.  This has three parts: \n",
    "\n",
    "* Use the method `str` to identify this as a string method.\n",
    "* Apply the string method of our choice (here `replace`) to fix the string.\n",
    "* Use the `astype` method to convert the fixed-up string to a float. \n",
    "\n",
    "We start by making a copy of the `chp` dataframe that we can experiment with.  "
   ]
  },
  {
   "cell_type": "code",
   "execution_count": 12,
   "metadata": {
    "collapsed": false
   },
   "outputs": [
    {
     "data": {
      "text/html": [
       "<div>\n",
       "<table border=\"1\" class=\"dataframe\">\n",
       "  <thead>\n",
       "    <tr style=\"text-align: right;\">\n",
       "      <th></th>\n",
       "      <th>order_id</th>\n",
       "      <th>quantity</th>\n",
       "      <th>item_name</th>\n",
       "      <th>choice_description</th>\n",
       "      <th>item_price</th>\n",
       "    </tr>\n",
       "  </thead>\n",
       "  <tbody>\n",
       "    <tr>\n",
       "      <th>0</th>\n",
       "      <td>1</td>\n",
       "      <td>1</td>\n",
       "      <td>Chips and Fresh Tomato Salsa</td>\n",
       "      <td>NaN</td>\n",
       "      <td>$2.39</td>\n",
       "    </tr>\n",
       "    <tr>\n",
       "      <th>1</th>\n",
       "      <td>1</td>\n",
       "      <td>1</td>\n",
       "      <td>Izze</td>\n",
       "      <td>[Clementine]</td>\n",
       "      <td>$3.39</td>\n",
       "    </tr>\n",
       "    <tr>\n",
       "      <th>2</th>\n",
       "      <td>1</td>\n",
       "      <td>1</td>\n",
       "      <td>Nantucket Nectar</td>\n",
       "      <td>[Apple]</td>\n",
       "      <td>$3.39</td>\n",
       "    </tr>\n",
       "    <tr>\n",
       "      <th>3</th>\n",
       "      <td>1</td>\n",
       "      <td>1</td>\n",
       "      <td>Chips and Tomatillo-Green Chili Salsa</td>\n",
       "      <td>NaN</td>\n",
       "      <td>$2.39</td>\n",
       "    </tr>\n",
       "    <tr>\n",
       "      <th>4</th>\n",
       "      <td>2</td>\n",
       "      <td>2</td>\n",
       "      <td>Chicken Bowl</td>\n",
       "      <td>[Tomatillo-Red Chili Salsa (Hot), [Black Beans...</td>\n",
       "      <td>$16.98</td>\n",
       "    </tr>\n",
       "  </tbody>\n",
       "</table>\n",
       "</div>"
      ],
      "text/plain": [
       "   order_id  quantity                              item_name  \\\n",
       "0         1         1           Chips and Fresh Tomato Salsa   \n",
       "1         1         1                                   Izze   \n",
       "2         1         1                       Nantucket Nectar   \n",
       "3         1         1  Chips and Tomatillo-Green Chili Salsa   \n",
       "4         2         2                           Chicken Bowl   \n",
       "\n",
       "                                  choice_description item_price  \n",
       "0                                                NaN     $2.39   \n",
       "1                                       [Clementine]     $3.39   \n",
       "2                                            [Apple]     $3.39   \n",
       "3                                                NaN     $2.39   \n",
       "4  [Tomatillo-Red Chili Salsa (Hot), [Black Beans...    $16.98   "
      ]
     },
     "execution_count": 12,
     "metadata": {},
     "output_type": "execute_result"
    }
   ],
   "source": [
    "chp.head()"
   ]
  },
  {
   "cell_type": "code",
   "execution_count": 13,
   "metadata": {
    "collapsed": false
   },
   "outputs": [
    {
     "name": "stdout",
     "output_type": "stream",
     "text": [
      "Original dtype: object\n"
     ]
    }
   ],
   "source": [
    "chpnum = chp.copy()\n",
    "print('Original dtype:', chpnum['item_price'].dtype)\n",
    "# create a copy of the df to play with "
   ]
  },
  {
   "cell_type": "code",
   "execution_count": 14,
   "metadata": {
    "collapsed": false
   },
   "outputs": [
    {
     "data": {
      "text/plain": [
       "0     2.39 \n",
       "1     3.39 \n",
       "2     3.39 \n",
       "3     2.39 \n",
       "4    16.98 \n",
       "Name: item_price, dtype: object"
      ]
     },
     "execution_count": 14,
     "metadata": {},
     "output_type": "execute_result"
    }
   ],
   "source": [
    "# delete dollar signs\n",
    "chpnum['item_price'].str.replace('$', '').head()"
   ]
  },
  {
   "cell_type": "code",
   "execution_count": 15,
   "metadata": {
    "collapsed": false
   },
   "outputs": [
    {
     "name": "stdout",
     "output_type": "stream",
     "text": [
      "New dtype: float64\n"
     ]
    }
   ],
   "source": [
    "# delete dollar signs, convert to float, and assign back to chpnum \n",
    "chpnum['item_price'] = chpnum['item_price'].str.replace('$', '').astype(float)\n",
    "print('New dtype:', chpnum['item_price'].dtype)"
   ]
  },
  {
   "cell_type": "code",
   "execution_count": 16,
   "metadata": {
    "collapsed": false
   },
   "outputs": [],
   "source": [
    "# assign back to chp for future use \n",
    "chp = chpnum"
   ]
  },
  {
   "cell_type": "markdown",
   "metadata": {
    "collapsed": false
   },
   "source": [
    "**Comment.** We did everything here in one line:  replace the dollar sign with a string method, then converted to float using `astype`.  If you think this is too dense, you might break it into two steps.  "
   ]
  },
  {
   "cell_type": "code",
   "execution_count": null,
   "metadata": {
    "collapsed": true
   },
   "outputs": [],
   "source": []
  },
  {
   "cell_type": "markdown",
   "metadata": {},
   "source": [
    "**Example.** Here we strip off the numbers at the end of the indexes in the OECD `docs` dataframe.  This involves some experimentation:  \n",
    "\n",
    "* Play with the `rsplit` method to see how it works.  \n",
    "* Apply `rsplit` to the example `country = 'United States 1'`.  \n",
    "* Use a string method to do this to all the entries of the variable `Country`.  "
   ]
  },
  {
   "cell_type": "code",
   "execution_count": 17,
   "metadata": {
    "collapsed": true
   },
   "outputs": [],
   "source": [
    "# try this with an example first \n",
    "country = 'United States 1'\n",
    "\n",
    "# get documentation for the rsplit method\n",
    "#country.rsplit?"
   ]
  },
  {
   "cell_type": "code",
   "execution_count": 18,
   "metadata": {
    "collapsed": false
   },
   "outputs": [
    {
     "data": {
      "text/plain": [
       "['United', 'States', '1']"
      ]
     },
     "execution_count": 18,
     "metadata": {},
     "output_type": "execute_result"
    }
   ],
   "source": [
    "# an example \n",
    "country.rsplit()"
   ]
  },
  {
   "cell_type": "markdown",
   "metadata": {},
   "source": [
    "**Comment.** Not quite, we only want to split once.  "
   ]
  },
  {
   "cell_type": "code",
   "execution_count": 19,
   "metadata": {
    "collapsed": false
   },
   "outputs": [
    {
     "data": {
      "text/plain": [
       "['United States', '1']"
      ]
     },
     "execution_count": 19,
     "metadata": {},
     "output_type": "execute_result"
    }
   ],
   "source": [
    "# what about this?\n",
    "country.rsplit(maxsplit=1)"
   ]
  },
  {
   "cell_type": "code",
   "execution_count": 20,
   "metadata": {
    "collapsed": false
   },
   "outputs": [
    {
     "data": {
      "text/plain": [
       "'United States'"
      ]
     },
     "execution_count": 20,
     "metadata": {},
     "output_type": "execute_result"
    }
   ],
   "source": [
    "# one more step, we want the first component of the list\n",
    "country.rsplit(maxsplit=1)[0]"
   ]
  },
  {
   "cell_type": "code",
   "execution_count": 21,
   "metadata": {
    "collapsed": false
   },
   "outputs": [
    {
     "data": {
      "text/plain": [
       "0    Australia 1\n",
       "1      Austria 1\n",
       "2      Belgium 1\n",
       "3       Canada 2\n",
       "4        Chile 3\n",
       "Name: Country, dtype: object"
      ]
     },
     "execution_count": 21,
     "metadata": {},
     "output_type": "execute_result"
    }
   ],
   "source": [
    "docs[\"Country\"].head()"
   ]
  },
  {
   "cell_type": "code",
   "execution_count": 22,
   "metadata": {
    "collapsed": false
   },
   "outputs": [
    {
     "data": {
      "text/plain": [
       "0    Australia\n",
       "1      Austria\n",
       "2      Belgium\n",
       "3       Canada\n",
       "4        Chile\n",
       "dtype: object"
      ]
     },
     "execution_count": 22,
     "metadata": {},
     "output_type": "execute_result"
    }
   ],
   "source": [
    "# now do this for the variable Country \n",
    "#docs['Country'].str.rsplit(maxsplit=1).str[0].head()   # explain why this doesn't work \n",
    "docs['Country'].str.rsplit(n=1).str[0].head() "
   ]
  },
  {
   "cell_type": "code",
   "execution_count": 23,
   "metadata": {
    "collapsed": false
   },
   "outputs": [
    {
     "data": {
      "text/plain": [
       "0    Australia\n",
       "1      Austria\n",
       "2      Belgium\n",
       "3       Canada\n",
       "4        Chile\n",
       "dtype: object"
      ]
     },
     "execution_count": 23,
     "metadata": {},
     "output_type": "execute_result"
    }
   ],
   "source": [
    "# Spencer prefers the get method to slicing \n",
    "docs['Country'].str.rsplit(n=1).str.get(0).head()"
   ]
  },
  {
   "cell_type": "code",
   "execution_count": 24,
   "metadata": {
    "collapsed": false
   },
   "outputs": [
    {
     "data": {
      "text/html": [
       "<div>\n",
       "<table border=\"1\" class=\"dataframe\">\n",
       "  <thead>\n",
       "    <tr style=\"text-align: right;\">\n",
       "      <th></th>\n",
       "      <th>Country</th>\n",
       "      <th>2010</th>\n",
       "      <th>2011</th>\n",
       "      <th>2012</th>\n",
       "      <th>2013</th>\n",
       "      <th>2014</th>\n",
       "      <th>2013 (or nearest year)</th>\n",
       "    </tr>\n",
       "  </thead>\n",
       "  <tbody>\n",
       "    <tr>\n",
       "      <th>0</th>\n",
       "      <td>Australia</td>\n",
       "      <td>..</td>\n",
       "      <td>3.31</td>\n",
       "      <td>3.31</td>\n",
       "      <td>3.39</td>\n",
       "      <td>..</td>\n",
       "      <td>3.39</td>\n",
       "    </tr>\n",
       "    <tr>\n",
       "      <th>1</th>\n",
       "      <td>Austria</td>\n",
       "      <td>4.8</td>\n",
       "      <td>4.84</td>\n",
       "      <td>4.90</td>\n",
       "      <td>4.99</td>\n",
       "      <td>..</td>\n",
       "      <td>4.99</td>\n",
       "    </tr>\n",
       "    <tr>\n",
       "      <th>2</th>\n",
       "      <td>Belgium</td>\n",
       "      <td>2.92</td>\n",
       "      <td>2.91</td>\n",
       "      <td>2.93</td>\n",
       "      <td>2.95</td>\n",
       "      <td>..</td>\n",
       "      <td>2.95</td>\n",
       "    </tr>\n",
       "    <tr>\n",
       "      <th>3</th>\n",
       "      <td>Canada</td>\n",
       "      <td>2.37</td>\n",
       "      <td>2.44</td>\n",
       "      <td>2.50</td>\n",
       "      <td>2.55</td>\n",
       "      <td>..</td>\n",
       "      <td>2.55</td>\n",
       "    </tr>\n",
       "    <tr>\n",
       "      <th>4</th>\n",
       "      <td>Chile</td>\n",
       "      <td>1.43</td>\n",
       "      <td>1.58</td>\n",
       "      <td>1.74</td>\n",
       "      <td>1.88</td>\n",
       "      <td>2.02</td>\n",
       "      <td>1.88</td>\n",
       "    </tr>\n",
       "  </tbody>\n",
       "</table>\n",
       "</div>"
      ],
      "text/plain": [
       "     Country  2010  2011  2012  2013  2014  2013 (or nearest year)\n",
       "0  Australia    ..  3.31  3.31  3.39    ..                    3.39\n",
       "1    Austria   4.8  4.84  4.90  4.99    ..                    4.99\n",
       "2    Belgium  2.92  2.91  2.93  2.95    ..                    2.95\n",
       "3     Canada  2.37  2.44  2.50  2.55    ..                    2.55\n",
       "4      Chile  1.43  1.58  1.74  1.88  2.02                    1.88"
      ]
     },
     "execution_count": 24,
     "metadata": {},
     "output_type": "execute_result"
    }
   ],
   "source": [
    "# now assign it to newdocs and see what we have \n",
    "newdocs = docs.copy()\n",
    "newdocs['Country'] = newdocs['Country'].str.rsplit(n=1).str.get(0)\n",
    "newdocs.head()"
   ]
  },
  {
   "cell_type": "code",
   "execution_count": 25,
   "metadata": {
    "collapsed": true
   },
   "outputs": [],
   "source": [
    "# assign it back to docs for future use \n",
    "docs = newdocs "
   ]
  },
  {
   "cell_type": "markdown",
   "metadata": {},
   "source": [
    "**Comments.** \n",
    "\n",
    "* Note that we need two `str`'s here:  one to do the split, the other to extract the first element.  \n",
    "* For reasons that mystify us, we ran into problems when we used `maxsplit=1`, but it works with `n=1`. \n",
    "* This is probably more than you want to know, but file away the possibilities in case you need them.  "
   ]
  },
  {
   "cell_type": "code",
   "execution_count": null,
   "metadata": {
    "collapsed": true
   },
   "outputs": [],
   "source": []
  },
  {
   "cell_type": "markdown",
   "metadata": {},
   "source": [
    "<a id='missing'></a>"
   ]
  },
  {
   "cell_type": "markdown",
   "metadata": {},
   "source": [
    "## Missing values \n",
    "\n",
    "It's important to label missing values, so that Pandas doesn't interpret entries as strings.  Pandas is also smart enough to ignore things labeled missing when it does calculations or graphs.  If we compute, for example, the mean of a variable, the default is to ignore missing values.  \n",
    "\n",
    "We've seen that we can label certain entries as missing values in read statements:  `read_csv`, `read_excel`, and so on.  Here we do it directly, mostly to remind ourselves what's involved.  "
   ]
  },
  {
   "cell_type": "markdown",
   "metadata": {},
   "source": [
    "### Marking missing values"
   ]
  },
  {
   "cell_type": "markdown",
   "metadata": {},
   "source": [
    "**Example.** The `docs` dataframe contains a number of instances of `..` (double period).  How can we mark them as missing values?  "
   ]
  },
  {
   "cell_type": "code",
   "execution_count": 26,
   "metadata": {
    "collapsed": false
   },
   "outputs": [
    {
     "data": {
      "text/html": [
       "<div>\n",
       "<table border=\"1\" class=\"dataframe\">\n",
       "  <thead>\n",
       "    <tr style=\"text-align: right;\">\n",
       "      <th></th>\n",
       "      <th>Country</th>\n",
       "      <th>2010</th>\n",
       "      <th>2011</th>\n",
       "      <th>2012</th>\n",
       "      <th>2013</th>\n",
       "      <th>2014</th>\n",
       "      <th>2013 (or nearest year)</th>\n",
       "    </tr>\n",
       "  </thead>\n",
       "  <tbody>\n",
       "    <tr>\n",
       "      <th>0</th>\n",
       "      <td>Australia</td>\n",
       "      <td>..</td>\n",
       "      <td>3.31</td>\n",
       "      <td>3.31</td>\n",
       "      <td>3.39</td>\n",
       "      <td>..</td>\n",
       "      <td>3.39</td>\n",
       "    </tr>\n",
       "    <tr>\n",
       "      <th>1</th>\n",
       "      <td>Austria</td>\n",
       "      <td>4.8</td>\n",
       "      <td>4.84</td>\n",
       "      <td>4.90</td>\n",
       "      <td>4.99</td>\n",
       "      <td>..</td>\n",
       "      <td>4.99</td>\n",
       "    </tr>\n",
       "    <tr>\n",
       "      <th>2</th>\n",
       "      <td>Belgium</td>\n",
       "      <td>2.92</td>\n",
       "      <td>2.91</td>\n",
       "      <td>2.93</td>\n",
       "      <td>2.95</td>\n",
       "      <td>..</td>\n",
       "      <td>2.95</td>\n",
       "    </tr>\n",
       "    <tr>\n",
       "      <th>3</th>\n",
       "      <td>Canada</td>\n",
       "      <td>2.37</td>\n",
       "      <td>2.44</td>\n",
       "      <td>2.50</td>\n",
       "      <td>2.55</td>\n",
       "      <td>..</td>\n",
       "      <td>2.55</td>\n",
       "    </tr>\n",
       "    <tr>\n",
       "      <th>4</th>\n",
       "      <td>Chile</td>\n",
       "      <td>1.43</td>\n",
       "      <td>1.58</td>\n",
       "      <td>1.74</td>\n",
       "      <td>1.88</td>\n",
       "      <td>2.02</td>\n",
       "      <td>1.88</td>\n",
       "    </tr>\n",
       "  </tbody>\n",
       "</table>\n",
       "</div>"
      ],
      "text/plain": [
       "     Country  2010  2011  2012  2013  2014  2013 (or nearest year)\n",
       "0  Australia    ..  3.31  3.31  3.39    ..                    3.39\n",
       "1    Austria   4.8  4.84  4.90  4.99    ..                    4.99\n",
       "2    Belgium  2.92  2.91  2.93  2.95    ..                    2.95\n",
       "3     Canada  2.37  2.44  2.50  2.55    ..                    2.55\n",
       "4      Chile  1.43  1.58  1.74  1.88  2.02                    1.88"
      ]
     },
     "execution_count": 26,
     "metadata": {},
     "output_type": "execute_result"
    }
   ],
   "source": [
    "docs = newdocs\n",
    "docs.head()"
   ]
  },
  {
   "cell_type": "markdown",
   "metadata": {},
   "source": [
    "**What to do.**  We use the replace method on the whole dataframe.  To mark something as missing, we replace it as `None`, which Pandas interprets as missing and labels `NaN`.  "
   ]
  },
  {
   "cell_type": "code",
   "execution_count": 27,
   "metadata": {
    "collapsed": false
   },
   "outputs": [
    {
     "data": {
      "text/html": [
       "<div>\n",
       "<table border=\"1\" class=\"dataframe\">\n",
       "  <thead>\n",
       "    <tr style=\"text-align: right;\">\n",
       "      <th></th>\n",
       "      <th>Country</th>\n",
       "      <th>2010</th>\n",
       "      <th>2011</th>\n",
       "      <th>2012</th>\n",
       "      <th>2013</th>\n",
       "      <th>2014</th>\n",
       "      <th>2013 (or nearest year)</th>\n",
       "    </tr>\n",
       "  </thead>\n",
       "  <tbody>\n",
       "    <tr>\n",
       "      <th>0</th>\n",
       "      <td>Australia</td>\n",
       "      <td>NaN</td>\n",
       "      <td>3.31</td>\n",
       "      <td>3.31</td>\n",
       "      <td>3.39</td>\n",
       "      <td>NaN</td>\n",
       "      <td>3.39</td>\n",
       "    </tr>\n",
       "    <tr>\n",
       "      <th>1</th>\n",
       "      <td>Austria</td>\n",
       "      <td>4.80</td>\n",
       "      <td>4.84</td>\n",
       "      <td>4.90</td>\n",
       "      <td>4.99</td>\n",
       "      <td>NaN</td>\n",
       "      <td>4.99</td>\n",
       "    </tr>\n",
       "    <tr>\n",
       "      <th>2</th>\n",
       "      <td>Belgium</td>\n",
       "      <td>2.92</td>\n",
       "      <td>2.91</td>\n",
       "      <td>2.93</td>\n",
       "      <td>2.95</td>\n",
       "      <td>NaN</td>\n",
       "      <td>2.95</td>\n",
       "    </tr>\n",
       "    <tr>\n",
       "      <th>3</th>\n",
       "      <td>Canada</td>\n",
       "      <td>2.37</td>\n",
       "      <td>2.44</td>\n",
       "      <td>2.50</td>\n",
       "      <td>2.55</td>\n",
       "      <td>NaN</td>\n",
       "      <td>2.55</td>\n",
       "    </tr>\n",
       "    <tr>\n",
       "      <th>4</th>\n",
       "      <td>Chile</td>\n",
       "      <td>1.43</td>\n",
       "      <td>1.58</td>\n",
       "      <td>1.74</td>\n",
       "      <td>1.88</td>\n",
       "      <td>2.02</td>\n",
       "      <td>1.88</td>\n",
       "    </tr>\n",
       "  </tbody>\n",
       "</table>\n",
       "</div>"
      ],
      "text/plain": [
       "     Country  2010  2011  2012  2013  2014  2013 (or nearest year)\n",
       "0  Australia   NaN  3.31  3.31  3.39   NaN                    3.39\n",
       "1    Austria  4.80  4.84  4.90  4.99   NaN                    4.99\n",
       "2    Belgium  2.92  2.91  2.93  2.95   NaN                    2.95\n",
       "3     Canada  2.37  2.44  2.50  2.55   NaN                    2.55\n",
       "4      Chile  1.43  1.58  1.74  1.88  2.02                    1.88"
      ]
     },
     "execution_count": 27,
     "metadata": {},
     "output_type": "execute_result"
    }
   ],
   "source": [
    "docs.replace(to_replace=['..'], value=[None]).head()"
   ]
  },
  {
   "cell_type": "markdown",
   "metadata": {},
   "source": [
    "**Comment.**  Replace automatically updates the dtypes.  Here the double dots led us to label the variables as objects.  After the replace, they're now floats, as they should be.  "
   ]
  },
  {
   "cell_type": "code",
   "execution_count": 28,
   "metadata": {
    "collapsed": false
   },
   "outputs": [
    {
     "data": {
      "text/plain": [
       "Country     object\n",
       "2010        object\n",
       "2011        object\n",
       "2012       float64\n",
       "2013        object\n",
       "dtype: object"
      ]
     },
     "execution_count": 28,
     "metadata": {},
     "output_type": "execute_result"
    }
   ],
   "source": [
    "docs.dtypes.head()"
   ]
  },
  {
   "cell_type": "code",
   "execution_count": 29,
   "metadata": {
    "collapsed": false
   },
   "outputs": [
    {
     "data": {
      "text/plain": [
       "Country     object\n",
       "2010       float64\n",
       "2011       float64\n",
       "2012       float64\n",
       "2013       float64\n",
       "dtype: object"
      ]
     },
     "execution_count": 29,
     "metadata": {},
     "output_type": "execute_result"
    }
   ],
   "source": [
    "docsna = docs.replace(to_replace=['..'], value=[None])\n",
    "docsna.dtypes.head()"
   ]
  },
  {
   "cell_type": "markdown",
   "metadata": {
    "collapsed": true
   },
   "source": [
    "**Comment.**  Some people prefer to use the numpy `nan`.  Here's an example.  The only advantage is that we avoid possible conflicts with other uses of the value `None`.  "
   ]
  },
  {
   "cell_type": "code",
   "execution_count": 30,
   "metadata": {
    "collapsed": false
   },
   "outputs": [
    {
     "data": {
      "text/html": [
       "<div>\n",
       "<table border=\"1\" class=\"dataframe\">\n",
       "  <thead>\n",
       "    <tr style=\"text-align: right;\">\n",
       "      <th></th>\n",
       "      <th>Country</th>\n",
       "      <th>2010</th>\n",
       "      <th>2011</th>\n",
       "      <th>2012</th>\n",
       "      <th>2013</th>\n",
       "      <th>2014</th>\n",
       "      <th>2013 (or nearest year)</th>\n",
       "    </tr>\n",
       "  </thead>\n",
       "  <tbody>\n",
       "    <tr>\n",
       "      <th>0</th>\n",
       "      <td>Australia</td>\n",
       "      <td>NaN</td>\n",
       "      <td>3.31</td>\n",
       "      <td>3.31</td>\n",
       "      <td>3.39</td>\n",
       "      <td>NaN</td>\n",
       "      <td>3.39</td>\n",
       "    </tr>\n",
       "    <tr>\n",
       "      <th>1</th>\n",
       "      <td>Austria</td>\n",
       "      <td>4.80</td>\n",
       "      <td>4.84</td>\n",
       "      <td>4.90</td>\n",
       "      <td>4.99</td>\n",
       "      <td>NaN</td>\n",
       "      <td>4.99</td>\n",
       "    </tr>\n",
       "    <tr>\n",
       "      <th>2</th>\n",
       "      <td>Belgium</td>\n",
       "      <td>2.92</td>\n",
       "      <td>2.91</td>\n",
       "      <td>2.93</td>\n",
       "      <td>2.95</td>\n",
       "      <td>NaN</td>\n",
       "      <td>2.95</td>\n",
       "    </tr>\n",
       "    <tr>\n",
       "      <th>3</th>\n",
       "      <td>Canada</td>\n",
       "      <td>2.37</td>\n",
       "      <td>2.44</td>\n",
       "      <td>2.50</td>\n",
       "      <td>2.55</td>\n",
       "      <td>NaN</td>\n",
       "      <td>2.55</td>\n",
       "    </tr>\n",
       "    <tr>\n",
       "      <th>4</th>\n",
       "      <td>Chile</td>\n",
       "      <td>1.43</td>\n",
       "      <td>1.58</td>\n",
       "      <td>1.74</td>\n",
       "      <td>1.88</td>\n",
       "      <td>2.02</td>\n",
       "      <td>1.88</td>\n",
       "    </tr>\n",
       "  </tbody>\n",
       "</table>\n",
       "</div>"
      ],
      "text/plain": [
       "     Country  2010  2011  2012  2013  2014  2013 (or nearest year)\n",
       "0  Australia   NaN  3.31  3.31  3.39   NaN                    3.39\n",
       "1    Austria  4.80  4.84  4.90  4.99   NaN                    4.99\n",
       "2    Belgium  2.92  2.91  2.93  2.95   NaN                    2.95\n",
       "3     Canada  2.37  2.44  2.50  2.55   NaN                    2.55\n",
       "4      Chile  1.43  1.58  1.74  1.88  2.02                    1.88"
      ]
     },
     "execution_count": 30,
     "metadata": {},
     "output_type": "execute_result"
    }
   ],
   "source": [
    "docs.replace(to_replace=['..'], value=[np.nan]).head()"
   ]
  },
  {
   "cell_type": "code",
   "execution_count": 31,
   "metadata": {
    "collapsed": true
   },
   "outputs": [],
   "source": [
    "# assign back to docs \n",
    "docs = docs.replace(to_replace=['..'], value=[np.nan])"
   ]
  },
  {
   "cell_type": "markdown",
   "metadata": {},
   "source": [
    "**Comment.** Unlike the string methods we described earlier, this use of replace affects complete entries, not elements of string entries.  For example, suppose we tried to replace the periods in decimal numbers with an asterisk.  We could try the following, but it doesn't work:  the decimal numbers  don't change.  "
   ]
  },
  {
   "cell_type": "code",
   "execution_count": 32,
   "metadata": {
    "collapsed": false
   },
   "outputs": [
    {
     "data": {
      "text/html": [
       "<div>\n",
       "<table border=\"1\" class=\"dataframe\">\n",
       "  <thead>\n",
       "    <tr style=\"text-align: right;\">\n",
       "      <th></th>\n",
       "      <th>Country</th>\n",
       "      <th>2010</th>\n",
       "      <th>2011</th>\n",
       "      <th>2012</th>\n",
       "      <th>2013</th>\n",
       "      <th>2014</th>\n",
       "      <th>2013 (or nearest year)</th>\n",
       "    </tr>\n",
       "  </thead>\n",
       "  <tbody>\n",
       "    <tr>\n",
       "      <th>0</th>\n",
       "      <td>Australia</td>\n",
       "      <td>NaN</td>\n",
       "      <td>3.31</td>\n",
       "      <td>3.31</td>\n",
       "      <td>3.39</td>\n",
       "      <td>NaN</td>\n",
       "      <td>3.39</td>\n",
       "    </tr>\n",
       "    <tr>\n",
       "      <th>1</th>\n",
       "      <td>Austria</td>\n",
       "      <td>4.80</td>\n",
       "      <td>4.84</td>\n",
       "      <td>4.90</td>\n",
       "      <td>4.99</td>\n",
       "      <td>NaN</td>\n",
       "      <td>4.99</td>\n",
       "    </tr>\n",
       "    <tr>\n",
       "      <th>2</th>\n",
       "      <td>Belgium</td>\n",
       "      <td>2.92</td>\n",
       "      <td>2.91</td>\n",
       "      <td>2.93</td>\n",
       "      <td>2.95</td>\n",
       "      <td>NaN</td>\n",
       "      <td>2.95</td>\n",
       "    </tr>\n",
       "    <tr>\n",
       "      <th>3</th>\n",
       "      <td>Canada</td>\n",
       "      <td>2.37</td>\n",
       "      <td>2.44</td>\n",
       "      <td>2.50</td>\n",
       "      <td>2.55</td>\n",
       "      <td>NaN</td>\n",
       "      <td>2.55</td>\n",
       "    </tr>\n",
       "    <tr>\n",
       "      <th>4</th>\n",
       "      <td>Chile</td>\n",
       "      <td>1.43</td>\n",
       "      <td>1.58</td>\n",
       "      <td>1.74</td>\n",
       "      <td>1.88</td>\n",
       "      <td>2.02</td>\n",
       "      <td>1.88</td>\n",
       "    </tr>\n",
       "  </tbody>\n",
       "</table>\n",
       "</div>"
      ],
      "text/plain": [
       "     Country  2010  2011  2012  2013  2014  2013 (or nearest year)\n",
       "0  Australia   NaN  3.31  3.31  3.39   NaN                    3.39\n",
       "1    Austria  4.80  4.84  4.90  4.99   NaN                    4.99\n",
       "2    Belgium  2.92  2.91  2.93  2.95   NaN                    2.95\n",
       "3     Canada  2.37  2.44  2.50  2.55   NaN                    2.55\n",
       "4      Chile  1.43  1.58  1.74  1.88  2.02                    1.88"
      ]
     },
     "execution_count": 32,
     "metadata": {},
     "output_type": "execute_result"
    }
   ],
   "source": [
    "docs.replace(to_replace=['.'], value=['*']).head()"
   ]
  },
  {
   "cell_type": "code",
   "execution_count": null,
   "metadata": {
    "collapsed": true
   },
   "outputs": [],
   "source": []
  },
  {
   "cell_type": "markdown",
   "metadata": {},
   "source": [
    "### Working with missing values "
   ]
  },
  {
   "cell_type": "code",
   "execution_count": 33,
   "metadata": {
    "collapsed": false
   },
   "outputs": [
    {
     "data": {
      "text/plain": [
       "0    3.39\n",
       "1    4.99\n",
       "2    2.95\n",
       "3    2.55\n",
       "4    1.88\n",
       "5    3.69\n",
       "6     NaN\n",
       "7    3.28\n",
       "8    3.02\n",
       "9    3.33\n",
       "Name: 2013, dtype: float64"
      ]
     },
     "execution_count": 33,
     "metadata": {},
     "output_type": "execute_result"
    }
   ],
   "source": [
    "# grab a variable to play with\n",
    "var = docsna[2013].head(10)\n",
    "var"
   ]
  },
  {
   "cell_type": "code",
   "execution_count": 34,
   "metadata": {
    "collapsed": false
   },
   "outputs": [
    {
     "data": {
      "text/plain": [
       "0    False\n",
       "1    False\n",
       "2    False\n",
       "3    False\n",
       "4    False\n",
       "5    False\n",
       "6     True\n",
       "7    False\n",
       "8    False\n",
       "9    False\n",
       "Name: 2013, dtype: bool"
      ]
     },
     "execution_count": 34,
     "metadata": {},
     "output_type": "execute_result"
    }
   ],
   "source": [
    "# which ones are missing (\"null\")?\n",
    "var.isnull()"
   ]
  },
  {
   "cell_type": "code",
   "execution_count": 35,
   "metadata": {
    "collapsed": false
   },
   "outputs": [
    {
     "data": {
      "text/plain": [
       "0     True\n",
       "1     True\n",
       "2     True\n",
       "3     True\n",
       "4     True\n",
       "5     True\n",
       "6    False\n",
       "7     True\n",
       "8     True\n",
       "9     True\n",
       "Name: 2013, dtype: bool"
      ]
     },
     "execution_count": 35,
     "metadata": {},
     "output_type": "execute_result"
    }
   ],
   "source": [
    "# which ones are not missing (\"not null\")?\n",
    "var.notnull()"
   ]
  },
  {
   "cell_type": "code",
   "execution_count": 36,
   "metadata": {
    "collapsed": false
   },
   "outputs": [
    {
     "data": {
      "text/plain": [
       "0    3.39\n",
       "1    4.99\n",
       "2    2.95\n",
       "3    2.55\n",
       "4    1.88\n",
       "5    3.69\n",
       "7    3.28\n",
       "8    3.02\n",
       "9    3.33\n",
       "Name: 2013, dtype: float64"
      ]
     },
     "execution_count": 36,
     "metadata": {},
     "output_type": "execute_result"
    }
   ],
   "source": [
    "# drop the missing \n",
    "var.dropna()"
   ]
  },
  {
   "cell_type": "markdown",
   "metadata": {
    "collapsed": true
   },
   "source": [
    "**Comment.** We usually don't have to worry about this, Pandas takes care of missing values automatically.  "
   ]
  },
  {
   "cell_type": "code",
   "execution_count": null,
   "metadata": {
    "collapsed": true
   },
   "outputs": [],
   "source": []
  },
  {
   "cell_type": "markdown",
   "metadata": {
    "collapsed": true
   },
   "source": [
    "**Comment.** Let's try a picture to give us a feeling of accomplishment. What else would you say we need?  How would we get it?  "
   ]
  },
  {
   "cell_type": "code",
   "execution_count": 37,
   "metadata": {
    "collapsed": false
   },
   "outputs": [
    {
     "data": {
      "text/plain": [
       "<matplotlib.axes._subplots.AxesSubplot at 0x11a1bab70>"
      ]
     },
     "execution_count": 37,
     "metadata": {},
     "output_type": "execute_result"
    },
    {
     "data": {
      "image/png": "[encoded data removed]",
      "text/plain": [
       "<matplotlib.figure.Figure at 0x11944eda0>"
      ]
     },
     "metadata": {},
     "output_type": "display_data"
    }
   ],
   "source": [
    "docs[2013].plot.barh(figsize=(4, 12)) "
   ]
  },
  {
   "cell_type": "code",
   "execution_count": null,
   "metadata": {
    "collapsed": true
   },
   "outputs": [],
   "source": []
  },
  {
   "cell_type": "markdown",
   "metadata": {},
   "source": [
    "<a id='selection'></a>"
   ]
  },
  {
   "cell_type": "markdown",
   "metadata": {},
   "source": [
    "## Selecting variables and observations \n",
    "\n",
    "The word **selection** refers to choosing a subset of variables or observations using their labels or index.  Similar methods are sometimes referred to as **slicing**, **subsetting**, **indexing**, or **filtering**.  We'll treat the terms as synonymous.  \n",
    "\n",
    "There are lots of ways to do this.  Mostly we do \"Boolean\" selection, which we address in the next section.  We review more direct options here, mostly at high speed because they're not things we use much.  \n",
    "\n",
    "In the outline below, `df` is a dataframe, `var` and `varn` are variable names, `vlist = ['var1', 'var2']` is a list of variable names, and `nlist = [0, 3, 4]` is a list of numerical variable or observation indexes, `n1` and `n2` are integers, and `bools` ia a list or pandas `Series` of booleans (`True` and `False`).  Some of the basic selection/indexing/slicing methods have the form:  \n",
    "\n",
    "* `df[var]` extracts a variable -- a series, in other words.\n",
    "* `df[vlist]` extracts a new dataframe consisting of the variables in `vlist`.  \n",
    "* `df[nlist]` does the same thing.  \n",
    "* `df[bools]`: extracts each _row_ where the corresponding element in `bools` is true. `len(bools)` must be equal to `df.size[0]`\n",
    "* `df[n1:n2]` extracts observations `n1` to `n2-1`, the traditional slicing syntax.  \n",
    "\n",
    "We find the last one confusing:  it extracts rows, not columns.  Pandas guru Wes McKinney notes: \"This might seem inconsistent to some readers.\"  Yup!  We don't do it much, partly for that reason.  \n",
    "\n",
    "<!-- page 127 top -->\n",
    "\n",
    "The Pandas docs push the `loc` and `iloc` methods.  We'll ignore them -- we don't use them much -- but if you're interested, see [the docs](http://pandas.pydata.org/pandas-docs/stable/indexing.html#different-choices-for-indexing).    "
   ]
  },
  {
   "cell_type": "code",
   "execution_count": 38,
   "metadata": {
    "collapsed": false
   },
   "outputs": [
    {
     "data": {
      "text/html": [
       "<div>\n",
       "<table border=\"1\" class=\"dataframe\">\n",
       "  <thead>\n",
       "    <tr style=\"text-align: right;\">\n",
       "      <th></th>\n",
       "      <th>ISO</th>\n",
       "      <th>WEO Subject Code</th>\n",
       "      <th>Country</th>\n",
       "      <th>Subject Descriptor</th>\n",
       "      <th>Units</th>\n",
       "      <th>2011</th>\n",
       "      <th>2012</th>\n",
       "      <th>2013</th>\n",
       "      <th>2014</th>\n",
       "      <th>2015</th>\n",
       "    </tr>\n",
       "  </thead>\n",
       "  <tbody>\n",
       "    <tr>\n",
       "      <th>0</th>\n",
       "      <td>AFG</td>\n",
       "      <td>NGDP_R</td>\n",
       "      <td>Afghanistan</td>\n",
       "      <td>Gross domestic product, constant prices</td>\n",
       "      <td>National currency</td>\n",
       "      <td>386.368</td>\n",
       "      <td>440.336</td>\n",
       "      <td>457.654</td>\n",
       "      <td>463.520</td>\n",
       "      <td>472.981</td>\n",
       "    </tr>\n",
       "    <tr>\n",
       "      <th>1</th>\n",
       "      <td>AFG</td>\n",
       "      <td>NGDP_RPCH</td>\n",
       "      <td>Afghanistan</td>\n",
       "      <td>Gross domestic product, constant prices</td>\n",
       "      <td>Percent change</td>\n",
       "      <td>6.479</td>\n",
       "      <td>13.968</td>\n",
       "      <td>3.933</td>\n",
       "      <td>1.282</td>\n",
       "      <td>2.041</td>\n",
       "    </tr>\n",
       "    <tr>\n",
       "      <th>2</th>\n",
       "      <td>AFG</td>\n",
       "      <td>NGDP</td>\n",
       "      <td>Afghanistan</td>\n",
       "      <td>Gross domestic product, current prices</td>\n",
       "      <td>National currency</td>\n",
       "      <td>836.222</td>\n",
       "      <td>1033.591</td>\n",
       "      <td>1116.827</td>\n",
       "      <td>1173.182</td>\n",
       "      <td>1172.361</td>\n",
       "    </tr>\n",
       "    <tr>\n",
       "      <th>3</th>\n",
       "      <td>AFG</td>\n",
       "      <td>NGDPD</td>\n",
       "      <td>Afghanistan</td>\n",
       "      <td>Gross domestic product, current prices</td>\n",
       "      <td>U.S. dollars</td>\n",
       "      <td>17.890</td>\n",
       "      <td>20.296</td>\n",
       "      <td>20.170</td>\n",
       "      <td>20.444</td>\n",
       "      <td>19.681</td>\n",
       "    </tr>\n",
       "    <tr>\n",
       "      <th>4</th>\n",
       "      <td>AFG</td>\n",
       "      <td>NGDP_D</td>\n",
       "      <td>Afghanistan</td>\n",
       "      <td>Gross domestic product, deflator</td>\n",
       "      <td>Index</td>\n",
       "      <td>216.432</td>\n",
       "      <td>234.728</td>\n",
       "      <td>244.033</td>\n",
       "      <td>253.103</td>\n",
       "      <td>247.866</td>\n",
       "    </tr>\n",
       "  </tbody>\n",
       "</table>\n",
       "</div>"
      ],
      "text/plain": [
       "   ISO WEO Subject Code      Country                       Subject Descriptor  \\\n",
       "0  AFG           NGDP_R  Afghanistan  Gross domestic product, constant prices   \n",
       "1  AFG        NGDP_RPCH  Afghanistan  Gross domestic product, constant prices   \n",
       "2  AFG             NGDP  Afghanistan   Gross domestic product, current prices   \n",
       "3  AFG            NGDPD  Afghanistan   Gross domestic product, current prices   \n",
       "4  AFG           NGDP_D  Afghanistan         Gross domestic product, deflator   \n",
       "\n",
       "               Units     2011      2012      2013      2014      2015  \n",
       "0  National currency  386.368   440.336   457.654   463.520   472.981  \n",
       "1     Percent change    6.479    13.968     3.933     1.282     2.041  \n",
       "2  National currency  836.222  1033.591  1116.827  1173.182  1172.361  \n",
       "3       U.S. dollars   17.890    20.296    20.170    20.444    19.681  \n",
       "4              Index  216.432   234.728   244.033   253.103   247.866  "
      ]
     },
     "execution_count": 38,
     "metadata": {},
     "output_type": "execute_result"
    }
   ],
   "source": [
    "# we create a small dataframe to experiment with \n",
    "small = weo.head()\n",
    "small"
   ]
  },
  {
   "cell_type": "markdown",
   "metadata": {},
   "source": [
    "**Example.** Let's try each of these in a different cell and see what they do:  \n",
    "    \n",
    "* `small[['ISO', 'Units']]`\n",
    "* `small[[0, 4]]`\n",
    "* `small['2011']`\n",
    "* `small[1:3]`\n",
    "\n",
    "Can you explain the results?"
   ]
  },
  {
   "cell_type": "code",
   "execution_count": 39,
   "metadata": {
    "collapsed": false
   },
   "outputs": [
    {
     "data": {
      "text/html": [
       "<div>\n",
       "<table border=\"1\" class=\"dataframe\">\n",
       "  <thead>\n",
       "    <tr style=\"text-align: right;\">\n",
       "      <th></th>\n",
       "      <th>ISO</th>\n",
       "      <th>Units</th>\n",
       "    </tr>\n",
       "  </thead>\n",
       "  <tbody>\n",
       "    <tr>\n",
       "      <th>0</th>\n",
       "      <td>AFG</td>\n",
       "      <td>National currency</td>\n",
       "    </tr>\n",
       "    <tr>\n",
       "      <th>1</th>\n",
       "      <td>AFG</td>\n",
       "      <td>Percent change</td>\n",
       "    </tr>\n",
       "    <tr>\n",
       "      <th>2</th>\n",
       "      <td>AFG</td>\n",
       "      <td>National currency</td>\n",
       "    </tr>\n",
       "    <tr>\n",
       "      <th>3</th>\n",
       "      <td>AFG</td>\n",
       "      <td>U.S. dollars</td>\n",
       "    </tr>\n",
       "    <tr>\n",
       "      <th>4</th>\n",
       "      <td>AFG</td>\n",
       "      <td>Index</td>\n",
       "    </tr>\n",
       "  </tbody>\n",
       "</table>\n",
       "</div>"
      ],
      "text/plain": [
       "   ISO              Units\n",
       "0  AFG  National currency\n",
       "1  AFG     Percent change\n",
       "2  AFG  National currency\n",
       "3  AFG       U.S. dollars\n",
       "4  AFG              Index"
      ]
     },
     "execution_count": 39,
     "metadata": {},
     "output_type": "execute_result"
    }
   ],
   "source": [
    "small[['ISO', 'Units']]"
   ]
  },
  {
   "cell_type": "code",
   "execution_count": 40,
   "metadata": {
    "collapsed": false
   },
   "outputs": [
    {
     "data": {
      "text/html": [
       "<div>\n",
       "<table border=\"1\" class=\"dataframe\">\n",
       "  <thead>\n",
       "    <tr style=\"text-align: right;\">\n",
       "      <th></th>\n",
       "      <th>ISO</th>\n",
       "      <th>Units</th>\n",
       "    </tr>\n",
       "  </thead>\n",
       "  <tbody>\n",
       "    <tr>\n",
       "      <th>0</th>\n",
       "      <td>AFG</td>\n",
       "      <td>National currency</td>\n",
       "    </tr>\n",
       "    <tr>\n",
       "      <th>1</th>\n",
       "      <td>AFG</td>\n",
       "      <td>Percent change</td>\n",
       "    </tr>\n",
       "    <tr>\n",
       "      <th>2</th>\n",
       "      <td>AFG</td>\n",
       "      <td>National currency</td>\n",
       "    </tr>\n",
       "    <tr>\n",
       "      <th>3</th>\n",
       "      <td>AFG</td>\n",
       "      <td>U.S. dollars</td>\n",
       "    </tr>\n",
       "    <tr>\n",
       "      <th>4</th>\n",
       "      <td>AFG</td>\n",
       "      <td>Index</td>\n",
       "    </tr>\n",
       "  </tbody>\n",
       "</table>\n",
       "</div>"
      ],
      "text/plain": [
       "   ISO              Units\n",
       "0  AFG  National currency\n",
       "1  AFG     Percent change\n",
       "2  AFG  National currency\n",
       "3  AFG       U.S. dollars\n",
       "4  AFG              Index"
      ]
     },
     "execution_count": 40,
     "metadata": {},
     "output_type": "execute_result"
    }
   ],
   "source": [
    "small[[0, 4]]"
   ]
  },
  {
   "cell_type": "code",
   "execution_count": 41,
   "metadata": {
    "collapsed": false
   },
   "outputs": [
    {
     "data": {
      "text/plain": [
       "0    386.368\n",
       "1      6.479\n",
       "2    836.222\n",
       "3     17.890\n",
       "4    216.432\n",
       "Name: 2011, dtype: float64"
      ]
     },
     "execution_count": 41,
     "metadata": {},
     "output_type": "execute_result"
    }
   ],
   "source": [
    "small['2011']"
   ]
  },
  {
   "cell_type": "code",
   "execution_count": 42,
   "metadata": {
    "collapsed": false
   },
   "outputs": [
    {
     "data": {
      "text/plain": [
       "17.890000000000001"
      ]
     },
     "execution_count": 42,
     "metadata": {},
     "output_type": "execute_result"
    }
   ],
   "source": [
    "small['2011'][3]"
   ]
  },
  {
   "cell_type": "code",
   "execution_count": 43,
   "metadata": {
    "collapsed": false
   },
   "outputs": [
    {
     "data": {
      "text/html": [
       "<div>\n",
       "<table border=\"1\" class=\"dataframe\">\n",
       "  <thead>\n",
       "    <tr style=\"text-align: right;\">\n",
       "      <th></th>\n",
       "      <th>ISO</th>\n",
       "      <th>WEO Subject Code</th>\n",
       "      <th>Country</th>\n",
       "      <th>Subject Descriptor</th>\n",
       "      <th>Units</th>\n",
       "      <th>2011</th>\n",
       "      <th>2012</th>\n",
       "      <th>2013</th>\n",
       "      <th>2014</th>\n",
       "      <th>2015</th>\n",
       "    </tr>\n",
       "  </thead>\n",
       "  <tbody>\n",
       "    <tr>\n",
       "      <th>1</th>\n",
       "      <td>AFG</td>\n",
       "      <td>NGDP_RPCH</td>\n",
       "      <td>Afghanistan</td>\n",
       "      <td>Gross domestic product, constant prices</td>\n",
       "      <td>Percent change</td>\n",
       "      <td>6.479</td>\n",
       "      <td>13.968</td>\n",
       "      <td>3.933</td>\n",
       "      <td>1.282</td>\n",
       "      <td>2.041</td>\n",
       "    </tr>\n",
       "    <tr>\n",
       "      <th>2</th>\n",
       "      <td>AFG</td>\n",
       "      <td>NGDP</td>\n",
       "      <td>Afghanistan</td>\n",
       "      <td>Gross domestic product, current prices</td>\n",
       "      <td>National currency</td>\n",
       "      <td>836.222</td>\n",
       "      <td>1033.591</td>\n",
       "      <td>1116.827</td>\n",
       "      <td>1173.182</td>\n",
       "      <td>1172.361</td>\n",
       "    </tr>\n",
       "  </tbody>\n",
       "</table>\n",
       "</div>"
      ],
      "text/plain": [
       "   ISO WEO Subject Code      Country                       Subject Descriptor  \\\n",
       "1  AFG        NGDP_RPCH  Afghanistan  Gross domestic product, constant prices   \n",
       "2  AFG             NGDP  Afghanistan   Gross domestic product, current prices   \n",
       "\n",
       "               Units     2011      2012      2013      2014      2015  \n",
       "1     Percent change    6.479    13.968     3.933     1.282     2.041  \n",
       "2  National currency  836.222  1033.591  1116.827  1173.182  1172.361  "
      ]
     },
     "execution_count": 43,
     "metadata": {},
     "output_type": "execute_result"
    }
   ],
   "source": [
    "small[1:3]"
   ]
  },
  {
   "cell_type": "code",
   "execution_count": 44,
   "metadata": {
    "collapsed": false
   },
   "outputs": [
    {
     "data": {
      "text/html": [
       "<div>\n",
       "<table border=\"1\" class=\"dataframe\">\n",
       "  <thead>\n",
       "    <tr style=\"text-align: right;\">\n",
       "      <th></th>\n",
       "      <th>ISO</th>\n",
       "      <th>WEO Subject Code</th>\n",
       "      <th>Country</th>\n",
       "      <th>Subject Descriptor</th>\n",
       "      <th>Units</th>\n",
       "      <th>2011</th>\n",
       "      <th>2012</th>\n",
       "      <th>2013</th>\n",
       "      <th>2014</th>\n",
       "      <th>2015</th>\n",
       "    </tr>\n",
       "  </thead>\n",
       "  <tbody>\n",
       "    <tr>\n",
       "      <th>1</th>\n",
       "      <td>AFG</td>\n",
       "      <td>NGDP_RPCH</td>\n",
       "      <td>Afghanistan</td>\n",
       "      <td>Gross domestic product, constant prices</td>\n",
       "      <td>Percent change</td>\n",
       "      <td>6.479</td>\n",
       "      <td>13.968</td>\n",
       "      <td>3.933</td>\n",
       "      <td>1.282</td>\n",
       "      <td>2.041</td>\n",
       "    </tr>\n",
       "    <tr>\n",
       "      <th>2</th>\n",
       "      <td>AFG</td>\n",
       "      <td>NGDP</td>\n",
       "      <td>Afghanistan</td>\n",
       "      <td>Gross domestic product, current prices</td>\n",
       "      <td>National currency</td>\n",
       "      <td>836.222</td>\n",
       "      <td>1033.591</td>\n",
       "      <td>1116.827</td>\n",
       "      <td>1173.182</td>\n",
       "      <td>1172.361</td>\n",
       "    </tr>\n",
       "  </tbody>\n",
       "</table>\n",
       "</div>"
      ],
      "text/plain": [
       "   ISO WEO Subject Code      Country                       Subject Descriptor  \\\n",
       "1  AFG        NGDP_RPCH  Afghanistan  Gross domestic product, constant prices   \n",
       "2  AFG             NGDP  Afghanistan   Gross domestic product, current prices   \n",
       "\n",
       "               Units     2011      2012      2013      2014      2015  \n",
       "1     Percent change    6.479    13.968     3.933     1.282     2.041  \n",
       "2  National currency  836.222  1033.591  1116.827  1173.182  1172.361  "
      ]
     },
     "execution_count": 44,
     "metadata": {},
     "output_type": "execute_result"
    }
   ],
   "source": [
    "small[[False, True, True, False, False]]"
   ]
  },
  {
   "cell_type": "markdown",
   "metadata": {},
   "source": [
    "### Series indexing\n",
    "\n",
    "Indexing a `Series` is a little different because we only have one column, so all indexing operations interact with rows.\n",
    "\n",
    "The rules here are a little subtle, so we'll show examples and add comments that explain what each example does\n",
    "\n",
    "In the list below `s` is a `Series`, `n` is an integer, `nlist = [0, 3]` is a list of integers, and `i` is a string, and `is` is a list of strings\n",
    "\n",
    "- `s[n]`: if the index has `dtype` int, this extracts the row with index `n`. Otherwise extracts the `n`th row (starting at zero)\n",
    "- `s[nlist]`: if the index has `dtype` int, this extracts rows with indices in `nlist` returning `NaN` if they don't appear. Otherwise extracts the rows at positions in `nlist`, filling with `NaN` for invalid positions\n",
    "- `s[i]`: if the index has `dtype` `object`, this extracts the row with index `i`, otherwise it is an error\n",
    "- `s[is]`: "
   ]
  },
  {
   "cell_type": "code",
   "execution_count": 53,
   "metadata": {
    "collapsed": false
   },
   "outputs": [
    {
     "data": {
      "text/plain": [
       "a    5\n",
       "b    6\n",
       "c    7\n",
       "d    8\n",
       "dtype: int64"
      ]
     },
     "execution_count": 53,
     "metadata": {},
     "output_type": "execute_result"
    }
   ],
   "source": [
    "s1 = pd.Series([5, 6, 7, 8], index=[\"a\", \"b\", \"c\", \"d\"])\n",
    "s1"
   ]
  },
  {
   "cell_type": "code",
   "execution_count": 66,
   "metadata": {
    "collapsed": false
   },
   "outputs": [
    {
     "data": {
      "text/plain": [
       "0      50\n",
       "4      60\n",
       "2      70\n",
       "999    80\n",
       "dtype: int64"
      ]
     },
     "execution_count": 66,
     "metadata": {},
     "output_type": "execute_result"
    }
   ],
   "source": [
    "s2 = pd.Series([50, 60, 70, 80], index=[0, 4, 2, 999])\n",
    "s2"
   ]
  },
  {
   "cell_type": "code",
   "execution_count": 65,
   "metadata": {
    "collapsed": false
   },
   "outputs": [
    {
     "data": {
      "text/plain": [
       "5"
      ]
     },
     "execution_count": 65,
     "metadata": {},
     "output_type": "execute_result"
    }
   ],
   "source": [
    "# index has dtype object, so using an int returns the value in that row (starting at 0)\n",
    "s1[1]"
   ]
  },
  {
   "cell_type": "code",
   "execution_count": 68,
   "metadata": {
    "collapsed": false
   },
   "outputs": [
    {
     "ename": "KeyError",
     "evalue": "1",
     "output_type": "error",
     "traceback": [
      "\u001b[0;31m---------------------------------------------------------------------------\u001b[0m",
      "\u001b[0;31mKeyError\u001b[0m                                  Traceback (most recent call last)",
      "\u001b[0;32m<ipython-input-68-bd8ddbbf39d3>\u001b[0m in \u001b[0;36m<module>\u001b[0;34m()\u001b[0m\n\u001b[1;32m      1\u001b[0m \u001b[0;31m# index has dtype int, so using an integer tries to find the that int in the\u001b[0m\u001b[0;34m\u001b[0m\u001b[0;34m\u001b[0m\u001b[0m\n\u001b[1;32m      2\u001b[0m \u001b[0;31m# index and return the corresponding value and throws an error if it can't find it\u001b[0m\u001b[0;34m\u001b[0m\u001b[0;34m\u001b[0m\u001b[0m\n\u001b[0;32m----> 3\u001b[0;31m \u001b[0ms2\u001b[0m\u001b[0;34m[\u001b[0m\u001b[0;36m1\u001b[0m\u001b[0;34m]\u001b[0m\u001b[0;34m\u001b[0m\u001b[0m\n\u001b[0m",
      "\u001b[0;32m/Users/sglyon/anaconda3/lib/python3.5/site-packages/pandas/core/series.py\u001b[0m in \u001b[0;36m__getitem__\u001b[0;34m(self, key)\u001b[0m\n\u001b[1;32m    555\u001b[0m     \u001b[0;32mdef\u001b[0m \u001b[0m__getitem__\u001b[0m\u001b[0;34m(\u001b[0m\u001b[0mself\u001b[0m\u001b[0;34m,\u001b[0m \u001b[0mkey\u001b[0m\u001b[0;34m)\u001b[0m\u001b[0;34m:\u001b[0m\u001b[0;34m\u001b[0m\u001b[0m\n\u001b[1;32m    556\u001b[0m         \u001b[0;32mtry\u001b[0m\u001b[0;34m:\u001b[0m\u001b[0;34m\u001b[0m\u001b[0m\n\u001b[0;32m--> 557\u001b[0;31m             \u001b[0mresult\u001b[0m \u001b[0;34m=\u001b[0m \u001b[0mself\u001b[0m\u001b[0;34m.\u001b[0m\u001b[0mindex\u001b[0m\u001b[0;34m.\u001b[0m\u001b[0mget_value\u001b[0m\u001b[0;34m(\u001b[0m\u001b[0mself\u001b[0m\u001b[0;34m,\u001b[0m \u001b[0mkey\u001b[0m\u001b[0;34m)\u001b[0m\u001b[0;34m\u001b[0m\u001b[0m\n\u001b[0m\u001b[1;32m    558\u001b[0m \u001b[0;34m\u001b[0m\u001b[0m\n\u001b[1;32m    559\u001b[0m             \u001b[0;32mif\u001b[0m \u001b[0;32mnot\u001b[0m \u001b[0mnp\u001b[0m\u001b[0;34m.\u001b[0m\u001b[0misscalar\u001b[0m\u001b[0;34m(\u001b[0m\u001b[0mresult\u001b[0m\u001b[0;34m)\u001b[0m\u001b[0;34m:\u001b[0m\u001b[0;34m\u001b[0m\u001b[0m\n",
      "\u001b[0;32m/Users/sglyon/anaconda3/lib/python3.5/site-packages/pandas/core/index.py\u001b[0m in \u001b[0;36mget_value\u001b[0;34m(self, series, key)\u001b[0m\n\u001b[1;32m   1788\u001b[0m \u001b[0;34m\u001b[0m\u001b[0m\n\u001b[1;32m   1789\u001b[0m         \u001b[0;32mtry\u001b[0m\u001b[0;34m:\u001b[0m\u001b[0;34m\u001b[0m\u001b[0m\n\u001b[0;32m-> 1790\u001b[0;31m             \u001b[0;32mreturn\u001b[0m \u001b[0mself\u001b[0m\u001b[0;34m.\u001b[0m\u001b[0m_engine\u001b[0m\u001b[0;34m.\u001b[0m\u001b[0mget_value\u001b[0m\u001b[0;34m(\u001b[0m\u001b[0ms\u001b[0m\u001b[0;34m,\u001b[0m \u001b[0mk\u001b[0m\u001b[0;34m)\u001b[0m\u001b[0;34m\u001b[0m\u001b[0m\n\u001b[0m\u001b[1;32m   1791\u001b[0m         \u001b[0;32mexcept\u001b[0m \u001b[0mKeyError\u001b[0m \u001b[0;32mas\u001b[0m \u001b[0me1\u001b[0m\u001b[0;34m:\u001b[0m\u001b[0;34m\u001b[0m\u001b[0m\n\u001b[1;32m   1792\u001b[0m             \u001b[0;32mif\u001b[0m \u001b[0mlen\u001b[0m\u001b[0;34m(\u001b[0m\u001b[0mself\u001b[0m\u001b[0;34m)\u001b[0m \u001b[0;34m>\u001b[0m \u001b[0;36m0\u001b[0m \u001b[0;32mand\u001b[0m \u001b[0mself\u001b[0m\u001b[0;34m.\u001b[0m\u001b[0minferred_type\u001b[0m \u001b[0;32min\u001b[0m \u001b[0;34m[\u001b[0m\u001b[0;34m'integer'\u001b[0m\u001b[0;34m,\u001b[0m\u001b[0;34m'boolean'\u001b[0m\u001b[0;34m]\u001b[0m\u001b[0;34m:\u001b[0m\u001b[0;34m\u001b[0m\u001b[0m\n",
      "\u001b[0;32mpandas/index.pyx\u001b[0m in \u001b[0;36mpandas.index.IndexEngine.get_value (pandas/index.c:3204)\u001b[0;34m()\u001b[0m\n",
      "\u001b[0;32mpandas/index.pyx\u001b[0m in \u001b[0;36mpandas.index.IndexEngine.get_value (pandas/index.c:2903)\u001b[0;34m()\u001b[0m\n",
      "\u001b[0;32mpandas/index.pyx\u001b[0m in \u001b[0;36mpandas.index.IndexEngine.get_loc (pandas/index.c:3843)\u001b[0;34m()\u001b[0m\n",
      "\u001b[0;32mpandas/hashtable.pyx\u001b[0m in \u001b[0;36mpandas.hashtable.Int64HashTable.get_item (pandas/hashtable.c:6525)\u001b[0;34m()\u001b[0m\n",
      "\u001b[0;32mpandas/hashtable.pyx\u001b[0m in \u001b[0;36mpandas.hashtable.Int64HashTable.get_item (pandas/hashtable.c:6463)\u001b[0;34m()\u001b[0m\n",
      "\u001b[0;31mKeyError\u001b[0m: 1"
     ]
    }
   ],
   "source": [
    "# index has dtype int, so using an integer tries to find the that int in the \n",
    "# index and return the corresponding value and throws an error if it can't find it\n",
    "s2[1]"
   ]
  },
  {
   "cell_type": "code",
   "execution_count": 69,
   "metadata": {
    "collapsed": false
   },
   "outputs": [
    {
     "data": {
      "text/plain": [
       "50"
      ]
     },
     "execution_count": 69,
     "metadata": {},
     "output_type": "execute_result"
    }
   ],
   "source": [
    "s2[0]  # no error, 0 is in the index"
   ]
  },
  {
   "cell_type": "code",
   "execution_count": 71,
   "metadata": {
    "collapsed": false
   },
   "outputs": [
    {
     "data": {
      "text/plain": [
       "a    5\n",
       "d    8\n",
       "dtype: int64"
      ]
     },
     "execution_count": 71,
     "metadata": {},
     "output_type": "execute_result"
    }
   ],
   "source": [
    "# index has dtype object, so a list of ints extracts those rows\n",
    "s1[[0, 3]]"
   ]
  },
  {
   "cell_type": "code",
   "execution_count": 73,
   "metadata": {
    "collapsed": false
   },
   "outputs": [
    {
     "data": {
      "text/plain": [
       "0      50\n",
       "3     NaN\n",
       "999    80\n",
       "dtype: float64"
      ]
     },
     "execution_count": 73,
     "metadata": {},
     "output_type": "execute_result"
    }
   ],
   "source": [
    "# index has dtype int, so a list of ints tries to match each int to the index\n",
    "# it returns NaN where it can't find the index. Notice it **did not** return \n",
    "# `80` for 3\n",
    "s2[[0, 3, 999]]"
   ]
  },
  {
   "cell_type": "code",
   "execution_count": 74,
   "metadata": {
    "collapsed": false
   },
   "outputs": [
    {
     "data": {
      "text/plain": [
       "7"
      ]
     },
     "execution_count": 74,
     "metadata": {},
     "output_type": "execute_result"
    }
   ],
   "source": [
    "# index has type object, so a string finds row with matching index\n",
    "s1[\"c\"]"
   ]
  },
  {
   "cell_type": "code",
   "execution_count": 76,
   "metadata": {
    "collapsed": false
   },
   "outputs": [
    {
     "ename": "KeyError",
     "evalue": "'c'",
     "output_type": "error",
     "traceback": [
      "\u001b[0;31m---------------------------------------------------------------------------\u001b[0m",
      "\u001b[0;31mTypeError\u001b[0m                                 Traceback (most recent call last)",
      "\u001b[0;32mpandas/index.pyx\u001b[0m in \u001b[0;36mpandas.index.IndexEngine.get_loc (pandas/index.c:3843)\u001b[0;34m()\u001b[0m\n",
      "\u001b[0;32mpandas/hashtable.pyx\u001b[0m in \u001b[0;36mpandas.hashtable.Int64HashTable.get_item (pandas/hashtable.c:6501)\u001b[0;34m()\u001b[0m\n",
      "\u001b[0;31mTypeError\u001b[0m: an integer is required",
      "\nDuring handling of the above exception, another exception occurred:\n",
      "\u001b[0;31mKeyError\u001b[0m                                  Traceback (most recent call last)",
      "\u001b[0;32m<ipython-input-76-5c22bbe93e67>\u001b[0m in \u001b[0;36m<module>\u001b[0;34m()\u001b[0m\n\u001b[1;32m      1\u001b[0m \u001b[0;31m# index has dtype int, so using a string causes an error\u001b[0m\u001b[0;34m\u001b[0m\u001b[0;34m\u001b[0m\u001b[0m\n\u001b[0;32m----> 2\u001b[0;31m \u001b[0ms2\u001b[0m\u001b[0;34m[\u001b[0m\u001b[0;34m\"c\"\u001b[0m\u001b[0;34m]\u001b[0m\u001b[0;34m\u001b[0m\u001b[0m\n\u001b[0m",
      "\u001b[0;32m/Users/sglyon/anaconda3/lib/python3.5/site-packages/pandas/core/series.py\u001b[0m in \u001b[0;36m__getitem__\u001b[0;34m(self, key)\u001b[0m\n\u001b[1;32m    555\u001b[0m     \u001b[0;32mdef\u001b[0m \u001b[0m__getitem__\u001b[0m\u001b[0;34m(\u001b[0m\u001b[0mself\u001b[0m\u001b[0;34m,\u001b[0m \u001b[0mkey\u001b[0m\u001b[0;34m)\u001b[0m\u001b[0;34m:\u001b[0m\u001b[0;34m\u001b[0m\u001b[0m\n\u001b[1;32m    556\u001b[0m         \u001b[0;32mtry\u001b[0m\u001b[0;34m:\u001b[0m\u001b[0;34m\u001b[0m\u001b[0m\n\u001b[0;32m--> 557\u001b[0;31m             \u001b[0mresult\u001b[0m \u001b[0;34m=\u001b[0m \u001b[0mself\u001b[0m\u001b[0;34m.\u001b[0m\u001b[0mindex\u001b[0m\u001b[0;34m.\u001b[0m\u001b[0mget_value\u001b[0m\u001b[0;34m(\u001b[0m\u001b[0mself\u001b[0m\u001b[0;34m,\u001b[0m \u001b[0mkey\u001b[0m\u001b[0;34m)\u001b[0m\u001b[0;34m\u001b[0m\u001b[0m\n\u001b[0m\u001b[1;32m    558\u001b[0m \u001b[0;34m\u001b[0m\u001b[0m\n\u001b[1;32m    559\u001b[0m             \u001b[0;32mif\u001b[0m \u001b[0;32mnot\u001b[0m \u001b[0mnp\u001b[0m\u001b[0;34m.\u001b[0m\u001b[0misscalar\u001b[0m\u001b[0;34m(\u001b[0m\u001b[0mresult\u001b[0m\u001b[0;34m)\u001b[0m\u001b[0;34m:\u001b[0m\u001b[0;34m\u001b[0m\u001b[0m\n",
      "\u001b[0;32m/Users/sglyon/anaconda3/lib/python3.5/site-packages/pandas/core/index.py\u001b[0m in \u001b[0;36mget_value\u001b[0;34m(self, series, key)\u001b[0m\n\u001b[1;32m   1788\u001b[0m \u001b[0;34m\u001b[0m\u001b[0m\n\u001b[1;32m   1789\u001b[0m         \u001b[0;32mtry\u001b[0m\u001b[0;34m:\u001b[0m\u001b[0;34m\u001b[0m\u001b[0m\n\u001b[0;32m-> 1790\u001b[0;31m             \u001b[0;32mreturn\u001b[0m \u001b[0mself\u001b[0m\u001b[0;34m.\u001b[0m\u001b[0m_engine\u001b[0m\u001b[0;34m.\u001b[0m\u001b[0mget_value\u001b[0m\u001b[0;34m(\u001b[0m\u001b[0ms\u001b[0m\u001b[0;34m,\u001b[0m \u001b[0mk\u001b[0m\u001b[0;34m)\u001b[0m\u001b[0;34m\u001b[0m\u001b[0m\n\u001b[0m\u001b[1;32m   1791\u001b[0m         \u001b[0;32mexcept\u001b[0m \u001b[0mKeyError\u001b[0m \u001b[0;32mas\u001b[0m \u001b[0me1\u001b[0m\u001b[0;34m:\u001b[0m\u001b[0;34m\u001b[0m\u001b[0m\n\u001b[1;32m   1792\u001b[0m             \u001b[0;32mif\u001b[0m \u001b[0mlen\u001b[0m\u001b[0;34m(\u001b[0m\u001b[0mself\u001b[0m\u001b[0;34m)\u001b[0m \u001b[0;34m>\u001b[0m \u001b[0;36m0\u001b[0m \u001b[0;32mand\u001b[0m \u001b[0mself\u001b[0m\u001b[0;34m.\u001b[0m\u001b[0minferred_type\u001b[0m \u001b[0;32min\u001b[0m \u001b[0;34m[\u001b[0m\u001b[0;34m'integer'\u001b[0m\u001b[0;34m,\u001b[0m\u001b[0;34m'boolean'\u001b[0m\u001b[0;34m]\u001b[0m\u001b[0;34m:\u001b[0m\u001b[0;34m\u001b[0m\u001b[0m\n",
      "\u001b[0;32mpandas/index.pyx\u001b[0m in \u001b[0;36mpandas.index.IndexEngine.get_value (pandas/index.c:3204)\u001b[0;34m()\u001b[0m\n",
      "\u001b[0;32mpandas/index.pyx\u001b[0m in \u001b[0;36mpandas.index.IndexEngine.get_value (pandas/index.c:2903)\u001b[0;34m()\u001b[0m\n",
      "\u001b[0;32mpandas/index.pyx\u001b[0m in \u001b[0;36mpandas.index.IndexEngine.get_loc (pandas/index.c:3908)\u001b[0;34m()\u001b[0m\n",
      "\u001b[0;31mKeyError\u001b[0m: 'c'"
     ]
    }
   ],
   "source": [
    "# index has dtype int, so using a string causes an error\n",
    "s2[\"c\"]"
   ]
  },
  {
   "cell_type": "code",
   "execution_count": 78,
   "metadata": {
    "collapsed": false
   },
   "outputs": [
    {
     "data": {
      "text/plain": [
       "a           5\n",
       "b           6\n",
       "penguin   NaN\n",
       "dtype: float64"
      ]
     },
     "execution_count": 78,
     "metadata": {},
     "output_type": "execute_result"
    }
   ],
   "source": [
    "# similar behavior for lists of strings\n",
    "s1[[\"a\", \"b\", \"penguin\"]]"
   ]
  },
  {
   "cell_type": "code",
   "execution_count": 80,
   "metadata": {
    "collapsed": false
   },
   "outputs": [
    {
     "data": {
      "text/plain": [
       "a   NaN\n",
       "b   NaN\n",
       "dtype: float64"
      ]
     },
     "execution_count": 80,
     "metadata": {},
     "output_type": "execute_result"
    }
   ],
   "source": [
    "# index has dtype int, so list of strings returns NaN's everywhere\n",
    "s2[[\"a\", \"b\"]]"
   ]
  },
  {
   "cell_type": "code",
   "execution_count": 81,
   "metadata": {
    "collapsed": false
   },
   "outputs": [
    {
     "data": {
      "text/plain": [
       "a    5\n",
       "d    8\n",
       "dtype: int64"
      ]
     },
     "execution_count": 81,
     "metadata": {},
     "output_type": "execute_result"
    }
   ],
   "source": [
    "# lists of True/False work the same for any dtype of index\n",
    "bools = [True, False, False, True]\n",
    "s1[bools]"
   ]
  },
  {
   "cell_type": "code",
   "execution_count": 82,
   "metadata": {
    "collapsed": false
   },
   "outputs": [
    {
     "data": {
      "text/plain": [
       "0      50\n",
       "999    80\n",
       "dtype: int64"
      ]
     },
     "execution_count": 82,
     "metadata": {},
     "output_type": "execute_result"
    }
   ],
   "source": [
    "s2[bools]"
   ]
  },
  {
   "cell_type": "markdown",
   "metadata": {},
   "source": [
    "<a id='boolean'></a>"
   ]
  },
  {
   "cell_type": "markdown",
   "metadata": {},
   "source": [
    "## Boolean selection  \n",
    "\n",
    "This is mostly what we do:  we choose observations that satisfy one or more conditions.  Boolean selection consists of two steps that we typically combine in one statement:\n",
    "\n",
    "* Use a comparison to construct a Boolean variable consisting of True and False.  \n",
    "* Compute `df[comparison]`, where `df` is a dataframe and `comparison` is a comparison.  This will select the observations (rows) for which `comparison` is true and throw away the others. \n",
    "\n",
    "We work through this one step at a time:  \n",
    "\n",
    "* Example:  apply the want operator  \n",
    "* Comparisons for dataframes \n",
    "* Boolean selection:  select observations for which the comparison is `True`\n",
    "* The `isin` method\n",
    "\n",
    "This is easier to describe with an example.  "
   ]
  },
  {
   "cell_type": "markdown",
   "metadata": {},
   "source": [
    "### Example:  Apply the want operator to WEO\n",
    "\n",
    "Our **want** here is to take the `weo` dataframe and extract government debt and deficits for a given set of countries.  Putting this to work involves several steps.  \n",
    "\n",
    "Here's the head of the dataframe to remind us what we're dealing with.  "
   ]
  },
  {
   "cell_type": "code",
   "execution_count": 46,
   "metadata": {
    "collapsed": false
   },
   "outputs": [
    {
     "data": {
      "text/html": [
       "<div>\n",
       "<table border=\"1\" class=\"dataframe\">\n",
       "  <thead>\n",
       "    <tr style=\"text-align: right;\">\n",
       "      <th></th>\n",
       "      <th>ISO</th>\n",
       "      <th>WEO Subject Code</th>\n",
       "      <th>Country</th>\n",
       "      <th>Subject Descriptor</th>\n",
       "      <th>Units</th>\n",
       "      <th>2011</th>\n",
       "      <th>2012</th>\n",
       "      <th>2013</th>\n",
       "      <th>2014</th>\n",
       "      <th>2015</th>\n",
       "    </tr>\n",
       "  </thead>\n",
       "  <tbody>\n",
       "    <tr>\n",
       "      <th>0</th>\n",
       "      <td>AFG</td>\n",
       "      <td>NGDP_R</td>\n",
       "      <td>Afghanistan</td>\n",
       "      <td>Gross domestic product, constant prices</td>\n",
       "      <td>National currency</td>\n",
       "      <td>386.368</td>\n",
       "      <td>440.336</td>\n",
       "      <td>457.654</td>\n",
       "      <td>463.520</td>\n",
       "      <td>472.981</td>\n",
       "    </tr>\n",
       "    <tr>\n",
       "      <th>1</th>\n",
       "      <td>AFG</td>\n",
       "      <td>NGDP_RPCH</td>\n",
       "      <td>Afghanistan</td>\n",
       "      <td>Gross domestic product, constant prices</td>\n",
       "      <td>Percent change</td>\n",
       "      <td>6.479</td>\n",
       "      <td>13.968</td>\n",
       "      <td>3.933</td>\n",
       "      <td>1.282</td>\n",
       "      <td>2.041</td>\n",
       "    </tr>\n",
       "    <tr>\n",
       "      <th>2</th>\n",
       "      <td>AFG</td>\n",
       "      <td>NGDP</td>\n",
       "      <td>Afghanistan</td>\n",
       "      <td>Gross domestic product, current prices</td>\n",
       "      <td>National currency</td>\n",
       "      <td>836.222</td>\n",
       "      <td>1033.591</td>\n",
       "      <td>1116.827</td>\n",
       "      <td>1173.182</td>\n",
       "      <td>1172.361</td>\n",
       "    </tr>\n",
       "    <tr>\n",
       "      <th>3</th>\n",
       "      <td>AFG</td>\n",
       "      <td>NGDPD</td>\n",
       "      <td>Afghanistan</td>\n",
       "      <td>Gross domestic product, current prices</td>\n",
       "      <td>U.S. dollars</td>\n",
       "      <td>17.890</td>\n",
       "      <td>20.296</td>\n",
       "      <td>20.170</td>\n",
       "      <td>20.444</td>\n",
       "      <td>19.681</td>\n",
       "    </tr>\n",
       "    <tr>\n",
       "      <th>4</th>\n",
       "      <td>AFG</td>\n",
       "      <td>NGDP_D</td>\n",
       "      <td>Afghanistan</td>\n",
       "      <td>Gross domestic product, deflator</td>\n",
       "      <td>Index</td>\n",
       "      <td>216.432</td>\n",
       "      <td>234.728</td>\n",
       "      <td>244.033</td>\n",
       "      <td>253.103</td>\n",
       "      <td>247.866</td>\n",
       "    </tr>\n",
       "  </tbody>\n",
       "</table>\n",
       "</div>"
      ],
      "text/plain": [
       "   ISO WEO Subject Code      Country                       Subject Descriptor  \\\n",
       "0  AFG           NGDP_R  Afghanistan  Gross domestic product, constant prices   \n",
       "1  AFG        NGDP_RPCH  Afghanistan  Gross domestic product, constant prices   \n",
       "2  AFG             NGDP  Afghanistan   Gross domestic product, current prices   \n",
       "3  AFG            NGDPD  Afghanistan   Gross domestic product, current prices   \n",
       "4  AFG           NGDP_D  Afghanistan         Gross domestic product, deflator   \n",
       "\n",
       "               Units     2011      2012      2013      2014      2015  \n",
       "0  National currency  386.368   440.336   457.654   463.520   472.981  \n",
       "1     Percent change    6.479    13.968     3.933     1.282     2.041  \n",
       "2  National currency  836.222  1033.591  1116.827  1173.182  1172.361  \n",
       "3       U.S. dollars   17.890    20.296    20.170    20.444    19.681  \n",
       "4              Index  216.432   234.728   244.033   253.103   247.866  "
      ]
     },
     "execution_count": 46,
     "metadata": {},
     "output_type": "execute_result"
    }
   ],
   "source": [
    "weo.head()"
   ]
  },
  {
   "cell_type": "markdown",
   "metadata": {
    "collapsed": true
   },
   "source": [
    "**Find variable and country codes.** Which ones do we want?  Let's start by seeing that's available.  Here we create special dataframes that include all the variables and their definitions and all the countries.  \n",
    "\n",
    "Note the use of the `drop_duplicates` method, which does what it sounds like.    "
   ]
  },
  {
   "cell_type": "code",
   "execution_count": 47,
   "metadata": {
    "collapsed": false,
    "scrolled": true
   },
   "outputs": [
    {
     "name": "stdout",
     "output_type": "stream",
     "text": [
      "Number of variables:  45\n"
     ]
    },
    {
     "data": {
      "text/html": [
       "<div>\n",
       "<table border=\"1\" class=\"dataframe\">\n",
       "  <thead>\n",
       "    <tr style=\"text-align: right;\">\n",
       "      <th></th>\n",
       "      <th>WEO Subject Code</th>\n",
       "      <th>Subject Descriptor</th>\n",
       "      <th>Units</th>\n",
       "    </tr>\n",
       "  </thead>\n",
       "  <tbody>\n",
       "    <tr>\n",
       "      <th>0</th>\n",
       "      <td>NGDP_R</td>\n",
       "      <td>Gross domestic product, constant prices</td>\n",
       "      <td>National currency</td>\n",
       "    </tr>\n",
       "    <tr>\n",
       "      <th>1</th>\n",
       "      <td>NGDP_RPCH</td>\n",
       "      <td>Gross domestic product, constant prices</td>\n",
       "      <td>Percent change</td>\n",
       "    </tr>\n",
       "    <tr>\n",
       "      <th>2</th>\n",
       "      <td>NGDP</td>\n",
       "      <td>Gross domestic product, current prices</td>\n",
       "      <td>National currency</td>\n",
       "    </tr>\n",
       "    <tr>\n",
       "      <th>3</th>\n",
       "      <td>NGDPD</td>\n",
       "      <td>Gross domestic product, current prices</td>\n",
       "      <td>U.S. dollars</td>\n",
       "    </tr>\n",
       "    <tr>\n",
       "      <th>4</th>\n",
       "      <td>NGDP_D</td>\n",
       "      <td>Gross domestic product, deflator</td>\n",
       "      <td>Index</td>\n",
       "    </tr>\n",
       "  </tbody>\n",
       "</table>\n",
       "</div>"
      ],
      "text/plain": [
       "  WEO Subject Code                       Subject Descriptor              Units\n",
       "0           NGDP_R  Gross domestic product, constant prices  National currency\n",
       "1        NGDP_RPCH  Gross domestic product, constant prices     Percent change\n",
       "2             NGDP   Gross domestic product, current prices  National currency\n",
       "3            NGDPD   Gross domestic product, current prices       U.S. dollars\n",
       "4           NGDP_D         Gross domestic product, deflator              Index"
      ]
     },
     "execution_count": 47,
     "metadata": {},
     "output_type": "execute_result"
    }
   ],
   "source": [
    "variable_list = weo[['WEO Subject Code', 'Subject Descriptor', 'Units']].drop_duplicates()\n",
    "print('Number of variables: ', variable_list.shape[0])\n",
    "variable_list.head()"
   ]
  },
  {
   "cell_type": "code",
   "execution_count": 48,
   "metadata": {
    "collapsed": false
   },
   "outputs": [
    {
     "name": "stdout",
     "output_type": "stream",
     "text": [
      "Number of countries:  190\n"
     ]
    },
    {
     "data": {
      "text/html": [
       "<div>\n",
       "<table border=\"1\" class=\"dataframe\">\n",
       "  <thead>\n",
       "    <tr style=\"text-align: right;\">\n",
       "      <th></th>\n",
       "      <th>ISO</th>\n",
       "      <th>Country</th>\n",
       "    </tr>\n",
       "  </thead>\n",
       "  <tbody>\n",
       "    <tr>\n",
       "      <th>0</th>\n",
       "      <td>AFG</td>\n",
       "      <td>Afghanistan</td>\n",
       "    </tr>\n",
       "    <tr>\n",
       "      <th>44</th>\n",
       "      <td>ALB</td>\n",
       "      <td>Albania</td>\n",
       "    </tr>\n",
       "    <tr>\n",
       "      <th>88</th>\n",
       "      <td>DZA</td>\n",
       "      <td>Algeria</td>\n",
       "    </tr>\n",
       "    <tr>\n",
       "      <th>132</th>\n",
       "      <td>AGO</td>\n",
       "      <td>Angola</td>\n",
       "    </tr>\n",
       "    <tr>\n",
       "      <th>176</th>\n",
       "      <td>ATG</td>\n",
       "      <td>Antigua and Barbuda</td>\n",
       "    </tr>\n",
       "  </tbody>\n",
       "</table>\n",
       "</div>"
      ],
      "text/plain": [
       "     ISO              Country\n",
       "0    AFG          Afghanistan\n",
       "44   ALB              Albania\n",
       "88   DZA              Algeria\n",
       "132  AGO               Angola\n",
       "176  ATG  Antigua and Barbuda"
      ]
     },
     "execution_count": 48,
     "metadata": {},
     "output_type": "execute_result"
    }
   ],
   "source": [
    "country_list = weo[['ISO', 'Country']].drop_duplicates()\n",
    "print('Number of countries: ', country_list.shape[0])\n",
    "country_list.head()"
   ]
  },
  {
   "cell_type": "markdown",
   "metadata": {},
   "source": [
    "**Exercise.** \n",
    "\n",
    "* Construct a list of countries with `countries = weo[['ISO', 'Country']]`; that is, without applying the `drop_duplicates` method.  How large is it?  How many duplicates have we dropped?  \n",
    "* What are the country codes (`ISO`) for Argentina and the United States?  \n",
    "* What are the variable codes (`WEO Subject Code`) for government debt (gross debt, percent of GDP) and net lending/borrowing (also percent of GDP)?  "
   ]
  },
  {
   "cell_type": "code",
   "execution_count": null,
   "metadata": {
    "collapsed": true
   },
   "outputs": [],
   "source": []
  },
  {
   "cell_type": "code",
   "execution_count": null,
   "metadata": {
    "collapsed": true
   },
   "outputs": [],
   "source": []
  },
  {
   "cell_type": "markdown",
   "metadata": {},
   "source": [
    "**Comment.** Now that we have the country and variable codes, we can be more explicit about what we want.  We want observations with those country and variable codes.  \n",
    "\n",
    "We work up to the solution one step at a time.  "
   ]
  },
  {
   "cell_type": "code",
   "execution_count": null,
   "metadata": {
    "collapsed": false
   },
   "outputs": [],
   "source": []
  },
  {
   "cell_type": "markdown",
   "metadata": {},
   "source": [
    "### Comparisons for series \n",
    "\n",
    "We can construct comparisons for series (dataframe columns) much as we did with simple variables.  The difference is that we get a complete column of True/False responses, not just one.  \n",
    "\n",
    "Mutiple comparisons have a different syntax than we saw earlier: `and` is replaced by `&`, and `or` is replaced by `|`.  And when we have more than one comparison, we need to enclose them in parentheses.  "
   ]
  },
  {
   "cell_type": "markdown",
   "metadata": {},
   "source": [
    "**Examples.**  Consider the comparisons:  \n",
    "\n",
    "* `small['Units'] == 'National currency'`\n",
    "* `small['2011'] >= 100`\n",
    "* `(small['Units'] == 'National currency') & (small['2011'] >= 100)`\n",
    "* `(small['Units'] == 'National currency') | (small['2011'] >= 100)`\n",
    "\n",
    "Remind yourself what the `&` and `|` do."
   ]
  },
  {
   "cell_type": "code",
   "execution_count": 49,
   "metadata": {
    "collapsed": false
   },
   "outputs": [
    {
     "data": {
      "text/plain": [
       "0     True\n",
       "1    False\n",
       "2     True\n",
       "3    False\n",
       "4    False\n",
       "Name: Units, dtype: bool"
      ]
     },
     "execution_count": 49,
     "metadata": {},
     "output_type": "execute_result"
    }
   ],
   "source": [
    "small['Units'] == 'National currency'"
   ]
  },
  {
   "cell_type": "code",
   "execution_count": 50,
   "metadata": {
    "collapsed": false
   },
   "outputs": [
    {
     "data": {
      "text/plain": [
       "0     True\n",
       "1    False\n",
       "2     True\n",
       "3    False\n",
       "4     True\n",
       "Name: 2011, dtype: bool"
      ]
     },
     "execution_count": 50,
     "metadata": {},
     "output_type": "execute_result"
    }
   ],
   "source": [
    "small['2011'] >= 100"
   ]
  },
  {
   "cell_type": "code",
   "execution_count": 51,
   "metadata": {
    "collapsed": false
   },
   "outputs": [
    {
     "data": {
      "text/plain": [
       "0     True\n",
       "1    False\n",
       "2     True\n",
       "3    False\n",
       "4    False\n",
       "dtype: bool"
      ]
     },
     "execution_count": 51,
     "metadata": {},
     "output_type": "execute_result"
    }
   ],
   "source": [
    "(small['Units'] == 'National currency') & (small['2011'] >= 100)"
   ]
  },
  {
   "cell_type": "code",
   "execution_count": 52,
   "metadata": {
    "collapsed": false
   },
   "outputs": [
    {
     "data": {
      "text/plain": [
       "0     True\n",
       "1    False\n",
       "2     True\n",
       "3    False\n",
       "4     True\n",
       "dtype: bool"
      ]
     },
     "execution_count": 52,
     "metadata": {},
     "output_type": "execute_result"
    }
   ],
   "source": [
    "(small['Units'] == 'National currency') | (small['2011'] >= 100)"
   ]
  },
  {
   "cell_type": "code",
   "execution_count": null,
   "metadata": {
    "collapsed": true
   },
   "outputs": [],
   "source": []
  },
  {
   "cell_type": "markdown",
   "metadata": {},
   "source": [
    "### Boolean selection\n",
    "\n",
    "Boolean selection simply chooses those observations for which a condition is `True`.  Some people refer to this as filtering.  The syntax is \n",
    "\n",
    "```python\n",
    "df[comparison]\n",
    "```\n",
    "\n",
    "The result is a new dataframe of observations in which `comparison` is true.  "
   ]
  },
  {
   "cell_type": "markdown",
   "metadata": {},
   "source": [
    "**Example.**  We choose obervations for which the units are `'National currency'`.  We do this first in two steps, then in one.  "
   ]
  },
  {
   "cell_type": "code",
   "execution_count": 69,
   "metadata": {
    "collapsed": false
   },
   "outputs": [
    {
     "data": {
      "text/html": [
       "<div>\n",
       "<table border=\"1\" class=\"dataframe\">\n",
       "  <thead>\n",
       "    <tr style=\"text-align: right;\">\n",
       "      <th></th>\n",
       "      <th>ISO</th>\n",
       "      <th>WEO Subject Code</th>\n",
       "      <th>Country</th>\n",
       "      <th>Subject Descriptor</th>\n",
       "      <th>Units</th>\n",
       "      <th>2011</th>\n",
       "      <th>2012</th>\n",
       "      <th>2013</th>\n",
       "      <th>2014</th>\n",
       "      <th>2015</th>\n",
       "    </tr>\n",
       "  </thead>\n",
       "  <tbody>\n",
       "    <tr>\n",
       "      <th>0</th>\n",
       "      <td>AFG</td>\n",
       "      <td>NGDP_R</td>\n",
       "      <td>Afghanistan</td>\n",
       "      <td>Gross domestic product, constant prices</td>\n",
       "      <td>National currency</td>\n",
       "      <td>386.368</td>\n",
       "      <td>440.336</td>\n",
       "      <td>457.654</td>\n",
       "      <td>463.520</td>\n",
       "      <td>472.981</td>\n",
       "    </tr>\n",
       "    <tr>\n",
       "      <th>1</th>\n",
       "      <td>AFG</td>\n",
       "      <td>NGDP_RPCH</td>\n",
       "      <td>Afghanistan</td>\n",
       "      <td>Gross domestic product, constant prices</td>\n",
       "      <td>Percent change</td>\n",
       "      <td>6.479</td>\n",
       "      <td>13.968</td>\n",
       "      <td>3.933</td>\n",
       "      <td>1.282</td>\n",
       "      <td>2.041</td>\n",
       "    </tr>\n",
       "    <tr>\n",
       "      <th>2</th>\n",
       "      <td>AFG</td>\n",
       "      <td>NGDP</td>\n",
       "      <td>Afghanistan</td>\n",
       "      <td>Gross domestic product, current prices</td>\n",
       "      <td>National currency</td>\n",
       "      <td>836.222</td>\n",
       "      <td>1033.591</td>\n",
       "      <td>1116.827</td>\n",
       "      <td>1173.182</td>\n",
       "      <td>1172.361</td>\n",
       "    </tr>\n",
       "    <tr>\n",
       "      <th>3</th>\n",
       "      <td>AFG</td>\n",
       "      <td>NGDPD</td>\n",
       "      <td>Afghanistan</td>\n",
       "      <td>Gross domestic product, current prices</td>\n",
       "      <td>U.S. dollars</td>\n",
       "      <td>17.890</td>\n",
       "      <td>20.296</td>\n",
       "      <td>20.170</td>\n",
       "      <td>20.444</td>\n",
       "      <td>19.681</td>\n",
       "    </tr>\n",
       "    <tr>\n",
       "      <th>4</th>\n",
       "      <td>AFG</td>\n",
       "      <td>NGDP_D</td>\n",
       "      <td>Afghanistan</td>\n",
       "      <td>Gross domestic product, deflator</td>\n",
       "      <td>Index</td>\n",
       "      <td>216.432</td>\n",
       "      <td>234.728</td>\n",
       "      <td>244.033</td>\n",
       "      <td>253.103</td>\n",
       "      <td>247.866</td>\n",
       "    </tr>\n",
       "  </tbody>\n",
       "</table>\n",
       "</div>"
      ],
      "text/plain": [
       "   ISO WEO Subject Code      Country                       Subject Descriptor  \\\n",
       "0  AFG           NGDP_R  Afghanistan  Gross domestic product, constant prices   \n",
       "1  AFG        NGDP_RPCH  Afghanistan  Gross domestic product, constant prices   \n",
       "2  AFG             NGDP  Afghanistan   Gross domestic product, current prices   \n",
       "3  AFG            NGDPD  Afghanistan   Gross domestic product, current prices   \n",
       "4  AFG           NGDP_D  Afghanistan         Gross domestic product, deflator   \n",
       "\n",
       "               Units     2011      2012      2013      2014      2015  \n",
       "0  National currency  386.368   440.336   457.654   463.520   472.981  \n",
       "1     Percent change    6.479    13.968     3.933     1.282     2.041  \n",
       "2  National currency  836.222  1033.591  1116.827  1173.182  1172.361  \n",
       "3       U.S. dollars   17.890    20.296    20.170    20.444    19.681  \n",
       "4              Index  216.432   234.728   244.033   253.103   247.866  "
      ]
     },
     "execution_count": 69,
     "metadata": {},
     "output_type": "execute_result"
    }
   ],
   "source": [
    "# remind ourslves what we're starting with \n",
    "small"
   ]
  },
  {
   "cell_type": "code",
   "execution_count": 68,
   "metadata": {
    "collapsed": false
   },
   "outputs": [
    {
     "name": "stdout",
     "output_type": "stream",
     "text": [
      "0     True\n",
      "1    False\n",
      "2     True\n",
      "3    False\n",
      "4    False\n",
      "Name: Units, dtype: bool\n"
     ]
    },
    {
     "data": {
      "text/html": [
       "<div>\n",
       "<table border=\"1\" class=\"dataframe\">\n",
       "  <thead>\n",
       "    <tr style=\"text-align: right;\">\n",
       "      <th></th>\n",
       "      <th>ISO</th>\n",
       "      <th>WEO Subject Code</th>\n",
       "      <th>Country</th>\n",
       "      <th>Subject Descriptor</th>\n",
       "      <th>Units</th>\n",
       "      <th>2011</th>\n",
       "      <th>2012</th>\n",
       "      <th>2013</th>\n",
       "      <th>2014</th>\n",
       "      <th>2015</th>\n",
       "    </tr>\n",
       "  </thead>\n",
       "  <tbody>\n",
       "    <tr>\n",
       "      <th>0</th>\n",
       "      <td>AFG</td>\n",
       "      <td>NGDP_R</td>\n",
       "      <td>Afghanistan</td>\n",
       "      <td>Gross domestic product, constant prices</td>\n",
       "      <td>National currency</td>\n",
       "      <td>386.368</td>\n",
       "      <td>440.336</td>\n",
       "      <td>457.654</td>\n",
       "      <td>463.520</td>\n",
       "      <td>472.981</td>\n",
       "    </tr>\n",
       "    <tr>\n",
       "      <th>2</th>\n",
       "      <td>AFG</td>\n",
       "      <td>NGDP</td>\n",
       "      <td>Afghanistan</td>\n",
       "      <td>Gross domestic product, current prices</td>\n",
       "      <td>National currency</td>\n",
       "      <td>836.222</td>\n",
       "      <td>1033.591</td>\n",
       "      <td>1116.827</td>\n",
       "      <td>1173.182</td>\n",
       "      <td>1172.361</td>\n",
       "    </tr>\n",
       "  </tbody>\n",
       "</table>\n",
       "</div>"
      ],
      "text/plain": [
       "   ISO WEO Subject Code      Country                       Subject Descriptor  \\\n",
       "0  AFG           NGDP_R  Afghanistan  Gross domestic product, constant prices   \n",
       "2  AFG             NGDP  Afghanistan   Gross domestic product, current prices   \n",
       "\n",
       "               Units     2011      2012      2013      2014      2015  \n",
       "0  National currency  386.368   440.336   457.654   463.520   472.981  \n",
       "2  National currency  836.222  1033.591  1116.827  1173.182  1172.361  "
      ]
     },
     "execution_count": 68,
     "metadata": {},
     "output_type": "execute_result"
    }
   ],
   "source": [
    "# two steps:  comparison, then selection \n",
    "ncunits = small['Units'] == 'National currency'   # comparison\n",
    "print(ncunits)\n",
    "small[ncunits]                                    # selection"
   ]
  },
  {
   "cell_type": "code",
   "execution_count": 70,
   "metadata": {
    "collapsed": false
   },
   "outputs": [
    {
     "data": {
      "text/html": [
       "<div>\n",
       "<table border=\"1\" class=\"dataframe\">\n",
       "  <thead>\n",
       "    <tr style=\"text-align: right;\">\n",
       "      <th></th>\n",
       "      <th>ISO</th>\n",
       "      <th>WEO Subject Code</th>\n",
       "      <th>Country</th>\n",
       "      <th>Subject Descriptor</th>\n",
       "      <th>Units</th>\n",
       "      <th>2011</th>\n",
       "      <th>2012</th>\n",
       "      <th>2013</th>\n",
       "      <th>2014</th>\n",
       "      <th>2015</th>\n",
       "    </tr>\n",
       "  </thead>\n",
       "  <tbody>\n",
       "    <tr>\n",
       "      <th>0</th>\n",
       "      <td>AFG</td>\n",
       "      <td>NGDP_R</td>\n",
       "      <td>Afghanistan</td>\n",
       "      <td>Gross domestic product, constant prices</td>\n",
       "      <td>National currency</td>\n",
       "      <td>386.368</td>\n",
       "      <td>440.336</td>\n",
       "      <td>457.654</td>\n",
       "      <td>463.520</td>\n",
       "      <td>472.981</td>\n",
       "    </tr>\n",
       "    <tr>\n",
       "      <th>2</th>\n",
       "      <td>AFG</td>\n",
       "      <td>NGDP</td>\n",
       "      <td>Afghanistan</td>\n",
       "      <td>Gross domestic product, current prices</td>\n",
       "      <td>National currency</td>\n",
       "      <td>836.222</td>\n",
       "      <td>1033.591</td>\n",
       "      <td>1116.827</td>\n",
       "      <td>1173.182</td>\n",
       "      <td>1172.361</td>\n",
       "    </tr>\n",
       "  </tbody>\n",
       "</table>\n",
       "</div>"
      ],
      "text/plain": [
       "   ISO WEO Subject Code      Country                       Subject Descriptor  \\\n",
       "0  AFG           NGDP_R  Afghanistan  Gross domestic product, constant prices   \n",
       "2  AFG             NGDP  Afghanistan   Gross domestic product, current prices   \n",
       "\n",
       "               Units     2011      2012      2013      2014      2015  \n",
       "0  National currency  386.368   440.336   457.654   463.520   472.981  \n",
       "2  National currency  836.222  1033.591  1116.827  1173.182  1172.361  "
      ]
     },
     "execution_count": 70,
     "metadata": {},
     "output_type": "execute_result"
    }
   ],
   "source": [
    "# put the steps together in one line \n",
    "small[small['Units'] == 'National currency']"
   ]
  },
  {
   "cell_type": "code",
   "execution_count": null,
   "metadata": {
    "collapsed": true
   },
   "outputs": [],
   "source": []
  },
  {
   "cell_type": "markdown",
   "metadata": {},
   "source": [
    "**Exercise.** Construct dataframes for which \n",
    "\n",
    "* `small['Units']` does **not** equal `'National currency'`.\n",
    "* `small['Units']` equals `'National currency'` and `small['2011']` is greater than 100.  "
   ]
  },
  {
   "cell_type": "code",
   "execution_count": null,
   "metadata": {
    "collapsed": true
   },
   "outputs": [],
   "source": []
  },
  {
   "cell_type": "code",
   "execution_count": null,
   "metadata": {
    "collapsed": true
   },
   "outputs": [],
   "source": []
  },
  {
   "cell_type": "markdown",
   "metadata": {
    "collapsed": true
   },
   "source": [
    "<a id='isin'></a>"
   ]
  },
  {
   "cell_type": "markdown",
   "metadata": {},
   "source": [
    "## The `isin` method\n",
    "\n",
    "Pay attention now, this is really useful.  Suppose we want to extract the data for which `weo['ISO'] == 'ARG'` (Argentina) or `weo['ISO'] == 'GRC'` (Greece).  We could do that by combining the comparisons:  \n",
    "\n",
    "```python\n",
    "(weo['ISO'] == 'ARG') | (weo['ISO'] == 'GRC')\n",
    "```\n",
    "\n",
    "Remind youself that `|` stands for \"or.\"  (What do we use for \"and\"?) \n",
    "\n",
    "A simpler approach is to apply the `isin` method to a variable.  This sets the comparison equal to `True` if the value of the observation is of `weo['ISO']` equals any element in a list.  We could do the same thing using mulitple comparisons, but this is a lot easier.  \n",
    "\n",
    "Let's see how this works.  "
   ]
  },
  {
   "cell_type": "markdown",
   "metadata": {},
   "source": [
    "**Example.**  Let's apply the same logic to variable codes.  If we want to extract the observations with codes \n",
    "```\n",
    "vlist = ['GGXWDG_NGDP', 'GGXCNL_NGDP']\n",
    "```\n",
    "\n",
    "we would use "
   ]
  },
  {
   "cell_type": "code",
   "execution_count": 55,
   "metadata": {
    "collapsed": false
   },
   "outputs": [
    {
     "data": {
      "text/plain": [
       "0     False\n",
       "1     False\n",
       "2     False\n",
       "3     False\n",
       "4     False\n",
       "5     False\n",
       "6     False\n",
       "7     False\n",
       "8     False\n",
       "9     False\n",
       "10    False\n",
       "11    False\n",
       "12    False\n",
       "13    False\n",
       "14    False\n",
       "15    False\n",
       "16    False\n",
       "17    False\n",
       "18    False\n",
       "19    False\n",
       "20    False\n",
       "21    False\n",
       "22    False\n",
       "23    False\n",
       "24    False\n",
       "25    False\n",
       "26    False\n",
       "27    False\n",
       "28    False\n",
       "29    False\n",
       "30    False\n",
       "31    False\n",
       "32     True\n",
       "33    False\n",
       "34    False\n",
       "35    False\n",
       "36    False\n",
       "37    False\n",
       "38    False\n",
       "39    False\n",
       "40     True\n",
       "41    False\n",
       "42    False\n",
       "43    False\n",
       "44    False\n",
       "Name: WEO Subject Code, dtype: bool"
      ]
     },
     "execution_count": 55,
     "metadata": {},
     "output_type": "execute_result"
    }
   ],
   "source": [
    "vlist = ['GGXWDG_NGDP', 'GGXCNL_NGDP']\n",
    "weo['WEO Subject Code'].isin(vlist).head(45)"
   ]
  },
  {
   "cell_type": "markdown",
   "metadata": {},
   "source": [
    "**Comment.** We're choosing 2 variables from 45, so there are lots of Falses."
   ]
  },
  {
   "cell_type": "code",
   "execution_count": null,
   "metadata": {
    "collapsed": true
   },
   "outputs": [],
   "source": []
  },
  {
   "cell_type": "code",
   "execution_count": 56,
   "metadata": {
    "collapsed": false
   },
   "outputs": [
    {
     "data": {
      "text/html": [
       "<div>\n",
       "<table border=\"1\" class=\"dataframe\">\n",
       "  <thead>\n",
       "    <tr style=\"text-align: right;\">\n",
       "      <th></th>\n",
       "      <th>ISO</th>\n",
       "      <th>WEO Subject Code</th>\n",
       "      <th>Country</th>\n",
       "      <th>Subject Descriptor</th>\n",
       "      <th>Units</th>\n",
       "      <th>2011</th>\n",
       "      <th>2012</th>\n",
       "      <th>2013</th>\n",
       "      <th>2014</th>\n",
       "      <th>2015</th>\n",
       "    </tr>\n",
       "  </thead>\n",
       "  <tbody>\n",
       "    <tr>\n",
       "      <th>32</th>\n",
       "      <td>AFG</td>\n",
       "      <td>GGXCNL_NGDP</td>\n",
       "      <td>Afghanistan</td>\n",
       "      <td>General government net lending/borrowing</td>\n",
       "      <td>Percent of GDP</td>\n",
       "      <td>-0.646</td>\n",
       "      <td>0.182</td>\n",
       "      <td>-0.629</td>\n",
       "      <td>-1.733</td>\n",
       "      <td>-0.251</td>\n",
       "    </tr>\n",
       "    <tr>\n",
       "      <th>40</th>\n",
       "      <td>AFG</td>\n",
       "      <td>GGXWDG_NGDP</td>\n",
       "      <td>Afghanistan</td>\n",
       "      <td>General government gross debt</td>\n",
       "      <td>Percent of GDP</td>\n",
       "      <td>NaN</td>\n",
       "      <td>NaN</td>\n",
       "      <td>NaN</td>\n",
       "      <td>NaN</td>\n",
       "      <td>NaN</td>\n",
       "    </tr>\n",
       "    <tr>\n",
       "      <th>76</th>\n",
       "      <td>ALB</td>\n",
       "      <td>GGXCNL_NGDP</td>\n",
       "      <td>Albania</td>\n",
       "      <td>General government net lending/borrowing</td>\n",
       "      <td>Percent of GDP</td>\n",
       "      <td>-3.516</td>\n",
       "      <td>-3.434</td>\n",
       "      <td>-5.159</td>\n",
       "      <td>-5.414</td>\n",
       "      <td>-5.074</td>\n",
       "    </tr>\n",
       "    <tr>\n",
       "      <th>84</th>\n",
       "      <td>ALB</td>\n",
       "      <td>GGXWDG_NGDP</td>\n",
       "      <td>Albania</td>\n",
       "      <td>General government gross debt</td>\n",
       "      <td>Percent of GDP</td>\n",
       "      <td>59.413</td>\n",
       "      <td>62.020</td>\n",
       "      <td>70.091</td>\n",
       "      <td>72.522</td>\n",
       "      <td>73.305</td>\n",
       "    </tr>\n",
       "    <tr>\n",
       "      <th>120</th>\n",
       "      <td>DZA</td>\n",
       "      <td>GGXCNL_NGDP</td>\n",
       "      <td>Algeria</td>\n",
       "      <td>General government net lending/borrowing</td>\n",
       "      <td>Percent of GDP</td>\n",
       "      <td>-0.436</td>\n",
       "      <td>-4.089</td>\n",
       "      <td>-0.400</td>\n",
       "      <td>-7.331</td>\n",
       "      <td>-13.682</td>\n",
       "    </tr>\n",
       "    <tr>\n",
       "      <th>128</th>\n",
       "      <td>DZA</td>\n",
       "      <td>GGXWDG_NGDP</td>\n",
       "      <td>Algeria</td>\n",
       "      <td>General government gross debt</td>\n",
       "      <td>Percent of GDP</td>\n",
       "      <td>9.942</td>\n",
       "      <td>9.944</td>\n",
       "      <td>8.278</td>\n",
       "      <td>8.788</td>\n",
       "      <td>10.188</td>\n",
       "    </tr>\n",
       "  </tbody>\n",
       "</table>\n",
       "</div>"
      ],
      "text/plain": [
       "     ISO WEO Subject Code      Country  \\\n",
       "32   AFG      GGXCNL_NGDP  Afghanistan   \n",
       "40   AFG      GGXWDG_NGDP  Afghanistan   \n",
       "76   ALB      GGXCNL_NGDP      Albania   \n",
       "84   ALB      GGXWDG_NGDP      Albania   \n",
       "120  DZA      GGXCNL_NGDP      Algeria   \n",
       "128  DZA      GGXWDG_NGDP      Algeria   \n",
       "\n",
       "                           Subject Descriptor           Units    2011    2012  \\\n",
       "32   General government net lending/borrowing  Percent of GDP  -0.646   0.182   \n",
       "40              General government gross debt  Percent of GDP     NaN     NaN   \n",
       "76   General government net lending/borrowing  Percent of GDP  -3.516  -3.434   \n",
       "84              General government gross debt  Percent of GDP  59.413  62.020   \n",
       "120  General government net lending/borrowing  Percent of GDP  -0.436  -4.089   \n",
       "128             General government gross debt  Percent of GDP   9.942   9.944   \n",
       "\n",
       "       2013    2014    2015  \n",
       "32   -0.629  -1.733  -0.251  \n",
       "40      NaN     NaN     NaN  \n",
       "76   -5.159  -5.414  -5.074  \n",
       "84   70.091  72.522  73.305  \n",
       "120  -0.400  -7.331 -13.682  \n",
       "128   8.278   8.788  10.188  "
      ]
     },
     "execution_count": 56,
     "metadata": {},
     "output_type": "execute_result"
    }
   ],
   "source": [
    "# this time let's use the result of isin for selection \n",
    "vlist = ['GGXWDG_NGDP', 'GGXCNL_NGDP']\n",
    "weo[weo['WEO Subject Code'].isin(vlist)].head(6)"
   ]
  },
  {
   "cell_type": "code",
   "execution_count": 57,
   "metadata": {
    "collapsed": false
   },
   "outputs": [
    {
     "data": {
      "text/html": [
       "<div>\n",
       "<table border=\"1\" class=\"dataframe\">\n",
       "  <thead>\n",
       "    <tr style=\"text-align: right;\">\n",
       "      <th></th>\n",
       "      <th>ISO</th>\n",
       "      <th>WEO Subject Code</th>\n",
       "      <th>Country</th>\n",
       "      <th>Subject Descriptor</th>\n",
       "      <th>Units</th>\n",
       "      <th>2011</th>\n",
       "      <th>2012</th>\n",
       "      <th>2013</th>\n",
       "      <th>2014</th>\n",
       "      <th>2015</th>\n",
       "    </tr>\n",
       "  </thead>\n",
       "  <tbody>\n",
       "    <tr>\n",
       "      <th>32</th>\n",
       "      <td>AFG</td>\n",
       "      <td>GGXCNL_NGDP</td>\n",
       "      <td>Afghanistan</td>\n",
       "      <td>General government net lending/borrowing</td>\n",
       "      <td>Percent of GDP</td>\n",
       "      <td>-0.646</td>\n",
       "      <td>0.182</td>\n",
       "      <td>-0.629</td>\n",
       "      <td>-1.733</td>\n",
       "      <td>-0.251</td>\n",
       "    </tr>\n",
       "    <tr>\n",
       "      <th>40</th>\n",
       "      <td>AFG</td>\n",
       "      <td>GGXWDG_NGDP</td>\n",
       "      <td>Afghanistan</td>\n",
       "      <td>General government gross debt</td>\n",
       "      <td>Percent of GDP</td>\n",
       "      <td>NaN</td>\n",
       "      <td>NaN</td>\n",
       "      <td>NaN</td>\n",
       "      <td>NaN</td>\n",
       "      <td>NaN</td>\n",
       "    </tr>\n",
       "    <tr>\n",
       "      <th>76</th>\n",
       "      <td>ALB</td>\n",
       "      <td>GGXCNL_NGDP</td>\n",
       "      <td>Albania</td>\n",
       "      <td>General government net lending/borrowing</td>\n",
       "      <td>Percent of GDP</td>\n",
       "      <td>-3.516</td>\n",
       "      <td>-3.434</td>\n",
       "      <td>-5.159</td>\n",
       "      <td>-5.414</td>\n",
       "      <td>-5.074</td>\n",
       "    </tr>\n",
       "    <tr>\n",
       "      <th>84</th>\n",
       "      <td>ALB</td>\n",
       "      <td>GGXWDG_NGDP</td>\n",
       "      <td>Albania</td>\n",
       "      <td>General government gross debt</td>\n",
       "      <td>Percent of GDP</td>\n",
       "      <td>59.413</td>\n",
       "      <td>62.020</td>\n",
       "      <td>70.091</td>\n",
       "      <td>72.522</td>\n",
       "      <td>73.305</td>\n",
       "    </tr>\n",
       "    <tr>\n",
       "      <th>120</th>\n",
       "      <td>DZA</td>\n",
       "      <td>GGXCNL_NGDP</td>\n",
       "      <td>Algeria</td>\n",
       "      <td>General government net lending/borrowing</td>\n",
       "      <td>Percent of GDP</td>\n",
       "      <td>-0.436</td>\n",
       "      <td>-4.089</td>\n",
       "      <td>-0.400</td>\n",
       "      <td>-7.331</td>\n",
       "      <td>-13.682</td>\n",
       "    </tr>\n",
       "    <tr>\n",
       "      <th>128</th>\n",
       "      <td>DZA</td>\n",
       "      <td>GGXWDG_NGDP</td>\n",
       "      <td>Algeria</td>\n",
       "      <td>General government gross debt</td>\n",
       "      <td>Percent of GDP</td>\n",
       "      <td>9.942</td>\n",
       "      <td>9.944</td>\n",
       "      <td>8.278</td>\n",
       "      <td>8.788</td>\n",
       "      <td>10.188</td>\n",
       "    </tr>\n",
       "  </tbody>\n",
       "</table>\n",
       "</div>"
      ],
      "text/plain": [
       "     ISO WEO Subject Code      Country  \\\n",
       "32   AFG      GGXCNL_NGDP  Afghanistan   \n",
       "40   AFG      GGXWDG_NGDP  Afghanistan   \n",
       "76   ALB      GGXCNL_NGDP      Albania   \n",
       "84   ALB      GGXWDG_NGDP      Albania   \n",
       "120  DZA      GGXCNL_NGDP      Algeria   \n",
       "128  DZA      GGXWDG_NGDP      Algeria   \n",
       "\n",
       "                           Subject Descriptor           Units    2011    2012  \\\n",
       "32   General government net lending/borrowing  Percent of GDP  -0.646   0.182   \n",
       "40              General government gross debt  Percent of GDP     NaN     NaN   \n",
       "76   General government net lending/borrowing  Percent of GDP  -3.516  -3.434   \n",
       "84              General government gross debt  Percent of GDP  59.413  62.020   \n",
       "120  General government net lending/borrowing  Percent of GDP  -0.436  -4.089   \n",
       "128             General government gross debt  Percent of GDP   9.942   9.944   \n",
       "\n",
       "       2013    2014    2015  \n",
       "32   -0.629  -1.733  -0.251  \n",
       "40      NaN     NaN     NaN  \n",
       "76   -5.159  -5.414  -5.074  \n",
       "84   70.091  72.522  73.305  \n",
       "120  -0.400  -7.331 -13.682  \n",
       "128   8.278   8.788  10.188  "
      ]
     },
     "execution_count": 57,
     "metadata": {},
     "output_type": "execute_result"
    }
   ],
   "source": [
    "# we've combined several things in one line\n",
    "comparison = weo['WEO Subject Code'].isin(vlist) \n",
    "selection  = weo[comparison]\n",
    "selection.head(6)"
   ]
  },
  {
   "cell_type": "code",
   "execution_count": null,
   "metadata": {
    "collapsed": true
   },
   "outputs": [],
   "source": []
  },
  {
   "cell_type": "markdown",
   "metadata": {},
   "source": [
    "**Comment.** We can do the same thing with countries.  If we want to choose two variables **and** three countries, the code looks like:  "
   ]
  },
  {
   "cell_type": "code",
   "execution_count": 58,
   "metadata": {
    "collapsed": false
   },
   "outputs": [
    {
     "data": {
      "text/html": [
       "<div>\n",
       "<table border=\"1\" class=\"dataframe\">\n",
       "  <thead>\n",
       "    <tr style=\"text-align: right;\">\n",
       "      <th></th>\n",
       "      <th>ISO</th>\n",
       "      <th>WEO Subject Code</th>\n",
       "      <th>Country</th>\n",
       "      <th>Subject Descriptor</th>\n",
       "      <th>Units</th>\n",
       "      <th>2011</th>\n",
       "      <th>2012</th>\n",
       "      <th>2013</th>\n",
       "      <th>2014</th>\n",
       "      <th>2015</th>\n",
       "    </tr>\n",
       "  </thead>\n",
       "  <tbody>\n",
       "    <tr>\n",
       "      <th>252</th>\n",
       "      <td>ARG</td>\n",
       "      <td>GGXCNL_NGDP</td>\n",
       "      <td>Argentina</td>\n",
       "      <td>General government net lending/borrowing</td>\n",
       "      <td>Percent of GDP</td>\n",
       "      <td>-1.949</td>\n",
       "      <td>-2.359</td>\n",
       "      <td>-1.997</td>\n",
       "      <td>-2.689</td>\n",
       "      <td>-4.852</td>\n",
       "    </tr>\n",
       "    <tr>\n",
       "      <th>260</th>\n",
       "      <td>ARG</td>\n",
       "      <td>GGXWDG_NGDP</td>\n",
       "      <td>Argentina</td>\n",
       "      <td>General government gross debt</td>\n",
       "      <td>Percent of GDP</td>\n",
       "      <td>35.763</td>\n",
       "      <td>37.328</td>\n",
       "      <td>40.217</td>\n",
       "      <td>45.282</td>\n",
       "      <td>52.137</td>\n",
       "    </tr>\n",
       "    <tr>\n",
       "      <th>2716</th>\n",
       "      <td>DEU</td>\n",
       "      <td>GGXCNL_NGDP</td>\n",
       "      <td>Germany</td>\n",
       "      <td>General government net lending/borrowing</td>\n",
       "      <td>Percent of GDP</td>\n",
       "      <td>-0.861</td>\n",
       "      <td>0.091</td>\n",
       "      <td>0.133</td>\n",
       "      <td>0.306</td>\n",
       "      <td>0.511</td>\n",
       "    </tr>\n",
       "    <tr>\n",
       "      <th>2724</th>\n",
       "      <td>DEU</td>\n",
       "      <td>GGXWDG_NGDP</td>\n",
       "      <td>Germany</td>\n",
       "      <td>General government gross debt</td>\n",
       "      <td>Percent of GDP</td>\n",
       "      <td>77.928</td>\n",
       "      <td>79.311</td>\n",
       "      <td>76.978</td>\n",
       "      <td>74.621</td>\n",
       "      <td>70.746</td>\n",
       "    </tr>\n",
       "    <tr>\n",
       "      <th>2804</th>\n",
       "      <td>GRC</td>\n",
       "      <td>GGXCNL_NGDP</td>\n",
       "      <td>Greece</td>\n",
       "      <td>General government net lending/borrowing</td>\n",
       "      <td>Percent of GDP</td>\n",
       "      <td>-10.215</td>\n",
       "      <td>-6.406</td>\n",
       "      <td>-2.944</td>\n",
       "      <td>-3.914</td>\n",
       "      <td>-4.171</td>\n",
       "    </tr>\n",
       "    <tr>\n",
       "      <th>2812</th>\n",
       "      <td>GRC</td>\n",
       "      <td>GGXWDG_NGDP</td>\n",
       "      <td>Greece</td>\n",
       "      <td>General government gross debt</td>\n",
       "      <td>Percent of GDP</td>\n",
       "      <td>170.960</td>\n",
       "      <td>156.494</td>\n",
       "      <td>174.951</td>\n",
       "      <td>177.054</td>\n",
       "      <td>196.950</td>\n",
       "    </tr>\n",
       "  </tbody>\n",
       "</table>\n",
       "</div>"
      ],
      "text/plain": [
       "      ISO WEO Subject Code    Country  \\\n",
       "252   ARG      GGXCNL_NGDP  Argentina   \n",
       "260   ARG      GGXWDG_NGDP  Argentina   \n",
       "2716  DEU      GGXCNL_NGDP    Germany   \n",
       "2724  DEU      GGXWDG_NGDP    Germany   \n",
       "2804  GRC      GGXCNL_NGDP     Greece   \n",
       "2812  GRC      GGXWDG_NGDP     Greece   \n",
       "\n",
       "                            Subject Descriptor           Units     2011  \\\n",
       "252   General government net lending/borrowing  Percent of GDP   -1.949   \n",
       "260              General government gross debt  Percent of GDP   35.763   \n",
       "2716  General government net lending/borrowing  Percent of GDP   -0.861   \n",
       "2724             General government gross debt  Percent of GDP   77.928   \n",
       "2804  General government net lending/borrowing  Percent of GDP  -10.215   \n",
       "2812             General government gross debt  Percent of GDP  170.960   \n",
       "\n",
       "         2012     2013     2014     2015  \n",
       "252    -2.359   -1.997   -2.689   -4.852  \n",
       "260    37.328   40.217   45.282   52.137  \n",
       "2716    0.091    0.133    0.306    0.511  \n",
       "2724   79.311   76.978   74.621   70.746  \n",
       "2804   -6.406   -2.944   -3.914   -4.171  \n",
       "2812  156.494  174.951  177.054  196.950  "
      ]
     },
     "execution_count": 58,
     "metadata": {},
     "output_type": "execute_result"
    }
   ],
   "source": [
    "variables = ['GGXWDG_NGDP', 'GGXCNL_NGDP']\n",
    "countries = ['ARG', 'DEU', 'GRC']\n",
    "weo_sub = weo[weo['WEO Subject Code'].isin(variables) & weo['ISO'].isin(countries)]\n",
    "weo_sub"
   ]
  },
  {
   "cell_type": "markdown",
   "metadata": {},
   "source": [
    "**Comments.**\n",
    "\n",
    "* We've now done what we described when we applied the want operator. \n",
    "* This is a go-to method.  Circle it for later reference.  \n",
    "* **This is a go-to method.  Circle it for later reference.**  "
   ]
  },
  {
   "cell_type": "code",
   "execution_count": null,
   "metadata": {
    "collapsed": true
   },
   "outputs": [],
   "source": []
  },
  {
   "cell_type": "markdown",
   "metadata": {},
   "source": [
    "**Exercise.** Use the `isin` method to extract *Gross domestic product in US dollars* for China, India, and the United States.  Assign the result to the dataframe `gdp`.  *Hint:*  You can adapt the code we just ran. The variable code is NGDPD.  The country codes are CHN, IND, and USA.  "
   ]
  },
  {
   "cell_type": "code",
   "execution_count": null,
   "metadata": {
    "collapsed": true
   },
   "outputs": [],
   "source": []
  },
  {
   "cell_type": "markdown",
   "metadata": {},
   "source": [
    "**Exercise (challenging).** Plot the variable `gdp['2015']` as a bar chart.  What would you say it needs?  "
   ]
  },
  {
   "cell_type": "code",
   "execution_count": null,
   "metadata": {
    "collapsed": true
   },
   "outputs": [],
   "source": []
  },
  {
   "cell_type": "code",
   "execution_count": null,
   "metadata": {
    "collapsed": true
   },
   "outputs": [],
   "source": []
  },
  {
   "cell_type": "markdown",
   "metadata": {
    "collapsed": true
   },
   "source": [
    "<a id='contains'></a>"
   ]
  },
  {
   "cell_type": "markdown",
   "metadata": {},
   "source": [
    "## The `contains` method\n",
    "\n",
    "Another useful one.  The `contains` string method for series identifies observations that contain a specific string.  If yes, the observation is labelled True, if no, False.  A little trick converts the True/False outcomes to ones and zeros.  \n",
    "\n",
    "We apply it to the `Media` variable of the Entry Poll dataframe `ep`.  You may recall that this variable could have more than one response.  We tease them apart with the `contains` method.  Our want is to have a yes/no variable for each response.  "
   ]
  },
  {
   "cell_type": "code",
   "execution_count": 59,
   "metadata": {
    "collapsed": false
   },
   "outputs": [
    {
     "data": {
      "text/plain": [
       "0                          Twitter\n",
       "1                          Twitter\n",
       "2                         Facebook\n",
       "3                             None\n",
       "4                          Twitter\n",
       "5                          Twitter\n",
       "6                             None\n",
       "7                             None\n",
       "8                             None\n",
       "9    Blog (RSS) reader, Backtweets\n",
       "Name: Media, dtype: object"
      ]
     },
     "execution_count": 59,
     "metadata": {},
     "output_type": "execute_result"
    }
   ],
   "source": [
    "# recall\n",
    "ep['Media'].head(10)"
   ]
  },
  {
   "cell_type": "code",
   "execution_count": 60,
   "metadata": {
    "collapsed": false
   },
   "outputs": [
    {
     "data": {
      "text/plain": [
       "0     True\n",
       "1     True\n",
       "2    False\n",
       "3    False\n",
       "4     True\n",
       "5     True\n",
       "6    False\n",
       "7    False\n",
       "8    False\n",
       "9    False\n",
       "Name: Media, dtype: object"
      ]
     },
     "execution_count": 60,
     "metadata": {},
     "output_type": "execute_result"
    }
   ],
   "source": [
    "# the contains method\n",
    "ep['Media'].str.contains('Twitter').head(10)"
   ]
  },
  {
   "cell_type": "markdown",
   "metadata": {},
   "source": [
    "**Comment.** That's pretty good, we now know which students mentioned Twitter and which did not.  It's more useful, though, to convert this to zeros (False) and ones (True), which we do with this trick:  we multiply by 1.  "
   ]
  },
  {
   "cell_type": "code",
   "execution_count": 61,
   "metadata": {
    "collapsed": false
   },
   "outputs": [
    {
     "data": {
      "text/plain": [
       "0    1\n",
       "1    1\n",
       "2    0\n",
       "3    0\n",
       "4    1\n",
       "5    1\n",
       "6    0\n",
       "7    0\n",
       "8    0\n",
       "9    0\n",
       "Name: Media, dtype: object"
      ]
     },
     "execution_count": 61,
     "metadata": {},
     "output_type": "execute_result"
    }
   ],
   "source": [
    "ep['Media'].str.contains('Twitter').head(10)*1"
   ]
  },
  {
   "cell_type": "markdown",
   "metadata": {},
   "source": [
    "**Comment.** Now let's do the same for some of the other entries and save them in new variables.  "
   ]
  },
  {
   "cell_type": "code",
   "execution_count": 62,
   "metadata": {
    "collapsed": false
   },
   "outputs": [
    {
     "data": {
      "text/plain": [
       "['Media:None', 'Media:Twitter', 'Media:Facebook', 'Media:Blog']"
      ]
     },
     "execution_count": 62,
     "metadata": {},
     "output_type": "execute_result"
    }
   ],
   "source": [
    "media = ['None', 'Twitter', 'Facebook', 'Blog'] \n",
    "oldep = ep.copy()\n",
    "\n",
    "vnames = []\n",
    "for x in media:\n",
    "    newname = 'Media' + ':' + x \n",
    "    vnames.append(newname)\n",
    "    ep[newname] = ep['Media'].str.contains(x)*1\n",
    "    \n",
    "vnames    "
   ]
  },
  {
   "cell_type": "markdown",
   "metadata": {},
   "source": [
    "**Comment.** You might want to think about this a minute.  Or two.  "
   ]
  },
  {
   "cell_type": "code",
   "execution_count": null,
   "metadata": {
    "collapsed": true
   },
   "outputs": [],
   "source": []
  },
  {
   "cell_type": "code",
   "execution_count": 64,
   "metadata": {
    "collapsed": false
   },
   "outputs": [
    {
     "data": {
      "text/html": [
       "<div>\n",
       "<table border=\"1\" class=\"dataframe\">\n",
       "  <thead>\n",
       "    <tr style=\"text-align: right;\">\n",
       "      <th></th>\n",
       "      <th>Media:None</th>\n",
       "      <th>Media:Twitter</th>\n",
       "      <th>Media:Facebook</th>\n",
       "      <th>Media:Blog</th>\n",
       "    </tr>\n",
       "  </thead>\n",
       "  <tbody>\n",
       "    <tr>\n",
       "      <th>0</th>\n",
       "      <td>0</td>\n",
       "      <td>1</td>\n",
       "      <td>0</td>\n",
       "      <td>0</td>\n",
       "    </tr>\n",
       "    <tr>\n",
       "      <th>1</th>\n",
       "      <td>0</td>\n",
       "      <td>1</td>\n",
       "      <td>0</td>\n",
       "      <td>0</td>\n",
       "    </tr>\n",
       "    <tr>\n",
       "      <th>2</th>\n",
       "      <td>0</td>\n",
       "      <td>0</td>\n",
       "      <td>1</td>\n",
       "      <td>0</td>\n",
       "    </tr>\n",
       "    <tr>\n",
       "      <th>3</th>\n",
       "      <td>1</td>\n",
       "      <td>0</td>\n",
       "      <td>0</td>\n",
       "      <td>0</td>\n",
       "    </tr>\n",
       "    <tr>\n",
       "      <th>4</th>\n",
       "      <td>0</td>\n",
       "      <td>1</td>\n",
       "      <td>0</td>\n",
       "      <td>0</td>\n",
       "    </tr>\n",
       "  </tbody>\n",
       "</table>\n",
       "</div>"
      ],
      "text/plain": [
       "  Media:None Media:Twitter Media:Facebook Media:Blog\n",
       "0          0             1              0          0\n",
       "1          0             1              0          0\n",
       "2          0             0              1          0\n",
       "3          1             0              0          0\n",
       "4          0             1              0          0"
      ]
     },
     "execution_count": 64,
     "metadata": {},
     "output_type": "execute_result"
    }
   ],
   "source": [
    "# create new df of just these variables \n",
    "media = ep[vnames]\n",
    "media.head()"
   ]
  },
  {
   "cell_type": "code",
   "execution_count": null,
   "metadata": {
    "collapsed": true
   },
   "outputs": [],
   "source": []
  },
  {
   "cell_type": "code",
   "execution_count": 65,
   "metadata": {
    "collapsed": false
   },
   "outputs": [
    {
     "data": {
      "text/plain": [
       "Media:None        46.0\n",
       "Media:Twitter     36.0\n",
       "Media:Facebook     9.0\n",
       "Media:Blog        11.0\n",
       "dtype: float64"
      ]
     },
     "execution_count": 65,
     "metadata": {},
     "output_type": "execute_result"
    }
   ],
   "source": [
    "# count them with the sum method \n",
    "media_counts = media.sum()\n",
    "media_counts"
   ]
  },
  {
   "cell_type": "markdown",
   "metadata": {},
   "source": [
    "**Comment.** Just for fun, here's a bar graph of the result.  "
   ]
  },
  {
   "cell_type": "code",
   "execution_count": 66,
   "metadata": {
    "collapsed": false
   },
   "outputs": [
    {
     "data": {
      "text/plain": [
       "<matplotlib.axes._subplots.AxesSubplot at 0xb671358>"
      ]
     },
     "execution_count": 66,
     "metadata": {},
     "output_type": "execute_result"
    },
    {
     "data": {
      "image/png": "[encoded data removed]",
      "text/plain": [
       "<matplotlib.figure.Figure at 0xb69d6d8>"
      ]
     },
     "metadata": {},
     "output_type": "display_data"
    }
   ],
   "source": [
    "media_counts.plot.barh()"
   ]
  },
  {
   "cell_type": "markdown",
   "metadata": {},
   "source": [
    "**Exercise.** What would you change in this graph?  How would you do it?  (Words are enough.) "
   ]
  },
  {
   "cell_type": "code",
   "execution_count": null,
   "metadata": {
    "collapsed": true
   },
   "outputs": [],
   "source": []
  },
  {
   "cell_type": "code",
   "execution_count": null,
   "metadata": {
    "collapsed": true
   },
   "outputs": [],
   "source": []
  },
  {
   "cell_type": "markdown",
   "metadata": {
    "collapsed": true
   },
   "source": [
    "## Review\n",
    "\n",
    "Let's remind ourselves what we've learned.  "
   ]
  },
  {
   "cell_type": "markdown",
   "metadata": {},
   "source": [
    "**Exercise.** We explore the Census's [Business Dynamics Statistics](http://www.census.gov/ces/dataproducts/bds/), a huge collection of data about firms. We've extracted a small piece of one of their databases that includes these variables for 2013:\n",
    "\n",
    "* Size: size category of firms based on number of employees\n",
    "* Firms: number of firms in each size category\n",
    "* Emp: number of employees in each size category\n",
    "\n",
    "Run the code cell below to load the data.  "
   ]
  },
  {
   "cell_type": "code",
   "execution_count": 67,
   "metadata": {
    "collapsed": false
   },
   "outputs": [
    {
     "data": {
      "text/html": [
       "<div>\n",
       "<table border=\"1\" class=\"dataframe\">\n",
       "  <thead>\n",
       "    <tr style=\"text-align: right;\">\n",
       "      <th></th>\n",
       "      <th>Emp</th>\n",
       "      <th>Firms</th>\n",
       "      <th>Size</th>\n",
       "    </tr>\n",
       "  </thead>\n",
       "  <tbody>\n",
       "    <tr>\n",
       "      <th>0</th>\n",
       "      <td>5998912</td>\n",
       "      <td>2846416</td>\n",
       "      <td>a) 1 to 4</td>\n",
       "    </tr>\n",
       "    <tr>\n",
       "      <th>1</th>\n",
       "      <td>6714924</td>\n",
       "      <td>1020772</td>\n",
       "      <td>b) 5 to 9</td>\n",
       "    </tr>\n",
       "    <tr>\n",
       "      <th>2</th>\n",
       "      <td>8151891</td>\n",
       "      <td>598153</td>\n",
       "      <td>c) 10 to 19</td>\n",
       "    </tr>\n",
       "  </tbody>\n",
       "</table>\n",
       "</div>"
      ],
      "text/plain": [
       "       Emp    Firms         Size\n",
       "0  5998912  2846416    a) 1 to 4\n",
       "1  6714924  1020772    b) 5 to 9\n",
       "2  8151891   598153  c) 10 to 19"
      ]
     },
     "execution_count": 67,
     "metadata": {},
     "output_type": "execute_result"
    }
   ],
   "source": [
    "data = {'Size': ['a) 1 to 4', 'b) 5 to 9', 'c) 10 to 19', 'd) 20 to 49', 'e) 50 to 99',\n",
    "                 'f) 100 to 249', 'g) 250 to 499', 'h) 500 to 999', 'i) 1000 to 2499',\n",
    "                 'j) 2500 to 4999', 'k) 5000 to 9999', 'l) 10000+'], \n",
    "        'Firms': [2846416, 1020772, 598153, 373345, 115544, 63845,\n",
    "                  19389, 9588, 6088, 2287, 1250, 1357], \n",
    "        'Emp': [5998912, 6714924, 8151891, 11425545, 8055535, 9788341, \n",
    "                6611734, 6340775, 8321486, 6738218, 6559020, 32556671]}\n",
    "bds = pd.DataFrame(data) \n",
    "bds .head(3) "
   ]
  },
  {
   "cell_type": "markdown",
   "metadata": {
    "collapsed": true
   },
   "source": [
    "Use the dataframe `bds` to:  \n",
    "\n",
    "* Compute the mean number of firms with `nbar = bds['Firms'].mean()`. \n",
    "* Generate the new variable `bds['AboveMean']` that is `True` if the value of `bds['Firms']` is above the mean, `False` otherwise. \n",
    "* What dtype is this new variable?  \n",
    "* Select the observations for which the number of firms is above the mean.  \n",
    "* *Challenging.*  Fix the size categories.  Specifically, use a string method to eliminate the prefixes `a)`, `b)`, etc.  That is, change `a) 1 to 4` to `1 to 4`, `b) 5 to 9` to `5 to 9`, and so on.  *Hint:* Use the `split` method.  "
   ]
  },
  {
   "cell_type": "code",
   "execution_count": null,
   "metadata": {
    "collapsed": true
   },
   "outputs": [],
   "source": []
  },
  {
   "cell_type": "code",
   "execution_count": null,
   "metadata": {
    "collapsed": true
   },
   "outputs": [],
   "source": []
  },
  {
   "cell_type": "code",
   "execution_count": null,
   "metadata": {
    "collapsed": true
   },
   "outputs": [],
   "source": []
  },
  {
   "cell_type": "code",
   "execution_count": null,
   "metadata": {
    "collapsed": true
   },
   "outputs": [],
   "source": []
  }
 ],
 "metadata": {
  "kernelspec": {
   "display_name": "Python 3",
   "language": "python",
   "name": "python3"
  },
  "language_info": {
   "codemirror_mode": {
    "name": "ipython",
    "version": 3
   },
   "file_extension": ".py",
   "mimetype": "text/x-python",
   "name": "python",
   "nbconvert_exporter": "python",
   "pygments_lexer": "ipython3",
   "version": "3.5.1"
  }
 },
 "nbformat": 4,
 "nbformat_minor": 0
}
