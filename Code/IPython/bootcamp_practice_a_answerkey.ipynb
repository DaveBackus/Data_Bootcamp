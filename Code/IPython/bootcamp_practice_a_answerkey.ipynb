{
 "cells": [
  {
   "cell_type": "markdown",
   "metadata": {},
   "source": [
    "# Data Bootcamp:  Code Practice A (answerkey) \n",
    "\n",
    "Optional Code Practice A:  Jupyter basics and Python's **[graphics tools](https://davebackus.gitbooks.io/test/content/graphs1.html)** (the Matplotlib package). The goals are to become familiar with Jupyter and Matplotlib and to explore some **new datasets**.  The data management part of this goes beyond what we've done in class.  We recommend you just run the code provided and focus on the graphs for now.  \n",
    "\n",
    "This notebook written by Dave Backus for the NYU Stern course [Data Bootcamp](http://databootcamp.nyuecon.com/).  \n",
    "\n",
    "**Check Jupyter before we start.** Run the code below and make sure it works.  "
   ]
  },
  {
   "cell_type": "code",
   "execution_count": 1,
   "metadata": {
    "collapsed": false
   },
   "outputs": [
    {
     "name": "stdout",
     "output_type": "stream",
     "text": [
      "Pandas version:  0.17.1\n"
     ]
    }
   ],
   "source": [
    "# to make sure things are working, run this \n",
    "import pandas as pd\n",
    "print('Pandas version: ', pd.__version__) "
   ]
  },
  {
   "cell_type": "markdown",
   "metadata": {},
   "source": [
    "If you get something like \"Pandas version:  0.17.1\" you're fine.  If you get an error, bring your computer by and ask for help.  If you're unusually brave, go to [StackOverflow](http://stackoverflow.com/a/19961403/804513) and read the instructions.  Then come ask for help.  (This has to do with how your computer processes unicode.  When you hear that word -- unicode -- you should run away at high speed.)     "
   ]
  },
  {
   "cell_type": "markdown",
   "metadata": {},
   "source": [
    "## Question 1. Setup \n",
    "\n",
    "Import packages, arrange for graphs to display in the notebook. "
   ]
  },
  {
   "cell_type": "code",
   "execution_count": 2,
   "metadata": {
    "collapsed": true
   },
   "outputs": [],
   "source": [
    "import pandas as pd\n",
    "import matplotlib.pyplot as plt\n",
    "import datetime as dt \n",
    "%matplotlib inline"
   ]
  },
  {
   "cell_type": "markdown",
   "metadata": {},
   "source": [
    "**Remind yourself:**\n",
    "\n",
    "* What does the `pandas` package do?  [data management]\n",
    "* What does the `matplotlib` package do?  [graphics]\n",
    "* What does `%matplotlib inline` do?  [displays plots in the notebook] "
   ]
  },
  {
   "cell_type": "markdown",
   "metadata": {},
   "source": [
    "## Question 2.  Jupyter basics \n",
    "\n",
    "* We refer to the cell that's highlighted as the **current cell**.  \n",
    "* Clicking once on any cell makes it the current cell.  Clicking again allows you to edit it.   \n",
    "* The + in the toolbar at the top creates a new cell below the current cell.  \n",
    "* Change a cell from Code to Markdown (in other words, text) with the dropdown menu in the toolbar.  \n",
    "* To run a cell, hit shift-enter or click on the run-cell icon in the tooolbar (sideways triangle and vertical line). \n",
    "* For more information, click on Help at the top.  User Interface Tour is a good place to start.\n",
    "\n",
    "Practice with the following:  \n",
    "\n",
    "* Make this cell the current cell. \n",
    "* Add an empty cell below it.  \n",
    "* Add text to the new cell:  your name and the date, for example.  \n",
    "* *Optional:*  Add a link to your LinkedIn or Facebook page.  *Hint:* Look at the text in the top cell to find an example of a link.  \n",
    "* Run the cell.  "
   ]
  },
  {
   "cell_type": "markdown",
   "metadata": {},
   "source": [
    "## Question 3. Winner take all and the long tail in the US beer industry\n",
    "\n",
    "The internet has produced some interesting market behavior, music being a great example.  Among them:  \n",
    "\n",
    "* Winner take all.  The large producers (Beyonce, for example) take larger shares of the market than they had in the past.  \n",
    "* The long tail.  At the same time, small producers in aggregate increase their share.  \n",
    "\n",
    "Curiously enough, we see the same thing in the US beer industry:   \n",
    "\n",
    "* Scale economies and a reduction in transportation costs (the interstate highway system was built in the 1950s and 60s) led to consolidation, with the large firms getting larger, and the small ones either sellingout or going bankrupt.  (How many beer brands can you think of that no longer exist?)  \n",
    "* Starting in the 1980s, we saw a significant increase in the market share of small firms (\"craft brewers\") overall, even though each of them remains small.  \n",
    "\n",
    "We illustrate this with data from Victor and Carol Tremblay that describe the output of the top 100 US beer producers from 1947 to 2004.  This is background data from their book, [The US Brewing Industry](http://www.amazon.com/The-US-Brewing-Industry-Economic/dp/0262512637), MIT Press, 2004.  See [here](http://people.oregonstate.edu/~tremblac/pdf/Appendix%20A%20Weinberg%20Data.pdf) for the names of the brewers.  Output is measured in thousands of 31-gallon barrels.  "
   ]
  },
  {
   "cell_type": "markdown",
   "metadata": {},
   "source": [
    "**Data manipulation.** The data manipulation goes beyond what we've done in class.  You're free to ignore it, but here's the idea.  \n",
    "\n",
    "* The spreadsheet contains output by firms ranked 1 to 100 in size.  Each row refers to a specific year and includes the outputs of firms in order of size.  We don't have their names.  \n",
    "* We transpose this so that the columns are years and include output for the top-100 firms.  The row labels are the size rank of the firm.  \n",
    "* We then plot the size against the rank for four years to see how it has changed.  "
   ]
  },
  {
   "cell_type": "code",
   "execution_count": 3,
   "metadata": {
    "collapsed": false,
    "scrolled": true
   },
   "outputs": [
    {
     "name": "stdout",
     "output_type": "stream",
     "text": [
      "Dimensions: (58, 115)\n"
     ]
    },
    {
     "data": {
      "text/html": [
       "<div>\n",
       "<table border=\"1\" class=\"dataframe\">\n",
       "  <thead>\n",
       "    <tr style=\"text-align: right;\">\n",
       "      <th></th>\n",
       "      <th>1</th>\n",
       "      <th>2</th>\n",
       "      <th>3</th>\n",
       "      <th>4</th>\n",
       "      <th>5</th>\n",
       "      <th>6</th>\n",
       "      <th>7</th>\n",
       "      <th>8</th>\n",
       "      <th>9</th>\n",
       "      <th>10</th>\n",
       "    </tr>\n",
       "    <tr>\n",
       "      <th>YEAR</th>\n",
       "      <th></th>\n",
       "      <th></th>\n",
       "      <th></th>\n",
       "      <th></th>\n",
       "      <th></th>\n",
       "      <th></th>\n",
       "      <th></th>\n",
       "      <th></th>\n",
       "      <th></th>\n",
       "      <th></th>\n",
       "    </tr>\n",
       "  </thead>\n",
       "  <tbody>\n",
       "    <tr>\n",
       "      <th>1947</th>\n",
       "      <td>3991</td>\n",
       "      <td>3732</td>\n",
       "      <td>3726</td>\n",
       "      <td>3609</td>\n",
       "      <td>2240</td>\n",
       "      <td>2100</td>\n",
       "      <td>1902</td>\n",
       "      <td>1652</td>\n",
       "      <td>1491</td>\n",
       "      <td>1167</td>\n",
       "    </tr>\n",
       "    <tr>\n",
       "      <th>1948</th>\n",
       "      <td>4865</td>\n",
       "      <td>4280</td>\n",
       "      <td>4138</td>\n",
       "      <td>4042</td>\n",
       "      <td>2443</td>\n",
       "      <td>2250</td>\n",
       "      <td>2110</td>\n",
       "      <td>1638</td>\n",
       "      <td>1376</td>\n",
       "      <td>1202</td>\n",
       "    </tr>\n",
       "    <tr>\n",
       "      <th>1949</th>\n",
       "      <td>4843</td>\n",
       "      <td>4673</td>\n",
       "      <td>4526</td>\n",
       "      <td>4514</td>\n",
       "      <td>2474</td>\n",
       "      <td>1927</td>\n",
       "      <td>1875</td>\n",
       "      <td>1598</td>\n",
       "      <td>1438</td>\n",
       "      <td>1436</td>\n",
       "    </tr>\n",
       "  </tbody>\n",
       "</table>\n",
       "</div>"
      ],
      "text/plain": [
       "        1     2     3     4     5     6     7     8     9     10\n",
       "YEAR                                                            \n",
       "1947  3991  3732  3726  3609  2240  2100  1902  1652  1491  1167\n",
       "1948  4865  4280  4138  4042  2443  2250  2110  1638  1376  1202\n",
       "1949  4843  4673  4526  4514  2474  1927  1875  1598  1438  1436"
      ]
     },
     "execution_count": 3,
     "metadata": {},
     "output_type": "execute_result"
    }
   ],
   "source": [
    "url = 'http://pages.stern.nyu.edu/~dbackus/Data/beer_production_1947-2004.xlsx'\n",
    "beer = pd.read_excel(url, skiprows=12, index_col=0)\n",
    "\n",
    "print('Dimensions:', beer.shape)\n",
    "beer[list(range(1,11))].head(3)"
   ]
  },
  {
   "cell_type": "code",
   "execution_count": 4,
   "metadata": {
    "collapsed": false,
    "scrolled": true
   },
   "outputs": [
    {
     "data": {
      "text/html": [
       "<div>\n",
       "<table border=\"1\" class=\"dataframe\">\n",
       "  <thead>\n",
       "    <tr style=\"text-align: right;\">\n",
       "      <th>YEAR</th>\n",
       "      <th>1947</th>\n",
       "      <th>1967</th>\n",
       "      <th>1987</th>\n",
       "      <th>2004</th>\n",
       "    </tr>\n",
       "  </thead>\n",
       "  <tbody>\n",
       "    <tr>\n",
       "      <th>1</th>\n",
       "      <td>3991</td>\n",
       "      <td>15535</td>\n",
       "      <td>76084</td>\n",
       "      <td>103000</td>\n",
       "    </tr>\n",
       "    <tr>\n",
       "      <th>2</th>\n",
       "      <td>3732</td>\n",
       "      <td>10382</td>\n",
       "      <td>39260</td>\n",
       "      <td>38560</td>\n",
       "    </tr>\n",
       "    <tr>\n",
       "      <th>3</th>\n",
       "      <td>3726</td>\n",
       "      <td>10124</td>\n",
       "      <td>21275</td>\n",
       "      <td>22250</td>\n",
       "    </tr>\n",
       "    <tr>\n",
       "      <th>4</th>\n",
       "      <td>3609</td>\n",
       "      <td>6631</td>\n",
       "      <td>16000</td>\n",
       "      <td>7450</td>\n",
       "    </tr>\n",
       "    <tr>\n",
       "      <th>5</th>\n",
       "      <td>2240</td>\n",
       "      <td>4917</td>\n",
       "      <td>15658</td>\n",
       "      <td>1380</td>\n",
       "    </tr>\n",
       "  </tbody>\n",
       "</table>\n",
       "</div>"
      ],
      "text/plain": [
       "YEAR  1947   1967   1987    2004\n",
       "1     3991  15535  76084  103000\n",
       "2     3732  10382  39260   38560\n",
       "3     3726  10124  21275   22250\n",
       "4     3609   6631  16000    7450\n",
       "5     2240   4917  15658    1380"
      ]
     },
     "execution_count": 4,
     "metadata": {},
     "output_type": "execute_result"
    }
   ],
   "source": [
    "vars = list(range(1,101))   # extract top 100 firms \n",
    "pdf = beer[vars].T          # transpose (flip rows and columns)\n",
    "pdf[[1947, 1967, 1987, 2004]].head()"
   ]
  },
  {
   "cell_type": "markdown",
   "metadata": {},
   "source": [
    "**Question.** Can you see consolidation here?"
   ]
  },
  {
   "cell_type": "code",
   "execution_count": 5,
   "metadata": {
    "collapsed": false
   },
   "outputs": [
    {
     "data": {
      "text/plain": [
       "<matplotlib.legend.Legend at 0x9433d30>"
      ]
     },
     "execution_count": 5,
     "metadata": {},
     "output_type": "execute_result"
    },
    {
     "data": {
      "image/png": "[encoded data removed]",
      "text/plain": [
       "<matplotlib.figure.Figure at 0x92e0b00>"
      ]
     },
     "metadata": {},
     "output_type": "display_data"
    }
   ],
   "source": [
    "# a basic plot \n",
    "fig, ax = plt.subplots()\n",
    "\n",
    "pdf[1947].plot(ax=ax, logy=True)\n",
    "pdf[1967].plot(ax=ax, logy=True)\n",
    "pdf[1987].plot(ax=ax, logy=True)\n",
    "pdf[2004].plot(ax=ax, logy=True)\n",
    "ax.legend()"
   ]
  },
  {
   "cell_type": "markdown",
   "metadata": {
    "collapsed": true
   },
   "source": [
    "**Answer these questions below.** Code is sufficient, but it's often helpful to add comments to remind yourself what you did, and why.  \n",
    "\n",
    "* Get help for the `set.title` method by typing `ax.set_title?` in a new cell and running it.  Note that you can open the documentation this produces in a separate tab with the icon in the upper right (hover text = \"Open the pager in an external window\").  \n",
    "* Add a title with `ax.set_title('Your title')`.  \n",
    "* Change the fontsize of the title to 14.  \n",
    "* What happens if we add the argument/parameter `lw=2` to the `ax.plot()` statements?  \n",
    "* Add a label to the x axis with `ax.set_xlabel()`.  \n",
    "* Add a label to the y axis.  \n",
    "* Why did we use a log scale (`logy=True`)?  What happens if we don't?\n",
    "* Use the `color` argument/parameter to choose a more effective set of colors.  \n",
    "* In what sense do you see \"winner takes all\"?  A \"long tail\"?   \n",
    "\n",
    "Put each answer in a separate code cell.  "
   ]
  },
  {
   "cell_type": "code",
   "execution_count": 6,
   "metadata": {
    "collapsed": true
   },
   "outputs": [],
   "source": [
    "ax.set_title?"
   ]
  },
  {
   "cell_type": "code",
   "execution_count": 10,
   "metadata": {
    "collapsed": true
   },
   "outputs": [],
   "source": [
    "# this is easier if we put the basic plot in a function \n",
    "def make_plot():\n",
    "    fig, ax = plt.subplots()\n",
    "    pdf[1947].plot(ax=ax, logy=True)\n",
    "    pdf[1967].plot(ax=ax, logy=True)\n",
    "    pdf[1987].plot(ax=ax, logy=True)\n",
    "    pdf[2004].plot(ax=ax, logy=True)\n",
    "    ax.legend()\n",
    "    return ax "
   ]
  },
  {
   "cell_type": "code",
   "execution_count": 11,
   "metadata": {
    "collapsed": false
   },
   "outputs": [
    {
     "data": {
      "text/plain": [
       "<matplotlib.text.Text at 0x6062630>"
      ]
     },
     "execution_count": 11,
     "metadata": {},
     "output_type": "execute_result"
    },
    {
     "data": {
      "image/png": "[encoded data removed]",
      "text/plain": [
       "<matplotlib.figure.Figure at 0xaccc3c8>"
      ]
     },
     "metadata": {},
     "output_type": "display_data"
    }
   ],
   "source": [
    "ax = make_plot() \n",
    "ax.set_title('Beer sales by industry rank', fontsize=14)"
   ]
  },
  {
   "cell_type": "code",
   "execution_count": null,
   "metadata": {
    "collapsed": true
   },
   "outputs": [],
   "source": [
    "# line width:  put lw=2 in each of the plot statements "
   ]
  },
  {
   "cell_type": "code",
   "execution_count": 12,
   "metadata": {
    "collapsed": false
   },
   "outputs": [
    {
     "data": {
      "text/plain": [
       "<matplotlib.text.Text at 0x60c73c8>"
      ]
     },
     "execution_count": 12,
     "metadata": {},
     "output_type": "execute_result"
    },
    {
     "data": {
      "image/png": "[encoded data removed]",
      "text/plain": [
       "<matplotlib.figure.Figure at 0x9c51b70>"
      ]
     },
     "metadata": {},
     "output_type": "display_data"
    }
   ],
   "source": [
    "ax = make_plot() \n",
    "ax.set_xlabel('Industry Rank')\n",
    "ax.set_ylabel('Sales (log scale)')"
   ]
  },
  {
   "cell_type": "code",
   "execution_count": 13,
   "metadata": {
    "collapsed": true
   },
   "outputs": [],
   "source": [
    "# log scale:  otherwise the differences are too large\n",
    "# we can't show the alternative because some of the numbers are zero "
   ]
  },
  {
   "cell_type": "code",
   "execution_count": 14,
   "metadata": {
    "collapsed": true
   },
   "outputs": [],
   "source": [
    "# color:  we add color='somecolor' in each of the plot statements"
   ]
  },
  {
   "cell_type": "code",
   "execution_count": null,
   "metadata": {
    "collapsed": true
   },
   "outputs": [],
   "source": []
  },
  {
   "cell_type": "markdown",
   "metadata": {},
   "source": [
    "## Question 4.  Japan's aging population \n",
    "\n",
    "Populations are getting older throughout the world, but Japan is a striking example.  One of our favorite quotes:\n",
    "\n",
    "> Last year, for the first time, sales of adult diapers in Japan exceeded those for babies. \n",
    "\n",
    "Let's see what the numbers look like using projections fron the [United Nations' Population Division](http://esa.un.org/unpd/wpp/Download/Standard/Population/).  They have several projections; we use what they call the \"medium variant.\" \n",
    "\n",
    "We have a similar issue with the data:  population by age for a given country and date goes across rows, not down columns.  So we choose the ones we want and transpose them.  Again, more than we've done so far.  "
   ]
  },
  {
   "cell_type": "code",
   "execution_count": 15,
   "metadata": {
    "collapsed": false
   },
   "outputs": [
    {
     "name": "stdout",
     "output_type": "stream",
     "text": [
      "Dimensions:  (4338, 24)\n",
      "Column labels:  Index(['Major area, region, country or area *', 'Country code',\n",
      "       'Reference date (as of 1 July)', '0-4', '5-9', '10-14', '15-19',\n",
      "       '20-24', '25-29', '30-34', '35-39', '40-44', '45-49', '50-54', '55-59',\n",
      "       '60-64', '65-69', '70-74', '75-79', '80-84', '85-89', '90-94', '95-99',\n",
      "       '100+'],\n",
      "      dtype='object')\n"
     ]
    }
   ],
   "source": [
    "# data input (takes about 20 seconds on a wireless network)\n",
    "url1 = 'http://esa.un.org/unpd/wpp/DVD/Files/'\n",
    "url2 = '1_Indicators%20(Standard)/EXCEL_FILES/1_Population/'\n",
    "url3 = 'WPP2015_POP_F07_1_POPULATION_BY_AGE_BOTH_SEXES.XLS'\n",
    "url = url1 + url2 + url3 \n",
    "\n",
    "cols = [2, 4, 5] + list(range(6,28))\n",
    "prj = pd.read_excel(url, sheetname=1, skiprows=16, parse_cols=cols, na_values=['…'])\n",
    "print('Dimensions: ', prj.shape)\n",
    "print('Column labels: ', prj.columns)"
   ]
  },
  {
   "cell_type": "code",
   "execution_count": 16,
   "metadata": {
    "collapsed": false
   },
   "outputs": [
    {
     "data": {
      "text/html": [
       "<div>\n",
       "<table border=\"1\" class=\"dataframe\">\n",
       "  <thead>\n",
       "    <tr style=\"text-align: right;\">\n",
       "      <th>Year</th>\n",
       "      <th>2015</th>\n",
       "      <th>2035</th>\n",
       "      <th>2055</th>\n",
       "      <th>2075</th>\n",
       "      <th>2095</th>\n",
       "    </tr>\n",
       "  </thead>\n",
       "  <tbody>\n",
       "    <tr>\n",
       "      <th>0-4</th>\n",
       "      <td>5.269038</td>\n",
       "      <td>4.610562</td>\n",
       "      <td>4.271907</td>\n",
       "      <td>3.979032</td>\n",
       "      <td>3.720541</td>\n",
       "    </tr>\n",
       "    <tr>\n",
       "      <th>5-9</th>\n",
       "      <td>5.398973</td>\n",
       "      <td>4.720645</td>\n",
       "      <td>4.371016</td>\n",
       "      <td>4.038305</td>\n",
       "      <td>3.789596</td>\n",
       "    </tr>\n",
       "    <tr>\n",
       "      <th>10-14</th>\n",
       "      <td>5.603638</td>\n",
       "      <td>4.880967</td>\n",
       "      <td>4.458145</td>\n",
       "      <td>4.106899</td>\n",
       "      <td>3.860493</td>\n",
       "    </tr>\n",
       "    <tr>\n",
       "      <th>15-19</th>\n",
       "      <td>5.960784</td>\n",
       "      <td>5.114258</td>\n",
       "      <td>4.557117</td>\n",
       "      <td>4.205584</td>\n",
       "      <td>3.938189</td>\n",
       "    </tr>\n",
       "    <tr>\n",
       "      <th>20-24</th>\n",
       "      <td>6.111768</td>\n",
       "      <td>5.340457</td>\n",
       "      <td>4.685414</td>\n",
       "      <td>4.333554</td>\n",
       "      <td>4.025477</td>\n",
       "    </tr>\n",
       "  </tbody>\n",
       "</table>\n",
       "</div>"
      ],
      "text/plain": [
       "Year       2015      2035      2055      2075      2095\n",
       "0-4    5.269038  4.610562  4.271907  3.979032  3.720541\n",
       "5-9    5.398973  4.720645  4.371016  4.038305  3.789596\n",
       "10-14  5.603638  4.880967  4.458145  4.106899  3.860493\n",
       "15-19  5.960784  5.114258  4.557117  4.205584  3.938189\n",
       "20-24  6.111768  5.340457  4.685414  4.333554  4.025477"
      ]
     },
     "execution_count": 16,
     "metadata": {},
     "output_type": "execute_result"
    }
   ],
   "source": [
    "# rename some variables \n",
    "pop = prj\n",
    "pop = pop.rename(columns={'Reference date (as of 1 July)': 'Year', \n",
    "                          'Major area, region, country or area *': 'Country', \n",
    "                          'Country code': 'Code'})\n",
    "# select Japan and years \n",
    "countries = ['Japan']\n",
    "years     = [2015, 2035, 2055, 2075, 2095]\n",
    "pop = pop[pop['Country'].isin(countries) & pop['Year'].isin(years)]\n",
    "pop = pop.drop(['Country', 'Code'], axis=1)\n",
    "pop = pop.set_index('Year').T\n",
    "pop = pop/1000    # convert population from thousands to millions \n",
    "pop.head()"
   ]
  },
  {
   "cell_type": "code",
   "execution_count": 17,
   "metadata": {
    "collapsed": false
   },
   "outputs": [
    {
     "data": {
      "text/html": [
       "<div>\n",
       "<table border=\"1\" class=\"dataframe\">\n",
       "  <thead>\n",
       "    <tr style=\"text-align: right;\">\n",
       "      <th>Year</th>\n",
       "      <th>2015</th>\n",
       "      <th>2035</th>\n",
       "      <th>2055</th>\n",
       "      <th>2075</th>\n",
       "      <th>2095</th>\n",
       "    </tr>\n",
       "  </thead>\n",
       "  <tbody>\n",
       "    <tr>\n",
       "      <th>80-84</th>\n",
       "      <td>4.940325</td>\n",
       "      <td>6.327227</td>\n",
       "      <td>7.456047</td>\n",
       "      <td>5.122114</td>\n",
       "      <td>4.761542</td>\n",
       "    </tr>\n",
       "    <tr>\n",
       "      <th>85-89</th>\n",
       "      <td>3.115732</td>\n",
       "      <td>5.517980</td>\n",
       "      <td>5.368363</td>\n",
       "      <td>4.815303</td>\n",
       "      <td>4.300830</td>\n",
       "    </tr>\n",
       "    <tr>\n",
       "      <th>90-94</th>\n",
       "      <td>1.338774</td>\n",
       "      <td>2.871710</td>\n",
       "      <td>3.233182</td>\n",
       "      <td>3.714384</td>\n",
       "      <td>3.407697</td>\n",
       "    </tr>\n",
       "    <tr>\n",
       "      <th>95-99</th>\n",
       "      <td>0.366082</td>\n",
       "      <td>1.029126</td>\n",
       "      <td>1.437057</td>\n",
       "      <td>2.146187</td>\n",
       "      <td>2.082468</td>\n",
       "    </tr>\n",
       "    <tr>\n",
       "      <th>100+</th>\n",
       "      <td>0.060630</td>\n",
       "      <td>0.216863</td>\n",
       "      <td>0.462541</td>\n",
       "      <td>0.779118</td>\n",
       "      <td>0.844420</td>\n",
       "    </tr>\n",
       "  </tbody>\n",
       "</table>\n",
       "</div>"
      ],
      "text/plain": [
       "Year       2015      2035      2055      2075      2095\n",
       "80-84  4.940325  6.327227  7.456047  5.122114  4.761542\n",
       "85-89  3.115732  5.517980  5.368363  4.815303  4.300830\n",
       "90-94  1.338774  2.871710  3.233182  3.714384  3.407697\n",
       "95-99  0.366082  1.029126  1.437057  2.146187  2.082468\n",
       "100+   0.060630  0.216863  0.462541  0.779118  0.844420"
      ]
     },
     "execution_count": 17,
     "metadata": {},
     "output_type": "execute_result"
    }
   ],
   "source": [
    "pop.tail()"
   ]
  },
  {
   "cell_type": "markdown",
   "metadata": {},
   "source": [
    "**Comment.** Now we have the number of people in any five-year age group running down columns.  The column labels are the years.  "
   ]
  },
  {
   "cell_type": "markdown",
   "metadata": {},
   "source": [
    "With the dataframe `df`:  \n",
    "\n",
    "* Plot the current age distribution with `pop[[2015]].plot()`.  Note that `2015` here does not have quotes around it:  it's an unusual case of integer column labels. \n",
    "* Plot the current age distribution as a bar chart.  Which do you think looks better?  \n",
    "* Create figure and axis objects \n",
    "* Use the axis object to plot the age distribution for all the years in the dataframe.  \n",
    "* Add titles and axis labels. \n",
    "* Plot the age distribution for each date in a separate subplot.  What argument parameter does this?  *Bonus points:* Change the size of the figure to accomodate the subplots.  "
   ]
  },
  {
   "cell_type": "code",
   "execution_count": 24,
   "metadata": {
    "collapsed": false
   },
   "outputs": [
    {
     "data": {
      "text/plain": [
       "<matplotlib.axes._subplots.AxesSubplot at 0x6055208>"
      ]
     },
     "execution_count": 24,
     "metadata": {},
     "output_type": "execute_result"
    },
    {
     "data": {
      "image/png": "[encoded data removed]",
      "text/plain": [
       "<matplotlib.figure.Figure at 0xc25e438>"
      ]
     },
     "metadata": {},
     "output_type": "display_data"
    }
   ],
   "source": [
    "pop[[2015]].plot()"
   ]
  },
  {
   "cell_type": "code",
   "execution_count": 25,
   "metadata": {
    "collapsed": false
   },
   "outputs": [
    {
     "data": {
      "text/plain": [
       "<matplotlib.axes._subplots.AxesSubplot at 0xad49f60>"
      ]
     },
     "execution_count": 25,
     "metadata": {},
     "output_type": "execute_result"
    },
    {
     "data": {
      "image/png": "[encoded data removed]",
      "text/plain": [
       "<matplotlib.figure.Figure at 0x60f96a0>"
      ]
     },
     "metadata": {},
     "output_type": "display_data"
    }
   ],
   "source": [
    "pop[[2015]].plot(kind='bar')"
   ]
  },
  {
   "cell_type": "code",
   "execution_count": 26,
   "metadata": {
    "collapsed": false
   },
   "outputs": [
    {
     "data": {
      "text/plain": [
       "<matplotlib.axes._subplots.AxesSubplot at 0x9c7dc88>"
      ]
     },
     "execution_count": 26,
     "metadata": {},
     "output_type": "execute_result"
    },
    {
     "data": {
      "image/png": "[encoded data removed]",
      "text/plain": [
       "<matplotlib.figure.Figure at 0xac60748>"
      ]
     },
     "metadata": {},
     "output_type": "display_data"
    }
   ],
   "source": [
    "# my fav\n",
    "pop[[2015]].plot(kind='barh')"
   ]
  },
  {
   "cell_type": "code",
   "execution_count": 30,
   "metadata": {
    "collapsed": false
   },
   "outputs": [
    {
     "data": {
      "text/plain": [
       "<matplotlib.text.Text at 0xb0bcb38>"
      ]
     },
     "execution_count": 30,
     "metadata": {},
     "output_type": "execute_result"
    },
    {
     "data": {
      "image/png": "[encoded data removed]",
      "text/plain": [
       "<matplotlib.figure.Figure at 0xaf405f8>"
      ]
     },
     "metadata": {},
     "output_type": "display_data"
    }
   ],
   "source": [
    "fig, ax = plt.subplots(figsize=(6,10))\n",
    "pop.plot.barh(ax=ax)\n",
    "ax.set_title('Population by age')\n",
    "ax.set_xlabel('Population (millions)')\n",
    "ax.set_ylabel('Age Range')"
   ]
  },
  {
   "cell_type": "code",
   "execution_count": 33,
   "metadata": {
    "collapsed": false
   },
   "outputs": [
    {
     "data": {
      "text/plain": [
       "array([<matplotlib.axes._subplots.AxesSubplot object at 0x000000000B6A1EF0>,\n",
       "       <matplotlib.axes._subplots.AxesSubplot object at 0x000000000B8A4F98>,\n",
       "       <matplotlib.axes._subplots.AxesSubplot object at 0x000000000B8EC9B0>,\n",
       "       <matplotlib.axes._subplots.AxesSubplot object at 0x000000000B92A0B8>,\n",
       "       <matplotlib.axes._subplots.AxesSubplot object at 0x000000000B973048>], dtype=object)"
      ]
     },
     "execution_count": 33,
     "metadata": {},
     "output_type": "execute_result"
    },
    {
     "data": {
      "image/png": "[encoded data removed]",
      "text/plain": [
       "<matplotlib.figure.Figure at 0xb5e8be0>"
      ]
     },
     "metadata": {},
     "output_type": "display_data"
    }
   ],
   "source": [
    "pop.plot(kind='bar', subplots=True, figsize=(6,8), sharey=True)"
   ]
  },
  {
   "cell_type": "code",
   "execution_count": null,
   "metadata": {
    "collapsed": true
   },
   "outputs": [],
   "source": []
  },
  {
   "cell_type": "code",
   "execution_count": null,
   "metadata": {
    "collapsed": true
   },
   "outputs": [],
   "source": []
  },
  {
   "cell_type": "markdown",
   "metadata": {},
   "source": [
    "## Question 5.  Dynamics of the yield curve \n",
    "\n",
    "One of our favorite topics is the yield curve:  a plot of the yield to maturity on a bond against the bond's maturity.  The foundation here is yields on zero coupon bonds, which are simpler objects than yields on coupon bonds.  \n",
    "\n",
    "We often refer to bond yields rising or falling, but in fact the yield curve often does different things at different maturities.  We will see that here.  For several years, short yields have been stuck at zero, yet yields for bond with maturities of two years and above have varied quite a bit.  \n",
    "\n",
    "We use the Fed's well-known [Gurkaynak, Sack, and Wright data](http://www.federalreserve.gov/pubs/feds/2006/200628/200628abs.html), which provides daily data on US Treasury yields from 1961 to the present.  The Fed posts the data, but it's in an unfriendly format.  So we saved it as a csv file, which we read in below.  The variables are yields:  `SVENYnn` is the yield for maturity `nn` years.  "
   ]
  },
  {
   "cell_type": "code",
   "execution_count": 34,
   "metadata": {
    "collapsed": false
   },
   "outputs": [
    {
     "name": "stdout",
     "output_type": "stream",
     "text": [
      "Dimensions:  (13638, 10)\n",
      "Column labels:  Index(['SVENY01', 'SVENY02', 'SVENY03', 'SVENY04', 'SVENY05', 'SVENY06',\n",
      "       'SVENY07', 'SVENY08', 'SVENY09', 'SVENY10'],\n",
      "      dtype='object')\n",
      "Row labels:  DatetimeIndex(['2016-02-24', '2016-02-23', '2016-02-22', '2016-02-19',\n",
      "               '2016-02-18', '2016-02-17', '2016-02-16', '2016-02-12',\n",
      "               '2016-02-11', '2016-02-10',\n",
      "               ...\n",
      "               '1961-06-27', '1961-06-26', '1961-06-23', '1961-06-22',\n",
      "               '1961-06-21', '1961-06-20', '1961-06-19', '1961-06-16',\n",
      "               '1961-06-15', '1961-06-14'],\n",
      "              dtype='datetime64[ns]', length=13638, freq=None)\n"
     ]
    }
   ],
   "source": [
    "# data input (takes about 20 seconds on a wireless network)\n",
    "url = 'http://pages.stern.nyu.edu/~dbackus/Data/feds200628.csv'\n",
    "gsw = pd.read_csv(url, skiprows=9, index_col=0, usecols=list(range(11)), parse_dates=True) \n",
    "print('Dimensions: ', gsw.shape)\n",
    "print('Column labels: ', gsw.columns)\n",
    "print('Row labels: ', gsw.index)"
   ]
  },
  {
   "cell_type": "code",
   "execution_count": 35,
   "metadata": {
    "collapsed": false
   },
   "outputs": [
    {
     "data": {
      "text/html": [
       "<div>\n",
       "<table border=\"1\" class=\"dataframe\">\n",
       "  <thead>\n",
       "    <tr style=\"text-align: right;\">\n",
       "      <th></th>\n",
       "      <th>SVENY01</th>\n",
       "      <th>SVENY02</th>\n",
       "      <th>SVENY03</th>\n",
       "      <th>SVENY04</th>\n",
       "      <th>SVENY05</th>\n",
       "      <th>SVENY06</th>\n",
       "      <th>SVENY07</th>\n",
       "      <th>SVENY08</th>\n",
       "      <th>SVENY09</th>\n",
       "      <th>SVENY10</th>\n",
       "    </tr>\n",
       "  </thead>\n",
       "  <tbody>\n",
       "    <tr>\n",
       "      <th>2010-12-31</th>\n",
       "      <td>0.3033</td>\n",
       "      <td>0.5956</td>\n",
       "      <td>1.0605</td>\n",
       "      <td>1.5529</td>\n",
       "      <td>2.0129</td>\n",
       "      <td>2.4201</td>\n",
       "      <td>2.7719</td>\n",
       "      <td>3.0724</td>\n",
       "      <td>3.3279</td>\n",
       "      <td>3.5448</td>\n",
       "    </tr>\n",
       "    <tr>\n",
       "      <th>2011-12-31</th>\n",
       "      <td>0.1493</td>\n",
       "      <td>0.2425</td>\n",
       "      <td>0.4165</td>\n",
       "      <td>0.6365</td>\n",
       "      <td>0.8778</td>\n",
       "      <td>1.1237</td>\n",
       "      <td>1.3630</td>\n",
       "      <td>1.5886</td>\n",
       "      <td>1.7963</td>\n",
       "      <td>1.9843</td>\n",
       "    </tr>\n",
       "    <tr>\n",
       "      <th>2012-12-31</th>\n",
       "      <td>0.1943</td>\n",
       "      <td>0.2485</td>\n",
       "      <td>0.3756</td>\n",
       "      <td>0.5505</td>\n",
       "      <td>0.7539</td>\n",
       "      <td>0.9715</td>\n",
       "      <td>1.1928</td>\n",
       "      <td>1.4102</td>\n",
       "      <td>1.6183</td>\n",
       "      <td>1.8137</td>\n",
       "    </tr>\n",
       "    <tr>\n",
       "      <th>2013-12-31</th>\n",
       "      <td>0.1511</td>\n",
       "      <td>0.3953</td>\n",
       "      <td>0.8306</td>\n",
       "      <td>1.3095</td>\n",
       "      <td>1.7627</td>\n",
       "      <td>2.1628</td>\n",
       "      <td>2.5029</td>\n",
       "      <td>2.7859</td>\n",
       "      <td>3.0189</td>\n",
       "      <td>3.2097</td>\n",
       "    </tr>\n",
       "    <tr>\n",
       "      <th>2014-12-31</th>\n",
       "      <td>0.2940</td>\n",
       "      <td>0.7064</td>\n",
       "      <td>1.1185</td>\n",
       "      <td>1.4471</td>\n",
       "      <td>1.6912</td>\n",
       "      <td>1.8696</td>\n",
       "      <td>2.0014</td>\n",
       "      <td>2.1012</td>\n",
       "      <td>2.1795</td>\n",
       "      <td>2.2432</td>\n",
       "    </tr>\n",
       "  </tbody>\n",
       "</table>\n",
       "</div>"
      ],
      "text/plain": [
       "            SVENY01  SVENY02  SVENY03  SVENY04  SVENY05  SVENY06  SVENY07  \\\n",
       "2010-12-31   0.3033   0.5956   1.0605   1.5529   2.0129   2.4201   2.7719   \n",
       "2011-12-31   0.1493   0.2425   0.4165   0.6365   0.8778   1.1237   1.3630   \n",
       "2012-12-31   0.1943   0.2485   0.3756   0.5505   0.7539   0.9715   1.1928   \n",
       "2013-12-31   0.1511   0.3953   0.8306   1.3095   1.7627   2.1628   2.5029   \n",
       "2014-12-31   0.2940   0.7064   1.1185   1.4471   1.6912   1.8696   2.0014   \n",
       "\n",
       "            SVENY08  SVENY09  SVENY10  \n",
       "2010-12-31   3.0724   3.3279   3.5448  \n",
       "2011-12-31   1.5886   1.7963   1.9843  \n",
       "2012-12-31   1.4102   1.6183   1.8137  \n",
       "2013-12-31   2.7859   3.0189   3.2097  \n",
       "2014-12-31   2.1012   2.1795   2.2432  "
      ]
     },
     "execution_count": 35,
     "metadata": {},
     "output_type": "execute_result"
    }
   ],
   "source": [
    "# grab recent data \n",
    "df = gsw[gsw.index >= dt.datetime(2010,1,1)]\n",
    "# convert to annual, last day of year\n",
    "df = df.resample('A', how='last').sort_index()\n",
    "df.head()"
   ]
  },
  {
   "cell_type": "code",
   "execution_count": 36,
   "metadata": {
    "collapsed": false
   },
   "outputs": [
    {
     "data": {
      "text/html": [
       "<div>\n",
       "<table border=\"1\" class=\"dataframe\">\n",
       "  <thead>\n",
       "    <tr style=\"text-align: right;\">\n",
       "      <th></th>\n",
       "      <th>2010-12-31 00:00:00</th>\n",
       "      <th>2011-12-31 00:00:00</th>\n",
       "      <th>2012-12-31 00:00:00</th>\n",
       "      <th>2013-12-31 00:00:00</th>\n",
       "      <th>2014-12-31 00:00:00</th>\n",
       "      <th>2015-12-31 00:00:00</th>\n",
       "      <th>2016-12-31 00:00:00</th>\n",
       "    </tr>\n",
       "  </thead>\n",
       "  <tbody>\n",
       "    <tr>\n",
       "      <th>1</th>\n",
       "      <td>0.3033</td>\n",
       "      <td>0.1493</td>\n",
       "      <td>0.1943</td>\n",
       "      <td>0.1511</td>\n",
       "      <td>0.2940</td>\n",
       "      <td>0.7898</td>\n",
       "      <td>0.6132</td>\n",
       "    </tr>\n",
       "    <tr>\n",
       "      <th>2</th>\n",
       "      <td>0.5956</td>\n",
       "      <td>0.2425</td>\n",
       "      <td>0.2485</td>\n",
       "      <td>0.3953</td>\n",
       "      <td>0.7064</td>\n",
       "      <td>1.0755</td>\n",
       "      <td>0.7607</td>\n",
       "    </tr>\n",
       "    <tr>\n",
       "      <th>3</th>\n",
       "      <td>1.0605</td>\n",
       "      <td>0.4165</td>\n",
       "      <td>0.3756</td>\n",
       "      <td>0.8306</td>\n",
       "      <td>1.1185</td>\n",
       "      <td>1.3501</td>\n",
       "      <td>0.9299</td>\n",
       "    </tr>\n",
       "  </tbody>\n",
       "</table>\n",
       "</div>"
      ],
      "text/plain": [
       "   2010-12-31  2011-12-31  2012-12-31  2013-12-31  2014-12-31  2015-12-31  \\\n",
       "1      0.3033      0.1493      0.1943      0.1511      0.2940      0.7898   \n",
       "2      0.5956      0.2425      0.2485      0.3953      0.7064      1.0755   \n",
       "3      1.0605      0.4165      0.3756      0.8306      1.1185      1.3501   \n",
       "\n",
       "   2016-12-31  \n",
       "1      0.6132  \n",
       "2      0.7607  \n",
       "3      0.9299  "
      ]
     },
     "execution_count": 36,
     "metadata": {},
     "output_type": "execute_result"
    }
   ],
   "source": [
    "df.columns = list(range(1,11))\n",
    "ylds = df.T\n",
    "ylds.head(3)"
   ]
  },
  {
   "cell_type": "markdown",
   "metadata": {},
   "source": [
    "With the dataframe `ylds`:  \n",
    "\n",
    "* Create figure and axis objects \n",
    "* Use the axis object to plot the yield curve for all the years in the dataframe.  \n",
    "* Add titles and axis labels. \n",
    "* Explain what you see:  What happened to the yield curve over the past six years? \n",
    "* **Challenging.**  Compute the mean yield for each maturity.  Plot them on the same graph in black.  "
   ]
  },
  {
   "cell_type": "code",
   "execution_count": null,
   "metadata": {
    "collapsed": true
   },
   "outputs": [],
   "source": [
    "fig, ax = plt.subplots()\n"
   ]
  },
  {
   "cell_type": "code",
   "execution_count": null,
   "metadata": {
    "collapsed": true
   },
   "outputs": [],
   "source": []
  },
  {
   "cell_type": "code",
   "execution_count": null,
   "metadata": {
    "collapsed": true
   },
   "outputs": [],
   "source": []
  }
 ],
 "metadata": {
  "kernelspec": {
   "display_name": "Python 3",
   "language": "python",
   "name": "python3"
  },
  "language_info": {
   "codemirror_mode": {
    "name": "ipython",
    "version": 3
   },
   "file_extension": ".py",
   "mimetype": "text/x-python",
   "name": "python",
   "nbconvert_exporter": "python",
   "pygments_lexer": "ipython3",
   "version": "3.5.1"
  }
 },
 "nbformat": 4,
 "nbformat_minor": 0
}
