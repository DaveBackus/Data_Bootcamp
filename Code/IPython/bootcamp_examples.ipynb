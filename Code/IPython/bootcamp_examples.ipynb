{
 "cells": [
  {
   "cell_type": "markdown",
   "metadata": {},
   "source": [
    "## Data Bootcamp:  Examples\n",
    "\n",
    "Introductory examples for [Data Bootcamp](https://github.com/DaveBackus/Data_Bootcamp#data-bootcamp), a course at NYU's Stern School of Business. The course is designed to introduce students to economic and financial data and the Python tools to work with it effectively. The code that follows will be obscure if you're new to Python, but you will be able to do all of this and more by the end of the course.   \n",
    "\n",
    "### Examples \n",
    "\n",
    "* World GDP \n",
    "* US GDP growth (data from FRED)\n",
    "* Chinese economic indicators (FRED) \n",
    "* US economic indicators (FRED) \n",
    "* US labor market conditions (Beveridge curve) (FRED) \n",
    "* Government debt (WEO) (Greece, US, Japan, ??) \n",
    "* GDP per capita in emerging market economies (World Bank) \n",
    "* Emerging market indicators (World Bank?) \n",
    "* Stock prices and returns (Yahoo?) \n",
    "* Demographics \n",
    "* Fama-French equity \"factors\" (data from Ken French's website)\n",
    "* S&P 500 ETF (Spyders) (Yahoo finance) \n",
    "\n",
    "\n",
    "Written by Dave Backus.  A product of the #nyuecon NYU Python Factory at NYU's Stern School of Business "
   ]
  },
  {
   "cell_type": "markdown",
   "metadata": {},
   "source": [
    "###  Preliminaries"
   ]
  },
  {
   "cell_type": "code",
   "execution_count": 196,
   "metadata": {
    "collapsed": false
   },
   "outputs": [
    {
     "name": "stdout",
     "output_type": "stream",
     "text": [
      "Today is:  2015-08-31\n",
      "What version of Python are we running? \n",
      "3.4.1 |Anaconda 2.3.0 (64-bit)| (default, Jun 11 2014, 17:27:11) [MSC v.1600 64 bit (AMD64)]\n"
     ]
    }
   ],
   "source": [
    "# checks \n",
    "# anything after a hash (#) is a comment \n",
    "import datetime as dt \n",
    "import sys\n",
    "print('Today is: ', dt.date.today())\n",
    "print('What version of Python are we running? \\n', sys.version, sep='') "
   ]
  },
  {
   "cell_type": "code",
   "execution_count": 181,
   "metadata": {
    "collapsed": false
   },
   "outputs": [],
   "source": [
    "# This is an IPython command: it says to put plots here in the notebook, rather than open separate windows.\n",
    "%matplotlib inline"
   ]
  },
  {
   "cell_type": "markdown",
   "metadata": {},
   "source": [
    "### Example 1:  Comparing countries by GDP and GDP per capita\n",
    "\n",
    "**GDP** is the total value of output produced in a country.  **GDP per capita** is the per person version:  GDP divided by the population.  Both are expressed in 2011 US dollars with an adjustment for the cost of living.  They come from the World Bank's *World Development Indicators*, a great source of information about economic and social conditions around the world.  See the World Bank's [data catalog](http://datacatalog.worldbank.org/).\n",
    "\n",
    "For more information about accessing World Bank data in Python, see the [Pandas documentation](http://pandas.pydata.org/pandas-docs/stable/remote_data.html#remote-data-wb). "
   ]
  },
  {
   "cell_type": "code",
   "execution_count": 182,
   "metadata": {
    "collapsed": true
   },
   "outputs": [],
   "source": [
    "# load packages (redundancy is ok)\n",
    "import pandas as pd                # data management tools \n",
    "from pandas.io import wb           # World Bank api \n",
    "import matplotlib.pyplot as plt    # plotting tools "
   ]
  },
  {
   "cell_type": "code",
   "execution_count": 183,
   "metadata": {
    "collapsed": false
   },
   "outputs": [
    {
     "data": {
      "text/html": [
       "<div>\n",
       "<table border=\"1\" class=\"dataframe\">\n",
       "  <thead>\n",
       "    <tr style=\"text-align: right;\">\n",
       "      <th></th>\n",
       "      <th>id</th>\n",
       "      <th>name</th>\n",
       "    </tr>\n",
       "  </thead>\n",
       "  <tbody>\n",
       "    <tr>\n",
       "      <th>686</th>\n",
       "      <td>6.0.GDP_usd</td>\n",
       "      <td>GDP (constant 2005 $)</td>\n",
       "    </tr>\n",
       "    <tr>\n",
       "      <th>687</th>\n",
       "      <td>6.0.GDPpc_constant</td>\n",
       "      <td>GDP per capita, PPP (constant 2011 internation...</td>\n",
       "    </tr>\n",
       "    <tr>\n",
       "      <th>4369</th>\n",
       "      <td>EG.GDP.PUSE.KO.PP.KD</td>\n",
       "      <td>GDP per unit of energy use (constant 2011 PPP ...</td>\n",
       "    </tr>\n",
       "    <tr>\n",
       "      <th>4377</th>\n",
       "      <td>EG.USE.COMM.GD.PP.KD</td>\n",
       "      <td>Energy use (kg of oil equivalent) per $1,000 G...</td>\n",
       "    </tr>\n",
       "    <tr>\n",
       "      <th>4711</th>\n",
       "      <td>GDPPCKD</td>\n",
       "      <td>GDP per Capita, constant US$, millions</td>\n",
       "    </tr>\n",
       "    <tr>\n",
       "      <th>6484</th>\n",
       "      <td>NA.GDP.AGR.KR</td>\n",
       "      <td>GDP on Agriculture Sector (in IDR Million), Co...</td>\n",
       "    </tr>\n",
       "    <tr>\n",
       "      <th>6485</th>\n",
       "      <td>NA.GDP.CNST.CR</td>\n",
       "      <td>GDP on Construction Sector (in IDR Million), C...</td>\n",
       "    </tr>\n",
       "    <tr>\n",
       "      <th>6486</th>\n",
       "      <td>NA.GDP.CNST.KR</td>\n",
       "      <td>GDP on Construction Sector (in IDR Million), C...</td>\n",
       "    </tr>\n",
       "    <tr>\n",
       "      <th>6488</th>\n",
       "      <td>NA.GDP.EXC.OG.KR</td>\n",
       "      <td>Total GDP excluding Oil and Gas (in IDR Millio...</td>\n",
       "    </tr>\n",
       "    <tr>\n",
       "      <th>6490</th>\n",
       "      <td>NA.GDP.FINS.KR</td>\n",
       "      <td>GDP on Financial Service Sector (in IDR Millio...</td>\n",
       "    </tr>\n",
       "    <tr>\n",
       "      <th>6492</th>\n",
       "      <td>NA.GDP.INC.OG.KR</td>\n",
       "      <td>Total GDP including Oil and Gas (in IDR Millio...</td>\n",
       "    </tr>\n",
       "    <tr>\n",
       "      <th>6494</th>\n",
       "      <td>NA.GDP.MINQ.KR</td>\n",
       "      <td>GDP on Mining and Quarrying Sector (in IDR Mil...</td>\n",
       "    </tr>\n",
       "    <tr>\n",
       "      <th>6496</th>\n",
       "      <td>NA.GDP.MNF.KR</td>\n",
       "      <td>GDP on Manufacturing Sector (in IDR Million), ...</td>\n",
       "    </tr>\n",
       "    <tr>\n",
       "      <th>6498</th>\n",
       "      <td>NA.GDP.SRV.OTHR.KR</td>\n",
       "      <td>GDP on Other Service Sector (in IDR Million), ...</td>\n",
       "    </tr>\n",
       "    <tr>\n",
       "      <th>6500</th>\n",
       "      <td>NA.GDP.TRAN.COMM.KR</td>\n",
       "      <td>GDP on Transportation and Telecommunication Se...</td>\n",
       "    </tr>\n",
       "    <tr>\n",
       "      <th>6502</th>\n",
       "      <td>NA.GDP.TRD.HTL.KR</td>\n",
       "      <td>GDP on Trade, Hotel and Restaurant Sector (in ...</td>\n",
       "    </tr>\n",
       "    <tr>\n",
       "      <th>6504</th>\n",
       "      <td>NA.GDP.UTL.KR</td>\n",
       "      <td>GDP on Utilities Sector (in IDR Million), Cons...</td>\n",
       "    </tr>\n",
       "    <tr>\n",
       "      <th>6557</th>\n",
       "      <td>NE.GDI.FCGV.KD</td>\n",
       "      <td>GDFI - central government (constant 2000 US$)</td>\n",
       "    </tr>\n",
       "    <tr>\n",
       "      <th>6558</th>\n",
       "      <td>NE.GDI.FCGV.KN</td>\n",
       "      <td>GDFI - central government (constant LCU)</td>\n",
       "    </tr>\n",
       "    <tr>\n",
       "      <th>6561</th>\n",
       "      <td>NE.GDI.FGOV.KD</td>\n",
       "      <td>GDFI - general government (constant 2000 US$)</td>\n",
       "    </tr>\n",
       "    <tr>\n",
       "      <th>6562</th>\n",
       "      <td>NE.GDI.FGOV.KN</td>\n",
       "      <td>GDFI - general government (constant LCU)</td>\n",
       "    </tr>\n",
       "    <tr>\n",
       "      <th>6565</th>\n",
       "      <td>NE.GDI.FLGV.KN</td>\n",
       "      <td>GDFI - state and local government (constant LCU)</td>\n",
       "    </tr>\n",
       "    <tr>\n",
       "      <th>6568</th>\n",
       "      <td>NE.GDI.FPBE.KN</td>\n",
       "      <td>GDFI - public enterprises (constant LCU)</td>\n",
       "    </tr>\n",
       "    <tr>\n",
       "      <th>6571</th>\n",
       "      <td>NE.GDI.FPRV.KD</td>\n",
       "      <td>GDFI - private sector (constant 2000 US$)</td>\n",
       "    </tr>\n",
       "    <tr>\n",
       "      <th>6572</th>\n",
       "      <td>NE.GDI.FPRV.KN</td>\n",
       "      <td>GDFI - private sector (constant LCU)</td>\n",
       "    </tr>\n",
       "    <tr>\n",
       "      <th>6576</th>\n",
       "      <td>NE.GDI.FPUB.KD</td>\n",
       "      <td>GDFI - public sector (constant 2000 US$)</td>\n",
       "    </tr>\n",
       "    <tr>\n",
       "      <th>6577</th>\n",
       "      <td>NE.GDI.FPUB.KN</td>\n",
       "      <td>GDFI - public sector (constant LCU)</td>\n",
       "    </tr>\n",
       "    <tr>\n",
       "      <th>6719</th>\n",
       "      <td>NV.SRV.DISC.KN</td>\n",
       "      <td>Discrepancy in GDP, value added (constant LCU)</td>\n",
       "    </tr>\n",
       "    <tr>\n",
       "      <th>6778</th>\n",
       "      <td>NY.GDP.DISC.KN</td>\n",
       "      <td>Discrepancy in expenditure estimate of GDP (co...</td>\n",
       "    </tr>\n",
       "    <tr>\n",
       "      <th>6789</th>\n",
       "      <td>NY.GDP.MKTP.KD</td>\n",
       "      <td>GDP (constant 2005 US$)</td>\n",
       "    </tr>\n",
       "    <tr>\n",
       "      <th>6792</th>\n",
       "      <td>NY.GDP.MKTP.KN</td>\n",
       "      <td>GDP (constant LCU)</td>\n",
       "    </tr>\n",
       "    <tr>\n",
       "      <th>6794</th>\n",
       "      <td>NY.GDP.MKTP.PP.KD</td>\n",
       "      <td>GDP, PPP (constant 2011 international $)</td>\n",
       "    </tr>\n",
       "    <tr>\n",
       "      <th>6799</th>\n",
       "      <td>NY.GDP.PCAP.KD</td>\n",
       "      <td>GDP per capita (constant 2005 US$)</td>\n",
       "    </tr>\n",
       "    <tr>\n",
       "      <th>6801</th>\n",
       "      <td>NY.GDP.PCAP.KN</td>\n",
       "      <td>GDP per capita (constant LCU)</td>\n",
       "    </tr>\n",
       "    <tr>\n",
       "      <th>6803</th>\n",
       "      <td>NY.GDP.PCAP.PP.KD</td>\n",
       "      <td>GDP per capita, PPP (constant 2011 internation...</td>\n",
       "    </tr>\n",
       "    <tr>\n",
       "      <th>6866</th>\n",
       "      <td>NYGDPDISCKD</td>\n",
       "      <td>GDP Discrepancy, constant US$, millions</td>\n",
       "    </tr>\n",
       "    <tr>\n",
       "      <th>6867</th>\n",
       "      <td>NYGDPDISCKN</td>\n",
       "      <td>GDP Discrepancy, constant LCU, millions</td>\n",
       "    </tr>\n",
       "    <tr>\n",
       "      <th>6873</th>\n",
       "      <td>NYGDPMKTPKD</td>\n",
       "      <td>GDP, constant US$, millions</td>\n",
       "    </tr>\n",
       "    <tr>\n",
       "      <th>6874</th>\n",
       "      <td>NYGDPMKTPKDZ</td>\n",
       "      <td>Annual percentage growth rate of GDP at market...</td>\n",
       "    </tr>\n",
       "    <tr>\n",
       "      <th>6875</th>\n",
       "      <td>NYGDPMKTPKN</td>\n",
       "      <td>GDP, constant LCU, millions</td>\n",
       "    </tr>\n",
       "    <tr>\n",
       "      <th>6876</th>\n",
       "      <td>NYGDPMKTPKP</td>\n",
       "      <td>GDP, PPP basis, constant intl $, millions</td>\n",
       "    </tr>\n",
       "    <tr>\n",
       "      <th>6880</th>\n",
       "      <td>NYGDPPOTLKD</td>\n",
       "      <td>GDP Potential, constant US$, millions</td>\n",
       "    </tr>\n",
       "    <tr>\n",
       "      <th>7797</th>\n",
       "      <td>SL.GDP.PCAP.EM.KD</td>\n",
       "      <td>GDP per person employed (constant 1990 PPP $)</td>\n",
       "    </tr>\n",
       "  </tbody>\n",
       "</table>\n",
       "</div>"
      ],
      "text/plain": [
       "                        id                                               name\n",
       "686            6.0.GDP_usd                              GDP (constant 2005 $)\n",
       "687     6.0.GDPpc_constant  GDP per capita, PPP (constant 2011 internation...\n",
       "4369  EG.GDP.PUSE.KO.PP.KD  GDP per unit of energy use (constant 2011 PPP ...\n",
       "4377  EG.USE.COMM.GD.PP.KD  Energy use (kg of oil equivalent) per $1,000 G...\n",
       "4711               GDPPCKD             GDP per Capita, constant US$, millions\n",
       "6484         NA.GDP.AGR.KR  GDP on Agriculture Sector (in IDR Million), Co...\n",
       "6485        NA.GDP.CNST.CR  GDP on Construction Sector (in IDR Million), C...\n",
       "6486        NA.GDP.CNST.KR  GDP on Construction Sector (in IDR Million), C...\n",
       "6488      NA.GDP.EXC.OG.KR  Total GDP excluding Oil and Gas (in IDR Millio...\n",
       "6490        NA.GDP.FINS.KR  GDP on Financial Service Sector (in IDR Millio...\n",
       "6492      NA.GDP.INC.OG.KR  Total GDP including Oil and Gas (in IDR Millio...\n",
       "6494        NA.GDP.MINQ.KR  GDP on Mining and Quarrying Sector (in IDR Mil...\n",
       "6496         NA.GDP.MNF.KR  GDP on Manufacturing Sector (in IDR Million), ...\n",
       "6498    NA.GDP.SRV.OTHR.KR  GDP on Other Service Sector (in IDR Million), ...\n",
       "6500   NA.GDP.TRAN.COMM.KR  GDP on Transportation and Telecommunication Se...\n",
       "6502     NA.GDP.TRD.HTL.KR  GDP on Trade, Hotel and Restaurant Sector (in ...\n",
       "6504         NA.GDP.UTL.KR  GDP on Utilities Sector (in IDR Million), Cons...\n",
       "6557        NE.GDI.FCGV.KD      GDFI - central government (constant 2000 US$)\n",
       "6558        NE.GDI.FCGV.KN           GDFI - central government (constant LCU)\n",
       "6561        NE.GDI.FGOV.KD      GDFI - general government (constant 2000 US$)\n",
       "6562        NE.GDI.FGOV.KN           GDFI - general government (constant LCU)\n",
       "6565        NE.GDI.FLGV.KN   GDFI - state and local government (constant LCU)\n",
       "6568        NE.GDI.FPBE.KN           GDFI - public enterprises (constant LCU)\n",
       "6571        NE.GDI.FPRV.KD          GDFI - private sector (constant 2000 US$)\n",
       "6572        NE.GDI.FPRV.KN               GDFI - private sector (constant LCU)\n",
       "6576        NE.GDI.FPUB.KD           GDFI - public sector (constant 2000 US$)\n",
       "6577        NE.GDI.FPUB.KN                GDFI - public sector (constant LCU)\n",
       "6719        NV.SRV.DISC.KN     Discrepancy in GDP, value added (constant LCU)\n",
       "6778        NY.GDP.DISC.KN  Discrepancy in expenditure estimate of GDP (co...\n",
       "6789        NY.GDP.MKTP.KD                            GDP (constant 2005 US$)\n",
       "6792        NY.GDP.MKTP.KN                                 GDP (constant LCU)\n",
       "6794     NY.GDP.MKTP.PP.KD           GDP, PPP (constant 2011 international $)\n",
       "6799        NY.GDP.PCAP.KD                 GDP per capita (constant 2005 US$)\n",
       "6801        NY.GDP.PCAP.KN                      GDP per capita (constant LCU)\n",
       "6803     NY.GDP.PCAP.PP.KD  GDP per capita, PPP (constant 2011 internation...\n",
       "6866           NYGDPDISCKD            GDP Discrepancy, constant US$, millions\n",
       "6867           NYGDPDISCKN            GDP Discrepancy, constant LCU, millions\n",
       "6873           NYGDPMKTPKD                        GDP, constant US$, millions\n",
       "6874          NYGDPMKTPKDZ  Annual percentage growth rate of GDP at market...\n",
       "6875           NYGDPMKTPKN                        GDP, constant LCU, millions\n",
       "6876           NYGDPMKTPKP          GDP, PPP basis, constant intl $, millions\n",
       "6880           NYGDPPOTLKD              GDP Potential, constant US$, millions\n",
       "7797     SL.GDP.PCAP.EM.KD      GDP per person employed (constant 1990 PPP $)"
      ]
     },
     "execution_count": 183,
     "metadata": {},
     "output_type": "execute_result"
    }
   ],
   "source": [
    "# look for variable codes  \n",
    "wb.search('gdp.*capita.*const').iloc[:,:2]"
   ]
  },
  {
   "cell_type": "code",
   "execution_count": 184,
   "metadata": {
    "collapsed": false
   },
   "outputs": [
    {
     "data": {
      "text/html": [
       "<div>\n",
       "<table border=\"1\" class=\"dataframe\">\n",
       "  <thead>\n",
       "    <tr style=\"text-align: right;\">\n",
       "      <th></th>\n",
       "      <th></th>\n",
       "      <th>NY.GDP.PCAP.PP.KD</th>\n",
       "      <th>NY.GDP.MKTP.PP.KD</th>\n",
       "    </tr>\n",
       "    <tr>\n",
       "      <th>country</th>\n",
       "      <th>year</th>\n",
       "      <th></th>\n",
       "      <th></th>\n",
       "    </tr>\n",
       "  </thead>\n",
       "  <tbody>\n",
       "    <tr>\n",
       "      <th>Brazil</th>\n",
       "      <th>2014</th>\n",
       "      <td>15412.287902</td>\n",
       "      <td>3.113801e+12</td>\n",
       "    </tr>\n",
       "    <tr>\n",
       "      <th>China</th>\n",
       "      <th>2014</th>\n",
       "      <td>12608.876430</td>\n",
       "      <td>1.720191e+13</td>\n",
       "    </tr>\n",
       "    <tr>\n",
       "      <th>France</th>\n",
       "      <th>2014</th>\n",
       "      <td>37217.533782</td>\n",
       "      <td>2.463852e+12</td>\n",
       "    </tr>\n",
       "    <tr>\n",
       "      <th>India</th>\n",
       "      <th>2014</th>\n",
       "      <td>5565.053876</td>\n",
       "      <td>7.053160e+12</td>\n",
       "    </tr>\n",
       "    <tr>\n",
       "      <th>Japan</th>\n",
       "      <th>2014</th>\n",
       "      <td>35634.978250</td>\n",
       "      <td>4.530339e+12</td>\n",
       "    </tr>\n",
       "    <tr>\n",
       "      <th>Mexico</th>\n",
       "      <th>2014</th>\n",
       "      <td>16495.801721</td>\n",
       "      <td>2.042167e+12</td>\n",
       "    </tr>\n",
       "    <tr>\n",
       "      <th>United States</th>\n",
       "      <th>2014</th>\n",
       "      <td>52117.759675</td>\n",
       "      <td>1.661812e+13</td>\n",
       "    </tr>\n",
       "  </tbody>\n",
       "</table>\n",
       "</div>"
      ],
      "text/plain": [
       "                    NY.GDP.PCAP.PP.KD  NY.GDP.MKTP.PP.KD\n",
       "country       year                                      \n",
       "Brazil        2014       15412.287902       3.113801e+12\n",
       "China         2014       12608.876430       1.720191e+13\n",
       "France        2014       37217.533782       2.463852e+12\n",
       "India         2014        5565.053876       7.053160e+12\n",
       "Japan         2014       35634.978250       4.530339e+12\n",
       "Mexico        2014       16495.801721       2.042167e+12\n",
       "United States 2014       52117.759675       1.661812e+13"
      ]
     },
     "execution_count": 184,
     "metadata": {},
     "output_type": "execute_result"
    }
   ],
   "source": [
    "# read data from World Bank \n",
    "var = ['NY.GDP.PCAP.PP.KD', 'NY.GDP.MKTP.PP.KD']          # variable list \n",
    "iso  = ['USA', 'FRA', 'JPN', 'CHN', 'IND', 'BRA', 'MEX']  # country list (ISO codes)\n",
    "year = 2014 \n",
    "df = wb.download(indicator=var, country=iso, start=year, end=year)\n",
    "df"
   ]
  },
  {
   "cell_type": "code",
   "execution_count": 185,
   "metadata": {
    "collapsed": false
   },
   "outputs": [],
   "source": [
    "# massage data \n",
    "df = df.reset_index(level='year', drop=True)\n",
    "df.columns = ['gdppc', 'gdp']\n",
    "df['gdp'] = df['gdp']/10**12           # convert to trillions\n",
    "df['gdppc'] = df['gdppc']/10**3        # convert to thousands \n",
    "df['order'] = [5, 3, 1, 4, 2, 6, 0]    # reorder countries \n",
    "df = df.sort(columns='order', ascending=False)"
   ]
  },
  {
   "cell_type": "code",
   "execution_count": 186,
   "metadata": {
    "collapsed": false
   },
   "outputs": [
    {
     "data": {
      "text/plain": [
       "<matplotlib.text.Text at 0x991fbe0>"
      ]
     },
     "execution_count": 186,
     "metadata": {},
     "output_type": "execute_result"
    },
    {
     "data": {
      "image/png": "[encoded data removed]",
      "text/plain": [
       "<matplotlib.figure.Figure at 0xb5aa828>"
      ]
     },
     "metadata": {},
     "output_type": "display_data"
    }
   ],
   "source": [
    "ax = df['gdp'].plot(kind='barh')\n",
    "ax.set_title('GDP', loc='left', fontsize=14)\n",
    "ax.set_xlabel('Trillions of US Dollars')\n",
    "ax.set_ylabel('')"
   ]
  },
  {
   "cell_type": "code",
   "execution_count": 187,
   "metadata": {
    "collapsed": false
   },
   "outputs": [
    {
     "data": {
      "text/plain": [
       "<matplotlib.text.Text at 0x9a59ac8>"
      ]
     },
     "execution_count": 187,
     "metadata": {},
     "output_type": "execute_result"
    },
    {
     "data": {
      "image/png": "[encoded data removed]",
      "text/plain": [
       "<matplotlib.figure.Figure at 0x98eb208>"
      ]
     },
     "metadata": {},
     "output_type": "display_data"
    }
   ],
   "source": [
    "ax = df['gdppc'].plot(kind='barh', alpha=0.5) \n",
    "ax.set_title('GDP Per Capita', loc='left', fontsize=14)\n",
    "ax.set_xlabel('Thousands of US Dollars')\n",
    "ax.set_ylabel('')"
   ]
  },
  {
   "cell_type": "markdown",
   "metadata": {},
   "source": [
    "### Open questions  \n",
    "\n",
    "* Why such large differences between countries?\n",
    "* What other country indicators would you like to see?\n",
    "* How would you improve these graphs?"
   ]
  },
  {
   "cell_type": "markdown",
   "metadata": {},
   "source": [
    "### Example 2:  US economic conditions \n",
    "\n",
    "Fluctuations...  Investors -- and others -- keep a close eye on the state of the economy because it affects the performance and value of firms.  We'll go into this more extensively later, but for now we want to see what the economy has done in the past, especially the recent past.  We use the St Louis Fed's [FRED database](https://research.stlouisfed.org/fred2/) (Federal Reserve Economic Data), one of the best sources of macroeconomic data.  \n",
    "\n",
    "For more information about accessing FRED data in Python, see the [Pandas documentation](http://pandas.pydata.org/pandas-docs/stable/remote_data.html#remote-data-fred). "
   ]
  },
  {
   "cell_type": "code",
   "execution_count": 215,
   "metadata": {
    "collapsed": true
   },
   "outputs": [],
   "source": [
    "# get data from FRED\n",
    "fred_series = [\"GDPC1\"]\n",
    "start_date = dt.datetime(1960, 1, 1)\n",
    "fred = web.DataReader(fred_series, \"fred\", start_date)/10**3"
   ]
  },
  {
   "cell_type": "code",
   "execution_count": 222,
   "metadata": {
    "collapsed": false,
    "scrolled": true
   },
   "outputs": [
    {
     "name": "stdout",
     "output_type": "stream",
     "text": [
      "              GDPC1\n",
      "DATE               \n",
      "2014-10-01  16.1514\n",
      "2015-01-01  16.1773\n",
      "2015-04-01  16.3243\n"
     ]
    },
    {
     "data": {
      "text/plain": [
       "<matplotlib.legend.Legend at 0x9edc518>"
      ]
     },
     "execution_count": 222,
     "metadata": {},
     "output_type": "execute_result"
    },
    {
     "data": {
      "image/png": "[encoded data removed]",
      "text/plain": [
       "<matplotlib.figure.Figure at 0x9ef1f60>"
      ]
     },
     "metadata": {},
     "output_type": "display_data"
    }
   ],
   "source": [
    "# print last 3 data points to see what we've got \n",
    "# note:  quarterly data \n",
    "print(fred.tail(3))  \n",
    "# plot \n",
    "ax = fred.plot(legend=False)\n",
    "ax.set_title('US Real GDP', fontsize=14, loc='left')\n",
    "ax.set_xlabel('')\n",
    "ax.set_ylabel('Trillions of Chained US Dollars')\n",
    "ax.legend('')"
   ]
  },
  {
   "cell_type": "code",
   "execution_count": 224,
   "metadata": {
    "collapsed": false
   },
   "outputs": [
    {
     "name": "stdout",
     "output_type": "stream",
     "text": [
      "               GDPC1\n",
      "DATE                \n",
      "2014-04-01  4.492238\n",
      "2014-07-01  4.208408\n",
      "2014-10-01  2.056159\n",
      "2015-01-01  0.641430\n",
      "2015-04-01  3.634723\n"
     ]
    }
   ],
   "source": [
    "# compute quarterly growth rates \n",
    "g = 400*fred.pct_change()           # 400 makes this an annual percentage  \n",
    "print(g.tail(5))\n",
    "# change label   \n",
    "g.columns = ['US GDP Growth']"
   ]
  },
  {
   "cell_type": "code",
   "execution_count": 211,
   "metadata": {
    "collapsed": false
   },
   "outputs": [],
   "source": [
    "# get mean and standard deviation \n",
    "gmean = g.mean()\n",
    "gstd  = g.std() "
   ]
  },
  {
   "cell_type": "code",
   "execution_count": 231,
   "metadata": {
    "collapsed": false
   },
   "outputs": [
    {
     "ename": "NameError",
     "evalue": "name 'DATE' is not defined",
     "output_type": "error",
     "traceback": [
      "\u001b[1;31m---------------------------------------------------------------------------\u001b[0m",
      "\u001b[1;31mNameError\u001b[0m                                 Traceback (most recent call last)",
      "\u001b[1;32m<ipython-input-231-8c2a70e0ee6e>\u001b[0m in \u001b[0;36m<module>\u001b[1;34m()\u001b[0m\n\u001b[1;32m----> 1\u001b[1;33m \u001b[0mg\u001b[0m\u001b[1;33m[\u001b[0m\u001b[0mDATE\u001b[0m\u001b[1;33m>=\u001b[0m\u001b[1;33m(\u001b[0m\u001b[1;36m1990\u001b[0m\u001b[1;33m,\u001b[0m \u001b[1;36m1\u001b[0m\u001b[1;33m,\u001b[0m \u001b[1;36m1\u001b[0m\u001b[1;33m)\u001b[0m\u001b[1;33m]\u001b[0m\u001b[1;33m.\u001b[0m\u001b[0mplot\u001b[0m\u001b[1;33m(\u001b[0m\u001b[0mkind\u001b[0m\u001b[1;33m=\u001b[0m\u001b[1;34m'bar'\u001b[0m\u001b[1;33m)\u001b[0m\u001b[1;33m\u001b[0m\u001b[0m\n\u001b[0m",
      "\u001b[1;31mNameError\u001b[0m: name 'DATE' is not defined"
     ]
    }
   ],
   "source": [
    "g[DATE>=(1990, 1, 1)].plot(kind='bar')"
   ]
  },
  {
   "cell_type": "code",
   "execution_count": 209,
   "metadata": {
    "collapsed": false
   },
   "outputs": [
    {
     "data": {
      "image/png": "[encoded data removed]",
      "text/plain": [
       "<matplotlib.figure.Figure at 0x9978320>"
      ]
     },
     "metadata": {},
     "output_type": "display_data"
    }
   ],
   "source": [
    "# simple plot \n",
    "# note the financial crisis:  GDP fell 8% one quarter (annual rate, so really 2%)\n",
    "ax = g.plot() "
   ]
  },
  {
   "cell_type": "code",
   "execution_count": 193,
   "metadata": {
    "collapsed": false
   },
   "outputs": [
    {
     "data": {
      "text/plain": [
       "<matplotlib.text.Text at 0x9b4c6a0>"
      ]
     },
     "execution_count": 193,
     "metadata": {},
     "output_type": "execute_result"
    },
    {
     "data": {
      "image/png": "[encoded data removed]",
      "text/plain": [
       "<matplotlib.figure.Figure at 0x9b2b898>"
      ]
     },
     "metadata": {},
     "output_type": "display_data"
    }
   ],
   "source": [
    "# fix up plot\n",
    "plt.title('US GDP Growth')\n",
    "#plt.show() "
   ]
  },
  {
   "cell_type": "code",
   "execution_count": 194,
   "metadata": {
    "collapsed": false
   },
   "outputs": [],
   "source": [
    "# more complex plot, bar chart for last 6 quarters\n",
    "# put mean "
   ]
  },
  {
   "cell_type": "markdown",
   "metadata": {},
   "source": [
    "---\n",
    "\n",
    "### Example 2: Fama-French equity \"factors\"\n",
    "\n",
    "Gene Fama and Ken French are two of the leading academics studying (primarily) equity returns.  Some of this work is summarized in the [press release](http://www.nobelprize.org/nobel_prizes/economic-sciences/laureates/2013/press.html) and related material for the 2013 Nobel Prize in economics, which was shared by Fama with Lars Hansen and Robert Shiller.  For now, it's enough to say that Ken French posts an extensive collection of equity data on his website.  \n",
    "\n",
    "We'll look at what have come to be called the Fama-French factors.  The data includes:\n",
    "\n",
    "* xsm:  the return on the market (aggregate equity) minus the riskfree rate\n",
    "* smb (small minus big):  the return on small firms minus the return on big firms \n",
    "* hml (high minus low):  the return on firms with high book-to-market ratios minus those with low ratios. \n",
    "* rf:  the riskfree rate.\n",
    "\n",
    "We download all of these at once, monthly from 1926.  Each is reported as a percentage.\n",
    "Since they're monthly, you can get a rough annual number if you multiply by 12. \n",
    "\n",
    "**Question(s).** \n",
    "The question we address is how the returns compare:  their means, their variability, and so on.  \n",
    "[Ask yourself:  how would I answer this?  What would I like to do with the data?]\n",
    "\n",
    "References\n",
    "\n",
    "* http://mba.tuck.dartmouth.edu/pages/faculty/ken.french/data_library.html\n",
    "* http://quant-econ.net/pandas.html\n",
    "* http://pandas.pydata.org/pandas-docs/dev/remote_data.html#fama-french\n",
    "* http://pandas.pydata.org/pandas-docs/stable/10min.html#selection \n",
    "* http://matplotlib.org/api/pyplot_api.html#matplotlib.pyplot.boxplot\n",
    "* http://pandas.pydata.org/pandas-docs/dev/generated/pandas.DataFrame.hist.html \n",
    "\n",
    "---"
   ]
  },
  {
   "cell_type": "code",
   "execution_count": 195,
   "metadata": {
    "collapsed": false
   },
   "outputs": [
    {
     "ename": "HTTPError",
     "evalue": "HTTP Error 404: Not Found",
     "output_type": "error",
     "traceback": [
      "\u001b[1;31m---------------------------------------------------------------------------\u001b[0m",
      "\u001b[1;31mHTTPError\u001b[0m                                 Traceback (most recent call last)",
      "\u001b[1;32m<ipython-input-195-f90fb69e3682>\u001b[0m in \u001b[0;36m<module>\u001b[1;34m()\u001b[0m\n\u001b[0;32m      3\u001b[0m \u001b[1;33m\u001b[0m\u001b[0m\n\u001b[0;32m      4\u001b[0m \u001b[1;31m# read data from Ken French's website\u001b[0m\u001b[1;33m\u001b[0m\u001b[1;33m\u001b[0m\u001b[0m\n\u001b[1;32m----> 5\u001b[1;33m \u001b[0mff\u001b[0m \u001b[1;33m=\u001b[0m \u001b[0mweb\u001b[0m\u001b[1;33m.\u001b[0m\u001b[0mDataReader\u001b[0m\u001b[1;33m(\u001b[0m\u001b[1;34m'F-F_Research_Data_Factors'\u001b[0m\u001b[1;33m,\u001b[0m \u001b[1;34m'famafrench'\u001b[0m\u001b[1;33m)\u001b[0m\u001b[1;33m[\u001b[0m\u001b[1;36m0\u001b[0m\u001b[1;33m]\u001b[0m\u001b[1;33m\u001b[0m\u001b[0m\n\u001b[0m\u001b[0;32m      6\u001b[0m \u001b[1;31m# NB:  ff.xs is a conflict, rename to xsm\u001b[0m\u001b[1;33m\u001b[0m\u001b[1;33m\u001b[0m\u001b[0m\n\u001b[0;32m      7\u001b[0m \u001b[0mff\u001b[0m\u001b[1;33m.\u001b[0m\u001b[0mcolumns\u001b[0m \u001b[1;33m=\u001b[0m \u001b[1;33m[\u001b[0m\u001b[1;34m'xsm'\u001b[0m\u001b[1;33m,\u001b[0m \u001b[1;34m'smb'\u001b[0m\u001b[1;33m,\u001b[0m \u001b[1;34m'hml'\u001b[0m\u001b[1;33m,\u001b[0m \u001b[1;34m'rf'\u001b[0m\u001b[1;33m]\u001b[0m\u001b[1;33m\u001b[0m\u001b[0m\n",
      "\u001b[1;32mC:\\Users\\dbackus\\Anaconda3\\lib\\site-packages\\pandas\\io\\data.py\u001b[0m in \u001b[0;36mDataReader\u001b[1;34m(name, data_source, start, end, retry_count, pause)\u001b[0m\n\u001b[0;32m     83\u001b[0m         \u001b[1;32mreturn\u001b[0m \u001b[0mget_data_fred\u001b[0m\u001b[1;33m(\u001b[0m\u001b[0mname\u001b[0m\u001b[1;33m,\u001b[0m \u001b[0mstart\u001b[0m\u001b[1;33m,\u001b[0m \u001b[0mend\u001b[0m\u001b[1;33m)\u001b[0m\u001b[1;33m\u001b[0m\u001b[0m\n\u001b[0;32m     84\u001b[0m     \u001b[1;32melif\u001b[0m \u001b[0mdata_source\u001b[0m \u001b[1;33m==\u001b[0m \u001b[1;34m\"famafrench\"\u001b[0m\u001b[1;33m:\u001b[0m\u001b[1;33m\u001b[0m\u001b[0m\n\u001b[1;32m---> 85\u001b[1;33m         \u001b[1;32mreturn\u001b[0m \u001b[0mget_data_famafrench\u001b[0m\u001b[1;33m(\u001b[0m\u001b[0mname\u001b[0m\u001b[1;33m)\u001b[0m\u001b[1;33m\u001b[0m\u001b[0m\n\u001b[0m\u001b[0;32m     86\u001b[0m \u001b[1;33m\u001b[0m\u001b[0m\n\u001b[0;32m     87\u001b[0m \u001b[1;33m\u001b[0m\u001b[0m\n",
      "\u001b[1;32mC:\\Users\\dbackus\\Anaconda3\\lib\\site-packages\\pandas\\io\\data.py\u001b[0m in \u001b[0;36mget_data_famafrench\u001b[1;34m(name)\u001b[0m\n\u001b[0;32m    507\u001b[0m     \u001b[0mzip_file_path\u001b[0m \u001b[1;33m=\u001b[0m \u001b[1;34m'{0}/{1}.zip'\u001b[0m\u001b[1;33m.\u001b[0m\u001b[0mformat\u001b[0m\u001b[1;33m(\u001b[0m\u001b[0m_FAMAFRENCH_URL\u001b[0m\u001b[1;33m,\u001b[0m \u001b[0mname\u001b[0m\u001b[1;33m)\u001b[0m\u001b[1;33m\u001b[0m\u001b[0m\n\u001b[0;32m    508\u001b[0m \u001b[1;33m\u001b[0m\u001b[0m\n\u001b[1;32m--> 509\u001b[1;33m     \u001b[1;32mwith\u001b[0m \u001b[0murlopen\u001b[0m\u001b[1;33m(\u001b[0m\u001b[0mzip_file_path\u001b[0m\u001b[1;33m)\u001b[0m \u001b[1;32mas\u001b[0m \u001b[0murl\u001b[0m\u001b[1;33m:\u001b[0m\u001b[1;33m\u001b[0m\u001b[0m\n\u001b[0m\u001b[0;32m    510\u001b[0m         \u001b[0mraw\u001b[0m \u001b[1;33m=\u001b[0m \u001b[0murl\u001b[0m\u001b[1;33m.\u001b[0m\u001b[0mread\u001b[0m\u001b[1;33m(\u001b[0m\u001b[1;33m)\u001b[0m\u001b[1;33m\u001b[0m\u001b[0m\n\u001b[0;32m    511\u001b[0m \u001b[1;33m\u001b[0m\u001b[0m\n",
      "\u001b[1;32mC:\\Users\\dbackus\\Anaconda3\\lib\\urllib\\request.py\u001b[0m in \u001b[0;36murlopen\u001b[1;34m(url, data, timeout, cafile, capath, cadefault)\u001b[0m\n\u001b[0;32m    151\u001b[0m     \u001b[1;32melse\u001b[0m\u001b[1;33m:\u001b[0m\u001b[1;33m\u001b[0m\u001b[0m\n\u001b[0;32m    152\u001b[0m         \u001b[0mopener\u001b[0m \u001b[1;33m=\u001b[0m \u001b[0m_opener\u001b[0m\u001b[1;33m\u001b[0m\u001b[0m\n\u001b[1;32m--> 153\u001b[1;33m     \u001b[1;32mreturn\u001b[0m \u001b[0mopener\u001b[0m\u001b[1;33m.\u001b[0m\u001b[0mopen\u001b[0m\u001b[1;33m(\u001b[0m\u001b[0murl\u001b[0m\u001b[1;33m,\u001b[0m \u001b[0mdata\u001b[0m\u001b[1;33m,\u001b[0m \u001b[0mtimeout\u001b[0m\u001b[1;33m)\u001b[0m\u001b[1;33m\u001b[0m\u001b[0m\n\u001b[0m\u001b[0;32m    154\u001b[0m \u001b[1;33m\u001b[0m\u001b[0m\n\u001b[0;32m    155\u001b[0m \u001b[1;32mdef\u001b[0m \u001b[0minstall_opener\u001b[0m\u001b[1;33m(\u001b[0m\u001b[0mopener\u001b[0m\u001b[1;33m)\u001b[0m\u001b[1;33m:\u001b[0m\u001b[1;33m\u001b[0m\u001b[0m\n",
      "\u001b[1;32mC:\\Users\\dbackus\\Anaconda3\\lib\\urllib\\request.py\u001b[0m in \u001b[0;36mopen\u001b[1;34m(self, fullurl, data, timeout)\u001b[0m\n\u001b[0;32m    459\u001b[0m         \u001b[1;32mfor\u001b[0m \u001b[0mprocessor\u001b[0m \u001b[1;32min\u001b[0m \u001b[0mself\u001b[0m\u001b[1;33m.\u001b[0m\u001b[0mprocess_response\u001b[0m\u001b[1;33m.\u001b[0m\u001b[0mget\u001b[0m\u001b[1;33m(\u001b[0m\u001b[0mprotocol\u001b[0m\u001b[1;33m,\u001b[0m \u001b[1;33m[\u001b[0m\u001b[1;33m]\u001b[0m\u001b[1;33m)\u001b[0m\u001b[1;33m:\u001b[0m\u001b[1;33m\u001b[0m\u001b[0m\n\u001b[0;32m    460\u001b[0m             \u001b[0mmeth\u001b[0m \u001b[1;33m=\u001b[0m \u001b[0mgetattr\u001b[0m\u001b[1;33m(\u001b[0m\u001b[0mprocessor\u001b[0m\u001b[1;33m,\u001b[0m \u001b[0mmeth_name\u001b[0m\u001b[1;33m)\u001b[0m\u001b[1;33m\u001b[0m\u001b[0m\n\u001b[1;32m--> 461\u001b[1;33m             \u001b[0mresponse\u001b[0m \u001b[1;33m=\u001b[0m \u001b[0mmeth\u001b[0m\u001b[1;33m(\u001b[0m\u001b[0mreq\u001b[0m\u001b[1;33m,\u001b[0m \u001b[0mresponse\u001b[0m\u001b[1;33m)\u001b[0m\u001b[1;33m\u001b[0m\u001b[0m\n\u001b[0m\u001b[0;32m    462\u001b[0m \u001b[1;33m\u001b[0m\u001b[0m\n\u001b[0;32m    463\u001b[0m         \u001b[1;32mreturn\u001b[0m \u001b[0mresponse\u001b[0m\u001b[1;33m\u001b[0m\u001b[0m\n",
      "\u001b[1;32mC:\\Users\\dbackus\\Anaconda3\\lib\\urllib\\request.py\u001b[0m in \u001b[0;36mhttp_response\u001b[1;34m(self, request, response)\u001b[0m\n\u001b[0;32m    569\u001b[0m         \u001b[1;32mif\u001b[0m \u001b[1;32mnot\u001b[0m \u001b[1;33m(\u001b[0m\u001b[1;36m200\u001b[0m \u001b[1;33m<=\u001b[0m \u001b[0mcode\u001b[0m \u001b[1;33m<\u001b[0m \u001b[1;36m300\u001b[0m\u001b[1;33m)\u001b[0m\u001b[1;33m:\u001b[0m\u001b[1;33m\u001b[0m\u001b[0m\n\u001b[0;32m    570\u001b[0m             response = self.parent.error(\n\u001b[1;32m--> 571\u001b[1;33m                 'http', request, response, code, msg, hdrs)\n\u001b[0m\u001b[0;32m    572\u001b[0m \u001b[1;33m\u001b[0m\u001b[0m\n\u001b[0;32m    573\u001b[0m         \u001b[1;32mreturn\u001b[0m \u001b[0mresponse\u001b[0m\u001b[1;33m\u001b[0m\u001b[0m\n",
      "\u001b[1;32mC:\\Users\\dbackus\\Anaconda3\\lib\\urllib\\request.py\u001b[0m in \u001b[0;36merror\u001b[1;34m(self, proto, *args)\u001b[0m\n\u001b[0;32m    497\u001b[0m         \u001b[1;32mif\u001b[0m \u001b[0mhttp_err\u001b[0m\u001b[1;33m:\u001b[0m\u001b[1;33m\u001b[0m\u001b[0m\n\u001b[0;32m    498\u001b[0m             \u001b[0margs\u001b[0m \u001b[1;33m=\u001b[0m \u001b[1;33m(\u001b[0m\u001b[0mdict\u001b[0m\u001b[1;33m,\u001b[0m \u001b[1;34m'default'\u001b[0m\u001b[1;33m,\u001b[0m \u001b[1;34m'http_error_default'\u001b[0m\u001b[1;33m)\u001b[0m \u001b[1;33m+\u001b[0m \u001b[0morig_args\u001b[0m\u001b[1;33m\u001b[0m\u001b[0m\n\u001b[1;32m--> 499\u001b[1;33m             \u001b[1;32mreturn\u001b[0m \u001b[0mself\u001b[0m\u001b[1;33m.\u001b[0m\u001b[0m_call_chain\u001b[0m\u001b[1;33m(\u001b[0m\u001b[1;33m*\u001b[0m\u001b[0margs\u001b[0m\u001b[1;33m)\u001b[0m\u001b[1;33m\u001b[0m\u001b[0m\n\u001b[0m\u001b[0;32m    500\u001b[0m \u001b[1;33m\u001b[0m\u001b[0m\n\u001b[0;32m    501\u001b[0m \u001b[1;31m# XXX probably also want an abstract factory that knows when it makes\u001b[0m\u001b[1;33m\u001b[0m\u001b[1;33m\u001b[0m\u001b[0m\n",
      "\u001b[1;32mC:\\Users\\dbackus\\Anaconda3\\lib\\urllib\\request.py\u001b[0m in \u001b[0;36m_call_chain\u001b[1;34m(self, chain, kind, meth_name, *args)\u001b[0m\n\u001b[0;32m    431\u001b[0m         \u001b[1;32mfor\u001b[0m \u001b[0mhandler\u001b[0m \u001b[1;32min\u001b[0m \u001b[0mhandlers\u001b[0m\u001b[1;33m:\u001b[0m\u001b[1;33m\u001b[0m\u001b[0m\n\u001b[0;32m    432\u001b[0m             \u001b[0mfunc\u001b[0m \u001b[1;33m=\u001b[0m \u001b[0mgetattr\u001b[0m\u001b[1;33m(\u001b[0m\u001b[0mhandler\u001b[0m\u001b[1;33m,\u001b[0m \u001b[0mmeth_name\u001b[0m\u001b[1;33m)\u001b[0m\u001b[1;33m\u001b[0m\u001b[0m\n\u001b[1;32m--> 433\u001b[1;33m             \u001b[0mresult\u001b[0m \u001b[1;33m=\u001b[0m \u001b[0mfunc\u001b[0m\u001b[1;33m(\u001b[0m\u001b[1;33m*\u001b[0m\u001b[0margs\u001b[0m\u001b[1;33m)\u001b[0m\u001b[1;33m\u001b[0m\u001b[0m\n\u001b[0m\u001b[0;32m    434\u001b[0m             \u001b[1;32mif\u001b[0m \u001b[0mresult\u001b[0m \u001b[1;32mis\u001b[0m \u001b[1;32mnot\u001b[0m \u001b[1;32mNone\u001b[0m\u001b[1;33m:\u001b[0m\u001b[1;33m\u001b[0m\u001b[0m\n\u001b[0;32m    435\u001b[0m                 \u001b[1;32mreturn\u001b[0m \u001b[0mresult\u001b[0m\u001b[1;33m\u001b[0m\u001b[0m\n",
      "\u001b[1;32mC:\\Users\\dbackus\\Anaconda3\\lib\\urllib\\request.py\u001b[0m in \u001b[0;36mhttp_error_default\u001b[1;34m(self, req, fp, code, msg, hdrs)\u001b[0m\n\u001b[0;32m    577\u001b[0m \u001b[1;32mclass\u001b[0m \u001b[0mHTTPDefaultErrorHandler\u001b[0m\u001b[1;33m(\u001b[0m\u001b[0mBaseHandler\u001b[0m\u001b[1;33m)\u001b[0m\u001b[1;33m:\u001b[0m\u001b[1;33m\u001b[0m\u001b[0m\n\u001b[0;32m    578\u001b[0m     \u001b[1;32mdef\u001b[0m \u001b[0mhttp_error_default\u001b[0m\u001b[1;33m(\u001b[0m\u001b[0mself\u001b[0m\u001b[1;33m,\u001b[0m \u001b[0mreq\u001b[0m\u001b[1;33m,\u001b[0m \u001b[0mfp\u001b[0m\u001b[1;33m,\u001b[0m \u001b[0mcode\u001b[0m\u001b[1;33m,\u001b[0m \u001b[0mmsg\u001b[0m\u001b[1;33m,\u001b[0m \u001b[0mhdrs\u001b[0m\u001b[1;33m)\u001b[0m\u001b[1;33m:\u001b[0m\u001b[1;33m\u001b[0m\u001b[0m\n\u001b[1;32m--> 579\u001b[1;33m         \u001b[1;32mraise\u001b[0m \u001b[0mHTTPError\u001b[0m\u001b[1;33m(\u001b[0m\u001b[0mreq\u001b[0m\u001b[1;33m.\u001b[0m\u001b[0mfull_url\u001b[0m\u001b[1;33m,\u001b[0m \u001b[0mcode\u001b[0m\u001b[1;33m,\u001b[0m \u001b[0mmsg\u001b[0m\u001b[1;33m,\u001b[0m \u001b[0mhdrs\u001b[0m\u001b[1;33m,\u001b[0m \u001b[0mfp\u001b[0m\u001b[1;33m)\u001b[0m\u001b[1;33m\u001b[0m\u001b[0m\n\u001b[0m\u001b[0;32m    580\u001b[0m \u001b[1;33m\u001b[0m\u001b[0m\n\u001b[0;32m    581\u001b[0m \u001b[1;32mclass\u001b[0m \u001b[0mHTTPRedirectHandler\u001b[0m\u001b[1;33m(\u001b[0m\u001b[0mBaseHandler\u001b[0m\u001b[1;33m)\u001b[0m\u001b[1;33m:\u001b[0m\u001b[1;33m\u001b[0m\u001b[0m\n",
      "\u001b[1;31mHTTPError\u001b[0m: HTTP Error 404: Not Found"
     ]
    }
   ],
   "source": [
    "# load packages (if it's redundant it'll be ignored)\n",
    "import pandas.io.data as web      \n",
    "\n",
    "# read data from Ken French's website \n",
    "ff = web.DataReader('F-F_Research_Data_Factors', 'famafrench')[0] \n",
    "# NB:  ff.xs is a conflict, rename to xsm  \n",
    "ff.columns = ['xsm', 'smb', 'hml', 'rf']\n",
    "\n",
    "# see what we've got\n",
    "print(ff.head(3))\n",
    "print(ff.describe())"
   ]
  },
  {
   "cell_type": "code",
   "execution_count": null,
   "metadata": {
    "collapsed": false
   },
   "outputs": [],
   "source": [
    "# compute and print summary stats \n",
    "moments = [ff.mean(), ff.std(), ff.skew(), ff.kurtosis() - 3]\n",
    "\n",
    "# \\n here is a line break\n",
    "print('Summary stats for Fama-French factors (mean, std, skew, ex kurt)') #, end='\\n\\n') \n",
    "print(moments)\n",
    "#[print(moment, end='\\n\\n') for moment in moments]"
   ]
  },
  {
   "cell_type": "code",
   "execution_count": null,
   "metadata": {
    "collapsed": false
   },
   "outputs": [],
   "source": [
    "# try some things yourself \n",
    "# like what?  type ff.[tab]\n",
    "import pandas as pd\n",
    "pd.__version__\n"
   ]
  },
  {
   "cell_type": "code",
   "execution_count": null,
   "metadata": {
    "collapsed": false
   },
   "outputs": [],
   "source": [
    "# some plots \n",
    "ff.plot()\n",
    "plt.show()\n",
    "\n",
    "ff.hist(bins=50, sharex=True)\n",
    "plt.show()\n",
    "\n",
    "ff.boxplot(whis=0, return_type='axes')\n",
    "plt.show()"
   ]
  },
  {
   "cell_type": "markdown",
   "metadata": {},
   "source": [
    "**Answer(s)?**  Aren't the boxplots in the last figure cool?  The histograms above them?  What do you see in them?  How do the various returns compare?   "
   ]
  },
  {
   "cell_type": "markdown",
   "metadata": {},
   "source": [
    "---\n",
    "\n",
    "### Example 3: GDP per capita and life expectancy\n",
    "\n",
    "The World Bank collects a broad range of economic and social indicators for most countries in the World.  They also have a nice interface.  It's a good source for basic information about the economic climate compares across countries.  \n",
    "\n",
    "We illustrate its usefulness with a scatterplot of life expectancy v GDP per capita.  \n",
    "\n",
    "**Question(s).**  How closely are these two indicators of quality of life are related.  \n",
    "\n",
    "**References**\n",
    "\n",
    "* http://data.worldbank.org/\n",
    "* http://pandas.pydata.org/pandas-docs/stable/remote_data.html#world-bank\n",
    "* http://matplotlib.org/examples/shapes_and_collections/scatter_demo.html\n",
    "\n",
    "---"
   ]
  },
  {
   "cell_type": "code",
   "execution_count": null,
   "metadata": {
    "collapsed": false
   },
   "outputs": [],
   "source": [
    "# load package under name wb \n",
    "from pandas.io import wb\n",
    "\n",
    "# find the codes for the variables of interest \n",
    "wb.search\n",
    "wb.search(string='gdp.*capita').iloc[:2]"
   ]
  },
  {
   "cell_type": "code",
   "execution_count": null,
   "metadata": {
    "collapsed": false
   },
   "outputs": [],
   "source": [
    "# specify dates, variables, and countries \n",
    "start = 2011\n",
    "# GDP per capita, population, life expectancy\n",
    "variable_list = ['NY.GDP.PCAP.KD', 'SP.POP.TOTL', 'SP.DYN.LE00.IN']\n",
    "country_list  = ['US', 'FR', 'JP', 'CN', 'IN', 'BR', 'MX'] \n",
    "\n",
    "# Python understands we need to go to the second line because ( hasn't been closed by )\n",
    "data = wb.download(indicator=variable_list, \n",
    "                   country=country_list, start=start, end=start).dropna()\n",
    "\n",
    "# see what we've got\n",
    "print(data)"
   ]
  },
  {
   "cell_type": "code",
   "execution_count": null,
   "metadata": {
    "collapsed": false
   },
   "outputs": [],
   "source": [
    "# check the column labels, change to something simpler \n",
    "print(data.columns)\n",
    "data.columns = ['gdppc', 'pop', 'le']\n",
    "print(data)"
   ]
  },
  {
   "cell_type": "code",
   "execution_count": null,
   "metadata": {
    "collapsed": false
   },
   "outputs": [],
   "source": [
    "# scatterplot\n",
    "# life expectancy v GDP per capita \n",
    "# size of circles controlled by population \n",
    "\n",
    "# load packages (ignored if redundant) \n",
    "import numpy as np            \n",
    "import matplotlib.pyplot as plt\n",
    "\n",
    "plt.scatter(data['gdppc'], data['le'], s=0.000001*data['pop'], alpha=0.5)\n",
    "plt.ylabel('Life Expectancy')\n",
    "plt.xlabel('GDP Per Capita')\n",
    "plt.show()"
   ]
  },
  {
   "cell_type": "code",
   "execution_count": null,
   "metadata": {
    "collapsed": false
   },
   "outputs": [],
   "source": [
    "# Note:  size of circles based on population "
   ]
  },
  {
   "cell_type": "markdown",
   "metadata": {},
   "source": [
    "---\n",
    "\n",
    "### Example 4: Option prices\n",
    "\n",
    "A financial option gives its owner the right to buy or sell an asset (the \"underlying\") at a preset price (the \"strike\") by a specific date (the \"expiration date\").  Puts are options to sell, calls are options to buy.  We explore option prices with Yahoo Finance, specifically options on the S&P 500 exchange-traded fund, ticker SPY.  \n",
    "\n",
    "We illustrate its usefulness with a scatterplot of life expectancy v GDP per capita.  \n",
    "\n",
    "**Question(s).**  How do put and call prices vary with their strike price?  [Think about this.  What would you expect?] \n",
    "\n",
    "**Warning.** This won't work in Python 2.7 or, in fact, in any environment that uses versions of Pandas prior to 0.14.1.  The Yahoo Option API is labeled experimental and it seems the earlier versions don't allow easy access to the strike prices.  \n",
    "\n",
    "**References**\n",
    "\n",
    "* http://finance.yahoo.com/q/op?s=SPY+Options\n",
    "* http://pandas.pydata.org/pandas-docs/stable/remote_data.html#yahoo-finance\n",
    "* http://pandas.pydata.org/pandas-docs/stable/remote_data.html#yahoo-finance-options\n",
    "\n",
    "---"
   ]
  },
  {
   "cell_type": "code",
   "execution_count": null,
   "metadata": {
    "collapsed": false
   },
   "outputs": [],
   "source": [
    "# load packages \n",
    "import pandas as pd \n",
    "import pandas.io.data as web\n",
    "from pandas.io.data import Options\n",
    "import datetime as dt \n",
    "import matplotlib.pylab as plt\n",
    "\n",
    "# ticker \n",
    "ticker = 'spy' "
   ]
  },
  {
   "cell_type": "code",
   "execution_count": null,
   "metadata": {
    "collapsed": false
   },
   "outputs": [],
   "source": [
    "# load stock price first (the underlying) \n",
    "# pick a recent date and subtract seven days to be sure we get a quote  \n",
    "# http://pymotw.com/2/datetime/#date-arithmetic\n",
    "today = dt.date.today()\n",
    "one_week = dt.timedelta(days=7)\n",
    "start = today - one_week\n",
    "stock = web.DataReader(ticker, 'yahoo', start) \n",
    "print(stock)        # just to see what we have\n",
    "\n",
    "# take the last close (-1 is the last, 'Close' is the close)\n",
    "# this shows up in our figure \n",
    "atm = stock.ix[-1,'Close']      # the -1 takes the last observation   "
   ]
  },
  {
   "cell_type": "code",
   "execution_count": null,
   "metadata": {
    "collapsed": false
   },
   "outputs": [],
   "source": [
    "# get option prices for same ticker \n",
    "option = Options(ticker, 'yahoo')\n",
    "expiry = dt.date(2014, 11, 20)\n",
    "data_calls = option.get_call_data(expiry=expiry).dropna()\n",
    "data_puts  = option.get_put_data(expiry=expiry).dropna()\n",
    "\n",
    "# check what we have \n",
    "print(data_calls.index) \n",
    "print(data_calls.tail())"
   ]
  },
  {
   "cell_type": "code",
   "execution_count": null,
   "metadata": {
    "collapsed": false
   },
   "outputs": [],
   "source": [
    "# compute mid of bid and ask and arrange series for plotting \n",
    "calls_bid = data_calls['Bid']\n",
    "calls_ask = data_calls['Ask'] \n",
    "\n",
    "calls_strikes = data_calls['Strike']\n",
    "calls_mid = (data_calls['Bid'] + data_calls['Ask'])/2\n",
    "puts_strikes = data_puts['Strike']\n",
    "puts_mid = (data_puts['Bid'] + data_puts['Ask'])/2"
   ]
  },
  {
   "cell_type": "markdown",
   "metadata": {},
   "source": [
    "*Note to self.* \n",
    "In older versions of Pandas, prior to 0.14.1, the option input puts the strike in the index, not as a column of data.\n",
    "The next two lines check the versions of pandas and python on the off chance we want to check:  print(pd.__version__), \n",
    "! python --version "
   ]
  },
  {
   "cell_type": "code",
   "execution_count": null,
   "metadata": {
    "collapsed": false
   },
   "outputs": [],
   "source": [
    "# plot call and put prices v strike \n",
    "plt.plot(calls_strikes, calls_mid, 'r', lw=2, label='calls')\n",
    "plt.plot(puts_strikes, puts_mid, 'b', lw=2, label='puts')\n",
    "\n",
    "# prettify it \n",
    "#plt.axis([120, 250, 0, 50])\n",
    "plt.axvline(x=atm, color='k', linestyle='--', label='ATM')               \n",
    "plt.legend(loc='best')\n",
    "plt.show()"
   ]
  },
  {
   "cell_type": "code",
   "execution_count": null,
   "metadata": {
    "collapsed": false
   },
   "outputs": [],
   "source": [
    "# rerun the figure above with different color lines.  Or dashed lines for call and put prices.  \n",
    "# or change the form of the vertical ATM line:  solid? another color?  \n"
   ]
  },
  {
   "cell_type": "code",
   "execution_count": null,
   "metadata": {
    "collapsed": false
   },
   "outputs": [],
   "source": []
  }
 ],
 "metadata": {
  "kernelspec": {
   "display_name": "Python 3",
   "language": "python",
   "name": "python3"
  },
  "language_info": {
   "codemirror_mode": {
    "name": "ipython",
    "version": 3
   },
   "file_extension": ".py",
   "mimetype": "text/x-python",
   "name": "python",
   "nbconvert_exporter": "python",
   "pygments_lexer": "ipython3",
   "version": "3.4.1"
  }
 },
 "nbformat": 4,
 "nbformat_minor": 0
}
