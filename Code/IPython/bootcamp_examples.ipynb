{
 "cells": [
  {
   "cell_type": "markdown",
   "metadata": {},
   "source": [
    "## Data Bootcamp:  Examples\n",
    "\n",
    "Introductory examples for [Data Bootcamp](https://github.com/DaveBackus/Data_Bootcamp#data-bootcamp), a course at NYU's Stern School of Business. The course is designed to introduce students to **economic and financial data** and the **Python tools** to work with it effectively. The examples that follow illustrate popular sources of data and graphs that summarize it in what we hope are useful ways.  You'll get the idea from the text and figures. The code will show you what's involved.  It will be obscure if you're new to Python, but you will be able to do all of this and more by the end of the course. \n",
    "\n",
    "You should feel free to **ask questions** as we go through this -- about everything and anything.  You may not get it all, but it's good practice to start thinking about how the code works.  \n",
    "\n",
    "Written by [Dave Backus](http://pages.stern.nyu.edu/~dbackus/), September 2015.\n",
    "\n",
    "A product of the #nyuecon NYU Python Factory at NYU's [Stern School of Business](http://www.stern.nyu.edu/)."
   ]
  },
  {
   "cell_type": "markdown",
   "metadata": {},
   "source": [
    "### The data mentality\n",
    "\n",
    "The examples illustrate what we call the **data mentality**: the ability to use to learn something about the world.  We'll use it to describe the economic performance of countries, the risk involved in equity investments, and many other things.  In each case, think of yourself as an active participant in a process of ongoing exploration.  For each of the examples that follow, ask \n",
    "    \n",
    "* Where does the data come from?    \n",
    "* What did you learn from it?\n",
    "* What else would you like to know?\n",
    "* How would you improve the graphics?  \n",
    "\n",
    "Also any other questions that cross your mind.  "
   ]
  },
  {
   "cell_type": "markdown",
   "metadata": {},
   "source": [
    "### Working list (delete when done) \n",
    "\n",
    "* World GDP \n",
    "* US GDP growth (data from FRED)\n",
    "* Chinese economic indicators (FRED) \n",
    "* US economic indicators (FRED) \n",
    "* US labor market conditions (Beveridge curve) (FRED) \n",
    "* Government debt (WEO) (Greece, US, Japan, ??) \n",
    "* GDP per capita in emerging market economies (World Bank) \n",
    "* Emerging market indicators (World Bank?) \n",
    "* Stock prices and returns (Yahoo?) \n",
    "* Demographics \n",
    "* Fama-French equity \"factors\" (data from Ken French's website)\n",
    "* S&P 500 ETF (Spyders) (Yahoo finance) \n",
    "\n",
    "\n"
   ]
  },
  {
   "cell_type": "markdown",
   "metadata": {},
   "source": [
    "###  Preliminaries"
   ]
  },
  {
   "cell_type": "code",
   "execution_count": 1,
   "metadata": {
    "collapsed": false
   },
   "outputs": [
    {
     "name": "stdout",
     "output_type": "stream",
     "text": [
      "Today is 2015-09-16\n",
      "What version of Python are we running? \n",
      "3.4.1 |Anaconda 2.3.0 (64-bit)| (default, Jun 11 2014, 17:27:11) [MSC v.1600 64 bit (AMD64)]\n"
     ]
    }
   ],
   "source": [
    "# check Python version \n",
    "# anything after a hash (#) is a comment \n",
    "import datetime as dt \n",
    "import sys\n",
    "print('Today is', dt.date.today())\n",
    "print('What version of Python are we running? \\n', sys.version, sep='') "
   ]
  },
  {
   "cell_type": "code",
   "execution_count": 2,
   "metadata": {
    "collapsed": false
   },
   "outputs": [],
   "source": [
    "# This is an IPython command: it says to put plots here in the notebook.\n",
    "%matplotlib inline"
   ]
  },
  {
   "cell_type": "markdown",
   "metadata": {},
   "source": [
    "---\n",
    "### Example 1:  Comparing countries by GDP and GDP per capita\n",
    "\n",
    "**GDP** is the total value of output produced in a country.  **GDP per capita** is the per person version -- GDP divided by the population.  Both are expressed here in 2011 US dollars with an adjustment for the cost of living.  They come from the World Bank's *World Development Indicators*, a great source of information about economic and social conditions around the world.  See the World Bank's [data catalog](http://datacatalog.worldbank.org/) for other things you can find here.\n",
    "\n",
    "See the [Pandas documentation](http://pandas.pydata.org/pandas-docs/stable/remote_data.html#remote-data-wb) for more information about accessing World Bank data in Python. "
   ]
  },
  {
   "cell_type": "code",
   "execution_count": 3,
   "metadata": {
    "collapsed": true
   },
   "outputs": [],
   "source": [
    "# load packages (redundancy is ok)\n",
    "import pandas as pd                # data management tools \n",
    "from pandas.io import wb           # World Bank api \n",
    "import matplotlib.pyplot as plt    # plotting tools "
   ]
  },
  {
   "cell_type": "code",
   "execution_count": 4,
   "metadata": {
    "collapsed": false
   },
   "outputs": [
    {
     "data": {
      "text/html": [
       "<div>\n",
       "<table border=\"1\" class=\"dataframe\">\n",
       "  <thead>\n",
       "    <tr style=\"text-align: right;\">\n",
       "      <th></th>\n",
       "      <th>id</th>\n",
       "      <th>name</th>\n",
       "    </tr>\n",
       "  </thead>\n",
       "  <tbody>\n",
       "    <tr>\n",
       "      <th>680</th>\n",
       "      <td>6.0.GDPpc_constant</td>\n",
       "      <td>GDP per capita, PPP (constant 2011 internation...</td>\n",
       "    </tr>\n",
       "    <tr>\n",
       "      <th>4704</th>\n",
       "      <td>GDPPCKD</td>\n",
       "      <td>GDP per Capita, constant US$, millions</td>\n",
       "    </tr>\n",
       "    <tr>\n",
       "      <th>6805</th>\n",
       "      <td>NY.GDP.PCAP.KD</td>\n",
       "      <td>GDP per capita (constant 2005 US$)</td>\n",
       "    </tr>\n",
       "    <tr>\n",
       "      <th>6807</th>\n",
       "      <td>NY.GDP.PCAP.KN</td>\n",
       "      <td>GDP per capita (constant LCU)</td>\n",
       "    </tr>\n",
       "    <tr>\n",
       "      <th>6809</th>\n",
       "      <td>NY.GDP.PCAP.PP.KD</td>\n",
       "      <td>GDP per capita, PPP (constant 2011 internation...</td>\n",
       "    </tr>\n",
       "  </tbody>\n",
       "</table>\n",
       "</div>"
      ],
      "text/plain": [
       "                      id                                               name\n",
       "680   6.0.GDPpc_constant  GDP per capita, PPP (constant 2011 internation...\n",
       "4704             GDPPCKD             GDP per Capita, constant US$, millions\n",
       "6805      NY.GDP.PCAP.KD                 GDP per capita (constant 2005 US$)\n",
       "6807      NY.GDP.PCAP.KN                      GDP per capita (constant LCU)\n",
       "6809   NY.GDP.PCAP.PP.KD  GDP per capita, PPP (constant 2011 internation..."
      ]
     },
     "execution_count": 4,
     "metadata": {},
     "output_type": "execute_result"
    }
   ],
   "source": [
    "# look for codes for the variables we want\n",
    "wb.search('gdp.*capita.*const').iloc[:,:2]"
   ]
  },
  {
   "cell_type": "code",
   "execution_count": 5,
   "metadata": {
    "collapsed": false
   },
   "outputs": [],
   "source": [
    "# read data from World Bank  \n",
    "var = ['NY.GDP.PCAP.PP.KD', 'NY.GDP.MKTP.PP.KD']          # variable list \n",
    "iso  = ['USA', 'FRA', 'JPN', 'CHN', 'IND', 'BRA', 'MEX']  # country list (ISO codes)\n",
    "year = 2014 \n",
    "df = wb.download(indicator=var, country=iso, start=year, end=year)\n",
    "\n",
    "# massage data \n",
    "df = df.reset_index(level='year', drop=True)\n",
    "df.columns = ['gdppc', 'gdp']          # rename variables \n",
    "df['gdp'] = df['gdp']/10**12           # convert to trillions\n",
    "df['gdppc'] = df['gdppc']/10**3        # convert to thousands \n",
    "df['order'] = [5, 3, 1, 4, 2, 6, 0]    # reorder countries \n",
    "df = df.sort(columns='order', ascending=False)"
   ]
  },
  {
   "cell_type": "code",
   "execution_count": 6,
   "metadata": {
    "collapsed": false,
    "scrolled": true
   },
   "outputs": [
    {
     "data": {
      "text/plain": [
       "<matplotlib.text.Text at 0x84c2c18>"
      ]
     },
     "execution_count": 6,
     "metadata": {},
     "output_type": "execute_result"
    },
    {
     "data": {
      "image/png": "[encoded data removed]",
      "text/plain": [
       "<matplotlib.figure.Figure at 0x7eaa1d0>"
      ]
     },
     "metadata": {},
     "output_type": "display_data"
    }
   ],
   "source": [
    "# GDP bar chart \n",
    "ax = df['gdp'].plot(kind='barh', alpha=0.5)\n",
    "ax.set_title('GDP', loc='left', fontsize=14)\n",
    "ax.set_xlabel('Trillions of US Dollars')\n",
    "ax.set_ylabel('')"
   ]
  },
  {
   "cell_type": "code",
   "execution_count": 7,
   "metadata": {
    "collapsed": false
   },
   "outputs": [
    {
     "data": {
      "text/plain": [
       "<matplotlib.text.Text at 0x85d61d0>"
      ]
     },
     "execution_count": 7,
     "metadata": {},
     "output_type": "execute_result"
    },
    {
     "data": {
      "image/png": "[encoded data removed]",
      "text/plain": [
       "<matplotlib.figure.Figure at 0x85b7908>"
      ]
     },
     "metadata": {},
     "output_type": "display_data"
    }
   ],
   "source": [
    "# ditto for GDP per capita (per person)\n",
    "ax = df['gdppc'].plot(kind='barh', color='m', alpha=0.5) \n",
    "ax.set_title('GDP Per Capita', loc='left', fontsize=14)\n",
    "ax.set_xlabel('Thousands of US Dollars')\n",
    "ax.set_ylabel('')"
   ]
  },
  {
   "cell_type": "markdown",
   "metadata": {},
   "source": [
    "**Questions**\n",
    "\n",
    "* Where does the data come from?    \n",
    "* What did you learn from it?\n",
    "* What else would you like to know?\n",
    "* How would you improve the graphics?  "
   ]
  },
  {
   "cell_type": "markdown",
   "metadata": {},
   "source": [
    "---\n",
    "## Example 2:  US economic conditions\n",
    "\n",
    "**A. GDP.** Employment, asset returns, and many other things are tied to the state of the economy.  The bottom line number here is Gross Domestic Product or GDP, a measure of total production for a given economy.  We look here at US GDP, specifically its level and its growth rate.  \n",
    "\n",
    "The data come from the St Louis Fed's [FRED database](https://research.stlouisfed.org/fred2/) (Federal Reserve Economic Data), one of the best and most user-friendly sources of macroeconomic data.  The [Pandas documentation](http://pandas.pydata.org/pandas-docs/stable/remote_data.html#remote-data-fred) has more about accessing FRED data in Python. "
   ]
  },
  {
   "cell_type": "code",
   "execution_count": 8,
   "metadata": {
    "collapsed": false
   },
   "outputs": [
    {
     "name": "stdout",
     "output_type": "stream",
     "text": [
      "              GDPC1\n",
      "DATE               \n",
      "2014-10-01  16.1514\n",
      "2015-01-01  16.1773\n",
      "2015-04-01  16.3243\n"
     ]
    }
   ],
   "source": [
    "# get data from FRED\n",
    "import pandas.io.data as web           # web interface with FRED\n",
    "import datetime as dt                  # handles dates \n",
    "import matplotlib.pyplot as plt        # plotting \n",
    "\n",
    "fred_series = [\"GDPC1\"]                                       # the real GDP code for FRED\n",
    "start_date = dt.datetime(1960, 1, 1)\n",
    "fred = web.DataReader(fred_series, \"fred\", start_date)/10**3  # convert to trillions of USD \n",
    "# print last 3 data points to see what we've got (quarterly data)\n",
    "print(fred.tail(3))  "
   ]
  },
  {
   "cell_type": "code",
   "execution_count": 9,
   "metadata": {
    "collapsed": false,
    "scrolled": true
   },
   "outputs": [
    {
     "data": {
      "image/png": "[encoded data removed]",
      "text/plain": [
       "<matplotlib.figure.Figure at 0x8b78080>"
      ]
     },
     "metadata": {},
     "output_type": "display_data"
    }
   ],
   "source": [
    "# plot \n",
    "ax = fred.plot(legend=False)\n",
    "ax.set_title('US Real GDP', fontsize=14, loc='left')\n",
    "ax.set_xlabel('')\n",
    "ax.set_ylabel('Trillions of Chained US Dollars')\n",
    "ax.legend().set_visible(False)"
   ]
  },
  {
   "cell_type": "code",
   "execution_count": 10,
   "metadata": {
    "collapsed": false,
    "scrolled": true
   },
   "outputs": [
    {
     "name": "stdout",
     "output_type": "stream",
     "text": [
      "               GDPC1\n",
      "DATE                \n",
      "2014-10-01  2.056159\n",
      "2015-01-01  0.641430\n",
      "2015-04-01  3.634723\n"
     ]
    }
   ],
   "source": [
    "# compute quarterly growth rates \n",
    "g = 400*fred.pct_change()           # 400 makes this an annual percentage  \n",
    "print(g.tail(3))\n",
    "# change label   \n",
    "g.columns = ['US GDP Growth']\n",
    "gbar = g.mean()"
   ]
  },
  {
   "cell_type": "code",
   "execution_count": 11,
   "metadata": {
    "collapsed": false,
    "scrolled": true
   },
   "outputs": [
    {
     "data": {
      "image/png": "[encoded data removed]",
      "text/plain": [
       "<matplotlib.figure.Figure at 0xa1dfe10>"
      ]
     },
     "metadata": {},
     "output_type": "display_data"
    }
   ],
   "source": [
    "# plot starting in 1970 \n",
    "start = dt.datetime(1985, 1, 1)\n",
    "end = g.index[-1]\n",
    "ax = g[g.index >= start].plot(kind='line')\n",
    "ax.set_title('US Real GDP Growth', fontsize=14, loc='left')\n",
    "ax.hlines(y=gbar, xmin=start, xmax=end)\n",
    "ax.hlines(y=0, xmin=start, xmax=end, linestyles='dashed')\n",
    "ax.legend().set_visible(False)"
   ]
  },
  {
   "cell_type": "markdown",
   "metadata": {
    "collapsed": false
   },
   "source": [
    "**B. Economic indicators.** There's a lot more information about economic conditions than GDP -- any of the hundreds of indicators about the state of the economy would tell us more.  We'll look at several of the most popular:  \n",
    "\n",
    "* INDPRO:  industrial production\n",
    "* PAYEMS:  nonfarm employment \n",
    "* AWHMAN:  average weekly hours worked in manufacturing\n",
    "* PERMIT:  premits for new housing\n",
    "* NAPM:  purchasing managers index \n",
    "\n",
    "The first object here is the FRED code.  All of these indicators are monthly, which gives us a quicker response to changes in economic conditions than the quarterly GDP numbers.  For more on all this, see Chapter 11 of our best-selling [Global Economy book](http://www.stern.nyu.edu/experience-stern/about/departments-centers-initiatives/centers-of-research/global-economy-business/development-initiatives/global-economy-course)."
   ]
  },
  {
   "cell_type": "code",
   "execution_count": 12,
   "metadata": {
    "collapsed": false
   },
   "outputs": [
    {
     "data": {
      "text/html": [
       "<div>\n",
       "<table border=\"1\" class=\"dataframe\">\n",
       "  <thead>\n",
       "    <tr style=\"text-align: right;\">\n",
       "      <th></th>\n",
       "      <th>INDPRO</th>\n",
       "      <th>PAYEMS</th>\n",
       "      <th>AWHMAN</th>\n",
       "      <th>PERMIT</th>\n",
       "      <th>NAPM</th>\n",
       "    </tr>\n",
       "    <tr>\n",
       "      <th>DATE</th>\n",
       "      <th></th>\n",
       "      <th></th>\n",
       "      <th></th>\n",
       "      <th></th>\n",
       "      <th></th>\n",
       "    </tr>\n",
       "  </thead>\n",
       "  <tbody>\n",
       "    <tr>\n",
       "      <th>2015-06-01</th>\n",
       "      <td>106.5627</td>\n",
       "      <td>141870</td>\n",
       "      <td>41.8</td>\n",
       "      <td>1337</td>\n",
       "      <td>53.5</td>\n",
       "    </tr>\n",
       "    <tr>\n",
       "      <th>2015-07-01</th>\n",
       "      <td>107.4866</td>\n",
       "      <td>142115</td>\n",
       "      <td>41.8</td>\n",
       "      <td>1130</td>\n",
       "      <td>52.7</td>\n",
       "    </tr>\n",
       "    <tr>\n",
       "      <th>2015-08-01</th>\n",
       "      <td>107.0793</td>\n",
       "      <td>142288</td>\n",
       "      <td>41.8</td>\n",
       "      <td>NaN</td>\n",
       "      <td>51.1</td>\n",
       "    </tr>\n",
       "  </tbody>\n",
       "</table>\n",
       "</div>"
      ],
      "text/plain": [
       "              INDPRO  PAYEMS  AWHMAN  PERMIT  NAPM\n",
       "DATE                                              \n",
       "2015-06-01  106.5627  141870    41.8    1337  53.5\n",
       "2015-07-01  107.4866  142115    41.8    1130  52.7\n",
       "2015-08-01  107.0793  142288    41.8     NaN  51.1"
      ]
     },
     "execution_count": 12,
     "metadata": {},
     "output_type": "execute_result"
    }
   ],
   "source": [
    "# get data from FRED\n",
    "import pandas.io.data as web           # web interface with FRED\n",
    "import pandas as pd                    # data manipulation \n",
    "import numpy as np                     # ditto  \n",
    "import datetime as dt                  # handles dates \n",
    "import matplotlib.pyplot as plt        # plotting \n",
    "import matplotlib as mpl\n",
    "\n",
    "# list of indicators (FRED codes)\n",
    "indicators = ['INDPRO', 'PAYEMS', 'AWHMAN', 'PERMIT', 'NAPM']\n",
    "start_date = dt.datetime(1970, 1, 1)\n",
    "inds = web.DataReader(indicators, \"fred\", start_date)\n",
    "inds.tail(3)"
   ]
  },
  {
   "cell_type": "markdown",
   "metadata": {},
   "source": [
    "We use growth rates of these indicators to assess the state of the economy.  That's a choice based on experience, not something that follows from some kind of infallibale logic.  We also standardize the variables so that they all vary around the same level (zero) and by about the same amount.  If we didn't do this, the difference in scales would get in the way.  "
   ]
  },
  {
   "cell_type": "code",
   "execution_count": 13,
   "metadata": {
    "collapsed": true
   },
   "outputs": [],
   "source": [
    "# yoy growth rates \n",
    "g = inds.pct_change(periods=12).dropna()\n",
    "# standardize\n",
    "g_std = (g - g.mean()) / g.std()"
   ]
  },
  {
   "cell_type": "code",
   "execution_count": 14,
   "metadata": {
    "collapsed": false
   },
   "outputs": [
    {
     "data": {
      "image/png": "[encoded data removed]",
      "text/plain": [
       "<matplotlib.figure.Figure at 0xa290b38>"
      ]
     },
     "metadata": {},
     "output_type": "display_data"
    }
   ],
   "source": [
    "# plot \n",
    "ax = g_std.plot()\n",
    "ax.set_title('Various economic indicators', fontsize=14, loc='left')\n",
    "ax.set_ylabel('Standard deviations from mean')\n",
    "ax.set_xlabel('')\n",
    "ax.hlines(y=0, xmin=start_date, xmax=end, linestyles='dashed')\n",
    "ax.legend().set_visible(False)"
   ]
  },
  {
   "cell_type": "markdown",
   "metadata": {
    "collapsed": false
   },
   "source": [
    "#### Questions and comments\n",
    "\n",
    "* What would you do differently here?\n",
    "* We turned off the legend because it got in the way.  We might want to reformat it so that it fits better.  We also used `pcolor` to generate a heatmap, but it wasn't all that compelling.  "
   ]
  },
  {
   "cell_type": "markdown",
   "metadata": {
    "collapsed": false
   },
   "source": [
    "---\n",
    "### Example 3:  Emerging market indicators \n",
    "\n",
    "http://www.theguardian.com/commentisfree/datablog/2015/sep/10/africa-in-numbers-how-its-countries-compare\n",
    "\n",
    "GDP per capita \n",
    "Literacy \n",
    "cell phone penetration\n",
    "fertility \n"
   ]
  },
  {
   "cell_type": "code",
   "execution_count": null,
   "metadata": {
    "collapsed": true
   },
   "outputs": [],
   "source": []
  },
  {
   "cell_type": "code",
   "execution_count": null,
   "metadata": {
    "collapsed": true
   },
   "outputs": [],
   "source": []
  },
  {
   "cell_type": "code",
   "execution_count": null,
   "metadata": {
    "collapsed": true
   },
   "outputs": [],
   "source": []
  },
  {
   "cell_type": "code",
   "execution_count": null,
   "metadata": {
    "collapsed": true
   },
   "outputs": [],
   "source": []
  },
  {
   "cell_type": "markdown",
   "metadata": {},
   "source": [
    "### Example 4:  Population aging \n",
    "\n",
    "UN population data.  \n",
    "\n",
    "Selected country codes:  World (900), Japan (392), China (156), Kenya (404), United States (840) \n",
    "\n",
    "Guide\n",
    "http://www.statoids.com/wab.html\n",
    "\n",
    "UN data \n",
    "\n",
    "http://esa.un.org/unpd/wpp/DVD/\n",
    "\n",
    "http://esa.un.org/unpd/wpp/DVD/Files/1_Excel%20(Standard)/EXCEL_FILES/1_Population/WPP2015_POP_F15_1_ANNUAL_POPULATION_BY_AGE_BOTH_SEXES.XLS\n",
    "\n",
    "http://esa.un.org/unpd/wpp/DVD/Files/1_Excel%20(Standard)/EXCEL_FILES/3_Mortality/WPP2015_MORT_F04_1_DEATHS_BY_AGE_BOTH_SEXES.XLS\n",
    "\n",
    "http://esa.un.org/unpd/wpp/DVD/Files/1_Excel%20(Standard)/EXCEL_FILES/2_Fertility/WPP2015_FERT_F06_BIRTHS_BY_AGE_OF_MOTHER.XLS"
   ]
  },
  {
   "cell_type": "code",
   "execution_count": 37,
   "metadata": {
    "collapsed": false
   },
   "outputs": [
    {
     "name": "stdout",
     "output_type": "stream",
     "text": [
      "Wall time: 33 s\n"
     ]
    }
   ],
   "source": [
    "%%time\n",
    "\n",
    "urlbase = 'http://esa.un.org/unpd/wpp/DVD/Files/1_Excel%20(Standard)/EXCEL_FILES/1_Population/'\n",
    "file = url = 'WPP2015_POP_F15_1_ANNUAL_POPULATION_BY_AGE_BOTH_SEXES.XLS'\n",
    "unpop = pd.read_excel(urlbase+file, sheetname=0, skiprows=16, na_values=['…', ''])\n",
    "#prj = pd.read_excel(urlbase+file, sheetname=1, skiprows=16, na_values=['…', ''])\n",
    "\n",
    "# drop meaningless columns, rename date \n",
    "unpop.rename(columns={'Major area, region, country or area *': 'Country', \n",
    "                      'Reference date (as of 1 July)': 'Year', \n",
    "                      'Country code': 'Code'}, inplace=True) "
   ]
  },
  {
   "cell_type": "code",
   "execution_count": 44,
   "metadata": {
    "collapsed": false
   },
   "outputs": [
    {
     "data": {
      "text/html": [
       "<div>\n",
       "<table border=\"1\" class=\"dataframe\">\n",
       "  <thead>\n",
       "    <tr style=\"text-align: right;\">\n",
       "      <th></th>\n",
       "      <th>Index</th>\n",
       "      <th>Variant</th>\n",
       "      <th>Country</th>\n",
       "      <th>Notes</th>\n",
       "      <th>Code</th>\n",
       "      <th>Year</th>\n",
       "      <th>0-4</th>\n",
       "      <th>5-9</th>\n",
       "      <th>10-14</th>\n",
       "      <th>15-19</th>\n",
       "      <th>...</th>\n",
       "      <th>60-64</th>\n",
       "      <th>65-69</th>\n",
       "      <th>70-74</th>\n",
       "      <th>75-79</th>\n",
       "      <th>80+</th>\n",
       "      <th>80-84</th>\n",
       "      <th>85-89</th>\n",
       "      <th>90-94</th>\n",
       "      <th>95-99</th>\n",
       "      <th>100+</th>\n",
       "    </tr>\n",
       "  </thead>\n",
       "  <tbody>\n",
       "    <tr>\n",
       "      <th>5346</th>\n",
       "      <td>5347</td>\n",
       "      <td>Estimates</td>\n",
       "      <td>Japan</td>\n",
       "      <td>NaN</td>\n",
       "      <td>392</td>\n",
       "      <td>1950</td>\n",
       "      <td>10997.606</td>\n",
       "      <td>9448.307</td>\n",
       "      <td>8634.342</td>\n",
       "      <td>8484.002</td>\n",
       "      <td>...</td>\n",
       "      <td>2277.718</td>\n",
       "      <td>1757.865</td>\n",
       "      <td>1271.333</td>\n",
       "      <td>674.869</td>\n",
       "      <td>362.356</td>\n",
       "      <td>NaN</td>\n",
       "      <td>NaN</td>\n",
       "      <td>NaN</td>\n",
       "      <td>NaN</td>\n",
       "      <td>NaN</td>\n",
       "    </tr>\n",
       "    <tr>\n",
       "      <th>5347</th>\n",
       "      <td>5348</td>\n",
       "      <td>Estimates</td>\n",
       "      <td>Japan</td>\n",
       "      <td>NaN</td>\n",
       "      <td>392</td>\n",
       "      <td>1951</td>\n",
       "      <td>10959.292</td>\n",
       "      <td>9729.976</td>\n",
       "      <td>8732.872</td>\n",
       "      <td>8531.276</td>\n",
       "      <td>...</td>\n",
       "      <td>2310.449</td>\n",
       "      <td>1790.233</td>\n",
       "      <td>1299.718</td>\n",
       "      <td>722.096</td>\n",
       "      <td>402.152</td>\n",
       "      <td>NaN</td>\n",
       "      <td>NaN</td>\n",
       "      <td>NaN</td>\n",
       "      <td>NaN</td>\n",
       "      <td>NaN</td>\n",
       "    </tr>\n",
       "    <tr>\n",
       "      <th>5348</th>\n",
       "      <td>5349</td>\n",
       "      <td>Estimates</td>\n",
       "      <td>Japan</td>\n",
       "      <td>NaN</td>\n",
       "      <td>392</td>\n",
       "      <td>1952</td>\n",
       "      <td>10540.207</td>\n",
       "      <td>10087.123</td>\n",
       "      <td>8876.318</td>\n",
       "      <td>8554.745</td>\n",
       "      <td>...</td>\n",
       "      <td>2345.182</td>\n",
       "      <td>1832.098</td>\n",
       "      <td>1321.373</td>\n",
       "      <td>770.497</td>\n",
       "      <td>437.195</td>\n",
       "      <td>NaN</td>\n",
       "      <td>NaN</td>\n",
       "      <td>NaN</td>\n",
       "      <td>NaN</td>\n",
       "      <td>NaN</td>\n",
       "    </tr>\n",
       "    <tr>\n",
       "      <th>5349</th>\n",
       "      <td>5350</td>\n",
       "      <td>Estimates</td>\n",
       "      <td>Japan</td>\n",
       "      <td>NaN</td>\n",
       "      <td>392</td>\n",
       "      <td>1953</td>\n",
       "      <td>10070.640</td>\n",
       "      <td>10461.555</td>\n",
       "      <td>9026.198</td>\n",
       "      <td>8546.760</td>\n",
       "      <td>...</td>\n",
       "      <td>2379.205</td>\n",
       "      <td>1873.304</td>\n",
       "      <td>1338.140</td>\n",
       "      <td>813.256</td>\n",
       "      <td>465.459</td>\n",
       "      <td>NaN</td>\n",
       "      <td>NaN</td>\n",
       "      <td>NaN</td>\n",
       "      <td>NaN</td>\n",
       "      <td>NaN</td>\n",
       "    </tr>\n",
       "    <tr>\n",
       "      <th>5350</th>\n",
       "      <td>5351</td>\n",
       "      <td>Estimates</td>\n",
       "      <td>Japan</td>\n",
       "      <td>NaN</td>\n",
       "      <td>392</td>\n",
       "      <td>1954</td>\n",
       "      <td>9628.542</td>\n",
       "      <td>10779.980</td>\n",
       "      <td>9196.952</td>\n",
       "      <td>8539.834</td>\n",
       "      <td>...</td>\n",
       "      <td>2420.676</td>\n",
       "      <td>1909.742</td>\n",
       "      <td>1356.797</td>\n",
       "      <td>845.667</td>\n",
       "      <td>487.439</td>\n",
       "      <td>NaN</td>\n",
       "      <td>NaN</td>\n",
       "      <td>NaN</td>\n",
       "      <td>NaN</td>\n",
       "      <td>NaN</td>\n",
       "    </tr>\n",
       "  </tbody>\n",
       "</table>\n",
       "<p>5 rows × 28 columns</p>\n",
       "</div>"
      ],
      "text/plain": [
       "      Index    Variant Country Notes  Code  Year        0-4        5-9  \\\n",
       "5346   5347  Estimates   Japan   NaN   392  1950  10997.606   9448.307   \n",
       "5347   5348  Estimates   Japan   NaN   392  1951  10959.292   9729.976   \n",
       "5348   5349  Estimates   Japan   NaN   392  1952  10540.207  10087.123   \n",
       "5349   5350  Estimates   Japan   NaN   392  1953  10070.640  10461.555   \n",
       "5350   5351  Estimates   Japan   NaN   392  1954   9628.542  10779.980   \n",
       "\n",
       "         10-14     15-19  ...      60-64     65-69     70-74    75-79  \\\n",
       "5346  8634.342  8484.002  ...   2277.718  1757.865  1271.333  674.869   \n",
       "5347  8732.872  8531.276  ...   2310.449  1790.233  1299.718  722.096   \n",
       "5348  8876.318  8554.745  ...   2345.182  1832.098  1321.373  770.497   \n",
       "5349  9026.198  8546.760  ...   2379.205  1873.304  1338.140  813.256   \n",
       "5350  9196.952  8539.834  ...   2420.676  1909.742  1356.797  845.667   \n",
       "\n",
       "          80+  80-84  85-89  90-94  95-99  100+  \n",
       "5346  362.356    NaN    NaN    NaN    NaN   NaN  \n",
       "5347  402.152    NaN    NaN    NaN    NaN   NaN  \n",
       "5348  437.195    NaN    NaN    NaN    NaN   NaN  \n",
       "5349  465.459    NaN    NaN    NaN    NaN   NaN  \n",
       "5350  487.439    NaN    NaN    NaN    NaN   NaN  \n",
       "\n",
       "[5 rows x 28 columns]"
      ]
     },
     "execution_count": 44,
     "metadata": {},
     "output_type": "execute_result"
    }
   ],
   "source": [
    "# select country and pivot \n",
    "code = 392 \n",
    "df = unpop[unpop['Code']==code]\n",
    "df.head()"
   ]
  },
  {
   "cell_type": "code",
   "execution_count": 45,
   "metadata": {
    "collapsed": false
   },
   "outputs": [
    {
     "data": {
      "text/plain": [
       "0-4      float64:dense\n",
       "5-9      float64:dense\n",
       "10-14    float64:dense\n",
       "15-19    float64:dense\n",
       "20-24    float64:dense\n",
       "25-29    float64:dense\n",
       "30-34    float64:dense\n",
       "35-39    float64:dense\n",
       "40-44    float64:dense\n",
       "45-49    float64:dense\n",
       "50-54    float64:dense\n",
       "55-59    float64:dense\n",
       "60-64    float64:dense\n",
       "65-69    float64:dense\n",
       "70-74    float64:dense\n",
       "75-79    float64:dense\n",
       "80+      float64:dense\n",
       "80-84    float64:dense\n",
       "85-89    float64:dense\n",
       "90-94    float64:dense\n",
       "95-99    float64:dense\n",
       "100+     float64:dense\n",
       "dtype: object"
      ]
     },
     "execution_count": 45,
     "metadata": {},
     "output_type": "execute_result"
    }
   ],
   "source": [
    "df = df.drop(df.columns[[0, 1, 2, 3, 4]], axis=1).set_index('Year')\n",
    "df.ftypes"
   ]
  },
  {
   "cell_type": "code",
   "execution_count": 46,
   "metadata": {
    "collapsed": false
   },
   "outputs": [
    {
     "data": {
      "text/html": [
       "<div>\n",
       "<table border=\"1\" class=\"dataframe\">\n",
       "  <thead>\n",
       "    <tr style=\"text-align: right;\">\n",
       "      <th>Year</th>\n",
       "      <th>1950</th>\n",
       "      <th>1951</th>\n",
       "      <th>1952</th>\n",
       "      <th>1953</th>\n",
       "      <th>1954</th>\n",
       "      <th>1955</th>\n",
       "      <th>1956</th>\n",
       "      <th>1957</th>\n",
       "      <th>1958</th>\n",
       "      <th>1959</th>\n",
       "      <th>...</th>\n",
       "      <th>2006</th>\n",
       "      <th>2007</th>\n",
       "      <th>2008</th>\n",
       "      <th>2009</th>\n",
       "      <th>2010</th>\n",
       "      <th>2011</th>\n",
       "      <th>2012</th>\n",
       "      <th>2013</th>\n",
       "      <th>2014</th>\n",
       "      <th>2015</th>\n",
       "    </tr>\n",
       "  </thead>\n",
       "  <tbody>\n",
       "    <tr>\n",
       "      <th>0-4</th>\n",
       "      <td>10997.606</td>\n",
       "      <td>10959.292</td>\n",
       "      <td>10540.207</td>\n",
       "      <td>10070.640</td>\n",
       "      <td>9628.542</td>\n",
       "      <td>9204.626</td>\n",
       "      <td>8498.656</td>\n",
       "      <td>8112.603</td>\n",
       "      <td>7927.885</td>\n",
       "      <td>7834.850</td>\n",
       "      <td>...</td>\n",
       "      <td>5556.339</td>\n",
       "      <td>5502.190</td>\n",
       "      <td>5465.819</td>\n",
       "      <td>5431.718</td>\n",
       "      <td>5393.341</td>\n",
       "      <td>5387.011</td>\n",
       "      <td>5366.545</td>\n",
       "      <td>5336.028</td>\n",
       "      <td>5302.418</td>\n",
       "      <td>5269.038</td>\n",
       "    </tr>\n",
       "    <tr>\n",
       "      <th>5-9</th>\n",
       "      <td>9448.307</td>\n",
       "      <td>9729.976</td>\n",
       "      <td>10087.123</td>\n",
       "      <td>10461.555</td>\n",
       "      <td>10779.980</td>\n",
       "      <td>10947.970</td>\n",
       "      <td>10980.666</td>\n",
       "      <td>10759.298</td>\n",
       "      <td>10308.107</td>\n",
       "      <td>9739.832</td>\n",
       "      <td>...</td>\n",
       "      <td>5866.667</td>\n",
       "      <td>5829.899</td>\n",
       "      <td>5764.886</td>\n",
       "      <td>5681.752</td>\n",
       "      <td>5598.905</td>\n",
       "      <td>5543.294</td>\n",
       "      <td>5496.592</td>\n",
       "      <td>5460.158</td>\n",
       "      <td>5430.099</td>\n",
       "      <td>5398.973</td>\n",
       "    </tr>\n",
       "    <tr>\n",
       "      <th>10-14</th>\n",
       "      <td>8634.342</td>\n",
       "      <td>8732.872</td>\n",
       "      <td>8876.318</td>\n",
       "      <td>9026.198</td>\n",
       "      <td>9196.952</td>\n",
       "      <td>9426.911</td>\n",
       "      <td>9744.566</td>\n",
       "      <td>10109.400</td>\n",
       "      <td>10495.630</td>\n",
       "      <td>10802.587</td>\n",
       "      <td>...</td>\n",
       "      <td>5969.750</td>\n",
       "      <td>5948.310</td>\n",
       "      <td>5946.637</td>\n",
       "      <td>5947.598</td>\n",
       "      <td>5928.416</td>\n",
       "      <td>5892.063</td>\n",
       "      <td>5831.872</td>\n",
       "      <td>5754.122</td>\n",
       "      <td>5673.802</td>\n",
       "      <td>5603.638</td>\n",
       "    </tr>\n",
       "    <tr>\n",
       "      <th>15-19</th>\n",
       "      <td>8484.002</td>\n",
       "      <td>8531.276</td>\n",
       "      <td>8554.745</td>\n",
       "      <td>8546.760</td>\n",
       "      <td>8539.834</td>\n",
       "      <td>8565.922</td>\n",
       "      <td>8624.520</td>\n",
       "      <td>8684.907</td>\n",
       "      <td>8785.508</td>\n",
       "      <td>8962.585</td>\n",
       "      <td>...</td>\n",
       "      <td>6477.634</td>\n",
       "      <td>6373.509</td>\n",
       "      <td>6260.301</td>\n",
       "      <td>6148.254</td>\n",
       "      <td>6055.624</td>\n",
       "      <td>6004.345</td>\n",
       "      <td>5990.113</td>\n",
       "      <td>5995.097</td>\n",
       "      <td>5991.002</td>\n",
       "      <td>5960.784</td>\n",
       "    </tr>\n",
       "    <tr>\n",
       "      <th>20-24</th>\n",
       "      <td>7636.338</td>\n",
       "      <td>7871.793</td>\n",
       "      <td>8074.720</td>\n",
       "      <td>8213.389</td>\n",
       "      <td>8291.049</td>\n",
       "      <td>8327.713</td>\n",
       "      <td>8367.135</td>\n",
       "      <td>8341.112</td>\n",
       "      <td>8287.082</td>\n",
       "      <td>8249.209</td>\n",
       "      <td>...</td>\n",
       "      <td>7349.290</td>\n",
       "      <td>7167.159</td>\n",
       "      <td>7018.167</td>\n",
       "      <td>6900.528</td>\n",
       "      <td>6795.214</td>\n",
       "      <td>6659.583</td>\n",
       "      <td>6504.307</td>\n",
       "      <td>6345.609</td>\n",
       "      <td>6209.632</td>\n",
       "      <td>6111.768</td>\n",
       "    </tr>\n",
       "  </tbody>\n",
       "</table>\n",
       "<p>5 rows × 66 columns</p>\n",
       "</div>"
      ],
      "text/plain": [
       "Year        1950       1951       1952       1953       1954       1955  \\\n",
       "0-4    10997.606  10959.292  10540.207  10070.640   9628.542   9204.626   \n",
       "5-9     9448.307   9729.976  10087.123  10461.555  10779.980  10947.970   \n",
       "10-14   8634.342   8732.872   8876.318   9026.198   9196.952   9426.911   \n",
       "15-19   8484.002   8531.276   8554.745   8546.760   8539.834   8565.922   \n",
       "20-24   7636.338   7871.793   8074.720   8213.389   8291.049   8327.713   \n",
       "\n",
       "Year        1956       1957       1958       1959    ...         2006  \\\n",
       "0-4     8498.656   8112.603   7927.885   7834.850    ...     5556.339   \n",
       "5-9    10980.666  10759.298  10308.107   9739.832    ...     5866.667   \n",
       "10-14   9744.566  10109.400  10495.630  10802.587    ...     5969.750   \n",
       "15-19   8624.520   8684.907   8785.508   8962.585    ...     6477.634   \n",
       "20-24   8367.135   8341.112   8287.082   8249.209    ...     7349.290   \n",
       "\n",
       "Year       2007      2008      2009      2010      2011      2012      2013  \\\n",
       "0-4    5502.190  5465.819  5431.718  5393.341  5387.011  5366.545  5336.028   \n",
       "5-9    5829.899  5764.886  5681.752  5598.905  5543.294  5496.592  5460.158   \n",
       "10-14  5948.310  5946.637  5947.598  5928.416  5892.063  5831.872  5754.122   \n",
       "15-19  6373.509  6260.301  6148.254  6055.624  6004.345  5990.113  5995.097   \n",
       "20-24  7167.159  7018.167  6900.528  6795.214  6659.583  6504.307  6345.609   \n",
       "\n",
       "Year       2014      2015  \n",
       "0-4    5302.418  5269.038  \n",
       "5-9    5430.099  5398.973  \n",
       "10-14  5673.802  5603.638  \n",
       "15-19  5991.002  5960.784  \n",
       "20-24  6209.632  6111.768  \n",
       "\n",
       "[5 rows x 66 columns]"
      ]
     },
     "execution_count": 46,
     "metadata": {},
     "output_type": "execute_result"
    }
   ],
   "source": [
    "dft = df.T   #[['1955', '1985', '2015']]\n",
    "dft.head()"
   ]
  },
  {
   "cell_type": "code",
   "execution_count": 53,
   "metadata": {
    "collapsed": false
   },
   "outputs": [
    {
     "name": "stdout",
     "output_type": "stream",
     "text": [
      "15-19 <class 'str'>\n",
      "1953 <class 'numpy.int64'>\n"
     ]
    }
   ],
   "source": [
    "vars = df.columns.tolist()\n",
    "print(vars[3], type(vars[3]))\n",
    "obs = df.index.tolist()\n",
    "print(obs[3], type(obs[3]))"
   ]
  },
  {
   "cell_type": "code",
   "execution_count": 56,
   "metadata": {
    "collapsed": false
   },
   "outputs": [
    {
     "name": "stdout",
     "output_type": "stream",
     "text": [
      "1953 <class 'numpy.int64'>\n"
     ]
    }
   ],
   "source": [
    "df.index.is_object()\n",
    "obs = df.index.tolist()\n",
    "print(obs[3], type(obs[3]))  # *****"
   ]
  },
  {
   "cell_type": "code",
   "execution_count": null,
   "metadata": {
    "collapsed": true
   },
   "outputs": [],
   "source": []
  },
  {
   "cell_type": "code",
   "execution_count": null,
   "metadata": {
    "collapsed": true
   },
   "outputs": [],
   "source": [
    "import time\n",
    "nap = 2\n",
    "time.sleep(nap)           # pause execution "
   ]
  },
  {
   "cell_type": "markdown",
   "metadata": {},
   "source": [
    "### Example 5: Fama-French equity \"factors\"\n",
    "\n",
    "Gene Fama and Ken French are two of the leading academics studying (primarily) equity returns.  Some of this work is summarized in the [press release](http://www.nobelprize.org/nobel_prizes/economic-sciences/laureates/2013/press.html) and related material for the 2013 Nobel Prize in economics, which was shared by Fama with Lars Hansen and Robert Shiller.  For now, it's enough to say that Ken French posts an extensive collection of equity data on his website.  \n",
    "\n",
    "We'll look at what have come to be called the Fama-French factors.  The data includes:\n",
    "\n",
    "* xsm:  the return on the market (aggregate equity) minus the riskfree rate\n",
    "* smb (small minus big):  the return on small firms minus the return on big firms \n",
    "* hml (high minus low):  the return on firms with high book-to-market ratios minus those with low ratios. \n",
    "* rf:  the riskfree rate.\n",
    "\n",
    "We download all of these at once, monthly from 1926.  Each is reported as a percentage.\n",
    "Since they're monthly, you can get a rough annual number if you multiply by 12. \n",
    "\n",
    "**Question(s).** \n",
    "The question we address is how the returns compare:  their means, their variability, and so on.  \n",
    "[Ask yourself:  how would I answer this?  What would I like to do with the data?]\n",
    "\n",
    "References\n",
    "\n",
    "* http://mba.tuck.dartmouth.edu/pages/faculty/ken.french/data_library.html\n",
    "* http://quant-econ.net/pandas.html\n",
    "* http://pandas.pydata.org/pandas-docs/dev/remote_data.html#fama-french\n",
    "* http://pandas.pydata.org/pandas-docs/stable/10min.html#selection \n",
    "* http://matplotlib.org/api/pyplot_api.html#matplotlib.pyplot.boxplot\n",
    "* http://pandas.pydata.org/pandas-docs/dev/generated/pandas.DataFrame.hist.html \n",
    "\n",
    "---"
   ]
  },
  {
   "cell_type": "code",
   "execution_count": null,
   "metadata": {
    "collapsed": false
   },
   "outputs": [],
   "source": [
    "# load packages (if it's redundant it'll be ignored)\n",
    "import pandas.io.data as web      \n",
    "\n",
    "# read data from Ken French's website \n",
    "ff = web.DataReader('F-F_Research_Data_Factors', 'famafrench')[0] \n",
    "# NB:  ff.xs is a conflict, rename to xsm  \n",
    "ff.columns = ['xsm', 'smb', 'hml', 'rf']\n",
    "\n",
    "# see what we've got\n",
    "print(ff.head(3))\n",
    "print(ff.describe())"
   ]
  },
  {
   "cell_type": "code",
   "execution_count": null,
   "metadata": {
    "collapsed": false
   },
   "outputs": [],
   "source": [
    "# compute and print summary stats \n",
    "moments = [ff.mean(), ff.std(), ff.skew(), ff.kurtosis() - 3]\n",
    "\n",
    "# \\n here is a line break\n",
    "print('Summary stats for Fama-French factors (mean, std, skew, ex kurt)') #, end='\\n\\n') \n",
    "print(moments)\n",
    "#[print(moment, end='\\n\\n') for moment in moments]"
   ]
  },
  {
   "cell_type": "code",
   "execution_count": null,
   "metadata": {
    "collapsed": false
   },
   "outputs": [],
   "source": [
    "# try some things yourself \n",
    "# like what?  type ff.[tab]\n",
    "import pandas as pd\n",
    "pd.__version__\n"
   ]
  },
  {
   "cell_type": "code",
   "execution_count": null,
   "metadata": {
    "collapsed": false
   },
   "outputs": [],
   "source": [
    "# some plots \n",
    "ff.plot()\n",
    "plt.show()\n",
    "\n",
    "ff.hist(bins=50, sharex=True)\n",
    "plt.show()\n",
    "\n",
    "ff.boxplot(whis=0, return_type='axes')\n",
    "plt.show()"
   ]
  },
  {
   "cell_type": "markdown",
   "metadata": {},
   "source": [
    "**Answer(s)?**  Aren't the boxplots in the last figure cool?  The histograms above them?  What do you see in them?  How do the various returns compare?   "
   ]
  },
  {
   "cell_type": "code",
   "execution_count": null,
   "metadata": {
    "collapsed": false
   },
   "outputs": [],
   "source": [
    "# Note:  size of circles based on population "
   ]
  },
  {
   "cell_type": "markdown",
   "metadata": {},
   "source": [
    "---\n",
    "\n",
    "### Example 4: Option prices\n",
    "\n",
    "A financial option gives its owner the right to buy or sell an asset (the \"underlying\") at a preset price (the \"strike\") by a specific date (the \"expiration date\").  Puts are options to sell, calls are options to buy.  We explore option prices with Yahoo Finance, specifically options on the S&P 500 exchange-traded fund, ticker SPY.  \n",
    "\n",
    "We illustrate its usefulness with a scatterplot of life expectancy v GDP per capita.  \n",
    "\n",
    "**Question(s).**  How do put and call prices vary with their strike price?  [Think about this.  What would you expect?] \n",
    "\n",
    "**Warning.** This won't work in Python 2.7 or, in fact, in any environment that uses versions of Pandas prior to 0.14.1.  The Yahoo Option API is labeled experimental and it seems the earlier versions don't allow easy access to the strike prices.  \n",
    "\n",
    "**References**\n",
    "\n",
    "* http://finance.yahoo.com/q/op?s=SPY+Options\n",
    "* http://pandas.pydata.org/pandas-docs/stable/remote_data.html#yahoo-finance\n",
    "* http://pandas.pydata.org/pandas-docs/stable/remote_data.html#yahoo-finance-options\n",
    "\n",
    "---"
   ]
  },
  {
   "cell_type": "code",
   "execution_count": null,
   "metadata": {
    "collapsed": false
   },
   "outputs": [],
   "source": [
    "# load packages \n",
    "import pandas as pd \n",
    "import pandas.io.data as web\n",
    "from pandas.io.data import Options\n",
    "import datetime as dt \n",
    "import matplotlib.pylab as plt\n",
    "\n",
    "# ticker \n",
    "ticker = 'spy' "
   ]
  },
  {
   "cell_type": "code",
   "execution_count": null,
   "metadata": {
    "collapsed": false
   },
   "outputs": [],
   "source": [
    "# load stock price first (the underlying) \n",
    "# pick a recent date and subtract seven days to be sure we get a quote  \n",
    "# http://pymotw.com/2/datetime/#date-arithmetic\n",
    "today = dt.date.today()\n",
    "one_week = dt.timedelta(days=7)\n",
    "start = today - one_week\n",
    "stock = web.DataReader(ticker, 'yahoo', start) \n",
    "print(stock)        # just to see what we have\n",
    "\n",
    "# take the last close (-1 is the last, 'Close' is the close)\n",
    "# this shows up in our figure \n",
    "atm = stock.ix[-1,'Close']      # the -1 takes the last observation   "
   ]
  },
  {
   "cell_type": "code",
   "execution_count": null,
   "metadata": {
    "collapsed": false
   },
   "outputs": [],
   "source": [
    "# get option prices for same ticker \n",
    "option = Options(ticker, 'yahoo')\n",
    "expiry = dt.date(2014, 11, 20)\n",
    "data_calls = option.get_call_data(expiry=expiry).dropna()\n",
    "data_puts  = option.get_put_data(expiry=expiry).dropna()\n",
    "\n",
    "# check what we have \n",
    "print(data_calls.index) \n",
    "print(data_calls.tail())"
   ]
  },
  {
   "cell_type": "code",
   "execution_count": null,
   "metadata": {
    "collapsed": false
   },
   "outputs": [],
   "source": [
    "# compute mid of bid and ask and arrange series for plotting \n",
    "calls_bid = data_calls['Bid']\n",
    "calls_ask = data_calls['Ask'] \n",
    "\n",
    "calls_strikes = data_calls['Strike']\n",
    "calls_mid = (data_calls['Bid'] + data_calls['Ask'])/2\n",
    "puts_strikes = data_puts['Strike']\n",
    "puts_mid = (data_puts['Bid'] + data_puts['Ask'])/2"
   ]
  },
  {
   "cell_type": "markdown",
   "metadata": {},
   "source": [
    "*Note to self.* \n",
    "In older versions of Pandas, prior to 0.14.1, the option input puts the strike in the index, not as a column of data.\n",
    "The next two lines check the versions of pandas and python on the off chance we want to check:  print(pd.__version__), \n",
    "! python --version "
   ]
  },
  {
   "cell_type": "code",
   "execution_count": null,
   "metadata": {
    "collapsed": false
   },
   "outputs": [],
   "source": [
    "# plot call and put prices v strike \n",
    "plt.plot(calls_strikes, calls_mid, 'r', lw=2, label='calls')\n",
    "plt.plot(puts_strikes, puts_mid, 'b', lw=2, label='puts')\n",
    "\n",
    "# prettify it \n",
    "#plt.axis([120, 250, 0, 50])\n",
    "plt.axvline(x=atm, color='k', linestyle='--', label='ATM')               \n",
    "plt.legend(loc='best')\n",
    "plt.show()"
   ]
  },
  {
   "cell_type": "code",
   "execution_count": null,
   "metadata": {
    "collapsed": false
   },
   "outputs": [],
   "source": [
    "# rerun the figure above with different color lines.  Or dashed lines for call and put prices.  \n",
    "# or change the form of the vertical ATM line:  solid? another color?  \n"
   ]
  },
  {
   "cell_type": "code",
   "execution_count": null,
   "metadata": {
    "collapsed": false
   },
   "outputs": [],
   "source": []
  }
 ],
 "metadata": {
  "kernelspec": {
   "display_name": "Python 3",
   "language": "python",
   "name": "python3"
  },
  "language_info": {
   "codemirror_mode": {
    "name": "ipython",
    "version": 3
   },
   "file_extension": ".py",
   "mimetype": "text/x-python",
   "name": "python",
   "nbconvert_exporter": "python",
   "pygments_lexer": "ipython3",
   "version": "3.4.1"
  }
 },
 "nbformat": 4,
 "nbformat_minor": 0
}
