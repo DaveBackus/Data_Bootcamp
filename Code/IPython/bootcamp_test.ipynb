{
 "cells": [
  {
   "cell_type": "markdown",
   "metadata": {},
   "source": [
    "###Data Bootcamp test program (IPython notebook)\n",
    "\n",
    "**First, welcome.**  \n",
    "\n",
    "Now that we're friends, click on \"Cell\" above and choose \"Run all.\"  You should see * in square brackets, which means the program is running. When it's done, a number will replace the asterisk.  \n",
    "\n",
    "Below you should see a welcome message and today's date.  If it isn't today's date, you're probably looking at old output."
   ]
  },
  {
   "cell_type": "code",
   "execution_count": 3,
   "metadata": {
    "collapsed": false
   },
   "outputs": [
    {
     "name": "stdout",
     "output_type": "stream",
     "text": [
      "\n",
      "Welcome to Data Bootcamp!\n",
      "Today is:  2015-06-23\n"
     ]
    }
   ],
   "source": [
    "import datetime \n",
    "print('\\nWelcome to Data Bootcamp!')\n",
    "print('Today is: ', datetime.date.today())"
   ]
  },
  {
   "cell_type": "markdown",
   "metadata": {},
   "source": [
    "**Now the test:**  \n",
    "\n",
    "* If you get the message below \"Program halted, old version of Python, etc,\" you need to go back and install Anaconda again, this time following [the instructions](https://docs.google.com/document/d/1kvZAEEh4MqpWfVuW1eW3lBvsS2yKEJXtzAkOZSrtd5s/edit?usp=sharing) **EXACTLY**!  Yes, we know that's discouraging, but better to know now than run into problems later.  \n",
    "\n",
    "* If you get the message \"Congratulations etc,\" you're all set.  Pat yourself on the back. You can close out the program and go back to whatever you were doing.  "
   ]
  },
  {
   "cell_type": "code",
   "execution_count": 4,
   "metadata": {
    "collapsed": false,
    "scrolled": true
   },
   "outputs": [
    {
     "name": "stdout",
     "output_type": "stream",
     "text": [
      "What version of Python are we running? \n",
      "3.4.1 |Anaconda 2.1.0 (64-bit)| (default, Jun 11 2014, 17:27:11) [MSC v.1600 64 bit (AMD64)]\n",
      "\n",
      "Congratulations, Python is up to date!\n"
     ]
    }
   ],
   "source": [
    "import sys       \n",
    "\n",
    "print('What version of Python are we running? \\n', sys.version, '\\n', sep='') \n",
    "\n",
    "if float(sys.version_info[0]) < 3.0 :       \n",
    "    raise Exception('Program halted, old version of Python. \\n', \n",
    "                    'Sorry, you need to install Anaconda again.')\n",
    "else:\n",
    "    print('Congratulations, Python is up to date!')\n"
   ]
  }
 ],
 "metadata": {
  "kernelspec": {
   "display_name": "Python 3",
   "language": "python",
   "name": "python3"
  },
  "language_info": {
   "codemirror_mode": {
    "name": "ipython",
    "version": 3
   },
   "file_extension": ".py",
   "mimetype": "text/x-python",
   "name": "python",
   "nbconvert_exporter": "python",
   "pygments_lexer": "ipython3",
   "version": "3.4.1"
  }
 },
 "nbformat": 4,
 "nbformat_minor": 0
}
