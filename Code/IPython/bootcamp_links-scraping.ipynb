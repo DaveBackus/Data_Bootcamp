{
 "cells": [
  {
   "cell_type": "markdown",
   "metadata": {
    "collapsed": true
   },
   "source": [
    "# Working our way up to web scraping\n",
    "\n",
    "There's been some interest in web scraping.  It's beyond us, but there are some things we can do.  ...\n",
    "\n",
    "**Note: requires internet access to run.**  \n",
    "\n",
    "This IPython notebook was created by Dave Backus, Chase Coleman, and Spencer Lyon for the NYU Stern course [Data Bootcamp](http://databootcamp.nyuecon.com/).  "
   ]
  },
  {
   "cell_type": "markdown",
   "metadata": {},
   "source": [
    "<a id=prelims></a>"
   ]
  },
  {
   "cell_type": "markdown",
   "metadata": {},
   "source": [
    "## Preliminaries \n",
    "\n",
    "Import packages, etc.  "
   ]
  },
  {
   "cell_type": "code",
   "execution_count": 10,
   "metadata": {
    "collapsed": false
   },
   "outputs": [
    {
     "name": "stdout",
     "output_type": "stream",
     "text": [
      "\n",
      "Python version:  3.5.1 |Anaconda 4.0.0 (64-bit)| (default, Feb 16 2016, 09:49:46) [MSC v.1900 64 bit (AMD64)]\n",
      "Pandas version:  0.18.0\n",
      "Requests version:  2.9.1\n",
      "Today's date: 2016-05-03\n"
     ]
    }
   ],
   "source": [
    "import pandas as pd             # data package\n",
    "import matplotlib.pyplot as plt # graphics \n",
    "import sys                      # system module, used to get Python version \n",
    "import os                       # operating system tools (check files)\n",
    "import datetime as dt           # date tools, used to note current date  \n",
    "\n",
    "# these are new \n",
    "import requests, io             # internet and input tools  \n",
    "from bs4 import BeautifulSoup   # website parsing\n",
    "\n",
    "%matplotlib inline \n",
    "\n",
    "print('\\nPython version: ', sys.version) \n",
    "print('Pandas version: ', pd.__version__)\n",
    "print('Requests version: ', requests.__version__)\n",
    "print(\"Today's date:\", dt.date.today())"
   ]
  },
  {
   "cell_type": "markdown",
   "metadata": {},
   "source": [
    "<a id=lucky></a>"
   ]
  },
  {
   "cell_type": "markdown",
   "metadata": {},
   "source": [
    "## Sometimes we get lucky\n",
    "\n",
    "We sometimes find that we can access data straight from a web page with Pandas' `read_html`.  It works just like `read_csv` or `read_excel`.  \n",
    "\n",
    "The first example is [baseball-reference.com](http://www.baseball-reference.com/).  The same people run similar sites for football and basketball.  Many of their pages are collections of tables.  See, for example, [this one](http://www.baseball-reference.com/players/m/mccutan01.shtml) for Pittsburgh's Andrew McCucthen.    "
   ]
  },
  {
   "cell_type": "code",
   "execution_count": 3,
   "metadata": {
    "collapsed": false
   },
   "outputs": [
    {
     "name": "stdout",
     "output_type": "stream",
     "text": [
      "Ouput has type <class 'list'> and length 10\n",
      "First element has type <class 'pandas.core.frame.DataFrame'>\n"
     ]
    }
   ],
   "source": [
    "# baseball reference\n",
    "url = 'http://www.baseball-reference.com/players/m/mccutan01.shtml'\n",
    "am  = pd.read_html(url)\n",
    "\n",
    "print('Ouput has type', type(am), 'and length', len(am))\n",
    "print('First element has type', type(am[0]))"
   ]
  },
  {
   "cell_type": "markdown",
   "metadata": {},
   "source": [
    "**Question.** What do we have here?  A list of length 10?  Whose elements are dataframes?  Evidently this reads in all the tables from the page into dataframes and collects them in a list.  "
   ]
  },
  {
   "cell_type": "code",
   "execution_count": 4,
   "metadata": {
    "collapsed": false
   },
   "outputs": [
    {
     "data": {
      "text/html": [
       "<div>\n",
       "<table border=\"1\" class=\"dataframe\">\n",
       "  <thead>\n",
       "    <tr style=\"text-align: right;\">\n",
       "      <th></th>\n",
       "      <th>Year</th>\n",
       "      <th>Tm</th>\n",
       "      <th>Lg</th>\n",
       "      <th>Age</th>\n",
       "      <th>Pos</th>\n",
       "      <th>G</th>\n",
       "      <th>GS</th>\n",
       "      <th>CG</th>\n",
       "      <th>Inn</th>\n",
       "      <th>Ch</th>\n",
       "      <th>...</th>\n",
       "      <th>Unnamed: 105</th>\n",
       "      <th>Unnamed: 106</th>\n",
       "      <th>Unnamed: 107</th>\n",
       "      <th>Unnamed: 108</th>\n",
       "      <th>Unnamed: 109</th>\n",
       "      <th>Unnamed: 110</th>\n",
       "      <th>Unnamed: 111</th>\n",
       "      <th>Unnamed: 112</th>\n",
       "      <th>Unnamed: 113</th>\n",
       "      <th>Unnamed: 114</th>\n",
       "    </tr>\n",
       "  </thead>\n",
       "  <tbody>\n",
       "    <tr>\n",
       "      <th>0</th>\n",
       "      <td>2009.0</td>\n",
       "      <td>PIT</td>\n",
       "      <td>NL</td>\n",
       "      <td>22</td>\n",
       "      <td>CF</td>\n",
       "      <td>108</td>\n",
       "      <td>108.0</td>\n",
       "      <td>106.0</td>\n",
       "      <td>952.2</td>\n",
       "      <td>275.0</td>\n",
       "      <td>...</td>\n",
       "      <td>NaN</td>\n",
       "      <td>NaN</td>\n",
       "      <td>NaN</td>\n",
       "      <td>NaN</td>\n",
       "      <td>NaN</td>\n",
       "      <td>NaN</td>\n",
       "      <td>NaN</td>\n",
       "      <td>NaN</td>\n",
       "      <td>NaN</td>\n",
       "      <td>NaN</td>\n",
       "    </tr>\n",
       "    <tr>\n",
       "      <th>1</th>\n",
       "      <td>2009.0</td>\n",
       "      <td>PIT</td>\n",
       "      <td>NL</td>\n",
       "      <td>22</td>\n",
       "      <td>OF</td>\n",
       "      <td>108</td>\n",
       "      <td>108.0</td>\n",
       "      <td>106.0</td>\n",
       "      <td>952.2</td>\n",
       "      <td>275.0</td>\n",
       "      <td>...</td>\n",
       "      <td>NaN</td>\n",
       "      <td>NaN</td>\n",
       "      <td>NaN</td>\n",
       "      <td>NaN</td>\n",
       "      <td>NaN</td>\n",
       "      <td>NaN</td>\n",
       "      <td>NaN</td>\n",
       "      <td>NaN</td>\n",
       "      <td>NaN</td>\n",
       "      <td>NaN</td>\n",
       "    </tr>\n",
       "    <tr>\n",
       "      <th>2</th>\n",
       "      <td>2010.0</td>\n",
       "      <td>PIT</td>\n",
       "      <td>NL</td>\n",
       "      <td>23</td>\n",
       "      <td>CF</td>\n",
       "      <td>152</td>\n",
       "      <td>152.0</td>\n",
       "      <td>140.0</td>\n",
       "      <td>1290.1</td>\n",
       "      <td>386.0</td>\n",
       "      <td>...</td>\n",
       "      <td>NaN</td>\n",
       "      <td>NaN</td>\n",
       "      <td>NaN</td>\n",
       "      <td>NaN</td>\n",
       "      <td>NaN</td>\n",
       "      <td>NaN</td>\n",
       "      <td>NaN</td>\n",
       "      <td>NaN</td>\n",
       "      <td>NaN</td>\n",
       "      <td>NaN</td>\n",
       "    </tr>\n",
       "    <tr>\n",
       "      <th>3</th>\n",
       "      <td>2010.0</td>\n",
       "      <td>PIT</td>\n",
       "      <td>NL</td>\n",
       "      <td>23</td>\n",
       "      <td>OF</td>\n",
       "      <td>152</td>\n",
       "      <td>152.0</td>\n",
       "      <td>140.0</td>\n",
       "      <td>1290.1</td>\n",
       "      <td>386.0</td>\n",
       "      <td>...</td>\n",
       "      <td>NaN</td>\n",
       "      <td>NaN</td>\n",
       "      <td>NaN</td>\n",
       "      <td>NaN</td>\n",
       "      <td>NaN</td>\n",
       "      <td>NaN</td>\n",
       "      <td>NaN</td>\n",
       "      <td>NaN</td>\n",
       "      <td>NaN</td>\n",
       "      <td>NaN</td>\n",
       "    </tr>\n",
       "    <tr>\n",
       "      <th>4</th>\n",
       "      <td>2011.0</td>\n",
       "      <td>PIT</td>\n",
       "      <td>NL</td>\n",
       "      <td>24</td>\n",
       "      <td>CF</td>\n",
       "      <td>155</td>\n",
       "      <td>153.0</td>\n",
       "      <td>146.0</td>\n",
       "      <td>1353.2</td>\n",
       "      <td>430.0</td>\n",
       "      <td>...</td>\n",
       "      <td>NaN</td>\n",
       "      <td>NaN</td>\n",
       "      <td>NaN</td>\n",
       "      <td>NaN</td>\n",
       "      <td>NaN</td>\n",
       "      <td>NaN</td>\n",
       "      <td>NaN</td>\n",
       "      <td>NaN</td>\n",
       "      <td>NaN</td>\n",
       "      <td>NaN</td>\n",
       "    </tr>\n",
       "  </tbody>\n",
       "</table>\n",
       "<p>5 rows × 115 columns</p>\n",
       "</div>"
      ],
      "text/plain": [
       "     Year   Tm  Lg  Age Pos    G     GS     CG     Inn     Ch      ...       \\\n",
       "0  2009.0  PIT  NL   22  CF  108  108.0  106.0   952.2  275.0      ...        \n",
       "1  2009.0  PIT  NL   22  OF  108  108.0  106.0   952.2  275.0      ...        \n",
       "2  2010.0  PIT  NL   23  CF  152  152.0  140.0  1290.1  386.0      ...        \n",
       "3  2010.0  PIT  NL   23  OF  152  152.0  140.0  1290.1  386.0      ...        \n",
       "4  2011.0  PIT  NL   24  CF  155  153.0  146.0  1353.2  430.0      ...        \n",
       "\n",
       "   Unnamed: 105  Unnamed: 106  Unnamed: 107  Unnamed: 108  Unnamed: 109  \\\n",
       "0           NaN           NaN           NaN           NaN           NaN   \n",
       "1           NaN           NaN           NaN           NaN           NaN   \n",
       "2           NaN           NaN           NaN           NaN           NaN   \n",
       "3           NaN           NaN           NaN           NaN           NaN   \n",
       "4           NaN           NaN           NaN           NaN           NaN   \n",
       "\n",
       "   Unnamed: 110  Unnamed: 111  Unnamed: 112  Unnamed: 113  Unnamed: 114  \n",
       "0           NaN           NaN           NaN           NaN           NaN  \n",
       "1           NaN           NaN           NaN           NaN           NaN  \n",
       "2           NaN           NaN           NaN           NaN           NaN  \n",
       "3           NaN           NaN           NaN           NaN           NaN  \n",
       "4           NaN           NaN           NaN           NaN           NaN  \n",
       "\n",
       "[5 rows x 115 columns]"
      ]
     },
     "execution_count": 4,
     "metadata": {},
     "output_type": "execute_result"
    }
   ],
   "source": [
    "am[4].head()"
   ]
  },
  {
   "cell_type": "code",
   "execution_count": null,
   "metadata": {
    "collapsed": true
   },
   "outputs": [],
   "source": []
  },
  {
   "cell_type": "code",
   "execution_count": null,
   "metadata": {
    "collapsed": true
   },
   "outputs": [],
   "source": []
  },
  {
   "cell_type": "markdown",
   "metadata": {},
   "source": [
    "## Scanning url's \n",
    "\n",
    "Two examples:  \n",
    "\n",
    "* Itamar (below) \n",
    "* Chase's on NYC open data...  "
   ]
  },
  {
   "cell_type": "code",
   "execution_count": null,
   "metadata": {
    "collapsed": true
   },
   "outputs": [],
   "source": []
  },
  {
   "cell_type": "markdown",
   "metadata": {},
   "source": [
    "Itamar's comments on Yahoo finance.  \n",
    "\n",
    "Adapt this from Itamar \n",
    "\n",
    "#%%%\n",
    "\n",
    "This code shows an example of a simple web scrapping program.\n",
    "Walk through the following steps before running the code:\n",
    "1) Go to : http://finance.yahoo.com/q/hp?s=AAPL+Historical+Prices\n",
    "2) Enter the dates you want and hit the get prices button.\n",
    "3) Once the results are shown, look on the url address.\n",
    "4) The new url will include several parameters, each one is seperated by the & character.\n",
    "5) Try to explore the meanning of each parameter (s, a,b,c,d,e,f and g)\n",
    "6) After some trial and error you can realize that each parameter represents the data you entered as input:\n",
    "    the day, month and year, the stock sybmol, and the frequency  you chose (daily, weekly etc)\n",
    "7) Scroll down to the bottom of the page. there is a link which allows downloading the data as a csv file. click on it\n",
    "8) Open the CSV in excel and see the structure of the file.\n",
    "9) Go back to the web page, instead of clicking on the csv link, right click on it and copy the link address\n",
    "10) Paste the address in a notebook - This is the url link we can use to access the data from our coding environment.\n",
    "\n",
    "\n",
    "```\n",
    "#%%\n",
    "import pandas as pd\n",
    "from datetime import datetime\n",
    "import matplotlib.pyplot as plt\n",
    "\n",
    "symbol='AAPL'  ## change this to any stock symbol you'd like to get\n",
    "begin_day='01'\n",
    "begin_month='00' # January (note the months run from 0 to 11)\n",
    "begin_year='2010'\n",
    "end_day = '31'\n",
    "end_month = '11' #December\n",
    "end_year='2014'\n",
    "freq='d' #d - daily, w - weekly, m - monthly etc..\n",
    "# the following three lines will construct a url based on the parameters above:\n",
    "url = 'http://real-chart.finance.yahoo.com/table.csv?s='+symbol\n",
    "url+= '&a='+begin_month+'&b='+begin_day+'&c='+begin_year\n",
    "url+= '&d='+end_month+'&e='+end_day+'&f='+end_year+'&g='+freq+'&ignore=.csv'\n",
    "\n",
    "print (url)   ## This should show a simliar stucture to the csv file found before.\n",
    "\n",
    "# pandas allows us to read the csv file dirctly from the url\n",
    "df=pd.read_csv(url)\n",
    "# since all the data is read as a string, it'll be good to convert the date column to a datetime type\n",
    "df['Date']=pd.to_datetime(df['Date'])\n",
    "# now we can, for exmaple, plot the Adj.Close column vs. the date:\n",
    "df.plot(x='Date',y='Adj Close')\n",
    "\n",
    "```"
   ]
  },
  {
   "cell_type": "code",
   "execution_count": null,
   "metadata": {
    "collapsed": true
   },
   "outputs": [],
   "source": []
  },
  {
   "cell_type": "code",
   "execution_count": null,
   "metadata": {
    "collapsed": true
   },
   "outputs": [],
   "source": []
  },
  {
   "cell_type": "markdown",
   "metadata": {
    "collapsed": true
   },
   "source": [
    "`"
   ]
  },
  {
   "cell_type": "markdown",
   "metadata": {},
   "source": [
    "Chase's json example .."
   ]
  },
  {
   "cell_type": "code",
   "execution_count": null,
   "metadata": {
    "collapsed": true
   },
   "outputs": [],
   "source": []
  },
  {
   "cell_type": "code",
   "execution_count": null,
   "metadata": {
    "collapsed": true
   },
   "outputs": [],
   "source": []
  },
  {
   "cell_type": "code",
   "execution_count": null,
   "metadata": {
    "collapsed": true
   },
   "outputs": [],
   "source": []
  },
  {
   "cell_type": "code",
   "execution_count": null,
   "metadata": {
    "collapsed": true
   },
   "outputs": [],
   "source": []
  },
  {
   "cell_type": "code",
   "execution_count": null,
   "metadata": {
    "collapsed": true
   },
   "outputs": [],
   "source": []
  },
  {
   "cell_type": "markdown",
   "metadata": {},
   "source": [
    "## Accessing web pages \n",
    "\n",
    "Requests again...  "
   ]
  },
  {
   "cell_type": "code",
   "execution_count": 11,
   "metadata": {
    "collapsed": true
   },
   "outputs": [],
   "source": [
    "url = 'http://databootcamp.nyuecon.com/'\n",
    "db = requests.get(url) "
   ]
  },
  {
   "cell_type": "code",
   "execution_count": 12,
   "metadata": {
    "collapsed": false
   },
   "outputs": [
    {
     "data": {
      "text/plain": [
       "{'X-Cache': 'HIT', 'X-Cache-Hits': '1', 'X-Served-By': 'cache-atl6221-ATL', 'Content-Encoding': 'gzip', 'X-GitHub-Request-Id': '17EB272F:6097:AC5FE9E:5728AC98', 'Age': '0', 'X-Fastly-Request-ID': '36d43806a17806b9c71a3b60879628e0c848c1fe', 'Last-Modified': 'Thu, 21 Apr 2016 23:57:03 GMT', 'Vary': 'Accept-Encoding', 'Expires': 'Tue, 03 May 2016 14:00:17 GMT', 'Via': '1.1 varnish', 'Content-Length': '3499', 'Accept-Ranges': 'bytes', 'Server': 'GitHub.com', 'Content-Type': 'text/html; charset=utf-8', 'Cache-Control': 'max-age=600', 'Access-Control-Allow-Origin': '*', 'Connection': 'keep-alive', 'Date': 'Tue, 03 May 2016 18:47:14 GMT'}"
      ]
     },
     "execution_count": 12,
     "metadata": {},
     "output_type": "execute_result"
    }
   ],
   "source": [
    "db.headers"
   ]
  },
  {
   "cell_type": "code",
   "execution_count": 13,
   "metadata": {
    "collapsed": false
   },
   "outputs": [
    {
     "data": {
      "text/plain": [
       "'http://databootcamp.nyuecon.com/'"
      ]
     },
     "execution_count": 13,
     "metadata": {},
     "output_type": "execute_result"
    }
   ],
   "source": [
    "db.url"
   ]
  },
  {
   "cell_type": "code",
   "execution_count": 14,
   "metadata": {
    "collapsed": false
   },
   "outputs": [
    {
     "data": {
      "text/plain": [
       "200"
      ]
     },
     "execution_count": 14,
     "metadata": {},
     "output_type": "execute_result"
    }
   ],
   "source": [
    "db.status_code"
   ]
  },
  {
   "cell_type": "code",
   "execution_count": null,
   "metadata": {
    "collapsed": true
   },
   "outputs": [],
   "source": []
  },
  {
   "cell_type": "code",
   "execution_count": null,
   "metadata": {
    "collapsed": true
   },
   "outputs": [],
   "source": []
  },
  {
   "cell_type": "code",
   "execution_count": null,
   "metadata": {
    "collapsed": true
   },
   "outputs": [],
   "source": []
  },
  {
   "cell_type": "markdown",
   "metadata": {},
   "source": [
    "## Extracting pieces of web pages \n",
    "\n",
    "Use Beautiful Soup...  \n",
    "\n"
   ]
  },
  {
   "cell_type": "code",
   "execution_count": 15,
   "metadata": {
    "collapsed": false
   },
   "outputs": [
    {
     "name": "stdout",
     "output_type": "stream",
     "text": [
      "Type and length:  <class 'bs4.BeautifulSoup'>, 7\n",
      "Title:  <title>Data Bootcamp </title>\n",
      "First n characters:\n",
      "<!DOCTYPE html>\n",
      "<!--[if lt IE 7]> <html class=\"no-js lt-ie9 lt-ie8 lt-ie7\"> <![endif]-->\n",
      "<!--[if IE 7]> <html class=\"no-js lt-ie9 lt-ie8\"> <![endif]-->\n",
      "<!--[if IE 8]> <html class=\"no-js lt-ie9\"> <![endif]-->\n",
      "<!--[if gt IE 8]><!-->\n",
      "<html class=\"no-js\"\n"
     ]
    }
   ],
   "source": [
    "bs = BeautifulSoup(db.content, 'lxml')\n",
    "\n",
    "print('Type and length:  ', type(bs), ', ', len(bs), sep='')\n",
    "print('Title: ', bs.title)\n",
    "print('First n characters:\\n', bs.prettify()[0:250], sep='')"
   ]
  },
  {
   "cell_type": "code",
   "execution_count": 39,
   "metadata": {
    "collapsed": false
   },
   "outputs": [
    {
     "data": {
      "text/plain": [
       "<head>\n",
       "<meta content=\"text/html; charset=utf-8\" http-equiv=\"content-type\"/>\n",
       "<title>Data Bootcamp </title>\n",
       "<meta content=\"IE=edge\" http-equiv=\"X-UA-Compatible\"/>\n",
       "<meta content=\"True\" name=\"HandheldFriendly\"/>\n",
       "<meta content=\"320\" name=\"MobileOptimized\"/>\n",
       "<meta content=\"width=device-width, initial-scale=1\" name=\"viewport\"/>\n",
       "<meta content=\"\" name=\"description\"/>\n",
       "<meta content=\"\" name=\"keywords\"/>\n",
       "<meta content=\"Data Bootcamp \" property=\"og:title\"/>\n",
       "<meta content=\"Data Bootcamp\" property=\"og:site_name\"/>\n",
       "<meta content=\"http://databootcamp.nyuecon.com/\" property=\"og:url\"/>\n",
       "<meta content=\"en-us\" property=\"og:locale\"/>\n",
       "<meta content=\"website\" property=\"og:type\"/>\n",
       "<link href=\"http://databootcamp.nyuecon.com/index.xml\" rel=\"alternate\" title=\"Data Bootcamp\" type=\"application/rss+xml\"/>\n",
       "<link href=\"http://databootcamp.nyuecon.com/\" rel=\"canonical\"/>\n",
       "<link href=\"http://databootcamp.nyuecon.com/touch-icon-144-precomposed.png\" rel=\"apple-touch-icon-precomposed\" sizes=\"144x144\"/>\n",
       "<link href=\"http://databootcamp.nyuecon.com/favicon.png\" rel=\"icon\"/>\n",
       "<meta content=\"Hugo 0.16-DEV\" name=\"generator\"/>\n",
       "<!--[if lt IE 9]>\n",
       "<script src=\"https://oss.maxcdn.com/libs/html5shiv/3.7.0/html5shiv.js\"></script>\n",
       "<script src=\"https://oss.maxcdn.com/libs/respond.js/1.4.2/respond.min.js\"></script>\n",
       "<![endif]-->\n",
       "<link href=\"https://fonts.googleapis.com/css?family=Merriweather:300%7CRaleway%7COpen+Sans\" rel=\"stylesheet\" type=\"text/css\"/>\n",
       "<link href=\"http://databootcamp.nyuecon.com/css/font-awesome.min.css\" rel=\"stylesheet\"/>\n",
       "<link href=\"http://databootcamp.nyuecon.com/css/style.css\" rel=\"stylesheet\"/>\n",
       "<link href=\"http://databootcamp.nyuecon.com/css/highlight/default.css\" rel=\"stylesheet\"/>\n",
       "</head>"
      ]
     },
     "execution_count": 39,
     "metadata": {},
     "output_type": "execute_result"
    }
   ],
   "source": [
    "bs.head"
   ]
  },
  {
   "cell_type": "code",
   "execution_count": 16,
   "metadata": {
    "collapsed": false
   },
   "outputs": [
    {
     "data": {
      "text/plain": [
       "<title>Data Bootcamp </title>"
      ]
     },
     "execution_count": 16,
     "metadata": {},
     "output_type": "execute_result"
    }
   ],
   "source": [
    "bs.title"
   ]
  },
  {
   "cell_type": "code",
   "execution_count": 17,
   "metadata": {
    "collapsed": false
   },
   "outputs": [
    {
     "data": {
      "text/plain": [
       "[<a class=\"baselink\" href=\"http://databootcamp.nyuecon.com/\">\n",
       "   Data Bootcamp\n",
       " \n",
       " </a>,\n",
       " <a class=\"homelink\" href=\"http://databootcamp.nyuecon.com/\">Home</a>,\n",
       " <a href=\"http://databootcamp.nyuecon.com/bootcamp_faq\">Description &amp; FAQ</a>,\n",
       " <a href=\"http://databootcamp.nyuecon.com/bootcamp_outline\">Topic outlines &amp; links</a>,\n",
       " <a href=\"http://databootcamp.nyuecon.com/bootcamp_duedates_ug\">Due dates (UG)</a>,\n",
       " <a href=\"http://databootcamp.nyuecon.com/bootcamp_duedates_mba\">Due dates (MBA)</a>,\n",
       " <a href=\"http://databootcamp.nyuecon.com/bootcamp_data\">Data sources</a>,\n",
       " <a href=\"http://databootcamp.nyuecon.com/bootcamp_team\">Our team</a>,\n",
       " <a href=\"http://databootcamp.nyuecon.com/bootcamp_faq\">FAQ</a>,\n",
       " <a href=\"https://github.com/DaveBackus/Data_Bootcamp/blob/master/Documents/bootcamp_syllabus.pdf\">Syllabus</a>,\n",
       " <a href=\"https://www.gitbook.com/book/davebackus/test/details\">Book</a>,\n",
       " <a href=\"https://github.com/DaveBackus/Data_Bootcamp/blob/master/Documents/bootcamp_project.pdf\">Project Guide</a>,\n",
       " <a href=\"https://groups.google.com/forum/#!forum/nyu_data_bootcamp_ug\">UG</a>,\n",
       " <a href=\"https://groups.google.com/forum/#!forum/nyu_data_bootcamp_mba\">MBA</a>,\n",
       " <a href=\"mailto:db3@nyu.edu\">db3@nyu.edu</a>,\n",
       " <a href=\"http://pages.stern.nyu.edu/~dbackus/\">directions</a>,\n",
       " <a href=\"mailto:sgl290@nyu.edu\">sgl290@nyu.edu</a>,\n",
       " <a href=\"mailto:bl1741@nyu.edu\">bl1741@nyu.edu</a>,\n",
       " <a href=\"mailto:cc7768@gmail.com\">cc7768@gmail.com</a>,\n",
       " <a href=\"mailto:is1413@stern.nyu.edu\">is1413@stern.nyu.edu</a>,\n",
       " <a href=\"https://github.com/DaveBackus/Data_Bootcamp\">Everything</a>,\n",
       " <a href=\"https://github.com/DaveBackus/Data_Bootcamp/tree/master/Code/Python\">Python programs</a>,\n",
       " <a href=\"https://github.com/DaveBackus/Data_Bootcamp/tree/master/Code/IPython\">IPython notebooks</a>,\n",
       " <a href=\"https://github.com/DaveBackus/Data_Bootcamp/tree/master/Code/Lab\">Experiments</a>,\n",
       " <a href=\"http://lmgtfy.com/?q=nyu+data+bootcamp\">nyu data bootcamp</a>,\n",
       " <a href=\"https://docs.google.com/forms/d/1N7ugrqIQNHm_e1BLVAtaRMnC8SmSiTDMoYBy_0FYZic/viewform\">entry poll</a>,\n",
       " <a href=\"https://groups.google.com/forum/#!forum/nyu_data_bootcamp_ug\">UG</a>,\n",
       " <a href=\"https://groups.google.com/forum/#!forum/nyu_data_bootcamp_mba\">MBA</a>,\n",
       " <a href=\"https://docs.google.com/document/d/18mDKqDO-48wbwYfFEGD0BAYJRsshRRRxR9IEKhekTWM/edit?usp=sharing\">template</a>,\n",
       " <a href=\"https://w3.stern.nyu.edu/start/home\">activate your Stern account</a>,\n",
       " <a href=\"mailto:helpdesk@stern.nyu.edu\">helpdesk@stern.nyu.edu</a>,\n",
       " <a class=\"toplink\" href=\"#\">back to top</a>]"
      ]
     },
     "execution_count": 17,
     "metadata": {},
     "output_type": "execute_result"
    }
   ],
   "source": [
    "bs.find_all('a')"
   ]
  },
  {
   "cell_type": "code",
   "execution_count": 20,
   "metadata": {
    "collapsed": false
   },
   "outputs": [
    {
     "data": {
      "text/plain": [
       "<bound method Tag.decode_contents of <!DOCTYPE html>\n",
       "<!--[if lt IE 7]> <html class=\"no-js lt-ie9 lt-ie8 lt-ie7\"> <![endif]--><!--[if IE 7]> <html class=\"no-js lt-ie9 lt-ie8\"> <![endif]--><!--[if IE 8]> <html class=\"no-js lt-ie9\"> <![endif]--><!--[if gt IE 8]><!--><html class=\"no-js\"> <!--<![endif]-->\n",
       "<head>\n",
       "<meta content=\"text/html; charset=utf-8\" http-equiv=\"content-type\"/>\n",
       "<title>Data Bootcamp </title>\n",
       "<meta content=\"IE=edge\" http-equiv=\"X-UA-Compatible\"/>\n",
       "<meta content=\"True\" name=\"HandheldFriendly\"/>\n",
       "<meta content=\"320\" name=\"MobileOptimized\"/>\n",
       "<meta content=\"width=device-width, initial-scale=1\" name=\"viewport\"/>\n",
       "<meta content=\"\" name=\"description\"/>\n",
       "<meta content=\"\" name=\"keywords\"/>\n",
       "<meta content=\"Data Bootcamp \" property=\"og:title\"/>\n",
       "<meta content=\"Data Bootcamp\" property=\"og:site_name\"/>\n",
       "<meta content=\"http://databootcamp.nyuecon.com/\" property=\"og:url\"/>\n",
       "<meta content=\"en-us\" property=\"og:locale\"/>\n",
       "<meta content=\"website\" property=\"og:type\"/>\n",
       "<link href=\"http://databootcamp.nyuecon.com/index.xml\" rel=\"alternate\" title=\"Data Bootcamp\" type=\"application/rss+xml\"/>\n",
       "<link href=\"http://databootcamp.nyuecon.com/\" rel=\"canonical\"/>\n",
       "<link href=\"http://databootcamp.nyuecon.com/touch-icon-144-precomposed.png\" rel=\"apple-touch-icon-precomposed\" sizes=\"144x144\"/>\n",
       "<link href=\"http://databootcamp.nyuecon.com/favicon.png\" rel=\"icon\"/>\n",
       "<meta content=\"Hugo 0.16-DEV\" name=\"generator\"/>\n",
       "<!--[if lt IE 9]>\n",
       "<script src=\"https://oss.maxcdn.com/libs/html5shiv/3.7.0/html5shiv.js\"></script>\n",
       "<script src=\"https://oss.maxcdn.com/libs/respond.js/1.4.2/respond.min.js\"></script>\n",
       "<![endif]-->\n",
       "<link href=\"https://fonts.googleapis.com/css?family=Merriweather:300%7CRaleway%7COpen+Sans\" rel=\"stylesheet\" type=\"text/css\"/>\n",
       "<link href=\"http://databootcamp.nyuecon.com/css/font-awesome.min.css\" rel=\"stylesheet\"/>\n",
       "<link href=\"http://databootcamp.nyuecon.com/css/style.css\" rel=\"stylesheet\"/>\n",
       "<link href=\"http://databootcamp.nyuecon.com/css/highlight/default.css\" rel=\"stylesheet\"/>\n",
       "</head>\n",
       "<body>\n",
       "<main class=\"container main_wrapper has-sidebar\" id=\"main-wrapper\">\n",
       "<header class=\"container main_header\" id=\"main-header\">\n",
       "<div class=\"container brand\">\n",
       "<div class=\"container title h1-like\">\n",
       "<a class=\"baselink\" href=\"http://databootcamp.nyuecon.com/\">\n",
       "  Data Bootcamp\n",
       "\n",
       "</a>\n",
       "</div>\n",
       "<div class=\"container topline\">\n",
       "  \n",
       "  Data + Python @ NYU Stern\n",
       "\n",
       "\n",
       "</div>\n",
       "</div>\n",
       "<nav class=\"container nav primary no-print\">\n",
       "<a class=\"homelink\" href=\"http://databootcamp.nyuecon.com/\">Home</a>\n",
       "<a href=\"http://databootcamp.nyuecon.com/bootcamp_faq\">Description &amp; FAQ</a>\n",
       "<a href=\"http://databootcamp.nyuecon.com/bootcamp_outline\">Topic outlines &amp; links</a>\n",
       "<a href=\"http://databootcamp.nyuecon.com/bootcamp_duedates_ug\">Due dates (UG)</a>\n",
       "<a href=\"http://databootcamp.nyuecon.com/bootcamp_duedates_mba\">Due dates (MBA)</a>\n",
       "<a href=\"http://databootcamp.nyuecon.com/bootcamp_data\">Data sources</a>\n",
       "<a href=\"http://databootcamp.nyuecon.com/bootcamp_team\">Our team</a>\n",
       "</nav>\n",
       "<div class=\"container nav secondary no-print\">\n",
       "</div>\n",
       "</header>\n",
       "<section class=\"container main_content homepage\" id=\"main-content\">\n",
       "<h1 id=\"data-bootcamp:ffd489939015ded07a5c1baacc50e9b6\">Data Bootcamp</h1>\n",
       "<p>A course at <strong>NYU Stern</strong> exploring <strong>economic and financial data</strong> with the <strong>Python</strong> programming language. The course was developed by Stern faculty and students with the assistance and support of executives at <strong>Amazon</strong>. The immediate goal is to train students to succeed as summer interns and full-time employees of technology companies, but the same skills are valued in finance, marketing, consulting, media, and other areas. We think of it as literacy for the modern age.</p>\n",
       "<p>More concretely, the course is designed to (i) introduce students to sources of economic, financial, and business data and (ii) give programming newbies a sense of how modern software – in this case Python – makes life easier and more interesting. We’ll let data speak for itself. As for coding: It’s a skill that opens doors to new <strong>career opportunities</strong>. You can do lots of things in Excel, but if you value your time – and you should – you’ll find you can do more, and do it more quickly, with a modern programming language. We like to say we do it because we’re lazy, laziness being a synonym here for efficiency.</p>\n",
       "<p>If that doesn’t convince you, there’s more on our <a href=\"http://databootcamp.nyuecon.com/bootcamp_faq\">FAQ</a>.</p>\n",
       "<p><strong>Quick links:</strong> <strong><a href=\"https://github.com/DaveBackus/Data_Bootcamp/blob/master/Documents/bootcamp_syllabus.pdf\">Syllabus</a></strong> | <strong><a href=\"https://www.gitbook.com/book/davebackus/test/details\">Book</a></strong> | <strong><a href=\"https://github.com/DaveBackus/Data_Bootcamp/blob/master/Documents/bootcamp_project.pdf\">Project Guide</a></strong> | Discussion Groups (<strong><a href=\"https://groups.google.com/forum/#!forum/nyu_data_bootcamp_ug\">UG</a></strong> | <strong><a href=\"https://groups.google.com/forum/#!forum/nyu_data_bootcamp_mba\">MBA</a></strong>)</p>\n",
       "<p><strong>Class Outlines</strong> can be found under <em>Topic outlines &amp; links</em> (look left). <br/> <strong>Code Practice</strong> can be found in the same place – and under <em>Due dates</em> (ditto).</p>\n",
       "<h2 id=\"spring-2016-schedule:ffd489939015ded07a5c1baacc50e9b6\">Spring 2016 schedule</h2>\n",
       "<p><strong>Undergrad:</strong>  ECON-UB.0232, Tuesday and Thursday, 2-3:15, KMC 4-80, January 26 to May 5 <br/>\n",
       "<strong>MBA:</strong>  ECON-GB.2313, Wednesday nights, 6-9pm, KMC 4-90, February 10 to May 4</p>\n",
       "<p><strong>Future:</strong> We expect to offer sections in Fall 2016 and Spring 2017.</p>\n",
       "<h2 id=\"contact-information:ffd489939015ded07a5c1baacc50e9b6\">Contact information</h2>\n",
       "<p>Dave Backus:  KMC 7-68, <a href=\"mailto:db3@nyu.edu\">db3@nyu.edu</a>, <a href=\"http://pages.stern.nyu.edu/~dbackus/\">directions</a></p>\n",
       "<p><strong>UG section</strong> <br/> Spencer Lyon, co-teacher, <a href=\"mailto:sgl290@nyu.edu\">sgl290@nyu.edu</a> <br/> Brian LeBlanc, teaching fellow, <a href=\"mailto:bl1741@nyu.edu\">bl1741@nyu.edu</a></p>\n",
       "<p><strong>MBA section</strong> <br/> Chase Coleman, co-teacher, <a href=\"mailto:cc7768@gmail.com\">cc7768@gmail.com</a> <br/> Itamar Snir, teaching fellow, <a href=\"mailto:is1413@stern.nyu.edu\">is1413@stern.nyu.edu</a></p>\n",
       "<h2 id=\"other-materials:ffd489939015ded07a5c1baacc50e9b6\">Other materials</h2>\n",
       "<p>In addition to the quick links at the top, keep in mind:</p>\n",
       "<ul>\n",
       "<li>Our <strong>GitHub repository</strong> (collection of files): <a href=\"https://github.com/DaveBackus/Data_Bootcamp\">Everything</a> | <a href=\"https://github.com/DaveBackus/Data_Bootcamp/tree/master/Code/Python\">Python programs</a> | <a href=\"https://github.com/DaveBackus/Data_Bootcamp/tree/master/Code/IPython\">IPython notebooks</a> | <a href=\"https://github.com/DaveBackus/Data_Bootcamp/tree/master/Code/Lab\">Experiments</a></li>\n",
       "<li>Or <strong>search</strong>:  <a href=\"http://lmgtfy.com/?q=nyu+data+bootcamp\">nyu data bootcamp</a></li>\n",
       "</ul>\n",
       "<h2 id=\"before-the-first-class:ffd489939015ded07a5c1baacc50e9b6\">Before the first class</h2>\n",
       "<ul>\n",
       "<li>Make sure you have a <strong>laptop computer</strong> you can bring to class and install your own programs on.  This is a must.  We will be writing programs in every class.<br/></li>\n",
       "<li>Take our <strong><a href=\"https://docs.google.com/forms/d/1N7ugrqIQNHm_e1BLVAtaRMnC8SmSiTDMoYBy_0FYZic/viewform\">entry poll</a></strong> (click on the link, follow instructions).<br/></li>\n",
       "<li>Join a <strong>discussion group:</strong> <a href=\"https://groups.google.com/forum/#!forum/nyu_data_bootcamp_ug\">UG</a> | <a href=\"https://groups.google.com/forum/#!forum/nyu_data_bootcamp_mba\">MBA</a>.</li>\n",
       "<li>Bring a <strong>nameplate</strong> to class.  If you don’t have one, type your first name in this <a href=\"https://docs.google.com/document/d/18mDKqDO-48wbwYfFEGD0BAYJRsshRRRxR9IEKhekTWM/edit?usp=sharing\">template</a>, print it, and fold it in thirds.</li>\n",
       "<li>Non-Stern students:  <strong><a href=\"https://w3.stern.nyu.edu/start/home\">activate your Stern account</a></strong> to get wireless access.  If you have trouble, stop by the Help Desk in the lobby between KMC and Tisch or email <a href=\"mailto:helpdesk@stern.nyu.edu\">helpdesk@stern.nyu.edu</a>.<br/></li>\n",
       "</ul>\n",
       "</section>\n",
       "<footer class=\"container main_footer\" id=\"main-footer\">\n",
       "<div class=\"container nav foot no-print\">\n",
       "<a class=\"toplink\" href=\"#\">back to top</a>\n",
       "</div>\n",
       "<div class=\"container credits\">\n",
       "<div class=\"container footline\">\n",
       "  \n",
       "  A product of the NYU Python Factory @ NYU Stern\n",
       "\n",
       "\n",
       "</div>\n",
       "</div>\n",
       "</footer>\n",
       "</main>\n",
       "<script src=\"http://databootcamp.nyuecon.com/js/highlight.pack.js\"></script>\n",
       "<script>hljs.initHighlightingOnLoad();</script>\n",
       "</body>\n",
       "</html>\n",
       ">"
      ]
     },
     "execution_count": 20,
     "metadata": {},
     "output_type": "execute_result"
    }
   ],
   "source": []
  },
  {
   "cell_type": "code",
   "execution_count": null,
   "metadata": {
    "collapsed": true
   },
   "outputs": [],
   "source": []
  },
  {
   "cell_type": "code",
   "execution_count": null,
   "metadata": {
    "collapsed": true
   },
   "outputs": [],
   "source": []
  },
  {
   "cell_type": "code",
   "execution_count": null,
   "metadata": {
    "collapsed": true
   },
   "outputs": [],
   "source": []
  },
  {
   "cell_type": "code",
   "execution_count": null,
   "metadata": {
    "collapsed": true
   },
   "outputs": [],
   "source": []
  }
 ],
 "metadata": {
  "kernelspec": {
   "display_name": "Python 3",
   "language": "python",
   "name": "python3"
  },
  "language_info": {
   "codemirror_mode": {
    "name": "ipython",
    "version": 3
   },
   "file_extension": ".py",
   "mimetype": "text/x-python",
   "name": "python",
   "nbconvert_exporter": "python",
   "pygments_lexer": "ipython3",
   "version": "3.5.1"
  }
 },
 "nbformat": 4,
 "nbformat_minor": 0
}
