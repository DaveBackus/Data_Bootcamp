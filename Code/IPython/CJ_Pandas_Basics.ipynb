{
 "cells": [
  {
   "cell_type": "markdown",
   "metadata": {},
   "source": [
    "Pandas Basics\n",
    "--\n",
    "1. What Is Pandas?\n",
    "--\n",
    "\u000f Pandas is a Python library designed for fast, efficient data analysis.\n",
    "\u000f Think of Pandas as a wrapper for numpy array which is very efficient for:\n",
    "\n",
    "- Reading in data\n",
    "- Manipulating Rows and Columns\n",
    "- Adjusting indices\n",
    "- Working with dates and time series\n",
    "- Sorting, grouping, re-ordering and general data munging (cleaning)\n"
   ]
  },
  {
   "cell_type": "markdown",
   "metadata": {},
   "source": [
    "1.1 Series\n",
    "---\n",
    "\n",
    "\u000f The simplest pandas data type is a series."
   ]
  },
  {
   "cell_type": "code",
   "execution_count": 31,
   "metadata": {
    "collapsed": true
   },
   "outputs": [],
   "source": [
    "import pandas as pd\n",
    "import numpy as np"
   ]
  },
  {
   "cell_type": "code",
   "execution_count": 72,
   "metadata": {
    "collapsed": false
   },
   "outputs": [
    {
     "data": {
      "text/plain": [
       "0    0.686105\n",
       "1    0.316433\n",
       "2    0.782552\n",
       "3    0.812987\n",
       "4    0.984340\n",
       "dtype: float64"
      ]
     },
     "execution_count": 72,
     "metadata": {},
     "output_type": "execute_result"
    }
   ],
   "source": [
    "s = pd.Series(np.random.rand(5))\n",
    "s"
   ]
  },
  {
   "cell_type": "markdown",
   "metadata": {},
   "source": [
    "- A series is a one-dimensional labeled array capable of holding any data type.\n",
    "- Made up of a one-dimensional array of data and an one-dimensional index."
   ]
  },
  {
   "cell_type": "markdown",
   "metadata": {},
   "source": [
    "1.2 Accessing Elements\n",
    "---\n",
    "- Elements can be accessed using the standad [ ] notation"
   ]
  },
  {
   "cell_type": "code",
   "execution_count": 73,
   "metadata": {
    "collapsed": false
   },
   "outputs": [
    {
     "data": {
      "text/plain": [
       "0    0.686105\n",
       "1    0.316433\n",
       "2    0.782552\n",
       "3    0.812987\n",
       "4    0.984340\n",
       "dtype: float64"
      ]
     },
     "execution_count": 73,
     "metadata": {},
     "output_type": "execute_result"
    }
   ],
   "source": [
    "s[0:]"
   ]
  },
  {
   "cell_type": "code",
   "execution_count": 74,
   "metadata": {
    "collapsed": false
   },
   "outputs": [
    {
     "data": {
      "text/plain": [
       "3    0.812987\n",
       "4    0.984340\n",
       "dtype: float64"
      ]
     },
     "execution_count": 74,
     "metadata": {},
     "output_type": "execute_result"
    }
   ],
   "source": [
    "s[3:]"
   ]
  },
  {
   "cell_type": "code",
   "execution_count": 75,
   "metadata": {
    "collapsed": false
   },
   "outputs": [
    {
     "data": {
      "text/plain": [
       "0    0.686105\n",
       "1    0.316433\n",
       "2    0.782552\n",
       "dtype: float64"
      ]
     },
     "execution_count": 75,
     "metadata": {},
     "output_type": "execute_result"
    }
   ],
   "source": [
    "s[:3]"
   ]
  },
  {
   "cell_type": "code",
   "execution_count": 76,
   "metadata": {
    "collapsed": false
   },
   "outputs": [
    {
     "name": "stdout",
     "output_type": "stream",
     "text": [
      "0.984340151828\n"
     ]
    }
   ],
   "source": [
    "print(s[4])"
   ]
  },
  {
   "cell_type": "markdown",
   "metadata": {},
   "source": [
    "- we can also re-index the series"
   ]
  },
  {
   "cell_type": "code",
   "execution_count": 77,
   "metadata": {
    "collapsed": false
   },
   "outputs": [
    {
     "data": {
      "text/plain": [
       "a    0.686105\n",
       "b    0.316433\n",
       "c    0.782552\n",
       "d    0.812987\n",
       "e    0.984340\n",
       "dtype: float64"
      ]
     },
     "execution_count": 77,
     "metadata": {},
     "output_type": "execute_result"
    }
   ],
   "source": [
    "s.index = ['a','b','c','d','e']\n",
    "s"
   ]
  },
  {
   "cell_type": "code",
   "execution_count": 78,
   "metadata": {
    "collapsed": false
   },
   "outputs": [
    {
     "name": "stdout",
     "output_type": "stream",
     "text": [
      "0.78255227323 0.78255227323\n"
     ]
    }
   ],
   "source": [
    "print(s['c'],s[2])"
   ]
  },
  {
   "cell_type": "markdown",
   "metadata": {},
   "source": [
    "1.3 Manipulating Series\n",
    "---\n",
    "- There are a myriad of options for manipulating series, here are a few examples"
   ]
  },
  {
   "cell_type": "code",
   "execution_count": 39,
   "metadata": {
    "collapsed": false
   },
   "outputs": [
    {
     "data": {
      "text/plain": [
       "count    5.000000\n",
       "mean     0.466826\n",
       "std      0.272551\n",
       "min      0.005669\n",
       "25%      0.451906\n",
       "50%      0.581737\n",
       "75%      0.593453\n",
       "max      0.701366\n",
       "dtype: float64"
      ]
     },
     "execution_count": 39,
     "metadata": {},
     "output_type": "execute_result"
    }
   ],
   "source": [
    "s.describe()"
   ]
  },
  {
   "cell_type": "markdown",
   "metadata": {},
   "source": [
    "- There are also dot commands to apply functions across your series\n",
    "- Dot command functions can be viewed by placing a period after the data object and then pressing 'Tab'"
   ]
  },
  {
   "cell_type": "code",
   "execution_count": 40,
   "metadata": {
    "collapsed": false
   },
   "outputs": [
    {
     "data": {
      "text/plain": [
       "a    2.016505\n",
       "b    1.789143\n",
       "c    1.810228\n",
       "d    1.005685\n",
       "e    1.571304\n",
       "dtype: float64"
      ]
     },
     "execution_count": 40,
     "metadata": {},
     "output_type": "execute_result"
    }
   ],
   "source": [
    "np.exp(s)"
   ]
  },
  {
   "cell_type": "code",
   "execution_count": 41,
   "metadata": {
    "collapsed": false
   },
   "outputs": [
    {
     "data": {
      "text/plain": [
       "d    0.005669\n",
       "e    0.451906\n",
       "b    0.581737\n",
       "c    0.593453\n",
       "a    0.701366\n",
       "dtype: float64"
      ]
     },
     "execution_count": 41,
     "metadata": {},
     "output_type": "execute_result"
    }
   ],
   "source": [
    "s.sort()\n",
    "s"
   ]
  },
  {
   "cell_type": "markdown",
   "metadata": {},
   "source": [
    "1.4 Time Series\n",
    "---\n",
    "- We've seen that an index of a series can really be any list we want. What about dates?"
   ]
  },
  {
   "cell_type": "code",
   "execution_count": 79,
   "metadata": {
    "collapsed": true
   },
   "outputs": [],
   "source": [
    "pd.date_range?"
   ]
  },
  {
   "cell_type": "code",
   "execution_count": 43,
   "metadata": {
    "collapsed": false
   },
   "outputs": [
    {
     "data": {
      "text/plain": [
       "2014-01-01    0.005669\n",
       "2015-01-01    0.451906\n",
       "2016-01-01    0.581737\n",
       "2017-01-01    0.593453\n",
       "2018-01-01    0.701366\n",
       "Freq: AS-JAN, dtype: float64"
      ]
     },
     "execution_count": 43,
     "metadata": {},
     "output_type": "execute_result"
    }
   ],
   "source": [
    "s.index = pd.date_range('02/01/2013', periods=5, freq ='AS')\n",
    "s"
   ]
  },
  {
   "cell_type": "markdown",
   "metadata": {},
   "source": [
    "- Working with Dates and Times can get a little complicated refer to http://pandas.pydata.org/pandas-docs/stable/timeseries.html for more examples"
   ]
  },
  {
   "cell_type": "markdown",
   "metadata": {},
   "source": [
    "- Pandas also allows us to access data from Fred, Yahoo! Finance, Google Finance,  and Fama-French\n",
    "- Keep in mind you will need to know the indicator code that you are searching for"
   ]
  },
  {
   "cell_type": "code",
   "execution_count": 102,
   "metadata": {
    "collapsed": false
   },
   "outputs": [],
   "source": [
    "import pandas.io.data as web\n",
    "unrate = web.DataReader('UNRATE', 'fred', '01/01/2006', '01/01/2013')\n",
    "unrate.head()\n",
    "\n",
    "web.DataReader?"
   ]
  },
  {
   "cell_type": "markdown",
   "metadata": {},
   "source": [
    "1.5 Basic Time Series Plots\n",
    "--"
   ]
  },
  {
   "cell_type": "code",
   "execution_count": 45,
   "metadata": {
    "collapsed": false
   },
   "outputs": [
    {
     "data": {
      "text/plain": [
       "<matplotlib.axes._subplots.AxesSubplot at 0x930b0b8>"
      ]
     },
     "execution_count": 45,
     "metadata": {},
     "output_type": "execute_result"
    },
    {
     "data": {
      "image/png": "[encoded data removed]",
      "text/plain": [
       "<matplotlib.figure.Figure at 0x8d7fba8>"
      ]
     },
     "metadata": {},
     "output_type": "display_data"
    }
   ],
   "source": [
    "import matplotlib.pyplot as plt\n",
    "%matplotlib inline\n",
    "\n",
    "unrate.plot()"
   ]
  },
  {
   "cell_type": "code",
   "execution_count": 46,
   "metadata": {
    "collapsed": false
   },
   "outputs": [
    {
     "data": {
      "text/plain": [
       "[<matplotlib.lines.Line2D at 0x9407940>]"
      ]
     },
     "execution_count": 46,
     "metadata": {},
     "output_type": "execute_result"
    },
    {
     "data": {
      "image/png": "[encoded data removed]",
      "text/plain": [
       "<matplotlib.figure.Figure at 0x8db4a20>"
      ]
     },
     "metadata": {},
     "output_type": "display_data"
    }
   ],
   "source": [
    "plt.plot(unrate)\n"
   ]
  },
  {
   "cell_type": "markdown",
   "metadata": {},
   "source": [
    "1.6 Resampling\n",
    "---\n",
    "- A nice feature of pandas time series is the ability to resample the time series\n",
    "- Currently the unemployement rate data is monthly.\n",
    "- Transforming it into quarterly data is easy\n",
    "- There are also many ways to do this, pandas gives you several options"
   ]
  },
  {
   "cell_type": "code",
   "execution_count": 47,
   "metadata": {
    "collapsed": false
   },
   "outputs": [
    {
     "data": {
      "text/html": [
       "<div>\n",
       "<table border=\"1\" class=\"dataframe\">\n",
       "  <thead>\n",
       "    <tr style=\"text-align: right;\">\n",
       "      <th></th>\n",
       "      <th>UNRATE</th>\n",
       "    </tr>\n",
       "    <tr>\n",
       "      <th>DATE</th>\n",
       "      <th></th>\n",
       "    </tr>\n",
       "  </thead>\n",
       "  <tbody>\n",
       "    <tr>\n",
       "      <th>2006-03-31</th>\n",
       "      <td>4.733333</td>\n",
       "    </tr>\n",
       "    <tr>\n",
       "      <th>2006-06-30</th>\n",
       "      <td>4.633333</td>\n",
       "    </tr>\n",
       "    <tr>\n",
       "      <th>2006-09-30</th>\n",
       "      <td>4.633333</td>\n",
       "    </tr>\n",
       "    <tr>\n",
       "      <th>2006-12-31</th>\n",
       "      <td>4.433333</td>\n",
       "    </tr>\n",
       "    <tr>\n",
       "      <th>2007-03-31</th>\n",
       "      <td>4.500000</td>\n",
       "    </tr>\n",
       "  </tbody>\n",
       "</table>\n",
       "</div>"
      ],
      "text/plain": [
       "              UNRATE\n",
       "DATE                \n",
       "2006-03-31  4.733333\n",
       "2006-06-30  4.633333\n",
       "2006-09-30  4.633333\n",
       "2006-12-31  4.433333\n",
       "2007-03-31  4.500000"
      ]
     },
     "execution_count": 47,
     "metadata": {},
     "output_type": "execute_result"
    }
   ],
   "source": [
    "unrate_q = unrate.resample('Q') \n",
    "unrate_q.head(5)"
   ]
  },
  {
   "cell_type": "code",
   "execution_count": 81,
   "metadata": {
    "collapsed": false
   },
   "outputs": [
    {
     "data": {
      "text/plain": [
       "<matplotlib.axes._subplots.AxesSubplot at 0x98388d0>"
      ]
     },
     "execution_count": 81,
     "metadata": {},
     "output_type": "execute_result"
    },
    {
     "data": {
      "image/png": "[encoded data removed]",
      "text/plain": [
       "<matplotlib.figure.Figure at 0x9830b00>"
      ]
     },
     "metadata": {},
     "output_type": "display_data"
    }
   ],
   "source": [
    "unrate_q.plot()"
   ]
  },
  {
   "cell_type": "markdown",
   "metadata": {},
   "source": [
    "2. Data Frames\n",
    "---\n",
    "- Most comonly used object in pandas is a data frame\n",
    "- Think of the data fame as a 2-dimensional array with lables for both the columns and the rows\n",
    "- Alternatively as a dictionary of Series"
   ]
  },
  {
   "cell_type": "code",
   "execution_count": 85,
   "metadata": {
    "collapsed": false
   },
   "outputs": [
    {
     "data": {
      "text/html": [
       "<div>\n",
       "<table border=\"1\" class=\"dataframe\">\n",
       "  <thead>\n",
       "    <tr style=\"text-align: right;\">\n",
       "      <th></th>\n",
       "      <th>A</th>\n",
       "      <th>B</th>\n",
       "      <th>C</th>\n",
       "      <th>D</th>\n",
       "    </tr>\n",
       "  </thead>\n",
       "  <tbody>\n",
       "    <tr>\n",
       "      <th>0</th>\n",
       "      <td>0.995667</td>\n",
       "      <td>0.223155</td>\n",
       "      <td>0.391748</td>\n",
       "      <td>0.140027</td>\n",
       "    </tr>\n",
       "    <tr>\n",
       "      <th>1</th>\n",
       "      <td>0.374638</td>\n",
       "      <td>0.674075</td>\n",
       "      <td>0.762000</td>\n",
       "      <td>0.702379</td>\n",
       "    </tr>\n",
       "    <tr>\n",
       "      <th>2</th>\n",
       "      <td>0.834058</td>\n",
       "      <td>0.177438</td>\n",
       "      <td>0.007578</td>\n",
       "      <td>0.727800</td>\n",
       "    </tr>\n",
       "    <tr>\n",
       "      <th>3</th>\n",
       "      <td>0.935155</td>\n",
       "      <td>0.686622</td>\n",
       "      <td>0.293424</td>\n",
       "      <td>0.138093</td>\n",
       "    </tr>\n",
       "    <tr>\n",
       "      <th>4</th>\n",
       "      <td>0.793352</td>\n",
       "      <td>0.492017</td>\n",
       "      <td>0.340160</td>\n",
       "      <td>0.491542</td>\n",
       "    </tr>\n",
       "    <tr>\n",
       "      <th>5</th>\n",
       "      <td>0.688309</td>\n",
       "      <td>0.477351</td>\n",
       "      <td>0.700457</td>\n",
       "      <td>0.324631</td>\n",
       "    </tr>\n",
       "  </tbody>\n",
       "</table>\n",
       "</div>"
      ],
      "text/plain": [
       "          A         B         C         D\n",
       "0  0.995667  0.223155  0.391748  0.140027\n",
       "1  0.374638  0.674075  0.762000  0.702379\n",
       "2  0.834058  0.177438  0.007578  0.727800\n",
       "3  0.935155  0.686622  0.293424  0.138093\n",
       "4  0.793352  0.492017  0.340160  0.491542\n",
       "5  0.688309  0.477351  0.700457  0.324631"
      ]
     },
     "execution_count": 85,
     "metadata": {},
     "output_type": "execute_result"
    }
   ],
   "source": [
    "df = pd.DataFrame(np.random.rand(6,4),columns = ['A','B','C','D'])\n",
    "df"
   ]
  },
  {
   "cell_type": "markdown",
   "metadata": {},
   "source": [
    "2.1 Accessing Elements\n",
    "---\n",
    "- Element access is very similar to series and numpy arrays"
   ]
  },
  {
   "cell_type": "code",
   "execution_count": 86,
   "metadata": {
    "collapsed": false
   },
   "outputs": [
    {
     "data": {
      "text/html": [
       "<div>\n",
       "<table border=\"1\" class=\"dataframe\">\n",
       "  <thead>\n",
       "    <tr style=\"text-align: right;\">\n",
       "      <th></th>\n",
       "      <th>A</th>\n",
       "      <th>B</th>\n",
       "      <th>C</th>\n",
       "      <th>D</th>\n",
       "    </tr>\n",
       "  </thead>\n",
       "  <tbody>\n",
       "    <tr>\n",
       "      <th>0</th>\n",
       "      <td>0.995667</td>\n",
       "      <td>0.223155</td>\n",
       "      <td>0.391748</td>\n",
       "      <td>0.140027</td>\n",
       "    </tr>\n",
       "    <tr>\n",
       "      <th>1</th>\n",
       "      <td>0.374638</td>\n",
       "      <td>0.674075</td>\n",
       "      <td>0.762000</td>\n",
       "      <td>0.702379</td>\n",
       "    </tr>\n",
       "  </tbody>\n",
       "</table>\n",
       "</div>"
      ],
      "text/plain": [
       "          A         B         C         D\n",
       "0  0.995667  0.223155  0.391748  0.140027\n",
       "1  0.374638  0.674075  0.762000  0.702379"
      ]
     },
     "execution_count": 86,
     "metadata": {},
     "output_type": "execute_result"
    }
   ],
   "source": [
    "df[0:2]"
   ]
  },
  {
   "cell_type": "code",
   "execution_count": 87,
   "metadata": {
    "collapsed": false
   },
   "outputs": [
    {
     "data": {
      "text/plain": [
       "0    0.995667\n",
       "1    0.374638\n",
       "2    0.834058\n",
       "3    0.935155\n",
       "4    0.793352\n",
       "5    0.688309\n",
       "Name: A, dtype: float64"
      ]
     },
     "execution_count": 87,
     "metadata": {},
     "output_type": "execute_result"
    }
   ],
   "source": [
    "df['A'] #this returns a series!"
   ]
  },
  {
   "cell_type": "code",
   "execution_count": 88,
   "metadata": {
    "collapsed": false
   },
   "outputs": [
    {
     "data": {
      "text/plain": [
       "0    0.995667\n",
       "1    0.374638\n",
       "2    0.834058\n",
       "3    0.935155\n",
       "4    0.793352\n",
       "5    0.688309\n",
       "Name: A, dtype: float64"
      ]
     },
     "execution_count": 88,
     "metadata": {},
     "output_type": "execute_result"
    }
   ],
   "source": [
    "df.A"
   ]
  },
  {
   "cell_type": "code",
   "execution_count": 89,
   "metadata": {
    "collapsed": false
   },
   "outputs": [
    {
     "data": {
      "text/html": [
       "<div>\n",
       "<table border=\"1\" class=\"dataframe\">\n",
       "  <thead>\n",
       "    <tr style=\"text-align: right;\">\n",
       "      <th></th>\n",
       "      <th>A</th>\n",
       "      <th>B</th>\n",
       "      <th>C</th>\n",
       "      <th>D</th>\n",
       "    </tr>\n",
       "  </thead>\n",
       "  <tbody>\n",
       "    <tr>\n",
       "      <th>0</th>\n",
       "      <td>NaN</td>\n",
       "      <td>0.223155</td>\n",
       "      <td>0.391748</td>\n",
       "      <td>0.140027</td>\n",
       "    </tr>\n",
       "    <tr>\n",
       "      <th>1</th>\n",
       "      <td>0.374638</td>\n",
       "      <td>0.674075</td>\n",
       "      <td>0.762000</td>\n",
       "      <td>0.702379</td>\n",
       "    </tr>\n",
       "    <tr>\n",
       "      <th>2</th>\n",
       "      <td>0.834058</td>\n",
       "      <td>0.177438</td>\n",
       "      <td>0.007578</td>\n",
       "      <td>0.727800</td>\n",
       "    </tr>\n",
       "  </tbody>\n",
       "</table>\n",
       "</div>"
      ],
      "text/plain": [
       "          A         B         C         D\n",
       "0       NaN  0.223155  0.391748  0.140027\n",
       "1  0.374638  0.674075  0.762000  0.702379\n",
       "2  0.834058  0.177438  0.007578  0.727800"
      ]
     },
     "execution_count": 89,
     "metadata": {},
     "output_type": "execute_result"
    }
   ],
   "source": [
    "df.A[0] = 'NaN'\n",
    "df.head(3)"
   ]
  },
  {
   "cell_type": "markdown",
   "metadata": {},
   "source": [
    "2.2 Modifying Data\n",
    "---\n",
    "- As with series we can apply functions to data frames"
   ]
  },
  {
   "cell_type": "code",
   "execution_count": 90,
   "metadata": {
    "collapsed": false
   },
   "outputs": [
    {
     "data": {
      "text/html": [
       "<div>\n",
       "<table border=\"1\" class=\"dataframe\">\n",
       "  <thead>\n",
       "    <tr style=\"text-align: right;\">\n",
       "      <th></th>\n",
       "      <th>A</th>\n",
       "      <th>B</th>\n",
       "      <th>D</th>\n",
       "    </tr>\n",
       "  </thead>\n",
       "  <tbody>\n",
       "    <tr>\n",
       "      <th>0</th>\n",
       "      <td>NaN</td>\n",
       "      <td>1.250015</td>\n",
       "      <td>1.150305</td>\n",
       "    </tr>\n",
       "    <tr>\n",
       "      <th>1</th>\n",
       "      <td>1.454465</td>\n",
       "      <td>1.962217</td>\n",
       "      <td>2.018550</td>\n",
       "    </tr>\n",
       "    <tr>\n",
       "      <th>2</th>\n",
       "      <td>2.302645</td>\n",
       "      <td>1.194154</td>\n",
       "      <td>2.070520</td>\n",
       "    </tr>\n",
       "    <tr>\n",
       "      <th>3</th>\n",
       "      <td>2.547607</td>\n",
       "      <td>1.986992</td>\n",
       "      <td>1.148082</td>\n",
       "    </tr>\n",
       "    <tr>\n",
       "      <th>4</th>\n",
       "      <td>2.210794</td>\n",
       "      <td>1.635612</td>\n",
       "      <td>1.634836</td>\n",
       "    </tr>\n",
       "    <tr>\n",
       "      <th>5</th>\n",
       "      <td>1.990348</td>\n",
       "      <td>1.611800</td>\n",
       "      <td>1.383521</td>\n",
       "    </tr>\n",
       "  </tbody>\n",
       "</table>\n",
       "</div>"
      ],
      "text/plain": [
       "          A         B         D\n",
       "0       NaN  1.250015  1.150305\n",
       "1  1.454465  1.962217  2.018550\n",
       "2  2.302645  1.194154  2.070520\n",
       "3  2.547607  1.986992  1.148082\n",
       "4  2.210794  1.635612  1.634836\n",
       "5  1.990348  1.611800  1.383521"
      ]
     },
     "execution_count": 90,
     "metadata": {},
     "output_type": "execute_result"
    }
   ],
   "source": [
    "np.exp(df[['A','B','D']])"
   ]
  },
  {
   "cell_type": "markdown",
   "metadata": {},
   "source": [
    "- Or we can describe the data"
   ]
  },
  {
   "cell_type": "code",
   "execution_count": 91,
   "metadata": {
    "collapsed": false
   },
   "outputs": [
    {
     "data": {
      "text/html": [
       "<div>\n",
       "<table border=\"1\" class=\"dataframe\">\n",
       "  <thead>\n",
       "    <tr style=\"text-align: right;\">\n",
       "      <th></th>\n",
       "      <th>A</th>\n",
       "      <th>B</th>\n",
       "      <th>C</th>\n",
       "      <th>D</th>\n",
       "    </tr>\n",
       "  </thead>\n",
       "  <tbody>\n",
       "    <tr>\n",
       "      <th>count</th>\n",
       "      <td>5.000000</td>\n",
       "      <td>6.000000</td>\n",
       "      <td>6.000000</td>\n",
       "      <td>6.000000</td>\n",
       "    </tr>\n",
       "    <tr>\n",
       "      <th>mean</th>\n",
       "      <td>0.725102</td>\n",
       "      <td>0.455110</td>\n",
       "      <td>0.415895</td>\n",
       "      <td>0.420745</td>\n",
       "    </tr>\n",
       "    <tr>\n",
       "      <th>std</th>\n",
       "      <td>0.214959</td>\n",
       "      <td>0.216474</td>\n",
       "      <td>0.278857</td>\n",
       "      <td>0.263266</td>\n",
       "    </tr>\n",
       "    <tr>\n",
       "      <th>min</th>\n",
       "      <td>0.374638</td>\n",
       "      <td>0.177438</td>\n",
       "      <td>0.007578</td>\n",
       "      <td>0.138093</td>\n",
       "    </tr>\n",
       "    <tr>\n",
       "      <th>25%</th>\n",
       "      <td>0.688309</td>\n",
       "      <td>0.286704</td>\n",
       "      <td>0.305108</td>\n",
       "      <td>0.186178</td>\n",
       "    </tr>\n",
       "    <tr>\n",
       "      <th>50%</th>\n",
       "      <td>0.793352</td>\n",
       "      <td>0.484684</td>\n",
       "      <td>0.365954</td>\n",
       "      <td>0.408087</td>\n",
       "    </tr>\n",
       "    <tr>\n",
       "      <th>75%</th>\n",
       "      <td>0.834058</td>\n",
       "      <td>0.628561</td>\n",
       "      <td>0.623280</td>\n",
       "      <td>0.649670</td>\n",
       "    </tr>\n",
       "    <tr>\n",
       "      <th>max</th>\n",
       "      <td>0.935155</td>\n",
       "      <td>0.686622</td>\n",
       "      <td>0.762000</td>\n",
       "      <td>0.727800</td>\n",
       "    </tr>\n",
       "  </tbody>\n",
       "</table>\n",
       "</div>"
      ],
      "text/plain": [
       "              A         B         C         D\n",
       "count  5.000000  6.000000  6.000000  6.000000\n",
       "mean   0.725102  0.455110  0.415895  0.420745\n",
       "std    0.214959  0.216474  0.278857  0.263266\n",
       "min    0.374638  0.177438  0.007578  0.138093\n",
       "25%    0.688309  0.286704  0.305108  0.186178\n",
       "50%    0.793352  0.484684  0.365954  0.408087\n",
       "75%    0.834058  0.628561  0.623280  0.649670\n",
       "max    0.935155  0.686622  0.762000  0.727800"
      ]
     },
     "execution_count": 91,
     "metadata": {},
     "output_type": "execute_result"
    }
   ],
   "source": [
    "df.describe()"
   ]
  },
  {
   "cell_type": "markdown",
   "metadata": {},
   "source": [
    "2.3 Boolean Indexing\n",
    "---\n",
    "- Another cool thing about pandas is the ability to index elements with booleans\n",
    "- A natural question to ask is, \"What on earth is a boolean?\"\n",
    "- Booleans are very simple variables that can be in only one of 2 states: True and False"
   ]
  },
  {
   "cell_type": "code",
   "execution_count": 92,
   "metadata": {
    "collapsed": false
   },
   "outputs": [
    {
     "name": "stdout",
     "output_type": "stream",
     "text": [
      "False\n"
     ]
    }
   ],
   "source": [
    "y = 100 < 10 \n",
    "print(y)"
   ]
  },
  {
   "cell_type": "code",
   "execution_count": 93,
   "metadata": {
    "collapsed": false
   },
   "outputs": [
    {
     "data": {
      "text/html": [
       "<div>\n",
       "<table border=\"1\" class=\"dataframe\">\n",
       "  <thead>\n",
       "    <tr style=\"text-align: right;\">\n",
       "      <th></th>\n",
       "      <th>A</th>\n",
       "      <th>B</th>\n",
       "      <th>C</th>\n",
       "      <th>D</th>\n",
       "    </tr>\n",
       "  </thead>\n",
       "  <tbody>\n",
       "    <tr>\n",
       "      <th>2</th>\n",
       "      <td>0.834058</td>\n",
       "      <td>0.177438</td>\n",
       "      <td>0.007578</td>\n",
       "      <td>0.727800</td>\n",
       "    </tr>\n",
       "    <tr>\n",
       "      <th>3</th>\n",
       "      <td>0.935155</td>\n",
       "      <td>0.686622</td>\n",
       "      <td>0.293424</td>\n",
       "      <td>0.138093</td>\n",
       "    </tr>\n",
       "    <tr>\n",
       "      <th>4</th>\n",
       "      <td>0.793352</td>\n",
       "      <td>0.492017</td>\n",
       "      <td>0.340160</td>\n",
       "      <td>0.491542</td>\n",
       "    </tr>\n",
       "    <tr>\n",
       "      <th>5</th>\n",
       "      <td>0.688309</td>\n",
       "      <td>0.477351</td>\n",
       "      <td>0.700457</td>\n",
       "      <td>0.324631</td>\n",
       "    </tr>\n",
       "  </tbody>\n",
       "</table>\n",
       "</div>"
      ],
      "text/plain": [
       "          A         B         C         D\n",
       "2  0.834058  0.177438  0.007578  0.727800\n",
       "3  0.935155  0.686622  0.293424  0.138093\n",
       "4  0.793352  0.492017  0.340160  0.491542\n",
       "5  0.688309  0.477351  0.700457  0.324631"
      ]
     },
     "execution_count": 93,
     "metadata": {},
     "output_type": "execute_result"
    }
   ],
   "source": [
    "df[df.A > 0.5]"
   ]
  },
  {
   "cell_type": "code",
   "execution_count": 94,
   "metadata": {
    "collapsed": false
   },
   "outputs": [
    {
     "data": {
      "text/html": [
       "<div>\n",
       "<table border=\"1\" class=\"dataframe\">\n",
       "  <thead>\n",
       "    <tr style=\"text-align: right;\">\n",
       "      <th></th>\n",
       "      <th>A</th>\n",
       "      <th>B</th>\n",
       "      <th>C</th>\n",
       "      <th>D</th>\n",
       "    </tr>\n",
       "  </thead>\n",
       "  <tbody>\n",
       "    <tr>\n",
       "      <th>0</th>\n",
       "      <td>NaN</td>\n",
       "      <td>0.223155</td>\n",
       "      <td>0.391748</td>\n",
       "      <td>0.140027</td>\n",
       "    </tr>\n",
       "    <tr>\n",
       "      <th>1</th>\n",
       "      <td>0.374638</td>\n",
       "      <td>0.674075</td>\n",
       "      <td>0.762000</td>\n",
       "      <td>0.702379</td>\n",
       "    </tr>\n",
       "    <tr>\n",
       "      <th>2</th>\n",
       "      <td>1.000000</td>\n",
       "      <td>0.177438</td>\n",
       "      <td>0.007578</td>\n",
       "      <td>0.727800</td>\n",
       "    </tr>\n",
       "    <tr>\n",
       "      <th>3</th>\n",
       "      <td>1.000000</td>\n",
       "      <td>0.686622</td>\n",
       "      <td>0.293424</td>\n",
       "      <td>0.138093</td>\n",
       "    </tr>\n",
       "    <tr>\n",
       "      <th>4</th>\n",
       "      <td>0.793352</td>\n",
       "      <td>0.492017</td>\n",
       "      <td>0.340160</td>\n",
       "      <td>0.491542</td>\n",
       "    </tr>\n",
       "    <tr>\n",
       "      <th>5</th>\n",
       "      <td>0.688309</td>\n",
       "      <td>0.477351</td>\n",
       "      <td>0.700457</td>\n",
       "      <td>0.324631</td>\n",
       "    </tr>\n",
       "  </tbody>\n",
       "</table>\n",
       "</div>"
      ],
      "text/plain": [
       "          A         B         C         D\n",
       "0       NaN  0.223155  0.391748  0.140027\n",
       "1  0.374638  0.674075  0.762000  0.702379\n",
       "2  1.000000  0.177438  0.007578  0.727800\n",
       "3  1.000000  0.686622  0.293424  0.138093\n",
       "4  0.793352  0.492017  0.340160  0.491542\n",
       "5  0.688309  0.477351  0.700457  0.324631"
      ]
     },
     "execution_count": 94,
     "metadata": {},
     "output_type": "execute_result"
    }
   ],
   "source": [
    "df[df > 0.8] = 1\n",
    "df"
   ]
  },
  {
   "cell_type": "markdown",
   "metadata": {},
   "source": [
    "2.4 Grouping\n",
    "-- \n",
    "- Grouping is a way of grouping results by values and performing analysis on those groups"
   ]
  },
  {
   "cell_type": "code",
   "execution_count": 59,
   "metadata": {
    "collapsed": false
   },
   "outputs": [
    {
     "data": {
      "text/html": [
       "<div>\n",
       "<table border=\"1\" class=\"dataframe\">\n",
       "  <thead>\n",
       "    <tr style=\"text-align: right;\">\n",
       "      <th></th>\n",
       "      <th>A</th>\n",
       "      <th>B</th>\n",
       "      <th>C</th>\n",
       "      <th>D</th>\n",
       "      <th>gender</th>\n",
       "    </tr>\n",
       "  </thead>\n",
       "  <tbody>\n",
       "    <tr>\n",
       "      <th>0</th>\n",
       "      <td>NaN</td>\n",
       "      <td>0.746894</td>\n",
       "      <td>0.762721</td>\n",
       "      <td>0.745840</td>\n",
       "      <td>1</td>\n",
       "    </tr>\n",
       "    <tr>\n",
       "      <th>1</th>\n",
       "      <td>0.250194</td>\n",
       "      <td>1.000000</td>\n",
       "      <td>0.386471</td>\n",
       "      <td>0.121626</td>\n",
       "      <td>1</td>\n",
       "    </tr>\n",
       "    <tr>\n",
       "      <th>2</th>\n",
       "      <td>0.285799</td>\n",
       "      <td>0.355162</td>\n",
       "      <td>0.629793</td>\n",
       "      <td>1.000000</td>\n",
       "      <td>2</td>\n",
       "    </tr>\n",
       "    <tr>\n",
       "      <th>3</th>\n",
       "      <td>0.376615</td>\n",
       "      <td>1.000000</td>\n",
       "      <td>0.228823</td>\n",
       "      <td>0.315895</td>\n",
       "      <td>1</td>\n",
       "    </tr>\n",
       "    <tr>\n",
       "      <th>4</th>\n",
       "      <td>0.223929</td>\n",
       "      <td>1.000000</td>\n",
       "      <td>1.000000</td>\n",
       "      <td>0.279270</td>\n",
       "      <td>2</td>\n",
       "    </tr>\n",
       "    <tr>\n",
       "      <th>5</th>\n",
       "      <td>1.000000</td>\n",
       "      <td>0.760402</td>\n",
       "      <td>0.196407</td>\n",
       "      <td>0.791588</td>\n",
       "      <td>1</td>\n",
       "    </tr>\n",
       "  </tbody>\n",
       "</table>\n",
       "</div>"
      ],
      "text/plain": [
       "          A         B         C         D  gender\n",
       "0       NaN  0.746894  0.762721  0.745840       1\n",
       "1  0.250194  1.000000  0.386471  0.121626       1\n",
       "2  0.285799  0.355162  0.629793  1.000000       2\n",
       "3  0.376615  1.000000  0.228823  0.315895       1\n",
       "4  0.223929  1.000000  1.000000  0.279270       2\n",
       "5  1.000000  0.760402  0.196407  0.791588       1"
      ]
     },
     "execution_count": 59,
     "metadata": {},
     "output_type": "execute_result"
    }
   ],
   "source": [
    "df['gender'] = [1,1,2,1,2,1]\n",
    "df"
   ]
  },
  {
   "cell_type": "code",
   "execution_count": 60,
   "metadata": {
    "collapsed": false
   },
   "outputs": [
    {
     "data": {
      "text/html": [
       "<div>\n",
       "<table border=\"1\" class=\"dataframe\">\n",
       "  <thead>\n",
       "    <tr style=\"text-align: right;\">\n",
       "      <th></th>\n",
       "      <th>A</th>\n",
       "      <th>B</th>\n",
       "      <th>C</th>\n",
       "      <th>D</th>\n",
       "    </tr>\n",
       "    <tr>\n",
       "      <th>gender</th>\n",
       "      <th></th>\n",
       "      <th></th>\n",
       "      <th></th>\n",
       "      <th></th>\n",
       "    </tr>\n",
       "  </thead>\n",
       "  <tbody>\n",
       "    <tr>\n",
       "      <th>1</th>\n",
       "      <td>1.626810</td>\n",
       "      <td>3.507295</td>\n",
       "      <td>1.574422</td>\n",
       "      <td>1.974948</td>\n",
       "    </tr>\n",
       "    <tr>\n",
       "      <th>2</th>\n",
       "      <td>0.509728</td>\n",
       "      <td>1.355162</td>\n",
       "      <td>1.629793</td>\n",
       "      <td>1.279270</td>\n",
       "    </tr>\n",
       "  </tbody>\n",
       "</table>\n",
       "</div>"
      ],
      "text/plain": [
       "               A         B         C         D\n",
       "gender                                        \n",
       "1       1.626810  3.507295  1.574422  1.974948\n",
       "2       0.509728  1.355162  1.629793  1.279270"
      ]
     },
     "execution_count": 60,
     "metadata": {},
     "output_type": "execute_result"
    }
   ],
   "source": [
    "df.groupby('gender').sum()"
   ]
  },
  {
   "cell_type": "code",
   "execution_count": 61,
   "metadata": {
    "collapsed": false
   },
   "outputs": [
    {
     "data": {
      "text/html": [
       "<div>\n",
       "<table border=\"1\" class=\"dataframe\">\n",
       "  <thead>\n",
       "    <tr style=\"text-align: right;\">\n",
       "      <th></th>\n",
       "      <th></th>\n",
       "      <th>A</th>\n",
       "      <th>B</th>\n",
       "      <th>C</th>\n",
       "      <th>D</th>\n",
       "    </tr>\n",
       "    <tr>\n",
       "      <th>gender</th>\n",
       "      <th></th>\n",
       "      <th></th>\n",
       "      <th></th>\n",
       "      <th></th>\n",
       "      <th></th>\n",
       "    </tr>\n",
       "  </thead>\n",
       "  <tbody>\n",
       "    <tr>\n",
       "      <th rowspan=\"8\" valign=\"top\">1</th>\n",
       "      <th>count</th>\n",
       "      <td>3.000000</td>\n",
       "      <td>4.000000</td>\n",
       "      <td>4.000000</td>\n",
       "      <td>4.000000</td>\n",
       "    </tr>\n",
       "    <tr>\n",
       "      <th>mean</th>\n",
       "      <td>0.542270</td>\n",
       "      <td>0.876824</td>\n",
       "      <td>0.393606</td>\n",
       "      <td>0.493737</td>\n",
       "    </tr>\n",
       "    <tr>\n",
       "      <th>std</th>\n",
       "      <td>0.401414</td>\n",
       "      <td>0.142338</td>\n",
       "      <td>0.259703</td>\n",
       "      <td>0.327804</td>\n",
       "    </tr>\n",
       "    <tr>\n",
       "      <th>min</th>\n",
       "      <td>0.250194</td>\n",
       "      <td>0.746894</td>\n",
       "      <td>0.196407</td>\n",
       "      <td>0.121626</td>\n",
       "    </tr>\n",
       "    <tr>\n",
       "      <th>25%</th>\n",
       "      <td>0.313405</td>\n",
       "      <td>0.757025</td>\n",
       "      <td>0.220719</td>\n",
       "      <td>0.267328</td>\n",
       "    </tr>\n",
       "    <tr>\n",
       "      <th>50%</th>\n",
       "      <td>0.376615</td>\n",
       "      <td>0.880201</td>\n",
       "      <td>0.307647</td>\n",
       "      <td>0.530867</td>\n",
       "    </tr>\n",
       "    <tr>\n",
       "      <th>75%</th>\n",
       "      <td>0.688308</td>\n",
       "      <td>1.000000</td>\n",
       "      <td>0.480534</td>\n",
       "      <td>0.757277</td>\n",
       "    </tr>\n",
       "    <tr>\n",
       "      <th>max</th>\n",
       "      <td>1.000000</td>\n",
       "      <td>1.000000</td>\n",
       "      <td>0.762721</td>\n",
       "      <td>0.791588</td>\n",
       "    </tr>\n",
       "    <tr>\n",
       "      <th rowspan=\"8\" valign=\"top\">2</th>\n",
       "      <th>count</th>\n",
       "      <td>2.000000</td>\n",
       "      <td>2.000000</td>\n",
       "      <td>2.000000</td>\n",
       "      <td>2.000000</td>\n",
       "    </tr>\n",
       "    <tr>\n",
       "      <th>mean</th>\n",
       "      <td>0.254864</td>\n",
       "      <td>0.677581</td>\n",
       "      <td>0.814896</td>\n",
       "      <td>0.639635</td>\n",
       "    </tr>\n",
       "    <tr>\n",
       "      <th>std</th>\n",
       "      <td>0.043749</td>\n",
       "      <td>0.455970</td>\n",
       "      <td>0.261776</td>\n",
       "      <td>0.509633</td>\n",
       "    </tr>\n",
       "    <tr>\n",
       "      <th>min</th>\n",
       "      <td>0.223929</td>\n",
       "      <td>0.355162</td>\n",
       "      <td>0.629793</td>\n",
       "      <td>0.279270</td>\n",
       "    </tr>\n",
       "    <tr>\n",
       "      <th>25%</th>\n",
       "      <td>0.239396</td>\n",
       "      <td>0.516371</td>\n",
       "      <td>0.722345</td>\n",
       "      <td>0.459453</td>\n",
       "    </tr>\n",
       "    <tr>\n",
       "      <th>50%</th>\n",
       "      <td>0.254864</td>\n",
       "      <td>0.677581</td>\n",
       "      <td>0.814896</td>\n",
       "      <td>0.639635</td>\n",
       "    </tr>\n",
       "    <tr>\n",
       "      <th>75%</th>\n",
       "      <td>0.270331</td>\n",
       "      <td>0.838790</td>\n",
       "      <td>0.907448</td>\n",
       "      <td>0.819818</td>\n",
       "    </tr>\n",
       "    <tr>\n",
       "      <th>max</th>\n",
       "      <td>0.285799</td>\n",
       "      <td>1.000000</td>\n",
       "      <td>1.000000</td>\n",
       "      <td>1.000000</td>\n",
       "    </tr>\n",
       "  </tbody>\n",
       "</table>\n",
       "</div>"
      ],
      "text/plain": [
       "                     A         B         C         D\n",
       "gender                                              \n",
       "1      count  3.000000  4.000000  4.000000  4.000000\n",
       "       mean   0.542270  0.876824  0.393606  0.493737\n",
       "       std    0.401414  0.142338  0.259703  0.327804\n",
       "       min    0.250194  0.746894  0.196407  0.121626\n",
       "       25%    0.313405  0.757025  0.220719  0.267328\n",
       "       50%    0.376615  0.880201  0.307647  0.530867\n",
       "       75%    0.688308  1.000000  0.480534  0.757277\n",
       "       max    1.000000  1.000000  0.762721  0.791588\n",
       "2      count  2.000000  2.000000  2.000000  2.000000\n",
       "       mean   0.254864  0.677581  0.814896  0.639635\n",
       "       std    0.043749  0.455970  0.261776  0.509633\n",
       "       min    0.223929  0.355162  0.629793  0.279270\n",
       "       25%    0.239396  0.516371  0.722345  0.459453\n",
       "       50%    0.254864  0.677581  0.814896  0.639635\n",
       "       75%    0.270331  0.838790  0.907448  0.819818\n",
       "       max    0.285799  1.000000  1.000000  1.000000"
      ]
     },
     "execution_count": 61,
     "metadata": {},
     "output_type": "execute_result"
    }
   ],
   "source": [
    "df.groupby('gender').describe()"
   ]
  },
  {
   "cell_type": "markdown",
   "metadata": {},
   "source": [
    "2.5 Data Frames and Times Series\n",
    "---\n",
    "- Up to now we've been treating the index of a data frame as the sequence 0,1,2,. . .\n",
    "- Could just as easily be a data range, which allows pandas to hold sequences of diferent sampling rates\n",
    "- Recall the UNRATE sequence holds monthly data\n",
    "- We can also obtain a GDP series from FRED"
   ]
  },
  {
   "cell_type": "code",
   "execution_count": 97,
   "metadata": {
    "collapsed": false
   },
   "outputs": [
    {
     "data": {
      "text/html": [
       "<div>\n",
       "<table border=\"1\" class=\"dataframe\">\n",
       "  <thead>\n",
       "    <tr style=\"text-align: right;\">\n",
       "      <th></th>\n",
       "      <th>GDP</th>\n",
       "    </tr>\n",
       "    <tr>\n",
       "      <th>DATE</th>\n",
       "      <th></th>\n",
       "    </tr>\n",
       "  </thead>\n",
       "  <tbody>\n",
       "    <tr>\n",
       "      <th>2006-01-01</th>\n",
       "      <td>13648.9</td>\n",
       "    </tr>\n",
       "    <tr>\n",
       "      <th>2006-04-01</th>\n",
       "      <td>13799.8</td>\n",
       "    </tr>\n",
       "    <tr>\n",
       "      <th>2006-07-01</th>\n",
       "      <td>13908.5</td>\n",
       "    </tr>\n",
       "    <tr>\n",
       "      <th>2006-10-01</th>\n",
       "      <td>14066.4</td>\n",
       "    </tr>\n",
       "    <tr>\n",
       "      <th>2007-01-01</th>\n",
       "      <td>14233.2</td>\n",
       "    </tr>\n",
       "  </tbody>\n",
       "</table>\n",
       "</div>"
      ],
      "text/plain": [
       "                GDP\n",
       "DATE               \n",
       "2006-01-01  13648.9\n",
       "2006-04-01  13799.8\n",
       "2006-07-01  13908.5\n",
       "2006-10-01  14066.4\n",
       "2007-01-01  14233.2"
      ]
     },
     "execution_count": 97,
     "metadata": {},
     "output_type": "execute_result"
    }
   ],
   "source": [
    "gdp = web.DataReader('GDP', 'fred', '01/01/2006', '01/01/2013')\n",
    "gdp.head(5)"
   ]
  },
  {
   "cell_type": "markdown",
   "metadata": {},
   "source": [
    "- GDP is quarterly data but we can still easily create a data frame that holds both"
   ]
  },
  {
   "cell_type": "code",
   "execution_count": 98,
   "metadata": {
    "collapsed": false
   },
   "outputs": [
    {
     "data": {
      "text/html": [
       "<div>\n",
       "<table border=\"1\" class=\"dataframe\">\n",
       "  <thead>\n",
       "    <tr style=\"text-align: right;\">\n",
       "      <th></th>\n",
       "      <th>UNRATE</th>\n",
       "      <th>GDP</th>\n",
       "    </tr>\n",
       "    <tr>\n",
       "      <th>DATE</th>\n",
       "      <th></th>\n",
       "      <th></th>\n",
       "    </tr>\n",
       "  </thead>\n",
       "  <tbody>\n",
       "    <tr>\n",
       "      <th>2006-01-01</th>\n",
       "      <td>4.7</td>\n",
       "      <td>13648.9</td>\n",
       "    </tr>\n",
       "    <tr>\n",
       "      <th>2006-02-01</th>\n",
       "      <td>4.8</td>\n",
       "      <td>NaN</td>\n",
       "    </tr>\n",
       "    <tr>\n",
       "      <th>2006-03-01</th>\n",
       "      <td>4.7</td>\n",
       "      <td>NaN</td>\n",
       "    </tr>\n",
       "    <tr>\n",
       "      <th>2006-04-01</th>\n",
       "      <td>4.7</td>\n",
       "      <td>13799.8</td>\n",
       "    </tr>\n",
       "    <tr>\n",
       "      <th>2006-05-01</th>\n",
       "      <td>4.6</td>\n",
       "      <td>NaN</td>\n",
       "    </tr>\n",
       "  </tbody>\n",
       "</table>\n",
       "</div>"
      ],
      "text/plain": [
       "            UNRATE      GDP\n",
       "DATE                       \n",
       "2006-01-01     4.7  13648.9\n",
       "2006-02-01     4.8      NaN\n",
       "2006-03-01     4.7      NaN\n",
       "2006-04-01     4.7  13799.8\n",
       "2006-05-01     4.6      NaN"
      ]
     },
     "execution_count": 98,
     "metadata": {},
     "output_type": "execute_result"
    }
   ],
   "source": [
    "macro = unrate.join(gdp) #combines the two data frames using the index\n",
    "macro.head(5)"
   ]
  },
  {
   "cell_type": "markdown",
   "metadata": {},
   "source": [
    "- Why are there missing values for GDP?\n",
    "- The dot command interpolate uses linear interpolation to fill in the missing values for gdp"
   ]
  },
  {
   "cell_type": "code",
   "execution_count": 99,
   "metadata": {
    "collapsed": false
   },
   "outputs": [
    {
     "data": {
      "text/plain": [
       "array([<matplotlib.axes._subplots.AxesSubplot object at 0x0000000009BA90B8>,\n",
       "       <matplotlib.axes._subplots.AxesSubplot object at 0x0000000009BF69B0>], dtype=object)"
      ]
     },
     "execution_count": 99,
     "metadata": {},
     "output_type": "execute_result"
    },
    {
     "data": {
      "image/png": "[encoded data removed]",
      "text/plain": [
       "<matplotlib.figure.Figure at 0x9905f28>"
      ]
     },
     "metadata": {},
     "output_type": "display_data"
    }
   ],
   "source": [
    "macro.interpolate().plot(subplots = True)"
   ]
  },
  {
   "cell_type": "markdown",
   "metadata": {},
   "source": [
    "Practice Makes Perfect!\n",
    "--\n",
    "Thank you!\n",
    "---"
   ]
  },
  {
   "cell_type": "code",
   "execution_count": null,
   "metadata": {
    "collapsed": true
   },
   "outputs": [],
   "source": []
  }
 ],
 "metadata": {
  "kernelspec": {
   "display_name": "Python 3",
   "language": "python",
   "name": "python3"
  },
  "language_info": {
   "codemirror_mode": {
    "name": "ipython",
    "version": 3
   },
   "file_extension": ".py",
   "mimetype": "text/x-python",
   "name": "python",
   "nbconvert_exporter": "python",
   "pygments_lexer": "ipython3",
   "version": "3.4.3"
  }
 },
 "nbformat": 4,
 "nbformat_minor": 0
}
