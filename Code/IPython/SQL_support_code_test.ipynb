{
 "metadata": {
  "name": "",
  "signature": "sha256:1f9514412c63bff121853ea15cf692015710b6c0a75f1ccf98597c32560f55d5"
 },
 "nbformat": 3,
 "nbformat_minor": 0,
 "worksheets": [
  {
   "cells": [
    {
     "cell_type": "code",
     "collapsed": false,
     "input": [
      "import pandas as pd\n",
      "import sqlite3\n",
      "import xlrd as xl"
     ],
     "language": "python",
     "metadata": {},
     "outputs": [],
     "prompt_number": 9
    },
    {
     "cell_type": "raw",
     "metadata": {},
     "source": [
      "# Set up a SQLite database using an excel file:\n",
      "## http://nbviewer.ipython.org/github/jvns/pandas-cookbook/blob/master/cookbook/Chapter%209%20-%20Loading%20data%20from%20SQL%20databases.ipynb\n",
      "\n",
      "# Select a sample file. \n",
      "# Using an excel file purely because pandas can select different sheets from .xlsx files and this will be useful when creating multiple tables within a single SQLite database\n",
      "path = ('car_sales.xlsx')\n",
      "\n",
      "# if this .sqlite db doesn't already exists, this will create it\n",
      "# if the .sqlite db *does* already exist, this establishes the desired connection\n",
      "con = sqlite3.connect(\"sqlite_cars.sqlite\")\n",
      "\n",
      "# this pulls out the names of the sheets in the workbook. We'll use these to name the different tables in the SQLite database that we'll create\n",
      "table_names = xl.open_workbook(path).sheet_names()\n",
      "\n",
      "# this loop makes it possible to use any other .xls sheet, since the sheet names aren't called out specifically\n",
      "for table in table_names:\n",
      "    df = pd.read_excel(path, sheetname='{}'.format(table))\n",
      "    con.execute(\"DROP TABLE IF EXISTS {}\".format(table))\n",
      "    pd.io.sql.to_sql(df, \"{}\".format(table), con, index=False)\n",
      "\n",
      "# now the spreadsheets are in tables in a mini database!\n",
      "\n",
      "# Finally, a little function to make it easy to run queries on this mini-database\n",
      "def run(query):\n",
      "    results = pd.read_sql(\"{}\".format(query), con)\n",
      "    return results"
     ]
    },
    {
     "cell_type": "code",
     "collapsed": false,
     "input": [
      "# Set up a SQLite database using several .csv files:\n",
      "\n",
      "# if this .sqlite db doesn't already exists, this will create it\n",
      "# if the .sqlite db *does* already exist, this establishes the desired connection\n",
      "con = sqlite3.connect(\"sqlite_cars.sqlite\")\n",
      "\n",
      "# create dataframes from each .csv file:\n",
      "sales_table = pd.read_csv('https://raw.githubusercontent.com/DaveBackus/Data_Bootcamp/master/Code/SQL/sales_table.csv')\n",
      "car_table = pd.read_csv('https://raw.githubusercontent.com/DaveBackus/Data_Bootcamp/master/Code/SQL/car_table.csv')\n",
      "salesman_table = pd.read_csv('https://raw.githubusercontent.com/DaveBackus/Data_Bootcamp/master/Code/SQL/salesman_table.csv')\n",
      "cust_table = pd.read_csv('https://raw.githubusercontent.com/DaveBackus/Data_Bootcamp/master/Code/SQL/cust_table.csv')\n",
      "# make a list of the tables (dataframes) and table names:\n",
      "tables = [sales_table, car_table, salesman_table, cust_table]\n",
      "table_names = ['sales_table', 'car_table', 'salesman_table', 'cust_table']\n",
      "# drop each table name if it already exists to avoid error if you rerun this bit of code\n",
      "# then add it back (or for the first time, if the table didn't already exist)\n",
      "for i in range(len(tables)):\n",
      "    table_name = table_names[i]\n",
      "    table = tables[i]\n",
      "    con.execute(\"DROP TABLE IF EXISTS {}\".format(table_name))\n",
      "    pd.io.sql.to_sql(table, \"{}\".format(table_name), con, index=False)"
     ],
     "language": "python",
     "metadata": {},
     "outputs": [],
     "prompt_number": 2
    },
    {
     "cell_type": "code",
     "collapsed": false,
     "input": [
      "# Finally, a little function to make it easy to run queries on this mini-database\n",
      "def run(query):\n",
      "    results = pd.read_sql(\"{}\".format(query), con)\n",
      "    return results"
     ],
     "language": "python",
     "metadata": {},
     "outputs": [],
     "prompt_number": 3
    },
    {
     "cell_type": "code",
     "collapsed": false,
     "input": [
      "# don't read, just run!\n",
      "join_df_index = ['JOIN or INNER JOIN', 'LEFT JOIN or LEFT OUTER JOIN', 'RIGHT JOIN or RIGHT OUTER JOIN', 'OUTER JOIN or FULL OUTER JOIN']\n",
      "join_df = pd.DataFrame({'SQLite' : pd.Series(['\u2713', '\u2713', 'not supported', 'not supported'], index=join_df_index),\n",
      "                        'MySQL' : pd.Series(['\u2713', '\u2713', '\u2713', 'not supported'], index=join_df_index),\n",
      "                        'Microsoft SQL Server' : pd.Series(['\u2713','\u2713','\u2713','\u2713'], index=join_df_index),\n",
      "                        'Oracle' : pd.Series(['\u2713','\u2713','\u2713','\u2713'], index=join_df_index)})"
     ],
     "language": "python",
     "metadata": {},
     "outputs": [],
     "prompt_number": 4
    },
    {
     "cell_type": "code",
     "collapsed": false,
     "input": [
      "# don't read, just run!\n",
      "path = ('/Users/sarahbeckett-hile/Dropbox/join_examples.xlsx')\n",
      "table_names = xl.open_workbook(path).sheet_names()\n",
      "for table in table_names:\n",
      "    df = pd.read_excel(path, sheetname='{}'.format(table))\n",
      "    con.execute(\"DROP TABLE IF EXISTS {}\".format(table))\n",
      "    pd.io.sql.to_sql(df, \"{}\".format(table), con, index=False)\n",
      "\n",
      "# now the spreadsheets are in tables in our mini database!"
     ],
     "language": "python",
     "metadata": {},
     "outputs": [],
     "prompt_number": 5
    },
    {
     "cell_type": "code",
     "collapsed": false,
     "input": [
      "select_cheat1 = '''\n",
      "    SELECT\n",
      "        *\n",
      "    FROM\n",
      "        car_table\n",
      "    '''\n",
      "    \n",
      "    "
     ],
     "language": "python",
     "metadata": {},
     "outputs": [],
     "prompt_number": 3
    },
    {
     "cell_type": "code",
     "collapsed": false,
     "input": [
      "print(select_cheat1)"
     ],
     "language": "python",
     "metadata": {},
     "outputs": [
      {
       "output_type": "stream",
       "stream": "stdout",
       "text": [
        "\n",
        "    SELECT\n",
        "        *\n",
        "    FROM\n",
        "        car_table\n",
        "    \n"
       ]
      }
     ],
     "prompt_number": 4
    },
    {
     "cell_type": "code",
     "collapsed": false,
     "input": [
      "from matplotlib_venn import venn2"
     ],
     "language": "python",
     "metadata": {},
     "outputs": [],
     "prompt_number": 1
    },
    {
     "cell_type": "code",
     "collapsed": false,
     "input": [
      "venn2([set(['A', 'B', 'C', 'D']), set(['D', 'E', 'F'])])"
     ],
     "language": "python",
     "metadata": {},
     "outputs": [
      {
       "metadata": {},
       "output_type": "pyout",
       "prompt_number": 3,
       "text": [
        "<matplotlib_venn._common.VennDiagram at 0x1075e4b00>"
       ]
      },
      {
       "metadata": {},
       "output_type": "display_data",
       "png": "[encoded data removed]",
       "text": [
        "<matplotlib.figure.Figure at 0x10753cfd0>"
       ]
      }
     ],
     "prompt_number": 3
    },
    {
     "cell_type": "code",
     "collapsed": false,
     "input": [
      "sales_table = pd.read_csv('https://raw.githubusercontent.com/DaveBackus/Data_Bootcamp/master/Code/SQL/sales_table.csv')\n",
      "car_table = pd.read_csv('https://raw.githubusercontent.com/DaveBackus/Data_Bootcamp/master/Code/SQL/car_table.csv')\n",
      "salesman_table = pd.read_csv('https://raw.githubusercontent.com/DaveBackus/Data_Bootcamp/master/Code/SQL/salesman_table.csv')\n",
      "cust_table = pd.read_csv('https://raw.githubusercontent.com/DaveBackus/Data_Bootcamp/master/Code/SQL/cust_table.csv')\n",
      "dog_table = pd.read_csv('https://raw.githubusercontent.com/DaveBackus/Data_Bootcamp/master/Code/SQL/dog_table.csv')\n",
      "cat_table = pd.read_csv('https://raw.githubusercontent.com/DaveBackus/Data_Bootcamp/master/Code/SQL/cat_table.csv')"
     ],
     "language": "python",
     "metadata": {},
     "outputs": [],
     "prompt_number": 3
    },
    {
     "cell_type": "code",
     "collapsed": false,
     "input": [
      "tables = [sales_table, car_table, salesman_table, cust_table, dog_table, cat_table]"
     ],
     "language": "python",
     "metadata": {},
     "outputs": [],
     "prompt_number": 4
    },
    {
     "cell_type": "code",
     "collapsed": false,
     "input": [
      "table_names = []"
     ],
     "language": "python",
     "metadata": {},
     "outputs": [],
     "prompt_number": 5
    },
    {
     "cell_type": "code",
     "collapsed": false,
     "input": [
      "for table in tables:\n",
      "    table_name = str(table)"
     ],
     "language": "python",
     "metadata": {},
     "outputs": [],
     "prompt_number": 6
    },
    {
     "cell_type": "code",
     "collapsed": false,
     "input": [
      "table_name"
     ],
     "language": "python",
     "metadata": {},
     "outputs": [
      {
       "metadata": {},
       "output_type": "pyout",
       "prompt_number": 7,
       "text": [
        "'         Owner_Name    Cat_Name\\n0  Michael Martinez   Mrs. Paws\\n1    Gilbert Henkel     Mittens\\n2        May Reeves      Clover\\n3  Elizabeth Minier  Sweetcakes\\n4         Donna Ona      Barnie\\n5     Monika Turner        Cara\\n6   Adrian Hardiman   Annabelle\\n7      Loyd Mossman    Garfield\\n8     Heather Emery      Engine\\n9     Lauren Larson    Midnight'"
       ]
      }
     ],
     "prompt_number": 7
    },
    {
     "cell_type": "code",
     "collapsed": false,
     "input": [
      "rdbms_key = pd.DataFrame()"
     ],
     "language": "python",
     "metadata": {},
     "outputs": [],
     "prompt_number": 13
    },
    {
     "cell_type": "code",
     "collapsed": false,
     "input": [
      "describe_index = ['Reading a table']\n",
      "describe_df = pd.DataFrame({'SQLite' : pd.Series(['PRAGMA TABLE_INFO(table_name)'], index=describe_index), \n",
      "\t\t\t\t\t\t\t'MySQL' : pd.Series(['DESCRIBE table_name'], index=describe_index),\n",
      "\t\t\t\t\t\t\t'Microsoft SQL Server' : pd.Series(['SP_HELP table_name'], index=describe_index),\n",
      "\t\t\t\t\t\t\t'Oracle' : pd.Series(['DESCRIBE table_table'], index=describe_index)})\n",
      "rdbms_key = rdbms_key.append(describe_df)\n",
      "\n",
      "# show limit options\n",
      "limit_df_index = ['LIMITING']\n",
      "limit_df = pd.DataFrame({'SQLite' : pd.Series(['LIMIT N'], index=limit_df_index),\n",
      "                        'MySQL' : pd.Series(['LIMIT N'], index=limit_df_index),\n",
      "                        'Microsoft SQL Server' : pd.Series(['SELECT TOP N column_a...'], index=limit_df_index),\n",
      "                        'Oracle' : pd.Series(['WHERE ROWNUM <=N'], index=limit_df_index)})\n",
      "rdbms_key = rdbms_key.append(limit_df)                   \n",
      "\n",
      "# show concat options: \n",
      "concat_df_index = ['Concatenating']\n",
      "concat_df = pd.DataFrame({'SQLite' : pd.Series(['||'], index=concat_df_index),\n",
      "                        'MySQL' : pd.Series(['CONCAT(column_a, column_b)'], index=concat_df_index),\n",
      "                        'Microsoft SQL Server' : pd.Series(['CONCAT(column_a, column_b) or +'], index=concat_df_index),\n",
      "                        'Oracle' : pd.Series(['CONCAT(column_a, column_b) or ||'], index=concat_df_index)})\n",
      "\n",
      "rdbms_key = rdbms_key.append(concat_df)    \n",
      "\n",
      "# show compatibility with joins and different DBs \n",
      "join_df_index = ['JOIN or INNER JOIN', 'LEFT JOIN or LEFT OUTER JOIN', 'RIGHT JOIN or RIGHT OUTER JOIN', 'OUTER JOIN or FULL OUTER JOIN']\n",
      "join_df = pd.DataFrame({'SQLite' : pd.Series(['\u2713', '\u2713', 'not supported', 'not supported'], index=join_df_index),\n",
      "                        'MySQL' : pd.Series(['\u2713', '\u2713', '\u2713', 'not supported'], index=join_df_index),\n",
      "                        'Microsoft SQL Server' : pd.Series(['\u2713','\u2713','\u2713','\u2713'], index=join_df_index),\n",
      "                        'Oracle' : pd.Series(['\u2713','\u2713','\u2713','\u2713'], index=join_df_index)})\n",
      "\n",
      "rdbms_key = rdbms_key.append(join_df)    "
     ],
     "language": "python",
     "metadata": {},
     "outputs": [],
     "prompt_number": 15
    },
    {
     "cell_type": "code",
     "collapsed": false,
     "input": [
      "rdbms_key"
     ],
     "language": "python",
     "metadata": {},
     "outputs": [
      {
       "html": [
        "<div style=\"max-height:1000px;max-width:1500px;overflow:auto;\">\n",
        "<table border=\"1\" class=\"dataframe\">\n",
        "  <thead>\n",
        "    <tr style=\"text-align: right;\">\n",
        "      <th></th>\n",
        "      <th>Microsoft SQL Server</th>\n",
        "      <th>MySQL</th>\n",
        "      <th>Oracle</th>\n",
        "      <th>SQLite</th>\n",
        "    </tr>\n",
        "  </thead>\n",
        "  <tbody>\n",
        "    <tr>\n",
        "      <th>Reading a table</th>\n",
        "      <td>              SP_HELP table_name</td>\n",
        "      <td>        DESCRIBE table_name</td>\n",
        "      <td>             DESCRIBE table_table</td>\n",
        "      <td> PRAGMA TABLE_INFO(table_name)</td>\n",
        "    </tr>\n",
        "    <tr>\n",
        "      <th>LIMITING</th>\n",
        "      <td>        SELECT TOP N column_a...</td>\n",
        "      <td>                    LIMIT N</td>\n",
        "      <td>                 WHERE ROWNUM &lt;=N</td>\n",
        "      <td>                       LIMIT N</td>\n",
        "    </tr>\n",
        "    <tr>\n",
        "      <th>Concatenating</th>\n",
        "      <td> CONCAT(column_a, column_b) or +</td>\n",
        "      <td> CONCAT(column_a, column_b)</td>\n",
        "      <td> CONCAT(column_a, column_b) or ||</td>\n",
        "      <td>                            ||</td>\n",
        "    </tr>\n",
        "    <tr>\n",
        "      <th>JOIN or INNER JOIN</th>\n",
        "      <td>                               \u2713</td>\n",
        "      <td>                          \u2713</td>\n",
        "      <td>                                \u2713</td>\n",
        "      <td>                             \u2713</td>\n",
        "    </tr>\n",
        "    <tr>\n",
        "      <th>LEFT JOIN or LEFT OUTER JOIN</th>\n",
        "      <td>                               \u2713</td>\n",
        "      <td>                          \u2713</td>\n",
        "      <td>                                \u2713</td>\n",
        "      <td>                             \u2713</td>\n",
        "    </tr>\n",
        "    <tr>\n",
        "      <th>RIGHT JOIN or RIGHT OUTER JOIN</th>\n",
        "      <td>                               \u2713</td>\n",
        "      <td>                          \u2713</td>\n",
        "      <td>                                \u2713</td>\n",
        "      <td>                 not supported</td>\n",
        "    </tr>\n",
        "    <tr>\n",
        "      <th>OUTER JOIN or FULL OUTER JOIN</th>\n",
        "      <td>                               \u2713</td>\n",
        "      <td>              not supported</td>\n",
        "      <td>                                \u2713</td>\n",
        "      <td>                 not supported</td>\n",
        "    </tr>\n",
        "  </tbody>\n",
        "</table>\n",
        "</div>"
       ],
       "metadata": {},
       "output_type": "pyout",
       "prompt_number": 16,
       "text": [
        "                                           Microsoft SQL Server  \\\n",
        "Reading a table                              SP_HELP table_name   \n",
        "LIMITING                               SELECT TOP N column_a...   \n",
        "Concatenating                   CONCAT(column_a, column_b) or +   \n",
        "JOIN or INNER JOIN                                            \u2713   \n",
        "LEFT JOIN or LEFT OUTER JOIN                                  \u2713   \n",
        "RIGHT JOIN or RIGHT OUTER JOIN                                \u2713   \n",
        "OUTER JOIN or FULL OUTER JOIN                                 \u2713   \n",
        "\n",
        "                                                     MySQL  \\\n",
        "Reading a table                        DESCRIBE table_name   \n",
        "LIMITING                                           LIMIT N   \n",
        "Concatenating                   CONCAT(column_a, column_b)   \n",
        "JOIN or INNER JOIN                                       \u2713   \n",
        "LEFT JOIN or LEFT OUTER JOIN                             \u2713   \n",
        "RIGHT JOIN or RIGHT OUTER JOIN                           \u2713   \n",
        "OUTER JOIN or FULL OUTER JOIN                not supported   \n",
        "\n",
        "                                                          Oracle  \\\n",
        "Reading a table                             DESCRIBE table_table   \n",
        "LIMITING                                        WHERE ROWNUM <=N   \n",
        "Concatenating                   CONCAT(column_a, column_b) or ||   \n",
        "JOIN or INNER JOIN                                             \u2713   \n",
        "LEFT JOIN or LEFT OUTER JOIN                                   \u2713   \n",
        "RIGHT JOIN or RIGHT OUTER JOIN                                 \u2713   \n",
        "OUTER JOIN or FULL OUTER JOIN                                  \u2713   \n",
        "\n",
        "                                                       SQLite  \n",
        "Reading a table                 PRAGMA TABLE_INFO(table_name)  \n",
        "LIMITING                                              LIMIT N  \n",
        "Concatenating                                              ||  \n",
        "JOIN or INNER JOIN                                          \u2713  \n",
        "LEFT JOIN or LEFT OUTER JOIN                                \u2713  \n",
        "RIGHT JOIN or RIGHT OUTER JOIN                  not supported  \n",
        "OUTER JOIN or FULL OUTER JOIN                   not supported  "
       ]
      }
     ],
     "prompt_number": 16
    },
    {
     "cell_type": "code",
     "collapsed": false,
     "input": [],
     "language": "python",
     "metadata": {},
     "outputs": []
    }
   ],
   "metadata": {}
  }
 ]
}