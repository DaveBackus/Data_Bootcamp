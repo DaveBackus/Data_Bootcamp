{
 "cells": [
  {
   "cell_type": "markdown",
   "metadata": {
    "collapsed": true
   },
   "source": [
    "# Working our way up to web scraping\n",
    "\n",
    "There's been some interest in web scraping.  It's beyond us, but there are some things we can do.  ...\n",
    "\n",
    "**Note: requires internet access to run.**  \n",
    "\n",
    "This IPython notebook was created by Dave Backus, Chase Coleman, and Spencer Lyon for the NYU Stern course [Data Bootcamp](http://databootcamp.nyuecon.com/).  "
   ]
  },
  {
   "cell_type": "markdown",
   "metadata": {},
   "source": [
    "<a id=prelims></a>"
   ]
  },
  {
   "cell_type": "markdown",
   "metadata": {},
   "source": [
    "## Preliminaries \n",
    "\n",
    "Import packages, etc.  "
   ]
  },
  {
   "cell_type": "code",
   "execution_count": 21,
   "metadata": {
    "collapsed": false
   },
   "outputs": [
    {
     "name": "stdout",
     "output_type": "stream",
     "text": [
      "\n",
      "Python version:  3.5.1 |Anaconda 4.0.0 (64-bit)| (default, Feb 16 2016, 09:49:46) [MSC v.1900 64 bit (AMD64)]\n",
      "Pandas version:  0.18.0\n",
      "Requests version:  2.9.1\n",
      "Today's date: 2016-04-25\n"
     ]
    }
   ],
   "source": [
    "import pandas as pd             # data package\n",
    "import matplotlib.pyplot as plt # graphics \n",
    "import sys                      # system module, used to get Python version \n",
    "import os                       # operating system tools (check files)\n",
    "import datetime as dt           # date tools, used to note current date  \n",
    "\n",
    "# these are new \n",
    "import requests, io             # internet and input tools  \n",
    "from bs4 import BeautifulSoup   # website parsing\n",
    "\n",
    "%matplotlib inline \n",
    "\n",
    "print('\\nPython version: ', sys.version) \n",
    "print('Pandas version: ', pd.__version__)\n",
    "print('Requests version: ', requests.__version__)\n",
    "print(\"Today's date:\", dt.date.today())"
   ]
  },
  {
   "cell_type": "markdown",
   "metadata": {},
   "source": [
    "<a id=lucky></a>"
   ]
  },
  {
   "cell_type": "markdown",
   "metadata": {},
   "source": [
    "## Sometimes we get lucky\n",
    "\n",
    "We sometimes find that we can access data straight from a web page with Pandas' `read_html`.  It works just like `read_csv` or `read_excel`.  \n",
    "\n",
    "The first example is [baseball-reference.com](http://www.baseball-reference.com/).  The same people run similar sites for football and basketball.  Many of their pages are collections of tables.  See, for example, [this one](http://www.baseball-reference.com/players/m/mccutan01.shtml) for Pittsburgh's Andrew McCucthen.    "
   ]
  },
  {
   "cell_type": "code",
   "execution_count": 3,
   "metadata": {
    "collapsed": false
   },
   "outputs": [
    {
     "name": "stdout",
     "output_type": "stream",
     "text": [
      "Ouput has type <class 'list'> and length 10\n"
     ]
    }
   ],
   "source": [
    "# baseball reference\n",
    "url = 'http://www.baseball-reference.com/players/m/mccutan01.shtml'\n",
    "am  = pd.read_html(url)\n",
    "\n",
    "print('Ouput has type', type(am), 'and length', len(am))\n",
    "print('First element has type', type(am[0])')"
   ]
  },
  {
   "cell_type": "markdown",
   "metadata": {},
   "source": [
    "**Question.** What do we have here?  A list of length 10?  Whose elements are dataframes?  Evidently this reads in all the tables from the page into dataframes and collects them in a list.  "
   ]
  },
  {
   "cell_type": "code",
   "execution_count": 4,
   "metadata": {
    "collapsed": false
   },
   "outputs": [
    {
     "data": {
      "text/html": [
       "<div>\n",
       "<table border=\"1\" class=\"dataframe\">\n",
       "  <thead>\n",
       "    <tr style=\"text-align: right;\">\n",
       "      <th></th>\n",
       "      <th>Year</th>\n",
       "      <th>Tm</th>\n",
       "      <th>Lg</th>\n",
       "      <th>Age</th>\n",
       "      <th>Pos</th>\n",
       "      <th>G</th>\n",
       "      <th>GS</th>\n",
       "      <th>CG</th>\n",
       "      <th>Inn</th>\n",
       "      <th>Ch</th>\n",
       "      <th>...</th>\n",
       "      <th>Unnamed: 105</th>\n",
       "      <th>Unnamed: 106</th>\n",
       "      <th>Unnamed: 107</th>\n",
       "      <th>Unnamed: 108</th>\n",
       "      <th>Unnamed: 109</th>\n",
       "      <th>Unnamed: 110</th>\n",
       "      <th>Unnamed: 111</th>\n",
       "      <th>Unnamed: 112</th>\n",
       "      <th>Unnamed: 113</th>\n",
       "      <th>Unnamed: 114</th>\n",
       "    </tr>\n",
       "  </thead>\n",
       "  <tbody>\n",
       "    <tr>\n",
       "      <th>0</th>\n",
       "      <td>2009.0</td>\n",
       "      <td>PIT</td>\n",
       "      <td>NL</td>\n",
       "      <td>22</td>\n",
       "      <td>CF</td>\n",
       "      <td>108</td>\n",
       "      <td>108.0</td>\n",
       "      <td>106.0</td>\n",
       "      <td>952.2</td>\n",
       "      <td>275.0</td>\n",
       "      <td>...</td>\n",
       "      <td>NaN</td>\n",
       "      <td>NaN</td>\n",
       "      <td>NaN</td>\n",
       "      <td>NaN</td>\n",
       "      <td>NaN</td>\n",
       "      <td>NaN</td>\n",
       "      <td>NaN</td>\n",
       "      <td>NaN</td>\n",
       "      <td>NaN</td>\n",
       "      <td>NaN</td>\n",
       "    </tr>\n",
       "    <tr>\n",
       "      <th>1</th>\n",
       "      <td>2009.0</td>\n",
       "      <td>PIT</td>\n",
       "      <td>NL</td>\n",
       "      <td>22</td>\n",
       "      <td>OF</td>\n",
       "      <td>108</td>\n",
       "      <td>108.0</td>\n",
       "      <td>106.0</td>\n",
       "      <td>952.2</td>\n",
       "      <td>275.0</td>\n",
       "      <td>...</td>\n",
       "      <td>NaN</td>\n",
       "      <td>NaN</td>\n",
       "      <td>NaN</td>\n",
       "      <td>NaN</td>\n",
       "      <td>NaN</td>\n",
       "      <td>NaN</td>\n",
       "      <td>NaN</td>\n",
       "      <td>NaN</td>\n",
       "      <td>NaN</td>\n",
       "      <td>NaN</td>\n",
       "    </tr>\n",
       "    <tr>\n",
       "      <th>2</th>\n",
       "      <td>2010.0</td>\n",
       "      <td>PIT</td>\n",
       "      <td>NL</td>\n",
       "      <td>23</td>\n",
       "      <td>CF</td>\n",
       "      <td>152</td>\n",
       "      <td>152.0</td>\n",
       "      <td>140.0</td>\n",
       "      <td>1290.1</td>\n",
       "      <td>386.0</td>\n",
       "      <td>...</td>\n",
       "      <td>NaN</td>\n",
       "      <td>NaN</td>\n",
       "      <td>NaN</td>\n",
       "      <td>NaN</td>\n",
       "      <td>NaN</td>\n",
       "      <td>NaN</td>\n",
       "      <td>NaN</td>\n",
       "      <td>NaN</td>\n",
       "      <td>NaN</td>\n",
       "      <td>NaN</td>\n",
       "    </tr>\n",
       "    <tr>\n",
       "      <th>3</th>\n",
       "      <td>2010.0</td>\n",
       "      <td>PIT</td>\n",
       "      <td>NL</td>\n",
       "      <td>23</td>\n",
       "      <td>OF</td>\n",
       "      <td>152</td>\n",
       "      <td>152.0</td>\n",
       "      <td>140.0</td>\n",
       "      <td>1290.1</td>\n",
       "      <td>386.0</td>\n",
       "      <td>...</td>\n",
       "      <td>NaN</td>\n",
       "      <td>NaN</td>\n",
       "      <td>NaN</td>\n",
       "      <td>NaN</td>\n",
       "      <td>NaN</td>\n",
       "      <td>NaN</td>\n",
       "      <td>NaN</td>\n",
       "      <td>NaN</td>\n",
       "      <td>NaN</td>\n",
       "      <td>NaN</td>\n",
       "    </tr>\n",
       "    <tr>\n",
       "      <th>4</th>\n",
       "      <td>2011.0</td>\n",
       "      <td>PIT</td>\n",
       "      <td>NL</td>\n",
       "      <td>24</td>\n",
       "      <td>CF</td>\n",
       "      <td>155</td>\n",
       "      <td>153.0</td>\n",
       "      <td>146.0</td>\n",
       "      <td>1353.2</td>\n",
       "      <td>430.0</td>\n",
       "      <td>...</td>\n",
       "      <td>NaN</td>\n",
       "      <td>NaN</td>\n",
       "      <td>NaN</td>\n",
       "      <td>NaN</td>\n",
       "      <td>NaN</td>\n",
       "      <td>NaN</td>\n",
       "      <td>NaN</td>\n",
       "      <td>NaN</td>\n",
       "      <td>NaN</td>\n",
       "      <td>NaN</td>\n",
       "    </tr>\n",
       "  </tbody>\n",
       "</table>\n",
       "<p>5 rows × 115 columns</p>\n",
       "</div>"
      ],
      "text/plain": [
       "     Year   Tm  Lg  Age Pos    G     GS     CG     Inn     Ch      ...       \\\n",
       "0  2009.0  PIT  NL   22  CF  108  108.0  106.0   952.2  275.0      ...        \n",
       "1  2009.0  PIT  NL   22  OF  108  108.0  106.0   952.2  275.0      ...        \n",
       "2  2010.0  PIT  NL   23  CF  152  152.0  140.0  1290.1  386.0      ...        \n",
       "3  2010.0  PIT  NL   23  OF  152  152.0  140.0  1290.1  386.0      ...        \n",
       "4  2011.0  PIT  NL   24  CF  155  153.0  146.0  1353.2  430.0      ...        \n",
       "\n",
       "   Unnamed: 105  Unnamed: 106  Unnamed: 107  Unnamed: 108  Unnamed: 109  \\\n",
       "0           NaN           NaN           NaN           NaN           NaN   \n",
       "1           NaN           NaN           NaN           NaN           NaN   \n",
       "2           NaN           NaN           NaN           NaN           NaN   \n",
       "3           NaN           NaN           NaN           NaN           NaN   \n",
       "4           NaN           NaN           NaN           NaN           NaN   \n",
       "\n",
       "   Unnamed: 110  Unnamed: 111  Unnamed: 112  Unnamed: 113  Unnamed: 114  \n",
       "0           NaN           NaN           NaN           NaN           NaN  \n",
       "1           NaN           NaN           NaN           NaN           NaN  \n",
       "2           NaN           NaN           NaN           NaN           NaN  \n",
       "3           NaN           NaN           NaN           NaN           NaN  \n",
       "4           NaN           NaN           NaN           NaN           NaN  \n",
       "\n",
       "[5 rows x 115 columns]"
      ]
     },
     "execution_count": 4,
     "metadata": {},
     "output_type": "execute_result"
    }
   ],
   "source": [
    "am[4].head()"
   ]
  },
  {
   "cell_type": "code",
   "execution_count": null,
   "metadata": {
    "collapsed": true
   },
   "outputs": [],
   "source": []
  },
  {
   "cell_type": "markdown",
   "metadata": {},
   "source": [
    "Here's another one:  Google's stock price from Yahoo finance.  "
   ]
  },
  {
   "cell_type": "code",
   "execution_count": 5,
   "metadata": {
    "collapsed": true
   },
   "outputs": [],
   "source": [
    "url = 'http://finance.yahoo.com/q/hp?s=GOOG+Historical+Prices'\n",
    "ggl = pd.read_html(url)"
   ]
  },
  {
   "cell_type": "code",
   "execution_count": 7,
   "metadata": {
    "collapsed": false
   },
   "outputs": [
    {
     "data": {
      "text/plain": [
       "list"
      ]
     },
     "execution_count": 7,
     "metadata": {},
     "output_type": "execute_result"
    }
   ],
   "source": [
    "type(ggl)"
   ]
  },
  {
   "cell_type": "code",
   "execution_count": 8,
   "metadata": {
    "collapsed": false
   },
   "outputs": [
    {
     "data": {
      "text/plain": [
       "12"
      ]
     },
     "execution_count": 8,
     "metadata": {},
     "output_type": "execute_result"
    }
   ],
   "source": [
    "len(ggl)"
   ]
  },
  {
   "cell_type": "code",
   "execution_count": 14,
   "metadata": {
    "collapsed": false
   },
   "outputs": [
    {
     "data": {
      "text/html": [
       "<div>\n",
       "<table border=\"1\" class=\"dataframe\">\n",
       "  <thead>\n",
       "    <tr style=\"text-align: right;\">\n",
       "      <th></th>\n",
       "      <th>0</th>\n",
       "    </tr>\n",
       "  </thead>\n",
       "  <tbody>\n",
       "    <tr>\n",
       "      <th>0</th>\n",
       "      <td>Prices</td>\n",
       "    </tr>\n",
       "  </tbody>\n",
       "</table>\n",
       "</div>"
      ],
      "text/plain": [
       "        0\n",
       "0  Prices"
      ]
     },
     "execution_count": 14,
     "metadata": {},
     "output_type": "execute_result"
    }
   ],
   "source": [
    "ggl[8]"
   ]
  },
  {
   "cell_type": "code",
   "execution_count": null,
   "metadata": {
    "collapsed": true
   },
   "outputs": [],
   "source": []
  },
  {
   "cell_type": "code",
   "execution_count": 16,
   "metadata": {
    "collapsed": false
   },
   "outputs": [
    {
     "ename": "ValueError",
     "evalue": "No tables found",
     "output_type": "error",
     "traceback": [
      "\u001b[1;31m---------------------------------------------------------------------------\u001b[0m",
      "\u001b[1;31mValueError\u001b[0m                                Traceback (most recent call last)",
      "\u001b[1;32m<ipython-input-16-298f623f4e02>\u001b[0m in \u001b[0;36m<module>\u001b[1;34m()\u001b[0m\n\u001b[0;32m      1\u001b[0m \u001b[0murl\u001b[0m \u001b[1;33m=\u001b[0m \u001b[1;34m'http://databootcamp.nyuecon.com/'\u001b[0m\u001b[1;33m\u001b[0m\u001b[0m\n\u001b[0;32m      2\u001b[0m \u001b[0murl\u001b[0m \u001b[1;33m=\u001b[0m \u001b[1;34m'google.com'\u001b[0m\u001b[1;33m\u001b[0m\u001b[0m\n\u001b[1;32m----> 3\u001b[1;33m \u001b[0mdb\u001b[0m  \u001b[1;33m=\u001b[0m \u001b[0mpd\u001b[0m\u001b[1;33m.\u001b[0m\u001b[0mread_html\u001b[0m\u001b[1;33m(\u001b[0m\u001b[0murl\u001b[0m\u001b[1;33m)\u001b[0m\u001b[1;33m\u001b[0m\u001b[0m\n\u001b[0m",
      "\u001b[1;32mC:\\Users\\dbackus\\AppData\\Local\\Continuum\\Anaconda3\\lib\\site-packages\\pandas\\io\\html.py\u001b[0m in \u001b[0;36mread_html\u001b[1;34m(io, match, flavor, header, index_col, skiprows, attrs, parse_dates, tupleize_cols, thousands, encoding)\u001b[0m\n\u001b[0;32m    868\u001b[0m     \u001b[0m_validate_header_arg\u001b[0m\u001b[1;33m(\u001b[0m\u001b[0mheader\u001b[0m\u001b[1;33m)\u001b[0m\u001b[1;33m\u001b[0m\u001b[0m\n\u001b[0;32m    869\u001b[0m     return _parse(flavor, io, match, header, index_col, skiprows,\n\u001b[1;32m--> 870\u001b[1;33m                   parse_dates, tupleize_cols, thousands, attrs, encoding)\n\u001b[0m",
      "\u001b[1;32mC:\\Users\\dbackus\\AppData\\Local\\Continuum\\Anaconda3\\lib\\site-packages\\pandas\\io\\html.py\u001b[0m in \u001b[0;36m_parse\u001b[1;34m(flavor, io, match, header, index_col, skiprows, parse_dates, tupleize_cols, thousands, attrs, encoding)\u001b[0m\n\u001b[0;32m    730\u001b[0m             \u001b[1;32mbreak\u001b[0m\u001b[1;33m\u001b[0m\u001b[0m\n\u001b[0;32m    731\u001b[0m     \u001b[1;32melse\u001b[0m\u001b[1;33m:\u001b[0m\u001b[1;33m\u001b[0m\u001b[0m\n\u001b[1;32m--> 732\u001b[1;33m         \u001b[0mraise_with_traceback\u001b[0m\u001b[1;33m(\u001b[0m\u001b[0mretained\u001b[0m\u001b[1;33m)\u001b[0m\u001b[1;33m\u001b[0m\u001b[0m\n\u001b[0m\u001b[0;32m    733\u001b[0m \u001b[1;33m\u001b[0m\u001b[0m\n\u001b[0;32m    734\u001b[0m     \u001b[0mret\u001b[0m \u001b[1;33m=\u001b[0m \u001b[1;33m[\u001b[0m\u001b[1;33m]\u001b[0m\u001b[1;33m\u001b[0m\u001b[0m\n",
      "\u001b[1;32mC:\\Users\\dbackus\\AppData\\Local\\Continuum\\Anaconda3\\lib\\site-packages\\pandas\\compat\\__init__.py\u001b[0m in \u001b[0;36mraise_with_traceback\u001b[1;34m(exc, traceback)\u001b[0m\n\u001b[0;32m    302\u001b[0m         \u001b[1;32mif\u001b[0m \u001b[0mtraceback\u001b[0m \u001b[1;33m==\u001b[0m \u001b[0mEllipsis\u001b[0m\u001b[1;33m:\u001b[0m\u001b[1;33m\u001b[0m\u001b[0m\n\u001b[0;32m    303\u001b[0m             \u001b[0m_\u001b[0m\u001b[1;33m,\u001b[0m \u001b[0m_\u001b[0m\u001b[1;33m,\u001b[0m \u001b[0mtraceback\u001b[0m \u001b[1;33m=\u001b[0m \u001b[0msys\u001b[0m\u001b[1;33m.\u001b[0m\u001b[0mexc_info\u001b[0m\u001b[1;33m(\u001b[0m\u001b[1;33m)\u001b[0m\u001b[1;33m\u001b[0m\u001b[0m\n\u001b[1;32m--> 304\u001b[1;33m         \u001b[1;32mraise\u001b[0m \u001b[0mexc\u001b[0m\u001b[1;33m.\u001b[0m\u001b[0mwith_traceback\u001b[0m\u001b[1;33m(\u001b[0m\u001b[0mtraceback\u001b[0m\u001b[1;33m)\u001b[0m\u001b[1;33m\u001b[0m\u001b[0m\n\u001b[0m\u001b[0;32m    305\u001b[0m \u001b[1;32melse\u001b[0m\u001b[1;33m:\u001b[0m\u001b[1;33m\u001b[0m\u001b[0m\n\u001b[0;32m    306\u001b[0m     \u001b[1;31m# this version of raise is a syntax error in Python 3\u001b[0m\u001b[1;33m\u001b[0m\u001b[1;33m\u001b[0m\u001b[0m\n",
      "\u001b[1;31mValueError\u001b[0m: No tables found"
     ]
    }
   ],
   "source": [
    "url = 'http://databootcamp.nyuecon.com/'\n",
    "url = 'google.com'\n",
    "db  = pd.read_html(url)"
   ]
  },
  {
   "cell_type": "code",
   "execution_count": null,
   "metadata": {
    "collapsed": true
   },
   "outputs": [],
   "source": []
  },
  {
   "cell_type": "code",
   "execution_count": null,
   "metadata": {
    "collapsed": true
   },
   "outputs": [],
   "source": []
  },
  {
   "cell_type": "markdown",
   "metadata": {},
   "source": [
    "## Scanning urls"
   ]
  },
  {
   "cell_type": "code",
   "execution_count": null,
   "metadata": {
    "collapsed": true
   },
   "outputs": [],
   "source": []
  },
  {
   "cell_type": "markdown",
   "metadata": {},
   "source": [
    "Itamar adds:  \n",
    "\n",
    "Walk through the following steps before running the code:\n",
    "\n",
    "1) Go to : http://finance.yahoo.com/q/hp?s=AAPL+Historical+Prices\n",
    "2) Enter the dates you want and hit the get prices button.\n",
    "3) Once the results are shown, look on the url address.\n",
    "4) The new url will include several parameters, each one is seperated by the & character.\n",
    "5) Try to explore the meanning of each parameter (s, a,b,c,d,e,f and g)\n",
    "6) After some trial and error you can realize that each parameter represents the data you entered as input:\n",
    "    the day, month and year, the stock sybmol, and the frequency  you chose (daily, weekly etc)\n",
    "7) Scroll down to the bottom of the page. there is a link which allows downloading the data as a csv file. click on it\n",
    "8) Open the CSV in excel and see the structure of the file.\n",
    "9) Go back to the web page, instead of clicking on the csv link, right click on it and copy the link address\n",
    "10) Paste the address in a notebook - This is the url link we can use to access the data from our coding environment\n",
    "\n"
   ]
  },
  {
   "cell_type": "code",
   "execution_count": null,
   "metadata": {
    "collapsed": true
   },
   "outputs": [],
   "source": []
  },
  {
   "cell_type": "code",
   "execution_count": null,
   "metadata": {
    "collapsed": true
   },
   "outputs": [],
   "source": []
  },
  {
   "cell_type": "code",
   "execution_count": null,
   "metadata": {
    "collapsed": true
   },
   "outputs": [],
   "source": []
  },
  {
   "cell_type": "code",
   "execution_count": null,
   "metadata": {
    "collapsed": true
   },
   "outputs": [],
   "source": []
  },
  {
   "cell_type": "code",
   "execution_count": null,
   "metadata": {
    "collapsed": true
   },
   "outputs": [],
   "source": []
  },
  {
   "cell_type": "markdown",
   "metadata": {},
   "source": [
    "## Accessing web pages \n",
    "\n",
    "Requests again...  "
   ]
  },
  {
   "cell_type": "code",
   "execution_count": 17,
   "metadata": {
    "collapsed": true
   },
   "outputs": [],
   "source": [
    "url = 'http://databootcamp.nyuecon.com/'\n",
    "db = requests.get(url)\n",
    "\n"
   ]
  },
  {
   "cell_type": "code",
   "execution_count": 19,
   "metadata": {
    "collapsed": false
   },
   "outputs": [
    {
     "data": {
      "text/plain": [
       "{'X-Timer': 'S1461615585.265324,VS0,VE0', 'Content-Encoding': 'gzip', 'Accept-Ranges': 'bytes', 'Content-Length': '3499', 'Server': 'GitHub.com', 'X-Served-By': 'cache-iad2120-IAD', 'X-Cache': 'HIT', 'Via': '1.1 varnish', 'Content-Type': 'text/html; charset=utf-8', 'X-Fastly-Request-ID': 'c50dae06b36deefb27c8129eb25e565635a49345', 'Age': '21', 'X-GitHub-Request-Id': '17EB2E29:6096:17E002:571E7BCC', 'Last-Modified': 'Thu, 21 Apr 2016 23:57:03 GMT', 'Connection': 'keep-alive', 'X-Cache-Hits': '1', 'Expires': 'Mon, 25 Apr 2016 20:29:24 GMT', 'Date': 'Mon, 25 Apr 2016 20:19:45 GMT', 'Cache-Control': 'max-age=600', 'Access-Control-Allow-Origin': '*', 'Vary': 'Accept-Encoding'}"
      ]
     },
     "execution_count": 19,
     "metadata": {},
     "output_type": "execute_result"
    }
   ],
   "source": [
    "db.headers"
   ]
  },
  {
   "cell_type": "code",
   "execution_count": 22,
   "metadata": {
    "collapsed": false
   },
   "outputs": [
    {
     "data": {
      "text/plain": [
       "'http://databootcamp.nyuecon.com/'"
      ]
     },
     "execution_count": 22,
     "metadata": {},
     "output_type": "execute_result"
    }
   ],
   "source": [
    "db.url"
   ]
  },
  {
   "cell_type": "code",
   "execution_count": 23,
   "metadata": {
    "collapsed": false
   },
   "outputs": [
    {
     "data": {
      "text/plain": [
       "200"
      ]
     },
     "execution_count": 23,
     "metadata": {},
     "output_type": "execute_result"
    }
   ],
   "source": [
    "db.status_code"
   ]
  },
  {
   "cell_type": "code",
   "execution_count": 24,
   "metadata": {
    "collapsed": true
   },
   "outputs": [],
   "source": []
  },
  {
   "cell_type": "code",
   "execution_count": null,
   "metadata": {
    "collapsed": true
   },
   "outputs": [],
   "source": []
  },
  {
   "cell_type": "code",
   "execution_count": null,
   "metadata": {
    "collapsed": true
   },
   "outputs": [],
   "source": []
  },
  {
   "cell_type": "markdown",
   "metadata": {},
   "source": [
    "## Extracting pieces of web pages \n",
    "\n",
    "Use Beautiful Soup...  \n",
    "\n"
   ]
  },
  {
   "cell_type": "code",
   "execution_count": 38,
   "metadata": {
    "collapsed": false
   },
   "outputs": [
    {
     "name": "stdout",
     "output_type": "stream",
     "text": [
      "Type and length:  <class 'bs4.BeautifulSoup'>, 7\n",
      "Title:  <title>Data Bootcamp </title>\n",
      "First n characters:\n",
      "<!DOCTYPE html>\n",
      "<!--[if lt IE 7]> <html class=\"no-js lt-ie9 lt-ie8 lt-ie7\"> <![endif]-->\n",
      "<!--[if IE 7]> <html class=\"no-js lt-ie9 lt-ie8\"> <![endif]-->\n",
      "<!--[if IE 8]> <html class=\"no-js lt-ie9\"> <![endif]-->\n",
      "<!--[if gt IE 8]><!-->\n",
      "<html class=\"no-js\">\n",
      " <!--<![endif]-->\n",
      " <head>\n",
      "  <meta content=\"text/html; charset=utf-8\" http-equiv=\"content-type\"/>\n",
      "  <title>\n",
      "   Data Bootcamp\n",
      "  </title>\n",
      "  <meta content=\"IE=edge\" http-equiv=\"X-UA-Compatible\"/>\n",
      "  <meta content=\"True\" name=\"HandheldFriendly\"/>\n",
      "  <meta content=\"320\" name=\"MobileOptimized\"/>\n",
      "  <meta content=\"width=device-width, initial-scale=1\" name=\"viewport\"/>\n",
      "  <meta content=\"\" name=\"description\"/>\n",
      "  <meta content=\"\" name=\"keywords\"/>\n",
      "  <meta content=\"Data Bootcamp \" property=\"og:title\"/>\n",
      "  <meta content=\"Data Bootcamp\" property=\"og:site_name\"/>\n",
      "  <meta content=\"http://databootcamp.nyuecon.com/\" property=\"og:url\"/>\n",
      "  <meta content=\"en-us\" property=\"og:locale\"/>\n",
      "  <meta content=\"website\" property=\"og:type\"/>\n",
      "  <link href=\"http://databootcamp\n"
     ]
    }
   ],
   "source": [
    "bs = BeautifulSoup(db.content, 'lxml')\n",
    "\n",
    "print('Type and length:  ', type(bs), ', ', len(bs), sep='')\n",
    "print('Title: ', bs.title)\n",
    "print('First n characters:\\n', bs.prettify()[0:500], sep='')"
   ]
  },
  {
   "cell_type": "code",
   "execution_count": 35,
   "metadata": {
    "collapsed": false
   },
   "outputs": [],
   "source": [
    "bs.find_all?"
   ]
  },
  {
   "cell_type": "code",
   "execution_count": 39,
   "metadata": {
    "collapsed": false
   },
   "outputs": [
    {
     "data": {
      "text/plain": [
       "<head>\n",
       "<meta content=\"text/html; charset=utf-8\" http-equiv=\"content-type\"/>\n",
       "<title>Data Bootcamp </title>\n",
       "<meta content=\"IE=edge\" http-equiv=\"X-UA-Compatible\"/>\n",
       "<meta content=\"True\" name=\"HandheldFriendly\"/>\n",
       "<meta content=\"320\" name=\"MobileOptimized\"/>\n",
       "<meta content=\"width=device-width, initial-scale=1\" name=\"viewport\"/>\n",
       "<meta content=\"\" name=\"description\"/>\n",
       "<meta content=\"\" name=\"keywords\"/>\n",
       "<meta content=\"Data Bootcamp \" property=\"og:title\"/>\n",
       "<meta content=\"Data Bootcamp\" property=\"og:site_name\"/>\n",
       "<meta content=\"http://databootcamp.nyuecon.com/\" property=\"og:url\"/>\n",
       "<meta content=\"en-us\" property=\"og:locale\"/>\n",
       "<meta content=\"website\" property=\"og:type\"/>\n",
       "<link href=\"http://databootcamp.nyuecon.com/index.xml\" rel=\"alternate\" title=\"Data Bootcamp\" type=\"application/rss+xml\"/>\n",
       "<link href=\"http://databootcamp.nyuecon.com/\" rel=\"canonical\"/>\n",
       "<link href=\"http://databootcamp.nyuecon.com/touch-icon-144-precomposed.png\" rel=\"apple-touch-icon-precomposed\" sizes=\"144x144\"/>\n",
       "<link href=\"http://databootcamp.nyuecon.com/favicon.png\" rel=\"icon\"/>\n",
       "<meta content=\"Hugo 0.16-DEV\" name=\"generator\"/>\n",
       "<!--[if lt IE 9]>\n",
       "<script src=\"https://oss.maxcdn.com/libs/html5shiv/3.7.0/html5shiv.js\"></script>\n",
       "<script src=\"https://oss.maxcdn.com/libs/respond.js/1.4.2/respond.min.js\"></script>\n",
       "<![endif]-->\n",
       "<link href=\"https://fonts.googleapis.com/css?family=Merriweather:300%7CRaleway%7COpen+Sans\" rel=\"stylesheet\" type=\"text/css\"/>\n",
       "<link href=\"http://databootcamp.nyuecon.com/css/font-awesome.min.css\" rel=\"stylesheet\"/>\n",
       "<link href=\"http://databootcamp.nyuecon.com/css/style.css\" rel=\"stylesheet\"/>\n",
       "<link href=\"http://databootcamp.nyuecon.com/css/highlight/default.css\" rel=\"stylesheet\"/>\n",
       "</head>"
      ]
     },
     "execution_count": 39,
     "metadata": {},
     "output_type": "execute_result"
    }
   ],
   "source": [
    "bs.head"
   ]
  },
  {
   "cell_type": "code",
   "execution_count": null,
   "metadata": {
    "collapsed": true
   },
   "outputs": [],
   "source": []
  },
  {
   "cell_type": "code",
   "execution_count": 40,
   "metadata": {
    "collapsed": true
   },
   "outputs": [],
   "source": [
    "kids = [ c for c in bs.head.children]"
   ]
  },
  {
   "cell_type": "code",
   "execution_count": 41,
   "metadata": {
    "collapsed": false
   },
   "outputs": [
    {
     "data": {
      "text/plain": [
       "['\\n',\n",
       " <meta content=\"text/html; charset=utf-8\" http-equiv=\"content-type\"/>,\n",
       " '\\n',\n",
       " <title>Data Bootcamp </title>,\n",
       " '\\n',\n",
       " <meta content=\"IE=edge\" http-equiv=\"X-UA-Compatible\"/>,\n",
       " '\\n',\n",
       " <meta content=\"True\" name=\"HandheldFriendly\"/>,\n",
       " '\\n',\n",
       " <meta content=\"320\" name=\"MobileOptimized\"/>,\n",
       " '\\n',\n",
       " <meta content=\"width=device-width, initial-scale=1\" name=\"viewport\"/>,\n",
       " '\\n',\n",
       " <meta content=\"\" name=\"description\"/>,\n",
       " '\\n',\n",
       " <meta content=\"\" name=\"keywords\"/>,\n",
       " '\\n',\n",
       " <meta content=\"Data Bootcamp \" property=\"og:title\"/>,\n",
       " '\\n',\n",
       " <meta content=\"Data Bootcamp\" property=\"og:site_name\"/>,\n",
       " '\\n',\n",
       " <meta content=\"http://databootcamp.nyuecon.com/\" property=\"og:url\"/>,\n",
       " '\\n',\n",
       " <meta content=\"en-us\" property=\"og:locale\"/>,\n",
       " '\\n',\n",
       " <meta content=\"website\" property=\"og:type\"/>,\n",
       " '\\n',\n",
       " <link href=\"http://databootcamp.nyuecon.com/index.xml\" rel=\"alternate\" title=\"Data Bootcamp\" type=\"application/rss+xml\"/>,\n",
       " '\\n',\n",
       " <link href=\"http://databootcamp.nyuecon.com/\" rel=\"canonical\"/>,\n",
       " '\\n',\n",
       " <link href=\"http://databootcamp.nyuecon.com/touch-icon-144-precomposed.png\" rel=\"apple-touch-icon-precomposed\" sizes=\"144x144\"/>,\n",
       " '\\n',\n",
       " <link href=\"http://databootcamp.nyuecon.com/favicon.png\" rel=\"icon\"/>,\n",
       " '\\n',\n",
       " <meta content=\"Hugo 0.16-DEV\" name=\"generator\"/>,\n",
       " '\\n',\n",
       " '[if lt IE 9]>\\n<script src=\"https://oss.maxcdn.com/libs/html5shiv/3.7.0/html5shiv.js\"></script>\\n<script src=\"https://oss.maxcdn.com/libs/respond.js/1.4.2/respond.min.js\"></script>\\n<![endif]',\n",
       " '\\n',\n",
       " <link href=\"https://fonts.googleapis.com/css?family=Merriweather:300%7CRaleway%7COpen+Sans\" rel=\"stylesheet\" type=\"text/css\"/>,\n",
       " '\\n',\n",
       " <link href=\"http://databootcamp.nyuecon.com/css/font-awesome.min.css\" rel=\"stylesheet\"/>,\n",
       " '\\n',\n",
       " <link href=\"http://databootcamp.nyuecon.com/css/style.css\" rel=\"stylesheet\"/>,\n",
       " '\\n',\n",
       " <link href=\"http://databootcamp.nyuecon.com/css/highlight/default.css\" rel=\"stylesheet\"/>,\n",
       " '\\n']"
      ]
     },
     "execution_count": 41,
     "metadata": {},
     "output_type": "execute_result"
    }
   ],
   "source": [
    "kids"
   ]
  },
  {
   "cell_type": "code",
   "execution_count": null,
   "metadata": {
    "collapsed": true
   },
   "outputs": [],
   "source": []
  },
  {
   "cell_type": "code",
   "execution_count": null,
   "metadata": {
    "collapsed": true
   },
   "outputs": [],
   "source": []
  },
  {
   "cell_type": "code",
   "execution_count": null,
   "metadata": {
    "collapsed": true
   },
   "outputs": [],
   "source": []
  },
  {
   "cell_type": "code",
   "execution_count": null,
   "metadata": {
    "collapsed": true
   },
   "outputs": [],
   "source": []
  }
 ],
 "metadata": {
  "kernelspec": {
   "display_name": "Python 3",
   "language": "python",
   "name": "python3"
  },
  "language_info": {
   "codemirror_mode": {
    "name": "ipython",
    "version": 3
   },
   "file_extension": ".py",
   "mimetype": "text/x-python",
   "name": "python",
   "nbconvert_exporter": "python",
   "pygments_lexer": "ipython3",
   "version": "3.5.1"
  }
 },
 "nbformat": 4,
 "nbformat_minor": 0
}
