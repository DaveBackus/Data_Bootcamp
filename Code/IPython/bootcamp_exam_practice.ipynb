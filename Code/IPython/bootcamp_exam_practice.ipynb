{
 "cells": [
  {
   "cell_type": "markdown",
   "metadata": {},
   "source": [
    "# Data Bootcamp:  Exam review\n",
    "\n",
    "We review the material we've covered to date:  Python fundamentals, data input with Pandas, and graphics with Matplotlib. Questions marked *Bonus* are more difficult and are there to give the experts something to do.   \n",
    "\n",
    "This IPython notebook was created by Dave Backus, Chase Coleman, and Spencer Lyon for the NYU Stern course [Data Bootcamp](http://databootcamp.nyuecon.com/).  \n",
    "\n",
    "This version was modified by (add your name in bold here).  "
   ]
  },
  {
   "cell_type": "markdown",
   "metadata": {},
   "source": [
    "## Preliminaries\n",
    "\n",
    "Import packages and check the date.  "
   ]
  },
  {
   "cell_type": "code",
   "execution_count": 1,
   "metadata": {
    "collapsed": false
   },
   "outputs": [
    {
     "name": "stdout",
     "output_type": "stream",
     "text": [
      "Today is 2016-03-20\n",
      "What version of Python are we running? \n",
      "3.5.1 |Anaconda 2.5.0 (64-bit)| (default, Jan 29 2016, 15:01:46) [MSC v.1900 64 bit (AMD64)]\n"
     ]
    }
   ],
   "source": [
    "# import packages \n",
    "import pandas as pd                   # data management\n",
    "import matplotlib.pyplot as plt       # graphics \n",
    "\n",
    "# IPython command, puts plots in notebook \n",
    "%matplotlib inline\n",
    "\n",
    "# check Python version \n",
    "import datetime as dt \n",
    "import sys\n",
    "print('Today is', dt.date.today())\n",
    "print('What version of Python are we running? \\n', sys.version, sep='') "
   ]
  },
  {
   "cell_type": "markdown",
   "metadata": {},
   "source": [
    "## IPython review \n",
    "\n",
    "We review some of the basics of IPython.  You won't be asked about IPython on the exam, but since the exam is an IPython notebook, it's essential you be able to work with one. "
   ]
  },
  {
   "cell_type": "markdown",
   "metadata": {},
   "source": [
    "**Question 1.**  \n",
    "\n",
    "* How do you set/choose the current cell?  \n",
    "* How do you edit the current cell?  \n",
    "* How do you add a new cell below the current cell?  \n",
    "* How do you specify the current cell as code or text?  \n",
    "* How do you delete the current cell?  \n",
    "* How do you move the current cell up or down?  \n",
    "* How do you run the current cell?  \n",
    "* Add your name in bold to the bottom of the first cell in this notebook.  *Bonus:* Add a link to your LinkedIn or Facebook page.  \n",
    "* How do you save the contents of your notebook?  "
   ]
  },
  {
   "cell_type": "markdown",
   "metadata": {},
   "source": [
    "**Answers.**  Enter your answers below:  \n",
    "\n",
    "* \n",
    "* \n",
    "* "
   ]
  },
  {
   "cell_type": "markdown",
   "metadata": {},
   "source": [
    "## Python fundamentals"
   ]
  },
  {
   "cell_type": "markdown",
   "metadata": {},
   "source": [
    "**Question 2.** Describe the type and content of these expressions:   \n",
    "\n",
    "* `x = 2` \n",
    "* `y = 3.0`\n",
    "* `z = \"3.0\"`\n",
    "* `x/y`\n",
    "* `letters = 'abcd'`\n",
    "* `letters[-1]`\n",
    "* `xyz = [x, y, z]`\n",
    "* `xyz[1]`\n",
    "* `abcd = list(letters)`\n",
    "* `abcd[-2]`\n",
    "* `case = {'a': 'A', 'b': 'B', 'c': 'C'}` \n",
    "* `case['c']` \n",
    "* `2 >= 1`\n",
    "* `x == 2` "
   ]
  },
  {
   "cell_type": "markdown",
   "metadata": {},
   "source": [
    "**Answers.** Enter your answers below:    \n",
    "\n",
    "* \n",
    "* \n",
    "* "
   ]
  },
  {
   "cell_type": "code",
   "execution_count": 2,
   "metadata": {
    "collapsed": true
   },
   "outputs": [],
   "source": [
    "# code cell for experimenting \n"
   ]
  },
  {
   "cell_type": "markdown",
   "metadata": {},
   "source": [
    "**Question 3.** These get progressively more difficult:  \n",
    "\n",
    "* What type is `dollars = '$1,234.5'`?\n",
    "* Find and apply a method that eliminates the dollar sign from `dollars`. \n",
    "* Find and apply a method that eliminates the comma from `dollars`. \n",
    "* Eliminate both the dollar sign and comma from `dollars` and covert the result to a float.\n",
    "* Combine the last three steps in one line.  \n",
    "\n",
    "In each case, create a code cell that delivers the answer.  "
   ]
  },
  {
   "cell_type": "code",
   "execution_count": null,
   "metadata": {
    "collapsed": true
   },
   "outputs": [],
   "source": []
  },
  {
   "cell_type": "markdown",
   "metadata": {},
   "source": [
    "**Question 4.** \n",
    "\n",
    "* Find and apply a method that converts the lower case letter `'a'` to the upper case letter `'A'`.  \n",
    "* Write a loop that goes through the elements of `letters` and prints their upper case versions.\n",
    "* *Bonus:* Write a loop that goes through the elements of `letters`.  On each interation, print a string consisting of the upper and lower case versions together; eg, `'Aa'`.  \n",
    "\n",
    "In each case, create a code cell that delivers the answer.  "
   ]
  },
  {
   "cell_type": "code",
   "execution_count": null,
   "metadata": {
    "collapsed": true
   },
   "outputs": [],
   "source": []
  },
  {
   "cell_type": "markdown",
   "metadata": {},
   "source": [
    "**Question 5.** \n",
    "\n",
    "* Write a loop that goes through the elements of `xyz` and prints them.\n",
    "* Modify the loop to print both the elements of `xyz` and their type.  \n",
    "* Modify the loop to print only those elements that are not strings. \n",
    "\n",
    "In each case, create a code cell that delivers the answer.  "
   ]
  },
  {
   "cell_type": "code",
   "execution_count": null,
   "metadata": {
    "collapsed": true
   },
   "outputs": [],
   "source": []
  },
  {
   "cell_type": "code",
   "execution_count": null,
   "metadata": {
    "collapsed": true
   },
   "outputs": [],
   "source": []
  },
  {
   "cell_type": "markdown",
   "metadata": {},
   "source": [
    "## Data input with Pandas \n",
    "\n",
    "We explore the public indebtedness of Argentina (country code ARG), Germany (DEU), and Greece (GRC).  For each one, we provide the ratio of government debt to GDP for every second year starting in 2002.  The data come from the IMF's World Economic Outlook.  "
   ]
  },
  {
   "cell_type": "markdown",
   "metadata": {},
   "source": [
    "**Question 6.** Write code in the cell below that reads the csv file we posted at\n",
    "\n",
    "http://pages.stern.nyu.edu/~dbackus/Data/debt.csv \n",
    "\n",
    "Assign the contents of the file to the object `debt`.  "
   ]
  },
  {
   "cell_type": "code",
   "execution_count": null,
   "metadata": {
    "collapsed": true
   },
   "outputs": [],
   "source": []
  },
  {
   "cell_type": "code",
   "execution_count": 3,
   "metadata": {
    "collapsed": false
   },
   "outputs": [],
   "source": [
    "# if that failed, you can generate the same data with   \n",
    "data = {'ARG': [137.5, 106.0, 61.8, 47.0, 39.1, 37.3, 48.6], \n",
    "        'DEU': [59.2, 64.6, 66.3, 64.9, 80.3, 79.0, 73.1],   \n",
    "        'GRC': [98.1, 94.9, 102.9, 108.8, 145.7, 156.5, 177.2],\n",
    "        'Year': [2002, 2004, 2006, 2008, 2010, 2012, 2014]}  \n",
    "debt = pd.DataFrame(data)"
   ]
  },
  {
   "cell_type": "markdown",
   "metadata": {},
   "source": [
    "**Question 7.** Let's describe the object `debt`:   \n",
    "\n",
    "* What type of object is `debt`?\n",
    "* What are its dimensions?\n",
    "* What are its column labels?  Row labels?\n",
    "* What dtypes are the columns?   \n",
    "\n",
    "In each case, create a code cell that delivers the answer.  "
   ]
  },
  {
   "cell_type": "code",
   "execution_count": null,
   "metadata": {
    "collapsed": true
   },
   "outputs": [],
   "source": []
  },
  {
   "cell_type": "markdown",
   "metadata": {},
   "source": [
    "**Question 8.** Do the following with `debt`:  \n",
    "\n",
    "* Set `Year` as the index.  \n",
    "* Change the column labels from country codes to country names. \n",
    "* Print the result to verify your changes.  \n",
    "\n",
    "The next three get progressively more difficult:  \n",
    "\n",
    "* Compute the mean (average) debt for each country.\n",
    "* *Bonus:* Compute the mean debt for each year.\n",
    "* *Bonus:* Compute the mean debt over both countries and years.  \n",
    "\n",
    "Some simple plots:   \n",
    "\n",
    "* Plot each country's debt against `Year` using a `plot` method.  \n",
    "* Change the linewidth to 2.  \n",
    "\n",
    "In each case, create a code cell that delivers the answer.  "
   ]
  },
  {
   "cell_type": "code",
   "execution_count": null,
   "metadata": {
    "collapsed": true
   },
   "outputs": [],
   "source": []
  },
  {
   "cell_type": "code",
   "execution_count": null,
   "metadata": {
    "collapsed": true
   },
   "outputs": [],
   "source": []
  },
  {
   "cell_type": "markdown",
   "metadata": {},
   "source": [
    "## Python graphics with Matplotlib\n",
    "\n",
    "We'll continue to use the data in `debt`.  **Make sure the index is the year.**  "
   ]
  },
  {
   "cell_type": "markdown",
   "metadata": {},
   "source": [
    "**Question 9.** \n",
    "\n",
    "* Create figure and axis objects with `plt.subplots()`.   \n",
    "* Graph public indebtedness over time using our `debt` data and the axis object we just created.  \n",
    "* Change the line width to 2.\n",
    "* Change the colors to `['red', 'magenta', 'blue']`.  \n",
    "* Change the lower limit on the y axis to zero.  \n",
    "* Add a title to the graph.  \n",
    "* Add a label to the y axis -- something like \"Public Debt (% of GDP)\".  \n",
    "* *Bonus:* Make the line for Argentina thicker than the others.  *Hints:* Do this by creating a separate line applied to the same axis object.  \n",
    "\n",
    "In each case, create a code cell that delivers the answer.  "
   ]
  },
  {
   "cell_type": "code",
   "execution_count": null,
   "metadata": {
    "collapsed": false
   },
   "outputs": [],
   "source": []
  },
  {
   "cell_type": "code",
   "execution_count": null,
   "metadata": {
    "collapsed": true
   },
   "outputs": [],
   "source": []
  },
  {
   "cell_type": "code",
   "execution_count": null,
   "metadata": {
    "collapsed": true
   },
   "outputs": [],
   "source": []
  }
 ],
 "metadata": {
  "kernelspec": {
   "display_name": "Python 3",
   "language": "python",
   "name": "python3"
  },
  "language_info": {
   "codemirror_mode": {
    "name": "ipython",
    "version": 3
   },
   "file_extension": ".py",
   "mimetype": "text/x-python",
   "name": "python",
   "nbconvert_exporter": "python",
   "pygments_lexer": "ipython3",
   "version": "3.5.1"
  }
 },
 "nbformat": 4,
 "nbformat_minor": 0
}
