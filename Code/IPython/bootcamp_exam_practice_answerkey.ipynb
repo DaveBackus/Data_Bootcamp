{
 "cells": [
  {
   "cell_type": "markdown",
   "metadata": {},
   "source": [
    "# Data Bootcamp:  Exam practice & review (answers)\n",
    "\n",
    "We review the material we've covered to date:  Python fundamentals, data input with Pandas, and graphics with Matplotlib. Questions marked *Bonus* are more difficult and are there to give the experts something to do.   \n",
    "\n",
    "This IPython notebook was created by Dave Backus, Chase Coleman, and Spencer Lyon for the NYU Stern course [Data Bootcamp](http://databootcamp.nyuecon.com/).  \n",
    "\n",
    "This version was modified by (add your name in bold here).  And add your initials to the notebook's name at the top.  "
   ]
  },
  {
   "cell_type": "markdown",
   "metadata": {},
   "source": [
    "## Preliminaries\n",
    "\n",
    "Import packages and check the date.  "
   ]
  },
  {
   "cell_type": "code",
   "execution_count": 43,
   "metadata": {
    "collapsed": false
   },
   "outputs": [
    {
     "name": "stdout",
     "output_type": "stream",
     "text": [
      "Today is 2016-03-23\n",
      "What version of Python are we running? \n",
      "3.5.1 |Anaconda 2.5.0 (64-bit)| (default, Jan 29 2016, 15:01:46) [MSC v.1900 64 bit (AMD64)]\n"
     ]
    }
   ],
   "source": [
    "# import packages \n",
    "import pandas as pd                   # data management\n",
    "import matplotlib.pyplot as plt       # graphics \n",
    "\n",
    "# IPython command, puts plots in notebook \n",
    "%matplotlib inline\n",
    "\n",
    "# check Python version \n",
    "import datetime as dt \n",
    "import sys\n",
    "print('Today is', dt.date.today())\n",
    "print('What version of Python are we running? \\n', sys.version, sep='') "
   ]
  },
  {
   "cell_type": "markdown",
   "metadata": {},
   "source": [
    "## IPython review \n",
    "\n",
    "We review some of the basics of IPython.  You won't be asked about IPython on the exam, but since the exam is an IPython notebook, it's essential for you to be able to work with one. "
   ]
  },
  {
   "cell_type": "markdown",
   "metadata": {},
   "source": [
    "**Question 1.**  \n",
    "\n",
    "1. How do you set/choose the current cell?  \n",
    "2. How do you edit the current cell?  \n",
    "3. How do you add a new cell below the current cell?  \n",
    "4. How do you specify the current cell as code or text?  \n",
    "5. How do you delete the current cell?  \n",
    "6. How do you move the current cell up or down?  \n",
    "7. How do you run the current cell?  \n",
    "8. Add your name in bold to the bottom of the first cell in this notebook.  *Bonus:* Add a link to your LinkedIn or Facebook page.  \n",
    "9. How do you save the contents of your notebook?  "
   ]
  },
  {
   "cell_type": "markdown",
   "metadata": {},
   "source": [
    "**Answers.**  Enter your answers below:  \n",
    "\n",
    "1. click on it\n",
    "2. click again\n",
    "3. click on the plus (+) at the top\n",
    "4. choose the appropriate one in the menu below Help at the top\n",
    "5. choose the cell and click on the scirrors at the top\n",
    "6. choose the cell and click on the up or down arrow at the top\n",
    "7. two ways:  click on the run cell icon at the top, or shift-enter\n",
    "8. `**name**` \n",
    "9. two ways:  File, Save and Checkpoint, or cntl-S. "
   ]
  },
  {
   "cell_type": "markdown",
   "metadata": {},
   "source": [
    "## Python fundamentals"
   ]
  },
  {
   "cell_type": "markdown",
   "metadata": {},
   "source": [
    "**Question 2.** Describe the type and content of these expressions:   \n",
    "\n",
    "1. `x = 2` \n",
    "2. `y = 3.0`\n",
    "3. `z = \"3.0\"`\n",
    "4. `x/y`\n",
    "5. `letters = 'abcd'`\n",
    "6. `letters[-1]`\n",
    "7. `xyz = [x, y, z]`\n",
    "8. `xyz[1]`\n",
    "9. `abcd = list(letters)`\n",
    "10. `abcd[-2]`\n",
    "11. `case = {'a': 'A', 'b': 'B', 'c': 'C'}` \n",
    "12. `case['c']` \n",
    "13. `2 >= 1`\n",
    "14. `x == 2` "
   ]
  },
  {
   "cell_type": "markdown",
   "metadata": {},
   "source": [
    "**Answers.** Enter your answers below:   \n",
    "\n",
    "By content and type we mean the content of the variable or expression and its type as return by the type() function.\n",
    "\n",
    "1. content 2, type int\n",
    "2. content 3.0, type float\n",
    "3. content '3.0', type str\n",
    "4. content 0.66666, type float\n",
    "5. content 'abcd', type str\n",
    "6. content 'd', type str\n",
    "7. content [x, y, z], type list\n",
    "8. content y=3.0, type float \n",
    "9. content ['a', 'b', 'c', 'd'], type list \n",
    "10. content 'c', type str\n",
    "11. content as stated, type dictionary or dict\n",
    "12. content 'C', type str\n",
    "13. content True, type bool\n",
    "14. content True, type bool"
   ]
  },
  {
   "cell_type": "code",
   "execution_count": 2,
   "metadata": {
    "collapsed": true
   },
   "outputs": [],
   "source": [
    "# code cell for experimenting \n"
   ]
  },
  {
   "cell_type": "markdown",
   "metadata": {},
   "source": [
    "**Question 3.** These get progressively more difficult:  \n",
    "\n",
    "1. What type is `dollars = '$1,234.5'`?\n",
    "2. Find and apply a method that eliminates the dollar sign from `dollars`. \n",
    "3. Find and apply a method that eliminates the comma from `dollars`. \n",
    "4. Eliminate both the dollar sign and comma from `dollars` and covert the result to a float.\n",
    "5. Combine the last three steps in one line.  \n",
    "\n",
    "In each case, create a code cell that delivers the answer. Please write the question number in a comment in each cell."
   ]
  },
  {
   "cell_type": "code",
   "execution_count": 1,
   "metadata": {
    "collapsed": false
   },
   "outputs": [
    {
     "data": {
      "text/plain": [
       "str"
      ]
     },
     "execution_count": 1,
     "metadata": {},
     "output_type": "execute_result"
    }
   ],
   "source": [
    "dollars = '$1,234.5'\n",
    "type(dollars)"
   ]
  },
  {
   "cell_type": "code",
   "execution_count": 3,
   "metadata": {
    "collapsed": false
   },
   "outputs": [
    {
     "data": {
      "text/plain": [
       "'1,234.5'"
      ]
     },
     "execution_count": 3,
     "metadata": {},
     "output_type": "execute_result"
    }
   ],
   "source": [
    "dollars = dollars.replace('$','')\n",
    "dollars"
   ]
  },
  {
   "cell_type": "code",
   "execution_count": 4,
   "metadata": {
    "collapsed": false
   },
   "outputs": [
    {
     "data": {
      "text/plain": [
       "'1234.5'"
      ]
     },
     "execution_count": 4,
     "metadata": {},
     "output_type": "execute_result"
    }
   ],
   "source": [
    "dollars = dollars.replace(',','')\n",
    "dollars"
   ]
  },
  {
   "cell_type": "code",
   "execution_count": 5,
   "metadata": {
    "collapsed": false
   },
   "outputs": [
    {
     "data": {
      "text/plain": [
       "1234.5"
      ]
     },
     "execution_count": 5,
     "metadata": {},
     "output_type": "execute_result"
    }
   ],
   "source": [
    "dollars = float(dollars)\n",
    "dollars"
   ]
  },
  {
   "cell_type": "code",
   "execution_count": 7,
   "metadata": {
    "collapsed": false
   },
   "outputs": [
    {
     "data": {
      "text/plain": [
       "1234.5"
      ]
     },
     "execution_count": 7,
     "metadata": {},
     "output_type": "execute_result"
    }
   ],
   "source": [
    "# we can glue the pieces together \n",
    "dollars = '$1,234.5'\n",
    "dollars = float(dollars.replace('$','').replace(',',''))\n",
    "dollars"
   ]
  },
  {
   "cell_type": "code",
   "execution_count": null,
   "metadata": {
    "collapsed": true
   },
   "outputs": [],
   "source": []
  },
  {
   "cell_type": "markdown",
   "metadata": {},
   "source": [
    "**Question 4.** \n",
    "\n",
    "For this problem we set `letters = 'abcd'` as in problem 2.  \n",
    "\n",
    "1. Find and apply a method that converts the lower case letter `'a'` to the upper case letter `'A'`.  \n",
    "2. Write a loop that goes through the elements of `letters` and prints their upper case versions.\n",
    "3. *Bonus:* Write a loop that goes through the elements of `letters`.  On each interation, print a string consisting of the upper and lower case versions together; eg, `'Aa'`.  \n",
    "\n",
    "In each case, create a code cell that delivers the answer. Please write the question number in a comment in each cell."
   ]
  },
  {
   "cell_type": "code",
   "execution_count": 9,
   "metadata": {
    "collapsed": false
   },
   "outputs": [
    {
     "data": {
      "text/plain": [
       "'A'"
      ]
     },
     "execution_count": 9,
     "metadata": {},
     "output_type": "execute_result"
    }
   ],
   "source": [
    "'a'.upper()"
   ]
  },
  {
   "cell_type": "code",
   "execution_count": 10,
   "metadata": {
    "collapsed": false
   },
   "outputs": [
    {
     "name": "stdout",
     "output_type": "stream",
     "text": [
      "A\n",
      "B\n",
      "C\n",
      "D\n"
     ]
    }
   ],
   "source": [
    "letters = 'abcd'\n",
    "for letter in letters:\n",
    "    print(letter.upper())"
   ]
  },
  {
   "cell_type": "code",
   "execution_count": 11,
   "metadata": {
    "collapsed": false
   },
   "outputs": [
    {
     "name": "stdout",
     "output_type": "stream",
     "text": [
      "Aa\n",
      "Bb\n",
      "Cc\n",
      "Dd\n"
     ]
    }
   ],
   "source": [
    "letters = 'abcd'\n",
    "for letter in letters:\n",
    "    print(letter.upper()+letter)"
   ]
  },
  {
   "cell_type": "markdown",
   "metadata": {},
   "source": [
    "**Question 5.**\n",
    "\n",
    "For this problem `xyz` is the same as defined in problem 2\n",
    "\n",
    "1. Write a loop that goes through the elements of `xyz` and prints them.\n",
    "2. Modify the loop to print both the elements of `xyz` and their type.  \n",
    "3. Modify the loop to print only those elements that are not strings. \n",
    "\n",
    "In each case, create a code cell that delivers the answer. Please write the question number in a comment in each cell. "
   ]
  },
  {
   "cell_type": "code",
   "execution_count": 12,
   "metadata": {
    "collapsed": false
   },
   "outputs": [
    {
     "name": "stdout",
     "output_type": "stream",
     "text": [
      "2\n",
      "3.0\n",
      "0.6666666666666666\n"
     ]
    }
   ],
   "source": [
    "xyz = [2, 3.0, 2/3.0]\n",
    "\n",
    "for item in xyz:\n",
    "    print(item)"
   ]
  },
  {
   "cell_type": "code",
   "execution_count": 13,
   "metadata": {
    "collapsed": false
   },
   "outputs": [
    {
     "name": "stdout",
     "output_type": "stream",
     "text": [
      "2 <class 'int'>\n",
      "3.0 <class 'float'>\n",
      "0.6666666666666666 <class 'float'>\n"
     ]
    }
   ],
   "source": [
    "for item in xyz:\n",
    "    print(item, type(item))"
   ]
  },
  {
   "cell_type": "code",
   "execution_count": 14,
   "metadata": {
    "collapsed": false
   },
   "outputs": [
    {
     "name": "stdout",
     "output_type": "stream",
     "text": [
      "2 <class 'int'>\n",
      "3.0 <class 'float'>\n",
      "0.6666666666666666 <class 'float'>\n"
     ]
    }
   ],
   "source": [
    "for item in xyz:\n",
    "    if type(item) != str:\n",
    "        print(item, type(item))"
   ]
  },
  {
   "cell_type": "code",
   "execution_count": null,
   "metadata": {
    "collapsed": true
   },
   "outputs": [],
   "source": []
  },
  {
   "cell_type": "markdown",
   "metadata": {},
   "source": [
    "## Data input with Pandas \n",
    "\n",
    "We explore the public indebtedness of Argentina (country code ARG), Germany (DEU), and Greece (GRC).  For each one, we provide the ratio of government debt to GDP for every second year starting in 2002.  The data come from the IMF's World Economic Outlook."
   ]
  },
  {
   "cell_type": "markdown",
   "metadata": {},
   "source": [
    "**Question 6.** Write code in the cell below that reads the csv file we posted at\n",
    "\n",
    "http://pages.stern.nyu.edu/~dbackus/Data/debt.csv \n",
    "\n",
    "Assign the contents of the file to the object `debt`.  \n",
    "\n",
    "The rest of the questions in this notebook will refer to the object `debt` you create below."
   ]
  },
  {
   "cell_type": "code",
   "execution_count": 19,
   "metadata": {
    "collapsed": false
   },
   "outputs": [
    {
     "data": {
      "text/html": [
       "<div>\n",
       "<table border=\"1\" class=\"dataframe\">\n",
       "  <thead>\n",
       "    <tr style=\"text-align: right;\">\n",
       "      <th></th>\n",
       "      <th>ARG</th>\n",
       "      <th>DEU</th>\n",
       "      <th>GRC</th>\n",
       "      <th>Year</th>\n",
       "    </tr>\n",
       "  </thead>\n",
       "  <tbody>\n",
       "    <tr>\n",
       "      <th>4</th>\n",
       "      <td>39.1</td>\n",
       "      <td>80.3</td>\n",
       "      <td>145.7</td>\n",
       "      <td>2010</td>\n",
       "    </tr>\n",
       "    <tr>\n",
       "      <th>5</th>\n",
       "      <td>37.3</td>\n",
       "      <td>79.0</td>\n",
       "      <td>156.5</td>\n",
       "      <td>2012</td>\n",
       "    </tr>\n",
       "    <tr>\n",
       "      <th>6</th>\n",
       "      <td>48.6</td>\n",
       "      <td>73.1</td>\n",
       "      <td>177.2</td>\n",
       "      <td>2014</td>\n",
       "    </tr>\n",
       "  </tbody>\n",
       "</table>\n",
       "</div>"
      ],
      "text/plain": [
       "    ARG   DEU    GRC  Year\n",
       "4  39.1  80.3  145.7  2010\n",
       "5  37.3  79.0  156.5  2012\n",
       "6  48.6  73.1  177.2  2014"
      ]
     },
     "execution_count": 19,
     "metadata": {},
     "output_type": "execute_result"
    }
   ],
   "source": [
    "url = 'http://pages.stern.nyu.edu/~dbackus/Data/debt.csv'\n",
    "debt = pd.read_csv(url)\n",
    "debt.tail(3)"
   ]
  },
  {
   "cell_type": "code",
   "execution_count": 44,
   "metadata": {
    "collapsed": false
   },
   "outputs": [],
   "source": [
    "# if that failed, you can generate the same data with   \n",
    "data = {'ARG': [137.5, 106.0, 61.8, 47.0, 39.1, 37.3, 48.6], \n",
    "        'DEU': [59.2, 64.6, 66.3, 64.9, 80.3, 79.0, 73.1],   \n",
    "        'GRC': [98.1, 94.9, 102.9, 108.8, 145.7, 156.5, 177.2],\n",
    "        'Year': [2002, 2004, 2006, 2008, 2010, 2012, 2014]}  \n",
    "debt = pd.DataFrame(data)"
   ]
  },
  {
   "cell_type": "markdown",
   "metadata": {},
   "source": [
    "**Question 7.** Let's describe the object `debt`:   \n",
    "\n",
    "1. What type of object is `debt`?\n",
    "2. What are its dimensions?\n",
    "3. What are its column labels?  Row labels?\n",
    "4. What dtypes are the columns?   \n",
    "\n",
    "In each case, create a code cell that delivers the answer. Please write the question number in a comment in each cell."
   ]
  },
  {
   "cell_type": "code",
   "execution_count": 47,
   "metadata": {
    "collapsed": false
   },
   "outputs": [
    {
     "data": {
      "text/plain": [
       "pandas.core.frame.DataFrame"
      ]
     },
     "execution_count": 47,
     "metadata": {},
     "output_type": "execute_result"
    }
   ],
   "source": [
    "type(debt)"
   ]
  },
  {
   "cell_type": "code",
   "execution_count": 48,
   "metadata": {
    "collapsed": false
   },
   "outputs": [
    {
     "data": {
      "text/plain": [
       "(7, 3)"
      ]
     },
     "execution_count": 48,
     "metadata": {},
     "output_type": "execute_result"
    }
   ],
   "source": [
    "debt.shape"
   ]
  },
  {
   "cell_type": "code",
   "execution_count": 49,
   "metadata": {
    "collapsed": false
   },
   "outputs": [
    {
     "data": {
      "text/plain": [
       "Index(['ARG', 'DEU', 'GRC'], dtype='object')"
      ]
     },
     "execution_count": 49,
     "metadata": {},
     "output_type": "execute_result"
    }
   ],
   "source": [
    "debt.columns"
   ]
  },
  {
   "cell_type": "code",
   "execution_count": 50,
   "metadata": {
    "collapsed": false
   },
   "outputs": [
    {
     "data": {
      "text/plain": [
       "Int64Index([2002, 2004, 2006, 2008, 2010, 2012, 2014], dtype='int64', name='Year')"
      ]
     },
     "execution_count": 50,
     "metadata": {},
     "output_type": "execute_result"
    }
   ],
   "source": [
    "debt.index"
   ]
  },
  {
   "cell_type": "code",
   "execution_count": 51,
   "metadata": {
    "collapsed": false
   },
   "outputs": [
    {
     "data": {
      "text/plain": [
       "ARG    float64\n",
       "DEU    float64\n",
       "GRC    float64\n",
       "dtype: object"
      ]
     },
     "execution_count": 51,
     "metadata": {},
     "output_type": "execute_result"
    }
   ],
   "source": [
    "debt.dtypes"
   ]
  },
  {
   "cell_type": "code",
   "execution_count": null,
   "metadata": {
    "collapsed": true
   },
   "outputs": [],
   "source": []
  },
  {
   "cell_type": "markdown",
   "metadata": {},
   "source": [
    "**Question 8.** Do the following with `debt`:  \n",
    "\n",
    "1. Set `Year` as the index.  \n",
    "2. Change the column labels from country codes to country names. Do this using both a dictionary and a list.\n",
    "3. Print the result to verify your changes.  \n",
    "\n",
    "The next three get progressively more difficult:  \n",
    "\n",
    "4. Compute the mean (average) debt for each country.\n",
    "5. *Bonus:* Compute the mean debt for each year.\n",
    "6. *Bonus:* Compute the mean debt over both countries and years.  \n",
    "\n",
    "Some simple plots:   \n",
    "\n",
    "7. Plot each country's debt against `Year` using a `plot` method.  \n",
    "8. Change the linewidth to 2.  \n",
    "\n",
    "In each case, create a code cell that delivers the answer. Please write the question number in a comment in each cell."
   ]
  },
  {
   "cell_type": "code",
   "execution_count": null,
   "metadata": {
    "collapsed": true
   },
   "outputs": [],
   "source": [
    "debt = debt.set_index('Year')"
   ]
  },
  {
   "cell_type": "code",
   "execution_count": 52,
   "metadata": {
    "collapsed": false
   },
   "outputs": [
    {
     "data": {
      "text/html": [
       "<div>\n",
       "<table border=\"1\" class=\"dataframe\">\n",
       "  <thead>\n",
       "    <tr style=\"text-align: right;\">\n",
       "      <th></th>\n",
       "      <th>Argentina</th>\n",
       "      <th>Germany</th>\n",
       "      <th>Greece</th>\n",
       "    </tr>\n",
       "    <tr>\n",
       "      <th>Year</th>\n",
       "      <th></th>\n",
       "      <th></th>\n",
       "      <th></th>\n",
       "    </tr>\n",
       "  </thead>\n",
       "  <tbody>\n",
       "    <tr>\n",
       "      <th>2002</th>\n",
       "      <td>137.5</td>\n",
       "      <td>59.2</td>\n",
       "      <td>98.1</td>\n",
       "    </tr>\n",
       "    <tr>\n",
       "      <th>2004</th>\n",
       "      <td>106.0</td>\n",
       "      <td>64.6</td>\n",
       "      <td>94.9</td>\n",
       "    </tr>\n",
       "    <tr>\n",
       "      <th>2006</th>\n",
       "      <td>61.8</td>\n",
       "      <td>66.3</td>\n",
       "      <td>102.9</td>\n",
       "    </tr>\n",
       "    <tr>\n",
       "      <th>2008</th>\n",
       "      <td>47.0</td>\n",
       "      <td>64.9</td>\n",
       "      <td>108.8</td>\n",
       "    </tr>\n",
       "    <tr>\n",
       "      <th>2010</th>\n",
       "      <td>39.1</td>\n",
       "      <td>80.3</td>\n",
       "      <td>145.7</td>\n",
       "    </tr>\n",
       "    <tr>\n",
       "      <th>2012</th>\n",
       "      <td>37.3</td>\n",
       "      <td>79.0</td>\n",
       "      <td>156.5</td>\n",
       "    </tr>\n",
       "    <tr>\n",
       "      <th>2014</th>\n",
       "      <td>48.6</td>\n",
       "      <td>73.1</td>\n",
       "      <td>177.2</td>\n",
       "    </tr>\n",
       "  </tbody>\n",
       "</table>\n",
       "</div>"
      ],
      "text/plain": [
       "      Argentina  Germany  Greece\n",
       "Year                            \n",
       "2002      137.5     59.2    98.1\n",
       "2004      106.0     64.6    94.9\n",
       "2006       61.8     66.3   102.9\n",
       "2008       47.0     64.9   108.8\n",
       "2010       39.1     80.3   145.7\n",
       "2012       37.3     79.0   156.5\n",
       "2014       48.6     73.1   177.2"
      ]
     },
     "execution_count": 52,
     "metadata": {},
     "output_type": "execute_result"
    }
   ],
   "source": [
    "rn = {\"ARG\": \"Argentina\", \"DEU\": \"Germany\", \"GRC\": \"Greece\"}\n",
    "debt.rename(columns=rn)"
   ]
  },
  {
   "cell_type": "code",
   "execution_count": 53,
   "metadata": {
    "collapsed": false
   },
   "outputs": [
    {
     "data": {
      "text/html": [
       "<div>\n",
       "<table border=\"1\" class=\"dataframe\">\n",
       "  <thead>\n",
       "    <tr style=\"text-align: right;\">\n",
       "      <th></th>\n",
       "      <th>Argentina</th>\n",
       "      <th>Germany</th>\n",
       "      <th>Greece</th>\n",
       "    </tr>\n",
       "    <tr>\n",
       "      <th>Year</th>\n",
       "      <th></th>\n",
       "      <th></th>\n",
       "      <th></th>\n",
       "    </tr>\n",
       "  </thead>\n",
       "  <tbody>\n",
       "    <tr>\n",
       "      <th>2002</th>\n",
       "      <td>137.5</td>\n",
       "      <td>59.2</td>\n",
       "      <td>98.1</td>\n",
       "    </tr>\n",
       "    <tr>\n",
       "      <th>2004</th>\n",
       "      <td>106.0</td>\n",
       "      <td>64.6</td>\n",
       "      <td>94.9</td>\n",
       "    </tr>\n",
       "    <tr>\n",
       "      <th>2006</th>\n",
       "      <td>61.8</td>\n",
       "      <td>66.3</td>\n",
       "      <td>102.9</td>\n",
       "    </tr>\n",
       "    <tr>\n",
       "      <th>2008</th>\n",
       "      <td>47.0</td>\n",
       "      <td>64.9</td>\n",
       "      <td>108.8</td>\n",
       "    </tr>\n",
       "    <tr>\n",
       "      <th>2010</th>\n",
       "      <td>39.1</td>\n",
       "      <td>80.3</td>\n",
       "      <td>145.7</td>\n",
       "    </tr>\n",
       "    <tr>\n",
       "      <th>2012</th>\n",
       "      <td>37.3</td>\n",
       "      <td>79.0</td>\n",
       "      <td>156.5</td>\n",
       "    </tr>\n",
       "    <tr>\n",
       "      <th>2014</th>\n",
       "      <td>48.6</td>\n",
       "      <td>73.1</td>\n",
       "      <td>177.2</td>\n",
       "    </tr>\n",
       "  </tbody>\n",
       "</table>\n",
       "</div>"
      ],
      "text/plain": [
       "      Argentina  Germany  Greece\n",
       "Year                            \n",
       "2002      137.5     59.2    98.1\n",
       "2004      106.0     64.6    94.9\n",
       "2006       61.8     66.3   102.9\n",
       "2008       47.0     64.9   108.8\n",
       "2010       39.1     80.3   145.7\n",
       "2012       37.3     79.0   156.5\n",
       "2014       48.6     73.1   177.2"
      ]
     },
     "execution_count": 53,
     "metadata": {},
     "output_type": "execute_result"
    }
   ],
   "source": [
    "debt.columns = ['Argentina', 'Germany', 'Greece']\n",
    "debt"
   ]
  },
  {
   "cell_type": "code",
   "execution_count": 54,
   "metadata": {
    "collapsed": false
   },
   "outputs": [
    {
     "data": {
      "text/plain": [
       "Argentina     68.185714\n",
       "Germany       69.628571\n",
       "Greece       126.300000\n",
       "dtype: float64"
      ]
     },
     "execution_count": 54,
     "metadata": {},
     "output_type": "execute_result"
    }
   ],
   "source": [
    "debt.mean()"
   ]
  },
  {
   "cell_type": "code",
   "execution_count": 55,
   "metadata": {
    "collapsed": false
   },
   "outputs": [
    {
     "data": {
      "text/plain": [
       "Year\n",
       "2002    98.266667\n",
       "2004    88.500000\n",
       "2006    77.000000\n",
       "2008    73.566667\n",
       "2010    88.366667\n",
       "2012    90.933333\n",
       "2014    99.633333\n",
       "dtype: float64"
      ]
     },
     "execution_count": 55,
     "metadata": {},
     "output_type": "execute_result"
    }
   ],
   "source": [
    "debt.mean(axis=1)"
   ]
  },
  {
   "cell_type": "code",
   "execution_count": 56,
   "metadata": {
    "collapsed": false
   },
   "outputs": [
    {
     "data": {
      "text/plain": [
       "88.03809523809524"
      ]
     },
     "execution_count": 56,
     "metadata": {},
     "output_type": "execute_result"
    }
   ],
   "source": [
    "debt.mean().mean()"
   ]
  },
  {
   "cell_type": "code",
   "execution_count": null,
   "metadata": {
    "collapsed": true
   },
   "outputs": [],
   "source": []
  },
  {
   "cell_type": "markdown",
   "metadata": {},
   "source": [
    "## Python graphics with Matplotlib\n",
    "\n",
    "We'll continue to use the data in `debt`.  **Make sure the index is the year.**  "
   ]
  },
  {
   "cell_type": "markdown",
   "metadata": {},
   "source": [
    "**Question 9.** \n",
    "\n",
    "1. Create figure and axis objects with `plt.subplots()`.   \n",
    "2. Graph public indebtedness over time using our `debt` data and the axis object we just created.  \n",
    "3. Change the line width to 2.\n",
    "4. Change the colors to `['red', 'green', 'blue']`.  \n",
    "5. Change the lower limit on the y axis to zero.  \n",
    "6. Add a title to the graph.  \n",
    "7. Add a label to the y axis -- something like \"Public Debt (% of GDP)\".  \n",
    "8. *Bonus:* Make the line for Argentina thicker than the others.  *Hint:* Do this by `plot`ting a separate line applied to the same axis object.  \n",
    "\n",
    "In each case, create a code cell that delivers the answer. Please write the question number in a comment in each cell."
   ]
  },
  {
   "cell_type": "code",
   "execution_count": 60,
   "metadata": {
    "collapsed": false
   },
   "outputs": [
    {
     "data": {
      "text/plain": [
       "<matplotlib.axes._subplots.AxesSubplot at 0xaaf70b8>"
      ]
     },
     "execution_count": 60,
     "metadata": {},
     "output_type": "execute_result"
    },
    {
     "data": {
      "image/png": "[encoded data removed]",
      "text/plain": [
       "<matplotlib.figure.Figure at 0xaaf10f0>"
      ]
     },
     "metadata": {},
     "output_type": "display_data"
    }
   ],
   "source": [
    "fig, ax = plt.subplots()\n",
    "debt.plot(ax=ax, \n",
    "         linewidth=2, \n",
    "         color=['red', 'green', 'blue'])\n",
    "ax.set_ylim(0)\n",
    "ax.set_title('Public debt')\n",
    "ax.set_ylabel('Public Debt (% of GDP)')\n",
    "debt['Argentina'].plot(ax=ax, linewidth=4, color='red')"
   ]
  },
  {
   "cell_type": "code",
   "execution_count": null,
   "metadata": {
    "collapsed": true
   },
   "outputs": [],
   "source": []
  },
  {
   "cell_type": "markdown",
   "metadata": {},
   "source": [
    "## Optional challenging questions\n",
    "\n",
    "Good practice, but more than you'll see on the exam.  "
   ]
  },
  {
   "cell_type": "markdown",
   "metadata": {},
   "source": [
    "**Question 10.**  In the figure of the previous question:  \n",
    "\n",
    "1. Add a title, 14-point font, right-justified.  \n",
    "2. Put the legend in the lower left corner. \n",
    "3. Change the line style to dashed.  (This will take some Googling, or a good guess.)\n",
    "4. Eliminate the top and right \"spines,\" the lines that outline the figure. [This doesn't make sense with the 538 style, which eliminates all the spines.] \n",
    "5. Save the figure as a pdf file. \n",
    "6. Change the style to 538."
   ]
  },
  {
   "cell_type": "code",
   "execution_count": 72,
   "metadata": {
    "collapsed": false
   },
   "outputs": [
    {
     "data": {
      "image/png": "[encoded data removed]",
      "text/plain": [
       "<matplotlib.figure.Figure at 0xb06df98>"
      ]
     },
     "metadata": {},
     "output_type": "display_data"
    }
   ],
   "source": [
    "plt.style.use('fivethirtyeight')\n",
    "fig, ax = plt.subplots()\n",
    "debt.plot(ax=ax, \n",
    "         linewidth=2, \n",
    "        linestyle='dashed',\n",
    "         color=['red', 'green', 'blue'])\n",
    "ax.set_title('Public debt', fontsize=14, loc='right')\n",
    "ax.set_ylabel('Public Debt (% of GDP)')\n",
    "ax.legend(loc='lower left')\n",
    "fig.savefig('debt.pdf')"
   ]
  },
  {
   "cell_type": "code",
   "execution_count": null,
   "metadata": {
    "collapsed": true
   },
   "outputs": [],
   "source": []
  },
  {
   "cell_type": "markdown",
   "metadata": {},
   "source": [
    "**Question 11.**  We ran across this one in the OECD healthcare data.  The country names had numbers appended, which served as footnotes in the original spreadsheet but looked dumb when we used them as index labels.  The question is how to eliminate them.  A short version of the country names is \n",
    "\n",
    "`names = ['Australia 1', 'Canada 2', 'Chile 3', 'United States 1']`\n",
    "\n",
    "Do each of these in a separate code cell:  \n",
    "\n",
    "1. Apply the `rsplit()` method to `us = names[-1]`.  What do you get?\n",
    "2. Consult the documentation for `rsplit` to split `us` into two pieces, the country name and the number 1.  How would you extract just the country name?\n",
    "3. Use a loop to strip the numbers from all of the elements of `names`.\n",
    "4. Use a list comprehension to strip the numbers from all of the elements of `names`. \n",
    "\n",
    "*Hints.* `rsplit` means split from the right.  One input is the number of splits.  \n"
   ]
  },
  {
   "cell_type": "code",
   "execution_count": 74,
   "metadata": {
    "collapsed": true
   },
   "outputs": [],
   "source": [
    "names = ['Australia 1', 'Canada 2', 'Chile 3', 'United States 1']"
   ]
  },
  {
   "cell_type": "code",
   "execution_count": 75,
   "metadata": {
    "collapsed": false
   },
   "outputs": [
    {
     "data": {
      "text/plain": [
       "['United', 'States', '1']"
      ]
     },
     "execution_count": 75,
     "metadata": {},
     "output_type": "execute_result"
    }
   ],
   "source": [
    "names[-1].rsplit()"
   ]
  },
  {
   "cell_type": "code",
   "execution_count": 80,
   "metadata": {
    "collapsed": false
   },
   "outputs": [
    {
     "data": {
      "text/plain": [
       "['United States', '1']"
      ]
     },
     "execution_count": 80,
     "metadata": {},
     "output_type": "execute_result"
    }
   ],
   "source": [
    "names[-1].rsplit(maxsplit=1)"
   ]
  },
  {
   "cell_type": "code",
   "execution_count": 85,
   "metadata": {
    "collapsed": false
   },
   "outputs": [
    {
     "name": "stdout",
     "output_type": "stream",
     "text": [
      "['Australia', 'Canada', 'Chile', 'United States']\n"
     ]
    }
   ],
   "source": [
    "# apologies, this is harder than we thought\n",
    "for n in range(len(names)):\n",
    "    item = names[n]\n",
    "    names[n] = item.rsplit(maxsplit=1)[0]\n",
    "    \n",
    "print(names)    "
   ]
  },
  {
   "cell_type": "code",
   "execution_count": 87,
   "metadata": {
    "collapsed": false
   },
   "outputs": [
    {
     "data": {
      "text/plain": [
       "['Australia', 'Canada', 'Chile', 'United States']"
      ]
     },
     "execution_count": 87,
     "metadata": {},
     "output_type": "execute_result"
    }
   ],
   "source": [
    "# this one's easier \n",
    "names = ['Australia 1', 'Canada 2', 'Chile 3', 'United States 1']\n",
    "[item.rsplit(maxsplit=1)[0] for item in names] "
   ]
  },
  {
   "cell_type": "code",
   "execution_count": null,
   "metadata": {
    "collapsed": true
   },
   "outputs": [],
   "source": []
  }
 ],
 "metadata": {
  "kernelspec": {
   "display_name": "Python 3",
   "language": "python",
   "name": "python3"
  },
  "language_info": {
   "codemirror_mode": {
    "name": "ipython",
    "version": 3
   },
   "file_extension": ".py",
   "mimetype": "text/x-python",
   "name": "python",
   "nbconvert_exporter": "python",
   "pygments_lexer": "ipython3",
   "version": "3.5.1"
  }
 },
 "nbformat": 4,
 "nbformat_minor": 0
}
