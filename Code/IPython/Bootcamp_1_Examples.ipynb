{
 "cells": [
  {
   "cell_type": "markdown",
   "metadata": {},
   "source": [
    "## Data Bootcamp 1:  Examples\n",
    "### Python applied to economic and financial data\n",
    "\n",
    "This is an introduction to Data Bootcamp, a (prospective) course at NYU designed to give students some familiarity with (i) Python and (ii) economic and financial data.  A more complete collection of materials, including this IPython Notebook, is available in our [Github repository](https://github.com/DaveBackus/Data_Bootcamp). (And yes, Python and IPython are different things, but ignore that for now.) \n",
    "\n",
    "In this Notebook we illustrate some of the possibilities with examples.  The code will be obscure if you're new to Python, but we will fill in the gaps over time.  In the meantime, you might note for future reference things you run across that you'd like to understand better.  We think it's best to take this one step at a time, but if you're interested in the logic behind the code, we give links to relevant documentation under \"References.\"  The occasional \"Comments\" are things for us to follow up on, we suggest you ignore them.    \n",
    "\n",
    "* Recent US GDP growth (data from FRED)\n",
    "* GDP per capita in selected countries (data from the World Bank)\n",
    "* Fama-French equity \"factors\" (data from Ken French's website)\n",
    "* S&P 500 ETF (Spyders) (data from Yahoo finance)\n",
    "* read a csv??\n",
    "\n",
    "**Warnings**\n",
    "\n",
    "* This program requires internet access, that's where the data comes from.  \n",
    "* It's also work in progress, the eta for the course is Fall 2015.  "
   ]
  },
  {
   "cell_type": "code",
   "execution_count": 20,
   "metadata": {
    "collapsed": true
   },
   "outputs": [],
   "source": [
    "x = [7, 3, 5]"
   ]
  },
  {
   "cell_type": "code",
   "execution_count": 23,
   "metadata": {
    "collapsed": false
   },
   "outputs": [],
   "source": [
    "x.pop?"
   ]
  },
  {
   "cell_type": "markdown",
   "metadata": {},
   "source": [
    "### Example 1: US GDP Growth\n",
    "\n",
    "Investors -- and others -- keep a close eye on the state of the economy because it affects the performance of firms and financial assets. We'll go into this more extensively later, but for now we want to see what the economy has done in the past, especially the recent past.  We use the wonderful FRED interface (\"API\") and load the data straight from their website.  Then we graph GDP growth over the past 50 years or so and for a more recent period of greater interest.  \n",
    "\n",
    "This strategy -- find the data on the web, load it, and produce a graph -- is a model for much of what we do.  \n",
    "\n",
    "**Question(s).** \n",
    "It's always good to know what you're looking for so we'll post question(s) for each example.  Here we \n",
    "ask how the economy is doing, and how its current performance compares to the past.\n",
    "\n",
    "References\n",
    "\n",
    "* FRED: http://research.stlouisfed.org/fred2/\n",
    "* Pandas: http://pandas.pydata.org/pandas-docs/stable/\n",
    "* Data access: http://pandas.pydata.org/pandas-docs/stable/remote_data.html#fred\n",
    "* Inline plots:  http://stackoverflow.com/questions/21176731/automatically-run-matplotlib-inline-in-ipython-notebook \n",
    "\n",
    "*Note to self:* \n",
    "The FRED API allows you to import transformations like growth rates directly. Is that possible with Pandas? \n",
    "\n",
    "---"
   ]
  },
  {
   "cell_type": "code",
   "execution_count": 1,
   "metadata": {
    "collapsed": false
   },
   "outputs": [],
   "source": [
    "# anything after the hashtag is a comment \n",
    "# load packages \n",
    "import datetime as dt \n",
    "import pandas.io.data as web       # data import tools \n",
    "import matplotlib.pyplot as plt    # plotting tools \n",
    "\n",
    "# The next one is an IPython command:  it says to put plots here in the notebook, rather than open a separate window.\n",
    "%matplotlib inline"
   ]
  },
  {
   "cell_type": "code",
   "execution_count": 2,
   "metadata": {
    "collapsed": false
   },
   "outputs": [
    {
     "name": "stdout",
     "output_type": "stream",
     "text": [
      "              GDPC1\n",
      "DATE               \n",
      "2014-04-01  16010.4\n",
      "2014-07-01  16205.6\n",
      "2014-10-01  16294.7\n"
     ]
    }
   ],
   "source": [
    "# get data from FRED\n",
    "fred_series = [\"GDPC1\"]\n",
    "start_date = dt.datetime(1960, 1, 1)\n",
    "data = web.DataReader(fred_series, \"fred\", start_date)\n",
    "\n",
    "# print last 3 data points to see what we've got \n",
    "print(data.tail(3))                  "
   ]
  },
  {
   "cell_type": "code",
   "execution_count": 3,
   "metadata": {
    "collapsed": false
   },
   "outputs": [],
   "source": [
    "# compute annual growth rates \n",
    "g = 4*data.pct_change()\n",
    "\n",
    "# change label   \n",
    "g.columns = ['US GDP Growth']"
   ]
  },
  {
   "cell_type": "markdown",
   "metadata": {},
   "source": [
    "The variable g (quarterly GDP growth expressed as an annual rate) is now what Python calls a DataFrame, which is a collection of data organized by variable and observation.  You can get some of its properties by typing some or all of the following in the box below:\n",
    "\n",
    "* type(g)\n",
    "* g.tail()\n",
    "* g.head(2)\n",
    "\n",
    "You can get information about g and what we can do with it by typing:  g.[tab]. (Don't type the second period!) That will pop up a list you can scroll through.  Typically it's a long list, so it takes some experience to know what to do with it.  \n",
    "\n",
    "You can also get information about things you can do with g by typing commands with an open paren:  g.command( and wait.  That will give you the arguments of the command.  g.head and g.tail, for example, have an argument n which is the number of observations to print.  head prints the top of the DataFrame, tail prints the bottom.  If you leave it blank, it prints 5.  "
   ]
  },
  {
   "cell_type": "code",
   "execution_count": 4,
   "metadata": {
    "collapsed": false
   },
   "outputs": [],
   "source": [
    "# enter your commands here\n"
   ]
  },
  {
   "cell_type": "code",
   "execution_count": 5,
   "metadata": {
    "collapsed": false
   },
   "outputs": [
    {
     "name": "stdout",
     "output_type": "stream",
     "text": [
      "['Mean GDP growth ', US GDP Growth    0.030429\n",
      "dtype: float64]\n",
      "['Std deviation ', US GDP Growth    0.03383\n",
      "dtype: float64]\n"
     ]
    }
   ],
   "source": [
    "# more examples:  some statistics on GDP growth  \n",
    "print(['Mean GDP growth ', g.mean()])\n",
    "print(['Std deviation ', g.std()])\n",
    "\n",
    "# do this for subperiods... "
   ]
  },
  {
   "cell_type": "code",
   "execution_count": 6,
   "metadata": {
    "collapsed": false
   },
   "outputs": [
    {
     "data": {
      "image/png": "[encoded data removed]",
      "text/plain": [
       "<matplotlib.figure.Figure at 0x8562748>"
      ]
     },
     "metadata": {},
     "output_type": "display_data"
    }
   ],
   "source": [
    "# quick and dirty plot \n",
    "# note the financial crisis:  GDP fell 8% one quarter (at an annual rate, so really 2%)\n",
    "g.plot() \n",
    "plt.show() "
   ]
  },
  {
   "cell_type": "code",
   "execution_count": 7,
   "metadata": {
    "collapsed": false
   },
   "outputs": [],
   "source": [
    "# more complex plot, bar chart for last 6 quarters\n",
    "# also:  add moving average?  "
   ]
  },
  {
   "cell_type": "markdown",
   "metadata": {},
   "source": [
    "---\n",
    "\n",
    "### Example 2: Fama-French equity \"factors\"\n",
    "\n",
    "Gene Fama and Ken French are two of the leading academics studying (primarily) equity returns.  Some of this work is summarized in the [press release](http://www.nobelprize.org/nobel_prizes/economic-sciences/laureates/2013/press.html) and related material for the 2013 Nobel Prize in economics, which was shared by Fama with Lars Hansen and Robert Shiller.  For now, it's enough to say that Ken French posts an extensive collection of equity data on his website.  \n",
    "\n",
    "We'll look at what have come to be called the Fama-French factors.  The data includes:\n",
    "\n",
    "* xsm:  the return on the market (aggregate equity) minus the riskfree rate\n",
    "* smb (small minus big):  the return on small firms minus the return on big firms \n",
    "* hml (high minus low):  the return on firms with high book-to-market ratios minus those with low ratios. \n",
    "* rf:  the riskfree rate.\n",
    "\n",
    "We download all of these at once, monthly from 1926.  Each is reported as a percentage.\n",
    "Since they're monthly, you can get a rough annual number if you multiply by 12. \n",
    "\n",
    "**Question(s).** \n",
    "The question we address is how the returns compare:  their means, their variability, and so on.  \n",
    "[Ask yourself:  how would I answer this?  What would I like to do with the data?]\n",
    "\n",
    "References\n",
    "\n",
    "* http://mba.tuck.dartmouth.edu/pages/faculty/ken.french/data_library.html\n",
    "* http://quant-econ.net/pandas.html\n",
    "* http://pandas.pydata.org/pandas-docs/dev/remote_data.html#fama-french\n",
    "* http://pandas.pydata.org/pandas-docs/stable/10min.html#selection \n",
    "* http://matplotlib.org/api/pyplot_api.html#matplotlib.pyplot.boxplot\n",
    "* http://pandas.pydata.org/pandas-docs/dev/generated/pandas.DataFrame.hist.html \n",
    "\n",
    "---"
   ]
  },
  {
   "cell_type": "code",
   "execution_count": 8,
   "metadata": {
    "collapsed": false
   },
   "outputs": [
    {
     "name": "stdout",
     "output_type": "stream",
     "text": [
      "         xsm   smb   hml    rf\n",
      "192607  2.96 -2.30 -2.87  0.22\n",
      "192608  2.64 -1.40  4.19  0.25\n",
      "192609  0.36 -1.32  0.01  0.23\n",
      "               xsm          smb          hml           rf\n",
      "count  1065.000000  1065.000000  1065.000000  1065.000000\n",
      "mean      0.653878     0.221850     0.389840     0.283099\n",
      "std       5.400974     3.221139     3.534641     0.254418\n",
      "min     -29.130000   -16.400000   -13.280000    -0.060000\n",
      "25%      -2.020000    -1.560000    -1.290000     0.050000\n",
      "50%       1.020000     0.060000     0.230000     0.250000\n",
      "75%       3.660000     1.780000     1.740000     0.430000\n",
      "max      38.850000    36.700000    35.460000     1.350000\n"
     ]
    }
   ],
   "source": [
    "# load packages (if it's redundant it'll be ignored)\n",
    "import pandas.io.data as web      \n",
    "\n",
    "# read data from Ken French's website \n",
    "ff = web.DataReader('F-F_Research_Data_Factors', 'famafrench')[0] \n",
    "# NB:  ff.xs is a conflict, rename to xsm  \n",
    "ff.columns = ['xsm', 'smb', 'hml', 'rf']\n",
    "\n",
    "# see what we've got\n",
    "print(ff.head(3))\n",
    "print(ff.describe())"
   ]
  },
  {
   "cell_type": "code",
   "execution_count": 9,
   "metadata": {
    "collapsed": false
   },
   "outputs": [
    {
     "name": "stdout",
     "output_type": "stream",
     "text": [
      "Summary stats for Fama-French factors (mean, std, skew, ex kurt)\n",
      "[xsm    0.653878\n",
      "smb    0.221850\n",
      "hml    0.389840\n",
      "rf     0.283099\n",
      "dtype: float64, xsm    5.400974\n",
      "smb    3.221139\n",
      "hml    3.534641\n",
      "rf     0.254418\n",
      "dtype: float64, xsm    0.192321\n",
      "smb    1.973245\n",
      "hml    2.147722\n",
      "rf     1.051113\n",
      "dtype: float64, xsm     4.771829\n",
      "smb    16.497750\n",
      "hml    15.971733\n",
      "rf     -1.745900\n",
      "dtype: float64]\n"
     ]
    }
   ],
   "source": [
    "# compute and print summary stats \n",
    "moments = [ff.mean(), ff.std(), ff.skew(), ff.kurtosis() - 3]\n",
    "\n",
    "# \\n here is a line break\n",
    "print('Summary stats for Fama-French factors (mean, std, skew, ex kurt)') #, end='\\n\\n') \n",
    "print(moments)\n",
    "#[print(moment, end='\\n\\n') for moment in moments]"
   ]
  },
  {
   "cell_type": "code",
   "execution_count": 10,
   "metadata": {
    "collapsed": false
   },
   "outputs": [
    {
     "data": {
      "text/plain": [
       "'0.16.0'"
      ]
     },
     "execution_count": 10,
     "metadata": {},
     "output_type": "execute_result"
    }
   ],
   "source": [
    "# try some things yourself \n",
    "# like what?  type ff.[tab]\n",
    "import pandas as pd\n",
    "pd.__version__\n"
   ]
  },
  {
   "cell_type": "code",
   "execution_count": 11,
   "metadata": {
    "collapsed": false
   },
   "outputs": [
    {
     "data": {
      "image/png": "[encoded data removed]",
      "text/plain": [
       "<matplotlib.figure.Figure at 0x8696a20>"
      ]
     },
     "metadata": {},
     "output_type": "display_data"
    },
    {
     "data": {
      "image/png": "[encoded data removed]",
      "text/plain": [
       "<matplotlib.figure.Figure at 0x8714358>"
      ]
     },
     "metadata": {},
     "output_type": "display_data"
    },
    {
     "data": {
      "image/png": "[encoded data removed]",
      "text/plain": [
       "<matplotlib.figure.Figure at 0x86fd2b0>"
      ]
     },
     "metadata": {},
     "output_type": "display_data"
    }
   ],
   "source": [
    "# some plots \n",
    "ff.plot()\n",
    "plt.show()\n",
    "\n",
    "ff.hist(bins=50, sharex=True)\n",
    "plt.show()\n",
    "\n",
    "ff.boxplot(whis=0, return_type='axes')\n",
    "plt.show()"
   ]
  },
  {
   "cell_type": "markdown",
   "metadata": {},
   "source": [
    "**Answer(s)?**  Aren't the boxplots in the last figure cool?  The histograms above them?  What do you see in them?  How do the various returns compare?   "
   ]
  },
  {
   "cell_type": "markdown",
   "metadata": {},
   "source": [
    "---\n",
    "\n",
    "### Example 3: GDP per capita and life expectancy\n",
    "\n",
    "The World Bank collects a broad range of economic and social indicators for most countries in the World.  They also have a nice interface.  It's a good source for basic information about the economic climate compares across countries.  \n",
    "\n",
    "We illustrate its usefulness with a scatterplot of life expectancy v GDP per capita.  \n",
    "\n",
    "**Question(s).**  How closely are these two indicators of quality of life are related.  \n",
    "\n",
    "**References**\n",
    "\n",
    "* http://data.worldbank.org/\n",
    "* http://pandas.pydata.org/pandas-docs/stable/remote_data.html#world-bank\n",
    "* http://matplotlib.org/examples/shapes_and_collections/scatter_demo.html\n",
    "\n",
    "---"
   ]
  },
  {
   "cell_type": "code",
   "execution_count": 12,
   "metadata": {
    "collapsed": false
   },
   "outputs": [
    {
     "data": {
      "text/html": [
       "<div style=\"max-height:1000px;max-width:1500px;overflow:auto;\">\n",
       "<table border=\"1\" class=\"dataframe\">\n",
       "  <thead>\n",
       "    <tr style=\"text-align: right;\">\n",
       "      <th></th>\n",
       "      <th>id</th>\n",
       "      <th>name</th>\n",
       "      <th>source</th>\n",
       "      <th>sourceNote</th>\n",
       "      <th>sourceOrganization</th>\n",
       "      <th>topics</th>\n",
       "    </tr>\n",
       "  </thead>\n",
       "  <tbody>\n",
       "    <tr>\n",
       "      <th>699</th>\n",
       "      <td>6.0.GDPpc</td>\n",
       "      <td>GDP per capita (2011 US$)</td>\n",
       "      <td>LAC Equity Lab</td>\n",
       "      <td>GDP per capita is gross domestic product divid...</td>\n",
       "      <td>b'LAC Equity Lab Tablulations of the World Dev...</td>\n",
       "      <td>Economy &amp; Growth</td>\n",
       "    </tr>\n",
       "    <tr>\n",
       "      <th>700</th>\n",
       "      <td>6.0.GDPpc_constant</td>\n",
       "      <td>GDP per capita, PPP (constant 2011 internation...</td>\n",
       "      <td>LAC Equity Lab</td>\n",
       "      <td>GDP per capita based on purchasing power parit...</td>\n",
       "      <td>b'NULWorld Development Indicators (World Bank)L'</td>\n",
       "      <td>Economy &amp; Growth</td>\n",
       "    </tr>\n",
       "  </tbody>\n",
       "</table>\n",
       "</div>"
      ],
      "text/plain": [
       "                     id                                               name  \\\n",
       "699           6.0.GDPpc                          GDP per capita (2011 US$)   \n",
       "700  6.0.GDPpc_constant  GDP per capita, PPP (constant 2011 internation...   \n",
       "\n",
       "             source                                         sourceNote  \\\n",
       "699  LAC Equity Lab  GDP per capita is gross domestic product divid...   \n",
       "700  LAC Equity Lab  GDP per capita based on purchasing power parit...   \n",
       "\n",
       "                                    sourceOrganization            topics  \n",
       "699  b'LAC Equity Lab Tablulations of the World Dev...  Economy & Growth  \n",
       "700   b'NULWorld Development Indicators (World Bank)L'  Economy & Growth  "
      ]
     },
     "execution_count": 12,
     "metadata": {},
     "output_type": "execute_result"
    }
   ],
   "source": [
    "# load package under name wb \n",
    "from pandas.io import wb\n",
    "\n",
    "# find the codes for the variables of interest \n",
    "wb.search\n",
    "wb.search(string='gdp.*capita').iloc[:2]"
   ]
  },
  {
   "cell_type": "code",
   "execution_count": 13,
   "metadata": {
    "collapsed": false
   },
   "outputs": [
    {
     "name": "stdout",
     "output_type": "stream",
     "text": [
      "                    NY.GDP.PCAP.KD  SP.POP.TOTL  SP.DYN.LE00.IN\n",
      "country       year                                             \n",
      "Brazil        2011     5721.289504    196935134       73.347366\n",
      "China         2011     3121.969744   1344130000       75.042000\n",
      "France        2011    35771.547550     65343588       82.114634\n",
      "India         2011     1086.048597   1221156319       65.958488\n",
      "Japan         2011    36203.430066    127817277       82.591220\n",
      "Mexico        2011     8307.686996    119361233       76.914171\n",
      "United States 2011    44341.811840    311582564       78.641463\n"
     ]
    }
   ],
   "source": [
    "# specify dates, variables, and countries \n",
    "start = 2011\n",
    "# GDP per capita, population, life expectancy\n",
    "variable_list = ['NY.GDP.PCAP.KD', 'SP.POP.TOTL', 'SP.DYN.LE00.IN']\n",
    "country_list  = ['US', 'FR', 'JP', 'CN', 'IN', 'BR', 'MX'] \n",
    "\n",
    "# Python understands we need to go to the second line because ( hasn't been closed by )\n",
    "data = wb.download(indicator=variable_list, \n",
    "                   country=country_list, start=start, end=start).dropna()\n",
    "\n",
    "# see what we've got\n",
    "print(data)"
   ]
  },
  {
   "cell_type": "code",
   "execution_count": 14,
   "metadata": {
    "collapsed": false
   },
   "outputs": [
    {
     "name": "stdout",
     "output_type": "stream",
     "text": [
      "Index(['NY.GDP.PCAP.KD', 'SP.POP.TOTL', 'SP.DYN.LE00.IN'], dtype='object')\n",
      "                           gdppc         pop         le\n",
      "country       year                                     \n",
      "Brazil        2011   5721.289504   196935134  73.347366\n",
      "China         2011   3121.969744  1344130000  75.042000\n",
      "France        2011  35771.547550    65343588  82.114634\n",
      "India         2011   1086.048597  1221156319  65.958488\n",
      "Japan         2011  36203.430066   127817277  82.591220\n",
      "Mexico        2011   8307.686996   119361233  76.914171\n",
      "United States 2011  44341.811840   311582564  78.641463\n"
     ]
    }
   ],
   "source": [
    "# check the column labels, change to something simpler \n",
    "print(data.columns)\n",
    "data.columns = ['gdppc', 'pop', 'le']\n",
    "print(data)"
   ]
  },
  {
   "cell_type": "code",
   "execution_count": 15,
   "metadata": {
    "collapsed": false
   },
   "outputs": [
    {
     "data": {
      "image/png": "[encoded data removed]",
      "text/plain": [
       "<matplotlib.figure.Figure at 0xa3a9eb8>"
      ]
     },
     "metadata": {},
     "output_type": "display_data"
    }
   ],
   "source": [
    "# scatterplot\n",
    "# life expectancy v GDP per capita \n",
    "# size of circles controlled by population \n",
    "\n",
    "# load packages (ignored if redundant) \n",
    "import numpy as np            \n",
    "import matplotlib.pyplot as plt\n",
    "\n",
    "plt.scatter(data['gdppc'], data['le'], s=0.000001*data['pop'], alpha=0.5)\n",
    "plt.ylabel('Life Expectancy')\n",
    "plt.xlabel('GDP Per Capita')\n",
    "plt.show()"
   ]
  },
  {
   "cell_type": "code",
   "execution_count": 16,
   "metadata": {
    "collapsed": false
   },
   "outputs": [],
   "source": [
    "# Note:  size of circles based on population "
   ]
  },
  {
   "cell_type": "markdown",
   "metadata": {},
   "source": [
    "---\n",
    "\n",
    "### Example 4: Option prices\n",
    "\n",
    "A financial option gives its owner the right to buy or sell an asset (the \"underlying\") at a preset price (the \"strike\") by a specific date (the \"expiration date\").  Puts are options to sell, calls are options to buy.  We explore option prices with Yahoo Finance, specifically options on the S&P 500 exchange-traded fund, ticker SPY.  \n",
    "\n",
    "We illustrate its usefulness with a scatterplot of life expectancy v GDP per capita.  \n",
    "\n",
    "**Question(s).**  How do put and call prices vary with their strike price?  [Think about this.  What would you expect?] \n",
    "\n",
    "**Warning.** This won't work in Python 2.7 or, in fact, in any environment that uses versions of Pandas prior to 0.14.1.  The Yahoo Option API is labeled experimental and it seems the earlier versions don't allow easy access to the strike prices.  \n",
    "\n",
    "**References**\n",
    "\n",
    "* http://finance.yahoo.com/q/op?s=SPY+Options\n",
    "* http://pandas.pydata.org/pandas-docs/stable/remote_data.html#yahoo-finance\n",
    "* http://pandas.pydata.org/pandas-docs/stable/remote_data.html#yahoo-finance-options\n",
    "\n",
    "---"
   ]
  },
  {
   "cell_type": "code",
   "execution_count": 17,
   "metadata": {
    "collapsed": false
   },
   "outputs": [],
   "source": [
    "# load packages \n",
    "import pandas as pd \n",
    "import pandas.io.data as web\n",
    "from pandas.io.data import Options\n",
    "import datetime as dt \n",
    "import matplotlib.pylab as plt\n",
    "\n",
    "# ticker \n",
    "ticker = 'spy' "
   ]
  },
  {
   "cell_type": "code",
   "execution_count": 18,
   "metadata": {
    "collapsed": false
   },
   "outputs": [
    {
     "name": "stdout",
     "output_type": "stream",
     "text": [
      "                 Open       High        Low      Close    Volume  Adj Close\n",
      "Date                                                                       \n",
      "2015-04-20  209.06000  210.25000  208.96001  209.85001  82969100  209.85001\n",
      "2015-04-21  209.85001  210.86000  209.24001  209.60001  67403700  209.60001\n",
      "2015-04-22  210.00999  210.85001  208.89999  210.63000  77064000  210.63000\n",
      "2015-04-23  210.14999  211.94000  210.00999  211.16000  99433500  211.16000\n",
      "2015-04-24  211.66000  211.97000  211.11000  211.64999  57952900  211.64999\n"
     ]
    }
   ],
   "source": [
    "# load stock price first (the underlying) \n",
    "# pick a recent date and subtract seven days to be sure we get a quote  \n",
    "# http://pymotw.com/2/datetime/#date-arithmetic\n",
    "today = dt.date.today()\n",
    "one_week = dt.timedelta(days=7)\n",
    "start = today - one_week\n",
    "stock = web.DataReader(ticker, 'yahoo', start) \n",
    "print(stock)        # just to see what we have\n",
    "\n",
    "# take the last close (-1 is the last, 'Close' is the close)\n",
    "# this shows up in our figure \n",
    "atm = stock.ix[-1,'Close']      # the -1 takes the last observation   "
   ]
  },
  {
   "cell_type": "code",
   "execution_count": 19,
   "metadata": {
    "collapsed": false
   },
   "outputs": [
    {
     "ename": "ImportError",
     "evalue": "html5lib not found, please install it",
     "output_type": "error",
     "traceback": [
      "\u001b[1;31m---------------------------------------------------------------------------\u001b[0m",
      "\u001b[1;31mAttributeError\u001b[0m                            Traceback (most recent call last)",
      "\u001b[1;32mC:\\Users\\dbackus\\AppData\\Local\\Continuum\\Anaconda3\\lib\\site-packages\\pandas\\io\\data.py\u001b[0m in \u001b[0;36m_get_data_in_date_range\u001b[1;34m(self, dates, call, put)\u001b[0m\n\u001b[0;32m   1129\u001b[0m                 \u001b[1;32mtry\u001b[0m\u001b[1;33m:\u001b[0m  \u001b[1;31m# Try to access on the instance\u001b[0m\u001b[1;33m\u001b[0m\u001b[0m\n\u001b[1;32m-> 1130\u001b[1;33m                     \u001b[0mframe\u001b[0m \u001b[1;33m=\u001b[0m \u001b[0mgetattr\u001b[0m\u001b[1;33m(\u001b[0m\u001b[0mself\u001b[0m\u001b[1;33m,\u001b[0m \u001b[0mnam\u001b[0m\u001b[1;33m)\u001b[0m\u001b[1;33m\u001b[0m\u001b[0m\n\u001b[0m\u001b[0;32m   1131\u001b[0m                 \u001b[1;32mexcept\u001b[0m \u001b[0mAttributeError\u001b[0m\u001b[1;33m:\u001b[0m\u001b[1;33m\u001b[0m\u001b[0m\n",
      "\u001b[1;31mAttributeError\u001b[0m: 'Options' object has no attribute 'calls150501'",
      "\nDuring handling of the above exception, another exception occurred:\n",
      "\u001b[1;31mAttributeError\u001b[0m                            Traceback (most recent call last)",
      "\u001b[1;32mC:\\Users\\dbackus\\AppData\\Local\\Continuum\\Anaconda3\\lib\\site-packages\\pandas\\io\\data.py\u001b[0m in \u001b[0;36m_get_option_data\u001b[1;34m(self, expiry, name)\u001b[0m\n\u001b[0;32m    748\u001b[0m         \u001b[1;32mtry\u001b[0m\u001b[1;33m:\u001b[0m\u001b[1;33m\u001b[0m\u001b[0m\n\u001b[1;32m--> 749\u001b[1;33m             \u001b[0mframes\u001b[0m \u001b[1;33m=\u001b[0m \u001b[0mgetattr\u001b[0m\u001b[1;33m(\u001b[0m\u001b[0mself\u001b[0m\u001b[1;33m,\u001b[0m \u001b[0mframe_name\u001b[0m\u001b[1;33m)\u001b[0m\u001b[1;33m\u001b[0m\u001b[0m\n\u001b[0m\u001b[0;32m    750\u001b[0m         \u001b[1;32mexcept\u001b[0m \u001b[0mAttributeError\u001b[0m\u001b[1;33m:\u001b[0m\u001b[1;33m\u001b[0m\u001b[0m\n",
      "\u001b[1;31mAttributeError\u001b[0m: 'Options' object has no attribute '_frames150501'",
      "\nDuring handling of the above exception, another exception occurred:\n",
      "\u001b[1;31mImportError\u001b[0m                               Traceback (most recent call last)",
      "\u001b[1;32m<ipython-input-19-a7d8c5c8e428>\u001b[0m in \u001b[0;36m<module>\u001b[1;34m()\u001b[0m\n\u001b[0;32m      2\u001b[0m \u001b[0moption\u001b[0m \u001b[1;33m=\u001b[0m \u001b[0mOptions\u001b[0m\u001b[1;33m(\u001b[0m\u001b[0mticker\u001b[0m\u001b[1;33m,\u001b[0m \u001b[1;34m'yahoo'\u001b[0m\u001b[1;33m)\u001b[0m\u001b[1;33m\u001b[0m\u001b[0m\n\u001b[0;32m      3\u001b[0m \u001b[0mexpiry\u001b[0m \u001b[1;33m=\u001b[0m \u001b[0mdt\u001b[0m\u001b[1;33m.\u001b[0m\u001b[0mdate\u001b[0m\u001b[1;33m(\u001b[0m\u001b[1;36m2014\u001b[0m\u001b[1;33m,\u001b[0m \u001b[1;36m11\u001b[0m\u001b[1;33m,\u001b[0m \u001b[1;36m20\u001b[0m\u001b[1;33m)\u001b[0m\u001b[1;33m\u001b[0m\u001b[0m\n\u001b[1;32m----> 4\u001b[1;33m \u001b[0mdata_calls\u001b[0m \u001b[1;33m=\u001b[0m \u001b[0moption\u001b[0m\u001b[1;33m.\u001b[0m\u001b[0mget_call_data\u001b[0m\u001b[1;33m(\u001b[0m\u001b[0mexpiry\u001b[0m\u001b[1;33m=\u001b[0m\u001b[0mexpiry\u001b[0m\u001b[1;33m)\u001b[0m\u001b[1;33m.\u001b[0m\u001b[0mdropna\u001b[0m\u001b[1;33m(\u001b[0m\u001b[1;33m)\u001b[0m\u001b[1;33m\u001b[0m\u001b[0m\n\u001b[0m\u001b[0;32m      5\u001b[0m \u001b[0mdata_puts\u001b[0m  \u001b[1;33m=\u001b[0m \u001b[0moption\u001b[0m\u001b[1;33m.\u001b[0m\u001b[0mget_put_data\u001b[0m\u001b[1;33m(\u001b[0m\u001b[0mexpiry\u001b[0m\u001b[1;33m=\u001b[0m\u001b[0mexpiry\u001b[0m\u001b[1;33m)\u001b[0m\u001b[1;33m.\u001b[0m\u001b[0mdropna\u001b[0m\u001b[1;33m(\u001b[0m\u001b[1;33m)\u001b[0m\u001b[1;33m\u001b[0m\u001b[0m\n\u001b[0;32m      6\u001b[0m \u001b[1;33m\u001b[0m\u001b[0m\n",
      "\u001b[1;32mC:\\Users\\dbackus\\AppData\\Local\\Continuum\\Anaconda3\\lib\\site-packages\\pandas\\io\\data.py\u001b[0m in \u001b[0;36mget_call_data\u001b[1;34m(self, month, year, expiry)\u001b[0m\n\u001b[0;32m    817\u001b[0m         \"\"\"\n\u001b[0;32m    818\u001b[0m         \u001b[0mexpiry\u001b[0m \u001b[1;33m=\u001b[0m \u001b[0mself\u001b[0m\u001b[1;33m.\u001b[0m\u001b[0m_try_parse_dates\u001b[0m\u001b[1;33m(\u001b[0m\u001b[0myear\u001b[0m\u001b[1;33m,\u001b[0m \u001b[0mmonth\u001b[0m\u001b[1;33m,\u001b[0m \u001b[0mexpiry\u001b[0m\u001b[1;33m)\u001b[0m\u001b[1;33m\u001b[0m\u001b[0m\n\u001b[1;32m--> 819\u001b[1;33m         \u001b[1;32mreturn\u001b[0m \u001b[0mself\u001b[0m\u001b[1;33m.\u001b[0m\u001b[0m_get_data_in_date_range\u001b[0m\u001b[1;33m(\u001b[0m\u001b[0mexpiry\u001b[0m\u001b[1;33m,\u001b[0m \u001b[0mcall\u001b[0m\u001b[1;33m=\u001b[0m\u001b[1;32mTrue\u001b[0m\u001b[1;33m,\u001b[0m \u001b[0mput\u001b[0m\u001b[1;33m=\u001b[0m\u001b[1;32mFalse\u001b[0m\u001b[1;33m)\u001b[0m\u001b[1;33m\u001b[0m\u001b[0m\n\u001b[0m\u001b[0;32m    820\u001b[0m \u001b[1;33m\u001b[0m\u001b[0m\n\u001b[0;32m    821\u001b[0m     \u001b[1;32mdef\u001b[0m \u001b[0mget_put_data\u001b[0m\u001b[1;33m(\u001b[0m\u001b[0mself\u001b[0m\u001b[1;33m,\u001b[0m \u001b[0mmonth\u001b[0m\u001b[1;33m=\u001b[0m\u001b[1;32mNone\u001b[0m\u001b[1;33m,\u001b[0m \u001b[0myear\u001b[0m\u001b[1;33m=\u001b[0m\u001b[1;32mNone\u001b[0m\u001b[1;33m,\u001b[0m \u001b[0mexpiry\u001b[0m\u001b[1;33m=\u001b[0m\u001b[1;32mNone\u001b[0m\u001b[1;33m)\u001b[0m\u001b[1;33m:\u001b[0m\u001b[1;33m\u001b[0m\u001b[0m\n",
      "\u001b[1;32mC:\\Users\\dbackus\\AppData\\Local\\Continuum\\Anaconda3\\lib\\site-packages\\pandas\\io\\data.py\u001b[0m in \u001b[0;36m_get_data_in_date_range\u001b[1;34m(self, dates, call, put)\u001b[0m\n\u001b[0;32m   1130\u001b[0m                     \u001b[0mframe\u001b[0m \u001b[1;33m=\u001b[0m \u001b[0mgetattr\u001b[0m\u001b[1;33m(\u001b[0m\u001b[0mself\u001b[0m\u001b[1;33m,\u001b[0m \u001b[0mnam\u001b[0m\u001b[1;33m)\u001b[0m\u001b[1;33m\u001b[0m\u001b[0m\n\u001b[0;32m   1131\u001b[0m                 \u001b[1;32mexcept\u001b[0m \u001b[0mAttributeError\u001b[0m\u001b[1;33m:\u001b[0m\u001b[1;33m\u001b[0m\u001b[0m\n\u001b[1;32m-> 1132\u001b[1;33m                     \u001b[0mframe\u001b[0m \u001b[1;33m=\u001b[0m \u001b[0mself\u001b[0m\u001b[1;33m.\u001b[0m\u001b[0m_get_option_data\u001b[0m\u001b[1;33m(\u001b[0m\u001b[0mexpiry\u001b[0m\u001b[1;33m=\u001b[0m\u001b[0mexpiry_date\u001b[0m\u001b[1;33m,\u001b[0m \u001b[0mname\u001b[0m\u001b[1;33m=\u001b[0m\u001b[0mname\u001b[0m\u001b[1;33m)\u001b[0m\u001b[1;33m\u001b[0m\u001b[0m\n\u001b[0m\u001b[0;32m   1133\u001b[0m                 \u001b[0mdata\u001b[0m\u001b[1;33m.\u001b[0m\u001b[0mappend\u001b[0m\u001b[1;33m(\u001b[0m\u001b[0mframe\u001b[0m\u001b[1;33m)\u001b[0m\u001b[1;33m\u001b[0m\u001b[0m\n\u001b[0;32m   1134\u001b[0m \u001b[1;33m\u001b[0m\u001b[0m\n",
      "\u001b[1;32mC:\\Users\\dbackus\\AppData\\Local\\Continuum\\Anaconda3\\lib\\site-packages\\pandas\\io\\data.py\u001b[0m in \u001b[0;36m_get_option_data\u001b[1;34m(self, expiry, name)\u001b[0m\n\u001b[0;32m    749\u001b[0m             \u001b[0mframes\u001b[0m \u001b[1;33m=\u001b[0m \u001b[0mgetattr\u001b[0m\u001b[1;33m(\u001b[0m\u001b[0mself\u001b[0m\u001b[1;33m,\u001b[0m \u001b[0mframe_name\u001b[0m\u001b[1;33m)\u001b[0m\u001b[1;33m\u001b[0m\u001b[0m\n\u001b[0;32m    750\u001b[0m         \u001b[1;32mexcept\u001b[0m \u001b[0mAttributeError\u001b[0m\u001b[1;33m:\u001b[0m\u001b[1;33m\u001b[0m\u001b[0m\n\u001b[1;32m--> 751\u001b[1;33m             \u001b[0mframes\u001b[0m \u001b[1;33m=\u001b[0m \u001b[0mself\u001b[0m\u001b[1;33m.\u001b[0m\u001b[0m_get_option_frames_from_yahoo\u001b[0m\u001b[1;33m(\u001b[0m\u001b[0mexpiry\u001b[0m\u001b[1;33m)\u001b[0m\u001b[1;33m\u001b[0m\u001b[0m\n\u001b[0m\u001b[0;32m    752\u001b[0m \u001b[1;33m\u001b[0m\u001b[0m\n\u001b[0;32m    753\u001b[0m         \u001b[0moption_data\u001b[0m \u001b[1;33m=\u001b[0m \u001b[0mframes\u001b[0m\u001b[1;33m[\u001b[0m\u001b[0mname\u001b[0m\u001b[1;33m]\u001b[0m\u001b[1;33m\u001b[0m\u001b[0m\n",
      "\u001b[1;32mC:\\Users\\dbackus\\AppData\\Local\\Continuum\\Anaconda3\\lib\\site-packages\\pandas\\io\\data.py\u001b[0m in \u001b[0;36m_get_option_frames_from_yahoo\u001b[1;34m(self, expiry)\u001b[0m\n\u001b[0;32m    666\u001b[0m     \u001b[1;32mdef\u001b[0m \u001b[0m_get_option_frames_from_yahoo\u001b[0m\u001b[1;33m(\u001b[0m\u001b[0mself\u001b[0m\u001b[1;33m,\u001b[0m \u001b[0mexpiry\u001b[0m\u001b[1;33m)\u001b[0m\u001b[1;33m:\u001b[0m\u001b[1;33m\u001b[0m\u001b[0m\n\u001b[0;32m    667\u001b[0m         \u001b[0murl\u001b[0m \u001b[1;33m=\u001b[0m \u001b[0mself\u001b[0m\u001b[1;33m.\u001b[0m\u001b[0m_yahoo_url_from_expiry\u001b[0m\u001b[1;33m(\u001b[0m\u001b[0mexpiry\u001b[0m\u001b[1;33m)\u001b[0m\u001b[1;33m\u001b[0m\u001b[0m\n\u001b[1;32m--> 668\u001b[1;33m         \u001b[0moption_frames\u001b[0m \u001b[1;33m=\u001b[0m \u001b[0mself\u001b[0m\u001b[1;33m.\u001b[0m\u001b[0m_option_frames_from_url\u001b[0m\u001b[1;33m(\u001b[0m\u001b[0murl\u001b[0m\u001b[1;33m)\u001b[0m\u001b[1;33m\u001b[0m\u001b[0m\n\u001b[0m\u001b[0;32m    669\u001b[0m         \u001b[0mframe_name\u001b[0m \u001b[1;33m=\u001b[0m \u001b[1;34m'_frames'\u001b[0m \u001b[1;33m+\u001b[0m \u001b[0mself\u001b[0m\u001b[1;33m.\u001b[0m\u001b[0m_expiry_to_string\u001b[0m\u001b[1;33m(\u001b[0m\u001b[0mexpiry\u001b[0m\u001b[1;33m)\u001b[0m\u001b[1;33m\u001b[0m\u001b[0m\n\u001b[0;32m    670\u001b[0m         \u001b[0msetattr\u001b[0m\u001b[1;33m(\u001b[0m\u001b[0mself\u001b[0m\u001b[1;33m,\u001b[0m \u001b[0mframe_name\u001b[0m\u001b[1;33m,\u001b[0m \u001b[0moption_frames\u001b[0m\u001b[1;33m)\u001b[0m\u001b[1;33m\u001b[0m\u001b[0m\n",
      "\u001b[1;32mC:\\Users\\dbackus\\AppData\\Local\\Continuum\\Anaconda3\\lib\\site-packages\\pandas\\io\\data.py\u001b[0m in \u001b[0;36m_option_frames_from_url\u001b[1;34m(self, url)\u001b[0m\n\u001b[0;32m    687\u001b[0m \u001b[1;33m\u001b[0m\u001b[0m\n\u001b[0;32m    688\u001b[0m     \u001b[1;32mdef\u001b[0m \u001b[0m_option_frames_from_url\u001b[0m\u001b[1;33m(\u001b[0m\u001b[0mself\u001b[0m\u001b[1;33m,\u001b[0m \u001b[0murl\u001b[0m\u001b[1;33m)\u001b[0m\u001b[1;33m:\u001b[0m\u001b[1;33m\u001b[0m\u001b[0m\n\u001b[1;32m--> 689\u001b[1;33m         \u001b[0mframes\u001b[0m \u001b[1;33m=\u001b[0m \u001b[0mread_html\u001b[0m\u001b[1;33m(\u001b[0m\u001b[0murl\u001b[0m\u001b[1;33m)\u001b[0m\u001b[1;33m\u001b[0m\u001b[0m\n\u001b[0m\u001b[0;32m    690\u001b[0m         \u001b[0mnframes\u001b[0m \u001b[1;33m=\u001b[0m \u001b[0mlen\u001b[0m\u001b[1;33m(\u001b[0m\u001b[0mframes\u001b[0m\u001b[1;33m)\u001b[0m\u001b[1;33m\u001b[0m\u001b[0m\n\u001b[0;32m    691\u001b[0m         \u001b[0mframes_req\u001b[0m \u001b[1;33m=\u001b[0m \u001b[0mmax\u001b[0m\u001b[1;33m(\u001b[0m\u001b[0mself\u001b[0m\u001b[1;33m.\u001b[0m\u001b[0m_TABLE_LOC\u001b[0m\u001b[1;33m.\u001b[0m\u001b[0mvalues\u001b[0m\u001b[1;33m(\u001b[0m\u001b[1;33m)\u001b[0m\u001b[1;33m)\u001b[0m\u001b[1;33m\u001b[0m\u001b[0m\n",
      "\u001b[1;32mC:\\Users\\dbackus\\AppData\\Local\\Continuum\\Anaconda3\\lib\\site-packages\\pandas\\io\\html.py\u001b[0m in \u001b[0;36mread_html\u001b[1;34m(io, match, flavor, header, index_col, skiprows, infer_types, attrs, parse_dates, tupleize_cols, thousands, encoding)\u001b[0m\n\u001b[0;32m    862\u001b[0m                          'data (you passed a negative value)')\n\u001b[0;32m    863\u001b[0m     return _parse(flavor, io, match, header, index_col, skiprows, infer_types,\n\u001b[1;32m--> 864\u001b[1;33m                   parse_dates, tupleize_cols, thousands, attrs, encoding)\n\u001b[0m",
      "\u001b[1;32mC:\\Users\\dbackus\\AppData\\Local\\Continuum\\Anaconda3\\lib\\site-packages\\pandas\\io\\html.py\u001b[0m in \u001b[0;36m_parse\u001b[1;34m(flavor, io, match, header, index_col, skiprows, infer_types, parse_dates, tupleize_cols, thousands, attrs, encoding)\u001b[0m\n\u001b[0;32m    715\u001b[0m     \u001b[0mretained\u001b[0m \u001b[1;33m=\u001b[0m \u001b[1;32mNone\u001b[0m\u001b[1;33m\u001b[0m\u001b[0m\n\u001b[0;32m    716\u001b[0m     \u001b[1;32mfor\u001b[0m \u001b[0mflav\u001b[0m \u001b[1;32min\u001b[0m \u001b[0mflavor\u001b[0m\u001b[1;33m:\u001b[0m\u001b[1;33m\u001b[0m\u001b[0m\n\u001b[1;32m--> 717\u001b[1;33m         \u001b[0mparser\u001b[0m \u001b[1;33m=\u001b[0m \u001b[0m_parser_dispatch\u001b[0m\u001b[1;33m(\u001b[0m\u001b[0mflav\u001b[0m\u001b[1;33m)\u001b[0m\u001b[1;33m\u001b[0m\u001b[0m\n\u001b[0m\u001b[0;32m    718\u001b[0m         \u001b[0mp\u001b[0m \u001b[1;33m=\u001b[0m \u001b[0mparser\u001b[0m\u001b[1;33m(\u001b[0m\u001b[0mio\u001b[0m\u001b[1;33m,\u001b[0m \u001b[0mcompiled_match\u001b[0m\u001b[1;33m,\u001b[0m \u001b[0mattrs\u001b[0m\u001b[1;33m,\u001b[0m \u001b[0mencoding\u001b[0m\u001b[1;33m)\u001b[0m\u001b[1;33m\u001b[0m\u001b[0m\n\u001b[0;32m    719\u001b[0m \u001b[1;33m\u001b[0m\u001b[0m\n",
      "\u001b[1;32mC:\\Users\\dbackus\\AppData\\Local\\Continuum\\Anaconda3\\lib\\site-packages\\pandas\\io\\html.py\u001b[0m in \u001b[0;36m_parser_dispatch\u001b[1;34m(flavor)\u001b[0m\n\u001b[0;32m    660\u001b[0m     \u001b[1;32mif\u001b[0m \u001b[0mflavor\u001b[0m \u001b[1;32min\u001b[0m \u001b[1;33m(\u001b[0m\u001b[1;34m'bs4'\u001b[0m\u001b[1;33m,\u001b[0m \u001b[1;34m'html5lib'\u001b[0m\u001b[1;33m)\u001b[0m\u001b[1;33m:\u001b[0m\u001b[1;33m\u001b[0m\u001b[0m\n\u001b[0;32m    661\u001b[0m         \u001b[1;32mif\u001b[0m \u001b[1;32mnot\u001b[0m \u001b[0m_HAS_HTML5LIB\u001b[0m\u001b[1;33m:\u001b[0m\u001b[1;33m\u001b[0m\u001b[0m\n\u001b[1;32m--> 662\u001b[1;33m             \u001b[1;32mraise\u001b[0m \u001b[0mImportError\u001b[0m\u001b[1;33m(\u001b[0m\u001b[1;34m\"html5lib not found, please install it\"\u001b[0m\u001b[1;33m)\u001b[0m\u001b[1;33m\u001b[0m\u001b[0m\n\u001b[0m\u001b[0;32m    663\u001b[0m         \u001b[1;32mif\u001b[0m \u001b[1;32mnot\u001b[0m \u001b[0m_HAS_BS4\u001b[0m\u001b[1;33m:\u001b[0m\u001b[1;33m\u001b[0m\u001b[0m\n\u001b[0;32m    664\u001b[0m             \u001b[1;32mraise\u001b[0m \u001b[0mImportError\u001b[0m\u001b[1;33m(\u001b[0m\u001b[1;34m\"BeautifulSoup4 (bs4) not found, please install it\"\u001b[0m\u001b[1;33m)\u001b[0m\u001b[1;33m\u001b[0m\u001b[0m\n",
      "\u001b[1;31mImportError\u001b[0m: html5lib not found, please install it"
     ]
    }
   ],
   "source": [
    "# get option prices for same ticker \n",
    "option = Options(ticker, 'yahoo')\n",
    "expiry = dt.date(2014, 11, 20)\n",
    "data_calls = option.get_call_data(expiry=expiry).dropna()\n",
    "data_puts  = option.get_put_data(expiry=expiry).dropna()\n",
    "\n",
    "# check what we have \n",
    "print(data_calls.index) \n",
    "print(data_calls.tail())"
   ]
  },
  {
   "cell_type": "code",
   "execution_count": null,
   "metadata": {
    "collapsed": false
   },
   "outputs": [],
   "source": [
    "# compute mid of bid and ask and arrange series for plotting \n",
    "calls_bid = data_calls['Bid']\n",
    "calls_ask = data_calls['Ask'] \n",
    "\n",
    "calls_strikes = data_calls['Strike']\n",
    "calls_mid = (data_calls['Bid'] + data_calls['Ask'])/2\n",
    "puts_strikes = data_puts['Strike']\n",
    "puts_mid = (data_puts['Bid'] + data_puts['Ask'])/2"
   ]
  },
  {
   "cell_type": "markdown",
   "metadata": {},
   "source": [
    "*Note to self.* \n",
    "In older versions of Pandas, prior to 0.14.1, the option input puts the strike in the index, not as a column of data.\n",
    "The next two lines check the versions of pandas and python on the off chance we want to check:  print(pd.__version__), \n",
    "! python --version "
   ]
  },
  {
   "cell_type": "code",
   "execution_count": null,
   "metadata": {
    "collapsed": false
   },
   "outputs": [],
   "source": [
    "# plot call and put prices v strike \n",
    "plt.plot(calls_strikes, calls_mid, 'r', lw=2, label='calls')\n",
    "plt.plot(puts_strikes, puts_mid, 'b', lw=2, label='puts')\n",
    "\n",
    "# prettify it \n",
    "#plt.axis([120, 250, 0, 50])\n",
    "plt.axvline(x=atm, color='k', linestyle='--', label='ATM')               \n",
    "plt.legend(loc='best')\n",
    "plt.show()"
   ]
  },
  {
   "cell_type": "code",
   "execution_count": null,
   "metadata": {
    "collapsed": false
   },
   "outputs": [],
   "source": [
    "# rerun the figure above with different color lines.  Or dashed lines for call and put prices.  \n",
    "# or change the form of the vertical ATM line:  solid? another color?  \n"
   ]
  },
  {
   "cell_type": "code",
   "execution_count": null,
   "metadata": {
    "collapsed": false
   },
   "outputs": [],
   "source": []
  }
 ],
 "metadata": {
  "kernelspec": {
   "display_name": "Python 3",
   "language": "python",
   "name": "python3"
  },
  "language_info": {
   "codemirror_mode": {
    "name": "ipython",
    "version": 3
   },
   "file_extension": ".py",
   "mimetype": "text/x-python",
   "name": "python",
   "nbconvert_exporter": "python",
   "pygments_lexer": "ipython3",
   "version": "3.4.1"
  }
 },
 "nbformat": 4,
 "nbformat_minor": 0
}
