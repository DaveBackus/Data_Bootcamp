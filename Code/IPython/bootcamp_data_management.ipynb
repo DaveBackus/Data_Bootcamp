{
 "cells": [
  {
   "cell_type": "markdown",
   "metadata": {},
   "source": [
    "# Data management with Pandas \n",
    "\n",
    "An overview of some of the data management tools in Python's [Pandas package](http://pandas.pydata.org/pandas-docs/version/0.17.1/).  Includes:\n",
    "\n",
    "* Selecting variables \n",
    "* Selecting observations \n",
    "\n",
    "* Indexing \n",
    "\n",
    "* Groupby \n",
    "* Stacking \n",
    "\n",
    "* Doubly indexed dataframes \n",
    "\n",
    "* Combining dataframes (concat) \n",
    "* Merging dataframes\n",
    "\n",
    "This notebook was written by Dave Backus for the NYU Stern course [Data Bootcamp](http://databootcamp.nyuecon.com/).  "
   ]
  },
  {
   "cell_type": "code",
   "execution_count": 1,
   "metadata": {
    "collapsed": true
   },
   "outputs": [],
   "source": [
    "import pandas as pd\n",
    "%matplotlib inline "
   ]
  },
  {
   "cell_type": "markdown",
   "metadata": {},
   "source": [
    "## Reminders\n",
    "\n",
    "* Dataframes \n",
    "* Index and columns "
   ]
  },
  {
   "cell_type": "markdown",
   "metadata": {},
   "source": [
    "## Selecting variables \n",
    "\n"
   ]
  },
  {
   "cell_type": "markdown",
   "metadata": {},
   "source": [
    "## Datasets\n",
    "\n",
    "We take these examples from the data input chapter:  \n",
    "\n",
    "* Penn World Table \n",
    "* World Economic Outlook \n",
    "* UN Population Data\n",
    "\n",
    "All of them come in an unfriendly form; our goal is to fix them.  Here we extract small subsets to work with so that we can follow all the steps.  "
   ]
  },
  {
   "cell_type": "markdown",
   "metadata": {
    "collapsed": true
   },
   "source": [
    "### Penn World Table \n",
    "\n",
    "This one comes with countries stacked on top of each others.  \n",
    "\n"
   ]
  },
  {
   "cell_type": "code",
   "execution_count": 37,
   "metadata": {
    "collapsed": false
   },
   "outputs": [
    {
     "data": {
      "text/html": [
       "<div>\n",
       "<table border=\"1\" class=\"dataframe\">\n",
       "  <thead>\n",
       "    <tr style=\"text-align: right;\">\n",
       "      <th></th>\n",
       "      <th>countrycode</th>\n",
       "      <th>pop</th>\n",
       "      <th>rgdpe</th>\n",
       "      <th>year</th>\n",
       "    </tr>\n",
       "  </thead>\n",
       "  <tbody>\n",
       "    <tr>\n",
       "      <th>0</th>\n",
       "      <td>CHN</td>\n",
       "      <td>1124.793924</td>\n",
       "      <td>2611027.000</td>\n",
       "      <td>1990</td>\n",
       "    </tr>\n",
       "    <tr>\n",
       "      <th>1</th>\n",
       "      <td>CHN</td>\n",
       "      <td>1246.840065</td>\n",
       "      <td>4951485.000</td>\n",
       "      <td>2000</td>\n",
       "    </tr>\n",
       "    <tr>\n",
       "      <th>2</th>\n",
       "      <td>CHN</td>\n",
       "      <td>1318.170152</td>\n",
       "      <td>11106452.000</td>\n",
       "      <td>2010</td>\n",
       "    </tr>\n",
       "    <tr>\n",
       "      <th>3</th>\n",
       "      <td>FRA</td>\n",
       "      <td>58.183174</td>\n",
       "      <td>1293837.000</td>\n",
       "      <td>1990</td>\n",
       "    </tr>\n",
       "    <tr>\n",
       "      <th>4</th>\n",
       "      <td>FRA</td>\n",
       "      <td>60.764325</td>\n",
       "      <td>1752570.125</td>\n",
       "      <td>2000</td>\n",
       "    </tr>\n",
       "    <tr>\n",
       "      <th>5</th>\n",
       "      <td>FRA</td>\n",
       "      <td>64.731126</td>\n",
       "      <td>2031723.250</td>\n",
       "      <td>2010</td>\n",
       "    </tr>\n",
       "    <tr>\n",
       "      <th>6</th>\n",
       "      <td>USA</td>\n",
       "      <td>253.339097</td>\n",
       "      <td>7964788.500</td>\n",
       "      <td>1990</td>\n",
       "    </tr>\n",
       "    <tr>\n",
       "      <th>7</th>\n",
       "      <td>USA</td>\n",
       "      <td>282.496310</td>\n",
       "      <td>11494606.000</td>\n",
       "      <td>2000</td>\n",
       "    </tr>\n",
       "    <tr>\n",
       "      <th>8</th>\n",
       "      <td>USA</td>\n",
       "      <td>310.383948</td>\n",
       "      <td>13151344.000</td>\n",
       "      <td>2010</td>\n",
       "    </tr>\n",
       "  </tbody>\n",
       "</table>\n",
       "</div>"
      ],
      "text/plain": [
       "  countrycode          pop         rgdpe  year\n",
       "0         CHN  1124.793924   2611027.000  1990\n",
       "1         CHN  1246.840065   4951485.000  2000\n",
       "2         CHN  1318.170152  11106452.000  2010\n",
       "3         FRA    58.183174   1293837.000  1990\n",
       "4         FRA    60.764325   1752570.125  2000\n",
       "5         FRA    64.731126   2031723.250  2010\n",
       "6         USA   253.339097   7964788.500  1990\n",
       "7         USA   282.496310  11494606.000  2000\n",
       "8         USA   310.383948  13151344.000  2010"
      ]
     },
     "execution_count": 37,
     "metadata": {},
     "output_type": "execute_result"
    }
   ],
   "source": [
    "data = {'countrycode': ['CHN', 'CHN', 'CHN', 'FRA', 'FRA', 'FRA', 'USA', 'USA', 'USA'],\n",
    " 'pop': [1124.7939240000001, 1246.8400649999999, 1318.1701519999999, 58.183173999999994,\n",
    "         60.764324999999999, 64.731126000000003, 253.33909699999998, 282.49630999999999,\n",
    "         310.38394799999998],\n",
    " 'rgdpe': [2611027.0, 4951485.0, 11106452.0, 1293837.0, 1752570.125, 2031723.25,\n",
    "           7964788.5, 11494606.0, 13151344.0],\n",
    " 'year': [1990, 2000, 2010, 1990, 2000, 2010, 1990, 2000, 2010]}\n",
    "pwt = pd.DataFrame(data)\n",
    "pwt"
   ]
  },
  {
   "cell_type": "code",
   "execution_count": null,
   "metadata": {
    "collapsed": true
   },
   "outputs": [],
   "source": []
  },
  {
   "cell_type": "code",
   "execution_count": null,
   "metadata": {
    "collapsed": true
   },
   "outputs": [],
   "source": [
    "### UN Population Data "
   ]
  },
  {
   "cell_type": "code",
   "execution_count": null,
   "metadata": {
    "collapsed": true
   },
   "outputs": [],
   "source": []
  },
  {
   "cell_type": "code",
   "execution_count": null,
   "metadata": {
    "collapsed": true
   },
   "outputs": [],
   "source": []
  }
 ],
 "metadata": {
  "kernelspec": {
   "display_name": "Python 3",
   "language": "python",
   "name": "python3"
  },
  "language_info": {
   "codemirror_mode": {
    "name": "ipython",
    "version": 3
   },
   "file_extension": ".py",
   "mimetype": "text/x-python",
   "name": "python",
   "nbconvert_exporter": "python",
   "pygments_lexer": "ipython3",
   "version": "3.5.0"
  }
 },
 "nbformat": 4,
 "nbformat_minor": 0
}
