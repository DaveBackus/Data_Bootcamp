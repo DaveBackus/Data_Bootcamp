{
 "cells": [
  {
   "cell_type": "markdown",
   "metadata": {},
   "source": [
    "# Data Bootcamp \"Learning Experience\"   \n",
    "\n",
    "NYU Stern School of Business | March 2016\n",
    "\n",
    "Please answer the questions below in this IPython notebook.  Add cells as needed.  When you're done, **save it** and **email** to Dave Backus (db3@nyu.edu).  Use the **subject line**:  \"bootcamp exam\" plus \"UG\" or \"MBA\", as appropriate.  Make sure you have the correct email address.  And the correct file.  **Doing this correctly is worth 10 points.**  \n",
    "\n",
    "This IPython notebook was created by Dave Backus, Chase Coleman, and Spencer Lyon for the NYU Stern course [Data Bootcamp](http://databootcamp.nyuecon.com/).  "
   ]
  },
  {
   "cell_type": "markdown",
   "metadata": {},
   "source": [
    "## Import packages   \n",
    "\n",
    "Run this code.  Really.  "
   ]
  },
  {
   "cell_type": "code",
   "execution_count": 1,
   "metadata": {
    "collapsed": false
   },
   "outputs": [
    {
     "name": "stdout",
     "output_type": "stream",
     "text": [
      "Today is 2016-04-02\n",
      "Python version:\n",
      "3.5.1 |Anaconda 2.5.0 (64-bit)| (default, Jan 29 2016, 15:01:46) [MSC v.1900 64 bit (AMD64)]\n"
     ]
    }
   ],
   "source": [
    "# import packages \n",
    "import pandas as pd                   # data management\n",
    "import matplotlib.pyplot as plt       # graphics \n",
    "import datetime as dt                 # check today's date \n",
    "import sys                            # check Python version \n",
    "\n",
    "# IPython command, puts plots in notebook \n",
    "%matplotlib inline\n",
    "\n",
    "print('Today is', dt.date.today())\n",
    "print('Python version:\\n', sys.version, sep='') "
   ]
  },
  {
   "cell_type": "markdown",
   "metadata": {},
   "source": [
    "## Question 0\n",
    "\n",
    "* Change the file name by adding `_YourLastName` to it in the textbox at the top.  \n",
    "* Add a markdown cell directly above this one that includes your name in bold, your student number, and your email address.  \n",
    "\n",
    "(10 points)"
   ]
  },
  {
   "cell_type": "markdown",
   "metadata": {},
   "source": [
    "## Question 1 \n",
    "\n",
    "For each part (a)-(e), describe the **type** and **value** of the variable with the corresponding name:\n",
    "\n",
    "(a) `a = 2*3` \n",
    "\n",
    "(b) `b = 2.0*3`\n",
    "\n",
    "(c) `c = 'abc'`\n",
    "\n",
    "(d) `d = ['This', \"is\", 'not', \"a\", 'string']`\n",
    "\n",
    "(e) `e = d[3]`\n",
    "\n",
    "(25 points)"
   ]
  },
  {
   "cell_type": "code",
   "execution_count": 2,
   "metadata": {
    "collapsed": true
   },
   "outputs": [],
   "source": [
    "# experiment in this box \n",
    "\n",
    "a = 2*3\n",
    "b = 2.0*3\n",
    "c = 'abc'\n",
    "d = ['This', \"is\", 'not', \"a\", 'string']\n",
    "e = d[3]"
   ]
  },
  {
   "cell_type": "code",
   "execution_count": 3,
   "metadata": {
    "collapsed": false
   },
   "outputs": [],
   "source": [
    "# do this with a function because we're lazy and value our time\n",
    "def valuetype(x):\n",
    "    \"\"\"\n",
    "    print value and type of input x\n",
    "    \"\"\"\n",
    "    print('Value and type: ', x, ', ', type(x), sep='')"
   ]
  },
  {
   "cell_type": "code",
   "execution_count": 4,
   "metadata": {
    "collapsed": false
   },
   "outputs": [
    {
     "name": "stdout",
     "output_type": "stream",
     "text": [
      "Value and type: 6, <class 'int'>\n"
     ]
    }
   ],
   "source": [
    "# (a)\n",
    "valuetype(a)"
   ]
  },
  {
   "cell_type": "code",
   "execution_count": 5,
   "metadata": {
    "collapsed": false
   },
   "outputs": [
    {
     "name": "stdout",
     "output_type": "stream",
     "text": [
      "Value and type: 6.0, <class 'float'>\n"
     ]
    }
   ],
   "source": [
    "# (b)\n",
    "valuetype(b)"
   ]
  },
  {
   "cell_type": "code",
   "execution_count": 6,
   "metadata": {
    "collapsed": false
   },
   "outputs": [
    {
     "name": "stdout",
     "output_type": "stream",
     "text": [
      "Value and type: abc, <class 'str'>\n"
     ]
    }
   ],
   "source": [
    "# (c)\n",
    "valuetype(c)"
   ]
  },
  {
   "cell_type": "code",
   "execution_count": 7,
   "metadata": {
    "collapsed": false
   },
   "outputs": [
    {
     "name": "stdout",
     "output_type": "stream",
     "text": [
      "Value and type: ['This', 'is', 'not', 'a', 'string'], <class 'list'>\n"
     ]
    }
   ],
   "source": [
    "# (d)\n",
    "valuetype(d)"
   ]
  },
  {
   "cell_type": "code",
   "execution_count": 8,
   "metadata": {
    "collapsed": false
   },
   "outputs": [
    {
     "name": "stdout",
     "output_type": "stream",
     "text": [
      "Value and type: a, <class 'str'>\n"
     ]
    }
   ],
   "source": [
    "# (e)\n",
    "valuetype(e)"
   ]
  },
  {
   "cell_type": "code",
   "execution_count": null,
   "metadata": {
    "collapsed": true
   },
   "outputs": [],
   "source": []
  },
  {
   "cell_type": "markdown",
   "metadata": {},
   "source": [
    "## Question 2\n",
    "\n",
    "As above describe the value and type of each variable.  (These are more challenging.)   \n",
    "\n",
    "(f) `f = (1, 2, 3)`\n",
    "\n",
    "(g) `g = {1: 'Chase', 2: 'Dave', 3: 'Spencer'}` \n",
    "\n",
    "(h) `h = 'foo' + 'bar'`\n",
    "\n",
    "(i) `i = (1 != 0)`   # parens not needed, but they make code more understandable\n",
    "\n",
    "(20 points) "
   ]
  },
  {
   "cell_type": "code",
   "execution_count": 9,
   "metadata": {
    "collapsed": false
   },
   "outputs": [],
   "source": [
    "f = (1, 2, 3)\n",
    "g = {1: 'Chase', 2: 'Dave', 3: 'Spencer'}\n",
    "h = 'foo' + 'bar'\n",
    "i = (1 != 0) "
   ]
  },
  {
   "cell_type": "code",
   "execution_count": 10,
   "metadata": {
    "collapsed": false
   },
   "outputs": [
    {
     "name": "stdout",
     "output_type": "stream",
     "text": [
      "Value and type: (1, 2, 3), <class 'tuple'>\n"
     ]
    }
   ],
   "source": [
    "# (f)\n",
    "valuetype(f)"
   ]
  },
  {
   "cell_type": "code",
   "execution_count": 11,
   "metadata": {
    "collapsed": false
   },
   "outputs": [
    {
     "name": "stdout",
     "output_type": "stream",
     "text": [
      "Value and type: {1: 'Chase', 2: 'Dave', 3: 'Spencer'}, <class 'dict'>\n"
     ]
    }
   ],
   "source": [
    "# (g)\n",
    "valuetype(g)"
   ]
  },
  {
   "cell_type": "code",
   "execution_count": 12,
   "metadata": {
    "collapsed": false
   },
   "outputs": [
    {
     "name": "stdout",
     "output_type": "stream",
     "text": [
      "Value and type: foobar, <class 'str'>\n"
     ]
    }
   ],
   "source": [
    "# (h)\n",
    "valuetype(h)"
   ]
  },
  {
   "cell_type": "code",
   "execution_count": 13,
   "metadata": {
    "collapsed": false
   },
   "outputs": [
    {
     "name": "stdout",
     "output_type": "stream",
     "text": [
      "Value and type: True, <class 'bool'>\n"
     ]
    }
   ],
   "source": [
    "# (i)\n",
    "valuetype(i)"
   ]
  },
  {
   "cell_type": "code",
   "execution_count": null,
   "metadata": {
    "collapsed": true
   },
   "outputs": [],
   "source": []
  },
  {
   "cell_type": "markdown",
   "metadata": {},
   "source": [
    "## Question 3\n",
    "\n",
    "Explain the code below -- briefly -- in a Markdown cell.  What happens if we change the first line to `torf = False`? \n",
    "\n",
    "(10 points)"
   ]
  },
  {
   "cell_type": "code",
   "execution_count": 14,
   "metadata": {
    "collapsed": false
   },
   "outputs": [
    {
     "name": "stdout",
     "output_type": "stream",
     "text": [
      "x = 1\n"
     ]
    }
   ],
   "source": [
    "torf = True\n",
    "\n",
    "if torf: \n",
    "    x = 1\n",
    "else:\n",
    "    x = 2\n",
    "    \n",
    "print('x =', x) "
   ]
  },
  {
   "cell_type": "markdown",
   "metadata": {
    "collapsed": true
   },
   "source": [
    "Changed cell to Markdown with menu at top \n",
    "\n",
    "The code from if on:\n",
    "\n",
    "* if torf is True, set x=1\n",
    "* if torf is False, we set x=2\n",
    "\n",
    "At the top, torf is True, so we do the first one (x=1).  If we change it to False, we do the second one (x=2)."
   ]
  },
  {
   "cell_type": "code",
   "execution_count": null,
   "metadata": {
    "collapsed": true
   },
   "outputs": [],
   "source": []
  },
  {
   "cell_type": "markdown",
   "metadata": {},
   "source": [
    "## Question 4 \n",
    "\n",
    "Take the `first` and `last` variables defined in the cell below and do the following with them:  \n",
    "\n",
    "(a) Extract the first letter of `last`.  \n",
    "\n",
    "(b) Find a method to _split_ `last` into two components at the hyphen.  \n",
    "\n",
    "(c) Define a new string variable named `combo` consisting of `first` (the first name), a space, the first letter of `last`, and a period.  \n",
    "\n",
    "(d) Define a function that takes as inputs first and last names (both strings) and returns `combo` (also a string, consisting of the first name plus the first letter of the last name and a period).  Apply it to the variables `first` and `last` and to your own first and last names.  \n",
    "\n",
    "(20 points)"
   ]
  },
  {
   "cell_type": "code",
   "execution_count": 1,
   "metadata": {
    "collapsed": true
   },
   "outputs": [],
   "source": [
    "first = 'Sarah'\n",
    "last  = 'Beckett-Hile' "
   ]
  },
  {
   "cell_type": "code",
   "execution_count": 2,
   "metadata": {
    "collapsed": false
   },
   "outputs": [
    {
     "data": {
      "text/plain": [
       "'S'"
      ]
     },
     "execution_count": 2,
     "metadata": {},
     "output_type": "execute_result"
    }
   ],
   "source": [
    "# (a)\n",
    "firstoffirst = first[0]\n",
    "firstoffirst"
   ]
  },
  {
   "cell_type": "code",
   "execution_count": 3,
   "metadata": {
    "collapsed": false
   },
   "outputs": [
    {
     "data": {
      "text/plain": [
       "['Beckett', 'Hile']"
      ]
     },
     "execution_count": 3,
     "metadata": {},
     "output_type": "execute_result"
    }
   ],
   "source": [
    "# (b) \n",
    "last.split('-')"
   ]
  },
  {
   "cell_type": "code",
   "execution_count": 4,
   "metadata": {
    "collapsed": false
   },
   "outputs": [
    {
     "data": {
      "text/plain": [
       "'Sarah B.'"
      ]
     },
     "execution_count": 4,
     "metadata": {},
     "output_type": "execute_result"
    }
   ],
   "source": [
    "# (c) \n",
    "combo = first + ' ' + last[0] + '.'\n",
    "combo"
   ]
  },
  {
   "cell_type": "code",
   "execution_count": 19,
   "metadata": {
    "collapsed": false
   },
   "outputs": [
    {
     "data": {
      "text/plain": [
       "'Sarah B.'"
      ]
     },
     "execution_count": 19,
     "metadata": {},
     "output_type": "execute_result"
    }
   ],
   "source": [
    "# (d) \n",
    "def lastinitial(name1, name2):\n",
    "    combo = name1 + ' ' + name2[0] + '.'\n",
    "    return combo\n",
    "\n",
    "lastinitial(first, last)"
   ]
  },
  {
   "cell_type": "code",
   "execution_count": 20,
   "metadata": {
    "collapsed": false
   },
   "outputs": [
    {
     "data": {
      "text/plain": [
       "'Chase C.'"
      ]
     },
     "execution_count": 20,
     "metadata": {},
     "output_type": "execute_result"
    }
   ],
   "source": [
    "lastinitial('Chase', 'Coleman')"
   ]
  },
  {
   "cell_type": "code",
   "execution_count": null,
   "metadata": {
    "collapsed": true
   },
   "outputs": [],
   "source": []
  },
  {
   "cell_type": "markdown",
   "metadata": {},
   "source": [
    "##  Question 5\n",
    "\n",
    "Consider the variable `things = [1, '2', 3.0, 'four']`.  \n",
    "\n",
    "(a) Write a loop that goes through the elements of `things` and prints them and their type.\n",
    "\n",
    "(b) Modify the loop to print only those elements that are integers. \n",
    "\n",
    "(10 points) \n",
    "\n",
    "(c) *Bonus (not graded)*: Can you do parts (a) and (b) with a list comprehension?"
   ]
  },
  {
   "cell_type": "code",
   "execution_count": 21,
   "metadata": {
    "collapsed": false
   },
   "outputs": [],
   "source": [
    "things = [1, '2', 3.0, 'four']"
   ]
  },
  {
   "cell_type": "code",
   "execution_count": 22,
   "metadata": {
    "collapsed": false
   },
   "outputs": [
    {
     "name": "stdout",
     "output_type": "stream",
     "text": [
      "Value and type: 1, <class 'int'>\n",
      "Value and type: 2, <class 'str'>\n",
      "Value and type: 3.0, <class 'float'>\n",
      "Value and type: four, <class 'str'>\n"
     ]
    }
   ],
   "source": [
    "# (a) \n",
    "for thing in things:\n",
    "    print('Value and type: ', thing, ', ', type(thing), sep='')"
   ]
  },
  {
   "cell_type": "code",
   "execution_count": 23,
   "metadata": {
    "collapsed": false
   },
   "outputs": [
    {
     "name": "stdout",
     "output_type": "stream",
     "text": [
      "Value and type: 1, <class 'int'>\n"
     ]
    }
   ],
   "source": [
    "# (b) \n",
    "for thing in things:\n",
    "    if type(thing) == int:\n",
    "        print('Value and type: ', thing, ', ', type(thing), sep='')"
   ]
  },
  {
   "cell_type": "code",
   "execution_count": 24,
   "metadata": {
    "collapsed": false
   },
   "outputs": [
    {
     "name": "stdout",
     "output_type": "stream",
     "text": [
      "Value and type: 1, <class 'int'>\n",
      "Value and type: 2, <class 'str'>\n",
      "Value and type: 3.0, <class 'float'>\n",
      "Value and type: four, <class 'str'>\n"
     ]
    },
    {
     "data": {
      "text/plain": [
       "[None, None, None, None]"
      ]
     },
     "execution_count": 24,
     "metadata": {},
     "output_type": "execute_result"
    }
   ],
   "source": [
    "# (c) \n",
    "[print('Value and type: ', thing, ', ', type(thing), sep='') for thing in things]"
   ]
  },
  {
   "cell_type": "code",
   "execution_count": 25,
   "metadata": {
    "collapsed": false
   },
   "outputs": [
    {
     "name": "stdout",
     "output_type": "stream",
     "text": [
      "Value and type: 1, <class 'int'>\n"
     ]
    },
    {
     "data": {
      "text/plain": [
       "[None]"
      ]
     },
     "execution_count": 25,
     "metadata": {},
     "output_type": "execute_result"
    }
   ],
   "source": [
    "[print('Value and type: ', thing, ', ', type(thing), sep='') for thing in things\n",
    "    if type(thing) == int]"
   ]
  },
  {
   "cell_type": "code",
   "execution_count": null,
   "metadata": {
    "collapsed": true
   },
   "outputs": [],
   "source": []
  },
  {
   "cell_type": "markdown",
   "metadata": {},
   "source": [
    "## Question 6\n",
    "\n",
    "Next up:  We explore the Census's *Business Dynamics Statistics*, a huge collection of data about firms.  We've extracted a small piece of one of their databases that includes these variables for 2013:\n",
    "\n",
    "* `Size`:  size category of firms based on number of employees \n",
    "* `Firms`:  number of firms in this size category\n",
    "* `Emp`:  number of employees in this size category \n",
    "\n",
    "Run the code cell below to load the data and use the result to answer these questions:  \n",
    "\n",
    "(a) What type of object is `bsd`?\n",
    "\n",
    "(b) What are its dimensions?\n",
    "\n",
    "(c) What are its column labels?  Row labels?\n",
    "\n",
    "(d) What dtypes are the columns?   \n",
    "\n",
    "(20 points) "
   ]
  },
  {
   "cell_type": "code",
   "execution_count": 27,
   "metadata": {
    "collapsed": false
   },
   "outputs": [],
   "source": [
    "data = {'Size': ['1 to 4', '5 to 9', '10 to 19', '20 to 49', '50 to 99',\n",
    "                 '100 to 249', '250 to 499', '500 to 999', '1000 to 2499',\n",
    "                 '2500 to 4999', '5000 to 9999', '10000+'], \n",
    "        'Firms': [2846416, 1020772, 598153, 373345, 115544, 63845,\n",
    "                  19389, 9588, 6088, 2287, 1250, 1357], \n",
    "        'Emp': [5998912, 6714924, 8151891, 11425545, 8055535, 9788341, \n",
    "                6611734, 6340775, 8321486, 6738218, 6559020, 32556671]}\n",
    "bds = pd.DataFrame(data) \n",
    "bds = bds.set_index('Size')"
   ]
  },
  {
   "cell_type": "code",
   "execution_count": 28,
   "metadata": {
    "collapsed": false
   },
   "outputs": [
    {
     "data": {
      "text/plain": [
       "pandas.core.frame.DataFrame"
      ]
     },
     "execution_count": 28,
     "metadata": {},
     "output_type": "execute_result"
    }
   ],
   "source": [
    "# (a)\n",
    "type(bds)"
   ]
  },
  {
   "cell_type": "code",
   "execution_count": 29,
   "metadata": {
    "collapsed": false
   },
   "outputs": [
    {
     "data": {
      "text/plain": [
       "(12, 2)"
      ]
     },
     "execution_count": 29,
     "metadata": {},
     "output_type": "execute_result"
    }
   ],
   "source": [
    "# (b)\n",
    "bds.shape"
   ]
  },
  {
   "cell_type": "code",
   "execution_count": 30,
   "metadata": {
    "collapsed": false
   },
   "outputs": [
    {
     "data": {
      "text/plain": [
       "['Emp', 'Firms']"
      ]
     },
     "execution_count": 30,
     "metadata": {},
     "output_type": "execute_result"
    }
   ],
   "source": [
    "(c)\n",
    "list(bds)  # or bsd.columns"
   ]
  },
  {
   "cell_type": "code",
   "execution_count": 31,
   "metadata": {
    "collapsed": false
   },
   "outputs": [
    {
     "data": {
      "text/plain": [
       "Index(['1 to 4', '5 to 9', '10 to 19', '20 to 49', '50 to 99', '100 to 249',\n",
       "       '250 to 499', '500 to 999', '1000 to 2499', '2500 to 4999',\n",
       "       '5000 to 9999', '10000+'],\n",
       "      dtype='object', name='Size')"
      ]
     },
     "execution_count": 31,
     "metadata": {},
     "output_type": "execute_result"
    }
   ],
   "source": [
    "bds.index"
   ]
  },
  {
   "cell_type": "code",
   "execution_count": 32,
   "metadata": {
    "collapsed": false
   },
   "outputs": [
    {
     "data": {
      "text/plain": [
       "Emp      int64\n",
       "Firms    int64\n",
       "dtype: object"
      ]
     },
     "execution_count": 32,
     "metadata": {},
     "output_type": "execute_result"
    }
   ],
   "source": [
    "# (d)\n",
    "bds.dtypes"
   ]
  },
  {
   "cell_type": "code",
   "execution_count": null,
   "metadata": {
    "collapsed": true
   },
   "outputs": [],
   "source": []
  },
  {
   "cell_type": "markdown",
   "metadata": {},
   "source": [
    "## Question 7\n",
    "\n",
    "Continuing with the same data:  \n",
    "\n",
    "(a) Create a new variable `AvgEmp` equal to the ratio of `Emp` to `Firms` and add it as a new column in `bsd`.\n",
    "\n",
    "(b) Use a dataframe method to change the name of `Emp` to `Employees`. \n",
    "\n",
    "(c) Create a bar chart of the number of employees in each size category.  \n",
    "\n",
    "(15 points) "
   ]
  },
  {
   "cell_type": "code",
   "execution_count": 33,
   "metadata": {
    "collapsed": false
   },
   "outputs": [
    {
     "data": {
      "text/html": [
       "<div>\n",
       "<table border=\"1\" class=\"dataframe\">\n",
       "  <thead>\n",
       "    <tr style=\"text-align: right;\">\n",
       "      <th></th>\n",
       "      <th>Emp</th>\n",
       "      <th>Firms</th>\n",
       "      <th>AvgEmp</th>\n",
       "    </tr>\n",
       "    <tr>\n",
       "      <th>Size</th>\n",
       "      <th></th>\n",
       "      <th></th>\n",
       "      <th></th>\n",
       "    </tr>\n",
       "  </thead>\n",
       "  <tbody>\n",
       "    <tr>\n",
       "      <th>1 to 4</th>\n",
       "      <td>5998912</td>\n",
       "      <td>2846416</td>\n",
       "      <td>2.107532</td>\n",
       "    </tr>\n",
       "    <tr>\n",
       "      <th>5 to 9</th>\n",
       "      <td>6714924</td>\n",
       "      <td>1020772</td>\n",
       "      <td>6.578280</td>\n",
       "    </tr>\n",
       "    <tr>\n",
       "      <th>10 to 19</th>\n",
       "      <td>8151891</td>\n",
       "      <td>598153</td>\n",
       "      <td>13.628438</td>\n",
       "    </tr>\n",
       "  </tbody>\n",
       "</table>\n",
       "</div>"
      ],
      "text/plain": [
       "              Emp    Firms     AvgEmp\n",
       "Size                                 \n",
       "1 to 4    5998912  2846416   2.107532\n",
       "5 to 9    6714924  1020772   6.578280\n",
       "10 to 19  8151891   598153  13.628438"
      ]
     },
     "execution_count": 33,
     "metadata": {},
     "output_type": "execute_result"
    }
   ],
   "source": [
    "# (a) \n",
    "bds['AvgEmp'] = bds['Emp']/bds['Firms']\n",
    "bds.head(3)"
   ]
  },
  {
   "cell_type": "code",
   "execution_count": 34,
   "metadata": {
    "collapsed": false
   },
   "outputs": [
    {
     "data": {
      "text/html": [
       "<div>\n",
       "<table border=\"1\" class=\"dataframe\">\n",
       "  <thead>\n",
       "    <tr style=\"text-align: right;\">\n",
       "      <th></th>\n",
       "      <th>Employment</th>\n",
       "      <th>Firms</th>\n",
       "      <th>AvgEmp</th>\n",
       "    </tr>\n",
       "    <tr>\n",
       "      <th>Size</th>\n",
       "      <th></th>\n",
       "      <th></th>\n",
       "      <th></th>\n",
       "    </tr>\n",
       "  </thead>\n",
       "  <tbody>\n",
       "    <tr>\n",
       "      <th>1 to 4</th>\n",
       "      <td>5998912</td>\n",
       "      <td>2846416</td>\n",
       "      <td>2.107532</td>\n",
       "    </tr>\n",
       "    <tr>\n",
       "      <th>5 to 9</th>\n",
       "      <td>6714924</td>\n",
       "      <td>1020772</td>\n",
       "      <td>6.578280</td>\n",
       "    </tr>\n",
       "    <tr>\n",
       "      <th>10 to 19</th>\n",
       "      <td>8151891</td>\n",
       "      <td>598153</td>\n",
       "      <td>13.628438</td>\n",
       "    </tr>\n",
       "  </tbody>\n",
       "</table>\n",
       "</div>"
      ],
      "text/plain": [
       "          Employment    Firms     AvgEmp\n",
       "Size                                    \n",
       "1 to 4       5998912  2846416   2.107532\n",
       "5 to 9       6714924  1020772   6.578280\n",
       "10 to 19     8151891   598153  13.628438"
      ]
     },
     "execution_count": 34,
     "metadata": {},
     "output_type": "execute_result"
    }
   ],
   "source": [
    "# (b) \n",
    "bds = bds.rename(columns={'Emp': 'Employment'})\n",
    "bds.head(3)"
   ]
  },
  {
   "cell_type": "code",
   "execution_count": 35,
   "metadata": {
    "collapsed": false
   },
   "outputs": [
    {
     "data": {
      "text/plain": [
       "<matplotlib.axes._subplots.AxesSubplot at 0x8a7f860>"
      ]
     },
     "execution_count": 35,
     "metadata": {},
     "output_type": "execute_result"
    },
    {
     "data": {
      "image/png": "[encoded data removed]",
      "text/plain": [
       "<matplotlib.figure.Figure at 0x8a63a58>"
      ]
     },
     "metadata": {},
     "output_type": "display_data"
    }
   ],
   "source": [
    "# (c)\n",
    "bds['Employment'].plot.bar()"
   ]
  },
  {
   "cell_type": "code",
   "execution_count": null,
   "metadata": {
    "collapsed": true
   },
   "outputs": [],
   "source": []
  },
  {
   "cell_type": "markdown",
   "metadata": {},
   "source": [
    "## Question 8\n",
    "\n",
    "Still continuing with the same data:  \n",
    "\n",
    "(a) Create figure and axis objects.  \n",
    "\n",
    "(b) Add a horizontal bar chart of the number of firms in each category to the axis object you created. \n",
    "\n",
    "(c) Make the bars red. \n",
    "\n",
    "(d) Add a title.\n",
    "\n",
    "(e) Change the style to `fivethirtyeight`.  \n",
    "\n",
    "(25 points) "
   ]
  },
  {
   "cell_type": "code",
   "execution_count": 36,
   "metadata": {
    "collapsed": false,
    "scrolled": true
   },
   "outputs": [
    {
     "data": {
      "text/plain": [
       "<matplotlib.text.Text at 0x90ad828>"
      ]
     },
     "execution_count": 36,
     "metadata": {},
     "output_type": "execute_result"
    },
    {
     "data": {
      "image/png": "[encoded data removed]",
      "text/plain": [
       "<matplotlib.figure.Figure at 0x907b390>"
      ]
     },
     "metadata": {},
     "output_type": "display_data"
    }
   ],
   "source": [
    "# everything has to be in same cell to apply to the same figure\n",
    "plt.style.use('fivethirtyeight')  # (e) \n",
    "fig, ax = plt.subplots()  # (a) \n",
    "bds['Firms'].plot.barh(ax=ax, color='red')  # (b,c) \n",
    "ax.set_title('Numbers of firms by employment category')  # (d) "
   ]
  },
  {
   "cell_type": "markdown",
   "metadata": {},
   "source": [
    "**Comment.** Evidently there are lots of small firms. "
   ]
  },
  {
   "cell_type": "code",
   "execution_count": null,
   "metadata": {
    "collapsed": true
   },
   "outputs": [],
   "source": []
  }
 ],
 "metadata": {
  "kernelspec": {
   "display_name": "Python 3",
   "language": "python",
   "name": "python3"
  },
  "language_info": {
   "codemirror_mode": {
    "name": "ipython",
    "version": 3
   },
   "file_extension": ".py",
   "mimetype": "text/x-python",
   "name": "python",
   "nbconvert_exporter": "python",
   "pygments_lexer": "ipython3",
   "version": "3.5.1"
  }
 },
 "nbformat": 4,
 "nbformat_minor": 0
}
