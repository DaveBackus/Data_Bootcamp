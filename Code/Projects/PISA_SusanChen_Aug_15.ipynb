{
 "cells": [
  {
   "cell_type": "markdown",
   "metadata": {},
   "source": [
    "# Is there a relationship between GDP per capita and PISA scores?\n",
    "\n",
    "July 2015 \n",
    "\n",
    "Written by Susan Chen at NYU Stern with help from Professor David Backus\n",
    "\n",
    "Contact: <jiachen2017@u.northwestern.edu>\n",
    "\n",
    "##About PISA\n",
    "\n",
    "Since 2000, the Programme for International Student Assessment (PISA) has been administered every three years to evaluate education systems around the world. It also gathers family and education background information through surveys. The test, which assesses 15-year-old students in reading, math, and science, is administered to a total of around 510,000 students in 65 countries. The duration of the test is two hours, and it contains a mix of open-ended and multiple-choice questions. Learn more about the test [here](http://www.oecd.org/pisa/test/).  \n",
    "\n",
    "I am interested in seeing if there is a correlation between a nation's wealth and their PISA scores. Do wealthier countries generally attain higher scores, and if so, to what extent? I am using GDP per capita as the economic measure of wealth because this is information that could be sensitive to population numbers so GDP per capita in theory should allow us to compare larger countries (in terms of geography or population) with small countries. \n",
    "\n",
    " \n",
    "##Abstract \n",
    "\n",
    "In terms of the correlation between GDP per capita and each component of the PISA, the r-squared values for an OLS regression model, which usually reflect how well the model fits the data, are 0.57, 0.63, and 0.57 for reading, math, and science, respectively. Qatar and Vietnam, outliers, are excluded from the model."
   ]
  },
  {
   "cell_type": "markdown",
   "metadata": {},
   "source": [
    "####Packages Imported\n",
    "I use **matplotlib.pyplot** to plot scatter plots. I use **pandas**, a Python package that allows for fast data manipulation and analysis, to organize my dataset. I access World Bank data through the remote data access API for pandas, **pandas.io**.  I also use **numpy**, a Python package for scientific computing, for the mathematical calculations that were needed to fit the data more appropriately. Lastly, I use **statmodels.formula.api**, a Python module used for a variety of statistical computations, for running an OLS linear regression. "
   ]
  },
  {
   "cell_type": "code",
   "execution_count": 464,
   "metadata": {
    "collapsed": true
   },
   "outputs": [],
   "source": [
    "%matplotlib inline\n",
    "import matplotlib.pyplot as plt\n",
    "import pandas as pd\n",
    "import numpy as np\n",
    "import statsmodels.formula.api as smf\n",
    "from pandas.io import wb"
   ]
  },
  {
   "cell_type": "markdown",
   "metadata": {},
   "source": [
    "##Creating the Dataset"
   ]
  },
  {
   "cell_type": "code",
   "execution_count": 465,
   "metadata": {
    "collapsed": false
   },
   "outputs": [],
   "source": [
    "file1 = '/users/susan/desktop/PISA/PISA2012clean.csv' # file location\n",
    "df1 = pd.read_csv(file1)\n",
    "\n",
    "#pandas remote data access API for World Bank GDP per capita data\n",
    "df2 = wb.download(indicator='NY.GDP.PCAP.PP.KD', country='all', start=2012, end=2012)"
   ]
  },
  {
   "cell_type": "code",
   "execution_count": 466,
   "metadata": {
    "collapsed": false
   },
   "outputs": [],
   "source": [
    "#drop multilevel index \n",
    "df2.index = df2.index.droplevel('year') "
   ]
  },
  {
   "cell_type": "code",
   "execution_count": 467,
   "metadata": {
    "collapsed": false
   },
   "outputs": [],
   "source": [
    "df1.columns = ['Country','Math','Reading','Science']\n",
    "df2.columns = ['GDPpc']"
   ]
  },
  {
   "cell_type": "code",
   "execution_count": 468,
   "metadata": {
    "collapsed": false
   },
   "outputs": [],
   "source": [
    "#combine PISA and GDP datasets based on country column  \n",
    "df3 = pd.merge(df1, df2, how='left', left_on = 'Country', right_index = True) "
   ]
  },
  {
   "cell_type": "code",
   "execution_count": 469,
   "metadata": {
    "collapsed": false
   },
   "outputs": [],
   "source": [
    "df3.columns = ['Country','Math','Reading','Science','GDPpc']"
   ]
  },
  {
   "cell_type": "code",
   "execution_count": 470,
   "metadata": {
    "collapsed": true
   },
   "outputs": [],
   "source": [
    "#drop rows with missing GDP per capita values\n",
    "df3 = df3[pd.notnull(df3['GDPpc'])] "
   ]
  },
  {
   "cell_type": "code",
   "execution_count": 471,
   "metadata": {
    "collapsed": false,
    "scrolled": true
   },
   "outputs": [
    {
     "name": "stdout",
     "output_type": "stream",
     "text": [
      "                 Country  Math  Reading  Science          GDPpc\n",
      "2              Singapore   573      542      551   75630.362887\n",
      "3   Hong Kong SAR, China   561      545      555   50346.649117\n",
      "5            Korea, Rep.   554      536      538   31901.072927\n",
      "6       Macao SAR, China   538      509      521  125515.187908\n",
      "7                  Japan   536      538      547   34987.608282\n",
      "9            Switzerland   531      509      515   54573.197208\n",
      "10           Netherlands   523      511      522   45484.082518\n",
      "11               Estonia   521      516      541   24760.559867\n",
      "12               Finland   519      524      545   39488.977536\n",
      "13                Canada   518      523      525   41865.045517\n",
      "14                Poland   518      518      526   22740.224933\n",
      "15               Belgium   515      509      505   40687.440797\n",
      "16               Germany   514      508      524   42958.772318\n",
      "17               Vietnam   511      508      528    4912.322206\n",
      "18               Austria   506      490      506   44215.863721\n",
      "19             Australia   504      512      521   42521.714986\n",
      "20               Ireland   501      523      522   44673.440616\n",
      "21              Slovenia   501      481      514   27681.668389\n",
      "22               Denmark   500      496      498   42868.645335\n",
      "23           New Zealand   500      512      516   32805.756325\n",
      "24        Czech Republic   499      493      508   28332.591265\n",
      "25                France   495      505      499   37226.961708\n",
      "26        United Kingdom   494      499      514   36535.374819\n",
      "27               Iceland   493      483      478   39925.369977\n",
      "28                Latvia   491      489      502   20597.467915\n",
      "29            Luxembourg   490      488      491   89153.059332\n",
      "30                Norway   489      504      495   63620.043290\n",
      "31              Portugal   487      488      489   25952.506623\n",
      "32                 Italy   485      490      494   34812.683721\n",
      "33                 Spain   484      488      496   31970.720637\n",
      "..                   ...   ...      ...      ...            ...\n",
      "35       Slovak Republic   482      463      471   25424.359256\n",
      "36         United States   481      498      497   50549.187136\n",
      "37             Lithuania   479      477      496   23710.978341\n",
      "38                Sweden   478      483      485   43262.833999\n",
      "39               Hungary   477      488      494   22305.839751\n",
      "40               Croatia   471      485      491   20182.830175\n",
      "41                Israel   466      486      470   30518.063020\n",
      "42                Greece   453      477      467   24990.769394\n",
      "43                Serbia   449      446      445   12504.790356\n",
      "44                Turkey   448      475      463   18057.160189\n",
      "45               Romania   445      438      439   17502.038714\n",
      "46                Cyprus   440      449      438   31709.765453\n",
      "47              Bulgaria   439      436      446   15442.810193\n",
      "48  United Arab Emirates   434      442      448   57028.224546\n",
      "49            Kazakhstan   432      393      425   21505.651217\n",
      "50              Thailand   427      441      444   13586.110882\n",
      "51                 Chile   423      441      445   21049.519788\n",
      "52              Malaysia   421      398      420   21920.222472\n",
      "53                Mexico   413      424      415   16320.144646\n",
      "54            Montenegro   410      422      410   13711.739482\n",
      "55               Uruguay   409      411      416   18447.275504\n",
      "56            Costa Rica   407      441      429   13161.713132\n",
      "57               Albania   394      394      397    9811.150106\n",
      "58                Brazil   391      410      405   15233.719298\n",
      "60               Tunisia   388      404      398   10609.051596\n",
      "61                Jordan   386      399      409   11340.226773\n",
      "62              Colombia   376      403      399   11635.983719\n",
      "63                 Qatar   376      388      384  130989.826004\n",
      "64             Indonesia   375      396      382    9326.838608\n",
      "65                  Peru   368      384      373   10912.561600\n",
      "\n",
      "[61 rows x 5 columns]\n"
     ]
    }
   ],
   "source": [
    "print (df3)"
   ]
  },
  {
   "cell_type": "markdown",
   "metadata": {},
   "source": [
    "##Excluding Outliers \n",
    "\n",
    "I initially plotted the data and ran the regression without excluding any outliers. The resulting r-squared values for reading, math, and science were 0.29, 0.32, and 0.27, respectively. Looking at the scatter plot, there seem to be two obvious outliers, Qatar and Vietnam. I decided to exclude the data for these two countries because the remaining countries do seem to form a trend. I found upon excluding them that the correlation between GDP per capita and scores was much higher. \n",
    "\n",
    "Qatar is an outlier as it placed relatively low, 63rd out of the 65 countries, with a relatively high GDP per capita at about $131000. Qatar has a high GDP per capita for a country with just 1.8 million people, and only 13% of which are Qatari nationals. Qatar is a high income economy as it contains one of the world's largest natural gas and oil reserves.\n",
    "\n",
    "[Vietnam](http://www.economist.com/blogs/banyan/2013/12/education-vietnam) is an outlier because it placed relatively high, 17th out of the 65 countries, with a relatively low GDP per capita at about $4900. Reasons for Vietnam's high score may be due to the investment of the government in education and the uniformity of classroom professionalism and discipline found across countries. At the same time, rote learning is much more emphasized than creative thinking, and it is important to note that many disadvantaged students are forced to drop out, reasons which may account for the high score. "
   ]
  },
  {
   "cell_type": "code",
   "execution_count": 472,
   "metadata": {
    "collapsed": true
   },
   "outputs": [],
   "source": [
    "df3.index = df3.Country #set country column as the index \n",
    "df3 = df3.drop(['Qatar', 'Vietnam']) # drop outlier"
   ]
  },
  {
   "cell_type": "markdown",
   "metadata": {},
   "source": [
    "##Plotting the Data\n",
    "\n",
    "I use the log of the GDP per capita to plot against each component of the PISA on a scatter plot. "
   ]
  },
  {
   "cell_type": "code",
   "execution_count": 473,
   "metadata": {
    "collapsed": false
   },
   "outputs": [
    {
     "data": {
      "image/png": "[encoded data removed]",
      "text/plain": [
       "<matplotlib.figure.Figure at 0x10b617470>"
      ]
     },
     "metadata": {},
     "output_type": "display_data"
    },
    {
     "data": {
      "image/png": "[encoded data removed]",
      "text/plain": [
       "<matplotlib.figure.Figure at 0x10af2e0b8>"
      ]
     },
     "metadata": {},
     "output_type": "display_data"
    },
    {
     "data": {
      "image/png": "[encoded data removed]",
      "text/plain": [
       "<matplotlib.figure.Figure at 0x10adf7710>"
      ]
     },
     "metadata": {},
     "output_type": "display_data"
    }
   ],
   "source": [
    "Reading = df3.Reading\n",
    "Science = df3.Science\n",
    "Math = df3.Math\n",
    "GDP = np.log(df3.GDPpc)\n",
    "\n",
    "#PISA reading vs GDP per capita\n",
    "plt.scatter(x = GDP, y = Reading, color = 'r') \n",
    "plt.title('PISA 2012 Reading scores vs. GDP per capita')\n",
    "plt.xlabel('GDP per capita (log)')\n",
    "plt.ylabel('PISA Reading Score')\n",
    "plt.show()\n",
    "\n",
    "#PISA math vs GDP per capita\n",
    "plt.scatter(x = GDP, y = Math, color = 'b')\n",
    "plt.title('PISA 2012 Math scores vs. GDP per capita')\n",
    "plt.xlabel('GDP per capita (log)')\n",
    "plt.ylabel('PISA Math Score')\n",
    "plt.show()\n",
    "\n",
    "#PISA science vs GDP per capita\n",
    "plt.scatter(x = GDP, y = Science, color = 'g')\n",
    "plt.title('PISA 2012 Science scores vs. GDP per capita')\n",
    "plt.xlabel('GDP per capita (log)')\n",
    "plt.ylabel('PISA Science Score')\n",
    "plt.show()\n"
   ]
  },
  {
   "cell_type": "markdown",
   "metadata": {},
   "source": [
    "##Regression Analysis\n",
    "\n",
    "The OLS regression results indicate that the there is a 0.57 correlation betweeen reading scores and GDP per capita, 0.63 between math scores and GDP per capita, and 0.57 between science scores and GDP per capita. "
   ]
  },
  {
   "cell_type": "code",
   "execution_count": 474,
   "metadata": {
    "collapsed": false
   },
   "outputs": [
    {
     "data": {
      "text/html": [
       "<table class=\"simpletable\">\n",
       "<caption>OLS Regression Results</caption>\n",
       "<tr>\n",
       "  <th>Dep. Variable:</th>         <td>Reading</td>     <th>  R-squared:         </th> <td>   0.573</td>\n",
       "</tr>\n",
       "<tr>\n",
       "  <th>Model:</th>                   <td>OLS</td>       <th>  Adj. R-squared:    </th> <td>   0.566</td>\n",
       "</tr>\n",
       "<tr>\n",
       "  <th>Method:</th>             <td>Least Squares</td>  <th>  F-statistic:       </th> <td>   76.56</td>\n",
       "</tr>\n",
       "<tr>\n",
       "  <th>Date:</th>             <td>Thu, 27 Aug 2015</td> <th>  Prob (F-statistic):</th> <td>3.97e-12</td>\n",
       "</tr>\n",
       "<tr>\n",
       "  <th>Time:</th>                 <td>23:11:11</td>     <th>  Log-Likelihood:    </th> <td> -281.78</td>\n",
       "</tr>\n",
       "<tr>\n",
       "  <th>No. Observations:</th>      <td>    59</td>      <th>  AIC:               </th> <td>   567.6</td>\n",
       "</tr>\n",
       "<tr>\n",
       "  <th>Df Residuals:</th>          <td>    57</td>      <th>  BIC:               </th> <td>   571.7</td>\n",
       "</tr>\n",
       "<tr>\n",
       "  <th>Df Model:</th>              <td>     1</td>      <th>                     </th>     <td> </td>   \n",
       "</tr>\n",
       "<tr>\n",
       "  <th>Covariance Type:</th>      <td>nonrobust</td>    <th>                     </th>     <td> </td>   \n",
       "</tr>\n",
       "</table>\n",
       "<table class=\"simpletable\">\n",
       "<tr>\n",
       "      <td></td>         <th>coef</th>     <th>std err</th>      <th>t</th>      <th>P>|t|</th> <th>[95.0% Conf. Int.]</th> \n",
       "</tr>\n",
       "<tr>\n",
       "  <th>Intercept</th> <td> -120.7619</td> <td>   67.968</td> <td>   -1.777</td> <td> 0.081</td> <td> -256.866    15.342</td>\n",
       "</tr>\n",
       "<tr>\n",
       "  <th>GDP</th>       <td>   58.1105</td> <td>    6.641</td> <td>    8.750</td> <td> 0.000</td> <td>   44.811    71.410</td>\n",
       "</tr>\n",
       "</table>\n",
       "<table class=\"simpletable\">\n",
       "<tr>\n",
       "  <th>Omnibus:</th>       <td> 2.433</td> <th>  Durbin-Watson:     </th> <td>   1.507</td>\n",
       "</tr>\n",
       "<tr>\n",
       "  <th>Prob(Omnibus):</th> <td> 0.296</td> <th>  Jarque-Bera (JB):  </th> <td>   1.893</td>\n",
       "</tr>\n",
       "<tr>\n",
       "  <th>Skew:</th>          <td>-0.436</td> <th>  Prob(JB):          </th> <td>   0.388</td>\n",
       "</tr>\n",
       "<tr>\n",
       "  <th>Kurtosis:</th>      <td> 3.091</td> <th>  Cond. No.          </th> <td>    185.</td>\n",
       "</tr>\n",
       "</table>"
      ],
      "text/plain": [
       "<class 'statsmodels.iolib.summary.Summary'>\n",
       "\"\"\"\n",
       "                            OLS Regression Results                            \n",
       "==============================================================================\n",
       "Dep. Variable:                Reading   R-squared:                       0.573\n",
       "Model:                            OLS   Adj. R-squared:                  0.566\n",
       "Method:                 Least Squares   F-statistic:                     76.56\n",
       "Date:                Thu, 27 Aug 2015   Prob (F-statistic):           3.97e-12\n",
       "Time:                        23:11:11   Log-Likelihood:                -281.78\n",
       "No. Observations:                  59   AIC:                             567.6\n",
       "Df Residuals:                      57   BIC:                             571.7\n",
       "Df Model:                           1                                         \n",
       "Covariance Type:            nonrobust                                         \n",
       "==============================================================================\n",
       "                 coef    std err          t      P>|t|      [95.0% Conf. Int.]\n",
       "------------------------------------------------------------------------------\n",
       "Intercept   -120.7619     67.968     -1.777      0.081      -256.866    15.342\n",
       "GDP           58.1105      6.641      8.750      0.000        44.811    71.410\n",
       "==============================================================================\n",
       "Omnibus:                        2.433   Durbin-Watson:                   1.507\n",
       "Prob(Omnibus):                  0.296   Jarque-Bera (JB):                1.893\n",
       "Skew:                          -0.436   Prob(JB):                        0.388\n",
       "Kurtosis:                       3.091   Cond. No.                         185.\n",
       "==============================================================================\n",
       "\n",
       "Warnings:\n",
       "[1] Standard Errors assume that the covariance matrix of the errors is correctly specified.\n",
       "\"\"\""
      ]
     },
     "execution_count": 474,
     "metadata": {},
     "output_type": "execute_result"
    }
   ],
   "source": [
    "lm = smf.ols(formula='Reading ~ GDP', data=df3).fit()\n",
    "lm2.params\n",
    "lm.summary()"
   ]
  },
  {
   "cell_type": "code",
   "execution_count": 475,
   "metadata": {
    "collapsed": false
   },
   "outputs": [
    {
     "data": {
      "text/html": [
       "<table class=\"simpletable\">\n",
       "<caption>OLS Regression Results</caption>\n",
       "<tr>\n",
       "  <th>Dep. Variable:</th>          <td>Math</td>       <th>  R-squared:         </th> <td>   0.628</td>\n",
       "</tr>\n",
       "<tr>\n",
       "  <th>Model:</th>                   <td>OLS</td>       <th>  Adj. R-squared:    </th> <td>   0.621</td>\n",
       "</tr>\n",
       "<tr>\n",
       "  <th>Method:</th>             <td>Least Squares</td>  <th>  F-statistic:       </th> <td>   96.02</td>\n",
       "</tr>\n",
       "<tr>\n",
       "  <th>Date:</th>             <td>Thu, 27 Aug 2015</td> <th>  Prob (F-statistic):</th> <td>7.87e-14</td>\n",
       "</tr>\n",
       "<tr>\n",
       "  <th>Time:</th>                 <td>23:11:11</td>     <th>  Log-Likelihood:    </th> <td> -285.45</td>\n",
       "</tr>\n",
       "<tr>\n",
       "  <th>No. Observations:</th>      <td>    59</td>      <th>  AIC:               </th> <td>   574.9</td>\n",
       "</tr>\n",
       "<tr>\n",
       "  <th>Df Residuals:</th>          <td>    57</td>      <th>  BIC:               </th> <td>   579.0</td>\n",
       "</tr>\n",
       "<tr>\n",
       "  <th>Df Model:</th>              <td>     1</td>      <th>                     </th>     <td> </td>   \n",
       "</tr>\n",
       "<tr>\n",
       "  <th>Covariance Type:</th>      <td>nonrobust</td>    <th>                     </th>     <td> </td>   \n",
       "</tr>\n",
       "</table>\n",
       "<table class=\"simpletable\">\n",
       "<tr>\n",
       "      <td></td>         <th>coef</th>     <th>std err</th>      <th>t</th>      <th>P>|t|</th> <th>[95.0% Conf. Int.]</th> \n",
       "</tr>\n",
       "<tr>\n",
       "  <th>Intercept</th> <td> -236.7352</td> <td>   72.330</td> <td>   -3.273</td> <td> 0.002</td> <td> -381.573   -91.898</td>\n",
       "</tr>\n",
       "<tr>\n",
       "  <th>GDP</th>       <td>   69.2546</td> <td>    7.068</td> <td>    9.799</td> <td> 0.000</td> <td>   55.102    83.407</td>\n",
       "</tr>\n",
       "</table>\n",
       "<table class=\"simpletable\">\n",
       "<tr>\n",
       "  <th>Omnibus:</th>       <td> 0.740</td> <th>  Durbin-Watson:     </th> <td>   1.545</td>\n",
       "</tr>\n",
       "<tr>\n",
       "  <th>Prob(Omnibus):</th> <td> 0.691</td> <th>  Jarque-Bera (JB):  </th> <td>   0.281</td>\n",
       "</tr>\n",
       "<tr>\n",
       "  <th>Skew:</th>          <td>-0.138</td> <th>  Prob(JB):          </th> <td>   0.869</td>\n",
       "</tr>\n",
       "<tr>\n",
       "  <th>Kurtosis:</th>      <td> 3.196</td> <th>  Cond. No.          </th> <td>    185.</td>\n",
       "</tr>\n",
       "</table>"
      ],
      "text/plain": [
       "<class 'statsmodels.iolib.summary.Summary'>\n",
       "\"\"\"\n",
       "                            OLS Regression Results                            \n",
       "==============================================================================\n",
       "Dep. Variable:                   Math   R-squared:                       0.628\n",
       "Model:                            OLS   Adj. R-squared:                  0.621\n",
       "Method:                 Least Squares   F-statistic:                     96.02\n",
       "Date:                Thu, 27 Aug 2015   Prob (F-statistic):           7.87e-14\n",
       "Time:                        23:11:11   Log-Likelihood:                -285.45\n",
       "No. Observations:                  59   AIC:                             574.9\n",
       "Df Residuals:                      57   BIC:                             579.0\n",
       "Df Model:                           1                                         \n",
       "Covariance Type:            nonrobust                                         \n",
       "==============================================================================\n",
       "                 coef    std err          t      P>|t|      [95.0% Conf. Int.]\n",
       "------------------------------------------------------------------------------\n",
       "Intercept   -236.7352     72.330     -3.273      0.002      -381.573   -91.898\n",
       "GDP           69.2546      7.068      9.799      0.000        55.102    83.407\n",
       "==============================================================================\n",
       "Omnibus:                        0.740   Durbin-Watson:                   1.545\n",
       "Prob(Omnibus):                  0.691   Jarque-Bera (JB):                0.281\n",
       "Skew:                          -0.138   Prob(JB):                        0.869\n",
       "Kurtosis:                       3.196   Cond. No.                         185.\n",
       "==============================================================================\n",
       "\n",
       "Warnings:\n",
       "[1] Standard Errors assume that the covariance matrix of the errors is correctly specified.\n",
       "\"\"\""
      ]
     },
     "execution_count": 475,
     "metadata": {},
     "output_type": "execute_result"
    }
   ],
   "source": [
    "lm2 = smf.ols(formula='Math ~ GDP', data=df3).fit()\n",
    "lm2.params\n",
    "lm2.summary()"
   ]
  },
  {
   "cell_type": "code",
   "execution_count": 476,
   "metadata": {
    "collapsed": false
   },
   "outputs": [
    {
     "data": {
      "text/html": [
       "<table class=\"simpletable\">\n",
       "<caption>OLS Regression Results</caption>\n",
       "<tr>\n",
       "  <th>Dep. Variable:</th>         <td>Science</td>     <th>  R-squared:         </th> <td>   0.569</td>\n",
       "</tr>\n",
       "<tr>\n",
       "  <th>Model:</th>                   <td>OLS</td>       <th>  Adj. R-squared:    </th> <td>   0.562</td>\n",
       "</tr>\n",
       "<tr>\n",
       "  <th>Method:</th>             <td>Least Squares</td>  <th>  F-statistic:       </th> <td>   75.30</td>\n",
       "</tr>\n",
       "<tr>\n",
       "  <th>Date:</th>             <td>Thu, 27 Aug 2015</td> <th>  Prob (F-statistic):</th> <td>5.22e-12</td>\n",
       "</tr>\n",
       "<tr>\n",
       "  <th>Time:</th>                 <td>23:11:11</td>     <th>  Log-Likelihood:    </th> <td> -286.69</td>\n",
       "</tr>\n",
       "<tr>\n",
       "  <th>No. Observations:</th>      <td>    59</td>      <th>  AIC:               </th> <td>   577.4</td>\n",
       "</tr>\n",
       "<tr>\n",
       "  <th>Df Residuals:</th>          <td>    57</td>      <th>  BIC:               </th> <td>   581.5</td>\n",
       "</tr>\n",
       "<tr>\n",
       "  <th>Df Model:</th>              <td>     1</td>      <th>                     </th>     <td> </td>   \n",
       "</tr>\n",
       "<tr>\n",
       "  <th>Covariance Type:</th>      <td>nonrobust</td>    <th>                     </th>     <td> </td>   \n",
       "</tr>\n",
       "</table>\n",
       "<table class=\"simpletable\">\n",
       "<tr>\n",
       "      <td></td>         <th>coef</th>     <th>std err</th>      <th>t</th>      <th>P>|t|</th> <th>[95.0% Conf. Int.]</th> \n",
       "</tr>\n",
       "<tr>\n",
       "  <th>Intercept</th> <td> -162.6998</td> <td>   73.871</td> <td>   -2.202</td> <td> 0.032</td> <td> -310.624   -14.776</td>\n",
       "</tr>\n",
       "<tr>\n",
       "  <th>GDP</th>       <td>   62.6344</td> <td>    7.218</td> <td>    8.677</td> <td> 0.000</td> <td>   48.180    77.088</td>\n",
       "</tr>\n",
       "</table>\n",
       "<table class=\"simpletable\">\n",
       "<tr>\n",
       "  <th>Omnibus:</th>       <td> 0.232</td> <th>  Durbin-Watson:     </th> <td>   1.591</td>\n",
       "</tr>\n",
       "<tr>\n",
       "  <th>Prob(Omnibus):</th> <td> 0.891</td> <th>  Jarque-Bera (JB):  </th> <td>   0.426</td>\n",
       "</tr>\n",
       "<tr>\n",
       "  <th>Skew:</th>          <td>-0.046</td> <th>  Prob(JB):          </th> <td>   0.808</td>\n",
       "</tr>\n",
       "<tr>\n",
       "  <th>Kurtosis:</th>      <td> 2.594</td> <th>  Cond. No.          </th> <td>    185.</td>\n",
       "</tr>\n",
       "</table>"
      ],
      "text/plain": [
       "<class 'statsmodels.iolib.summary.Summary'>\n",
       "\"\"\"\n",
       "                            OLS Regression Results                            \n",
       "==============================================================================\n",
       "Dep. Variable:                Science   R-squared:                       0.569\n",
       "Model:                            OLS   Adj. R-squared:                  0.562\n",
       "Method:                 Least Squares   F-statistic:                     75.30\n",
       "Date:                Thu, 27 Aug 2015   Prob (F-statistic):           5.22e-12\n",
       "Time:                        23:11:11   Log-Likelihood:                -286.69\n",
       "No. Observations:                  59   AIC:                             577.4\n",
       "Df Residuals:                      57   BIC:                             581.5\n",
       "Df Model:                           1                                         \n",
       "Covariance Type:            nonrobust                                         \n",
       "==============================================================================\n",
       "                 coef    std err          t      P>|t|      [95.0% Conf. Int.]\n",
       "------------------------------------------------------------------------------\n",
       "Intercept   -162.6998     73.871     -2.202      0.032      -310.624   -14.776\n",
       "GDP           62.6344      7.218      8.677      0.000        48.180    77.088\n",
       "==============================================================================\n",
       "Omnibus:                        0.232   Durbin-Watson:                   1.591\n",
       "Prob(Omnibus):                  0.891   Jarque-Bera (JB):                0.426\n",
       "Skew:                          -0.046   Prob(JB):                        0.808\n",
       "Kurtosis:                       2.594   Cond. No.                         185.\n",
       "==============================================================================\n",
       "\n",
       "Warnings:\n",
       "[1] Standard Errors assume that the covariance matrix of the errors is correctly specified.\n",
       "\"\"\""
      ]
     },
     "execution_count": 476,
     "metadata": {},
     "output_type": "execute_result"
    }
   ],
   "source": [
    "lm3 = smf.ols(formula='Science ~ GDP', data=df3).fit()\n",
    "lm3.params\n",
    "lm3.summary()"
   ]
  },
  {
   "cell_type": "markdown",
   "metadata": {},
   "source": [
    "##Conclusion\n",
    "\n",
    "The results show that countries with a higher GDP per capita seem to have a relatively higher advantage even though correlation does not imply causation. GDP per capita only reflects the potential of the country to divert financial resources towards education, and not how much is actually allocated to education. While the correlation is not weak, it is not strong enough to indicate the fact that a country's greater wealth will lead to a better education system. Deviations from the trend line would show that countries with similar performance on the PISA can vary greatly in terms of GDP per capita. The two outliers, Vietnam and Qatar, are two examples of that. At the same time, great scores are not necessarily indicative of a great educational system. There are many factors that need to be taken into consideration when evaluating a country's educational system, such as secondary school enrollment, and this provides a a great opportunity for further research. "
   ]
  },
  {
   "cell_type": "markdown",
   "metadata": {},
   "source": [
    "##Data Sources\n",
    "\n",
    "PISA 2012 scores are downloaded from the [statlink](http://dx.doi.org/10.1787/888932937035) on page 21 of the published [PISA key findings](http://www.oecd.org/pisa/keyfindings/pisa-2012-results-volume-I.pdf).\n",
    "\n",
    "GDP per capita data is accessed through the World Bank API for Pandas. Documentation is found [here](http://pandas.pydata.org/pandas-docs/stable/remote_data.html#remote-data-wb). GDP per capita is based on PPP and is in constant 2011 international dollars (indicator: NY.GDP.PCAP.PP.KD). \n"
   ]
  }
 ],
 "metadata": {
  "kernelspec": {
   "display_name": "Python 3",
   "language": "python",
   "name": "python3"
  },
  "language_info": {
   "codemirror_mode": {
    "name": "ipython",
    "version": 3
   },
   "file_extension": ".py",
   "mimetype": "text/x-python",
   "name": "python",
   "nbconvert_exporter": "python",
   "pygments_lexer": "ipython3",
   "version": "3.4.3"
  }
 },
 "nbformat": 4,
 "nbformat_minor": 0
}
