{
 "cells": [
  {
   "cell_type": "code",
   "execution_count": 1,
   "metadata": {
    "collapsed": false
   },
   "outputs": [
    {
     "name": "stdout",
     "output_type": "stream",
     "text": [
      "\n",
      "What version of Python? \n",
      "3.4.1 |Anaconda 2.2.0 (64-bit)| (default, Jun 11 2014, 17:27:11) [MSC v.1600 64 bit (AMD64)]\n",
      "\n",
      "Congratulations, Python is up to date!\n"
     ]
    }
   ],
   "source": [
    "import sys      # import system moodule (don't ask) \n",
    "\n",
    "print('\\nWhat version of Python? \\n', sys.version, '\\n', sep='') \n",
    "\n",
    "if float(sys.version_info[0]) < 3.0 :       \n",
    "    raise Exception('Program halted, old version of Python. \\n', \n",
    "                    'Sorry, you need to install Anaconda again.')\n",
    "else:\n",
    "    print('Congratulations, Python is up to date!')"
   ]
  }
 ],
 "metadata": {
  "kernelspec": {
   "display_name": "Python 3",
   "language": "python",
   "name": "python3"
  },
  "language_info": {
   "codemirror_mode": {
    "name": "ipython",
    "version": 3
   },
   "file_extension": ".py",
   "mimetype": "text/x-python",
   "name": "python",
   "nbconvert_exporter": "python",
   "pygments_lexer": "ipython3",
   "version": "3.4.1"
  }
 },
 "nbformat": 4,
 "nbformat_minor": 0
}
