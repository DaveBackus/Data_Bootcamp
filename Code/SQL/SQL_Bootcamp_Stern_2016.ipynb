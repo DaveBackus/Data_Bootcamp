{
 "cells": [
  {
   "cell_type": "markdown",
   "metadata": {
    "slideshow": {
     "slide_type": "slide"
    }
   },
   "source": [
    "![title](http://i.imgur.com/GRX9Qhh.png)\n",
    "<br>\n",
    "<center> Sarah Beckett-Hile | NYU Stern School of Business | Spring 2016 </center>\n",
    "______________________\n",
    "\n",
    "## To get started:\n",
    "** Click 'Cell ➤ Run All' above. *When the program runs, it will skip down the page.  After it stops skipping, scroll back up to the top to continue the lesson. Just a weird quirk of Jupyter.***\n",
    "![get started](http://i.imgur.com/kq3QMUx.png)"
   ]
  },
  {
   "cell_type": "code",
   "execution_count": 1,
   "metadata": {
    "collapsed": false,
    "scrolled": true
   },
   "outputs": [
    {
     "data": {
      "text/html": [
       "<script> code_show=true; function code_toggle() {if (code_show){$('div.input').hide();} \n",
       "else {$('div.input').show();}code_show = !code_show} $( document ).ready(code_toggle);\n",
       "</script> <form action=\"javascript:code_toggle()\"><input type=\"submit\" value=\"Hide Raw Code\"></form>"
      ],
      "text/plain": [
       "<IPython.core.display.HTML object>"
      ]
     },
     "execution_count": 1,
     "metadata": {},
     "output_type": "execute_result"
    }
   ],
   "source": [
    "from IPython.display import display, HTML, clear_output\n",
    "HTML('''<script> code_show=true; function code_toggle() {if (code_show){$('div.input').hide();} \n",
    "else {$('div.input').show();}code_show = !code_show} $( document ).ready(code_toggle);\n",
    "</script> <form action=\"javascript:code_toggle()\"><input type=\"submit\" value=\"Hide Raw Code\"></form>''')"
   ]
  },
  {
   "cell_type": "code",
   "execution_count": 2,
   "metadata": {
    "collapsed": true
   },
   "outputs": [],
   "source": [
    "from ipywidgets import interact, interactive, fixed, widgets\n",
    "import pandas as pd\n",
    "import sqlite3\n",
    "import re"
   ]
  },
  {
   "cell_type": "code",
   "execution_count": 3,
   "metadata": {
    "collapsed": false
   },
   "outputs": [],
   "source": [
    "# just testing out the youtube player capabilites of Jupyter\n",
    "#from IPython.display import YouTubeVideo\n",
    "#YouTubeVideo(\"a1Y73sPHKxw\", width=700, height=500)"
   ]
  },
  {
   "cell_type": "code",
   "execution_count": 4,
   "metadata": {
    "collapsed": false
   },
   "outputs": [],
   "source": [
    "# if this .sqlite db doesn't already exists, this will create it\n",
    "# if the .sqlite db *does* already exist, this establishes the desired connection\n",
    "con = sqlite3.connect(\"sql_sample_db_new.sqlite\")\n",
    "\n",
    "book_table = pd.read_csv('https://raw.githubusercontent.com/DaveBackus/Data_Bootcamp/master/Code/SQL/book_table.csv')\n",
    "auth_table = pd.read_csv('https://raw.githubusercontent.com/DaveBackus/Data_Bootcamp/master/Code/SQL/author_table.csv')\n",
    "sales_table = pd.read_csv('https://raw.githubusercontent.com/DaveBackus/Data_Bootcamp/master/Code/SQL/sales_table.csv')\n",
    "tech_cos = pd.read_csv('https://raw.githubusercontent.com/DaveBackus/Data_Bootcamp/master/Code/SQL/tech_cos.csv')\n",
    "public_cos = pd.read_csv('https://raw.githubusercontent.com/DaveBackus/Data_Bootcamp/master/Code/SQL/public_cos.csv')\n",
    "movie_table = pd.read_csv('https://raw.githubusercontent.com/DaveBackus/Data_Bootcamp/master/Code/SQL/movie_table.csv')\n",
    "\n",
    "tables = [book_table, \n",
    "          auth_table, \n",
    "          sales_table, \n",
    "          tech_cos, \n",
    "          public_cos,\n",
    "          movie_table]\n",
    "\n",
    "table_names = ['book_table', \n",
    "               'auth_table', \n",
    "               'sales_table', \n",
    "               'tech_cos', \n",
    "               'public_cos',\n",
    "               'movie_table']\n",
    "\n",
    "# drop each table name if it already exists to avoid error if you rerun this bit of code\n",
    "# then add it back (or add it for the first time, if the table didn't already exist)\n",
    "for i in range(len(tables)):\n",
    "    table_name = table_names[i]\n",
    "    table = tables[i]\n",
    "    con.execute(\"DROP TABLE IF EXISTS {}\".format(table_name))\n",
    "    pd.io.sql.to_sql(table, \"{}\".format(table_name), con, index=False)"
   ]
  },
  {
   "cell_type": "code",
   "execution_count": 5,
   "metadata": {
    "collapsed": true
   },
   "outputs": [],
   "source": [
    "# Function to make it easy to run queries on this mini-database\n",
    "def run(query):\n",
    "    try:\n",
    "        results = pd.read_sql(\"{}\".format(query), con).fillna(' ')\n",
    "        return results\n",
    "    except:\n",
    "        pass\n",
    "\n",
    "def run_q(query, button):\n",
    "    def on_button_clicked(b):\n",
    "        clear_output()\n",
    "        new_value = query.value.replace('\\n', ' ')\n",
    "        if new_value != '':\n",
    "            df = run(new_value)\n",
    "            try:\n",
    "                output = HTML(df.to_html(index=False))\n",
    "                display(output)\n",
    "            #except AttributeError:\n",
    "            except:\n",
    "                print('''SQL error!  Check your query:\n",
    "    1. Text values are in quotation marks and capitalized correctly\n",
    "    2. Items in the SELECT clause are comma-separated\n",
    "    3. No dangling comma in the SELECT clause right before the FROM clause\n",
    "    4. If you are joining tables that have columns with the same name, use table_name.column_name format\n",
    "    5. Try \"PRAGMA TABLE_INFO(table_name) to double-check the column names in the table\n",
    "    6. Correct order of clauses:\n",
    "        SELECT\n",
    "        FROM\n",
    "            JOIN...ON \n",
    "        WHERE\n",
    "        GROUP BY\n",
    "        ORDER BY\n",
    "        LIMIT\n",
    "        ''')\n",
    "    button.on_click(on_button_clicked)\n",
    "    on_button_clicked(None)\n",
    "    \n",
    "def cheat(answer):\n",
    "    def f(Reveal):\n",
    "        if Reveal == False:\n",
    "            clear_output()\n",
    "        else:\n",
    "            print(answer)\n",
    "    interact(f, Reveal=False)\n",
    "    clear_output()"
   ]
  },
  {
   "cell_type": "markdown",
   "metadata": {
    "slideshow": {
     "slide_type": "slide"
    }
   },
   "source": [
    "____________\n",
    "____________\n",
    "____________\n",
    "<a id='table_of_contents'></a>\n",
    "# Table of Contents\n",
    "\n",
    "[Course Details](#course_details)\n",
    "\n",
    "[Introduction to SQL](#introduction)\n",
    "\n",
    "[Structure and Formatting Basics](#formatting)\n",
    "\n",
    "[Determine a table's strucure.............................`PRAGMA TABLE_INFO()`](#pragma_table)\n",
    "\n",
    "[Query building blocks.......................................`SELECT` & `FROM`](#select_from)\n",
    "\n",
    "[Filter your data..................................................`WHERE`](#where)\n",
    "\n",
    "[Wildcards and vague search.............................`LIKE` and `%`](#where_like)\n",
    "\n",
    "[Sort your data...................................................`ORDER BY`](#order_by)\n",
    "\n",
    "[Limit the number of rows you see.....................`LIMIT`](#limit)\n",
    "\n",
    "[Combining tables..............................................`JOIN`](#join_tables) <br>\n",
    "&nbsp;&nbsp;&nbsp;&nbsp;&nbsp; • &nbsp; [Combining 3+ tables........................................Multiple `JOIN`'s](#multi_join) <br>\n",
    "&nbsp;&nbsp;&nbsp;&nbsp;&nbsp; • &nbsp; [Different `JOIN` Types.......................................Overview](#join_types)<br>\n",
    "&nbsp;&nbsp;&nbsp;&nbsp;&nbsp; • &nbsp; [Simple Join......................................................`INNER JOIN` aka `JOIN`](#inner_joins)<br>\n",
    "&nbsp;&nbsp;&nbsp;&nbsp;&nbsp; • &nbsp; [One-Sided Join................................................`LEFT JOIN`](#left_joins)<br>\n",
    "&nbsp;&nbsp;&nbsp;&nbsp;&nbsp; • &nbsp; [Full Join............................................................`OUTER JOIN`](#outer_joins)<br>\n",
    "&nbsp;&nbsp;&nbsp;&nbsp;&nbsp; • &nbsp; [Practice combining tables...............................`JOIN` Drills](#join_drills)\n",
    "\n",
    "[Column & Table Aliases.....................................`AS`](#as)\n",
    "\n",
    "[Add, subtract, multiply, & divide data................Operators](#operators)\n",
    "\n",
    "[Apply functions to columns...............................Functions](#functions)\n",
    "\n",
    "[Group data by categories..................................`GROUP BY`](#group_by)\n",
    "\n",
    "[Filter out certain groups.....................................`HAVING`](#having)\n",
    "\n",
    "[Conditional values..............................................`IF` & `CASE WHEN`](#case_when)\n",
    "\n",
    "[SQL-ception: Queries within queries..................Nesting](#nesting)\n",
    "\n",
    "[Run multiple queries at once..............................`UNION` & `UNION ALL`](#union)\n",
    "\n",
    "[Add a summaryt/total row..................................`ROLLUP`](#rollup)\n",
    "\n",
    "[Summary](#wrapping_up)\n",
    "\n",
    "[Full table of RDBMS dialect differences](#dialect_differences)\n",
    "\n",
    "### Additional Resources:\n",
    "- [Syllabus](https://www.dropbox.com/s/b4orgekbbom40x6/SQL_Bootcamp_Syllabus.pdf?dl=0)\n",
    "- [Cheatsheet](https://www.dropbox.com/s/oo0uhi7xm2sfy5e/SQLBOOTCAMPCHEATSHEET.pdf?dl=0)\n",
    "- [Google Group](https://groups.google.com/forum/#!forum/nyu_data_bootcamp)"
   ]
  },
  {
   "cell_type": "markdown",
   "metadata": {
    "slideshow": {
     "slide_type": "slide"
    }
   },
   "source": [
    "_______\n",
    "_______\n",
    "_______\n",
    "<center> <a id='introduction'></a> &nbsp;&nbsp;&nbsp;&nbsp;&nbsp; [Table of Contents](#table_of_contents) &nbsp;&nbsp;&nbsp;&nbsp;&nbsp; | &nbsp;&nbsp;&nbsp;&nbsp;&nbsp; [Next](#course_details)\n",
    "</center>\n",
    "\n",
    "![intro to SQL](http://i.imgur.com/OZFRTwL.png)\n",
    "\n",
    "\n",
    "### SQL, \"sequel\", \"ESS CUE ELL\"\n",
    "SQL stands for \"Structured Query Language\", but no one calls it that. You can pronouce it as either \"S-Q-L\" or \"sequel\". Some people feel strongly in favor of a particular pronunciation. I don't. I'll say \"sequel\" in class, but I'll never correct you for saying S-Q-L.\n",
    "\n",
    "SQL is the database language of choice for most businesses; you use it to communicate with databases.  \"Communication\" can take the form of creating, reading, updating, and deleting data. This course only covers reading data. That's all most MBAs do with SQL. \n",
    "\n",
    "____________\n",
    "### Relational Databases\n",
    "\n",
    "Companies use relational databases because they can store and easily recall A LOT of data.  Excel can't handle more than a million rows.  If you're Amazon and you need to record every click, Excel is useless. Relational databases are much more efficient.\n",
    "\n",
    "What do we mean by \"efficient\"? Every recorded \"bit\" takes up server space, which costs money. It also slows everything down. So an efficient database should allow you to record and recall a lot of information using the minimal number of bits.  \n",
    "\n",
    "Imagine you want to store the names of four books and some information about their authors. Think of the character count as a proxy for how many bits of storage your table takes up:\n",
    "![short table](http://i.imgur.com/PyBPzOO.png)\n",
    "\n",
    "Now imagine you want to add some more books by each of those authors. Some of the information gets redundant. Imagine if you had to do this for millions of different books:\n",
    "![long table](http://i.imgur.com/4t06X5b.png)\n",
    "\n",
    "This is where relational databases can help.  With a relational database, you'd create two separate tables that *relate* to each other. You still storing the same information, but you're doing it by using fewer characters. You've eliminated the need to repeat yourself, so you've made a much more efficient database.  \n",
    "![related tables](http://i.imgur.com/RMnhsJT.png)\n",
    "<br>\n",
    "_______\n",
    "### SQL Dialects\n",
    "\n",
    "There are different softwares that can manage relational databases. SQL varies a little from software to software, just like English varies a little between England and the U.S. We'll address these instances whenever possible.\n",
    "\n",
    "Each software is called a Relational Database Management System, or RDBMS. These are some of the most popular that you might encounter at work:\n",
    "\n",
    "<font color='#1f5fd6'> Microsoft SQL Server | <font color='#1f5fd6'> MySQL | <font color='#1f5fd6'> Oracle | <font color='#1f5fd6'> SQLite </font>|\n",
    " :------------------: | :---: | :----: | :----: |\n",
    " Proprietary, more common at older companies   | Open source, frequently used by startups and tech companies | Proprietary, more common at older companies | Frequently used for mobile apps (and this class!) \n",
    "<br> \n"
   ]
  },
  {
   "cell_type": "markdown",
   "metadata": {
    "slideshow": {
     "slide_type": "slide"
    }
   },
   "source": [
    "________\n",
    "_______\n",
    "_______\n",
    "<a id='course_details'></a>\n",
    "<center> [Previous](#introduction) &nbsp;&nbsp;&nbsp;&nbsp;&nbsp;| &nbsp;&nbsp;&nbsp;&nbsp;&nbsp; [Table of Contents](#table_of_contents) &nbsp;&nbsp;&nbsp;&nbsp;&nbsp; | &nbsp;&nbsp;&nbsp;&nbsp;&nbsp; [Next](#formatting)\n",
    "</center>\n",
    "\n",
    "![course details](http://i.imgur.com/dATtkW8.png)\n",
    "\n",
    "The goal is to start simple and practice often.  By the end of this class, you should feel extremely comfortable writing moderately complicated SQL code, which will save you countless hours trying to figure out SQL on the job or waiting for someone else with SQL knowledge to pull data for you.  Using this interactive program, we'll explore a small sample database by learning new SQL concepts one at a time. Concepts will build on each other. \n",
    "\n",
    "### Quick Exercises\n",
    "Sometimes you'll be asked to edit or delete parts of a provided query.  Rerun the query with each step, taking care to understand what changed with the output each time. Note that none of the changes that you make to these queries will be saved when you close this program. \n",
    "\n",
    "\n",
    "**Try it by changing something in the cell below and hitting \"Run\"!**"
   ]
  },
  {
   "cell_type": "code",
   "execution_count": 6,
   "metadata": {
    "collapsed": false
   },
   "outputs": [],
   "source": [
    "test_ex = widgets.Textarea(value=\n",
    "'''You can change text in these boxes to edit and re-run queries!''',\n",
    "width = '50em', height = '7em')\n",
    "display(test_ex) "
   ]
  },
  {
   "cell_type": "code",
   "execution_count": 7,
   "metadata": {
    "collapsed": false
   },
   "outputs": [],
   "source": [
    "text_ex_button = widgets.Button(description='Run', width='10em', height='2.5em', color='white',background_color='black', border_color='black')\n",
    "display(text_ex_button)\n",
    "def on_button_clicked2(b):\n",
    "        clear_output()\n",
    "        print('''Here's the output from the cell above:\n",
    "        ''', test_ex.value)\n",
    "text_ex_button.on_click(on_button_clicked2)"
   ]
  },
  {
   "cell_type": "markdown",
   "metadata": {},
   "source": [
    "### Challenges\n",
    "After we've learned a new concept and you've practiced with some quick exercises, you'll be challenged to write your own query. Read each challenge carefully, and keep re-running it until you get the results you are looking for.\n",
    "\n",
    "**Need to cheat a little?** Check the \"Reveal\" box to see the answer to a challenge.\n",
    "<br>\n",
    "<img align=\"left\" src=\"http://i.imgur.com/FhCJTqa.png\"> "
   ]
  },
  {
   "cell_type": "code",
   "execution_count": 8,
   "metadata": {
    "collapsed": false,
    "slideshow": {
     "slide_type": "subslide"
    }
   },
   "outputs": [],
   "source": [
    "chall ='''When you click a checkbox, you reveal the answer to a challenge! \n",
    "Uncheck it to hide the answer again.'''\n",
    "cheat(chall) "
   ]
  },
  {
   "cell_type": "markdown",
   "metadata": {
    "slideshow": {
     "slide_type": "slide"
    }
   },
   "source": [
    "### Using this program\n",
    "The content you're currently reading is written in Python, Markdown and HTML and runs in a Jupyter Notebook.  No need to know what any of that means, I only told you in case you were terribly curious.  \n",
    "\n",
    "**You will not be using this interface at work** - the point of this class is to teach you SQL the language, which can be typed into a variety of different software programs. You'll be able to learn the quirks of a different software program pretty easily as long as you know SQL. \n",
    "\n",
    "Still, there are some things you should know about this program to help you with the class:\n",
    "* If you accidentally double-click on a block of text, and suddenly it looks like code, hit **`SHIFT-RETURN`** or **'Cell ➤ Run'**. \n",
    "* If you try to run a query and the output doesn't refresh, select **'Cell ➤ Run All'** to reboot the program.\n",
    "* If you accidentally delete a cell, click **'Edit ➤ Undo Delete Cell'**\n",
    "* Nothing that you write in the challenges and exercises will save after you close this program.\n",
    "* If you want to save something that you've written, follow the steps below:\n",
    "<br>\n",
    "<img align=\"left\" src=\"http://i.imgur.com/qkh6TiN.png\">"
   ]
  },
  {
   "cell_type": "raw",
   "metadata": {},
   "source": [
    "A grey \"cell\" like this will appear when you follow Step 1 (click the + sign in the toolbar) and Step 2 (change the cell to Raw NBConvert).  Write your notes in the cell; the program will automatically save it."
   ]
  },
  {
   "cell_type": "markdown",
   "metadata": {
    "slideshow": {
     "slide_type": "slide"
    }
   },
   "source": [
    "_______\n",
    "_______\n",
    "________\n",
    "_______\n",
    "________\n",
    "________\n",
    "________\n",
    "![start of lessons](http://i.imgur.com/F1USVVa.png)\n",
    "\n",
    "_______\n",
    "________\n",
    "__________\n",
    "________\n",
    "________\n",
    "________\n",
    "________\n",
    "\n",
    "<a id='formatting'></a>\n",
    "<center>\n",
    "[Previous](#course_details) &nbsp;&nbsp;&nbsp;&nbsp;&nbsp; | &nbsp;&nbsp;&nbsp;&nbsp;&nbsp; [Table of Contents](#table_of_contents) &nbsp;&nbsp;&nbsp;&nbsp;&nbsp; | &nbsp;&nbsp;&nbsp;&nbsp;&nbsp; [Next](#pragma_table)\n",
    "</center>\n",
    "### Structure and Formatting Query Basics:\n",
    "Below is an example of a **query**, SQL code that requests data from a database. Try to make a habit of writing queries by following these formatting conventions. Queries can get very long and complicated, and formatting makes them easier to read. \n",
    "\n",
    "![alt text](http://i.imgur.com/HhtrMgg.png \"How to format a query\")"
   ]
  },
  {
   "cell_type": "markdown",
   "metadata": {
    "slideshow": {
     "slide_type": "slide"
    }
   },
   "source": [
    "______\n",
    "______\n",
    "______\n",
    "\n",
    "<a id='pragma_table'></a>\n",
    "\n",
    "<center>\n",
    "[Previous](#formatting) &nbsp;&nbsp;&nbsp;&nbsp;&nbsp; | &nbsp;&nbsp;&nbsp;&nbsp;&nbsp; [Table of Contents](#table_of_contents) &nbsp;&nbsp;&nbsp;&nbsp;&nbsp; | &nbsp;&nbsp;&nbsp;&nbsp;&nbsp; [Next](#select_from)\n",
    "</center>\n",
    "\n",
    "![pragma](http://i.imgur.com/avlBdqG.png)\n",
    "\n",
    "\n",
    "<font color='#1f5fd6'>Microsoft SQL Server | <font color='#1f5fd6'>MySQL | <font color='#1f5fd6'>Oracle | <font color='#1f5fd6'>SQLite </font>\n",
    ":------------------: | :---: | :----: | :----:\n",
    "`SP_Help some_table`  | `DESCRIBE some_table` | `DESCRIBE some_table` | `PRAGMA TABLE_INFO(some_table)`\n",
    "\n",
    "### SQLite version that we'll be using for this class:\n",
    "> **`PRAGMA TABLE_INFO(some_table)`** &nbsp;&nbsp;&nbsp;&nbsp;&nbsp;&nbsp;&nbsp;&nbsp;&nbsp;&nbsp;&nbsp;&nbsp;&nbsp;&nbsp;&nbsp; ➞ result-set lists the column names and data types within the table\n",
    "\n",
    "We're using SQLite, so we're going to be using the **`PRAGMA TABLE_INFO()`** option. Put the name of a table in the parentheses, and the output tells you the names and data types in each column in the table.\n",
    "\n",
    "So far, we've learned about 2 tables in our relational database, which we'll call `book_table` and `auth_table`. We're also going to use a `sales_table`, which we'll take a look at later on. Combined, these three tables will make up the \"database\" of a very tiny, very limited, very imaginary bookstore.  \n",
    "\n",
    "We'll start by reviewing the `book_table` and `auth_table`:\n",
    "![book and auth table](http://i.imgur.com/4cJ3G49.png)\n",
    "\n",
    "Now, we'll use `PRAGMA TABLE_INFO()` to read the table structure of the `book_table`.  In plain English, the query below says \"*show me the names of the columns in the `book_table`, and what type of data (text, numbers?) is in each column*.\""
   ]
  },
  {
   "cell_type": "code",
   "execution_count": 9,
   "metadata": {
    "collapsed": false,
    "slideshow": {
     "slide_type": "slide"
    }
   },
   "outputs": [],
   "source": [
    "pragma = widgets.Textarea(\n",
    "    value='''PRAGMA TABLE_INFO(book_table)''',\n",
    "    width = '50em', height = '3em')\n",
    "display(pragma)"
   ]
  },
  {
   "cell_type": "code",
   "execution_count": 10,
   "metadata": {
    "collapsed": false,
    "slideshow": {
     "slide_type": "-"
    }
   },
   "outputs": [
    {
     "data": {
      "text/html": [
       "<table border=\"1\" class=\"dataframe\">\n",
       "  <thead>\n",
       "    <tr style=\"text-align: right;\">\n",
       "      <th>cid</th>\n",
       "      <th>name</th>\n",
       "      <th>type</th>\n",
       "      <th>notnull</th>\n",
       "      <th>dflt_value</th>\n",
       "      <th>pk</th>\n",
       "    </tr>\n",
       "  </thead>\n",
       "  <tbody>\n",
       "    <tr>\n",
       "      <td>0</td>\n",
       "      <td>book</td>\n",
       "      <td>TEXT</td>\n",
       "      <td>0</td>\n",
       "      <td></td>\n",
       "      <td>0</td>\n",
       "    </tr>\n",
       "    <tr>\n",
       "      <td>1</td>\n",
       "      <td>cogs</td>\n",
       "      <td>REAL</td>\n",
       "      <td>0</td>\n",
       "      <td></td>\n",
       "      <td>0</td>\n",
       "    </tr>\n",
       "    <tr>\n",
       "      <td>2</td>\n",
       "      <td>author</td>\n",
       "      <td>TEXT</td>\n",
       "      <td>0</td>\n",
       "      <td></td>\n",
       "      <td>0</td>\n",
       "    </tr>\n",
       "  </tbody>\n",
       "</table>"
      ],
      "text/plain": [
       "<IPython.core.display.HTML object>"
      ]
     },
     "metadata": {},
     "output_type": "display_data"
    }
   ],
   "source": [
    "prag_button = widgets.Button(description='Run',width='10em', height='2.5em', color='white', background_color='black', border_color='black')\n",
    "display(prag_button)\n",
    "run_q(pragma, prag_button)"
   ]
  },
  {
   "cell_type": "markdown",
   "metadata": {},
   "source": [
    "- **name** tells us the names of each column in the table. So now we know that the **`book_table`** has columns headed **`Book`**, **`COGs`**, and **`Author`**\n",
    "- **type** tells us what type of data is in each column. So now we know that the **`Book`** column has TEXT data, and that **`COGs`** contains REAL numbers - numbers that can have a fractional value.\n",
    "- **All other columns** you can ignore. Seriously. \n",
    "\n",
    "\n",
    "### Quick Exercise: \n",
    "Change the query above to look at the **`auth_table`** instead. Why is the author's **`birth_year`** data type not REAL like we saw with **`COGs`**?\n",
    "_______\n",
    "\n",
    "### Challenge: \n",
    "Rewrite the query above to take a look at the **`sales_table`** structure. Judging from what your query returns, can you guess what you'll probably see once you actually look all the data in the **`sales_table`**?"
   ]
  },
  {
   "cell_type": "code",
   "execution_count": 11,
   "metadata": {
    "collapsed": true
   },
   "outputs": [],
   "source": [
    "pragma_sales = widgets.Textarea(\n",
    "    value='',\n",
    "    width = '50em',\n",
    "    height = '4em'\n",
    ")\n",
    "display(pragma_sales)"
   ]
  },
  {
   "cell_type": "code",
   "execution_count": 12,
   "metadata": {
    "collapsed": false
   },
   "outputs": [],
   "source": [
    "prag_sales_button = widgets.Button(description='Run',width='10em', height='2.5em', color='white', background_color='black', border_color='black')\n",
    "display(prag_sales_button)\n",
    "run_q(pragma_sales, prag_sales_button)"
   ]
  },
  {
   "cell_type": "code",
   "execution_count": 13,
   "metadata": {
    "collapsed": false
   },
   "outputs": [],
   "source": [
    "prag_sales_answer =  'PRAGMA TABLE_INFO(sales_table)'\n",
    "cheat(prag_sales_answer)"
   ]
  },
  {
   "cell_type": "markdown",
   "metadata": {},
   "source": [
    "_________\n",
    "_________\n",
    "________\n",
    "<a id='select_from'></a>\n",
    "<center>\n",
    "[Previous](#pragma_table) &nbsp;&nbsp;&nbsp;&nbsp;&nbsp;  | &nbsp;&nbsp;&nbsp;&nbsp;&nbsp; [Table of Contents](#table_of_contents) &nbsp;&nbsp;&nbsp;&nbsp;&nbsp; |  &nbsp;&nbsp;&nbsp;&nbsp;&nbsp; [Next](#where)\n",
    "</center>\n",
    "\n",
    "![select from](http://i.imgur.com/OnR12H3.png)\n",
    "<!--<center>\n",
    "[Jump to: Selecting specific columns](#select_col) &nbsp;&nbsp;&nbsp;&nbsp;&nbsp;  | &nbsp;&nbsp;&nbsp;&nbsp;&nbsp; [Jump to: Selecting distinct values](#select_distinct)\n",
    "</center>-->\n",
    "    \n",
    "> **`SELECT` <br>\n",
    "&nbsp;&nbsp;&nbsp;&nbsp;&nbsp;`*` &nbsp;&nbsp;&nbsp;&nbsp;&nbsp;&nbsp;&nbsp;&nbsp;&nbsp;&nbsp;&nbsp;&nbsp;&nbsp;&nbsp;&nbsp;&nbsp;&nbsp;&nbsp; **➞ an asterisk means \"all columns\"** <br>\n",
    "`FROM` <br>\n",
    "&nbsp;&nbsp;&nbsp;&nbsp;&nbsp;`table_name`**\n",
    "\n",
    "\n",
    "To see the actual data in a table, we'll use **[`SELECT`](http://www.w3schools.com/sql/sql_select.asp)** and **`FROM`** clauses.  In the `SELECT` clause, you tell SQL which columns you want to see.  In the `FROM` clause, you tell SQL the table where those columns are located.  An **asterisk returns all columns from a particular table.** \n",
    "\n",
    "\n",
    "In plain English, the query below says: \"*Show me all columns and their data from the `book_table`*\""
   ]
  },
  {
   "cell_type": "code",
   "execution_count": 14,
   "metadata": {
    "collapsed": true
   },
   "outputs": [],
   "source": [
    "select = widgets.Textarea(value=\n",
    "'''SELECT\n",
    "    *\n",
    "FROM\n",
    "    book_table''',\n",
    "width = '50em', height = '7em')\n",
    "display(select)"
   ]
  },
  {
   "cell_type": "code",
   "execution_count": 15,
   "metadata": {
    "collapsed": false
   },
   "outputs": [
    {
     "data": {
      "text/html": [
       "<table border=\"1\" class=\"dataframe\">\n",
       "  <thead>\n",
       "    <tr style=\"text-align: right;\">\n",
       "      <th>book</th>\n",
       "      <th>cogs</th>\n",
       "      <th>author</th>\n",
       "    </tr>\n",
       "  </thead>\n",
       "  <tbody>\n",
       "    <tr>\n",
       "      <td>For Whom the Bell Tolls</td>\n",
       "      <td>13.50</td>\n",
       "      <td>Hemingway</td>\n",
       "    </tr>\n",
       "    <tr>\n",
       "      <td>A Farewell to Arms</td>\n",
       "      <td>10.35</td>\n",
       "      <td>Hemingway</td>\n",
       "    </tr>\n",
       "    <tr>\n",
       "      <td>The Sun Also Rises</td>\n",
       "      <td>11.35</td>\n",
       "      <td>Hemingway</td>\n",
       "    </tr>\n",
       "    <tr>\n",
       "      <td>Sense and Sensibility</td>\n",
       "      <td>11.00</td>\n",
       "      <td>Austen</td>\n",
       "    </tr>\n",
       "    <tr>\n",
       "      <td>Emma</td>\n",
       "      <td>12.50</td>\n",
       "      <td>Austen</td>\n",
       "    </tr>\n",
       "    <tr>\n",
       "      <td>Pride and Prejudice</td>\n",
       "      <td>13.00</td>\n",
       "      <td>Austen</td>\n",
       "    </tr>\n",
       "    <tr>\n",
       "      <td>Romeo and Juliet</td>\n",
       "      <td>7.50</td>\n",
       "      <td>Shakespeare</td>\n",
       "    </tr>\n",
       "    <tr>\n",
       "      <td>Hamlet</td>\n",
       "      <td>6.95</td>\n",
       "      <td>Shakespeare</td>\n",
       "    </tr>\n",
       "    <tr>\n",
       "      <td>Macbeth</td>\n",
       "      <td>11.10</td>\n",
       "      <td>Shakespeare</td>\n",
       "    </tr>\n",
       "    <tr>\n",
       "      <td>The Sound and the Fury</td>\n",
       "      <td>8.50</td>\n",
       "      <td>Faulkner</td>\n",
       "    </tr>\n",
       "    <tr>\n",
       "      <td>Absalom! Absalom!</td>\n",
       "      <td>5.15</td>\n",
       "      <td>Faulkner</td>\n",
       "    </tr>\n",
       "  </tbody>\n",
       "</table>"
      ],
      "text/plain": [
       "<IPython.core.display.HTML object>"
      ]
     },
     "metadata": {},
     "output_type": "display_data"
    }
   ],
   "source": [
    "select_button = widgets.Button(description='Run', width='10em', height='2.5em', color='white',background_color='black', border_color='black')\n",
    "display(select_button)\n",
    "run_q(select, select_button)\n"
   ]
  },
  {
   "cell_type": "markdown",
   "metadata": {},
   "source": [
    "### Quick Exercise:\n",
    "Change the query above to show us all columns and their data from the **`auth_table`** instead of the **`book_table`**\n",
    "_____________\n",
    "\n",
    "### Challenge: \n",
    "Write a query to view all columns and their data from the **`sales_table`**"
   ]
  },
  {
   "cell_type": "code",
   "execution_count": 16,
   "metadata": {
    "collapsed": true
   },
   "outputs": [],
   "source": [
    "select_c = widgets.Textarea(value='', width = '50em')\n",
    "display(select_c)"
   ]
  },
  {
   "cell_type": "code",
   "execution_count": 17,
   "metadata": {
    "collapsed": false
   },
   "outputs": [],
   "source": [
    "select_c_button = widgets.Button(\n",
    "    description='Run',\n",
    "    width='10em',\n",
    "    height='2.5em', \n",
    "    color='white', \n",
    "    background_color='black',\n",
    "    border_color='black')\n",
    "display(select_c_button)\n",
    "run_q(select_c, select_c_button)"
   ]
  },
  {
   "cell_type": "code",
   "execution_count": 18,
   "metadata": {
    "collapsed": false
   },
   "outputs": [],
   "source": [
    "select_answer ='''SELECT \n",
    "    *\n",
    "FROM \n",
    "    sales_table'''\n",
    "cheat(select_answer)"
   ]
  },
  {
   "cell_type": "markdown",
   "metadata": {},
   "source": [
    "<img align=\"left\" src=\"http://i.imgur.com/p6d18FV.png\"> <br><br>\n",
    "**Use asterisks sparingly**. Usually, you'll select specific columns from a table rather than all columns. Using an asterisk to select all columns is okay when the table is small or when you tightly constrain your selection of rows. Otherwise, select specific columns and use WHERE and LIMIT (taught below) to go easy on your servers. "
   ]
  },
  {
   "cell_type": "markdown",
   "metadata": {
    "collapsed": false
   },
   "source": [
    "<a id='select_col'></a>\n",
    "_____________\n",
    "\n",
    "## `SELECT` specific columns:\n",
    "> **`SELECT` <br>\n",
    "&nbsp;&nbsp;&nbsp;&nbsp;&nbsp; `column_a,`** &nbsp;&nbsp;&nbsp;&nbsp;&nbsp;&nbsp;&nbsp;&nbsp;&nbsp;&nbsp;&nbsp;&nbsp;&nbsp;&nbsp;&nbsp; ➞ separate multiple columns with commas <br>\n",
    "**&nbsp;&nbsp;&nbsp;&nbsp;&nbsp; `column_b`** &nbsp;&nbsp;&nbsp;&nbsp;&nbsp;&nbsp;&nbsp;&nbsp;&nbsp;&nbsp;&nbsp;&nbsp;&nbsp;&nbsp;&nbsp;&nbsp;&nbsp; ➞ optional, but conventional, to also use a return <br>\n",
    "**`FROM` <br>\n",
    "&nbsp;&nbsp;&nbsp;&nbsp;&nbsp; `table_name`** <br>\n",
    "\n",
    "Instead of using an asterisk for \"all columns\", you can specify a particular column or columns.   In plain English: \"*Show me the data in the `book` and `author` columns from the `book_table`\"*"
   ]
  },
  {
   "cell_type": "code",
   "execution_count": 19,
   "metadata": {
    "collapsed": true
   },
   "outputs": [],
   "source": [
    "select_col = widgets.Textarea(value=\n",
    "'''SELECT\n",
    "    book,\n",
    "    author\n",
    "FROM\n",
    "    book_table''',\n",
    "width = '50em', height = '8em')\n",
    "display(select_col) "
   ]
  },
  {
   "cell_type": "code",
   "execution_count": 20,
   "metadata": {
    "collapsed": false
   },
   "outputs": [
    {
     "data": {
      "text/html": [
       "<table border=\"1\" class=\"dataframe\">\n",
       "  <thead>\n",
       "    <tr style=\"text-align: right;\">\n",
       "      <th>book</th>\n",
       "      <th>author</th>\n",
       "    </tr>\n",
       "  </thead>\n",
       "  <tbody>\n",
       "    <tr>\n",
       "      <td>For Whom the Bell Tolls</td>\n",
       "      <td>Hemingway</td>\n",
       "    </tr>\n",
       "    <tr>\n",
       "      <td>A Farewell to Arms</td>\n",
       "      <td>Hemingway</td>\n",
       "    </tr>\n",
       "    <tr>\n",
       "      <td>The Sun Also Rises</td>\n",
       "      <td>Hemingway</td>\n",
       "    </tr>\n",
       "    <tr>\n",
       "      <td>Sense and Sensibility</td>\n",
       "      <td>Austen</td>\n",
       "    </tr>\n",
       "    <tr>\n",
       "      <td>Emma</td>\n",
       "      <td>Austen</td>\n",
       "    </tr>\n",
       "    <tr>\n",
       "      <td>Pride and Prejudice</td>\n",
       "      <td>Austen</td>\n",
       "    </tr>\n",
       "    <tr>\n",
       "      <td>Romeo and Juliet</td>\n",
       "      <td>Shakespeare</td>\n",
       "    </tr>\n",
       "    <tr>\n",
       "      <td>Hamlet</td>\n",
       "      <td>Shakespeare</td>\n",
       "    </tr>\n",
       "    <tr>\n",
       "      <td>Macbeth</td>\n",
       "      <td>Shakespeare</td>\n",
       "    </tr>\n",
       "    <tr>\n",
       "      <td>The Sound and the Fury</td>\n",
       "      <td>Faulkner</td>\n",
       "    </tr>\n",
       "    <tr>\n",
       "      <td>Absalom! Absalom!</td>\n",
       "      <td>Faulkner</td>\n",
       "    </tr>\n",
       "  </tbody>\n",
       "</table>"
      ],
      "text/plain": [
       "<IPython.core.display.HTML object>"
      ]
     },
     "metadata": {},
     "output_type": "display_data"
    }
   ],
   "source": [
    "select_col_button = widgets.Button(description='Run', width='10em', height='2.5em', color='white',background_color='black', border_color='black')\n",
    "display(select_col_button)\n",
    "run_q(select_col, select_col_button)"
   ]
  },
  {
   "cell_type": "markdown",
   "metadata": {},
   "source": [
    "________\n",
    "### Challenge: \n",
    "Write a query to show the **`first_name`** and ** `last_name` ** columns from the **`auth_table`**"
   ]
  },
  {
   "cell_type": "code",
   "execution_count": 21,
   "metadata": {
    "collapsed": true
   },
   "outputs": [],
   "source": [
    "select_cols_chall = widgets.Textarea(value=\n",
    "'',\n",
    "width = '50em', height = '8em')\n",
    "display(select_cols_chall) "
   ]
  },
  {
   "cell_type": "code",
   "execution_count": 22,
   "metadata": {
    "collapsed": false
   },
   "outputs": [],
   "source": [
    "select_cols_chall_b = widgets.Button(description='Run', width='10em', height='2.5em', color='white',background_color='black', border_color='black')\n",
    "display(select_cols_chall_b)\n",
    "run_q(select_cols_chall, select_cols_chall_b)"
   ]
  },
  {
   "cell_type": "code",
   "execution_count": 23,
   "metadata": {
    "collapsed": false
   },
   "outputs": [],
   "source": [
    "select_cols_chall_cheat ='''SELECT \n",
    "    first_name,\n",
    "    last_name\n",
    "FROM\n",
    "    auth_table'''\n",
    "cheat(select_cols_chall_cheat) "
   ]
  },
  {
   "cell_type": "markdown",
   "metadata": {},
   "source": [
    "________\n",
    "### Challenge: \n",
    "Write a query to select only the **`book`** column from the **`sales_table`**"
   ]
  },
  {
   "cell_type": "code",
   "execution_count": 24,
   "metadata": {
    "collapsed": true
   },
   "outputs": [],
   "source": [
    "select_cols_chall2 = widgets.Textarea(value='', width = '50em', height = '8em')\n",
    "display(select_cols_chall2) "
   ]
  },
  {
   "cell_type": "code",
   "execution_count": 25,
   "metadata": {
    "collapsed": false
   },
   "outputs": [],
   "source": [
    "select_cols_chall_b2 = widgets.Button(description='Run', width='10em', height='2.5em', color='white',background_color='black', border_color='black')\n",
    "display(select_cols_chall_b2)\n",
    "run_q(select_cols_chall2, select_cols_chall_b2)"
   ]
  },
  {
   "cell_type": "code",
   "execution_count": 26,
   "metadata": {
    "collapsed": false
   },
   "outputs": [],
   "source": [
    "select_cols_chall_cheat2 ='''SELECT \n",
    "    book\n",
    "FROM\n",
    "    sales_table'''\n",
    "cheat(select_cols_chall_cheat2) "
   ]
  },
  {
   "cell_type": "markdown",
   "metadata": {},
   "source": [
    "<a id='select_distinct'></a>\n",
    "_________\n",
    "\n",
    "## `SELECT DISTINCT`:\n",
    "> **`SELECT` <br>\n",
    "&nbsp;&nbsp;&nbsp;&nbsp;&nbsp; `DISTINCT column_a`** &nbsp;&nbsp;&nbsp;&nbsp;&nbsp;&nbsp;&nbsp;&nbsp;&nbsp;&nbsp;&nbsp;&nbsp;&nbsp;&nbsp;&nbsp; ➞ *returns only unique values* <br>\n",
    "**`FROM` <br>\n",
    "&nbsp;&nbsp;&nbsp;&nbsp;&nbsp; `table_name`** <br>\n",
    "\n",
    "Use **`DISTINCT`** to return unique values from a column, so if there are any repeats in a column, your **output will include each value just once**.  The query below displays each book in the `sales_table` just once, even though we know each shows up multiple times in the table. "
   ]
  },
  {
   "cell_type": "code",
   "execution_count": 27,
   "metadata": {
    "collapsed": true
   },
   "outputs": [],
   "source": [
    "distinct_q = widgets.Textarea(value=\n",
    "'''SELECT\n",
    "    DISTINCT book\n",
    "FROM\n",
    "    sales_table''',\n",
    "width = '50em', height = '7em')\n",
    "display(distinct_q) "
   ]
  },
  {
   "cell_type": "code",
   "execution_count": 28,
   "metadata": {
    "collapsed": false
   },
   "outputs": [
    {
     "data": {
      "text/html": [
       "<table border=\"1\" class=\"dataframe\">\n",
       "  <thead>\n",
       "    <tr style=\"text-align: right;\">\n",
       "      <th>book</th>\n",
       "    </tr>\n",
       "  </thead>\n",
       "  <tbody>\n",
       "    <tr>\n",
       "      <td>Absalom! Absalom!</td>\n",
       "    </tr>\n",
       "    <tr>\n",
       "      <td>For Whom the Bell Tolls</td>\n",
       "    </tr>\n",
       "    <tr>\n",
       "      <td>Macbeth</td>\n",
       "    </tr>\n",
       "    <tr>\n",
       "      <td>The Sound and the Fury</td>\n",
       "    </tr>\n",
       "    <tr>\n",
       "      <td>The Sun Also Rises</td>\n",
       "    </tr>\n",
       "    <tr>\n",
       "      <td>Hamlet</td>\n",
       "    </tr>\n",
       "    <tr>\n",
       "      <td>Pride and Prejudice</td>\n",
       "    </tr>\n",
       "    <tr>\n",
       "      <td>Sense and Sensibility</td>\n",
       "    </tr>\n",
       "    <tr>\n",
       "      <td>Emma</td>\n",
       "    </tr>\n",
       "    <tr>\n",
       "      <td>Romeo and Juliet</td>\n",
       "    </tr>\n",
       "    <tr>\n",
       "      <td>A Farewell to Arms</td>\n",
       "    </tr>\n",
       "  </tbody>\n",
       "</table>"
      ],
      "text/plain": [
       "<IPython.core.display.HTML object>"
      ]
     },
     "metadata": {},
     "output_type": "display_data"
    }
   ],
   "source": [
    "distinct_b = widgets.Button(description='Run', width='10em', height='2.5em', color='white',background_color='black', border_color='black')\n",
    "display(distinct_b)\n",
    "run_q(distinct_q, distinct_b)\n",
    " "
   ]
  },
  {
   "cell_type": "markdown",
   "metadata": {},
   "source": [
    "______\n",
    "### Challenge: \n",
    "Write a query to return each author from the **`book_table`** without any names repeating."
   ]
  },
  {
   "cell_type": "code",
   "execution_count": 29,
   "metadata": {
    "collapsed": true
   },
   "outputs": [],
   "source": [
    "distinct_q_chall = widgets.Textarea(value='', width = '50em', height = '7em')\n",
    "display(distinct_q_chall) "
   ]
  },
  {
   "cell_type": "code",
   "execution_count": 30,
   "metadata": {
    "collapsed": false
   },
   "outputs": [],
   "source": [
    "distinct_q_chall_b = widgets.Button(description='Run', width='10em', height='2.5em', color='white',background_color='black', border_color='black')\n",
    "display(distinct_q_chall_b)\n",
    "run_q(distinct_q_chall, distinct_q_chall_b)\n",
    " "
   ]
  },
  {
   "cell_type": "code",
   "execution_count": 31,
   "metadata": {
    "collapsed": false
   },
   "outputs": [],
   "source": [
    "REP ='''SELECT \n",
    "    DISTINCT author\n",
    "FROM\n",
    "    book_table'''\n",
    "cheat(REP) "
   ]
  },
  {
   "cell_type": "markdown",
   "metadata": {},
   "source": [
    "_____\n",
    "____\n",
    "____\n",
    "<a id='where'></a>\n",
    "<center>\n",
    "[Previous](#select_from) &nbsp;&nbsp;&nbsp;&nbsp;&nbsp;  | &nbsp;&nbsp;&nbsp;&nbsp;&nbsp; [Table of Contents](#table_of_contents) &nbsp;&nbsp;&nbsp;&nbsp;&nbsp; |  &nbsp;&nbsp;&nbsp;&nbsp;&nbsp; [Next](#where_like)\n",
    "</center>\n",
    "![where](http://i.imgur.com/DNbqPuy.png)\n",
    "\n",
    "<!--\n",
    "[Jump to: WHERE & Text Values](#where_text) [Jump to: Where & Numbers](#table_of_contents) [Jump to: WHERE & Multiple Requirements](#where_and)\n",
    "-->\n",
    "\n",
    ">**`SELECT` <br>\n",
    "&nbsp;&nbsp;&nbsp;&nbsp;&nbsp; `column_a` <br>\n",
    "`FROM` <br>\n",
    "&nbsp;&nbsp;&nbsp;&nbsp;&nbsp; `table_name` <br>\n",
    "`WHERE` <br>\n",
    "&nbsp;&nbsp;&nbsp;&nbsp;&nbsp; `column_a = x`** &nbsp;&nbsp;&nbsp;&nbsp;&nbsp;&nbsp;&nbsp;&nbsp;&nbsp;&nbsp;&nbsp;&nbsp;&nbsp;&nbsp;&nbsp; ➞ result-set will only include rows where value of column_a is x  \n",
    " \n",
    "[**`WHERE`**](http://www.w3schools.com/sql/sql_where.asp) lets you filter results so you only see rows that specifically match your criteria.  Below there are few more options for the **`WHERE`** clause:\n",
    "\n",
    " Options for WHERE | Description\n",
    ":------- | :------------- \n",
    "`col = 'some_text'` | Put text in quotations. Capitalization is important!\n",
    "`col != x` | Return rows where col's values DO NOT equal x\n",
    "`col < x` | Return rows where col's value is less than x\n",
    "`col <= x` |  Return rows where col's value is less OR EQUAL TO than x\n",
    "`col IN (x, y)` | Values can equal EITHER x OR y\n",
    "`col NOT IN (x, y)` | Value are NEITHER x NOR y\n",
    "`col BETWEEN x AND y` | Values are between x and y\n",
    "`col = x AND another_col = y` | Returns rows when col's values are x AND another_col's values are y\n",
    "`col = x OR another_col = y` | Returns rows when col's values are x OR another_col's values are y\n",
    "\n",
    "__________\n",
    "\n",
    "## `WHERE` & text values\n",
    "\n",
    "Below, we use **`WHERE`** to tell SQL to only show us rows in the **`book_table`** when Hemingway is the author. In plain English, we're saying \"*Show me information about books that are written by Hemingway in the `book_table`*\""
   ]
  },
  {
   "cell_type": "code",
   "execution_count": 32,
   "metadata": {
    "collapsed": false
   },
   "outputs": [],
   "source": [
    "where_q = widgets.Textarea(value=\n",
    "'''SELECT \n",
    "    *\n",
    "FROM\n",
    "    book_table\n",
    "WHERE\n",
    "    author = 'Hemingway' ''',\n",
    "width = '50em', height = '10em')\n",
    "display(where_q) "
   ]
  },
  {
   "cell_type": "code",
   "execution_count": 33,
   "metadata": {
    "collapsed": false
   },
   "outputs": [
    {
     "data": {
      "text/html": [
       "<table border=\"1\" class=\"dataframe\">\n",
       "  <thead>\n",
       "    <tr style=\"text-align: right;\">\n",
       "      <th>book</th>\n",
       "      <th>cogs</th>\n",
       "      <th>author</th>\n",
       "    </tr>\n",
       "  </thead>\n",
       "  <tbody>\n",
       "    <tr>\n",
       "      <td>For Whom the Bell Tolls</td>\n",
       "      <td>13.50</td>\n",
       "      <td>Hemingway</td>\n",
       "    </tr>\n",
       "    <tr>\n",
       "      <td>A Farewell to Arms</td>\n",
       "      <td>10.35</td>\n",
       "      <td>Hemingway</td>\n",
       "    </tr>\n",
       "    <tr>\n",
       "      <td>The Sun Also Rises</td>\n",
       "      <td>11.35</td>\n",
       "      <td>Hemingway</td>\n",
       "    </tr>\n",
       "  </tbody>\n",
       "</table>"
      ],
      "text/plain": [
       "<IPython.core.display.HTML object>"
      ]
     },
     "metadata": {},
     "output_type": "display_data"
    }
   ],
   "source": [
    "where_b = widgets.Button(description='Run', width='10em', height='2.5em', color='white',background_color='black', border_color='black')\n",
    "display(where_b)\n",
    "run_q(where_q, where_b)"
   ]
  },
  {
   "cell_type": "markdown",
   "metadata": {},
   "source": [
    "### Quick Exercises:\n",
    "1. Above, change the name from **`'Hemingway'`** to **`'Shakespeare'`**, rerun\n",
    "2. Delete the quotation marks around the word `Shakespeare`, rerun.  Why the error?\n",
    "2. Put **double** quotation marks, rerun\n",
    "3. Change **`\"Shakespeare\"`** to **`\"shakespeare\"`**, rerun\n",
    "4. Change **`\"shakespeare\"`** to **`\"Twain\"`**, rerun\n",
    "5. Change **`\"Twain\"`** to **`'Hemingway'`**, rerun to get back to where we started\n",
    "6. Change = in the **`WHERE`** clause to !=, rerun\n",
    "_______\n",
    "### Challenge: \n",
    "\n",
    "Write a query to return all columns of the **`auth_table`**, but only rows where the author's country is England."
   ]
  },
  {
   "cell_type": "code",
   "execution_count": 34,
   "metadata": {
    "collapsed": true
   },
   "outputs": [],
   "source": [
    "where_q_chall = widgets.Textarea(value='',\n",
    "width = '50em', height = '10em')\n",
    "display(where_q_chall) "
   ]
  },
  {
   "cell_type": "code",
   "execution_count": 35,
   "metadata": {
    "collapsed": false
   },
   "outputs": [],
   "source": [
    "where_b_chall = widgets.Button(description='Run', width='10em', height='2.5em', color='white',background_color='black', border_color='black')\n",
    "display(where_b_chall)\n",
    "run_q(where_q_chall, where_b_chall)"
   ]
  },
  {
   "cell_type": "code",
   "execution_count": 36,
   "metadata": {
    "collapsed": false
   },
   "outputs": [],
   "source": [
    "where_q_chall_cheat ='''SELECT\n",
    "    *\n",
    "FROM\n",
    "    auth_table\n",
    "WHERE\n",
    "    country = 'England' '''\n",
    "cheat(where_q_chall_cheat) "
   ]
  },
  {
   "cell_type": "markdown",
   "metadata": {},
   "source": [
    "We use **`IN (value_1, value_2)`** to return rows that can match more than one value.  In plain English, the query below says, \"*Show me all columns from the book table when the author is EITHER Hemingway OR Austen*\""
   ]
  },
  {
   "cell_type": "code",
   "execution_count": 37,
   "metadata": {
    "collapsed": true
   },
   "outputs": [],
   "source": [
    "in_q = widgets.Textarea(value=\n",
    "'''SELECT\n",
    "    *\n",
    "FROM\n",
    "    book_table\n",
    "WHERE\n",
    "    author IN ('Hemingway', 'Austen')''',\n",
    "width = '50em', height = '10em')\n",
    "display(in_q) "
   ]
  },
  {
   "cell_type": "code",
   "execution_count": 38,
   "metadata": {
    "collapsed": false
   },
   "outputs": [
    {
     "data": {
      "text/html": [
       "<table border=\"1\" class=\"dataframe\">\n",
       "  <thead>\n",
       "    <tr style=\"text-align: right;\">\n",
       "      <th>book</th>\n",
       "      <th>cogs</th>\n",
       "      <th>author</th>\n",
       "    </tr>\n",
       "  </thead>\n",
       "  <tbody>\n",
       "    <tr>\n",
       "      <td>For Whom the Bell Tolls</td>\n",
       "      <td>13.50</td>\n",
       "      <td>Hemingway</td>\n",
       "    </tr>\n",
       "    <tr>\n",
       "      <td>A Farewell to Arms</td>\n",
       "      <td>10.35</td>\n",
       "      <td>Hemingway</td>\n",
       "    </tr>\n",
       "    <tr>\n",
       "      <td>The Sun Also Rises</td>\n",
       "      <td>11.35</td>\n",
       "      <td>Hemingway</td>\n",
       "    </tr>\n",
       "    <tr>\n",
       "      <td>Sense and Sensibility</td>\n",
       "      <td>11.00</td>\n",
       "      <td>Austen</td>\n",
       "    </tr>\n",
       "    <tr>\n",
       "      <td>Emma</td>\n",
       "      <td>12.50</td>\n",
       "      <td>Austen</td>\n",
       "    </tr>\n",
       "    <tr>\n",
       "      <td>Pride and Prejudice</td>\n",
       "      <td>13.00</td>\n",
       "      <td>Austen</td>\n",
       "    </tr>\n",
       "  </tbody>\n",
       "</table>"
      ],
      "text/plain": [
       "<IPython.core.display.HTML object>"
      ]
     },
     "metadata": {},
     "output_type": "display_data"
    }
   ],
   "source": [
    "in_b = widgets.Button(description='Run', width='10em', height='2.5em', color='white',background_color='black', border_color='black')\n",
    "display(in_b)\n",
    "run_q(in_q, in_b)"
   ]
  },
  {
   "cell_type": "markdown",
   "metadata": {},
   "source": [
    "### Quick Exercise:\n",
    "1. Add **`'Faulkner'`** to the list, rerun.\n",
    "2. Replace **`IN`** with **`NOT IN`**, rerun.\n",
    "3. Delete the whole last line and replace it so that the query returns all books except for <u>Emma</u> and <u>Macbeth</u>.\n",
    "\n",
    "<a id='where_numbers'></a>\n",
    "________\n",
    "## `WHERE` & number values\n",
    "The **`WHERE`** clause is useful with numbers as well. We can start throwing in comparisons like less than (<) and greater than (>):"
   ]
  },
  {
   "cell_type": "code",
   "execution_count": 39,
   "metadata": {
    "collapsed": true
   },
   "outputs": [],
   "source": [
    "greater_q = widgets.Textarea(value=\n",
    "'''SELECT\n",
    "    *\n",
    "FROM\n",
    "    sales_table\n",
    "WHERE\n",
    "    revenue > 18''',\n",
    "width = '50em', height = '10em')\n",
    "display(greater_q) "
   ]
  },
  {
   "cell_type": "code",
   "execution_count": 40,
   "metadata": {
    "collapsed": false
   },
   "outputs": [
    {
     "data": {
      "text/html": [
       "<table border=\"1\" class=\"dataframe\">\n",
       "  <thead>\n",
       "    <tr style=\"text-align: right;\">\n",
       "      <th>id</th>\n",
       "      <th>book</th>\n",
       "      <th>revenue</th>\n",
       "      <th>date</th>\n",
       "    </tr>\n",
       "  </thead>\n",
       "  <tbody>\n",
       "    <tr>\n",
       "      <td>2</td>\n",
       "      <td>For Whom the Bell Tolls</td>\n",
       "      <td>19.74</td>\n",
       "      <td>1/1/16</td>\n",
       "    </tr>\n",
       "    <tr>\n",
       "      <td>4</td>\n",
       "      <td>For Whom the Bell Tolls</td>\n",
       "      <td>19.26</td>\n",
       "      <td>1/1/16</td>\n",
       "    </tr>\n",
       "    <tr>\n",
       "      <td>24</td>\n",
       "      <td>For Whom the Bell Tolls</td>\n",
       "      <td>18.94</td>\n",
       "      <td>1/5/16</td>\n",
       "    </tr>\n",
       "    <tr>\n",
       "      <td>25</td>\n",
       "      <td>Emma</td>\n",
       "      <td>18.21</td>\n",
       "      <td>1/6/16</td>\n",
       "    </tr>\n",
       "    <tr>\n",
       "      <td>47</td>\n",
       "      <td>For Whom the Bell Tolls</td>\n",
       "      <td>18.34</td>\n",
       "      <td>1/13/16</td>\n",
       "    </tr>\n",
       "    <tr>\n",
       "      <td>64</td>\n",
       "      <td>Pride and Prejudice</td>\n",
       "      <td>18.82</td>\n",
       "      <td>1/15/16</td>\n",
       "    </tr>\n",
       "    <tr>\n",
       "      <td>88</td>\n",
       "      <td>Emma</td>\n",
       "      <td>18.18</td>\n",
       "      <td>1/24/16</td>\n",
       "    </tr>\n",
       "    <tr>\n",
       "      <td>91</td>\n",
       "      <td>Pride and Prejudice</td>\n",
       "      <td>18.62</td>\n",
       "      <td>1/26/16</td>\n",
       "    </tr>\n",
       "  </tbody>\n",
       "</table>"
      ],
      "text/plain": [
       "<IPython.core.display.HTML object>"
      ]
     },
     "metadata": {},
     "output_type": "display_data"
    }
   ],
   "source": [
    "greater_b = widgets.Button(description='Run', width='10em', height='2.5em', color='white',background_color='black', border_color='black')\n",
    "display(greater_b)\n",
    "run_q(greater_q, greater_b)"
   ]
  },
  {
   "cell_type": "markdown",
   "metadata": {},
   "source": [
    "### Quick Exercises:\n",
    "1. Replace > with <, rerun\n",
    "2. Add an = directly after the <, rerun \n",
    "2. Change the line to **`revenue BETWEEN 10 AND 12`**, rerun\n"
   ]
  },
  {
   "cell_type": "markdown",
   "metadata": {},
   "source": [
    "_____\n",
    "\n",
    "### Challenge:\n",
    "Write a query that returns all columns from the `auth_table` for authors with a `birth_year` before 1800:"
   ]
  },
  {
   "cell_type": "code",
   "execution_count": 41,
   "metadata": {
    "collapsed": true
   },
   "outputs": [],
   "source": [
    "born_chall = widgets.Textarea(value='',width = '50em', height = '10em')\n",
    "display(born_chall) "
   ]
  },
  {
   "cell_type": "code",
   "execution_count": 42,
   "metadata": {
    "collapsed": false
   },
   "outputs": [],
   "source": [
    "born_chall_b = widgets.Button(description='Run', width='10em', height='2.5em', color='white',background_color='black', border_color='black')\n",
    "display(born_chall_b)\n",
    "run_q(born_chall, born_chall_b)"
   ]
  },
  {
   "cell_type": "code",
   "execution_count": 43,
   "metadata": {
    "collapsed": false
   },
   "outputs": [],
   "source": [
    "born_chall_c ='''SELECT\n",
    "    *\n",
    "FROM\n",
    "    auth_table\n",
    "WHERE\n",
    "    birth_year < 1800\n",
    "'''\n",
    "cheat(born_chall_c) "
   ]
  },
  {
   "cell_type": "markdown",
   "metadata": {},
   "source": [
    "<a id='where_and'></a>\n",
    "_____________\n",
    "\n",
    "# `WHERE` with `AND`/`OR`\n",
    "\n",
    "So far, we've only filtered by a specific column (like the revenue column , country, or author columns).  Sometimes you'll want to filter by multiple columns. This is where **`AND`** and **`OR`** come in handy."
   ]
  },
  {
   "cell_type": "code",
   "execution_count": 44,
   "metadata": {
    "collapsed": true
   },
   "outputs": [],
   "source": [
    "and_q = widgets.Textarea(value=\n",
    "'''SELECT\n",
    "    *\n",
    "FROM\n",
    "    book_table\n",
    "WHERE\n",
    "    author = 'Hemingway'\n",
    "    AND cogs > 11''',\n",
    "width = '50em', height = '12em')\n",
    "display(and_q) "
   ]
  },
  {
   "cell_type": "code",
   "execution_count": 45,
   "metadata": {
    "collapsed": false
   },
   "outputs": [
    {
     "data": {
      "text/html": [
       "<table border=\"1\" class=\"dataframe\">\n",
       "  <thead>\n",
       "    <tr style=\"text-align: right;\">\n",
       "      <th>book</th>\n",
       "      <th>cogs</th>\n",
       "      <th>author</th>\n",
       "    </tr>\n",
       "  </thead>\n",
       "  <tbody>\n",
       "    <tr>\n",
       "      <td>For Whom the Bell Tolls</td>\n",
       "      <td>13.50</td>\n",
       "      <td>Hemingway</td>\n",
       "    </tr>\n",
       "    <tr>\n",
       "      <td>The Sun Also Rises</td>\n",
       "      <td>11.35</td>\n",
       "      <td>Hemingway</td>\n",
       "    </tr>\n",
       "  </tbody>\n",
       "</table>"
      ],
      "text/plain": [
       "<IPython.core.display.HTML object>"
      ]
     },
     "metadata": {},
     "output_type": "display_data"
    }
   ],
   "source": [
    "and_b = widgets.Button(description='Run', width='10em', height='2.5em', color='white',background_color='black', border_color='black')\n",
    "display(and_b)\n",
    "run_q(and_q, and_b)"
   ]
  },
  {
   "cell_type": "markdown",
   "metadata": {},
   "source": [
    "### Quick Exercises:\n",
    "1. Delete **`AND cogs > 11`** and rerun the query. Then replace it and run it again.\n",
    "2. Change the word **`AND`** to **`OR`**, rerun. What's going on?\n",
    "_________\n",
    "### Challenge:\n",
    "\n",
    "Write a query to pull the **`last_name`**, **`country`**, and **`birth_year`** of authors who were from England AND born after 1650"
   ]
  },
  {
   "cell_type": "code",
   "execution_count": 46,
   "metadata": {
    "collapsed": true
   },
   "outputs": [],
   "source": [
    "and_chall = widgets.Textarea(value=\n",
    "'',\n",
    "width = '50em', height = '14em')\n",
    "display(and_chall) "
   ]
  },
  {
   "cell_type": "code",
   "execution_count": 47,
   "metadata": {
    "collapsed": false
   },
   "outputs": [],
   "source": [
    "and_chall_b = widgets.Button(description='Run', width='10em', height='2.5em', color='white',background_color='black', border_color='black')\n",
    "display(and_chall_b)\n",
    "run_q(and_chall, and_chall_b)"
   ]
  },
  {
   "cell_type": "code",
   "execution_count": 48,
   "metadata": {
    "collapsed": false
   },
   "outputs": [],
   "source": [
    "and_chall_c ='''SELECT\n",
    "    last_Name,\n",
    "    country,\n",
    "    birth_Year\n",
    "FROM\n",
    "    auth_table\n",
    "WHERE\n",
    "    country = 'England'\n",
    "    AND birth_Year > 1650 '''\n",
    "cheat(and_chall_c) "
   ]
  },
  {
   "cell_type": "markdown",
   "metadata": {},
   "source": [
    "________\n",
    "### Challenge:\n",
    "Write a query to see all columns from the **`sales_table`** where the book name is <u>Macbeth</u> OR **`revenue`** was greater than $17. "
   ]
  },
  {
   "cell_type": "code",
   "execution_count": 49,
   "metadata": {
    "collapsed": true
   },
   "outputs": [],
   "source": [
    "or_chall = widgets.Textarea(value=\n",
    "'',\n",
    "width = '50em', height = '12em')\n",
    "display(or_chall) "
   ]
  },
  {
   "cell_type": "code",
   "execution_count": 50,
   "metadata": {
    "collapsed": false
   },
   "outputs": [],
   "source": [
    "or_chall_b = widgets.Button(description='Run', width='10em', height='2.5em', color='white',background_color='black', border_color='black')\n",
    "display(or_chall_b)\n",
    "run_q(or_chall, or_chall_b)"
   ]
  },
  {
   "cell_type": "code",
   "execution_count": 51,
   "metadata": {
    "collapsed": false
   },
   "outputs": [],
   "source": [
    "or_chall_cheat ='''SELECT\n",
    "    *\n",
    "FROM\n",
    "    sales_table\n",
    "WHERE\n",
    "    book = 'Macbeth'\n",
    "    OR revenue > 17 '''\n",
    "cheat(or_chall_cheat) "
   ]
  },
  {
   "cell_type": "markdown",
   "metadata": {},
   "source": [
    "__________\n",
    "<a id='where_like'></a>\n",
    "<center>\n",
    "[Previous](#where) &nbsp;&nbsp;&nbsp;&nbsp;&nbsp;  | &nbsp;&nbsp;&nbsp;&nbsp;&nbsp; [Table of Contents](#table_of_contents) &nbsp;&nbsp;&nbsp;&nbsp;&nbsp; |  &nbsp;&nbsp;&nbsp;&nbsp;&nbsp; [Next](#order_by)\n",
    "</center>\n",
    "![like and wildcards](http://i.imgur.com/sQipUZ8.png)\n",
    "    \n",
    ">**`SELECT` <br>\n",
    "&nbsp;&nbsp;&nbsp;&nbsp;&nbsp; `column_a` <br>\n",
    "`FROM` <br>\n",
    "&nbsp;&nbsp;&nbsp;&nbsp;&nbsp;`table_name` <br>\n",
    "`WHERE` <br>\n",
    "&nbsp;&nbsp;&nbsp;&nbsp;&nbsp;`column_a LIKE 's%Me_t%xT'`**  &nbsp;&nbsp;&nbsp;&nbsp;&nbsp;&nbsp;&nbsp;&nbsp;&nbsp;&nbsp;&nbsp;&nbsp;&nbsp;&nbsp;&nbsp;&nbsp;   ➞ correct capitalization isn't necessary with `LIKE`, and `%` stands in for any missing character\n",
    "\n",
    "[**`LIKE`**](http://www.w3schools.com/sql/sql_like.asp) lets you search for a value even if you capitalize it incorrectly. It also allows you to work with percentage signs that act as [wildcards](http://www.w3schools.com/sql/sql_wildcards.asp), which stand in for an unlimited number of missing characters (helpful if you don't know how to spell something).  Take a look at the query below. **Recall that earlier when we wrote `author = 'shakespeare'`, we got no results.**"
   ]
  },
  {
   "cell_type": "code",
   "execution_count": 52,
   "metadata": {
    "collapsed": true
   },
   "outputs": [],
   "source": [
    "like_q = widgets.Textarea(value=\n",
    "'''SELECT\n",
    "    *\n",
    "FROM\n",
    "    book_table\n",
    "WHERE\n",
    "    author LIKE 'hemingway' ''',\n",
    "width = '50em', height = '10em')\n",
    "display(like_q) "
   ]
  },
  {
   "cell_type": "code",
   "execution_count": 53,
   "metadata": {
    "collapsed": false
   },
   "outputs": [
    {
     "data": {
      "text/html": [
       "<table border=\"1\" class=\"dataframe\">\n",
       "  <thead>\n",
       "    <tr style=\"text-align: right;\">\n",
       "      <th>book</th>\n",
       "      <th>cogs</th>\n",
       "      <th>author</th>\n",
       "    </tr>\n",
       "  </thead>\n",
       "  <tbody>\n",
       "    <tr>\n",
       "      <td>For Whom the Bell Tolls</td>\n",
       "      <td>13.50</td>\n",
       "      <td>Hemingway</td>\n",
       "    </tr>\n",
       "    <tr>\n",
       "      <td>A Farewell to Arms</td>\n",
       "      <td>10.35</td>\n",
       "      <td>Hemingway</td>\n",
       "    </tr>\n",
       "    <tr>\n",
       "      <td>The Sun Also Rises</td>\n",
       "      <td>11.35</td>\n",
       "      <td>Hemingway</td>\n",
       "    </tr>\n",
       "  </tbody>\n",
       "</table>"
      ],
      "text/plain": [
       "<IPython.core.display.HTML object>"
      ]
     },
     "metadata": {},
     "output_type": "display_data"
    }
   ],
   "source": [
    "like_b = widgets.Button(description='Run', width='10em', height='2.5em', color='white',background_color='black', border_color='black')\n",
    "display(like_b)\n",
    "run_q(like_q, like_b)"
   ]
  },
  {
   "cell_type": "markdown",
   "metadata": {},
   "source": [
    "### Quick Exercises:\n",
    "1. Replace **`'hemingway'`** with **`'hemingWAY'`**, rerun\n",
    "2. Replace **`LIKE`** with =, rerun\n",
    "3. Replace = with **`LIKE`** again, but change '**`hemingWAY`**' to '**`Hemmingway`**', rerun\n",
    "4. Replace '**`Hemmingway`**' with **`'Hem'`**, rerun\n",
    "\n",
    "____________\n",
    "\n",
    "## Using % as a \"wildcard\"\n",
    "With exercises #3 and #4, you saw that **`LIKE`** alone has a limitation - it only lets you mess with capitalization. You need **wildcards** to do more with **`LIKE`**.  Let's say you can't remember if Hemingway is spelled with 1 \"m\" or 2. Use a percentage sign (%) to get the value you're looking for: "
   ]
  },
  {
   "cell_type": "code",
   "execution_count": 54,
   "metadata": {
    "collapsed": false
   },
   "outputs": [],
   "source": [
    "like_q2 = widgets.Textarea(value=\n",
    "'''SELECT\n",
    "    *\n",
    "FROM\n",
    "    book_table\n",
    "WHERE\n",
    "    author LIKE 'He%ingway' ''',\n",
    "width = '50em', height = '11em')\n",
    "display(like_q2) "
   ]
  },
  {
   "cell_type": "code",
   "execution_count": 55,
   "metadata": {
    "collapsed": false
   },
   "outputs": [
    {
     "data": {
      "text/html": [
       "<table border=\"1\" class=\"dataframe\">\n",
       "  <thead>\n",
       "    <tr style=\"text-align: right;\">\n",
       "      <th>book</th>\n",
       "      <th>cogs</th>\n",
       "      <th>author</th>\n",
       "    </tr>\n",
       "  </thead>\n",
       "  <tbody>\n",
       "    <tr>\n",
       "      <td>For Whom the Bell Tolls</td>\n",
       "      <td>13.50</td>\n",
       "      <td>Hemingway</td>\n",
       "    </tr>\n",
       "    <tr>\n",
       "      <td>A Farewell to Arms</td>\n",
       "      <td>10.35</td>\n",
       "      <td>Hemingway</td>\n",
       "    </tr>\n",
       "    <tr>\n",
       "      <td>The Sun Also Rises</td>\n",
       "      <td>11.35</td>\n",
       "      <td>Hemingway</td>\n",
       "    </tr>\n",
       "  </tbody>\n",
       "</table>"
      ],
      "text/plain": [
       "<IPython.core.display.HTML object>"
      ]
     },
     "metadata": {},
     "output_type": "display_data"
    }
   ],
   "source": [
    "like_b2 = widgets.Button(description='Run', width='10em', height='2.5em', color='white',background_color='black', border_color='black')\n",
    "display(like_b2)\n",
    "run_q(like_q2, like_b2)"
   ]
  },
  {
   "cell_type": "markdown",
   "metadata": {},
   "source": [
    "### Quick Exercises:\n",
    "1. Change **`'He%ingway'`** to **`'Hemm%ingway'`**. Why doesn't this work?\n",
    "2. Change  **`'Hemm%ingway'`** to **`'Hem%'`**, rerun\n",
    "3. Change **`'Hem%'`** to **`'%us%'`**, rerun\n",
    "4. Change **`LIKE`** to =, rerun (see how wildcards only work with **`LIKE`**?)\n",
    "__________\n",
    "### Challenge:\n",
    "\n",
    "Write a query to pull the **`book`** and **`author` ** columns from the **`book_table`**. Pretend you can't remember the full name of the book you're looking for. You just know it starts with the word \"Pride\". "
   ]
  },
  {
   "cell_type": "code",
   "execution_count": 56,
   "metadata": {
    "collapsed": true
   },
   "outputs": [],
   "source": [
    "like_chall = widgets.Textarea(value=\n",
    "'',\n",
    "width = '50em', height = '12em')\n",
    "display(like_chall) "
   ]
  },
  {
   "cell_type": "code",
   "execution_count": 57,
   "metadata": {
    "collapsed": false
   },
   "outputs": [],
   "source": [
    "like_chall_b = widgets.Button(description='Run', width='10em', height='2.5em', color='white',background_color='black', border_color='black')\n",
    "display(like_chall_b)\n",
    "run_q(like_chall, like_chall_b)"
   ]
  },
  {
   "cell_type": "code",
   "execution_count": 58,
   "metadata": {
    "collapsed": false
   },
   "outputs": [],
   "source": [
    "like_chall_c ='''SELECT\n",
    "    book,\n",
    "    author\n",
    "FROM\n",
    "    book_table\n",
    "WHERE\n",
    "    book LIKE 'Pride %' '''\n",
    "cheat(like_chall_c) "
   ]
  },
  {
   "cell_type": "markdown",
   "metadata": {},
   "source": [
    "<img align=\"left\" src=\"http://i.imgur.com/p6d18FV.png\"> <br><br>\n",
    "**Use `LIKE` sparingly:** It's a great tool, but it really puts the strain on your database's servers. Use it only when a table is pretty small or when you've limited your result-set by using additional filters in the `WHERE` clause."
   ]
  },
  {
   "cell_type": "markdown",
   "metadata": {},
   "source": [
    "__________________________\n",
    "__________\n",
    "__________________________\n",
    "<a id='order_by'></a>\n",
    "<center>\n",
    "[Previous](#where_like) &nbsp;&nbsp;&nbsp;&nbsp;&nbsp;  | &nbsp;&nbsp;&nbsp;&nbsp;&nbsp; [Table of Contents](#table_of_contents) &nbsp;&nbsp;&nbsp;&nbsp;&nbsp; |  &nbsp;&nbsp;&nbsp;&nbsp;&nbsp; [Next](#limit)\n",
    "</center>\n",
    "![order by](http://i.imgur.com/ZzjkeSV.png)\n",
    "\n",
    "> **`SELECT` <br>\n",
    "&nbsp;&nbsp;&nbsp;&nbsp;&nbsp; `column_a` <br>\n",
    "`FROM` <br>\n",
    "&nbsp;&nbsp;&nbsp;&nbsp;&nbsp; `table_name`** <br>\n",
    "`[WHERE clause, optional]` <br>\n",
    "**`ORDER BY`** &nbsp;&nbsp;&nbsp;&nbsp;&nbsp;&nbsp;&nbsp;&nbsp;&nbsp;&nbsp;&nbsp;&nbsp;&nbsp;&nbsp;&nbsp;&nbsp;&nbsp;&nbsp;&nbsp;&nbsp;&nbsp;&nbsp;&nbsp;&nbsp;&nbsp;&nbsp;&nbsp;&nbsp;&nbsp;&nbsp;&nbsp;&nbsp;&nbsp;&nbsp;&nbsp;&nbsp;&nbsp;&nbsp;&nbsp;&nbsp;&nbsp;&nbsp;&nbsp;&nbsp; ➞ sorts the result-set by column_a <br>\n",
    "&nbsp;&nbsp;&nbsp;&nbsp;&nbsp; **`column_a DESC`** &nbsp;&nbsp;&nbsp;&nbsp;&nbsp;&nbsp;&nbsp;&nbsp;&nbsp;&nbsp;&nbsp;&nbsp;&nbsp;&nbsp;&nbsp;&nbsp;&nbsp;&nbsp;&nbsp;&nbsp;&nbsp;&nbsp;&nbsp;&nbsp;&nbsp;&nbsp;&nbsp; ➞ `DESC` is optional, it sorts results in descending order\n",
    "\n",
    "Without an `ORDER BY` clause, the default result-set will be sorted by however it appears in the database (which is crap-shoot depending on the type of table). **Use [`ORDER BY`](http://www.w3schools.com/sql/sql_orderby.asp) to sort your result-set by a particular column**, and add **`DESC`** to sort in descending order (Z→A, 100→1)."
   ]
  },
  {
   "cell_type": "code",
   "execution_count": 59,
   "metadata": {
    "collapsed": true
   },
   "outputs": [],
   "source": [
    "order_q = widgets.Textarea(value=\n",
    "'''SELECT\n",
    "    *\n",
    "FROM\n",
    "    book_table\n",
    "ORDER BY\n",
    "    book''',\n",
    "width = '50em', height = '11em')\n",
    "display(order_q) "
   ]
  },
  {
   "cell_type": "code",
   "execution_count": 60,
   "metadata": {
    "collapsed": false
   },
   "outputs": [
    {
     "data": {
      "text/html": [
       "<table border=\"1\" class=\"dataframe\">\n",
       "  <thead>\n",
       "    <tr style=\"text-align: right;\">\n",
       "      <th>book</th>\n",
       "      <th>cogs</th>\n",
       "      <th>author</th>\n",
       "    </tr>\n",
       "  </thead>\n",
       "  <tbody>\n",
       "    <tr>\n",
       "      <td>A Farewell to Arms</td>\n",
       "      <td>10.35</td>\n",
       "      <td>Hemingway</td>\n",
       "    </tr>\n",
       "    <tr>\n",
       "      <td>Absalom! Absalom!</td>\n",
       "      <td>5.15</td>\n",
       "      <td>Faulkner</td>\n",
       "    </tr>\n",
       "    <tr>\n",
       "      <td>Emma</td>\n",
       "      <td>12.50</td>\n",
       "      <td>Austen</td>\n",
       "    </tr>\n",
       "    <tr>\n",
       "      <td>For Whom the Bell Tolls</td>\n",
       "      <td>13.50</td>\n",
       "      <td>Hemingway</td>\n",
       "    </tr>\n",
       "    <tr>\n",
       "      <td>Hamlet</td>\n",
       "      <td>6.95</td>\n",
       "      <td>Shakespeare</td>\n",
       "    </tr>\n",
       "    <tr>\n",
       "      <td>Macbeth</td>\n",
       "      <td>11.10</td>\n",
       "      <td>Shakespeare</td>\n",
       "    </tr>\n",
       "    <tr>\n",
       "      <td>Pride and Prejudice</td>\n",
       "      <td>13.00</td>\n",
       "      <td>Austen</td>\n",
       "    </tr>\n",
       "    <tr>\n",
       "      <td>Romeo and Juliet</td>\n",
       "      <td>7.50</td>\n",
       "      <td>Shakespeare</td>\n",
       "    </tr>\n",
       "    <tr>\n",
       "      <td>Sense and Sensibility</td>\n",
       "      <td>11.00</td>\n",
       "      <td>Austen</td>\n",
       "    </tr>\n",
       "    <tr>\n",
       "      <td>The Sound and the Fury</td>\n",
       "      <td>8.50</td>\n",
       "      <td>Faulkner</td>\n",
       "    </tr>\n",
       "    <tr>\n",
       "      <td>The Sun Also Rises</td>\n",
       "      <td>11.35</td>\n",
       "      <td>Hemingway</td>\n",
       "    </tr>\n",
       "  </tbody>\n",
       "</table>"
      ],
      "text/plain": [
       "<IPython.core.display.HTML object>"
      ]
     },
     "metadata": {},
     "output_type": "display_data"
    }
   ],
   "source": [
    "order_b = widgets.Button(description='Run', width='10em', height='2.5em', color='white',background_color='black', border_color='black')\n",
    "display(order_b)\n",
    "run_q(order_q, order_b)"
   ]
  },
  {
   "cell_type": "markdown",
   "metadata": {},
   "source": [
    "### Quick Exercises:\n",
    "1. Change the query so it sorts by **`author`** instead\n",
    "2. Add **`DESC`** and rerun\n",
    "3. Delete **`author DESC`**, replace it with **`author, book`**, rerun\n",
    "3. Add **`DESC`** so it reads **`author, book DESC`**, rerun  \n",
    "4. Change the line to **`author DESC, book`**\n",
    "________\n",
    "\n",
    "### Challenge: \n",
    "\n",
    "Write a query to see the **`book`** and **`revenue`** columns from the **`sales_table`**, and sort the results by **`revenue`** in descending order."
   ]
  },
  {
   "cell_type": "code",
   "execution_count": 61,
   "metadata": {
    "collapsed": true
   },
   "outputs": [],
   "source": [
    "order_chall = widgets.Textarea(value=\n",
    "'',\n",
    "width = '50em', height = '12em')\n",
    "display(order_chall) "
   ]
  },
  {
   "cell_type": "code",
   "execution_count": 62,
   "metadata": {
    "collapsed": false
   },
   "outputs": [],
   "source": [
    "order_chall_b = widgets.Button(description='Run', width='10em', height='2.5em', color='white',background_color='black', border_color='black')\n",
    "display(order_chall_b)\n",
    "run_q(order_chall, order_chall_b)"
   ]
  },
  {
   "cell_type": "code",
   "execution_count": 63,
   "metadata": {
    "collapsed": false
   },
   "outputs": [],
   "source": [
    "order_chall_c ='''SELECT\n",
    "    book,\n",
    "    revenue\n",
    "FROM\n",
    "    sales_table\n",
    "ORDER BY\n",
    "    revenue DESC'''\n",
    "cheat(order_chall_c) "
   ]
  },
  {
   "cell_type": "markdown",
   "metadata": {},
   "source": [
    "______\n",
    "### Challenge: \n",
    "Write a query to view all columns from the **`book_table`**, but only where the author's name is something like \"pear\" or **`COGs`** are over $12. Sort your results by **`COGs`** with the cheapest book first."
   ]
  },
  {
   "cell_type": "code",
   "execution_count": 64,
   "metadata": {
    "collapsed": true
   },
   "outputs": [],
   "source": [
    "order_chall2 = widgets.Textarea(value=\n",
    "'',\n",
    "width = '50em', height = '16em')\n",
    "display(order_chall2) "
   ]
  },
  {
   "cell_type": "code",
   "execution_count": 65,
   "metadata": {
    "collapsed": false
   },
   "outputs": [],
   "source": [
    "order_chall_b2 = widgets.Button(description='Run', width='10em', height='2.5em', color='white',background_color='black', border_color='black')\n",
    "display(order_chall_b2)\n",
    "run_q(order_chall2, order_chall_b2)"
   ]
  },
  {
   "cell_type": "code",
   "execution_count": 66,
   "metadata": {
    "collapsed": false
   },
   "outputs": [],
   "source": [
    "order_chall_c2 ='''SELECT \n",
    "    *\n",
    "FROM\n",
    "    book_table\n",
    "WHERE\n",
    "    author LIKE '%pear%'\n",
    "    OR cogs > 12\n",
    "ORDER BY \n",
    "    cogs'''\n",
    "cheat(order_chall_c2) "
   ]
  },
  {
   "cell_type": "markdown",
   "metadata": {},
   "source": [
    "_____\n",
    "____\n",
    "____\n",
    "<a id='limit'></a>\n",
    "<center>\n",
    "[Previous](#order_by) &nbsp;&nbsp;&nbsp;&nbsp;&nbsp;  | &nbsp;&nbsp;&nbsp;&nbsp;&nbsp; [Table of Contents](#table_of_contents) &nbsp;&nbsp;&nbsp;&nbsp;&nbsp; |  &nbsp;&nbsp;&nbsp;&nbsp;&nbsp; [Next](#join_tables)\n",
    "</center>\n",
    "\n",
    "![limit](http://i.imgur.com/tPqw25W.png)\n",
    "<font color='#1f5fd6'>Microsoft SQL Server | <font color='#1f5fd6'>MySQL | <font color='#1f5fd6'>Oracle | <font color='#1f5fd6'>SQLite </font>\n",
    ":------------------: | :---: | :----: | :----:\n",
    "`SELECT TOP N column_name`  | `LIMIT N` | `WHERE ROWNUM <= N` | `LIMIT N`\n",
    "\n",
    ">**`SELECT`** <br>\n",
    "&nbsp;&nbsp;&nbsp;&nbsp;&nbsp;**`column_a`** <br>\n",
    "**`FROM`** <br>\n",
    "&nbsp;&nbsp;&nbsp;&nbsp;&nbsp;**`table_name`** <br>\n",
    "`[WHERE clause]` <br>\n",
    "`[ORDER BY clause]`  <br>\n",
    "**`LIMIT N`** &nbsp;&nbsp;&nbsp;&nbsp;&nbsp;&nbsp;&nbsp;&nbsp;&nbsp;&nbsp;&nbsp;&nbsp;&nbsp;&nbsp;&nbsp;&nbsp;&nbsp;&nbsp;&nbsp;&nbsp;&nbsp;&nbsp;&nbsp;&nbsp;&nbsp;&nbsp;&nbsp; ➞ *limits the result-set to N rows*\n",
    "\n",
    "[**`LIMIT`**](http://www.w3schools.com/sql/sql_top.asp) lets you set a maximum limit to the number of rows that your query returns. You've seen the query below before, but now we've added a `LIMIT` clause:"
   ]
  },
  {
   "cell_type": "code",
   "execution_count": 67,
   "metadata": {
    "collapsed": true
   },
   "outputs": [],
   "source": [
    "limit_q = widgets.Textarea(value=\n",
    "'''SELECT\n",
    "    *\n",
    "FROM\n",
    "    sales_table\n",
    "LIMIT 5''',\n",
    "width = '50em', height = '14em')\n",
    "display(limit_q) "
   ]
  },
  {
   "cell_type": "code",
   "execution_count": 68,
   "metadata": {
    "collapsed": false
   },
   "outputs": [
    {
     "data": {
      "text/html": [
       "<table border=\"1\" class=\"dataframe\">\n",
       "  <thead>\n",
       "    <tr style=\"text-align: right;\">\n",
       "      <th>id</th>\n",
       "      <th>book</th>\n",
       "      <th>revenue</th>\n",
       "      <th>date</th>\n",
       "    </tr>\n",
       "  </thead>\n",
       "  <tbody>\n",
       "    <tr>\n",
       "      <td>1</td>\n",
       "      <td>Absalom! Absalom!</td>\n",
       "      <td>6.44</td>\n",
       "      <td>1/1/16</td>\n",
       "    </tr>\n",
       "    <tr>\n",
       "      <td>2</td>\n",
       "      <td>For Whom the Bell Tolls</td>\n",
       "      <td>19.74</td>\n",
       "      <td>1/1/16</td>\n",
       "    </tr>\n",
       "    <tr>\n",
       "      <td>3</td>\n",
       "      <td>Macbeth</td>\n",
       "      <td>8.90</td>\n",
       "      <td>1/1/16</td>\n",
       "    </tr>\n",
       "    <tr>\n",
       "      <td>4</td>\n",
       "      <td>For Whom the Bell Tolls</td>\n",
       "      <td>19.26</td>\n",
       "      <td>1/1/16</td>\n",
       "    </tr>\n",
       "    <tr>\n",
       "      <td>5</td>\n",
       "      <td>The Sound and the Fury</td>\n",
       "      <td>10.64</td>\n",
       "      <td>1/1/16</td>\n",
       "    </tr>\n",
       "  </tbody>\n",
       "</table>"
      ],
      "text/plain": [
       "<IPython.core.display.HTML object>"
      ]
     },
     "metadata": {},
     "output_type": "display_data"
    }
   ],
   "source": [
    "limit_b = widgets.Button(description='Run', width='10em', height='2.5em', color='white',background_color='black', border_color='black')\n",
    "display(limit_b)\n",
    "run_q(limit_q, limit_b)"
   ]
  },
  {
   "cell_type": "markdown",
   "metadata": {},
   "source": [
    "### Quick Exercises:\n",
    "1. Change 5 to 10, rerun\n",
    "2. Add an **`ORDER BY`** clause so that you see the top 10 transactions in terms of **`revenue`**, rerun\n",
    "3. Add a **`WHERE`** clause so you only see transactions relating to <u>Emma</u>\n",
    "\n",
    "### Challenge:\n",
    "Write a query to view the **`title`** and **`cogs`** of the two books with the lowest cogs in the **`book_table`**"
   ]
  },
  {
   "cell_type": "code",
   "execution_count": 69,
   "metadata": {
    "collapsed": true
   },
   "outputs": [],
   "source": [
    "limit_chall = widgets.Textarea(value=\n",
    "'',\n",
    "width = '50em', height = '12em')\n",
    "display(limit_chall) "
   ]
  },
  {
   "cell_type": "code",
   "execution_count": 70,
   "metadata": {
    "collapsed": false
   },
   "outputs": [],
   "source": [
    "limit_chall_b = widgets.Button(description='Run', width='10em', height='2.5em', color='white',background_color='black', border_color='black')\n",
    "display(limit_chall_b)\n",
    "run_q(limit_chall, limit_chall_b)"
   ]
  },
  {
   "cell_type": "code",
   "execution_count": 71,
   "metadata": {
    "collapsed": false
   },
   "outputs": [],
   "source": [
    "limit_chall_c ='''SELECT\n",
    "    book,\n",
    "    cogs\n",
    "FROM\n",
    "    book_table\n",
    "ORDER BY\n",
    "    cogs\n",
    "LIMIT 2'''\n",
    "cheat(limit_chall_c) "
   ]
  },
  {
   "cell_type": "markdown",
   "metadata": {},
   "source": [
    "### Challenge:\n",
    "Write a query to view the **`book`** and **`revenue`** columns from the **`sales_table`**  and sort by **`book`**  title first, then by **`revenue`** (ascending). Limit your results to 15 rows. "
   ]
  },
  {
   "cell_type": "code",
   "execution_count": 72,
   "metadata": {
    "collapsed": true
   },
   "outputs": [],
   "source": [
    "limit_chall2 = widgets.Textarea(value=\n",
    "'',\n",
    "width = '50em', height = '12em')\n",
    "display(limit_chall2) "
   ]
  },
  {
   "cell_type": "code",
   "execution_count": 73,
   "metadata": {
    "collapsed": false,
    "scrolled": true
   },
   "outputs": [],
   "source": [
    "limit_chall2_b = widgets.Button(description='Run', width='10em', height='2.5em', color='white',background_color='black', border_color='black')\n",
    "display(limit_chall2_b)\n",
    "run_q(limit_chall2, limit_chall2_b)"
   ]
  },
  {
   "cell_type": "code",
   "execution_count": 74,
   "metadata": {
    "collapsed": false
   },
   "outputs": [],
   "source": [
    "limit_chall2_c ='''SELECT \n",
    "    book,\n",
    "    revenue\n",
    "FROM\n",
    "    sales_table\n",
    "ORDER BY\n",
    "    book, revenue\n",
    "LIMIT 15'''\n",
    "cheat(limit_chall2_c) "
   ]
  },
  {
   "cell_type": "markdown",
   "metadata": {},
   "source": [
    "_________\n",
    "_________\n",
    "__________\n",
    "<a id='join_tables'></a>\n",
    "<center>\n",
    "[Previous](#limit) &nbsp;&nbsp;&nbsp;&nbsp;&nbsp;  | &nbsp;&nbsp;&nbsp;&nbsp;&nbsp; [Table of Contents](#table_of_contents) &nbsp;&nbsp;&nbsp;&nbsp;&nbsp; |  &nbsp;&nbsp;&nbsp;&nbsp;&nbsp; [Next](#multi_join)\n",
    "</center>\n",
    "![joins](http://i.imgur.com/KZAsQ4e.png)\n",
    "\n",
    "> **`SELECT` <br>\n",
    "&nbsp;&nbsp;&nbsp;&nbsp;&nbsp; `table_x.column_a,`** &nbsp;&nbsp;&nbsp;&nbsp;&nbsp;&nbsp;&nbsp;&nbsp;&nbsp;&nbsp;&nbsp;&nbsp;&nbsp;&nbsp;&nbsp;&nbsp;&nbsp;&nbsp;&nbsp;&nbsp;&nbsp;&nbsp;&nbsp;&nbsp;&nbsp;&nbsp;&nbsp;&nbsp;&nbsp;&nbsp;  ➞ read this as \"column_a from table_x\"<br>\n",
    "**&nbsp;&nbsp;&nbsp;&nbsp;&nbsp; `table_y.column_b,`** &nbsp;&nbsp;&nbsp;&nbsp;&nbsp;&nbsp;&nbsp;&nbsp;&nbsp;&nbsp;&nbsp;&nbsp;&nbsp;&nbsp;&nbsp;&nbsp;&nbsp;&nbsp;&nbsp;&nbsp;&nbsp;&nbsp;&nbsp;&nbsp;&nbsp;&nbsp;&nbsp;&nbsp;&nbsp;&nbsp;  ➞ \"column_b from table_y\"<br>\n",
    "**`FROM`<br>\n",
    "&nbsp;&nbsp;&nbsp;&nbsp;&nbsp;`table_x`<br>\n",
    "&nbsp;&nbsp;&nbsp;&nbsp;&nbsp;`JOIN table_y`** <br>\n",
    "&nbsp;&nbsp;&nbsp;&nbsp;&nbsp; **`ON table_x.key_column_x = table_y.key_column_y`** <br> &nbsp;&nbsp;&nbsp;&nbsp;&nbsp;&nbsp;&nbsp;&nbsp;&nbsp;&nbsp;&nbsp;&nbsp;&nbsp;&nbsp;&nbsp;&nbsp;&nbsp;&nbsp;&nbsp;&nbsp;&nbsp;&nbsp;&nbsp;&nbsp;&nbsp;&nbsp;&nbsp;&nbsp;&nbsp;&nbsp;  ➞ table_x's key_column_x has corresponding values with table_y's key_column_y<br>\n",
    "`[WHERE clause]` <br>\n",
    "`[ORDER BY clause]`  <br>\n",
    "`[LIMIT clause]`  <br>\n",
    "\n",
    "The ability to [join](http://www.w3schools.com/sql/sql_join.asp) tables is the most fundamental and useful part about relational databases. Different tables have columns with corresponding values, and you can use these columns as \"keys\" to join the two tables.  \n",
    "\n",
    "The format `table_x.key_column` can be read as \"`key_column` from `table_x`\"; it tells SQL the tables where a column is located. We didn't need this before because we were only using one table at a time, so SQL knew exactly which table we were talking about. When we deal with more than one table, we need to be more specific.  So for example, **`book_table.book` means \"the `book` column from the `book_table`\"**, and `auth_table.last_name` means \"the `last_name` column from the `auth_table`.\" \n",
    "\n",
    "Think back to our original discussion of splitting up our author and book data onto two separate tables:\n",
    "![book and auth table](http://i.imgur.com/4cJ3G49.png)\n",
    "\n",
    "You could think of the columns in these tables in terms of a Venn Diagram.  Again, the format `table_x.key_column` is read as \"`key_column` from `table_x`\", so `book_table.author` means \"the `author` column from the `book_table`\": \n",
    "![venn1](http://i.imgur.com/CFTT1HM.png)\n",
    "\n",
    "**The `author` column from the `book_table` corresponds with the `last_name` column in the `auth_table`** - they both list the last names of the writers. Whenever you have two tables corresponding columns, you can \"join\" them by telling SQL to use these corresponding columns as keys. **`book_table.author` and `auth_table.last_name` are the key columns for our join**. "
   ]
  },
  {
   "cell_type": "code",
   "execution_count": 75,
   "metadata": {
    "collapsed": true
   },
   "outputs": [],
   "source": [
    "join_q = widgets.Textarea(value=\n",
    "'''SELECT\n",
    "    *\n",
    "FROM\n",
    "    book_table\n",
    "    JOIN auth_table\n",
    "        ON book_table.author = auth_table.last_name''',\n",
    "width = '50em', height = '11em')\n",
    "display(join_q) "
   ]
  },
  {
   "cell_type": "code",
   "execution_count": 76,
   "metadata": {
    "collapsed": false
   },
   "outputs": [
    {
     "data": {
      "text/html": [
       "<table border=\"1\" class=\"dataframe\">\n",
       "  <thead>\n",
       "    <tr style=\"text-align: right;\">\n",
       "      <th>book</th>\n",
       "      <th>cogs</th>\n",
       "      <th>author</th>\n",
       "      <th>last_name</th>\n",
       "      <th>first_name</th>\n",
       "      <th>country</th>\n",
       "      <th>birth_year</th>\n",
       "    </tr>\n",
       "  </thead>\n",
       "  <tbody>\n",
       "    <tr>\n",
       "      <td>For Whom the Bell Tolls</td>\n",
       "      <td>13.50</td>\n",
       "      <td>Hemingway</td>\n",
       "      <td>Hemingway</td>\n",
       "      <td>Ernest</td>\n",
       "      <td>USA</td>\n",
       "      <td>1899</td>\n",
       "    </tr>\n",
       "    <tr>\n",
       "      <td>A Farewell to Arms</td>\n",
       "      <td>10.35</td>\n",
       "      <td>Hemingway</td>\n",
       "      <td>Hemingway</td>\n",
       "      <td>Ernest</td>\n",
       "      <td>USA</td>\n",
       "      <td>1899</td>\n",
       "    </tr>\n",
       "    <tr>\n",
       "      <td>The Sun Also Rises</td>\n",
       "      <td>11.35</td>\n",
       "      <td>Hemingway</td>\n",
       "      <td>Hemingway</td>\n",
       "      <td>Ernest</td>\n",
       "      <td>USA</td>\n",
       "      <td>1899</td>\n",
       "    </tr>\n",
       "    <tr>\n",
       "      <td>Sense and Sensibility</td>\n",
       "      <td>11.00</td>\n",
       "      <td>Austen</td>\n",
       "      <td>Austen</td>\n",
       "      <td>Jane</td>\n",
       "      <td>England</td>\n",
       "      <td>1775</td>\n",
       "    </tr>\n",
       "    <tr>\n",
       "      <td>Emma</td>\n",
       "      <td>12.50</td>\n",
       "      <td>Austen</td>\n",
       "      <td>Austen</td>\n",
       "      <td>Jane</td>\n",
       "      <td>England</td>\n",
       "      <td>1775</td>\n",
       "    </tr>\n",
       "    <tr>\n",
       "      <td>Pride and Prejudice</td>\n",
       "      <td>13.00</td>\n",
       "      <td>Austen</td>\n",
       "      <td>Austen</td>\n",
       "      <td>Jane</td>\n",
       "      <td>England</td>\n",
       "      <td>1775</td>\n",
       "    </tr>\n",
       "    <tr>\n",
       "      <td>Romeo and Juliet</td>\n",
       "      <td>7.50</td>\n",
       "      <td>Shakespeare</td>\n",
       "      <td>Shakespeare</td>\n",
       "      <td>William</td>\n",
       "      <td>England</td>\n",
       "      <td>1564</td>\n",
       "    </tr>\n",
       "    <tr>\n",
       "      <td>Hamlet</td>\n",
       "      <td>6.95</td>\n",
       "      <td>Shakespeare</td>\n",
       "      <td>Shakespeare</td>\n",
       "      <td>William</td>\n",
       "      <td>England</td>\n",
       "      <td>1564</td>\n",
       "    </tr>\n",
       "    <tr>\n",
       "      <td>Macbeth</td>\n",
       "      <td>11.10</td>\n",
       "      <td>Shakespeare</td>\n",
       "      <td>Shakespeare</td>\n",
       "      <td>William</td>\n",
       "      <td>England</td>\n",
       "      <td>1564</td>\n",
       "    </tr>\n",
       "    <tr>\n",
       "      <td>The Sound and the Fury</td>\n",
       "      <td>8.50</td>\n",
       "      <td>Faulkner</td>\n",
       "      <td>Faulkner</td>\n",
       "      <td>William</td>\n",
       "      <td>USA</td>\n",
       "      <td>1897</td>\n",
       "    </tr>\n",
       "    <tr>\n",
       "      <td>Absalom! Absalom!</td>\n",
       "      <td>5.15</td>\n",
       "      <td>Faulkner</td>\n",
       "      <td>Faulkner</td>\n",
       "      <td>William</td>\n",
       "      <td>USA</td>\n",
       "      <td>1897</td>\n",
       "    </tr>\n",
       "  </tbody>\n",
       "</table>"
      ],
      "text/plain": [
       "<IPython.core.display.HTML object>"
      ]
     },
     "metadata": {},
     "output_type": "display_data"
    }
   ],
   "source": [
    "join_b = widgets.Button(description='Run', width='10em', height='2.5em', color='white',background_color='black', border_color='black')\n",
    "display(join_b)\n",
    "run_q(join_q, join_b)"
   ]
  },
  {
   "cell_type": "markdown",
   "metadata": {},
   "source": [
    "What just happened? SQL went through these steps:\n",
    "\n",
    "- First, SQL pulled up the two tables that we named in the `FROM` clause: **`FROM book_table JOIN auth_table`**.\n",
    "- Then it identified the \"key\" columns that we named with `ON`: **`ON book_table.author = auth_table.last_name`**. \n",
    "- Next, it matched up the values on the key columns:\n",
    "![join step 1](http://i.imgur.com/QqylpJO.gif)\n",
    "\n",
    "- Whenever it found a match, it made a kind of copy of the row from the **`auth_table`** and pasted it to the **`book_table`**\n",
    "- Finally, it literally \"joined\" the two tables by returning their columns in a single table\n",
    "![step 3](http://i.imgur.com/oFGlj5S.gif)\n",
    "\n",
    "### Quick Exercises:\n",
    "The **`JOIN`** query we've been discussing has been reproduced in the box below for these exercises.  \n",
    "1. Change the query so you only see the **`book`**, **`first_name`** and the author's last name (you can do this with either **`author`** or **`last_name`**), and the **`birth_year`**, then rerun. \n",
    "2. Add a **`WHERE`** clause so that you only see books by Hemingway and Austen, rerun.\n",
    "3. Add an **`ORDER BY`** clause so that the author born first appears first, and so that their books appear in alphabetical order. Rerun.\n"
   ]
  },
  {
   "cell_type": "code",
   "execution_count": 77,
   "metadata": {
    "collapsed": true
   },
   "outputs": [],
   "source": [
    "join_q2 = widgets.Textarea(value=\n",
    "'''SELECT\n",
    "    *\n",
    "FROM\n",
    "    book_table\n",
    "    JOIN auth_table\n",
    "        ON book_table.author = auth_table.last_name''',\n",
    "width = '50em', height = '18em')\n",
    "display(join_q2) "
   ]
  },
  {
   "cell_type": "code",
   "execution_count": 78,
   "metadata": {
    "collapsed": false
   },
   "outputs": [
    {
     "data": {
      "text/html": [
       "<table border=\"1\" class=\"dataframe\">\n",
       "  <thead>\n",
       "    <tr style=\"text-align: right;\">\n",
       "      <th>book</th>\n",
       "      <th>cogs</th>\n",
       "      <th>author</th>\n",
       "      <th>last_name</th>\n",
       "      <th>first_name</th>\n",
       "      <th>country</th>\n",
       "      <th>birth_year</th>\n",
       "    </tr>\n",
       "  </thead>\n",
       "  <tbody>\n",
       "    <tr>\n",
       "      <td>For Whom the Bell Tolls</td>\n",
       "      <td>13.50</td>\n",
       "      <td>Hemingway</td>\n",
       "      <td>Hemingway</td>\n",
       "      <td>Ernest</td>\n",
       "      <td>USA</td>\n",
       "      <td>1899</td>\n",
       "    </tr>\n",
       "    <tr>\n",
       "      <td>A Farewell to Arms</td>\n",
       "      <td>10.35</td>\n",
       "      <td>Hemingway</td>\n",
       "      <td>Hemingway</td>\n",
       "      <td>Ernest</td>\n",
       "      <td>USA</td>\n",
       "      <td>1899</td>\n",
       "    </tr>\n",
       "    <tr>\n",
       "      <td>The Sun Also Rises</td>\n",
       "      <td>11.35</td>\n",
       "      <td>Hemingway</td>\n",
       "      <td>Hemingway</td>\n",
       "      <td>Ernest</td>\n",
       "      <td>USA</td>\n",
       "      <td>1899</td>\n",
       "    </tr>\n",
       "    <tr>\n",
       "      <td>Sense and Sensibility</td>\n",
       "      <td>11.00</td>\n",
       "      <td>Austen</td>\n",
       "      <td>Austen</td>\n",
       "      <td>Jane</td>\n",
       "      <td>England</td>\n",
       "      <td>1775</td>\n",
       "    </tr>\n",
       "    <tr>\n",
       "      <td>Emma</td>\n",
       "      <td>12.50</td>\n",
       "      <td>Austen</td>\n",
       "      <td>Austen</td>\n",
       "      <td>Jane</td>\n",
       "      <td>England</td>\n",
       "      <td>1775</td>\n",
       "    </tr>\n",
       "    <tr>\n",
       "      <td>Pride and Prejudice</td>\n",
       "      <td>13.00</td>\n",
       "      <td>Austen</td>\n",
       "      <td>Austen</td>\n",
       "      <td>Jane</td>\n",
       "      <td>England</td>\n",
       "      <td>1775</td>\n",
       "    </tr>\n",
       "    <tr>\n",
       "      <td>Romeo and Juliet</td>\n",
       "      <td>7.50</td>\n",
       "      <td>Shakespeare</td>\n",
       "      <td>Shakespeare</td>\n",
       "      <td>William</td>\n",
       "      <td>England</td>\n",
       "      <td>1564</td>\n",
       "    </tr>\n",
       "    <tr>\n",
       "      <td>Hamlet</td>\n",
       "      <td>6.95</td>\n",
       "      <td>Shakespeare</td>\n",
       "      <td>Shakespeare</td>\n",
       "      <td>William</td>\n",
       "      <td>England</td>\n",
       "      <td>1564</td>\n",
       "    </tr>\n",
       "    <tr>\n",
       "      <td>Macbeth</td>\n",
       "      <td>11.10</td>\n",
       "      <td>Shakespeare</td>\n",
       "      <td>Shakespeare</td>\n",
       "      <td>William</td>\n",
       "      <td>England</td>\n",
       "      <td>1564</td>\n",
       "    </tr>\n",
       "    <tr>\n",
       "      <td>The Sound and the Fury</td>\n",
       "      <td>8.50</td>\n",
       "      <td>Faulkner</td>\n",
       "      <td>Faulkner</td>\n",
       "      <td>William</td>\n",
       "      <td>USA</td>\n",
       "      <td>1897</td>\n",
       "    </tr>\n",
       "    <tr>\n",
       "      <td>Absalom! Absalom!</td>\n",
       "      <td>5.15</td>\n",
       "      <td>Faulkner</td>\n",
       "      <td>Faulkner</td>\n",
       "      <td>William</td>\n",
       "      <td>USA</td>\n",
       "      <td>1897</td>\n",
       "    </tr>\n",
       "  </tbody>\n",
       "</table>"
      ],
      "text/plain": [
       "<IPython.core.display.HTML object>"
      ]
     },
     "metadata": {},
     "output_type": "display_data"
    }
   ],
   "source": [
    "join_b2 = widgets.Button(description='Run', width='10em', height='2.5em', color='white',background_color='black', border_color='black')\n",
    "display(join_b2)\n",
    "run_q(join_q2, join_b2)"
   ]
  },
  {
   "cell_type": "markdown",
   "metadata": {},
   "source": [
    "### Challenge:\n",
    "Our \"database\" has another Venn Diagram relationship: the **`book_table`** is related to the **`sales_table`**. Write a query to join these tables and view all their columns but limit your results to 20 rows. Use the Venn Diagram below as a guide:\n",
    "![sales venn](http://i.imgur.com/UzOmzdj.png)"
   ]
  },
  {
   "cell_type": "code",
   "execution_count": 79,
   "metadata": {
    "collapsed": true
   },
   "outputs": [],
   "source": [
    "join_chall = widgets.Textarea(value=\n",
    "'',\n",
    "width = '50em', height = '15em')\n",
    "display(join_chall) "
   ]
  },
  {
   "cell_type": "code",
   "execution_count": 80,
   "metadata": {
    "collapsed": false
   },
   "outputs": [],
   "source": [
    "join_chall_b = widgets.Button(description='Run', width='10em', height='2.5em', color='white',background_color='black', border_color='black')\n",
    "display(join_chall_b)\n",
    "run_q(join_chall, join_chall_b)"
   ]
  },
  {
   "cell_type": "code",
   "execution_count": 81,
   "metadata": {
    "collapsed": false
   },
   "outputs": [],
   "source": [
    "join_chall_c ='''SELECT\n",
    "    *\n",
    "FROM\n",
    "    book_table\n",
    "    JOIN sales_table\n",
    "        ON book_table.book = sales_table.book\n",
    "LIMIT 20'''\n",
    "cheat(join_chall_c) "
   ]
  },
  {
   "cell_type": "markdown",
   "metadata": {},
   "source": [
    "### Challenge Continued:\n",
    "Start by copying the query that you wrote in the previous challenge and pasting it in the box below. \n",
    "1. Change the line **`book_table.book = sales_table.book`** to **`book = book`** and rerun. What's going wrong? Fix it and rerun. \n",
    "2. Change the query so that you only see the book title listed once. If you get stuck, remember that **`table_x.column_a`** means \"column_a from table_x\"."
   ]
  },
  {
   "cell_type": "code",
   "execution_count": 82,
   "metadata": {
    "collapsed": true
   },
   "outputs": [],
   "source": [
    "join_chall2 = widgets.Textarea(value=\n",
    "'',\n",
    "width = '50em', height = '17em')\n",
    "display(join_chall2) "
   ]
  },
  {
   "cell_type": "code",
   "execution_count": 83,
   "metadata": {
    "collapsed": false
   },
   "outputs": [],
   "source": [
    "join_chall2_b = widgets.Button(description='Run', width='10em', height='2.5em', color='white',background_color='black', border_color='black')\n",
    "display(join_chall2_b)\n",
    "run_q(join_chall2, join_chall2_b)"
   ]
  },
  {
   "cell_type": "code",
   "execution_count": 84,
   "metadata": {
    "collapsed": false
   },
   "outputs": [],
   "source": [
    "join_chall_c2 ='''SELECT\n",
    "    book_table.book,           [NOTE: or you could use \"sales_table.book\" instead]\n",
    "    cogs, \n",
    "    author,\n",
    "    id,\n",
    "    revenue\n",
    "FROM\n",
    "    book_table\n",
    "    JOIN sales_table\n",
    "        ON book_table.book = sales_table.book\n",
    "LIMIT 20'''\n",
    "cheat(join_chall_c2) "
   ]
  },
  {
   "cell_type": "markdown",
   "metadata": {},
   "source": [
    "_________\n",
    "__________\n",
    "____________\n",
    "<a id='multi_join'></a>\n",
    "<center>\n",
    "[Previous](#join_tables) &nbsp;&nbsp;&nbsp;&nbsp;&nbsp;  | &nbsp;&nbsp;&nbsp;&nbsp;&nbsp; [Table of Contents](#table_of_contents) &nbsp;&nbsp;&nbsp;&nbsp;&nbsp; |  &nbsp;&nbsp;&nbsp;&nbsp;&nbsp; [Next](#join_types)\n",
    "</center>\n",
    "![joins](http://i.imgur.com/TZEh4xy.png)\n",
    "\n",
    "> **`SELECT` <br>\n",
    "&nbsp;&nbsp;&nbsp;&nbsp;&nbsp; `table_x.column_a,` <br>\n",
    "&nbsp;&nbsp;&nbsp;&nbsp;&nbsp;`table_y.column_b` <br>\n",
    "&nbsp;&nbsp;&nbsp;&nbsp;&nbsp;`table_z.column_c`<br>\n",
    "`FROM`<br>\n",
    "&nbsp;&nbsp;&nbsp;&nbsp;&nbsp; `table_x`<br>\n",
    "&nbsp;&nbsp;&nbsp;&nbsp;&nbsp; `JOIN table_y ON table_x.key_column = table_y.key_column`<br>\n",
    "&nbsp;&nbsp;&nbsp;&nbsp;&nbsp; `JOIN table_z ON table_x.other_key_column = table_z.other_key_column`<br>**\n",
    "`[WHERE clause]` <br>\n",
    "`[ORDER BY clause]`  <br>\n",
    "`[LIMIT clause]`  <br>\n",
    "\n",
    "As long as they are directly related or related by the transitive property, you can join multiple tables. Consider the `sales_table` and the `auth_table` in a Venn Diagram - there's no relation at all:\n",
    "\n",
    "![sales and auth venn](http://i.imgur.com/2dIPymH.png)\n",
    "\n",
    "However, when the `book_table` enters the picture, suddenly the `sales_table` and `auth_table` have a connection:\n",
    "\n",
    "![multiple venn](http://i.imgur.com/oZw01EO.png)\n",
    "\n",
    "Now we have an opportunity to join all three!\n",
    "\n",
    "### Challenge:\n",
    "Write a query to show the first and last name of the author, the book title, the COGs, and the revenue from each transaction. \n",
    "\n",
    "** Extra credit once you've completed the challenge**: Only return rows where the book was written by an English author. Sort your results so that the transaction with the most revenue appears first. "
   ]
  },
  {
   "cell_type": "code",
   "execution_count": 85,
   "metadata": {
    "collapsed": true
   },
   "outputs": [],
   "source": [
    "multi_join_chall = widgets.Textarea(value=\n",
    "'',\n",
    "width = '50em', height = '25em')\n",
    "display(multi_join_chall) "
   ]
  },
  {
   "cell_type": "code",
   "execution_count": 86,
   "metadata": {
    "collapsed": false
   },
   "outputs": [],
   "source": [
    "multi_join_chall_b = widgets.Button(description='Run', width='10em', height='2.5em', color='white',background_color='black', border_color='black')\n",
    "display(multi_join_chall_b)\n",
    "run_q(multi_join_chall, multi_join_chall_b)"
   ]
  },
  {
   "cell_type": "code",
   "execution_count": 87,
   "metadata": {
    "collapsed": false
   },
   "outputs": [],
   "source": [
    "multi_join_chall_c ='''SELECT\n",
    "    first_name, \n",
    "    last_name,\n",
    "    book_table.book,\n",
    "    cogs,\n",
    "    revenue\n",
    "FROM\n",
    "    book_table\n",
    "    JOIN auth_table \n",
    "        ON book_table.author = auth_table.last_name\n",
    "    JOIN\n",
    "        sales_table\n",
    "        ON book_table.book = sales_table.book'''\n",
    "cheat(multi_join_chall_c) "
   ]
  },
  {
   "cell_type": "markdown",
   "metadata": {},
   "source": [
    "Answer to the extra credit:"
   ]
  },
  {
   "cell_type": "code",
   "execution_count": 88,
   "metadata": {
    "collapsed": true
   },
   "outputs": [],
   "source": [
    "multi_join_chall_c2 ='''SELECT\n",
    "    first_name, \n",
    "    last_name,\n",
    "    book_table.book,\n",
    "    cogs,\n",
    "    revenue\n",
    "FROM\n",
    "    book_table\n",
    "    JOIN auth_table \n",
    "        ON book_table.author = auth_table.last_name\n",
    "    JOIN\n",
    "        sales_table\n",
    "        ON book_table.book = sales_table.book\n",
    "WHERE\n",
    "    country = 'England'\n",
    "ORDER BY\n",
    "    revenue DESC'''\n",
    "cheat(multi_join_chall_c2) "
   ]
  },
  {
   "cell_type": "markdown",
   "metadata": {},
   "source": [
    "<img align=\"left\" src=\"http://i.imgur.com/p6d18FV.png\"> <br>\n",
    "**Use multiple joins sparingly:** Multiple joins can put a lot of strain on servers because SQL has to do a lot of work matching up all that data. The more tangential the relationship, the worse it gets. Avoid more than 2 degrees of separatation, and avoid joining 2 or more large tables. It's ok if one of your tables is big, but the others should be small.  "
   ]
  },
  {
   "cell_type": "markdown",
   "metadata": {},
   "source": [
    "<a id='join_types'></a>\n",
    "<center>\n",
    "[Previous](#multi_join) &nbsp;&nbsp;&nbsp;&nbsp;&nbsp;  | &nbsp;&nbsp;&nbsp;&nbsp;&nbsp; [Table of Contents](#table_of_contents) &nbsp;&nbsp;&nbsp;&nbsp;&nbsp; |  &nbsp;&nbsp;&nbsp;&nbsp;&nbsp; [Next](#inner_joins)\n",
    "</center>\n",
    "![join methods](http://i.imgur.com/ccs8cN6.png)\n",
    "\n",
    "There are more ways to join two tables than the method we just covered. However, not all RDBMS support these different join methods. We'll learn about each of these methods, even if we can only practice 2 of them in SQLite. \n",
    "\n",
    "<font color='#1f5fd6'> Join Type |<font color='#1f5fd6'>Microsoft SQL Server | <font color='#1f5fd6'>MySQL | <font color='#1f5fd6'>Oracle | <font color='#1f5fd6'>SQLite </font>\n",
    ":----: | :------------------: | :---: | :----: | :----:\n",
    "`JOIN` or `INNER JOIN` | ✓ | ✓ | ✓ | ✓\n",
    "`LEFT JOIN` or `LEFT OUTER JOIN` | ✓ | ✓ | ✓ | ✓\n",
    "`RIGHT JOIN` or `RIGHT OUTER JOIN` | ✓ | ✓ | ✓ | not supported\n",
    "`OUTER JOIN` or `FULL OUTER JOIN` | ✓ | not supported | ✓ | not supported\n",
    "\n",
    "We're going to leave behind the book database for the next lesson, since a different data set will help illustrate the point a little better. \n",
    "\n",
    "Until now, the tables that we've joined have had columns that correspond perfectly - that is to say, every value that appears in one table also appears in the other. There aren't any authors that appear in the auth_table that don't also appear at least once in the book_table, and vice versa.\n",
    "\n",
    "\n",
    "Sometimes, you'll have two tables with corresponding columns, but they don't match perfectly.\n",
    "Consider the two tables below. The first lists tech companies and their CEOs, the second lists  publicly traded companies and their share price. \n",
    "\n",
    "![tech_cos public_cos](http://i.imgur.com/s2Ju6xc.png)\n",
    "\n",
    "Amazon, Alphabet, and Microsoft all appear on both tables. But Uber, SpaceX and AirBnB - which haven't IPO'd - aren't on the `public_cos` table. Conversely, Walmart, GE and P&G only appear on the `public_cos` table.\n",
    "\n",
    "Even though it's not a perfect match, there is some overlap. So, we can still use the `company` columns from each table as keys to join the tables:\n",
    "![tech and public cos venn](http://i.imgur.com/tc7HtRu.png)"
   ]
  },
  {
   "cell_type": "markdown",
   "metadata": {},
   "source": [
    "___________\n",
    "<a id='inner_joins'></a>\n",
    "<center>\n",
    "[Previous](#join_types) &nbsp;&nbsp;&nbsp;&nbsp;&nbsp;  | &nbsp;&nbsp;&nbsp;&nbsp;&nbsp; [Table of Contents](#table_of_contents) &nbsp;&nbsp;&nbsp;&nbsp;&nbsp; |  &nbsp;&nbsp;&nbsp;&nbsp;&nbsp; [Next](#left_joins)\n",
    "</center>\n",
    "![inner joins](http://i.imgur.com/1oL9mIg.png)\n",
    "> **`SELECT` <br>\n",
    "&nbsp;&nbsp;&nbsp;&nbsp;&nbsp; `table_x.column_a,`** &nbsp;&nbsp;&nbsp;&nbsp;&nbsp;&nbsp;&nbsp;&nbsp;&nbsp;&nbsp;&nbsp;&nbsp;&nbsp;&nbsp;&nbsp;&nbsp;&nbsp;&nbsp;&nbsp;&nbsp;&nbsp;&nbsp;&nbsp;&nbsp;&nbsp;&nbsp;&nbsp;&nbsp;&nbsp;&nbsp;  ➞ read this as \"column_a from table_x\"<br>\n",
    "**&nbsp;&nbsp;&nbsp;&nbsp;&nbsp; `table_y.column_b,`** &nbsp;&nbsp;&nbsp;&nbsp;&nbsp;&nbsp;&nbsp;&nbsp;&nbsp;&nbsp;&nbsp;&nbsp;&nbsp;&nbsp;&nbsp;&nbsp;&nbsp;&nbsp;&nbsp;&nbsp;&nbsp;&nbsp;&nbsp;&nbsp;&nbsp;&nbsp;&nbsp;&nbsp;&nbsp;&nbsp;  ➞ \"column_b from table_y\"<br>\n",
    "**`FROM`<br>\n",
    "&nbsp;&nbsp;&nbsp;&nbsp;&nbsp;`table_x`<br>\n",
    "&nbsp;&nbsp;&nbsp;&nbsp;&nbsp;`JOIN table_y`** &nbsp;&nbsp;&nbsp;&nbsp;&nbsp;&nbsp;&nbsp;&nbsp;&nbsp;&nbsp;&nbsp;&nbsp;&nbsp;&nbsp;&nbsp;&nbsp;&nbsp;&nbsp;&nbsp;&nbsp;&nbsp;&nbsp;&nbsp;&nbsp;&nbsp;&nbsp;&nbsp;&nbsp;&nbsp;&nbsp;&nbsp;&nbsp;&nbsp;&nbsp;&nbsp;&nbsp;&nbsp;&nbsp;&nbsp;&nbsp;&nbsp;&nbsp;  ➞ SQL interprets `JOIN` and `INNER JOIN` as the same thing <br>\n",
    "&nbsp;&nbsp;&nbsp;&nbsp;&nbsp;&nbsp;&nbsp;&nbsp;&nbsp;&nbsp; **`ON table_x.key_column = table_y.key_column`**\n",
    "\n",
    "So what would happen if we tried to join `public_cos` and `tech_cos` using the method we just learned with the book database? We'll give it a shot:"
   ]
  },
  {
   "cell_type": "code",
   "execution_count": 89,
   "metadata": {
    "collapsed": true
   },
   "outputs": [],
   "source": [
    "inner_join_q = widgets.Textarea(value=\n",
    "'''SELECT\n",
    "    *\n",
    "FROM\n",
    "    tech_cos\n",
    "    JOIN public_cos \n",
    "        ON tech_cos.company = public_cos.company''',\n",
    "width = '50em', height = '11em')\n",
    "display(inner_join_q) "
   ]
  },
  {
   "cell_type": "code",
   "execution_count": 90,
   "metadata": {
    "collapsed": false
   },
   "outputs": [
    {
     "data": {
      "text/html": [
       "<table border=\"1\" class=\"dataframe\">\n",
       "  <thead>\n",
       "    <tr style=\"text-align: right;\">\n",
       "      <th>CEO</th>\n",
       "      <th>Company</th>\n",
       "      <th>Company</th>\n",
       "      <th>Share_Price</th>\n",
       "    </tr>\n",
       "  </thead>\n",
       "  <tbody>\n",
       "    <tr>\n",
       "      <td>Jeff Bezos</td>\n",
       "      <td>Amazon</td>\n",
       "      <td>Amazon</td>\n",
       "      <td>690</td>\n",
       "    </tr>\n",
       "    <tr>\n",
       "      <td>Larry Page</td>\n",
       "      <td>Alphabet</td>\n",
       "      <td>Alphabet</td>\n",
       "      <td>570</td>\n",
       "    </tr>\n",
       "    <tr>\n",
       "      <td>Satya Nadellla</td>\n",
       "      <td>Microsoft</td>\n",
       "      <td>Microsoft</td>\n",
       "      <td>60</td>\n",
       "    </tr>\n",
       "  </tbody>\n",
       "</table>"
      ],
      "text/plain": [
       "<IPython.core.display.HTML object>"
      ]
     },
     "metadata": {},
     "output_type": "display_data"
    }
   ],
   "source": [
    "inner_join_b = widgets.Button(description='Run', width='10em', height='2.5em', color='white',background_color='black', border_color='black')\n",
    "display(inner_join_b)\n",
    "run_q(inner_join_q, inner_join_b)"
   ]
  },
  {
   "cell_type": "markdown",
   "metadata": {},
   "source": [
    "This time, SQL can't find a match for every value in the two different **`company`** columns:\n",
    "![inner join](http://i.imgur.com/XM4UVde.png)\n",
    "\n",
    "So it performs an **\"INNER JOIN\"**. You can write either **`JOIN`** or **`INNER JOIN`** - SQL will interpret them as the same thing. This eliminates any rows that don't have matching values, then combined the tables:\n",
    "![inner join result](http://i.imgur.com/m9Quo1R.gif)\n",
    "____________\n",
    "<a id='left_joins'></a>\n",
    "<center>\n",
    "[Previous](#inner_joins) &nbsp;&nbsp;&nbsp;&nbsp;&nbsp;  | &nbsp;&nbsp;&nbsp;&nbsp;&nbsp; [Table of Contents](#table_of_contents) &nbsp;&nbsp;&nbsp;&nbsp;&nbsp; |  &nbsp;&nbsp;&nbsp;&nbsp;&nbsp; [Next](#outer_joins)\n",
    "</center>\n",
    "![left join](http://i.imgur.com/iPa8emx.png)\n",
    "\n",
    "> **`SELECT` <br>\n",
    "&nbsp;&nbsp;&nbsp;&nbsp;&nbsp; `table_x.column_a,`<br>\n",
    "&nbsp;&nbsp;&nbsp;&nbsp;&nbsp; `table_y.column_b,`<br>\n",
    "`FROM`<br>\n",
    "&nbsp;&nbsp;&nbsp;&nbsp;&nbsp;`table_x`<br>\n",
    "&nbsp;&nbsp;&nbsp;&nbsp;&nbsp;`LEFT JOIN table_y`** &nbsp;&nbsp;&nbsp;&nbsp;&nbsp;&nbsp;&nbsp;&nbsp;&nbsp;&nbsp;&nbsp;&nbsp;&nbsp;&nbsp;&nbsp;  ➞ see all results from the first (\"left\") table & results *when available* from second table <br>\n",
    "&nbsp;&nbsp;&nbsp;&nbsp;&nbsp;&nbsp;&nbsp;&nbsp;&nbsp;&nbsp; **`ON table_x.key_column = table_y.key_column`**\n",
    "\n",
    "\n",
    "If you want to make sure you see all the rows from a particular table - even if there's no match in the other table - you can do a **`LEFT JOIN`** instead. It lets you prioritize the results from one table over another.  Let's say your priority is to see all tech companies in your result-set, but you also want to see the `share_price` when that data is available:"
   ]
  },
  {
   "cell_type": "code",
   "execution_count": 91,
   "metadata": {
    "collapsed": true
   },
   "outputs": [],
   "source": [
    "left_q = widgets.Textarea(value=\n",
    "'''SELECT \n",
    "    *\n",
    "FROM\n",
    "    tech_cos\n",
    "    LEFT JOIN public_cos\n",
    "        ON tech_cos.company = public_cos.company''',\n",
    "width = '50em', height = '11em')\n",
    "display(left_q) "
   ]
  },
  {
   "cell_type": "code",
   "execution_count": 92,
   "metadata": {
    "collapsed": false
   },
   "outputs": [
    {
     "data": {
      "text/html": [
       "<table border=\"1\" class=\"dataframe\">\n",
       "  <thead>\n",
       "    <tr style=\"text-align: right;\">\n",
       "      <th>CEO</th>\n",
       "      <th>Company</th>\n",
       "      <th>Company</th>\n",
       "      <th>Share_Price</th>\n",
       "    </tr>\n",
       "  </thead>\n",
       "  <tbody>\n",
       "    <tr>\n",
       "      <td>Jeff Bezos</td>\n",
       "      <td>Amazon</td>\n",
       "      <td>Amazon</td>\n",
       "      <td>690</td>\n",
       "    </tr>\n",
       "    <tr>\n",
       "      <td>Travis Kalanick</td>\n",
       "      <td>Uber</td>\n",
       "      <td></td>\n",
       "      <td></td>\n",
       "    </tr>\n",
       "    <tr>\n",
       "      <td>Larry Page</td>\n",
       "      <td>Alphabet</td>\n",
       "      <td>Alphabet</td>\n",
       "      <td>570</td>\n",
       "    </tr>\n",
       "    <tr>\n",
       "      <td>Brian Chesky</td>\n",
       "      <td>Airbnb</td>\n",
       "      <td></td>\n",
       "      <td></td>\n",
       "    </tr>\n",
       "    <tr>\n",
       "      <td>Elon Musk</td>\n",
       "      <td>SpaceX</td>\n",
       "      <td></td>\n",
       "      <td></td>\n",
       "    </tr>\n",
       "    <tr>\n",
       "      <td>Satya Nadellla</td>\n",
       "      <td>Microsoft</td>\n",
       "      <td>Microsoft</td>\n",
       "      <td>60</td>\n",
       "    </tr>\n",
       "  </tbody>\n",
       "</table>"
      ],
      "text/plain": [
       "<IPython.core.display.HTML object>"
      ]
     },
     "metadata": {},
     "output_type": "display_data"
    }
   ],
   "source": [
    "left_b = widgets.Button(description='Run', width='10em', height='2.5em', color='white',background_color='black', border_color='black')\n",
    "display(left_b)\n",
    "run_q(left_q, left_b)"
   ]
  },
  {
   "cell_type": "markdown",
   "metadata": {},
   "source": [
    "With a **`LEFT JOIN`**, SQL still starts by looking for matching values.\n",
    "![left j1](http://i.imgur.com/7mKzSz1.png)\n",
    "\n",
    "When it fails to find a match, it will still keep the values on the \"left\" table, but get rid of the unmatched values on the \"right\" table. \n",
    "![left join](http://i.imgur.com/ThJ6hoo.gif)\n",
    "\n",
    "\n",
    "### Quick Exercise:\n",
    "The query from above has been reproduced below for these exercises.\n",
    "1. Figure out how to change the query above so that you only see the company column appear once. \n",
    "2. Rewrite the query so that **`public_cos`** becomes the priority table instead.\n",
    "\n"
   ]
  },
  {
   "cell_type": "code",
   "execution_count": 93,
   "metadata": {
    "collapsed": true
   },
   "outputs": [],
   "source": [
    "left_q2 = widgets.Textarea(value=\n",
    "'''SELECT \n",
    "    *\n",
    "FROM\n",
    "    tech_cos\n",
    "    LEFT JOIN public_cos\n",
    "        ON tech_cos.company = public_cos.company''',\n",
    "width = '50em', height = '11em')\n",
    "display(left_q2) "
   ]
  },
  {
   "cell_type": "code",
   "execution_count": 94,
   "metadata": {
    "collapsed": false
   },
   "outputs": [
    {
     "data": {
      "text/html": [
       "<table border=\"1\" class=\"dataframe\">\n",
       "  <thead>\n",
       "    <tr style=\"text-align: right;\">\n",
       "      <th>CEO</th>\n",
       "      <th>Company</th>\n",
       "      <th>Company</th>\n",
       "      <th>Share_Price</th>\n",
       "    </tr>\n",
       "  </thead>\n",
       "  <tbody>\n",
       "    <tr>\n",
       "      <td>Jeff Bezos</td>\n",
       "      <td>Amazon</td>\n",
       "      <td>Amazon</td>\n",
       "      <td>690</td>\n",
       "    </tr>\n",
       "    <tr>\n",
       "      <td>Travis Kalanick</td>\n",
       "      <td>Uber</td>\n",
       "      <td></td>\n",
       "      <td></td>\n",
       "    </tr>\n",
       "    <tr>\n",
       "      <td>Larry Page</td>\n",
       "      <td>Alphabet</td>\n",
       "      <td>Alphabet</td>\n",
       "      <td>570</td>\n",
       "    </tr>\n",
       "    <tr>\n",
       "      <td>Brian Chesky</td>\n",
       "      <td>Airbnb</td>\n",
       "      <td></td>\n",
       "      <td></td>\n",
       "    </tr>\n",
       "    <tr>\n",
       "      <td>Elon Musk</td>\n",
       "      <td>SpaceX</td>\n",
       "      <td></td>\n",
       "      <td></td>\n",
       "    </tr>\n",
       "    <tr>\n",
       "      <td>Satya Nadellla</td>\n",
       "      <td>Microsoft</td>\n",
       "      <td>Microsoft</td>\n",
       "      <td>60</td>\n",
       "    </tr>\n",
       "  </tbody>\n",
       "</table>"
      ],
      "text/plain": [
       "<IPython.core.display.HTML object>"
      ]
     },
     "metadata": {},
     "output_type": "display_data"
    }
   ],
   "source": [
    "left_b2 = widgets.Button(description='Run', width='10em', height='2.5em', color='white',background_color='black', border_color='black')\n",
    "display(left_b2)\n",
    "run_q(left_q2, left_b2)"
   ]
  },
  {
   "cell_type": "markdown",
   "metadata": {},
   "source": [
    "________\n",
    "\n",
    "![right join](http://i.imgur.com/FNtnCvz.png)\n",
    "> **`SELECT` <br>\n",
    "&nbsp;&nbsp;&nbsp;&nbsp;&nbsp; `table_x.column_a,`<br>\n",
    "&nbsp;&nbsp;&nbsp;&nbsp;&nbsp; `table_y.column_b,`<br>\n",
    "`FROM`<br>\n",
    "&nbsp;&nbsp;&nbsp;&nbsp;&nbsp;`table_x`<br>\n",
    "&nbsp;&nbsp;&nbsp;&nbsp;&nbsp;`RIGHT JOIN table_y`** &nbsp;&nbsp;&nbsp;&nbsp;&nbsp;&nbsp;&nbsp;&nbsp;&nbsp;&nbsp;&nbsp;&nbsp;&nbsp;&nbsp;&nbsp;  ➞ see all results from the second (\"right\") table, results where available from first table <br>\n",
    "&nbsp;&nbsp;&nbsp;&nbsp;&nbsp;&nbsp;&nbsp;&nbsp;&nbsp;&nbsp; **`ON table_x.key_column = table_y.key_column`**\n",
    "\n",
    "It's exactly the same as `LEFT JOIN`, except it prioritizes the second table (the \"right\" table) over the first (\"left\") table. We can't practice it because SQLite doesn't support it, and it's super redundant anyway because we can just use `LEFT JOIN`. Boom. We're done with `RIGHT JOIN`. \n",
    "\n",
    "_____\n",
    "<a id='outer_joins'></a>\n",
    "<center>\n",
    "[Previous](#left_joins) &nbsp;&nbsp;&nbsp;&nbsp;&nbsp;  | &nbsp;&nbsp;&nbsp;&nbsp;&nbsp; [Table of Contents](#table_of_contents) &nbsp;&nbsp;&nbsp;&nbsp;&nbsp; |  &nbsp;&nbsp;&nbsp;&nbsp;&nbsp; [Next](#join_drills)\n",
    "</center>\n",
    "![outer join](http://i.imgur.com/HtnGGnI.png)\n",
    "\n",
    "> **`SELECT` <br>\n",
    "&nbsp;&nbsp;&nbsp;&nbsp;&nbsp; `table_x.column_a,`<br>\n",
    "&nbsp;&nbsp;&nbsp;&nbsp;&nbsp; `table_y.column_b,`<br>\n",
    "`FROM`<br>\n",
    "&nbsp;&nbsp;&nbsp;&nbsp;&nbsp;`table_x`<br>\n",
    "&nbsp;&nbsp;&nbsp;&nbsp;&nbsp;`OUTER JOIN table_y`** &nbsp;&nbsp;&nbsp;&nbsp;&nbsp;&nbsp;&nbsp;&nbsp;&nbsp;&nbsp;&nbsp;&nbsp;&nbsp;&nbsp;&nbsp;  ➞ see all results from BOTH the first and second table <br>\n",
    "&nbsp;&nbsp;&nbsp;&nbsp;&nbsp;&nbsp;&nbsp;&nbsp;&nbsp;&nbsp; **`ON table_x.key_column = table_y.key_column`**\n",
    "\n",
    "What if you want to **see all values from both tables**? You can do this with an **`OUTER JOIN`**.  Unfortunately, MySQL and SQLite (what we're using right now!) doesn't support it, so we can't practice it. \n",
    "\n",
    "If you are using Oracle or Microsoft SQL, then you'd use the example code above.  For MySQL and SQLite, there is a workaround. You don't need to understand what's going on in the code for now, just look at the output to make sure you understand what the **`OUTER JOIN`** output *should* look like."
   ]
  },
  {
   "cell_type": "code",
   "execution_count": 95,
   "metadata": {
    "collapsed": true
   },
   "outputs": [],
   "source": [
    "full_join_q = widgets.Textarea(value=\n",
    "'''SELECT\n",
    "    ceo,\n",
    "    tech_cos.company,\n",
    "    public_cos.company,\n",
    "    share_price\n",
    "FROM\n",
    "    tech_cos\n",
    "    LEFT JOIN public_cos ON tech_cos.company = public_cos.company\n",
    "UNION ALL\n",
    "SELECT\n",
    "    ' ',\n",
    "    ' ',\n",
    "    public_cos.company,\n",
    "    share_price\n",
    "FROM\n",
    "    public_cos\n",
    "WHERE \n",
    "    public_cos.company NOT IN (SELECT company FROM tech_cos)''',\n",
    "width = '50em', height = '26em')\n",
    "display(full_join_q) "
   ]
  },
  {
   "cell_type": "code",
   "execution_count": 96,
   "metadata": {
    "collapsed": false
   },
   "outputs": [
    {
     "data": {
      "text/html": [
       "<table border=\"1\" class=\"dataframe\">\n",
       "  <thead>\n",
       "    <tr style=\"text-align: right;\">\n",
       "      <th>CEO</th>\n",
       "      <th>Company</th>\n",
       "      <th>Company</th>\n",
       "      <th>Share_Price</th>\n",
       "    </tr>\n",
       "  </thead>\n",
       "  <tbody>\n",
       "    <tr>\n",
       "      <td>Jeff Bezos</td>\n",
       "      <td>Amazon</td>\n",
       "      <td>Amazon</td>\n",
       "      <td>690</td>\n",
       "    </tr>\n",
       "    <tr>\n",
       "      <td>Travis Kalanick</td>\n",
       "      <td>Uber</td>\n",
       "      <td></td>\n",
       "      <td></td>\n",
       "    </tr>\n",
       "    <tr>\n",
       "      <td>Larry Page</td>\n",
       "      <td>Alphabet</td>\n",
       "      <td>Alphabet</td>\n",
       "      <td>570</td>\n",
       "    </tr>\n",
       "    <tr>\n",
       "      <td>Brian Chesky</td>\n",
       "      <td>Airbnb</td>\n",
       "      <td></td>\n",
       "      <td></td>\n",
       "    </tr>\n",
       "    <tr>\n",
       "      <td>Elon Musk</td>\n",
       "      <td>SpaceX</td>\n",
       "      <td></td>\n",
       "      <td></td>\n",
       "    </tr>\n",
       "    <tr>\n",
       "      <td>Satya Nadellla</td>\n",
       "      <td>Microsoft</td>\n",
       "      <td>Microsoft</td>\n",
       "      <td>60</td>\n",
       "    </tr>\n",
       "    <tr>\n",
       "      <td></td>\n",
       "      <td></td>\n",
       "      <td>Walmart</td>\n",
       "      <td>60</td>\n",
       "    </tr>\n",
       "    <tr>\n",
       "      <td></td>\n",
       "      <td></td>\n",
       "      <td>GE</td>\n",
       "      <td>30</td>\n",
       "    </tr>\n",
       "    <tr>\n",
       "      <td></td>\n",
       "      <td></td>\n",
       "      <td>Procter &amp; Gamble</td>\n",
       "      <td>75</td>\n",
       "    </tr>\n",
       "  </tbody>\n",
       "</table>"
      ],
      "text/plain": [
       "<IPython.core.display.HTML object>"
      ]
     },
     "metadata": {},
     "output_type": "display_data"
    }
   ],
   "source": [
    "full_join_b = widgets.Button(description='Run', width='10em', height='2.5em', color='white',background_color='black', border_color='black')\n",
    "display(full_join_b)\n",
    "run_q(full_join_q, full_join_b)"
   ]
  },
  {
   "cell_type": "markdown",
   "metadata": {},
   "source": [
    "The **`OUTER JOIN`** starts out the same as the **`INNER JOIN`** and **`LEFT JOIN`**, trying to find matches wherever it can:\n",
    "![outer join](http://i.imgur.com/bFCxkvs.png)\n",
    "\n",
    "But when it can't find a match, instead of eliminating any the rows, it makes room for them:\n",
    "![outer join step 2](http://i.imgur.com/jruYbZ0.gif)"
   ]
  },
  {
   "cell_type": "markdown",
   "metadata": {},
   "source": [
    "__________\n",
    "___________\n",
    "___________\n",
    "<a id='join_drills'></a><center>\n",
    "[Previous](#outer_joins) &nbsp;&nbsp;&nbsp;&nbsp;&nbsp;  | &nbsp;&nbsp;&nbsp;&nbsp;&nbsp; [Table of Contents](#table_of_contents) &nbsp;&nbsp;&nbsp;&nbsp;&nbsp; |  &nbsp;&nbsp;&nbsp;&nbsp;&nbsp; [Next](#as)\n",
    "</center>\n",
    "![join drills](http://i.imgur.com/uRJwdVh.png)"
   ]
  },
  {
   "cell_type": "code",
   "execution_count": 97,
   "metadata": {
    "collapsed": false
   },
   "outputs": [],
   "source": [
    "insert_b = widgets.Button(description='Click here JUST ONCE before starting', width='20em', height='3em', color='white',background_color='#1f5fd6', border_color='#1f5fd6')\n",
    "display(insert_b)\n",
    "def insert_button(b):\n",
    "    insert_q1 = '''INSERT INTO auth_table VALUES ('Tolstoy', 'Leo', 'Russia', 1828)'''\n",
    "    insert_q2 = '''INSERT INTO auth_table VALUES ('Twain', 'Mark', 'USA', 1835)'''\n",
    "    insert_q3 = '''INSERT INTO book_table VALUES ('Jude the Obscure', '11.25', 'Hardy')'''\n",
    "    insert_q4 = '''INSERT INTO book_table VALUES ('The Age of Innocence', '14.20', 'Wharton')'''\n",
    "    query_list = [insert_q1, insert_q2, insert_q3, insert_q4]\n",
    "    for query in query_list:\n",
    "        run(query)\n",
    "    print('New rows have been added to auth_table and book_table!')\n",
    "insert_b.on_click(insert_button)"
   ]
  },
  {
   "cell_type": "markdown",
   "metadata": {},
   "source": [
    "**We've now added some rows to `auth_table` and `book_table`** so we can practice our new join skills!\n",
    "\n",
    "### Challenge\n",
    "Start simple by taking a look at the new rows we've added. Write a query to see all columns and rows from **`book_table`**, then change the query so you can take a look at **`auth_table`** instead:"
   ]
  },
  {
   "cell_type": "code",
   "execution_count": 98,
   "metadata": {
    "collapsed": true
   },
   "outputs": [],
   "source": [
    "join_drill1 = widgets.Textarea(value='',width = '50em', height = '7em')\n",
    "display(join_drill1) "
   ]
  },
  {
   "cell_type": "code",
   "execution_count": 99,
   "metadata": {
    "collapsed": false
   },
   "outputs": [],
   "source": [
    "join_drill1_b = widgets.Button(description='Run', width='10em', height='2.5em', color='white',background_color='black', border_color='black')\n",
    "display(join_drill1_b)\n",
    "run_q(join_drill1, join_drill1_b)"
   ]
  },
  {
   "cell_type": "code",
   "execution_count": 100,
   "metadata": {
    "collapsed": false
   },
   "outputs": [],
   "source": [
    "join_drill1_c ='''SELECT \n",
    "    *\n",
    "FROM\n",
    "    auth_table       [change to \"book_table\" for second part of challenge]'''\n",
    "cheat(join_drill1_c) "
   ]
  },
  {
   "cell_type": "markdown",
   "metadata": {},
   "source": [
    "Now auth_table has 2 authors listed (Tolstoy and Twain) that don't appear on the `book_table`, and the `book_table` has two books (<u>Jude the Obscure</u> and <u>The Age of Innocence</u>) whose authors don't appear in the `auth_table`. \n",
    "\n",
    "### Challenge:\n",
    "Write a query to view the book titles, first names, and last names of authors that appear on *both* the **`auth_table`** and the **`book_table`**. "
   ]
  },
  {
   "cell_type": "code",
   "execution_count": 101,
   "metadata": {
    "collapsed": true
   },
   "outputs": [],
   "source": [
    "join_drill2 = widgets.Textarea(value='', width = '50em', height = '12em')\n",
    "display(join_drill2) "
   ]
  },
  {
   "cell_type": "code",
   "execution_count": 102,
   "metadata": {
    "collapsed": false
   },
   "outputs": [],
   "source": [
    "join_drill2_b = widgets.Button(description='Run', width='10em', height='2.5em', color='white',background_color='black', border_color='black')\n",
    "display(join_drill2_b)\n",
    "run_q(join_drill2, join_drill2_b)"
   ]
  },
  {
   "cell_type": "code",
   "execution_count": 103,
   "metadata": {
    "collapsed": false
   },
   "outputs": [],
   "source": [
    "join_drill2_c ='''SELECT\n",
    "    book, \n",
    "    author,\n",
    "    first_name \n",
    "FROM\n",
    "    book_table\n",
    "    JOIN auth_table ON book_table.author = auth_table.last_name'''\n",
    "cheat(join_drill2_c) "
   ]
  },
  {
   "cell_type": "markdown",
   "metadata": {},
   "source": [
    "_______\n",
    "### Challenge:\n",
    "Write a query to see the titles of all the books from the **`book_table`**, and the author's **`country`** when that information is available. \n"
   ]
  },
  {
   "cell_type": "code",
   "execution_count": 104,
   "metadata": {
    "collapsed": true
   },
   "outputs": [],
   "source": [
    "join_drill3 = widgets.Textarea(value='', width = '50em', height = '13em')\n",
    "display(join_drill3) "
   ]
  },
  {
   "cell_type": "code",
   "execution_count": 105,
   "metadata": {
    "collapsed": false
   },
   "outputs": [],
   "source": [
    "join_drill3_b = widgets.Button(description='Run', width='10em', height='2.5em', color='white',background_color='black', border_color='black')\n",
    "display(join_drill3_b)\n",
    "run_q(join_drill3, join_drill3_b)"
   ]
  },
  {
   "cell_type": "code",
   "execution_count": 106,
   "metadata": {
    "collapsed": false
   },
   "outputs": [],
   "source": [
    "join_drill3_b ='''SELECT\n",
    "    book, \n",
    "    country\n",
    "FROM\n",
    "    book_table\n",
    "    LEFT JOIN auth_table\n",
    "        ON book_table.author = auth_table.last_name'''\n",
    "cheat(join_drill3_b) "
   ]
  },
  {
   "cell_type": "markdown",
   "metadata": {},
   "source": [
    "### Quick Exercise:\n",
    "1. Edit the query above so that you only see books by authors from England\n",
    "2. Edit it so that you only see books by authors NOT from England."
   ]
  },
  {
   "cell_type": "markdown",
   "metadata": {},
   "source": [
    "________\n",
    "### Challenge\n",
    "Write a query to see the first names of all authors in the **`auth_table`**, and the books they've written when that information is available."
   ]
  },
  {
   "cell_type": "code",
   "execution_count": 107,
   "metadata": {
    "collapsed": true
   },
   "outputs": [],
   "source": [
    "join_drill4 = widgets.Textarea(value='',width = '50em', height = '16em')\n",
    "display(join_drill4) "
   ]
  },
  {
   "cell_type": "code",
   "execution_count": 108,
   "metadata": {
    "collapsed": false
   },
   "outputs": [],
   "source": [
    "join_drill4_b = widgets.Button(description='Run', width='10em', height='2.5em', color='white',background_color='black', border_color='black')\n",
    "display(join_drill4_b)\n",
    "run_q(join_drill4, join_drill4_b)"
   ]
  },
  {
   "cell_type": "code",
   "execution_count": 109,
   "metadata": {
    "collapsed": false
   },
   "outputs": [],
   "source": [
    "join_drill4_c ='''SELECT \n",
    "    first_name,\n",
    "    book\n",
    "FROM\n",
    "    auth_table\n",
    "    LEFT JOIN book_table ON auth_table.last_name = book_table.author'''\n",
    "cheat(join_drill4_c) "
   ]
  },
  {
   "cell_type": "markdown",
   "metadata": {},
   "source": [
    "### Quick Exercise:\n",
    "1. Change the query so that you only see results when the writer's first name is William, rerun\n",
    "2. Change the query to sort the books in alphabethical order, rerun\n",
    "3. Limit the number of rows to 3, rerun"
   ]
  },
  {
   "cell_type": "code",
   "execution_count": 110,
   "metadata": {
    "collapsed": false
   },
   "outputs": [],
   "source": [
    "join_drill4_ex_c ='''SELECT \n",
    "    first_name,\n",
    "    book\n",
    "FROM\n",
    "    auth_table\n",
    "    LEFT JOIN book_table ON auth_table.last_name = book_table.author\n",
    "WHERE \n",
    "    first_name = 'William'\n",
    "ORDER BY\n",
    "    book\n",
    "LIMIT 3'''\n",
    "cheat(join_drill4_ex_c) "
   ]
  },
  {
   "cell_type": "markdown",
   "metadata": {},
   "source": [
    "______\n",
    "### Challenge: \n",
    "Write a query to return all books from the **`book_table`**, and their **`revenue`** data whenever that information is available. Try to figure out how you might sort your results so that you see books with no sales first. "
   ]
  },
  {
   "cell_type": "code",
   "execution_count": 111,
   "metadata": {
    "collapsed": true
   },
   "outputs": [],
   "source": [
    "join_drill4 = widgets.Textarea(value='',width = '50em', height = '12em')\n",
    "display(join_drill4) "
   ]
  },
  {
   "cell_type": "code",
   "execution_count": 112,
   "metadata": {
    "collapsed": false
   },
   "outputs": [],
   "source": [
    "join_drill4_b = widgets.Button(description='Run', width='10em', height='2.5em', color='white',background_color='black', border_color='black')\n",
    "display(join_drill4_b)\n",
    "run_q(join_drill4, join_drill4_b)"
   ]
  },
  {
   "cell_type": "code",
   "execution_count": 113,
   "metadata": {
    "collapsed": false
   },
   "outputs": [],
   "source": [
    "join_drill4_c ='''SELECT \n",
    "    book_table.book,\n",
    "    revenue\n",
    "FROM\n",
    "    book_table\n",
    "    LEFT JOIN sales_table ON book_table.book = sales_table.book\n",
    "ORDER BY\n",
    "    revenue'''\n",
    "cheat(join_drill4_c) "
   ]
  },
  {
   "cell_type": "markdown",
   "metadata": {},
   "source": [
    "__________\n",
    "___________\n",
    "___________\n",
    "<a id='as'></a>\n",
    "<center>\n",
    "[Previous](#join_drills) &nbsp;&nbsp;&nbsp;&nbsp;&nbsp;  | &nbsp;&nbsp;&nbsp;&nbsp;&nbsp; [Table of Contents](#table_of_contents) &nbsp;&nbsp;&nbsp;&nbsp;&nbsp; |  &nbsp;&nbsp;&nbsp;&nbsp;&nbsp; [Next](#operators)\n",
    "</center>\n",
    "![as](http://i.imgur.com/pCbQWzT.png)\n",
    "\n",
    "# Assigning aliases to columns\n",
    "\n",
    "> **`SELECT` <br>\n",
    "&nbsp;&nbsp;&nbsp;&nbsp;&nbsp; `column_a AS alias_a`** &nbsp;&nbsp;&nbsp;&nbsp;&nbsp;&nbsp;&nbsp;&nbsp;&nbsp;&nbsp;&nbsp;&nbsp;&nbsp;&nbsp;&nbsp; ➞ creates an alias for column_a <br>\n",
    "**`FROM`**<br>\n",
    "&nbsp;&nbsp;&nbsp;&nbsp;&nbsp;**`table_name`**<br>\n",
    "`WHERE`<br>\n",
    "&nbsp;&nbsp;&nbsp;&nbsp;&nbsp;`alias_a = x` &nbsp;&nbsp;&nbsp;&nbsp;&nbsp;&nbsp;&nbsp;&nbsp;&nbsp;&nbsp;&nbsp;&nbsp;&nbsp;&nbsp;&nbsp;&nbsp;&nbsp;&nbsp;&nbsp;&nbsp;&nbsp;&nbsp;&nbsp;&nbsp;&nbsp;&nbsp;&nbsp;&nbsp;&nbsp;&nbsp;&nbsp;&nbsp;&nbsp; ➞ optional; use the alias in the `WHERE` clause<br>\n",
    "`ORDER BY`<br>\n",
    "&nbsp;&nbsp;&nbsp;&nbsp;&nbsp;`alias_a` &nbsp;&nbsp;&nbsp;&nbsp;&nbsp;&nbsp;&nbsp;&nbsp;&nbsp;&nbsp;&nbsp;&nbsp;&nbsp;&nbsp;&nbsp;&nbsp;&nbsp;&nbsp;&nbsp;&nbsp;&nbsp;&nbsp;&nbsp;&nbsp;&nbsp;&nbsp;&nbsp;&nbsp;&nbsp;&nbsp;&nbsp;&nbsp;&nbsp;&nbsp;&nbsp;&nbsp;&nbsp;&nbsp;&nbsp;&nbsp;&nbsp;&nbsp; ➞ optional; use the alias in the `ORDER BY` clause<br>\n",
    "`[LIMIT clause]`  <br>\n",
    "\n",
    "**[Aliases](http://www.w3schools.com/sql/sql_alias.asp) allow you to rename columns and tables** in your query.  They will come in handy as we learn to do more with the data.  \n",
    "\n",
    "In plain English, the query below can be read as \"*Show me the `book` column from the `book_table`, but rename the column to `book_title`*."
   ]
  },
  {
   "cell_type": "code",
   "execution_count": 114,
   "metadata": {
    "collapsed": true
   },
   "outputs": [],
   "source": [
    "as_q = widgets.Textarea(value=\n",
    "'''SELECT\n",
    "    book AS book_title\n",
    "FROM\n",
    "    book_table''',\n",
    "width = '50em', height = '14em')\n",
    "display(as_q) "
   ]
  },
  {
   "cell_type": "code",
   "execution_count": 115,
   "metadata": {
    "collapsed": false
   },
   "outputs": [
    {
     "data": {
      "text/html": [
       "<table border=\"1\" class=\"dataframe\">\n",
       "  <thead>\n",
       "    <tr style=\"text-align: right;\">\n",
       "      <th>book_title</th>\n",
       "    </tr>\n",
       "  </thead>\n",
       "  <tbody>\n",
       "    <tr>\n",
       "      <td>For Whom the Bell Tolls</td>\n",
       "    </tr>\n",
       "    <tr>\n",
       "      <td>A Farewell to Arms</td>\n",
       "    </tr>\n",
       "    <tr>\n",
       "      <td>The Sun Also Rises</td>\n",
       "    </tr>\n",
       "    <tr>\n",
       "      <td>Sense and Sensibility</td>\n",
       "    </tr>\n",
       "    <tr>\n",
       "      <td>Emma</td>\n",
       "    </tr>\n",
       "    <tr>\n",
       "      <td>Pride and Prejudice</td>\n",
       "    </tr>\n",
       "    <tr>\n",
       "      <td>Romeo and Juliet</td>\n",
       "    </tr>\n",
       "    <tr>\n",
       "      <td>Hamlet</td>\n",
       "    </tr>\n",
       "    <tr>\n",
       "      <td>Macbeth</td>\n",
       "    </tr>\n",
       "    <tr>\n",
       "      <td>The Sound and the Fury</td>\n",
       "    </tr>\n",
       "    <tr>\n",
       "      <td>Absalom! Absalom!</td>\n",
       "    </tr>\n",
       "  </tbody>\n",
       "</table>"
      ],
      "text/plain": [
       "<IPython.core.display.HTML object>"
      ]
     },
     "metadata": {},
     "output_type": "display_data"
    }
   ],
   "source": [
    "as_b = widgets.Button(description='Run', width='10em', height='2.5em', color='white',background_color='black', border_color='black')\n",
    "display(as_b)\n",
    "run_q(as_q, as_b)"
   ]
  },
  {
   "cell_type": "markdown",
   "metadata": {},
   "source": [
    "### Quick Exercises:\n",
    "1. Change the query to rename the column to **`titles`**. \n",
    "2. Delete the word **`AS`** and rerun. (You'll see that `AS` is totally optional when assigning aliases. It just make the query easier to read.)\n",
    "3. Change the query so that you also pull the author, but rename the column **`author_name`**. \n",
    "4. Change the query so that you only see books by **`Austen`**. Use the column's alias in your **`WHERE`** clause. \n",
    "5. Order results by book in reverse alphabetical order. Use the column's alias in your **`ORDER BY`** clause."
   ]
  },
  {
   "cell_type": "code",
   "execution_count": 116,
   "metadata": {
    "collapsed": false
   },
   "outputs": [],
   "source": [
    "as_ex_c ='''SELECT\n",
    "    book titles,\n",
    "    author AS author_name\n",
    "FROM\n",
    "    book_table \n",
    "WHERE \n",
    "    author_name = 'Austen'\n",
    "ORDER BY\n",
    "    titles DESC'''\n",
    "cheat(as_ex_c) "
   ]
  },
  {
   "cell_type": "markdown",
   "metadata": {},
   "source": [
    "________\n",
    "### Challenge:\n",
    "- Write a query to pull:\n",
    "    - **`last_name`**, but renamed **`author`**\n",
    "    - **`country`**, but renamed **`nationality`**\n",
    "    - **`birth_year`**, but renamed **`year_born`**\n",
    "- Use each column's alias in the **`WHERE`** clause; use **`WHERE`** clause to only return results where the author is not from England, AND was born between 1800 and 1850. "
   ]
  },
  {
   "cell_type": "code",
   "execution_count": 117,
   "metadata": {
    "collapsed": true
   },
   "outputs": [],
   "source": [
    "as_chall = widgets.Textarea(value='', width = '50em', height = '15em')\n",
    "display(as_chall) "
   ]
  },
  {
   "cell_type": "code",
   "execution_count": 118,
   "metadata": {
    "collapsed": false
   },
   "outputs": [],
   "source": [
    "as_chall_b = widgets.Button(description='Run', width='10em', height='2.5em', color='white',background_color='black', border_color='black')\n",
    "display(as_chall_b)\n",
    "run_q(as_chall, as_chall_b)"
   ]
  },
  {
   "cell_type": "code",
   "execution_count": 119,
   "metadata": {
    "collapsed": false
   },
   "outputs": [],
   "source": [
    "as_chall_c ='''SELECT \n",
    "    last_name AS author,\n",
    "    country as nationality,\n",
    "    birth_year AS year_born\n",
    "FROM\n",
    "    auth_table\n",
    "WHERE\n",
    "    nationality != 'England'\n",
    "    AND year_born BETWEEN 1800 and 1850'''\n",
    "cheat(as_chall_c) "
   ]
  },
  {
   "cell_type": "markdown",
   "metadata": {},
   "source": [
    "_________\n",
    "\n",
    "# Assigning aliases to tables\n",
    "> **`SELECT` <br>\n",
    "&nbsp;&nbsp;&nbsp;&nbsp;&nbsp; `X.column_a,` <br>\n",
    "&nbsp;&nbsp;&nbsp;&nbsp;&nbsp; `Y.column_b` <br>\n",
    "`FROM` <br>\n",
    "&nbsp;&nbsp;&nbsp;&nbsp;&nbsp; `table_x X` ** &nbsp;&nbsp;&nbsp;&nbsp;&nbsp;&nbsp;&nbsp;&nbsp;&nbsp;&nbsp;&nbsp;&nbsp;&nbsp;&nbsp;&nbsp;&nbsp;&nbsp;&nbsp;&nbsp;&nbsp;&nbsp;&nbsp;&nbsp;&nbsp;&nbsp;&nbsp;&nbsp;&nbsp;&nbsp;&nbsp;&nbsp;&nbsp;&nbsp;&nbsp;&nbsp;&nbsp;&nbsp;&nbsp;&nbsp;&nbsp;&nbsp;&nbsp;&nbsp;&nbsp;&nbsp; ➞ assigns table_x the alias X <br>\n",
    "**&nbsp;&nbsp;&nbsp;&nbsp;&nbsp; `JOIN table Y`** &nbsp;&nbsp;&nbsp;&nbsp;&nbsp;&nbsp;&nbsp;&nbsp;&nbsp;&nbsp;&nbsp;&nbsp;&nbsp;&nbsp;&nbsp;&nbsp;&nbsp;&nbsp;&nbsp;&nbsp;&nbsp;&nbsp;&nbsp;&nbsp;&nbsp;&nbsp;&nbsp;&nbsp;&nbsp;&nbsp;&nbsp;&nbsp;&nbsp;&nbsp;&nbsp;&nbsp;&nbsp;&nbsp;&nbsp; ➞ assigns table_y the alias Y <br>\n",
    "&nbsp;&nbsp;&nbsp;&nbsp;&nbsp;&nbsp;&nbsp;&nbsp;&nbsp;&nbsp; **`ON X.key_column = Y.key_column`** &nbsp;&nbsp;&nbsp;&nbsp;&nbsp;&nbsp;&nbsp;&nbsp;&nbsp;&nbsp; ➞ table aliases can be used as substitutes in the `table_x.column_a` format <br> \n",
    "\n",
    "When dealing with one or more tables in a query, we commonly assign capitalized one-letter aliases to tables. Writing `X.key_column` is much shorter than `table_x.key_column`, and coders like shortcuts. They also typically won't use `AS` when assigning aliases to tables (although it makes no difference either way). \n",
    "\n",
    "When you're dealing with only one table, it's unnecessary to use table aliases because SQL knows exactly what columns you are referring to. However, when you are dealing with 2 or more tables, particularly tables that have columns with the same names (like `book`, which is a column in both **`sales_table`** and **`book_table`**), then aliases are extremely handy. "
   ]
  },
  {
   "cell_type": "code",
   "execution_count": 120,
   "metadata": {
    "collapsed": true
   },
   "outputs": [],
   "source": [
    "as_table_q = widgets.Textarea(value=\n",
    "'''SELECT\n",
    "    S.book,\n",
    "    S.revenue,\n",
    "    B.cogs\n",
    "FROM\n",
    "    book_table B\n",
    "    JOIN sales_table S \n",
    "        ON S.book = B.book''',\n",
    "width = '50em', height = '12em')\n",
    "display(as_table_q) "
   ]
  },
  {
   "cell_type": "code",
   "execution_count": 121,
   "metadata": {
    "collapsed": false
   },
   "outputs": [
    {
     "data": {
      "text/html": [
       "<table border=\"1\" class=\"dataframe\">\n",
       "  <thead>\n",
       "    <tr style=\"text-align: right;\">\n",
       "      <th>book</th>\n",
       "      <th>revenue</th>\n",
       "      <th>cogs</th>\n",
       "    </tr>\n",
       "  </thead>\n",
       "  <tbody>\n",
       "    <tr>\n",
       "      <td>For Whom the Bell Tolls</td>\n",
       "      <td>15.58</td>\n",
       "      <td>13.50</td>\n",
       "    </tr>\n",
       "    <tr>\n",
       "      <td>For Whom the Bell Tolls</td>\n",
       "      <td>15.82</td>\n",
       "      <td>13.50</td>\n",
       "    </tr>\n",
       "    <tr>\n",
       "      <td>For Whom the Bell Tolls</td>\n",
       "      <td>15.95</td>\n",
       "      <td>13.50</td>\n",
       "    </tr>\n",
       "    <tr>\n",
       "      <td>For Whom the Bell Tolls</td>\n",
       "      <td>16.07</td>\n",
       "      <td>13.50</td>\n",
       "    </tr>\n",
       "    <tr>\n",
       "      <td>For Whom the Bell Tolls</td>\n",
       "      <td>16.76</td>\n",
       "      <td>13.50</td>\n",
       "    </tr>\n",
       "    <tr>\n",
       "      <td>For Whom the Bell Tolls</td>\n",
       "      <td>16.90</td>\n",
       "      <td>13.50</td>\n",
       "    </tr>\n",
       "    <tr>\n",
       "      <td>For Whom the Bell Tolls</td>\n",
       "      <td>16.93</td>\n",
       "      <td>13.50</td>\n",
       "    </tr>\n",
       "    <tr>\n",
       "      <td>For Whom the Bell Tolls</td>\n",
       "      <td>17.31</td>\n",
       "      <td>13.50</td>\n",
       "    </tr>\n",
       "    <tr>\n",
       "      <td>For Whom the Bell Tolls</td>\n",
       "      <td>18.34</td>\n",
       "      <td>13.50</td>\n",
       "    </tr>\n",
       "    <tr>\n",
       "      <td>For Whom the Bell Tolls</td>\n",
       "      <td>18.94</td>\n",
       "      <td>13.50</td>\n",
       "    </tr>\n",
       "    <tr>\n",
       "      <td>For Whom the Bell Tolls</td>\n",
       "      <td>19.26</td>\n",
       "      <td>13.50</td>\n",
       "    </tr>\n",
       "    <tr>\n",
       "      <td>For Whom the Bell Tolls</td>\n",
       "      <td>19.74</td>\n",
       "      <td>13.50</td>\n",
       "    </tr>\n",
       "    <tr>\n",
       "      <td>A Farewell to Arms</td>\n",
       "      <td>12.23</td>\n",
       "      <td>10.35</td>\n",
       "    </tr>\n",
       "    <tr>\n",
       "      <td>A Farewell to Arms</td>\n",
       "      <td>13.01</td>\n",
       "      <td>10.35</td>\n",
       "    </tr>\n",
       "    <tr>\n",
       "      <td>A Farewell to Arms</td>\n",
       "      <td>13.30</td>\n",
       "      <td>10.35</td>\n",
       "    </tr>\n",
       "    <tr>\n",
       "      <td>A Farewell to Arms</td>\n",
       "      <td>13.56</td>\n",
       "      <td>10.35</td>\n",
       "    </tr>\n",
       "    <tr>\n",
       "      <td>A Farewell to Arms</td>\n",
       "      <td>14.28</td>\n",
       "      <td>10.35</td>\n",
       "    </tr>\n",
       "    <tr>\n",
       "      <td>A Farewell to Arms</td>\n",
       "      <td>14.52</td>\n",
       "      <td>10.35</td>\n",
       "    </tr>\n",
       "    <tr>\n",
       "      <td>A Farewell to Arms</td>\n",
       "      <td>14.84</td>\n",
       "      <td>10.35</td>\n",
       "    </tr>\n",
       "    <tr>\n",
       "      <td>A Farewell to Arms</td>\n",
       "      <td>14.92</td>\n",
       "      <td>10.35</td>\n",
       "    </tr>\n",
       "    <tr>\n",
       "      <td>The Sun Also Rises</td>\n",
       "      <td>13.60</td>\n",
       "      <td>11.35</td>\n",
       "    </tr>\n",
       "    <tr>\n",
       "      <td>The Sun Also Rises</td>\n",
       "      <td>13.62</td>\n",
       "      <td>11.35</td>\n",
       "    </tr>\n",
       "    <tr>\n",
       "      <td>The Sun Also Rises</td>\n",
       "      <td>13.87</td>\n",
       "      <td>11.35</td>\n",
       "    </tr>\n",
       "    <tr>\n",
       "      <td>The Sun Also Rises</td>\n",
       "      <td>14.51</td>\n",
       "      <td>11.35</td>\n",
       "    </tr>\n",
       "    <tr>\n",
       "      <td>The Sun Also Rises</td>\n",
       "      <td>14.70</td>\n",
       "      <td>11.35</td>\n",
       "    </tr>\n",
       "    <tr>\n",
       "      <td>The Sun Also Rises</td>\n",
       "      <td>15.05</td>\n",
       "      <td>11.35</td>\n",
       "    </tr>\n",
       "    <tr>\n",
       "      <td>The Sun Also Rises</td>\n",
       "      <td>15.08</td>\n",
       "      <td>11.35</td>\n",
       "    </tr>\n",
       "    <tr>\n",
       "      <td>The Sun Also Rises</td>\n",
       "      <td>15.32</td>\n",
       "      <td>11.35</td>\n",
       "    </tr>\n",
       "    <tr>\n",
       "      <td>The Sun Also Rises</td>\n",
       "      <td>15.35</td>\n",
       "      <td>11.35</td>\n",
       "    </tr>\n",
       "    <tr>\n",
       "      <td>The Sun Also Rises</td>\n",
       "      <td>15.41</td>\n",
       "      <td>11.35</td>\n",
       "    </tr>\n",
       "    <tr>\n",
       "      <td>The Sun Also Rises</td>\n",
       "      <td>16.82</td>\n",
       "      <td>11.35</td>\n",
       "    </tr>\n",
       "    <tr>\n",
       "      <td>Sense and Sensibility</td>\n",
       "      <td>12.28</td>\n",
       "      <td>11.00</td>\n",
       "    </tr>\n",
       "    <tr>\n",
       "      <td>Sense and Sensibility</td>\n",
       "      <td>12.75</td>\n",
       "      <td>11.00</td>\n",
       "    </tr>\n",
       "    <tr>\n",
       "      <td>Sense and Sensibility</td>\n",
       "      <td>12.88</td>\n",
       "      <td>11.00</td>\n",
       "    </tr>\n",
       "    <tr>\n",
       "      <td>Sense and Sensibility</td>\n",
       "      <td>13.86</td>\n",
       "      <td>11.00</td>\n",
       "    </tr>\n",
       "    <tr>\n",
       "      <td>Sense and Sensibility</td>\n",
       "      <td>15.15</td>\n",
       "      <td>11.00</td>\n",
       "    </tr>\n",
       "    <tr>\n",
       "      <td>Sense and Sensibility</td>\n",
       "      <td>15.90</td>\n",
       "      <td>11.00</td>\n",
       "    </tr>\n",
       "    <tr>\n",
       "      <td>Sense and Sensibility</td>\n",
       "      <td>16.18</td>\n",
       "      <td>11.00</td>\n",
       "    </tr>\n",
       "    <tr>\n",
       "      <td>Sense and Sensibility</td>\n",
       "      <td>16.48</td>\n",
       "      <td>11.00</td>\n",
       "    </tr>\n",
       "    <tr>\n",
       "      <td>Emma</td>\n",
       "      <td>13.82</td>\n",
       "      <td>12.50</td>\n",
       "    </tr>\n",
       "    <tr>\n",
       "      <td>Emma</td>\n",
       "      <td>14.01</td>\n",
       "      <td>12.50</td>\n",
       "    </tr>\n",
       "    <tr>\n",
       "      <td>Emma</td>\n",
       "      <td>14.36</td>\n",
       "      <td>12.50</td>\n",
       "    </tr>\n",
       "    <tr>\n",
       "      <td>Emma</td>\n",
       "      <td>14.99</td>\n",
       "      <td>12.50</td>\n",
       "    </tr>\n",
       "    <tr>\n",
       "      <td>Emma</td>\n",
       "      <td>15.63</td>\n",
       "      <td>12.50</td>\n",
       "    </tr>\n",
       "    <tr>\n",
       "      <td>Emma</td>\n",
       "      <td>16.25</td>\n",
       "      <td>12.50</td>\n",
       "    </tr>\n",
       "    <tr>\n",
       "      <td>Emma</td>\n",
       "      <td>17.26</td>\n",
       "      <td>12.50</td>\n",
       "    </tr>\n",
       "    <tr>\n",
       "      <td>Emma</td>\n",
       "      <td>18.18</td>\n",
       "      <td>12.50</td>\n",
       "    </tr>\n",
       "    <tr>\n",
       "      <td>Emma</td>\n",
       "      <td>18.21</td>\n",
       "      <td>12.50</td>\n",
       "    </tr>\n",
       "    <tr>\n",
       "      <td>Pride and Prejudice</td>\n",
       "      <td>14.63</td>\n",
       "      <td>13.00</td>\n",
       "    </tr>\n",
       "    <tr>\n",
       "      <td>Pride and Prejudice</td>\n",
       "      <td>14.84</td>\n",
       "      <td>13.00</td>\n",
       "    </tr>\n",
       "    <tr>\n",
       "      <td>Pride and Prejudice</td>\n",
       "      <td>15.57</td>\n",
       "      <td>13.00</td>\n",
       "    </tr>\n",
       "    <tr>\n",
       "      <td>Pride and Prejudice</td>\n",
       "      <td>16.93</td>\n",
       "      <td>13.00</td>\n",
       "    </tr>\n",
       "    <tr>\n",
       "      <td>Pride and Prejudice</td>\n",
       "      <td>17.54</td>\n",
       "      <td>13.00</td>\n",
       "    </tr>\n",
       "    <tr>\n",
       "      <td>Pride and Prejudice</td>\n",
       "      <td>17.59</td>\n",
       "      <td>13.00</td>\n",
       "    </tr>\n",
       "    <tr>\n",
       "      <td>Pride and Prejudice</td>\n",
       "      <td>18.62</td>\n",
       "      <td>13.00</td>\n",
       "    </tr>\n",
       "    <tr>\n",
       "      <td>Pride and Prejudice</td>\n",
       "      <td>18.82</td>\n",
       "      <td>13.00</td>\n",
       "    </tr>\n",
       "    <tr>\n",
       "      <td>Romeo and Juliet</td>\n",
       "      <td>8.98</td>\n",
       "      <td>7.50</td>\n",
       "    </tr>\n",
       "    <tr>\n",
       "      <td>Romeo and Juliet</td>\n",
       "      <td>9.14</td>\n",
       "      <td>7.50</td>\n",
       "    </tr>\n",
       "    <tr>\n",
       "      <td>Romeo and Juliet</td>\n",
       "      <td>10.28</td>\n",
       "      <td>7.50</td>\n",
       "    </tr>\n",
       "    <tr>\n",
       "      <td>Romeo and Juliet</td>\n",
       "      <td>10.74</td>\n",
       "      <td>7.50</td>\n",
       "    </tr>\n",
       "    <tr>\n",
       "      <td>Romeo and Juliet</td>\n",
       "      <td>10.92</td>\n",
       "      <td>7.50</td>\n",
       "    </tr>\n",
       "    <tr>\n",
       "      <td>Romeo and Juliet</td>\n",
       "      <td>10.95</td>\n",
       "      <td>7.50</td>\n",
       "    </tr>\n",
       "    <tr>\n",
       "      <td>Hamlet</td>\n",
       "      <td>7.67</td>\n",
       "      <td>6.95</td>\n",
       "    </tr>\n",
       "    <tr>\n",
       "      <td>Hamlet</td>\n",
       "      <td>7.96</td>\n",
       "      <td>6.95</td>\n",
       "    </tr>\n",
       "    <tr>\n",
       "      <td>Hamlet</td>\n",
       "      <td>8.06</td>\n",
       "      <td>6.95</td>\n",
       "    </tr>\n",
       "    <tr>\n",
       "      <td>Hamlet</td>\n",
       "      <td>8.29</td>\n",
       "      <td>6.95</td>\n",
       "    </tr>\n",
       "    <tr>\n",
       "      <td>Hamlet</td>\n",
       "      <td>8.78</td>\n",
       "      <td>6.95</td>\n",
       "    </tr>\n",
       "    <tr>\n",
       "      <td>Hamlet</td>\n",
       "      <td>9.00</td>\n",
       "      <td>6.95</td>\n",
       "    </tr>\n",
       "    <tr>\n",
       "      <td>Hamlet</td>\n",
       "      <td>9.21</td>\n",
       "      <td>6.95</td>\n",
       "    </tr>\n",
       "    <tr>\n",
       "      <td>Hamlet</td>\n",
       "      <td>9.26</td>\n",
       "      <td>6.95</td>\n",
       "    </tr>\n",
       "    <tr>\n",
       "      <td>Hamlet</td>\n",
       "      <td>9.91</td>\n",
       "      <td>6.95</td>\n",
       "    </tr>\n",
       "    <tr>\n",
       "      <td>Hamlet</td>\n",
       "      <td>10.34</td>\n",
       "      <td>6.95</td>\n",
       "    </tr>\n",
       "    <tr>\n",
       "      <td>Macbeth</td>\n",
       "      <td>8.08</td>\n",
       "      <td>11.10</td>\n",
       "    </tr>\n",
       "    <tr>\n",
       "      <td>Macbeth</td>\n",
       "      <td>8.14</td>\n",
       "      <td>11.10</td>\n",
       "    </tr>\n",
       "    <tr>\n",
       "      <td>Macbeth</td>\n",
       "      <td>8.19</td>\n",
       "      <td>11.10</td>\n",
       "    </tr>\n",
       "    <tr>\n",
       "      <td>Macbeth</td>\n",
       "      <td>8.24</td>\n",
       "      <td>11.10</td>\n",
       "    </tr>\n",
       "    <tr>\n",
       "      <td>Macbeth</td>\n",
       "      <td>8.64</td>\n",
       "      <td>11.10</td>\n",
       "    </tr>\n",
       "    <tr>\n",
       "      <td>Macbeth</td>\n",
       "      <td>8.68</td>\n",
       "      <td>11.10</td>\n",
       "    </tr>\n",
       "    <tr>\n",
       "      <td>Macbeth</td>\n",
       "      <td>8.90</td>\n",
       "      <td>11.10</td>\n",
       "    </tr>\n",
       "    <tr>\n",
       "      <td>Macbeth</td>\n",
       "      <td>9.06</td>\n",
       "      <td>11.10</td>\n",
       "    </tr>\n",
       "    <tr>\n",
       "      <td>Macbeth</td>\n",
       "      <td>9.55</td>\n",
       "      <td>11.10</td>\n",
       "    </tr>\n",
       "    <tr>\n",
       "      <td>Macbeth</td>\n",
       "      <td>9.62</td>\n",
       "      <td>11.10</td>\n",
       "    </tr>\n",
       "    <tr>\n",
       "      <td>Macbeth</td>\n",
       "      <td>10.38</td>\n",
       "      <td>11.10</td>\n",
       "    </tr>\n",
       "    <tr>\n",
       "      <td>The Sound and the Fury</td>\n",
       "      <td>9.83</td>\n",
       "      <td>8.50</td>\n",
       "    </tr>\n",
       "    <tr>\n",
       "      <td>The Sound and the Fury</td>\n",
       "      <td>9.97</td>\n",
       "      <td>8.50</td>\n",
       "    </tr>\n",
       "    <tr>\n",
       "      <td>The Sound and the Fury</td>\n",
       "      <td>10.06</td>\n",
       "      <td>8.50</td>\n",
       "    </tr>\n",
       "    <tr>\n",
       "      <td>The Sound and the Fury</td>\n",
       "      <td>10.29</td>\n",
       "      <td>8.50</td>\n",
       "    </tr>\n",
       "    <tr>\n",
       "      <td>The Sound and the Fury</td>\n",
       "      <td>10.64</td>\n",
       "      <td>8.50</td>\n",
       "    </tr>\n",
       "    <tr>\n",
       "      <td>The Sound and the Fury</td>\n",
       "      <td>10.77</td>\n",
       "      <td>8.50</td>\n",
       "    </tr>\n",
       "    <tr>\n",
       "      <td>The Sound and the Fury</td>\n",
       "      <td>10.77</td>\n",
       "      <td>8.50</td>\n",
       "    </tr>\n",
       "    <tr>\n",
       "      <td>The Sound and the Fury</td>\n",
       "      <td>11.11</td>\n",
       "      <td>8.50</td>\n",
       "    </tr>\n",
       "    <tr>\n",
       "      <td>The Sound and the Fury</td>\n",
       "      <td>11.56</td>\n",
       "      <td>8.50</td>\n",
       "    </tr>\n",
       "    <tr>\n",
       "      <td>The Sound and the Fury</td>\n",
       "      <td>11.61</td>\n",
       "      <td>8.50</td>\n",
       "    </tr>\n",
       "    <tr>\n",
       "      <td>The Sound and the Fury</td>\n",
       "      <td>12.21</td>\n",
       "      <td>8.50</td>\n",
       "    </tr>\n",
       "    <tr>\n",
       "      <td>The Sound and the Fury</td>\n",
       "      <td>12.52</td>\n",
       "      <td>8.50</td>\n",
       "    </tr>\n",
       "    <tr>\n",
       "      <td>The Sound and the Fury</td>\n",
       "      <td>12.61</td>\n",
       "      <td>8.50</td>\n",
       "    </tr>\n",
       "    <tr>\n",
       "      <td>Absalom! Absalom!</td>\n",
       "      <td>6.24</td>\n",
       "      <td>5.15</td>\n",
       "    </tr>\n",
       "    <tr>\n",
       "      <td>Absalom! Absalom!</td>\n",
       "      <td>6.31</td>\n",
       "      <td>5.15</td>\n",
       "    </tr>\n",
       "    <tr>\n",
       "      <td>Absalom! Absalom!</td>\n",
       "      <td>6.44</td>\n",
       "      <td>5.15</td>\n",
       "    </tr>\n",
       "    <tr>\n",
       "      <td>Absalom! Absalom!</td>\n",
       "      <td>6.92</td>\n",
       "      <td>5.15</td>\n",
       "    </tr>\n",
       "  </tbody>\n",
       "</table>"
      ],
      "text/plain": [
       "<IPython.core.display.HTML object>"
      ]
     },
     "metadata": {},
     "output_type": "display_data"
    }
   ],
   "source": [
    "as_table_b = widgets.Button(description='Run', width='10em', height='2.5em', color='white',background_color='black', border_color='black')\n",
    "display(as_table_b)\n",
    "run_q(as_table_q, as_table_b)"
   ]
  },
  {
   "cell_type": "markdown",
   "metadata": {},
   "source": [
    "### Quick Exercises:\n",
    "1. In the **`SELECT`** clause, change **`S.book`** to just **`book`**, rerun. What's going wrong?\n",
    "2. Now change **`book`** to **`B.book`**, rerun.\n",
    "3. Change **`S.revenue`** to **`B.revenue`**, rerun.  What's going wrong?\n",
    "4. Change **`B.revenue`** to just **`revenue`** and rerun. Note that when you're joining tables, it's standard to use table aliases even on columns that don't need them. This makes it easier for someone to read your query even if they are unfamaliar with the tables that you're working with.  However, as you see, it's not technically necessary.\n",
    "5. Give each of these columns an alias (any alias) and rerun.\n",
    "\n",
    "_____\n",
    "### Challenge:\n",
    "Write a query to view books and the author's country by joining **`auth_table`** and **`book_table`**.  Give **`auth_table`** the alias **`A`** and **`book_table`** the alias **`B`**. Use the aliases in the **`ON`** part of the **`JOIN`** clause. "
   ]
  },
  {
   "cell_type": "code",
   "execution_count": 122,
   "metadata": {
    "collapsed": true
   },
   "outputs": [],
   "source": [
    "as_table_chall = widgets.Textarea(value='', width = '50em', height = '10em')\n",
    "display(as_table_chall) "
   ]
  },
  {
   "cell_type": "code",
   "execution_count": 123,
   "metadata": {
    "collapsed": false
   },
   "outputs": [],
   "source": [
    "as_table_chall_b = widgets.Button(description='Run', width='10em', height='2.5em', color='white',background_color='black', border_color='black')\n",
    "display(as_table_chall_b)\n",
    "run_q(as_table_chall, as_table_chall_b)"
   ]
  },
  {
   "cell_type": "code",
   "execution_count": 124,
   "metadata": {
    "collapsed": false
   },
   "outputs": [],
   "source": [
    "as_table_chall_c ='''SELECT\n",
    "    B.book,\n",
    "    A.country\n",
    "FROM\n",
    "    book_table B\n",
    "    JOIN auth_table A ON B.author = A.last_name'''\n",
    "cheat(as_table_chall_c) "
   ]
  },
  {
   "cell_type": "markdown",
   "metadata": {},
   "source": [
    "_____\n",
    "### Challenge:\n",
    "- Write a query to view these columns:\n",
    "    - book titles with the alias **`titles`**\n",
    "    - revenue with the alias **`earnings`**\n",
    "    - author's last name with the alias **`author_name`**\n",
    "    - year in which the author was born with the alias **`year_born`**\n",
    "- Use one-letter aliases for table names in your **`SELECT`** and **`JOIN`** clauses\n",
    "- For your **`WHERE`** and **`ORDER BY`** clauses:\n",
    "    - Use column aliases\n",
    "    - Only view results where author was born between 1700 and 1900 AND where revenue is more than $12. \n",
    "    - Sort your results so that earnings appear in ascending order\n",
    "- Limit your results to 20 rows"
   ]
  },
  {
   "cell_type": "code",
   "execution_count": 125,
   "metadata": {
    "collapsed": true
   },
   "outputs": [],
   "source": [
    "as_chall2 = widgets.Textarea(value='', width = '50em', height = '20em')\n",
    "display(as_chall2) "
   ]
  },
  {
   "cell_type": "code",
   "execution_count": 126,
   "metadata": {
    "collapsed": false
   },
   "outputs": [],
   "source": [
    "as_chall2_b = widgets.Button(description='Run', width='10em', height='2.5em', color='white',background_color='black', border_color='black')\n",
    "display(as_chall2_b)\n",
    "run_q(as_chall2, as_chall2_b)"
   ]
  },
  {
   "cell_type": "code",
   "execution_count": 127,
   "metadata": {
    "collapsed": true
   },
   "outputs": [],
   "source": [
    "as_chall2_c ='''SELECT \n",
    "    B.book as titles, \n",
    "    S.revenue as earnings,\n",
    "    A.birth_year as year_born\n",
    "FROM\n",
    "    book_table B\n",
    "    JOIN auth_table A ON B.author = A.last_name\n",
    "    JOIN sales_table S on B.book = S.book\n",
    "WHERE \n",
    "    year_born BETWEEN 1700 and 1900\n",
    "    AND earnings > 12\n",
    "ORDER BY\n",
    "    earnings\n",
    "LIMIT 20'''\n",
    "cheat(as_chall2_b) "
   ]
  },
  {
   "cell_type": "markdown",
   "metadata": {},
   "source": [
    "__________\n",
    "___________\n",
    "___________\n",
    "<a id='operators'></a>\n",
    "<center>\n",
    "[Previous](#as) &nbsp;&nbsp;&nbsp;&nbsp;&nbsp;  | &nbsp;&nbsp;&nbsp;&nbsp;&nbsp; [Table of Contents](#table_of_contents) &nbsp;&nbsp;&nbsp;&nbsp;&nbsp; |  &nbsp;&nbsp;&nbsp;&nbsp;&nbsp; [Next](#functions)\n",
    "</center>\n",
    "![operators](http://i.imgur.com/Si68QxJ.png)\n",
    "\n",
    "> **`SELECT` <br>\n",
    "&nbsp;&nbsp;&nbsp;&nbsp;&nbsp; `column_a + column_b,`** &nbsp;&nbsp;&nbsp;&nbsp;&nbsp;&nbsp;&nbsp;&nbsp;&nbsp;&nbsp;&nbsp;&nbsp;&nbsp;&nbsp;&nbsp; ➞ adds the values in `column_a` and `columns_b`<br>\n",
    "&nbsp;&nbsp;&nbsp;&nbsp;&nbsp; **`column_a - column_b,`** &nbsp;&nbsp;&nbsp;&nbsp;&nbsp;&nbsp;&nbsp;&nbsp;&nbsp;&nbsp;&nbsp;&nbsp;&nbsp;&nbsp;&nbsp; ➞ subtracts<br>\n",
    "&nbsp;&nbsp;&nbsp;&nbsp;&nbsp; **`column_a * column_b,`** &nbsp;&nbsp;&nbsp;&nbsp;&nbsp;&nbsp;&nbsp;&nbsp;&nbsp;&nbsp;&nbsp;&nbsp;&nbsp;&nbsp;&nbsp; ➞ multiplies<br>\n",
    "&nbsp;&nbsp;&nbsp;&nbsp;&nbsp; **`column_a / column_b,`** &nbsp;&nbsp;&nbsp;&nbsp;&nbsp;&nbsp;&nbsp;&nbsp;&nbsp;&nbsp;&nbsp;&nbsp;&nbsp;&nbsp;&nbsp; ➞ divides<br>\n",
    "&nbsp;&nbsp;&nbsp;&nbsp;&nbsp; **`(column_a + column_b) * column_c,`** &nbsp;&nbsp;&nbsp;&nbsp;&nbsp;&nbsp;&nbsp;&nbsp;&nbsp;&nbsp;&nbsp;&nbsp;&nbsp;&nbsp;&nbsp; ➞ use parentheses to make more complex calculations<br>\n",
    "**`FROM` <br>\n",
    "&nbsp;&nbsp;&nbsp;&nbsp;&nbsp; `table_name`** <br>\n",
    "`[WHERE clause]` <br>\n",
    "`[ORDER BY clause]`  <br>\n",
    "`[LIMIT clause]`  <br>\n",
    "\n",
    "This is pretty straightforward. Let's start by calculating gross profit per transaction: **`revenue`** minus **`cogs`**.  Recall again that we can use `S.book` or `B.book` - we'll get the same results. "
   ]
  },
  {
   "cell_type": "code",
   "execution_count": 128,
   "metadata": {
    "collapsed": true
   },
   "outputs": [],
   "source": [
    "op_q = widgets.Textarea(value=\n",
    "'''SELECT\n",
    "    B.book,\n",
    "    S.revenue,\n",
    "    B.cogs,\n",
    "    S.revenue - B.cogs\n",
    "FROM\n",
    "    book_table B \n",
    "    JOIN sales_table S ON B.book = S.Book''',\n",
    "width = '50em', height = '18em')\n",
    "display(op_q) "
   ]
  },
  {
   "cell_type": "code",
   "execution_count": 129,
   "metadata": {
    "collapsed": false
   },
   "outputs": [
    {
     "data": {
      "text/html": [
       "<table border=\"1\" class=\"dataframe\">\n",
       "  <thead>\n",
       "    <tr style=\"text-align: right;\">\n",
       "      <th>book</th>\n",
       "      <th>revenue</th>\n",
       "      <th>cogs</th>\n",
       "      <th>S.revenue - B.cogs</th>\n",
       "    </tr>\n",
       "  </thead>\n",
       "  <tbody>\n",
       "    <tr>\n",
       "      <td>For Whom the Bell Tolls</td>\n",
       "      <td>15.58</td>\n",
       "      <td>13.50</td>\n",
       "      <td>2.08</td>\n",
       "    </tr>\n",
       "    <tr>\n",
       "      <td>For Whom the Bell Tolls</td>\n",
       "      <td>15.82</td>\n",
       "      <td>13.50</td>\n",
       "      <td>2.32</td>\n",
       "    </tr>\n",
       "    <tr>\n",
       "      <td>For Whom the Bell Tolls</td>\n",
       "      <td>15.95</td>\n",
       "      <td>13.50</td>\n",
       "      <td>2.45</td>\n",
       "    </tr>\n",
       "    <tr>\n",
       "      <td>For Whom the Bell Tolls</td>\n",
       "      <td>16.07</td>\n",
       "      <td>13.50</td>\n",
       "      <td>2.57</td>\n",
       "    </tr>\n",
       "    <tr>\n",
       "      <td>For Whom the Bell Tolls</td>\n",
       "      <td>16.76</td>\n",
       "      <td>13.50</td>\n",
       "      <td>3.26</td>\n",
       "    </tr>\n",
       "    <tr>\n",
       "      <td>For Whom the Bell Tolls</td>\n",
       "      <td>16.90</td>\n",
       "      <td>13.50</td>\n",
       "      <td>3.40</td>\n",
       "    </tr>\n",
       "    <tr>\n",
       "      <td>For Whom the Bell Tolls</td>\n",
       "      <td>16.93</td>\n",
       "      <td>13.50</td>\n",
       "      <td>3.43</td>\n",
       "    </tr>\n",
       "    <tr>\n",
       "      <td>For Whom the Bell Tolls</td>\n",
       "      <td>17.31</td>\n",
       "      <td>13.50</td>\n",
       "      <td>3.81</td>\n",
       "    </tr>\n",
       "    <tr>\n",
       "      <td>For Whom the Bell Tolls</td>\n",
       "      <td>18.34</td>\n",
       "      <td>13.50</td>\n",
       "      <td>4.84</td>\n",
       "    </tr>\n",
       "    <tr>\n",
       "      <td>For Whom the Bell Tolls</td>\n",
       "      <td>18.94</td>\n",
       "      <td>13.50</td>\n",
       "      <td>5.44</td>\n",
       "    </tr>\n",
       "    <tr>\n",
       "      <td>For Whom the Bell Tolls</td>\n",
       "      <td>19.26</td>\n",
       "      <td>13.50</td>\n",
       "      <td>5.76</td>\n",
       "    </tr>\n",
       "    <tr>\n",
       "      <td>For Whom the Bell Tolls</td>\n",
       "      <td>19.74</td>\n",
       "      <td>13.50</td>\n",
       "      <td>6.24</td>\n",
       "    </tr>\n",
       "    <tr>\n",
       "      <td>A Farewell to Arms</td>\n",
       "      <td>12.23</td>\n",
       "      <td>10.35</td>\n",
       "      <td>1.88</td>\n",
       "    </tr>\n",
       "    <tr>\n",
       "      <td>A Farewell to Arms</td>\n",
       "      <td>13.01</td>\n",
       "      <td>10.35</td>\n",
       "      <td>2.66</td>\n",
       "    </tr>\n",
       "    <tr>\n",
       "      <td>A Farewell to Arms</td>\n",
       "      <td>13.30</td>\n",
       "      <td>10.35</td>\n",
       "      <td>2.95</td>\n",
       "    </tr>\n",
       "    <tr>\n",
       "      <td>A Farewell to Arms</td>\n",
       "      <td>13.56</td>\n",
       "      <td>10.35</td>\n",
       "      <td>3.21</td>\n",
       "    </tr>\n",
       "    <tr>\n",
       "      <td>A Farewell to Arms</td>\n",
       "      <td>14.28</td>\n",
       "      <td>10.35</td>\n",
       "      <td>3.93</td>\n",
       "    </tr>\n",
       "    <tr>\n",
       "      <td>A Farewell to Arms</td>\n",
       "      <td>14.52</td>\n",
       "      <td>10.35</td>\n",
       "      <td>4.17</td>\n",
       "    </tr>\n",
       "    <tr>\n",
       "      <td>A Farewell to Arms</td>\n",
       "      <td>14.84</td>\n",
       "      <td>10.35</td>\n",
       "      <td>4.49</td>\n",
       "    </tr>\n",
       "    <tr>\n",
       "      <td>A Farewell to Arms</td>\n",
       "      <td>14.92</td>\n",
       "      <td>10.35</td>\n",
       "      <td>4.57</td>\n",
       "    </tr>\n",
       "    <tr>\n",
       "      <td>The Sun Also Rises</td>\n",
       "      <td>13.60</td>\n",
       "      <td>11.35</td>\n",
       "      <td>2.25</td>\n",
       "    </tr>\n",
       "    <tr>\n",
       "      <td>The Sun Also Rises</td>\n",
       "      <td>13.62</td>\n",
       "      <td>11.35</td>\n",
       "      <td>2.27</td>\n",
       "    </tr>\n",
       "    <tr>\n",
       "      <td>The Sun Also Rises</td>\n",
       "      <td>13.87</td>\n",
       "      <td>11.35</td>\n",
       "      <td>2.52</td>\n",
       "    </tr>\n",
       "    <tr>\n",
       "      <td>The Sun Also Rises</td>\n",
       "      <td>14.51</td>\n",
       "      <td>11.35</td>\n",
       "      <td>3.16</td>\n",
       "    </tr>\n",
       "    <tr>\n",
       "      <td>The Sun Also Rises</td>\n",
       "      <td>14.70</td>\n",
       "      <td>11.35</td>\n",
       "      <td>3.35</td>\n",
       "    </tr>\n",
       "    <tr>\n",
       "      <td>The Sun Also Rises</td>\n",
       "      <td>15.05</td>\n",
       "      <td>11.35</td>\n",
       "      <td>3.70</td>\n",
       "    </tr>\n",
       "    <tr>\n",
       "      <td>The Sun Also Rises</td>\n",
       "      <td>15.08</td>\n",
       "      <td>11.35</td>\n",
       "      <td>3.73</td>\n",
       "    </tr>\n",
       "    <tr>\n",
       "      <td>The Sun Also Rises</td>\n",
       "      <td>15.32</td>\n",
       "      <td>11.35</td>\n",
       "      <td>3.97</td>\n",
       "    </tr>\n",
       "    <tr>\n",
       "      <td>The Sun Also Rises</td>\n",
       "      <td>15.35</td>\n",
       "      <td>11.35</td>\n",
       "      <td>4.00</td>\n",
       "    </tr>\n",
       "    <tr>\n",
       "      <td>The Sun Also Rises</td>\n",
       "      <td>15.41</td>\n",
       "      <td>11.35</td>\n",
       "      <td>4.06</td>\n",
       "    </tr>\n",
       "    <tr>\n",
       "      <td>The Sun Also Rises</td>\n",
       "      <td>16.82</td>\n",
       "      <td>11.35</td>\n",
       "      <td>5.47</td>\n",
       "    </tr>\n",
       "    <tr>\n",
       "      <td>Sense and Sensibility</td>\n",
       "      <td>12.28</td>\n",
       "      <td>11.00</td>\n",
       "      <td>1.28</td>\n",
       "    </tr>\n",
       "    <tr>\n",
       "      <td>Sense and Sensibility</td>\n",
       "      <td>12.75</td>\n",
       "      <td>11.00</td>\n",
       "      <td>1.75</td>\n",
       "    </tr>\n",
       "    <tr>\n",
       "      <td>Sense and Sensibility</td>\n",
       "      <td>12.88</td>\n",
       "      <td>11.00</td>\n",
       "      <td>1.88</td>\n",
       "    </tr>\n",
       "    <tr>\n",
       "      <td>Sense and Sensibility</td>\n",
       "      <td>13.86</td>\n",
       "      <td>11.00</td>\n",
       "      <td>2.86</td>\n",
       "    </tr>\n",
       "    <tr>\n",
       "      <td>Sense and Sensibility</td>\n",
       "      <td>15.15</td>\n",
       "      <td>11.00</td>\n",
       "      <td>4.15</td>\n",
       "    </tr>\n",
       "    <tr>\n",
       "      <td>Sense and Sensibility</td>\n",
       "      <td>15.90</td>\n",
       "      <td>11.00</td>\n",
       "      <td>4.90</td>\n",
       "    </tr>\n",
       "    <tr>\n",
       "      <td>Sense and Sensibility</td>\n",
       "      <td>16.18</td>\n",
       "      <td>11.00</td>\n",
       "      <td>5.18</td>\n",
       "    </tr>\n",
       "    <tr>\n",
       "      <td>Sense and Sensibility</td>\n",
       "      <td>16.48</td>\n",
       "      <td>11.00</td>\n",
       "      <td>5.48</td>\n",
       "    </tr>\n",
       "    <tr>\n",
       "      <td>Emma</td>\n",
       "      <td>13.82</td>\n",
       "      <td>12.50</td>\n",
       "      <td>1.32</td>\n",
       "    </tr>\n",
       "    <tr>\n",
       "      <td>Emma</td>\n",
       "      <td>14.01</td>\n",
       "      <td>12.50</td>\n",
       "      <td>1.51</td>\n",
       "    </tr>\n",
       "    <tr>\n",
       "      <td>Emma</td>\n",
       "      <td>14.36</td>\n",
       "      <td>12.50</td>\n",
       "      <td>1.86</td>\n",
       "    </tr>\n",
       "    <tr>\n",
       "      <td>Emma</td>\n",
       "      <td>14.99</td>\n",
       "      <td>12.50</td>\n",
       "      <td>2.49</td>\n",
       "    </tr>\n",
       "    <tr>\n",
       "      <td>Emma</td>\n",
       "      <td>15.63</td>\n",
       "      <td>12.50</td>\n",
       "      <td>3.13</td>\n",
       "    </tr>\n",
       "    <tr>\n",
       "      <td>Emma</td>\n",
       "      <td>16.25</td>\n",
       "      <td>12.50</td>\n",
       "      <td>3.75</td>\n",
       "    </tr>\n",
       "    <tr>\n",
       "      <td>Emma</td>\n",
       "      <td>17.26</td>\n",
       "      <td>12.50</td>\n",
       "      <td>4.76</td>\n",
       "    </tr>\n",
       "    <tr>\n",
       "      <td>Emma</td>\n",
       "      <td>18.18</td>\n",
       "      <td>12.50</td>\n",
       "      <td>5.68</td>\n",
       "    </tr>\n",
       "    <tr>\n",
       "      <td>Emma</td>\n",
       "      <td>18.21</td>\n",
       "      <td>12.50</td>\n",
       "      <td>5.71</td>\n",
       "    </tr>\n",
       "    <tr>\n",
       "      <td>Pride and Prejudice</td>\n",
       "      <td>14.63</td>\n",
       "      <td>13.00</td>\n",
       "      <td>1.63</td>\n",
       "    </tr>\n",
       "    <tr>\n",
       "      <td>Pride and Prejudice</td>\n",
       "      <td>14.84</td>\n",
       "      <td>13.00</td>\n",
       "      <td>1.84</td>\n",
       "    </tr>\n",
       "    <tr>\n",
       "      <td>Pride and Prejudice</td>\n",
       "      <td>15.57</td>\n",
       "      <td>13.00</td>\n",
       "      <td>2.57</td>\n",
       "    </tr>\n",
       "    <tr>\n",
       "      <td>Pride and Prejudice</td>\n",
       "      <td>16.93</td>\n",
       "      <td>13.00</td>\n",
       "      <td>3.93</td>\n",
       "    </tr>\n",
       "    <tr>\n",
       "      <td>Pride and Prejudice</td>\n",
       "      <td>17.54</td>\n",
       "      <td>13.00</td>\n",
       "      <td>4.54</td>\n",
       "    </tr>\n",
       "    <tr>\n",
       "      <td>Pride and Prejudice</td>\n",
       "      <td>17.59</td>\n",
       "      <td>13.00</td>\n",
       "      <td>4.59</td>\n",
       "    </tr>\n",
       "    <tr>\n",
       "      <td>Pride and Prejudice</td>\n",
       "      <td>18.62</td>\n",
       "      <td>13.00</td>\n",
       "      <td>5.62</td>\n",
       "    </tr>\n",
       "    <tr>\n",
       "      <td>Pride and Prejudice</td>\n",
       "      <td>18.82</td>\n",
       "      <td>13.00</td>\n",
       "      <td>5.82</td>\n",
       "    </tr>\n",
       "    <tr>\n",
       "      <td>Romeo and Juliet</td>\n",
       "      <td>8.98</td>\n",
       "      <td>7.50</td>\n",
       "      <td>1.48</td>\n",
       "    </tr>\n",
       "    <tr>\n",
       "      <td>Romeo and Juliet</td>\n",
       "      <td>9.14</td>\n",
       "      <td>7.50</td>\n",
       "      <td>1.64</td>\n",
       "    </tr>\n",
       "    <tr>\n",
       "      <td>Romeo and Juliet</td>\n",
       "      <td>10.28</td>\n",
       "      <td>7.50</td>\n",
       "      <td>2.78</td>\n",
       "    </tr>\n",
       "    <tr>\n",
       "      <td>Romeo and Juliet</td>\n",
       "      <td>10.74</td>\n",
       "      <td>7.50</td>\n",
       "      <td>3.24</td>\n",
       "    </tr>\n",
       "    <tr>\n",
       "      <td>Romeo and Juliet</td>\n",
       "      <td>10.92</td>\n",
       "      <td>7.50</td>\n",
       "      <td>3.42</td>\n",
       "    </tr>\n",
       "    <tr>\n",
       "      <td>Romeo and Juliet</td>\n",
       "      <td>10.95</td>\n",
       "      <td>7.50</td>\n",
       "      <td>3.45</td>\n",
       "    </tr>\n",
       "    <tr>\n",
       "      <td>Hamlet</td>\n",
       "      <td>7.67</td>\n",
       "      <td>6.95</td>\n",
       "      <td>0.72</td>\n",
       "    </tr>\n",
       "    <tr>\n",
       "      <td>Hamlet</td>\n",
       "      <td>7.96</td>\n",
       "      <td>6.95</td>\n",
       "      <td>1.01</td>\n",
       "    </tr>\n",
       "    <tr>\n",
       "      <td>Hamlet</td>\n",
       "      <td>8.06</td>\n",
       "      <td>6.95</td>\n",
       "      <td>1.11</td>\n",
       "    </tr>\n",
       "    <tr>\n",
       "      <td>Hamlet</td>\n",
       "      <td>8.29</td>\n",
       "      <td>6.95</td>\n",
       "      <td>1.34</td>\n",
       "    </tr>\n",
       "    <tr>\n",
       "      <td>Hamlet</td>\n",
       "      <td>8.78</td>\n",
       "      <td>6.95</td>\n",
       "      <td>1.83</td>\n",
       "    </tr>\n",
       "    <tr>\n",
       "      <td>Hamlet</td>\n",
       "      <td>9.00</td>\n",
       "      <td>6.95</td>\n",
       "      <td>2.05</td>\n",
       "    </tr>\n",
       "    <tr>\n",
       "      <td>Hamlet</td>\n",
       "      <td>9.21</td>\n",
       "      <td>6.95</td>\n",
       "      <td>2.26</td>\n",
       "    </tr>\n",
       "    <tr>\n",
       "      <td>Hamlet</td>\n",
       "      <td>9.26</td>\n",
       "      <td>6.95</td>\n",
       "      <td>2.31</td>\n",
       "    </tr>\n",
       "    <tr>\n",
       "      <td>Hamlet</td>\n",
       "      <td>9.91</td>\n",
       "      <td>6.95</td>\n",
       "      <td>2.96</td>\n",
       "    </tr>\n",
       "    <tr>\n",
       "      <td>Hamlet</td>\n",
       "      <td>10.34</td>\n",
       "      <td>6.95</td>\n",
       "      <td>3.39</td>\n",
       "    </tr>\n",
       "    <tr>\n",
       "      <td>Macbeth</td>\n",
       "      <td>8.08</td>\n",
       "      <td>11.10</td>\n",
       "      <td>-3.02</td>\n",
       "    </tr>\n",
       "    <tr>\n",
       "      <td>Macbeth</td>\n",
       "      <td>8.14</td>\n",
       "      <td>11.10</td>\n",
       "      <td>-2.96</td>\n",
       "    </tr>\n",
       "    <tr>\n",
       "      <td>Macbeth</td>\n",
       "      <td>8.19</td>\n",
       "      <td>11.10</td>\n",
       "      <td>-2.91</td>\n",
       "    </tr>\n",
       "    <tr>\n",
       "      <td>Macbeth</td>\n",
       "      <td>8.24</td>\n",
       "      <td>11.10</td>\n",
       "      <td>-2.86</td>\n",
       "    </tr>\n",
       "    <tr>\n",
       "      <td>Macbeth</td>\n",
       "      <td>8.64</td>\n",
       "      <td>11.10</td>\n",
       "      <td>-2.46</td>\n",
       "    </tr>\n",
       "    <tr>\n",
       "      <td>Macbeth</td>\n",
       "      <td>8.68</td>\n",
       "      <td>11.10</td>\n",
       "      <td>-2.42</td>\n",
       "    </tr>\n",
       "    <tr>\n",
       "      <td>Macbeth</td>\n",
       "      <td>8.90</td>\n",
       "      <td>11.10</td>\n",
       "      <td>-2.20</td>\n",
       "    </tr>\n",
       "    <tr>\n",
       "      <td>Macbeth</td>\n",
       "      <td>9.06</td>\n",
       "      <td>11.10</td>\n",
       "      <td>-2.04</td>\n",
       "    </tr>\n",
       "    <tr>\n",
       "      <td>Macbeth</td>\n",
       "      <td>9.55</td>\n",
       "      <td>11.10</td>\n",
       "      <td>-1.55</td>\n",
       "    </tr>\n",
       "    <tr>\n",
       "      <td>Macbeth</td>\n",
       "      <td>9.62</td>\n",
       "      <td>11.10</td>\n",
       "      <td>-1.48</td>\n",
       "    </tr>\n",
       "    <tr>\n",
       "      <td>Macbeth</td>\n",
       "      <td>10.38</td>\n",
       "      <td>11.10</td>\n",
       "      <td>-0.72</td>\n",
       "    </tr>\n",
       "    <tr>\n",
       "      <td>The Sound and the Fury</td>\n",
       "      <td>9.83</td>\n",
       "      <td>8.50</td>\n",
       "      <td>1.33</td>\n",
       "    </tr>\n",
       "    <tr>\n",
       "      <td>The Sound and the Fury</td>\n",
       "      <td>9.97</td>\n",
       "      <td>8.50</td>\n",
       "      <td>1.47</td>\n",
       "    </tr>\n",
       "    <tr>\n",
       "      <td>The Sound and the Fury</td>\n",
       "      <td>10.06</td>\n",
       "      <td>8.50</td>\n",
       "      <td>1.56</td>\n",
       "    </tr>\n",
       "    <tr>\n",
       "      <td>The Sound and the Fury</td>\n",
       "      <td>10.29</td>\n",
       "      <td>8.50</td>\n",
       "      <td>1.79</td>\n",
       "    </tr>\n",
       "    <tr>\n",
       "      <td>The Sound and the Fury</td>\n",
       "      <td>10.64</td>\n",
       "      <td>8.50</td>\n",
       "      <td>2.14</td>\n",
       "    </tr>\n",
       "    <tr>\n",
       "      <td>The Sound and the Fury</td>\n",
       "      <td>10.77</td>\n",
       "      <td>8.50</td>\n",
       "      <td>2.27</td>\n",
       "    </tr>\n",
       "    <tr>\n",
       "      <td>The Sound and the Fury</td>\n",
       "      <td>10.77</td>\n",
       "      <td>8.50</td>\n",
       "      <td>2.27</td>\n",
       "    </tr>\n",
       "    <tr>\n",
       "      <td>The Sound and the Fury</td>\n",
       "      <td>11.11</td>\n",
       "      <td>8.50</td>\n",
       "      <td>2.61</td>\n",
       "    </tr>\n",
       "    <tr>\n",
       "      <td>The Sound and the Fury</td>\n",
       "      <td>11.56</td>\n",
       "      <td>8.50</td>\n",
       "      <td>3.06</td>\n",
       "    </tr>\n",
       "    <tr>\n",
       "      <td>The Sound and the Fury</td>\n",
       "      <td>11.61</td>\n",
       "      <td>8.50</td>\n",
       "      <td>3.11</td>\n",
       "    </tr>\n",
       "    <tr>\n",
       "      <td>The Sound and the Fury</td>\n",
       "      <td>12.21</td>\n",
       "      <td>8.50</td>\n",
       "      <td>3.71</td>\n",
       "    </tr>\n",
       "    <tr>\n",
       "      <td>The Sound and the Fury</td>\n",
       "      <td>12.52</td>\n",
       "      <td>8.50</td>\n",
       "      <td>4.02</td>\n",
       "    </tr>\n",
       "    <tr>\n",
       "      <td>The Sound and the Fury</td>\n",
       "      <td>12.61</td>\n",
       "      <td>8.50</td>\n",
       "      <td>4.11</td>\n",
       "    </tr>\n",
       "    <tr>\n",
       "      <td>Absalom! Absalom!</td>\n",
       "      <td>6.24</td>\n",
       "      <td>5.15</td>\n",
       "      <td>1.09</td>\n",
       "    </tr>\n",
       "    <tr>\n",
       "      <td>Absalom! Absalom!</td>\n",
       "      <td>6.31</td>\n",
       "      <td>5.15</td>\n",
       "      <td>1.16</td>\n",
       "    </tr>\n",
       "    <tr>\n",
       "      <td>Absalom! Absalom!</td>\n",
       "      <td>6.44</td>\n",
       "      <td>5.15</td>\n",
       "      <td>1.29</td>\n",
       "    </tr>\n",
       "    <tr>\n",
       "      <td>Absalom! Absalom!</td>\n",
       "      <td>6.92</td>\n",
       "      <td>5.15</td>\n",
       "      <td>1.77</td>\n",
       "    </tr>\n",
       "  </tbody>\n",
       "</table>"
      ],
      "text/plain": [
       "<IPython.core.display.HTML object>"
      ]
     },
     "metadata": {},
     "output_type": "display_data"
    }
   ],
   "source": [
    "op_q_b = widgets.Button(description='Run', width='10em', height='2.5em', color='white',background_color='black', border_color='black')\n",
    "display(op_q_b)\n",
    "run_q(op_q, op_q_b)"
   ]
  },
  {
   "cell_type": "markdown",
   "metadata": {},
   "source": [
    "### Quick Exercise:\n",
    "1. Give the calculated column the alias **`gross_grofit`**, rerun.  See how nice aliases are?\n",
    "2. Add a **`WHERE`** clause to only see transactions where **`gross_grofit`** is over $5, rerun.  \n",
    "3. Add an **`ORDER BY`** clause to sort by **`gross_profit`** with the most profitable transaction is listed first, rerun. \n",
    "\n",
    "____\n",
    "### Challenge:\n",
    "- Pull book name and author's last name\n",
    "- Calculate the gross margin per transaction, give the calculated column the alias **`gross_margin`**\n",
    "- Use one-letter aliases for all the table names\n",
    "- Only return rows where the author's name is NOT Faulkner or Austen\n",
    "- Sort your results with the highest margin transaction listed first \n",
    "- Limit your results to 10 rows"
   ]
  },
  {
   "cell_type": "code",
   "execution_count": 130,
   "metadata": {
    "collapsed": true
   },
   "outputs": [],
   "source": [
    "op_chall = widgets.Textarea(value='',width = '50em', height = '18em')\n",
    "display(op_chall) "
   ]
  },
  {
   "cell_type": "code",
   "execution_count": 131,
   "metadata": {
    "collapsed": false
   },
   "outputs": [],
   "source": [
    "op_chall_b = widgets.Button(description='Run', width='10em', height='2.5em', color='white',background_color='black', border_color='black')\n",
    "display(op_chall_b)\n",
    "run_q(op_chall, op_chall_b)"
   ]
  },
  {
   "cell_type": "code",
   "execution_count": 132,
   "metadata": {
    "collapsed": false
   },
   "outputs": [],
   "source": [
    "op_chall_c ='''SELECT\n",
    "    B.book,\n",
    "    B.author,\n",
    "    (S.revenue - B.cogs) / S.revenue AS gross_margin\n",
    "FROM\n",
    "    book_table B\n",
    "    JOIN sales_table S ON B.book = S.book\n",
    "WHERE\n",
    "    B.author NOT IN ('Falkner', 'Austen')\n",
    "ORDER BY\n",
    "    gross_margin DESC\n",
    "LIMIT 10'''\n",
    "cheat(op_chall_c) "
   ]
  },
  {
   "cell_type": "markdown",
   "metadata": {},
   "source": [
    "# Concatonating\n",
    "<font color='#1f5fd6'>Microsoft SQL Server | <font color='#1f5fd6'>MySQL | <font color='#1f5fd6'>Oracle | <font color='#1f5fd6'>SQLite </font>\n",
    ":------------------: | :---: | :----: | :----:\n",
    "`CONCAT(column_a, column_b)` or `+`  | `CONCAT(column_a, column_b)` | `CONCAT(column_a, column_b)` or &#124;&#124; | &#124;&#124;\n",
    "\n",
    "> **`SELECT` <br>\n",
    "&nbsp;&nbsp;&nbsp;&nbsp;&nbsp; `column_a || column_b,`** &nbsp;&nbsp;&nbsp;&nbsp;&nbsp;&nbsp;&nbsp;&nbsp;&nbsp;&nbsp;&nbsp;&nbsp;&nbsp;&nbsp;&nbsp;&nbsp;&nbsp;&nbsp;&nbsp;&nbsp;&nbsp;&nbsp;&nbsp;&nbsp;&nbsp;&nbsp;&nbsp;&nbsp; ➞ *combines the characters of column_a & column_b *<br>\n",
    "**&nbsp;&nbsp;&nbsp;&nbsp;&nbsp; `column_a || ' ' || column_b`** &nbsp;&nbsp;&nbsp;&nbsp;&nbsp;&nbsp;&nbsp;&nbsp;&nbsp;&nbsp;&nbsp;&nbsp;&nbsp;&nbsp;&nbsp; ➞ * combines the characters of column_a & column_b with a space inbetween *<br>\n",
    "**`FROM` <br>\n",
    "&nbsp;&nbsp;&nbsp;&nbsp;&nbsp; `table_name`**\n",
    "\n",
    "This one is extremely straightforward.  This allows you to non-mathematically combine values. So \"**`some || word`**\" becomes \"**`someword`**\", and \"**`some || ' ' || word`**\" becomes \"**`some word`**\". "
   ]
  },
  {
   "cell_type": "code",
   "execution_count": 133,
   "metadata": {
    "collapsed": true
   },
   "outputs": [],
   "source": [
    "conc_q = widgets.Textarea(value=\n",
    "'''SELECT\n",
    "    first_name || last_name\n",
    "FROM \n",
    "    auth_table''',\n",
    "width = '50em', height = '7em')\n",
    "display(conc_q) "
   ]
  },
  {
   "cell_type": "code",
   "execution_count": 134,
   "metadata": {
    "collapsed": false
   },
   "outputs": [
    {
     "data": {
      "text/html": [
       "<table border=\"1\" class=\"dataframe\">\n",
       "  <thead>\n",
       "    <tr style=\"text-align: right;\">\n",
       "      <th>first_name || last_name</th>\n",
       "    </tr>\n",
       "  </thead>\n",
       "  <tbody>\n",
       "    <tr>\n",
       "      <td>WilliamFaulkner</td>\n",
       "    </tr>\n",
       "    <tr>\n",
       "      <td>ErnestHemingway</td>\n",
       "    </tr>\n",
       "    <tr>\n",
       "      <td>JaneAusten</td>\n",
       "    </tr>\n",
       "    <tr>\n",
       "      <td>WilliamShakespeare</td>\n",
       "    </tr>\n",
       "  </tbody>\n",
       "</table>"
      ],
      "text/plain": [
       "<IPython.core.display.HTML object>"
      ]
     },
     "metadata": {},
     "output_type": "display_data"
    }
   ],
   "source": [
    "conc_b = widgets.Button(description='Run', width='10em', height='2.5em', color='white',background_color='black', border_color='black')\n",
    "display(conc_b)\n",
    "run_q(conc_q, conc_b)"
   ]
  },
  {
   "cell_type": "markdown",
   "metadata": {},
   "source": [
    "### Quick Exercises:\n",
    "1. Fix the query so that there is a space between the names, rerun\n",
    "2. Give the concatenated column an alias, rerun\n",
    "3. Rewrite the query so that it follows the format \"last_name, first_name\" instead"
   ]
  },
  {
   "cell_type": "markdown",
   "metadata": {},
   "source": [
    "__________\n",
    "___________\n",
    "___________\n",
    "<a id='functions'></a>\n",
    "<center>\n",
    "[Previous](#operators) &nbsp;&nbsp;&nbsp;&nbsp;&nbsp;  | &nbsp;&nbsp;&nbsp;&nbsp;&nbsp; [Table of Contents](#table_of_contents) &nbsp;&nbsp;&nbsp;&nbsp;&nbsp; |  &nbsp;&nbsp;&nbsp;&nbsp;&nbsp; [Next](#group_by)\n",
    "</center>\n",
    "![functions](http://i.imgur.com/akkqlFl.png)\n",
    "\n",
    "> **`SELECT`** <br>\n",
    "&nbsp;&nbsp;&nbsp;&nbsp;&nbsp; **`SOME_FUNCTION(column_a),`**&nbsp;&nbsp;&nbsp;&nbsp;&nbsp;&nbsp;&nbsp;&nbsp;&nbsp;&nbsp;&nbsp;&nbsp;&nbsp;&nbsp;&nbsp;&nbsp;&nbsp;&nbsp;&nbsp;&nbsp;&nbsp;&nbsp;&nbsp;&nbsp;&nbsp;&nbsp;&nbsp;&nbsp;&nbsp;&nbsp;&nbsp;&nbsp;&nbsp;&nbsp; ➞ performs the function on the column <br>\n",
    "**`FROM`** <br>\n",
    "&nbsp;&nbsp;&nbsp;&nbsp;&nbsp; **`table_name`**<br>\n",
    "`[WHERE clause]` <br>\n",
    "`[ORDER BY clause]`  <br>\n",
    "`[LIMIT clause]`  <br>\n",
    "\n",
    "[Functions](http://www.w3schools.com/sql/sql_functions.asp) work similar to funcitons in Excel - you can apply them to entire columns. There are tons more functions than the ones listed below, just Google what you want to do to find more. \n",
    "\n",
    "#### Short List of Functions:\n",
    "FUNCTION | DESCRIPTION \n",
    ":------- | :------------- \n",
    "`AVG(col)` | Averages values \n",
    "`COUNT(col)` | Counts the number of rows with non-null values in the column\n",
    "`COUNT(*)` | Counts the number of rows in the table\n",
    "`COUNT(DISTINCT(col))` | Counts the number of unique values in the column\n",
    "`GROUP_CONCAT(col, 'separator')` | Returns a comma-separated list of values, specify a separator in quotes\n",
    "`MAX(col)` | Returns the maximum value\n",
    "`MIN(col)` | Returns the minimum value \n",
    "`ROUND(AVG(col), x)` | Rounds value to x decimals\n",
    "`SUM(col)` | Sums values\n",
    "`UPPER(col)` | If column is text, it will return all-caps version of the text\n",
    "\n",
    "\n",
    "First, we'll start with **`SUM()`** to find the total revenue for all our transactions."
   ]
  },
  {
   "cell_type": "code",
   "execution_count": 135,
   "metadata": {
    "collapsed": true
   },
   "outputs": [],
   "source": [
    "sum_q = widgets.Textarea(value=\n",
    "'''SELECT\n",
    "    sum(revenue)\n",
    "FROM\n",
    "    sales_table''',\n",
    "width = '50em', height = '17em')\n",
    "display(sum_q) "
   ]
  },
  {
   "cell_type": "code",
   "execution_count": 136,
   "metadata": {
    "collapsed": false
   },
   "outputs": [
    {
     "data": {
      "text/html": [
       "<table border=\"1\" class=\"dataframe\">\n",
       "  <thead>\n",
       "    <tr style=\"text-align: right;\">\n",
       "      <th>sum(revenue)</th>\n",
       "    </tr>\n",
       "  </thead>\n",
       "  <tbody>\n",
       "    <tr>\n",
       "      <td>1291.15</td>\n",
       "    </tr>\n",
       "  </tbody>\n",
       "</table>"
      ],
      "text/plain": [
       "<IPython.core.display.HTML object>"
      ]
     },
     "metadata": {},
     "output_type": "display_data"
    }
   ],
   "source": [
    "sum_b = widgets.Button(description='Run', width='10em', height='2.5em', color='white',background_color='black', border_color='black')\n",
    "display(sum_b)\n",
    "run_q(sum_q, sum_b) "
   ]
  },
  {
   "cell_type": "markdown",
   "metadata": {},
   "source": [
    "### Quick Exercises:\n",
    "1. Give the calculated column an alias, rerun\n",
    "2. Add a line to the **`SELECT`** clause to find the average revenue per transaction and give the column an alias, rerun\n",
    "3. Edit the average column so that your results are rounded to the nearest cent, rerun\n",
    "4. Add a line to the **`SELECT`** clause to count the total number of transactions and give the column an alias, rerun\n",
    "5. Add a 2 lines to the **`SELECT`** clause to see the minimum and maximum revenue earned on a single transaction, rerun\n",
    "6. Add a line to the **`SELECT`** clause to see a count of the number of *distinct* books that appear in **`sales_table`**\n",
    "7. Add a **`WHERE`** clause to only see results for the books \"For Whom the Bell Tolls\" and \"Emma\""
   ]
  },
  {
   "cell_type": "code",
   "execution_count": 137,
   "metadata": {
    "collapsed": false
   },
   "outputs": [],
   "source": [
    "sum_q_c ='''SELECT\n",
    "    SUM(revenue) AS total_rev,\n",
    "    ROUND(AVG(revenue), 2) AS avg_rev,\n",
    "    COUNT(revenue) AS total_transactions,\n",
    "    MAX(revenue) AS max_rev,\n",
    "    MIN(revenue) AS min_rev,\n",
    "    COUNT(DISTINCT(book)) AS distinct_books\n",
    "FROM\n",
    "    sales_table\n",
    "WHERE \n",
    "    book IN ('For Whom the Bell Tolls', 'Emma') '''\n",
    "cheat(sum_q_c) "
   ]
  },
  {
   "cell_type": "markdown",
   "metadata": {},
   "source": [
    "______\n",
    "### Challenge:\n",
    "Write a query to find the average cost of goods for books whose authors are from the US (**`USA`**). Round the number to the nearest cent. Use an alias for your column."
   ]
  },
  {
   "cell_type": "code",
   "execution_count": 138,
   "metadata": {
    "collapsed": true
   },
   "outputs": [],
   "source": [
    "function_chall = widgets.Textarea(value='', width = '50em', height = '11em')\n",
    "display(function_chall) "
   ]
  },
  {
   "cell_type": "code",
   "execution_count": 139,
   "metadata": {
    "collapsed": false
   },
   "outputs": [],
   "source": [
    "function_chall_b = widgets.Button(description='Run', width='10em', height='2.5em', color='white',background_color='black', border_color='black')\n",
    "display(function_chall_b)\n",
    "run_q(function_chall, function_chall_b)"
   ]
  },
  {
   "cell_type": "code",
   "execution_count": 140,
   "metadata": {
    "collapsed": false
   },
   "outputs": [],
   "source": [
    "function_chall_c ='''SELECT\n",
    "    ROUND(AVG(B.cogs), 2) AS avg_cogs\n",
    "FROM\n",
    "    book_table B\n",
    "    JOIN auth_table A ON B.author = A.last_name \n",
    "WHERE\n",
    "    A.country = 'USA'\n",
    "'''\n",
    "cheat(function_chall_c) "
   ]
  },
  {
   "cell_type": "markdown",
   "metadata": {},
   "source": [
    "________\n",
    "### Challenge:  \n",
    "Try out the **`GROUP_CONCAT`** function.  Write a query to select **`GROUP_CONCAT(last_name)`** from the **`auth_table`**, only return results where the author is NEITHER Austen NOR Shakespeare. After you get your query to work, change it to **`GROUP_CONCAT(last_name, ' / ')`** and rerun."
   ]
  },
  {
   "cell_type": "code",
   "execution_count": 141,
   "metadata": {
    "collapsed": true
   },
   "outputs": [],
   "source": [
    "function_chall2 = widgets.Textarea(value='',width = '50em', height = '10em')\n",
    "display(function_chall2) "
   ]
  },
  {
   "cell_type": "code",
   "execution_count": 142,
   "metadata": {
    "collapsed": false
   },
   "outputs": [],
   "source": [
    "function_chall2_b = widgets.Button(description='Run', width='10em', height='2.5em', color='white',background_color='black', border_color='black')\n",
    "display(function_chall2_b)\n",
    "run_q(function_chall2, function_chall2_b)"
   ]
  },
  {
   "cell_type": "code",
   "execution_count": 143,
   "metadata": {
    "collapsed": false
   },
   "outputs": [],
   "source": [
    "function_chall2_c ='''SELECT \n",
    "    GROUP_CONCAT(last_name)\n",
    "FROM\n",
    "    auth_table\n",
    "WHERE\n",
    "    last_name NOT IN ('Austen', 'Shakespeare')\n",
    "'''\n",
    "cheat(function_chall2_c) "
   ]
  },
  {
   "cell_type": "markdown",
   "metadata": {},
   "source": [
    "#  `COUNT(*)` vs `COUNT(column_name)`"
   ]
  },
  {
   "cell_type": "code",
   "execution_count": 144,
   "metadata": {
    "collapsed": false
   },
   "outputs": [],
   "source": [
    "insert_null_b = widgets.Button(description='Click here JUST ONCE before starting', width='20em', height='3em', color='white',background_color='#1f5fd6', border_color='#1f5fd6')\n",
    "display(insert_null_b)\n",
    "def insert_button(b):\n",
    "    null_query1 = '''INSERT INTO auth_table VALUES ('Homer', NULL, 'Greece', NULL)'''\n",
    "    run(null_query1)\n",
    "    print('A new row has been added to the auth_table!')\n",
    "insert_null_b.on_click(insert_button)"
   ]
  },
  {
   "cell_type": "markdown",
   "metadata": {},
   "source": [
    "It's much more common to use **`COUNT(*)`** than **`COUNT(column_name)`** when you are trying to get a count of the number of rows in your result-set.  This is because **`COUNT(*)`** will capture all rows, while **`COUNT(column_name)`** will skip over NULL values in that particular row. \n",
    "\n",
    "### Challenge:\n",
    "We've just added new a new row to the **`auth_table`** that has some NULL (blank) values. Start by writing a query to view everything (`SELECT *`) in the **`auth_table`** and make a note of the new row."
   ]
  },
  {
   "cell_type": "code",
   "execution_count": 145,
   "metadata": {
    "collapsed": true
   },
   "outputs": [],
   "source": [
    "star_chall = widgets.Textarea(value='', width = '50em', height = '12em')\n",
    "display(star_chall) "
   ]
  },
  {
   "cell_type": "code",
   "execution_count": 146,
   "metadata": {
    "collapsed": false
   },
   "outputs": [],
   "source": [
    "star_chall_b = widgets.Button(description='Run', width='10em', height='2.5em', color='white',background_color='black', border_color='black')\n",
    "display(star_chall_b)\n",
    "run_q(star_chall, star_chall_b)"
   ]
  },
  {
   "cell_type": "markdown",
   "metadata": {},
   "source": [
    "### Challenge Continued...\n",
    "1. Delete **`*`** and replace it with **`COUNT(first_name)`**, rerun \n",
    "2.  Add a line (but don't erase anything) to the `SELECT` clause: **`COUNT(*)`**"
   ]
  },
  {
   "cell_type": "code",
   "execution_count": 147,
   "metadata": {
    "collapsed": false
   },
   "outputs": [],
   "source": [
    "star_chall_c ='''SELECT \n",
    "    COUNT(first_name),\n",
    "    COUNT(*)\n",
    "FROM \n",
    "    auth_table\n",
    "'''\n",
    "cheat(star_chall_c) "
   ]
  },
  {
   "cell_type": "markdown",
   "metadata": {},
   "source": [
    "### What's going on:\n",
    "When you use `COUNT(first_name)`, SQL skipped over the Homer row because there was no value in the first_name column. `COUNT(*)`, on the other hand, looks across all columns, so as long as a row has a value in at least one column, it'll get included in the count. You might argue that you could just use `country` or `last_name`, but they fact is that **`*`** is just way easier and less time-consuming to type out.  **Overwhelmingly, people opt for `COUNT(*)` instead of `COUNT(column_name)`** unless they are interested in overlooking NULL values."
   ]
  },
  {
   "cell_type": "markdown",
   "metadata": {},
   "source": [
    "_______\n",
    "# Functions + Operators\n",
    "\n",
    "You can use functions together with operators to do more complex calculations.  Below, we've calculated our total gross profit using both the `SUM()` function and subtraction:"
   ]
  },
  {
   "cell_type": "code",
   "execution_count": 148,
   "metadata": {
    "collapsed": true
   },
   "outputs": [],
   "source": [
    "fun_op_q = widgets.Textarea(value=\n",
    "'''SELECT\n",
    "    SUM(S.revenue) - SUM(B.cogs) AS gross_profit\n",
    "FROM\n",
    "    book_table B\n",
    "    JOIN sales_table S ON S.book = B.book''',\n",
    "width = '50em', height = '8em')\n",
    "display(fun_op_q) "
   ]
  },
  {
   "cell_type": "code",
   "execution_count": 149,
   "metadata": {
    "collapsed": false
   },
   "outputs": [
    {
     "data": {
      "text/html": [
       "<table border=\"1\" class=\"dataframe\">\n",
       "  <thead>\n",
       "    <tr style=\"text-align: right;\">\n",
       "      <th>gross_profit</th>\n",
       "    </tr>\n",
       "  </thead>\n",
       "  <tbody>\n",
       "    <tr>\n",
       "      <td>249.3</td>\n",
       "    </tr>\n",
       "  </tbody>\n",
       "</table>"
      ],
      "text/plain": [
       "<IPython.core.display.HTML object>"
      ]
     },
     "metadata": {},
     "output_type": "display_data"
    }
   ],
   "source": [
    "fun_op_b = widgets.Button(description='Run', width='10em', height='2.5em', color='white',background_color='black', border_color='black')\n",
    "display(fun_op_b)\n",
    "run_q(fun_op_q, fun_op_b)"
   ]
  },
  {
   "cell_type": "markdown",
   "metadata": {},
   "source": [
    "### Quick Exercise: \n",
    "Rewrite the `SELECT` clause so that you get the same results but only have to use `SUM` once."
   ]
  },
  {
   "cell_type": "markdown",
   "metadata": {},
   "source": [
    "___________\n",
    "### Challenge:\n",
    "Write a query to view gross *margin* for all transactions using functions in conjunction with operators.  Extra credit: round your results to the nearest cent. "
   ]
  },
  {
   "cell_type": "code",
   "execution_count": 150,
   "metadata": {
    "collapsed": true
   },
   "outputs": [],
   "source": [
    "fun_op_chall = widgets.Textarea(value='', width = '50em', height = '8em')\n",
    "display(fun_op_chall) "
   ]
  },
  {
   "cell_type": "code",
   "execution_count": 151,
   "metadata": {
    "collapsed": false
   },
   "outputs": [],
   "source": [
    "fun_op_chall_b = widgets.Button(description='Run', width='10em', height='2.5em', color='white',background_color='black', border_color='black')\n",
    "display(fun_op_chall_b)\n",
    "run_q(fun_op_chall, fun_op_chall_b)"
   ]
  },
  {
   "cell_type": "code",
   "execution_count": 152,
   "metadata": {
    "collapsed": false
   },
   "outputs": [],
   "source": [
    "fun_op_chall_c ='''SELECT\n",
    "    SUM(S.revenue - B.cogs) / SUM(S.revenue) AS gross_margin\n",
    "FROM\n",
    "    book_table B\n",
    "    JOIN sales_table S ON S.book = B.book\n",
    "\n",
    "- OR - you can use AVG() instead of SUM() for all functions'''\n",
    "cheat(fun_op_chall_c) "
   ]
  },
  {
   "cell_type": "markdown",
   "metadata": {},
   "source": [
    "__________\n",
    "___________\n",
    "___________\n",
    "<a id='group_by'></a>\n",
    "<center>\n",
    "[Previous](#functions) &nbsp;&nbsp;&nbsp;&nbsp;&nbsp;  | &nbsp;&nbsp;&nbsp;&nbsp;&nbsp; [Table of Contents](#table_of_contents) &nbsp;&nbsp;&nbsp;&nbsp;&nbsp; |  &nbsp;&nbsp;&nbsp;&nbsp;&nbsp; [Next](#having)\n",
    "</center>\n",
    "![group by](http://i.imgur.com/knxe9R3.png)\n",
    "\n",
    "> **`SELECT`** <br>\n",
    "&nbsp;&nbsp;&nbsp;&nbsp;&nbsp; **`column_a,`**                      \n",
    "&nbsp;&nbsp;&nbsp;&nbsp;&nbsp; **`SUM(column_b)`**  &nbsp;&nbsp;&nbsp;&nbsp;&nbsp;&nbsp;&nbsp;&nbsp;&nbsp;&nbsp;&nbsp;&nbsp;&nbsp;&nbsp;&nbsp;&nbsp;  ➞ sums up the values in column_b <br>\n",
    "**`FROM`** <br>\n",
    "&nbsp;&nbsp;&nbsp;&nbsp;&nbsp; **`table_name`** <br>\n",
    "`[WHERE clause]`  <br>\n",
    "**`GROUP BY`** &nbsp;&nbsp;&nbsp;&nbsp;&nbsp;&nbsp;&nbsp;&nbsp;&nbsp;&nbsp;&nbsp;&nbsp;&nbsp;&nbsp;&nbsp;&nbsp;&nbsp;&nbsp;&nbsp;&nbsp;&nbsp;&nbsp;&nbsp;&nbsp;&nbsp;&nbsp;&nbsp;&nbsp;&nbsp;&nbsp;&nbsp;&nbsp;&nbsp;  ➞ creates one group for each unique value in column_a  <br>\n",
    "&nbsp;&nbsp;&nbsp;&nbsp;&nbsp;**`column_a`** <br>\n",
    "`[ORDER BY clause]` <br>\n",
    "`[LIMIT clause]`\n",
    "\n",
    "\n",
    "[**`GROUP BY`**](http://www.w3schools.com/sql/sql_groupby.asp) creates a group for each unique value in the column you specify. You'll always use it in conjunction with functions - it creates segments for your results. In plain English, the query below says: \"*Show me the average `revenue` per `book` from the `sales_table`*\""
   ]
  },
  {
   "cell_type": "code",
   "execution_count": 153,
   "metadata": {
    "collapsed": true
   },
   "outputs": [],
   "source": [
    "group_q = widgets.Textarea(value=\n",
    "'''SELECT\n",
    "    book, \n",
    "    AVG(revenue)\n",
    "FROM\n",
    "    sales_table\n",
    "GROUP BY\n",
    "    book''',\n",
    "width = '50em', height = '20em')\n",
    "display(group_q) "
   ]
  },
  {
   "cell_type": "code",
   "execution_count": 154,
   "metadata": {
    "collapsed": false
   },
   "outputs": [
    {
     "data": {
      "text/html": [
       "<table border=\"1\" class=\"dataframe\">\n",
       "  <thead>\n",
       "    <tr style=\"text-align: right;\">\n",
       "      <th>book</th>\n",
       "      <th>AVG(revenue)</th>\n",
       "    </tr>\n",
       "  </thead>\n",
       "  <tbody>\n",
       "    <tr>\n",
       "      <td>A Farewell to Arms</td>\n",
       "      <td>13.832500</td>\n",
       "    </tr>\n",
       "    <tr>\n",
       "      <td>Absalom! Absalom!</td>\n",
       "      <td>6.477500</td>\n",
       "    </tr>\n",
       "    <tr>\n",
       "      <td>Emma</td>\n",
       "      <td>15.856667</td>\n",
       "    </tr>\n",
       "    <tr>\n",
       "      <td>For Whom the Bell Tolls</td>\n",
       "      <td>17.300000</td>\n",
       "    </tr>\n",
       "    <tr>\n",
       "      <td>Hamlet</td>\n",
       "      <td>8.848000</td>\n",
       "    </tr>\n",
       "    <tr>\n",
       "      <td>Macbeth</td>\n",
       "      <td>8.861818</td>\n",
       "    </tr>\n",
       "    <tr>\n",
       "      <td>Pride and Prejudice</td>\n",
       "      <td>16.817500</td>\n",
       "    </tr>\n",
       "    <tr>\n",
       "      <td>Romeo and Juliet</td>\n",
       "      <td>10.168333</td>\n",
       "    </tr>\n",
       "    <tr>\n",
       "      <td>Sense and Sensibility</td>\n",
       "      <td>14.435000</td>\n",
       "    </tr>\n",
       "    <tr>\n",
       "      <td>The Sound and the Fury</td>\n",
       "      <td>11.073077</td>\n",
       "    </tr>\n",
       "    <tr>\n",
       "      <td>The Sun Also Rises</td>\n",
       "      <td>14.848182</td>\n",
       "    </tr>\n",
       "  </tbody>\n",
       "</table>"
      ],
      "text/plain": [
       "<IPython.core.display.HTML object>"
      ]
     },
     "metadata": {},
     "output_type": "display_data"
    }
   ],
   "source": [
    "group_b = widgets.Button(description='Run', width='10em', height='2.5em', color='white',background_color='black', border_color='black')\n",
    "display(group_b)\n",
    "run_q(group_q, group_b)"
   ]
  },
  {
   "cell_type": "markdown",
   "metadata": {},
   "source": [
    "### Quick Exercises:\n",
    "1. Change **`AVG()`** to **`SUM()`**, rerun\n",
    "2. Give the **`book`** column the alias **`book_title`**, then use the alias in the **`GROUP BY`** clause, rerun\n",
    "3. Sort the results so that the most profitable book is listed first, rerun\n",
    "4. Add this to the **`SELECT`** clause: **`COUNT(*)`**, rerun\n",
    "5. Add a **`WHERE`** clause to only return results that are **not** written by Faulkner (hint: you'll have to join a table for this)\n",
    "\n",
    "_________\n",
    "### Challenge:\n",
    "Write a query to count the number of books each author has listed in the **`book_table`**."
   ]
  },
  {
   "cell_type": "code",
   "execution_count": 155,
   "metadata": {
    "collapsed": true
   },
   "outputs": [],
   "source": [
    "group_chall = widgets.Textarea(value='', width = '50em', height = '12em')\n",
    "display(group_chall) "
   ]
  },
  {
   "cell_type": "code",
   "execution_count": 156,
   "metadata": {
    "collapsed": false
   },
   "outputs": [],
   "source": [
    "group_chall_b = widgets.Button(description='Run', width='10em', height='2.5em', color='white',background_color='black', border_color='black')\n",
    "display(group_chall_b)\n",
    "run_q(group_chall, group_chall_b)"
   ]
  },
  {
   "cell_type": "code",
   "execution_count": 157,
   "metadata": {
    "collapsed": false
   },
   "outputs": [],
   "source": [
    "group_chall_c ='''SELECT \n",
    "    author, \n",
    "    count(*)\n",
    "FROM\n",
    "    book_table\n",
    "GROUP BY \n",
    "    author'''\n",
    "cheat(group_chall_c) "
   ]
  },
  {
   "cell_type": "markdown",
   "metadata": {},
   "source": [
    "______\n",
    "### Challenge:\n",
    "Write a query that joins the **`book_table`** and the **`sales_table`** to see total revenue per author. "
   ]
  },
  {
   "cell_type": "code",
   "execution_count": 158,
   "metadata": {
    "collapsed": true
   },
   "outputs": [],
   "source": [
    "group_chall2 = widgets.Textarea(value='', width = '50em', height = '12em')\n",
    "display(group_chall2) "
   ]
  },
  {
   "cell_type": "code",
   "execution_count": 159,
   "metadata": {
    "collapsed": false
   },
   "outputs": [],
   "source": [
    "group_chall2_b = widgets.Button(description='Run', width='10em', height='2.5em', color='white',background_color='black', border_color='black')\n",
    "display(group_chall2_b)\n",
    "run_q(group_chall2, group_chall2_b)"
   ]
  },
  {
   "cell_type": "code",
   "execution_count": 160,
   "metadata": {
    "collapsed": false
   },
   "outputs": [],
   "source": [
    "group_chall2_c ='''SELECT\n",
    "    B.author,\n",
    "    SUM(S.revenue)\n",
    "FROM\n",
    "    book_table B\n",
    "    JOIN sales_table S ON B.book = S.book \n",
    "GROUP BY\n",
    "    B.author'''\n",
    "cheat(group_chall2_c) "
   ]
  },
  {
   "cell_type": "markdown",
   "metadata": {
    "collapsed": true
   },
   "source": [
    "____\n",
    "### Challenge:\n",
    "Write a query to see the maximum and minimum prices that each book sold for, but don't include Macbeth or Hamlet in your result-set:"
   ]
  },
  {
   "cell_type": "code",
   "execution_count": 161,
   "metadata": {
    "collapsed": true
   },
   "outputs": [],
   "source": [
    "group_chall3 = widgets.Textarea(value='',width = '50em', height = '15em')\n",
    "display(group_chall3) "
   ]
  },
  {
   "cell_type": "code",
   "execution_count": 162,
   "metadata": {
    "collapsed": false
   },
   "outputs": [],
   "source": [
    "group_chall3_b = widgets.Button(description='Run', width='10em', height='2.5em', color='white',background_color='black', border_color='black')\n",
    "display(group_chall3_b)\n",
    "run_q(group_chall3, group_chall3_b)"
   ]
  },
  {
   "cell_type": "code",
   "execution_count": 163,
   "metadata": {
    "collapsed": false
   },
   "outputs": [],
   "source": [
    "group_chall3_c ='''SELECT\n",
    "    book, \n",
    "    MAX(revenue), \n",
    "    MIN(revenue)\n",
    "FROM\n",
    "    sales_table\n",
    "WHERE\n",
    "    book NOT IN ('Macbeth','Hamlet')\n",
    "GROUP BY\n",
    "    book'''\n",
    "cheat(group_chall3_c) "
   ]
  },
  {
   "cell_type": "markdown",
   "metadata": {},
   "source": [
    "______\n",
    "______\n",
    "# `GROUP BY` + Functions + Operators\n",
    "\n",
    "You can use `GROUP BY` with functions and operators to do more complex analysis. Below, we use `SUM()` and the subtraction operator to see gross profit for each book. "
   ]
  },
  {
   "cell_type": "code",
   "execution_count": 164,
   "metadata": {
    "collapsed": true
   },
   "outputs": [],
   "source": [
    "group_fun_op_q = widgets.Textarea(value=\n",
    "'''SELECT\n",
    "    B.book,\n",
    "    SUM(S.revenue) - SUM(B.cogs) AS gross_profit\n",
    "FROM \n",
    "    sales_table S \n",
    "    JOIN book_table B ON S.book = B.book\n",
    "GROUP BY \n",
    "    B.book''',\n",
    "width = '50em', height = '12em')\n",
    "display(group_fun_op_q) "
   ]
  },
  {
   "cell_type": "code",
   "execution_count": 165,
   "metadata": {
    "collapsed": false
   },
   "outputs": [
    {
     "data": {
      "text/html": [
       "<table border=\"1\" class=\"dataframe\">\n",
       "  <thead>\n",
       "    <tr style=\"text-align: right;\">\n",
       "      <th>book</th>\n",
       "      <th>gross_profit</th>\n",
       "    </tr>\n",
       "  </thead>\n",
       "  <tbody>\n",
       "    <tr>\n",
       "      <td>A Farewell to Arms</td>\n",
       "      <td>27.86</td>\n",
       "    </tr>\n",
       "    <tr>\n",
       "      <td>Absalom! Absalom!</td>\n",
       "      <td>5.31</td>\n",
       "    </tr>\n",
       "    <tr>\n",
       "      <td>Emma</td>\n",
       "      <td>30.21</td>\n",
       "    </tr>\n",
       "    <tr>\n",
       "      <td>For Whom the Bell Tolls</td>\n",
       "      <td>45.60</td>\n",
       "    </tr>\n",
       "    <tr>\n",
       "      <td>Hamlet</td>\n",
       "      <td>18.98</td>\n",
       "    </tr>\n",
       "    <tr>\n",
       "      <td>Macbeth</td>\n",
       "      <td>-24.62</td>\n",
       "    </tr>\n",
       "    <tr>\n",
       "      <td>Pride and Prejudice</td>\n",
       "      <td>30.54</td>\n",
       "    </tr>\n",
       "    <tr>\n",
       "      <td>Romeo and Juliet</td>\n",
       "      <td>16.01</td>\n",
       "    </tr>\n",
       "    <tr>\n",
       "      <td>Sense and Sensibility</td>\n",
       "      <td>27.48</td>\n",
       "    </tr>\n",
       "    <tr>\n",
       "      <td>The Sound and the Fury</td>\n",
       "      <td>33.45</td>\n",
       "    </tr>\n",
       "    <tr>\n",
       "      <td>The Sun Also Rises</td>\n",
       "      <td>38.48</td>\n",
       "    </tr>\n",
       "  </tbody>\n",
       "</table>"
      ],
      "text/plain": [
       "<IPython.core.display.HTML object>"
      ]
     },
     "metadata": {},
     "output_type": "display_data"
    }
   ],
   "source": [
    "group_fun_op_b = widgets.Button(description='Run', width='10em', height='2.5em', color='white',background_color='black', border_color='black')\n",
    "display(group_fun_op_b)\n",
    "run_q(group_fun_op_q, group_fun_op_b)"
   ]
  },
  {
   "cell_type": "markdown",
   "metadata": {},
   "source": [
    "________\n",
    "### Challenge:\n",
    "Write a query to find the gross margin per author using **`GROUP BY`, functions and operators.** Give the gross margin column an alias. "
   ]
  },
  {
   "cell_type": "code",
   "execution_count": 166,
   "metadata": {
    "collapsed": true
   },
   "outputs": [],
   "source": [
    "group_func_op_chall = widgets.Textarea(value='', width = '50em', height = '13em')\n",
    "display(group_func_op_chall) "
   ]
  },
  {
   "cell_type": "code",
   "execution_count": 167,
   "metadata": {
    "collapsed": false
   },
   "outputs": [],
   "source": [
    "group_func_op_chall_b = widgets.Button(description='Run', width='10em', height='2.5em', color='white',background_color='black', border_color='black')\n",
    "display(group_func_op_chall_b)\n",
    "run_q(group_func_op_chall, group_func_op_chall_b)"
   ]
  },
  {
   "cell_type": "code",
   "execution_count": 168,
   "metadata": {
    "collapsed": false
   },
   "outputs": [],
   "source": [
    "group_func_op_chall_c ='''SELECT \n",
    "    B.author,\n",
    "    (SUM(S.revenue) - SUM(B.cogs)) / SUM(S.revenue) AS gross_margin\n",
    "FROM\n",
    "    book_table B \n",
    "    JOIN sales_table S ON B.book = S.book\n",
    "GROUP BY \n",
    "    B.author'''\n",
    "cheat(group_func_op_chall_c) "
   ]
  },
  {
   "cell_type": "markdown",
   "metadata": {},
   "source": [
    "_______\n",
    "### Challenge:\n",
    "- Copy and paste the query you just wrote for the previous challenge.   \n",
    "- Add the following columns in the **`SELECT`** clause (in addition to author and gross margin columns), and give every column an alias:\n",
    "    - total revenue\n",
    "    - total cogs\n",
    "    - a count of the number of individual transactions\n",
    "    - BONUS: a count of the distinct book titles sold\n",
    "    - BONUS: a comma-separated list of the book titles with no repeats\n",
    "- Only include results where the author isn't Faulker and the book isn't Hamlet\n",
    "- Sort your results so that the author with the highest average gross margin is listed first"
   ]
  },
  {
   "cell_type": "code",
   "execution_count": 169,
   "metadata": {
    "collapsed": true
   },
   "outputs": [],
   "source": [
    "group_chall3 = widgets.Textarea(value='', width = '50em', height = '26em')\n",
    "display(group_chall3) "
   ]
  },
  {
   "cell_type": "code",
   "execution_count": 170,
   "metadata": {
    "collapsed": false
   },
   "outputs": [],
   "source": [
    "group_chall3_b = widgets.Button(description='Run', width='10em', height='2.5em', color='white',background_color='black', border_color='black')\n",
    "display(group_chall3_b)\n",
    "run_q(group_chall3, group_chall3_b)"
   ]
  },
  {
   "cell_type": "code",
   "execution_count": 171,
   "metadata": {
    "collapsed": true
   },
   "outputs": [],
   "source": [
    "group_chall3_c ='''SELECT\n",
    "    B.author AS author_name,\n",
    "    SUM(S.revenue) AS total_revenue,\n",
    "    SUM(B.cogs) AS total_cogs,\n",
    "    (SUM(S.revenue) - SUM(B.cogs))/SUM(S.revenue) AS gross_margin,\n",
    "    COUNT(*) AS transaction_count,\n",
    "    COUNT(DISTINCT(S.book)) AS distinct_book_titles,\n",
    "    GROUP_CONCAT(DISTINCT(S.book)) AS book_list\n",
    "FROM\n",
    "    book_table B\n",
    "    JOIN sales_table S ON B.book = S.book\n",
    "WHERE \n",
    "    author_name != 'Faulkner'\n",
    "    AND S.book != 'Hamlet'\n",
    "GROUP BY\n",
    "    author_name\n",
    "ORDER BY\n",
    "    gross_margin DESC'''\n",
    "cheat(group_chall3_c) "
   ]
  },
  {
   "cell_type": "markdown",
   "metadata": {},
   "source": [
    "__________\n",
    "___________\n",
    "___________\n",
    "<a id='having'></a>\n",
    "<center>\n",
    "[Previous](#group_by) &nbsp;&nbsp;&nbsp;&nbsp;&nbsp;  | &nbsp;&nbsp;&nbsp;&nbsp;&nbsp; [Table of Contents](#table_of_contents) &nbsp;&nbsp;&nbsp;&nbsp;&nbsp; |  &nbsp;&nbsp;&nbsp;&nbsp;&nbsp; [Next](#case_when)\n",
    "</center>\n",
    "![having](http://i.imgur.com/FwgS8y9.png)\n",
    "\n",
    "> **`SELECT`** <br>\n",
    "&nbsp;&nbsp;&nbsp;&nbsp;&nbsp; **`column_a,`** <br>\n",
    "&nbsp;&nbsp;&nbsp;&nbsp;&nbsp; **`FUNCTION(column_b)`** <br>\n",
    "**`FROM`** <br>\n",
    "&nbsp;&nbsp;&nbsp;&nbsp;&nbsp; **`table_name`** <br>\n",
    "`[WHERE clause]` <br>\n",
    "**`GROUP BY`** <br>\n",
    "&nbsp;&nbsp;&nbsp;&nbsp;&nbsp; **`column_a HAVING FUNCTION(column_b) > x`**  &nbsp;&nbsp;&nbsp;&nbsp;&nbsp;&nbsp;&nbsp;&nbsp;&nbsp;&nbsp;&nbsp;&nbsp;&nbsp;&nbsp;&nbsp;  ➞ returns groups whose value is greater than x <br>\n",
    "`[ORDER BY clause]` <br>\n",
    "`[LIMIT clause]` <br>\n",
    "\n",
    "Use [**`HAVING`**](http://www.w3schools.com/sql/sql_having.asp) with `GROUP BY` in order to filter out groups that don't meet your criteria.  Below, the plain English translation of this query says, \"*show my the total revenue for each book, but only show me books that have total revenue over $100*\""
   ]
  },
  {
   "cell_type": "code",
   "execution_count": 172,
   "metadata": {
    "collapsed": true
   },
   "outputs": [],
   "source": [
    "having_q = widgets.Textarea(value=\n",
    "'''SELECT\n",
    "    book, \n",
    "    SUM(revenue)\n",
    "FROM\n",
    "    sales_table\n",
    "GROUP BY\n",
    "    book HAVING SUM(revenue) > 100''',\n",
    "width = '50em', height = '11em')\n",
    "display(having_q) "
   ]
  },
  {
   "cell_type": "code",
   "execution_count": 173,
   "metadata": {
    "collapsed": false
   },
   "outputs": [
    {
     "data": {
      "text/html": [
       "<table border=\"1\" class=\"dataframe\">\n",
       "  <thead>\n",
       "    <tr style=\"text-align: right;\">\n",
       "      <th>book</th>\n",
       "      <th>SUM(revenue)</th>\n",
       "    </tr>\n",
       "  </thead>\n",
       "  <tbody>\n",
       "    <tr>\n",
       "      <td>A Farewell to Arms</td>\n",
       "      <td>110.66</td>\n",
       "    </tr>\n",
       "    <tr>\n",
       "      <td>Emma</td>\n",
       "      <td>142.71</td>\n",
       "    </tr>\n",
       "    <tr>\n",
       "      <td>For Whom the Bell Tolls</td>\n",
       "      <td>207.60</td>\n",
       "    </tr>\n",
       "    <tr>\n",
       "      <td>Pride and Prejudice</td>\n",
       "      <td>134.54</td>\n",
       "    </tr>\n",
       "    <tr>\n",
       "      <td>Sense and Sensibility</td>\n",
       "      <td>115.48</td>\n",
       "    </tr>\n",
       "    <tr>\n",
       "      <td>The Sound and the Fury</td>\n",
       "      <td>143.95</td>\n",
       "    </tr>\n",
       "    <tr>\n",
       "      <td>The Sun Also Rises</td>\n",
       "      <td>163.33</td>\n",
       "    </tr>\n",
       "  </tbody>\n",
       "</table>"
      ],
      "text/plain": [
       "<IPython.core.display.HTML object>"
      ]
     },
     "metadata": {},
     "output_type": "display_data"
    }
   ],
   "source": [
    "having_b = widgets.Button(description='Run', width='10em', height='2.5em', color='white',background_color='black', border_color='black')\n",
    "display(having_b)\n",
    "run_q(having_q, having_b)"
   ]
  },
  {
   "cell_type": "markdown",
   "metadata": {},
   "source": [
    "### Quick Exercises:\n",
    "1. Change the > to <, rerun\n",
    "2. Give the **`SUM(revenue)`** column an alias, and change the **`GROUP BY`** clause so that you're using the alias instead, rerun\n",
    "3. Think about why this is different from **`WHERE`**. Take a moment to discuss this with your partner in class. "
   ]
  },
  {
   "cell_type": "markdown",
   "metadata": {},
   "source": [
    "____\n",
    "### Challenge:\n",
    "Write a query to see average COGs per author, but use `HAVING` to return authors whose average COGs is greater than $10.  Assign the average COGs column an alias and use it in the `GROUP BY` clause."
   ]
  },
  {
   "cell_type": "code",
   "execution_count": 174,
   "metadata": {
    "collapsed": true
   },
   "outputs": [],
   "source": [
    "having_chall = widgets.Textarea(value='',width = '50em', height = '10em')\n",
    "display(having_chall) "
   ]
  },
  {
   "cell_type": "code",
   "execution_count": 175,
   "metadata": {
    "collapsed": false
   },
   "outputs": [],
   "source": [
    "having_chall_b = widgets.Button(description='Run', width='10em', height='2.5em', color='white',background_color='black', border_color='black')\n",
    "display(having_chall_b)\n",
    "run_q(having_chall, having_chall_b)"
   ]
  },
  {
   "cell_type": "code",
   "execution_count": 176,
   "metadata": {
    "collapsed": false
   },
   "outputs": [],
   "source": [
    "having_chall_c ='''SELECT \n",
    "    author,\n",
    "    AVG(cogs) AS avg_cogs\n",
    "FROM\n",
    "    book_table\n",
    "GROUP BY\n",
    "    author HAVING avg_cogs > 10'''\n",
    "cheat(having_chall_c) "
   ]
  },
  {
   "cell_type": "markdown",
   "metadata": {},
   "source": [
    "### `HAVING` vs. `WHERE`\n",
    "`HAVING` and `WHERE` both let you change the results you see in your result-set, but they operate quite differently. Take a look at the query below. It looks at the average cogs per author, but uses a `WHERE` clause to filter out 'Faulkner':"
   ]
  },
  {
   "cell_type": "code",
   "execution_count": 177,
   "metadata": {
    "collapsed": true
   },
   "outputs": [],
   "source": [
    "hw_q1 = widgets.Textarea(value=\n",
    "'''SELECT \n",
    "    author,\n",
    "    AVG(cogs)\n",
    "FROM\n",
    "    book_table\n",
    "WHERE \n",
    "    author != 'Faulkner'\n",
    "GROUP BY\n",
    "    author''',\n",
    "width = '50em', height = '14em')\n",
    "display(hw_q1) "
   ]
  },
  {
   "cell_type": "code",
   "execution_count": 178,
   "metadata": {
    "collapsed": false
   },
   "outputs": [
    {
     "data": {
      "text/html": [
       "<table border=\"1\" class=\"dataframe\">\n",
       "  <thead>\n",
       "    <tr style=\"text-align: right;\">\n",
       "      <th>author</th>\n",
       "      <th>AVG(cogs)</th>\n",
       "    </tr>\n",
       "  </thead>\n",
       "  <tbody>\n",
       "    <tr>\n",
       "      <td>Austen</td>\n",
       "      <td>12.166667</td>\n",
       "    </tr>\n",
       "    <tr>\n",
       "      <td>Hemingway</td>\n",
       "      <td>11.733333</td>\n",
       "    </tr>\n",
       "    <tr>\n",
       "      <td>Shakespeare</td>\n",
       "      <td>8.516667</td>\n",
       "    </tr>\n",
       "  </tbody>\n",
       "</table>"
      ],
      "text/plain": [
       "<IPython.core.display.HTML object>"
      ]
     },
     "metadata": {},
     "output_type": "display_data"
    }
   ],
   "source": [
    "hw_b1 = widgets.Button(description='Run', width='10em', height='2.5em', color='white',background_color='black', border_color='black')\n",
    "display(hw_b1)\n",
    "run_q(hw_q1, hw_b1)"
   ]
  },
  {
   "cell_type": "markdown",
   "metadata": {},
   "source": [
    "### Quick Exercise: \n",
    "Now let's say you want to filter out Faulkner AND you only want to see authors whose average COGs are over $11.  Your first thought might be to use the `WHERE` clause.  Add `AND AVG(cogs) > 11`, rerun. Why do you think you're hitting an error?\n",
    "\n",
    "______\n",
    "You hit an error because the `AVG(cogs)` column was created by a function, and SQL doesn't let you put function-generated columns in the `WHERE` clause. You have to use `HAVING` instead. The query below will accomplish what we're trying to do, and returns a result-set that doesn't include Faulkner AND only shows authors whose average COGs are over $11. "
   ]
  },
  {
   "cell_type": "code",
   "execution_count": 179,
   "metadata": {
    "collapsed": true
   },
   "outputs": [],
   "source": [
    "hw_q2 = widgets.Textarea(value=\n",
    "'''SELECT \n",
    "    author,\n",
    "    AVG(cogs)\n",
    "FROM\n",
    "    book_table\n",
    "WHERE \n",
    "    author != 'Faulkner'\n",
    "GROUP BY\n",
    "    author HAVING AVG(cogs) > 11''',\n",
    "width = '50em', height = '14em')\n",
    "display(hw_q2) "
   ]
  },
  {
   "cell_type": "code",
   "execution_count": 180,
   "metadata": {
    "collapsed": false
   },
   "outputs": [
    {
     "data": {
      "text/html": [
       "<table border=\"1\" class=\"dataframe\">\n",
       "  <thead>\n",
       "    <tr style=\"text-align: right;\">\n",
       "      <th>author</th>\n",
       "      <th>AVG(cogs)</th>\n",
       "    </tr>\n",
       "  </thead>\n",
       "  <tbody>\n",
       "    <tr>\n",
       "      <td>Austen</td>\n",
       "      <td>12.166667</td>\n",
       "    </tr>\n",
       "    <tr>\n",
       "      <td>Hemingway</td>\n",
       "      <td>11.733333</td>\n",
       "    </tr>\n",
       "  </tbody>\n",
       "</table>"
      ],
      "text/plain": [
       "<IPython.core.display.HTML object>"
      ]
     },
     "metadata": {},
     "output_type": "display_data"
    }
   ],
   "source": [
    "hw_b2 = widgets.Button(description='Run', width='10em', height='2.5em', color='white',background_color='black', border_color='black')\n",
    "display(hw_b2)\n",
    "run_q(hw_q2, hw_b2)"
   ]
  },
  {
   "cell_type": "markdown",
   "metadata": {},
   "source": [
    "This seems relatively straightforward - but it's easy to forget and wind up with inaccurate results. Consider the following query. Why would this be wrong?"
   ]
  },
  {
   "cell_type": "code",
   "execution_count": 181,
   "metadata": {
    "collapsed": true
   },
   "outputs": [],
   "source": [
    "hw_q3 = widgets.Textarea(value=\n",
    "'''SELECT \n",
    "    author,\n",
    "    AVG(cogs)\n",
    "FROM\n",
    "    book_table\n",
    "WHERE \n",
    "    author != 'Faulkner'\n",
    "    AND cogs > 11\n",
    "GROUP BY\n",
    "    author''',\n",
    "width = '50em', height = '15em')\n",
    "display(hw_q3) "
   ]
  },
  {
   "cell_type": "code",
   "execution_count": 182,
   "metadata": {
    "collapsed": false
   },
   "outputs": [
    {
     "data": {
      "text/html": [
       "<table border=\"1\" class=\"dataframe\">\n",
       "  <thead>\n",
       "    <tr style=\"text-align: right;\">\n",
       "      <th>author</th>\n",
       "      <th>AVG(cogs)</th>\n",
       "    </tr>\n",
       "  </thead>\n",
       "  <tbody>\n",
       "    <tr>\n",
       "      <td>Austen</td>\n",
       "      <td>12.750</td>\n",
       "    </tr>\n",
       "    <tr>\n",
       "      <td>Hemingway</td>\n",
       "      <td>12.425</td>\n",
       "    </tr>\n",
       "    <tr>\n",
       "      <td>Shakespeare</td>\n",
       "      <td>11.100</td>\n",
       "    </tr>\n",
       "  </tbody>\n",
       "</table>"
      ],
      "text/plain": [
       "<IPython.core.display.HTML object>"
      ]
     },
     "metadata": {},
     "output_type": "display_data"
    }
   ],
   "source": [
    "hw_b3 = widgets.Button(description='Run', width='10em', height='2.5em', color='white',background_color='black', border_color='black')\n",
    "display(hw_b3)\n",
    "run_q(hw_q3, hw_b3)"
   ]
  },
  {
   "cell_type": "markdown",
   "metadata": {},
   "source": [
    "These results are inaccurate because instead of telling SQL to only return authors with average COGs over \\$11, we've told SQL \"only consider rows where COGs are over \\$11\".  SQL dropped the rows with COGs under \\$11 *before* it started grouping and averaging. \n",
    "\n",
    "### SQL's Order of Execution \n",
    "When we read, we start at the top of a page and work our way to the bottom. That's not how SQL works. It actually starts with the `FROM` clause and jumps around.  It's helpful to understand the order it follows to determine when to use `HAVING` and when to use `WHERE`.\n",
    "\n",
    "<!--  This will also help clear up some other issues. Ever wonder why you can mention a column in the `WHERE` clause that you don't mention in the `SELECT` clause? Or why SQL knows the table alias that you're referring to in the `SELECT` clause even though you don't assign aliases to tables until later in the query? This is why.-->\n",
    "\n",
    "We *write* the clauses in this order:\n",
    "> `SELECT` <br>\n",
    "`FROM` <br>\n",
    "&nbsp;&nbsp;&nbsp;&nbsp;&nbsp; `JOIN...ON` <br>\n",
    "`WHERE` <br>\n",
    "`GROUP BY...HAVING` <br>\n",
    "`ORDER BY` <br>\n",
    "`LIMIT` <br>\n",
    "\n",
    "However, SQL *reads and executes* the clauses in this order:\n",
    "> `FROM` <br>\n",
    "&nbsp;&nbsp;&nbsp;&nbsp;&nbsp; `JOIN...ON` <br>\n",
    "`WHERE` <br>\n",
    "`SELECT` <br>\n",
    "`GROUP BY...HAVING` <br>\n",
    "`ORDER BY` <br>\n",
    "`LIMIT` <br>\n",
    "\n",
    "Here's a query we've seen before, but now we've added a few more clauses so that we can see all of them in action:"
   ]
  },
  {
   "cell_type": "code",
   "execution_count": 183,
   "metadata": {
    "collapsed": true
   },
   "outputs": [],
   "source": [
    "sql_order_q = widgets.Textarea(value=\n",
    "'''SELECT \n",
    "    author,\n",
    "    AVG(cogs)\n",
    "FROM\n",
    "    book_table\n",
    "WHERE \n",
    "    author != 'Faulkner'\n",
    "GROUP BY\n",
    "    author HAVING AVG(cogs) > 11\n",
    "ORDER BY \n",
    "    AVG(cogs)\n",
    "LIMIT 3''',\n",
    "width = '50em', height = '17.5em')\n",
    "display(sql_order_q) "
   ]
  },
  {
   "cell_type": "code",
   "execution_count": 184,
   "metadata": {
    "collapsed": false
   },
   "outputs": [
    {
     "data": {
      "text/html": [
       "<table border=\"1\" class=\"dataframe\">\n",
       "  <thead>\n",
       "    <tr style=\"text-align: right;\">\n",
       "      <th>author</th>\n",
       "      <th>AVG(cogs)</th>\n",
       "    </tr>\n",
       "  </thead>\n",
       "  <tbody>\n",
       "    <tr>\n",
       "      <td>Hemingway</td>\n",
       "      <td>11.733333</td>\n",
       "    </tr>\n",
       "    <tr>\n",
       "      <td>Austen</td>\n",
       "      <td>12.166667</td>\n",
       "    </tr>\n",
       "  </tbody>\n",
       "</table>"
      ],
      "text/plain": [
       "<IPython.core.display.HTML object>"
      ]
     },
     "metadata": {},
     "output_type": "display_data"
    }
   ],
   "source": [
    "sql_order_b = widgets.Button(description='Run', width='10em', height='2.5em', color='white',background_color='black', border_color='black')\n",
    "display(sql_order_b)\n",
    "run_q(sql_order_q, sql_order_b)"
   ]
  },
  {
   "cell_type": "markdown",
   "metadata": {},
   "source": [
    "The GIF below shows the order that SQL follows the steps:\n",
    "![order](http://i.imgur.com/5ROErFu.gif)"
   ]
  },
  {
   "cell_type": "markdown",
   "metadata": {},
   "source": [
    "Let's revisit the query that gave us the skewed average:"
   ]
  },
  {
   "cell_type": "code",
   "execution_count": 185,
   "metadata": {
    "collapsed": true
   },
   "outputs": [],
   "source": [
    "hw_q4 = widgets.Textarea(value=\n",
    "'''SELECT \n",
    "    author,\n",
    "    AVG(cogs)\n",
    "FROM\n",
    "    book_table\n",
    "WHERE \n",
    "    author != 'Faulkner'\n",
    "    AND cogs > 11\n",
    "GROUP BY\n",
    "    author''',\n",
    "width = '50em', height = '15em')\n",
    "display(hw_q4) "
   ]
  },
  {
   "cell_type": "code",
   "execution_count": 186,
   "metadata": {
    "collapsed": false
   },
   "outputs": [
    {
     "data": {
      "text/html": [
       "<table border=\"1\" class=\"dataframe\">\n",
       "  <thead>\n",
       "    <tr style=\"text-align: right;\">\n",
       "      <th>author</th>\n",
       "      <th>AVG(cogs)</th>\n",
       "    </tr>\n",
       "  </thead>\n",
       "  <tbody>\n",
       "    <tr>\n",
       "      <td>Austen</td>\n",
       "      <td>12.750</td>\n",
       "    </tr>\n",
       "    <tr>\n",
       "      <td>Hemingway</td>\n",
       "      <td>12.425</td>\n",
       "    </tr>\n",
       "    <tr>\n",
       "      <td>Shakespeare</td>\n",
       "      <td>11.100</td>\n",
       "    </tr>\n",
       "  </tbody>\n",
       "</table>"
      ],
      "text/plain": [
       "<IPython.core.display.HTML object>"
      ]
     },
     "metadata": {},
     "output_type": "display_data"
    }
   ],
   "source": [
    "hw_b4 = widgets.Button(description='Run', width='10em', height='2.5em', color='white',background_color='black', border_color='black')\n",
    "display(hw_b4)\n",
    "run_q(hw_q4, hw_b4)"
   ]
  },
  {
   "cell_type": "markdown",
   "metadata": {},
   "source": [
    "Now that we know the order in which SQL executes commands, we can see what went wrong. The rows with COGs under $11 were eliminated before SQL averaged COGs for each group:\n",
    "![wrong order](http://i.imgur.com/iYKX6Eq.gif)"
   ]
  },
  {
   "cell_type": "markdown",
   "metadata": {},
   "source": [
    "### Challenge: \n",
    "Write a query to join `book_table` and `sales_table`. Select author and total revenue, but only return authors whose total revenue was over $200"
   ]
  },
  {
   "cell_type": "code",
   "execution_count": 187,
   "metadata": {
    "collapsed": true
   },
   "outputs": [],
   "source": [
    "have_chall2 = widgets.Textarea(value='',width = '50em', height = '12em')\n",
    "display(have_chall2) "
   ]
  },
  {
   "cell_type": "code",
   "execution_count": 188,
   "metadata": {
    "collapsed": false
   },
   "outputs": [],
   "source": [
    "have_chall2_b = widgets.Button(description='Run', width='10em', height='2.5em', color='white',background_color='black', border_color='black')\n",
    "display(have_chall2_b)\n",
    "run_q(have_chall2, have_chall2_b)"
   ]
  },
  {
   "cell_type": "code",
   "execution_count": 189,
   "metadata": {
    "collapsed": true
   },
   "outputs": [],
   "source": [
    "have_chall2_c ='''SELECT\n",
    "    B.author,\n",
    "    SUM(S.revenue) AS total_rev\n",
    "FROM\n",
    "    book_table B\n",
    "    JOIN sales_table S ON B.book = S.book\n",
    "GROUP BY \n",
    "    author HAVING total_rev > 200'''\n",
    "cheat(have_chall2_c) "
   ]
  },
  {
   "cell_type": "markdown",
   "metadata": {},
   "source": [
    "______\n",
    "### Challenge:\n",
    "Write a query to join the `auth_table` with the `sales_table` (remember that this requires multiple joins). Count the number of sales per country (author's country of origin in the `auth_table`), but don't include sales from Hemingway."
   ]
  },
  {
   "cell_type": "code",
   "execution_count": 190,
   "metadata": {
    "collapsed": true
   },
   "outputs": [],
   "source": [
    "have_chall3 = widgets.Textarea(value='', width = '50em', height = '16em')\n",
    "display(have_chall3) "
   ]
  },
  {
   "cell_type": "code",
   "execution_count": 191,
   "metadata": {
    "collapsed": false
   },
   "outputs": [],
   "source": [
    "have_chall3_b = widgets.Button(description='Run', width='10em', height='2.5em', color='white',background_color='black', border_color='black')\n",
    "display(have_chall3_b)\n",
    "run_q(have_chall3, have_chall3_b)"
   ]
  },
  {
   "cell_type": "code",
   "execution_count": 192,
   "metadata": {
    "collapsed": false
   },
   "outputs": [],
   "source": [
    "have_chall3_c ='''SELECT\n",
    "    A.country,\n",
    "    COUNT(*) AS count_of_sales\n",
    "FROM\n",
    "    sales_table S \n",
    "    JOIN book_table B ON S.book = B.book\n",
    "    JOIN auth_table A ON A.last_name = B.author\n",
    "WHERE\n",
    "    A.last_name != 'Hemingway' \n",
    "GROUP BY\n",
    "    A.country\n",
    "    \n",
    "NOTE: you can also use \"B.author != 'Hemingway'\" in the WHERE clause to get the same results'''\n",
    "cheat(have_chall3_c) "
   ]
  },
  {
   "cell_type": "markdown",
   "metadata": {},
   "source": [
    "_________\n",
    "_________\n",
    "_________\n",
    "<a id='case_when'></a>\n",
    "<center>\n",
    "[Previous](#having) &nbsp;&nbsp;&nbsp;&nbsp;&nbsp;  | &nbsp;&nbsp;&nbsp;&nbsp;&nbsp; [Table of Contents](#table_of_contents) &nbsp;&nbsp;&nbsp;&nbsp;&nbsp; |  &nbsp;&nbsp;&nbsp;&nbsp;&nbsp; [Next](#nesting)\n",
    "</center>\n",
    "![if and case](http://i.imgur.com/Ldm03ni.png)\n",
    "\n",
    "Conditional Type | <font color='#1f5fd6'>Microsoft SQL Server | <font color='#1f5fd6'>MySQL | <font color='#1f5fd6'>Oracle | <font color='#1f5fd6'>SQLite </font>\n",
    ":--------------- |:------------------ |:--- |:---- |:----\n",
    "IF | `IF logical_test PRINT value_if_true `  | `IF(logical_test, value_if_true, value_if_false)` (same as Excel) | `IF logical_test THEN value_if_true ELSIF...END IF` | NOT SUPPORTED\n",
    "CASE WHEN | ✓ | ✓ | ✓ | ✓ \n",
    "\n",
    "> **`SELECT`** <br>\n",
    "&nbsp;&nbsp;&nbsp;&nbsp;&nbsp;  **`CASE WHEN some_column = x THEN value_if_true`** <br>\n",
    "&nbsp;&nbsp;&nbsp;&nbsp;&nbsp;  &nbsp;&nbsp;&nbsp;&nbsp;&nbsp;  &nbsp;&nbsp;&nbsp;&nbsp; **`WHEN some_column = y THEN other_value_if_true`** <br>\n",
    "&nbsp;&nbsp;&nbsp;&nbsp;&nbsp;  &nbsp;&nbsp;&nbsp;&nbsp;&nbsp;  &nbsp;&nbsp;&nbsp;&nbsp;  **`ELSE value_if_false`** <br>\n",
    "&nbsp;&nbsp;&nbsp;&nbsp;&nbsp;  &nbsp;&nbsp;&nbsp;&nbsp;&nbsp;  &nbsp;&nbsp;&nbsp;&nbsp;  **`END`** <br>\n",
    "**`FROM`** <br>\n",
    "&nbsp;&nbsp;&nbsp;&nbsp;&nbsp;  **`some_table`** <br>\n",
    "\n",
    "Because SQLite doesn't support `IF` statements, we're going to focus on `CASE WHEN`. `CASE WHEN` lets you accomplish the same thing by setting logical tests and conditional values, but it has the added bonus of freeing you from ever needing to nest multiple `IF` statements. \n",
    "\n",
    "Let's start very simple. The following query uses a logical test to create a column where the value is \"true\" if the author is Austen, and \"false\" if the author is not Austen:"
   ]
  },
  {
   "cell_type": "code",
   "execution_count": 193,
   "metadata": {
    "collapsed": true
   },
   "outputs": [],
   "source": [
    "case1_q = widgets.Textarea(value=\n",
    "'''SELECT \n",
    "    last_name,\n",
    "    CASE WHEN last_name = 'Austen' THEN 'True' \n",
    "        ELSE 'False' \n",
    "        END\n",
    "FROM\n",
    "    auth_table''',\n",
    "width = '50em', height = '13em')\n",
    "display(case1_q) "
   ]
  },
  {
   "cell_type": "code",
   "execution_count": 194,
   "metadata": {
    "collapsed": false
   },
   "outputs": [
    {
     "data": {
      "text/html": [
       "<table border=\"1\" class=\"dataframe\">\n",
       "  <thead>\n",
       "    <tr style=\"text-align: right;\">\n",
       "      <th>last_name</th>\n",
       "      <th>CASE WHEN last_name = 'Austen' THEN 'True'          ELSE 'False'          END</th>\n",
       "    </tr>\n",
       "  </thead>\n",
       "  <tbody>\n",
       "    <tr>\n",
       "      <td>Faulkner</td>\n",
       "      <td>False</td>\n",
       "    </tr>\n",
       "    <tr>\n",
       "      <td>Hemingway</td>\n",
       "      <td>False</td>\n",
       "    </tr>\n",
       "    <tr>\n",
       "      <td>Austen</td>\n",
       "      <td>True</td>\n",
       "    </tr>\n",
       "    <tr>\n",
       "      <td>Shakespeare</td>\n",
       "      <td>False</td>\n",
       "    </tr>\n",
       "  </tbody>\n",
       "</table>"
      ],
      "text/plain": [
       "<IPython.core.display.HTML object>"
      ]
     },
     "metadata": {},
     "output_type": "display_data"
    }
   ],
   "source": [
    "case1_b = widgets.Button(description='Run', width='10em', height='2.5em', color='white',background_color='black', border_color='black')\n",
    "display(case1_b)\n",
    "run_q(case1_q, case1_b)"
   ]
  },
  {
   "cell_type": "markdown",
   "metadata": {},
   "source": [
    "### Quick Exercises:\n",
    "1. Give the `CASE WHEN` column an alias (immediately after `END`), rerun\n",
    "2. Change the query so that instead of \"True\", the query returns Austen's first name (use the first_name column), rerun\n",
    "3. Add something to the `CASE WHEN` column so that the query returns Faulkner's first name as well (look at the example code above for help), rerun.\n",
    "\n",
    "___\n",
    "\n",
    "### Using `CASE WHEN` to create categories\n",
    "`CASE WHEN` allows you to set multiple logical tests, which can help you create buckets or categories.  In Excel, you'd have to nest multiple logical tests in an `IF` statement (ie. IF(logical_test, value_if_true, IF(other_logical_test, value_if_true, value_if_false))...very messy). With `CASE WHEN`, you can add an infinite number very easily.\n",
    "\n",
    "Let's say that rather than caring about the exact revenue for each transaction, you only cared whether it was under \\$10, between  \\$10 and \\$15, or over \\$15. That's easy to do with `CASE WHEN`.  We'll include the `revenue` column as well so you can more easily see what's going on:"
   ]
  },
  {
   "cell_type": "code",
   "execution_count": 195,
   "metadata": {
    "collapsed": true
   },
   "outputs": [],
   "source": [
    "case2_q = widgets.Textarea(value=\n",
    "'''SELECT\n",
    "    book,\n",
    "    revenue,\n",
    "    CASE WHEN revenue < 10 THEN \"<$10\"\n",
    "        WHEN revenue BETWEEN 10 AND 15 THEN \"$10-15\"\n",
    "        WHEN revenue > 15 THEN \">$15\" \n",
    "        END AS revenue_category\n",
    "FROM\n",
    "    sales_table\n",
    "    ''',\n",
    "width = '50em', height = '15em')\n",
    "display(case2_q) "
   ]
  },
  {
   "cell_type": "code",
   "execution_count": 196,
   "metadata": {
    "collapsed": false
   },
   "outputs": [
    {
     "data": {
      "text/html": [
       "<table border=\"1\" class=\"dataframe\">\n",
       "  <thead>\n",
       "    <tr style=\"text-align: right;\">\n",
       "      <th>book</th>\n",
       "      <th>revenue</th>\n",
       "      <th>revenue_category</th>\n",
       "    </tr>\n",
       "  </thead>\n",
       "  <tbody>\n",
       "    <tr>\n",
       "      <td>Absalom! Absalom!</td>\n",
       "      <td>6.44</td>\n",
       "      <td>&lt;$10</td>\n",
       "    </tr>\n",
       "    <tr>\n",
       "      <td>For Whom the Bell Tolls</td>\n",
       "      <td>19.74</td>\n",
       "      <td>&gt;$15</td>\n",
       "    </tr>\n",
       "    <tr>\n",
       "      <td>Macbeth</td>\n",
       "      <td>8.90</td>\n",
       "      <td>&lt;$10</td>\n",
       "    </tr>\n",
       "    <tr>\n",
       "      <td>For Whom the Bell Tolls</td>\n",
       "      <td>19.26</td>\n",
       "      <td>&gt;$15</td>\n",
       "    </tr>\n",
       "    <tr>\n",
       "      <td>The Sound and the Fury</td>\n",
       "      <td>10.64</td>\n",
       "      <td>$10-15</td>\n",
       "    </tr>\n",
       "    <tr>\n",
       "      <td>The Sun Also Rises</td>\n",
       "      <td>13.60</td>\n",
       "      <td>$10-15</td>\n",
       "    </tr>\n",
       "    <tr>\n",
       "      <td>The Sound and the Fury</td>\n",
       "      <td>12.52</td>\n",
       "      <td>$10-15</td>\n",
       "    </tr>\n",
       "    <tr>\n",
       "      <td>Absalom! Absalom!</td>\n",
       "      <td>6.31</td>\n",
       "      <td>&lt;$10</td>\n",
       "    </tr>\n",
       "    <tr>\n",
       "      <td>Hamlet</td>\n",
       "      <td>10.34</td>\n",
       "      <td>$10-15</td>\n",
       "    </tr>\n",
       "    <tr>\n",
       "      <td>The Sun Also Rises</td>\n",
       "      <td>14.51</td>\n",
       "      <td>$10-15</td>\n",
       "    </tr>\n",
       "    <tr>\n",
       "      <td>Pride and Prejudice</td>\n",
       "      <td>14.84</td>\n",
       "      <td>$10-15</td>\n",
       "    </tr>\n",
       "    <tr>\n",
       "      <td>The Sound and the Fury</td>\n",
       "      <td>11.61</td>\n",
       "      <td>$10-15</td>\n",
       "    </tr>\n",
       "    <tr>\n",
       "      <td>Macbeth</td>\n",
       "      <td>8.64</td>\n",
       "      <td>&lt;$10</td>\n",
       "    </tr>\n",
       "    <tr>\n",
       "      <td>For Whom the Bell Tolls</td>\n",
       "      <td>15.82</td>\n",
       "      <td>&gt;$15</td>\n",
       "    </tr>\n",
       "    <tr>\n",
       "      <td>Hamlet</td>\n",
       "      <td>8.06</td>\n",
       "      <td>&lt;$10</td>\n",
       "    </tr>\n",
       "    <tr>\n",
       "      <td>The Sound and the Fury</td>\n",
       "      <td>12.21</td>\n",
       "      <td>$10-15</td>\n",
       "    </tr>\n",
       "    <tr>\n",
       "      <td>Macbeth</td>\n",
       "      <td>10.38</td>\n",
       "      <td>$10-15</td>\n",
       "    </tr>\n",
       "    <tr>\n",
       "      <td>Macbeth</td>\n",
       "      <td>8.24</td>\n",
       "      <td>&lt;$10</td>\n",
       "    </tr>\n",
       "    <tr>\n",
       "      <td>Sense and Sensibility</td>\n",
       "      <td>15.90</td>\n",
       "      <td>&gt;$15</td>\n",
       "    </tr>\n",
       "    <tr>\n",
       "      <td>The Sun Also Rises</td>\n",
       "      <td>15.41</td>\n",
       "      <td>&gt;$15</td>\n",
       "    </tr>\n",
       "    <tr>\n",
       "      <td>Emma</td>\n",
       "      <td>16.25</td>\n",
       "      <td>&gt;$15</td>\n",
       "    </tr>\n",
       "    <tr>\n",
       "      <td>For Whom the Bell Tolls</td>\n",
       "      <td>15.95</td>\n",
       "      <td>&gt;$15</td>\n",
       "    </tr>\n",
       "    <tr>\n",
       "      <td>Hamlet</td>\n",
       "      <td>8.29</td>\n",
       "      <td>&lt;$10</td>\n",
       "    </tr>\n",
       "    <tr>\n",
       "      <td>For Whom the Bell Tolls</td>\n",
       "      <td>18.94</td>\n",
       "      <td>&gt;$15</td>\n",
       "    </tr>\n",
       "    <tr>\n",
       "      <td>Emma</td>\n",
       "      <td>18.21</td>\n",
       "      <td>&gt;$15</td>\n",
       "    </tr>\n",
       "    <tr>\n",
       "      <td>Sense and Sensibility</td>\n",
       "      <td>12.88</td>\n",
       "      <td>$10-15</td>\n",
       "    </tr>\n",
       "    <tr>\n",
       "      <td>Romeo and Juliet</td>\n",
       "      <td>10.74</td>\n",
       "      <td>$10-15</td>\n",
       "    </tr>\n",
       "    <tr>\n",
       "      <td>Absalom! Absalom!</td>\n",
       "      <td>6.24</td>\n",
       "      <td>&lt;$10</td>\n",
       "    </tr>\n",
       "    <tr>\n",
       "      <td>A Farewell to Arms</td>\n",
       "      <td>14.52</td>\n",
       "      <td>$10-15</td>\n",
       "    </tr>\n",
       "    <tr>\n",
       "      <td>Hamlet</td>\n",
       "      <td>7.67</td>\n",
       "      <td>&lt;$10</td>\n",
       "    </tr>\n",
       "    <tr>\n",
       "      <td>Emma</td>\n",
       "      <td>14.36</td>\n",
       "      <td>$10-15</td>\n",
       "    </tr>\n",
       "    <tr>\n",
       "      <td>For Whom the Bell Tolls</td>\n",
       "      <td>16.90</td>\n",
       "      <td>&gt;$15</td>\n",
       "    </tr>\n",
       "    <tr>\n",
       "      <td>Emma</td>\n",
       "      <td>15.63</td>\n",
       "      <td>&gt;$15</td>\n",
       "    </tr>\n",
       "    <tr>\n",
       "      <td>Pride and Prejudice</td>\n",
       "      <td>15.57</td>\n",
       "      <td>&gt;$15</td>\n",
       "    </tr>\n",
       "    <tr>\n",
       "      <td>For Whom the Bell Tolls</td>\n",
       "      <td>16.76</td>\n",
       "      <td>&gt;$15</td>\n",
       "    </tr>\n",
       "    <tr>\n",
       "      <td>The Sun Also Rises</td>\n",
       "      <td>15.08</td>\n",
       "      <td>&gt;$15</td>\n",
       "    </tr>\n",
       "    <tr>\n",
       "      <td>Romeo and Juliet</td>\n",
       "      <td>10.92</td>\n",
       "      <td>$10-15</td>\n",
       "    </tr>\n",
       "    <tr>\n",
       "      <td>The Sun Also Rises</td>\n",
       "      <td>13.62</td>\n",
       "      <td>$10-15</td>\n",
       "    </tr>\n",
       "    <tr>\n",
       "      <td>A Farewell to Arms</td>\n",
       "      <td>13.01</td>\n",
       "      <td>$10-15</td>\n",
       "    </tr>\n",
       "    <tr>\n",
       "      <td>Sense and Sensibility</td>\n",
       "      <td>15.15</td>\n",
       "      <td>&gt;$15</td>\n",
       "    </tr>\n",
       "    <tr>\n",
       "      <td>A Farewell to Arms</td>\n",
       "      <td>14.28</td>\n",
       "      <td>$10-15</td>\n",
       "    </tr>\n",
       "    <tr>\n",
       "      <td>Macbeth</td>\n",
       "      <td>8.14</td>\n",
       "      <td>&lt;$10</td>\n",
       "    </tr>\n",
       "    <tr>\n",
       "      <td>For Whom the Bell Tolls</td>\n",
       "      <td>16.07</td>\n",
       "      <td>&gt;$15</td>\n",
       "    </tr>\n",
       "    <tr>\n",
       "      <td>Hamlet</td>\n",
       "      <td>9.26</td>\n",
       "      <td>&lt;$10</td>\n",
       "    </tr>\n",
       "    <tr>\n",
       "      <td>Pride and Prejudice</td>\n",
       "      <td>16.93</td>\n",
       "      <td>&gt;$15</td>\n",
       "    </tr>\n",
       "    <tr>\n",
       "      <td>The Sound and the Fury</td>\n",
       "      <td>12.61</td>\n",
       "      <td>$10-15</td>\n",
       "    </tr>\n",
       "    <tr>\n",
       "      <td>For Whom the Bell Tolls</td>\n",
       "      <td>18.34</td>\n",
       "      <td>&gt;$15</td>\n",
       "    </tr>\n",
       "    <tr>\n",
       "      <td>The Sound and the Fury</td>\n",
       "      <td>10.77</td>\n",
       "      <td>$10-15</td>\n",
       "    </tr>\n",
       "    <tr>\n",
       "      <td>Sense and Sensibility</td>\n",
       "      <td>13.86</td>\n",
       "      <td>$10-15</td>\n",
       "    </tr>\n",
       "    <tr>\n",
       "      <td>Sense and Sensibility</td>\n",
       "      <td>16.48</td>\n",
       "      <td>&gt;$15</td>\n",
       "    </tr>\n",
       "    <tr>\n",
       "      <td>Pride and Prejudice</td>\n",
       "      <td>17.54</td>\n",
       "      <td>&gt;$15</td>\n",
       "    </tr>\n",
       "    <tr>\n",
       "      <td>Macbeth</td>\n",
       "      <td>9.62</td>\n",
       "      <td>&lt;$10</td>\n",
       "    </tr>\n",
       "    <tr>\n",
       "      <td>A Farewell to Arms</td>\n",
       "      <td>12.23</td>\n",
       "      <td>$10-15</td>\n",
       "    </tr>\n",
       "    <tr>\n",
       "      <td>The Sun Also Rises</td>\n",
       "      <td>14.70</td>\n",
       "      <td>$10-15</td>\n",
       "    </tr>\n",
       "    <tr>\n",
       "      <td>The Sound and the Fury</td>\n",
       "      <td>10.29</td>\n",
       "      <td>$10-15</td>\n",
       "    </tr>\n",
       "    <tr>\n",
       "      <td>For Whom the Bell Tolls</td>\n",
       "      <td>16.93</td>\n",
       "      <td>&gt;$15</td>\n",
       "    </tr>\n",
       "    <tr>\n",
       "      <td>A Farewell to Arms</td>\n",
       "      <td>14.92</td>\n",
       "      <td>$10-15</td>\n",
       "    </tr>\n",
       "    <tr>\n",
       "      <td>The Sun Also Rises</td>\n",
       "      <td>13.87</td>\n",
       "      <td>$10-15</td>\n",
       "    </tr>\n",
       "    <tr>\n",
       "      <td>Pride and Prejudice</td>\n",
       "      <td>17.59</td>\n",
       "      <td>&gt;$15</td>\n",
       "    </tr>\n",
       "    <tr>\n",
       "      <td>The Sun Also Rises</td>\n",
       "      <td>15.05</td>\n",
       "      <td>&gt;$15</td>\n",
       "    </tr>\n",
       "    <tr>\n",
       "      <td>Sense and Sensibility</td>\n",
       "      <td>12.75</td>\n",
       "      <td>$10-15</td>\n",
       "    </tr>\n",
       "    <tr>\n",
       "      <td>Emma</td>\n",
       "      <td>13.82</td>\n",
       "      <td>$10-15</td>\n",
       "    </tr>\n",
       "    <tr>\n",
       "      <td>Sense and Sensibility</td>\n",
       "      <td>12.28</td>\n",
       "      <td>$10-15</td>\n",
       "    </tr>\n",
       "    <tr>\n",
       "      <td>Pride and Prejudice</td>\n",
       "      <td>18.82</td>\n",
       "      <td>&gt;$15</td>\n",
       "    </tr>\n",
       "    <tr>\n",
       "      <td>Macbeth</td>\n",
       "      <td>8.08</td>\n",
       "      <td>&lt;$10</td>\n",
       "    </tr>\n",
       "    <tr>\n",
       "      <td>The Sun Also Rises</td>\n",
       "      <td>16.82</td>\n",
       "      <td>&gt;$15</td>\n",
       "    </tr>\n",
       "    <tr>\n",
       "      <td>Romeo and Juliet</td>\n",
       "      <td>10.95</td>\n",
       "      <td>$10-15</td>\n",
       "    </tr>\n",
       "    <tr>\n",
       "      <td>Macbeth</td>\n",
       "      <td>9.06</td>\n",
       "      <td>&lt;$10</td>\n",
       "    </tr>\n",
       "    <tr>\n",
       "      <td>The Sound and the Fury</td>\n",
       "      <td>9.97</td>\n",
       "      <td>&lt;$10</td>\n",
       "    </tr>\n",
       "    <tr>\n",
       "      <td>The Sound and the Fury</td>\n",
       "      <td>11.56</td>\n",
       "      <td>$10-15</td>\n",
       "    </tr>\n",
       "    <tr>\n",
       "      <td>Pride and Prejudice</td>\n",
       "      <td>14.63</td>\n",
       "      <td>$10-15</td>\n",
       "    </tr>\n",
       "    <tr>\n",
       "      <td>The Sound and the Fury</td>\n",
       "      <td>10.06</td>\n",
       "      <td>$10-15</td>\n",
       "    </tr>\n",
       "    <tr>\n",
       "      <td>A Farewell to Arms</td>\n",
       "      <td>13.56</td>\n",
       "      <td>$10-15</td>\n",
       "    </tr>\n",
       "    <tr>\n",
       "      <td>Absalom! Absalom!</td>\n",
       "      <td>6.92</td>\n",
       "      <td>&lt;$10</td>\n",
       "    </tr>\n",
       "    <tr>\n",
       "      <td>A Farewell to Arms</td>\n",
       "      <td>14.84</td>\n",
       "      <td>$10-15</td>\n",
       "    </tr>\n",
       "    <tr>\n",
       "      <td>Emma</td>\n",
       "      <td>14.99</td>\n",
       "      <td>$10-15</td>\n",
       "    </tr>\n",
       "    <tr>\n",
       "      <td>Hamlet</td>\n",
       "      <td>9.91</td>\n",
       "      <td>&lt;$10</td>\n",
       "    </tr>\n",
       "    <tr>\n",
       "      <td>The Sun Also Rises</td>\n",
       "      <td>15.35</td>\n",
       "      <td>&gt;$15</td>\n",
       "    </tr>\n",
       "    <tr>\n",
       "      <td>The Sun Also Rises</td>\n",
       "      <td>15.32</td>\n",
       "      <td>&gt;$15</td>\n",
       "    </tr>\n",
       "    <tr>\n",
       "      <td>Romeo and Juliet</td>\n",
       "      <td>9.14</td>\n",
       "      <td>&lt;$10</td>\n",
       "    </tr>\n",
       "    <tr>\n",
       "      <td>The Sound and the Fury</td>\n",
       "      <td>9.83</td>\n",
       "      <td>&lt;$10</td>\n",
       "    </tr>\n",
       "    <tr>\n",
       "      <td>Romeo and Juliet</td>\n",
       "      <td>10.28</td>\n",
       "      <td>$10-15</td>\n",
       "    </tr>\n",
       "    <tr>\n",
       "      <td>The Sound and the Fury</td>\n",
       "      <td>10.77</td>\n",
       "      <td>$10-15</td>\n",
       "    </tr>\n",
       "    <tr>\n",
       "      <td>Sense and Sensibility</td>\n",
       "      <td>16.18</td>\n",
       "      <td>&gt;$15</td>\n",
       "    </tr>\n",
       "    <tr>\n",
       "      <td>For Whom the Bell Tolls</td>\n",
       "      <td>15.58</td>\n",
       "      <td>&gt;$15</td>\n",
       "    </tr>\n",
       "    <tr>\n",
       "      <td>For Whom the Bell Tolls</td>\n",
       "      <td>17.31</td>\n",
       "      <td>&gt;$15</td>\n",
       "    </tr>\n",
       "    <tr>\n",
       "      <td>Emma</td>\n",
       "      <td>17.26</td>\n",
       "      <td>&gt;$15</td>\n",
       "    </tr>\n",
       "    <tr>\n",
       "      <td>Emma</td>\n",
       "      <td>18.18</td>\n",
       "      <td>&gt;$15</td>\n",
       "    </tr>\n",
       "    <tr>\n",
       "      <td>Macbeth</td>\n",
       "      <td>8.19</td>\n",
       "      <td>&lt;$10</td>\n",
       "    </tr>\n",
       "    <tr>\n",
       "      <td>A Farewell to Arms</td>\n",
       "      <td>13.30</td>\n",
       "      <td>$10-15</td>\n",
       "    </tr>\n",
       "    <tr>\n",
       "      <td>Pride and Prejudice</td>\n",
       "      <td>18.62</td>\n",
       "      <td>&gt;$15</td>\n",
       "    </tr>\n",
       "    <tr>\n",
       "      <td>The Sound and the Fury</td>\n",
       "      <td>11.11</td>\n",
       "      <td>$10-15</td>\n",
       "    </tr>\n",
       "    <tr>\n",
       "      <td>Hamlet</td>\n",
       "      <td>9.21</td>\n",
       "      <td>&lt;$10</td>\n",
       "    </tr>\n",
       "    <tr>\n",
       "      <td>Macbeth</td>\n",
       "      <td>8.68</td>\n",
       "      <td>&lt;$10</td>\n",
       "    </tr>\n",
       "    <tr>\n",
       "      <td>Hamlet</td>\n",
       "      <td>7.96</td>\n",
       "      <td>&lt;$10</td>\n",
       "    </tr>\n",
       "    <tr>\n",
       "      <td>Emma</td>\n",
       "      <td>14.01</td>\n",
       "      <td>$10-15</td>\n",
       "    </tr>\n",
       "    <tr>\n",
       "      <td>Hamlet</td>\n",
       "      <td>8.78</td>\n",
       "      <td>&lt;$10</td>\n",
       "    </tr>\n",
       "    <tr>\n",
       "      <td>Hamlet</td>\n",
       "      <td>9.00</td>\n",
       "      <td>&lt;$10</td>\n",
       "    </tr>\n",
       "    <tr>\n",
       "      <td>Romeo and Juliet</td>\n",
       "      <td>8.98</td>\n",
       "      <td>&lt;$10</td>\n",
       "    </tr>\n",
       "    <tr>\n",
       "      <td>Macbeth</td>\n",
       "      <td>9.55</td>\n",
       "      <td>&lt;$10</td>\n",
       "    </tr>\n",
       "  </tbody>\n",
       "</table>"
      ],
      "text/plain": [
       "<IPython.core.display.HTML object>"
      ]
     },
     "metadata": {},
     "output_type": "display_data"
    }
   ],
   "source": [
    "case2_b = widgets.Button(description='Run', width='10em', height='2.5em', color='white',background_color='black', border_color='black')\n",
    "display(case2_b)\n",
    "run_q(case2_q, case2_b)"
   ]
  },
  {
   "cell_type": "markdown",
   "metadata": {},
   "source": [
    "This might not immediately seem useful, but when you start grouping by your newly created categories, you'll be able to do all kinds of new analysis. Consider the query below.  We use `CASE WHEN` to create a column that we then use in the `GROUP BY` clause. We've essentially created new groups where there were none before, and now we can assess the number of sales and total revenue from each revenue group."
   ]
  },
  {
   "cell_type": "code",
   "execution_count": 197,
   "metadata": {
    "collapsed": true
   },
   "outputs": [],
   "source": [
    "case3_q = widgets.Textarea(value=\n",
    "'''SELECT\n",
    "    CASE WHEN revenue < 10 THEN \"<$10\"\n",
    "        WHEN revenue BETWEEN 10 AND 15 THEN \"$10-15\"\n",
    "        WHEN revenue > 15 THEN \">$15\" \n",
    "        END AS revenue_category,\n",
    "    COUNT(*) AS total_sales,\n",
    "    SUM(revenue) AS total_revenue\n",
    "FROM\n",
    "    sales_table\n",
    "GROUP BY\n",
    "    revenue_category\n",
    "''',\n",
    "width = '50em', height = '18em')\n",
    "display(case3_q) "
   ]
  },
  {
   "cell_type": "code",
   "execution_count": 198,
   "metadata": {
    "collapsed": false
   },
   "outputs": [
    {
     "data": {
      "text/html": [
       "<table border=\"1\" class=\"dataframe\">\n",
       "  <thead>\n",
       "    <tr style=\"text-align: right;\">\n",
       "      <th>revenue_category</th>\n",
       "      <th>total_sales</th>\n",
       "      <th>total_revenue</th>\n",
       "    </tr>\n",
       "  </thead>\n",
       "  <tbody>\n",
       "    <tr>\n",
       "      <td>$10-15</td>\n",
       "      <td>40</td>\n",
       "      <td>507.14</td>\n",
       "    </tr>\n",
       "    <tr>\n",
       "      <td>&lt;$10</td>\n",
       "      <td>27</td>\n",
       "      <td>229.07</td>\n",
       "    </tr>\n",
       "    <tr>\n",
       "      <td>&gt;$15</td>\n",
       "      <td>33</td>\n",
       "      <td>554.94</td>\n",
       "    </tr>\n",
       "  </tbody>\n",
       "</table>"
      ],
      "text/plain": [
       "<IPython.core.display.HTML object>"
      ]
     },
     "metadata": {},
     "output_type": "display_data"
    }
   ],
   "source": [
    "case3_b = widgets.Button(description='Run', width='10em', height='2.5em', color='white',background_color='black', border_color='black')\n",
    "display(case3_b)\n",
    "run_q(case3_q, case3_b)"
   ]
  },
  {
   "cell_type": "markdown",
   "metadata": {},
   "source": [
    "____\n",
    "### Challenge:\n",
    "Suppose you want to see total revenues broken out by male vs. female authors. Use `CASE WHEN` to create these groups - with Austen in the \"female\" group and Faulkner, Hemingway, and Shakespeare in the \"male\" group. "
   ]
  },
  {
   "cell_type": "code",
   "execution_count": 199,
   "metadata": {
    "collapsed": true
   },
   "outputs": [],
   "source": [
    "case_chall = widgets.Textarea(value='', width = '50em', height = '16em')\n",
    "display(case_chall) "
   ]
  },
  {
   "cell_type": "code",
   "execution_count": 200,
   "metadata": {
    "collapsed": false
   },
   "outputs": [],
   "source": [
    "case_chall_b = widgets.Button(description='Run', width='10em', height='2.5em', color='white',background_color='black', border_color='black')\n",
    "display(case_chall_b)\n",
    "run_q(case_chall, case_chall_b)"
   ]
  },
  {
   "cell_type": "code",
   "execution_count": 201,
   "metadata": {
    "collapsed": false
   },
   "outputs": [],
   "source": [
    "case_chall_c ='''SELECT\n",
    "    CASE WHEN\n",
    "        B.author = 'Austen' THEN 'Female'\n",
    "        ELSE 'Male'          --- or you can say, \"WHEN B.author IN ('Faulkner', 'Shakespeare', 'Hemingway') THEN 'Male' \"\n",
    "        END AS gender,\n",
    "    SUM(S.revenue) AS total_revenue\n",
    "FROM\n",
    "    book_table B \n",
    "    JOIN sales_table S ON B.book = S.book\n",
    "GROUP BY \n",
    "    gender'''\n",
    "cheat(case_chall_c) "
   ]
  },
  {
   "cell_type": "markdown",
   "metadata": {},
   "source": [
    "____\n",
    "## Using `CASE WHEN` to create a pivot table\n",
    "Say you want to see revenue broken out by gender *and* by date.  Right now, the only way we know how to do this is to add \"date\" to the `GROUP BY` clause. The query below is the same as the one from your last challenge, only we've added `date` to both the `SELECT` clause and the `GROUP BY` clause. "
   ]
  },
  {
   "cell_type": "code",
   "execution_count": 202,
   "metadata": {
    "collapsed": true
   },
   "outputs": [],
   "source": [
    "case_pivot_ex = widgets.Textarea(value='''SELECT\n",
    "    date,\n",
    "    CASE WHEN\n",
    "        B.author = 'Austen' THEN 'Female'\n",
    "        ELSE 'Male'\n",
    "        END AS gender,\n",
    "    SUM(S.revenue) AS total_revenue\n",
    "FROM\n",
    "    book_table B \n",
    "    JOIN sales_table S ON B.book = S.book\n",
    "GROUP BY \n",
    "    date, gender'''\n",
    ", width = '50em', height = '18em')\n",
    "display(case_pivot_ex) "
   ]
  },
  {
   "cell_type": "code",
   "execution_count": 203,
   "metadata": {
    "collapsed": false
   },
   "outputs": [
    {
     "data": {
      "text/html": [
       "<table border=\"1\" class=\"dataframe\">\n",
       "  <thead>\n",
       "    <tr style=\"text-align: right;\">\n",
       "      <th>date</th>\n",
       "      <th>gender</th>\n",
       "      <th>total_revenue</th>\n",
       "    </tr>\n",
       "  </thead>\n",
       "  <tbody>\n",
       "    <tr>\n",
       "      <td>1/1/16</td>\n",
       "      <td>Male</td>\n",
       "      <td>64.98</td>\n",
       "    </tr>\n",
       "    <tr>\n",
       "      <td>1/10/16</td>\n",
       "      <td>Female</td>\n",
       "      <td>15.57</td>\n",
       "    </tr>\n",
       "    <tr>\n",
       "      <td>1/10/16</td>\n",
       "      <td>Male</td>\n",
       "      <td>42.76</td>\n",
       "    </tr>\n",
       "    <tr>\n",
       "      <td>1/11/16</td>\n",
       "      <td>Female</td>\n",
       "      <td>15.15</td>\n",
       "    </tr>\n",
       "    <tr>\n",
       "      <td>1/11/16</td>\n",
       "      <td>Male</td>\n",
       "      <td>40.91</td>\n",
       "    </tr>\n",
       "    <tr>\n",
       "      <td>1/12/16</td>\n",
       "      <td>Male</td>\n",
       "      <td>33.47</td>\n",
       "    </tr>\n",
       "    <tr>\n",
       "      <td>1/13/16</td>\n",
       "      <td>Female</td>\n",
       "      <td>64.81</td>\n",
       "    </tr>\n",
       "    <tr>\n",
       "      <td>1/13/16</td>\n",
       "      <td>Male</td>\n",
       "      <td>41.72</td>\n",
       "    </tr>\n",
       "    <tr>\n",
       "      <td>1/14/16</td>\n",
       "      <td>Male</td>\n",
       "      <td>92.56</td>\n",
       "    </tr>\n",
       "    <tr>\n",
       "      <td>1/15/16</td>\n",
       "      <td>Female</td>\n",
       "      <td>75.26</td>\n",
       "    </tr>\n",
       "    <tr>\n",
       "      <td>1/15/16</td>\n",
       "      <td>Male</td>\n",
       "      <td>23.13</td>\n",
       "    </tr>\n",
       "    <tr>\n",
       "      <td>1/16/16</td>\n",
       "      <td>Male</td>\n",
       "      <td>36.83</td>\n",
       "    </tr>\n",
       "    <tr>\n",
       "      <td>1/17/16</td>\n",
       "      <td>Male</td>\n",
       "      <td>9.97</td>\n",
       "    </tr>\n",
       "    <tr>\n",
       "      <td>1/18/16</td>\n",
       "      <td>Female</td>\n",
       "      <td>14.63</td>\n",
       "    </tr>\n",
       "    <tr>\n",
       "      <td>1/18/16</td>\n",
       "      <td>Male</td>\n",
       "      <td>21.62</td>\n",
       "    </tr>\n",
       "    <tr>\n",
       "      <td>1/19/16</td>\n",
       "      <td>Female</td>\n",
       "      <td>14.99</td>\n",
       "    </tr>\n",
       "    <tr>\n",
       "      <td>1/19/16</td>\n",
       "      <td>Male</td>\n",
       "      <td>45.23</td>\n",
       "    </tr>\n",
       "    <tr>\n",
       "      <td>1/2/16</td>\n",
       "      <td>Male</td>\n",
       "      <td>32.43</td>\n",
       "    </tr>\n",
       "    <tr>\n",
       "      <td>1/20/16</td>\n",
       "      <td>Male</td>\n",
       "      <td>39.81</td>\n",
       "    </tr>\n",
       "    <tr>\n",
       "      <td>1/21/16</td>\n",
       "      <td>Male</td>\n",
       "      <td>20.11</td>\n",
       "    </tr>\n",
       "    <tr>\n",
       "      <td>1/22/16</td>\n",
       "      <td>Male</td>\n",
       "      <td>10.77</td>\n",
       "    </tr>\n",
       "    <tr>\n",
       "      <td>1/23/16</td>\n",
       "      <td>Female</td>\n",
       "      <td>33.44</td>\n",
       "    </tr>\n",
       "    <tr>\n",
       "      <td>1/23/16</td>\n",
       "      <td>Male</td>\n",
       "      <td>32.89</td>\n",
       "    </tr>\n",
       "    <tr>\n",
       "      <td>1/24/16</td>\n",
       "      <td>Female</td>\n",
       "      <td>18.18</td>\n",
       "    </tr>\n",
       "    <tr>\n",
       "      <td>1/25/16</td>\n",
       "      <td>Male</td>\n",
       "      <td>21.49</td>\n",
       "    </tr>\n",
       "    <tr>\n",
       "      <td>1/26/16</td>\n",
       "      <td>Female</td>\n",
       "      <td>18.62</td>\n",
       "    </tr>\n",
       "    <tr>\n",
       "      <td>1/26/16</td>\n",
       "      <td>Male</td>\n",
       "      <td>11.11</td>\n",
       "    </tr>\n",
       "    <tr>\n",
       "      <td>1/27/16</td>\n",
       "      <td>Male</td>\n",
       "      <td>17.89</td>\n",
       "    </tr>\n",
       "    <tr>\n",
       "      <td>1/28/16</td>\n",
       "      <td>Female</td>\n",
       "      <td>14.01</td>\n",
       "    </tr>\n",
       "    <tr>\n",
       "      <td>1/28/16</td>\n",
       "      <td>Male</td>\n",
       "      <td>16.74</td>\n",
       "    </tr>\n",
       "    <tr>\n",
       "      <td>1/29/16</td>\n",
       "      <td>Male</td>\n",
       "      <td>17.98</td>\n",
       "    </tr>\n",
       "    <tr>\n",
       "      <td>1/3/16</td>\n",
       "      <td>Female</td>\n",
       "      <td>14.84</td>\n",
       "    </tr>\n",
       "    <tr>\n",
       "      <td>1/3/16</td>\n",
       "      <td>Male</td>\n",
       "      <td>45.10</td>\n",
       "    </tr>\n",
       "    <tr>\n",
       "      <td>1/30/16</td>\n",
       "      <td>Male</td>\n",
       "      <td>9.55</td>\n",
       "    </tr>\n",
       "    <tr>\n",
       "      <td>1/4/16</td>\n",
       "      <td>Female</td>\n",
       "      <td>15.90</td>\n",
       "    </tr>\n",
       "    <tr>\n",
       "      <td>1/4/16</td>\n",
       "      <td>Male</td>\n",
       "      <td>70.12</td>\n",
       "    </tr>\n",
       "    <tr>\n",
       "      <td>1/5/16</td>\n",
       "      <td>Female</td>\n",
       "      <td>16.25</td>\n",
       "    </tr>\n",
       "    <tr>\n",
       "      <td>1/5/16</td>\n",
       "      <td>Male</td>\n",
       "      <td>43.18</td>\n",
       "    </tr>\n",
       "    <tr>\n",
       "      <td>1/6/16</td>\n",
       "      <td>Female</td>\n",
       "      <td>31.09</td>\n",
       "    </tr>\n",
       "    <tr>\n",
       "      <td>1/7/16</td>\n",
       "      <td>Male</td>\n",
       "      <td>10.74</td>\n",
       "    </tr>\n",
       "    <tr>\n",
       "      <td>1/8/16</td>\n",
       "      <td>Male</td>\n",
       "      <td>6.24</td>\n",
       "    </tr>\n",
       "    <tr>\n",
       "      <td>1/9/16</td>\n",
       "      <td>Female</td>\n",
       "      <td>29.99</td>\n",
       "    </tr>\n",
       "    <tr>\n",
       "      <td>1/9/16</td>\n",
       "      <td>Male</td>\n",
       "      <td>39.09</td>\n",
       "    </tr>\n",
       "  </tbody>\n",
       "</table>"
      ],
      "text/plain": [
       "<IPython.core.display.HTML object>"
      ]
     },
     "metadata": {},
     "output_type": "display_data"
    }
   ],
   "source": [
    "case_pivot_ex_b = widgets.Button(description='Run', width='10em', height='2.5em', color='white',background_color='black', border_color='black')\n",
    "display(case_pivot_ex_b)\n",
    "run_q(case_pivot_ex, case_pivot_ex_b)"
   ]
  },
  {
   "cell_type": "markdown",
   "metadata": {},
   "source": [
    "The result-set above is almost useless - it's impossible to do meaningful analysis when you group by multiple columns. Instead, we'll use `CASE WHEN` nested inside a function to essentially create a pivot table:"
   ]
  },
  {
   "cell_type": "code",
   "execution_count": 204,
   "metadata": {
    "collapsed": true
   },
   "outputs": [],
   "source": [
    "case_pivot = widgets.Textarea(value=\n",
    "'''SELECT\n",
    "    date,\n",
    "    SUM(CASE WHEN B.author = 'Austen' THEN revenue END) AS Female_Rev,\n",
    "    SUM(CASE WHEN B.author != 'Austen' THEN revenue END) AS Male_Rev\n",
    "FROM\n",
    "    book_table B \n",
    "    JOIN sales_table S ON B.book = S.book\n",
    "GROUP BY \n",
    "    date''',\n",
    "width = '50em', height = '14em')\n",
    "display(case_pivot) "
   ]
  },
  {
   "cell_type": "code",
   "execution_count": 205,
   "metadata": {
    "collapsed": false
   },
   "outputs": [
    {
     "data": {
      "text/html": [
       "<table border=\"1\" class=\"dataframe\">\n",
       "  <thead>\n",
       "    <tr style=\"text-align: right;\">\n",
       "      <th>date</th>\n",
       "      <th>Female_Rev</th>\n",
       "      <th>Male_Rev</th>\n",
       "    </tr>\n",
       "  </thead>\n",
       "  <tbody>\n",
       "    <tr>\n",
       "      <td>1/1/16</td>\n",
       "      <td></td>\n",
       "      <td>64.98</td>\n",
       "    </tr>\n",
       "    <tr>\n",
       "      <td>1/10/16</td>\n",
       "      <td>15.57</td>\n",
       "      <td>42.76</td>\n",
       "    </tr>\n",
       "    <tr>\n",
       "      <td>1/11/16</td>\n",
       "      <td>15.15</td>\n",
       "      <td>40.91</td>\n",
       "    </tr>\n",
       "    <tr>\n",
       "      <td>1/12/16</td>\n",
       "      <td></td>\n",
       "      <td>33.47</td>\n",
       "    </tr>\n",
       "    <tr>\n",
       "      <td>1/13/16</td>\n",
       "      <td>64.81</td>\n",
       "      <td>41.72</td>\n",
       "    </tr>\n",
       "    <tr>\n",
       "      <td>1/14/16</td>\n",
       "      <td></td>\n",
       "      <td>92.56</td>\n",
       "    </tr>\n",
       "    <tr>\n",
       "      <td>1/15/16</td>\n",
       "      <td>75.26</td>\n",
       "      <td>23.13</td>\n",
       "    </tr>\n",
       "    <tr>\n",
       "      <td>1/16/16</td>\n",
       "      <td></td>\n",
       "      <td>36.83</td>\n",
       "    </tr>\n",
       "    <tr>\n",
       "      <td>1/17/16</td>\n",
       "      <td></td>\n",
       "      <td>9.97</td>\n",
       "    </tr>\n",
       "    <tr>\n",
       "      <td>1/18/16</td>\n",
       "      <td>14.63</td>\n",
       "      <td>21.62</td>\n",
       "    </tr>\n",
       "    <tr>\n",
       "      <td>1/19/16</td>\n",
       "      <td>14.99</td>\n",
       "      <td>45.23</td>\n",
       "    </tr>\n",
       "    <tr>\n",
       "      <td>1/2/16</td>\n",
       "      <td></td>\n",
       "      <td>32.43</td>\n",
       "    </tr>\n",
       "    <tr>\n",
       "      <td>1/20/16</td>\n",
       "      <td></td>\n",
       "      <td>39.81</td>\n",
       "    </tr>\n",
       "    <tr>\n",
       "      <td>1/21/16</td>\n",
       "      <td></td>\n",
       "      <td>20.11</td>\n",
       "    </tr>\n",
       "    <tr>\n",
       "      <td>1/22/16</td>\n",
       "      <td></td>\n",
       "      <td>10.77</td>\n",
       "    </tr>\n",
       "    <tr>\n",
       "      <td>1/23/16</td>\n",
       "      <td>33.44</td>\n",
       "      <td>32.89</td>\n",
       "    </tr>\n",
       "    <tr>\n",
       "      <td>1/24/16</td>\n",
       "      <td>18.18</td>\n",
       "      <td></td>\n",
       "    </tr>\n",
       "    <tr>\n",
       "      <td>1/25/16</td>\n",
       "      <td></td>\n",
       "      <td>21.49</td>\n",
       "    </tr>\n",
       "    <tr>\n",
       "      <td>1/26/16</td>\n",
       "      <td>18.62</td>\n",
       "      <td>11.11</td>\n",
       "    </tr>\n",
       "    <tr>\n",
       "      <td>1/27/16</td>\n",
       "      <td></td>\n",
       "      <td>17.89</td>\n",
       "    </tr>\n",
       "    <tr>\n",
       "      <td>1/28/16</td>\n",
       "      <td>14.01</td>\n",
       "      <td>16.74</td>\n",
       "    </tr>\n",
       "    <tr>\n",
       "      <td>1/29/16</td>\n",
       "      <td></td>\n",
       "      <td>17.98</td>\n",
       "    </tr>\n",
       "    <tr>\n",
       "      <td>1/3/16</td>\n",
       "      <td>14.84</td>\n",
       "      <td>45.1</td>\n",
       "    </tr>\n",
       "    <tr>\n",
       "      <td>1/30/16</td>\n",
       "      <td></td>\n",
       "      <td>9.55</td>\n",
       "    </tr>\n",
       "    <tr>\n",
       "      <td>1/4/16</td>\n",
       "      <td>15.9</td>\n",
       "      <td>70.12</td>\n",
       "    </tr>\n",
       "    <tr>\n",
       "      <td>1/5/16</td>\n",
       "      <td>16.25</td>\n",
       "      <td>43.18</td>\n",
       "    </tr>\n",
       "    <tr>\n",
       "      <td>1/6/16</td>\n",
       "      <td>31.09</td>\n",
       "      <td></td>\n",
       "    </tr>\n",
       "    <tr>\n",
       "      <td>1/7/16</td>\n",
       "      <td></td>\n",
       "      <td>10.74</td>\n",
       "    </tr>\n",
       "    <tr>\n",
       "      <td>1/8/16</td>\n",
       "      <td></td>\n",
       "      <td>6.24</td>\n",
       "    </tr>\n",
       "    <tr>\n",
       "      <td>1/9/16</td>\n",
       "      <td>29.99</td>\n",
       "      <td>39.09</td>\n",
       "    </tr>\n",
       "  </tbody>\n",
       "</table>"
      ],
      "text/plain": [
       "<IPython.core.display.HTML object>"
      ]
     },
     "metadata": {},
     "output_type": "display_data"
    }
   ],
   "source": [
    "case_pivot_b = widgets.Button(description='Run', width='10em', height='2.5em', color='white',background_color='black', border_color='black')\n",
    "display(case_pivot_b)\n",
    "run_q(case_pivot, case_pivot_b)"
   ]
  },
  {
   "cell_type": "markdown",
   "metadata": {},
   "source": [
    "Note that while this `CASE WHEN` method will work in other RDBMSs, it's more common to use `IF` when you are only using a single logical test.  In MySQL, for instance, the line for Female_Rev would look like this instead, which would translate to *\"sum up the revenue for any row where the author is Austen, and the number 0 whenever the author is not Austen\":*\n",
    "> **`SUM(IF(B.author = 'Austen', revenue, 0))`** \n",
    "\n",
    "____\n",
    "### Quick Exercises:\n",
    "The query from above has been reproduced below for these exercises (so you don't have to keep scrolling up and down).\n",
    "1.  Change the query so that you have separate columns for each individual author's revenue, rerun\n",
    "2. Change `SUM` to `AVG`, rerun\n",
    "3. Change `AVG` to `COUNT` - note that with conditional statements, you don't use an asterisk with `COUNT`. You need to stick with a specific column name"
   ]
  },
  {
   "cell_type": "code",
   "execution_count": 206,
   "metadata": {
    "collapsed": true
   },
   "outputs": [],
   "source": [
    "case_pivot1 = widgets.Textarea(value=\n",
    "'''SELECT\n",
    "    date,\n",
    "    SUM(CASE WHEN B.author = 'Austen' THEN revenue END) AS Female_Rev,\n",
    "    SUM(CASE WHEN B.author != 'Austen' THEN revenue END) AS Male_Rev\n",
    "FROM\n",
    "    book_table B \n",
    "    JOIN sales_table S ON B.book = S.book\n",
    "GROUP BY \n",
    "    date''',\n",
    "width = '50em', height = '18em')\n",
    "display(case_pivot1) "
   ]
  },
  {
   "cell_type": "code",
   "execution_count": 207,
   "metadata": {
    "collapsed": false
   },
   "outputs": [
    {
     "data": {
      "text/html": [
       "<table border=\"1\" class=\"dataframe\">\n",
       "  <thead>\n",
       "    <tr style=\"text-align: right;\">\n",
       "      <th>date</th>\n",
       "      <th>Female_Rev</th>\n",
       "      <th>Male_Rev</th>\n",
       "    </tr>\n",
       "  </thead>\n",
       "  <tbody>\n",
       "    <tr>\n",
       "      <td>1/1/16</td>\n",
       "      <td></td>\n",
       "      <td>64.98</td>\n",
       "    </tr>\n",
       "    <tr>\n",
       "      <td>1/10/16</td>\n",
       "      <td>15.57</td>\n",
       "      <td>42.76</td>\n",
       "    </tr>\n",
       "    <tr>\n",
       "      <td>1/11/16</td>\n",
       "      <td>15.15</td>\n",
       "      <td>40.91</td>\n",
       "    </tr>\n",
       "    <tr>\n",
       "      <td>1/12/16</td>\n",
       "      <td></td>\n",
       "      <td>33.47</td>\n",
       "    </tr>\n",
       "    <tr>\n",
       "      <td>1/13/16</td>\n",
       "      <td>64.81</td>\n",
       "      <td>41.72</td>\n",
       "    </tr>\n",
       "    <tr>\n",
       "      <td>1/14/16</td>\n",
       "      <td></td>\n",
       "      <td>92.56</td>\n",
       "    </tr>\n",
       "    <tr>\n",
       "      <td>1/15/16</td>\n",
       "      <td>75.26</td>\n",
       "      <td>23.13</td>\n",
       "    </tr>\n",
       "    <tr>\n",
       "      <td>1/16/16</td>\n",
       "      <td></td>\n",
       "      <td>36.83</td>\n",
       "    </tr>\n",
       "    <tr>\n",
       "      <td>1/17/16</td>\n",
       "      <td></td>\n",
       "      <td>9.97</td>\n",
       "    </tr>\n",
       "    <tr>\n",
       "      <td>1/18/16</td>\n",
       "      <td>14.63</td>\n",
       "      <td>21.62</td>\n",
       "    </tr>\n",
       "    <tr>\n",
       "      <td>1/19/16</td>\n",
       "      <td>14.99</td>\n",
       "      <td>45.23</td>\n",
       "    </tr>\n",
       "    <tr>\n",
       "      <td>1/2/16</td>\n",
       "      <td></td>\n",
       "      <td>32.43</td>\n",
       "    </tr>\n",
       "    <tr>\n",
       "      <td>1/20/16</td>\n",
       "      <td></td>\n",
       "      <td>39.81</td>\n",
       "    </tr>\n",
       "    <tr>\n",
       "      <td>1/21/16</td>\n",
       "      <td></td>\n",
       "      <td>20.11</td>\n",
       "    </tr>\n",
       "    <tr>\n",
       "      <td>1/22/16</td>\n",
       "      <td></td>\n",
       "      <td>10.77</td>\n",
       "    </tr>\n",
       "    <tr>\n",
       "      <td>1/23/16</td>\n",
       "      <td>33.44</td>\n",
       "      <td>32.89</td>\n",
       "    </tr>\n",
       "    <tr>\n",
       "      <td>1/24/16</td>\n",
       "      <td>18.18</td>\n",
       "      <td></td>\n",
       "    </tr>\n",
       "    <tr>\n",
       "      <td>1/25/16</td>\n",
       "      <td></td>\n",
       "      <td>21.49</td>\n",
       "    </tr>\n",
       "    <tr>\n",
       "      <td>1/26/16</td>\n",
       "      <td>18.62</td>\n",
       "      <td>11.11</td>\n",
       "    </tr>\n",
       "    <tr>\n",
       "      <td>1/27/16</td>\n",
       "      <td></td>\n",
       "      <td>17.89</td>\n",
       "    </tr>\n",
       "    <tr>\n",
       "      <td>1/28/16</td>\n",
       "      <td>14.01</td>\n",
       "      <td>16.74</td>\n",
       "    </tr>\n",
       "    <tr>\n",
       "      <td>1/29/16</td>\n",
       "      <td></td>\n",
       "      <td>17.98</td>\n",
       "    </tr>\n",
       "    <tr>\n",
       "      <td>1/3/16</td>\n",
       "      <td>14.84</td>\n",
       "      <td>45.1</td>\n",
       "    </tr>\n",
       "    <tr>\n",
       "      <td>1/30/16</td>\n",
       "      <td></td>\n",
       "      <td>9.55</td>\n",
       "    </tr>\n",
       "    <tr>\n",
       "      <td>1/4/16</td>\n",
       "      <td>15.9</td>\n",
       "      <td>70.12</td>\n",
       "    </tr>\n",
       "    <tr>\n",
       "      <td>1/5/16</td>\n",
       "      <td>16.25</td>\n",
       "      <td>43.18</td>\n",
       "    </tr>\n",
       "    <tr>\n",
       "      <td>1/6/16</td>\n",
       "      <td>31.09</td>\n",
       "      <td></td>\n",
       "    </tr>\n",
       "    <tr>\n",
       "      <td>1/7/16</td>\n",
       "      <td></td>\n",
       "      <td>10.74</td>\n",
       "    </tr>\n",
       "    <tr>\n",
       "      <td>1/8/16</td>\n",
       "      <td></td>\n",
       "      <td>6.24</td>\n",
       "    </tr>\n",
       "    <tr>\n",
       "      <td>1/9/16</td>\n",
       "      <td>29.99</td>\n",
       "      <td>39.09</td>\n",
       "    </tr>\n",
       "  </tbody>\n",
       "</table>"
      ],
      "text/plain": [
       "<IPython.core.display.HTML object>"
      ]
     },
     "metadata": {},
     "output_type": "display_data"
    }
   ],
   "source": [
    "case_pivot_b1 = widgets.Button(description='Run', width='10em', height='2.5em', color='white',background_color='black', border_color='black')\n",
    "display(case_pivot_b1)\n",
    "run_q(case_pivot1, case_pivot_b1)"
   ]
  },
  {
   "cell_type": "markdown",
   "metadata": {},
   "source": [
    "______\n",
    "### Challenge:\n",
    "- In the **`SELECT`** clause:\n",
    "    - Use **`CASE WHEN`** to create a column that creates buckets for author's **`birth_year`**: \"Before 1700\", \"1700-1800\", \"After 1800\"\n",
    "    - Use **`CASE WHEN`** to create a column that returns the count of books by authors from USA\n",
    "    - Use **`CASE WHEN`** to create a column that returns the count of books by authors from England\n",
    "- **`GROUP BY`** the birth_year bucket column that you created"
   ]
  },
  {
   "cell_type": "code",
   "execution_count": 208,
   "metadata": {
    "collapsed": false
   },
   "outputs": [],
   "source": [
    "case_pivot_chall = widgets.Textarea(value='',width = '50em', height = '18em')\n",
    "display(case_pivot_chall) "
   ]
  },
  {
   "cell_type": "code",
   "execution_count": 209,
   "metadata": {
    "collapsed": false
   },
   "outputs": [],
   "source": [
    "case_pivot_chall_b = widgets.Button(description='Run', width='10em', height='2.5em', color='white',background_color='black', border_color='black')\n",
    "display(case_pivot_chall_b)\n",
    "run_q(case_pivot_chall, case_pivot_chall_b)"
   ]
  },
  {
   "cell_type": "code",
   "execution_count": 210,
   "metadata": {
    "collapsed": false
   },
   "outputs": [],
   "source": [
    "case_pivot_chall_c ='''SELECT\n",
    "    CASE WHEN A.birth_year < 1700 THEN \"Before 1700\"\n",
    "        WHEN A.birth_year BETWEEN 1700 AND 1800 THEN \"1700-1800\"\n",
    "        WHEN A.birth_year > 1800 THEN \"After 1800\" \n",
    "        END AS era,\n",
    "    COUNT(CASE WHEN A.country = 'USA' THEN book END) AS count_from_USA,\n",
    "    COUNT(CASE WHEN A.country = 'England' THEN book END) AS count_from_England\n",
    "FROM\n",
    "    book_table B\n",
    "    JOIN auth_table A ON B.author = A.last_name\n",
    "GROUP BY\n",
    "    era\n",
    "'''\n",
    "cheat(case_pivot_chall_c) "
   ]
  },
  {
   "cell_type": "markdown",
   "metadata": {},
   "source": [
    "____\n",
    "### Challenge:\n",
    "- Write a query that returns a *daily* count of the sales of:\n",
    "    - <u>For Whom the Bell Tolls</u> (in its own column)\n",
    "    - <u>Emma</u> (in its own column)\n",
    "    - <u>Macbeth</u> and <u>Hamlet</u> (in a combined column)"
   ]
  },
  {
   "cell_type": "code",
   "execution_count": 211,
   "metadata": {
    "collapsed": true
   },
   "outputs": [],
   "source": [
    "case_pivot_chall2 = widgets.Textarea(value='', width = '50em', height = '14em')\n",
    "display(case_pivot_chall2) "
   ]
  },
  {
   "cell_type": "code",
   "execution_count": 212,
   "metadata": {
    "collapsed": false
   },
   "outputs": [],
   "source": [
    "case_pivot_chall2_b = widgets.Button(description='Run', width='10em', height='2.5em', color='white',background_color='black', border_color='black')\n",
    "display(case_pivot_chall2_b)\n",
    "run_q(case_pivot_chall2, case_pivot_chall2_b)"
   ]
  },
  {
   "cell_type": "code",
   "execution_count": 213,
   "metadata": {
    "collapsed": false
   },
   "outputs": [],
   "source": [
    "case_pivot_chall2_c ='''SELECT \n",
    "    date,\n",
    "    COUNT(CASE WHEN book = 'For Whom the Bell Tolls' THEN revenue END) Bell_Tolls_Count,\n",
    "    COUNT(CASE WHEN book = 'Emma' THEN revenue END) Emma_Count,\n",
    "    COUNT(CASE WHEN book IN ('Macbeth', 'Hamlet') THEN revenue END) Macbeth_Hamlet_Count\n",
    "FROM\n",
    "    sales_table\n",
    "GROUP BY\n",
    "    date'''\n",
    "cheat(case_pivot_chall2_c) "
   ]
  },
  {
   "cell_type": "markdown",
   "metadata": {},
   "source": [
    "__________\n",
    "___________\n",
    "___________\n",
    "<a id='nesting'></a>\n",
    "<center>\n",
    "[Previous](#case_when) &nbsp;&nbsp;&nbsp;&nbsp;&nbsp;  | &nbsp;&nbsp;&nbsp;&nbsp;&nbsp; [Table of Contents](#table_of_contents) &nbsp;&nbsp;&nbsp;&nbsp;&nbsp; |  &nbsp;&nbsp;&nbsp;&nbsp;&nbsp; [Next](#union)\n",
    "</center>\n",
    "![nesting](http://i.imgur.com/jVjcOJ7.png)\n",
    ">**`SELECT`** <br>\n",
    "&nbsp;&nbsp;&nbsp;&nbsp;&nbsp;  **`column_a`** <br>\n",
    "**`FROM`** <br>\n",
    "&nbsp;&nbsp;&nbsp;&nbsp;&nbsp;  **`table_x`** <br>\n",
    "**`WHERE`** <br>\n",
    "&nbsp;&nbsp;&nbsp;&nbsp;&nbsp; **`column_a IN (SELECT column_b FROM table_y)`** \n",
    "\n",
    "**Read first**: For this section, we'll need the extra rows in the `auth_table` and `book_table` that we added during the `JOIN` exercises. If you've closed the program or re-run it since you last added those rows, then click the button below to re-add them."
   ]
  },
  {
   "cell_type": "code",
   "execution_count": 214,
   "metadata": {
    "collapsed": false
   },
   "outputs": [],
   "source": [
    "insert_b = widgets.Button(description=\"Read the paragraph above before clicking\", width='25em', height='3em', color='white',background_color='#1f5fd6', border_color='#1f5fd6')\n",
    "display(insert_b)\n",
    "def insert_button(b):\n",
    "    insert_q1 = '''INSERT INTO auth_table VALUES ('Tolstoy', 'Leo', 'Russia', 1828)'''\n",
    "    insert_q2 = '''INSERT INTO auth_table VALUES ('Twain', 'Mark', 'USA', 1835)'''\n",
    "    insert_q3 = '''INSERT INTO book_table VALUES ('Jude the Obscure', '11.25', 'Hardy')'''\n",
    "    insert_q4 = '''INSERT INTO book_table VALUES ('The Age of Innocence', '14.20', 'Wharton')'''\n",
    "    query_list = [insert_q1, insert_q2, insert_q3, insert_q4]\n",
    "    for query in query_list:\n",
    "        run(query)\n",
    "    print('New rows have been added to auth_table and book_table!')\n",
    "insert_b.on_click(insert_button)"
   ]
  },
  {
   "cell_type": "markdown",
   "metadata": {},
   "source": [
    "To be totally honest, you likely won't be writing nested queries yourself until you've become much more comfortable with SQL. However, it's good to learn about them because you'll likely encounter them when coworkers share queries with you. \n",
    "\n",
    "Start by looking at the two queries and their outputs below:"
   ]
  },
  {
   "cell_type": "code",
   "execution_count": 215,
   "metadata": {
    "collapsed": false
   },
   "outputs": [],
   "source": [
    "nested_q1 = widgets.Textarea(value=\n",
    "'''SELECT \n",
    "    COUNT(DISTINCT(book)) AS Count_of_Distinct_Books\n",
    "FROM \n",
    "    sales_table''',\n",
    "width = '50em', height = '7em')\n",
    "display(nested_q1)"
   ]
  },
  {
   "cell_type": "code",
   "execution_count": 216,
   "metadata": {
    "collapsed": false
   },
   "outputs": [
    {
     "data": {
      "text/html": [
       "<table border=\"1\" class=\"dataframe\">\n",
       "  <thead>\n",
       "    <tr style=\"text-align: right;\">\n",
       "      <th>Count_of_Distinct_Books</th>\n",
       "    </tr>\n",
       "  </thead>\n",
       "  <tbody>\n",
       "    <tr>\n",
       "      <td>11</td>\n",
       "    </tr>\n",
       "  </tbody>\n",
       "</table>"
      ],
      "text/plain": [
       "<IPython.core.display.HTML object>"
      ]
     },
     "metadata": {},
     "output_type": "display_data"
    }
   ],
   "source": [
    "nested_b1 = widgets.Button(description='Run', width='10em', height='2.5em', color='white',background_color='black', border_color='black')\n",
    "display(nested_b1)\n",
    "run_q(nested_q1, nested_b1)"
   ]
  },
  {
   "cell_type": "markdown",
   "metadata": {},
   "source": [
    "** NOTE THAT YOU NEED TO HIT \"RUN\" AGAIN FOR THE QUERY BELOW**\n",
    "(It should return the number 13. If it doesn't, click the blue button above to update the `book_table`, then re-run the query below)"
   ]
  },
  {
   "cell_type": "code",
   "execution_count": 217,
   "metadata": {
    "collapsed": true
   },
   "outputs": [],
   "source": [
    "nested_q2 = widgets.Textarea(value=\n",
    "'''SELECT \n",
    "    COUNT(DISTINCT(book)) AS Count_of_Distinct_Books \n",
    "FROM \n",
    "    book_table''',\n",
    "width = '50em', height = '7em')\n",
    "display(nested_q2)"
   ]
  },
  {
   "cell_type": "code",
   "execution_count": 218,
   "metadata": {
    "collapsed": false
   },
   "outputs": [
    {
     "data": {
      "text/html": [
       "<table border=\"1\" class=\"dataframe\">\n",
       "  <thead>\n",
       "    <tr style=\"text-align: right;\">\n",
       "      <th>Count_of_Distinct_Books</th>\n",
       "    </tr>\n",
       "  </thead>\n",
       "  <tbody>\n",
       "    <tr>\n",
       "      <td>11</td>\n",
       "    </tr>\n",
       "  </tbody>\n",
       "</table>"
      ],
      "text/plain": [
       "<IPython.core.display.HTML object>"
      ]
     },
     "metadata": {},
     "output_type": "display_data"
    }
   ],
   "source": [
    "nested_b2 = widgets.Button(description='Run', width='10em', height='2.5em', color='white',background_color='black', border_color='black')\n",
    "display(nested_b2)\n",
    "run_q(nested_q2, nested_b2)"
   ]
  },
  {
   "cell_type": "markdown",
   "metadata": {},
   "source": [
    "From the count of distinct books in each table, we see that there are two books in our `book_table` (our inventory) that haven't made a single sale. Imagine if both tables had thousands of rows - it'd be a nightmare to try to figure out which were the books with no sales.  However, a nested query can help us out. \n",
    "\n",
    "The query below uses a nested query in the `WHERE` clause. In plain English, it says \"*Show me the books from the book_table, but not the ones that also show up in the sales_table*\":"
   ]
  },
  {
   "cell_type": "code",
   "execution_count": 219,
   "metadata": {
    "collapsed": true
   },
   "outputs": [],
   "source": [
    "nested_q3 = widgets.Textarea(value=\n",
    "'''SELECT\n",
    "    book\n",
    "FROM\n",
    "    book_table\n",
    "WHERE \n",
    "    book NOT IN (SELECT book FROM sales_table)''',\n",
    "width = '50em', height = '10em')\n",
    "display(nested_q3) "
   ]
  },
  {
   "cell_type": "code",
   "execution_count": 220,
   "metadata": {
    "collapsed": false
   },
   "outputs": [
    {
     "data": {
      "text/html": [
       "<table border=\"1\" class=\"dataframe\">\n",
       "  <thead>\n",
       "    <tr style=\"text-align: right;\">\n",
       "      <th>book</th>\n",
       "    </tr>\n",
       "  </thead>\n",
       "  <tbody>\n",
       "  </tbody>\n",
       "</table>"
      ],
      "text/plain": [
       "<IPython.core.display.HTML object>"
      ]
     },
     "metadata": {},
     "output_type": "display_data"
    }
   ],
   "source": [
    "nested_q3_b = widgets.Button(description='Run', width='10em', height='2.5em', color='white',background_color='black', border_color='black')\n",
    "display(nested_q3_b)\n",
    "run_q(nested_q3, nested_q3_b)"
   ]
  },
  {
   "cell_type": "markdown",
   "metadata": {},
   "source": [
    "____\n",
    "### Challenge:\n",
    "Write a query to see authors who appear in the `auth_table` but don't show up in the `book_table`."
   ]
  },
  {
   "cell_type": "code",
   "execution_count": 221,
   "metadata": {
    "collapsed": true
   },
   "outputs": [],
   "source": [
    "nest_chall = widgets.Textarea(value='', width = '50em', height = '12em')\n",
    "display(nest_chall) "
   ]
  },
  {
   "cell_type": "code",
   "execution_count": 222,
   "metadata": {
    "collapsed": false
   },
   "outputs": [],
   "source": [
    "nest_chall_b = widgets.Button(description='Run', width='10em', height='2.5em', color='white',background_color='black', border_color='black')\n",
    "display(nest_chall_b)\n",
    "run_q(nest_chall, nest_chall_b) "
   ]
  },
  {
   "cell_type": "code",
   "execution_count": 223,
   "metadata": {
    "collapsed": false
   },
   "outputs": [],
   "source": [
    "nest_chall_c ='''SELECT \n",
    "    last_name\n",
    "FROM\n",
    "    auth_table\n",
    "WHERE\n",
    "    last_name NOT IN (SELECT author FROM book_table)\n",
    "'''\n",
    "cheat(nest_chall_c) "
   ]
  },
  {
   "cell_type": "markdown",
   "metadata": {},
   "source": [
    "You can also use nested queries to avoid the need for multiple `JOIN` clauses. Suppose you wanted to see the total revenue for books by authors from England.  Previously, we would have joined the `sales_table` to the `book_table`, and then the `book_table` to the `auth_table` in order to be able to work with both the `revenue` column and the `country` column:"
   ]
  },
  {
   "cell_type": "code",
   "execution_count": 224,
   "metadata": {
    "collapsed": true
   },
   "outputs": [],
   "source": [
    "nest_q3 = widgets.Textarea(value=\n",
    "'''SELECT\n",
    "    SUM(revenue)\n",
    "FROM\n",
    "    sales_table\n",
    "WHERE\n",
    "    book IN (SELECT \n",
    "                book \n",
    "            FROM \n",
    "                book_table B \n",
    "                JOIN auth_table A ON B.author = A.last_name \n",
    "            WHERE \n",
    "                A.country = 'England')''',\n",
    "width = '50em', height = '18em')\n",
    "display(nest_q3) "
   ]
  },
  {
   "cell_type": "code",
   "execution_count": 225,
   "metadata": {
    "collapsed": false
   },
   "outputs": [
    {
     "data": {
      "text/html": [
       "<table border=\"1\" class=\"dataframe\">\n",
       "  <thead>\n",
       "    <tr style=\"text-align: right;\">\n",
       "      <th>SUM(revenue)</th>\n",
       "    </tr>\n",
       "  </thead>\n",
       "  <tbody>\n",
       "    <tr>\n",
       "      <td>639.7</td>\n",
       "    </tr>\n",
       "  </tbody>\n",
       "</table>"
      ],
      "text/plain": [
       "<IPython.core.display.HTML object>"
      ]
     },
     "metadata": {},
     "output_type": "display_data"
    }
   ],
   "source": [
    "nest_b3 = widgets.Button(description='Run', width='10em', height='2.5em', color='white',background_color='black', border_color='black')\n",
    "display(nest_b3)\n",
    "run_q(nest_q3, nest_b3)"
   ]
  },
  {
   "cell_type": "markdown",
   "metadata": {},
   "source": [
    "Let's break down what's going on here.  First, copy and paste the *nested* query (the part in parentheses) in the cell below, then run it:"
   ]
  },
  {
   "cell_type": "code",
   "execution_count": 226,
   "metadata": {
    "collapsed": true
   },
   "outputs": [],
   "source": [
    "nest_q3_explained = widgets.Textarea(value='',width = '50em', height = '12em')\n",
    "display(nest_q3_explained) "
   ]
  },
  {
   "cell_type": "code",
   "execution_count": 227,
   "metadata": {
    "collapsed": false
   },
   "outputs": [],
   "source": [
    "nest_b3_explained = widgets.Button(description='Run', width='10em', height='2.5em', color='white',background_color='black', border_color='black')\n",
    "display(nest_b3_explained)\n",
    "run_q(nest_q3_explained, nest_b3_explained)"
   ]
  },
  {
   "cell_type": "markdown",
   "metadata": {},
   "source": [
    "Next, take the output that you just produced and: <br>\n",
    "• comma-separate each book <br>\n",
    "• wrap each book in quotation marks <br>\n",
    "• paste your list between the parentheses in the `WHERE` clause below: <br>\n",
    "• rerun the query <br>"
   ]
  },
  {
   "cell_type": "code",
   "execution_count": 228,
   "metadata": {
    "collapsed": true
   },
   "outputs": [],
   "source": [
    "nest_q3_explained2 = widgets.Textarea(value=\n",
    "'''SELECT\n",
    "    SUM(revenue)\n",
    "FROM\n",
    "    sales_table\n",
    "WHERE\n",
    "    book IN ( )''',\n",
    "width = '50em', height = '12em')\n",
    "display(nest_q3_explained2) "
   ]
  },
  {
   "cell_type": "code",
   "execution_count": 229,
   "metadata": {
    "collapsed": false
   },
   "outputs": [
    {
     "data": {
      "text/html": [
       "<table border=\"1\" class=\"dataframe\">\n",
       "  <thead>\n",
       "    <tr style=\"text-align: right;\">\n",
       "      <th>SUM(revenue)</th>\n",
       "    </tr>\n",
       "  </thead>\n",
       "  <tbody>\n",
       "    <tr>\n",
       "      <td></td>\n",
       "    </tr>\n",
       "  </tbody>\n",
       "</table>"
      ],
      "text/plain": [
       "<IPython.core.display.HTML object>"
      ]
     },
     "metadata": {},
     "output_type": "display_data"
    }
   ],
   "source": [
    "nest_b3_explained2 = widgets.Button(description='Run', width='10em', height='2.5em', color='white',background_color='black', border_color='black')\n",
    "display(nest_b3_explained2)\n",
    "run_q(nest_q3_explained2, nest_b3_explained2)"
   ]
  },
  {
   "cell_type": "markdown",
   "metadata": {},
   "source": [
    "This is essentially the same process that SQL walks through when you run a nested query. It pulls the list of books from the nested query, then uses that list in the `WHERE` clause of the dominant query.  \n",
    "\n",
    "<img align=\"left\" src=\"http://i.imgur.com/sRHO5xr.png\"> <br>\n",
    "The query above produces the same results as if you'd done a multiple join, but it's much more efficient.  That's because SQL can just get the book titles it needs from the nested query and plug them into the dominent query, rather than needing to do all the work of duplicating rows to create joined tables. Use nested queries for more efficient joins whenever possible. "
   ]
  },
  {
   "cell_type": "markdown",
   "metadata": {},
   "source": [
    "__________\n",
    "___________\n",
    "___________\n",
    "<a id='union'></a>\n",
    "<center>\n",
    "[Previous](#case_when) &nbsp;&nbsp;&nbsp;&nbsp;&nbsp;  | &nbsp;&nbsp;&nbsp;&nbsp;&nbsp; [Table of Contents](#table_of_contents) &nbsp;&nbsp;&nbsp;&nbsp;&nbsp; |  &nbsp;&nbsp;&nbsp;&nbsp;&nbsp; [Next](#rollup)\n",
    "</center>\n",
    "![union](http://i.imgur.com/lPeXXCS.png)\n",
    ">**`SELECT`** <br>\n",
    "&nbsp;&nbsp;&nbsp;&nbsp;&nbsp;  **`some_column`** <br>\n",
    "**`FROM`** <br>\n",
    "&nbsp;&nbsp;&nbsp;&nbsp;&nbsp;  **`table_x`** <br>\n",
    "\n",
    ">**`UNION`** &nbsp;&nbsp;&nbsp;&nbsp;&nbsp;&nbsp;&nbsp;&nbsp;&nbsp;&nbsp;&nbsp;&nbsp;&nbsp;&nbsp;&nbsp;&nbsp;&nbsp;&nbsp;&nbsp;&nbsp;&nbsp;&nbsp; ➞ or use **`UNION ALL`**, see explanation below <br>\n",
    "\n",
    ">**`SELECT`** <br>\n",
    "&nbsp;&nbsp;&nbsp;&nbsp;&nbsp;  **`some_other_column`** <br>\n",
    "**`FROM`** <br>\n",
    "&nbsp;&nbsp;&nbsp;&nbsp;&nbsp;  **`table_y`** <br>\n",
    "\n",
    "**`UNION`** and **`UNION ALL`** allow you to attach two completely separate queries.  **`UNION`** will result in the output from the first query and the second query to be sorted by default (or you can add an `ORDER BY` clause).  **`UNION ALL`** will ensure that the results from the second query will all appear after the results from the first query.\n",
    "\n",
    "We'll start with a very, very simple illustration and work our way into more complex versions of `UNION` queries.  First, consider the query below.  We're pulling all books from the book table with the first query, and all the authors' first names from the auth_table with the second query.  By using `UNION`, we're telling SQL to return the results of both these queries in the same column. "
   ]
  },
  {
   "cell_type": "code",
   "execution_count": 230,
   "metadata": {
    "collapsed": true
   },
   "outputs": [],
   "source": [
    "union_q = widgets.Textarea(value=\n",
    "'''SELECT\n",
    "    book AS selection\n",
    "FROM\n",
    "    book_table\n",
    "\n",
    "UNION\n",
    "\n",
    "SELECT\n",
    "    first_name AS selection\n",
    "FROM\n",
    "    auth_table''',\n",
    "width = '50em', height = '16em')\n",
    "display(union_q) "
   ]
  },
  {
   "cell_type": "code",
   "execution_count": 231,
   "metadata": {
    "collapsed": false
   },
   "outputs": [
    {
     "data": {
      "text/html": [
       "<table border=\"1\" class=\"dataframe\">\n",
       "  <thead>\n",
       "    <tr style=\"text-align: right;\">\n",
       "      <th>selection</th>\n",
       "    </tr>\n",
       "  </thead>\n",
       "  <tbody>\n",
       "    <tr>\n",
       "      <td>A Farewell to Arms</td>\n",
       "    </tr>\n",
       "    <tr>\n",
       "      <td>Absalom! Absalom!</td>\n",
       "    </tr>\n",
       "    <tr>\n",
       "      <td>Emma</td>\n",
       "    </tr>\n",
       "    <tr>\n",
       "      <td>Ernest</td>\n",
       "    </tr>\n",
       "    <tr>\n",
       "      <td>For Whom the Bell Tolls</td>\n",
       "    </tr>\n",
       "    <tr>\n",
       "      <td>Hamlet</td>\n",
       "    </tr>\n",
       "    <tr>\n",
       "      <td>Jane</td>\n",
       "    </tr>\n",
       "    <tr>\n",
       "      <td>Macbeth</td>\n",
       "    </tr>\n",
       "    <tr>\n",
       "      <td>Pride and Prejudice</td>\n",
       "    </tr>\n",
       "    <tr>\n",
       "      <td>Romeo and Juliet</td>\n",
       "    </tr>\n",
       "    <tr>\n",
       "      <td>Sense and Sensibility</td>\n",
       "    </tr>\n",
       "    <tr>\n",
       "      <td>The Sound and the Fury</td>\n",
       "    </tr>\n",
       "    <tr>\n",
       "      <td>The Sun Also Rises</td>\n",
       "    </tr>\n",
       "    <tr>\n",
       "      <td>William</td>\n",
       "    </tr>\n",
       "  </tbody>\n",
       "</table>"
      ],
      "text/plain": [
       "<IPython.core.display.HTML object>"
      ]
     },
     "metadata": {},
     "output_type": "display_data"
    }
   ],
   "source": [
    "union_b = widgets.Button(description='Run', width='10em', height='2.5em', color='white',background_color='black', border_color='black')\n",
    "display(union_b)\n",
    "run_q(union_q, union_b)"
   ]
  },
  {
   "cell_type": "markdown",
   "metadata": {},
   "source": [
    "### Quick Exercise:\n",
    "1. Change the query above to use **`UNION ALL`** instead of **`UNION`** and re-run.  Make sure you understand how the output changes. \n",
    "2. Delete **`AS selection`** in the second query and rerun. \n",
    "3. Rename **`selection`** to something else in the first query and rerun. \n",
    "4. Add **`cogs`** in the **`SELECT`** clause in the first query and **`country`** to the **`SELECT`** clause in the second query, rerun.\n",
    "5. Delete **`cogs`** in the first query and rerun.  Can you think why you're hitting an error?"
   ]
  },
  {
   "cell_type": "markdown",
   "metadata": {},
   "source": [
    "### Useful applications for `UNION`\n",
    "The above example is just a simple illustration of how `UNION` functions, but it's not very useful as a practical application.  Now lets try `UNION` in a more useful way.  \n",
    "\n",
    "Let's say that our imaginary book store decides to start stocking a few movies, so we've created a new table to manage this new inventory:\n",
    "![movie_table](http://i.imgur.com/nMonwKJ.png)\n",
    "\n",
    "Now let's say we wanted to view *all* of our store inventory, COGs, and the author or director of each item.  We don't want to join the `movie_table` and the `book_table` - there's nothing to really join them on.  However, it'd be useful to stack them.\n",
    "\n",
    "### Challenge: \n",
    "Use **`UNION`** to write a query to view the contents of both **`movie_table`** and **`book_table`** in a single table.  The column-headers should be: **`Item`**, **`COGs`**, and **`Creator`**.  Order by item title (hint: with **`UNION`**, the **`ORDER BY`** clause can only go after the second query)."
   ]
  },
  {
   "cell_type": "code",
   "execution_count": 232,
   "metadata": {
    "collapsed": true
   },
   "outputs": [],
   "source": [
    "union_chall = widgets.Textarea(value='',width = '50em', height = '25em')\n",
    "display(union_chall) "
   ]
  },
  {
   "cell_type": "code",
   "execution_count": 233,
   "metadata": {
    "collapsed": false
   },
   "outputs": [],
   "source": [
    "union_chall_b = widgets.Button(description='Run', width='10em', height='2.5em', color='white',background_color='black', border_color='black')\n",
    "display(union_chall_b)\n",
    "run_q(union_chall, union_chall_b)"
   ]
  },
  {
   "cell_type": "code",
   "execution_count": 234,
   "metadata": {
    "collapsed": false
   },
   "outputs": [],
   "source": [
    "union_chall_c ='''SELECT\n",
    "    book as Item,\n",
    "    cogs as COGs,\n",
    "    author as Creator\n",
    "FROM\n",
    "    book_table\n",
    "    \n",
    "UNION\n",
    "\n",
    "SELECT\n",
    "    film, \n",
    "    cogs,\n",
    "    director\n",
    "FROM\n",
    "    movie_table\n",
    "ORDER BY \n",
    "    Item'''\n",
    "cheat(union_chall_c) "
   ]
  },
  {
   "cell_type": "markdown",
   "metadata": {},
   "source": [
    "### Using `UNION` to add totals and subtotals:\n",
    "Take a look at the query below. You'll see it pulls the COGs and book title for each book. It also uses `UNION ALL` to add a final line - a summary row averaging all cogs:"
   ]
  },
  {
   "cell_type": "code",
   "execution_count": 235,
   "metadata": {
    "collapsed": true
   },
   "outputs": [],
   "source": [
    "union_q2 = widgets.Textarea(value=\n",
    "'''SELECT\n",
    "    book,\n",
    "    cogs\n",
    "FROM\n",
    "    book_table\n",
    "    \n",
    "UNION ALL\n",
    "\n",
    "SELECT\n",
    "    'Average COGs',\n",
    "    ROUND(AVG(cogs), 2)\n",
    "FROM\n",
    "    book_table''',\n",
    "width = '50em', height = '19em')\n",
    "display(union_q2) "
   ]
  },
  {
   "cell_type": "code",
   "execution_count": 236,
   "metadata": {
    "collapsed": false
   },
   "outputs": [
    {
     "data": {
      "text/html": [
       "<table border=\"1\" class=\"dataframe\">\n",
       "  <thead>\n",
       "    <tr style=\"text-align: right;\">\n",
       "      <th>book</th>\n",
       "      <th>cogs</th>\n",
       "    </tr>\n",
       "  </thead>\n",
       "  <tbody>\n",
       "    <tr>\n",
       "      <td>For Whom the Bell Tolls</td>\n",
       "      <td>13.50</td>\n",
       "    </tr>\n",
       "    <tr>\n",
       "      <td>A Farewell to Arms</td>\n",
       "      <td>10.35</td>\n",
       "    </tr>\n",
       "    <tr>\n",
       "      <td>The Sun Also Rises</td>\n",
       "      <td>11.35</td>\n",
       "    </tr>\n",
       "    <tr>\n",
       "      <td>Sense and Sensibility</td>\n",
       "      <td>11.00</td>\n",
       "    </tr>\n",
       "    <tr>\n",
       "      <td>Emma</td>\n",
       "      <td>12.50</td>\n",
       "    </tr>\n",
       "    <tr>\n",
       "      <td>Pride and Prejudice</td>\n",
       "      <td>13.00</td>\n",
       "    </tr>\n",
       "    <tr>\n",
       "      <td>Romeo and Juliet</td>\n",
       "      <td>7.50</td>\n",
       "    </tr>\n",
       "    <tr>\n",
       "      <td>Hamlet</td>\n",
       "      <td>6.95</td>\n",
       "    </tr>\n",
       "    <tr>\n",
       "      <td>Macbeth</td>\n",
       "      <td>11.10</td>\n",
       "    </tr>\n",
       "    <tr>\n",
       "      <td>The Sound and the Fury</td>\n",
       "      <td>8.50</td>\n",
       "    </tr>\n",
       "    <tr>\n",
       "      <td>Absalom! Absalom!</td>\n",
       "      <td>5.15</td>\n",
       "    </tr>\n",
       "    <tr>\n",
       "      <td>Average COGs</td>\n",
       "      <td>10.08</td>\n",
       "    </tr>\n",
       "  </tbody>\n",
       "</table>"
      ],
      "text/plain": [
       "<IPython.core.display.HTML object>"
      ]
     },
     "metadata": {},
     "output_type": "display_data"
    }
   ],
   "source": [
    "union_b2 = widgets.Button(description='Run', width='10em', height='2.5em', color='white',background_color='black', border_color='black')\n",
    "display(union_b2)\n",
    "run_q(union_q2, union_b2)"
   ]
  },
  {
   "cell_type": "markdown",
   "metadata": {},
   "source": [
    "### Quick Exercise: \n",
    "1. Remove the **`ALL`** from **`UNION ALL`** and rerun. See how **`ALL`** can be useful?\n",
    "2. Delete **` 'Average COGs',`** from the second query and rerun. Make sure you understand why there's an error. Fix it and reruun.\n",
    "\n",
    "### Challenge:\n",
    "Write a query that totals revenue per book from the **`sales_table`**. Use **`UNION ALL`** to add a summary line that totals revenue for all books. "
   ]
  },
  {
   "cell_type": "code",
   "execution_count": 237,
   "metadata": {
    "collapsed": true
   },
   "outputs": [],
   "source": [
    "union_chall1 = widgets.Textarea(value='',\n",
    "width = '50em', height = '22em')\n",
    "display(union_chall1) "
   ]
  },
  {
   "cell_type": "code",
   "execution_count": 238,
   "metadata": {
    "collapsed": false
   },
   "outputs": [],
   "source": [
    "union_chall1_b = widgets.Button(description='Run', width='10em', height='2.5em', color='white',background_color='black', border_color='black')\n",
    "display(union_chall1_b)\n",
    "run_q(union_chall1, union_chall1_b)"
   ]
  },
  {
   "cell_type": "code",
   "execution_count": 239,
   "metadata": {
    "collapsed": true
   },
   "outputs": [],
   "source": [
    "union_chall1_c ='''SELECT\n",
    "    book,\n",
    "    SUM(revenue) AS total_revenue\n",
    "FROM\n",
    "    sales_table\n",
    "GROUP BY\n",
    "    book\n",
    "\n",
    "UNION ALL\n",
    "\n",
    "SELECT\n",
    "   'NULL',\n",
    "   SUM(revenue)\n",
    "FROM\n",
    "    sales_table \n",
    "'''\n",
    "cheat(union_chall1_c) "
   ]
  },
  {
   "cell_type": "markdown",
   "metadata": {},
   "source": [
    "### Extra Challenging Challenge:\n",
    "Write a query that totals revenue per book. Add subtotal lines for each author's revenue above their books. The output should look like this (use Google to figure out how to capitalize the authors' names for the subtotal rows). "
   ]
  },
  {
   "cell_type": "code",
   "execution_count": 240,
   "metadata": {
    "collapsed": false
   },
   "outputs": [
    {
     "data": {
      "text/html": [
       "<table border=\"1\" class=\"dataframe\">\n",
       "  <thead>\n",
       "    <tr style=\"text-align: right;\">\n",
       "      <th>author_last_name</th>\n",
       "      <th>book_title</th>\n",
       "      <th>sum_revenue</th>\n",
       "    </tr>\n",
       "  </thead>\n",
       "  <tbody>\n",
       "    <tr>\n",
       "      <td>AUSTEN</td>\n",
       "      <td>TOTAL REVENUE</td>\n",
       "      <td>392.73</td>\n",
       "    </tr>\n",
       "    <tr>\n",
       "      <td>Austen</td>\n",
       "      <td>Emma</td>\n",
       "      <td>142.71</td>\n",
       "    </tr>\n",
       "    <tr>\n",
       "      <td>Austen</td>\n",
       "      <td>Pride and Prejudice</td>\n",
       "      <td>134.54</td>\n",
       "    </tr>\n",
       "    <tr>\n",
       "      <td>Austen</td>\n",
       "      <td>Sense and Sensibility</td>\n",
       "      <td>115.48</td>\n",
       "    </tr>\n",
       "    <tr>\n",
       "      <td>FAULKNER</td>\n",
       "      <td>TOTAL REVENUE</td>\n",
       "      <td>169.86</td>\n",
       "    </tr>\n",
       "    <tr>\n",
       "      <td>Faulkner</td>\n",
       "      <td>Absalom! Absalom!</td>\n",
       "      <td>25.91</td>\n",
       "    </tr>\n",
       "    <tr>\n",
       "      <td>Faulkner</td>\n",
       "      <td>The Sound and the Fury</td>\n",
       "      <td>143.95</td>\n",
       "    </tr>\n",
       "    <tr>\n",
       "      <td>HEMINGWAY</td>\n",
       "      <td>TOTAL REVENUE</td>\n",
       "      <td>481.59</td>\n",
       "    </tr>\n",
       "    <tr>\n",
       "      <td>Hemingway</td>\n",
       "      <td>A Farewell to Arms</td>\n",
       "      <td>110.66</td>\n",
       "    </tr>\n",
       "    <tr>\n",
       "      <td>Hemingway</td>\n",
       "      <td>For Whom the Bell Tolls</td>\n",
       "      <td>207.60</td>\n",
       "    </tr>\n",
       "    <tr>\n",
       "      <td>Hemingway</td>\n",
       "      <td>The Sun Also Rises</td>\n",
       "      <td>163.33</td>\n",
       "    </tr>\n",
       "    <tr>\n",
       "      <td>SHAKESPEARE</td>\n",
       "      <td>TOTAL REVENUE</td>\n",
       "      <td>246.97</td>\n",
       "    </tr>\n",
       "    <tr>\n",
       "      <td>Shakespeare</td>\n",
       "      <td>Hamlet</td>\n",
       "      <td>88.48</td>\n",
       "    </tr>\n",
       "    <tr>\n",
       "      <td>Shakespeare</td>\n",
       "      <td>Macbeth</td>\n",
       "      <td>97.48</td>\n",
       "    </tr>\n",
       "    <tr>\n",
       "      <td>Shakespeare</td>\n",
       "      <td>Romeo and Juliet</td>\n",
       "      <td>61.01</td>\n",
       "    </tr>\n",
       "  </tbody>\n",
       "</table>"
      ],
      "text/plain": [
       "<IPython.core.display.HTML object>"
      ]
     },
     "execution_count": 240,
     "metadata": {},
     "output_type": "execute_result"
    }
   ],
   "source": [
    "HTML(run('''SELECT\n",
    "    B.author AS author_last_name,\n",
    "    B.book AS book_title,\n",
    "    SUM(S.revenue) AS sum_revenue\n",
    "FROM\n",
    "    sales_table S\n",
    "    JOIN book_table B on S.book = B.book\n",
    "GROUP BY\n",
    "    B.book\n",
    "\n",
    "UNION \n",
    "\n",
    "SELECT\n",
    "   UPPER(B.author),\n",
    "   'TOTAL REVENUE',\n",
    "   SUM(S.revenue)\n",
    "FROM\n",
    "    sales_table S\n",
    "    JOIN book_table B on S.book = B.book\n",
    "GROUP BY\n",
    "    B.author\n",
    "''').to_html(index=False))"
   ]
  },
  {
   "cell_type": "code",
   "execution_count": 241,
   "metadata": {
    "collapsed": true
   },
   "outputs": [],
   "source": [
    "union_chall2 = widgets.Textarea(value='', width = '50em', height = '30em')\n",
    "display(union_chall2) "
   ]
  },
  {
   "cell_type": "code",
   "execution_count": 242,
   "metadata": {
    "collapsed": false
   },
   "outputs": [],
   "source": [
    "union_chall2_b = widgets.Button(description='Run', width='10em', height='2.5em', color='white',background_color='black', border_color='black')\n",
    "display(union_chall2_b)\n",
    "run_q(union_chall2, union_chall2_b)"
   ]
  },
  {
   "cell_type": "code",
   "execution_count": 243,
   "metadata": {
    "collapsed": false
   },
   "outputs": [],
   "source": [
    "union_chall2_c ='''SELECT\n",
    "    B.author AS author_last_name,\n",
    "    B.book AS book_title,\n",
    "    SUM(S.revenue) AS sum_revenue\n",
    "FROM\n",
    "    sales_table S\n",
    "    JOIN book_table B on S.book = B.book\n",
    "GROUP BY\n",
    "    B.book\n",
    "\n",
    "UNION \n",
    "\n",
    "SELECT\n",
    "   UPPER(B.author),\n",
    "   'TOTAL REVENUE',\n",
    "   SUM(S.revenue)\n",
    "FROM\n",
    "    sales_table S\n",
    "    JOIN book_table B on S.book = B.book\n",
    "GROUP BY\n",
    "    B.author'''\n",
    "cheat(union_chall2_c) "
   ]
  },
  {
   "cell_type": "markdown",
   "metadata": {},
   "source": [
    "__________\n",
    "___________\n",
    "___________\n",
    "<a id='rollup'></a>\n",
    "<center>\n",
    "[Previous](#union) &nbsp;&nbsp;&nbsp;&nbsp;&nbsp;  | &nbsp;&nbsp;&nbsp;&nbsp;&nbsp; [Table of Contents](#table_of_contents) &nbsp;&nbsp;&nbsp;&nbsp;&nbsp; |  &nbsp;&nbsp;&nbsp;&nbsp;&nbsp; [Next](#wrapping_up)\n",
    "</center>\n",
    "![rollup](http://i.imgur.com/jQ9MMJo.png)\n",
    "\n",
    "<font color='#1f5fd6'>Microsoft SQL Server | <font color='#1f5fd6'>MySQL | <font color='#1f5fd6'>Oracle | <font color='#1f5fd6'>SQLite </font>\n",
    ":------------------: | :---: | :----: | :----:\n",
    "`GROUP BY column_a WITH ROLLUP`  | `GROUP BY column_a WITH ROLLUP` | `GROUP BY ROLLUP (column_a)` | not supported\n",
    "\n",
    "Unfortunately, SQLite doesn't have a simple way to do ROLLUP like the other RDBMSs, so we can't practice it here. However, the concept is very straightforward: it's exactly like using `UNION` to add a summary row, except way simpler.  Below is what the query *would* look like if we were using Microsoft or MySQL.  Take a look at the query and the output to understand what's going on, even if you can't practice it:\n",
    "\n",
    "> **`SELECT` <br>\n",
    "&nbsp;&nbsp;&nbsp;&nbsp;&nbsp; `book,`  <br>\n",
    "&nbsp;&nbsp;&nbsp;&nbsp;&nbsp; `SUM(revenue) AS total_revenue,` <br>\n",
    "&nbsp;&nbsp;&nbsp;&nbsp;&nbsp; `COUNT(*) AS count_of_sales` <br>\n",
    "`FROM` <br>\n",
    "&nbsp;&nbsp;&nbsp;&nbsp;&nbsp; `sales_table` <br>\n",
    "`GROUP BY` <br>\n",
    "&nbsp;&nbsp;&nbsp;&nbsp;&nbsp; `book WITH ROLLUP`** <br>"
   ]
  },
  {
   "cell_type": "code",
   "execution_count": 244,
   "metadata": {
    "collapsed": false
   },
   "outputs": [
    {
     "data": {
      "text/html": [
       "<table border=\"1\" class=\"dataframe\">\n",
       "  <thead>\n",
       "    <tr style=\"text-align: right;\">\n",
       "      <th>book</th>\n",
       "      <th>total_revenue</th>\n",
       "      <th>count_of_sales</th>\n",
       "    </tr>\n",
       "  </thead>\n",
       "  <tbody>\n",
       "    <tr>\n",
       "      <td>A Farewell to Arms</td>\n",
       "      <td>110.66</td>\n",
       "      <td>8</td>\n",
       "    </tr>\n",
       "    <tr>\n",
       "      <td>Absalom! Absalom!</td>\n",
       "      <td>25.91</td>\n",
       "      <td>4</td>\n",
       "    </tr>\n",
       "    <tr>\n",
       "      <td>Emma</td>\n",
       "      <td>142.71</td>\n",
       "      <td>9</td>\n",
       "    </tr>\n",
       "    <tr>\n",
       "      <td>For Whom the Bell Tolls</td>\n",
       "      <td>207.60</td>\n",
       "      <td>12</td>\n",
       "    </tr>\n",
       "    <tr>\n",
       "      <td>Hamlet</td>\n",
       "      <td>88.48</td>\n",
       "      <td>10</td>\n",
       "    </tr>\n",
       "    <tr>\n",
       "      <td>Macbeth</td>\n",
       "      <td>97.48</td>\n",
       "      <td>11</td>\n",
       "    </tr>\n",
       "    <tr>\n",
       "      <td>Pride and Prejudice</td>\n",
       "      <td>134.54</td>\n",
       "      <td>8</td>\n",
       "    </tr>\n",
       "    <tr>\n",
       "      <td>Romeo and Juliet</td>\n",
       "      <td>61.01</td>\n",
       "      <td>6</td>\n",
       "    </tr>\n",
       "    <tr>\n",
       "      <td>Sense and Sensibility</td>\n",
       "      <td>115.48</td>\n",
       "      <td>8</td>\n",
       "    </tr>\n",
       "    <tr>\n",
       "      <td>The Sound and the Fury</td>\n",
       "      <td>143.95</td>\n",
       "      <td>13</td>\n",
       "    </tr>\n",
       "    <tr>\n",
       "      <td>The Sun Also Rises</td>\n",
       "      <td>163.33</td>\n",
       "      <td>11</td>\n",
       "    </tr>\n",
       "    <tr>\n",
       "      <td>NULL</td>\n",
       "      <td>1291.15</td>\n",
       "      <td>100</td>\n",
       "    </tr>\n",
       "  </tbody>\n",
       "</table>"
      ],
      "text/plain": [
       "<IPython.core.display.HTML object>"
      ]
     },
     "execution_count": 244,
     "metadata": {},
     "output_type": "execute_result"
    }
   ],
   "source": [
    "HTML(run('''SELECT\n",
    "    book,\n",
    "    SUM(revenue) AS total_revenue, \n",
    "    COUNT(*) AS count_of_sales\n",
    "FROM\n",
    "    sales_table\n",
    "GROUP BY\n",
    "    book\n",
    "\n",
    "UNION ALL\n",
    "\n",
    "SELECT\n",
    "   'NULL',\n",
    "   SUM(revenue),\n",
    "   COUNT(*)\n",
    "FROM\n",
    "    sales_table''').to_html(index=False))"
   ]
  },
  {
   "cell_type": "markdown",
   "metadata": {},
   "source": [
    "Note that rollup produces the word \"NULL\" for any row that it cannot sum up. Essentially its function is to find all columns with numbers and add these up.  Numberless columns can't be added, so rollup just skips them. "
   ]
  },
  {
   "cell_type": "markdown",
   "metadata": {},
   "source": [
    "__________\n",
    "___________\n",
    "___________\n",
    "<a id='wrapping_up'></a>\n",
    "<center>\n",
    "[Previous](#rollup) &nbsp;&nbsp;&nbsp;&nbsp;&nbsp;  | &nbsp;&nbsp;&nbsp;&nbsp;&nbsp; [Table of Contents](#table_of_contents) &nbsp;&nbsp;&nbsp;&nbsp;&nbsp;\n",
    "</center>\n",
    "![wrapping up](http://i.imgur.com/nXNdAji.png)\n",
    "\n",
    "\n",
    "### One or two days before your job or internship:\n",
    "Review and PRACTICE! Review the lessons and terms, re-do the quick exercises and challenges.  Seriously. This stuff is easily forgotten if you don't use it, so be sure to refresh what you've learned before you start working. \n",
    "\n",
    "Here's some [additional reading](http://www.w3schools.com/sql/sql_intro.asp) on SQL if you're interested. \n",
    "\n",
    "### When you first start work:\n",
    "1. Find out what relational database management system your company uses, and get acquainted with how that system differs from what we've learned in class (use the table below as a quide).\n",
    "2. Ask coworkers if they have any pre-written queries that will be useful to your work. Read through them and make sure you understand them.\n",
    "4. Read the structure of any table that seems important so you understand what data can be found in each.\n",
    "5. Figure out how tables join to one another, and which columns come from which tables\n",
    "6. ALWAYS ALWAYS avoid \"slow server\" traps when you are exploring your database. That means:\n",
    "    - NEVER Run a simple **`SELECT * FROM table_name`** query unless you are absolutely certain that the table is very, very small\n",
    "    - Avoid joining 3 or more tables whenever possible. If you find yourself needing them, try to see if you can use a nested query to cut one of the **`JOIN`** clauses out.\n",
    "    - If your table is recording dates, use these to limit how much data you pull. Depending on the table, more than 1-2 months at a time will usually slow down a system. \n",
    "    - Use **`LIKE`** and % sparingly or use **`WHERE`** to limit your search as much as possible unless you are dealing with a small-ish table\n",
    "    \n",
    "### What do I mean by small vs. large tables?\n",
    "Several times in class we've discussed certain practices that should only be applied to small tables to avoid strain on your server. You can use `SELECT COUNT(*) FROM table_name` to see how many rows it has. You can also think of it like this: the more often the table is updated, the larger it probably is. A table that adds a row every time a user views a webpage is updated constantly and is probably huge. A table that simply lists all the ZIP codes in the US probably doesn't get updated often, it'll be pretty small. "
   ]
  },
  {
   "cell_type": "markdown",
   "metadata": {},
   "source": [
    "<a id='dialect_differences'></a>\n",
    "# Dialect Differences:\n",
    "<font color='#1f5fd6'> Description | <font color='#1f5fd6'> Microsoft SQL Server | <font color='#1f5fd6'> MySQL | <font color='#1f5fd6'> Oracle | <font color='#1f5fd6'> SQLite </font>|\n",
    ":--------: | :------------------: | :---: | :----: | :----: |\n",
    "**Reading a table's structure** | `SP_Help tablename`  | `DESCRIBE tablename` | `DESCRIBE tablename` | `PRAGMA TABLE_INFO(tablename)` \n",
    "**Limiting rows** | `SELECT TOP N column_name`  | `LIMIT N` | `WHERE ROWNUM <= N` | `LIMIT N`\n",
    "**`JOIN` or `INNER JOIN`** | ✓ | ✓ | ✓ | ✓\n",
    "**`LEFT JOIN` or `LEFT OUTER JOIN`** | ✓ | ✓ | ✓ | ✓\n",
    "**`RIGHT JOIN` or `RIGHT OUTER JOIN`** | ✓ | ✓ | ✓ | not supported\n",
    "**`OUTER JOIN` or `FULL OUTER JOIN`** | ✓ | not supported | ✓ | not supported\n",
    "**`IF`** | `IF logical_test PRINT value_if_true `  | `IF(logical_test, value_if_true, value_if_false)` (same as Excel) | `IF logical_test THEN value_if_true ELSIF...END IF` | NOT SUPPORTED\n",
    "**`CASE WHEN`** | ✓ | ✓ | ✓ | ✓ \n",
    "**`ROLLUP`** | `GROUP BY column_a WITH ROLLUP`  | `GROUP BY column_a WITH ROLLUP` | `GROUP BY ROLLUP (column_a)` | not supported"
   ]
  }
 ],
 "metadata": {
  "kernelspec": {
   "display_name": "Python 3",
   "language": "python",
   "name": "python3"
  },
  "language_info": {
   "codemirror_mode": {
    "name": "ipython",
    "version": 3
   },
   "file_extension": ".py",
   "mimetype": "text/x-python",
   "name": "python",
   "nbconvert_exporter": "python",
   "pygments_lexer": "ipython3",
   "version": "3.5.1"
  }
 },
 "nbformat": 4,
 "nbformat_minor": 0
}
