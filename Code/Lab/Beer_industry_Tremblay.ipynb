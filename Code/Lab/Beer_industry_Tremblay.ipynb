{
 "cells": [
  {
   "cell_type": "markdown",
   "metadata": {},
   "source": [
    "# The US beer industry\n",
    "\n",
    "We use data from Victor and Carol Tremblay that describe the size distribution of the top 100 US beer producers from 1947 to 2004.  This is background data from their book, [The US Brewing Industry](http://www.amazon.com/The-US-Brewing-Industry-Economic/dp/0262512637), MIT Press, 2004.  Two interesting features are the consolidation that continues to this day and the growth of micro or craft brewers over the past two decades. The numbers are thousands of 31-gallon barrels.  US totals are in column 107, so we could divide to get shares.  \n",
    "\n",
    "This notebook written by Dave Backus for the NYU Stern course [Data Bootcamp](http://databootcamp.nyuecon.com/).  \n",
    "\n",
    "**Warning:**  This works, but we need to clean up the figs a bit, esp the color schemes.  I'd also like to see some interactions.  "
   ]
  },
  {
   "cell_type": "code",
   "execution_count": 4,
   "metadata": {
    "collapsed": true
   },
   "outputs": [],
   "source": [
    "%matplotlib inline\n",
    "import pandas as pd\n",
    "import matplotlib.pyplot as plt "
   ]
  },
  {
   "cell_type": "code",
   "execution_count": 5,
   "metadata": {
    "collapsed": false,
    "scrolled": true
   },
   "outputs": [
    {
     "name": "stdout",
     "output_type": "stream",
     "text": [
      "Dimensions: (58, 115)\n"
     ]
    },
    {
     "data": {
      "text/html": [
       "<div>\n",
       "<table border=\"1\" class=\"dataframe\">\n",
       "  <thead>\n",
       "    <tr style=\"text-align: right;\">\n",
       "      <th></th>\n",
       "      <th>1</th>\n",
       "      <th>2</th>\n",
       "      <th>3</th>\n",
       "      <th>4</th>\n",
       "      <th>5</th>\n",
       "      <th>6</th>\n",
       "      <th>7</th>\n",
       "      <th>8</th>\n",
       "      <th>9</th>\n",
       "      <th>10</th>\n",
       "    </tr>\n",
       "    <tr>\n",
       "      <th>YEAR</th>\n",
       "      <th></th>\n",
       "      <th></th>\n",
       "      <th></th>\n",
       "      <th></th>\n",
       "      <th></th>\n",
       "      <th></th>\n",
       "      <th></th>\n",
       "      <th></th>\n",
       "      <th></th>\n",
       "      <th></th>\n",
       "    </tr>\n",
       "  </thead>\n",
       "  <tbody>\n",
       "    <tr>\n",
       "      <th>1947</th>\n",
       "      <td>3991</td>\n",
       "      <td>3732</td>\n",
       "      <td>3726</td>\n",
       "      <td>3609</td>\n",
       "      <td>2240</td>\n",
       "      <td>2100</td>\n",
       "      <td>1902</td>\n",
       "      <td>1652</td>\n",
       "      <td>1491</td>\n",
       "      <td>1167</td>\n",
       "    </tr>\n",
       "    <tr>\n",
       "      <th>1948</th>\n",
       "      <td>4865</td>\n",
       "      <td>4280</td>\n",
       "      <td>4138</td>\n",
       "      <td>4042</td>\n",
       "      <td>2443</td>\n",
       "      <td>2250</td>\n",
       "      <td>2110</td>\n",
       "      <td>1638</td>\n",
       "      <td>1376</td>\n",
       "      <td>1202</td>\n",
       "    </tr>\n",
       "    <tr>\n",
       "      <th>1949</th>\n",
       "      <td>4843</td>\n",
       "      <td>4673</td>\n",
       "      <td>4526</td>\n",
       "      <td>4514</td>\n",
       "      <td>2474</td>\n",
       "      <td>1927</td>\n",
       "      <td>1875</td>\n",
       "      <td>1598</td>\n",
       "      <td>1438</td>\n",
       "      <td>1436</td>\n",
       "    </tr>\n",
       "    <tr>\n",
       "      <th>1950</th>\n",
       "      <td>5097</td>\n",
       "      <td>4889</td>\n",
       "      <td>4375</td>\n",
       "      <td>4105</td>\n",
       "      <td>2662</td>\n",
       "      <td>2652</td>\n",
       "      <td>2287</td>\n",
       "      <td>2105</td>\n",
       "      <td>1746</td>\n",
       "      <td>1618</td>\n",
       "    </tr>\n",
       "    <tr>\n",
       "      <th>1951</th>\n",
       "      <td>5716</td>\n",
       "      <td>5479</td>\n",
       "      <td>4530</td>\n",
       "      <td>3990</td>\n",
       "      <td>2800</td>\n",
       "      <td>2612</td>\n",
       "      <td>2600</td>\n",
       "      <td>2295</td>\n",
       "      <td>1799</td>\n",
       "      <td>1555</td>\n",
       "    </tr>\n",
       "  </tbody>\n",
       "</table>\n",
       "</div>"
      ],
      "text/plain": [
       "        1     2     3     4     5     6     7     8     9     10\n",
       "YEAR                                                            \n",
       "1947  3991  3732  3726  3609  2240  2100  1902  1652  1491  1167\n",
       "1948  4865  4280  4138  4042  2443  2250  2110  1638  1376  1202\n",
       "1949  4843  4673  4526  4514  2474  1927  1875  1598  1438  1436\n",
       "1950  5097  4889  4375  4105  2662  2652  2287  2105  1746  1618\n",
       "1951  5716  5479  4530  3990  2800  2612  2600  2295  1799  1555"
      ]
     },
     "execution_count": 5,
     "metadata": {},
     "output_type": "execute_result"
    }
   ],
   "source": [
    "url = 'http://pages.stern.nyu.edu/~dbackus/Data/beer_production_1947-2004.xlsx'\n",
    "beer = pd.read_excel(url, skiprows=12, index_col=0)\n",
    "\n",
    "print('Dimensions:', beer.shape)\n",
    "beer[list(range(1,11))].head()"
   ]
  },
  {
   "cell_type": "code",
   "execution_count": 6,
   "metadata": {
    "collapsed": false,
    "scrolled": true
   },
   "outputs": [],
   "source": [
    "vars = list(range(1,101))   #+ ['Total Output of Domestic Brewers (excludes imports)']\n",
    "pdf = beer[vars].T"
   ]
  },
  {
   "cell_type": "code",
   "execution_count": 7,
   "metadata": {
    "collapsed": false
   },
   "outputs": [
    {
     "data": {
      "text/plain": [
       "Int64Index([1947, 1948, 1949, 1950, 1951, 1952, 1953, 1954, 1955, 1956, 1957,\n",
       "            1958, 1959, 1960, 1961, 1962, 1963, 1964, 1965, 1966, 1967, 1968,\n",
       "            1969, 1970, 1971, 1972, 1973, 1974, 1975, 1976, 1977, 1978, 1979,\n",
       "            1980, 1981, 1982, 1983, 1984, 1985, 1986, 1987, 1988, 1989, 1990,\n",
       "            1991, 1992, 1993, 1994, 1995, 1996, 1997, 1998, 1999, 2000, 2001,\n",
       "            2002, 2003, 2004],\n",
       "           dtype='int64', name='YEAR')"
      ]
     },
     "execution_count": 7,
     "metadata": {},
     "output_type": "execute_result"
    }
   ],
   "source": [
    "pdf.columns"
   ]
  },
  {
   "cell_type": "code",
   "execution_count": 8,
   "metadata": {
    "collapsed": false
   },
   "outputs": [
    {
     "data": {
      "text/plain": [
       "<matplotlib.legend.Legend at 0x8cb0d68>"
      ]
     },
     "execution_count": 8,
     "metadata": {},
     "output_type": "execute_result"
    },
    {
     "data": {
      "image/png": "[encoded data removed]",
      "text/plain": [
       "<matplotlib.figure.Figure at 0x8b85320>"
      ]
     },
     "metadata": {},
     "output_type": "display_data"
    }
   ],
   "source": [
    "fig, ax = plt.subplots()\n",
    "\n",
    "pdf[1947].plot(ax=ax, color='b', logy=True)\n",
    "pdf[1967].plot(ax=ax, color='m', logy=True)\n",
    "pdf[1987].plot(ax=ax, color='r', logy=True)\n",
    "pdf[2004].plot(ax=ax, color='g', logy=True)\n",
    "ax.legend()"
   ]
  },
  {
   "cell_type": "code",
   "execution_count": null,
   "metadata": {
    "collapsed": true
   },
   "outputs": [],
   "source": []
  },
  {
   "cell_type": "code",
   "execution_count": 18,
   "metadata": {
    "collapsed": false
   },
   "outputs": [
    {
     "data": {
      "text/plain": [
       "<matplotlib.legend.Legend at 0xa1eaac8>"
      ]
     },
     "execution_count": 18,
     "metadata": {},
     "output_type": "execute_result"
    },
    {
     "data": {
      "image/png": "[encoded data removed]",
      "text/plain": [
       "<matplotlib.figure.Figure at 0xb275278>"
      ]
     },
     "metadata": {},
     "output_type": "display_data"
    }
   ],
   "source": [
    "# play with the colors \n",
    "fig, ax = plt.subplots()\n",
    "\n",
    "years = [1947, 1967, 1987, 2004]\n",
    "\n",
    "for year in years:\n",
    "    darkness = (year-1940)/(2010-1940)\n",
    "    pdf[year].plot(ax=ax, lw=2, color='b', alpha=darkness, logy=True)\n",
    "    \n",
    "ax.set_ylabel('Sales by Industry Rank (log scale)')\n",
    "ax.set_xlabel('Industry Rank')\n",
    "ax.legend(years, fontsize=10, handlelength=2, labelspacing=0.15)"
   ]
  },
  {
   "cell_type": "code",
   "execution_count": null,
   "metadata": {
    "collapsed": true
   },
   "outputs": [],
   "source": []
  },
  {
   "cell_type": "markdown",
   "metadata": {
    "collapsed": true
   },
   "source": [
    "## interaction \n",
    "\n",
    "This would make a great interaction.  See Brian Granger's [notebook](http://nbviewer.jupyter.org/github/ellisonbg/talk-2015/blob/pydatabb/Interaction.ipynb).\n",
    "\n",
    "Also these:  \n",
    "\n",
    "* https://github.com/ipython/ipywidgets/tree/master/examples\n",
    "* https://github.com/ipython/ipywidgets/blob/master/examples/Using%20Interact.ipynb\n",
    "\n"
   ]
  },
  {
   "cell_type": "code",
   "execution_count": 13,
   "metadata": {
    "collapsed": false
   },
   "outputs": [
    {
     "name": "stderr",
     "output_type": "stream",
     "text": [
      "C:\\Users\\dbackus\\Anaconda3\\lib\\site-packages\\IPython\\html.py:14: ShimWarning: The `IPython.html` package has been deprecated. You should import from `notebook` instead. `IPython.html.widgets` has moved to `ipywidgets`.\n",
      "  \"`IPython.html.widgets` has moved to `ipywidgets`.\", ShimWarning)\n"
     ]
    }
   ],
   "source": [
    "from IPython.html.widgets import interact, fixed"
   ]
  },
  {
   "cell_type": "code",
   "execution_count": null,
   "metadata": {
    "collapsed": true
   },
   "outputs": [],
   "source": [
    "    \n",
    "    \n"
   ]
  },
  {
   "cell_type": "code",
   "execution_count": null,
   "metadata": {
    "collapsed": true
   },
   "outputs": [],
   "source": []
  },
  {
   "cell_type": "code",
   "execution_count": null,
   "metadata": {
    "collapsed": true
   },
   "outputs": [],
   "source": []
  },
  {
   "cell_type": "code",
   "execution_count": null,
   "metadata": {
    "collapsed": true
   },
   "outputs": [],
   "source": []
  },
  {
   "cell_type": "code",
   "execution_count": null,
   "metadata": {
    "collapsed": true
   },
   "outputs": [],
   "source": []
  }
 ],
 "metadata": {
  "kernelspec": {
   "display_name": "Python 3",
   "language": "python",
   "name": "python3"
  },
  "language_info": {
   "codemirror_mode": {
    "name": "ipython",
    "version": 3
   },
   "file_extension": ".py",
   "mimetype": "text/x-python",
   "name": "python",
   "nbconvert_exporter": "python",
   "pygments_lexer": "ipython3",
   "version": "3.5.1"
  }
 },
 "nbformat": 4,
 "nbformat_minor": 0
}
