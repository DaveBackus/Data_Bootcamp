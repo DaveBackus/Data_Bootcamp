{
 "cells": [
  {
   "cell_type": "markdown",
   "metadata": {},
   "source": [
    "# Data Bootcamp:  Code Practice A\n",
    "\n",
    "Optional Code Practice A to review Jupyter and graphics tools in Python. The goal here is to produce interesting graphs.  The data manipulation goes beyond what we've done; just run it and ??\n",
    "\n",
    "This notebook written by Dave Backus for the NYU Stern course [Data Bootcamp](http://databootcamp.nyuecon.com/).  \n",
    "\n",
    "**Warning:**  Work in progrss right now.  "
   ]
  },
  {
   "cell_type": "markdown",
   "metadata": {},
   "source": [
    "## Jupyter reminders \n",
    "\n",
    "* We refer to the cell that's highlighted as the current cell.  Clicking on any cell will make it the current cell.   \n",
    "* The + at the top creates a new cell below the current cell.  \n",
    "* To run a cell, hit shift-enter or click on the run-cell icon in the toolbar at the top.  \n",
    "* Change a cell from Code to Markdown (text) with the menu in the toolbar.  \n",
    "* For more information, click on Help at the top.  User Interface Tour is a good place to start."
   ]
  },
  {
   "cell_type": "markdown",
   "metadata": {},
   "source": [
    "**Check.** Run the code below.  If you get an error, bring your computer by and ask for help.  If you're unusually brave, go to [StackOverflow](http://stackoverflow.com/a/19961403/804513) and read the instructions.  Then come ask for help.  (This has to do with how your computer processes unicode.  When you hear that word -- unicode -- you should run away at high speed.)    "
   ]
  },
  {
   "cell_type": "code",
   "execution_count": 2,
   "metadata": {
    "collapsed": false
   },
   "outputs": [
    {
     "name": "stdout",
     "output_type": "stream",
     "text": [
      "Pandas version:  0.17.1\n"
     ]
    }
   ],
   "source": [
    "# to make sure things are working, run this \n",
    "import pandas as pd\n",
    "print('Pandas version: ', pd.__version__) "
   ]
  },
  {
   "cell_type": "markdown",
   "metadata": {},
   "source": [
    "## Question 1. Setup\n",
    "\n",
    "Import packages, arrange for graphs to display in the notebook. "
   ]
  },
  {
   "cell_type": "code",
   "execution_count": 5,
   "metadata": {
    "collapsed": true
   },
   "outputs": [],
   "source": [
    "import pandas as pd\n",
    "import matplotlib.pyplot as plt\n",
    "%matplotlib inline"
   ]
  },
  {
   "cell_type": "markdown",
   "metadata": {},
   "source": [
    "**Type your answers in the blank cell below.**\n",
    "\n",
    "* What does the `pandas` package do?\n",
    "* What does the `matplotlib` package do?  "
   ]
  },
  {
   "cell_type": "markdown",
   "metadata": {},
   "source": []
  },
  {
   "cell_type": "code",
   "execution_count": null,
   "metadata": {
    "collapsed": true
   },
   "outputs": [],
   "source": []
  },
  {
   "cell_type": "code",
   "execution_count": null,
   "metadata": {
    "collapsed": true
   },
   "outputs": [],
   "source": []
  },
  {
   "cell_type": "markdown",
   "metadata": {},
   "source": [
    "## Question 2. Winner take all and the long tail the US beer industry\n",
    "\n",
    "The internet produced some interesting market behavior, music being a great example.  Among them:  \n",
    "\n",
    "* Winner take all.  The large producers (Beyonce, for example) took larger shares of the market than they had in the past.  \n",
    "* The long tail.  At the same time, \n",
    "\n",
    "Curiously enough, we see the same thing in the US beer industry:   \n",
    "\n",
    "* Scale economies and a reduction in transportation costs (the interstate highway system build in the 1950s and 60s) led to consolidation, with the large firms getting larger, and the small ones either sellingout or going bankrupt.  (How many beer brands can you think of that no longer exist?)  \n",
    "* Starting in the 1980s, we saw a significant increase in the market share of small firms (\"craft brewers\") overall, even though each of them remains small.  \n",
    "\n",
    "We illustrate this with data from Victor and Carol Tremblay that describe the output of the top 100 US beer producers from 1947 to 2004.  This is background data from their book, [The US Brewing Industry](http://www.amazon.com/The-US-Brewing-Industry-Economic/dp/0262512637), MIT Press, 2004.  Output is measured in thousands of 31-gallon barrels.  "
   ]
  },
  {
   "cell_type": "markdown",
   "metadata": {},
   "source": [
    "**Data manipulation.** The data manipulation goes beyond what we've done in class.  You're free to ignore it, but here's the idea.  \n",
    "\n",
    "* The spreadsheet contains output by firms ranked 1 to 100 in size.  Each row refers to a specific year and includes the outputs of firms in order of size.  We don't have their names.  \n",
    "* We transpose this so that the columns are years and include output for the top-100 firms.  The row labels are the size rank of the firm.  \n",
    "* We then plot the size against the rank for four years to see how it has changed.  "
   ]
  },
  {
   "cell_type": "code",
   "execution_count": 12,
   "metadata": {
    "collapsed": false,
    "scrolled": true
   },
   "outputs": [
    {
     "name": "stdout",
     "output_type": "stream",
     "text": [
      "Dimensions: (58, 115)\n"
     ]
    },
    {
     "data": {
      "text/html": [
       "<div>\n",
       "<table border=\"1\" class=\"dataframe\">\n",
       "  <thead>\n",
       "    <tr style=\"text-align: right;\">\n",
       "      <th></th>\n",
       "      <th>1</th>\n",
       "      <th>2</th>\n",
       "      <th>3</th>\n",
       "      <th>4</th>\n",
       "      <th>5</th>\n",
       "      <th>6</th>\n",
       "      <th>7</th>\n",
       "      <th>8</th>\n",
       "      <th>9</th>\n",
       "      <th>10</th>\n",
       "    </tr>\n",
       "    <tr>\n",
       "      <th>YEAR</th>\n",
       "      <th></th>\n",
       "      <th></th>\n",
       "      <th></th>\n",
       "      <th></th>\n",
       "      <th></th>\n",
       "      <th></th>\n",
       "      <th></th>\n",
       "      <th></th>\n",
       "      <th></th>\n",
       "      <th></th>\n",
       "    </tr>\n",
       "  </thead>\n",
       "  <tbody>\n",
       "    <tr>\n",
       "      <th>1947</th>\n",
       "      <td>3991</td>\n",
       "      <td>3732</td>\n",
       "      <td>3726</td>\n",
       "      <td>3609</td>\n",
       "      <td>2240</td>\n",
       "      <td>2100</td>\n",
       "      <td>1902</td>\n",
       "      <td>1652</td>\n",
       "      <td>1491</td>\n",
       "      <td>1167</td>\n",
       "    </tr>\n",
       "    <tr>\n",
       "      <th>1948</th>\n",
       "      <td>4865</td>\n",
       "      <td>4280</td>\n",
       "      <td>4138</td>\n",
       "      <td>4042</td>\n",
       "      <td>2443</td>\n",
       "      <td>2250</td>\n",
       "      <td>2110</td>\n",
       "      <td>1638</td>\n",
       "      <td>1376</td>\n",
       "      <td>1202</td>\n",
       "    </tr>\n",
       "    <tr>\n",
       "      <th>1949</th>\n",
       "      <td>4843</td>\n",
       "      <td>4673</td>\n",
       "      <td>4526</td>\n",
       "      <td>4514</td>\n",
       "      <td>2474</td>\n",
       "      <td>1927</td>\n",
       "      <td>1875</td>\n",
       "      <td>1598</td>\n",
       "      <td>1438</td>\n",
       "      <td>1436</td>\n",
       "    </tr>\n",
       "  </tbody>\n",
       "</table>\n",
       "</div>"
      ],
      "text/plain": [
       "        1     2     3     4     5     6     7     8     9     10\n",
       "YEAR                                                            \n",
       "1947  3991  3732  3726  3609  2240  2100  1902  1652  1491  1167\n",
       "1948  4865  4280  4138  4042  2443  2250  2110  1638  1376  1202\n",
       "1949  4843  4673  4526  4514  2474  1927  1875  1598  1438  1436"
      ]
     },
     "execution_count": 12,
     "metadata": {},
     "output_type": "execute_result"
    }
   ],
   "source": [
    "url = 'http://pages.stern.nyu.edu/~dbackus/Data/beer_production_1947-2004.xlsx'\n",
    "beer = pd.read_excel(url, skiprows=12, index_col=0)\n",
    "\n",
    "print('Dimensions:', beer.shape)\n",
    "beer[list(range(1,11))].head(3)"
   ]
  },
  {
   "cell_type": "code",
   "execution_count": 20,
   "metadata": {
    "collapsed": false,
    "scrolled": true
   },
   "outputs": [
    {
     "data": {
      "text/html": [
       "<div>\n",
       "<table border=\"1\" class=\"dataframe\">\n",
       "  <thead>\n",
       "    <tr style=\"text-align: right;\">\n",
       "      <th>YEAR</th>\n",
       "      <th>1947</th>\n",
       "      <th>1967</th>\n",
       "      <th>1987</th>\n",
       "      <th>2004</th>\n",
       "    </tr>\n",
       "  </thead>\n",
       "  <tbody>\n",
       "    <tr>\n",
       "      <th>1</th>\n",
       "      <td>3991</td>\n",
       "      <td>15535</td>\n",
       "      <td>76084</td>\n",
       "      <td>103000</td>\n",
       "    </tr>\n",
       "    <tr>\n",
       "      <th>2</th>\n",
       "      <td>3732</td>\n",
       "      <td>10382</td>\n",
       "      <td>39260</td>\n",
       "      <td>38560</td>\n",
       "    </tr>\n",
       "    <tr>\n",
       "      <th>3</th>\n",
       "      <td>3726</td>\n",
       "      <td>10124</td>\n",
       "      <td>21275</td>\n",
       "      <td>22250</td>\n",
       "    </tr>\n",
       "    <tr>\n",
       "      <th>4</th>\n",
       "      <td>3609</td>\n",
       "      <td>6631</td>\n",
       "      <td>16000</td>\n",
       "      <td>7450</td>\n",
       "    </tr>\n",
       "    <tr>\n",
       "      <th>5</th>\n",
       "      <td>2240</td>\n",
       "      <td>4917</td>\n",
       "      <td>15658</td>\n",
       "      <td>1380</td>\n",
       "    </tr>\n",
       "  </tbody>\n",
       "</table>\n",
       "</div>"
      ],
      "text/plain": [
       "YEAR  1947   1967   1987    2004\n",
       "1     3991  15535  76084  103000\n",
       "2     3732  10382  39260   38560\n",
       "3     3726  10124  21275   22250\n",
       "4     3609   6631  16000    7450\n",
       "5     2240   4917  15658    1380"
      ]
     },
     "execution_count": 20,
     "metadata": {},
     "output_type": "execute_result"
    }
   ],
   "source": [
    "vars = list(range(1,101))   # extract top 100 firms \n",
    "pdf = beer[vars].T          # transpose (flip rows and columns)\n",
    "pdf[[1947, 1967, 1987, 2004]].head()"
   ]
  },
  {
   "cell_type": "code",
   "execution_count": 21,
   "metadata": {
    "collapsed": false
   },
   "outputs": [
    {
     "data": {
      "text/plain": [
       "<matplotlib.legend.Legend at 0x8c50cc0>"
      ]
     },
     "execution_count": 21,
     "metadata": {},
     "output_type": "execute_result"
    },
    {
     "data": {
      "image/png": "[encoded data removed]",
      "text/plain": [
       "<matplotlib.figure.Figure at 0x8cef860>"
      ]
     },
     "metadata": {},
     "output_type": "display_data"
    }
   ],
   "source": [
    "# a basic plot \n",
    "fig, ax = plt.subplots()\n",
    "\n",
    "pdf[1947].plot(ax=ax, lw=2, logy=True)\n",
    "pdf[1967].plot(ax=ax, logy=True)\n",
    "pdf[1987].plot(ax=ax, logy=True)\n",
    "pdf[2004].plot(ax=ax, logy=True)\n",
    "ax.legend()"
   ]
  },
  {
   "cell_type": "markdown",
   "metadata": {
    "collapsed": true
   },
   "source": [
    "**Answer these questions below.** Code is sufficient.  \n",
    "\n",
    "* Get help for the `set.title` method by typing `ax.set_title?` in a new cell and running it.  Note that you can open the documentation this produces in a separate window with the icon in the upper right (hover text = \"Open the pager in an external window\").  \n",
    "* Add a title using `ax.set_title('Your title')`.  \n",
    "* Change the fontsize of the title to 14.  \n",
    "* What happens if we add the argument/parameter `lw=2` to the `ax.plot()` statements?  \n",
    "* Add a label to the x axis with `ax.set_xlabel()`.  \n",
    "* Add a label to the y axis.  \n",
    "* Why did we use a log scale (`logy=True`)?  What happens if we don't?\n",
    "* Use the `color` argument/parameter to choose a more effective set of colors.  "
   ]
  },
  {
   "cell_type": "code",
   "execution_count": null,
   "metadata": {
    "collapsed": true
   },
   "outputs": [],
   "source": []
  },
  {
   "cell_type": "code",
   "execution_count": null,
   "metadata": {
    "collapsed": true
   },
   "outputs": [],
   "source": []
  },
  {
   "cell_type": "code",
   "execution_count": null,
   "metadata": {
    "collapsed": true
   },
   "outputs": [],
   "source": []
  },
  {
   "cell_type": "code",
   "execution_count": null,
   "metadata": {
    "collapsed": true
   },
   "outputs": [],
   "source": []
  },
  {
   "cell_type": "markdown",
   "metadata": {},
   "source": [
    "## Question 2."
   ]
  },
  {
   "cell_type": "code",
   "execution_count": null,
   "metadata": {
    "collapsed": true
   },
   "outputs": [],
   "source": []
  },
  {
   "cell_type": "code",
   "execution_count": null,
   "metadata": {
    "collapsed": true
   },
   "outputs": [],
   "source": []
  },
  {
   "cell_type": "code",
   "execution_count": null,
   "metadata": {
    "collapsed": true
   },
   "outputs": [],
   "source": []
  },
  {
   "cell_type": "code",
   "execution_count": null,
   "metadata": {
    "collapsed": true
   },
   "outputs": [],
   "source": []
  }
 ],
 "metadata": {
  "kernelspec": {
   "display_name": "Python 3",
   "language": "python",
   "name": "python3"
  },
  "language_info": {
   "codemirror_mode": {
    "name": "ipython",
    "version": 3
   },
   "file_extension": ".py",
   "mimetype": "text/x-python",
   "name": "python",
   "nbconvert_exporter": "python",
   "pygments_lexer": "ipython3",
   "version": "3.5.1"
  }
 },
 "nbformat": 4,
 "nbformat_minor": 0
}
