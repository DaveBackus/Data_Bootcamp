{
 "cells": [
  {
   "cell_type": "markdown",
   "metadata": {},
   "source": [
    "# Data Bootcamp:  Demography\n",
    "\n",
    "We love demography, specifically the dynamics of population growth and decline.  You can drill down seemingly without end, as this [terrific graphic](http://www.bloomberg.com/graphics/dataview/how-americans-die/) about causes of death suggests.    \n",
    "\n",
    "We take a look here at the UN's [population data](http://esa.un.org/unpd/wpp/Download/Standard/Population/):  the age distribution of the population, life expectancy, fertility (the word we use for births), and mortality (deaths).  Explore the website, it's filled with interesting data.  There are other sources that cover longer time periods, and for some countries you can get detailed data on specific things (causes of death, for example).  \n",
    "\n",
    "We use a number of countries as examples, but Japan and China are the most striking.  The code is written so that the country is easily changed.  \n",
    "\n",
    "This IPython notebook was created by Dave Backus, Chase Coleman, and Spencer Lyon for the NYU Stern course [Data Bootcamp](http://databootcamp.nyuecon.com/).  "
   ]
  },
  {
   "cell_type": "markdown",
   "metadata": {},
   "source": [
    "## Preliminaries\n",
    "\n",
    "Import statements and a date check for future reference.   "
   ]
  },
  {
   "cell_type": "code",
   "execution_count": 1,
   "metadata": {
    "collapsed": false
   },
   "outputs": [
    {
     "name": "stdout",
     "output_type": "stream",
     "text": [
      "Today is 2016-03-23\n",
      "What version of Python are we running? \n",
      "3.5.1 |Anaconda 2.5.0 (64-bit)| (default, Jan 29 2016, 15:01:46) [MSC v.1900 64 bit (AMD64)]\n"
     ]
    }
   ],
   "source": [
    "# import packages \n",
    "import pandas as pd                   # data management\n",
    "import matplotlib.pyplot as plt       # graphics \n",
    "import matplotlib as mpl              # graphics parameters\n",
    "import numpy as np                    # numerical calculations \n",
    "\n",
    "# IPython command, puts plots in notebook \n",
    "%matplotlib inline\n",
    "\n",
    "# check Python version \n",
    "import datetime as dt \n",
    "import sys\n",
    "print('Today is', dt.date.today())\n",
    "print('What version of Python are we running? \\n', sys.version, sep='') "
   ]
  },
  {
   "cell_type": "code",
   "execution_count": null,
   "metadata": {
    "collapsed": true
   },
   "outputs": [],
   "source": []
  },
  {
   "cell_type": "markdown",
   "metadata": {
    "collapsed": false
   },
   "source": [
    "## Population by age \n",
    "\n",
    "We have both \"estimates\" of the past (1950-2015) and \"projections\" of the future (out to 2100).  Here we focus on the latter, specifically what the UN refers to as the medium variant:  their middle of the road projection.  It gives us a sense of how Japan's population might change over the next century. \n",
    "\n",
    "It takes a few seconds to read the data.  \n",
    "\n",
    "What are the numbers?  Thousands of people in various 5-year age categories.  "
   ]
  },
  {
   "cell_type": "code",
   "execution_count": 2,
   "metadata": {
    "collapsed": false
   },
   "outputs": [
    {
     "data": {
      "text/html": [
       "<div>\n",
       "<table border=\"1\" class=\"dataframe\">\n",
       "  <thead>\n",
       "    <tr style=\"text-align: right;\">\n",
       "      <th></th>\n",
       "      <th>Major area, region, country or area *</th>\n",
       "      <th>Reference date (as of 1 July)</th>\n",
       "      <th>0-4</th>\n",
       "      <th>5-9</th>\n",
       "      <th>10-14</th>\n",
       "      <th>15-19</th>\n",
       "    </tr>\n",
       "  </thead>\n",
       "  <tbody>\n",
       "    <tr>\n",
       "      <th>0</th>\n",
       "      <td>WORLD</td>\n",
       "      <td>2015</td>\n",
       "      <td>670928.185</td>\n",
       "      <td>637448.895</td>\n",
       "      <td>607431.299</td>\n",
       "      <td>590069.337</td>\n",
       "    </tr>\n",
       "    <tr>\n",
       "      <th>1</th>\n",
       "      <td>WORLD</td>\n",
       "      <td>2020</td>\n",
       "      <td>677599.590</td>\n",
       "      <td>664282.610</td>\n",
       "      <td>634568.409</td>\n",
       "      <td>604322.921</td>\n",
       "    </tr>\n",
       "    <tr>\n",
       "      <th>2</th>\n",
       "      <td>WORLD</td>\n",
       "      <td>2025</td>\n",
       "      <td>673174.914</td>\n",
       "      <td>671929.973</td>\n",
       "      <td>661684.410</td>\n",
       "      <td>631509.113</td>\n",
       "    </tr>\n",
       "  </tbody>\n",
       "</table>\n",
       "</div>"
      ],
      "text/plain": [
       "  Major area, region, country or area *  Reference date (as of 1 July)  \\\n",
       "0                                 WORLD                           2015   \n",
       "1                                 WORLD                           2020   \n",
       "2                                 WORLD                           2025   \n",
       "\n",
       "          0-4         5-9       10-14       15-19  \n",
       "0  670928.185  637448.895  607431.299  590069.337  \n",
       "1  677599.590  664282.610  634568.409  604322.921  \n",
       "2  673174.914  671929.973  661684.410  631509.113  "
      ]
     },
     "execution_count": 2,
     "metadata": {},
     "output_type": "execute_result"
    }
   ],
   "source": [
    "url1 = 'http://esa.un.org/unpd/wpp/DVD/Files/'\n",
    "url2 = '1_Indicators%20(Standard)/EXCEL_FILES/1_Population/'\n",
    "url3 = 'WPP2015_POP_F07_1_POPULATION_BY_AGE_BOTH_SEXES.XLS'\n",
    "url = url1 + url2 + url3 \n",
    "\n",
    "cols = [2, 5] + list(range(6,28))\n",
    "#est = pd.read_excel(url, sheetname=0, skiprows=16, parse_cols=cols, na_values=['…'])\n",
    "prj = pd.read_excel(url, sheetname=1, skiprows=16, parse_cols=cols, na_values=['…'])\n",
    "\n",
    "prj.head(3)[list(range(6))]"
   ]
  },
  {
   "cell_type": "code",
   "execution_count": 3,
   "metadata": {
    "collapsed": false
   },
   "outputs": [
    {
     "data": {
      "text/html": [
       "<div>\n",
       "<table border=\"1\" class=\"dataframe\">\n",
       "  <thead>\n",
       "    <tr style=\"text-align: right;\">\n",
       "      <th></th>\n",
       "      <th>0-4</th>\n",
       "      <th>5-9</th>\n",
       "      <th>10-14</th>\n",
       "      <th>15-19</th>\n",
       "      <th>20-24</th>\n",
       "      <th>25-29</th>\n",
       "      <th>30-34</th>\n",
       "      <th>35-39</th>\n",
       "    </tr>\n",
       "    <tr>\n",
       "      <th>Year</th>\n",
       "      <th></th>\n",
       "      <th></th>\n",
       "      <th></th>\n",
       "      <th></th>\n",
       "      <th></th>\n",
       "      <th></th>\n",
       "      <th></th>\n",
       "      <th></th>\n",
       "    </tr>\n",
       "  </thead>\n",
       "  <tbody>\n",
       "    <tr>\n",
       "      <th>2015</th>\n",
       "      <td>5.269038</td>\n",
       "      <td>5.398973</td>\n",
       "      <td>5.603638</td>\n",
       "      <td>5.960784</td>\n",
       "      <td>6.111768</td>\n",
       "      <td>6.843421</td>\n",
       "      <td>7.455687</td>\n",
       "      <td>8.345753</td>\n",
       "    </tr>\n",
       "    <tr>\n",
       "      <th>2055</th>\n",
       "      <td>4.271907</td>\n",
       "      <td>4.371016</td>\n",
       "      <td>4.458145</td>\n",
       "      <td>4.557117</td>\n",
       "      <td>4.685414</td>\n",
       "      <td>4.829637</td>\n",
       "      <td>5.013420</td>\n",
       "      <td>5.236482</td>\n",
       "    </tr>\n",
       "    <tr>\n",
       "      <th>2095</th>\n",
       "      <td>3.720541</td>\n",
       "      <td>3.789596</td>\n",
       "      <td>3.860493</td>\n",
       "      <td>3.938189</td>\n",
       "      <td>4.025477</td>\n",
       "      <td>4.106967</td>\n",
       "      <td>4.194272</td>\n",
       "      <td>4.290983</td>\n",
       "    </tr>\n",
       "  </tbody>\n",
       "</table>\n",
       "</div>"
      ],
      "text/plain": [
       "           0-4       5-9     10-14     15-19     20-24     25-29     30-34  \\\n",
       "Year                                                                         \n",
       "2015  5.269038  5.398973  5.603638  5.960784  6.111768  6.843421  7.455687   \n",
       "2055  4.271907  4.371016  4.458145  4.557117  4.685414  4.829637  5.013420   \n",
       "2095  3.720541  3.789596  3.860493  3.938189  4.025477  4.106967  4.194272   \n",
       "\n",
       "         35-39  \n",
       "Year            \n",
       "2015  8.345753  \n",
       "2055  5.236482  \n",
       "2095  4.290983  "
      ]
     },
     "execution_count": 3,
     "metadata": {},
     "output_type": "execute_result"
    }
   ],
   "source": [
    "# rename some variables \n",
    "pop = prj \n",
    "names = list(pop) \n",
    "pop = pop.rename(columns={names[0]: 'Country', \n",
    "                          names[1]: 'Year'}) \n",
    "# select country and years \n",
    "country = ['Japan']\n",
    "years     = [2015, 2055, 2095]\n",
    "pop = pop[pop['Country'].isin(country) & pop['Year'].isin(years)]\n",
    "pop = pop.drop(['Country'], axis=1)\n",
    "\n",
    "# set index = Year \n",
    "# divide by 1000 to convert numbers from thousands to millions\n",
    "pop = pop.set_index('Year')/1000\n",
    "\n",
    "pop.head()[list(range(8))]"
   ]
  },
  {
   "cell_type": "code",
   "execution_count": 4,
   "metadata": {
    "collapsed": false
   },
   "outputs": [
    {
     "data": {
      "text/html": [
       "<div>\n",
       "<table border=\"1\" class=\"dataframe\">\n",
       "  <thead>\n",
       "    <tr style=\"text-align: right;\">\n",
       "      <th>Year</th>\n",
       "      <th>2015</th>\n",
       "      <th>2055</th>\n",
       "      <th>2095</th>\n",
       "    </tr>\n",
       "  </thead>\n",
       "  <tbody>\n",
       "    <tr>\n",
       "      <th>0-4</th>\n",
       "      <td>5.269038</td>\n",
       "      <td>4.271907</td>\n",
       "      <td>3.720541</td>\n",
       "    </tr>\n",
       "    <tr>\n",
       "      <th>5-9</th>\n",
       "      <td>5.398973</td>\n",
       "      <td>4.371016</td>\n",
       "      <td>3.789596</td>\n",
       "    </tr>\n",
       "    <tr>\n",
       "      <th>10-14</th>\n",
       "      <td>5.603638</td>\n",
       "      <td>4.458145</td>\n",
       "      <td>3.860493</td>\n",
       "    </tr>\n",
       "  </tbody>\n",
       "</table>\n",
       "</div>"
      ],
      "text/plain": [
       "Year       2015      2055      2095\n",
       "0-4    5.269038  4.271907  3.720541\n",
       "5-9    5.398973  4.371016  3.789596\n",
       "10-14  5.603638  4.458145  3.860493"
      ]
     },
     "execution_count": 4,
     "metadata": {},
     "output_type": "execute_result"
    }
   ],
   "source": [
    "# transpose (T) so that index = age \n",
    "pop = pop.T\n",
    "pop.head(3)"
   ]
  },
  {
   "cell_type": "code",
   "execution_count": 5,
   "metadata": {
    "collapsed": false
   },
   "outputs": [
    {
     "data": {
      "text/plain": [
       "<matplotlib.text.Text at 0xa259e10>"
      ]
     },
     "execution_count": 5,
     "metadata": {},
     "output_type": "execute_result"
    },
    {
     "data": {
      "image/png": "[encoded data removed]",
      "text/plain": [
       "<matplotlib.figure.Figure at 0xcab75c0>"
      ]
     },
     "metadata": {},
     "output_type": "display_data"
    }
   ],
   "source": [
    "ax = pop.plot(kind='bar',  \n",
    "              color='blue', \n",
    "              alpha=0.5, subplots=True, sharey=True, figsize=(8,6))\n",
    "\n",
    "for axnum in range(len(ax)):  \n",
    "    ax[axnum].set_title('')\n",
    "    ax[axnum].set_ylabel('Millions')\n",
    "        \n",
    "ax[0].set_title('Population by age', fontsize=14, loc='left')   "
   ]
  },
  {
   "cell_type": "code",
   "execution_count": null,
   "metadata": {
    "collapsed": true
   },
   "outputs": [],
   "source": []
  },
  {
   "cell_type": "markdown",
   "metadata": {},
   "source": [
    "**Exercise.** What do you see here?  What else would you like to know?  "
   ]
  },
  {
   "cell_type": "markdown",
   "metadata": {},
   "source": [
    "**Exercise.** Adapt the preceeding code to do the same thing for China.  Or some other country that sparks your interest.  "
   ]
  },
  {
   "cell_type": "code",
   "execution_count": null,
   "metadata": {
    "collapsed": true
   },
   "outputs": [],
   "source": []
  },
  {
   "cell_type": "markdown",
   "metadata": {},
   "source": [
    "## Fertility:  aka birth rates\n",
    "\n",
    "We might wonder, why is the population falling in Japan?  Other countries?  Well, one reason is that birth rates are falling.  Demographers call this fertility.  Here we look at the fertility using the same [UN source](http://esa.un.org/unpd/wpp/Download/Standard/Fertility/) as the previous example.  We look at two variables:  total fertility and fertility by age of mother.  In both cases we explore the numbers to date, but the same files contain projections of future fertility.  "
   ]
  },
  {
   "cell_type": "code",
   "execution_count": 6,
   "metadata": {
    "collapsed": false
   },
   "outputs": [
    {
     "data": {
      "text/html": [
       "<div>\n",
       "<table border=\"1\" class=\"dataframe\">\n",
       "  <thead>\n",
       "    <tr style=\"text-align: right;\">\n",
       "      <th></th>\n",
       "      <th>Major area, region, country or area *</th>\n",
       "      <th>1950-1955</th>\n",
       "      <th>1955-1960</th>\n",
       "      <th>1960-1965</th>\n",
       "      <th>1965-1970</th>\n",
       "      <th>1970-1975</th>\n",
       "    </tr>\n",
       "  </thead>\n",
       "  <tbody>\n",
       "    <tr>\n",
       "      <th>0</th>\n",
       "      <td>WORLD</td>\n",
       "      <td>4.961571</td>\n",
       "      <td>4.898665</td>\n",
       "      <td>5.024379</td>\n",
       "      <td>4.922202</td>\n",
       "      <td>4.475478</td>\n",
       "    </tr>\n",
       "    <tr>\n",
       "      <th>1</th>\n",
       "      <td>More developed regions</td>\n",
       "      <td>2.823786</td>\n",
       "      <td>2.807368</td>\n",
       "      <td>2.685900</td>\n",
       "      <td>2.387534</td>\n",
       "      <td>2.150816</td>\n",
       "    </tr>\n",
       "    <tr>\n",
       "      <th>2</th>\n",
       "      <td>Less developed regions</td>\n",
       "      <td>6.075417</td>\n",
       "      <td>5.941033</td>\n",
       "      <td>6.129418</td>\n",
       "      <td>6.034843</td>\n",
       "      <td>5.416602</td>\n",
       "    </tr>\n",
       "  </tbody>\n",
       "</table>\n",
       "</div>"
      ],
      "text/plain": [
       "  Major area, region, country or area *  1950-1955  1955-1960  1960-1965  \\\n",
       "0                                 WORLD   4.961571   4.898665   5.024379   \n",
       "1                More developed regions   2.823786   2.807368   2.685900   \n",
       "2                Less developed regions   6.075417   5.941033   6.129418   \n",
       "\n",
       "   1965-1970  1970-1975  \n",
       "0   4.922202   4.475478  \n",
       "1   2.387534   2.150816  \n",
       "2   6.034843   5.416602  "
      ]
     },
     "execution_count": 6,
     "metadata": {},
     "output_type": "execute_result"
    }
   ],
   "source": [
    "# fertility overall \n",
    "uft  = 'http://esa.un.org/unpd/wpp/DVD/Files/'\n",
    "uft += '1_Indicators%20(Standard)/EXCEL_FILES/'\n",
    "uft += '2_Fertility/WPP2015_FERT_F04_TOTAL_FERTILITY.XLS'\n",
    "\n",
    "cols = [2] + list(range(5,18))\n",
    "ftot = pd.read_excel(uft, sheetname=0, skiprows=16, parse_cols=cols, na_values=['…'])\n",
    "\n",
    "ftot.head(3)[list(range(6))]"
   ]
  },
  {
   "cell_type": "code",
   "execution_count": 7,
   "metadata": {
    "collapsed": false
   },
   "outputs": [
    {
     "data": {
      "text/html": [
       "<div>\n",
       "<table border=\"1\" class=\"dataframe\">\n",
       "  <thead>\n",
       "    <tr style=\"text-align: right;\">\n",
       "      <th>Country</th>\n",
       "      <th>China</th>\n",
       "      <th>Japan</th>\n",
       "      <th>Germany</th>\n",
       "      <th>United States</th>\n",
       "    </tr>\n",
       "  </thead>\n",
       "  <tbody>\n",
       "    <tr>\n",
       "      <th>2000-2005</th>\n",
       "      <td>1.50</td>\n",
       "      <td>1.2980</td>\n",
       "      <td>1.3513</td>\n",
       "      <td>2.0420</td>\n",
       "    </tr>\n",
       "    <tr>\n",
       "      <th>2005-2010</th>\n",
       "      <td>1.53</td>\n",
       "      <td>1.3388</td>\n",
       "      <td>1.3623</td>\n",
       "      <td>2.0590</td>\n",
       "    </tr>\n",
       "    <tr>\n",
       "      <th>2010-2015</th>\n",
       "      <td>1.55</td>\n",
       "      <td>1.3960</td>\n",
       "      <td>1.3909</td>\n",
       "      <td>1.8902</td>\n",
       "    </tr>\n",
       "  </tbody>\n",
       "</table>\n",
       "</div>"
      ],
      "text/plain": [
       "Country    China   Japan  Germany  United States\n",
       "2000-2005   1.50  1.2980   1.3513         2.0420\n",
       "2005-2010   1.53  1.3388   1.3623         2.0590\n",
       "2010-2015   1.55  1.3960   1.3909         1.8902"
      ]
     },
     "execution_count": 7,
     "metadata": {},
     "output_type": "execute_result"
    }
   ],
   "source": [
    "# rename some variables \n",
    "names = list(ftot)\n",
    "f = ftot.rename(columns={names[0]: 'Country'}) \n",
    "\n",
    "# select countries \n",
    "countries = ['China', 'Japan', 'Germany', 'United States of America']\n",
    "f = f[f['Country'].isin(countries)]\n",
    "\n",
    "# shape\n",
    "f = f.set_index('Country').T \n",
    "f = f.rename(columns={'United States of America': 'United States'})\n",
    "f.tail(3)"
   ]
  },
  {
   "cell_type": "code",
   "execution_count": 8,
   "metadata": {
    "collapsed": false
   },
   "outputs": [
    {
     "data": {
      "text/plain": [
       "<matplotlib.text.Text at 0x92c4278>"
      ]
     },
     "execution_count": 8,
     "metadata": {},
     "output_type": "execute_result"
    },
    {
     "data": {
      "image/png": "[encoded data removed]",
      "text/plain": [
       "<matplotlib.figure.Figure at 0x928d860>"
      ]
     },
     "metadata": {},
     "output_type": "display_data"
    }
   ],
   "source": [
    "fig, ax = plt.subplots()\n",
    "f.plot(ax=ax, kind='line', alpha=0.5, lw=3, figsize=(6.5, 4))\n",
    "ax.set_title('Fertility (births per woman, lifetime)', fontsize=14, loc='left')\n",
    "ax.legend(loc='best', fontsize=10, handlelength=2, labelspacing=0.15)\n",
    "ax.set_ylim(ymin=0)\n",
    "ax.hlines(2.1, -1, 13, linestyles='dashed')\n",
    "ax.text(8.5, 2.4, 'Replacement = 2.1')"
   ]
  },
  {
   "cell_type": "markdown",
   "metadata": {},
   "source": [
    "**Exercise.** What do you see here?  What else would you like to know?  "
   ]
  },
  {
   "cell_type": "markdown",
   "metadata": {},
   "source": [
    "**Exercise.** Add Canada to the figure.  How does it compare to the others?  What other countries would you be interested in?"
   ]
  },
  {
   "cell_type": "code",
   "execution_count": null,
   "metadata": {
    "collapsed": true
   },
   "outputs": [],
   "source": []
  },
  {
   "cell_type": "markdown",
   "metadata": {},
   "source": [
    "## Life expectancy \n",
    "\n",
    "One of the bottom line summary numbers for mortality is life expectancy:  if mortaility rates fall, people live longer, on average.  Here we look at life expectancy at birth.  There are also numbers for life expectancy given than you live to some specific age; for example, life expectancy given that you survive to age 60. "
   ]
  },
  {
   "cell_type": "code",
   "execution_count": 9,
   "metadata": {
    "collapsed": false
   },
   "outputs": [
    {
     "data": {
      "text/html": [
       "<div>\n",
       "<table border=\"1\" class=\"dataframe\">\n",
       "  <thead>\n",
       "    <tr style=\"text-align: right;\">\n",
       "      <th></th>\n",
       "      <th>Major area, region, country or area *</th>\n",
       "      <th>1950-1955</th>\n",
       "      <th>1955-1960</th>\n",
       "      <th>1960-1965</th>\n",
       "      <th>1965-1970</th>\n",
       "      <th>1970-1975</th>\n",
       "      <th>1975-1980</th>\n",
       "      <th>1980-1985</th>\n",
       "      <th>1985-1990</th>\n",
       "      <th>1990-1995</th>\n",
       "    </tr>\n",
       "  </thead>\n",
       "  <tbody>\n",
       "    <tr>\n",
       "      <th>0</th>\n",
       "      <td>WORLD</td>\n",
       "      <td>46.807955</td>\n",
       "      <td>49.211594</td>\n",
       "      <td>51.069722</td>\n",
       "      <td>55.378481</td>\n",
       "      <td>58.049389</td>\n",
       "      <td>60.212254</td>\n",
       "      <td>61.989053</td>\n",
       "      <td>63.610776</td>\n",
       "      <td>64.536781</td>\n",
       "    </tr>\n",
       "    <tr>\n",
       "      <th>1</th>\n",
       "      <td>More developed regions</td>\n",
       "      <td>64.669835</td>\n",
       "      <td>67.679537</td>\n",
       "      <td>69.440381</td>\n",
       "      <td>70.281907</td>\n",
       "      <td>71.063794</td>\n",
       "      <td>71.960446</td>\n",
       "      <td>72.806852</td>\n",
       "      <td>73.901457</td>\n",
       "      <td>74.107521</td>\n",
       "    </tr>\n",
       "    <tr>\n",
       "      <th>2</th>\n",
       "      <td>Less developed regions</td>\n",
       "      <td>41.508118</td>\n",
       "      <td>43.882493</td>\n",
       "      <td>46.017378</td>\n",
       "      <td>51.441078</td>\n",
       "      <td>54.770858</td>\n",
       "      <td>57.342650</td>\n",
       "      <td>59.418113</td>\n",
       "      <td>61.229860</td>\n",
       "      <td>62.453399</td>\n",
       "    </tr>\n",
       "  </tbody>\n",
       "</table>\n",
       "</div>"
      ],
      "text/plain": [
       "  Major area, region, country or area *  1950-1955  1955-1960  1960-1965  \\\n",
       "0                                 WORLD  46.807955  49.211594  51.069722   \n",
       "1                More developed regions  64.669835  67.679537  69.440381   \n",
       "2                Less developed regions  41.508118  43.882493  46.017378   \n",
       "\n",
       "   1965-1970  1970-1975  1975-1980  1980-1985  1985-1990  1990-1995  \n",
       "0  55.378481  58.049389  60.212254  61.989053  63.610776  64.536781  \n",
       "1  70.281907  71.063794  71.960446  72.806852  73.901457  74.107521  \n",
       "2  51.441078  54.770858  57.342650  59.418113  61.229860  62.453399  "
      ]
     },
     "execution_count": 9,
     "metadata": {},
     "output_type": "execute_result"
    }
   ],
   "source": [
    "# life expectancy at birth, both sexes  \n",
    "ule  = 'http://esa.un.org/unpd/wpp/DVD/Files/1_Indicators%20(Standard)/EXCEL_FILES/3_Mortality/'\n",
    "ule += 'WPP2015_MORT_F07_1_LIFE_EXPECTANCY_0_BOTH_SEXES.XLS'\n",
    "\n",
    "cols = [2] + list(range(5,34))\n",
    "le  = pd.read_excel(ule, sheetname=0, skiprows=16, parse_cols=cols, na_values=['…'])\n",
    "\n",
    "le.head(3)[list(range(10))]"
   ]
  },
  {
   "cell_type": "code",
   "execution_count": 10,
   "metadata": {
    "collapsed": false
   },
   "outputs": [
    {
     "data": {
      "text/html": [
       "<div>\n",
       "<table border=\"1\" class=\"dataframe\">\n",
       "  <thead>\n",
       "    <tr style=\"text-align: right;\">\n",
       "      <th></th>\n",
       "      <th>Country</th>\n",
       "      <th>1950-1955</th>\n",
       "      <th>1955-1960</th>\n",
       "      <th>1960-1965</th>\n",
       "      <th>1965-1970</th>\n",
       "      <th>1970-1975</th>\n",
       "      <th>1975-1980</th>\n",
       "      <th>1980-1985</th>\n",
       "    </tr>\n",
       "  </thead>\n",
       "  <tbody>\n",
       "    <tr>\n",
       "      <th>0</th>\n",
       "      <td>WORLD</td>\n",
       "      <td>46.807955</td>\n",
       "      <td>49.211594</td>\n",
       "      <td>51.069722</td>\n",
       "      <td>55.378481</td>\n",
       "      <td>58.049389</td>\n",
       "      <td>60.212254</td>\n",
       "      <td>61.989053</td>\n",
       "    </tr>\n",
       "    <tr>\n",
       "      <th>1</th>\n",
       "      <td>More developed regions</td>\n",
       "      <td>64.669835</td>\n",
       "      <td>67.679537</td>\n",
       "      <td>69.440381</td>\n",
       "      <td>70.281907</td>\n",
       "      <td>71.063794</td>\n",
       "      <td>71.960446</td>\n",
       "      <td>72.806852</td>\n",
       "    </tr>\n",
       "    <tr>\n",
       "      <th>2</th>\n",
       "      <td>Less developed regions</td>\n",
       "      <td>41.508118</td>\n",
       "      <td>43.882493</td>\n",
       "      <td>46.017378</td>\n",
       "      <td>51.441078</td>\n",
       "      <td>54.770858</td>\n",
       "      <td>57.342650</td>\n",
       "      <td>59.418113</td>\n",
       "    </tr>\n",
       "  </tbody>\n",
       "</table>\n",
       "</div>"
      ],
      "text/plain": [
       "                  Country  1950-1955  1955-1960  1960-1965  1965-1970  \\\n",
       "0                   WORLD  46.807955  49.211594  51.069722  55.378481   \n",
       "1  More developed regions  64.669835  67.679537  69.440381  70.281907   \n",
       "2  Less developed regions  41.508118  43.882493  46.017378  51.441078   \n",
       "\n",
       "   1970-1975  1975-1980  1980-1985  \n",
       "0  58.049389  60.212254  61.989053  \n",
       "1  71.063794  71.960446  72.806852  \n",
       "2  54.770858  57.342650  59.418113  "
      ]
     },
     "execution_count": 10,
     "metadata": {},
     "output_type": "execute_result"
    }
   ],
   "source": [
    "# rename some variables \n",
    "oldname = list(le)[0]\n",
    "l = le.rename(columns={oldname: 'Country'}) \n",
    "l.head(3)[list(range(8))]"
   ]
  },
  {
   "cell_type": "code",
   "execution_count": 11,
   "metadata": {
    "collapsed": false
   },
   "outputs": [
    {
     "data": {
      "text/html": [
       "<div>\n",
       "<table border=\"1\" class=\"dataframe\">\n",
       "  <thead>\n",
       "    <tr style=\"text-align: right;\">\n",
       "      <th>Country</th>\n",
       "      <th>China</th>\n",
       "      <th>Japan</th>\n",
       "      <th>Germany</th>\n",
       "      <th>United States</th>\n",
       "    </tr>\n",
       "  </thead>\n",
       "  <tbody>\n",
       "    <tr>\n",
       "      <th>1990-1995</th>\n",
       "      <td>69.386</td>\n",
       "      <td>79.447</td>\n",
       "      <td>75.878</td>\n",
       "      <td>75.617</td>\n",
       "    </tr>\n",
       "    <tr>\n",
       "      <th>1995-2000</th>\n",
       "      <td>70.587</td>\n",
       "      <td>80.475</td>\n",
       "      <td>77.212</td>\n",
       "      <td>76.404</td>\n",
       "    </tr>\n",
       "    <tr>\n",
       "      <th>2000-2005</th>\n",
       "      <td>72.852</td>\n",
       "      <td>81.829</td>\n",
       "      <td>78.573</td>\n",
       "      <td>77.133</td>\n",
       "    </tr>\n",
       "    <tr>\n",
       "      <th>2005-2010</th>\n",
       "      <td>74.438</td>\n",
       "      <td>82.621</td>\n",
       "      <td>79.757</td>\n",
       "      <td>78.113</td>\n",
       "    </tr>\n",
       "    <tr>\n",
       "      <th>2010-2015</th>\n",
       "      <td>75.432</td>\n",
       "      <td>83.298</td>\n",
       "      <td>80.647</td>\n",
       "      <td>78.873</td>\n",
       "    </tr>\n",
       "  </tbody>\n",
       "</table>\n",
       "</div>"
      ],
      "text/plain": [
       "Country     China   Japan  Germany  United States\n",
       "1990-1995  69.386  79.447   75.878         75.617\n",
       "1995-2000  70.587  80.475   77.212         76.404\n",
       "2000-2005  72.852  81.829   78.573         77.133\n",
       "2005-2010  74.438  82.621   79.757         78.113\n",
       "2010-2015  75.432  83.298   80.647         78.873"
      ]
     },
     "execution_count": 11,
     "metadata": {},
     "output_type": "execute_result"
    }
   ],
   "source": [
    "# select countries \n",
    "countries = ['China', 'Japan', 'Germany', 'United States of America']\n",
    "l = l[l['Country'].isin(countries)]\n",
    "\n",
    "# shape\n",
    "l = l.set_index('Country').T \n",
    "l = l.rename(columns={'United States of America': 'United States'})\n",
    "l.tail()"
   ]
  },
  {
   "cell_type": "code",
   "execution_count": 12,
   "metadata": {
    "collapsed": false
   },
   "outputs": [
    {
     "data": {
      "text/plain": [
       "(0, 85.0)"
      ]
     },
     "execution_count": 12,
     "metadata": {},
     "output_type": "execute_result"
    },
    {
     "data": {
      "image/png": "[encoded data removed]",
      "text/plain": [
       "<matplotlib.figure.Figure at 0x92fbb00>"
      ]
     },
     "metadata": {},
     "output_type": "display_data"
    }
   ],
   "source": [
    "fig, ax = plt.subplots()\n",
    "l.plot(ax=ax, kind='line', alpha=0.5, lw=3, figsize=(6, 8), grid=True)\n",
    "ax.set_title('Life expectancy at birth', fontsize=14, loc='left')\n",
    "ax.set_ylabel('Life expectancy in years')\n",
    "ax.legend(loc='best', fontsize=10, handlelength=2, labelspacing=0.15)\n",
    "ax.set_ylim(ymin=0)"
   ]
  },
  {
   "cell_type": "markdown",
   "metadata": {},
   "source": [
    "**Exercise.** What other countries would you like to see?  Can you add them?  The code below generates a list.  "
   ]
  },
  {
   "cell_type": "code",
   "execution_count": 13,
   "metadata": {
    "collapsed": false
   },
   "outputs": [],
   "source": [
    "countries = le.rename(columns={oldname: 'Country'})['Country']"
   ]
  },
  {
   "cell_type": "markdown",
   "metadata": {},
   "source": [
    "**Exercise.**  Why do you think the US is falling behind?  What would you look at to verify your conjecture?"
   ]
  },
  {
   "cell_type": "code",
   "execution_count": null,
   "metadata": {
    "collapsed": true
   },
   "outputs": [],
   "source": []
  },
  {
   "cell_type": "markdown",
   "metadata": {
    "collapsed": true
   },
   "source": [
    "## Mortality:  aka death rates \n",
    "\n",
    "Another thing that affects the age distribution of the population is the mortality rate:  if mortality rates fall people live longer, on average.  Here we look at how mortality rates have changed over the past 60+ years.  Roughly speaking, people live an extra five years every generation.  Which is a lot.  Some of you will live to be a hundred.  (Look at the 100+ agen category over time for Japan.)  \n",
    "\n",
    "The experts look at mortality rates by age.  The UN has a [whole page](http://esa.un.org/unpd/wpp/Download/Standard/Mortality/) devoted to mortality numbers.  We take 5-year mortality rates from the Abridged Life Table.  \n",
    "\n",
    "The numbers are percentages of people in a given age group who die over a 5-year period.  0.1 means that 90 percent of an age group is still alive in five years.  "
   ]
  },
  {
   "cell_type": "code",
   "execution_count": 14,
   "metadata": {
    "collapsed": false
   },
   "outputs": [
    {
     "data": {
      "text/html": [
       "<div>\n",
       "<table border=\"1\" class=\"dataframe\">\n",
       "  <thead>\n",
       "    <tr style=\"text-align: right;\">\n",
       "      <th></th>\n",
       "      <th>Major area, region, country or area *</th>\n",
       "      <th>Period</th>\n",
       "      <th>Age (x)</th>\n",
       "      <th>Age interval (n)</th>\n",
       "      <th>Probability of dying q(x,n)</th>\n",
       "    </tr>\n",
       "  </thead>\n",
       "  <tbody>\n",
       "    <tr>\n",
       "      <th>59524</th>\n",
       "      <td>Tonga</td>\n",
       "      <td>2010-2015</td>\n",
       "      <td>75</td>\n",
       "      <td>5</td>\n",
       "      <td>0.279867</td>\n",
       "    </tr>\n",
       "    <tr>\n",
       "      <th>59525</th>\n",
       "      <td>Tonga</td>\n",
       "      <td>2010-2015</td>\n",
       "      <td>80</td>\n",
       "      <td>5</td>\n",
       "      <td>0.397735</td>\n",
       "    </tr>\n",
       "    <tr>\n",
       "      <th>59526</th>\n",
       "      <td>Tonga</td>\n",
       "      <td>2010-2015</td>\n",
       "      <td>85</td>\n",
       "      <td>15</td>\n",
       "      <td>NaN</td>\n",
       "    </tr>\n",
       "  </tbody>\n",
       "</table>\n",
       "</div>"
      ],
      "text/plain": [
       "      Major area, region, country or area *     Period  Age (x)  \\\n",
       "59524                                 Tonga  2010-2015       75   \n",
       "59525                                 Tonga  2010-2015       80   \n",
       "59526                                 Tonga  2010-2015       85   \n",
       "\n",
       "       Age interval (n)  Probability of dying q(x,n)  \n",
       "59524                 5                     0.279867  \n",
       "59525                 5                     0.397735  \n",
       "59526                15                          NaN  "
      ]
     },
     "execution_count": 14,
     "metadata": {},
     "output_type": "execute_result"
    }
   ],
   "source": [
    "# mortality overall \n",
    "url  = 'http://esa.un.org/unpd/wpp/DVD/Files/'\n",
    "url += '1_Indicators%20(Standard)/EXCEL_FILES/3_Mortality/'\n",
    "url += 'WPP2015_MORT_F17_1_ABRIDGED_LIFE_TABLE_BOTH_SEXES.XLS'\n",
    "\n",
    "cols = [2, 5, 6, 7, 9]\n",
    "mort = pd.read_excel(url, sheetname=0, skiprows=16, parse_cols=cols, na_values=['…'])\n",
    "mort.tail(3)"
   ]
  },
  {
   "cell_type": "code",
   "execution_count": 15,
   "metadata": {
    "collapsed": false
   },
   "outputs": [
    {
     "data": {
      "text/html": [
       "<div>\n",
       "<table border=\"1\" class=\"dataframe\">\n",
       "  <thead>\n",
       "    <tr style=\"text-align: right;\">\n",
       "      <th></th>\n",
       "      <th>Country</th>\n",
       "      <th>Period</th>\n",
       "      <th>Age</th>\n",
       "      <th>Interval</th>\n",
       "      <th>Mortality</th>\n",
       "    </tr>\n",
       "  </thead>\n",
       "  <tbody>\n",
       "    <tr>\n",
       "      <th>0</th>\n",
       "      <td>WORLD</td>\n",
       "      <td>1950-1955</td>\n",
       "      <td>0</td>\n",
       "      <td>1</td>\n",
       "      <td>0.141804</td>\n",
       "    </tr>\n",
       "    <tr>\n",
       "      <th>1</th>\n",
       "      <td>WORLD</td>\n",
       "      <td>1950-1955</td>\n",
       "      <td>1</td>\n",
       "      <td>4</td>\n",
       "      <td>0.085487</td>\n",
       "    </tr>\n",
       "    <tr>\n",
       "      <th>2</th>\n",
       "      <td>WORLD</td>\n",
       "      <td>1950-1955</td>\n",
       "      <td>5</td>\n",
       "      <td>5</td>\n",
       "      <td>0.031513</td>\n",
       "    </tr>\n",
       "  </tbody>\n",
       "</table>\n",
       "</div>"
      ],
      "text/plain": [
       "  Country     Period  Age  Interval  Mortality\n",
       "0   WORLD  1950-1955    0         1   0.141804\n",
       "1   WORLD  1950-1955    1         4   0.085487\n",
       "2   WORLD  1950-1955    5         5   0.031513"
      ]
     },
     "execution_count": 15,
     "metadata": {},
     "output_type": "execute_result"
    }
   ],
   "source": [
    "# change names \n",
    "names = list(mort)\n",
    "m = mort.rename(columns={names[0]: 'Country', names[2]: 'Age', names[3]: 'Interval', names[4]: 'Mortality'})\n",
    "m.head(3)"
   ]
  },
  {
   "cell_type": "markdown",
   "metadata": {},
   "source": [
    "**Comment.** At this point, we need to pivot the data.  That's not something we've done before, so take it as simply something we can do easily if we have to.  We're going to do this twice to produce different graphs:    \n",
    "\n",
    "* Compare countries for the same period.  \n",
    "* Compare different periods for the same country.  "
   ]
  },
  {
   "cell_type": "code",
   "execution_count": 16,
   "metadata": {
    "collapsed": false
   },
   "outputs": [
    {
     "name": "stdout",
     "output_type": "stream",
     "text": [
      "Dimensions: (64, 5)\n"
     ]
    },
    {
     "data": {
      "text/html": [
       "<div>\n",
       "<table border=\"1\" class=\"dataframe\">\n",
       "  <thead>\n",
       "    <tr style=\"text-align: right;\">\n",
       "      <th>Country</th>\n",
       "      <th>China</th>\n",
       "      <th>Germany</th>\n",
       "      <th>Japan</th>\n",
       "      <th>United States of America</th>\n",
       "    </tr>\n",
       "    <tr>\n",
       "      <th>Age</th>\n",
       "      <th></th>\n",
       "      <th></th>\n",
       "      <th></th>\n",
       "      <th></th>\n",
       "    </tr>\n",
       "  </thead>\n",
       "  <tbody>\n",
       "    <tr>\n",
       "      <th>5</th>\n",
       "      <td>0.001756</td>\n",
       "      <td>0.000397</td>\n",
       "      <td>0.000462</td>\n",
       "      <td>0.000597</td>\n",
       "    </tr>\n",
       "    <tr>\n",
       "      <th>10</th>\n",
       "      <td>0.001286</td>\n",
       "      <td>0.000456</td>\n",
       "      <td>0.000437</td>\n",
       "      <td>0.000714</td>\n",
       "    </tr>\n",
       "    <tr>\n",
       "      <th>15</th>\n",
       "      <td>0.001844</td>\n",
       "      <td>0.001300</td>\n",
       "      <td>0.001141</td>\n",
       "      <td>0.002264</td>\n",
       "    </tr>\n",
       "  </tbody>\n",
       "</table>\n",
       "</div>"
      ],
      "text/plain": [
       "Country     China   Germany     Japan  United States of America\n",
       "Age                                                            \n",
       "5        0.001756  0.000397  0.000462                  0.000597\n",
       "10       0.001286  0.000456  0.000437                  0.000714\n",
       "15       0.001844  0.001300  0.001141                  0.002264"
      ]
     },
     "execution_count": 16,
     "metadata": {},
     "output_type": "execute_result"
    }
   ],
   "source": [
    "# compare countries for most recent period\n",
    "countries = ['China', 'Japan', 'Germany', 'United States of America']\n",
    "mt = m[m['Country'].isin(countries) & m['Interval'].isin([5]) & m['Period'].isin(['2010-2015'])] \n",
    "print('Dimensions:', mt.shape) \n",
    "\n",
    "mp = mt.pivot(index='Age', columns='Country', values='Mortality')  \n",
    "mp.head(3)"
   ]
  },
  {
   "cell_type": "code",
   "execution_count": 17,
   "metadata": {
    "collapsed": false
   },
   "outputs": [
    {
     "data": {
      "text/plain": [
       "<matplotlib.legend.Legend at 0x9191390>"
      ]
     },
     "execution_count": 17,
     "metadata": {},
     "output_type": "execute_result"
    },
    {
     "data": {
      "image/png": "[encoded data removed]",
      "text/plain": [
       "<matplotlib.figure.Figure at 0x9191cc0>"
      ]
     },
     "metadata": {},
     "output_type": "display_data"
    }
   ],
   "source": [
    "fig, ax = plt.subplots()\n",
    "mp.plot(ax=ax, kind='line', alpha=0.5, linewidth=3, \n",
    "#        logy=True, \n",
    "        figsize=(6, 4))\n",
    "ax.set_title('Mortality by age', fontsize=14, loc='left')\n",
    "ax.set_ylabel('Mortality Rate (log scale)')\n",
    "ax.legend(loc='best', fontsize=10, handlelength=2, labelspacing=0.15)"
   ]
  },
  {
   "cell_type": "markdown",
   "metadata": {},
   "source": [
    "**Exercises.**\n",
    "\n",
    "* What country's old people have the lowest mortality?\n",
    "* What do you see here for the US?  Why is our life expectancy shorter?\n",
    "* What other countries would you like to see?  Can you adapt the code to show them?  \n",
    "* Anything else cross your mind?  "
   ]
  },
  {
   "cell_type": "code",
   "execution_count": null,
   "metadata": {
    "collapsed": true
   },
   "outputs": [],
   "source": []
  },
  {
   "cell_type": "code",
   "execution_count": 18,
   "metadata": {
    "collapsed": false
   },
   "outputs": [
    {
     "name": "stdout",
     "output_type": "stream",
     "text": [
      "Dimensions: (208, 5)\n"
     ]
    },
    {
     "data": {
      "text/html": [
       "<div>\n",
       "<table border=\"1\" class=\"dataframe\">\n",
       "  <thead>\n",
       "    <tr style=\"text-align: right;\">\n",
       "      <th>Period</th>\n",
       "      <th>1950-1955</th>\n",
       "      <th>1980-1985</th>\n",
       "      <th>2010-2015</th>\n",
       "    </tr>\n",
       "    <tr>\n",
       "      <th>Age</th>\n",
       "      <th></th>\n",
       "      <th></th>\n",
       "      <th></th>\n",
       "    </tr>\n",
       "  </thead>\n",
       "  <tbody>\n",
       "    <tr>\n",
       "      <th>5</th>\n",
       "      <td>0.043088</td>\n",
       "      <td>0.006487</td>\n",
       "      <td>0.001756</td>\n",
       "    </tr>\n",
       "    <tr>\n",
       "      <th>10</th>\n",
       "      <td>0.025641</td>\n",
       "      <td>0.003300</td>\n",
       "      <td>0.001286</td>\n",
       "    </tr>\n",
       "    <tr>\n",
       "      <th>15</th>\n",
       "      <td>0.026845</td>\n",
       "      <td>0.004172</td>\n",
       "      <td>0.001844</td>\n",
       "    </tr>\n",
       "  </tbody>\n",
       "</table>\n",
       "</div>"
      ],
      "text/plain": [
       "Period  1950-1955  1980-1985  2010-2015\n",
       "Age                                    \n",
       "5        0.043088   0.006487   0.001756\n",
       "10       0.025641   0.003300   0.001286\n",
       "15       0.026845   0.004172   0.001844"
      ]
     },
     "execution_count": 18,
     "metadata": {},
     "output_type": "execute_result"
    }
   ],
   "source": [
    "# compare periods for the one country -- countries[0] is China \n",
    "mt = m[m['Country'].isin([countries[0]]) & m['Interval'].isin([5])] \n",
    "print('Dimensions:', mt.shape) \n",
    "\n",
    "mp = mt.pivot(index='Age', columns='Period', values='Mortality')  \n",
    "mp = mp[[0, 6, 12]]\n",
    "mp.head(3)"
   ]
  },
  {
   "cell_type": "code",
   "execution_count": 19,
   "metadata": {
    "collapsed": false
   },
   "outputs": [
    {
     "data": {
      "text/plain": [
       "<matplotlib.legend.Legend at 0xd7d7dd8>"
      ]
     },
     "execution_count": 19,
     "metadata": {},
     "output_type": "execute_result"
    },
    {
     "data": {
      "image/png": "[encoded data removed]",
      "text/plain": [
       "<matplotlib.figure.Figure at 0xdae0a58>"
      ]
     },
     "metadata": {},
     "output_type": "display_data"
    }
   ],
   "source": [
    "fig, ax = plt.subplots()\n",
    "mp.plot(ax=ax, kind='line', alpha=0.5, linewidth=3, \n",
    "#        logy=True, \n",
    "        figsize=(6, 4))\n",
    "ax.set_title('Mortality over time', fontsize=14, loc='left')\n",
    "ax.set_ylabel('Mortality Rate (log scale)')\n",
    "ax.legend(loc='best', fontsize=10, handlelength=2, labelspacing=0.15)"
   ]
  },
  {
   "cell_type": "markdown",
   "metadata": {
    "collapsed": true
   },
   "source": [
    "**Exercise.**  What do you see?  What else would you like to know?  "
   ]
  },
  {
   "cell_type": "markdown",
   "metadata": {
    "collapsed": true
   },
   "source": [
    "**Exercise.** Repeat this graph for the United States?  How does it compare?"
   ]
  },
  {
   "cell_type": "code",
   "execution_count": null,
   "metadata": {
    "collapsed": true
   },
   "outputs": [],
   "source": []
  },
  {
   "cell_type": "code",
   "execution_count": null,
   "metadata": {
    "collapsed": true
   },
   "outputs": [],
   "source": []
  }
 ],
 "metadata": {
  "kernelspec": {
   "display_name": "Python 3",
   "language": "python",
   "name": "python3"
  },
  "language_info": {
   "codemirror_mode": {
    "name": "ipython",
    "version": 3
   },
   "file_extension": ".py",
   "mimetype": "text/x-python",
   "name": "python",
   "nbconvert_exporter": "python",
   "pygments_lexer": "ipython3",
   "version": "3.5.1"
  }
 },
 "nbformat": 4,
 "nbformat_minor": 0
}
