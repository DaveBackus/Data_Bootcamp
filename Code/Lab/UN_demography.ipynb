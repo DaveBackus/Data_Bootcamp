{
 "cells": [
  {
   "cell_type": "markdown",
   "metadata": {},
   "source": [
    "# Data Bootcamp:  Demography\n",
    "\n",
    "We love demography, specifically the dynamics of the population.  \n",
    "\n",
    "We take a look at the UN's [demography data](http://esa.un.org/unpd/wpp/Download/Standard/Population/):  the age distribution of the population, life expectancy, fertility, and mortality.  We urge you to explore their website, it's filled with interesting data.  There are other sources that cover longer time periods, and for some countries you can get detailed data on specific things (causes of death, for example).  \n",
    "\n",
    "We use a number of countries as examples, but Japan and China are the most striking.  The code is written so that the country is easily changed.  \n",
    "\n",
    "This IPython notebook was created by Dave Backus, Chase Coleman, and Spencer Lyon for the NYU Stern course [Data Bootcamp](http://databootcamp.nyuecon.com/).  "
   ]
  },
  {
   "cell_type": "markdown",
   "metadata": {},
   "source": [
    "## Preliminaries\n",
    "\n",
    "Import statements and a date check for future reference.   "
   ]
  },
  {
   "cell_type": "code",
   "execution_count": 26,
   "metadata": {
    "collapsed": false
   },
   "outputs": [
    {
     "name": "stdout",
     "output_type": "stream",
     "text": [
      "Today is 2016-03-22\n",
      "What version of Python are we running? \n",
      "3.5.1 |Anaconda 2.5.0 (64-bit)| (default, Jan 29 2016, 15:01:46) [MSC v.1900 64 bit (AMD64)]\n"
     ]
    }
   ],
   "source": [
    "# import packages \n",
    "import pandas as pd                   # data management\n",
    "import matplotlib.pyplot as plt       # graphics \n",
    "import matplotlib as mpl              # graphics parameters\n",
    "import numpy as np                    # numerical calculations \n",
    "\n",
    "# IPython command, puts plots in notebook \n",
    "%matplotlib inline\n",
    "\n",
    "# check Python version \n",
    "import datetime as dt \n",
    "import sys\n",
    "print('Today is', dt.date.today())\n",
    "print('What version of Python are we running? \\n', sys.version, sep='') "
   ]
  },
  {
   "cell_type": "code",
   "execution_count": null,
   "metadata": {
    "collapsed": true
   },
   "outputs": [],
   "source": []
  },
  {
   "cell_type": "markdown",
   "metadata": {
    "collapsed": false
   },
   "source": [
    "## Population by age \n",
    "\n",
    "We have both \"estimates\" of the past (1950-2015) and \"projections\" of the future (out to 2100).  Here we focus on the latter, specifically what the UN refers to as the medium variant:  their middle of the road projection.  It gives us a sense of how Japan's population might change over the next century. \n",
    "\n",
    "It takes a few seconds to read the data.  "
   ]
  },
  {
   "cell_type": "code",
   "execution_count": 27,
   "metadata": {
    "collapsed": false
   },
   "outputs": [
    {
     "data": {
      "text/html": [
       "<div>\n",
       "<table border=\"1\" class=\"dataframe\">\n",
       "  <thead>\n",
       "    <tr style=\"text-align: right;\">\n",
       "      <th></th>\n",
       "      <th>Major area, region, country or area *</th>\n",
       "      <th>Country code</th>\n",
       "      <th>Reference date (as of 1 July)</th>\n",
       "      <th>0-4</th>\n",
       "      <th>5-9</th>\n",
       "      <th>10-14</th>\n",
       "      <th>15-19</th>\n",
       "      <th>20-24</th>\n",
       "      <th>25-29</th>\n",
       "      <th>30-34</th>\n",
       "      <th>...</th>\n",
       "      <th>55-59</th>\n",
       "      <th>60-64</th>\n",
       "      <th>65-69</th>\n",
       "      <th>70-74</th>\n",
       "      <th>75-79</th>\n",
       "      <th>80-84</th>\n",
       "      <th>85-89</th>\n",
       "      <th>90-94</th>\n",
       "      <th>95-99</th>\n",
       "      <th>100+</th>\n",
       "    </tr>\n",
       "  </thead>\n",
       "  <tbody>\n",
       "    <tr>\n",
       "      <th>0</th>\n",
       "      <td>WORLD</td>\n",
       "      <td>900</td>\n",
       "      <td>2015</td>\n",
       "      <td>670928.185</td>\n",
       "      <td>637448.895</td>\n",
       "      <td>607431.299</td>\n",
       "      <td>590069.337</td>\n",
       "      <td>603508.555</td>\n",
       "      <td>609793.207</td>\n",
       "      <td>551085.426</td>\n",
       "      <td>...</td>\n",
       "      <td>339691.467</td>\n",
       "      <td>292726.792</td>\n",
       "      <td>215047.151</td>\n",
       "      <td>153207.026</td>\n",
       "      <td>114652.312</td>\n",
       "      <td>71449.698</td>\n",
       "      <td>37062.196</td>\n",
       "      <td>13388.529</td>\n",
       "      <td>2921.852</td>\n",
       "      <td>450.895</td>\n",
       "    </tr>\n",
       "    <tr>\n",
       "      <th>1</th>\n",
       "      <td>WORLD</td>\n",
       "      <td>900</td>\n",
       "      <td>2020</td>\n",
       "      <td>677599.590</td>\n",
       "      <td>664282.610</td>\n",
       "      <td>634568.409</td>\n",
       "      <td>604322.921</td>\n",
       "      <td>585831.926</td>\n",
       "      <td>599278.263</td>\n",
       "      <td>604808.769</td>\n",
       "      <td>...</td>\n",
       "      <td>387339.470</td>\n",
       "      <td>320927.366</td>\n",
       "      <td>267874.842</td>\n",
       "      <td>187441.892</td>\n",
       "      <td>123355.620</td>\n",
       "      <td>81851.457</td>\n",
       "      <td>42700.991</td>\n",
       "      <td>16937.683</td>\n",
       "      <td>4242.605</td>\n",
       "      <td>605.465</td>\n",
       "    </tr>\n",
       "    <tr>\n",
       "      <th>2</th>\n",
       "      <td>WORLD</td>\n",
       "      <td>900</td>\n",
       "      <td>2025</td>\n",
       "      <td>673174.914</td>\n",
       "      <td>671929.973</td>\n",
       "      <td>661684.410</td>\n",
       "      <td>631509.113</td>\n",
       "      <td>600050.925</td>\n",
       "      <td>581681.875</td>\n",
       "      <td>594598.480</td>\n",
       "      <td>...</td>\n",
       "      <td>428166.199</td>\n",
       "      <td>367325.750</td>\n",
       "      <td>295011.725</td>\n",
       "      <td>234797.844</td>\n",
       "      <td>152989.596</td>\n",
       "      <td>89822.147</td>\n",
       "      <td>49847.989</td>\n",
       "      <td>20116.420</td>\n",
       "      <td>5538.923</td>\n",
       "      <td>905.182</td>\n",
       "    </tr>\n",
       "    <tr>\n",
       "      <th>3</th>\n",
       "      <td>WORLD</td>\n",
       "      <td>900</td>\n",
       "      <td>2030</td>\n",
       "      <td>672121.017</td>\n",
       "      <td>667926.121</td>\n",
       "      <td>669744.224</td>\n",
       "      <td>658942.513</td>\n",
       "      <td>627343.133</td>\n",
       "      <td>595871.013</td>\n",
       "      <td>577192.328</td>\n",
       "      <td>...</td>\n",
       "      <td>450091.908</td>\n",
       "      <td>407564.034</td>\n",
       "      <td>339528.512</td>\n",
       "      <td>260426.171</td>\n",
       "      <td>193066.277</td>\n",
       "      <td>113475.561</td>\n",
       "      <td>56221.915</td>\n",
       "      <td>24041.609</td>\n",
       "      <td>6836.461</td>\n",
       "      <td>1244.851</td>\n",
       "    </tr>\n",
       "    <tr>\n",
       "      <th>4</th>\n",
       "      <td>WORLD</td>\n",
       "      <td>900</td>\n",
       "      <td>2035</td>\n",
       "      <td>678271.589</td>\n",
       "      <td>667353.285</td>\n",
       "      <td>665875.094</td>\n",
       "      <td>667248.100</td>\n",
       "      <td>655034.545</td>\n",
       "      <td>623315.619</td>\n",
       "      <td>591598.185</td>\n",
       "      <td>...</td>\n",
       "      <td>456022.842</td>\n",
       "      <td>429343.580</td>\n",
       "      <td>378601.876</td>\n",
       "      <td>301893.804</td>\n",
       "      <td>216249.259</td>\n",
       "      <td>144393.943</td>\n",
       "      <td>72643.007</td>\n",
       "      <td>28074.222</td>\n",
       "      <td>8397.572</td>\n",
       "      <td>1617.797</td>\n",
       "    </tr>\n",
       "  </tbody>\n",
       "</table>\n",
       "<p>5 rows × 24 columns</p>\n",
       "</div>"
      ],
      "text/plain": [
       "  Major area, region, country or area *  Country code  \\\n",
       "0                                 WORLD           900   \n",
       "1                                 WORLD           900   \n",
       "2                                 WORLD           900   \n",
       "3                                 WORLD           900   \n",
       "4                                 WORLD           900   \n",
       "\n",
       "   Reference date (as of 1 July)         0-4         5-9       10-14  \\\n",
       "0                           2015  670928.185  637448.895  607431.299   \n",
       "1                           2020  677599.590  664282.610  634568.409   \n",
       "2                           2025  673174.914  671929.973  661684.410   \n",
       "3                           2030  672121.017  667926.121  669744.224   \n",
       "4                           2035  678271.589  667353.285  665875.094   \n",
       "\n",
       "        15-19       20-24       25-29       30-34    ...          55-59  \\\n",
       "0  590069.337  603508.555  609793.207  551085.426    ...     339691.467   \n",
       "1  604322.921  585831.926  599278.263  604808.769    ...     387339.470   \n",
       "2  631509.113  600050.925  581681.875  594598.480    ...     428166.199   \n",
       "3  658942.513  627343.133  595871.013  577192.328    ...     450091.908   \n",
       "4  667248.100  655034.545  623315.619  591598.185    ...     456022.842   \n",
       "\n",
       "        60-64       65-69       70-74       75-79       80-84      85-89  \\\n",
       "0  292726.792  215047.151  153207.026  114652.312   71449.698  37062.196   \n",
       "1  320927.366  267874.842  187441.892  123355.620   81851.457  42700.991   \n",
       "2  367325.750  295011.725  234797.844  152989.596   89822.147  49847.989   \n",
       "3  407564.034  339528.512  260426.171  193066.277  113475.561  56221.915   \n",
       "4  429343.580  378601.876  301893.804  216249.259  144393.943  72643.007   \n",
       "\n",
       "       90-94     95-99      100+  \n",
       "0  13388.529  2921.852   450.895  \n",
       "1  16937.683  4242.605   605.465  \n",
       "2  20116.420  5538.923   905.182  \n",
       "3  24041.609  6836.461  1244.851  \n",
       "4  28074.222  8397.572  1617.797  \n",
       "\n",
       "[5 rows x 24 columns]"
      ]
     },
     "execution_count": 27,
     "metadata": {},
     "output_type": "execute_result"
    }
   ],
   "source": [
    "url1 = 'http://esa.un.org/unpd/wpp/DVD/Files/'\n",
    "url2 = '1_Indicators%20(Standard)/EXCEL_FILES/1_Population/'\n",
    "url3 = 'WPP2015_POP_F07_1_POPULATION_BY_AGE_BOTH_SEXES.XLS'\n",
    "url = url1 + url2 + url3 \n",
    "\n",
    "cols = [2, 4, 5] + list(range(6,28))\n",
    "#est = pd.read_excel(url, sheetname=0, skiprows=16, parse_cols=cols, na_values=['…'])\n",
    "prj = pd.read_excel(url, sheetname=1, skiprows=16, parse_cols=cols, na_values=['…'])\n",
    "\n",
    "\"\"\"\n",
    "for later:  change cols for the two sources, rename 80+ to 80-84, then concat \n",
    "#pop = pd.concat([est, prj], axis=0, join='outer')      \n",
    "\"\"\"\n",
    "pop = prj \n",
    "pop.head()"
   ]
  },
  {
   "cell_type": "code",
   "execution_count": 28,
   "metadata": {
    "collapsed": false
   },
   "outputs": [
    {
     "data": {
      "text/html": [
       "<div>\n",
       "<table border=\"1\" class=\"dataframe\">\n",
       "  <thead>\n",
       "    <tr style=\"text-align: right;\">\n",
       "      <th></th>\n",
       "      <th>Year</th>\n",
       "      <th>0-4</th>\n",
       "      <th>5-9</th>\n",
       "      <th>10-14</th>\n",
       "      <th>15-19</th>\n",
       "      <th>20-24</th>\n",
       "      <th>25-29</th>\n",
       "      <th>30-34</th>\n",
       "      <th>35-39</th>\n",
       "      <th>40-44</th>\n",
       "      <th>...</th>\n",
       "      <th>55-59</th>\n",
       "      <th>60-64</th>\n",
       "      <th>65-69</th>\n",
       "      <th>70-74</th>\n",
       "      <th>75-79</th>\n",
       "      <th>80-84</th>\n",
       "      <th>85-89</th>\n",
       "      <th>90-94</th>\n",
       "      <th>95-99</th>\n",
       "      <th>100+</th>\n",
       "    </tr>\n",
       "  </thead>\n",
       "  <tbody>\n",
       "    <tr>\n",
       "      <th>1458</th>\n",
       "      <td>2015</td>\n",
       "      <td>5269.038</td>\n",
       "      <td>5398.973</td>\n",
       "      <td>5603.638</td>\n",
       "      <td>5960.784</td>\n",
       "      <td>6111.768</td>\n",
       "      <td>6843.421</td>\n",
       "      <td>7455.687</td>\n",
       "      <td>8345.753</td>\n",
       "      <td>9689.865</td>\n",
       "      <td>...</td>\n",
       "      <td>7535.334</td>\n",
       "      <td>8530.749</td>\n",
       "      <td>9452.518</td>\n",
       "      <td>7770.410</td>\n",
       "      <td>6297.532</td>\n",
       "      <td>4940.325</td>\n",
       "      <td>3115.732</td>\n",
       "      <td>1338.774</td>\n",
       "      <td>366.082</td>\n",
       "      <td>60.630</td>\n",
       "    </tr>\n",
       "    <tr>\n",
       "      <th>1466</th>\n",
       "      <td>2055</td>\n",
       "      <td>4271.907</td>\n",
       "      <td>4371.016</td>\n",
       "      <td>4458.145</td>\n",
       "      <td>4557.117</td>\n",
       "      <td>4685.414</td>\n",
       "      <td>4829.637</td>\n",
       "      <td>5013.420</td>\n",
       "      <td>5236.482</td>\n",
       "      <td>5422.259</td>\n",
       "      <td>...</td>\n",
       "      <td>5971.177</td>\n",
       "      <td>5985.655</td>\n",
       "      <td>6493.459</td>\n",
       "      <td>6798.299</td>\n",
       "      <td>7167.066</td>\n",
       "      <td>7456.047</td>\n",
       "      <td>5368.363</td>\n",
       "      <td>3233.182</td>\n",
       "      <td>1437.057</td>\n",
       "      <td>462.541</td>\n",
       "    </tr>\n",
       "    <tr>\n",
       "      <th>1474</th>\n",
       "      <td>2095</td>\n",
       "      <td>3720.541</td>\n",
       "      <td>3789.596</td>\n",
       "      <td>3860.493</td>\n",
       "      <td>3938.189</td>\n",
       "      <td>4025.477</td>\n",
       "      <td>4106.967</td>\n",
       "      <td>4194.272</td>\n",
       "      <td>4290.983</td>\n",
       "      <td>4396.048</td>\n",
       "      <td>...</td>\n",
       "      <td>4640.419</td>\n",
       "      <td>4698.495</td>\n",
       "      <td>4750.410</td>\n",
       "      <td>4819.804</td>\n",
       "      <td>4876.471</td>\n",
       "      <td>4761.542</td>\n",
       "      <td>4300.830</td>\n",
       "      <td>3407.697</td>\n",
       "      <td>2082.468</td>\n",
       "      <td>844.420</td>\n",
       "    </tr>\n",
       "  </tbody>\n",
       "</table>\n",
       "<p>3 rows × 22 columns</p>\n",
       "</div>"
      ],
      "text/plain": [
       "      Year       0-4       5-9     10-14     15-19     20-24     25-29  \\\n",
       "1458  2015  5269.038  5398.973  5603.638  5960.784  6111.768  6843.421   \n",
       "1466  2055  4271.907  4371.016  4458.145  4557.117  4685.414  4829.637   \n",
       "1474  2095  3720.541  3789.596  3860.493  3938.189  4025.477  4106.967   \n",
       "\n",
       "         30-34     35-39     40-44   ...        55-59     60-64     65-69  \\\n",
       "1458  7455.687  8345.753  9689.865   ...     7535.334  8530.749  9452.518   \n",
       "1466  5013.420  5236.482  5422.259   ...     5971.177  5985.655  6493.459   \n",
       "1474  4194.272  4290.983  4396.048   ...     4640.419  4698.495  4750.410   \n",
       "\n",
       "         70-74     75-79     80-84     85-89     90-94     95-99     100+  \n",
       "1458  7770.410  6297.532  4940.325  3115.732  1338.774   366.082   60.630  \n",
       "1466  6798.299  7167.066  7456.047  5368.363  3233.182  1437.057  462.541  \n",
       "1474  4819.804  4876.471  4761.542  4300.830  3407.697  2082.468  844.420  \n",
       "\n",
       "[3 rows x 22 columns]"
      ]
     },
     "execution_count": 28,
     "metadata": {},
     "output_type": "execute_result"
    }
   ],
   "source": [
    "# rename some variables \n",
    "pop = pop.rename(columns={'Reference date (as of 1 July)': 'Year', \n",
    "                          'Major area, region, country or area *': 'Country', \n",
    "                          'Country code': 'Code'})\n",
    "# select Japan and years \n",
    "countries = ['Japan']\n",
    "years     = [2015, 2055, 2095]\n",
    "pop = pop[pop['Country'].isin(countries) & pop['Year'].isin(years)]\n",
    "pop = pop.drop(['Country', 'Code'], axis=1)\n",
    "pop.head()"
   ]
  },
  {
   "cell_type": "code",
   "execution_count": 29,
   "metadata": {
    "collapsed": false
   },
   "outputs": [
    {
     "data": {
      "text/html": [
       "<div>\n",
       "<table border=\"1\" class=\"dataframe\">\n",
       "  <thead>\n",
       "    <tr style=\"text-align: right;\">\n",
       "      <th>Year</th>\n",
       "      <th>2015</th>\n",
       "      <th>2055</th>\n",
       "      <th>2095</th>\n",
       "    </tr>\n",
       "  </thead>\n",
       "  <tbody>\n",
       "    <tr>\n",
       "      <th>0-4</th>\n",
       "      <td>5.269038</td>\n",
       "      <td>4.271907</td>\n",
       "      <td>3.720541</td>\n",
       "    </tr>\n",
       "    <tr>\n",
       "      <th>5-9</th>\n",
       "      <td>5.398973</td>\n",
       "      <td>4.371016</td>\n",
       "      <td>3.789596</td>\n",
       "    </tr>\n",
       "    <tr>\n",
       "      <th>10-14</th>\n",
       "      <td>5.603638</td>\n",
       "      <td>4.458145</td>\n",
       "      <td>3.860493</td>\n",
       "    </tr>\n",
       "    <tr>\n",
       "      <th>15-19</th>\n",
       "      <td>5.960784</td>\n",
       "      <td>4.557117</td>\n",
       "      <td>3.938189</td>\n",
       "    </tr>\n",
       "    <tr>\n",
       "      <th>20-24</th>\n",
       "      <td>6.111768</td>\n",
       "      <td>4.685414</td>\n",
       "      <td>4.025477</td>\n",
       "    </tr>\n",
       "  </tbody>\n",
       "</table>\n",
       "</div>"
      ],
      "text/plain": [
       "Year       2015      2055      2095\n",
       "0-4    5.269038  4.271907  3.720541\n",
       "5-9    5.398973  4.371016  3.789596\n",
       "10-14  5.603638  4.458145  3.860493\n",
       "15-19  5.960784  4.557117  3.938189\n",
       "20-24  6.111768  4.685414  4.025477"
      ]
     },
     "execution_count": 29,
     "metadata": {},
     "output_type": "execute_result"
    }
   ],
   "source": [
    "pop = pop.set_index('Year').T/1000\n",
    "pop.head()"
   ]
  },
  {
   "cell_type": "code",
   "execution_count": 30,
   "metadata": {
    "collapsed": false
   },
   "outputs": [
    {
     "data": {
      "text/plain": [
       "<matplotlib.text.Text at 0x8f9bb38>"
      ]
     },
     "execution_count": 30,
     "metadata": {},
     "output_type": "execute_result"
    },
    {
     "data": {
      "image/png": "[encoded data removed]",
      "text/plain": [
       "<matplotlib.figure.Figure at 0x9d421d0>"
      ]
     },
     "metadata": {},
     "output_type": "display_data"
    }
   ],
   "source": [
    "ax = pop.plot(kind='bar',  \n",
    "              color='blue', \n",
    "              alpha=0.5, subplots=True, sharey=True, figsize=(6, 8))\n",
    "\n",
    "for axnum in range(len(ax)):  \n",
    "    ax[axnum].set_title('')\n",
    "    ax[axnum].set_ylabel('Millions')\n",
    "        \n",
    "ax[0].set_title('Population by age', fontsize=14, loc='left')   "
   ]
  },
  {
   "cell_type": "code",
   "execution_count": null,
   "metadata": {
    "collapsed": true
   },
   "outputs": [],
   "source": []
  },
  {
   "cell_type": "markdown",
   "metadata": {},
   "source": [
    "## Fertility:  aka birth rates\n",
    "\n",
    "We might wonder, why is the population falling in Japan?  Other countries?  Well, one reason is that birth rates are falling.  Demographers call this fertility.  Here we look at the fertility using the same [UN source](http://esa.un.org/unpd/wpp/Download/Standard/Fertility/) as the previous example.  We look at two variables:  total fertility and fertility by age of mother.  In both cases we explore the numbers to date, but the same files contain projections of future fertility.  "
   ]
  },
  {
   "cell_type": "code",
   "execution_count": 31,
   "metadata": {
    "collapsed": false
   },
   "outputs": [],
   "source": [
    "# fertility overall \n",
    "uft  = 'http://esa.un.org/unpd/wpp/DVD/Files/'\n",
    "uft += '1_Indicators%20(Standard)/EXCEL_FILES/'\n",
    "uft += '2_Fertility/WPP2015_FERT_F04_TOTAL_FERTILITY.XLS'\n",
    "\n",
    "cols = [2] + list(range(5,18))\n",
    "ftot = pd.read_excel(uft, sheetname=0, skiprows=16, parse_cols=cols, na_values=['…'])"
   ]
  },
  {
   "cell_type": "code",
   "execution_count": 32,
   "metadata": {
    "collapsed": false
   },
   "outputs": [
    {
     "data": {
      "text/html": [
       "<div>\n",
       "<table border=\"1\" class=\"dataframe\">\n",
       "  <thead>\n",
       "    <tr style=\"text-align: right;\">\n",
       "      <th></th>\n",
       "      <th>Major area, region, country or area *</th>\n",
       "      <th>1950-1955</th>\n",
       "      <th>1955-1960</th>\n",
       "      <th>1960-1965</th>\n",
       "      <th>1965-1970</th>\n",
       "      <th>1970-1975</th>\n",
       "      <th>1975-1980</th>\n",
       "      <th>1980-1985</th>\n",
       "    </tr>\n",
       "  </thead>\n",
       "  <tbody>\n",
       "    <tr>\n",
       "      <th>0</th>\n",
       "      <td>WORLD</td>\n",
       "      <td>4.961571</td>\n",
       "      <td>4.898665</td>\n",
       "      <td>5.024379</td>\n",
       "      <td>4.922202</td>\n",
       "      <td>4.475478</td>\n",
       "      <td>3.865195</td>\n",
       "      <td>3.591816</td>\n",
       "    </tr>\n",
       "    <tr>\n",
       "      <th>1</th>\n",
       "      <td>More developed regions</td>\n",
       "      <td>2.823786</td>\n",
       "      <td>2.807368</td>\n",
       "      <td>2.685900</td>\n",
       "      <td>2.387534</td>\n",
       "      <td>2.150816</td>\n",
       "      <td>1.917349</td>\n",
       "      <td>1.843806</td>\n",
       "    </tr>\n",
       "    <tr>\n",
       "      <th>2</th>\n",
       "      <td>Less developed regions</td>\n",
       "      <td>6.075417</td>\n",
       "      <td>5.941033</td>\n",
       "      <td>6.129418</td>\n",
       "      <td>6.034843</td>\n",
       "      <td>5.416602</td>\n",
       "      <td>4.585636</td>\n",
       "      <td>4.167889</td>\n",
       "    </tr>\n",
       "  </tbody>\n",
       "</table>\n",
       "</div>"
      ],
      "text/plain": [
       "  Major area, region, country or area *  1950-1955  1955-1960  1960-1965  \\\n",
       "0                                 WORLD   4.961571   4.898665   5.024379   \n",
       "1                More developed regions   2.823786   2.807368   2.685900   \n",
       "2                Less developed regions   6.075417   5.941033   6.129418   \n",
       "\n",
       "   1965-1970  1970-1975  1975-1980  1980-1985  \n",
       "0   4.922202   4.475478   3.865195   3.591816  \n",
       "1   2.387534   2.150816   1.917349   1.843806  \n",
       "2   6.034843   5.416602   4.585636   4.167889  "
      ]
     },
     "execution_count": 32,
     "metadata": {},
     "output_type": "execute_result"
    }
   ],
   "source": [
    "ftot[list(range(8))].head(3)"
   ]
  },
  {
   "cell_type": "code",
   "execution_count": 33,
   "metadata": {
    "collapsed": false
   },
   "outputs": [
    {
     "data": {
      "text/html": [
       "<div>\n",
       "<table border=\"1\" class=\"dataframe\">\n",
       "  <thead>\n",
       "    <tr style=\"text-align: right;\">\n",
       "      <th>Country</th>\n",
       "      <th>China</th>\n",
       "      <th>Japan</th>\n",
       "      <th>Germany</th>\n",
       "      <th>United States</th>\n",
       "    </tr>\n",
       "  </thead>\n",
       "  <tbody>\n",
       "    <tr>\n",
       "      <th>1990-1995</th>\n",
       "      <td>2.00</td>\n",
       "      <td>1.4760</td>\n",
       "      <td>1.3007</td>\n",
       "      <td>2.0297</td>\n",
       "    </tr>\n",
       "    <tr>\n",
       "      <th>1995-2000</th>\n",
       "      <td>1.48</td>\n",
       "      <td>1.3690</td>\n",
       "      <td>1.3456</td>\n",
       "      <td>1.9965</td>\n",
       "    </tr>\n",
       "    <tr>\n",
       "      <th>2000-2005</th>\n",
       "      <td>1.50</td>\n",
       "      <td>1.2980</td>\n",
       "      <td>1.3513</td>\n",
       "      <td>2.0420</td>\n",
       "    </tr>\n",
       "    <tr>\n",
       "      <th>2005-2010</th>\n",
       "      <td>1.53</td>\n",
       "      <td>1.3388</td>\n",
       "      <td>1.3623</td>\n",
       "      <td>2.0590</td>\n",
       "    </tr>\n",
       "    <tr>\n",
       "      <th>2010-2015</th>\n",
       "      <td>1.55</td>\n",
       "      <td>1.3960</td>\n",
       "      <td>1.3909</td>\n",
       "      <td>1.8902</td>\n",
       "    </tr>\n",
       "  </tbody>\n",
       "</table>\n",
       "</div>"
      ],
      "text/plain": [
       "Country    China   Japan  Germany  United States\n",
       "1990-1995   2.00  1.4760   1.3007         2.0297\n",
       "1995-2000   1.48  1.3690   1.3456         1.9965\n",
       "2000-2005   1.50  1.2980   1.3513         2.0420\n",
       "2005-2010   1.53  1.3388   1.3623         2.0590\n",
       "2010-2015   1.55  1.3960   1.3909         1.8902"
      ]
     },
     "execution_count": 33,
     "metadata": {},
     "output_type": "execute_result"
    }
   ],
   "source": [
    "# rename some variables \n",
    "f = ftot.rename(columns={'Major area, region, country or area *': 'Country'}) \n",
    "\n",
    "# select countries \n",
    "countries = ['China', 'Japan', 'Germany', 'United States of America']\n",
    "f = f[f['Country'].isin(countries)]\n",
    "\n",
    "# shape\n",
    "f = f.set_index('Country').T \n",
    "f = f.rename(columns={'United States of America': 'United States'})\n",
    "f.tail()"
   ]
  },
  {
   "cell_type": "code",
   "execution_count": 34,
   "metadata": {
    "collapsed": false
   },
   "outputs": [
    {
     "data": {
      "text/plain": [
       "<matplotlib.text.Text at 0xddf9978>"
      ]
     },
     "execution_count": 34,
     "metadata": {},
     "output_type": "execute_result"
    },
    {
     "data": {
      "image/png": "[encoded data removed]",
      "text/plain": [
       "<matplotlib.figure.Figure at 0xddca198>"
      ]
     },
     "metadata": {},
     "output_type": "display_data"
    }
   ],
   "source": [
    "fig, ax = plt.subplots()\n",
    "f.plot(ax=ax, kind='line', alpha=0.5, lw=3, figsize=(6.5, 4))\n",
    "ax.set_title('Fertility (births per woman, lifetime)', fontsize=14, loc='left')\n",
    "ax.legend(loc='best', fontsize=10, handlelength=2, labelspacing=0.15)\n",
    "ax.set_ylim(ymin=0)\n",
    "ax.hlines(2.1, -1, 13, linestyles='dashed')\n",
    "ax.text(8.5, 2.4, 'Replacement = 2.1')"
   ]
  },
  {
   "cell_type": "code",
   "execution_count": null,
   "metadata": {
    "collapsed": true
   },
   "outputs": [],
   "source": []
  },
  {
   "cell_type": "markdown",
   "metadata": {},
   "source": [
    "**Fertility by age.** Here we look at how fertility varies by the age of the mother.  The US is different from many other countries in having younger mothers, and specifically teen mothers.  \n",
    "\n"
   ]
  },
  {
   "cell_type": "code",
   "execution_count": 36,
   "metadata": {
    "collapsed": false,
    "scrolled": true
   },
   "outputs": [
    {
     "data": {
      "text/html": [
       "<div>\n",
       "<table border=\"1\" class=\"dataframe\">\n",
       "  <thead>\n",
       "    <tr style=\"text-align: right;\">\n",
       "      <th></th>\n",
       "      <th>Major area, region, country or area *</th>\n",
       "      <th>Period</th>\n",
       "      <th>15-19</th>\n",
       "      <th>20-24</th>\n",
       "      <th>25-29</th>\n",
       "      <th>30-34</th>\n",
       "      <th>35-39</th>\n",
       "      <th>40-44</th>\n",
       "      <th>45-49</th>\n",
       "    </tr>\n",
       "  </thead>\n",
       "  <tbody>\n",
       "    <tr>\n",
       "      <th>0</th>\n",
       "      <td>WORLD</td>\n",
       "      <td>1950-1955</td>\n",
       "      <td>86.880733</td>\n",
       "      <td>235.665285</td>\n",
       "      <td>250.424301</td>\n",
       "      <td>200.005251</td>\n",
       "      <td>138.588139</td>\n",
       "      <td>65.064292</td>\n",
       "      <td>15.686229</td>\n",
       "    </tr>\n",
       "    <tr>\n",
       "      <th>1</th>\n",
       "      <td>WORLD</td>\n",
       "      <td>1955-1960</td>\n",
       "      <td>85.445941</td>\n",
       "      <td>236.617613</td>\n",
       "      <td>249.435312</td>\n",
       "      <td>195.789574</td>\n",
       "      <td>134.457236</td>\n",
       "      <td>63.276305</td>\n",
       "      <td>14.711074</td>\n",
       "    </tr>\n",
       "    <tr>\n",
       "      <th>2</th>\n",
       "      <td>WORLD</td>\n",
       "      <td>1960-1965</td>\n",
       "      <td>85.308984</td>\n",
       "      <td>246.270684</td>\n",
       "      <td>257.409085</td>\n",
       "      <td>202.731168</td>\n",
       "      <td>136.168132</td>\n",
       "      <td>62.621840</td>\n",
       "      <td>14.365994</td>\n",
       "    </tr>\n",
       "    <tr>\n",
       "      <th>3</th>\n",
       "      <td>WORLD</td>\n",
       "      <td>1965-1970</td>\n",
       "      <td>80.548267</td>\n",
       "      <td>243.820849</td>\n",
       "      <td>257.697356</td>\n",
       "      <td>199.095776</td>\n",
       "      <td>130.289692</td>\n",
       "      <td>59.171188</td>\n",
       "      <td>13.817271</td>\n",
       "    </tr>\n",
       "    <tr>\n",
       "      <th>4</th>\n",
       "      <td>WORLD</td>\n",
       "      <td>1970-1975</td>\n",
       "      <td>74.561984</td>\n",
       "      <td>227.455682</td>\n",
       "      <td>241.455000</td>\n",
       "      <td>176.637948</td>\n",
       "      <td>112.222639</td>\n",
       "      <td>50.513435</td>\n",
       "      <td>12.249008</td>\n",
       "    </tr>\n",
       "  </tbody>\n",
       "</table>\n",
       "</div>"
      ],
      "text/plain": [
       "  Major area, region, country or area *     Period      15-19       20-24  \\\n",
       "0                                 WORLD  1950-1955  86.880733  235.665285   \n",
       "1                                 WORLD  1955-1960  85.445941  236.617613   \n",
       "2                                 WORLD  1960-1965  85.308984  246.270684   \n",
       "3                                 WORLD  1965-1970  80.548267  243.820849   \n",
       "4                                 WORLD  1970-1975  74.561984  227.455682   \n",
       "\n",
       "        25-29       30-34       35-39      40-44      45-49  \n",
       "0  250.424301  200.005251  138.588139  65.064292  15.686229  \n",
       "1  249.435312  195.789574  134.457236  63.276305  14.711074  \n",
       "2  257.409085  202.731168  136.168132  62.621840  14.365994  \n",
       "3  257.697356  199.095776  130.289692  59.171188  13.817271  \n",
       "4  241.455000  176.637948  112.222639  50.513435  12.249008  "
      ]
     },
     "execution_count": 36,
     "metadata": {},
     "output_type": "execute_result"
    }
   ],
   "source": [
    "# fertility by age \n",
    "ufa  = 'http://esa.un.org/unpd/wpp/DVD/Files/'\n",
    "ufa += '1_Indicators%20(Standard)/EXCEL_FILES/'\n",
    "ufa += '2_Fertility/WPP2015_FERT_F07_AGE_SPECIFIC_FERTILITY.XLS'\n",
    "\n",
    "cols = [2, 5] + list(range(6,13))\n",
    "fage = pd.read_excel(ufa, sheetname=0, skiprows=16, parse_cols=cols, na_values=['…'])\n",
    "fage.head()"
   ]
  },
  {
   "cell_type": "code",
   "execution_count": null,
   "metadata": {
    "collapsed": true
   },
   "outputs": [],
   "source": [
    "# pivots"
   ]
  },
  {
   "cell_type": "code",
   "execution_count": null,
   "metadata": {
    "collapsed": true
   },
   "outputs": [],
   "source": []
  },
  {
   "cell_type": "markdown",
   "metadata": {},
   "source": [
    "## Life expectancy \n",
    "\n",
    "One of the bottom line summary numbers for mortality is life expectancy:  if mortaility rates fall, people live longer, on average.  Here we look at life expectancy at birth.  There are also numbers for life expectancy given than you live to some specific age; for example, life expectancy given that you survive to age 60. "
   ]
  },
  {
   "cell_type": "code",
   "execution_count": 17,
   "metadata": {
    "collapsed": false
   },
   "outputs": [
    {
     "data": {
      "text/html": [
       "<div>\n",
       "<table border=\"1\" class=\"dataframe\">\n",
       "  <thead>\n",
       "    <tr style=\"text-align: right;\">\n",
       "      <th></th>\n",
       "      <th>Major area, region, country or area *</th>\n",
       "      <th>1950-1955</th>\n",
       "      <th>1955-1960</th>\n",
       "      <th>1960-1965</th>\n",
       "      <th>1965-1970</th>\n",
       "      <th>1970-1975</th>\n",
       "      <th>1975-1980</th>\n",
       "      <th>1980-1985</th>\n",
       "      <th>1985-1990</th>\n",
       "      <th>1990-1995</th>\n",
       "    </tr>\n",
       "  </thead>\n",
       "  <tbody>\n",
       "    <tr>\n",
       "      <th>0</th>\n",
       "      <td>WORLD</td>\n",
       "      <td>46.807955</td>\n",
       "      <td>49.211594</td>\n",
       "      <td>51.069722</td>\n",
       "      <td>55.378481</td>\n",
       "      <td>58.049389</td>\n",
       "      <td>60.212254</td>\n",
       "      <td>61.989053</td>\n",
       "      <td>63.610776</td>\n",
       "      <td>64.536781</td>\n",
       "    </tr>\n",
       "    <tr>\n",
       "      <th>1</th>\n",
       "      <td>More developed regions</td>\n",
       "      <td>64.669835</td>\n",
       "      <td>67.679537</td>\n",
       "      <td>69.440381</td>\n",
       "      <td>70.281907</td>\n",
       "      <td>71.063794</td>\n",
       "      <td>71.960446</td>\n",
       "      <td>72.806852</td>\n",
       "      <td>73.901457</td>\n",
       "      <td>74.107521</td>\n",
       "    </tr>\n",
       "    <tr>\n",
       "      <th>2</th>\n",
       "      <td>Less developed regions</td>\n",
       "      <td>41.508118</td>\n",
       "      <td>43.882493</td>\n",
       "      <td>46.017378</td>\n",
       "      <td>51.441078</td>\n",
       "      <td>54.770858</td>\n",
       "      <td>57.342650</td>\n",
       "      <td>59.418113</td>\n",
       "      <td>61.229860</td>\n",
       "      <td>62.453399</td>\n",
       "    </tr>\n",
       "  </tbody>\n",
       "</table>\n",
       "</div>"
      ],
      "text/plain": [
       "  Major area, region, country or area *  1950-1955  1955-1960  1960-1965  \\\n",
       "0                                 WORLD  46.807955  49.211594  51.069722   \n",
       "1                More developed regions  64.669835  67.679537  69.440381   \n",
       "2                Less developed regions  41.508118  43.882493  46.017378   \n",
       "\n",
       "   1965-1970  1970-1975  1975-1980  1980-1985  1985-1990  1990-1995  \n",
       "0  55.378481  58.049389  60.212254  61.989053  63.610776  64.536781  \n",
       "1  70.281907  71.063794  71.960446  72.806852  73.901457  74.107521  \n",
       "2  51.441078  54.770858  57.342650  59.418113  61.229860  62.453399  "
      ]
     },
     "execution_count": 17,
     "metadata": {},
     "output_type": "execute_result"
    }
   ],
   "source": [
    "# life expectancy at birth, both sexes  \n",
    "ule  = 'http://esa.un.org/unpd/wpp/DVD/Files/1_Indicators%20(Standard)/EXCEL_FILES/3_Mortality/'\n",
    "ule += 'WPP2015_MORT_F07_1_LIFE_EXPECTANCY_0_BOTH_SEXES.XLS'\n",
    "\n",
    "cols = [2] + list(range(5,34))\n",
    "le  = pd.read_excel(ule, sheetname=0, skiprows=16, parse_cols=cols, na_values=['…'])\n",
    "\n",
    "le.head(3)[list(range(10))]"
   ]
  },
  {
   "cell_type": "code",
   "execution_count": 18,
   "metadata": {
    "collapsed": false
   },
   "outputs": [
    {
     "data": {
      "text/html": [
       "<div>\n",
       "<table border=\"1\" class=\"dataframe\">\n",
       "  <thead>\n",
       "    <tr style=\"text-align: right;\">\n",
       "      <th></th>\n",
       "      <th>Country</th>\n",
       "      <th>1950-1955</th>\n",
       "      <th>1955-1960</th>\n",
       "      <th>1960-1965</th>\n",
       "      <th>1965-1970</th>\n",
       "      <th>1970-1975</th>\n",
       "      <th>1975-1980</th>\n",
       "      <th>1980-1985</th>\n",
       "      <th>1985-1990</th>\n",
       "      <th>1990-1995</th>\n",
       "      <th>1995-2000</th>\n",
       "      <th>2000-2005</th>\n",
       "      <th>2005-2010</th>\n",
       "      <th>2010-2015</th>\n",
       "    </tr>\n",
       "  </thead>\n",
       "  <tbody>\n",
       "    <tr>\n",
       "      <th>0</th>\n",
       "      <td>WORLD</td>\n",
       "      <td>46.807955</td>\n",
       "      <td>49.211594</td>\n",
       "      <td>51.069722</td>\n",
       "      <td>55.378481</td>\n",
       "      <td>58.049389</td>\n",
       "      <td>60.212254</td>\n",
       "      <td>61.989053</td>\n",
       "      <td>63.610776</td>\n",
       "      <td>64.536781</td>\n",
       "      <td>65.583898</td>\n",
       "      <td>67.051324</td>\n",
       "      <td>68.841280</td>\n",
       "      <td>70.477153</td>\n",
       "    </tr>\n",
       "    <tr>\n",
       "      <th>1</th>\n",
       "      <td>More developed regions</td>\n",
       "      <td>64.669835</td>\n",
       "      <td>67.679537</td>\n",
       "      <td>69.440381</td>\n",
       "      <td>70.281907</td>\n",
       "      <td>71.063794</td>\n",
       "      <td>71.960446</td>\n",
       "      <td>72.806852</td>\n",
       "      <td>73.901457</td>\n",
       "      <td>74.107521</td>\n",
       "      <td>74.732605</td>\n",
       "      <td>75.552097</td>\n",
       "      <td>76.884941</td>\n",
       "      <td>78.300841</td>\n",
       "    </tr>\n",
       "    <tr>\n",
       "      <th>2</th>\n",
       "      <td>Less developed regions</td>\n",
       "      <td>41.508118</td>\n",
       "      <td>43.882493</td>\n",
       "      <td>46.017378</td>\n",
       "      <td>51.441078</td>\n",
       "      <td>54.770858</td>\n",
       "      <td>57.342650</td>\n",
       "      <td>59.418113</td>\n",
       "      <td>61.229860</td>\n",
       "      <td>62.453399</td>\n",
       "      <td>63.675917</td>\n",
       "      <td>65.289252</td>\n",
       "      <td>67.098831</td>\n",
       "      <td>68.752576</td>\n",
       "    </tr>\n",
       "  </tbody>\n",
       "</table>\n",
       "</div>"
      ],
      "text/plain": [
       "                  Country  1950-1955  1955-1960  1960-1965  1965-1970  \\\n",
       "0                   WORLD  46.807955  49.211594  51.069722  55.378481   \n",
       "1  More developed regions  64.669835  67.679537  69.440381  70.281907   \n",
       "2  Less developed regions  41.508118  43.882493  46.017378  51.441078   \n",
       "\n",
       "   1970-1975  1975-1980  1980-1985  1985-1990  1990-1995  1995-2000  \\\n",
       "0  58.049389  60.212254  61.989053  63.610776  64.536781  65.583898   \n",
       "1  71.063794  71.960446  72.806852  73.901457  74.107521  74.732605   \n",
       "2  54.770858  57.342650  59.418113  61.229860  62.453399  63.675917   \n",
       "\n",
       "   2000-2005  2005-2010  2010-2015  \n",
       "0  67.051324  68.841280  70.477153  \n",
       "1  75.552097  76.884941  78.300841  \n",
       "2  65.289252  67.098831  68.752576  "
      ]
     },
     "execution_count": 18,
     "metadata": {},
     "output_type": "execute_result"
    }
   ],
   "source": [
    "# rename some variables \n",
    "oldname = list(le)[0]\n",
    "l = le.rename(columns={oldname: 'Country'}) \n",
    "l.head(3)"
   ]
  },
  {
   "cell_type": "code",
   "execution_count": 19,
   "metadata": {
    "collapsed": false
   },
   "outputs": [
    {
     "data": {
      "text/html": [
       "<div>\n",
       "<table border=\"1\" class=\"dataframe\">\n",
       "  <thead>\n",
       "    <tr style=\"text-align: right;\">\n",
       "      <th>Country</th>\n",
       "      <th>China</th>\n",
       "      <th>Japan</th>\n",
       "      <th>Germany</th>\n",
       "      <th>United States</th>\n",
       "    </tr>\n",
       "  </thead>\n",
       "  <tbody>\n",
       "    <tr>\n",
       "      <th>1990-1995</th>\n",
       "      <td>69.386</td>\n",
       "      <td>79.447</td>\n",
       "      <td>75.878</td>\n",
       "      <td>75.617</td>\n",
       "    </tr>\n",
       "    <tr>\n",
       "      <th>1995-2000</th>\n",
       "      <td>70.587</td>\n",
       "      <td>80.475</td>\n",
       "      <td>77.212</td>\n",
       "      <td>76.404</td>\n",
       "    </tr>\n",
       "    <tr>\n",
       "      <th>2000-2005</th>\n",
       "      <td>72.852</td>\n",
       "      <td>81.829</td>\n",
       "      <td>78.573</td>\n",
       "      <td>77.133</td>\n",
       "    </tr>\n",
       "    <tr>\n",
       "      <th>2005-2010</th>\n",
       "      <td>74.438</td>\n",
       "      <td>82.621</td>\n",
       "      <td>79.757</td>\n",
       "      <td>78.113</td>\n",
       "    </tr>\n",
       "    <tr>\n",
       "      <th>2010-2015</th>\n",
       "      <td>75.432</td>\n",
       "      <td>83.298</td>\n",
       "      <td>80.647</td>\n",
       "      <td>78.873</td>\n",
       "    </tr>\n",
       "  </tbody>\n",
       "</table>\n",
       "</div>"
      ],
      "text/plain": [
       "Country     China   Japan  Germany  United States\n",
       "1990-1995  69.386  79.447   75.878         75.617\n",
       "1995-2000  70.587  80.475   77.212         76.404\n",
       "2000-2005  72.852  81.829   78.573         77.133\n",
       "2005-2010  74.438  82.621   79.757         78.113\n",
       "2010-2015  75.432  83.298   80.647         78.873"
      ]
     },
     "execution_count": 19,
     "metadata": {},
     "output_type": "execute_result"
    }
   ],
   "source": [
    "# select countries \n",
    "countries = ['China', 'Japan', 'Germany', 'United States of America']\n",
    "l = l[l['Country'].isin(countries)]\n",
    "\n",
    "# shape\n",
    "l = l.set_index('Country').T \n",
    "l = l.rename(columns={'United States of America': 'United States'})\n",
    "l.tail()"
   ]
  },
  {
   "cell_type": "code",
   "execution_count": 20,
   "metadata": {
    "collapsed": false
   },
   "outputs": [
    {
     "data": {
      "text/plain": [
       "(0, 85.0)"
      ]
     },
     "execution_count": 20,
     "metadata": {},
     "output_type": "execute_result"
    },
    {
     "data": {
      "image/png": "[encoded data removed]",
      "text/plain": [
       "<matplotlib.figure.Figure at 0x8f14390>"
      ]
     },
     "metadata": {},
     "output_type": "display_data"
    }
   ],
   "source": [
    "fig, ax = plt.subplots()\n",
    "l.plot(ax=ax, kind='line', alpha=0.5, lw=3, figsize=(6, 8), grid=True)\n",
    "ax.set_title('Life expectancy at birth', fontsize=14, loc='left')\n",
    "ax.set_ylabel('Life expectancy in years')\n",
    "ax.legend(loc='best', fontsize=10, handlelength=2, labelspacing=0.15)\n",
    "ax.set_ylim(ymin=0)"
   ]
  },
  {
   "cell_type": "markdown",
   "metadata": {},
   "source": [
    "**Comments and questions.**\n",
    "\n",
    "* Can we use a dashed line for the projections?  \n",
    "* Would it look better without the zero lower limit on the y axis. \n",
    "* Why is the US falling behind?  Mortality of the young?  "
   ]
  },
  {
   "cell_type": "code",
   "execution_count": null,
   "metadata": {
    "collapsed": true
   },
   "outputs": [],
   "source": []
  },
  {
   "cell_type": "code",
   "execution_count": null,
   "metadata": {
    "collapsed": true
   },
   "outputs": [],
   "source": []
  },
  {
   "cell_type": "code",
   "execution_count": null,
   "metadata": {
    "collapsed": true
   },
   "outputs": [],
   "source": []
  },
  {
   "cell_type": "markdown",
   "metadata": {
    "collapsed": true
   },
   "source": [
    "## Mortality:  aka death rates \n",
    "\n",
    "Another thing that affects the age distribution of the population is the mortality rate:  if mortality rates fall people live longer, on average.  Here we look at how mortality rates have changed over the past 60+ years.  Roughly speaking, people live an extra decade every generation.  Which is a lot.  Many of you will live to be a hundred.  (Look at the 100+ agen category over time for Japan.)  \n",
    "\n",
    "The UN has a [whole page](http://esa.un.org/unpd/wpp/Download/Standard/Mortality/) devoted to mortality numbers.  We take 5-year mortality rates from the Abridged Life Table.  \n",
    "\n",
    "It takes a few seconds to read the spreadsheet.  "
   ]
  },
  {
   "cell_type": "code",
   "execution_count": 11,
   "metadata": {
    "collapsed": false
   },
   "outputs": [
    {
     "data": {
      "text/html": [
       "<div>\n",
       "<table border=\"1\" class=\"dataframe\">\n",
       "  <thead>\n",
       "    <tr style=\"text-align: right;\">\n",
       "      <th></th>\n",
       "      <th>Major area, region, country or area *</th>\n",
       "      <th>Period</th>\n",
       "      <th>Age (x)</th>\n",
       "      <th>Age interval (n)</th>\n",
       "      <th>Probability of dying q(x,n)</th>\n",
       "    </tr>\n",
       "  </thead>\n",
       "  <tbody>\n",
       "    <tr>\n",
       "      <th>59524</th>\n",
       "      <td>Tonga</td>\n",
       "      <td>2010-2015</td>\n",
       "      <td>75</td>\n",
       "      <td>5</td>\n",
       "      <td>0.279867</td>\n",
       "    </tr>\n",
       "    <tr>\n",
       "      <th>59525</th>\n",
       "      <td>Tonga</td>\n",
       "      <td>2010-2015</td>\n",
       "      <td>80</td>\n",
       "      <td>5</td>\n",
       "      <td>0.397735</td>\n",
       "    </tr>\n",
       "    <tr>\n",
       "      <th>59526</th>\n",
       "      <td>Tonga</td>\n",
       "      <td>2010-2015</td>\n",
       "      <td>85</td>\n",
       "      <td>15</td>\n",
       "      <td>NaN</td>\n",
       "    </tr>\n",
       "  </tbody>\n",
       "</table>\n",
       "</div>"
      ],
      "text/plain": [
       "      Major area, region, country or area *     Period  Age (x)  \\\n",
       "59524                                 Tonga  2010-2015       75   \n",
       "59525                                 Tonga  2010-2015       80   \n",
       "59526                                 Tonga  2010-2015       85   \n",
       "\n",
       "       Age interval (n)  Probability of dying q(x,n)  \n",
       "59524                 5                     0.279867  \n",
       "59525                 5                     0.397735  \n",
       "59526                15                          NaN  "
      ]
     },
     "execution_count": 11,
     "metadata": {},
     "output_type": "execute_result"
    }
   ],
   "source": [
    "# mortality overall \n",
    "url  = 'http://esa.un.org/unpd/wpp/DVD/Files/'\n",
    "url += '1_Indicators%20(Standard)/EXCEL_FILES/3_Mortality/'\n",
    "url += 'WPP2015_MORT_F17_1_ABRIDGED_LIFE_TABLE_BOTH_SEXES.XLS'\n",
    "\n",
    "cols = [2, 5, 6, 7, 9]\n",
    "mort = pd.read_excel(url, sheetname=0, skiprows=16, parse_cols=cols, na_values=['…'])\n",
    "mort.tail(3)"
   ]
  },
  {
   "cell_type": "code",
   "execution_count": 12,
   "metadata": {
    "collapsed": false
   },
   "outputs": [
    {
     "data": {
      "text/html": [
       "<div>\n",
       "<table border=\"1\" class=\"dataframe\">\n",
       "  <thead>\n",
       "    <tr style=\"text-align: right;\">\n",
       "      <th></th>\n",
       "      <th>Country</th>\n",
       "      <th>Period</th>\n",
       "      <th>Age</th>\n",
       "      <th>Interval</th>\n",
       "      <th>Mortality</th>\n",
       "    </tr>\n",
       "  </thead>\n",
       "  <tbody>\n",
       "    <tr>\n",
       "      <th>0</th>\n",
       "      <td>WORLD</td>\n",
       "      <td>1950-1955</td>\n",
       "      <td>0</td>\n",
       "      <td>1</td>\n",
       "      <td>0.141804</td>\n",
       "    </tr>\n",
       "    <tr>\n",
       "      <th>1</th>\n",
       "      <td>WORLD</td>\n",
       "      <td>1950-1955</td>\n",
       "      <td>1</td>\n",
       "      <td>4</td>\n",
       "      <td>0.085487</td>\n",
       "    </tr>\n",
       "    <tr>\n",
       "      <th>2</th>\n",
       "      <td>WORLD</td>\n",
       "      <td>1950-1955</td>\n",
       "      <td>5</td>\n",
       "      <td>5</td>\n",
       "      <td>0.031513</td>\n",
       "    </tr>\n",
       "  </tbody>\n",
       "</table>\n",
       "</div>"
      ],
      "text/plain": [
       "  Country     Period  Age  Interval  Mortality\n",
       "0   WORLD  1950-1955    0         1   0.141804\n",
       "1   WORLD  1950-1955    1         4   0.085487\n",
       "2   WORLD  1950-1955    5         5   0.031513"
      ]
     },
     "execution_count": 12,
     "metadata": {},
     "output_type": "execute_result"
    }
   ],
   "source": [
    "# change names \n",
    "names = list(mort)\n",
    "m = mort.rename(columns={names[0]: 'Country', names[2]: 'Age', names[3]: 'Interval', names[4]: 'Mortality'})\n",
    "m.head(3)"
   ]
  },
  {
   "cell_type": "markdown",
   "metadata": {},
   "source": [
    "**Comment.** At this point, we need to pivot the data.  That's not something we've done before, so take it as simply something we can do easily if we have to.  We're going to do this twice to produce different graphs.  \n",
    "\n",
    "* Compare countries for the same period.  \n",
    "* Compare different periods for the same country.  "
   ]
  },
  {
   "cell_type": "code",
   "execution_count": 21,
   "metadata": {
    "collapsed": false
   },
   "outputs": [
    {
     "name": "stdout",
     "output_type": "stream",
     "text": [
      "Dimensions: (64, 5)\n"
     ]
    },
    {
     "data": {
      "text/html": [
       "<div>\n",
       "<table border=\"1\" class=\"dataframe\">\n",
       "  <thead>\n",
       "    <tr style=\"text-align: right;\">\n",
       "      <th>Country</th>\n",
       "      <th>China</th>\n",
       "      <th>Germany</th>\n",
       "      <th>Japan</th>\n",
       "      <th>United States of America</th>\n",
       "    </tr>\n",
       "    <tr>\n",
       "      <th>Age</th>\n",
       "      <th></th>\n",
       "      <th></th>\n",
       "      <th></th>\n",
       "      <th></th>\n",
       "    </tr>\n",
       "  </thead>\n",
       "  <tbody>\n",
       "    <tr>\n",
       "      <th>5</th>\n",
       "      <td>0.001756</td>\n",
       "      <td>0.000397</td>\n",
       "      <td>0.000462</td>\n",
       "      <td>0.000597</td>\n",
       "    </tr>\n",
       "    <tr>\n",
       "      <th>10</th>\n",
       "      <td>0.001286</td>\n",
       "      <td>0.000456</td>\n",
       "      <td>0.000437</td>\n",
       "      <td>0.000714</td>\n",
       "    </tr>\n",
       "    <tr>\n",
       "      <th>15</th>\n",
       "      <td>0.001844</td>\n",
       "      <td>0.001300</td>\n",
       "      <td>0.001141</td>\n",
       "      <td>0.002264</td>\n",
       "    </tr>\n",
       "  </tbody>\n",
       "</table>\n",
       "</div>"
      ],
      "text/plain": [
       "Country     China   Germany     Japan  United States of America\n",
       "Age                                                            \n",
       "5        0.001756  0.000397  0.000462                  0.000597\n",
       "10       0.001286  0.000456  0.000437                  0.000714\n",
       "15       0.001844  0.001300  0.001141                  0.002264"
      ]
     },
     "execution_count": 21,
     "metadata": {},
     "output_type": "execute_result"
    }
   ],
   "source": [
    "# compare countries for most recent period\n",
    "countries = ['China', 'Japan', 'Germany', 'United States of America']\n",
    "mt = m[m['Country'].isin(countries) & m['Interval'].isin([5]) & m['Period'].isin(['2010-2015'])] \n",
    "print('Dimensions:', mt.shape) \n",
    "\n",
    "mp = mt.pivot('Age', 'Country', 'Mortality')  # inputs are index, columns, and values (data)\n",
    "mp.head(3)"
   ]
  },
  {
   "cell_type": "code",
   "execution_count": 24,
   "metadata": {
    "collapsed": false
   },
   "outputs": [
    {
     "data": {
      "text/plain": [
       "<matplotlib.legend.Legend at 0x9beb160>"
      ]
     },
     "execution_count": 24,
     "metadata": {},
     "output_type": "execute_result"
    },
    {
     "data": {
      "image/png": "[encoded data removed]",
      "text/plain": [
       "<matplotlib.figure.Figure at 0x9beb8d0>"
      ]
     },
     "metadata": {},
     "output_type": "display_data"
    }
   ],
   "source": [
    "fig, ax = plt.subplots()\n",
    "mp.plot(ax=ax, kind='line', alpha=0.5, linewidth=3, \n",
    "        logy=True, \n",
    "        figsize=(6, 4))\n",
    "ax.set_title('Mortality by age', fontsize=14, loc='left')\n",
    "ax.set_ylabel('Mortality Rate (log scale)')\n",
    "ax.legend(loc='best', fontsize=10, handlelength=2, labelspacing=0.15)"
   ]
  },
  {
   "cell_type": "markdown",
   "metadata": {},
   "source": [
    "**Questions.**\n",
    "\n",
    "* What country's old people have the lowest mortality?\n",
    "* What do you see here for the US?  Why is our life expectancy shorter?\n",
    "* Anything else cross your mind?  "
   ]
  },
  {
   "cell_type": "code",
   "execution_count": null,
   "metadata": {
    "collapsed": true
   },
   "outputs": [],
   "source": []
  },
  {
   "cell_type": "code",
   "execution_count": 15,
   "metadata": {
    "collapsed": false
   },
   "outputs": [
    {
     "name": "stdout",
     "output_type": "stream",
     "text": [
      "Dimensions: (208, 5)\n"
     ]
    },
    {
     "data": {
      "text/html": [
       "<div>\n",
       "<table border=\"1\" class=\"dataframe\">\n",
       "  <thead>\n",
       "    <tr style=\"text-align: right;\">\n",
       "      <th>Period</th>\n",
       "      <th>1950-1955</th>\n",
       "      <th>1980-1985</th>\n",
       "      <th>2010-2015</th>\n",
       "    </tr>\n",
       "    <tr>\n",
       "      <th>Age</th>\n",
       "      <th></th>\n",
       "      <th></th>\n",
       "      <th></th>\n",
       "    </tr>\n",
       "  </thead>\n",
       "  <tbody>\n",
       "    <tr>\n",
       "      <th>5</th>\n",
       "      <td>0.043088</td>\n",
       "      <td>0.006487</td>\n",
       "      <td>0.001756</td>\n",
       "    </tr>\n",
       "    <tr>\n",
       "      <th>10</th>\n",
       "      <td>0.025641</td>\n",
       "      <td>0.003300</td>\n",
       "      <td>0.001286</td>\n",
       "    </tr>\n",
       "    <tr>\n",
       "      <th>15</th>\n",
       "      <td>0.026845</td>\n",
       "      <td>0.004172</td>\n",
       "      <td>0.001844</td>\n",
       "    </tr>\n",
       "  </tbody>\n",
       "</table>\n",
       "</div>"
      ],
      "text/plain": [
       "Period  1950-1955  1980-1985  2010-2015\n",
       "Age                                    \n",
       "5        0.043088   0.006487   0.001756\n",
       "10       0.025641   0.003300   0.001286\n",
       "15       0.026845   0.004172   0.001844"
      ]
     },
     "execution_count": 15,
     "metadata": {},
     "output_type": "execute_result"
    }
   ],
   "source": [
    "# compare periods for the same country\n",
    "mt = m[m['Country'].isin(countries[0]) & m['Interval'].isin([5])] \n",
    "print('Dimensions:', mt.shape) \n",
    "\n",
    "mp = mt.pivot('Age', 'Period', 'Mortality')  # inputs are index, columns, and values (data)\n",
    "mp = mp[[0, 6, 12]]\n",
    "mp.head(3)"
   ]
  },
  {
   "cell_type": "code",
   "execution_count": 25,
   "metadata": {
    "collapsed": false
   },
   "outputs": [
    {
     "data": {
      "text/plain": [
       "<matplotlib.legend.Legend at 0x92c5710>"
      ]
     },
     "execution_count": 25,
     "metadata": {},
     "output_type": "execute_result"
    },
    {
     "data": {
      "image/png": "[encoded data removed]",
      "text/plain": [
       "<matplotlib.figure.Figure at 0x9cdad30>"
      ]
     },
     "metadata": {},
     "output_type": "display_data"
    }
   ],
   "source": [
    "fig, ax = plt.subplots()\n",
    "mp.plot(ax=ax, kind='line', alpha=0.5, linewidth=3, \n",
    "        logy=True, \n",
    "        figsize=(6, 4))\n",
    "ax.set_title('Mortality by age', fontsize=14, loc='left')\n",
    "ax.set_ylabel('Mortality Rate (log scale)')\n",
    "ax.legend(loc='best', fontsize=10, handlelength=2, labelspacing=0.15)"
   ]
  },
  {
   "cell_type": "code",
   "execution_count": null,
   "metadata": {
    "collapsed": true
   },
   "outputs": [],
   "source": []
  },
  {
   "cell_type": "code",
   "execution_count": null,
   "metadata": {
    "collapsed": true
   },
   "outputs": [],
   "source": []
  },
  {
   "cell_type": "code",
   "execution_count": null,
   "metadata": {
    "collapsed": true
   },
   "outputs": [],
   "source": []
  },
  {
   "cell_type": "code",
   "execution_count": null,
   "metadata": {
    "collapsed": true
   },
   "outputs": [],
   "source": []
  },
  {
   "cell_type": "code",
   "execution_count": null,
   "metadata": {
    "collapsed": true
   },
   "outputs": [],
   "source": []
  }
 ],
 "metadata": {
  "kernelspec": {
   "display_name": "Python 3",
   "language": "python",
   "name": "python3"
  },
  "language_info": {
   "codemirror_mode": {
    "name": "ipython",
    "version": 3
   },
   "file_extension": ".py",
   "mimetype": "text/x-python",
   "name": "python",
   "nbconvert_exporter": "python",
   "pygments_lexer": "ipython3",
   "version": "3.5.1"
  }
 },
 "nbformat": 4,
 "nbformat_minor": 0
}
