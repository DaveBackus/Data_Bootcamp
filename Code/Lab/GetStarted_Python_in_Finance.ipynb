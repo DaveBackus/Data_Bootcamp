{
 "cells": [
  {
   "cell_type": "markdown",
   "metadata": {},
   "source": [
    "## Using Python (and R) for Finance -- (Sanjiv Das)"
   ]
  },
  {
   "cell_type": "markdown",
   "metadata": {},
   "source": [
    "In this notebook we will get started with using Python for financial computation. You first need to download and install IPython which is an entire system for interactive use of Python. Luckily, this is easily done by visiting the following URL and downloading the version applicable to your machine (Python runs on all platforms). \n",
    "\n",
    "Visit Continuum Analytics and download Python: http://continuum.io/downloads and install it. Test that it works by using the Launcher (which will be on your desktop) to start up the IPython Notebook. \n",
    "\n",
    "Also install the R programming language, which is a very useful tool for Machine Learning. \n",
    "See: http://en.wikipedia.org/wiki/Machine_learning\n",
    "Get R from: http://www.r-project.org/ (download and install it). \n",
    "\n",
    "In order to allow Python to interface with R, you also need to install the \"rpy2\" package from: http://rpy.sourceforge.net/\n",
    "While you do not need to use R, and can get by mostly with Python, it is also a useful language as there are heaps of finance packages in R. As you will see, we can run both within the IPython Notebook. (Indeed, these lecture notes have been prepared in the Notebook.)\n",
    "\n",
    "If you want to use R in IDE mode, download RStudio: http://www.rstudio.com/\n",
    "\n",
    "Particularly useful are linear algebra capabilities in Python and R. In Python the package numPy makes these facile. Also useful are graphical libraries, and in Python, these comes in the matplotlib package. "
   ]
  },
  {
   "cell_type": "code",
   "execution_count": 1,
   "metadata": {
    "collapsed": false
   },
   "outputs": [
    {
     "name": "stdout",
     "output_type": "stream",
     "text": [
      "Populating the interactive namespace from numpy and matplotlib\n"
     ]
    }
   ],
   "source": [
    "#Invoke numPy and matplotlib in one command\n",
    "%pylab inline"
   ]
  },
  {
   "cell_type": "code",
   "execution_count": 2,
   "metadata": {
    "collapsed": false
   },
   "outputs": [
    {
     "name": "stdout",
     "output_type": "stream",
     "text": [
      "Date\n",
      "2014-04-01    567.15997\n",
      "2014-04-02    567.00000\n",
      "2014-04-03    569.73999\n",
      "2014-04-04    543.14001\n",
      "2014-04-07    538.15002\n",
      "2014-04-08    554.90002\n",
      "2014-04-09    564.14001\n",
      "2014-04-10    540.95001\n",
      "2014-04-11    530.59998\n",
      "2014-04-14    532.52002\n",
      "2014-04-15    536.44000\n",
      "2014-04-16    556.53998\n",
      "2014-04-17    536.09998\n",
      "2014-04-21    528.62000\n",
      "2014-04-22    534.81000\n",
      "...\n",
      "2015-03-11    551.17999\n",
      "2015-03-12    555.51001\n",
      "2015-03-13    547.32001\n",
      "2015-03-16    554.51001\n",
      "2015-03-17    550.84003\n",
      "2015-03-18    559.50000\n",
      "2015-03-19    557.98999\n",
      "2015-03-20    560.35999\n",
      "2015-03-23    558.81000\n",
      "2015-03-24    570.19000\n",
      "2015-03-25    558.78497\n",
      "2015-03-26    555.16998\n",
      "2015-03-27    548.34003\n",
      "2015-03-30    552.03003\n",
      "2015-03-31    548.00000\n",
      "Name: Adj Close, Length: 252\n"
     ]
    }
   ],
   "source": [
    "#IMPORTING STOCK DATA USING PANDAS\n",
    "from pandas.io.data import DataReader\n",
    "from datetime import datetime\n",
    "goog = DataReader(\"GOOG\",  \"yahoo\", datetime(2014,4,1), datetime(2015,3,31))\n",
    "stkp = goog[\"Adj Close\"]\n",
    "print stkp"
   ]
  },
  {
   "cell_type": "code",
   "execution_count": 3,
   "metadata": {
    "collapsed": false
   },
   "outputs": [
    {
     "data": {
      "text/html": [
       "<div style=\"max-height:1000px;max-width:1500px;overflow:auto;\">\n",
       "<table border=\"1\" class=\"dataframe\">\n",
       "  <thead>\n",
       "    <tr style=\"text-align: right;\">\n",
       "      <th></th>\n",
       "      <th>Open</th>\n",
       "      <th>High</th>\n",
       "      <th>Low</th>\n",
       "      <th>Close</th>\n",
       "      <th>Volume</th>\n",
       "      <th>Adj Close</th>\n",
       "    </tr>\n",
       "    <tr>\n",
       "      <th>Date</th>\n",
       "      <th></th>\n",
       "      <th></th>\n",
       "      <th></th>\n",
       "      <th></th>\n",
       "      <th></th>\n",
       "      <th></th>\n",
       "    </tr>\n",
       "  </thead>\n",
       "  <tbody>\n",
       "    <tr>\n",
       "      <th>2014-04-01</th>\n",
       "      <td> 558.71002</td>\n",
       "      <td> 568.45001</td>\n",
       "      <td> 558.71002</td>\n",
       "      <td> 567.15997</td>\n",
       "      <td>    7900</td>\n",
       "      <td> 567.15997</td>\n",
       "    </tr>\n",
       "    <tr>\n",
       "      <th>2014-04-02</th>\n",
       "      <td> 599.98999</td>\n",
       "      <td> 604.83002</td>\n",
       "      <td> 562.19000</td>\n",
       "      <td> 567.00000</td>\n",
       "      <td>  146700</td>\n",
       "      <td> 567.00000</td>\n",
       "    </tr>\n",
       "    <tr>\n",
       "      <th>2014-04-03</th>\n",
       "      <td> 569.84998</td>\n",
       "      <td> 587.28003</td>\n",
       "      <td> 564.13000</td>\n",
       "      <td> 569.73999</td>\n",
       "      <td> 5085200</td>\n",
       "      <td> 569.73999</td>\n",
       "    </tr>\n",
       "    <tr>\n",
       "      <th>2014-04-04</th>\n",
       "      <td> 574.65002</td>\n",
       "      <td> 577.77002</td>\n",
       "      <td> 543.00000</td>\n",
       "      <td> 543.14001</td>\n",
       "      <td> 6351900</td>\n",
       "      <td> 543.14001</td>\n",
       "    </tr>\n",
       "    <tr>\n",
       "      <th>2014-04-07</th>\n",
       "      <td> 540.73999</td>\n",
       "      <td> 548.47998</td>\n",
       "      <td> 527.15002</td>\n",
       "      <td> 538.15002</td>\n",
       "      <td> 4389600</td>\n",
       "      <td> 538.15002</td>\n",
       "    </tr>\n",
       "  </tbody>\n",
       "</table>\n",
       "</div>"
      ],
      "text/plain": [
       "                 Open       High        Low      Close   Volume  Adj Close\n",
       "Date                                                                      \n",
       "2014-04-01  558.71002  568.45001  558.71002  567.15997     7900  567.15997\n",
       "2014-04-02  599.98999  604.83002  562.19000  567.00000   146700  567.00000\n",
       "2014-04-03  569.84998  587.28003  564.13000  569.73999  5085200  569.73999\n",
       "2014-04-04  574.65002  577.77002  543.00000  543.14001  6351900  543.14001\n",
       "2014-04-07  540.73999  548.47998  527.15002  538.15002  4389600  538.15002"
      ]
     },
     "execution_count": 3,
     "metadata": {},
     "output_type": "execute_result"
    }
   ],
   "source": [
    "goog.head()"
   ]
  },
  {
   "cell_type": "code",
   "execution_count": 4,
   "metadata": {
    "collapsed": false
   },
   "outputs": [
    {
     "data": {
      "text/plain": [
       "<class 'pandas.tseries.index.DatetimeIndex'>\n",
       "[2014-04-01, ..., 2015-03-31]\n",
       "Length: 252, Freq: None, Timezone: None"
      ]
     },
     "execution_count": 4,
     "metadata": {},
     "output_type": "execute_result"
    }
   ],
   "source": [
    "goog.index"
   ]
  },
  {
   "cell_type": "code",
   "execution_count": 5,
   "metadata": {
    "collapsed": false
   },
   "outputs": [
    {
     "data": {
      "text/plain": [
       "<matplotlib.text.Text at 0x10783a890>"
      ]
     },
     "execution_count": 5,
     "metadata": {},
     "output_type": "execute_result"
    },
    {
     "data": {
      "image/png": "[encoded data removed]",
      "text/plain": [
       "<matplotlib.figure.Figure at 0x107787c10>"
      ]
     },
     "metadata": {},
     "output_type": "display_data"
    }
   ],
   "source": [
    "t = goog.index\n",
    "plot(t,stkp)\n",
    "xlabel(\"Date\")\n",
    "ylabel(\"Stock Price\")"
   ]
  },
  {
   "cell_type": "code",
   "execution_count": 6,
   "metadata": {
    "collapsed": false
   },
   "outputs": [
    {
     "data": {
      "text/plain": [
       "<matplotlib.text.Text at 0x1079cf490>"
      ]
     },
     "execution_count": 6,
     "metadata": {},
     "output_type": "execute_result"
    },
    {
     "data": {
      "image/png": "[encoded data removed]",
      "text/plain": [
       "<matplotlib.figure.Figure at 0x1078ce150>"
      ]
     },
     "metadata": {},
     "output_type": "display_data"
    }
   ],
   "source": [
    "n = len(t)-1\n",
    "rets = zeros(n)\n",
    "for j in range(n):\n",
    "    rets[j] = log(stkp[j+1]/stkp[j])\n",
    "plot(rets)\n",
    "ylabel(\"Returns\")"
   ]
  },
  {
   "cell_type": "code",
   "execution_count": 7,
   "metadata": {
    "collapsed": false
   },
   "outputs": [
    {
     "data": {
      "text/plain": [
       "(array([  1.,   1.,   1.,   1.,   2.,   2.,   6.,   7.,  14.,  17.,  21.,\n",
       "         25.,  32.,  37.,  17.,  26.,  17.,   9.,   8.,   2.,   1.,   1.,\n",
       "          2.,   0.,   1.]),\n",
       " array([-0.04781297, -0.04407384, -0.04033472, -0.03659559, -0.03285646,\n",
       "        -0.02911734, -0.02537821, -0.02163909, -0.01789996, -0.01416083,\n",
       "        -0.01042171, -0.00668258, -0.00294346,  0.00079567,  0.00453479,\n",
       "         0.00827392,  0.01201305,  0.01575217,  0.0194913 ,  0.02323042,\n",
       "         0.02696955,  0.03070868,  0.0344478 ,  0.03818693,  0.04192605,\n",
       "         0.04566518]),\n",
       " <a list of 25 Patch objects>)"
      ]
     },
     "execution_count": 7,
     "metadata": {},
     "output_type": "execute_result"
    },
    {
     "data": {
      "image/png": "[encoded data removed]",
      "text/plain": [
       "<matplotlib.figure.Figure at 0x105f28ad0>"
      ]
     },
     "metadata": {},
     "output_type": "display_data"
    }
   ],
   "source": [
    "hist(rets,25)"
   ]
  },
  {
   "cell_type": "code",
   "execution_count": 8,
   "metadata": {
    "collapsed": false
   },
   "outputs": [
    {
     "data": {
      "text/html": [
       "<div style=\"max-height:1000px;max-width:1500px;overflow:auto;\">\n",
       "<table border=\"1\" class=\"dataframe\">\n",
       "  <thead>\n",
       "    <tr style=\"text-align: right;\">\n",
       "      <th></th>\n",
       "      <th>Open</th>\n",
       "      <th>High</th>\n",
       "      <th>Low</th>\n",
       "      <th>Close</th>\n",
       "      <th>Volume</th>\n",
       "      <th>Adj Close</th>\n",
       "    </tr>\n",
       "  </thead>\n",
       "  <tbody>\n",
       "    <tr>\n",
       "      <th>count</th>\n",
       "      <td> 252.000000</td>\n",
       "      <td> 252.000000</td>\n",
       "      <td> 252.000000</td>\n",
       "      <td> 252.000000</td>\n",
       "      <td>     252.000000</td>\n",
       "      <td> 252.000000</td>\n",
       "    </tr>\n",
       "    <tr>\n",
       "      <th>mean</th>\n",
       "      <td> 550.523850</td>\n",
       "      <td> 554.668048</td>\n",
       "      <td> 545.193662</td>\n",
       "      <td> 550.081029</td>\n",
       "      <td> 1922350.000000</td>\n",
       "      <td> 550.081029</td>\n",
       "    </tr>\n",
       "    <tr>\n",
       "      <th>std</th>\n",
       "      <td>  24.599106</td>\n",
       "      <td>  24.145277</td>\n",
       "      <td>  24.955973</td>\n",
       "      <td>  24.524011</td>\n",
       "      <td>  941218.139443</td>\n",
       "      <td>  24.524011</td>\n",
       "    </tr>\n",
       "    <tr>\n",
       "      <th>min</th>\n",
       "      <td> 494.649990</td>\n",
       "      <td> 495.976010</td>\n",
       "      <td> 487.560000</td>\n",
       "      <td> 492.549990</td>\n",
       "      <td>    7900.000000</td>\n",
       "      <td> 492.549990</td>\n",
       "    </tr>\n",
       "    <tr>\n",
       "      <th>25%</th>\n",
       "      <td> 531.007507</td>\n",
       "      <td> 535.871978</td>\n",
       "      <td> 526.500015</td>\n",
       "      <td> 531.240007</td>\n",
       "      <td> 1371625.000000</td>\n",
       "      <td> 531.240007</td>\n",
       "    </tr>\n",
       "    <tr>\n",
       "      <th>50%</th>\n",
       "      <td> 550.000000</td>\n",
       "      <td> 553.994995</td>\n",
       "      <td> 544.024995</td>\n",
       "      <td> 549.170015</td>\n",
       "      <td> 1691350.000000</td>\n",
       "      <td> 549.170015</td>\n",
       "    </tr>\n",
       "    <tr>\n",
       "      <th>75%</th>\n",
       "      <td> 571.622515</td>\n",
       "      <td> 576.689985</td>\n",
       "      <td> 566.231262</td>\n",
       "      <td> 571.405017</td>\n",
       "      <td> 2193975.000000</td>\n",
       "      <td> 571.405017</td>\n",
       "    </tr>\n",
       "    <tr>\n",
       "      <th>max</th>\n",
       "      <td> 599.989990</td>\n",
       "      <td> 604.830020</td>\n",
       "      <td> 592.500000</td>\n",
       "      <td> 596.080020</td>\n",
       "      <td> 6790900.000000</td>\n",
       "      <td> 596.080020</td>\n",
       "    </tr>\n",
       "  </tbody>\n",
       "</table>\n",
       "</div>"
      ],
      "text/plain": [
       "             Open        High         Low       Close          Volume  \\\n",
       "count  252.000000  252.000000  252.000000  252.000000      252.000000   \n",
       "mean   550.523850  554.668048  545.193662  550.081029  1922350.000000   \n",
       "std     24.599106   24.145277   24.955973   24.524011   941218.139443   \n",
       "min    494.649990  495.976010  487.560000  492.549990     7900.000000   \n",
       "25%    531.007507  535.871978  526.500015  531.240007  1371625.000000   \n",
       "50%    550.000000  553.994995  544.024995  549.170015  1691350.000000   \n",
       "75%    571.622515  576.689985  566.231262  571.405017  2193975.000000   \n",
       "max    599.989990  604.830020  592.500000  596.080020  6790900.000000   \n",
       "\n",
       "        Adj Close  \n",
       "count  252.000000  \n",
       "mean   550.081029  \n",
       "std     24.524011  \n",
       "min    492.549990  \n",
       "25%    531.240007  \n",
       "50%    549.170015  \n",
       "75%    571.405017  \n",
       "max    596.080020  "
      ]
     },
     "execution_count": 8,
     "metadata": {},
     "output_type": "execute_result"
    }
   ],
   "source": [
    "goog.describe()"
   ]
  },
  {
   "cell_type": "code",
   "execution_count": 9,
   "metadata": {
    "collapsed": false
   },
   "outputs": [
    {
     "name": "stdout",
     "output_type": "stream",
     "text": [
      "('Skewness = ', -0.173028777259206)\n",
      "('Kurtosis = ', 0.9993234508893414)\n",
      "0.00302654770593\n"
     ]
    }
   ],
   "source": [
    "import scipy.stats as ss\n",
    "print(\"Skewness = \",ss.skew(rets))\n",
    "print(\"Kurtosis = \",ss.kurtosis(rets))\n",
    "\n",
    "#CHECK IF THIS IS EXCESS KURTOSIS or PLAIN KURTOSIS\n",
    "x = randn(1000000)\n",
    "print(ss.kurtosis(x))"
   ]
  },
  {
   "cell_type": "markdown",
   "metadata": {},
   "source": [
    "### SHARING VARIABLES FROM PYTHON TO R"
   ]
  },
  {
   "cell_type": "code",
   "execution_count": 10,
   "metadata": {
    "collapsed": false
   },
   "outputs": [],
   "source": [
    "#SENDING DATA VARIABLES TO R\n",
    "%load_ext rpy2.ipython\n",
    "#THIS ALLOWS US TO USE R INSIDE THE NOTEBOOK"
   ]
  },
  {
   "cell_type": "code",
   "execution_count": 11,
   "metadata": {
    "collapsed": false
   },
   "outputs": [],
   "source": [
    "#SENDS DATA FROM PYTHON TO R\n",
    "%Rpush stkp       "
   ]
  },
  {
   "cell_type": "code",
   "execution_count": 12,
   "metadata": {
    "collapsed": false
   },
   "outputs": [
    {
     "data": {
      "image/png": "[encoded data removed]"
     },
     "metadata": {},
     "output_type": "display_data"
    }
   ],
   "source": [
    "#PREFIX NEEDED TO CALL R INSTEAD OF PYTHON\n",
    "%R plot(stkp,type=\"l\",col=\"red\",lwd=2)   "
   ]
  },
  {
   "cell_type": "code",
   "execution_count": 13,
   "metadata": {
    "collapsed": false
   },
   "outputs": [
    {
     "data": {
      "text/plain": [
       "      Min.    1st Qu.     Median       Mean    3rd Qu.       Max. \n",
       "-0.0478100 -0.0076790 -0.0001538 -0.0001369  0.0088830  0.0456700 \n"
      ]
     },
     "metadata": {},
     "output_type": "display_data"
    },
    {
     "data": {
      "image/png": "[encoded data removed]",
      "text/plain": [
       "<matplotlib.figure.Figure at 0x10df75d10>"
      ]
     },
     "metadata": {},
     "output_type": "display_data"
    }
   ],
   "source": [
    "#GETTING DATA BACK FROM R TO PYTHON\n",
    "%R ret = diff(log(stkp))\n",
    "#GET DATA BACK FROM R TO PYTHON\n",
    "ret = %Rget ret   \n",
    "plot(ret)\n",
    "%R print(summary(ret))"
   ]
  },
  {
   "cell_type": "markdown",
   "metadata": {},
   "source": [
    "### GETTING STOCK DATA FROM R INTO PYTHON"
   ]
  },
  {
   "cell_type": "code",
   "execution_count": 14,
   "metadata": {
    "collapsed": false
   },
   "outputs": [
    {
     "data": {
      "text/plain": [
       "Loading required package: xts\n",
       "Loading required package: zoo\n",
       "\n",
       "Attaching package: ‘zoo’\n",
       "\n",
       "The following objects are masked from ‘package:base’:\n",
       "\n",
       "    as.Date, as.Date.numeric\n",
       "\n",
       "Loading required package: TTR\n",
       "Version 0.4-0 included new data defaults. See ?getSymbols.\n",
       "    As of 0.4-0, ‘getSymbols’ uses env=parent.frame() and\n",
       " auto.assign=TRUE by default.\n",
       "\n",
       " This  behavior  will be  phased out in 0.5-0  when the call  will\n",
       " default to use auto.assign=FALSE. getOption(\"getSymbols.env\") and \n",
       " getOptions(\"getSymbols.auto.assign\") are now checked for alternate defaults\n",
       "\n",
       " This message is shown once per session and may be disabled by setting \n",
       " options(\"getSymbols.warning4.0\"=FALSE). See ?getSymbol for more details\n",
       "[1] \"C\"    \"AAPL\" \"CSCO\" \"YHOO\" \"IBM\" \n"
      ]
     },
     "metadata": {},
     "output_type": "display_data"
    }
   ],
   "source": [
    "%%R\n",
    "library(quantmod)\n",
    "getSymbols(c(\"C\",\"AAPL\",\"CSCO\",\"YHOO\",\"IBM\"))"
   ]
  },
  {
   "cell_type": "code",
   "execution_count": 15,
   "metadata": {
    "collapsed": false
   },
   "outputs": [],
   "source": [
    "%%R \n",
    "citi = as.matrix(C$C.Adjusted)\n",
    "aapl = as.matrix(AAPL$AAPL.Adjusted)\n",
    "csco = as.matrix(CSCO$CSCO.Adjusted)\n",
    "yhoo = as.matrix(YHOO$YHOO.Adjusted)\n",
    "ibm = as.matrix(IBM$IBM.Adjusted)"
   ]
  },
  {
   "cell_type": "code",
   "execution_count": 16,
   "metadata": {
    "collapsed": false
   },
   "outputs": [
    {
     "data": {
      "text/plain": [
       "           C.Adjusted AAPL.Adjusted CSCO.Adjusted YHOO.Adjusted IBM.Adjusted\n",
       "2007-01-03   497.5920      11.29213      24.94332         25.61     83.41148\n",
       "2007-01-04   495.8808      11.54276      25.59996         26.85     84.30331\n",
       "2007-01-05   493.2690      11.46057      25.60896         27.74     83.54011\n",
       "2007-01-08   495.7907      11.51716      25.75288         27.92     84.80925\n",
       "2007-01-09   491.4678      12.47390      25.60896         27.58     85.81255\n",
       "2007-01-10   487.5050      13.07084      25.79785         28.70     84.80067\n"
      ]
     },
     "metadata": {},
     "output_type": "display_data"
    }
   ],
   "source": [
    "%%R \n",
    "stkdata = data.frame(cbind(citi,aapl,csco,yhoo,ibm))\n",
    "rn = rownames(stkdata)\n",
    "head(stkdata)"
   ]
  },
  {
   "cell_type": "code",
   "execution_count": 17,
   "metadata": {
    "collapsed": false
   },
   "outputs": [],
   "source": [
    "stkdata = %Rget stkdata\n",
    "rn = %Rget rn"
   ]
  },
  {
   "cell_type": "code",
   "execution_count": 18,
   "metadata": {
    "collapsed": false
   },
   "outputs": [
    {
     "data": {
      "text/plain": [
       "array([[ 497.59198,  495.8808 ,  493.26904, ...,   53.76   ,   53.32   ,\n",
       "          53.76   ],\n",
       "       [  11.29213,   11.54276,   11.46057, ...,  128.64   ,  125.15   ,\n",
       "         128.95   ],\n",
       "       [  24.94332,   25.59996,   25.60896, ...,   29.05   ,   28.83   ,\n",
       "          29.13   ],\n",
       "       [  25.61   ,   26.85   ,   27.74   , ...,   43.28   ,   42.57   ,\n",
       "          42.51   ],\n",
       "       [  83.41148,   84.30331,   83.54011, ...,  174.39999,  171.28999,\n",
       "         173.67   ]])"
      ]
     },
     "execution_count": 18,
     "metadata": {},
     "output_type": "execute_result"
    }
   ],
   "source": [
    "stkdata"
   ]
  },
  {
   "cell_type": "code",
   "execution_count": 19,
   "metadata": {
    "collapsed": false
   },
   "outputs": [
    {
     "data": {
      "text/plain": [
       "array(['2007-01-03', '2007-01-04', '2007-01-05', ..., '2015-04-29',\n",
       "       '2015-04-30', '2015-05-01'], \n",
       "      dtype='|S10')"
      ]
     },
     "execution_count": 19,
     "metadata": {},
     "output_type": "execute_result"
    }
   ],
   "source": [
    "rn"
   ]
  },
  {
   "cell_type": "markdown",
   "metadata": {},
   "source": [
    "### PANDAS IS AWESOME"
   ]
  },
  {
   "cell_type": "code",
   "execution_count": 20,
   "metadata": {
    "collapsed": false
   },
   "outputs": [
    {
     "data": {
      "text/html": [
       "<div style=\"max-height:1000px;max-width:1500px;overflow:auto;\">\n",
       "<table border=\"1\" class=\"dataframe\">\n",
       "  <thead>\n",
       "    <tr style=\"text-align: right;\">\n",
       "      <th></th>\n",
       "      <th>0</th>\n",
       "      <th>1</th>\n",
       "      <th>2</th>\n",
       "      <th>3</th>\n",
       "      <th>4</th>\n",
       "    </tr>\n",
       "  </thead>\n",
       "  <tbody>\n",
       "    <tr>\n",
       "      <th>0</th>\n",
       "      <td> 497.59198</td>\n",
       "      <td> 11.29213</td>\n",
       "      <td> 24.94332</td>\n",
       "      <td> 25.61</td>\n",
       "      <td> 83.41148</td>\n",
       "    </tr>\n",
       "    <tr>\n",
       "      <th>1</th>\n",
       "      <td> 495.88080</td>\n",
       "      <td> 11.54276</td>\n",
       "      <td> 25.59996</td>\n",
       "      <td> 26.85</td>\n",
       "      <td> 84.30331</td>\n",
       "    </tr>\n",
       "    <tr>\n",
       "      <th>2</th>\n",
       "      <td> 493.26904</td>\n",
       "      <td> 11.46057</td>\n",
       "      <td> 25.60896</td>\n",
       "      <td> 27.74</td>\n",
       "      <td> 83.54011</td>\n",
       "    </tr>\n",
       "    <tr>\n",
       "      <th>3</th>\n",
       "      <td> 495.79074</td>\n",
       "      <td> 11.51716</td>\n",
       "      <td> 25.75288</td>\n",
       "      <td> 27.92</td>\n",
       "      <td> 84.80925</td>\n",
       "    </tr>\n",
       "    <tr>\n",
       "      <th>4</th>\n",
       "      <td> 491.46780</td>\n",
       "      <td> 12.47390</td>\n",
       "      <td> 25.60896</td>\n",
       "      <td> 27.58</td>\n",
       "      <td> 85.81255</td>\n",
       "    </tr>\n",
       "  </tbody>\n",
       "</table>\n",
       "</div>"
      ],
      "text/plain": [
       "           0         1         2      3         4\n",
       "0  497.59198  11.29213  24.94332  25.61  83.41148\n",
       "1  495.88080  11.54276  25.59996  26.85  84.30331\n",
       "2  493.26904  11.46057  25.60896  27.74  83.54011\n",
       "3  495.79074  11.51716  25.75288  27.92  84.80925\n",
       "4  491.46780  12.47390  25.60896  27.58  85.81255"
      ]
     },
     "execution_count": 20,
     "metadata": {},
     "output_type": "execute_result"
    }
   ],
   "source": [
    "import pandas as pd\n",
    "stk = pd.DataFrame(stkdata)\n",
    "stk = stk.T\n",
    "stk.head()"
   ]
  },
  {
   "cell_type": "code",
   "execution_count": 21,
   "metadata": {
    "collapsed": false
   },
   "outputs": [
    {
     "data": {
      "text/html": [
       "<div style=\"max-height:1000px;max-width:1500px;overflow:auto;\">\n",
       "<table border=\"1\" class=\"dataframe\">\n",
       "  <thead>\n",
       "    <tr style=\"text-align: right;\">\n",
       "      <th></th>\n",
       "      <th>C</th>\n",
       "      <th>AAPL</th>\n",
       "      <th>CSCO</th>\n",
       "      <th>YHOO</th>\n",
       "      <th>IBM</th>\n",
       "    </tr>\n",
       "  </thead>\n",
       "  <tbody>\n",
       "    <tr>\n",
       "      <th>2007-01-03</th>\n",
       "      <td> 497.59198</td>\n",
       "      <td> 11.29213</td>\n",
       "      <td> 24.94332</td>\n",
       "      <td> 25.61</td>\n",
       "      <td> 83.41148</td>\n",
       "    </tr>\n",
       "    <tr>\n",
       "      <th>2007-01-04</th>\n",
       "      <td> 495.88080</td>\n",
       "      <td> 11.54276</td>\n",
       "      <td> 25.59996</td>\n",
       "      <td> 26.85</td>\n",
       "      <td> 84.30331</td>\n",
       "    </tr>\n",
       "    <tr>\n",
       "      <th>2007-01-05</th>\n",
       "      <td> 493.26904</td>\n",
       "      <td> 11.46057</td>\n",
       "      <td> 25.60896</td>\n",
       "      <td> 27.74</td>\n",
       "      <td> 83.54011</td>\n",
       "    </tr>\n",
       "    <tr>\n",
       "      <th>2007-01-08</th>\n",
       "      <td> 495.79074</td>\n",
       "      <td> 11.51716</td>\n",
       "      <td> 25.75288</td>\n",
       "      <td> 27.92</td>\n",
       "      <td> 84.80925</td>\n",
       "    </tr>\n",
       "    <tr>\n",
       "      <th>2007-01-09</th>\n",
       "      <td> 491.46780</td>\n",
       "      <td> 12.47390</td>\n",
       "      <td> 25.60896</td>\n",
       "      <td> 27.58</td>\n",
       "      <td> 85.81255</td>\n",
       "    </tr>\n",
       "  </tbody>\n",
       "</table>\n",
       "</div>"
      ],
      "text/plain": [
       "                    C      AAPL      CSCO   YHOO       IBM\n",
       "2007-01-03  497.59198  11.29213  24.94332  25.61  83.41148\n",
       "2007-01-04  495.88080  11.54276  25.59996  26.85  84.30331\n",
       "2007-01-05  493.26904  11.46057  25.60896  27.74  83.54011\n",
       "2007-01-08  495.79074  11.51716  25.75288  27.92  84.80925\n",
       "2007-01-09  491.46780  12.47390  25.60896  27.58  85.81255"
      ]
     },
     "execution_count": 21,
     "metadata": {},
     "output_type": "execute_result"
    }
   ],
   "source": [
    "stk.columns=[\"C\",\"AAPL\",\"CSCO\",\"YHOO\",\"IBM\"]\n",
    "stk.index = rn\n",
    "stk.head()"
   ]
  },
  {
   "cell_type": "code",
   "execution_count": 22,
   "metadata": {
    "collapsed": false
   },
   "outputs": [
    {
     "data": {
      "text/plain": [
       "[<matplotlib.lines.Line2D at 0x10efe1f10>]"
      ]
     },
     "execution_count": 22,
     "metadata": {},
     "output_type": "execute_result"
    },
    {
     "data": {
      "image/png": "[encoded data removed]",
      "text/plain": [
       "<matplotlib.figure.Figure at 0x10ebde9d0>"
      ]
     },
     "metadata": {},
     "output_type": "display_data"
    }
   ],
   "source": [
    "plot(stk[\"AAPL\"])"
   ]
  },
  {
   "cell_type": "code",
   "execution_count": 23,
   "metadata": {
    "collapsed": false
   },
   "outputs": [
    {
     "data": {
      "text/plain": [
       "C       497.59198\n",
       "AAPL     11.29213\n",
       "CSCO     24.94332\n",
       "YHOO     25.61000\n",
       "IBM      83.41148\n",
       "Name: 2007-01-03, dtype: float64"
      ]
     },
     "execution_count": 23,
     "metadata": {},
     "output_type": "execute_result"
    }
   ],
   "source": [
    "stk.ix['2007-01-03']"
   ]
  },
  {
   "cell_type": "code",
   "execution_count": 24,
   "metadata": {
    "collapsed": false
   },
   "outputs": [
    {
     "data": {
      "text/plain": [
       "11.29213"
      ]
     },
     "execution_count": 24,
     "metadata": {},
     "output_type": "execute_result"
    }
   ],
   "source": [
    "stk.ix['2007-01-03'][\"AAPL\"]"
   ]
  },
  {
   "cell_type": "code",
   "execution_count": 25,
   "metadata": {
    "collapsed": false
   },
   "outputs": [
    {
     "data": {
      "text/html": [
       "<div style=\"max-height:1000px;max-width:1500px;overflow:auto;\">\n",
       "<table border=\"1\" class=\"dataframe\">\n",
       "  <thead>\n",
       "    <tr style=\"text-align: right;\">\n",
       "      <th></th>\n",
       "      <th>C</th>\n",
       "      <th>AAPL</th>\n",
       "      <th>CSCO</th>\n",
       "      <th>YHOO</th>\n",
       "      <th>IBM</th>\n",
       "      <th>extra</th>\n",
       "    </tr>\n",
       "  </thead>\n",
       "  <tbody>\n",
       "    <tr>\n",
       "      <th>2007-01-03</th>\n",
       "      <td> 497.59198</td>\n",
       "      <td> 11.29213</td>\n",
       "      <td> 24.94332</td>\n",
       "      <td> 25.61</td>\n",
       "      <td> 83.41148</td>\n",
       "      <td> 1</td>\n",
       "    </tr>\n",
       "    <tr>\n",
       "      <th>2007-01-04</th>\n",
       "      <td> 495.88080</td>\n",
       "      <td> 11.54276</td>\n",
       "      <td> 25.59996</td>\n",
       "      <td> 26.85</td>\n",
       "      <td> 84.30331</td>\n",
       "      <td> 1</td>\n",
       "    </tr>\n",
       "    <tr>\n",
       "      <th>2007-01-05</th>\n",
       "      <td> 493.26904</td>\n",
       "      <td> 11.46057</td>\n",
       "      <td> 25.60896</td>\n",
       "      <td> 27.74</td>\n",
       "      <td> 83.54011</td>\n",
       "      <td> 1</td>\n",
       "    </tr>\n",
       "    <tr>\n",
       "      <th>2007-01-08</th>\n",
       "      <td> 495.79074</td>\n",
       "      <td> 11.51716</td>\n",
       "      <td> 25.75288</td>\n",
       "      <td> 27.92</td>\n",
       "      <td> 84.80925</td>\n",
       "      <td> 1</td>\n",
       "    </tr>\n",
       "    <tr>\n",
       "      <th>2007-01-09</th>\n",
       "      <td> 491.46780</td>\n",
       "      <td> 12.47390</td>\n",
       "      <td> 25.60896</td>\n",
       "      <td> 27.58</td>\n",
       "      <td> 85.81255</td>\n",
       "      <td> 1</td>\n",
       "    </tr>\n",
       "  </tbody>\n",
       "</table>\n",
       "</div>"
      ],
      "text/plain": [
       "                    C      AAPL      CSCO   YHOO       IBM  extra\n",
       "2007-01-03  497.59198  11.29213  24.94332  25.61  83.41148      1\n",
       "2007-01-04  495.88080  11.54276  25.59996  26.85  84.30331      1\n",
       "2007-01-05  493.26904  11.46057  25.60896  27.74  83.54011      1\n",
       "2007-01-08  495.79074  11.51716  25.75288  27.92  84.80925      1\n",
       "2007-01-09  491.46780  12.47390  25.60896  27.58  85.81255      1"
      ]
     },
     "execution_count": 25,
     "metadata": {},
     "output_type": "execute_result"
    }
   ],
   "source": [
    "stk[\"extra\"] = 1.0\n",
    "stk.head()"
   ]
  },
  {
   "cell_type": "code",
   "execution_count": 26,
   "metadata": {
    "collapsed": false
   },
   "outputs": [
    {
     "data": {
      "text/plain": [
       "array([  10.53752,   10.8461 ,   11.09404, ...,  132.17   ,  132.64999,\n",
       "        133.     ])"
      ]
     },
     "execution_count": 26,
     "metadata": {},
     "output_type": "execute_result"
    }
   ],
   "source": [
    "sort(stk[\"AAPL\"])"
   ]
  },
  {
   "cell_type": "code",
   "execution_count": 27,
   "metadata": {
    "collapsed": false
   },
   "outputs": [
    {
     "data": {
      "text/html": [
       "<div style=\"max-height:1000px;max-width:1500px;overflow:auto;\">\n",
       "<table border=\"1\" class=\"dataframe\">\n",
       "  <thead>\n",
       "    <tr style=\"text-align: right;\">\n",
       "      <th></th>\n",
       "      <th>C</th>\n",
       "      <th>AAPL</th>\n",
       "      <th>CSCO</th>\n",
       "      <th>YHOO</th>\n",
       "      <th>IBM</th>\n",
       "      <th>extra</th>\n",
       "    </tr>\n",
       "  </thead>\n",
       "  <tbody>\n",
       "    <tr>\n",
       "      <th>2007-01-03</th>\n",
       "      <td> 497.59198</td>\n",
       "      <td> 11.29213</td>\n",
       "      <td> 24.94332</td>\n",
       "      <td> 25.61</td>\n",
       "      <td> 83.41148</td>\n",
       "      <td> 1</td>\n",
       "    </tr>\n",
       "    <tr>\n",
       "      <th>2007-01-04</th>\n",
       "      <td> 495.88080</td>\n",
       "      <td> 11.54276</td>\n",
       "      <td> 25.59996</td>\n",
       "      <td> 26.85</td>\n",
       "      <td> 84.30331</td>\n",
       "      <td> 1</td>\n",
       "    </tr>\n",
       "    <tr>\n",
       "      <th>2007-01-05</th>\n",
       "      <td> 493.26904</td>\n",
       "      <td> 11.46057</td>\n",
       "      <td> 25.60896</td>\n",
       "      <td> 27.74</td>\n",
       "      <td> 83.54011</td>\n",
       "      <td> 1</td>\n",
       "    </tr>\n",
       "    <tr>\n",
       "      <th>2007-01-08</th>\n",
       "      <td> 495.79074</td>\n",
       "      <td> 11.51716</td>\n",
       "      <td> 25.75288</td>\n",
       "      <td> 27.92</td>\n",
       "      <td> 84.80925</td>\n",
       "      <td> 1</td>\n",
       "    </tr>\n",
       "    <tr>\n",
       "      <th>2007-01-09</th>\n",
       "      <td> 491.46780</td>\n",
       "      <td> 12.47390</td>\n",
       "      <td> 25.60896</td>\n",
       "      <td> 27.58</td>\n",
       "      <td> 85.81255</td>\n",
       "      <td> 1</td>\n",
       "    </tr>\n",
       "  </tbody>\n",
       "</table>\n",
       "</div>"
      ],
      "text/plain": [
       "                    C      AAPL      CSCO   YHOO       IBM  extra\n",
       "2007-01-03  497.59198  11.29213  24.94332  25.61  83.41148      1\n",
       "2007-01-04  495.88080  11.54276  25.59996  26.85  84.30331      1\n",
       "2007-01-05  493.26904  11.46057  25.60896  27.74  83.54011      1\n",
       "2007-01-08  495.79074  11.51716  25.75288  27.92  84.80925      1\n",
       "2007-01-09  491.46780  12.47390  25.60896  27.58  85.81255      1"
      ]
     },
     "execution_count": 27,
     "metadata": {},
     "output_type": "execute_result"
    }
   ],
   "source": [
    "stk.head()"
   ]
  },
  {
   "cell_type": "code",
   "execution_count": 28,
   "metadata": {
    "collapsed": false
   },
   "outputs": [
    {
     "data": {
      "text/html": [
       "<div style=\"max-height:1000px;max-width:1500px;overflow:auto;\">\n",
       "<table border=\"1\" class=\"dataframe\">\n",
       "  <thead>\n",
       "    <tr style=\"text-align: right;\">\n",
       "      <th></th>\n",
       "      <th>C</th>\n",
       "      <th>AAPL</th>\n",
       "      <th>CSCO</th>\n",
       "      <th>YHOO</th>\n",
       "      <th>IBM</th>\n",
       "    </tr>\n",
       "  </thead>\n",
       "  <tbody>\n",
       "    <tr>\n",
       "      <th>2007-01-03</th>\n",
       "      <td> 497.59198</td>\n",
       "      <td> 11.29213</td>\n",
       "      <td> 24.94332</td>\n",
       "      <td> 25.61</td>\n",
       "      <td> 83.41148</td>\n",
       "    </tr>\n",
       "    <tr>\n",
       "      <th>2007-01-04</th>\n",
       "      <td> 495.88080</td>\n",
       "      <td> 11.54276</td>\n",
       "      <td> 25.59996</td>\n",
       "      <td> 26.85</td>\n",
       "      <td> 84.30331</td>\n",
       "    </tr>\n",
       "    <tr>\n",
       "      <th>2007-01-05</th>\n",
       "      <td> 493.26904</td>\n",
       "      <td> 11.46057</td>\n",
       "      <td> 25.60896</td>\n",
       "      <td> 27.74</td>\n",
       "      <td> 83.54011</td>\n",
       "    </tr>\n",
       "    <tr>\n",
       "      <th>2007-01-08</th>\n",
       "      <td> 495.79074</td>\n",
       "      <td> 11.51716</td>\n",
       "      <td> 25.75288</td>\n",
       "      <td> 27.92</td>\n",
       "      <td> 84.80925</td>\n",
       "    </tr>\n",
       "    <tr>\n",
       "      <th>2007-01-09</th>\n",
       "      <td> 491.46780</td>\n",
       "      <td> 12.47390</td>\n",
       "      <td> 25.60896</td>\n",
       "      <td> 27.58</td>\n",
       "      <td> 85.81255</td>\n",
       "    </tr>\n",
       "  </tbody>\n",
       "</table>\n",
       "</div>"
      ],
      "text/plain": [
       "                    C      AAPL      CSCO   YHOO       IBM\n",
       "2007-01-03  497.59198  11.29213  24.94332  25.61  83.41148\n",
       "2007-01-04  495.88080  11.54276  25.59996  26.85  84.30331\n",
       "2007-01-05  493.26904  11.46057  25.60896  27.74  83.54011\n",
       "2007-01-08  495.79074  11.51716  25.75288  27.92  84.80925\n",
       "2007-01-09  491.46780  12.47390  25.60896  27.58  85.81255"
      ]
     },
     "execution_count": 28,
     "metadata": {},
     "output_type": "execute_result"
    }
   ],
   "source": [
    "stk = stk.drop(\"extra\",axis=1)  #IF AXIS=0 (default), THEN ROW IS DROPPED\n",
    "stk.head()"
   ]
  },
  {
   "cell_type": "code",
   "execution_count": 29,
   "metadata": {
    "collapsed": false
   },
   "outputs": [
    {
     "data": {
      "text/html": [
       "<div style=\"max-height:1000px;max-width:1500px;overflow:auto;\">\n",
       "<table border=\"1\" class=\"dataframe\">\n",
       "  <thead>\n",
       "    <tr style=\"text-align: right;\">\n",
       "      <th></th>\n",
       "      <th>AAPL</th>\n",
       "      <th>IBM</th>\n",
       "    </tr>\n",
       "  </thead>\n",
       "  <tbody>\n",
       "    <tr>\n",
       "      <th>2007-01-03</th>\n",
       "      <td> 11.29213</td>\n",
       "      <td> 83.41148</td>\n",
       "    </tr>\n",
       "    <tr>\n",
       "      <th>2007-01-04</th>\n",
       "      <td> 11.54276</td>\n",
       "      <td> 84.30331</td>\n",
       "    </tr>\n",
       "    <tr>\n",
       "      <th>2007-01-05</th>\n",
       "      <td> 11.46057</td>\n",
       "      <td> 83.54011</td>\n",
       "    </tr>\n",
       "    <tr>\n",
       "      <th>2007-01-08</th>\n",
       "      <td> 11.51716</td>\n",
       "      <td> 84.80925</td>\n",
       "    </tr>\n",
       "    <tr>\n",
       "      <th>2007-01-09</th>\n",
       "      <td> 12.47390</td>\n",
       "      <td> 85.81255</td>\n",
       "    </tr>\n",
       "  </tbody>\n",
       "</table>\n",
       "</div>"
      ],
      "text/plain": [
       "                AAPL       IBM\n",
       "2007-01-03  11.29213  83.41148\n",
       "2007-01-04  11.54276  84.30331\n",
       "2007-01-05  11.46057  83.54011\n",
       "2007-01-08  11.51716  84.80925\n",
       "2007-01-09  12.47390  85.81255"
      ]
     },
     "execution_count": 29,
     "metadata": {},
     "output_type": "execute_result"
    }
   ],
   "source": [
    "stk[[\"AAPL\",\"IBM\"]].head()"
   ]
  },
  {
   "cell_type": "code",
   "execution_count": 30,
   "metadata": {
    "collapsed": false
   },
   "outputs": [
    {
     "data": {
      "text/html": [
       "<div style=\"max-height:1000px;max-width:1500px;overflow:auto;\">\n",
       "<table border=\"1\" class=\"dataframe\">\n",
       "  <thead>\n",
       "    <tr style=\"text-align: right;\">\n",
       "      <th></th>\n",
       "      <th>C</th>\n",
       "      <th>AAPL</th>\n",
       "      <th>CSCO</th>\n",
       "      <th>YHOO</th>\n",
       "      <th>IBM</th>\n",
       "    </tr>\n",
       "  </thead>\n",
       "  <tbody>\n",
       "    <tr>\n",
       "      <th>2008-11-20</th>\n",
       "      <td> 46.80173</td>\n",
       "      <td> 10.84610</td>\n",
       "      <td> 13.01586</td>\n",
       "      <td>  8.95</td>\n",
       "      <td> 63.47624</td>\n",
       "    </tr>\n",
       "    <tr>\n",
       "      <th>2009-01-20</th>\n",
       "      <td> 27.82269</td>\n",
       "      <td> 10.53752</td>\n",
       "      <td> 13.50160</td>\n",
       "      <td> 11.01</td>\n",
       "      <td> 72.53670</td>\n",
       "    </tr>\n",
       "  </tbody>\n",
       "</table>\n",
       "</div>"
      ],
      "text/plain": [
       "                   C      AAPL      CSCO   YHOO       IBM\n",
       "2008-11-20  46.80173  10.84610  13.01586   8.95  63.47624\n",
       "2009-01-20  27.82269  10.53752  13.50160  11.01  72.53670"
      ]
     },
     "execution_count": 30,
     "metadata": {},
     "output_type": "execute_result"
    }
   ],
   "source": [
    "stk[stk[\"AAPL\"]<11]"
   ]
  },
  {
   "cell_type": "code",
   "execution_count": 32,
   "metadata": {
    "collapsed": false
   },
   "outputs": [
    {
     "data": {
      "text/plain": [
       "2008-11-20    63.48\n",
       "2009-01-20    72.54\n",
       "Name: IBM, dtype: float64"
      ]
     },
     "execution_count": 32,
     "metadata": {},
     "output_type": "execute_result"
    }
   ],
   "source": [
    "stk[stk[\"AAPL\"]<11][\"IBM\"]"
   ]
  },
  {
   "cell_type": "code",
   "execution_count": 33,
   "metadata": {
    "collapsed": false
   },
   "outputs": [
    {
     "data": {
      "text/html": [
       "<div style=\"max-height:1000px;max-width:1500px;overflow:auto;\">\n",
       "<table border=\"1\" class=\"dataframe\">\n",
       "  <thead>\n",
       "    <tr style=\"text-align: right;\">\n",
       "      <th></th>\n",
       "      <th>C</th>\n",
       "      <th>AAPL</th>\n",
       "      <th>CSCO</th>\n",
       "      <th>YHOO</th>\n",
       "      <th>IBM</th>\n",
       "    </tr>\n",
       "  </thead>\n",
       "  <tbody>\n",
       "    <tr>\n",
       "      <th>2007-01-03</th>\n",
       "      <td> False</td>\n",
       "      <td> True</td>\n",
       "      <td> True</td>\n",
       "      <td> True</td>\n",
       "      <td> False</td>\n",
       "    </tr>\n",
       "    <tr>\n",
       "      <th>2007-01-04</th>\n",
       "      <td> False</td>\n",
       "      <td> True</td>\n",
       "      <td> True</td>\n",
       "      <td> True</td>\n",
       "      <td> False</td>\n",
       "    </tr>\n",
       "    <tr>\n",
       "      <th>2007-01-05</th>\n",
       "      <td> False</td>\n",
       "      <td> True</td>\n",
       "      <td> True</td>\n",
       "      <td> True</td>\n",
       "      <td> False</td>\n",
       "    </tr>\n",
       "    <tr>\n",
       "      <th>2007-01-08</th>\n",
       "      <td> False</td>\n",
       "      <td> True</td>\n",
       "      <td> True</td>\n",
       "      <td> True</td>\n",
       "      <td> False</td>\n",
       "    </tr>\n",
       "    <tr>\n",
       "      <th>2007-01-09</th>\n",
       "      <td> False</td>\n",
       "      <td> True</td>\n",
       "      <td> True</td>\n",
       "      <td> True</td>\n",
       "      <td> False</td>\n",
       "    </tr>\n",
       "  </tbody>\n",
       "</table>\n",
       "</div>"
      ],
      "text/plain": [
       "                C  AAPL  CSCO  YHOO    IBM\n",
       "2007-01-03  False  True  True  True  False\n",
       "2007-01-04  False  True  True  True  False\n",
       "2007-01-05  False  True  True  True  False\n",
       "2007-01-08  False  True  True  True  False\n",
       "2007-01-09  False  True  True  True  False"
      ]
     },
     "execution_count": 33,
     "metadata": {},
     "output_type": "execute_result"
    }
   ],
   "source": [
    "(stk < 50).head()"
   ]
  },
  {
   "cell_type": "code",
   "execution_count": 34,
   "metadata": {
    "collapsed": false
   },
   "outputs": [
    {
     "data": {
      "text/plain": [
       "C       221567.15\n",
       "AAPL    102168.36\n",
       "CSCO     42781.91\n",
       "YHOO     47775.87\n",
       "IBM     291151.26\n",
       "dtype: float64"
      ]
     },
     "execution_count": 34,
     "metadata": {},
     "output_type": "execute_result"
    }
   ],
   "source": [
    "sum(stk)"
   ]
  },
  {
   "cell_type": "code",
   "execution_count": 35,
   "metadata": {
    "collapsed": false
   },
   "outputs": [
    {
     "data": {
      "text/plain": [
       "C       496.94\n",
       "AAPL    122.46\n",
       "CSCO     18.41\n",
       "YHOO     43.42\n",
       "IBM     142.62\n",
       "dtype: float64"
      ]
     },
     "execution_count": 35,
     "metadata": {},
     "output_type": "execute_result"
    }
   ],
   "source": [
    "#USING FUNCTIONS ON DATA FRAMES\n",
    "f = lambda x: x.max() - x.min()\n",
    "stk.apply(f)"
   ]
  },
  {
   "cell_type": "code",
   "execution_count": 36,
   "metadata": {
    "collapsed": false
   },
   "outputs": [
    {
     "data": {
      "text/html": [
       "<div style=\"max-height:1000px;max-width:1500px;overflow:auto;\">\n",
       "<table border=\"1\" class=\"dataframe\">\n",
       "  <thead>\n",
       "    <tr style=\"text-align: right;\">\n",
       "      <th></th>\n",
       "      <th>C</th>\n",
       "      <th>AAPL</th>\n",
       "      <th>CSCO</th>\n",
       "      <th>YHOO</th>\n",
       "      <th>IBM</th>\n",
       "    </tr>\n",
       "  </thead>\n",
       "  <tbody>\n",
       "    <tr>\n",
       "      <th>mean</th>\n",
       "      <td> 106.522668</td>\n",
       "      <td>  49.119404</td>\n",
       "      <td> 20.568226</td>\n",
       "      <td> 22.969168</td>\n",
       "      <td> 139.976567</td>\n",
       "    </tr>\n",
       "    <tr>\n",
       "      <th>stdev</th>\n",
       "      <td> 135.337468</td>\n",
       "      <td>  30.355509</td>\n",
       "      <td>  3.962029</td>\n",
       "      <td>  9.759319</td>\n",
       "      <td>  40.315380</td>\n",
       "    </tr>\n",
       "    <tr>\n",
       "      <th>min</th>\n",
       "      <td>  10.160000</td>\n",
       "      <td>  10.540000</td>\n",
       "      <td> 12.250000</td>\n",
       "      <td>  8.950000</td>\n",
       "      <td>  63.480000</td>\n",
       "    </tr>\n",
       "    <tr>\n",
       "      <th>max</th>\n",
       "      <td> 507.100000</td>\n",
       "      <td> 133.000000</td>\n",
       "      <td> 30.660000</td>\n",
       "      <td> 52.370000</td>\n",
       "      <td> 206.100000</td>\n",
       "    </tr>\n",
       "  </tbody>\n",
       "</table>\n",
       "</div>"
      ],
      "text/plain": [
       "                C        AAPL       CSCO       YHOO         IBM\n",
       "mean   106.522668   49.119404  20.568226  22.969168  139.976567\n",
       "stdev  135.337468   30.355509   3.962029   9.759319   40.315380\n",
       "min     10.160000   10.540000  12.250000   8.950000   63.480000\n",
       "max    507.100000  133.000000  30.660000  52.370000  206.100000"
      ]
     },
     "execution_count": 36,
     "metadata": {},
     "output_type": "execute_result"
    }
   ],
   "source": [
    "def g(x):\n",
    "    return pd.Series([x.mean(),x.std(),x.min(),x.max()], index=['mean','stdev','min','max'])\n",
    "stk.apply(g)"
   ]
  },
  {
   "cell_type": "code",
   "execution_count": 37,
   "metadata": {
    "collapsed": false
   },
   "outputs": [
    {
     "data": {
      "text/html": [
       "<div style=\"max-height:1000px;max-width:1500px;overflow:auto;\">\n",
       "<table border=\"1\" class=\"dataframe\">\n",
       "  <thead>\n",
       "    <tr style=\"text-align: right;\">\n",
       "      <th></th>\n",
       "      <th>YHOO</th>\n",
       "      <th>IBM</th>\n",
       "      <th>CSCO</th>\n",
       "      <th>C</th>\n",
       "      <th>AAPL</th>\n",
       "    </tr>\n",
       "  </thead>\n",
       "  <tbody>\n",
       "    <tr>\n",
       "      <th>2007-01-03</th>\n",
       "      <td> 25.61</td>\n",
       "      <td> 83.41</td>\n",
       "      <td> 24.94</td>\n",
       "      <td> 497.59</td>\n",
       "      <td> 11.29</td>\n",
       "    </tr>\n",
       "    <tr>\n",
       "      <th>2007-01-04</th>\n",
       "      <td> 26.85</td>\n",
       "      <td> 84.30</td>\n",
       "      <td> 25.60</td>\n",
       "      <td> 495.88</td>\n",
       "      <td> 11.54</td>\n",
       "    </tr>\n",
       "    <tr>\n",
       "      <th>2007-01-05</th>\n",
       "      <td> 27.74</td>\n",
       "      <td> 83.54</td>\n",
       "      <td> 25.61</td>\n",
       "      <td> 493.27</td>\n",
       "      <td> 11.46</td>\n",
       "    </tr>\n",
       "    <tr>\n",
       "      <th>2007-01-08</th>\n",
       "      <td> 27.92</td>\n",
       "      <td> 84.81</td>\n",
       "      <td> 25.75</td>\n",
       "      <td> 495.79</td>\n",
       "      <td> 11.52</td>\n",
       "    </tr>\n",
       "    <tr>\n",
       "      <th>2007-01-09</th>\n",
       "      <td> 27.58</td>\n",
       "      <td> 85.81</td>\n",
       "      <td> 25.61</td>\n",
       "      <td> 491.47</td>\n",
       "      <td> 12.47</td>\n",
       "    </tr>\n",
       "  </tbody>\n",
       "</table>\n",
       "</div>"
      ],
      "text/plain": [
       "             YHOO    IBM   CSCO       C   AAPL\n",
       "2007-01-03  25.61  83.41  24.94  497.59  11.29\n",
       "2007-01-04  26.85  84.30  25.60  495.88  11.54\n",
       "2007-01-05  27.74  83.54  25.61  493.27  11.46\n",
       "2007-01-08  27.92  84.81  25.75  495.79  11.52\n",
       "2007-01-09  27.58  85.81  25.61  491.47  12.47"
      ]
     },
     "execution_count": 37,
     "metadata": {},
     "output_type": "execute_result"
    }
   ],
   "source": [
    "stk.sort_index(axis=1,ascending=False).head()"
   ]
  },
  {
   "cell_type": "code",
   "execution_count": 38,
   "metadata": {
    "collapsed": false
   },
   "outputs": [
    {
     "data": {
      "text/plain": [
       "C       221567.15\n",
       "AAPL    102168.36\n",
       "CSCO     42781.91\n",
       "YHOO     47775.87\n",
       "IBM     291151.26\n",
       "dtype: float64"
      ]
     },
     "execution_count": 38,
     "metadata": {},
     "output_type": "execute_result"
    }
   ],
   "source": [
    "stk.sum()"
   ]
  },
  {
   "cell_type": "code",
   "execution_count": 39,
   "metadata": {
    "collapsed": false
   },
   "outputs": [
    {
     "data": {
      "text/plain": [
       "C       106.522668\n",
       "AAPL     49.119404\n",
       "CSCO     20.568226\n",
       "YHOO     22.969168\n",
       "IBM     139.976567\n",
       "dtype: float64"
      ]
     },
     "execution_count": 39,
     "metadata": {},
     "output_type": "execute_result"
    }
   ],
   "source": [
    "stk.mean()"
   ]
  },
  {
   "cell_type": "code",
   "execution_count": 40,
   "metadata": {
    "collapsed": false
   },
   "outputs": [
    {
     "data": {
      "text/html": [
       "<div style=\"max-height:1000px;max-width:1500px;overflow:auto;\">\n",
       "<table border=\"1\" class=\"dataframe\">\n",
       "  <thead>\n",
       "    <tr style=\"text-align: right;\">\n",
       "      <th></th>\n",
       "      <th>C</th>\n",
       "      <th>AAPL</th>\n",
       "      <th>CSCO</th>\n",
       "      <th>YHOO</th>\n",
       "      <th>IBM</th>\n",
       "    </tr>\n",
       "  </thead>\n",
       "  <tbody>\n",
       "    <tr>\n",
       "      <th>count</th>\n",
       "      <td> 2080.000000</td>\n",
       "      <td> 2080.000000</td>\n",
       "      <td> 2080.000000</td>\n",
       "      <td> 2080.000000</td>\n",
       "      <td> 2080.000000</td>\n",
       "    </tr>\n",
       "    <tr>\n",
       "      <th>mean</th>\n",
       "      <td>  106.522668</td>\n",
       "      <td>   49.119404</td>\n",
       "      <td>   20.568226</td>\n",
       "      <td>   22.969168</td>\n",
       "      <td>  139.976567</td>\n",
       "    </tr>\n",
       "    <tr>\n",
       "      <th>std</th>\n",
       "      <td>  135.337468</td>\n",
       "      <td>   30.355509</td>\n",
       "      <td>    3.962029</td>\n",
       "      <td>    9.759319</td>\n",
       "      <td>   40.315380</td>\n",
       "    </tr>\n",
       "    <tr>\n",
       "      <th>min</th>\n",
       "      <td>   10.160000</td>\n",
       "      <td>   10.540000</td>\n",
       "      <td>   12.250000</td>\n",
       "      <td>    8.950000</td>\n",
       "      <td>   63.480000</td>\n",
       "    </tr>\n",
       "    <tr>\n",
       "      <th>25%</th>\n",
       "      <td>   37.145000</td>\n",
       "      <td>   22.397500</td>\n",
       "      <td>   17.407500</td>\n",
       "      <td>   15.450000</td>\n",
       "      <td>  102.350000</td>\n",
       "    </tr>\n",
       "    <tr>\n",
       "      <th>50%</th>\n",
       "      <td>   47.025000</td>\n",
       "      <td>   45.075000</td>\n",
       "      <td>   20.800000</td>\n",
       "      <td>   18.250000</td>\n",
       "      <td>  148.295000</td>\n",
       "    </tr>\n",
       "    <tr>\n",
       "      <th>75%</th>\n",
       "      <td>   54.675000</td>\n",
       "      <td>   73.145000</td>\n",
       "      <td>   23.500000</td>\n",
       "      <td>   28.435000</td>\n",
       "      <td>  180.472500</td>\n",
       "    </tr>\n",
       "    <tr>\n",
       "      <th>max</th>\n",
       "      <td>  507.100000</td>\n",
       "      <td>  133.000000</td>\n",
       "      <td>   30.660000</td>\n",
       "      <td>   52.370000</td>\n",
       "      <td>  206.100000</td>\n",
       "    </tr>\n",
       "  </tbody>\n",
       "</table>\n",
       "</div>"
      ],
      "text/plain": [
       "                 C         AAPL         CSCO         YHOO          IBM\n",
       "count  2080.000000  2080.000000  2080.000000  2080.000000  2080.000000\n",
       "mean    106.522668    49.119404    20.568226    22.969168   139.976567\n",
       "std     135.337468    30.355509     3.962029     9.759319    40.315380\n",
       "min      10.160000    10.540000    12.250000     8.950000    63.480000\n",
       "25%      37.145000    22.397500    17.407500    15.450000   102.350000\n",
       "50%      47.025000    45.075000    20.800000    18.250000   148.295000\n",
       "75%      54.675000    73.145000    23.500000    28.435000   180.472500\n",
       "max     507.100000   133.000000    30.660000    52.370000   206.100000"
      ]
     },
     "execution_count": 40,
     "metadata": {},
     "output_type": "execute_result"
    }
   ],
   "source": [
    "stk.describe()"
   ]
  },
  {
   "cell_type": "code",
   "execution_count": 41,
   "metadata": {
    "collapsed": false
   },
   "outputs": [
    {
     "data": {
      "text/html": [
       "<div style=\"max-height:1000px;max-width:1500px;overflow:auto;\">\n",
       "<table border=\"1\" class=\"dataframe\">\n",
       "  <thead>\n",
       "    <tr style=\"text-align: right;\">\n",
       "      <th></th>\n",
       "      <th>C</th>\n",
       "      <th>AAPL</th>\n",
       "      <th>CSCO</th>\n",
       "      <th>YHOO</th>\n",
       "      <th>IBM</th>\n",
       "    </tr>\n",
       "  </thead>\n",
       "  <tbody>\n",
       "    <tr>\n",
       "      <th>2007-01-03</th>\n",
       "      <td>  NaN</td>\n",
       "      <td>  NaN</td>\n",
       "      <td>  NaN</td>\n",
       "      <td>  NaN</td>\n",
       "      <td>  NaN</td>\n",
       "    </tr>\n",
       "    <tr>\n",
       "      <th>2007-01-04</th>\n",
       "      <td>-1.71</td>\n",
       "      <td> 0.25</td>\n",
       "      <td> 0.66</td>\n",
       "      <td> 1.24</td>\n",
       "      <td> 0.89</td>\n",
       "    </tr>\n",
       "    <tr>\n",
       "      <th>2007-01-05</th>\n",
       "      <td>-2.61</td>\n",
       "      <td>-0.08</td>\n",
       "      <td> 0.01</td>\n",
       "      <td> 0.89</td>\n",
       "      <td>-0.76</td>\n",
       "    </tr>\n",
       "    <tr>\n",
       "      <th>2007-01-08</th>\n",
       "      <td> 2.52</td>\n",
       "      <td> 0.06</td>\n",
       "      <td> 0.14</td>\n",
       "      <td> 0.18</td>\n",
       "      <td> 1.27</td>\n",
       "    </tr>\n",
       "    <tr>\n",
       "      <th>2007-01-09</th>\n",
       "      <td>-4.32</td>\n",
       "      <td> 0.95</td>\n",
       "      <td>-0.14</td>\n",
       "      <td>-0.34</td>\n",
       "      <td> 1.00</td>\n",
       "    </tr>\n",
       "  </tbody>\n",
       "</table>\n",
       "</div>"
      ],
      "text/plain": [
       "               C  AAPL  CSCO  YHOO   IBM\n",
       "2007-01-03   NaN   NaN   NaN   NaN   NaN\n",
       "2007-01-04 -1.71  0.25  0.66  1.24  0.89\n",
       "2007-01-05 -2.61 -0.08  0.01  0.89 -0.76\n",
       "2007-01-08  2.52  0.06  0.14  0.18  1.27\n",
       "2007-01-09 -4.32  0.95 -0.14 -0.34  1.00"
      ]
     },
     "execution_count": 41,
     "metadata": {},
     "output_type": "execute_result"
    }
   ],
   "source": [
    "stk.diff().head()"
   ]
  },
  {
   "cell_type": "code",
   "execution_count": 42,
   "metadata": {
    "collapsed": false
   },
   "outputs": [
    {
     "data": {
      "text/html": [
       "<div style=\"max-height:1000px;max-width:1500px;overflow:auto;\">\n",
       "<table border=\"1\" class=\"dataframe\">\n",
       "  <thead>\n",
       "    <tr style=\"text-align: right;\">\n",
       "      <th></th>\n",
       "      <th>C</th>\n",
       "      <th>AAPL</th>\n",
       "      <th>CSCO</th>\n",
       "      <th>YHOO</th>\n",
       "      <th>IBM</th>\n",
       "    </tr>\n",
       "  </thead>\n",
       "  <tbody>\n",
       "    <tr>\n",
       "      <th>2007-01-03</th>\n",
       "      <td>      NaN</td>\n",
       "      <td>      NaN</td>\n",
       "      <td>      NaN</td>\n",
       "      <td>      NaN</td>\n",
       "      <td>      NaN</td>\n",
       "    </tr>\n",
       "    <tr>\n",
       "      <th>2007-01-04</th>\n",
       "      <td>-0.003437</td>\n",
       "      <td> 0.022143</td>\n",
       "      <td> 0.026464</td>\n",
       "      <td> 0.048419</td>\n",
       "      <td> 0.010670</td>\n",
       "    </tr>\n",
       "    <tr>\n",
       "      <th>2007-01-05</th>\n",
       "      <td>-0.005263</td>\n",
       "      <td>-0.006932</td>\n",
       "      <td> 0.000391</td>\n",
       "      <td> 0.033147</td>\n",
       "      <td>-0.009015</td>\n",
       "    </tr>\n",
       "    <tr>\n",
       "      <th>2007-01-08</th>\n",
       "      <td> 0.005109</td>\n",
       "      <td> 0.005236</td>\n",
       "      <td> 0.005467</td>\n",
       "      <td> 0.006489</td>\n",
       "      <td> 0.015202</td>\n",
       "    </tr>\n",
       "    <tr>\n",
       "      <th>2007-01-09</th>\n",
       "      <td>-0.008713</td>\n",
       "      <td> 0.082465</td>\n",
       "      <td>-0.005437</td>\n",
       "      <td>-0.012178</td>\n",
       "      <td> 0.011791</td>\n",
       "    </tr>\n",
       "  </tbody>\n",
       "</table>\n",
       "</div>"
      ],
      "text/plain": [
       "                   C      AAPL      CSCO      YHOO       IBM\n",
       "2007-01-03       NaN       NaN       NaN       NaN       NaN\n",
       "2007-01-04 -0.003437  0.022143  0.026464  0.048419  0.010670\n",
       "2007-01-05 -0.005263 -0.006932  0.000391  0.033147 -0.009015\n",
       "2007-01-08  0.005109  0.005236  0.005467  0.006489  0.015202\n",
       "2007-01-09 -0.008713  0.082465 -0.005437 -0.012178  0.011791"
      ]
     },
     "execution_count": 42,
     "metadata": {},
     "output_type": "execute_result"
    }
   ],
   "source": [
    "stk.pct_change().head()"
   ]
  },
  {
   "cell_type": "code",
   "execution_count": 43,
   "metadata": {
    "collapsed": false
   },
   "outputs": [
    {
     "data": {
      "text/plain": [
       "C      -0.052665\n",
       "AAPL    0.351436\n",
       "CSCO    0.062700\n",
       "YHOO    0.152730\n",
       "IBM     0.106559\n",
       "dtype: float64"
      ]
     },
     "execution_count": 43,
     "metadata": {},
     "output_type": "execute_result"
    }
   ],
   "source": [
    "stk.pct_change().mean()*252.0"
   ]
  },
  {
   "cell_type": "code",
   "execution_count": 44,
   "metadata": {
    "collapsed": false
   },
   "outputs": [
    {
     "data": {
      "text/plain": [
       "C       0.669590\n",
       "AAPL    0.343694\n",
       "CSCO    0.317718\n",
       "YHOO    0.416351\n",
       "IBM     0.228973\n",
       "dtype: float64"
      ]
     },
     "execution_count": 44,
     "metadata": {},
     "output_type": "execute_result"
    }
   ],
   "source": [
    "stk.pct_change().std()*sqrt(252.0)"
   ]
  },
  {
   "cell_type": "code",
   "execution_count": 45,
   "metadata": {
    "collapsed": false
   },
   "outputs": [
    {
     "data": {
      "text/html": [
       "<div style=\"max-height:1000px;max-width:1500px;overflow:auto;\">\n",
       "<table border=\"1\" class=\"dataframe\">\n",
       "  <thead>\n",
       "    <tr style=\"text-align: right;\">\n",
       "      <th></th>\n",
       "      <th>C</th>\n",
       "      <th>AAPL</th>\n",
       "      <th>CSCO</th>\n",
       "      <th>YHOO</th>\n",
       "      <th>IBM</th>\n",
       "    </tr>\n",
       "  </thead>\n",
       "  <tbody>\n",
       "    <tr>\n",
       "      <th>C</th>\n",
       "      <td> 1.000000</td>\n",
       "      <td> 0.378732</td>\n",
       "      <td> 0.465752</td>\n",
       "      <td> 0.330307</td>\n",
       "      <td> 0.442698</td>\n",
       "    </tr>\n",
       "    <tr>\n",
       "      <th>AAPL</th>\n",
       "      <td> 0.378732</td>\n",
       "      <td> 1.000000</td>\n",
       "      <td> 0.487141</td>\n",
       "      <td> 0.342638</td>\n",
       "      <td> 0.485708</td>\n",
       "    </tr>\n",
       "    <tr>\n",
       "      <th>CSCO</th>\n",
       "      <td> 0.465752</td>\n",
       "      <td> 0.487141</td>\n",
       "      <td> 1.000000</td>\n",
       "      <td> 0.406206</td>\n",
       "      <td> 0.582500</td>\n",
       "    </tr>\n",
       "    <tr>\n",
       "      <th>YHOO</th>\n",
       "      <td> 0.330307</td>\n",
       "      <td> 0.342638</td>\n",
       "      <td> 0.406206</td>\n",
       "      <td> 1.000000</td>\n",
       "      <td> 0.377730</td>\n",
       "    </tr>\n",
       "    <tr>\n",
       "      <th>IBM</th>\n",
       "      <td> 0.442698</td>\n",
       "      <td> 0.485708</td>\n",
       "      <td> 0.582500</td>\n",
       "      <td> 0.377730</td>\n",
       "      <td> 1.000000</td>\n",
       "    </tr>\n",
       "  </tbody>\n",
       "</table>\n",
       "</div>"
      ],
      "text/plain": [
       "             C      AAPL      CSCO      YHOO       IBM\n",
       "C     1.000000  0.378732  0.465752  0.330307  0.442698\n",
       "AAPL  0.378732  1.000000  0.487141  0.342638  0.485708\n",
       "CSCO  0.465752  0.487141  1.000000  0.406206  0.582500\n",
       "YHOO  0.330307  0.342638  0.406206  1.000000  0.377730\n",
       "IBM   0.442698  0.485708  0.582500  0.377730  1.000000"
      ]
     },
     "execution_count": 45,
     "metadata": {},
     "output_type": "execute_result"
    }
   ],
   "source": [
    "rets = stk.pct_change()\n",
    "rets.corr()"
   ]
  },
  {
   "cell_type": "code",
   "execution_count": 46,
   "metadata": {
    "collapsed": false
   },
   "outputs": [
    {
     "data": {
      "text/html": [
       "<div style=\"max-height:1000px;max-width:1500px;overflow:auto;\">\n",
       "<table border=\"1\" class=\"dataframe\">\n",
       "  <thead>\n",
       "    <tr style=\"text-align: right;\">\n",
       "      <th></th>\n",
       "      <th>C</th>\n",
       "      <th>AAPL</th>\n",
       "      <th>CSCO</th>\n",
       "      <th>YHOO</th>\n",
       "      <th>IBM</th>\n",
       "    </tr>\n",
       "  </thead>\n",
       "  <tbody>\n",
       "    <tr>\n",
       "      <th>C</th>\n",
       "      <td> 0.001779</td>\n",
       "      <td> 0.000346</td>\n",
       "      <td> 0.000393</td>\n",
       "      <td> 0.000365</td>\n",
       "      <td> 0.000269</td>\n",
       "    </tr>\n",
       "    <tr>\n",
       "      <th>AAPL</th>\n",
       "      <td> 0.000346</td>\n",
       "      <td> 0.000469</td>\n",
       "      <td> 0.000211</td>\n",
       "      <td> 0.000195</td>\n",
       "      <td> 0.000152</td>\n",
       "    </tr>\n",
       "    <tr>\n",
       "      <th>CSCO</th>\n",
       "      <td> 0.000393</td>\n",
       "      <td> 0.000211</td>\n",
       "      <td> 0.000401</td>\n",
       "      <td> 0.000213</td>\n",
       "      <td> 0.000168</td>\n",
       "    </tr>\n",
       "    <tr>\n",
       "      <th>YHOO</th>\n",
       "      <td> 0.000365</td>\n",
       "      <td> 0.000195</td>\n",
       "      <td> 0.000213</td>\n",
       "      <td> 0.000688</td>\n",
       "      <td> 0.000143</td>\n",
       "    </tr>\n",
       "    <tr>\n",
       "      <th>IBM</th>\n",
       "      <td> 0.000269</td>\n",
       "      <td> 0.000152</td>\n",
       "      <td> 0.000168</td>\n",
       "      <td> 0.000143</td>\n",
       "      <td> 0.000208</td>\n",
       "    </tr>\n",
       "  </tbody>\n",
       "</table>\n",
       "</div>"
      ],
      "text/plain": [
       "             C      AAPL      CSCO      YHOO       IBM\n",
       "C     0.001779  0.000346  0.000393  0.000365  0.000269\n",
       "AAPL  0.000346  0.000469  0.000211  0.000195  0.000152\n",
       "CSCO  0.000393  0.000211  0.000401  0.000213  0.000168\n",
       "YHOO  0.000365  0.000195  0.000213  0.000688  0.000143\n",
       "IBM   0.000269  0.000152  0.000168  0.000143  0.000208"
      ]
     },
     "execution_count": 46,
     "metadata": {},
     "output_type": "execute_result"
    }
   ],
   "source": [
    "rets.cov()"
   ]
  },
  {
   "cell_type": "code",
   "execution_count": 47,
   "metadata": {
    "collapsed": false
   },
   "outputs": [
    {
     "data": {
      "text/plain": [
       "array([ 0.66958975,  0.3436938 ,  0.31771753,  0.41635095,  0.22897315])"
      ]
     },
     "execution_count": 47,
     "metadata": {},
     "output_type": "execute_result"
    }
   ],
   "source": [
    "sqrt(diag(rets.cov())*252.0)"
   ]
  },
  {
   "cell_type": "code",
   "execution_count": 48,
   "metadata": {
    "collapsed": false
   },
   "outputs": [
    {
     "data": {
      "text/plain": [
       "C       0.378732\n",
       "AAPL    1.000000\n",
       "CSCO    0.487141\n",
       "YHOO    0.342638\n",
       "IBM     0.485708\n",
       "dtype: float64"
      ]
     },
     "execution_count": 48,
     "metadata": {},
     "output_type": "execute_result"
    }
   ],
   "source": [
    "rets.corrwith(rets.AAPL)"
   ]
  },
  {
   "cell_type": "markdown",
   "metadata": {},
   "source": [
    "### STACKING UP DATA IN PANELS"
   ]
  },
  {
   "cell_type": "code",
   "execution_count": 49,
   "metadata": {
    "collapsed": false
   },
   "outputs": [
    {
     "data": {
      "text/plain": [
       "<class 'pandas.core.panel.Panel'>\n",
       "Dimensions: 5 (items) x 291 (major_axis) x 6 (minor_axis)\n",
       "Items axis: AAPL to YHOO\n",
       "Major_axis axis: 2014-01-02 00:00:00 to 2015-02-27 00:00:00\n",
       "Minor_axis axis: Open to Adj Close"
      ]
     },
     "execution_count": 49,
     "metadata": {},
     "output_type": "execute_result"
    }
   ],
   "source": [
    "import pandas.io.data as pid\n",
    "panel = pd.Panel(dict((stock, pid.get_data_yahoo(stock,'1/1/2014','2/28/2015')) for stock in ['C','AAPL','CSCO','YHOO','IBM']))\n",
    "panel"
   ]
  },
  {
   "cell_type": "code",
   "execution_count": 50,
   "metadata": {
    "collapsed": false
   },
   "outputs": [
    {
     "data": {
      "text/plain": [
       "<class 'pandas.core.panel.Panel'>\n",
       "Dimensions: 6 (items) x 291 (major_axis) x 5 (minor_axis)\n",
       "Items axis: Open to Adj Close\n",
       "Major_axis axis: 2014-01-02 00:00:00 to 2015-02-27 00:00:00\n",
       "Minor_axis axis: AAPL to YHOO"
      ]
     },
     "execution_count": 50,
     "metadata": {},
     "output_type": "execute_result"
    }
   ],
   "source": [
    "panel = panel.swapaxes('items','minor')\n",
    "panel"
   ]
  },
  {
   "cell_type": "code",
   "execution_count": 51,
   "metadata": {
    "collapsed": false
   },
   "outputs": [
    {
     "data": {
      "text/html": [
       "<div style=\"max-height:1000px;max-width:1500px;overflow:auto;\">\n",
       "<table border=\"1\" class=\"dataframe\">\n",
       "  <thead>\n",
       "    <tr style=\"text-align: right;\">\n",
       "      <th></th>\n",
       "      <th>AAPL</th>\n",
       "      <th>C</th>\n",
       "      <th>CSCO</th>\n",
       "      <th>IBM</th>\n",
       "      <th>YHOO</th>\n",
       "    </tr>\n",
       "    <tr>\n",
       "      <th>Date</th>\n",
       "      <th></th>\n",
       "      <th></th>\n",
       "      <th></th>\n",
       "      <th></th>\n",
       "      <th></th>\n",
       "    </tr>\n",
       "  </thead>\n",
       "  <tbody>\n",
       "    <tr>\n",
       "      <th>2014-01-02</th>\n",
       "      <td> 77.09</td>\n",
       "      <td> 52.22</td>\n",
       "      <td> 21.18</td>\n",
       "      <td> 179.87</td>\n",
       "      <td> 39.59</td>\n",
       "    </tr>\n",
       "    <tr>\n",
       "      <th>2014-01-03</th>\n",
       "      <td> 75.39</td>\n",
       "      <td> 53.35</td>\n",
       "      <td> 21.16</td>\n",
       "      <td> 180.95</td>\n",
       "      <td> 40.12</td>\n",
       "    </tr>\n",
       "    <tr>\n",
       "      <th>2014-01-06</th>\n",
       "      <td> 75.80</td>\n",
       "      <td> 53.76</td>\n",
       "      <td> 21.19</td>\n",
       "      <td> 180.33</td>\n",
       "      <td> 39.93</td>\n",
       "    </tr>\n",
       "    <tr>\n",
       "      <th>2014-01-07</th>\n",
       "      <td> 75.26</td>\n",
       "      <td> 54.12</td>\n",
       "      <td> 21.47</td>\n",
       "      <td> 183.92</td>\n",
       "      <td> 40.92</td>\n",
       "    </tr>\n",
       "    <tr>\n",
       "      <th>2014-01-08</th>\n",
       "      <td> 75.74</td>\n",
       "      <td> 54.75</td>\n",
       "      <td> 21.45</td>\n",
       "      <td> 182.24</td>\n",
       "      <td> 41.02</td>\n",
       "    </tr>\n",
       "  </tbody>\n",
       "</table>\n",
       "</div>"
      ],
      "text/plain": [
       "             AAPL      C   CSCO     IBM   YHOO\n",
       "Date                                          \n",
       "2014-01-02  77.09  52.22  21.18  179.87  39.59\n",
       "2014-01-03  75.39  53.35  21.16  180.95  40.12\n",
       "2014-01-06  75.80  53.76  21.19  180.33  39.93\n",
       "2014-01-07  75.26  54.12  21.47  183.92  40.92\n",
       "2014-01-08  75.74  54.75  21.45  182.24  41.02"
      ]
     },
     "execution_count": 51,
     "metadata": {},
     "output_type": "execute_result"
    }
   ],
   "source": [
    "panel['Adj Close'].head()"
   ]
  },
  {
   "cell_type": "code",
   "execution_count": 52,
   "metadata": {
    "collapsed": false
   },
   "outputs": [
    {
     "data": {
      "text/html": [
       "<div style=\"max-height:1000px;max-width:1500px;overflow:auto;\">\n",
       "<table border=\"1\" class=\"dataframe\">\n",
       "  <thead>\n",
       "    <tr style=\"text-align: right;\">\n",
       "      <th></th>\n",
       "      <th>Open</th>\n",
       "      <th>High</th>\n",
       "      <th>Low</th>\n",
       "      <th>Close</th>\n",
       "      <th>Volume</th>\n",
       "      <th>Adj Close</th>\n",
       "    </tr>\n",
       "  </thead>\n",
       "  <tbody>\n",
       "    <tr>\n",
       "      <th>AAPL</th>\n",
       "      <td> 552.86</td>\n",
       "      <td> 553.70</td>\n",
       "      <td> 540.43</td>\n",
       "      <td> 540.98</td>\n",
       "      <td> 98116900</td>\n",
       "      <td>  75.39</td>\n",
       "    </tr>\n",
       "    <tr>\n",
       "      <th>C</th>\n",
       "      <td>  52.39</td>\n",
       "      <td>  53.47</td>\n",
       "      <td>  52.31</td>\n",
       "      <td>  53.40</td>\n",
       "      <td> 26884900</td>\n",
       "      <td>  53.35</td>\n",
       "    </tr>\n",
       "    <tr>\n",
       "      <th>CSCO</th>\n",
       "      <td>  22.09</td>\n",
       "      <td>  22.12</td>\n",
       "      <td>  21.83</td>\n",
       "      <td>  21.98</td>\n",
       "      <td> 36328200</td>\n",
       "      <td>  21.16</td>\n",
       "    </tr>\n",
       "    <tr>\n",
       "      <th>IBM</th>\n",
       "      <td> 185.83</td>\n",
       "      <td> 187.35</td>\n",
       "      <td> 185.30</td>\n",
       "      <td> 186.64</td>\n",
       "      <td>  4063200</td>\n",
       "      <td> 180.95</td>\n",
       "    </tr>\n",
       "    <tr>\n",
       "      <th>YHOO</th>\n",
       "      <td>  40.16</td>\n",
       "      <td>  40.44</td>\n",
       "      <td>  39.82</td>\n",
       "      <td>  40.12</td>\n",
       "      <td> 15755200</td>\n",
       "      <td>  40.12</td>\n",
       "    </tr>\n",
       "  </tbody>\n",
       "</table>\n",
       "</div>"
      ],
      "text/plain": [
       "        Open    High     Low   Close    Volume  Adj Close\n",
       "AAPL  552.86  553.70  540.43  540.98  98116900      75.39\n",
       "C      52.39   53.47   52.31   53.40  26884900      53.35\n",
       "CSCO   22.09   22.12   21.83   21.98  36328200      21.16\n",
       "IBM   185.83  187.35  185.30  186.64   4063200     180.95\n",
       "YHOO   40.16   40.44   39.82   40.12  15755200      40.12"
      ]
     },
     "execution_count": 52,
     "metadata": {},
     "output_type": "execute_result"
    }
   ],
   "source": [
    "panel.ix[:,'1/3/2014',:]"
   ]
  },
  {
   "cell_type": "markdown",
   "metadata": {},
   "source": [
    "### READING DATA FROM FILES"
   ]
  },
  {
   "cell_type": "code",
   "execution_count": 53,
   "metadata": {
    "collapsed": false
   },
   "outputs": [],
   "source": [
    "import pandas as pd\n",
    "data = pd.read_table(\"markowitzdata.txt\")"
   ]
  },
  {
   "cell_type": "code",
   "execution_count": 54,
   "metadata": {
    "collapsed": false
   },
   "outputs": [
    {
     "data": {
      "text/html": [
       "<div style=\"max-height:1000px;max-width:1500px;overflow:auto;\">\n",
       "<table border=\"1\" class=\"dataframe\">\n",
       "  <thead>\n",
       "    <tr style=\"text-align: right;\">\n",
       "      <th></th>\n",
       "      <th>DATE</th>\n",
       "      <th>SUNW</th>\n",
       "      <th>MSFT</th>\n",
       "      <th>IBM</th>\n",
       "      <th>CSCO</th>\n",
       "      <th>AMZN</th>\n",
       "      <th>mktrf</th>\n",
       "      <th>smb</th>\n",
       "      <th>hml</th>\n",
       "      <th>rf</th>\n",
       "    </tr>\n",
       "  </thead>\n",
       "  <tbody>\n",
       "    <tr>\n",
       "      <th>0</th>\n",
       "      <td> 20010102</td>\n",
       "      <td>-0.087444</td>\n",
       "      <td> 0.000000</td>\n",
       "      <td>-0.002206</td>\n",
       "      <td>-0.129085</td>\n",
       "      <td>-0.108434</td>\n",
       "      <td>-0.0345</td>\n",
       "      <td>-0.0037</td>\n",
       "      <td> 0.0209</td>\n",
       "      <td> 0.00026</td>\n",
       "    </tr>\n",
       "    <tr>\n",
       "      <th>1</th>\n",
       "      <td> 20010103</td>\n",
       "      <td> 0.297297</td>\n",
       "      <td> 0.105187</td>\n",
       "      <td> 0.115696</td>\n",
       "      <td> 0.240150</td>\n",
       "      <td> 0.265766</td>\n",
       "      <td> 0.0527</td>\n",
       "      <td> 0.0097</td>\n",
       "      <td>-0.0493</td>\n",
       "      <td> 0.00026</td>\n",
       "    </tr>\n",
       "    <tr>\n",
       "      <th>2</th>\n",
       "      <td> 20010104</td>\n",
       "      <td>-0.060606</td>\n",
       "      <td> 0.010430</td>\n",
       "      <td>-0.015192</td>\n",
       "      <td> 0.013616</td>\n",
       "      <td>-0.117438</td>\n",
       "      <td>-0.0121</td>\n",
       "      <td> 0.0083</td>\n",
       "      <td>-0.0015</td>\n",
       "      <td> 0.00026</td>\n",
       "    </tr>\n",
       "    <tr>\n",
       "      <th>3</th>\n",
       "      <td> 20010105</td>\n",
       "      <td>-0.096774</td>\n",
       "      <td> 0.014194</td>\n",
       "      <td> 0.008719</td>\n",
       "      <td>-0.125373</td>\n",
       "      <td>-0.060484</td>\n",
       "      <td>-0.0291</td>\n",
       "      <td> 0.0027</td>\n",
       "      <td> 0.0242</td>\n",
       "      <td> 0.00026</td>\n",
       "    </tr>\n",
       "    <tr>\n",
       "      <th>4</th>\n",
       "      <td> 20010108</td>\n",
       "      <td> 0.006696</td>\n",
       "      <td>-0.003817</td>\n",
       "      <td>-0.004654</td>\n",
       "      <td>-0.002133</td>\n",
       "      <td> 0.025751</td>\n",
       "      <td>-0.0037</td>\n",
       "      <td>-0.0053</td>\n",
       "      <td> 0.0129</td>\n",
       "      <td> 0.00026</td>\n",
       "    </tr>\n",
       "  </tbody>\n",
       "</table>\n",
       "</div>"
      ],
      "text/plain": [
       "       DATE      SUNW      MSFT       IBM      CSCO      AMZN   mktrf     smb  \\\n",
       "0  20010102 -0.087444  0.000000 -0.002206 -0.129085 -0.108434 -0.0345 -0.0037   \n",
       "1  20010103  0.297297  0.105187  0.115696  0.240150  0.265766  0.0527  0.0097   \n",
       "2  20010104 -0.060606  0.010430 -0.015192  0.013616 -0.117438 -0.0121  0.0083   \n",
       "3  20010105 -0.096774  0.014194  0.008719 -0.125373 -0.060484 -0.0291  0.0027   \n",
       "4  20010108  0.006696 -0.003817 -0.004654 -0.002133  0.025751 -0.0037 -0.0053   \n",
       "\n",
       "      hml       rf  \n",
       "0  0.0209  0.00026  \n",
       "1 -0.0493  0.00026  \n",
       "2 -0.0015  0.00026  \n",
       "3  0.0242  0.00026  \n",
       "4  0.0129  0.00026  "
      ]
     },
     "execution_count": 54,
     "metadata": {},
     "output_type": "execute_result"
    }
   ],
   "source": [
    "data.head()"
   ]
  },
  {
   "cell_type": "code",
   "execution_count": 55,
   "metadata": {
    "collapsed": false
   },
   "outputs": [],
   "source": [
    "gdata = pd.read_csv(\"goog.csv\")"
   ]
  },
  {
   "cell_type": "code",
   "execution_count": 56,
   "metadata": {
    "collapsed": false
   },
   "outputs": [
    {
     "data": {
      "text/html": [
       "<div style=\"max-height:1000px;max-width:1500px;overflow:auto;\">\n",
       "<table border=\"1\" class=\"dataframe\">\n",
       "  <thead>\n",
       "    <tr style=\"text-align: right;\">\n",
       "      <th></th>\n",
       "      <th>Date</th>\n",
       "      <th>Open</th>\n",
       "      <th>High</th>\n",
       "      <th>Low</th>\n",
       "      <th>Close</th>\n",
       "      <th>Volume</th>\n",
       "      <th>Adj Close</th>\n",
       "    </tr>\n",
       "  </thead>\n",
       "  <tbody>\n",
       "    <tr>\n",
       "      <th>0</th>\n",
       "      <td> 2011-04-06</td>\n",
       "      <td> 572.18</td>\n",
       "      <td> 575.16</td>\n",
       "      <td> 568.00</td>\n",
       "      <td> 574.18</td>\n",
       "      <td> 2668300</td>\n",
       "      <td> 574.18</td>\n",
       "    </tr>\n",
       "    <tr>\n",
       "      <th>1</th>\n",
       "      <td> 2011-04-05</td>\n",
       "      <td> 581.08</td>\n",
       "      <td> 581.49</td>\n",
       "      <td> 565.68</td>\n",
       "      <td> 569.09</td>\n",
       "      <td> 6047500</td>\n",
       "      <td> 569.09</td>\n",
       "    </tr>\n",
       "    <tr>\n",
       "      <th>2</th>\n",
       "      <td> 2011-04-04</td>\n",
       "      <td> 593.00</td>\n",
       "      <td> 594.74</td>\n",
       "      <td> 583.10</td>\n",
       "      <td> 587.68</td>\n",
       "      <td> 2054500</td>\n",
       "      <td> 587.68</td>\n",
       "    </tr>\n",
       "    <tr>\n",
       "      <th>3</th>\n",
       "      <td> 2011-04-01</td>\n",
       "      <td> 588.76</td>\n",
       "      <td> 595.19</td>\n",
       "      <td> 588.76</td>\n",
       "      <td> 591.80</td>\n",
       "      <td> 2613200</td>\n",
       "      <td> 591.80</td>\n",
       "    </tr>\n",
       "    <tr>\n",
       "      <th>4</th>\n",
       "      <td> 2011-03-31</td>\n",
       "      <td> 583.00</td>\n",
       "      <td> 588.16</td>\n",
       "      <td> 581.74</td>\n",
       "      <td> 586.76</td>\n",
       "      <td> 2029400</td>\n",
       "      <td> 586.76</td>\n",
       "    </tr>\n",
       "  </tbody>\n",
       "</table>\n",
       "</div>"
      ],
      "text/plain": [
       "         Date    Open    High     Low   Close   Volume  Adj Close\n",
       "0  2011-04-06  572.18  575.16  568.00  574.18  2668300     574.18\n",
       "1  2011-04-05  581.08  581.49  565.68  569.09  6047500     569.09\n",
       "2  2011-04-04  593.00  594.74  583.10  587.68  2054500     587.68\n",
       "3  2011-04-01  588.76  595.19  588.76  591.80  2613200     591.80\n",
       "4  2011-03-31  583.00  588.16  581.74  586.76  2029400     586.76"
      ]
     },
     "execution_count": 56,
     "metadata": {},
     "output_type": "execute_result"
    }
   ],
   "source": [
    "gdata.head()"
   ]
  },
  {
   "cell_type": "code",
   "execution_count": 57,
   "metadata": {
    "collapsed": false
   },
   "outputs": [
    {
     "data": {
      "image/png": "[encoded data removed]",
      "text/plain": [
       "<matplotlib.figure.Figure at 0x10fb2d3d0>"
      ]
     },
     "metadata": {},
     "output_type": "display_data"
    }
   ],
   "source": [
    "scatter(data[\"mktrf\"],data[\"IBM\"])\n",
    "xlabel(\"Market return\")\n",
    "ylabel(\"IBM return\")\n",
    "grid(True)"
   ]
  },
  {
   "cell_type": "code",
   "execution_count": 58,
   "metadata": {
    "collapsed": false
   },
   "outputs": [
    {
     "name": "stdout",
     "output_type": "stream",
     "text": [
      "Intercept =  0.00011890050765\n",
      "slope (beta) =  1.10915240511\n"
     ]
    }
   ],
   "source": [
    "from scipy import stats\n",
    "y = data[\"IBM\"]\n",
    "x = data[\"mktrf\"]\n",
    "b, a, r_value, p_value, std_err = stats.linregress(x,y)\n",
    "print \"Intercept = \",a\n",
    "print \"slope (beta) = \",b"
   ]
  },
  {
   "cell_type": "markdown",
   "metadata": {},
   "source": [
    "### BRINGING IT ALL TOGETHER"
   ]
  },
  {
   "cell_type": "code",
   "execution_count": 59,
   "metadata": {
    "collapsed": false
   },
   "outputs": [
    {
     "data": {
      "text/html": [
       "<div style=\"max-height:1000px;max-width:1500px;overflow:auto;\">\n",
       "<table border=\"1\" class=\"dataframe\">\n",
       "  <thead>\n",
       "    <tr style=\"text-align: right;\">\n",
       "      <th></th>\n",
       "      <th>Open</th>\n",
       "      <th>High</th>\n",
       "      <th>Low</th>\n",
       "      <th>Close</th>\n",
       "      <th>Volume</th>\n",
       "    </tr>\n",
       "    <tr>\n",
       "      <th>﻿Date</th>\n",
       "      <th></th>\n",
       "      <th></th>\n",
       "      <th></th>\n",
       "      <th></th>\n",
       "      <th></th>\n",
       "    </tr>\n",
       "  </thead>\n",
       "  <tbody>\n",
       "    <tr>\n",
       "      <th>2014-04-02</th>\n",
       "      <td> 77.48</td>\n",
       "      <td> 77.64</td>\n",
       "      <td> 77.18</td>\n",
       "      <td> 77.51</td>\n",
       "      <td> 45104871</td>\n",
       "    </tr>\n",
       "    <tr>\n",
       "      <th>2014-04-03</th>\n",
       "      <td> 77.34</td>\n",
       "      <td> 77.50</td>\n",
       "      <td> 76.81</td>\n",
       "      <td> 76.97</td>\n",
       "      <td> 40648111</td>\n",
       "    </tr>\n",
       "    <tr>\n",
       "      <th>2014-04-04</th>\n",
       "      <td> 77.12</td>\n",
       "      <td> 77.14</td>\n",
       "      <td> 75.80</td>\n",
       "      <td> 75.97</td>\n",
       "      <td> 68812485</td>\n",
       "    </tr>\n",
       "    <tr>\n",
       "      <th>2014-04-07</th>\n",
       "      <td> 75.43</td>\n",
       "      <td> 75.84</td>\n",
       "      <td> 74.56</td>\n",
       "      <td> 74.78</td>\n",
       "      <td> 72462530</td>\n",
       "    </tr>\n",
       "    <tr>\n",
       "      <th>2014-04-08</th>\n",
       "      <td> 75.03</td>\n",
       "      <td> 75.16</td>\n",
       "      <td> 74.10</td>\n",
       "      <td> 74.78</td>\n",
       "      <td> 60971883</td>\n",
       "    </tr>\n",
       "  </tbody>\n",
       "</table>\n",
       "</div>"
      ],
      "text/plain": [
       "             Open   High    Low  Close    Volume\n",
       "﻿Date                                           \n",
       "2014-04-02  77.48  77.64  77.18  77.51  45104871\n",
       "2014-04-03  77.34  77.50  76.81  76.97  40648111\n",
       "2014-04-04  77.12  77.14  75.80  75.97  68812485\n",
       "2014-04-07  75.43  75.84  74.56  74.78  72462530\n",
       "2014-04-08  75.03  75.16  74.10  74.78  60971883"
      ]
     },
     "execution_count": 59,
     "metadata": {},
     "output_type": "execute_result"
    }
   ],
   "source": [
    "import pandas as pd\n",
    "import pandas.io.data as web\n",
    "aapl = web.DataReader('AAPL',data_source='google',start='1/1/2104',end='4/1/2015')\n",
    "aapl.head()"
   ]
  },
  {
   "cell_type": "code",
   "execution_count": 60,
   "metadata": {
    "collapsed": false
   },
   "outputs": [
    {
     "data": {
      "text/html": [
       "<div style=\"max-height:1000px;max-width:1500px;overflow:auto;\">\n",
       "<table border=\"1\" class=\"dataframe\">\n",
       "  <thead>\n",
       "    <tr style=\"text-align: right;\">\n",
       "      <th></th>\n",
       "      <th>Open</th>\n",
       "      <th>High</th>\n",
       "      <th>Low</th>\n",
       "      <th>Close</th>\n",
       "      <th>Volume</th>\n",
       "    </tr>\n",
       "    <tr>\n",
       "      <th>﻿Date</th>\n",
       "      <th></th>\n",
       "      <th></th>\n",
       "      <th></th>\n",
       "      <th></th>\n",
       "      <th></th>\n",
       "    </tr>\n",
       "  </thead>\n",
       "  <tbody>\n",
       "    <tr>\n",
       "      <th>2015-03-26</th>\n",
       "      <td> 122.76</td>\n",
       "      <td> 124.88</td>\n",
       "      <td> 122.60</td>\n",
       "      <td> 124.24</td>\n",
       "      <td> 47572869</td>\n",
       "    </tr>\n",
       "    <tr>\n",
       "      <th>2015-03-27</th>\n",
       "      <td> 124.57</td>\n",
       "      <td> 124.70</td>\n",
       "      <td> 122.91</td>\n",
       "      <td> 123.25</td>\n",
       "      <td> 39546151</td>\n",
       "    </tr>\n",
       "    <tr>\n",
       "      <th>2015-03-30</th>\n",
       "      <td> 124.05</td>\n",
       "      <td> 126.40</td>\n",
       "      <td> 124.00</td>\n",
       "      <td> 126.37</td>\n",
       "      <td> 47099670</td>\n",
       "    </tr>\n",
       "    <tr>\n",
       "      <th>2015-03-31</th>\n",
       "      <td> 126.09</td>\n",
       "      <td> 126.49</td>\n",
       "      <td> 124.36</td>\n",
       "      <td> 124.43</td>\n",
       "      <td> 42090553</td>\n",
       "    </tr>\n",
       "    <tr>\n",
       "      <th>2015-04-01</th>\n",
       "      <td> 124.82</td>\n",
       "      <td> 125.12</td>\n",
       "      <td> 123.10</td>\n",
       "      <td> 124.25</td>\n",
       "      <td> 40621437</td>\n",
       "    </tr>\n",
       "  </tbody>\n",
       "</table>\n",
       "</div>"
      ],
      "text/plain": [
       "              Open    High     Low   Close    Volume\n",
       "﻿Date                                               \n",
       "2015-03-26  122.76  124.88  122.60  124.24  47572869\n",
       "2015-03-27  124.57  124.70  122.91  123.25  39546151\n",
       "2015-03-30  124.05  126.40  124.00  126.37  47099670\n",
       "2015-03-31  126.09  126.49  124.36  124.43  42090553\n",
       "2015-04-01  124.82  125.12  123.10  124.25  40621437"
      ]
     },
     "execution_count": 60,
     "metadata": {},
     "output_type": "execute_result"
    }
   ],
   "source": [
    "aapl.tail()"
   ]
  },
  {
   "cell_type": "code",
   "execution_count": 61,
   "metadata": {
    "collapsed": false
   },
   "outputs": [
    {
     "data": {
      "text/html": [
       "<div style=\"max-height:1000px;max-width:1500px;overflow:auto;\">\n",
       "<table border=\"1\" class=\"dataframe\">\n",
       "  <thead>\n",
       "    <tr style=\"text-align: right;\">\n",
       "      <th></th>\n",
       "      <th>Open</th>\n",
       "      <th>High</th>\n",
       "      <th>Low</th>\n",
       "      <th>Close</th>\n",
       "      <th>Volume</th>\n",
       "      <th>cont_ret</th>\n",
       "    </tr>\n",
       "    <tr>\n",
       "      <th>﻿Date</th>\n",
       "      <th></th>\n",
       "      <th></th>\n",
       "      <th></th>\n",
       "      <th></th>\n",
       "      <th></th>\n",
       "      <th></th>\n",
       "    </tr>\n",
       "  </thead>\n",
       "  <tbody>\n",
       "    <tr>\n",
       "      <th>2014-04-02</th>\n",
       "      <td> 77.48</td>\n",
       "      <td> 77.64</td>\n",
       "      <td> 77.18</td>\n",
       "      <td> 77.51</td>\n",
       "      <td> 45104871</td>\n",
       "      <td>      NaN</td>\n",
       "    </tr>\n",
       "    <tr>\n",
       "      <th>2014-04-03</th>\n",
       "      <td> 77.34</td>\n",
       "      <td> 77.50</td>\n",
       "      <td> 76.81</td>\n",
       "      <td> 76.97</td>\n",
       "      <td> 40648111</td>\n",
       "      <td>-0.006991</td>\n",
       "    </tr>\n",
       "    <tr>\n",
       "      <th>2014-04-04</th>\n",
       "      <td> 77.12</td>\n",
       "      <td> 77.14</td>\n",
       "      <td> 75.80</td>\n",
       "      <td> 75.97</td>\n",
       "      <td> 68812485</td>\n",
       "      <td>-0.013077</td>\n",
       "    </tr>\n",
       "    <tr>\n",
       "      <th>2014-04-07</th>\n",
       "      <td> 75.43</td>\n",
       "      <td> 75.84</td>\n",
       "      <td> 74.56</td>\n",
       "      <td> 74.78</td>\n",
       "      <td> 72462530</td>\n",
       "      <td>-0.015788</td>\n",
       "    </tr>\n",
       "    <tr>\n",
       "      <th>2014-04-08</th>\n",
       "      <td> 75.03</td>\n",
       "      <td> 75.16</td>\n",
       "      <td> 74.10</td>\n",
       "      <td> 74.78</td>\n",
       "      <td> 60971883</td>\n",
       "      <td> 0.000000</td>\n",
       "    </tr>\n",
       "  </tbody>\n",
       "</table>\n",
       "</div>"
      ],
      "text/plain": [
       "             Open   High    Low  Close    Volume  cont_ret\n",
       "﻿Date                                                     \n",
       "2014-04-02  77.48  77.64  77.18  77.51  45104871       NaN\n",
       "2014-04-03  77.34  77.50  76.81  76.97  40648111 -0.006991\n",
       "2014-04-04  77.12  77.14  75.80  75.97  68812485 -0.013077\n",
       "2014-04-07  75.43  75.84  74.56  74.78  72462530 -0.015788\n",
       "2014-04-08  75.03  75.16  74.10  74.78  60971883  0.000000"
      ]
     },
     "execution_count": 61,
     "metadata": {},
     "output_type": "execute_result"
    }
   ],
   "source": [
    "aapl['cont_ret'] = log(aapl['Close']/aapl['Close'].shift(1))\n",
    "aapl.head()"
   ]
  },
  {
   "cell_type": "code",
   "execution_count": 62,
   "metadata": {
    "collapsed": false
   },
   "outputs": [
    {
     "data": {
      "text/html": [
       "<div style=\"max-height:1000px;max-width:1500px;overflow:auto;\">\n",
       "<table border=\"1\" class=\"dataframe\">\n",
       "  <thead>\n",
       "    <tr style=\"text-align: right;\">\n",
       "      <th></th>\n",
       "      <th>Open</th>\n",
       "      <th>High</th>\n",
       "      <th>Low</th>\n",
       "      <th>Close</th>\n",
       "      <th>Volume</th>\n",
       "      <th>cont_ret</th>\n",
       "      <th>Vols</th>\n",
       "    </tr>\n",
       "    <tr>\n",
       "      <th>﻿Date</th>\n",
       "      <th></th>\n",
       "      <th></th>\n",
       "      <th></th>\n",
       "      <th></th>\n",
       "      <th></th>\n",
       "      <th></th>\n",
       "      <th></th>\n",
       "    </tr>\n",
       "  </thead>\n",
       "  <tbody>\n",
       "    <tr>\n",
       "      <th>2015-03-26</th>\n",
       "      <td> 122.76</td>\n",
       "      <td> 124.88</td>\n",
       "      <td> 122.60</td>\n",
       "      <td> 124.24</td>\n",
       "      <td> 47572869</td>\n",
       "      <td> 0.006946</td>\n",
       "      <td> 0.237901</td>\n",
       "    </tr>\n",
       "    <tr>\n",
       "      <th>2015-03-27</th>\n",
       "      <td> 124.57</td>\n",
       "      <td> 124.70</td>\n",
       "      <td> 122.91</td>\n",
       "      <td> 123.25</td>\n",
       "      <td> 39546151</td>\n",
       "      <td>-0.008000</td>\n",
       "      <td> 0.230939</td>\n",
       "    </tr>\n",
       "    <tr>\n",
       "      <th>2015-03-30</th>\n",
       "      <td> 124.05</td>\n",
       "      <td> 126.40</td>\n",
       "      <td> 124.00</td>\n",
       "      <td> 126.37</td>\n",
       "      <td> 47099670</td>\n",
       "      <td> 0.024999</td>\n",
       "      <td> 0.301835</td>\n",
       "    </tr>\n",
       "    <tr>\n",
       "      <th>2015-03-31</th>\n",
       "      <td> 126.09</td>\n",
       "      <td> 126.49</td>\n",
       "      <td> 124.36</td>\n",
       "      <td> 124.43</td>\n",
       "      <td> 42090553</td>\n",
       "      <td>-0.015471</td>\n",
       "      <td> 0.318742</td>\n",
       "    </tr>\n",
       "    <tr>\n",
       "      <th>2015-04-01</th>\n",
       "      <td> 124.82</td>\n",
       "      <td> 125.12</td>\n",
       "      <td> 123.10</td>\n",
       "      <td> 124.25</td>\n",
       "      <td> 40621437</td>\n",
       "      <td>-0.001448</td>\n",
       "      <td> 0.247050</td>\n",
       "    </tr>\n",
       "  </tbody>\n",
       "</table>\n",
       "</div>"
      ],
      "text/plain": [
       "              Open    High     Low   Close    Volume  cont_ret      Vols\n",
       "﻿Date                                                                   \n",
       "2015-03-26  122.76  124.88  122.60  124.24  47572869  0.006946  0.237901\n",
       "2015-03-27  124.57  124.70  122.91  123.25  39546151 -0.008000  0.230939\n",
       "2015-03-30  124.05  126.40  124.00  126.37  47099670  0.024999  0.301835\n",
       "2015-03-31  126.09  126.49  124.36  124.43  42090553 -0.015471  0.318742\n",
       "2015-04-01  124.82  125.12  123.10  124.25  40621437 -0.001448  0.247050"
      ]
     },
     "execution_count": 62,
     "metadata": {},
     "output_type": "execute_result"
    }
   ],
   "source": [
    "aapl['Vols'] = pd.rolling_std(aapl['cont_ret'],window=5)*sqrt(252.0)\n",
    "aapl.tail()"
   ]
  },
  {
   "cell_type": "code",
   "execution_count": 63,
   "metadata": {
    "collapsed": false
   },
   "outputs": [
    {
     "data": {
      "text/html": [
       "<div style=\"max-height:1000px;max-width:1500px;overflow:auto;\">\n",
       "<table border=\"1\" class=\"dataframe\">\n",
       "  <thead>\n",
       "    <tr style=\"text-align: right;\">\n",
       "      <th></th>\n",
       "      <th>Open</th>\n",
       "      <th>High</th>\n",
       "      <th>Low</th>\n",
       "      <th>Close</th>\n",
       "      <th>Volume</th>\n",
       "      <th>cont_ret</th>\n",
       "      <th>Vols</th>\n",
       "    </tr>\n",
       "    <tr>\n",
       "      <th>﻿Date</th>\n",
       "      <th></th>\n",
       "      <th></th>\n",
       "      <th></th>\n",
       "      <th></th>\n",
       "      <th></th>\n",
       "      <th></th>\n",
       "      <th></th>\n",
       "    </tr>\n",
       "  </thead>\n",
       "  <tbody>\n",
       "    <tr>\n",
       "      <th>2014-04-02</th>\n",
       "      <td> 77.48</td>\n",
       "      <td> 77.64</td>\n",
       "      <td> 77.18</td>\n",
       "      <td> 77.51</td>\n",
       "      <td> 45104871</td>\n",
       "      <td>      NaN</td>\n",
       "      <td>      NaN</td>\n",
       "    </tr>\n",
       "    <tr>\n",
       "      <th>2014-04-03</th>\n",
       "      <td> 77.34</td>\n",
       "      <td> 77.50</td>\n",
       "      <td> 76.81</td>\n",
       "      <td> 76.97</td>\n",
       "      <td> 40648111</td>\n",
       "      <td>-0.006991</td>\n",
       "      <td>      NaN</td>\n",
       "    </tr>\n",
       "    <tr>\n",
       "      <th>2014-04-04</th>\n",
       "      <td> 77.12</td>\n",
       "      <td> 77.14</td>\n",
       "      <td> 75.80</td>\n",
       "      <td> 75.97</td>\n",
       "      <td> 68812485</td>\n",
       "      <td>-0.013077</td>\n",
       "      <td>      NaN</td>\n",
       "    </tr>\n",
       "    <tr>\n",
       "      <th>2014-04-07</th>\n",
       "      <td> 75.43</td>\n",
       "      <td> 75.84</td>\n",
       "      <td> 74.56</td>\n",
       "      <td> 74.78</td>\n",
       "      <td> 72462530</td>\n",
       "      <td>-0.015788</td>\n",
       "      <td>      NaN</td>\n",
       "    </tr>\n",
       "    <tr>\n",
       "      <th>2014-04-08</th>\n",
       "      <td> 75.03</td>\n",
       "      <td> 75.16</td>\n",
       "      <td> 74.10</td>\n",
       "      <td> 74.78</td>\n",
       "      <td> 60971883</td>\n",
       "      <td> 0.000000</td>\n",
       "      <td>      NaN</td>\n",
       "    </tr>\n",
       "    <tr>\n",
       "      <th>2014-04-09</th>\n",
       "      <td> 74.66</td>\n",
       "      <td> 75.78</td>\n",
       "      <td> 74.57</td>\n",
       "      <td> 75.76</td>\n",
       "      <td> 51542722</td>\n",
       "      <td> 0.013020</td>\n",
       "      <td> 0.183481</td>\n",
       "    </tr>\n",
       "    <tr>\n",
       "      <th>2014-04-10</th>\n",
       "      <td> 75.81</td>\n",
       "      <td> 76.03</td>\n",
       "      <td> 74.74</td>\n",
       "      <td> 74.78</td>\n",
       "      <td> 59912818</td>\n",
       "      <td>-0.013020</td>\n",
       "      <td> 0.193232</td>\n",
       "    </tr>\n",
       "    <tr>\n",
       "      <th>2014-04-11</th>\n",
       "      <td> 74.14</td>\n",
       "      <td> 74.69</td>\n",
       "      <td> 73.88</td>\n",
       "      <td> 74.23</td>\n",
       "      <td> 67975012</td>\n",
       "      <td>-0.007382</td>\n",
       "      <td> 0.183662</td>\n",
       "    </tr>\n",
       "    <tr>\n",
       "      <th>2014-04-14</th>\n",
       "      <td> 74.56</td>\n",
       "      <td> 74.59</td>\n",
       "      <td> 73.89</td>\n",
       "      <td> 74.53</td>\n",
       "      <td> 51445177</td>\n",
       "      <td> 0.004033</td>\n",
       "      <td> 0.160238</td>\n",
       "    </tr>\n",
       "    <tr>\n",
       "      <th>2014-04-15</th>\n",
       "      <td> 74.32</td>\n",
       "      <td> 74.52</td>\n",
       "      <td> 73.05</td>\n",
       "      <td> 73.99</td>\n",
       "      <td> 66622577</td>\n",
       "      <td>-0.007272</td>\n",
       "      <td> 0.166516</td>\n",
       "    </tr>\n",
       "  </tbody>\n",
       "</table>\n",
       "</div>"
      ],
      "text/plain": [
       "             Open   High    Low  Close    Volume  cont_ret      Vols\n",
       "﻿Date                                                               \n",
       "2014-04-02  77.48  77.64  77.18  77.51  45104871       NaN       NaN\n",
       "2014-04-03  77.34  77.50  76.81  76.97  40648111 -0.006991       NaN\n",
       "2014-04-04  77.12  77.14  75.80  75.97  68812485 -0.013077       NaN\n",
       "2014-04-07  75.43  75.84  74.56  74.78  72462530 -0.015788       NaN\n",
       "2014-04-08  75.03  75.16  74.10  74.78  60971883  0.000000       NaN\n",
       "2014-04-09  74.66  75.78  74.57  75.76  51542722  0.013020  0.183481\n",
       "2014-04-10  75.81  76.03  74.74  74.78  59912818 -0.013020  0.193232\n",
       "2014-04-11  74.14  74.69  73.88  74.23  67975012 -0.007382  0.183662\n",
       "2014-04-14  74.56  74.59  73.89  74.53  51445177  0.004033  0.160238\n",
       "2014-04-15  74.32  74.52  73.05  73.99  66622577 -0.007272  0.166516"
      ]
     },
     "execution_count": 63,
     "metadata": {},
     "output_type": "execute_result"
    }
   ],
   "source": [
    "aapl.head(10)"
   ]
  },
  {
   "cell_type": "code",
   "execution_count": 64,
   "metadata": {
    "collapsed": false
   },
   "outputs": [
    {
     "data": {
      "text/plain": [
       "array([<matplotlib.axes._subplots.AxesSubplot object at 0x10f24ab10>,\n",
       "       <matplotlib.axes._subplots.AxesSubplot object at 0x10fd24a50>], dtype=object)"
      ]
     },
     "execution_count": 64,
     "metadata": {},
     "output_type": "execute_result"
    },
    {
     "data": {
      "image/png": "[encoded data removed]",
      "text/plain": [
       "<matplotlib.figure.Figure at 0x10fb0ba50>"
      ]
     },
     "metadata": {},
     "output_type": "display_data"
    }
   ],
   "source": [
    "aapl[['Close','Vols']].plot(subplots=True,color='blue',figsize=(8,6))"
   ]
  },
  {
   "cell_type": "markdown",
   "metadata": {},
   "source": [
    "### DIVERSIFICATION"
   ]
  },
  {
   "cell_type": "markdown",
   "metadata": {},
   "source": [
    "DIVERSIFICATION OF A PORTFOLIO\n",
    "\n",
    "It is useful to examine the power of using vector algebra with an application. Here we use vector and summation math to understand how diversification in stock portfolios works. Diversification occurs when we increase the number of non-perfectly correlated stocks in a portfolio, thereby reducing portfolio variance. In order to compute the variance of the portfolio we need to use the portfolio weights ${\\bf w}$ and the covariance matrix of stock returns ${\\bf R}$, denoted ${\\bf \\Sigma}$. We first write down the formula for a portfolio's return variance: \n",
    "\n",
    "\\begin{equation}\n",
    "Var(\\boldsymbol{w'R}) = \\boldsymbol{w'\\Sigma w} = \\sum_{i=1}^n \\boldsymbol{w_i^2 \\sigma_i^2}\n",
    "+ \\sum_{i=1}^n \\sum_{j=1,i \\neq j}^n \\boldsymbol{w_i w_j \\sigma_{ij}}\n",
    "\\end{equation}\n",
    "\n",
    "Readers are strongly encouraged to implement this by hand for $n=2$ to convince themselves that the vector form of the expression for variance $\\boldsymbol{w'\\Sigma w}$ is the same thing as the long form on the right-hand side of the equation above. \n",
    "If returns are independent, then the formula collapses to: \n",
    "\n",
    "\\begin{equation}\n",
    "Var(\\bf{w'R}) = \\bf{w'\\Sigma w} = \\sum_{i=1}^n \\boldsymbol{w_i^2 \\sigma_i^2}\n",
    "\\end{equation}\n",
    "\n",
    "If returns are dependent, and equal amounts are invested in\n",
    "each asset ($w_i=1/n,\\;\\;\\forall i$):\n",
    "\n",
    "\\begin{eqnarray*}\n",
    "Var(\\bf{w'R}) &=&  \\frac{1}{n}\\sum_{i=1}^n \\frac{\\sigma_i^2}{n}\n",
    "+ \\frac{n-1}{n}\\sum_{i=1}^n \\sum_{j=1,i \\neq j}^n  \\frac{\\sigma_{ij}}{n(n-1)}\\\\\n",
    "&=& \\frac{1}{n} \\bar{\\sigma_i}^2 + \\frac{n-1}{n} \\bar{\\sigma_{ij}}\\\\\n",
    "&=& \\frac{1}{n} \\bar{\\sigma_i}^2 + \\left(1 - \\frac{1}{n} \\right) \\bar{\\sigma_{ij}}\n",
    "\\end{eqnarray*}\n",
    "\n",
    "The first term is the average variance, denoted $\\bar{\\sigma_1}^2$ divided by $n$, and the second is the average covariance, denoted $\\bar{\\sigma_{ij}}$ multiplied by factor $(n-1)/n$. As $n \\rightarrow \\infty$,\n",
    "\n",
    "\\begin{equation}\n",
    "Var({\\bf w'R}) = \\bar{\\sigma_{ij}}\n",
    "\\end{equation}\n",
    "\n",
    "This produces the remarkable result that in a well diversified portfolio, the variances of each stock's return does not matter at all for portfolio risk! Further the risk of the portfolio, i.e., its variance, is nothing but the average of off-diagonal terms in the covariance matrix. "
   ]
  },
  {
   "cell_type": "code",
   "execution_count": null,
   "metadata": {
    "collapsed": false
   },
   "outputs": [],
   "source": [
    "sd=0.20; cv=0.01; m=100\n",
    "n = range(1,m+1) \n",
    "sd_p = zeros(m)\n",
    "for j in n:\n",
    "    cv_mat = matrix(ones((j,j))*cv)\n",
    "    fill_diagonal(cv_mat,sd**2)\n",
    "    w = matrix(ones(j)*(1.0/j)).T\n",
    "    sd_p[j-1] = sqrt((w.T).dot(cv_mat).dot(w))"
   ]
  },
  {
   "cell_type": "code",
   "execution_count": null,
   "metadata": {
    "collapsed": false
   },
   "outputs": [],
   "source": [
    "plot(n,sd_p)\n",
    "xlabel('#stocks')\n",
    "ylabel('stddev of portfolio')\n",
    "grid()"
   ]
  },
  {
   "cell_type": "markdown",
   "metadata": {},
   "source": [
    "### Arithmetic vs Geometric mean returns"
   ]
  },
  {
   "cell_type": "markdown",
   "metadata": {},
   "source": [
    "The geometric mean is a good indicator of past performance, especially when we are interested in holding period returns. But if we are interested in expected future returns, the arithmetic mean is the relevant statistic.\n",
    "\n",
    "Suppose a stock will rise by 30% or fall by 20% with equal probability. If it did one each in consecutive years then the geometric mean return is:"
   ]
  },
  {
   "cell_type": "code",
   "execution_count": null,
   "metadata": {
    "collapsed": false
   },
   "outputs": [],
   "source": [
    "g_ret = ((1+0.30)*(1-0.20))**0.5-1\n",
    "print \"Geometric mean return = \", g_ret"
   ]
  },
  {
   "cell_type": "code",
   "execution_count": null,
   "metadata": {
    "collapsed": false
   },
   "outputs": [],
   "source": [
    "a_ret = 0.5*(0.30+(-0.20))\n",
    "print \"Arithmetic mean return per year = \",a_ret"
   ]
  },
  {
   "cell_type": "markdown",
   "metadata": {},
   "source": [
    "Which one is more realistic in predicting future expected returns over the next two years? Note that there are 4 cases to consider for outcomes, all with equal probability $1/4$. "
   ]
  },
  {
   "cell_type": "code",
   "execution_count": null,
   "metadata": {
    "collapsed": false
   },
   "outputs": [],
   "source": [
    "ret = zeros(4)\n",
    "ret[0] = (1+0.3)*(1+0.3)\n",
    "ret[1] = (1+0.3)*(1-0.2)\n",
    "ret[2] = (1-0.2)*(1+0.3)\n",
    "ret[3] = (1-0.2)*(1-0.2)\n",
    "two_year_return = 0.25*sum(ret)\n",
    "print \"Expected two year return = \", two_year_return\n",
    "print \"Expected two year return (annualized) = \", two_year_return**0.5"
   ]
  },
  {
   "cell_type": "code",
   "execution_count": null,
   "metadata": {
    "collapsed": false
   },
   "outputs": [],
   "source": []
  }
 ],
 "metadata": {
  "kernelspec": {
   "display_name": "Python 2",
   "language": "python",
   "name": "python2"
  },
  "language_info": {
   "codemirror_mode": {
    "name": "ipython",
    "version": 2
   },
   "file_extension": ".py",
   "mimetype": "text/x-python",
   "name": "python",
   "nbconvert_exporter": "python",
   "pygments_lexer": "ipython2",
   "version": "2.7.10"
  }
 },
 "nbformat": 4,
 "nbformat_minor": 0
}
