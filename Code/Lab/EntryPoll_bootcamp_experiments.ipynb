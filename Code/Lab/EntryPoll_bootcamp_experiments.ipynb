{
 "cells": [
  {
   "cell_type": "markdown",
   "metadata": {},
   "source": [
    "# Data Bootcamp Entry Poll  \n",
    "\n",
    "Experiments with the results of the Data Bootcamp [entry poll](https://docs.google.com/forms/d/1N7ugrqIQNHm_e1BLVAtaRMnC8SmSiTDMoYBy_0FYZic/viewform).  \n",
    "\n",
    "This IPython notebook was created by Dave Backus for the NYU Stern course [Data Bootcamp](http://databootcamp.nyuecon.com/).    "
   ]
  },
  {
   "cell_type": "markdown",
   "metadata": {},
   "source": [
    "## Import packages"
   ]
  },
  {
   "cell_type": "code",
   "execution_count": 5,
   "metadata": {
    "collapsed": false
   },
   "outputs": [
    {
     "name": "stdout",
     "output_type": "stream",
     "text": [
      "\n",
      "Python version:  3.5.1 |Anaconda 4.0.0 (64-bit)| (default, Feb 16 2016, 09:49:46) [MSC v.1900 64 bit (AMD64)]\n",
      "Pandas version:  0.18.0\n",
      "Today's date: 2016-04-05\n"
     ]
    }
   ],
   "source": [
    "import pandas as pd             # data package\n",
    "import matplotlib.pyplot as plt # graphics \n",
    "import sys                      # system module, used to get Python version \n",
    "import datetime as dt           # date tools, used to note current date  \n",
    "\n",
    "print('\\nPython version: ', sys.version) \n",
    "print('Pandas version: ', pd.__version__)\n",
    "print(\"Today's date:\", dt.date.today())"
   ]
  },
  {
   "cell_type": "markdown",
   "metadata": {},
   "source": [
    "## Data input and description"
   ]
  },
  {
   "cell_type": "code",
   "execution_count": 6,
   "metadata": {
    "collapsed": false
   },
   "outputs": [
    {
     "name": "stdout",
     "output_type": "stream",
     "text": [
      "Dimensions: (104, 11)\n"
     ]
    }
   ],
   "source": [
    "url1 = 'http://pages.stern.nyu.edu/~dbackus/Data/'\n",
    "url2 = 'Data-Bootcamp-entry-poll_s16.csv'\n",
    "url = url1 + url2\n",
    "file = url2\n",
    "\n",
    "ep = pd.read_csv(url, header=0)\n",
    "print('Dimensions:', ep.shape)"
   ]
  },
  {
   "cell_type": "code",
   "execution_count": 10,
   "metadata": {
    "collapsed": false
   },
   "outputs": [
    {
     "data": {
      "text/plain": [
       "Time            object\n",
       "Program         object\n",
       "Career          object\n",
       "Programming     object\n",
       "Stats           object\n",
       "Media           object\n",
       "Other          float64\n",
       "Major           object\n",
       "Data            object\n",
       "Why             object\n",
       "Topics          object\n",
       "dtype: object"
      ]
     },
     "execution_count": 10,
     "metadata": {},
     "output_type": "execute_result"
    }
   ],
   "source": [
    "# fix variable names \n",
    "# rename variables and price dtypes \n",
    "variables = ['time', 'program', 'career', 'programming', 'stats', \n",
    "             'media', 'other', 'major', 'data', 'why', 'topics']\n",
    "variables = [var.title() for var in variables]             \n",
    "ep.columns = variables     \n",
    "ep.dtypes         "
   ]
  },
  {
   "cell_type": "code",
   "execution_count": 9,
   "metadata": {
    "collapsed": false
   },
   "outputs": [
    {
     "name": "stdout",
     "output_type": "stream",
     "text": [
      "\n",
      "Time\n",
      "2/10/2016 11:35    2\n",
      "1/28/2016 14:13    2\n",
      "2/24/2016 15:36    1\n",
      "2/10/2016 15:28    1\n",
      "1/26/2016 14:32    1\n",
      "Name: Time, dtype: int64\n",
      "\n",
      "Program\n",
      "MBA                       46\n",
      "Undergraduate business    36\n",
      "Other undergraduate       13\n",
      "Old Fellow                 2\n",
      "auditing                   1\n",
      "Name: Program, dtype: int64\n",
      "\n",
      "Career\n",
      "Finance                             34\n",
      "Technology (Google, Amazon, etc)    26\n",
      "Consulting                          22\n",
      "Marketing                            5\n",
      "Wine Drinking                        2\n",
      "Name: Career, dtype: int64\n",
      "\n",
      "Programming\n",
      "None                                                              52\n",
      "I have taken one programming course                               32\n",
      "I have taken many courses and forgotten most of what I learned    12\n",
      "I have taken many courses and/or have extensive experience         7\n",
      "Name: Programming, dtype: int64\n",
      "\n",
      "Stats\n",
      "I have taken one probability or statistics course                 67\n",
      "I have taken many courses and forgotten most of what I learned    20\n",
      "I have taken many courses and/or have extensive experience        14\n",
      "None                                                               2\n",
      "Name: Stats, dtype: int64\n",
      "\n",
      "Media\n",
      "None                          46\n",
      "Twitter                       27\n",
      "Facebook                       6\n",
      "Twitter, Blog (RSS) reader     5\n",
      "Blog (RSS) reader              4\n",
      "Name: Media, dtype: int64\n",
      "\n",
      "Other\n",
      "Series([], Name: Other, dtype: int64)\n",
      "\n",
      "Major\n",
      "Finance                     36\n",
      "Analytics or other quant    14\n",
      "Marketing                    9\n",
      "Management                   8\n",
      "Economics                    5\n",
      "Name: Major, dtype: int64\n",
      "\n",
      "Data\n",
      "I don't know.                                1\n",
      "Not a clue, but I hope to find out.          1\n",
      "Income inequality, educational attainment    1\n",
      "Sports, finance, customer engagement         1\n",
      "People Analytics                             1\n",
      "Name: Data, dtype: int64\n",
      "\n",
      "Why\n",
      "To help with my career                  67\n",
      "I heard it was fun                      20\n",
      "I lost my mind for a minute              7\n",
      "like data analysis and programming       1\n",
      "Great marketing by Chase and Spencer     1\n",
      "Name: Why, dtype: int64\n",
      "\n",
      "Topics\n",
      "Web scraping                                       22\n",
      "Multivariate regression                            11\n",
      "None, I'd prefer to focus on fundamentals.         10\n",
      "Natural language processing                        10\n",
      "Web scraping, Maps, Natural language processing     6\n",
      "Name: Topics, dtype: int64\n"
     ]
    }
   ],
   "source": [
    "# summarize results\n",
    "for var in list(ep):\n",
    "    print('\\n', var, '\\n', ep[var].value_counts().head(5), sep='')"
   ]
  },
  {
   "cell_type": "code",
   "execution_count": null,
   "metadata": {
    "collapsed": true
   },
   "outputs": [],
   "source": []
  },
  {
   "cell_type": "code",
   "execution_count": 23,
   "metadata": {
    "collapsed": false
   },
   "outputs": [
    {
     "data": {
      "text/plain": [
       "0    1\n",
       "1    1\n",
       "2    1\n",
       "3    1\n",
       "4    0\n",
       "5    1\n",
       "6    0\n",
       "7    1\n",
       "8    0\n",
       "9    0\n",
       "Name: Stats, dtype: int32"
      ]
     },
     "execution_count": 23,
     "metadata": {},
     "output_type": "execute_result"
    }
   ],
   "source": [
    "ep['Stats'].str.contains('one', na=False).head(10)*1"
   ]
  },
  {
   "cell_type": "code",
   "execution_count": null,
   "metadata": {
    "collapsed": true
   },
   "outputs": [],
   "source": []
  },
  {
   "cell_type": "code",
   "execution_count": null,
   "metadata": {
    "collapsed": true
   },
   "outputs": [],
   "source": []
  },
  {
   "cell_type": "code",
   "execution_count": null,
   "metadata": {
    "collapsed": true
   },
   "outputs": [],
   "source": []
  },
  {
   "cell_type": "code",
   "execution_count": null,
   "metadata": {
    "collapsed": true
   },
   "outputs": [],
   "source": []
  }
 ],
 "metadata": {
  "kernelspec": {
   "display_name": "Python 3",
   "language": "python",
   "name": "python3"
  },
  "language_info": {
   "codemirror_mode": {
    "name": "ipython",
    "version": 3
   },
   "file_extension": ".py",
   "mimetype": "text/x-python",
   "name": "python",
   "nbconvert_exporter": "python",
   "pygments_lexer": "ipython3",
   "version": "3.5.1"
  }
 },
 "nbformat": 4,
 "nbformat_minor": 0
}
