{
 "cells": [
  {
   "cell_type": "markdown",
   "metadata": {},
   "source": [
    "# Crime In Detroit (2009 to Present)\n",
    "\n",
    "#### Course: Data Bootcamp <br/> Name: Gillian Berberich <br/> Project Date: May 4th, 2016 <br/> New York University <br/> Leonard N. Stern School of Business\n",
    "\n",
    "This project examines crime data in Detroit, Michigan from January 1, 2009 to present using [Detroit Open Data](https://data.detroitmi.gov/). There are several datasets of interest contained on the Detroit Open Data website. The main crime file has over 1 million records and is updated frequently. Other datasets used contain locational data for schools, police stations, and fire stations within Detroit city limits.\n",
    "\n",
    "**This version:  Dave Backus messing around to see if we can overcome the row limits on downloading data.**"
   ]
  },
  {
   "cell_type": "markdown",
   "metadata": {},
   "source": [
    "# Importing Packages\n",
    "\n",
    "For this project, I have used several packages available in Python. It is useful to know which Python version and Pandas version I am using as well as the date these scripts were run."
   ]
  },
  {
   "cell_type": "code",
   "execution_count": 4,
   "metadata": {
    "collapsed": false,
    "scrolled": false
   },
   "outputs": [
    {
     "name": "stdout",
     "output_type": "stream",
     "text": [
      "\n",
      "Python version:  3.5.1 |Anaconda 2.5.0 (64-bit)| (default, Jan 29 2016, 15:01:46) [MSC v.1900 64 bit (AMD64)]\n",
      "Pandas version:  0.17.1\n",
      "Today's date: 2016-04-24\n"
     ]
    }
   ],
   "source": [
    "import pandas as pd             # data package\n",
    "import matplotlib.pyplot as plt # graphics \n",
    "import sys                      # system module, used to get Python version \n",
    "import datetime as dt           # date tools, used to note current date\n",
    "#import geopy as geo             # geographical package\n",
    "\n",
    "%matplotlib inline \n",
    "\n",
    "print('\\nPython version: ', sys.version) \n",
    "print('Pandas version: ', pd.__version__)\n",
    "print(\"Today's date:\", dt.date.today())"
   ]
  },
  {
   "cell_type": "markdown",
   "metadata": {},
   "source": [
    "# Reading Data\n",
    "\n",
    "The datasets are accessed live from [Detroit Open Data](https://data.detroitmi.gov/) in the json format. Each data file contains a link which explains how to access the data (each dataset provides a link, shown as url, url1, url2, url3 below). For one the datasets, a link was not available, though I was able to create a link by finding the resource number for the data. \n",
    "\n",
    "Follow these instructions to access the data:\n",
    " \n",
    "* Open the web address https://data.detroitmi.gov/\n",
    "* Click “Public Safety”\n",
    "* Locate “DPD: All Crime Incidents, 2009 – Present (Provisional)” on the list.\n",
    "* Click “API Docs” link to the bottom right of that block.\n",
    "* Scroll down to “Getting Started” and you will see a link that ends in .json\n",
    "* Copy the link, this is the link that IPython will pull the data from.\n",
    "* Repeat process for “DPD Stations” and “DFD Stations”\n",
    " \n",
    "Follow these instructions to access the Detroit School data.\n",
    "* Click the “Education” link on the left hand bar under “Categories”.\n",
    "* Locate “Detroit Schools” on the list.\n",
    "* Click on the dataset.\n",
    "* On the bar at the top right, click “Export”\n",
    "* Under “Download as”, right click on “JSON” and click “Copy Link Location”\n",
    "* Paste the link to a word document and copy the resource code portion (it is 4 characters followed by a hyphen and four more characters).\n",
    "* Add this resource code to the end of  https://data.detroitmi.gov/resource/\n",
    "* Finally, add .json to the end of it. This is the link that IPython will pull data from."
   ]
  },
  {
   "cell_type": "markdown",
   "metadata": {},
   "source": [
    "### Reported Crimes"
   ]
  },
  {
   "cell_type": "code",
   "execution_count": null,
   "metadata": {
    "collapsed": true
   },
   "outputs": [],
   "source": [
    "%%time\n",
    "url = 'https://data.detroitmi.gov/resource/i9ph-uyrp.json'\n",
    "crime = pd.read_json(url)\n",
    "crime = crime.rename(columns={'caseid':'Case ID',\n",
    "                              'address':'Address',\n",
    "                              'hour':'Hour',\n",
    "                              'incidentdate':'Incident Date',\n",
    "                              'lat':'Latitude',\n",
    "                              'lon':'Longitude',\n",
    "                              'neighborhood':'Neighborhood',\n",
    "                              'category':'Category',\n",
    "                              'offensedescription':'Offense Description'})\n",
    "\n",
    "print('Dimensions:', crime.shape)"
   ]
  },
  {
   "cell_type": "code",
   "execution_count": 6,
   "metadata": {
    "collapsed": false
   },
   "outputs": [
    {
     "name": "stdout",
     "output_type": "stream",
     "text": [
      "Dimensions: (1126021, 22)\n"
     ]
    },
    {
     "name": "stderr",
     "output_type": "stream",
     "text": [
      "C:\\Users\\dbackus\\Anaconda3\\lib\\site-packages\\IPython\\core\\interactiveshell.py:2902: DtypeWarning: Columns (3,17,18,21) have mixed types. Specify dtype option on import or set low_memory=False.\n",
      "  interactivity=interactivity, compiler=compiler, result=result)\n"
     ]
    }
   ],
   "source": [
    "csv = pd.read_csv('DPD__All_Crime_Incidents__Provisional_.csv')\n",
    "print('Dimensions:', csv.shape)"
   ]
  },
  {
   "cell_type": "code",
   "execution_count": 2,
   "metadata": {
    "collapsed": false,
    "scrolled": false
   },
   "outputs": [
    {
     "data": {
      "text/html": [
       "<div>\n",
       "<table border=\"1\" class=\"dataframe\">\n",
       "  <thead>\n",
       "    <tr style=\"text-align: right;\">\n",
       "      <th></th>\n",
       "      <th>Longitude</th>\n",
       "      <th>Latitude</th>\n",
       "      <th>Address</th>\n",
       "      <th>Incident Date</th>\n",
       "      <th>Hour</th>\n",
       "      <th>Neighborhood</th>\n",
       "      <th>Category</th>\n",
       "      <th>Offense Description</th>\n",
       "    </tr>\n",
       "    <tr>\n",
       "      <th>Case ID</th>\n",
       "      <th></th>\n",
       "      <th></th>\n",
       "      <th></th>\n",
       "      <th></th>\n",
       "      <th></th>\n",
       "      <th></th>\n",
       "      <th></th>\n",
       "      <th></th>\n",
       "    </tr>\n",
       "  </thead>\n",
       "  <tbody>\n",
       "    <tr>\n",
       "      <th>2048319</th>\n",
       "      <td>-83.2584</td>\n",
       "      <td>42.4210</td>\n",
       "      <td>18000 LAHSER</td>\n",
       "      <td>2016-01-30T00:00:00.000</td>\n",
       "      <td>5</td>\n",
       "      <td>OLD REDFORD</td>\n",
       "      <td>STOLEN VEHICLE</td>\n",
       "      <td>VEHICLE THEFT</td>\n",
       "    </tr>\n",
       "    <tr>\n",
       "      <th>2055559</th>\n",
       "      <td>-83.2332</td>\n",
       "      <td>42.3912</td>\n",
       "      <td>00 ACACIA   MINOCK</td>\n",
       "      <td>2016-02-20T00:00:00.000</td>\n",
       "      <td>2</td>\n",
       "      <td>WESTWOOD PARK</td>\n",
       "      <td>MISCELLANEOUS</td>\n",
       "      <td>MISCELLANEOUS - IMPOUNDED VEHICLE</td>\n",
       "    </tr>\n",
       "  </tbody>\n",
       "</table>\n",
       "</div>"
      ],
      "text/plain": [
       "         Longitude  Latitude             Address            Incident Date  \\\n",
       "Case ID                                                                     \n",
       "2048319   -83.2584   42.4210        18000 LAHSER  2016-01-30T00:00:00.000   \n",
       "2055559   -83.2332   42.3912  00 ACACIA   MINOCK  2016-02-20T00:00:00.000   \n",
       "\n",
       "         Hour   Neighborhood        Category  \\\n",
       "Case ID                                        \n",
       "2048319     5    OLD REDFORD  STOLEN VEHICLE   \n",
       "2055559     2  WESTWOOD PARK   MISCELLANEOUS   \n",
       "\n",
       "                       Offense Description  \n",
       "Case ID                                     \n",
       "2048319                      VEHICLE THEFT  \n",
       "2055559  MISCELLANEOUS - IMPOUNDED VEHICLE  "
      ]
     },
     "execution_count": 2,
     "metadata": {},
     "output_type": "execute_result"
    }
   ],
   "source": [
    "crime = crime[['Case ID','Longitude','Latitude','Address','Incident Date','Hour','Neighborhood','Category','Offense Description']].set_index('Case ID')\n",
    "\n",
    "crime.head(2)"
   ]
  },
  {
   "cell_type": "markdown",
   "metadata": {},
   "source": [
    "### Police Station Locations"
   ]
  },
  {
   "cell_type": "code",
   "execution_count": 3,
   "metadata": {
    "collapsed": false
   },
   "outputs": [
    {
     "data": {
      "text/html": [
       "<div>\n",
       "<table border=\"1\" class=\"dataframe\">\n",
       "  <thead>\n",
       "    <tr style=\"text-align: right;\">\n",
       "      <th></th>\n",
       "      <th>Longitude</th>\n",
       "      <th>Latitude</th>\n",
       "      <th>Address</th>\n",
       "      <th>Zip Code</th>\n",
       "    </tr>\n",
       "    <tr>\n",
       "      <th>ID</th>\n",
       "      <th></th>\n",
       "      <th></th>\n",
       "      <th></th>\n",
       "      <th></th>\n",
       "    </tr>\n",
       "  </thead>\n",
       "  <tbody>\n",
       "    <tr>\n",
       "      <th>1</th>\n",
       "      <td>-83.045241</td>\n",
       "      <td>42.326325</td>\n",
       "      <td>20 Atwater</td>\n",
       "      <td>48226</td>\n",
       "    </tr>\n",
       "    <tr>\n",
       "      <th>2</th>\n",
       "      <td>-83.179933</td>\n",
       "      <td>42.385553</td>\n",
       "      <td>13530 Lesure</td>\n",
       "      <td>48227</td>\n",
       "    </tr>\n",
       "  </tbody>\n",
       "</table>\n",
       "</div>"
      ],
      "text/plain": [
       "    Longitude   Latitude       Address  Zip Code\n",
       "ID                                              \n",
       "1  -83.045241  42.326325    20 Atwater     48226\n",
       "2  -83.179933  42.385553  13530 Lesure     48227"
      ]
     },
     "execution_count": 3,
     "metadata": {},
     "output_type": "execute_result"
    }
   ],
   "source": [
    "url1 = 'https://data.detroitmi.gov/resource/3n6r-g9kp.json'\n",
    "police = pd.read_json(url1)\n",
    "police = police.rename(columns={'address_1':'Address',\n",
    "                                'zip_code':'Zip Code',\n",
    "                                'id':'ID'})\n",
    "\n",
    "police.insert(1, 'Longitude', 0.0)\n",
    "police.insert(2, 'Latitude', 0.0)\n",
    "\n",
    "for (i, ps) in police.iterrows():\n",
    "    # Pull out dictionary\n",
    "    curr_dict = ps['location']\n",
    "    # Pull out coordinates\n",
    "    coord = curr_dict['coordinates']\n",
    "\n",
    "    # Set value just sets \n",
    "    police.set_value(i, 'Longitude', coord[0])\n",
    "    police.set_value(i, 'Latitude', coord[1])\n",
    "\n",
    "    \n",
    "police = police[['ID','Longitude','Latitude','Address','Zip Code']].set_index('ID')\n",
    "\n",
    "police.head(2)"
   ]
  },
  {
   "cell_type": "markdown",
   "metadata": {},
   "source": [
    "### Fire Station Locations"
   ]
  },
  {
   "cell_type": "code",
   "execution_count": 4,
   "metadata": {
    "collapsed": false,
    "scrolled": true
   },
   "outputs": [
    {
     "data": {
      "text/html": [
       "<div>\n",
       "<table border=\"1\" class=\"dataframe\">\n",
       "  <thead>\n",
       "    <tr style=\"text-align: right;\">\n",
       "      <th></th>\n",
       "      <th>Longitude</th>\n",
       "      <th>Latitude</th>\n",
       "      <th>Address</th>\n",
       "      <th>Zip Code</th>\n",
       "    </tr>\n",
       "    <tr>\n",
       "      <th>Station</th>\n",
       "      <th></th>\n",
       "      <th></th>\n",
       "      <th></th>\n",
       "      <th></th>\n",
       "    </tr>\n",
       "  </thead>\n",
       "  <tbody>\n",
       "    <tr>\n",
       "      <th>E50</th>\n",
       "      <td>-82.985474</td>\n",
       "      <td>42.420406</td>\n",
       "      <td>12985 Houston Whittier St</td>\n",
       "      <td>48205</td>\n",
       "    </tr>\n",
       "    <tr>\n",
       "      <th>E42</th>\n",
       "      <td>-83.138740</td>\n",
       "      <td>42.366575</td>\n",
       "      <td>6324 W Chicago</td>\n",
       "      <td>48204</td>\n",
       "    </tr>\n",
       "  </tbody>\n",
       "</table>\n",
       "</div>"
      ],
      "text/plain": [
       "         Longitude   Latitude                    Address  Zip Code\n",
       "Station                                                           \n",
       "E50     -82.985474  42.420406  12985 Houston Whittier St     48205\n",
       "E42     -83.138740  42.366575             6324 W Chicago     48204"
      ]
     },
     "execution_count": 4,
     "metadata": {},
     "output_type": "execute_result"
    }
   ],
   "source": [
    "url2 = 'https://data.detroitmi.gov/resource/hz79-58xh.json'\n",
    "fire = pd.read_json(url2)\n",
    "fire = fire.rename(columns={'station':'Station',\n",
    "                            'full_address_address':'Address',\n",
    "                            'full_address_zip':'Zip Code'})\n",
    "\n",
    "fire.insert(1, 'Longitude', 0.0)\n",
    "fire.insert(2, 'Latitude', 0.0)\n",
    "\n",
    "for (i, fs) in fire.iterrows():\n",
    "    # Pull out dictionary\n",
    "    curr_dict = fs['full_address']\n",
    "    # Pull out coordinates\n",
    "    coord = curr_dict['coordinates']\n",
    "\n",
    "    # Set value just sets \n",
    "    fire.set_value(i, 'Longitude', coord[0])\n",
    "    fire.set_value(i, 'Latitude', coord[1])\n",
    "\n",
    "fire = fire[['Station','Longitude','Latitude','Address','Zip Code']].set_index('Station')\n",
    "\n",
    "fire.head(2)"
   ]
  },
  {
   "cell_type": "markdown",
   "metadata": {},
   "source": [
    "### School Locations"
   ]
  },
  {
   "cell_type": "code",
   "execution_count": 5,
   "metadata": {
    "collapsed": false
   },
   "outputs": [
    {
     "data": {
      "text/html": [
       "<div>\n",
       "<table border=\"1\" class=\"dataframe\">\n",
       "  <thead>\n",
       "    <tr style=\"text-align: right;\">\n",
       "      <th></th>\n",
       "      <th>Longitude</th>\n",
       "      <th>Latitude</th>\n",
       "      <th>Address</th>\n",
       "      <th>Zip Code</th>\n",
       "    </tr>\n",
       "    <tr>\n",
       "      <th>School</th>\n",
       "      <th></th>\n",
       "      <th></th>\n",
       "      <th></th>\n",
       "      <th></th>\n",
       "    </tr>\n",
       "  </thead>\n",
       "  <tbody>\n",
       "    <tr>\n",
       "      <th>Pulaski Elementary-Middle School</th>\n",
       "      <td>-82.999392</td>\n",
       "      <td>42.441115</td>\n",
       "      <td>19725 STRASBURG ST</td>\n",
       "      <td>482051633</td>\n",
       "    </tr>\n",
       "    <tr>\n",
       "      <th>Sampson Academy</th>\n",
       "      <td>-83.118454</td>\n",
       "      <td>42.353458</td>\n",
       "      <td>4700 TIREMAN ST</td>\n",
       "      <td>482044243</td>\n",
       "    </tr>\n",
       "  </tbody>\n",
       "</table>\n",
       "</div>"
      ],
      "text/plain": [
       "                                  Longitude   Latitude             Address  \\\n",
       "School                                                                       \n",
       "Pulaski Elementary-Middle School -82.999392  42.441115  19725 STRASBURG ST   \n",
       "Sampson Academy                  -83.118454  42.353458     4700 TIREMAN ST   \n",
       "\n",
       "                                   Zip Code  \n",
       "School                                       \n",
       "Pulaski Elementary-Middle School  482051633  \n",
       "Sampson Academy                   482044243  "
      ]
     },
     "execution_count": 5,
     "metadata": {},
     "output_type": "execute_result"
    }
   ],
   "source": [
    "url3 = 'https://data.detroitmi.gov/resource/8xpr-6ij9.json'\n",
    "school = pd.read_json(url3)\n",
    "school = school.rename(columns={'entityoffi':'School',\n",
    "                                'the_geom':'Location',\n",
    "                                'entityphys':'Address',\n",
    "                                'entityph_4':'Zip Code'})\n",
    "\n",
    "school.insert(1, 'Longitude', 0.0)\n",
    "school.insert(2, 'Latitude', 0.0)\n",
    "\n",
    "for (i, s) in school.iterrows():\n",
    "    # Pull out dictionary\n",
    "    curr_dict = s['Location']\n",
    "    # Pull out coordinates\n",
    "    coord = curr_dict['coordinates']\n",
    "\n",
    "    # Set value just sets \n",
    "    school.set_value(i, 'Longitude', coord[0])\n",
    "    school.set_value(i, 'Latitude', coord[1])\n",
    "\n",
    "school = school[['School', 'Longitude', 'Latitude', 'Address', 'Zip Code']].set_index('School')\n",
    "school.head(2)"
   ]
  },
  {
   "cell_type": "markdown",
   "metadata": {
    "collapsed": true
   },
   "source": [
    "### Crime Graphs"
   ]
  },
  {
   "cell_type": "code",
   "execution_count": 6,
   "metadata": {
    "collapsed": false
   },
   "outputs": [
    {
     "data": {
      "text/plain": [
       "Longitude              1000\n",
       "Latitude               1000\n",
       "Address                1000\n",
       "Incident Date          1000\n",
       "Hour                   1000\n",
       "Neighborhood            978\n",
       "Category               1000\n",
       "Offense Description    1000\n",
       "dtype: int64"
      ]
     },
     "execution_count": 6,
     "metadata": {},
     "output_type": "execute_result"
    }
   ],
   "source": [
    "crime.count()"
   ]
  },
  {
   "cell_type": "code",
   "execution_count": null,
   "metadata": {
    "collapsed": true
   },
   "outputs": [],
   "source": []
  }
 ],
 "metadata": {
  "kernelspec": {
   "display_name": "Python 3",
   "language": "python",
   "name": "python3"
  },
  "language_info": {
   "codemirror_mode": {
    "name": "ipython",
    "version": 3
   },
   "file_extension": ".py",
   "mimetype": "text/x-python",
   "name": "python",
   "nbconvert_exporter": "python",
   "pygments_lexer": "ipython3",
   "version": "3.5.1"
  }
 },
 "nbformat": 4,
 "nbformat_minor": 0
}
