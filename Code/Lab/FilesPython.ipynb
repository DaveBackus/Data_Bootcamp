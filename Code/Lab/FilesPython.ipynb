{
 "cells": [
  {
   "cell_type": "markdown",
   "metadata": {},
   "source": [
    "# Reading (and Writing) Files (without Pandas)\n",
    "\n",
    "This notebook is going to help introduce how to work with text files in Python without relying on the underlying magic of `Pandas`. In addition to being interesting and useful in many cases, understanding what is happening behind the scenes inside `Pandas` can help you identify what may be going wrong if you run into trouble while reading csv or txt files.\n",
    "\n",
    "We will proceed as follows:\n",
    "\n",
    "* First, we will show how to read a file into Python.\n",
    "* Secondly, we will show how to interact (read/write) with its contents.\n",
    "* Finally, we will show how this can be useful in getting and cleaning data from the internet"
   ]
  },
  {
   "cell_type": "markdown",
   "metadata": {},
   "source": [
    "## Interacting with Files in Python\n",
    "\n",
    "Python uses the function `open` to open a file so that Python is able to see it. Many of the things that you are able to do to the file correspond directly to what you might do if you had opened the file in a text editor or in Excel. When you open a file, you will need to specify the level of access that you need to the file. Python has the following access levels:\n",
    "\n",
    "* Reading (`r`): Open the file with only enough permissions to read it. This is the default level of permission and will probably be the most used\n",
    "* Writing (`w` or `a`): Open the file with enough permissions for me to change the file.\n",
    "* Creating and Writing (`x`): Create a new file with the specified name and open it for me with write access.\n",
    "\n",
    "When you finish interacting with a file, it is important to remember to close it so that you don't accidentally do anything to the file after you're done with it. A workflow for interacting with a file should look like this:\n",
    "\n",
    "```python\n",
    "f = open('myfile.txt', 'r')\n",
    "\n",
    "# Do Stuff to file\n",
    "\n",
    "f.close()\n",
    "```\n",
    "\n",
    "We will give an example of how to use each of these permissions."
   ]
  },
  {
   "cell_type": "markdown",
   "metadata": {},
   "source": [
    "### Reading\n",
    "\n",
    "We will first illustrate how we can read a file. When a file is read by Python, it brings the file in with a variety of methods. Our typically use will be to read a file line-by-line, so that is how we will start.\n",
    "\n",
    "Python will allow us to iterate over the lines of a file within a for-loop. We illustrate this below."
   ]
  },
  {
   "cell_type": "code",
   "execution_count": 12,
   "metadata": {
    "collapsed": false
   },
   "outputs": [
    {
     "name": "stdout",
     "output_type": "stream",
     "text": [
      "First line of file\n",
      "\n",
      "Second line of file\n",
      "\n",
      "Third line of file\n",
      "\n",
      "Last line of file\n",
      "\n"
     ]
    }
   ],
   "source": [
    "f = open('filespython.txt', 'r')\n",
    "\n",
    "for line in f:\n",
    "    print(line)\n",
    "    \n",
    "f.close()"
   ]
  },
  {
   "cell_type": "markdown",
   "metadata": {},
   "source": [
    "The output of each iteration of the for-loop is a string which contains the entire line of the file."
   ]
  },
  {
   "cell_type": "markdown",
   "metadata": {},
   "source": [
    "### Writing\n",
    "\n",
    "We gave two letters for writing access: `a` and `w`. The difference between these two lies in where anything we write to the file will be placed. If we use `w` then anything in the file will be deleted when we write new material to the file. If we use `a` (for append) then anything written will be placed at the end of the file. We can illustrate this below"
   ]
  },
  {
   "cell_type": "code",
   "execution_count": 15,
   "metadata": {
    "collapsed": false
   },
   "outputs": [
    {
     "name": "stdout",
     "output_type": "stream",
     "text": [
      "This is another line\n",
      "\n"
     ]
    }
   ],
   "source": [
    "f = open('filespython.txt', 'w')\n",
    "f.write('This is another line\\n')\n",
    "f.close()\n",
    "\n",
    "f = open('filespython.txt', 'r')\n",
    "print(f.read())\n",
    "f.close()"
   ]
  },
  {
   "cell_type": "markdown",
   "metadata": {},
   "source": [
    "Notice that all of the file contents that were printed before (\"First line of file\", \"Second line of file\", etc...) were deleted because we used `w` when we wrote. Notice what happens when we simply append to our file."
   ]
  },
  {
   "cell_type": "code",
   "execution_count": 17,
   "metadata": {
    "collapsed": false
   },
   "outputs": [
    {
     "name": "stdout",
     "output_type": "stream",
     "text": [
      "This is another line\n",
      "This is another lineThis is another line\n",
      "\n"
     ]
    }
   ],
   "source": [
    "f = open('filespython.txt', 'a')\n",
    "f.write('This is another line\\n')\n",
    "f.close()\n",
    "\n",
    "f = open('filespython.txt', 'r')\n",
    "print(f.read())\n",
    "f.close()"
   ]
  },
  {
   "cell_type": "markdown",
   "metadata": {},
   "source": [
    "Notice that when we used `a` as our permissions that it simply added new text to the end of the file when we wrote. We will now return the file to its original state so that we can run this file again."
   ]
  },
  {
   "cell_type": "code",
   "execution_count": 19,
   "metadata": {
    "collapsed": false
   },
   "outputs": [
    {
     "name": "stdout",
     "output_type": "stream",
     "text": [
      "First line of file\n",
      "Second line of file\n",
      "Third line of file\n",
      "Last line of file\n",
      "\n"
     ]
    }
   ],
   "source": [
    "# Open file\n",
    "f = open('filespython.txt', 'w')\n",
    "\n",
    "# Will use this string in each line so create it first\n",
    "lof = \" line of file\\n\"\n",
    "for currline in [\"First\", \"Second\", \"Third\", \"Last\"]:\n",
    "    f.write(currline + lof)\n",
    "\n",
    "f.close()\n",
    "\n",
    "f = open('filespython.txt', 'r')\n",
    "print(f.read())\n",
    "f.close()"
   ]
  },
  {
   "cell_type": "markdown",
   "metadata": {},
   "source": [
    "### Creating and Writing\n",
    "\n",
    "The steps to do this are very similar to writing it just allows you to create the file that you want to write to. There isn't much use in repeating exactly what we just did except putting an `x` where the `a` or `w` was."
   ]
  },
  {
   "cell_type": "markdown",
   "metadata": {},
   "source": [
    "# Requests"
   ]
  },
  {
   "cell_type": "code",
   "execution_count": null,
   "metadata": {
    "collapsed": true
   },
   "outputs": [],
   "source": []
  }
 ],
 "metadata": {
  "kernelspec": {
   "display_name": "Python 3",
   "language": "python",
   "name": "python3"
  },
  "language_info": {
   "codemirror_mode": {
    "name": "ipython",
    "version": 3
   },
   "file_extension": ".py",
   "mimetype": "text/x-python",
   "name": "python",
   "nbconvert_exporter": "python",
   "pygments_lexer": "ipython3",
   "version": "3.5.1"
  }
 },
 "nbformat": 4,
 "nbformat_minor": 0
}
