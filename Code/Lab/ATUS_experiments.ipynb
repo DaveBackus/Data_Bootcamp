{
 "cells": [
  {
   "cell_type": "markdown",
   "metadata": {},
   "source": [
    "# American Time Use Survey\n",
    "\n",
    "The **[American Time Use Survey](http://www.bls.gov/tus/)** (ATUS) collects data on how people spend their time:  at work, doing household chores, watching TV, and so on.  It's a fascinating set of information, and one that [academics](http://scholar.princeton.edu/sites/default/files/annurev-economics-111809-125129_0.pdf) and [journalists](http://www.nytimes.com/interactive/2015/01/06/upshot/how-nonemployed-americans-spend-their-weekdays-men-vs-women.html) have put to [good](http://vizwiz.blogspot.com/2015/06/makeover-monday-day-in-life.html) [use](http://qz.com/437121/the-9-to-5-office-workday-is-dying-in-america/).  \n",
    "\n",
    "The survey includes a number of related datasets.  Here we read in the Activity Summary table from 2014.  It's a zipped csv.  The easiest way to access it is to download the zip file, unzip it, and read the csv inside.  But why do it the easy way?  We favor automation, so we read the url into Python and use zip tools to grab the data we want.  It's a standard set of steps, worth getting used to.  \n",
    "\n",
    "This IPython notebook was created by Dave Backus and Arnav Sood in Python 3.5 for the NYU Stern course [Data Bootcamp](http://databootcamp.nyuecon.com/).    "
   ]
  },
  {
   "cell_type": "markdown",
   "metadata": {},
   "source": [
    "## Import packages"
   ]
  },
  {
   "cell_type": "code",
   "execution_count": 2,
   "metadata": {
    "collapsed": false
   },
   "outputs": [
    {
     "name": "stdout",
     "output_type": "stream",
     "text": [
      "\n",
      "Python version:  3.5.1 |Anaconda 2.5.0 (64-bit)| (default, Jan 29 2016, 15:01:46) [MSC v.1900 64 bit (AMD64)]\n",
      "Pandas version:  0.17.1\n",
      "Requests version:  2.9.1\n",
      "Today's date: 2016-02-27\n"
     ]
    }
   ],
   "source": [
    "import pandas as pd             # data package\n",
    "import requests, io             # internet and input tools  \n",
    "import zipfile as zf            # zip file tools \n",
    "import sys                      # system module, used to get Python version \n",
    "import datetime as dt           # date tools, used to note the current date \n",
    "\n",
    "print('\\nPython version: ', sys.version) \n",
    "print('Pandas version: ', pd.__version__)\n",
    "print('Requests version: ', requests.__version__)\n",
    "print(\"Today's date:\", dt.date.today())"
   ]
  },
  {
   "cell_type": "markdown",
   "metadata": {},
   "source": [
    "## Data input\n",
    "\n",
    "The data comes as a zip file that contains a csv (lcleverly labeled .dat) and a few others we can ignore.  Automated data entry involves these steps: \n",
    "\n",
    "* Get the file.  This uses the [requests](http://docs.python-requests.org/) package, which handles internet files and comes pre-installed with Anaconda. This kind of thing was hidden behind the scenes in the Pandas `read_csv()` and `read_excel()` functions, but here we need to do it for ourselves. \n",
    "* Convert to zip.   Requests simply loads whatever's at the given url. The [io](https://docs.python.org/3.5/library/io.html) module's `io.Bytes` reconstructs it as a file, here a zip file.  \n",
    "* Unzip the file.  We use the [zipfile](https://docs.python.org/3.5/library/zipfile.html) module, which is part of core Python, to extract the files inside.   \n",
    "* Read in the csv's.  We use `read_csv` as usual.  \n",
    "\n",
    "We found this [Stack Overflow exchange](http://stackoverflow.com/questions/23419322/download-a-zip-file-and-extract-it-in-memory-using-python3) helpful. \n",
    "\n",
    "**Digression.**  This is probably more than you want to know, but it's a reminder of what goes on behind the scenes when we apply `read_csv` to a url.  Here we grab whatever is at the url.  Then we get its contents, convert it to bytes, identify it as a zip file, and read its components using `read_csv`.  It's a lot easier when this happens automatically, but a reminder what's involved if we ever have to look into the details.  "
   ]
  },
  {
   "cell_type": "code",
   "execution_count": 4,
   "metadata": {
    "collapsed": false
   },
   "outputs": [
    {
     "name": "stdout",
     "output_type": "stream",
     "text": [
      "Response type: <class 'requests.models.Response'>\n",
      "Response content: <class 'bytes'>\n",
      "Respnse headers:\n",
      "{'Content-Length': '776422', 'Content-Type': 'application/x-zip-compressed', 'Last-Modified': 'Fri, 12 Jun 2015 14:56:49 GMT', 'Connection': 'keep-alive', 'P3P': 'CP=\"NOI DSP COR NID CURa ADMa OUR STP\"', 'Date': 'Sat, 27 Feb 2016 19:09:08 GMT', 'Cache-Control': 'no-cache', 'ETag': '\"5a318a220a5d01:0\"', 'Server': 'Microsoft-IIS/7.5', 'Accept-Ranges': 'bytes', 'PMP': 'IIS-MSFT'}\n",
      "Type of zipfile object: <class 'zipfile.ZipFile'>\n",
      "Dimensions: (11592, 409)\n"
     ]
    }
   ],
   "source": [
    "# get \"response\" from url \n",
    "url = 'http://www.bls.gov/tus/special.requests/atussum_2014.zip'\n",
    "r = requests.get(url) \n",
    "\n",
    "print('Response type:', type(r))\n",
    "print('Response content:', type(r.content)) \n",
    "print('Respnse headers:\\n', r.headers, sep='')\n",
    "\n",
    "#%%\n",
    "# convert bytes to zip file  \n",
    "atuz = zf.ZipFile(io.BytesIO(r.content))   \n",
    "print('Type of zipfile object:', type(atuz))\n",
    "\n",
    "# what's in the zip file?\n",
    "atuz.namelist()\n",
    "\n",
    "#%%\n",
    "# read datafile (atussum_2014.dat is a csv) \n",
    "#df  = pd.read_csv(atuz.open(atuz.namelist()[1]))\n",
    "df  = pd.read_csv(atuz.open('atussum_2014.dat'))\n",
    "print('Dimensions:', df.shape)"
   ]
  },
  {
   "cell_type": "code",
   "execution_count": 6,
   "metadata": {
    "collapsed": false
   },
   "outputs": [
    {
     "name": "stdout",
     "output_type": "stream",
     "text": [
      "Variables and their dtypes:\n",
      "tucaseid        int64\n",
      "TUFINLWGT     float64\n",
      "TRYHHCHILD      int64\n",
      "TEAGE           int64\n",
      "TESEX           int64\n",
      "PEEDUCA         int64\n",
      "PTDTRACE        int64\n",
      "PEHSPNON        int64\n",
      "GTMETSTA        int64\n",
      "TELFS           int64\n",
      "TEMJOT          int64\n",
      "TRDPFTPT        int64\n",
      "TESCHENR        int64\n",
      "TESCHLVL        int64\n",
      "TRSPPRES        int64\n",
      "TESPEMPNOT      int64\n",
      "TRERNWA         int64\n",
      "TRCHILDNUM      int64\n",
      "TRSPFTPT        int64\n",
      "TEHRUSLT        int64\n",
      "TUDIARYDAY      int64\n",
      "TRHOLIDAY       int64\n",
      "TRTEC           int64\n",
      "TRTHH           int64\n",
      "t010101         int64\n",
      "t010102         int64\n",
      "t010201         int64\n",
      "t010299         int64\n",
      "t010301         int64\n",
      "t010399         int64\n",
      "dtype: object\n"
     ]
    }
   ],
   "source": [
    "# try properties of subsets \n",
    "print('Variables and their dtypes:\\n', df[list(range(30))].dtypes, sep='')"
   ]
  },
  {
   "cell_type": "code",
   "execution_count": 8,
   "metadata": {
    "collapsed": false
   },
   "outputs": [
    {
     "name": "stdout",
     "output_type": "stream",
     "text": [
      "Value counts of some variables\n",
      "\n",
      "20140101142230    1\n",
      "20140101141515    1\n",
      "20140201141303    1\n",
      "20141008142036    1\n",
      "20140504140850    1\n",
      "Name: tucaseid, dtype: int64\n",
      "\n",
      "7989599.172399    2\n",
      "4718611.349299    2\n",
      "2703057.840695    2\n",
      "2698846.655130    2\n",
      "2710184.083009    2\n",
      "Name: TUFINLWGT, dtype: int64\n",
      "\n",
      "-1    6703\n",
      " 1     456\n",
      " 0     373\n",
      " 2     325\n",
      " 4     320\n",
      "Name: TRYHHCHILD, dtype: int64\n",
      "\n",
      "80    336\n",
      "85    261\n",
      "37    239\n",
      "34    237\n",
      "44    232\n",
      "Name: TEAGE, dtype: int64\n",
      "\n",
      "2    6468\n",
      "1    5124\n",
      "Name: TESEX, dtype: int64\n",
      "\n",
      "39    2893\n",
      "43    2436\n",
      "40    2018\n",
      "44    1161\n",
      "42     674\n",
      "Name: PEEDUCA, dtype: int64\n",
      "\n",
      "1    9176\n",
      "2    1685\n",
      "4     469\n",
      "3      65\n",
      "7      61\n",
      "Name: PTDTRACE, dtype: int64\n",
      "\n",
      "2    9879\n",
      "1    1713\n",
      "Name: PEHSPNON, dtype: int64\n",
      "\n",
      "1    9628\n",
      "2    1875\n",
      "3      89\n",
      "Name: GTMETSTA, dtype: int64\n",
      "\n",
      "1    6688\n",
      "5    4125\n",
      "4     443\n",
      "2     274\n",
      "3      62\n",
      "Name: TELFS, dtype: int64\n",
      "\n",
      " 2    6346\n",
      "-1    4630\n",
      " 1     616\n",
      "Name: TEMJOT, dtype: int64\n",
      "\n",
      " 1    5551\n",
      "-1    4630\n",
      " 2    1411\n",
      "Name: TRDPFTPT, dtype: int64\n",
      "\n",
      "-1    5571\n",
      " 2    5027\n",
      " 1     994\n",
      "Name: TESCHENR, dtype: int64\n",
      "\n",
      "-1    10598\n",
      " 2      603\n",
      " 1      391\n",
      "Name: TESCHLVL, dtype: int64\n",
      "\n",
      "3    5571\n",
      "1    5562\n",
      "2     459\n",
      "Name: TRSPPRES, dtype: int64\n",
      "\n",
      "-1    5571\n",
      " 1    3998\n",
      " 2    2023\n",
      "Name: TESPEMPNOT, dtype: int64\n",
      "\n",
      "-1         5374\n",
      " 288461     242\n",
      " 60000      132\n",
      " 100000     112\n",
      " 115384     111\n",
      "Name: TRERNWA, dtype: int64\n",
      "\n",
      "0    6703\n",
      "1    2051\n",
      "2    1801\n",
      "3     762\n",
      "4     208\n",
      "Name: TRCHILDNUM, dtype: int64\n",
      "\n",
      "-1    7594\n",
      " 1    3220\n",
      " 2     587\n",
      " 3     191\n",
      "Name: TRSPFTPT, dtype: int64\n",
      "\n",
      "-1     4630\n",
      " 40    2697\n",
      " 50     573\n",
      "-4      399\n",
      " 45     380\n",
      "Name: TEHRUSLT, dtype: int64\n"
     ]
    }
   ],
   "source": [
    "print('Value counts of some variables')\n",
    "for var in list(df[list(range(20))]):\n",
    "    print('\\n', df[var].value_counts().head(), sep='')"
   ]
  },
  {
   "cell_type": "code",
   "execution_count": null,
   "metadata": {
    "collapsed": true
   },
   "outputs": [],
   "source": []
  },
  {
   "cell_type": "code",
   "execution_count": null,
   "metadata": {
    "collapsed": true
   },
   "outputs": [],
   "source": []
  },
  {
   "cell_type": "code",
   "execution_count": null,
   "metadata": {
    "collapsed": true
   },
   "outputs": [],
   "source": []
  },
  {
   "cell_type": "code",
   "execution_count": null,
   "metadata": {
    "collapsed": true
   },
   "outputs": [],
   "source": []
  }
 ],
 "metadata": {
  "kernelspec": {
   "display_name": "Python 3",
   "language": "python",
   "name": "python3"
  },
  "language_info": {
   "codemirror_mode": {
    "name": "ipython",
    "version": 3
   },
   "file_extension": ".py",
   "mimetype": "text/x-python",
   "name": "python",
   "nbconvert_exporter": "python",
   "pygments_lexer": "ipython3",
   "version": "3.5.1"
  }
 },
 "nbformat": 4,
 "nbformat_minor": 0
}
